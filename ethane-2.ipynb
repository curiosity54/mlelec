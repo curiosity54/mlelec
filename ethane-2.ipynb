{
 "cells": [
  {
   "cell_type": "code",
   "execution_count": 2,
   "id": "5372d494",
   "metadata": {},
   "outputs": [],
   "source": [
    "%load_ext autoreload\n",
    "%autoreload 2"
   ]
  },
  {
   "cell_type": "code",
   "execution_count": 3,
   "id": "9ffeb27f",
   "metadata": {},
   "outputs": [],
   "source": [
    "import torch \n",
    "import numpy as np\n",
    "import ase \n",
    "from ase.io import read\n",
    "import json  \n",
    "from ase.units import Hartree"
   ]
  },
  {
   "cell_type": "code",
   "execution_count": 4,
   "id": "361c1865-da3d-42a8-b631-ca73cba03f6f",
   "metadata": {},
   "outputs": [],
   "source": [
    "torch.set_default_dtype(torch.float64) # set default dtype of torch to avoid numerical errors "
   ]
  },
  {
   "cell_type": "code",
   "execution_count": 4,
   "id": "11b093dc-4437-4abf-8604-6a0b7f627eeb",
   "metadata": {},
   "outputs": [],
   "source": [
    "MOL = \"ethane\"\n",
    "LOT = \"b3lypg\"\n",
    "BAS = \"sto3g\"\n",
    "\n",
    "def geometry(positions, numbers):\n",
    "    atom = \"\"\n",
    "    for n, p in zip(numbers, positions):\n",
    "        atom += f\"{n:d}  {p[0]:.6f}   {p[1]:.6f}  {p[2]:.6f}\\n\"\n",
    "    atom = atom[:-1]\n",
    "    return atom\n",
    "        \n",
    "def output_prop(mf):\n",
    "    fock = mf.get_fock()\n",
    "    ovlp = mf.get_ovlp()\n",
    "    dm = mf.make_rdm1()\n",
    "    dip_moment = mf.dip_moment()\n",
    "    energy_elec = mf.energy_elec()\n",
    "    energy_tot = mf.energy_tot()\n",
    "    converged = mf.converged()\n",
    "\n",
    "    out = dict(\n",
    "        fock = fock,\n",
    "        ovlp = ovlp,\n",
    "        dm = dm,\n",
    "        dip_moment = dip_moment,\n",
    "        energy_elec = energy_elec,\n",
    "        energy_tot = energy_tot,\n",
    "    )\n",
    "\n",
    "    return out\n",
    "\n",
    "def single_geom(positions, numbers, out_idx):\n",
    "    mol = gto.M(\n",
    "        atom = geometry(positions, numbers),\n",
    "        basis = BAS,\n",
    "        symmetry = False,\n",
    "        charge = 0,\n",
    "        spin = 0,\n",
    "        output = f\"{out_idx:05d}.pylog\",\n",
    "    )\n",
    "    mol.build()\n",
    "\n",
    "    mf = dft.RKS(mol)\n",
    "    mf.xc = LOT\n",
    "    mf.conv_tol = 1e-10\n",
    "\n",
    "    grids = dft.G\n",
    "        \n"
   ]
  },
  {
   "cell_type": "markdown",
   "id": "d2677c4e",
   "metadata": {},
   "source": [
    "# Instantiate the Molecule Dataset "
   ]
  },
  {
   "cell_type": "code",
   "execution_count": 5,
   "id": "3fa73f75",
   "metadata": {},
   "outputs": [],
   "source": [
    "device = \"cpu\""
   ]
  },
  {
   "cell_type": "code",
   "execution_count": 6,
   "id": "a3dd8724",
   "metadata": {},
   "outputs": [
    {
     "name": "stderr",
     "output_type": "stream",
     "text": [
      "/home/saade/miniconda3/envs/tutorial/lib/python3.11/site-packages/pyscf/dft/libxc.py:772: UserWarning: Since PySCF-2.3, B3LYP (and B3P86) are changed to the VWN-RPA variant, the same to the B3LYP functional in Gaussian and ORCA (issue 1480). To restore the VWN5 definition, you can put the setting \"B3LYP_WITH_VWN5 = True\" in pyscf_conf.py\n",
      "  warnings.warn('Since PySCF-2.3, B3LYP (and B3P86) are changed to the VWN-RPA variant, '\n"
     ]
    }
   ],
   "source": [
    "from mlelec.data.dataset import MoleculeDataset"
   ]
  },
  {
   "cell_type": "code",
   "execution_count": 7,
   "id": "18b9ad2c",
   "metadata": {},
   "outputs": [
    {
     "name": "stdout",
     "output_type": "stream",
     "text": [
      "Loading structures\n",
      "examples/data/ethane/sto-3g/fock.hickle\n",
      "examples/data/ethane/sto-3g/dipole_moment.hickle\n"
     ]
    }
   ],
   "source": [
    "molecule_data = MoleculeDataset(\n",
    "    mol_name = \"ethane\",\n",
    "    use_precomputed=True,\n",
    "    path= \"examples/data/ethane\",\n",
    "    aux_path=\"examples/data/ethane/sto-3g\",\n",
    "    frame_slice=slice(0, 200),\n",
    "    device=device,\n",
    "    aux=[\"overlap\", \"orbitals\"],\n",
    "    target=[\"fock\", \"dipole_moment\"],\n",
    ")\n"
   ]
  },
  {
   "cell_type": "code",
   "execution_count": 8,
   "id": "be573adf-12d5-41ff-a124-b8001df66872",
   "metadata": {},
   "outputs": [
    {
     "data": {
      "text/plain": [
       "{'fock': tensor([[[-1.1029e+01, -2.9731e+00,  1.2640e-05,  ..., -7.2910e-02,\n",
       "           -6.3063e-02, -6.5131e-02],\n",
       "          [-2.9731e+00, -1.5699e+00, -3.8762e-02,  ..., -1.8520e-01,\n",
       "           -1.7053e-01, -1.7014e-01],\n",
       "          [ 1.2640e-05, -3.8762e-02, -3.3090e-01,  ..., -1.9624e-01,\n",
       "           -1.8102e-01, -1.7205e-01],\n",
       "          ...,\n",
       "          [-7.2910e-02, -1.8520e-01, -1.9624e-01,  ..., -4.7172e-01,\n",
       "           -2.6593e-01, -2.2374e-01],\n",
       "          [-6.3063e-02, -1.7053e-01, -1.8102e-01,  ..., -2.6593e-01,\n",
       "           -4.6759e-01, -2.5047e-01],\n",
       "          [-6.5131e-02, -1.7014e-01, -1.7205e-01,  ..., -2.2374e-01,\n",
       "           -2.5047e-01, -4.2164e-01]],\n",
       " \n",
       "         [[-1.1027e+01, -2.9720e+00,  6.7050e-04,  ..., -7.8672e-02,\n",
       "           -6.9593e-02, -6.0668e-02],\n",
       "          [-2.9720e+00, -1.5558e+00, -2.5444e-02,  ..., -1.8914e-01,\n",
       "           -1.8309e-01, -1.6513e-01],\n",
       "          [ 6.7050e-04, -2.5444e-02, -3.2518e-01,  ..., -1.9451e-01,\n",
       "           -1.8599e-01, -1.7927e-01],\n",
       "          ...,\n",
       "          [-7.8672e-02, -1.8914e-01, -1.9451e-01,  ..., -4.4054e-01,\n",
       "           -2.6122e-01, -2.5598e-01],\n",
       "          [-6.9593e-02, -1.8309e-01, -1.8599e-01,  ..., -2.6122e-01,\n",
       "           -5.1759e-01, -2.7011e-01],\n",
       "          [-6.0668e-02, -1.6513e-01, -1.7927e-01,  ..., -2.5598e-01,\n",
       "           -2.7011e-01, -4.7146e-01]],\n",
       " \n",
       "         [[-1.1028e+01, -2.9726e+00,  6.5029e-04,  ..., -7.8264e-02,\n",
       "           -6.7008e-02, -6.5640e-02],\n",
       "          [-2.9726e+00, -1.5624e+00, -1.9568e-02,  ..., -1.9188e-01,\n",
       "           -1.7510e-01, -1.7519e-01],\n",
       "          [ 6.5029e-04, -1.9568e-02, -3.0567e-01,  ..., -1.9865e-01,\n",
       "           -1.8405e-01, -1.8719e-01],\n",
       "          ...,\n",
       "          [-7.8264e-02, -1.9188e-01, -1.9865e-01,  ..., -4.9306e-01,\n",
       "           -2.7171e-01, -3.1439e-01],\n",
       "          [-6.7008e-02, -1.7510e-01, -1.8405e-01,  ..., -2.7171e-01,\n",
       "           -4.9609e-01, -2.7524e-01],\n",
       "          [-6.5640e-02, -1.7519e-01, -1.8719e-01,  ..., -3.1439e-01,\n",
       "           -2.7524e-01, -5.2454e-01]],\n",
       " \n",
       "         ...,\n",
       " \n",
       "         [[-1.1027e+01, -2.9717e+00,  9.7906e-04,  ..., -6.9170e-02,\n",
       "           -5.0110e-02, -7.2089e-02],\n",
       "          [-2.9717e+00, -1.5462e+00, -1.5497e-02,  ..., -1.7279e-01,\n",
       "           -1.4220e-01, -1.7884e-01],\n",
       "          [ 9.7906e-04, -1.5497e-02, -2.9247e-01,  ..., -1.7854e-01,\n",
       "           -1.5536e-01, -1.7917e-01],\n",
       "          ...,\n",
       "          [-6.9170e-02, -1.7279e-01, -1.7854e-01,  ..., -4.5238e-01,\n",
       "           -2.3440e-01, -2.4537e-01],\n",
       "          [-5.0110e-02, -1.4220e-01, -1.5536e-01,  ..., -2.3440e-01,\n",
       "           -4.3759e-01, -2.3430e-01],\n",
       "          [-7.2089e-02, -1.7884e-01, -1.7917e-01,  ..., -2.4537e-01,\n",
       "           -2.3430e-01, -4.6925e-01]],\n",
       " \n",
       "         [[-1.1031e+01, -2.9730e+00, -1.1760e-04,  ..., -5.6300e-02,\n",
       "           -5.8302e-02, -5.2509e-02],\n",
       "          [-2.9730e+00, -1.5541e+00, -2.3166e-02,  ..., -1.5307e-01,\n",
       "           -1.5645e-01, -1.4542e-01],\n",
       "          [-1.1760e-04, -2.3166e-02, -2.7158e-01,  ..., -1.6374e-01,\n",
       "           -1.6469e-01, -1.5601e-01],\n",
       "          ...,\n",
       "          [-5.6300e-02, -1.5307e-01, -1.6374e-01,  ..., -4.5887e-01,\n",
       "           -2.5627e-01, -2.4992e-01],\n",
       "          [-5.8302e-02, -1.5645e-01, -1.6469e-01,  ..., -2.5627e-01,\n",
       "           -4.6424e-01, -2.3810e-01],\n",
       "          [-5.2509e-02, -1.4542e-01, -1.5601e-01,  ..., -2.4992e-01,\n",
       "           -2.3810e-01, -4.3600e-01]],\n",
       " \n",
       "         [[-1.1026e+01, -2.9728e+00,  1.4706e-03,  ..., -5.6465e-02,\n",
       "           -6.3315e-02, -7.6356e-02],\n",
       "          [-2.9728e+00, -1.5685e+00, -2.5928e-03,  ..., -1.5420e-01,\n",
       "           -1.6864e-01, -1.8635e-01],\n",
       "          [ 1.4706e-03, -2.5928e-03, -3.0607e-01,  ..., -1.6722e-01,\n",
       "           -1.7978e-01, -1.8545e-01],\n",
       "          ...,\n",
       "          [-5.6465e-02, -1.5420e-01, -1.6722e-01,  ..., -4.5673e-01,\n",
       "           -2.5866e-01, -2.6479e-01],\n",
       "          [-6.3315e-02, -1.6864e-01, -1.7978e-01,  ..., -2.5866e-01,\n",
       "           -5.0861e-01, -2.6823e-01],\n",
       "          [-7.6356e-02, -1.8635e-01, -1.8545e-01,  ..., -2.6479e-01,\n",
       "           -2.6823e-01, -4.7526e-01]]]),\n",
       " 'dipole_moment': tensor([[-1.1054e-02, -1.7029e-02, -4.4037e-02],\n",
       "         [ 1.0601e-02, -1.0479e-02,  1.8863e-02],\n",
       "         [ 1.7148e-02,  3.3680e-02, -5.0899e-03],\n",
       "         [-4.8542e-03, -7.9491e-03,  1.9240e-03],\n",
       "         [-1.6528e-03, -1.8373e-02, -9.2761e-03],\n",
       "         [-1.2852e-03,  2.5707e-03,  9.8217e-03],\n",
       "         [ 5.7907e-03,  2.2744e-02,  2.1897e-02],\n",
       "         [-1.7309e-02, -7.7637e-03,  4.1233e-02],\n",
       "         [ 2.2362e-02, -2.3171e-02,  1.2718e-02],\n",
       "         [-3.3274e-03,  1.6936e-02, -1.9510e-02],\n",
       "         [ 9.8958e-03,  2.8667e-02,  1.7064e-02],\n",
       "         [-2.7443e-03,  2.5544e-02, -1.7856e-02],\n",
       "         [-2.2413e-02,  5.1491e-02,  1.3063e-03],\n",
       "         [ 8.7209e-03, -6.4265e-04,  5.3658e-02],\n",
       "         [ 2.4718e-02, -2.0649e-03, -2.1117e-02],\n",
       "         [ 1.5011e-02, -4.3983e-03, -4.8553e-02],\n",
       "         [-7.0663e-04, -2.8541e-02, -1.5497e-02],\n",
       "         [-6.2470e-03, -9.9558e-03, -2.3248e-02],\n",
       "         [-1.7602e-04,  1.7827e-02,  1.7874e-02],\n",
       "         [ 2.6824e-03,  5.7880e-02, -2.6882e-02],\n",
       "         [-9.0280e-03, -1.8433e-02, -1.2984e-02],\n",
       "         [ 1.1359e-02, -4.2343e-02,  6.3190e-02],\n",
       "         [ 1.0566e-02,  1.9134e-02, -7.9846e-03],\n",
       "         [ 5.1294e-04, -3.9822e-02, -5.2360e-02],\n",
       "         [-2.1817e-02, -4.4006e-02,  8.4807e-03],\n",
       "         [-3.1663e-02,  3.0909e-02, -5.0975e-03],\n",
       "         [ 7.2454e-04, -2.8389e-02, -1.9531e-02],\n",
       "         [-4.2956e-03,  1.2300e-02, -2.6274e-02],\n",
       "         [-1.9372e-03,  2.4137e-02, -1.4887e-03],\n",
       "         [ 2.4038e-02, -4.8474e-02, -2.5461e-03],\n",
       "         [ 2.5920e-02, -7.2128e-03,  1.2606e-02],\n",
       "         [-1.1646e-02,  4.6556e-03,  3.7372e-02],\n",
       "         [ 8.2470e-03,  1.3126e-03,  2.9027e-02],\n",
       "         [ 1.8889e-02, -2.2855e-02, -2.7982e-03],\n",
       "         [-8.4741e-03,  2.2740e-02,  1.8936e-03],\n",
       "         [ 1.5565e-03,  2.5962e-02, -2.7989e-02],\n",
       "         [-7.9979e-03, -4.4430e-02,  5.8317e-03],\n",
       "         [-2.1053e-02, -9.7632e-03, -2.9910e-02],\n",
       "         [-7.8059e-03,  9.5099e-03, -2.1315e-02],\n",
       "         [-2.4851e-02,  2.8616e-04, -1.2653e-02],\n",
       "         [ 5.7342e-03, -1.3169e-02,  1.0329e-02],\n",
       "         [-1.0555e-02, -3.4031e-02, -1.4889e-02],\n",
       "         [ 1.0982e-02, -1.1324e-02, -1.2493e-02],\n",
       "         [-2.0144e-02, -2.5524e-02, -1.8218e-02],\n",
       "         [-7.1072e-03, -1.3717e-02,  4.1464e-03],\n",
       "         [-7.3725e-03, -8.7626e-03,  5.6001e-02],\n",
       "         [ 1.2640e-02, -2.6226e-02, -5.9948e-03],\n",
       "         [-2.0512e-03, -6.7093e-04,  1.1856e-03],\n",
       "         [ 1.9268e-02,  2.5186e-03,  1.5782e-02],\n",
       "         [-2.3042e-02,  2.4834e-02, -4.3673e-02],\n",
       "         [-7.2630e-03,  3.2210e-02,  5.4338e-02],\n",
       "         [ 1.0469e-02, -2.5067e-02, -6.1700e-03],\n",
       "         [-4.6960e-03, -2.7014e-04,  1.1739e-02],\n",
       "         [ 9.8113e-03, -1.5930e-03, -1.2735e-02],\n",
       "         [-2.2576e-02,  4.6197e-02,  4.0285e-02],\n",
       "         [ 2.3656e-02,  2.6460e-02, -1.6819e-04],\n",
       "         [ 4.0541e-03,  3.5063e-03, -3.2328e-02],\n",
       "         [-1.4785e-02, -1.1986e-02, -3.9397e-03],\n",
       "         [ 9.7203e-04,  1.0026e-02,  3.1335e-02],\n",
       "         [-5.6904e-03, -4.9318e-02, -1.1208e-02],\n",
       "         [-3.4125e-02,  2.3777e-02, -3.4963e-03],\n",
       "         [ 5.5709e-03, -2.0556e-03,  2.1277e-02],\n",
       "         [ 4.8718e-03,  5.5795e-02, -9.6398e-03],\n",
       "         [-2.2534e-02, -6.4303e-02,  2.2633e-03],\n",
       "         [ 1.6374e-03, -5.2448e-02, -7.3833e-04],\n",
       "         [ 1.6757e-02, -6.6408e-03,  7.7505e-04],\n",
       "         [-1.1582e-02,  1.4870e-02, -8.3948e-03],\n",
       "         [-2.5777e-03, -4.0420e-05,  2.0404e-02],\n",
       "         [ 8.0738e-03, -4.0456e-02, -5.4408e-04],\n",
       "         [ 2.7790e-02,  3.5467e-02,  3.0008e-02],\n",
       "         [ 6.9266e-03, -1.3806e-04,  9.1350e-03],\n",
       "         [ 2.8301e-02, -7.7304e-03,  1.4316e-02],\n",
       "         [ 1.1087e-02, -2.8050e-02, -3.3047e-03],\n",
       "         [ 1.8566e-02,  1.9653e-02,  1.8794e-02],\n",
       "         [-1.1237e-02,  9.0982e-04, -4.9683e-02],\n",
       "         [-1.1704e-02,  5.1627e-02,  1.9150e-02],\n",
       "         [ 9.5414e-04, -3.3922e-02,  4.3059e-02],\n",
       "         [ 8.5856e-03, -6.0145e-04,  1.3459e-02],\n",
       "         [-3.5156e-02, -4.0642e-02,  3.8631e-02],\n",
       "         [ 1.1893e-02, -9.8434e-03,  2.6403e-02],\n",
       "         [ 8.0614e-03,  2.4069e-03, -3.4131e-02],\n",
       "         [-9.5386e-03, -8.5817e-03,  4.5725e-03],\n",
       "         [ 7.8646e-03, -2.7955e-02,  3.0792e-02],\n",
       "         [-8.7593e-03, -3.2696e-02,  6.1930e-04],\n",
       "         [-4.3950e-03,  2.7445e-02,  2.7580e-02],\n",
       "         [ 2.1834e-02, -3.9688e-02, -1.4729e-02],\n",
       "         [ 6.7145e-03,  2.6005e-02, -3.8425e-02],\n",
       "         [-4.2806e-03, -1.0388e-02, -2.8007e-02],\n",
       "         [-1.2406e-02, -6.4200e-03, -2.5843e-02],\n",
       "         [ 6.4350e-03, -5.4635e-02,  2.7795e-02],\n",
       "         [-4.1171e-03, -1.0852e-03, -4.4132e-02],\n",
       "         [-1.5940e-02, -5.4553e-04, -1.3271e-02],\n",
       "         [ 8.6849e-03,  2.2784e-02,  4.1582e-02],\n",
       "         [ 3.2379e-02, -1.9625e-02, -2.7360e-02],\n",
       "         [ 4.1263e-04, -2.7347e-02, -2.1763e-02],\n",
       "         [ 2.0496e-03,  4.9587e-02, -4.3692e-02],\n",
       "         [-4.5978e-04,  3.6063e-02,  3.2125e-02],\n",
       "         [ 7.6266e-03,  1.7069e-02,  2.2469e-03],\n",
       "         [-1.9577e-03,  2.7507e-02,  1.9236e-03],\n",
       "         [ 1.8934e-02, -4.2370e-03,  9.9858e-03],\n",
       "         [ 1.9192e-02, -2.3909e-02,  1.2521e-04],\n",
       "         [-2.2860e-02,  4.0876e-02,  1.1424e-02],\n",
       "         [-1.4855e-03,  3.0399e-02,  3.8620e-02],\n",
       "         [-1.5538e-02,  1.4765e-02, -7.2169e-04],\n",
       "         [-1.4506e-02, -3.2087e-02, -4.4623e-02],\n",
       "         [ 6.3907e-04, -6.0076e-03, -4.5681e-02],\n",
       "         [-1.6046e-02, -4.1706e-03,  1.7165e-02],\n",
       "         [ 3.0589e-03,  1.6873e-02,  2.2909e-02],\n",
       "         [ 1.0005e-03,  5.5005e-02,  1.5711e-02],\n",
       "         [-1.2033e-02, -3.6460e-02,  1.0779e-02],\n",
       "         [-1.0541e-02, -1.4795e-02,  5.1228e-02],\n",
       "         [-1.9156e-02, -2.8552e-02,  9.2720e-03],\n",
       "         [ 1.3369e-02, -1.2892e-02,  4.9553e-02],\n",
       "         [-4.5933e-04, -5.7859e-02, -1.3389e-02],\n",
       "         [ 5.1099e-03, -4.0067e-02,  2.6237e-03],\n",
       "         [-7.6188e-03, -4.8202e-03,  5.6666e-02],\n",
       "         [-1.0766e-02,  1.9163e-03,  1.1518e-02],\n",
       "         [-9.5939e-03, -3.0489e-02, -4.7172e-02],\n",
       "         [-1.5359e-02,  3.7748e-02, -3.7602e-02],\n",
       "         [ 1.4301e-02,  1.5487e-02, -4.5351e-02],\n",
       "         [-1.1217e-02,  6.2759e-02, -3.5489e-02],\n",
       "         [-1.5172e-02,  2.1074e-02, -1.9278e-02],\n",
       "         [-2.7717e-02, -2.1187e-02,  5.3465e-02],\n",
       "         [-5.7664e-04, -1.6935e-02, -3.7588e-02],\n",
       "         [-1.8271e-02, -1.5899e-02,  1.6268e-02],\n",
       "         [ 1.2786e-02,  1.0446e-02,  2.2582e-02],\n",
       "         [ 6.5463e-03,  4.7899e-02, -6.6249e-02],\n",
       "         [-4.3891e-03,  5.3168e-02, -1.0103e-02],\n",
       "         [ 4.7934e-03,  3.8827e-03, -8.8201e-03],\n",
       "         [-8.7906e-03, -5.0746e-02,  5.1886e-02],\n",
       "         [ 2.3824e-02, -1.0956e-02,  6.1891e-02],\n",
       "         [ 1.7393e-02,  4.0566e-02, -1.2834e-02],\n",
       "         [-4.1582e-03, -3.1639e-02, -4.3587e-02],\n",
       "         [-9.6878e-03,  1.2357e-02, -2.0019e-02],\n",
       "         [ 7.2622e-03, -4.3724e-02,  2.0611e-02],\n",
       "         [ 3.2044e-03, -9.0900e-03, -4.5421e-02],\n",
       "         [ 8.1928e-03, -1.1413e-02,  7.2961e-03],\n",
       "         [ 1.5876e-02, -1.7170e-02,  7.6439e-02],\n",
       "         [ 1.2285e-02,  2.0419e-02, -4.3955e-02],\n",
       "         [ 3.0611e-03, -3.4874e-03, -7.8996e-02],\n",
       "         [-1.5427e-02, -3.0170e-02, -8.9013e-02],\n",
       "         [-2.9265e-02,  3.0196e-02,  8.0182e-02],\n",
       "         [-4.8355e-03, -3.3733e-02,  1.1160e-02],\n",
       "         [ 7.9881e-03,  1.6624e-02,  1.2641e-02],\n",
       "         [ 7.2135e-03,  1.4546e-02,  3.7390e-03],\n",
       "         [ 1.3117e-02,  4.5181e-02,  6.6803e-03],\n",
       "         [ 7.1750e-03,  4.2882e-02,  2.1276e-02],\n",
       "         [-6.8085e-03,  3.5949e-02,  2.2710e-03],\n",
       "         [ 1.9125e-02,  3.3339e-03, -2.6684e-02],\n",
       "         [-1.6372e-02, -4.0369e-03, -8.8574e-03],\n",
       "         [ 1.2708e-02,  3.7773e-04,  8.8695e-03],\n",
       "         [ 1.7881e-02, -6.6538e-02, -3.3520e-02],\n",
       "         [ 1.1693e-02, -9.7006e-03, -5.3726e-03],\n",
       "         [ 1.5135e-02,  1.7385e-02, -5.8300e-02],\n",
       "         [-2.1012e-02,  3.6030e-02, -2.6482e-03],\n",
       "         [ 1.2196e-02,  2.6053e-02,  4.7242e-02],\n",
       "         [ 1.5587e-02,  1.6686e-02,  4.8227e-02],\n",
       "         [ 1.2590e-02, -3.3317e-02,  3.8000e-02],\n",
       "         [-2.5285e-02, -2.9225e-02,  2.5036e-02],\n",
       "         [ 1.3687e-02,  6.0242e-04, -1.4237e-02],\n",
       "         [ 1.4410e-02, -1.0562e-02,  1.4812e-03],\n",
       "         [-1.8339e-02,  1.0998e-02,  2.4433e-02],\n",
       "         [-2.1685e-02, -1.4538e-02, -5.9470e-02],\n",
       "         [-2.3189e-03, -6.9058e-02, -3.3739e-02],\n",
       "         [ 9.5493e-03, -2.2057e-02, -4.4232e-02],\n",
       "         [-5.9225e-03, -1.8592e-02, -2.9107e-03],\n",
       "         [-5.0551e-03,  3.3266e-03,  1.3878e-02],\n",
       "         [-1.2602e-02, -1.2179e-02, -2.9788e-03],\n",
       "         [ 1.6303e-02,  5.9632e-03,  1.7961e-02],\n",
       "         [-5.1325e-03, -9.3939e-03, -2.0190e-02],\n",
       "         [-1.6820e-02, -5.3753e-02, -2.8039e-03],\n",
       "         [ 6.0152e-03, -1.5977e-02, -3.9559e-02],\n",
       "         [ 1.1118e-02, -8.5989e-03, -1.7959e-02],\n",
       "         [ 6.6710e-03, -2.4952e-02, -1.4537e-02],\n",
       "         [ 1.3344e-02,  4.9615e-02,  1.8762e-02],\n",
       "         [-2.1142e-02,  5.5238e-02,  1.8471e-02],\n",
       "         [-1.3171e-03,  2.4102e-02, -9.5574e-03],\n",
       "         [ 8.1626e-03, -2.2034e-02, -2.0350e-02],\n",
       "         [ 1.0210e-02,  2.6644e-02,  4.6871e-03],\n",
       "         [-1.5810e-02, -5.2428e-03,  1.5891e-02],\n",
       "         [ 3.5845e-03,  4.6021e-02,  5.1604e-03],\n",
       "         [ 5.1355e-03, -9.0892e-04,  2.3129e-02],\n",
       "         [-1.3172e-02,  1.5780e-02,  6.8832e-03],\n",
       "         [ 3.1055e-02,  1.7007e-02,  7.2277e-02],\n",
       "         [-2.9931e-03, -1.0806e-02,  1.7178e-02],\n",
       "         [-6.8468e-03,  3.2838e-02,  4.4860e-02],\n",
       "         [ 1.0975e-02,  7.1998e-03,  5.3954e-02],\n",
       "         [-6.3676e-03,  6.8995e-02,  4.6071e-02],\n",
       "         [ 2.1035e-02, -8.8202e-03, -2.7873e-02],\n",
       "         [-7.9204e-03, -5.3044e-02,  2.1129e-02],\n",
       "         [ 3.0627e-03,  2.7705e-02,  8.7878e-03],\n",
       "         [-2.0268e-02, -2.4351e-02,  4.6236e-02],\n",
       "         [-5.0043e-03,  4.2755e-02, -1.7842e-02],\n",
       "         [ 1.1194e-02,  1.7525e-02,  2.5049e-03],\n",
       "         [ 7.7342e-04, -2.9840e-02,  4.2093e-03],\n",
       "         [ 6.9372e-03,  1.9543e-02, -1.5156e-02],\n",
       "         [-5.6767e-03,  5.5305e-02, -2.4775e-02],\n",
       "         [ 4.4447e-03,  2.3175e-02, -3.4026e-03],\n",
       "         [-2.7728e-02, -2.2354e-03,  4.4777e-03],\n",
       "         [-2.0450e-03, -1.9652e-02,  4.5850e-02]])}"
      ]
     },
     "execution_count": 8,
     "metadata": {},
     "output_type": "execute_result"
    }
   ],
   "source": [
    "molecule_data.target"
   ]
  },
  {
   "cell_type": "code",
   "execution_count": 9,
   "id": "f29dee6c-dedf-48a4-a869-5a35afccab14",
   "metadata": {},
   "outputs": [
    {
     "name": "stdout",
     "output_type": "stream",
     "text": [
      "Using PyTorch backend.\n"
     ]
    }
   ],
   "source": [
    "from mlelec.utils.learning_utils import compute_batch_dipole_moment, compute_dipole_moment_from_mf, instantiate_mf, compute_dipole_moment"
   ]
  },
  {
   "cell_type": "code",
   "execution_count": 15,
   "id": "bafffdfc-b489-487c-818b-5a6808915b58",
   "metadata": {},
   "outputs": [],
   "source": [
    "all_mfs, fockvars = instantiate_mf(\n",
    "        ml_data,\n",
    "        fock_predictions = molecule_data.target['fock'],\n",
    "        batch_indices = list(range(len(ml_data.structures))),\n",
    "    )\n"
   ]
  },
  {
   "cell_type": "code",
   "execution_count": 16,
   "id": "fefca6ce-208b-4a37-a67f-352392be98e3",
   "metadata": {},
   "outputs": [],
   "source": [
    "from mlelec.data.pyscf_calculator import _instantiate_pyscf_mol"
   ]
  },
  {
   "cell_type": "code",
   "execution_count": 17,
   "id": "61d5d88b-5da3-43d1-bf36-4af2b3d475f4",
   "metadata": {},
   "outputs": [],
   "source": [
    "mol=_instantiate_pyscf_mol(molecule_data.structures[0])"
   ]
  },
  {
   "cell_type": "code",
   "execution_count": 18,
   "id": "1a84d475-ad4a-4965-bf4a-c0c7b79d1c2d",
   "metadata": {},
   "outputs": [
    {
     "name": "stdout",
     "output_type": "stream",
     "text": [
      "converged SCF energy = -78.2938178040351\n"
     ]
    }
   ],
   "source": [
    "dm = mol.make_rdm1()"
   ]
  },
  {
   "cell_type": "code",
   "execution_count": 19,
   "id": "36c36490-aab0-4e88-81c2-501f34c1c774",
   "metadata": {},
   "outputs": [],
   "source": [
    "basis = {6: [[1,0,0], [2,0,0], [2,1,-1], [2,1,0], [2,1,1]], 1: [[1,0,0]]}"
   ]
  },
  {
   "cell_type": "code",
   "execution_count": 20,
   "id": "25c66318-2c02-4754-816b-cca8afbf303d",
   "metadata": {},
   "outputs": [],
   "source": [
    "frame = molecule_data.structures[0]"
   ]
  },
  {
   "cell_type": "code",
   "execution_count": 21,
   "id": "46b1a9ad-90ef-42a3-a6f4-2ea13ba68f88",
   "metadata": {},
   "outputs": [
    {
     "data": {
      "text/plain": [
       "11"
      ]
     },
     "execution_count": 21,
     "metadata": {},
     "output_type": "execute_result"
    }
   ],
   "source": [
    "np.sum([len(basis[s]) for s in frame.numbers[0:3]])"
   ]
  },
  {
   "cell_type": "code",
   "execution_count": 22,
   "id": "83d66209-d73d-4c25-ae7d-64d9f941af0b",
   "metadata": {},
   "outputs": [],
   "source": [
    "natm = len(frame)\n",
    "rho = np.zeros((natm, natm))\n",
    "for i in range(8):\n",
    "    i_start = int(np.sum([len(basis[s]) for s in frame.numbers[0:i]]))\n",
    "    i_end = i_start + len(basis[frame.numbers[i]])\n",
    "    for j in  range(8):\n",
    "        j_start = int(np.sum([len(basis[s]) for s in frame.numbers[0:j]]))\n",
    "        j_end = j_start + len(basis[frame.numbers[j]])\n",
    "        rho[i,j] = np.sum(dm[i_start:i_end, j_start:j_end])"
   ]
  },
  {
   "cell_type": "code",
   "execution_count": 23,
   "id": "44e11aa3-14c2-4713-92a9-30ff7e486fa4",
   "metadata": {},
   "outputs": [
    {
     "data": {
      "text/plain": [
       "<matplotlib.colorbar.Colorbar at 0x7f5551931c90>"
      ]
     },
     "execution_count": 23,
     "metadata": {},
     "output_type": "execute_result"
    },
    {
     "data": {
      "image/png": "[encoded data removed]",
      "text/plain": [
       "<Figure size 480x480 with 2 Axes>"
      ]
     },
     "metadata": {},
     "output_type": "display_data"
    }
   ],
   "source": [
    "import matplotlib.pyplot as plt\n",
    "plt.matshow(rho)\n",
    "plt.colorbar()"
   ]
  },
  {
   "cell_type": "markdown",
   "id": "38f2ccbf",
   "metadata": {},
   "source": [
    "### Create the ML dataset from the molecular data "
   ]
  },
  {
   "cell_type": "code",
   "execution_count": 24,
   "id": "36d796a0",
   "metadata": {},
   "outputs": [],
   "source": [
    "from mlelec.data.dataset import MLDataset"
   ]
  },
  {
   "cell_type": "code",
   "execution_count": 25,
   "id": "8a726f5b-64a0-412c-b973-72270a98ed0f",
   "metadata": {},
   "outputs": [],
   "source": [
    "ml_data = MLDataset(\n",
    "    molecule_data=molecule_data,\n",
    "    device=device,\n",
    "    model_strategy=\"coupled\",\n",
    "    shuffle=True, \n",
    "    shuffle_seed=5380,\n",
    ")  "
   ]
  },
  {
   "cell_type": "code",
   "execution_count": 26,
   "id": "1761c455-071d-4e1c-8ddf-e51c33bb717a",
   "metadata": {},
   "outputs": [],
   "source": [
    "ml_data._split_indices(train_frac=0.7, val_frac=0.2, test_frac=0.1)"
   ]
  },
  {
   "cell_type": "code",
   "execution_count": 27,
   "id": "e8d8bbb5",
   "metadata": {},
   "outputs": [],
   "source": [
    "from mlelec.features.acdc import compute_features_for_target\n",
    "from mlelec.data.dataset import get_dataloader"
   ]
  },
  {
   "cell_type": "code",
   "execution_count": 28,
   "id": "8c053f82-3b5e-4537-ab98-a819c3bbbc56",
   "metadata": {},
   "outputs": [],
   "source": [
    "hypers = {\n",
    "            \"cutoff\": 5.0,\n",
    "            \"max_radial\" : 6,\n",
    "            \"max_angular\": 4,\n",
    "            \"atomic_gaussian_width\": 0.3,\n",
    "            \"center_atom_weight\": 1,\n",
    "            \"radial_basis\": {\"Gto\": {}},\n",
    "            \"cutoff_function\": {\"ShiftedCosine\": {\"width\": 0.1}},\n",
    "        }\n",
    "\n",
    "ml_data._set_features(compute_features_for_target(ml_data, device = device, hypers = hypers))"
   ]
  },
  {
   "cell_type": "code",
   "execution_count": 29,
   "id": "dc0f3bda-6185-4ca5-893c-2f527d71d4a2",
   "metadata": {},
   "outputs": [],
   "source": [
    "train_dl, val_dl, test_dl = get_dataloader(ml_data, model_return=\"tensor\", batch_size=10)"
   ]
  },
  {
   "cell_type": "markdown",
   "id": "fe2e6f60",
   "metadata": {},
   "source": [
    "# RidgeCV Model"
   ]
  },
  {
   "cell_type": "code",
   "execution_count": 30,
   "id": "c89857ba",
   "metadata": {},
   "outputs": [],
   "source": [
    "from src.mlelec.models.linear import LinearTargetModel"
   ]
  },
  {
   "cell_type": "markdown",
   "id": "f00c21b6-4c95-4902-b0f7-4d99ce8006f5",
   "metadata": {},
   "source": [
    "### Fitting a RidgeCV model"
   ]
  },
  {
   "cell_type": "code",
   "execution_count": 31,
   "id": "57243f3c",
   "metadata": {},
   "outputs": [],
   "source": [
    "model = LinearTargetModel(dataset = ml_data, nlayers = 1, nhidden = 16, bias = False, device = device)"
   ]
  },
  {
   "cell_type": "code",
   "execution_count": 32,
   "id": "d9a235c3-3faa-44bc-9887-b2444bf4359c",
   "metadata": {},
   "outputs": [],
   "source": [
    "pred_ridges, ridges = model.fit_ridge_analytical(set_bias=False)"
   ]
  },
  {
   "cell_type": "markdown",
   "id": "2336fb9e-fa91-4fc7-ab3d-b9cafa1fbd82",
   "metadata": {},
   "source": [
    "### Calculating train and test errors for MO energies and dipoles"
   ]
  },
  {
   "cell_type": "code",
   "execution_count": 33,
   "id": "228d6515",
   "metadata": {},
   "outputs": [],
   "source": [
    "from mlelec.utils.twocenter_utils import _to_uncoupled_basis, _to_matrix, unfix_orbital_order\n",
    "    \n",
    "uncoupled = _to_uncoupled_basis(pred_ridges,  device=model.device) # Convert the coupled blocks to uncoupled\n",
    "\n",
    "# Recover the predicted matrices for the training set \n",
    "fock_predictions_train = _to_matrix(\n",
    "    uncoupled,\n",
    "    ml_data.train_frames,\n",
    "    ml_data.aux_data['orbitals'],\n",
    "    device=model.device,\n",
    ")"
   ]
  },
  {
   "cell_type": "code",
   "execution_count": 34,
   "id": "4fa98317",
   "metadata": {},
   "outputs": [],
   "source": [
    "from typing import Optional, List, Union, Tuple, Dict\n",
    "\n",
    "def isqrtm(A: torch.Tensor) -> torch.Tensor:\n",
    "    eva, eve = torch.linalg.eigh(A)\n",
    "    idx = eva > 1e-15\n",
    "    return eve[:, idx] @ torch.diag(eva[idx] ** (-0.5)) @ eve[:, idx].T\n",
    "\n",
    "\n",
    "def _lowdin_orthogonalize(\n",
    "    fock: torch.Tensor, ovlp: torch.Tensor\n",
    ") -> Tuple[torch.Tensor, torch.Tensor]:\n",
    "    ovlp_i12 = isqrtm(ovlp)\n",
    "    return torch.einsum(\"ij,jk,kl->il\", ovlp_i12, fock, ovlp_i12)"
   ]
  },
  {
   "cell_type": "code",
   "execution_count": 35,
   "id": "a6a0b581",
   "metadata": {},
   "outputs": [],
   "source": [
    "# from mlelec.utils.twocenter_utils import _lowdin_orthogonalize\n",
    "\n",
    "def compute_eigvals(ml_data, focks, indices):\n",
    "    batch_frames = [ml_data.structures[i] for i in indices]\n",
    "    batch_fock = unfix_orbital_order(\n",
    "        focks, batch_frames, ml_data.molecule_data.aux_data[\"orbitals\"]\n",
    "    )\n",
    "    batch_overlap = ml_data.molecule_data.aux_data[\"overlap\"][indices]\n",
    "    ortho_focks = [_lowdin_orthogonalize(f, o) for f, o in zip(batch_fock, batch_overlap)]\n",
    "    eva = []\n",
    "    for i in range(len(focks)):\n",
    "        eva.append(torch.linalg.eigvalsh(ortho_focks[i]))\n",
    "    return torch.stack(eva)"
   ]
  },
  {
   "cell_type": "code",
   "execution_count": 36,
   "id": "44ae5b83-9a76-446f-a468-ecbcb61f6296",
   "metadata": {},
   "outputs": [],
   "source": [
    "def compute_mulliken(ml_data, focks, indices):\n",
    "    # We access the basis written as a dictionary from ml_data\n",
    "    basis = ml_data.molecule_data.aux_data['orbitals']\n",
    "    # We access the ase frames for each structure in the batch\n",
    "    batch_frames = [ml_data.structures[i] for i in indices]\n",
    "    # We access the Fock matrices for each structure in the batch\n",
    "    batch_fock = unfix_orbital_order(\n",
    "        focks, batch_frames, ml_data.molecule_data.aux_data[\"orbitals\"]\n",
    "    )\n",
    "    # We access the overlap matrices for each structure in the batch\n",
    "    batch_overlap = ml_data.molecule_data.aux_data[\"overlap\"][indices]\n",
    "    ortho_focks = [_lowdin_orthogonalize(f, o) for f, o in zip(batch_fock, batch_overlap)]\n",
    "    \n",
    "    eva = []\n",
    "    rho_list = []\n",
    "    for i in range(len(focks)):\n",
    "        \n",
    "        eval, mo_coeff = torch.linalg.eigh(ortho_focks[i])\n",
    "        \n",
    "        eva.append(eval)\n",
    "        frame = batch_frames[i]\n",
    "        \n",
    "        # Define the single particle density matrix\n",
    "        half_nelec = frame.numbers.sum() // 2\n",
    "        mo_occ = torch.zeros(mo_coeff.shape[1])\n",
    "        mo_occ[:half_nelec] = 2\n",
    "        mocc = mo_coeff[:,mo_occ>0]\n",
    "        #print(mo_coeff.shape)\n",
    "        dm = (mocc*mo_occ[mo_occ>0]) @ (mocc.conj().T)\n",
    "        \n",
    "        natm = len(frame)\n",
    "        rho = torch.zeros((natm, natm))\n",
    "        for i in range(natm):\n",
    "            i_start = int(np.sum([len(basis[s]) for s in frame.numbers[0:i]]))\n",
    "            i_end = i_start + len(basis[frame.numbers[i]])\n",
    "            for j in range(natm):\n",
    "                j_start = int(np.sum([len(basis[s]) for s in frame.numbers[0:j]]))\n",
    "                j_end = j_start + len(basis[frame.numbers[j]])\n",
    "                rho[i,j] = torch.sum(dm[i_start:i_end, j_start:j_end])\n",
    "        rho_list.append(rho)\n",
    "        # rho_list.append(dm)\n",
    "    return torch.stack(eva), torch.stack(rho_list)"
   ]
  },
  {
   "cell_type": "code",
   "execution_count": 37,
   "id": "2c267800",
   "metadata": {},
   "outputs": [],
   "source": [
    "# pred_eva = compute_eigvals(ml_data, fock_predictions_train, ml_data.train_idx)\n",
    "eva = compute_eigvals(ml_data, ml_data.target.tensor[ml_data.train_idx], ml_data.train_idx)"
   ]
  },
  {
   "cell_type": "code",
   "execution_count": 38,
   "id": "6bd67245-3b84-41e6-ac35-42c2944f8dd7",
   "metadata": {},
   "outputs": [
    {
     "data": {
      "text/plain": [
       "torch.Size([1, 16, 16])"
      ]
     },
     "execution_count": 38,
     "metadata": {},
     "output_type": "execute_result"
    }
   ],
   "source": [
    "ml_data.target.tensor[0:1].shape"
   ]
  },
  {
   "cell_type": "code",
   "execution_count": 39,
   "id": "3ed77141-829b-4707-b50c-f559c8b4f55a",
   "metadata": {},
   "outputs": [],
   "source": [
    "eva2, mull = compute_mulliken(ml_data, ml_data.target.tensor[0:2], torch.tensor([0,1]))"
   ]
  },
  {
   "cell_type": "code",
   "execution_count": 40,
   "id": "09982eb5-05ed-4242-a3a9-05d55e02c64b",
   "metadata": {},
   "outputs": [
    {
     "data": {
      "text/plain": [
       "array([[ 1.41836175,  0.3957422 ,  1.03971627,  1.72662807,  0.63876693,\n",
       "        -0.00246312, -0.05796433,  0.05542491],\n",
       "       [ 0.3957422 ,  1.44962324, -0.14478876,  0.07367843, -0.01647527,\n",
       "         1.70168645,  2.18366302,  0.92149735],\n",
       "       [ 1.03971627, -0.14478876,  1.52483129, -0.06257762, -0.17811697,\n",
       "         0.66039733,  0.54116275,  0.47560976],\n",
       "       [ 1.72662807,  0.07367843, -0.06257762,  1.55929795, -0.03861873,\n",
       "         0.57138939,  0.62149293,  0.72136881],\n",
       "       [ 0.63876693, -0.01647527, -0.17811697, -0.03861873,  1.55190433,\n",
       "         0.57364723,  0.69605299,  0.57269794],\n",
       "       [-0.00246312,  1.70168645,  0.66039733,  0.57138939,  0.57364723,\n",
       "         1.55020576, -0.11170562, -0.01194663],\n",
       "       [-0.05796433,  2.18366302,  0.54116275,  0.62149293,  0.69605299,\n",
       "        -0.11170562,  1.53867067, -0.0976487 ],\n",
       "       [ 0.05542491,  0.92149735,  0.47560976,  0.72136881,  0.57269794,\n",
       "        -0.01194663, -0.0976487 ,  1.51957849]])"
      ]
     },
     "execution_count": 40,
     "metadata": {},
     "output_type": "execute_result"
    }
   ],
   "source": [
    "mull[0].numpy() / rho"
   ]
  },
  {
   "cell_type": "code",
   "execution_count": 41,
   "id": "b9f9941f-42d4-451c-b99d-06bc069cbdfd",
   "metadata": {},
   "outputs": [
    {
     "data": {
      "text/plain": [
       "<matplotlib.colorbar.Colorbar at 0x7f54a6a54f50>"
      ]
     },
     "execution_count": 41,
     "metadata": {},
     "output_type": "execute_result"
    },
    {
     "data": {
      "image/png": "[encoded data removed]",
      "text/plain": [
       "<Figure size 480x480 with 2 Axes>"
      ]
     },
     "metadata": {},
     "output_type": "display_data"
    }
   ],
   "source": [
    "plt.matshow(mull[0])\n",
    "plt.colorbar()"
   ]
  },
  {
   "cell_type": "code",
   "execution_count": 42,
   "id": "e8a68bd6-5daf-4513-96bb-d26e5b9737e8",
   "metadata": {},
   "outputs": [
    {
     "data": {
      "text/plain": [
       "<matplotlib.image.AxesImage at 0x7f54a6787990>"
      ]
     },
     "execution_count": 42,
     "metadata": {},
     "output_type": "execute_result"
    },
    {
     "data": {
      "image/png": "[encoded data removed]",
      "text/plain": [
       "<Figure size 480x480 with 1 Axes>"
      ]
     },
     "metadata": {},
     "output_type": "display_data"
    }
   ],
   "source": [
    "import matplotlib.pyplot as plt\n",
    "plt.matshow(mull[0])"
   ]
  },
  {
   "cell_type": "code",
   "execution_count": 43,
   "id": "15cdf05b",
   "metadata": {},
   "outputs": [
    {
     "ename": "NameError",
     "evalue": "name 'pred_eva' is not defined",
     "output_type": "error",
     "traceback": [
      "\u001b[0;31m---------------------------------------------------------------------------\u001b[0m",
      "\u001b[0;31mNameError\u001b[0m                                 Traceback (most recent call last)",
      "Cell \u001b[0;32mIn[43], line 4\u001b[0m\n\u001b[1;32m      1\u001b[0m \u001b[38;5;28;01mimport\u001b[39;00m \u001b[38;5;21;01mmlelec\u001b[39;00m\u001b[38;5;21;01m.\u001b[39;00m\u001b[38;5;21;01mmetrics\u001b[39;00m \u001b[38;5;28;01mas\u001b[39;00m \u001b[38;5;21;01mmlmetrics\u001b[39;00m\n\u001b[1;32m      3\u001b[0m loss_fn \u001b[38;5;241m=\u001b[39m \u001b[38;5;28mgetattr\u001b[39m(mlmetrics, \u001b[38;5;124m\"\u001b[39m\u001b[38;5;124mL2_loss\u001b[39m\u001b[38;5;124m\"\u001b[39m)\n\u001b[0;32m----> 4\u001b[0m \u001b[38;5;28mprint\u001b[39m(\u001b[38;5;124m\"\u001b[39m\u001b[38;5;124mTrain RMSE for MO_energies in eV: \u001b[39m\u001b[38;5;124m\"\u001b[39m, torch\u001b[38;5;241m.\u001b[39msqrt(loss_fn(pred_eva, eva) \u001b[38;5;241m/\u001b[39m \u001b[38;5;28mlen\u001b[39m(ml_data\u001b[38;5;241m.\u001b[39mtrain_idx) \u001b[38;5;241m/\u001b[39m\u001b[38;5;241m16\u001b[39m) \u001b[38;5;241m*\u001b[39mHartree)\n",
      "\u001b[0;31mNameError\u001b[0m: name 'pred_eva' is not defined"
     ]
    }
   ],
   "source": [
    "import mlelec.metrics as mlmetrics\n",
    "\n",
    "loss_fn = getattr(mlmetrics, \"L2_loss\")\n",
    "print(\"Train RMSE for MO_energies in eV: \", torch.sqrt(loss_fn(pred_eva, eva) / len(ml_data.train_idx) /16) *Hartree)"
   ]
  },
  {
   "cell_type": "code",
   "execution_count": 44,
   "id": "96670175-7820-4c37-ab30-503658218293",
   "metadata": {},
   "outputs": [],
   "source": [
    "pred_test = model.predict_ridge_analytical(ml_data.target_test, ml_data.feat_test)"
   ]
  },
  {
   "cell_type": "code",
   "execution_count": 45,
   "id": "0f482964-5a2a-42e9-b413-e3c84c09730a",
   "metadata": {},
   "outputs": [],
   "source": [
    "test_uncoupled = _to_uncoupled_basis(pred_test,  device=model.device) # Convert the coupled blocks to uncoupled\n",
    "fock_predictions_test = _to_matrix(\n",
    "test_uncoupled,\n",
    "    ml_data.test_frames,\n",
    "    ml_data.aux_data['orbitals'],\n",
    "    device=model.device,\n",
    ")"
   ]
  },
  {
   "cell_type": "code",
   "execution_count": 46,
   "id": "b265f6c8",
   "metadata": {},
   "outputs": [
    {
     "name": "stdout",
     "output_type": "stream",
     "text": [
      "Test RMSE for MO_energies in eV:  tensor(0.9743)\n"
     ]
    }
   ],
   "source": [
    "test_pred_eva = compute_eigvals(ml_data, fock_predictions_test, ml_data.test_idx)\n",
    "test_eva = compute_eigvals(ml_data, ml_data.target.tensor[ml_data.test_idx], ml_data.test_idx)\n",
    "\n",
    "print(\"Test RMSE for MO_energies in eV: \", torch.sqrt(loss_fn(test_pred_eva, test_eva) / len(ml_data.test_idx) /16) *Hartree)"
   ]
  },
  {
   "cell_type": "code",
   "execution_count": 47,
   "id": "a42a5791-babd-4d02-bb92-0f502ac60f7f",
   "metadata": {},
   "outputs": [
    {
     "data": {
      "image/png": "[encoded data removed]",
      "text/plain": [
       "<Figure size 640x480 with 1 Axes>"
      ]
     },
     "metadata": {},
     "output_type": "display_data"
    }
   ],
   "source": [
    "import matplotlib.pyplot as plt\n",
    "\n",
    "x = test_eva * Hartree\n",
    "y = test_pred_eva * Hartree\n",
    "\n",
    "x = x[x>-50]\n",
    "y = y[y>-50]\n",
    "plt.scatter(x,y)\n",
    "\n",
    "plt.plot([-35,35], [-35,35], linestyle='--', color='black', linewidth=0.5)\n",
    "plt.xlabel('Target MO Energies (eV)')\n",
    "plt.ylabel('Predicted MO Energies (eV)')\n",
    "plt.show()"
   ]
  },
  {
   "cell_type": "markdown",
   "id": "8ddca012-fbd7-470c-8293-e4cbaf39d84f",
   "metadata": {},
   "source": [
    "## Indirect learning of eigenvalues via bacprop"
   ]
  },
  {
   "cell_type": "code",
   "execution_count": 48,
   "id": "ccf16835-d6dd-46a0-a253-0e1ae3b2274e",
   "metadata": {},
   "outputs": [],
   "source": [
    "import os\n",
    "os.environ[\"PYSCFAD_BACKEND\"] = \"torch\"\n",
    "import torch\n",
    "from torch.autograd.functional import jacobian\n",
    "from pyscf import gto\n",
    "from pyscfad import numpy as pynp\n",
    "from pyscfad import ops\n",
    "from pyscfad.ml.scf import hf\n",
    "import pyscf.pbc.tools.pyscf_ase as pyscf_ase\n",
    "from mlelec.data.pyscf_calculator import _instantiate_pyscf_mol\n",
    "from mlelec.utils.twocenter_utils import fix_orbital_order, unfix_orbital_order\n",
    "from tqdm import tqdm"
   ]
  },
  {
   "cell_type": "code",
   "execution_count": 49,
   "id": "86420124-b88e-4aec-b203-0660d72cbdd7",
   "metadata": {},
   "outputs": [],
   "source": [
    "# with io.capture_output() as captured:\n",
    "#     all_mfs, fockvars = instantiate_mf(\n",
    "#         ml_data,\n",
    "#         fock_predictions=None,\n",
    "#         batch_indices=list(range(len(ml_data.structures))),\n",
    "#     )"
   ]
  },
  {
   "cell_type": "code",
   "execution_count": 50,
   "id": "6fba7e05",
   "metadata": {},
   "outputs": [],
   "source": [
    "from cmath import inf\n",
    "best = inf\n",
    "early_stop_criteria = 50"
   ]
  },
  {
   "cell_type": "code",
   "execution_count": 51,
   "id": "234d5fde-9893-4780-874d-0d664c9d778e",
   "metadata": {},
   "outputs": [],
   "source": [
    "# Do this only if you want to start your indirect training from the Ridge fitted weights\n",
    "train_pred = model.forward(ml_data.feat_train, return_type=\"tensor\", batch_indices=ml_data.train_idx, ridge_fit=True)"
   ]
  },
  {
   "cell_type": "code",
   "execution_count": 52,
   "id": "ac2c41ff",
   "metadata": {},
   "outputs": [
    {
     "name": "stderr",
     "output_type": "stream",
     "text": [
      "/home/saade/miniconda3/envs/tutorial/lib/python3.11/site-packages/torch/optim/lr_scheduler.py:28: UserWarning: The verbose parameter is deprecated. Please use get_last_lr() to access the learning rate.\n",
      "  warnings.warn(\"The verbose parameter is deprecated. Please use get_last_lr() \"\n"
     ]
    }
   ],
   "source": [
    "optimizer = torch.optim.Adam(model.parameters(), lr=1e-3)\n",
    "scheduler = torch.optim.lr_scheduler.ReduceLROnPlateau(\n",
    "    optimizer, factor=0.5, patience=20, verbose=True\n",
    ")\n",
    "\n",
    "val_interval = 10\n",
    "loss_fn = getattr(mlmetrics, \"L2_loss\") \n",
    "losses = []\n",
    "losses_eval = []\n",
    "losses_mull = []\n",
    "early_stop_count = 0\n",
    "nepochs = 800"
   ]
  },
  {
   "cell_type": "code",
   "execution_count": 53,
   "id": "7f5cffb6-e29b-4f10-8d9a-fae0a84a973c",
   "metadata": {},
   "outputs": [
    {
     "name": "stderr",
     "output_type": "stream",
     "text": [
      "100%|███████████████████████████████████████████████████████████████████████████████████████████████████████████| 800/800 [2:55:23<00:00, 13.15s/it, Val_loss=0.00212, mull_loss=0.0286, train_loss=0.00217]\n"
     ]
    }
   ],
   "source": [
    "iterator = tqdm(range(nepochs))\n",
    "\n",
    "for epoch in iterator:\n",
    "    model.train(True)\n",
    "    train_loss = 0\n",
    "    #loss_eval_epoch = 0\n",
    "    loss_mull_epoch = 0\n",
    "    for data in train_dl:\n",
    "        optimizer.zero_grad()\n",
    "        idx = data[\"idx\"]\n",
    "\n",
    "        #forward pass\n",
    "        pred = model(data[\"input\"], return_type=\"tensor\", batch_indices=idx)\n",
    "        #pred_evals = compute_eigvals(ml_data, pred, data[\"idx\"])\n",
    "        #targ_evals = compute_eigvals(ml_data, ml_data.target.tensor[idx], data[\"idx\"])\n",
    "        pred_evals, pred_mull = compute_mulliken(ml_data, pred, data[\"idx\"])\n",
    "        targ_evals, targ_mull = compute_mulliken(ml_data, ml_data.target.tensor[idx], data[\"idx\"])\n",
    "        \n",
    "        #loss_eval = loss_fn(pred_evals, targ_evals) \n",
    "        loss_mull = loss_fn(pred_mull, targ_mull)\n",
    "        \n",
    "        loss = loss_mull\n",
    "        \n",
    "        #loss_eval_epoch += loss_eval.item()\n",
    "        loss_mull_epoch += loss_mull.item()\n",
    "        # train_dip_pred = compute_batch_dipole_moment(\n",
    "        #     ml_data, pred, batch_indices=idx, mfs=all_mfs\n",
    "        # )\n",
    "        # dip = torch.from_numpy(ml_data.molecule_data.target[\"dipole_moment\"][idx].astype(np.float64))\n",
    "        \n",
    "        # loss = loss_fn(train_dip_pred, dip)\n",
    "        train_loss += loss.item()\n",
    "        \n",
    "        # backward pass\n",
    "        loss.backward(retain_graph = True)\n",
    "        optimizer.step()\n",
    "        \n",
    "    #losses_eval.append(loss_eval_epoch)\n",
    "    losses_mull.append(loss_mull_epoch)\n",
    "    losses.append(train_loss)\n",
    "    scheduler.step(train_loss)\n",
    "    \n",
    "    model.train(False)\n",
    "\n",
    "    if epoch % val_interval == 0:\n",
    "        val_loss = 0\n",
    "        for i, data in enumerate(val_dl):\n",
    "            idx = data[\"idx\"]\n",
    "            val_pred = model(data[\"input\"], return_type=\"tensor\", batch_indices=idx)\n",
    "            #val_pred_eval = compute_eigvals(ml_data, pred, data[\"idx\"])\n",
    "            #val_targ_eval = compute_eigvals(ml_data, ml_data.target.tensor[idx], data[\"idx\"])\n",
    "            val_pred_eval, val_pred_mull = compute_mulliken(ml_data, val_pred, data[\"idx\"])\n",
    "            val_targ_eval, val_targ_mull = compute_mulliken(ml_data, ml_data.target.tensor[idx], data[\"idx\"])\n",
    "            vloss = loss_fn(val_pred_mull, val_targ_mull)\n",
    "            \n",
    "            # with io.capture_output() as captured:\n",
    "            #     val_dip_pred = compute_batch_dipole_moment(\n",
    "            #         ml_data, val_pred, batch_indices=idx, mfs=all_mfs\n",
    "            #     )\n",
    "            # val_dip = torch.from_numpy(ml_data.molecule_data.target[\"dipole_moment\"][idx].astype(np.float64))\n",
    "            # vloss = loss_fn(val_dip_pred, val_dip)\n",
    "            val_loss += vloss.item()\n",
    "        new_best = val_loss < best\n",
    "        if new_best:\n",
    "            best = val_loss\n",
    "            # torch.save(model.state_dict(), 'best_model_dipole.pt')\n",
    "            early_stop_count = 0\n",
    "        else:\n",
    "            early_stop_count += 1\n",
    "        if early_stop_count > early_stop_criteria:\n",
    "            print(f\"Early stopping at epoch {epoch}\")\n",
    "            print(f\"Epoch {epoch}, train loss {train_loss/len(ml_data.train_idx)}\")\n",
    "\n",
    "            print(f\"Epoch {epoch} val loss {val_loss/len(ml_data.val_idx)}\")\n",
    "            # Save last best model\n",
    "            break\n",
    "\n",
    "    if epoch % 1 == 0:\n",
    "        iterator.set_postfix(train_loss = train_loss/len(ml_data.train_idx), \n",
    "                             Val_loss = val_loss/len(ml_data.val_idx),\n",
    "                            mull_loss = loss_mull.item())\n",
    "        # print('loss_eval = ', loss_eval, 'loss_mull', loss_mull)\n",
    "        "
   ]
  },
  {
   "cell_type": "code",
   "execution_count": 54,
   "id": "8c498b16",
   "metadata": {},
   "outputs": [
    {
     "data": {
      "text/plain": [
       "[<matplotlib.lines.Line2D at 0x7f549b2c3c10>]"
      ]
     },
     "execution_count": 54,
     "metadata": {},
     "output_type": "execute_result"
    },
    {
     "data": {
      "image/png": "[encoded data removed]",
      "text/plain": [
       "<Figure size 640x480 with 1 Axes>"
      ]
     },
     "metadata": {},
     "output_type": "display_data"
    }
   ],
   "source": [
    "from matplotlib import pyplot as plt\n",
    "plt.loglog(losses)\n",
    "plt.loglog(losses_mull)"
   ]
  },
  {
   "cell_type": "code",
   "execution_count": 55,
   "id": "92d7506a-e71d-4dcf-82b1-fa03e6676942",
   "metadata": {},
   "outputs": [],
   "source": [
    "from IPython.utils import io"
   ]
  },
  {
   "cell_type": "code",
   "execution_count": 56,
   "id": "23dc049c",
   "metadata": {},
   "outputs": [],
   "source": [
    "with io.capture_output() as captured:\n",
    "    test_fock_predictions = model.forward(\n",
    "        ml_data.feat_test, return_type=\"tensor\", batch_indices=ml_data.test_idx,\n",
    "    )"
   ]
  },
  {
   "cell_type": "code",
   "execution_count": 57,
   "id": "e6b14783",
   "metadata": {},
   "outputs": [],
   "source": [
    "test_eva_pred_ind = compute_eigvals(ml_data, test_fock_predictions, ml_data.test_idx)\n",
    "test_eva_ref = compute_eigvals(ml_data, ml_data.target.tensor[ml_data.test_idx], ml_data.test_idx)"
   ]
  },
  {
   "cell_type": "code",
   "execution_count": 58,
   "id": "53130653-9bac-49f7-8e92-638966cbc4f9",
   "metadata": {},
   "outputs": [
    {
     "data": {
      "text/plain": [
       "tensor(116.6392, grad_fn=<DivBackward0>)"
      ]
     },
     "execution_count": 58,
     "metadata": {},
     "output_type": "execute_result"
    }
   ],
   "source": [
    "error = loss_fn(test_eva_pred_ind, test_eva_ref) / len(ml_data.test_idx)\n",
    "error"
   ]
  },
  {
   "cell_type": "code",
   "execution_count": 59,
   "id": "a2c94ae6-4826-42a3-822f-e22b4b1cfe31",
   "metadata": {},
   "outputs": [
    {
     "name": "stdout",
     "output_type": "stream",
     "text": [
      "Test RMSE on MO energies after indirect learning on eigenvalues 73.47050 eV \n"
     ]
    }
   ],
   "source": [
    "print(\"Test RMSE on MO energies after indirect learning on eigenvalues {:.5f} eV \".format(torch.sqrt(error/16)*Hartree))"
   ]
  },
  {
   "cell_type": "code",
   "execution_count": 60,
   "id": "99bf9c32-3c62-4a5c-a44f-cb52108ef94e",
   "metadata": {},
   "outputs": [
    {
     "data": {
      "image/png": "[encoded data removed]",
      "text/plain": [
       "<Figure size 640x480 with 1 Axes>"
      ]
     },
     "metadata": {},
     "output_type": "display_data"
    }
   ],
   "source": [
    "x = test_eva_ref.detach().numpy()  * Hartree\n",
    "y = test_eva_pred_ind.detach().numpy()  * Hartree\n",
    "\n",
    "x = x[x>-50]\n",
    "y = y[y>-50]\n",
    "plt.scatter(x,y)\n",
    "    \n",
    "plt.plot([-35,35], [-35,35], linestyle='--', color='black', linewidth=0.5)\n",
    "plt.xlabel('Target MO Energies (eV)')\n",
    "plt.ylabel('Predicted MO Energies (eV)')\n",
    "plt.show()"
   ]
  },
  {
   "cell_type": "code",
   "execution_count": 61,
   "id": "b9d70d4f-6f74-4e77-af81-d3375908f9f4",
   "metadata": {},
   "outputs": [],
   "source": [
    "test_eva_pred_ind, test_mull_pred_ind = compute_mulliken(ml_data, test_fock_predictions, ml_data.test_idx)\n",
    "test_eva_ref, test_mull_ref = compute_mulliken(ml_data, ml_data.target.tensor[ml_data.test_idx], ml_data.test_idx)"
   ]
  },
  {
   "cell_type": "code",
   "execution_count": 62,
   "id": "ec1ff668-060d-4fc6-8fa8-20ef574e31ee",
   "metadata": {},
   "outputs": [
    {
     "data": {
      "text/plain": [
       "tensor(0.0400, grad_fn=<SumBackward0>)"
      ]
     },
     "execution_count": 62,
     "metadata": {},
     "output_type": "execute_result"
    }
   ],
   "source": [
    "loss_fn(test_mull_ref, test_mull_pred_ind)"
   ]
  },
  {
   "cell_type": "code",
   "execution_count": 63,
   "id": "dedb4455-68f2-408f-9678-3bb397324771",
   "metadata": {},
   "outputs": [
    {
     "data": {
      "text/plain": [
       "tensor(2449.4240, grad_fn=<SumBackward0>)"
      ]
     },
     "execution_count": 63,
     "metadata": {},
     "output_type": "execute_result"
    }
   ],
   "source": [
    "loss_fn(test_eva_ref, test_eva_pred_ind)"
   ]
  },
  {
   "cell_type": "code",
   "execution_count": 64,
   "id": "1090310b-5e54-45dc-a13a-a52ae3d5e455",
   "metadata": {},
   "outputs": [
    {
     "data": {
      "image/png": "[encoded data removed]",
      "text/plain": [
       "<Figure size 640x480 with 1 Axes>"
      ]
     },
     "metadata": {},
     "output_type": "display_data"
    }
   ],
   "source": [
    "x = test_mull_ref.detach().numpy().flatten() # * Hartree\n",
    "y = test_mull_pred_ind.detach().numpy().flatten() # * Hartree\n",
    "\n",
    "# x = x[x>-50]\n",
    "# y = y[y>-50]\n",
    "plt.scatter(x,y)\n",
    "    \n",
    "# plt.plot([-35,35], [-35,35], linestyle='--', color='black', linewidth=0.5)\n",
    "plt.xlabel('Target MO Energies (eV)')\n",
    "plt.ylabel('Predicted MO Energies (eV)')\n",
    "plt.show()"
   ]
  },
  {
   "cell_type": "code",
   "execution_count": 145,
   "id": "00f46f16-0c23-4f12-8242-94eb83ffbfc4",
   "metadata": {},
   "outputs": [
    {
     "data": {
      "text/plain": [
       "tensor([[[ 6.2662e+00, -3.8392e-01, -6.8756e-01,  ..., -1.7617e-02,\n",
       "          -4.1061e-03,  1.4594e-02],\n",
       "         [-3.8392e-01,  6.3313e+00,  5.9973e-03,  ...,  1.5910e+00,\n",
       "           9.3225e-01, -3.4385e-01],\n",
       "         [-6.8756e-01,  5.9973e-03,  9.7996e-01,  ...,  8.4897e-02,\n",
       "          -2.6991e-02, -2.5924e-02],\n",
       "         ...,\n",
       "         [-1.7617e-02,  1.5910e+00,  8.4897e-02,  ...,  9.7424e-01,\n",
       "           1.6591e-03,  6.9299e-03],\n",
       "         [-4.1061e-03,  9.3225e-01, -2.6991e-02,  ...,  1.6591e-03,\n",
       "           9.7846e-01,  2.1319e-02],\n",
       "         [ 1.4594e-02, -3.4385e-01, -2.5924e-02,  ...,  6.9299e-03,\n",
       "           2.1319e-02,  9.7722e-01]],\n",
       "\n",
       "        [[ 6.3397e+00, -3.1986e-01, -6.9204e-01,  ..., -2.0389e-02,\n",
       "           1.0360e-02,  3.1181e-03],\n",
       "         [-3.1986e-01,  6.3674e+00, -6.5902e-03,  ...,  1.5198e+00,\n",
       "           1.0329e+00, -4.3413e-01],\n",
       "         [-6.9204e-01, -6.5902e-03,  9.7995e-01,  ...,  8.1410e-02,\n",
       "          -1.9782e-02, -3.1511e-02],\n",
       "         ...,\n",
       "         [-2.0389e-02,  1.5198e+00,  8.1410e-02,  ...,  9.7163e-01,\n",
       "           4.2164e-03,  2.1751e-02],\n",
       "         [ 1.0360e-02,  1.0329e+00, -1.9782e-02,  ...,  4.2164e-03,\n",
       "           9.7053e-01,  2.0711e-02],\n",
       "         [ 3.1181e-03, -4.3413e-01, -3.1511e-02,  ...,  2.1751e-02,\n",
       "           2.0711e-02,  9.7159e-01]],\n",
       "\n",
       "        [[ 6.2977e+00, -3.0507e-01, -6.5971e-01,  ..., -9.6008e-03,\n",
       "           1.0626e-02, -1.1424e-02],\n",
       "         [-3.0507e-01,  6.3424e+00, -8.3591e-03,  ...,  1.2581e+00,\n",
       "          -4.6342e-01,  1.3340e+00],\n",
       "         [-6.5971e-01, -8.3591e-03,  9.7372e-01,  ..., -1.1374e-02,\n",
       "          -4.1068e-02,  7.8461e-02],\n",
       "         ...,\n",
       "         [-9.6008e-03,  1.2581e+00, -1.1374e-02,  ...,  9.7950e-01,\n",
       "           1.6084e-02,  6.4676e-03],\n",
       "         [ 1.0626e-02, -4.6342e-01, -4.1068e-02,  ...,  1.6084e-02,\n",
       "           9.7830e-01,  2.1464e-02],\n",
       "         [-1.1424e-02,  1.3340e+00,  7.8461e-02,  ...,  6.4676e-03,\n",
       "           2.1464e-02,  9.7082e-01]],\n",
       "\n",
       "        ...,\n",
       "\n",
       "        [[ 6.3778e+00, -2.6501e-01, -6.5017e-01,  ..., -1.3560e-02,\n",
       "          -3.7988e-02,  4.0767e-04],\n",
       "         [-2.6501e-01,  6.3355e+00, -2.5743e-02,  ...,  3.5836e-01,\n",
       "           1.8534e+00, -2.8695e-01],\n",
       "         [-6.5017e-01, -2.5743e-02,  9.6741e-01,  ...,  3.5407e-02,\n",
       "           3.5073e-02, -4.5215e-02],\n",
       "         ...,\n",
       "         [-1.3560e-02,  3.5836e-01,  3.5407e-02,  ...,  9.7849e-01,\n",
       "           9.9321e-03,  2.7825e-02],\n",
       "         [-3.7988e-02,  1.8534e+00,  3.5073e-02,  ...,  9.9321e-03,\n",
       "           9.6664e-01,  1.1555e-02],\n",
       "         [ 4.0767e-04, -2.8695e-01, -4.5215e-02,  ...,  2.7825e-02,\n",
       "           1.1555e-02,  9.7901e-01]],\n",
       "\n",
       "        [[ 6.3196e+00, -3.1999e-01, -6.6370e-01,  ...,  3.2763e-03,\n",
       "          -8.0220e-03, -5.6267e-03],\n",
       "         [-3.1999e-01,  6.2839e+00, -5.4902e-04,  ..., -3.9831e-01,\n",
       "           1.5755e+00,  9.7096e-01],\n",
       "         [-6.6370e-01, -5.4902e-04,  9.7456e-01,  ..., -2.0828e-02,\n",
       "           8.1538e-02, -2.9010e-02],\n",
       "         ...,\n",
       "         [ 3.2763e-03, -3.9831e-01, -2.0828e-02,  ...,  9.7696e-01,\n",
       "           1.0257e-02,  7.9677e-03],\n",
       "         [-8.0220e-03,  1.5755e+00,  8.1538e-02,  ...,  1.0257e-02,\n",
       "           9.7935e-01,  1.4647e-02],\n",
       "         [-5.6267e-03,  9.7096e-01, -2.9010e-02,  ...,  7.9677e-03,\n",
       "           1.4647e-02,  9.7319e-01]],\n",
       "\n",
       "        [[ 6.3029e+00, -4.1468e-01, -6.2733e-01,  ...,  1.0938e-03,\n",
       "          -1.8168e-02,  1.0257e-02],\n",
       "         [-4.1468e-01,  6.3206e+00,  1.5123e-03,  ..., -4.4765e-01,\n",
       "           1.3013e+00,  1.2786e+00],\n",
       "         [-6.2733e-01,  1.5123e-03,  9.7561e-01,  ..., -3.6845e-02,\n",
       "           7.7548e-02, -7.2999e-03],\n",
       "         ...,\n",
       "         [ 1.0938e-03, -4.4765e-01, -3.6845e-02,  ...,  9.7628e-01,\n",
       "           3.8702e-03,  8.1442e-03],\n",
       "         [-1.8168e-02,  1.3013e+00,  7.7548e-02,  ...,  3.8702e-03,\n",
       "           9.7430e-01,  3.0845e-03],\n",
       "         [ 1.0257e-02,  1.2786e+00, -7.2999e-03,  ...,  8.1442e-03,\n",
       "           3.0845e-03,  9.7223e-01]]])"
      ]
     },
     "execution_count": 145,
     "metadata": {},
     "output_type": "execute_result"
    }
   ],
   "source": [
    "test_mull_ref"
   ]
  },
  {
   "cell_type": "code",
   "execution_count": null,
   "id": "2d223086-69d2-43e0-a3c8-ff6013ffe60b",
   "metadata": {},
   "outputs": [],
   "source": []
  }
 ],
 "metadata": {
  "kernelspec": {
   "display_name": "Python 3 (ipykernel)",
   "language": "python",
   "name": "python3"
  },
  "language_info": {
   "codemirror_mode": {
    "name": "ipython",
    "version": 3
   },
   "file_extension": ".py",
   "mimetype": "text/x-python",
   "name": "python",
   "nbconvert_exporter": "python",
   "pygments_lexer": "ipython3",
   "version": "3.11.8"
  },
  "toc": {
   "base_numbering": 1,
   "nav_menu": {},
   "number_sections": true,
   "sideBar": true,
   "skip_h1_title": false,
   "title_cell": "Table of Contents",
   "title_sidebar": "Contents",
   "toc_cell": false,
   "toc_position": {},
   "toc_section_display": true,
   "toc_window_display": false
  }
 },
 "nbformat": 4,
 "nbformat_minor": 5
}
