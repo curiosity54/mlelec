{
 "cells": [
  {
   "cell_type": "code",
   "execution_count": 1,
   "id": "48d9b81c",
   "metadata": {},
   "outputs": [],
   "source": [
    "%load_ext autoreload\n",
    "%autoreload 2"
   ]
  },
  {
   "cell_type": "code",
   "execution_count": 2,
   "id": "07e5ef97",
   "metadata": {},
   "outputs": [],
   "source": [
    "import numpy as np\n",
    "import ase \n",
    "from ase.units import Bohr \n",
    "import torch\n",
    "import metatensor\n",
    "from metatensor import TensorMap, TensorBlock, Labels\n",
    "import matplotlib.pyplot as plt\n",
    "from ase.io import read \n",
    "import warnings \n",
    "\n",
    "from mlelec.data.dataset import PySCFPeriodicDataset\n",
    "from mlelec.utils.twocenter_utils import * \n",
    "from mlelec.models.linear import LinearModelPeriodic\n",
    "from mlelec.features.acdc import *\n",
    "\n"
   ]
  },
  {
   "cell_type": "code",
   "execution_count": 25,
   "id": "264d7984",
   "metadata": {},
   "outputs": [],
   "source": [
    "kmesh = [4,4,1]\n",
    "filename = \"C2_rotated\"\n",
    "frames = read('C2_rotated.xyz', ':') # will be automated \n",
    "# frames = read('examples/data/periodic/c2/C2_174.extxyz', ':10')\n",
    "for f in frames:\n",
    "    f.pbc = [True, True, True]\n",
    "desired_shifts1 = [[0,0,0], [1,0,0]]\n",
    "kfock = np.load('examples/data/periodic/c2/results_{}/kfocks.npy'.format(filename))\n",
    "rotated_dataset = PySCFPeriodicDataset(frames = frames, kgrid=kmesh, matrices_kpoint = kfock, target=[\"real_translation\"] ,device = \"cuda\", desired_shifts=desired_shifts1)"
   ]
  },
  {
   "cell_type": "code",
   "execution_count": 27,
   "id": "c21d8ef8",
   "metadata": {},
   "outputs": [
    {
     "ename": "IndexError",
     "evalue": "list index out of range",
     "output_type": "error",
     "traceback": [
      "\u001b[0;31m---------------------------------------------------------------------------\u001b[0m",
      "\u001b[0;31mIndexError\u001b[0m                                Traceback (most recent call last)",
      "Cell \u001b[0;32mIn[27], line 2\u001b[0m\n\u001b[1;32m      1\u001b[0m \u001b[38;5;66;03m# # test \u001b[39;00m\n\u001b[0;32m----> 2\u001b[0m reconstruct_k \u001b[38;5;241m=\u001b[39m \u001b[43mrotated_dataset\u001b[49m\u001b[38;5;241;43m.\u001b[39;49m\u001b[43mget_kpoint_target\u001b[49m\u001b[43m(\u001b[49m\u001b[43mrotated_dataset\u001b[49m\u001b[38;5;241;43m.\u001b[39;49m\u001b[43mmatrices_translation\u001b[49m\u001b[43m)\u001b[49m\n\u001b[1;32m      3\u001b[0m \u001b[38;5;66;03m# torch.linalg.norm(torch.stack(reconstruct_k[:]).cpu() - kfock[:])\u001b[39;00m\n",
      "File \u001b[0;32m~/micromamba/envs/sci/lib/python3.11/site-packages/mlelec/data/dataset.py:828\u001b[0m, in \u001b[0;36mPySCFPeriodicDataset.get_kpoint_target\u001b[0;34m(self, translated_matrices)\u001b[0m\n\u001b[1;32m    824\u001b[0m     \u001b[38;5;28;01mfor\u001b[39;00m kpt \u001b[38;5;129;01min\u001b[39;00m \u001b[38;5;28mrange\u001b[39m(np\u001b[38;5;241m.\u001b[39mprod(\u001b[38;5;28mself\u001b[39m\u001b[38;5;241m.\u001b[39mkmesh[ifr])):\n\u001b[1;32m    825\u001b[0m         \u001b[38;5;28;01mfor\u001b[39;00m i, t \u001b[38;5;129;01min\u001b[39;00m \u001b[38;5;28menumerate\u001b[39m(translated_matrices\u001b[38;5;241m.\u001b[39mkeys()):\n\u001b[1;32m    826\u001b[0m             \u001b[38;5;66;03m# for i in range(len(translated_matrices)):\u001b[39;00m\n\u001b[1;32m    827\u001b[0m             framekmatrix[kpt] \u001b[38;5;241m+\u001b[39m\u001b[38;5;241m=\u001b[39m (\n\u001b[0;32m--> 828\u001b[0m                 \u001b[43mtranslated_matrices\u001b[49m\u001b[43m[\u001b[49m\u001b[43mt\u001b[49m\u001b[43m]\u001b[49m\u001b[43m[\u001b[49m\u001b[43mifr\u001b[49m\u001b[43m]\u001b[49m \u001b[38;5;241m*\u001b[39m \u001b[38;5;28mself\u001b[39m\u001b[38;5;241m.\u001b[39mphase_matrices[ifr][i][kpt]\n\u001b[1;32m    829\u001b[0m             )\n\u001b[1;32m    830\u001b[0m     kmatrix\u001b[38;5;241m.\u001b[39mappend(framekmatrix)\n\u001b[1;32m    831\u001b[0m \u001b[38;5;28;01mreturn\u001b[39;00m kmatrix\n",
      "\u001b[0;31mIndexError\u001b[0m: list index out of range"
     ]
    }
   ],
   "source": [
    "# # test \n",
    "reconstruct_k = rotated_dataset.get_kpoint_target(rotated_dataset.matrices_translation)\n",
    "# torch.linalg.norm(torch.stack(reconstruct_k[:]).cpu() - kfock[:])"
   ]
  },
  {
   "cell_type": "code",
   "execution_count": 16,
   "id": "f13269c9-c71e-409e-b6ea-622bf2c5f758",
   "metadata": {},
   "outputs": [
    {
     "data": {
      "text/plain": [
       "dict_keys([(0, 0, 0), (0, 1, 0), (0, 2, 0), (0, 3, 0), (1, 0, 0), (1, 1, 0), (1, 2, 0), (1, 3, 0), (2, 0, 0), (2, 1, 0), (2, 2, 0), (2, 3, 0), (3, 0, 0), (3, 1, 0), (3, 2, 0), (3, 3, 0)])"
      ]
     },
     "execution_count": 16,
     "metadata": {},
     "output_type": "execute_result"
    }
   ],
   "source": [
    "rotated_dataset.matrices_translation.keys()"
   ]
  },
  {
   "cell_type": "markdown",
   "id": "96eb4aef",
   "metadata": {},
   "source": [
    "## Target"
   ]
  },
  {
   "cell_type": "code",
   "execution_count": 28,
   "id": "2ad0d5d6",
   "metadata": {},
   "outputs": [],
   "source": [
    "## This should happen in the ML Dataset class #TODO\n",
    "## Fix orbital order \n",
    "from mlelec.utils.twocenter_utils import fix_orbital_order\n",
    "orbs = {6: [[1,0,0],[2,0,0],[2,1,1], [2,1,-1], [2,1,0]]}\n",
    "for T in rotated_dataset.desired_shifts: #matrices_translation.keys():\n",
    "    T = tuple(T)\n",
    "    rotated_dataset.matrices_translation[T] = fix_orbital_order(rotated_dataset.matrices_translation[T], frames, orbs)"
   ]
  },
  {
   "cell_type": "code",
   "execution_count": 24,
   "id": "c9af2845",
   "metadata": {},
   "outputs": [],
   "source": [
    "desired_shifts = [list(x) for x in rotated_dataset.desired_shifts]\n",
    "desired_shifts.remove([0,0,0]) # for now we remove the zero shift until i have incorporate featuires for zero shift into the feats "
   ]
  },
  {
   "cell_type": "markdown",
   "id": "dba8d1e4",
   "metadata": {},
   "source": [
    "## Matrix to blocks "
   ]
  },
  {
   "cell_type": "code",
   "execution_count": 29,
   "id": "81b1c9d9",
   "metadata": {},
   "outputs": [],
   "source": [
    "from mlelec.utils.twocenter_utils import _to_blocks, _to_matrix, _to_coupled_basis, _to_uncoupled_basis, discard_nonhermiticity"
   ]
  },
  {
   "cell_type": "code",
   "execution_count": 30,
   "id": "a278f458",
   "metadata": {},
   "outputs": [],
   "source": [
    "# Extracting matrices out from the dataset for now \n",
    "matrices = {}\n",
    "for s in rotated_dataset.desired_shifts[:]: # positive translations only \n",
    "    matrices[tuple(s)] = rotated_dataset.matrices_translation[tuple(s)]\n",
    "    # NORMALIZING the translated matrices for each structure - not sure this is for training - SKIP if not needed\n",
    "    # matrices[tuple(s)] = matrices[tuple(s)]/torch.linalg.norm(matrices[tuple(s)], axis = (1,2) ) [:,None, None]\n"
   ]
  },
  {
   "cell_type": "code",
   "execution_count": 31,
   "id": "e90892dc",
   "metadata": {},
   "outputs": [
    {
     "name": "stderr",
     "output_type": "stream",
     "text": [
      "/home/pegolo/micromamba/envs/sci/lib/python3.11/site-packages/mlelec/utils/twocenter_utils.py:162: UserWarning: Matrix is neither hermitian nor antihermitian - attempting to use _toblocks for NH\n",
      "  warnings.warn(\n"
     ]
    }
   ],
   "source": [
    "target_blocks = {}\n",
    "target_blocks = {}\n",
    "target_coupled_blocks = {}\n",
    "for s in rotated_dataset.desired_shifts[:]:\n",
    "    target_blocks[tuple(s)] = _to_blocks(matrices[tuple(s)], frames=frames, orbitals=orbs, NH=True) # matrix -> uncoupled\n",
    "    # Dont forget NH = True\n",
    "    target_coupled_blocks[tuple(s)] = _to_coupled_basis(target_blocks[tuple(s)], orbs, skip_symmetry=True) # uncouple -> coupled\n",
    "    # Dont forget skip_symmetry = True\n",
    "from collections import defaultdict\n",
    "blocks = []\n",
    "tmap_keys = []\n",
    "for translation in target_coupled_blocks.keys():\n",
    "    for i, (key, block) in enumerate(target_coupled_blocks[translation].items()):\n",
    "        blocks.append(block.copy())\n",
    "        x = list(key)\n",
    "        x.extend(translation)\n",
    "        tmap_keys.append(x)\n",
    "keys = Labels(next(iter(target_coupled_blocks.values())).keys.names+[\"cell_shift_a\", \"cell_shift_b\", \"cell_shift_c\"], values=np.asarray(tmap_keys))\n",
    "target = TensorMap(keys=keys, blocks=blocks)\n",
    "\n",
    "target = target.keys_to_samples('cell_shift_a')\n",
    "target = target.keys_to_samples('cell_shift_b')\n",
    "target = target.keys_to_samples('cell_shift_c')\n"
   ]
  },
  {
   "cell_type": "markdown",
   "id": "1868b562",
   "metadata": {},
   "source": [
    "## feature"
   ]
  },
  {
   "cell_type": "code",
   "execution_count": 32,
   "id": "b5c0652b",
   "metadata": {},
   "outputs": [],
   "source": [
    "from mlelec.utils.metatensor_utils import labels_where\n",
    "from metatensor import Labels\n",
    "from mlelec.features.acdc import twocenter_hermitian_features, single_center_features, pair_features, twocenter_hermitian_features_periodic\n",
    "from mlelec.utils.twocenter_utils import map_targetkeys_to_featkeys\n",
    "from mlelec.features.acdc import twocenter_features_periodic_NH\n",
    "from mlelec.features.acdc_utils import _pca, block_to_mic_translation\n"
   ]
  },
  {
   "cell_type": "code",
   "execution_count": 33,
   "id": "0a65c318",
   "metadata": {},
   "outputs": [],
   "source": [
    "hypers = {'cutoff': 4,\n",
    "          'max_radial': 8, \n",
    "          'max_angular': 4,\n",
    "          'atomic_gaussian_width':0.3,\n",
    "          'center_atom_weight': 1,\n",
    "          \"radial_basis\": {\"Gto\": {}},\n",
    "          \"cutoff_function\": {\"ShiftedCosine\": {\"width\": 0.1}},\n",
    "          \"radial_scaling\": \n",
    "}"
   ]
  },
  {
   "cell_type": "code",
   "execution_count": 34,
   "id": "c953f149",
   "metadata": {},
   "outputs": [],
   "source": [
    "calculator = PairExpansion(**hypers)\n",
    "rho0_ij = calculator.compute(frames)\n",
    "rho0_ij = fix_gij(rho0_ij)\n",
    "rho0_ij = acdc_standardize_keys(rho0_ij)"
   ]
  },
  {
   "cell_type": "code",
   "execution_count": 35,
   "id": "5c23fc80",
   "metadata": {},
   "outputs": [
    {
     "name": "stderr",
     "output_type": "stream",
     "text": [
      "/home/pegolo/micromamba/envs/sci/lib/python3.11/site-packages/mlelec/features/acdc.py:136: UserWarning: Using cutoff 9.0 for all pairs feature\n",
      "  warnings.warn(\n",
      "/home/pegolo/micromamba/envs/sci/lib/python3.11/site-packages/mlelec/features/acdc.py:151: UserWarning: Using kmesh [4, 4, 1] for MIC mapping\n",
      "  warnings.warn(f\"Using kmesh {kmesh} for MIC mapping\")\n",
      "/home/pegolo/micromamba/envs/sci/lib/python3.11/site-packages/mlelec/utils/pbc_utils.py:39: UserWarning: J is greater than the number of atoms in the supercell. Mapping J to J % len(superframe)\n",
      "  warnings.warn(\n"
     ]
    }
   ],
   "source": [
    "rhoij = pair_features(frames, hypers, order_nu=[1,1],  all_pairs=True, lcut=2, max_shift=[3,3,1], both_centers=True,mic = True, kmesh = kmesh, desired_shifts=desired_shifts[:])# device = \"cpu\")\n",
    "# SLOW as labels_where is super slow (used to find the valus idx of mic )"
   ]
  },
  {
   "cell_type": "code",
   "execution_count": 36,
   "id": "3472039a",
   "metadata": {},
   "outputs": [],
   "source": [
    "hfeat = twocenter_features_periodic_NH(single_center=None, pair= rhoij) # take the pair feature and create features corresponding to different blocks of the hamiltonian "
   ]
  },
  {
   "cell_type": "code",
   "execution_count": 37,
   "id": "1c961d41",
   "metadata": {},
   "outputs": [
    {
     "name": "stderr",
     "output_type": "stream",
     "text": [
      "/home/pegolo/micromamba/envs/sci/lib/python3.11/site-packages/mlelec/features/acdc.py:136: UserWarning: Using cutoff 2.0 for all pairs feature\n",
      "  warnings.warn(\n"
     ]
    }
   ],
   "source": [
    "# Compute features that will be used for the [000] translation \n",
    "rhonui = single_center_features(frames, hypers, order_nu=3, lcut=2, max_shift=[2,3,1], feature_names = hfeat.property_names)\n",
    "rhoij_zero_shift = pair_features(frames, hypers, order_nu=[1,1],  both_centers=True, all_pairs=True, lcut=2, max_shift=[1,1,1], feature_names = rhonui.property_names)\n",
    "# pair = rhoij\n",
    "blocks = []\n",
    "for i, (key, block) in enumerate(rhoij_zero_shift.items()):\n",
    "    samples_lab, idx = labels_where(block.samples, selection=Labels([\"cell_shift_a\", \"cell_shift_b\", \"cell_shift_c\"], values=np.asarray([[0,0,0]]).reshape(-1, 3)), return_idx=True)\n",
    "    samples_lab =  Labels(samples_lab.names[:3], values=samples_lab.values[:,:3])\n",
    "    tb = TensorBlock(\n",
    "        samples=samples_lab,\n",
    "        values=block.values[idx],\n",
    "        properties=block.properties,\n",
    "        components = block.components\n",
    "    )\n",
    "    blocks.append(tb)\n",
    "rhoij_zero_shift = TensorMap(keys = rhoij_zero_shift.keys, blocks=blocks)\n",
    "hfeat0 = twocenter_features_periodic_NH(single_center= rhonui, pair = rhoij_zero_shift, shift=[0,0,0]) # take the pair feature and create features corresponding to different blocks of the hamiltonian\n",
    "hfeat0 = hfeat0.keys_to_samples('cell_shift_a')\n",
    "hfeat0 = hfeat0.keys_to_samples('cell_shift_b')\n",
    "hfeat0 = hfeat0.keys_to_samples('cell_shift_c')\n",
    "hfeat0 = hfeat0.keys_to_samples('cell_shift_a_MIC')\n",
    "hfeat0 = hfeat0.keys_to_samples('cell_shift_b_MIC')\n",
    "hfeat0 = hfeat0.keys_to_samples('cell_shift_c_MIC')\n",
    "\n",
    "hfeat0.property_names == hfeat.property_names\n",
    "from metatensor.operations import join \n",
    "hfeat = join([hfeat, hfeat0],axis=\"properties\")"
   ]
  },
  {
   "cell_type": "markdown",
   "id": "205ce024",
   "metadata": {},
   "source": [
    "## train"
   ]
  },
  {
   "cell_type": "code",
   "execution_count": 38,
   "id": "df1b03c5",
   "metadata": {},
   "outputs": [],
   "source": [
    "from mlelec.models.linear import LinearModelPeriodic\n",
    "from mlelec.utils.plot_utils import plot_hamiltonian "
   ]
  },
  {
   "cell_type": "code",
   "execution_count": 121,
   "id": "9914d4e5",
   "metadata": {},
   "outputs": [
    {
     "name": "stdout",
     "output_type": "stream",
     "text": [
      "[[0, 0, 0], [1, 0, 0]] 2\n"
     ]
    }
   ],
   "source": [
    "model = LinearModelPeriodic(hfeat, target, frames, orbs,\n",
    "                            cell_shifts= rotated_dataset.desired_shifts[:], \n",
    "                            nhidden=16, nlayers=2)\n",
    "\n",
    "optimizer = torch.optim.Adam(model.parameters(), lr=1e-3)\n",
    "# optimizer= torch.optim.SGD(model.parameters(), lr=1e-3)\n",
    "# optimizer = torch.optim.LBFGS(model.parameters(), lr=1e-3)\n",
    "scheduler = torch.optim.lr_scheduler.ReduceLROnPlateau(optimizer, 'min', factor=0.5, patience=100, verbose=True)\n",
    "\n",
    "\n",
    "def train(model, target_blocks, nepochs=10, optimizer=None, scheduler=None, log_interval=10):\n",
    "    losses = []\n",
    "    for i in range(nepochs):\n",
    "        # def closure():\n",
    "        #     optimizer.zero_grad()\n",
    "        #     rmat = model.forward()\n",
    "        #     loss = 0\n",
    "        #     for s in rmat:            \n",
    "        #         loss += torch.linalg.norm(rmat[s]-matrices[tuple(s)])**2\n",
    "        #     # loss = torch.linalg.norm(rmat - matrices)**2\n",
    "        #     # loss.backward()\n",
    "        #     return loss\n",
    "\n",
    "        # optimizer.step(closure)\n",
    "        # loss = closure()\n",
    "\n",
    "    #---ADAM---- \n",
    "        optimizer.zero_grad()\n",
    "        # rmat = model.forward()#return_matrix=True)\n",
    "        rmat, ridges = model.fit_ridge_analytical()\n",
    "        loss = 0\n",
    "        for s in rmat:      \n",
    "            for (key, block) in rmat[s].items():\n",
    "                # loss += torch.linalg.norm(block.values-target_blocks[tuple(s)].block(key).values)**2      \n",
    "                loss += np.linalg.norm(block.values-target_blocks[tuple(s)].block(key).values.cpu().numpy())**2      \n",
    "            # loss += torch.sum((rmat[s]-matrices[tuple(s)])**2)\n",
    "\n",
    "\n",
    "        # loss.backward()\n",
    "        # optimizer.step()\n",
    "        # scheduler.step(loss)\n",
    "        losses.append(loss.item())\n",
    "        if i%log_interval ==0:\n",
    "            print(i, loss.item())\n",
    "    return losses, model, optimizer, ridges\n"
   ]
  },
  {
   "cell_type": "code",
   "execution_count": 122,
   "id": "ed253004",
   "metadata": {},
   "outputs": [
    {
     "name": "stdout",
     "output_type": "stream",
     "text": [
      "0 8.951633596679936e-12\n"
     ]
    }
   ],
   "source": [
    "losses, model, optimizer, ridges = train(model, target_coupled_blocks, nepochs=1, optimizer=optimizer)"
   ]
  },
  {
   "cell_type": "code",
   "execution_count": 126,
   "id": "308d85ff-a2c1-4e86-91f2-28a0485f3c5f",
   "metadata": {},
   "outputs": [
    {
     "data": {
      "image/png": "[encoded data removed]",
      "text/plain": [
       "<Figure size 640x480 with 1 Axes>"
      ]
     },
     "metadata": {},
     "output_type": "display_data"
    }
   ],
   "source": [
    "w = ridges[10].coef_.flatten()\n",
    "# where = (w>-0.000000001) & (w<0)\n",
    "where=w<1e100\n",
    "plt.hist(w[where], bins=50);\n",
    "# plt.xlim(-0.01,0)"
   ]
  },
  {
   "cell_type": "code",
   "execution_count": 125,
   "id": "00da0a9f-4b79-499b-9041-e618928ae5d0",
   "metadata": {},
   "outputs": [
    {
     "data": {
      "text/plain": [
       "4.9238826317067315e-14"
      ]
     },
     "execution_count": 125,
     "metadata": {},
     "output_type": "execute_result"
    }
   ],
   "source": [
    "ridges[0].alpha_"
   ]
  },
  {
   "cell_type": "code",
   "execution_count": null,
   "id": "5cc999f5",
   "metadata": {
    "scrolled": true
   },
   "outputs": [],
   "source": [
    "plt.loglog(losses) # train between 1000-1500 epochs"
   ]
  },
  {
   "cell_type": "code",
   "execution_count": 134,
   "id": "00a20d70",
   "metadata": {},
   "outputs": [
    {
     "name": "stderr",
     "output_type": "stream",
     "text": [
      "/media/nigam/b5749eb7-d3f1-4495-adeb-2c318fb7d0de/MAC/my_mlelec/src/mlelec/utils/metatensor_utils.py:129: DeviceWarning: Values and labels for this block are on different devices: labels are always on CPU, and values are on device 'cuda:0'. If you are using PyTorch and need the labels to also be on cuda:0, you should use `metatensor.torch.TensorBlock`.\n",
      "  block = TensorBlock(\n",
      "/media/nigam/b5749eb7-d3f1-4495-adeb-2c318fb7d0de/MAC/my_mlelec/src/mlelec/utils/metatensor_utils.py:91: DeviceWarning: Blocks values and keys for this TensorMap are on different devices: keys are always on CPU, and blocks values are on device 'cuda:0'. If you are using PyTorch and need the labels to also be on cuda:0, you should use `metatensor.torch.TensorMap`.\n",
      "  return TensorMap(keys, blocks)\n"
     ]
    }
   ],
   "source": [
    "with torch.no_grad():\n",
    "    pred_trans = model.forward(return_matrix=True)"
   ]
  },
  {
   "cell_type": "code",
   "execution_count": 135,
   "id": "d40d112f",
   "metadata": {},
   "outputs": [
    {
     "name": "stdout",
     "output_type": "stream",
     "text": [
      "(0, 0, 0) tensor(0.0072, device='cuda:0', dtype=torch.float64)\n",
      "(0, 1, 0) tensor(0.0068, device='cuda:0', dtype=torch.float64)\n",
      "(0, 2, 0) tensor(0.0193, device='cuda:0', dtype=torch.float64)\n",
      "(0, 3, 0) tensor(0.0068, device='cuda:0', dtype=torch.float64)\n",
      "(1, 0, 0) tensor(0.0066, device='cuda:0', dtype=torch.float64)\n",
      "(1, 1, 0) tensor(0.0077, device='cuda:0', dtype=torch.float64)\n",
      "(1, 2, 0) tensor(0.0078, device='cuda:0', dtype=torch.float64)\n",
      "(1, 3, 0) tensor(0.0091, device='cuda:0', dtype=torch.float64)\n",
      "(2, 0, 0) tensor(0.0363, device='cuda:0', dtype=torch.float64)\n",
      "(2, 1, 0) tensor(0.0083, device='cuda:0', dtype=torch.float64)\n",
      "(2, 2, 0) tensor(0.0258, device='cuda:0', dtype=torch.float64)\n",
      "(2, 3, 0) tensor(0.0083, device='cuda:0', dtype=torch.float64)\n",
      "(3, 0, 0) tensor(0.0066, device='cuda:0', dtype=torch.float64)\n",
      "(3, 1, 0) tensor(0.0091, device='cuda:0', dtype=torch.float64)\n",
      "(3, 2, 0) tensor(0.0138, device='cuda:0', dtype=torch.float64)\n",
      "(3, 3, 0) tensor(0.0077, device='cuda:0', dtype=torch.float64)\n"
     ]
    }
   ],
   "source": [
    "for s in pred_trans.keys():\n",
    "    # print(s, torch.linalg.norm(pred_trans[s]), np.linalg.norm(rotated_dataset.matrices_translation[s]))\n",
    "\n",
    "    print(s, torch.linalg.norm(pred_trans[s]-matrices[s])/torch.linalg.norm(matrices[s]))"
   ]
  },
  {
   "cell_type": "markdown",
   "id": "58a21306",
   "metadata": {},
   "source": [
    "## check if model prediction is periodic cause of the features "
   ]
  },
  {
   "cell_type": "code",
   "execution_count": 68,
   "id": "a2a67935",
   "metadata": {},
   "outputs": [
    {
     "name": "stdout",
     "output_type": "stream",
     "text": [
      "[[0, 0, 0], [0, 1, 0], [0, 2, 0], [0, 3, 0], [1, 0, 0], [1, 1, 0], [1, 2, 0], [1, 3, 0], [2, 0, 0], [2, 1, 0], [2, 2, 0], [2, 3, 0], [3, 0, 0], [3, 1, 0], [3, 2, 0], [3, 3, 0]] 16\n"
     ]
    }
   ],
   "source": [
    "model = LinearModelPeriodic(hfeat, target, frames, orbs,\n",
    "                            cell_shifts= rotated_dataset.desired_shifts[:], \n",
    "                            nhidden=16, nlayers=2)\n"
   ]
  },
  {
   "cell_type": "code",
   "execution_count": 71,
   "id": "c8d819b8",
   "metadata": {},
   "outputs": [],
   "source": [
    "with torch.no_grad():\n",
    "    for i,layer in enumerate(model.state_dict()):\n",
    "\n",
    "            model.state_dict()[layer].data.fill_(1)\n"
   ]
  },
  {
   "cell_type": "code",
   "execution_count": 72,
   "id": "925a3d7b",
   "metadata": {},
   "outputs": [],
   "source": [
    "with torch.no_grad():\n",
    "    pred = model.forward(return_matrix=True)"
   ]
  },
  {
   "cell_type": "code",
   "execution_count": 73,
   "id": "20303618",
   "metadata": {},
   "outputs": [
    {
     "name": "stdout",
     "output_type": "stream",
     "text": [
      "(0, 0, 0) tensor(25122.8691, device='cuda:0') 29.720349537789836\n",
      "(0, 1, 0) tensor(5529.4873, device='cuda:0') 3.8037288618074836\n",
      "(0, 2, 0) tensor(2296.3838, device='cuda:0') 0.12872204223361142\n",
      "(0, 3, 0) tensor(5529.4873, device='cuda:0') 3.8037288618074827\n",
      "(1, 0, 0) tensor(3613.4426, device='cuda:0') 1.3779133823860996\n",
      "(1, 1, 0) tensor(5575.9629, device='cuda:0') 3.932570701492888\n",
      "(1, 2, 0) tensor(2600.2625, device='cuda:0') 0.3638213945858173\n",
      "(1, 3, 0) tensor(2190.1235, device='cuda:0') 0.11316362926982403\n",
      "(2, 0, 0) tensor(1847.7928, device='cuda:0') 0.02269577960334376\n",
      "(2, 1, 0) tensor(2194.8967, device='cuda:0') 0.11873927294939798\n",
      "(2, 2, 0) tensor(2353.3105, device='cuda:0') 0.143857100848483\n",
      "(2, 3, 0) tensor(2194.8967, device='cuda:0') 0.11873927294939723\n",
      "(3, 0, 0) tensor(3613.4426, device='cuda:0') 1.3779133823861014\n",
      "(3, 1, 0) tensor(2190.1235, device='cuda:0') 0.1131636292698239\n",
      "(3, 2, 0) tensor(2651.7317, device='cuda:0') 0.3638213945858177\n",
      "(3, 3, 0) tensor(5575.9629, device='cuda:0') 3.932570701492888\n"
     ]
    }
   ],
   "source": [
    "for s in pred.keys():\n",
    "    print(s, torch.linalg.norm(pred[s]), np.linalg.norm(rotated_dataset.matrices_translation[s]))"
   ]
  },
  {
   "cell_type": "code",
   "execution_count": 100,
   "id": "208d63bf",
   "metadata": {},
   "outputs": [],
   "source": [
    "feat_norm = [torch.linalg.norm(pred[s]).detach().cpu().numpy() for s in rotated_dataset.desired_shifts]\n",
    "mat_norm = [(torch.linalg.norm(pred_trans[s]-torch.from_numpy(rotated_dataset.matrices_translation[s]).to('cuda'))/torch.linalg.norm(torch.from_numpy(rotated_dataset.matrices_translation[s]).to('cuda'))).detach().cpu().numpy() for s in rotated_dataset.desired_shifts] \n"
   ]
  },
  {
   "cell_type": "code",
   "execution_count": 111,
   "id": "7148596f",
   "metadata": {},
   "outputs": [
    {
     "name": "stdout",
     "output_type": "stream",
     "text": [
      "-2.375991518022842\n"
     ]
    },
    {
     "data": {
      "image/png": "[encoded data removed]",
      "text/plain": [
       "<Figure size 640x480 with 1 Axes>"
      ]
     },
     "metadata": {},
     "output_type": "display_data"
    }
   ],
   "source": [
    "\n",
    "plt.plot(np.log(feat_norm), np.log(mat_norm),'o')# ls='')\n",
    "# plt.yscale('log')\n",
    "from scipy.optimize import curve_fit\n",
    "popt,pcov=curve_fit(lambda x, m, q: m*x+q, np.log(feat_norm), np.log(mat_norm))    \n",
    "x=np.linspace(7,11)\n",
    "m,q=popt\n",
    "plt.plot(x, m*x+q)\n",
    "print(m)"
   ]
  },
  {
   "cell_type": "code",
   "execution_count": null,
   "id": "2bfbe7c1",
   "metadata": {},
   "outputs": [],
   "source": []
  },
  {
   "cell_type": "markdown",
   "id": "97a3f3c5",
   "metadata": {},
   "source": [
    "## reconstruct k-point target "
   ]
  },
  {
   "cell_type": "code",
   "execution_count": 357,
   "id": "e6c0d2b1",
   "metadata": {},
   "outputs": [],
   "source": [
    "matrices_translation = model.forward(return_matrix=True)\n",
    "pred_kpts = rotated_dataset.get_kpoint_target(matrices_translation)\n"
   ]
  },
  {
   "cell_type": "code",
   "execution_count": 358,
   "id": "b72537d5",
   "metadata": {},
   "outputs": [
    {
     "name": "stdout",
     "output_type": "stream",
     "text": [
      "0 tensor(0.0027, dtype=torch.float64)\n",
      "1 tensor(0.0027, dtype=torch.float64)\n",
      "2 tensor(0.0028, dtype=torch.float64)\n",
      "3 tensor(0.0027, dtype=torch.float64)\n",
      "4 tensor(0.0041, dtype=torch.float64)\n",
      "5 tensor(0.0040, dtype=torch.float64)\n",
      "6 tensor(0.0041, dtype=torch.float64)\n",
      "7 tensor(0.0042, dtype=torch.float64)\n",
      "8 tensor(0.0028, dtype=torch.float64)\n",
      "9 tensor(0.0027, dtype=torch.float64)\n",
      "10 tensor(0.0027, dtype=torch.float64)\n",
      "11 tensor(0.0027, dtype=torch.float64)\n",
      "12 tensor(0.0041, dtype=torch.float64)\n",
      "13 tensor(0.0042, dtype=torch.float64)\n",
      "14 tensor(0.0041, dtype=torch.float64)\n",
      "15 tensor(0.0040, dtype=torch.float64)\n"
     ]
    }
   ],
   "source": [
    "Nk = np.prod(kmesh )\n",
    "for kpt in range(Nk):\n",
    "    print(kpt, torch.linalg.norm(pred_kpts[kpt] - rotated_dataset.matrices_kpoint[kpt]))\n",
    "# torch.linalg.norm(recons_kpt_target - small_shifts_target)"
   ]
  },
  {
   "cell_type": "markdown",
   "id": "c82c260c",
   "metadata": {},
   "source": [
    "## Train on kpoint matrices"
   ]
  },
  {
   "cell_type": "code",
   "execution_count": 41,
   "id": "ffee6a74",
   "metadata": {},
   "outputs": [
    {
     "name": "stdout",
     "output_type": "stream",
     "text": [
      "[[0 0 0]\n",
      " [0 1 0]\n",
      " [0 2 0]\n",
      " [0 3 0]\n",
      " [1 0 0]\n",
      " [1 1 0]\n",
      " [1 2 0]\n",
      " [1 3 0]\n",
      " [2 0 0]\n",
      " [2 1 0]\n",
      " [2 2 0]\n",
      " [2 3 0]\n",
      " [3 0 0]\n",
      " [3 1 0]\n",
      " [3 2 0]\n",
      " [3 3 0]] 16\n"
     ]
    }
   ],
   "source": [
    "model = LinearModelPeriodic(hfeat, target, frames, orbs,\n",
    "                            cell_shifts= rotated_dataset.desired_shifts[:], \n",
    "                            nhidden=16, nlayers=2)\n",
    "\n",
    "optimizer = torch.optim.Adam(model.parameters(), lr=1e-3)\n",
    "# optimizer= torch.optim.SGD(model.parameters(), lr=1e-3)\n",
    "# optimizer = torch.optim.LBFGS(model.parameters(), lr=1e-3)\n",
    "scheduler = torch.optim.lr_scheduler.ReduceLROnPlateau(optimizer, 'min', factor=0.5, patience=100, verbose=True)\n",
    "\n",
    "\n",
    "def train_kpoint(model, target_blocks, nepochs=10, optimizer=None, scheduler=None, log_interval=10):\n",
    "    losses = []\n",
    "    for i in range(nepochs):\n",
    "        # def closure():\n",
    "        #     optimizer.zero_grad()\n",
    "        #     rmat = model.forward()\n",
    "        #     loss = 0\n",
    "        #     for s in rmat:            \n",
    "        #         loss += torch.linalg.norm(rmat[s]-matrices[tuple(s)])**2\n",
    "        #     # loss = torch.linalg.norm(rmat - matrices)**2\n",
    "        #     # loss.backward()\n",
    "        #     return loss\n",
    "\n",
    "        # optimizer.step(closure)\n",
    "        # loss = closure()\n",
    "\n",
    "    #---ADAM---- \n",
    "        optimizer.zero_grad()\n",
    "        rmat = model.forward(return_matrix=True)\n",
    "        rkmat = torch.stack(rotated_dataset.get_kpoint_target(rmat))\n",
    "        \n",
    "        loss = 0\n",
    "        loss += torch.linalg.norm(rkmat - rotated_dataset.matrices_kpoint)**2\n",
    "\n",
    "        # constrain loss by adding addition loss terms on translated matrices\n",
    "        # for s in [tuple([0,0,0]), tuple([1,0,0])]:     \n",
    "        #     loss += torch.sum((rmat[s]-matrices[tuple(s)])**2)\n",
    "\n",
    "\n",
    "        loss.backward()\n",
    "        optimizer.step()\n",
    "        # scheduler.step(loss)\n",
    "        losses.append(loss.item())\n",
    "        if i%log_interval ==0:\n",
    "            print(i, loss.item())\n",
    "    return losses, model, optimizer"
   ]
  },
  {
   "cell_type": "code",
   "execution_count": 42,
   "id": "7b51d09b",
   "metadata": {},
   "outputs": [
    {
     "name": "stdout",
     "output_type": "stream",
     "text": [
      "0 15156.965686043211\n",
      "10 14901.350436971601\n",
      "20 14479.774295662553\n",
      "30 13835.510535991945\n",
      "40 12928.797914094568\n",
      "50 11756.922435085986\n",
      "60 10368.003279744344\n",
      "70 8832.843967593217\n",
      "80 7218.668691068899\n",
      "90 5576.884890700811\n",
      "100 3971.2156237910503\n",
      "110 2566.2282247762514\n",
      "120 1560.7927607787049\n",
      "130 1027.8432305594301\n",
      "140 854.3761617266298\n",
      "150 832.4936031269673\n",
      "160 827.8448189714267\n",
      "170 815.3369704889398\n",
      "180 803.4761517198482\n",
      "190 794.2529210163812\n"
     ]
    },
    {
     "ename": "KeyboardInterrupt",
     "evalue": "",
     "output_type": "error",
     "traceback": [
      "\u001b[0;31m---------------------------------------------------------------------------\u001b[0m",
      "\u001b[0;31mKeyboardInterrupt\u001b[0m                         Traceback (most recent call last)",
      "Cell \u001b[0;32mIn[42], line 1\u001b[0m\n\u001b[0;32m----> 1\u001b[0m losses, model, optimizer \u001b[38;5;241m=\u001b[39m \u001b[43mtrain_kpoint\u001b[49m\u001b[43m(\u001b[49m\u001b[43mmodel\u001b[49m\u001b[43m,\u001b[49m\u001b[43m \u001b[49m\u001b[43mtarget_coupled_blocks\u001b[49m\u001b[43m,\u001b[49m\u001b[43m \u001b[49m\u001b[43mnepochs\u001b[49m\u001b[38;5;241;43m=\u001b[39;49m\u001b[38;5;241;43m200\u001b[39;49m\u001b[43m,\u001b[49m\u001b[43m \u001b[49m\u001b[43moptimizer\u001b[49m\u001b[38;5;241;43m=\u001b[39;49m\u001b[43moptimizer\u001b[49m\u001b[43m)\u001b[49m\n",
      "Cell \u001b[0;32mIn[41], line 29\u001b[0m, in \u001b[0;36mtrain_kpoint\u001b[0;34m(model, target_blocks, nepochs, optimizer, scheduler, log_interval)\u001b[0m\n\u001b[1;32m     13\u001b[0m \u001b[38;5;28;01mfor\u001b[39;00m i \u001b[38;5;129;01min\u001b[39;00m \u001b[38;5;28mrange\u001b[39m(nepochs):\n\u001b[1;32m     14\u001b[0m     \u001b[38;5;66;03m# def closure():\u001b[39;00m\n\u001b[1;32m     15\u001b[0m     \u001b[38;5;66;03m#     optimizer.zero_grad()\u001b[39;00m\n\u001b[0;32m   (...)\u001b[0m\n\u001b[1;32m     26\u001b[0m \n\u001b[1;32m     27\u001b[0m \u001b[38;5;66;03m#---ADAM---- \u001b[39;00m\n\u001b[1;32m     28\u001b[0m     optimizer\u001b[38;5;241m.\u001b[39mzero_grad()\n\u001b[0;32m---> 29\u001b[0m     rmat \u001b[38;5;241m=\u001b[39m \u001b[43mmodel\u001b[49m\u001b[38;5;241;43m.\u001b[39;49m\u001b[43mforward\u001b[49m\u001b[43m(\u001b[49m\u001b[43mreturn_matrix\u001b[49m\u001b[38;5;241;43m=\u001b[39;49m\u001b[38;5;28;43;01mTrue\u001b[39;49;00m\u001b[43m)\u001b[49m\n\u001b[1;32m     30\u001b[0m     rkmat \u001b[38;5;241m=\u001b[39m torch\u001b[38;5;241m.\u001b[39mstack(rotated_dataset\u001b[38;5;241m.\u001b[39mget_kpoint_target(rmat))\n\u001b[1;32m     32\u001b[0m     loss \u001b[38;5;241m=\u001b[39m \u001b[38;5;241m0\u001b[39m\n",
      "File \u001b[0;32m~/micromamba/envs/sci/lib/python3.11/site-packages/mlelec/models/linear.py:325\u001b[0m, in \u001b[0;36mLinearModelPeriodic.forward\u001b[0;34m(self, return_matrix)\u001b[0m\n\u001b[1;32m    323\u001b[0m         pred_blocks\u001b[38;5;241m.\u001b[39mappend(block\u001b[38;5;241m.\u001b[39mcopy())\n\u001b[1;32m    324\u001b[0m pred_tmap \u001b[38;5;241m=\u001b[39m TensorMap(\u001b[38;5;28mself\u001b[39m\u001b[38;5;241m.\u001b[39mtarget_blocks\u001b[38;5;241m.\u001b[39mkeys, pred_blocks)\n\u001b[0;32m--> 325\u001b[0m \u001b[38;5;28mself\u001b[39m\u001b[38;5;241m.\u001b[39mrecon_blocks \u001b[38;5;241m=\u001b[39m \u001b[38;5;28;43mself\u001b[39;49m\u001b[38;5;241;43m.\u001b[39;49m\u001b[43mmodel_return\u001b[49m\u001b[43m(\u001b[49m\u001b[43mpred_tmap\u001b[49m\u001b[43m,\u001b[49m\u001b[43m \u001b[49m\u001b[43mreturn_matrix\u001b[49m\u001b[38;5;241;43m=\u001b[39;49m\u001b[43mreturn_matrix\u001b[49m\u001b[43m)\u001b[49m\n\u001b[1;32m    326\u001b[0m \u001b[38;5;28;01mreturn\u001b[39;00m \u001b[38;5;28mself\u001b[39m\u001b[38;5;241m.\u001b[39mrecon_blocks\n",
      "File \u001b[0;32m~/micromamba/envs/sci/lib/python3.11/site-packages/mlelec/models/linear.py:363\u001b[0m, in \u001b[0;36mLinearModelPeriodic.model_return\u001b[0;34m(self, target, return_matrix)\u001b[0m\n\u001b[1;32m    360\u001b[0m     rmat \u001b[38;5;241m=\u001b[39m {}\n\u001b[1;32m    361\u001b[0m     \u001b[38;5;28;01mfor\u001b[39;00m s \u001b[38;5;129;01min\u001b[39;00m \u001b[38;5;28mself\u001b[39m\u001b[38;5;241m.\u001b[39mcell_shifts[:]:\n\u001b[1;32m    362\u001b[0m         rmat[\u001b[38;5;28mtuple\u001b[39m(s)] \u001b[38;5;241m=\u001b[39m _to_matrix(\n\u001b[0;32m--> 363\u001b[0m             \u001b[43m_to_uncoupled_basis\u001b[49m\u001b[43m(\u001b[49m\u001b[43mrecon_blocks\u001b[49m\u001b[43m[\u001b[49m\u001b[38;5;28;43mtuple\u001b[39;49m\u001b[43m(\u001b[49m\u001b[43ms\u001b[49m\u001b[43m)\u001b[49m\u001b[43m]\u001b[49m\u001b[43m)\u001b[49m,\n\u001b[1;32m    364\u001b[0m             frames\u001b[38;5;241m=\u001b[39m\u001b[38;5;28mself\u001b[39m\u001b[38;5;241m.\u001b[39mframes,\n\u001b[1;32m    365\u001b[0m             orbitals\u001b[38;5;241m=\u001b[39m\u001b[38;5;28mself\u001b[39m\u001b[38;5;241m.\u001b[39morbitals,\n\u001b[1;32m    366\u001b[0m             NH\u001b[38;5;241m=\u001b[39m\u001b[38;5;28;01mTrue\u001b[39;00m,\n\u001b[1;32m    367\u001b[0m         )  \u001b[38;5;66;03m# DONT FORGET NH=True\u001b[39;00m\n\u001b[1;32m    368\u001b[0m     \u001b[38;5;28;01mreturn\u001b[39;00m rmat\n\u001b[1;32m    369\u001b[0m \u001b[38;5;28;01mreturn\u001b[39;00m recon_blocks\n",
      "File \u001b[0;32m~/micromamba/envs/sci/lib/python3.11/site-packages/mlelec/utils/twocenter_utils.py:799\u001b[0m, in \u001b[0;36m_to_uncoupled_basis\u001b[0;34m(blocks, cg, device)\u001b[0m\n\u001b[1;32m    797\u001b[0m \u001b[38;5;28;01mif\u001b[39;00m cg \u001b[38;5;129;01mis\u001b[39;00m \u001b[38;5;28;01mNone\u001b[39;00m:\n\u001b[1;32m    798\u001b[0m     lmax \u001b[38;5;241m=\u001b[39m \u001b[38;5;28mmax\u001b[39m(blocks\u001b[38;5;241m.\u001b[39mkeys[\u001b[38;5;124m\"\u001b[39m\u001b[38;5;124mL\u001b[39m\u001b[38;5;124m\"\u001b[39m])\n\u001b[0;32m--> 799\u001b[0m     cg \u001b[38;5;241m=\u001b[39m \u001b[43mClebschGordanReal\u001b[49m\u001b[43m(\u001b[49m\u001b[43mlmax\u001b[49m\u001b[43m)\u001b[49m\n\u001b[1;32m    801\u001b[0m block_builder \u001b[38;5;241m=\u001b[39m TensorBuilder(\n\u001b[1;32m    802\u001b[0m     \u001b[38;5;66;03m# last key name is L, we remove it here\u001b[39;00m\n\u001b[1;32m    803\u001b[0m     blocks\u001b[38;5;241m.\u001b[39mkeys\u001b[38;5;241m.\u001b[39mnames[:\u001b[38;5;241m-\u001b[39m\u001b[38;5;241m1\u001b[39m],\n\u001b[0;32m   (...)\u001b[0m\n\u001b[1;32m    810\u001b[0m     [\u001b[38;5;124m\"\u001b[39m\u001b[38;5;124mvalue\u001b[39m\u001b[38;5;124m\"\u001b[39m],\n\u001b[1;32m    811\u001b[0m )\n\u001b[1;32m    812\u001b[0m \u001b[38;5;28;01mfor\u001b[39;00m idx, block \u001b[38;5;129;01min\u001b[39;00m blocks\u001b[38;5;241m.\u001b[39mitems():\n",
      "File \u001b[0;32m~/micromamba/envs/sci/lib/python3.11/site-packages/mlelec/utils/symmetry.py:320\u001b[0m, in \u001b[0;36mClebschGordanReal.__init__\u001b[0;34m(self, lmax, device)\u001b[0m\n\u001b[1;32m    318\u001b[0m new_cg \u001b[38;5;241m=\u001b[39m []\n\u001b[1;32m    319\u001b[0m \u001b[38;5;28;01mfor\u001b[39;00m M \u001b[38;5;129;01min\u001b[39;00m \u001b[38;5;28mrange\u001b[39m(\u001b[38;5;241m2\u001b[39m \u001b[38;5;241m*\u001b[39m L \u001b[38;5;241m+\u001b[39m \u001b[38;5;241m1\u001b[39m):\n\u001b[0;32m--> 320\u001b[0m     cg_nonzero \u001b[38;5;241m=\u001b[39m torch\u001b[38;5;241m.\u001b[39mwhere(\u001b[38;5;28mabs\u001b[39m(rcg[:, :, M]) \u001b[38;5;241m>\u001b[39m \u001b[38;5;241m1e-15\u001b[39m)\n\u001b[1;32m    321\u001b[0m     cg_M \u001b[38;5;241m=\u001b[39m torch\u001b[38;5;241m.\u001b[39mzeros(\n\u001b[1;32m    322\u001b[0m         (\u001b[38;5;28mlen\u001b[39m(cg_nonzero[\u001b[38;5;241m0\u001b[39m]), \u001b[38;5;241m3\u001b[39m),\n\u001b[1;32m    323\u001b[0m         \u001b[38;5;66;03m# dtype=[(torch.int32, torch.int32, torch.int32)],\u001b[39;00m\n\u001b[1;32m    324\u001b[0m         device\u001b[38;5;241m=\u001b[39m\u001b[38;5;28mself\u001b[39m\u001b[38;5;241m.\u001b[39mdevice,\n\u001b[1;32m    325\u001b[0m     )\n\u001b[1;32m    326\u001b[0m     cg_M[:, \u001b[38;5;241m0\u001b[39m] \u001b[38;5;241m=\u001b[39m cg_nonzero[\u001b[38;5;241m0\u001b[39m]\u001b[38;5;241m.\u001b[39mtype(torch\u001b[38;5;241m.\u001b[39mint)\n",
      "\u001b[0;31mKeyboardInterrupt\u001b[0m: "
     ]
    }
   ],
   "source": [
    "losses, model, optimizer = train_kpoint(model, target_coupled_blocks, nepochs=200, optimizer=optimizer)"
   ]
  },
  {
   "cell_type": "code",
   "execution_count": 35,
   "id": "592c9d7a-9679-41c3-8207-542aa8862e9d",
   "metadata": {},
   "outputs": [],
   "source": [
    "rmat = model.forward(return_matrix=True)\n",
    "rkmat = torch.stack(rotated_dataset.get_kpoint_target(rmat))"
   ]
  },
  {
   "cell_type": "code",
   "execution_count": 38,
   "id": "48abaed3",
   "metadata": {},
   "outputs": [
    {
     "data": {
      "text/plain": [
       "tensor([[[[-6.1536e-02+0.0000e+00j, -7.9974e-02+0.0000e+00j,\n",
       "            7.8433e-04+0.0000e+00j,  ...,\n",
       "           -5.8546e-02+0.0000e+00j,  0.0000e+00+0.0000e+00j,\n",
       "            3.7080e-03+0.0000e+00j],\n",
       "          [-7.3813e-02+0.0000e+00j, -8.2722e-02+0.0000e+00j,\n",
       "            2.4404e-03+0.0000e+00j,  ...,\n",
       "           -2.8483e-02+0.0000e+00j,  0.0000e+00+0.0000e+00j,\n",
       "            1.7138e-03+0.0000e+00j],\n",
       "          [-2.5424e-03+0.0000e+00j,  2.9417e-03+0.0000e+00j,\n",
       "            1.1119e-02+0.0000e+00j,  ...,\n",
       "           -5.6882e-02+0.0000e+00j,  0.0000e+00+0.0000e+00j,\n",
       "            9.2472e-04+0.0000e+00j],\n",
       "          ...,\n",
       "          [-5.5140e-02+0.0000e+00j, -4.6563e-02+0.0000e+00j,\n",
       "           -5.5349e-02+0.0000e+00j,  ...,\n",
       "            1.0591e-02+0.0000e+00j,  0.0000e+00+0.0000e+00j,\n",
       "            6.3796e-04+0.0000e+00j],\n",
       "          [ 0.0000e+00+0.0000e+00j,  0.0000e+00+0.0000e+00j,\n",
       "            0.0000e+00+0.0000e+00j,  ...,\n",
       "            0.0000e+00+0.0000e+00j, -1.1077e-01+0.0000e+00j,\n",
       "            0.0000e+00+0.0000e+00j],\n",
       "          [ 9.5036e-04+0.0000e+00j,  5.1854e-04+0.0000e+00j,\n",
       "           -1.0676e-03+0.0000e+00j,  ...,\n",
       "            2.2739e-04+0.0000e+00j,  0.0000e+00+0.0000e+00j,\n",
       "            1.5969e-02+0.0000e+00j]],\n",
       "\n",
       "         [[-6.1558e-02+7.5338e-07j, -7.7225e-02+3.7430e-05j,\n",
       "           -2.3474e-03+1.7138e-02j,  ...,\n",
       "           -4.6402e-02+2.2491e-02j,  0.0000e+00+0.0000e+00j,\n",
       "           -1.7379e-03+1.7836e-04j],\n",
       "          [-7.1335e-02-6.2647e-05j, -8.0022e-02+1.3090e-05j,\n",
       "            2.0950e-03+2.0100e-02j,  ...,\n",
       "           -2.3736e-02+2.3824e-02j,  0.0000e+00+0.0000e+00j,\n",
       "           -1.7447e-03+2.7441e-04j],\n",
       "          [ 7.9404e-04-1.7094e-02j,  3.0277e-03-2.3512e-02j,\n",
       "            1.3284e-02-3.8316e-06j,  ...,\n",
       "           -2.6134e-02+1.7993e-02j,  0.0000e+00+0.0000e+00j,\n",
       "           -1.4016e-03+4.6061e-04j],\n",
       "          ...,\n",
       "          [-3.7400e-02-3.0563e-02j, -3.0853e-02-2.9889e-02j,\n",
       "           -2.8197e-02-1.7993e-02j,  ...,\n",
       "            1.3776e-02+3.8316e-06j,  0.0000e+00+0.0000e+00j,\n",
       "            8.6355e-04+1.9568e-04j],\n",
       "          [ 0.0000e+00+0.0000e+00j,  0.0000e+00+0.0000e+00j,\n",
       "            0.0000e+00+0.0000e+00j,  ...,\n",
       "            0.0000e+00+0.0000e+00j, -1.1694e-01+6.1695e-05j,\n",
       "            0.0000e+00+0.0000e+00j],\n",
       "          [-1.4470e-04-2.5364e-04j,  6.7530e-04-3.5655e-04j,\n",
       "            1.4068e-04-5.2360e-04j,  ...,\n",
       "            7.2107e-04-1.9029e-04j,  0.0000e+00+0.0000e+00j,\n",
       "            1.1299e-02+2.5803e-05j]],\n",
       "\n",
       "         [[-6.1305e-02-4.5215e-20j, -6.5795e-02-2.2725e-18j,\n",
       "            4.5571e-04-2.4220e-18j,  ...,\n",
       "           -8.3474e-04-1.1869e-17j,  0.0000e+00+0.0000e+00j,\n",
       "            2.6992e-03-5.0346e-19j],\n",
       "          [-6.0688e-02-2.0998e-18j, -6.8200e-02-2.3386e-18j,\n",
       "            1.0951e-03-2.2568e-18j,  ...,\n",
       "            3.4196e-04-7.6312e-18j,  0.0000e+00+0.0000e+00j,\n",
       "            1.3516e-03-3.9060e-19j],\n",
       "          [-2.3146e-03+2.4602e-18j,  7.0247e-04+3.3013e-18j,\n",
       "            2.0454e-02-1.4492e-18j,  ...,\n",
       "            1.4182e-02-1.1492e-17j,  0.0000e+00+0.0000e+00j,\n",
       "            2.5033e-03-6.3128e-19j],\n",
       "          ...,\n",
       "          [-3.8190e-03-3.5122e-18j, -4.1731e-03-2.2025e-18j,\n",
       "            1.5715e-02-7.5255e-18j,  ...,\n",
       "            1.9927e-02-1.3253e-18j,  0.0000e+00+0.0000e+00j,\n",
       "            5.5356e-04+1.9166e-20j],\n",
       "          [ 0.0000e+00+0.0000e+00j,  0.0000e+00+0.0000e+00j,\n",
       "            0.0000e+00+0.0000e+00j,  ...,\n",
       "            0.0000e+00+0.0000e+00j, -1.2774e-01+2.3545e-18j,\n",
       "            0.0000e+00+0.0000e+00j],\n",
       "          [ 8.3417e-05+5.6211e-20j, -7.4361e-06+1.5948e-19j,\n",
       "            2.3889e-04-2.7903e-20j,  ...,\n",
       "            1.7169e-04+9.3995e-20j,  0.0000e+00+0.0000e+00j,\n",
       "            2.6698e-03+1.8680e-18j]],\n",
       "\n",
       "         ...,\n",
       "\n",
       "         [[-6.1563e-02-3.7189e-08j, -7.7280e-02-5.2131e-07j,\n",
       "           -7.5572e-04+8.0870e-03j,  ...,\n",
       "           -4.3918e-02+6.0452e-03j,  0.0000e+00+0.0000e+00j,\n",
       "           -3.4334e-02-7.2254e-03j],\n",
       "          [-7.1389e-02+1.1944e-07j, -8.0099e-02-3.9442e-07j,\n",
       "            2.5177e-03+9.8810e-03j,  ...,\n",
       "           -2.1533e-02+7.2172e-03j,  0.0000e+00+0.0000e+00j,\n",
       "           -1.6511e-02-1.4461e-02j],\n",
       "          [-8.4590e-04-8.0320e-03j,  3.1277e-03-1.1540e-02j,\n",
       "            9.4741e-03-5.4133e-06j,  ...,\n",
       "           -3.7507e-02+2.1556e-02j,  0.0000e+00+0.0000e+00j,\n",
       "           -1.9644e-02-4.3710e-03j],\n",
       "          ...,\n",
       "          [-3.8590e-02-3.6545e-03j, -3.1816e-02-6.5079e-03j,\n",
       "           -3.7242e-02-2.4001e-02j,  ...,\n",
       "            9.4917e-03-5.0440e-04j,  0.0000e+00+0.0000e+00j,\n",
       "           -1.3435e-03+4.4461e-04j],\n",
       "          [ 0.0000e+00+0.0000e+00j,  0.0000e+00+0.0000e+00j,\n",
       "            0.0000e+00+0.0000e+00j,  ...,\n",
       "            0.0000e+00+0.0000e+00j, -1.1537e-01+1.4324e-03j,\n",
       "            0.0000e+00+0.0000e+00j],\n",
       "          [-3.0057e-02+1.2321e-02j, -2.5101e-02+2.0255e-02j,\n",
       "           -1.7919e-02+5.7249e-03j,  ...,\n",
       "           -1.5939e-03-8.6241e-04j,  0.0000e+00+0.0000e+00j,\n",
       "            1.5944e-02+8.0000e-04j]],\n",
       "\n",
       "         [[-6.1261e-02-8.3965e-07j, -6.3069e-02+4.6311e-05j,\n",
       "           -7.0669e-04+7.5583e-03j,  ...,\n",
       "           -1.4687e-02+1.6816e-02j,  0.0000e+00+0.0000e+00j,\n",
       "           -2.8634e-02+3.0208e-02j],\n",
       "          [-5.8167e-02+1.0798e-05j, -6.5298e-02+7.4454e-05j,\n",
       "            2.0430e-03+1.4834e-02j,  ...,\n",
       "           -7.1432e-03+1.6620e-02j,  0.0000e+00+0.0000e+00j,\n",
       "           -1.3805e-02+2.6672e-02j],\n",
       "          [-9.3030e-04-7.0603e-03j,  2.3631e-03-1.6037e-02j,\n",
       "            1.0362e-02+4.5444e-05j,  ...,\n",
       "           -1.1111e-02+2.0240e-02j,  0.0000e+00+0.0000e+00j,\n",
       "           -1.3393e-02+1.7332e-02j],\n",
       "          ...,\n",
       "          [-1.2640e-02-2.7763e-02j, -1.0584e-02-2.3597e-02j,\n",
       "           -1.0846e-02-1.7795e-02j,  ...,\n",
       "            1.0379e-02+4.6436e-04j,  0.0000e+00+0.0000e+00j,\n",
       "           -1.8848e-03+1.3737e-03j],\n",
       "          [ 0.0000e+00+0.0000e+00j,  0.0000e+00+0.0000e+00j,\n",
       "            0.0000e+00+0.0000e+00j,  ...,\n",
       "            0.0000e+00+0.0000e+00j, -1.3259e-01-1.3231e-03j,\n",
       "            0.0000e+00+0.0000e+00j],\n",
       "          [-2.4954e-02-4.3906e-02j, -2.0981e-02-3.4873e-02j,\n",
       "           -1.3988e-02-1.8143e-02j,  ...,\n",
       "           -2.2116e-03-9.9141e-04j,  0.0000e+00+0.0000e+00j,\n",
       "            1.1386e-02-7.4666e-04j]],\n",
       "\n",
       "         [[-6.1255e-02+1.5464e-06j, -6.2840e-02-9.0518e-05j,\n",
       "           -8.3966e-04-7.6956e-03j,  ...,\n",
       "           -1.2452e-02-1.5915e-02j,  0.0000e+00+0.0000e+00j,\n",
       "            2.9333e-02+3.4493e-02j],\n",
       "          [-5.7955e-02-2.0083e-05j, -6.5074e-02-1.4742e-04j,\n",
       "            1.4586e-03-1.4862e-02j,  ...,\n",
       "           -6.0624e-03-1.6049e-02j,  0.0000e+00+0.0000e+00j,\n",
       "            1.4721e-02+3.0272e-02j],\n",
       "          [-8.1783e-04+7.2139e-03j,  2.3212e-03+1.6090e-02j,\n",
       "            1.0608e-02+1.2004e-06j,  ...,\n",
       "           -9.2587e-03-1.8432e-02j,  0.0000e+00+0.0000e+00j,\n",
       "            1.3305e-02+1.9216e-02j],\n",
       "          ...,\n",
       "          [-1.0680e-02+2.6520e-02j, -8.9746e-03+2.2886e-02j,\n",
       "           -8.9937e-03+1.5987e-02j,  ...,\n",
       "            1.0626e-02-5.1101e-04j,  0.0000e+00+0.0000e+00j,\n",
       "            3.2044e-03+4.4456e-04j],\n",
       "          [ 0.0000e+00+0.0000e+00j,  0.0000e+00+0.0000e+00j,\n",
       "            0.0000e+00+0.0000e+00j,  ...,\n",
       "            0.0000e+00+0.0000e+00j, -1.3286e-01+1.2226e-03j,\n",
       "            0.0000e+00+0.0000e+00j],\n",
       "          [ 2.6491e-02-4.4631e-02j,  2.1096e-02-3.6272e-02j,\n",
       "            1.4431e-02-1.6966e-02j,  ...,\n",
       "            3.3565e-03-8.3141e-04j,  0.0000e+00+0.0000e+00j,\n",
       "            1.1099e-02+7.7938e-04j]]],\n",
       "\n",
       "\n",
       "        [[[-6.1536e-02+0.0000e+00j, -7.9974e-02+0.0000e+00j,\n",
       "            7.4575e-04+0.0000e+00j,  ...,\n",
       "           -4.3321e-02+0.0000e+00j, -1.8883e-03+0.0000e+00j,\n",
       "            3.9511e-02+0.0000e+00j],\n",
       "          [-7.3813e-02+0.0000e+00j, -8.2722e-02+0.0000e+00j,\n",
       "            1.9621e-03+0.0000e+00j,  ...,\n",
       "           -2.1132e-02+0.0000e+00j, -9.2150e-04+0.0000e+00j,\n",
       "            1.9152e-02+0.0000e+00j],\n",
       "          [-2.5670e-03+0.0000e+00j,  3.1336e-03+0.0000e+00j,\n",
       "            1.3042e-02+0.0000e+00j,  ...,\n",
       "           -6.6356e-02+0.0000e+00j, -5.0980e-03+0.0000e+00j,\n",
       "           -1.3201e-02+0.0000e+00j],\n",
       "          ...,\n",
       "          [-4.2389e-02+0.0000e+00j, -3.5973e-02+0.0000e+00j,\n",
       "           -6.9094e-02+0.0000e+00j,  ...,\n",
       "            1.2852e-02+0.0000e+00j,  5.7261e-03+0.0000e+00j,\n",
       "            2.9037e-03+0.0000e+00j],\n",
       "          [-1.8577e-03+0.0000e+00j, -1.5776e-03+0.0000e+00j,\n",
       "           -5.2014e-03+0.0000e+00j,  ...,\n",
       "            5.7249e-03+0.0000e+00j, -1.1050e-01+0.0000e+00j,\n",
       "            4.9683e-04+0.0000e+00j],\n",
       "          [ 3.5229e-02+0.0000e+00j,  2.9527e-02+0.0000e+00j,\n",
       "           -1.6053e-02+0.0000e+00j,  ...,\n",
       "            2.4936e-03+0.0000e+00j,  4.7786e-04+0.0000e+00j,\n",
       "            1.3442e-02+0.0000e+00j]],\n",
       "\n",
       "         [[-6.1558e-02+7.5336e-07j, -7.7225e-02+3.7430e-05j,\n",
       "           -1.6792e-03+1.3611e-02j,  ...,\n",
       "           -3.7257e-02+1.7643e-02j, -1.6424e-03+7.7538e-04j,\n",
       "            2.7666e-02-1.3928e-02j],\n",
       "          [-7.1335e-02-6.2647e-05j, -8.0022e-02+1.3090e-05j,\n",
       "            1.9363e-03+1.5749e-02j,  ...,\n",
       "           -1.9592e-02+1.8743e-02j, -8.6680e-04+8.2400e-04j,\n",
       "            1.3484e-02-1.4686e-02j],\n",
       "          [ 2.0954e-05-1.3608e-02j,  2.9035e-03-1.8434e-02j,\n",
       "            1.3103e-02-1.5156e-05j,  ...,\n",
       "           -2.0448e-02+4.3021e-02j, -1.3237e-03+2.8139e-04j,\n",
       "            8.3546e-03+3.0686e-02j],\n",
       "          ...,\n",
       "          [-2.9245e-02-2.3982e-02j, -2.3628e-02-2.3522e-02j,\n",
       "           -1.8739e-02-4.3021e-02j,  ...,\n",
       "            1.3302e-02+1.5156e-05j,  6.0211e-03-1.5569e-06j,\n",
       "           -9.8151e-04+2.0409e-04j],\n",
       "          [-1.2847e-03-1.0540e-03j, -1.0350e-03-1.0342e-03j,\n",
       "           -1.2529e-03-2.8157e-04j,  ...,\n",
       "            6.0207e-03-2.6822e-06j, -1.1666e-01+6.1597e-05j,\n",
       "            3.2947e-04+9.3016e-06j],\n",
       "          [ 2.3279e-02+1.8917e-02j,  1.9824e-02+1.8416e-02j,\n",
       "            1.1727e-02-3.0749e-02j,  ...,\n",
       "           -1.1238e-03-1.8148e-04j,  3.2289e-04-8.5311e-06j,\n",
       "            1.1494e-02+1.4576e-05j]],\n",
       "\n",
       "         [[-6.1305e-02-5.6398e-20j, -6.5795e-02-2.6426e-18j,\n",
       "            3.4648e-04-5.9628e-18j,  ...,\n",
       "            1.0354e-03-5.4777e-17j,  5.5561e-05-2.6012e-18j,\n",
       "            2.6282e-03-2.3179e-17j],\n",
       "          [-6.0688e-02-2.4197e-18j, -6.8200e-02-2.6951e-18j,\n",
       "            1.1621e-03-6.0007e-18j,  ...,\n",
       "            1.1109e-03-3.6480e-17j,  5.3833e-05-1.7268e-18j,\n",
       "            8.4071e-04-1.3562e-17j],\n",
       "          [-2.1999e-03+6.0335e-18j,  1.4631e-03+9.3383e-18j,\n",
       "            1.3421e-02-5.9868e-18j,  ...,\n",
       "            3.1996e-02-9.0588e-17j, -1.6269e-04-2.1140e-18j,\n",
       "            1.9775e-02-2.8420e-17j],\n",
       "          ...,\n",
       "          [-2.9249e-03-2.4637e-18j, -3.2577e-03+3.9873e-19j,\n",
       "            2.9257e-02-2.1561e-17j,  ...,\n",
       "            1.3231e-02-5.9264e-18j,  6.4964e-03-3.7784e-19j,\n",
       "           -8.1614e-03+6.3873e-18j],\n",
       "          [-1.2812e-04-1.2225e-19j, -1.4307e-04+7.7255e-21j,\n",
       "           -2.6695e-04-1.5047e-18j,  ...,\n",
       "            6.4953e-03-3.7453e-19j, -1.2744e-01+2.6295e-18j,\n",
       "            2.1826e-05+3.0713e-19j],\n",
       "          [ 2.4537e-03-2.8433e-18j,  2.6043e-03-3.6717e-18j,\n",
       "            1.6651e-02-8.6268e-18j,  ...,\n",
       "           -8.5429e-03+7.5207e-18j,  4.1831e-06+3.5955e-19j,\n",
       "            9.0653e-03+6.6575e-18j]],\n",
       "\n",
       "         ...,\n",
       "\n",
       "         [[-6.1563e-02-3.7200e-08j, -7.7280e-02-5.2090e-07j,\n",
       "           -6.7930e-04-5.6732e-03j,  ...,\n",
       "           -5.5683e-02+1.9886e-04j, -2.5734e-03-1.8292e-05j,\n",
       "            6.7903e-04-9.4186e-03j],\n",
       "          [-7.1389e-02+1.1950e-07j, -8.0099e-02-3.9442e-07j,\n",
       "            2.6222e-03-5.0494e-03j,  ...,\n",
       "           -2.7100e-02-3.4078e-03j, -1.2517e-03-2.0372e-04j,\n",
       "            5.8474e-04-1.5798e-02j],\n",
       "          [-9.5778e-04+5.9259e-03j,  2.7232e-03+6.0014e-03j,\n",
       "            1.0317e-02-7.6747e-08j,  ...,\n",
       "           -5.8670e-02+2.1061e-02j, -2.7345e-03-4.8171e-06j,\n",
       "           -8.2795e-03+3.7885e-03j],\n",
       "          ...,\n",
       "          [-4.8858e-02+4.8478e-03j, -4.0481e-02+7.5801e-03j,\n",
       "           -5.8155e-02-2.0419e-02j,  ...,\n",
       "            1.0312e-02-1.9471e-04j,  5.8214e-03-7.1629e-05j,\n",
       "            2.9336e-03+1.2434e-03j],\n",
       "          [-2.2577e-03+2.5895e-04j, -1.8714e-03+4.0859e-04j,\n",
       "           -2.7138e-03+5.7673e-05j,  ...,\n",
       "            5.8206e-03-7.5439e-05j, -1.1510e-01+1.4291e-03j,\n",
       "            5.1575e-04+5.4769e-05j],\n",
       "          [ 6.8346e-04+1.1899e-02j,  3.1369e-04+1.9875e-02j,\n",
       "           -7.0403e-03-1.2999e-03j,  ...,\n",
       "            2.6834e-03-6.2218e-05j,  5.0418e-04-5.6177e-06j,\n",
       "            1.4852e-02+4.9364e-04j]],\n",
       "\n",
       "         [[-6.1261e-02-8.3966e-07j, -6.3069e-02+4.6311e-05j,\n",
       "           -1.3351e-03+1.0649e-03j,  ...,\n",
       "           -2.9336e-02+3.1979e-02j, -1.3952e-03+1.5172e-03j,\n",
       "           -1.3156e-02+1.3052e-02j],\n",
       "          [-5.8167e-02+1.0798e-05j, -6.5298e-02+7.4454e-05j,\n",
       "            2.2619e-03+4.6250e-03j,  ...,\n",
       "           -1.4192e-02+2.9617e-02j, -6.7479e-04+1.4002e-03j,\n",
       "           -6.3039e-03+1.0417e-02j],\n",
       "          [-2.4380e-04-6.8649e-04j,  2.4124e-03-4.8127e-03j,\n",
       "            8.4771e-03+2.0652e-05j,  ...,\n",
       "           -1.7086e-02+4.4167e-02j, -1.3703e-03+3.7700e-05j,\n",
       "            6.7986e-03+1.3014e-02j],\n",
       "          ...,\n",
       "          [-2.5442e-02-4.9069e-02j, -2.1356e-02-4.0178e-02j,\n",
       "           -1.6571e-02-4.4809e-02j,  ...,\n",
       "            8.4723e-03+1.7413e-04j,  6.5250e-03+7.1095e-05j,\n",
       "            1.8917e-04+6.3236e-04j],\n",
       "          [-1.2105e-03-2.3188e-03j, -1.0162e-03-1.8946e-03j,\n",
       "           -1.3564e-03-8.8974e-05j,  ...,\n",
       "            6.5241e-03+6.4200e-05j, -1.3229e-01-1.3201e-03j,\n",
       "            4.3366e-04+3.1768e-05j],\n",
       "          [-1.1565e-02-1.6894e-02j, -9.7513e-03-1.2452e-02j,\n",
       "            5.7204e-03-1.4961e-02j,  ...,\n",
       "           -1.3729e-04-1.7302e-03j,  4.1856e-04-7.7504e-05j,\n",
       "            1.2990e-02-4.5949e-04j]],\n",
       "\n",
       "         [[-6.1255e-02+1.5464e-06j, -6.2840e-02-9.0518e-05j,\n",
       "           -7.7584e-04-1.1450e-02j,  ...,\n",
       "            8.6165e-03+9.1412e-03j,  4.8806e-04+5.3039e-04j,\n",
       "            3.0675e-02+3.6868e-02j],\n",
       "          [-5.7955e-02-2.0083e-05j, -6.5074e-02-1.4742e-04j,\n",
       "            1.4420e-03-1.8826e-02j,  ...,\n",
       "            4.4702e-03+6.3993e-03j,  2.5134e-04+3.9421e-04j,\n",
       "            1.5278e-02+3.3658e-02j],\n",
       "          [-9.1924e-04+1.1132e-02j,  1.8352e-03+2.0633e-02j,\n",
       "            1.3704e-02-2.6371e-06j,  ...,\n",
       "            1.1421e-02-7.3395e-03j, -5.5746e-05+1.6441e-03j,\n",
       "            1.1707e-02-4.3422e-03j],\n",
       "          ...,\n",
       "          [ 8.2230e-03-7.2067e-03j,  6.1825e-03-4.8183e-03j,\n",
       "            1.1936e-02+7.9816e-03j,  ...,\n",
       "            1.3699e-02-1.9215e-04j,  6.7811e-03-6.1860e-05j,\n",
       "            8.4903e-04+1.2244e-03j],\n",
       "          [ 4.6015e-04-4.8337e-04j,  3.5038e-04-3.4723e-04j,\n",
       "           -3.6778e-05-1.5886e-03j,  ...,\n",
       "            6.7816e-03-6.5581e-05j, -1.3255e-01+1.2197e-03j,\n",
       "            4.4956e-04+5.4415e-05j],\n",
       "          [ 2.7350e-02-5.1410e-02j,  2.2074e-02-4.2616e-02j,\n",
       "            1.2347e-02+7.7264e-03j,  ...,\n",
       "            1.0009e-03-5.0193e-05j,  4.5658e-04-4.5374e-06j,\n",
       "            7.7112e-03+4.6339e-04j]]],\n",
       "\n",
       "\n",
       "        [[[-6.1536e-02+0.0000e+00j, -7.9974e-02+0.0000e+00j,\n",
       "            7.7139e-04+0.0000e+00j,  ...,\n",
       "           -4.6594e-02+0.0000e+00j,  3.4762e-03+0.0000e+00j,\n",
       "            3.5472e-02+0.0000e+00j],\n",
       "          [-7.3813e-02+0.0000e+00j, -8.2722e-02+0.0000e+00j,\n",
       "            2.0813e-03+0.0000e+00j,  ...,\n",
       "           -2.2718e-02+0.0000e+00j,  1.6813e-03+0.0000e+00j,\n",
       "            1.7183e-02+0.0000e+00j],\n",
       "          [-2.6336e-03+0.0000e+00j,  3.1927e-03+0.0000e+00j,\n",
       "            1.2909e-02+0.0000e+00j,  ...,\n",
       "           -6.4367e-02+0.0000e+00j, -3.3477e-03+0.0000e+00j,\n",
       "           -1.2038e-02+0.0000e+00j],\n",
       "          ...,\n",
       "          [-4.5297e-02+0.0000e+00j, -3.8409e-02+0.0000e+00j,\n",
       "           -6.6555e-02+0.0000e+00j,  ...,\n",
       "            1.2616e-02+0.0000e+00j,  2.4829e-03+0.0000e+00j,\n",
       "            2.5751e-03+0.0000e+00j],\n",
       "          [ 2.9955e-03+0.0000e+00j,  2.4984e-03+0.0000e+00j,\n",
       "           -3.7446e-03+0.0000e+00j,  ...,\n",
       "            2.4336e-03+0.0000e+00j, -1.0892e-01+0.0000e+00j,\n",
       "            1.4926e-02+0.0000e+00j],\n",
       "          [ 3.1314e-02+0.0000e+00j,  2.6209e-02+0.0000e+00j,\n",
       "           -1.5096e-02+0.0000e+00j,  ...,\n",
       "            2.1676e-03+0.0000e+00j,  1.4918e-02+0.0000e+00j,\n",
       "            1.2094e-02+0.0000e+00j]],\n",
       "\n",
       "         [[-6.1558e-02+7.5337e-07j, -7.7225e-02+3.7430e-05j,\n",
       "           -1.8168e-03+1.4467e-02j,  ...,\n",
       "           -3.9529e-02+1.8790e-02j,  2.2427e-03-1.1598e-03j,\n",
       "            2.4261e-02-1.2306e-02j],\n",
       "          [-7.1335e-02-6.2647e-05j, -8.0022e-02+1.3090e-05j,\n",
       "            2.0109e-03+1.6776e-02j,  ...,\n",
       "           -2.0696e-02+1.9952e-02j,  1.0534e-03-1.2192e-03j,\n",
       "            1.1705e-02-1.2965e-02j],\n",
       "          [ 1.2773e-04-1.4458e-02j,  2.9998e-03-1.9635e-02j,\n",
       "            1.3407e-02-1.3131e-05j,  ...,\n",
       "           -2.1889e-02+3.7860e-02j,  3.9217e-04+3.4899e-03j,\n",
       "            7.6819e-03+2.8962e-02j],\n",
       "          ...,\n",
       "          [-3.1163e-02-2.5541e-02j, -2.5265e-02-2.5038e-02j,\n",
       "           -2.0749e-02-3.7860e-02j,  ...,\n",
       "            1.3703e-02+1.3131e-05j,  2.1729e-03+2.3702e-05j,\n",
       "           -1.0397e-03+2.0276e-04j],\n",
       "          [ 1.9453e-03+1.5748e-03j,  1.6918e-03+1.5282e-03j,\n",
       "            8.2052e-04-3.4974e-03j,  ...,\n",
       "            2.1557e-03-2.2698e-05j, -1.1505e-01+6.1073e-05j,\n",
       "            1.5293e-02-1.8303e-06j],\n",
       "          [ 2.0589e-02+1.6713e-02j,  1.7639e-02+1.6256e-02j,\n",
       "            1.1110e-02-2.9025e-02j,  ...,\n",
       "           -1.1812e-03-1.8036e-04j,  1.5291e-02-8.5715e-06j,\n",
       "            9.4824e-03+1.7125e-05j]],\n",
       "\n",
       "         [[-6.1305e-02-9.1399e-20j, -6.5795e-02-3.8272e-18j,\n",
       "            3.7093e-04-6.7414e-18j,  ...,\n",
       "            8.0676e-04-6.6446e-17j,  3.3954e-04-3.8068e-18j,\n",
       "            2.6863e-03-2.1779e-17j],\n",
       "          [-6.0688e-02-3.5296e-18j, -6.8200e-02-4.0155e-18j,\n",
       "            1.1846e-03-1.0243e-17j,  ...,\n",
       "            1.0355e-03-4.6441e-17j,  1.3017e-04-2.5471e-18j,\n",
       "            9.2435e-04-1.4284e-17j],\n",
       "          [-2.2757e-03+6.5192e-18j,  1.3985e-03+1.3060e-17j,\n",
       "            1.5177e-02-4.8244e-18j,  ...,\n",
       "            2.8634e-02-9.9917e-17j,  2.1649e-03-3.5033e-18j,\n",
       "            1.9056e-02-2.6131e-17j],\n",
       "          ...,\n",
       "          [-3.1275e-03+9.0612e-18j, -3.4723e-03+1.0649e-17j,\n",
       "            2.6446e-02-9.0443e-18j,  ...,\n",
       "            1.4884e-02-4.4430e-18j,  1.5542e-03+7.1243e-19j,\n",
       "           -7.8884e-03+6.9216e-18j],\n",
       "          [ 2.0939e-04+7.8963e-19j,  2.1801e-04+5.8757e-19j,\n",
       "            1.7353e-03-1.1475e-19j,  ...,\n",
       "            1.5083e-03+9.0075e-19j, -1.2578e-01+2.7760e-18j,\n",
       "            1.6028e-02+4.1245e-19j],\n",
       "          [ 2.1833e-03+5.2034e-18j,  2.3045e-03+3.3042e-18j,\n",
       "            1.5728e-02+2.3004e-18j,  ...,\n",
       "           -8.2675e-03+8.4766e-18j,  1.6022e-02+4.3981e-19j,\n",
       "            5.7448e-03+5.1101e-18j]],\n",
       "\n",
       "         ...,\n",
       "\n",
       "         [[-6.1563e-02-3.7204e-08j, -7.7280e-02-5.2107e-07j,\n",
       "           -7.0832e-04-3.9376e-03j,  ...,\n",
       "           -5.5585e-02+1.0074e-03j, -1.4593e-03-1.1087e-03j,\n",
       "           -3.9737e-03-9.3009e-03j],\n",
       "          [-7.1389e-02+1.1944e-07j, -8.0099e-02-3.9436e-07j,\n",
       "            2.6794e-03-3.1360e-03j,  ...,\n",
       "           -2.7074e-02-2.0411e-03j, -6.8014e-04-1.9631e-03j,\n",
       "           -1.6824e-03-1.5912e-02j],\n",
       "          [-9.6854e-04+4.1700e-03j,  2.8530e-03+3.7553e-03j,\n",
       "            1.0092e-02-9.4224e-07j,  ...,\n",
       "           -5.7214e-02+2.0494e-02j, -2.3396e-03+3.2350e-04j,\n",
       "           -1.1015e-02+2.8034e-03j],\n",
       "          ...,\n",
       "          [-4.8780e-02+3.8120e-03j, -4.0395e-02+5.8515e-03j,\n",
       "           -5.6690e-02-2.0290e-02j,  ...,\n",
       "            1.0090e-02-2.9374e-04j,  2.4817e-03+1.1151e-04j,\n",
       "            2.2639e-03+1.1715e-03j],\n",
       "          [-1.2701e-03+1.5417e-03j, -1.0822e-03+2.5608e-03j,\n",
       "           -2.1749e-03-1.7408e-06j,  ...,\n",
       "            2.4516e-03-4.5618e-05j, -1.1343e-01+1.4219e-03j,\n",
       "            1.5636e-02-8.0224e-05j],\n",
       "          [-3.3999e-03+1.2176e-02j, -3.0669e-03+2.0294e-02j,\n",
       "           -9.7108e-03-2.2630e-04j,  ...,\n",
       "            2.0153e-03-1.2587e-04j,  1.5632e-02-1.0305e-04j,\n",
       "            1.3408e-02+5.9986e-04j]],\n",
       "\n",
       "         [[-6.1261e-02-8.3966e-07j, -6.3069e-02+4.6311e-05j,\n",
       "           -1.2852e-03+1.9860e-03j,  ...,\n",
       "           -2.8123e-02+3.0768e-02j, -2.3675e-03+2.4283e-03j,\n",
       "           -1.5462e-02+1.5580e-02j],\n",
       "          [-5.8167e-02+1.0798e-05j, -6.5298e-02+7.4454e-05j,\n",
       "            2.2935e-03+6.1536e-03j,  ...,\n",
       "           -1.3611e-02+2.8639e-02j, -1.1382e-03+2.0512e-03j,\n",
       "           -7.4202e-03+1.2776e-02j],\n",
       "          [-3.4476e-04-1.5808e-03j,  2.4714e-03-6.4858e-03j,\n",
       "            8.7563e-03+2.8487e-05j,  ...,\n",
       "           -1.7994e-02+4.1764e-02j, -5.1995e-05+1.8032e-03j,\n",
       "            4.0693e-03+1.5238e-02j],\n",
       "          ...,\n",
       "          [-2.4377e-02-4.7481e-02j, -2.0459e-02-3.8996e-02j,\n",
       "           -1.7470e-02-4.1968e-02j,  ...,\n",
       "            8.7544e-03+2.6619e-04j,  2.4327e-03+1.1122e-04j,\n",
       "           -4.4897e-04+6.8738e-04j],\n",
       "          [-2.0716e-03-3.3553e-03j, -1.7441e-03-2.5840e-03j,\n",
       "           -1.6622e-04-2.0597e-03j,  ...,\n",
       "            2.3935e-03-1.7311e-04j, -1.3045e-01-1.3135e-03j,\n",
       "            1.7367e-02+1.0474e-04j],\n",
       "          [-1.3564e-02-2.0806e-02j, -1.1428e-02-1.5670e-02j,\n",
       "            3.0712e-03-1.7277e-02j,  ...,\n",
       "           -7.7336e-04-1.6602e-03j,  1.7361e-02+6.3438e-05j,\n",
       "            1.0866e-02-5.5813e-04j]],\n",
       "\n",
       "         [[-6.1255e-02+1.5464e-06j, -6.2840e-02-9.0518e-05j,\n",
       "           -8.0577e-04-1.1246e-02j,  ...,\n",
       "            5.9572e-03+5.9484e-03j,  3.8671e-03+4.6142e-03j,\n",
       "            3.1065e-02+3.7234e-02j],\n",
       "          [-5.7955e-02-2.0083e-05j, -6.5074e-02-1.4742e-04j,\n",
       "            1.4836e-03-1.8795e-02j,  ...,\n",
       "            3.1452e-03+3.4900e-03j,  1.9310e-03+4.1587e-03j,\n",
       "            1.5487e-02+3.3830e-02j],\n",
       "          [-9.3039e-04+1.0897e-02j,  1.9520e-03+2.0572e-02j,\n",
       "            1.3761e-02-4.2387e-06j,  ...,\n",
       "            9.1777e-03-6.7499e-03j,  1.5479e-03+5.3541e-04j,\n",
       "            1.3389e-02-8.6901e-04j],\n",
       "          ...,\n",
       "          [ 5.8505e-03-2.7700e-03j,  4.2690e-03-1.1438e-03j,\n",
       "            9.7019e-03+6.9542e-03j,  ...,\n",
       "            1.3760e-02-2.9044e-04j,  2.7103e-03+1.1327e-04j,\n",
       "            1.0768e-03+1.1551e-03j],\n",
       "          [ 3.4629e-03-6.2811e-03j,  2.7823e-03-5.1747e-03j,\n",
       "            1.6405e-03-1.0587e-04j,  ...,\n",
       "            2.7286e-03-4.0123e-05j, -1.3078e-01+1.2147e-03j,\n",
       "            1.6822e-02-5.9117e-05j],\n",
       "          [ 2.7742e-02-5.1460e-02j,  2.2352e-02-4.2560e-02j,\n",
       "            1.4098e-02+4.3360e-03j,  ...,\n",
       "            1.2278e-03-1.1147e-04j,  1.6825e-02-8.1402e-05j,\n",
       "            5.8804e-03+5.6668e-04j]]]], device='cuda:0',\n",
       "       dtype=torch.complex128, grad_fn=<StackBackward0>)"
      ]
     },
     "execution_count": 38,
     "metadata": {},
     "output_type": "execute_result"
    }
   ],
   "source": [
    "rkmat"
   ]
  },
  {
   "cell_type": "code",
   "execution_count": 22,
   "id": "7274c7b4",
   "metadata": {},
   "outputs": [
    {
     "data": {
      "text/plain": [
       "torch.Size([3, 10, 10])"
      ]
     },
     "execution_count": 22,
     "metadata": {},
     "output_type": "execute_result"
    }
   ],
   "source": [
    "rmat[0,0,0].shape"
   ]
  },
  {
   "cell_type": "code",
   "execution_count": null,
   "id": "a5c8673b",
   "metadata": {},
   "outputs": [],
   "source": []
  },
  {
   "cell_type": "code",
   "execution_count": null,
   "id": "07bca0f1",
   "metadata": {},
   "outputs": [],
   "source": []
  },
  {
   "cell_type": "code",
   "execution_count": null,
   "id": "790f329b",
   "metadata": {},
   "outputs": [],
   "source": []
  },
  {
   "cell_type": "code",
   "execution_count": null,
   "id": "a60ba2ed",
   "metadata": {},
   "outputs": [],
   "source": []
  },
  {
   "cell_type": "markdown",
   "id": "50d1b99e",
   "metadata": {},
   "source": [
    "## band structure"
   ]
  },
  {
   "cell_type": "code",
   "execution_count": 374,
   "id": "4abe0d89",
   "metadata": {},
   "outputs": [],
   "source": [
    "overlaps_k = []\n",
    "for i in range(len(frames)):\n",
    "    s = np.load('examples/data/periodic/c2/results_C2_rotated/unitcell/unitcell_over_{}.npy'.format(i))\n",
    "    sk=[]\n",
    "    for k in range(s.shape[0]):\n",
    "        sk.append(fix_orbital_order(s[k], frames[i], orbs))\n",
    "    overlaps_k.append(np.asarray(sk))"
   ]
  },
  {
   "cell_type": "code",
   "execution_count": 377,
   "id": "cbd79b2a",
   "metadata": {},
   "outputs": [
    {
     "data": {
      "text/plain": [
       "torch.Size([16, 3, 10, 10])"
      ]
     },
     "execution_count": 377,
     "metadata": {},
     "output_type": "execute_result"
    }
   ],
   "source": [
    "recons_kpt_target.shape"
   ]
  },
  {
   "cell_type": "code",
   "execution_count": 393,
   "id": "6927f468",
   "metadata": {},
   "outputs": [
    {
     "data": {
      "text/plain": [
       "array([[ 0.        ,  0.        ,  0.        ],\n",
       "       [-0.23126954,  0.34712315, -0.02190167],\n",
       "       [-0.46253907,  0.6942463 , -0.04380333],\n",
       "       [-0.69380861,  1.04136945, -0.065705  ],\n",
       "       [ 0.18718375,  0.38441623,  0.02943425],\n",
       "       [-0.04408578,  0.73153938,  0.00753258],\n",
       "       [-0.27535532,  1.07866253, -0.01436909],\n",
       "       [-0.50662486,  1.42578568, -0.03627075],\n",
       "       [ 0.37436751,  0.76883247,  0.05886849],\n",
       "       [ 0.14309797,  1.11595562,  0.03696683],\n",
       "       [-0.08817157,  1.46307877,  0.01506516],\n",
       "       [-0.3194411 ,  1.81020192, -0.0068365 ],\n",
       "       [ 0.56155126,  1.1532487 ,  0.08830274],\n",
       "       [ 0.33028172,  1.50037185,  0.06640107],\n",
       "       [ 0.09901219,  1.847495  ,  0.04449941],\n",
       "       [-0.13225735,  2.19461815,  0.02259774]])"
      ]
     },
     "execution_count": 393,
     "metadata": {},
     "output_type": "execute_result"
    }
   ],
   "source": [
    "kpts"
   ]
  },
  {
   "cell_type": "code",
   "execution_count": 440,
   "id": "466d02c2",
   "metadata": {},
   "outputs": [],
   "source": [
    "import scipy\n",
    "eva = []\n",
    "eva_actual = []\n",
    "kkfock = np.load('examples/data/periodic/c2/results_{}/unitcell/unitcell_fock_{}.npy'.format('C2_rotated', 0))\n",
    "\n",
    "for k in range(Nk):\n",
    "    band_all_ =[]\n",
    "    band_all_actual = []\n",
    "    for f in range(len(frames)):\n",
    "        Hk = recons_kpt_target[k,f]\n",
    "        Sk = overlaps_k[f,k]\n",
    "        band_all_.append(scipy.linalg.eigvalsh(Hk, Sk)*27.2)\n",
    "        band_all_actual.append(scipy.linalg.eigvalsh(kkfock[k], Sk)*27.2)\n",
    "    eva.append(band_all_)\n",
    "    eva_actual.append(band_all_actual)\n",
    "    # Hk = recons_kpt_target[k]\n",
    "    # Sk = overlaps_k[:,k]\n",
    "    # eva.append(scipy.linalg.eigvalsh(Hk, Sk)*27.2)\n",
    "eva = np.array(eva)\n",
    "eva_actual = np.array(eva_actual)\n",
    "# print(eva.shape)"
   ]
  },
  {
   "cell_type": "code",
   "execution_count": 420,
   "id": "4a3a27f8",
   "metadata": {},
   "outputs": [],
   "source": [
    "from ase.dft.kpoints import ibz_points, get_bandpath\n",
    "\n",
    "path = get_bandpath(kpts_scaled, frame.cell, npoints=Nk)"
   ]
  },
  {
   "cell_type": "code",
   "execution_count": 441,
   "id": "c123f1b7",
   "metadata": {},
   "outputs": [
    {
     "data": {
      "text/plain": [
       "((16, 3, 10), (16, 3, 10))"
      ]
     },
     "execution_count": 441,
     "metadata": {},
     "output_type": "execute_result"
    }
   ],
   "source": [
    "eva.shape, eva_actual.shape"
   ]
  },
  {
   "cell_type": "code",
   "execution_count": 422,
   "id": "c67722f3",
   "metadata": {},
   "outputs": [],
   "source": [
    "x2, X2, labels = path.get_linear_kpoint_axis()\n",
    "labels = [label.replace('G', '\\Gamma') for label in labels]"
   ]
  },
  {
   "cell_type": "code",
   "execution_count": 444,
   "id": "f048cd2e",
   "metadata": {},
   "outputs": [
    {
     "data": {
      "image/png": "[encoded data removed]",
      "text/plain": [
       "<Figure size 640x480 with 1 Axes>"
      ]
     },
     "metadata": {},
     "output_type": "display_data"
    }
   ],
   "source": [
    "nkpoints = int(Nk / (len(labels) - 1))\n",
    "x1 = list(range(Nk))\n",
    "# X1 = [x1[0]] + x1[nkpoints - 1::nkpoints]\n",
    "\n",
    "# plt.xticks(X1, ['$%s$' % n for n in labels])\n",
    "\n",
    "# Create plot\n",
    "for iband in range(nao):\n",
    "    band = eva[:, 0, iband] \n",
    "    plt.plot(x1, band, color='b')\n",
    "\n",
    "    # Change range:\n",
    "    # plt.ylim(ylim)\n",
    "    \n",
    "for iband in range(nao):\n",
    "    band = eva_actual[:, 0, iband] \n",
    "    plt.plot(x1, band, color='r', ls = '', marker = '.')"
   ]
  },
  {
   "cell_type": "code",
   "execution_count": null,
   "id": "9be8eba9",
   "metadata": {},
   "outputs": [],
   "source": []
  },
  {
   "cell_type": "code",
   "execution_count": 418,
   "id": "f07daf7e",
   "metadata": {},
   "outputs": [
    {
     "data": {
      "text/plain": [
       "array([[ 0.        ,  0.        ],\n",
       "       [-0.0824324 ,  0.21430091],\n",
       "       [-0.16486481,  0.42860182],\n",
       "       [-0.24729721,  0.64290273],\n",
       "       [ 0.06671872,  0.23732427],\n",
       "       [-0.01571369,  0.45162518],\n",
       "       [-0.09814609,  0.6659261 ],\n",
       "       [-0.1805785 ,  0.88022701],\n",
       "       [ 0.13343743,  0.47464855],\n",
       "       [ 0.05100503,  0.68894946],\n",
       "       [-0.03142737,  0.90325037],\n",
       "       [-0.11385978,  1.11755128],\n",
       "       [ 0.20015615,  0.71197282],\n",
       "       [ 0.11772375,  0.92627373],\n",
       "       [ 0.03529134,  1.14057464],\n",
       "       [-0.04714106,  1.35487555]])"
      ]
     },
     "execution_count": 418,
     "metadata": {},
     "output_type": "execute_result"
    }
   ],
   "source": [
    "hunit = frames[0].cell\n",
    "v = np.linalg.det(hunit)\n",
    "kh = np.array([\n",
    "    np.cross(hunit[1],hunit[2])*2*np.pi/v,\n",
    "    np.cross(hunit[2],hunit[0])*2*np.pi/v,\n",
    "    np.cross(hunit[0],hunit[1])*2*np.pi/v,\n",
    "])\n",
    "kpts[:,:2]/kh[0][:2]"
   ]
  },
  {
   "cell_type": "code",
   "execution_count": 394,
   "id": "e3dc63c4",
   "metadata": {},
   "outputs": [
    {
     "data": {
      "text/plain": [
       "(16, 3, 10)"
      ]
     },
     "execution_count": 394,
     "metadata": {},
     "output_type": "execute_result"
    }
   ],
   "source": [
    "eva.shape"
   ]
  },
  {
   "cell_type": "code",
   "execution_count": 388,
   "id": "15b82603",
   "metadata": {},
   "outputs": [
    {
     "data": {
      "text/plain": [
       "(16, 3, 10)"
      ]
     },
     "execution_count": 388,
     "metadata": {},
     "output_type": "execute_result"
    }
   ],
   "source": [
    "eva.shape"
   ]
  },
  {
   "cell_type": "code",
   "execution_count": 407,
   "id": "1826e2c0",
   "metadata": {},
   "outputs": [
    {
     "data": {
      "image/png": "[encoded data removed]",
      "text/plain": [
       "<Figure size 640x480 with 1 Axes>"
      ]
     },
     "metadata": {},
     "output_type": "display_data"
    }
   ],
   "source": [
    "# for i in range(eva.shape[2]):\n",
    "#     plt.plot(range(10), eva[i,0,:])\n",
    "# plt.ylim(-15,18)\n",
    "for b in range(nao):\n",
    "    plt.plot(kpts[:,0], eva[:,0,b], marker='.', ls='--')"
   ]
  },
  {
   "cell_type": "code",
   "execution_count": 392,
   "id": "6e60c502",
   "metadata": {},
   "outputs": [
    {
     "ename": "NameError",
     "evalue": "name 'kh' is not defined",
     "output_type": "error",
     "traceback": [
      "\u001b[0;31m---------------------------------------------------------------------------\u001b[0m",
      "\u001b[0;31mNameError\u001b[0m                                 Traceback (most recent call last)",
      "Cell \u001b[0;32mIn[392], line 2\u001b[0m\n\u001b[1;32m      1\u001b[0m qgrid \u001b[38;5;241m=\u001b[39m np\u001b[38;5;241m.\u001b[39mlinspace(\u001b[38;5;241m0\u001b[39m,\u001b[38;5;241m0.5\u001b[39m,\u001b[38;5;241m20\u001b[39m)\n\u001b[0;32m----> 2\u001b[0m kgrid \u001b[38;5;241m=\u001b[39m \u001b[43m[\u001b[49m\u001b[43mkh\u001b[49m\u001b[43m[\u001b[49m\u001b[38;5;241;43m0\u001b[39;49m\u001b[43m]\u001b[49m\u001b[43m \u001b[49m\u001b[38;5;241;43m*\u001b[39;49m\u001b[43m \u001b[49m\u001b[43mx\u001b[49m\u001b[43m \u001b[49m\u001b[38;5;28;43;01mfor\u001b[39;49;00m\u001b[43m \u001b[49m\u001b[43mx\u001b[49m\u001b[43m \u001b[49m\u001b[38;5;129;43;01min\u001b[39;49;00m\u001b[43m \u001b[49m\u001b[43mqgrid\u001b[49m\u001b[43m]\u001b[49m\n",
      "Cell \u001b[0;32mIn[392], line 2\u001b[0m, in \u001b[0;36m<listcomp>\u001b[0;34m(.0)\u001b[0m\n\u001b[1;32m      1\u001b[0m qgrid \u001b[38;5;241m=\u001b[39m np\u001b[38;5;241m.\u001b[39mlinspace(\u001b[38;5;241m0\u001b[39m,\u001b[38;5;241m0.5\u001b[39m,\u001b[38;5;241m20\u001b[39m)\n\u001b[0;32m----> 2\u001b[0m kgrid \u001b[38;5;241m=\u001b[39m [\u001b[43mkh\u001b[49m[\u001b[38;5;241m0\u001b[39m] \u001b[38;5;241m*\u001b[39m x \u001b[38;5;28;01mfor\u001b[39;00m x \u001b[38;5;129;01min\u001b[39;00m qgrid]\n",
      "\u001b[0;31mNameError\u001b[0m: name 'kh' is not defined"
     ]
    }
   ],
   "source": [
    "qgrid = np.linspace(0,0.5,20)\n",
    "kgrid = [kh[0] * x for x in qgrid]"
   ]
  },
  {
   "cell_type": "code",
   "execution_count": null,
   "id": "29674c3e",
   "metadata": {},
   "outputs": [],
   "source": []
  },
  {
   "cell_type": "code",
   "execution_count": null,
   "id": "3217b112",
   "metadata": {},
   "outputs": [],
   "source": [
    "model = LinearModelPeriodic(feat_plus, feat_minus, target_coupled_blocks_sum, target_coupled_blocks_diff, desired_shifts, frames, orbs, nhidden=16, nlayers=2)"
   ]
  },
  {
   "cell_type": "code",
   "execution_count": null,
   "id": "0a50ed42",
   "metadata": {},
   "outputs": [
    {
     "name": "stdout",
     "output_type": "stream",
     "text": [
      "0.16023802757263184\n",
      "0.031491734087467194\n",
      "0.009251020848751068\n",
      "0.003096561646088958\n",
      "0.0009399798000231385\n",
      "0.0004689812776632607\n",
      "0.00024364719865843654\n",
      "0.00017960922559723258\n",
      "0.00014655283303000033\n",
      "0.00012858735863119364\n",
      "0.0001240893907379359\n",
      "0.00012232616427354515\n",
      "0.00012163409701315686\n",
      "0.00012134024291299284\n",
      "0.00012129032984375954\n",
      "0.00012125116336392239\n",
      "0.00012124008208047599\n",
      "0.00012123619671911001\n",
      "0.00012123472697567195\n",
      "0.0001212342904182151\n",
      "0.00012123407941544428\n",
      "0.00012123402848374099\n",
      "0.00012123401393182576\n",
      "0.00012123399937991053\n"
     ]
    },
    {
     "ename": "KeyboardInterrupt",
     "evalue": "",
     "output_type": "error",
     "traceback": [
      "\u001b[0;31m---------------------------------------------------------------------------\u001b[0m",
      "\u001b[0;31mKeyboardInterrupt\u001b[0m                         Traceback (most recent call last)",
      "\u001b[1;32m/home/nigam/scratch/MAC/k-hamiltonian/learn_kin.ipynb Cell 47\u001b[0m line \u001b[0;36m6\n\u001b[1;32m      <a href='vscode-notebook-cell://ssh-remote%2Bcosmopc/home/nigam/scratch/MAC/k-hamiltonian/learn_kin.ipynb#Y236sdnNjb2RlLXJlbW90ZQ%3D%3D?line=3'>4</a>\u001b[0m \u001b[39mfor\u001b[39;00m i \u001b[39min\u001b[39;00m \u001b[39mrange\u001b[39m(\u001b[39m300\u001b[39m):\n\u001b[1;32m      <a href='vscode-notebook-cell://ssh-remote%2Bcosmopc/home/nigam/scratch/MAC/k-hamiltonian/learn_kin.ipynb#Y236sdnNjb2RlLXJlbW90ZQ%3D%3D?line=4'>5</a>\u001b[0m     optimizer\u001b[39m.\u001b[39mzero_grad()\n\u001b[0;32m----> <a href='vscode-notebook-cell://ssh-remote%2Bcosmopc/home/nigam/scratch/MAC/k-hamiltonian/learn_kin.ipynb#Y236sdnNjb2RlLXJlbW90ZQ%3D%3D?line=5'>6</a>\u001b[0m     rsum, rdiff \u001b[39m=\u001b[39m model\u001b[39m.\u001b[39;49mforward()\n\u001b[1;32m      <a href='vscode-notebook-cell://ssh-remote%2Bcosmopc/home/nigam/scratch/MAC/k-hamiltonian/learn_kin.ipynb#Y236sdnNjb2RlLXJlbW90ZQ%3D%3D?line=6'>7</a>\u001b[0m     loss \u001b[39m=\u001b[39m loss_fn_combined(rsum, rdiff, expkL_small, small_shifts_target)\n\u001b[1;32m      <a href='vscode-notebook-cell://ssh-remote%2Bcosmopc/home/nigam/scratch/MAC/k-hamiltonian/learn_kin.ipynb#Y236sdnNjb2RlLXJlbW90ZQ%3D%3D?line=7'>8</a>\u001b[0m     loss\u001b[39m.\u001b[39mbackward()\n",
      "\u001b[1;32m/home/nigam/scratch/MAC/k-hamiltonian/learn_kin.ipynb Cell 47\u001b[0m line \u001b[0;36m6\n\u001b[1;32m     <a href='vscode-notebook-cell://ssh-remote%2Bcosmopc/home/nigam/scratch/MAC/k-hamiltonian/learn_kin.ipynb#Y236sdnNjb2RlLXJlbW90ZQ%3D%3D?line=59'>60</a>\u001b[0m     pred_diff_tmap \u001b[39m=\u001b[39m TensorMap(\u001b[39mself\u001b[39m\u001b[39m.\u001b[39mtarget_blocks_diff[\u001b[39mstr\u001b[39m(s)]\u001b[39m.\u001b[39mkeys, pred_blocks_diff)   \n\u001b[1;32m     <a href='vscode-notebook-cell://ssh-remote%2Bcosmopc/home/nigam/scratch/MAC/k-hamiltonian/learn_kin.ipynb#Y236sdnNjb2RlLXJlbW90ZQ%3D%3D?line=61'>62</a>\u001b[0m     \u001b[39mself\u001b[39m\u001b[39m.\u001b[39mrecon_sum[\u001b[39mstr\u001b[39m(s)] \u001b[39m=\u001b[39m _to_matrix(_to_uncoupled_basis(pred_sum_tmap), frames \u001b[39m=\u001b[39m \u001b[39mself\u001b[39m\u001b[39m.\u001b[39mframes, orbitals\u001b[39m=\u001b[39m\u001b[39mself\u001b[39m\u001b[39m.\u001b[39morbitals)\n\u001b[0;32m---> <a href='vscode-notebook-cell://ssh-remote%2Bcosmopc/home/nigam/scratch/MAC/k-hamiltonian/learn_kin.ipynb#Y236sdnNjb2RlLXJlbW90ZQ%3D%3D?line=62'>63</a>\u001b[0m     \u001b[39mself\u001b[39m\u001b[39m.\u001b[39mrecon_diff[\u001b[39mstr\u001b[39m(s)] \u001b[39m=\u001b[39m _to_matrix(_to_uncoupled_basis(pred_diff_tmap), frames \u001b[39m=\u001b[39m \u001b[39mself\u001b[39m\u001b[39m.\u001b[39mframes, orbitals\u001b[39m=\u001b[39m\u001b[39mself\u001b[39m\u001b[39m.\u001b[39morbitals, hermitian\u001b[39m=\u001b[39m\u001b[39mFalse\u001b[39;00m)\n\u001b[1;32m     <a href='vscode-notebook-cell://ssh-remote%2Bcosmopc/home/nigam/scratch/MAC/k-hamiltonian/learn_kin.ipynb#Y236sdnNjb2RlLXJlbW90ZQ%3D%3D?line=64'>65</a>\u001b[0m \u001b[39mreturn\u001b[39;00m \u001b[39mself\u001b[39m\u001b[39m.\u001b[39mrecon_sum, \u001b[39mself\u001b[39m\u001b[39m.\u001b[39mrecon_diff\n",
      "File \u001b[0;32m/media/nigam/b5749eb7-d3f1-4495-adeb-2c318fb7d0de/MAC/my_mlelec/src/mlelec/utils/twocenter_utils.py:544\u001b[0m, in \u001b[0;36m_to_uncoupled_basis\u001b[0;34m(blocks, cg, device)\u001b[0m\n\u001b[1;32m    533\u001b[0m     new_block \u001b[39m=\u001b[39m block_builder\u001b[39m.\u001b[39madd_block(\n\u001b[1;32m    534\u001b[0m         keys\u001b[39m=\u001b[39mblock_idx,\n\u001b[1;32m    535\u001b[0m         properties\u001b[39m=\u001b[39mnp\u001b[39m.\u001b[39masarray([[\u001b[39m0\u001b[39m]], dtype\u001b[39m=\u001b[39mnp\u001b[39m.\u001b[39mint32),\n\u001b[1;32m    536\u001b[0m         components\u001b[39m=\u001b[39m[_components_idx(li), _components_idx(lj)],\n\u001b[1;32m    537\u001b[0m     )\n\u001b[1;32m    538\u001b[0m     new_block\u001b[39m.\u001b[39madd_samples(\n\u001b[1;32m    539\u001b[0m         labels\u001b[39m=\u001b[39mnp\u001b[39m.\u001b[39masarray(block\u001b[39m.\u001b[39msamples\u001b[39m.\u001b[39mvalues)\u001b[39m.\u001b[39mreshape(\n\u001b[1;32m    540\u001b[0m             block\u001b[39m.\u001b[39msamples\u001b[39m.\u001b[39mvalues\u001b[39m.\u001b[39mshape[\u001b[39m0\u001b[39m], \u001b[39m-\u001b[39m\u001b[39m1\u001b[39m\n\u001b[1;32m    541\u001b[0m         ),\n\u001b[1;32m    542\u001b[0m         data\u001b[39m=\u001b[39mtorch\u001b[39m.\u001b[39mmoveaxis(decoupled, \u001b[39m1\u001b[39m, \u001b[39m-\u001b[39m\u001b[39m1\u001b[39m),\n\u001b[1;32m    543\u001b[0m     )\n\u001b[0;32m--> 544\u001b[0m \u001b[39mreturn\u001b[39;00m block_builder\u001b[39m.\u001b[39;49mbuild()\n",
      "File \u001b[0;32m/media/nigam/b5749eb7-d3f1-4495-adeb-2c318fb7d0de/MAC/my_mlelec/src/mlelec/utils/metatensor_utils.py:86\u001b[0m, in \u001b[0;36mTensorBuilder.build\u001b[0;34m(self)\u001b[0m\n\u001b[1;32m     84\u001b[0m     blocks\u001b[39m.\u001b[39mappend(block\u001b[39m.\u001b[39mbuild())\n\u001b[1;32m     85\u001b[0m \u001b[39melif\u001b[39;00m \u001b[39misinstance\u001b[39m(block, TensorBuilderPerSamples):\n\u001b[0;32m---> 86\u001b[0m     blocks\u001b[39m.\u001b[39mappend(block\u001b[39m.\u001b[39;49mbuild())\n\u001b[1;32m     87\u001b[0m \u001b[39melse\u001b[39;00m:\n\u001b[1;32m     88\u001b[0m     \u001b[39mException\u001b[39;00m(\u001b[39m\"\u001b[39m\u001b[39mInvalid block type\u001b[39m\u001b[39m\"\u001b[39m)\n",
      "File \u001b[0;32m/media/nigam/b5749eb7-d3f1-4495-adeb-2c318fb7d0de/MAC/my_mlelec/src/mlelec/utils/metatensor_utils.py:129\u001b[0m, in \u001b[0;36mTensorBuilderPerSamples.build\u001b[0;34m(self)\u001b[0m\n\u001b[1;32m    127\u001b[0m \u001b[39mdef\u001b[39;00m \u001b[39mbuild\u001b[39m(\u001b[39mself\u001b[39m):\n\u001b[1;32m    128\u001b[0m     samples \u001b[39m=\u001b[39m Labels(\u001b[39mself\u001b[39m\u001b[39m.\u001b[39m_sample_names, np\u001b[39m.\u001b[39mvstack(\u001b[39mself\u001b[39m\u001b[39m.\u001b[39m_samples))\n\u001b[0;32m--> 129\u001b[0m     block \u001b[39m=\u001b[39m TensorBlock(\n\u001b[1;32m    130\u001b[0m         values\u001b[39m=\u001b[39;49mtorch\u001b[39m.\u001b[39;49mcat(\u001b[39mself\u001b[39;49m\u001b[39m.\u001b[39;49m_data, axis\u001b[39m=\u001b[39;49m\u001b[39m0\u001b[39;49m),\n\u001b[1;32m    131\u001b[0m         samples\u001b[39m=\u001b[39;49msamples,\n\u001b[1;32m    132\u001b[0m         components\u001b[39m=\u001b[39;49m\u001b[39mself\u001b[39;49m\u001b[39m.\u001b[39;49m_components,\n\u001b[1;32m    133\u001b[0m         properties\u001b[39m=\u001b[39;49m\u001b[39mself\u001b[39;49m\u001b[39m.\u001b[39;49m_properties,\n\u001b[1;32m    134\u001b[0m     )\n\u001b[1;32m    136\u001b[0m     \u001b[39mif\u001b[39;00m \u001b[39mself\u001b[39m\u001b[39m.\u001b[39m_gradient_samples \u001b[39mis\u001b[39;00m \u001b[39mnot\u001b[39;00m \u001b[39mNone\u001b[39;00m:\n\u001b[1;32m    137\u001b[0m         \u001b[39mraise\u001b[39;00m (\u001b[39mException\u001b[39;00m(\u001b[39m\"\u001b[39m\u001b[39mGradient data not implemented for BlockBuilderSamples\u001b[39m\u001b[39m\"\u001b[39m))\n",
      "File \u001b[0;32m~/miniconda3/envs/py39/lib/python3.9/site-packages/metatensor/block.py:72\u001b[0m, in \u001b[0;36mTensorBlock.__init__\u001b[0;34m(self, values, samples, components, properties)\u001b[0m\n\u001b[1;32m     69\u001b[0m \u001b[39mfor\u001b[39;00m i, component \u001b[39min\u001b[39;00m \u001b[39menumerate\u001b[39m(components):\n\u001b[1;32m     70\u001b[0m     components_array[i] \u001b[39m=\u001b[39m component\u001b[39m.\u001b[39m_as_mts_labels_t()\n\u001b[0;32m---> 72\u001b[0m values \u001b[39m=\u001b[39m ArrayWrapper(values)\n\u001b[1;32m     74\u001b[0m \u001b[39mself\u001b[39m\u001b[39m.\u001b[39m_actual_ptr \u001b[39m=\u001b[39m \u001b[39mself\u001b[39m\u001b[39m.\u001b[39m_lib\u001b[39m.\u001b[39mmts_block(\n\u001b[1;32m     75\u001b[0m     values\u001b[39m.\u001b[39minto_mts_array(),\n\u001b[1;32m     76\u001b[0m     samples\u001b[39m.\u001b[39m_as_mts_labels_t(),\n\u001b[0;32m   (...)\u001b[0m\n\u001b[1;32m     79\u001b[0m     properties\u001b[39m.\u001b[39m_as_mts_labels_t(),\n\u001b[1;32m     80\u001b[0m )\n\u001b[1;32m     81\u001b[0m _check_pointer(\u001b[39mself\u001b[39m\u001b[39m.\u001b[39m_actual_ptr)\n",
      "File \u001b[0;32m~/miniconda3/envs/py39/lib/python3.9/site-packages/metatensor/data/array.py:78\u001b[0m, in \u001b[0;36mArrayWrapper.__init__\u001b[0;34m(self, array)\u001b[0m\n\u001b[1;32m     72\u001b[0m \u001b[39m# `mts_array_t::ptr` is a pointer to the PyObject `self`\u001b[39;00m\n\u001b[1;32m     73\u001b[0m mts_array\u001b[39m.\u001b[39mptr \u001b[39m=\u001b[39m ctypes\u001b[39m.\u001b[39mcast(\n\u001b[1;32m     74\u001b[0m     ctypes\u001b[39m.\u001b[39mpointer(ctypes\u001b[39m.\u001b[39mpy_object(\u001b[39mself\u001b[39m)), ctypes\u001b[39m.\u001b[39mc_void_p\n\u001b[1;32m     75\u001b[0m )\n\u001b[1;32m     77\u001b[0m \u001b[39m@catch_exceptions\u001b[39;49m\n\u001b[0;32m---> 78\u001b[0m \u001b[39mdef\u001b[39;49;00m \u001b[39mmts_array_origin\u001b[39;49m(this, origin):\n\u001b[1;32m     79\u001b[0m     origin[\u001b[39m0\u001b[39;49m] \u001b[39m=\u001b[39;49m array_origin\n\u001b[1;32m     81\u001b[0m \u001b[39m# use storage.XXX.__class__ to get the right type for all functions\u001b[39;00m\n",
      "File \u001b[0;32m~/miniconda3/envs/py39/lib/python3.9/site-packages/metatensor/utils.py:31\u001b[0m, in \u001b[0;36mcatch_exceptions\u001b[0;34m(function)\u001b[0m\n\u001b[1;32m     29\u001b[0m \u001b[39mdef\u001b[39;00m \u001b[39mcatch_exceptions\u001b[39m(function):\n\u001b[1;32m     30\u001b[0m     \u001b[39m@functools\u001b[39;49m\u001b[39m.\u001b[39;49mwraps(function)\n\u001b[0;32m---> 31\u001b[0m     \u001b[39mdef\u001b[39;49;00m \u001b[39minner\u001b[39;49m(\u001b[39m*\u001b[39;49margs, \u001b[39m*\u001b[39;49m\u001b[39m*\u001b[39;49mkwargs):\n\u001b[1;32m     32\u001b[0m         \u001b[39mtry\u001b[39;49;00m:\n\u001b[1;32m     33\u001b[0m             function(\u001b[39m*\u001b[39;49margs, \u001b[39m*\u001b[39;49m\u001b[39m*\u001b[39;49mkwargs)\n",
      "File \u001b[0;32m~/miniconda3/envs/py39/lib/python3.9/functools.py:50\u001b[0m, in \u001b[0;36mupdate_wrapper\u001b[0;34m(wrapper, wrapped, assigned, updated)\u001b[0m\n\u001b[1;32m     35\u001b[0m \u001b[39mdef\u001b[39;00m \u001b[39mupdate_wrapper\u001b[39m(wrapper,\n\u001b[1;32m     36\u001b[0m                    wrapped,\n\u001b[1;32m     37\u001b[0m                    assigned \u001b[39m=\u001b[39m WRAPPER_ASSIGNMENTS,\n\u001b[1;32m     38\u001b[0m                    updated \u001b[39m=\u001b[39m WRAPPER_UPDATES):\n\u001b[1;32m     39\u001b[0m \u001b[39m    \u001b[39m\u001b[39m\"\"\"Update a wrapper function to look like the wrapped function\u001b[39;00m\n\u001b[1;32m     40\u001b[0m \n\u001b[1;32m     41\u001b[0m \u001b[39m       wrapper is the function to be updated\u001b[39;00m\n\u001b[0;32m   (...)\u001b[0m\n\u001b[1;32m     48\u001b[0m \u001b[39m       function (defaults to functools.WRAPPER_UPDATES)\u001b[39;00m\n\u001b[1;32m     49\u001b[0m \u001b[39m    \"\"\"\u001b[39;00m\n\u001b[0;32m---> 50\u001b[0m     \u001b[39mfor\u001b[39;00m attr \u001b[39min\u001b[39;00m assigned:\n\u001b[1;32m     51\u001b[0m         \u001b[39mtry\u001b[39;00m:\n\u001b[1;32m     52\u001b[0m             value \u001b[39m=\u001b[39m \u001b[39mgetattr\u001b[39m(wrapped, attr)\n",
      "\u001b[0;31mKeyboardInterrupt\u001b[0m: "
     ]
    }
   ],
   "source": [
    "optimizer = torch.optim.Adam(model.parameters(), lr=1e-3)\n",
    "# scheduler = torch.optim.lr_scheduler.ReduceLROnPlateau(optimizer, 'min', factor=0.5, patience=100, verbose=True)\n",
    "losses = []\n",
    "for i in range(300):\n",
    "    optimizer.zero_grad()\n",
    "    rsum, rdiff = model.forward()\n",
    "    loss = loss_fn_combined(rsum, rdiff, expkL_small, small_shifts_target)\n",
    "    loss.backward()\n",
    "    optimizer.step()\n",
    "    # scheduler.step(loss)\n",
    "    losses.append(loss.item())\n",
    "    if i%10 ==0:\n",
    "        print(loss.item())"
   ]
  },
  {
   "cell_type": "markdown",
   "id": "a6d308ff",
   "metadata": {},
   "source": [
    "# Scaling test "
   ]
  },
  {
   "cell_type": "markdown",
   "id": "6ade6b55",
   "metadata": {},
   "source": [
    "## Repeat"
   ]
  },
  {
   "cell_type": "code",
   "execution_count": 120,
   "id": "72110146",
   "metadata": {},
   "outputs": [],
   "source": [
    "repeat = read('examples/data/periodic/c2/C2_repeated.extxyz', ':')\n",
    "expand = read('examples/data/periodic/c2/C2_expanded_cell.extxyz', ':')\n",
    "uc = read('examples/data/periodic/c2/C2_rotated.xyz', ':')"
   ]
  },
  {
   "cell_type": "code",
   "execution_count": 132,
   "id": "ab05f0e5",
   "metadata": {},
   "outputs": [
    {
     "name": "stdout",
     "output_type": "stream",
     "text": [
      "0 0 0\n",
      "[[ 1. nan nan]\n",
      " [ 1.  1. nan]\n",
      " [nan nan  1.]]\n",
      "0 1 1\n",
      "[[ 1.28162018  0.          0.        ]\n",
      " [ 0.53660548  2.38742943  0.        ]\n",
      " [-0.         -0.          1.00107327]]\n",
      "0 2 2\n",
      "[[ 1.21359767  0.          0.        ]\n",
      " [ 0.56084457  1.96032697 -0.        ]\n",
      " [-0.         -0.          1.00746103]]\n"
     ]
    },
    {
     "name": "stderr",
     "output_type": "stream",
     "text": [
      "/tmp/ipykernel_9552/3657698193.py:5: RuntimeWarning: invalid value encountered in divide\n",
      "  print(repeat[i].cell/uc[ij].cell)\n"
     ]
    }
   ],
   "source": [
    "relative_Ls = []\n",
    "uc_idx = np.arange(3)\n",
    "for i in range(0,3,3):#(0,len(repeat),3):\n",
    "    for \n",
    "    for ij, j in enumerate(range(i, i+3)):\n",
    "        print(i, j, ij)\n",
    "        \n",
    "        print(repeat[i].cell/uc[ij].cell)\n"
   ]
  },
  {
   "cell_type": "code",
   "execution_count": 122,
   "id": "3475ba79",
   "metadata": {},
   "outputs": [
    {
     "data": {
      "text/plain": [
       "[Cell([[2.239543, 0.0, 0.0], [-1.14898, 1.990093, 0.0], [0.0, 0.0, 106.227097]]),\n",
       " Cell([[1.7474311340791573, 1.3989869746088026, 0.06980490938850882], [-2.141200661866938, 0.8335714459019969, 0.032304167632637014], [-0.30970941332333385, -4.907856331246132, 106.11320918414707]]),\n",
       " Cell([[1.845375159791643, 1.2449581433211754, 0.24540291329008204], [-2.0486603036546174, 1.0151842156847792, -0.23025454936493506], [-12.770098697549846, -1.855290633905602, 105.44040313355212]])]"
      ]
     },
     "execution_count": 122,
     "metadata": {},
     "output_type": "execute_result"
    }
   ],
   "source": [
    "[f.cell for f in uc]"
   ]
  },
  {
   "cell_type": "code",
   "execution_count": null,
   "id": "9bc9ba70",
   "metadata": {},
   "outputs": [],
   "source": [
    "blocks = []\n",
    "dist = [f.get_all_distances() for f in repeat]\n",
    "\n",
    "keys = Labels([\"species_i\", \"species_j\", \"tx\", \"ty\", \"tz\" ])\n",
    "for i, f in enumerate(repeat):\n",
    "    d = dist[i]\n",
    "    for j in range(len(f)):\n",
    "        for k in range(len(f)):\n",
    "            blocks.append(TensorBlock(values = d[j,k]. \n",
    "                                      properties = \n",
    "                                      components= \n",
    "                                      samples =))\n",
    "                blocks.append(TensorBlock(values = dist[j,k], keys = keys, components = Labels([\"distance\"])))"
   ]
  },
  {
   "cell_type": "markdown",
   "id": "4fc9b802",
   "metadata": {},
   "source": [
    "## Extend"
   ]
  },
  {
   "cell_type": "code",
   "execution_count": null,
   "id": "95460840",
   "metadata": {},
   "outputs": [],
   "source": []
  }
 ],
 "metadata": {
  "kernelspec": {
   "display_name": "Python 3 (ipykernel)",
   "language": "python",
   "name": "python3"
  },
  "language_info": {
   "codemirror_mode": {
    "name": "ipython",
    "version": 3
   },
   "file_extension": ".py",
   "mimetype": "text/x-python",
   "name": "python",
   "nbconvert_exporter": "python",
   "pygments_lexer": "ipython3",
   "version": "3.11.7"
  },
  "toc": {
   "base_numbering": 1,
   "nav_menu": {},
   "number_sections": true,
   "sideBar": true,
   "skip_h1_title": false,
   "title_cell": "Table of Contents",
   "title_sidebar": "Contents",
   "toc_cell": false,
   "toc_position": {
    "height": "calc(100% - 180px)",
    "left": "10px",
    "top": "150px",
    "width": "165px"
   },
   "toc_section_display": true,
   "toc_window_display": true
  }
 },
 "nbformat": 4,
 "nbformat_minor": 5
}
