{
 "cells": [
  {
   "cell_type": "code",
   "execution_count": 1,
   "id": "a3d8f12c-62ee-4d46-b766-c3b49d817fe2",
   "metadata": {},
   "outputs": [],
   "source": [
    "%load_ext autoreload\n",
    "%autoreload 2\n",
    "%load_ext line_profiler"
   ]
  },
  {
   "cell_type": "code",
   "execution_count": 21,
   "id": "635a399b-c69b-4438-bac6-4ba0712d0d06",
   "metadata": {},
   "outputs": [],
   "source": [
    "from ase.io import read\n",
    "from ase.visualize import view\n",
    "import matplotlib.pyplot as plt\n",
    "import numpy as np \n",
    "import torch \n",
    "torch.set_default_dtype(torch.float64)\n",
    "\n",
    "import rascaline\n",
    "\n",
    "import metatensor \n",
    "from metatensor.torch import Labels, TensorBlock, TensorMap\n",
    "from metatensor.torch import load, sort\n",
    "\n",
    "from mlelec.data.dataset import PySCFPeriodicDataset, split_by_Aij_mts\n",
    "from mlelec.utils.twocenter_utils import _to_coupled_basis\n",
    "from mlelec.utils.pbc_utils import matrix_to_blocks, kmatrix_to_blocks, TMap_bloch_sums, precompute_phase, kblocks_to_matrix, kmatrix_to_blocks, blocks_to_matrix, matrix_to_blocks\n",
    "from mlelec.utils.plot_utils import print_matrix, matrix_norm, block_matrix_norm, plot_block_errors\n",
    "from mlelec.features.acdc import compute_features\n",
    "from mlelec.utils.target_utils import get_targets\n",
    "from mlelec.models.linear import LinearModelPeriodic"
   ]
  },
  {
   "cell_type": "code",
   "execution_count": 3,
   "id": "f0131f6a-72a2-445e-9384-0ba95406c112",
   "metadata": {},
   "outputs": [],
   "source": [
    "device = 'cpu'\n",
    "\n",
    "orbitals = {\n",
    "    'sto-3g': {5: [[1,0,0],[2,0,0],[2,1,-1], [2,1,0],[2,1,1]], \n",
    "               6: [[1,0,0],[2,0,0],[2,1,-1], [2,1,0],[2,1,1]], \n",
    "               7: [[1,0,0],[2,0,0],[2,1,-1], [2,1,0],[2,1,1]]}, \n",
    "    \n",
    "    'def2svp': {6: [[1,0,0],[2,0,0],[3,0,0],[2,1,1], [2,1,-1],[2,1,0], [3,1,1], [3,1,-1],[3,1,0], [3,2,-2], [3,2,-1],[3,2,0], [3,2,1],[3,2,2]]},\n",
    "    'benzene': {6: [[2,0,0],[2,1,-1], [2,1,0],[2,1,1]], 1:[[1,0,0]]},\n",
    "    'gthszvmolopt': {\n",
    "        6: [[2, 0, 0], [2, 1, -1], [2, 1, 0], [2, 1, 1]],\n",
    "        \n",
    "        16: [[3,0,0], \n",
    "             [3,1,-1], [3,1,0], [3,1,1]],\n",
    "\n",
    "        42: [[4,0,0], \n",
    "             [5,0,0], \n",
    "             [4,1,-1], [4,1,0], [4,1,1], \n",
    "             [4, 2, -2], [4, 2, -1], [4, 2, 0], [4, 2, 1], [4, 2, 2]]}\n",
    "}"
   ]
  },
  {
   "cell_type": "markdown",
   "id": "61756a8d-5fbe-4fd2-9521-4a4604762d6d",
   "metadata": {},
   "source": [
    "# QC dataset"
   ]
  },
  {
   "cell_type": "code",
   "execution_count": 4,
   "id": "0cb8d851-377b-4bd5-a632-397f666731e1",
   "metadata": {},
   "outputs": [],
   "source": [
    "# workdir = './'\n",
    "# START = 0 \n",
    "# STOP = 10\n",
    "# ORBS = 'sto-3g'\n",
    "# root = f'{workdir}/examples/data/periodic/deepH_graphene/wrap/'\n",
    "# data_dir = root\n",
    "# frames = read(f'{data_dir}/wrapped_deepH_graphene.xyz', slice(START, STOP))\n",
    "# rfock = [np.load(f\"{data_dir}/realfock_{i}.npy\", allow_pickle = True).item() for i in range(START, STOP)]\n",
    "# rover = [np.load(f\"{data_dir}/realoverlap_{i}.npy\", allow_pickle = True).item() for i in range(START, STOP)]\n",
    "# kmesh = [1,1,1]\n",
    "# dataset = PySCFPeriodicDataset(frames = frames, \n",
    "#                                kmesh = kmesh, \n",
    "#                                dimension = 2,\n",
    "#                                fock_realspace = rfock, \n",
    "#                                overlap_realspace = rover, \n",
    "#                                device = device, \n",
    "#                                orbs = orbitals[ORBS], \n",
    "#                                orbs_name = 'sto-3g')"
   ]
  },
  {
   "cell_type": "code",
   "execution_count": 5,
   "id": "7bea8a50-276b-4225-840c-583f64913125",
   "metadata": {},
   "outputs": [],
   "source": [
    "# workdir = './'\n",
    "workdir = '/home/nigam/scratch/MAC'\n",
    "root = f'{workdir}/data/hamiltonian/periodic/carbon_allotropes/'\n",
    "# root = f'{workdir}/examples/data/periodic/carbon_allotropes'\n",
    "ORBS = 'sto-3g'\n",
    "kmesh = np.loadtxt(f'{root}/kmesh.dat', dtype=int)\n",
    "START = 0\n",
    "STOP = 1\n",
    "\n",
    "indices = kmesh[:,0][START:STOP]\n",
    "kmesh = kmesh[:,1:][START:STOP].tolist()\n",
    "\n",
    "frames = [read(f'{root}/cell_{i}.xyz') for i in indices]\n",
    "\n",
    "for f in frames:\n",
    "    f.wrap(center = (0,0,0), eps = 1e-30)\n",
    "    # f.wrap(pretty_translation=True,eps=1e-20)\n",
    "\n",
    "rfock=[np.load(f'{root}/realfock_{i}.npy', allow_pickle=True).item() for i in indices ]\n",
    "rover=[np.load(f'{root}/realoverlap_{i}.npy', allow_pickle=True).item() for i in indices ]"
   ]
  },
  {
   "cell_type": "code",
   "execution_count": 6,
   "id": "6907a5e6-83bf-453e-aca2-fd8fc2af4f44",
   "metadata": {},
   "outputs": [],
   "source": [
    "dataset = PySCFPeriodicDataset(frames = frames, \n",
    "                               kmesh = kmesh, \n",
    "                               fix_p_orbital_order=False,\n",
    "                               dimension = 3,\n",
    "                               fock_realspace = rfock, \n",
    "                               overlap_realspace = rover, \n",
    "                               device = device, \n",
    "                               orbs = orbitals[ORBS], \n",
    "                               orbs_name = 'sto-3g')"
   ]
  },
  {
   "cell_type": "markdown",
   "id": "e3873bac-ec05-4a55-aeb6-abc711ebe1b2",
   "metadata": {},
   "source": [
    "# Targets"
   ]
  },
  {
   "cell_type": "code",
   "execution_count": 7,
   "id": "a4ac2b01-c2a3-47e2-9296-323a5eddd158",
   "metadata": {},
   "outputs": [],
   "source": [
    "cutoff = 8"
   ]
  },
  {
   "cell_type": "code",
   "execution_count": 8,
   "id": "567ec238-ff88-4497-930f-fcb0551861ba",
   "metadata": {},
   "outputs": [],
   "source": [
    "target_blocks, target_coupled_blocks = get_targets(dataset, cutoff = cutoff, device = device)"
   ]
  },
  {
   "cell_type": "code",
   "execution_count": 9,
   "id": "bc35a4fc-fb6e-4fd7-9376-6e83d9047b10",
   "metadata": {},
   "outputs": [],
   "source": [
    "# k_target_blocks = kmatrix_to_blocks(dataset, cutoff = cutoff)\n",
    "# k_target_coupled_blocks = _to_coupled_basis(kmatrix_to_blocks(dataset, cutoff = cutoff), skip_symmetry = True, device = device, translations= False)"
   ]
  },
  {
   "cell_type": "code",
   "execution_count": 10,
   "id": "b6f5bdfd-747b-415b-9253-5e7f10da740d",
   "metadata": {},
   "outputs": [],
   "source": [
    "phase, indices, kpts_idx = precompute_phase(target_coupled_blocks, dataset, cutoff = cutoff)\n",
    "k_target_coupled_blocks = TMap_bloch_sums(target_coupled_blocks, phase, indices, kpts_idx, return_tensormap = True)"
   ]
  },
  {
   "cell_type": "code",
   "execution_count": 132,
   "id": "30c3245c-6b29-4b22-a261-25db5f3316b6",
   "metadata": {},
   "outputs": [
    {
     "data": {
      "text/plain": [
       "448"
      ]
     },
     "execution_count": 132,
     "metadata": {},
     "output_type": "execute_result"
    }
   ],
   "source": [
    "64*7"
   ]
  },
  {
   "cell_type": "markdown",
   "id": "eaa78cad-0988-4be9-812a-2209fdc5a9bf",
   "metadata": {},
   "source": [
    "# Features"
   ]
  },
  {
   "cell_type": "code",
   "execution_count": 8,
   "id": "db41bfa2-936d-4d9f-8f3c-22580d7959a4",
   "metadata": {},
   "outputs": [],
   "source": [
    "max_radial  = 6\n",
    "max_angular = 4\n",
    "atomic_gaussian_width = 0.3\n",
    "\n",
    "hypers_pair = {'cutoff': cutoff,\n",
    "               'max_radial': max_radial,\n",
    "               'max_angular': max_angular,\n",
    "               'atomic_gaussian_width': atomic_gaussian_width,\n",
    "               'center_atom_weight': 1,\n",
    "               \"radial_basis\": {\"Gto\": {}},\n",
    "               \"cutoff_function\": {\"ShiftedCosine\": {\"width\": 7.85}}}\n",
    "\n",
    "\n",
    "hypers_atom = {'cutoff': 4,\n",
    "               'max_radial': max_radial,\n",
    "               'max_angular': max_angular,\n",
    "               'atomic_gaussian_width': 0.5,\n",
    "               'center_atom_weight': 1,\n",
    "               \"radial_basis\": {\"Gto\": {}},\n",
    "               \"cutoff_function\": {\"ShiftedCosine\": {\"width\": 3.85}}}\n",
    "\n",
    "\n",
    "return_rho0ij = False\n",
    "both_centers = False\n",
    "LCUT = 3"
   ]
  },
  {
   "cell_type": "code",
   "execution_count": 9,
   "id": "a93bae98-ba14-446c-9072-38b54c0c8a85",
   "metadata": {},
   "outputs": [
    {
     "name": "stdout",
     "output_type": "stream",
     "text": [
      "cpu pair features\n",
      "cpu single center features\n",
      "cpu single center features\n"
     ]
    }
   ],
   "source": [
    "features = compute_features(dataset, hypers_atom, hypers_pair=hypers_pair, lcut = LCUT)"
   ]
  },
  {
   "cell_type": "code",
   "execution_count": 10,
   "id": "b593ad14-2a40-4e63-91b3-34613ce2415a",
   "metadata": {},
   "outputs": [],
   "source": [
    "import torch.nn as nn\n",
    "from mlelec.models.linear import MLP"
   ]
  },
  {
   "cell_type": "code",
   "execution_count": 12,
   "id": "7cb55136-346b-44c9-bed3-11580f13790b",
   "metadata": {},
   "outputs": [],
   "source": [
    "set_bias=True\n",
    "nhidden=[100,50,25]#25,50,100]\n",
    "nlayers = len(nhidden)\n",
    "activation = 'SiLU'\n",
    "bias=True,\n",
    "device='cpu',\n",
    "apply_norm = False,\n",
    "class featmodel(nn.Module):\n",
    "    def __init__(self,\n",
    "                 features,\n",
    "                 device=None,\n",
    "                 apply_norm = False, \n",
    "                 **kwargs):\n",
    "\n",
    "        super().__init__()\n",
    "        self.features = features \n",
    "        self.apply_norm = apply_norm\n",
    "        if device is None:\n",
    "            self.device = torch.device(\"cuda\" if torch.cuda.is_available() else \"cpu\")\n",
    "        else: \n",
    "            self.device = device\n",
    "        self._submodels(set_bias=kwargs.get(\"bias\", False), **kwargs)\n",
    "\n",
    "    def _submodels(self, set_bias=False, **kwargs):\n",
    "        self.blockmodels = {}\n",
    "        for k, feat in self.features.items():\n",
    "            bias = False\n",
    "            if k[\"spherical_harmonics_l\"] == 0 and set_bias:\n",
    "                bias = True\n",
    "            self.blockmodels[str(tuple(k))] = MLP(\n",
    "                nin=feat.values.shape[-1],\n",
    "                nout=feat.values.shape[-1],\n",
    "                nhidden=kwargs.get(\"nhidden\", 16),\n",
    "                nlayers=kwargs.get(\"nlayers\", 2),\n",
    "                bias=bias,\n",
    "                activation=kwargs.get(\"activation\", None),\n",
    "                \n",
    "                # activation_with_linear=kwargs.get(\"activation_with_linear\", False),\n",
    "                apply_layer_norm=self.apply_norm,\n",
    "            )\n",
    "        self.model = torch.nn.ModuleDict(self.blockmodels)\n",
    "        self.model.to(self.device)\n",
    "\n",
    "    def forward(self, features = None):\n",
    "        pred_blocks = []\n",
    "        if features is None:\n",
    "            features = self.features\n",
    "        keys = features.keys\n",
    "        preds=[]\n",
    "        for k, feat in features.items():\n",
    "            pred = self.blockmodels[str(tuple(k))](feat.values)\n",
    "            # preds.append(pred)\n",
    "            pred_blocks.append(\n",
    "                    TensorBlock(\n",
    "                        values = pred,#.reshape((nsamples, ncomp, 1)),\n",
    "                        samples = feat.samples,\n",
    "                        components = feat.components,\n",
    "                        properties = feat.properties,\n",
    "                    )\n",
    "                )\n",
    "            pred = None\n",
    "        \n",
    "        # # del features\n",
    "        return TensorMap(keys, pred_blocks)\n",
    "        # return preds"
   ]
  },
  {
   "cell_type": "code",
   "execution_count": 13,
   "id": "19a691e5-7c03-43c5-a613-71f94d8a2c6c",
   "metadata": {},
   "outputs": [],
   "source": [
    "fmodel = featmodel(features, apply_norm=True, nhidden=[100,50,25],nlayers = 3,\n",
    "activation = 'SiLU',\n",
    "bias=True,\n",
    "device='cpu',)"
   ]
  },
  {
   "cell_type": "code",
   "execution_count": 14,
   "id": "9295c4cf-90db-4535-8c9d-8c8159879bf1",
   "metadata": {},
   "outputs": [
    {
     "name": "stdout",
     "output_type": "stream",
     "text": [
      "731943\n"
     ]
    }
   ],
   "source": [
    "print(sum(t.numel() for t in fmodel.parameters()))"
   ]
  },
  {
   "cell_type": "code",
   "execution_count": 15,
   "id": "b0623465-129b-4fda-b35b-d703ce63c68d",
   "metadata": {},
   "outputs": [
    {
     "name": "stderr",
     "output_type": "stream",
     "text": [
      "/home/nigam/miniconda3/envs/temp/lib/python3.11/site-packages/torch/optim/lr_scheduler.py:28: UserWarning: The verbose parameter is deprecated. Please use get_last_lr() to access the learning rate.\n",
      "  warnings.warn(\"The verbose parameter is deprecated. Please use get_last_lr() \"\n"
     ]
    }
   ],
   "source": [
    "fmodel = fmodel.double()\n",
    "\n",
    "nepoch = 1000\n",
    "\n",
    "optimizers = []\n",
    "schedulers = []\n",
    "for i, key in enumerate(fmodel.model):\n",
    "    optimizers.append(torch.optim.Adam(fmodel.model[key].parameters(), lr = 1e-3)) #, betas = (0.8, 0.9)))\n",
    "    schedulers.append(torch.optim.lr_scheduler.ReduceLROnPlateau(optimizers[-1], factor = 0.5, patience = 100, verbose=True))"
   ]
  },
  {
   "cell_type": "code",
   "execution_count": 16,
   "id": "b4917c52-751f-40d9-99af-e20488d7ffec",
   "metadata": {},
   "outputs": [],
   "source": [
    "from metatensor.learn import Dataset, DataLoader, IndexedDataset\n",
    "from metatensor.learn.data import group as mts_group, group_and_join as group_and_join_mts\n",
    "import metatensor as mts\n",
    "from mlelec.data.dataset import split_by_Aij\n",
    "from mlelec.metrics import L2_loss"
   ]
  },
  {
   "cell_type": "code",
   "execution_count": 17,
   "id": "ce8573cc-5860-4527-bf3a-a4def23d1f42",
   "metadata": {},
   "outputs": [],
   "source": [
    "split_by_axis = \"samples\"\n",
    "split_by_dimension = \"structure\"\n",
    "\n",
    "\n",
    "grouped_labels = [mts.Labels(names = split_by_dimension, values = np.array([A])) for A in mts.unique_metadata(features, axis = split_by_axis, names = split_by_dimension)]\n",
    "split_features = mts.split(features, split_by_axis, grouped_labels)"
   ]
  },
  {
   "cell_type": "code",
   "execution_count": 18,
   "id": "1f906084-68e4-4da7-bcfa-33d97c7b81cb",
   "metadata": {},
   "outputs": [],
   "source": [
    "ml_data = IndexedDataset(descriptor = split_features, target = split_features, sample_id = [g.values.tolist()[0][0] for g in grouped_labels])"
   ]
  },
  {
   "cell_type": "code",
   "execution_count": 19,
   "id": "30ad5999-e5e3-4ae1-b9e4-72c0adadab5b",
   "metadata": {},
   "outputs": [],
   "source": [
    "batch_size = 1\n",
    "dataloader = DataLoader(ml_data, batch_size = batch_size, shuffle = False, \n",
    "                        collate_fn = lambda x: group_and_join_mts(x, join_kwargs = {'different_keys': 'union', 'remove_tensor_name': True}))\n"
   ]
  },
  {
   "cell_type": "code",
   "execution_count": 20,
   "id": "62233863-cde8-41db-9d5e-26c88e932446",
   "metadata": {},
   "outputs": [
    {
     "name": "stdout",
     "output_type": "stream",
     "text": [
      "Epoch       0, train loss 35763.4260310712, avg lr = 1.000000e-03\n",
      "Epoch       1, train loss 30930.6797604380, avg lr = 1.000000e-03\n",
      "Epoch       2, train loss 28275.7865446928, avg lr = 1.000000e-03\n",
      "Epoch       3, train loss 26816.3845801761, avg lr = 1.000000e-03\n",
      "Epoch       4, train loss 24673.9991647181, avg lr = 1.000000e-03\n",
      "Epoch       5, train loss 23674.5391059060, avg lr = 1.000000e-03\n",
      "Epoch       6, train loss 22428.4801644420, avg lr = 1.000000e-03\n",
      "Epoch       7, train loss 21391.2827136139, avg lr = 1.000000e-03\n",
      "Epoch       8, train loss 19842.2438884522, avg lr = 1.000000e-03\n",
      "Epoch       9, train loss 19089.2550608611, avg lr = 1.000000e-03\n",
      "Epoch      10, train loss 18547.0325860318, avg lr = 1.000000e-03\n",
      "Epoch      11, train loss 17639.0397342755, avg lr = 1.000000e-03\n",
      "Epoch      12, train loss 16783.2312008614, avg lr = 1.000000e-03\n",
      "Epoch      13, train loss 15731.3687055328, avg lr = 1.000000e-03\n",
      "Epoch      14, train loss 15114.8632003761, avg lr = 1.000000e-03\n",
      "Epoch      15, train loss 14447.3879667190, avg lr = 1.000000e-03\n",
      "Epoch      16, train loss 13947.0323183268, avg lr = 1.000000e-03\n",
      "Epoch      17, train loss 13282.0023441206, avg lr = 1.000000e-03\n",
      "Epoch      18, train loss 12515.5160812962, avg lr = 1.000000e-03\n",
      "Epoch      19, train loss 12069.9626237252, avg lr = 1.000000e-03\n",
      "Epoch      20, train loss 11543.6743416009, avg lr = 1.000000e-03\n",
      "Epoch      21, train loss 10899.0730791296, avg lr = 1.000000e-03\n",
      "Epoch      22, train loss 10376.7645104860, avg lr = 1.000000e-03\n",
      "Epoch      23, train loss 9866.5383569835, avg lr = 1.000000e-03\n",
      "Epoch      24, train loss 9156.1646989854, avg lr = 1.000000e-03\n",
      "Epoch      25, train loss 8756.8218531196, avg lr = 1.000000e-03\n",
      "Epoch      26, train loss 8430.1304119970, avg lr = 1.000000e-03\n",
      "Epoch      27, train loss 7834.3232638232, avg lr = 1.000000e-03\n",
      "Epoch      28, train loss 7307.0342223277, avg lr = 1.000000e-03\n",
      "Epoch      29, train loss 6839.6958310684, avg lr = 1.000000e-03\n",
      "Epoch      30, train loss 6521.8376628798, avg lr = 1.000000e-03\n",
      "Epoch      31, train loss 6099.3406360725, avg lr = 1.000000e-03\n",
      "Epoch      32, train loss 5808.0690757810, avg lr = 1.000000e-03\n",
      "Epoch      33, train loss 5544.7284082439, avg lr = 1.000000e-03\n",
      "Epoch      34, train loss 5248.6242630238, avg lr = 1.000000e-03\n",
      "Epoch      35, train loss 4850.7204215410, avg lr = 1.000000e-03\n",
      "Epoch      36, train loss 4602.9612346345, avg lr = 1.000000e-03\n",
      "Epoch      37, train loss 4302.0047092883, avg lr = 1.000000e-03\n",
      "Epoch      38, train loss 4149.3742236472, avg lr = 1.000000e-03\n",
      "Epoch      39, train loss 3856.7489681315, avg lr = 1.000000e-03\n",
      "Epoch      40, train loss 3598.7900279650, avg lr = 1.000000e-03\n",
      "Epoch      41, train loss 3349.3132380306, avg lr = 1.000000e-03\n",
      "Epoch      42, train loss 3378.2515049434, avg lr = 1.000000e-03\n",
      "Epoch      43, train loss 3331.8023837734, avg lr = 1.000000e-03\n",
      "Epoch      44, train loss 3033.3470591033, avg lr = 1.000000e-03\n",
      "Epoch      45, train loss 2838.9338902139, avg lr = 1.000000e-03\n",
      "Epoch      46, train loss 2836.7944037176, avg lr = 1.000000e-03\n",
      "Epoch      47, train loss 2643.0856829042, avg lr = 1.000000e-03\n",
      "Epoch      48, train loss 2561.7210289598, avg lr = 1.000000e-03\n",
      "Epoch      49, train loss 2367.2277396741, avg lr = 1.000000e-03\n",
      "Epoch      50, train loss 2256.9236544745, avg lr = 1.000000e-03\n",
      "Epoch      51, train loss 2163.3392383149, avg lr = 1.000000e-03\n"
     ]
    },
    {
     "name": "stderr",
     "output_type": "stream",
     "text": [
      "Exception ignored in: <function Labels.__del__ at 0x7f46db7ea480>\n",
      "Traceback (most recent call last):\n",
      "  File \"/home/nigam/miniconda3/envs/temp/lib/python3.11/site-packages/metatensor/labels.py\", line 380, in __del__\n",
      "    def __del__(self):\n",
      "\n",
      "KeyboardInterrupt: \n",
      "Exception ignored in: <bound method IPythonKernel._clean_thread_parent_frames of <ipykernel.ipkernel.IPythonKernel object at 0x7f47dffb9850>>\n",
      "Traceback (most recent call last):\n",
      "  File \"/home/nigam/miniconda3/envs/temp/lib/python3.11/site-packages/ipykernel/ipkernel.py\", line 775, in _clean_thread_parent_frames\n",
      "    def _clean_thread_parent_frames(\n",
      "\n",
      "KeyboardInterrupt: \n",
      "\n",
      "KeyboardInterrupt\n",
      "\n"
     ]
    }
   ],
   "source": [
    "LOSS_LIST = []\n",
    "\n",
    "fmodel.train(True)\n",
    "\n",
    "nepoch = 1000\n",
    "\n",
    "for epoch in range(nepoch):\n",
    "    LOSS = 0\n",
    "    lr = []\n",
    "    for ib, batch in enumerate(dataloader):\n",
    "    # if True:\n",
    "        for ik, key in enumerate(fmodel.model):\n",
    "            optimizers[ik].zero_grad()\n",
    "        \n",
    "        pred = fmodel.forward(batch.descriptor)\n",
    "        # pred = mts.detach(pred)\n",
    "\n",
    "        # all_losses = [torch.norm(p - t.values)**2 for p, t in zip(pred, batch.target.blocks())]\n",
    "        \n",
    "        # Compute the loss for each block\n",
    "        # all_losses, epoch_loss = L2_loss(pred, batch.target, loss_per_block = True)\n",
    "        all_losses = [b.values.sum() for b in mts.pow(mts.subtract(pred, features), 2).blocks()]\n",
    "        # all_losses = [b.values.sum() for b in mts.pow(mts.subtract(pred, batch.target), 2).blocks()]\n",
    "        epoch_loss = sum(all_losses).item()\n",
    "\n",
    "        # # Total loss\n",
    "        # epoch_loss = epoch_loss.item()\n",
    "        LOSS += epoch_loss\n",
    "\n",
    "        # # Loop through submodels and backpropagate\n",
    "        for ik, (loss, key) in enumerate(zip(all_losses, fmodel.model)):\n",
    "            loss.backward(retain_graph = False)\n",
    "            torch.nn.utils.clip_grad_norm_(fmodel.model[key].parameters(), 1)\n",
    "            optimizers[ik].step()\n",
    "            schedulers[ik].step(loss)\n",
    "            lr.append(schedulers[ik].get_last_lr())\n",
    "        pred = None\n",
    "    if epoch >= 0: #% 10 == 0:\n",
    "        # print(f\"Epoch {epoch:>7d}, train loss on all blocks {epoch_loss:>15.10f}, train loss per prediction {np.sqrt(epoch_loss)/n_predictions:>6.5e}\")\n",
    "        # print(f\"Epoch {epoch:>7d}, train loss real {loss_real[-1]:>15.10f}\") #, train loss k {loss_k[-1]:>15.10f}, train loss per prediction {np.sqrt(epoch_loss)/n_predictions:>6.5e}\")\n",
    "        LOSS_LIST.append(LOSS)\n",
    "        print(f\"Epoch {epoch:>7d}, train loss {LOSS:>15.10f}, avg lr = {np.mean(lr):e}\") #, train loss k {loss_k[-1]:>15.10f}, train loss per prediction {np.sqrt(epoch_loss)/n_predictions:>6.5e}\")"
   ]
  },
  {
   "cell_type": "code",
   "execution_count": 39,
   "id": "7f7d4bfd-96cb-40da-9a22-362ebd0266c9",
   "metadata": {},
   "outputs": [
    {
     "data": {
      "text/plain": [
       "tensor(17877.4226, grad_fn=<AddBackward0>)"
      ]
     },
     "execution_count": 39,
     "metadata": {},
     "output_type": "execute_result"
    }
   ],
   "source": [
    "sum(b.values.sum() for b in mts.pow(mts.subtract(pred, batch.target), 2).blocks())"
   ]
  },
  {
   "cell_type": "markdown",
   "id": "b2566f8d-43e1-4404-bf31-e80c1e2e7e57",
   "metadata": {},
   "source": [
    "# ML Dataset/Dataloader"
   ]
  },
  {
   "cell_type": "code",
   "execution_count": null,
   "id": "a61b2ec7-8647-4c4c-a843-e38141d5b9fd",
   "metadata": {},
   "outputs": [],
   "source": [
    "from metatensor.learn import Dataset, DataLoader, IndexedDataset\n",
    "from metatensor.learn.data import group as mts_group, group_and_join as group_and_join_mts\n",
    "import metatensor as mts\n",
    "from mlelec.data.dataset import split_by_Aij"
   ]
  },
  {
   "cell_type": "code",
   "execution_count": null,
   "id": "d5444484-9a93-4bde-9d7c-513f339ecb0d",
   "metadata": {},
   "outputs": [],
   "source": [
    "split_by_axis = \"samples\"\n",
    "split_by_dimension = \"structure\"\n",
    "\n",
    "grouped_labels = [mts.Labels(names = split_by_dimension, values = np.array([A])) for A in mts.unique_metadata(target_coupled_blocks, axis = split_by_axis, names = split_by_dimension)]\n",
    "split_target = mts.split(target_coupled_blocks, split_by_axis, grouped_labels)\n",
    "\n",
    "grouped_labels = [mts.Labels(names = split_by_dimension, values = np.array([A])) for A in mts.unique_metadata(features, axis = split_by_axis, names = split_by_dimension)]\n",
    "split_features = mts.split(features, split_by_axis, grouped_labels)"
   ]
  },
  {
   "cell_type": "code",
   "execution_count": null,
   "id": "ce082aef-50f9-4974-8501-d077de90419e",
   "metadata": {},
   "outputs": [],
   "source": [
    "ml_data = IndexedDataset(descriptor = split_features, target = split_target, sample_id = [g.values.tolist()[0][0] for g in grouped_labels])"
   ]
  },
  {
   "cell_type": "markdown",
   "id": "dc808f17-7880-4242-9109-bad6638e7f81",
   "metadata": {},
   "source": [
    "Split kspace targets"
   ]
  },
  {
   "cell_type": "code",
   "execution_count": null,
   "id": "a9e95cde-928d-4d13-935b-02013a2798de",
   "metadata": {},
   "outputs": [],
   "source": [
    "split_by_axis = \"samples\"\n",
    "split_by_dimension = \"structure\"\n",
    "\n",
    "grouped_labels = [mts.Labels(names = split_by_dimension, values = np.array([A])) for A in mts.unique_metadata(k_target_coupled_blocks, axis = split_by_axis, names = split_by_dimension)]\n",
    "split_target_k = mts.split(k_target_coupled_blocks, split_by_axis, grouped_labels)\n",
    "\n",
    "grouped_labels = [mts.Labels(names = split_by_dimension, values = np.array([A])) for A in mts.unique_metadata(features, axis = split_by_axis, names = split_by_dimension)]\n",
    "split_features_k = mts.split(features, split_by_axis, grouped_labels)"
   ]
  },
  {
   "cell_type": "code",
   "execution_count": null,
   "id": "ee77aac7-6adb-4ffa-8f66-5b4a02e372dc",
   "metadata": {},
   "outputs": [],
   "source": [
    "ml_data_k = IndexedDataset(descriptor = split_features_k, target = split_target_k, sample_id = [g.values.tolist()[0][0] for g in grouped_labels])"
   ]
  },
  {
   "cell_type": "markdown",
   "id": "b01a2e61-609c-42ab-8dda-2f11ebe50a59",
   "metadata": {},
   "source": [
    "# Train"
   ]
  },
  {
   "cell_type": "code",
   "execution_count": null,
   "id": "292e1e88-8d09-4e78-972e-055688f42012",
   "metadata": {},
   "outputs": [],
   "source": [
    "from mlelec.metrics import L2_loss, L2_kspace_loss\n",
    "from mlelec.utils.twocenter_utils import _to_uncoupled_basis, map_targetkeys_to_featkeys\n",
    "from mlelec.utils.pbc_utils import precompute_phase, TMap_bloch_sums"
   ]
  },
  {
   "cell_type": "code",
   "execution_count": null,
   "id": "8ec08c42-7548-4d7d-b243-5ff30b668e67",
   "metadata": {},
   "outputs": [],
   "source": [
    "seed = 10\n",
    "torch.manual_seed(seed)\n",
    "np.random.seed(seed)\n",
    "\n",
    "model = LinearModelPeriodic(twocfeat = features, \n",
    "                            target_blocks = target_coupled_blocks,\n",
    "                            frames = dataset.structures, orbitals = dataset.basis, \n",
    "                            device = device,\n",
    "                            bias = True,\n",
    "                            nhidden = 128, \n",
    "                            nlayers = 2,\n",
    "                            activation = 'SiLU',\n",
    "                            apply_norm = True\n",
    "                           )\n",
    "model = model.double()\n",
    "\n",
    "nepoch = 1000\n",
    "\n",
    "optimizers = []\n",
    "schedulers = []\n",
    "for i, key in enumerate(model.model):\n",
    "    optimizers.append(torch.optim.Adam(model.model[key].parameters(), lr = 1e-3)) #, betas = (0.8, 0.9)))\n",
    "    schedulers.append(torch.optim.lr_scheduler.ReduceLROnPlateau(optimizers[-1], factor = 0.5, patience = 100, verbose=True))"
   ]
  },
  {
   "cell_type": "code",
   "execution_count": null,
   "id": "254ddf17-6837-4c81-823c-7ed539682a57",
   "metadata": {},
   "outputs": [],
   "source": [
    "phase, indices, kpts_idx = precompute_phase(target_coupled_blocks, dataset, cutoff = cutoff)"
   ]
  },
  {
   "cell_type": "code",
   "execution_count": null,
   "id": "3c96517d-d601-4587-a1b4-7e39c536ce5a",
   "metadata": {},
   "outputs": [],
   "source": [
    "batch_size = 1\n",
    "dataloader = DataLoader(ml_data, batch_size = batch_size, shuffle = False, collate_fn = lambda x: group_and_join_mts(x, join_kwargs = {'different_keys': 'union', 'remove_tensor_name': True}))\n",
    "dataloader_k = DataLoader(ml_data_k, batch_size = batch_size, shuffle = False, collate_fn = lambda x: group_and_join_mts(x, join_kwargs = {'different_keys': 'union', 'remove_tensor_name': True}))"
   ]
  },
  {
   "cell_type": "code",
   "execution_count": null,
   "id": "e11ca466-6978-4acc-8ab0-378136947d24",
   "metadata": {
    "scrolled": true
   },
   "outputs": [],
   "source": [
    "# %%timeit -n 1 -r 1\n",
    "\n",
    "train_kspace = False\n",
    "LOSS_LIST = []\n",
    "\n",
    "nepoch = 1000\n",
    "for epoch in range(nepoch):\n",
    "\n",
    "    if epoch >= 1000:\n",
    "        train_kspace = True\n",
    "\n",
    "    if not train_kspace:\n",
    "        # Train against real space targets\n",
    "        LOSS = 0\n",
    "        lr = []\n",
    "        for ib, batch in enumerate(dataloader):\n",
    "            \n",
    "            model.train(True)\n",
    "            \n",
    "            for ik, key in enumerate(model.model):\n",
    "                optimizers[ik].zero_grad()\n",
    "            \n",
    "            pred = model.predict_batch(batch.descriptor, batch.target)\n",
    "            \n",
    "            # Compute the loss for each block\n",
    "            all_losses, epoch_loss = L2_loss(pred, batch.target, loss_per_block = True)\n",
    "    \n",
    "            # Total loss\n",
    "            epoch_loss = epoch_loss.item()\n",
    "            LOSS += epoch_loss\n",
    "    \n",
    "            # Loop through submodels and backpropagate\n",
    "            for ik, (loss, key) in enumerate(zip(all_losses, model.model)):\n",
    "                loss.backward(retain_graph = False)\n",
    "                torch.nn.utils.clip_grad_norm_(model.model[key].parameters(), 1)\n",
    "                optimizers[ik].step()\n",
    "                schedulers[ik].step(loss)\n",
    "                lr.append(schedulers[ik].get_last_lr())\n",
    "    else:\n",
    "        # Train against k-space targets\n",
    "    \n",
    "        LOSS = 0\n",
    "        lr = []\n",
    "        for ib, batch in enumerate(dataloader_k):\n",
    "\n",
    "            model.train(True)\n",
    "    \n",
    "            for ik, key in enumerate(model.model):\n",
    "                optimizers[ik].zero_grad()\n",
    "            \n",
    "            pred = model.predict_batch(batch.descriptor)\n",
    "            pred_kspace = TMap_bloch_sums(pred, phase, indices, kpts_idx, return_tensormap = True)\n",
    "            \n",
    "            # Compute the loss\n",
    "            loss = L2_loss(pred_kspace, batch.target, norm = 2*np.prod(dataset.kmesh[0]))\n",
    "    \n",
    "            # Total loss \n",
    "            epoch_loss = loss.item()\n",
    "            LOSS += epoch_loss\n",
    "                   \n",
    "            loss.backward(retain_graph = True)\n",
    "            torch.nn.utils.clip_grad_norm_(model.parameters(), 1)\n",
    "            for ik, key in enumerate(model.model):\n",
    "                optimizers[ik].step()\n",
    "                schedulers[ik].step(epoch_loss/len(model.model))\n",
    "                lr.append(schedulers[ik].get_last_lr())\n",
    "\n",
    "    if epoch >= 0: #% 10 == 0:\n",
    "        # print(f\"Epoch {epoch:>7d}, train loss on all blocks {epoch_loss:>15.10f}, train loss per prediction {np.sqrt(epoch_loss)/n_predictions:>6.5e}\")\n",
    "        # print(f\"Epoch {epoch:>7d}, train loss real {loss_real[-1]:>15.10f}\") #, train loss k {loss_k[-1]:>15.10f}, train loss per prediction {np.sqrt(epoch_loss)/n_predictions:>6.5e}\")\n",
    "        LOSS_LIST.append(LOSS)\n",
    "        print(f\"Epoch {epoch:>7d}, train loss {LOSS:>15.10f}, avg lr = {np.mean(lr)}\") #, train loss k {loss_k[-1]:>15.10f}, train loss per prediction {np.sqrt(epoch_loss)/n_predictions:>6.5e}\")"
   ]
  },
  {
   "cell_type": "code",
   "execution_count": 28,
   "id": "79239f4d-6feb-47ca-8927-80607762e976",
   "metadata": {},
   "outputs": [
    {
     "name": "stdout",
     "output_type": "stream",
     "text": [
      "[-1  6  1  0  6  2  0  0] 0.005954428896040223 2.59311729295825\n",
      "[-1  6  1  0  6  2  1  1] 0.017034370888246723 0.0014870159522558856\n",
      "[-1  6  2  0  6  2  1  1] 0.014999599955151094 0.0022024952491632183\n",
      "[-1  6  2  1  6  2  1  1] 0.012408574756059205 0.014022843332879488\n",
      "[0 6 1 0 6 1 0 0] 0.10257087668833605 0.0009666123321917026\n",
      "[0 6 1 0 6 2 0 0] 0.008455163526034488 0.00028966337753036706\n",
      "[0 6 1 0 6 2 1 1] 0.0009526770263502052 0.06360270477123603\n",
      "[0 6 2 0 6 2 0 0] 0.004374991076434984 0.00039940524746862255\n",
      "[0 6 2 0 6 2 1 1] 0.001058041656868016 0.002504142065059318\n",
      "[0 6 2 1 6 2 1 0] 0.0031481467357902847 0.0010521856088016198\n",
      "[0 6 2 1 6 2 1 2] 0.002601324679558047 0.0015839057532246255\n",
      "[1 6 1 0 6 1 0 0] 0.007587833997115085 17.84151743560997\n",
      "[1 6 1 0 6 2 0 0] 0.015442968005215309 0.002247514932398527\n",
      "[1 6 1 0 6 2 1 1] 0.002098503430233891 0.5399220777157789\n",
      "[1 6 2 0 6 2 0 0] 0.022675050344385002 0.002974649438198577\n",
      "[1 6 2 0 6 2 1 1] 0.007083143248191541 0.01586579531562263\n",
      "[1 6 2 1 6 2 1 0] 0.01855509897691674 0.01635641164125879\n",
      "[1 6 2 1 6 2 1 2] 0.06614075391904942 0.017329712252457594\n"
     ]
    }
   ],
   "source": [
    "for (k, b1), b2 in zip(model().items(), target_coupled_blocks.blocks()):\n",
    "    \n",
    "    # print(k.values,torch.abs((b1.values-b2.values)/b2.values.std()).mean().item(), b2.values.norm().item(), b1.values.norm().item(), b2.values.std().item())\n",
    "    print(k.values,torch.norm(b1.values-b2.values).item(), (torch.norm(b1.values-b2.values)/torch.norm(b2.values)).item())"
   ]
  },
  {
   "cell_type": "code",
   "execution_count": 192,
   "id": "f2639cbf-6c0c-43ce-a734-adb404083557",
   "metadata": {},
   "outputs": [
    {
     "data": {
      "image/png": "[encoded data removed]",
      "text/plain": [
       "<Figure size 640x480 with 1 Axes>"
      ]
     },
     "metadata": {},
     "output_type": "display_data"
    }
   ],
   "source": [
    "keyidx = 11\n",
    "for keyidx in [11,12]:\n",
    "    x = map_targetkeys_to_featkeys(features,target_coupled_blocks.keys[keyidx]).values\n",
    "    y = target_coupled_blocks[keyidx].values.flatten()\n",
    "    for f in range(1):\n",
    "        # plt.figure\n",
    "        plt.plot(x[...,f].flatten()[::5], y[::5],'.')\n"
   ]
  },
  {
   "cell_type": "code",
   "execution_count": 201,
   "id": "111df2f2-b830-4e35-a102-05d07dd95160",
   "metadata": {
    "scrolled": true
   },
   "outputs": [
    {
     "data": {
      "text/plain": [
       "[<matplotlib.lines.Line2D at 0x7ef825a2b550>]"
      ]
     },
     "execution_count": 201,
     "metadata": {},
     "output_type": "execute_result"
    },
    {
     "data": {
      "image/png": "[encoded data removed]",
      "text/plain": [
       "<Figure size 640x480 with 1 Axes>"
      ]
     },
     "metadata": {},
     "output_type": "display_data"
    }
   ],
   "source": [
    "plt.plot(target_coupled_blocks[0].values.flatten())"
   ]
  },
  {
   "cell_type": "code",
   "execution_count": null,
   "id": "136bbe8b-1b3e-4434-acd0-8ec2095bef05",
   "metadata": {},
   "outputs": [],
   "source": []
  },
  {
   "cell_type": "code",
   "execution_count": 110,
   "id": "d81992ed-7136-4a65-a956-b2db90d49fb5",
   "metadata": {},
   "outputs": [
    {
     "ename": "ValueError",
     "evalue": "x and y must have same first dimension, but have shapes torch.Size([2008]) and torch.Size([16334])",
     "output_type": "error",
     "traceback": [
      "\u001b[0;31m---------------------------------------------------------------------------\u001b[0m",
      "\u001b[0;31mValueError\u001b[0m                                Traceback (most recent call last)",
      "Cell \u001b[0;32mIn[110], line 2\u001b[0m\n\u001b[1;32m      1\u001b[0m \u001b[38;5;66;03m# plt.plot(target_coupled_blocks[12].values.flatten(), model()[12].values.flatten().detach(), '.')\u001b[39;00m\n\u001b[0;32m----> 2\u001b[0m \u001b[43mplt\u001b[49m\u001b[38;5;241;43m.\u001b[39;49m\u001b[43mplot\u001b[49m\u001b[43m(\u001b[49m\u001b[43mtarget_coupled_blocks\u001b[49m\u001b[43m[\u001b[49m\u001b[38;5;241;43m11\u001b[39;49m\u001b[43m]\u001b[49m\u001b[38;5;241;43m.\u001b[39;49m\u001b[43mvalues\u001b[49m\u001b[38;5;241;43m.\u001b[39;49m\u001b[43mflatten\u001b[49m\u001b[43m(\u001b[49m\u001b[43m)\u001b[49m\u001b[43m,\u001b[49m\u001b[43m \u001b[49m\u001b[43mmodel\u001b[49m\u001b[43m(\u001b[49m\u001b[43m)\u001b[49m\u001b[43m[\u001b[49m\u001b[38;5;241;43m11\u001b[39;49m\u001b[43m]\u001b[49m\u001b[38;5;241;43m.\u001b[39;49m\u001b[43mvalues\u001b[49m\u001b[38;5;241;43m.\u001b[39;49m\u001b[43mflatten\u001b[49m\u001b[43m(\u001b[49m\u001b[43m)\u001b[49m\u001b[38;5;241;43m.\u001b[39;49m\u001b[43mdetach\u001b[49m\u001b[43m(\u001b[49m\u001b[43m)\u001b[49m\u001b[43m,\u001b[49m\u001b[43m \u001b[49m\u001b[38;5;124;43m'\u001b[39;49m\u001b[38;5;124;43m.\u001b[39;49m\u001b[38;5;124;43m'\u001b[39;49m\u001b[43m)\u001b[49m\n\u001b[1;32m      3\u001b[0m plt\u001b[38;5;241m.\u001b[39mxlim([\u001b[38;5;241m-\u001b[39m\u001b[38;5;241m0.001\u001b[39m,\u001b[38;5;241m0.001\u001b[39m])\n\u001b[1;32m      4\u001b[0m plt\u001b[38;5;241m.\u001b[39mylim([\u001b[38;5;241m-\u001b[39m\u001b[38;5;241m0.001\u001b[39m,\u001b[38;5;241m0.001\u001b[39m])\n",
      "File \u001b[0;32m~/miniconda3/envs/temp/lib/python3.11/site-packages/matplotlib/pyplot.py:3590\u001b[0m, in \u001b[0;36mplot\u001b[0;34m(scalex, scaley, data, *args, **kwargs)\u001b[0m\n\u001b[1;32m   3582\u001b[0m \u001b[38;5;129m@_copy_docstring_and_deprecators\u001b[39m(Axes\u001b[38;5;241m.\u001b[39mplot)\n\u001b[1;32m   3583\u001b[0m \u001b[38;5;28;01mdef\u001b[39;00m \u001b[38;5;21mplot\u001b[39m(\n\u001b[1;32m   3584\u001b[0m     \u001b[38;5;241m*\u001b[39margs: \u001b[38;5;28mfloat\u001b[39m \u001b[38;5;241m|\u001b[39m ArrayLike \u001b[38;5;241m|\u001b[39m \u001b[38;5;28mstr\u001b[39m,\n\u001b[0;32m   (...)\u001b[0m\n\u001b[1;32m   3588\u001b[0m     \u001b[38;5;241m*\u001b[39m\u001b[38;5;241m*\u001b[39mkwargs,\n\u001b[1;32m   3589\u001b[0m ) \u001b[38;5;241m-\u001b[39m\u001b[38;5;241m>\u001b[39m \u001b[38;5;28mlist\u001b[39m[Line2D]:\n\u001b[0;32m-> 3590\u001b[0m     \u001b[38;5;28;01mreturn\u001b[39;00m \u001b[43mgca\u001b[49m\u001b[43m(\u001b[49m\u001b[43m)\u001b[49m\u001b[38;5;241;43m.\u001b[39;49m\u001b[43mplot\u001b[49m\u001b[43m(\u001b[49m\n\u001b[1;32m   3591\u001b[0m \u001b[43m        \u001b[49m\u001b[38;5;241;43m*\u001b[39;49m\u001b[43margs\u001b[49m\u001b[43m,\u001b[49m\n\u001b[1;32m   3592\u001b[0m \u001b[43m        \u001b[49m\u001b[43mscalex\u001b[49m\u001b[38;5;241;43m=\u001b[39;49m\u001b[43mscalex\u001b[49m\u001b[43m,\u001b[49m\n\u001b[1;32m   3593\u001b[0m \u001b[43m        \u001b[49m\u001b[43mscaley\u001b[49m\u001b[38;5;241;43m=\u001b[39;49m\u001b[43mscaley\u001b[49m\u001b[43m,\u001b[49m\n\u001b[1;32m   3594\u001b[0m \u001b[43m        \u001b[49m\u001b[38;5;241;43m*\u001b[39;49m\u001b[38;5;241;43m*\u001b[39;49m\u001b[43m(\u001b[49m\u001b[43m{\u001b[49m\u001b[38;5;124;43m\"\u001b[39;49m\u001b[38;5;124;43mdata\u001b[39;49m\u001b[38;5;124;43m\"\u001b[39;49m\u001b[43m:\u001b[49m\u001b[43m \u001b[49m\u001b[43mdata\u001b[49m\u001b[43m}\u001b[49m\u001b[43m \u001b[49m\u001b[38;5;28;43;01mif\u001b[39;49;00m\u001b[43m \u001b[49m\u001b[43mdata\u001b[49m\u001b[43m \u001b[49m\u001b[38;5;129;43;01mis\u001b[39;49;00m\u001b[43m \u001b[49m\u001b[38;5;129;43;01mnot\u001b[39;49;00m\u001b[43m \u001b[49m\u001b[38;5;28;43;01mNone\u001b[39;49;00m\u001b[43m \u001b[49m\u001b[38;5;28;43;01melse\u001b[39;49;00m\u001b[43m \u001b[49m\u001b[43m{\u001b[49m\u001b[43m}\u001b[49m\u001b[43m)\u001b[49m\u001b[43m,\u001b[49m\n\u001b[1;32m   3595\u001b[0m \u001b[43m        \u001b[49m\u001b[38;5;241;43m*\u001b[39;49m\u001b[38;5;241;43m*\u001b[39;49m\u001b[43mkwargs\u001b[49m\u001b[43m,\u001b[49m\n\u001b[1;32m   3596\u001b[0m \u001b[43m    \u001b[49m\u001b[43m)\u001b[49m\n",
      "File \u001b[0;32m~/miniconda3/envs/temp/lib/python3.11/site-packages/matplotlib/axes/_axes.py:1724\u001b[0m, in \u001b[0;36mAxes.plot\u001b[0;34m(self, scalex, scaley, data, *args, **kwargs)\u001b[0m\n\u001b[1;32m   1481\u001b[0m \u001b[38;5;250m\u001b[39m\u001b[38;5;124;03m\"\"\"\u001b[39;00m\n\u001b[1;32m   1482\u001b[0m \u001b[38;5;124;03mPlot y versus x as lines and/or markers.\u001b[39;00m\n\u001b[1;32m   1483\u001b[0m \n\u001b[0;32m   (...)\u001b[0m\n\u001b[1;32m   1721\u001b[0m \u001b[38;5;124;03m(``'green'``) or hex strings (``'#008000'``).\u001b[39;00m\n\u001b[1;32m   1722\u001b[0m \u001b[38;5;124;03m\"\"\"\u001b[39;00m\n\u001b[1;32m   1723\u001b[0m kwargs \u001b[38;5;241m=\u001b[39m cbook\u001b[38;5;241m.\u001b[39mnormalize_kwargs(kwargs, mlines\u001b[38;5;241m.\u001b[39mLine2D)\n\u001b[0;32m-> 1724\u001b[0m lines \u001b[38;5;241m=\u001b[39m [\u001b[38;5;241m*\u001b[39m\u001b[38;5;28mself\u001b[39m\u001b[38;5;241m.\u001b[39m_get_lines(\u001b[38;5;28mself\u001b[39m, \u001b[38;5;241m*\u001b[39margs, data\u001b[38;5;241m=\u001b[39mdata, \u001b[38;5;241m*\u001b[39m\u001b[38;5;241m*\u001b[39mkwargs)]\n\u001b[1;32m   1725\u001b[0m \u001b[38;5;28;01mfor\u001b[39;00m line \u001b[38;5;129;01min\u001b[39;00m lines:\n\u001b[1;32m   1726\u001b[0m     \u001b[38;5;28mself\u001b[39m\u001b[38;5;241m.\u001b[39madd_line(line)\n",
      "File \u001b[0;32m~/miniconda3/envs/temp/lib/python3.11/site-packages/matplotlib/axes/_base.py:303\u001b[0m, in \u001b[0;36m_process_plot_var_args.__call__\u001b[0;34m(self, axes, data, *args, **kwargs)\u001b[0m\n\u001b[1;32m    301\u001b[0m     this \u001b[38;5;241m+\u001b[39m\u001b[38;5;241m=\u001b[39m args[\u001b[38;5;241m0\u001b[39m],\n\u001b[1;32m    302\u001b[0m     args \u001b[38;5;241m=\u001b[39m args[\u001b[38;5;241m1\u001b[39m:]\n\u001b[0;32m--> 303\u001b[0m \u001b[38;5;28;01myield from\u001b[39;00m \u001b[38;5;28;43mself\u001b[39;49m\u001b[38;5;241;43m.\u001b[39;49m\u001b[43m_plot_args\u001b[49m\u001b[43m(\u001b[49m\n\u001b[1;32m    304\u001b[0m \u001b[43m    \u001b[49m\u001b[43maxes\u001b[49m\u001b[43m,\u001b[49m\u001b[43m \u001b[49m\u001b[43mthis\u001b[49m\u001b[43m,\u001b[49m\u001b[43m \u001b[49m\u001b[43mkwargs\u001b[49m\u001b[43m,\u001b[49m\u001b[43m \u001b[49m\u001b[43mambiguous_fmt_datakey\u001b[49m\u001b[38;5;241;43m=\u001b[39;49m\u001b[43mambiguous_fmt_datakey\u001b[49m\u001b[43m)\u001b[49m\n",
      "File \u001b[0;32m~/miniconda3/envs/temp/lib/python3.11/site-packages/matplotlib/axes/_base.py:499\u001b[0m, in \u001b[0;36m_process_plot_var_args._plot_args\u001b[0;34m(self, axes, tup, kwargs, return_kwargs, ambiguous_fmt_datakey)\u001b[0m\n\u001b[1;32m    496\u001b[0m     axes\u001b[38;5;241m.\u001b[39myaxis\u001b[38;5;241m.\u001b[39mupdate_units(y)\n\u001b[1;32m    498\u001b[0m \u001b[38;5;28;01mif\u001b[39;00m x\u001b[38;5;241m.\u001b[39mshape[\u001b[38;5;241m0\u001b[39m] \u001b[38;5;241m!=\u001b[39m y\u001b[38;5;241m.\u001b[39mshape[\u001b[38;5;241m0\u001b[39m]:\n\u001b[0;32m--> 499\u001b[0m     \u001b[38;5;28;01mraise\u001b[39;00m \u001b[38;5;167;01mValueError\u001b[39;00m(\u001b[38;5;124mf\u001b[39m\u001b[38;5;124m\"\u001b[39m\u001b[38;5;124mx and y must have same first dimension, but \u001b[39m\u001b[38;5;124m\"\u001b[39m\n\u001b[1;32m    500\u001b[0m                      \u001b[38;5;124mf\u001b[39m\u001b[38;5;124m\"\u001b[39m\u001b[38;5;124mhave shapes \u001b[39m\u001b[38;5;132;01m{\u001b[39;00mx\u001b[38;5;241m.\u001b[39mshape\u001b[38;5;132;01m}\u001b[39;00m\u001b[38;5;124m and \u001b[39m\u001b[38;5;132;01m{\u001b[39;00my\u001b[38;5;241m.\u001b[39mshape\u001b[38;5;132;01m}\u001b[39;00m\u001b[38;5;124m\"\u001b[39m)\n\u001b[1;32m    501\u001b[0m \u001b[38;5;28;01mif\u001b[39;00m x\u001b[38;5;241m.\u001b[39mndim \u001b[38;5;241m>\u001b[39m \u001b[38;5;241m2\u001b[39m \u001b[38;5;129;01mor\u001b[39;00m y\u001b[38;5;241m.\u001b[39mndim \u001b[38;5;241m>\u001b[39m \u001b[38;5;241m2\u001b[39m:\n\u001b[1;32m    502\u001b[0m     \u001b[38;5;28;01mraise\u001b[39;00m \u001b[38;5;167;01mValueError\u001b[39;00m(\u001b[38;5;124mf\u001b[39m\u001b[38;5;124m\"\u001b[39m\u001b[38;5;124mx and y can be no greater than 2D, but have \u001b[39m\u001b[38;5;124m\"\u001b[39m\n\u001b[1;32m    503\u001b[0m                      \u001b[38;5;124mf\u001b[39m\u001b[38;5;124m\"\u001b[39m\u001b[38;5;124mshapes \u001b[39m\u001b[38;5;132;01m{\u001b[39;00mx\u001b[38;5;241m.\u001b[39mshape\u001b[38;5;132;01m}\u001b[39;00m\u001b[38;5;124m and \u001b[39m\u001b[38;5;132;01m{\u001b[39;00my\u001b[38;5;241m.\u001b[39mshape\u001b[38;5;132;01m}\u001b[39;00m\u001b[38;5;124m\"\u001b[39m)\n",
      "\u001b[0;31mValueError\u001b[0m: x and y must have same first dimension, but have shapes torch.Size([2008]) and torch.Size([16334])"
     ]
    },
    {
     "data": {
      "image/png": "[encoded data removed]",
      "text/plain": [
       "<Figure size 640x480 with 1 Axes>"
      ]
     },
     "metadata": {},
     "output_type": "display_data"
    }
   ],
   "source": [
    "# plt.plot(target_coupled_blocks[12].values.flatten(), model()[12].values.flatten().detach(), '.')\n",
    "plt.plot(target_coupled_blocks[11].values.flatten(), model()[11].values.flatten().detach(), '.')\n",
    "plt.xlim([-0.001,0.001])\n",
    "plt.ylim([-0.001,0.001])"
   ]
  },
  {
   "cell_type": "code",
   "execution_count": null,
   "id": "355b7bda-1b68-4bba-856b-cd8c6450d90e",
   "metadata": {},
   "outputs": [],
   "source": [
    "plt.plot(target_coupled_blocks[11].values.flatten(), model()[11].values.flatten().detach(), '.')"
   ]
  },
  {
   "cell_type": "code",
   "execution_count": 30,
   "id": "658c02a0-2d87-437a-a14c-a237539ac7c4",
   "metadata": {},
   "outputs": [
    {
     "name": "stdout",
     "output_type": "stream",
     "text": [
      "tensor(3.4016e-05, grad_fn=<MeanBackward0>)\n",
      "tensor(3.1496e-05, grad_fn=<MeanBackward0>)\n",
      "tensor(2.7402e-05, grad_fn=<MeanBackward0>)\n",
      "tensor(1.9706e-05, grad_fn=<MeanBackward0>)\n",
      "tensor(0.0027, grad_fn=<MeanBackward0>)\n",
      "tensor(0.0003, grad_fn=<MeanBackward0>)\n",
      "tensor(2.1296e-05, grad_fn=<MeanBackward0>)\n",
      "tensor(0.0002, grad_fn=<MeanBackward0>)\n",
      "tensor(1.4506e-05, grad_fn=<MeanBackward0>)\n",
      "tensor(0.0001, grad_fn=<MeanBackward0>)\n",
      "tensor(3.3422e-05, grad_fn=<MeanBackward0>)\n",
      "tensor(4.3874e-05, grad_fn=<MeanBackward0>)\n",
      "tensor(5.9821e-05, grad_fn=<MeanBackward0>)\n",
      "tensor(4.9501e-06, grad_fn=<MeanBackward0>)\n",
      "tensor(8.1422e-05, grad_fn=<MeanBackward0>)\n",
      "tensor(1.2849e-05, grad_fn=<MeanBackward0>)\n",
      "tensor(7.3912e-05, grad_fn=<MeanBackward0>)\n",
      "tensor(6.4956e-05, grad_fn=<MeanBackward0>)\n"
     ]
    }
   ],
   "source": [
    "for b in mts.subtract(model(), target_coupled_blocks).blocks():\n",
    "    print(torch.abs(b.values).mean())"
   ]
  },
  {
   "cell_type": "code",
   "execution_count": 49,
   "id": "d1de51fa-a7f9-46d0-848a-2c53a8766968",
   "metadata": {},
   "outputs": [
    {
     "data": {
      "text/plain": [
       "[<matplotlib.lines.Line2D at 0x79903c284a90>]"
      ]
     },
     "execution_count": 49,
     "metadata": {},
     "output_type": "execute_result"
    },
    {
     "data": {
      "image/png": "[encoded data removed]",
      "text/plain": [
       "<Figure size 640x480 with 1 Axes>"
      ]
     },
     "metadata": {},
     "output_type": "display_data"
    }
   ],
   "source": [
    "plt.loglog(LOSS_LIST)"
   ]
  },
  {
   "cell_type": "code",
   "execution_count": 86,
   "id": "a1f6f322-1694-4a76-96a1-c6b7151c4b72",
   "metadata": {},
   "outputs": [
    {
     "name": "stdout",
     "output_type": "stream",
     "text": [
      "Epoch       0, train loss 5496.0295864783, avg lr = 0.001\n",
      "Epoch       1, train loss 4717.5638229153, avg lr = 0.001\n",
      "Epoch       2, train loss 4331.9782585512, avg lr = 0.001\n",
      "Epoch       3, train loss 4051.0466575342, avg lr = 0.001\n",
      "Epoch       4, train loss 3812.3163783132, avg lr = 0.001\n",
      "Epoch       5, train loss 3591.1969913513, avg lr = 0.001\n",
      "Epoch       6, train loss 3384.1479565959, avg lr = 0.001\n",
      "Epoch       7, train loss 3186.6593445958, avg lr = 0.001\n",
      "Epoch       8, train loss 2993.8159987875, avg lr = 0.001\n",
      "Epoch       9, train loss 2801.4397752083, avg lr = 0.001\n",
      "Epoch      10, train loss 2606.4725344421, avg lr = 0.001\n",
      "Epoch      11, train loss 2410.6770568707, avg lr = 0.001\n",
      "Epoch      12, train loss 2214.6587748237, avg lr = 0.001\n",
      "Epoch      13, train loss 2017.9251521149, avg lr = 0.001\n",
      "Epoch      14, train loss 1820.0987684940, avg lr = 0.001\n",
      "Epoch      15, train loss 1621.0406197192, avg lr = 0.001\n",
      "Epoch      16, train loss 1420.6902653086, avg lr = 0.001\n",
      "Epoch      17, train loss 1219.3441260079, avg lr = 0.001\n",
      "Epoch      18, train loss 1018.1978997645, avg lr = 0.001\n",
      "Epoch      19, train loss  820.1444041154, avg lr = 0.001\n",
      "Epoch      20, train loss  629.8965684515, avg lr = 0.001\n",
      "Epoch      21, train loss  454.4351755469, avg lr = 0.001\n",
      "Epoch      22, train loss  303.0426643494, avg lr = 0.001\n",
      "Epoch      23, train loss  178.2918526285, avg lr = 0.001\n",
      "Epoch      24, train loss   80.7689065689, avg lr = 0.001\n",
      "Epoch      25, train loss   24.4457153703, avg lr = 0.001\n",
      "Epoch      26, train loss   21.7386082831, avg lr = 0.001\n",
      "Epoch      27, train loss   57.3959069229, avg lr = 0.001\n",
      "Epoch      28, train loss  103.9588079248, avg lr = 0.001\n",
      "Epoch      29, train loss  139.5180911458, avg lr = 0.0008\n",
      "Epoch      30, train loss  150.1663731938, avg lr = 0.0008\n",
      "Epoch      31, train loss  135.1857292650, avg lr = 0.0008\n",
      "Epoch      32, train loss  100.2700583353, avg lr = 0.00064\n",
      "Epoch      33, train loss   54.8036767930, avg lr = 0.00064\n",
      "Epoch      34, train loss   21.4370274117, avg lr = 0.00064\n",
      "Epoch      35, train loss    6.0632402675, avg lr = 0.00064\n",
      "Epoch      36, train loss   17.2873386691, avg lr = 0.00064\n",
      "Epoch      37, train loss   30.7836086618, avg lr = 0.00064\n",
      "Epoch      38, train loss   30.9318740491, avg lr = 0.0005120000000000001\n",
      "Epoch      39, train loss   20.1316482605, avg lr = 0.0005120000000000001\n",
      "Epoch      40, train loss    9.6619251330, avg lr = 0.0005120000000000001\n",
      "Epoch      41, train loss    3.7666952778, avg lr = 0.0005120000000000001\n",
      "Epoch      42, train loss    5.3189067176, avg lr = 0.0005120000000000001\n",
      "Epoch      43, train loss    9.4566778551, avg lr = 0.0005120000000000001\n",
      "Epoch      44, train loss   10.8862682526, avg lr = 0.00040960000000000014\n",
      "Epoch      45, train loss    8.8379983721, avg lr = 0.00040960000000000014\n",
      "Epoch      46, train loss    5.8831520242, avg lr = 0.00040960000000000014\n",
      "Epoch      47, train loss    4.0665780908, avg lr = 0.0003276800000000001\n",
      "Epoch      48, train loss    4.0571528549, avg lr = 0.0003276800000000001\n",
      "Epoch      49, train loss    3.7350941244, avg lr = 0.0003276800000000001\n",
      "Epoch      50, train loss    2.4961239016, avg lr = 0.0003276800000000001\n",
      "Epoch      51, train loss    1.1383358110, avg lr = 0.0003276800000000001\n",
      "Epoch      52, train loss    1.0352851135, avg lr = 0.0003276800000000001\n",
      "Epoch      53, train loss    1.7205474602, avg lr = 0.0003276800000000001\n",
      "Epoch      54, train loss    1.8393518436, avg lr = 0.0003276800000000001\n",
      "Epoch      55, train loss    1.2407354713, avg lr = 0.0002621440000000001\n",
      "Epoch      56, train loss    0.6674993114, avg lr = 0.0002621440000000001\n",
      "Epoch      57, train loss    0.5481784618, avg lr = 0.0002621440000000001\n",
      "Epoch      58, train loss    0.4704003540, avg lr = 0.0002621440000000001\n",
      "Epoch      59, train loss    0.2974924793, avg lr = 0.0002621440000000001\n",
      "Epoch      60, train loss    0.4102868280, avg lr = 0.0002621440000000001\n",
      "Epoch      61, train loss    0.6253495866, avg lr = 0.0002621440000000001\n",
      "Epoch      62, train loss    0.5018216254, avg lr = 0.00020971520000000012\n",
      "Epoch      63, train loss    0.2611063858, avg lr = 0.00020971520000000012\n",
      "Unexpected exception formatting exception. Falling back to standard exception\n"
     ]
    },
    {
     "name": "stderr",
     "output_type": "stream",
     "text": [
      "Traceback (most recent call last):\n",
      "  File \"/home/pegolo/micromamba/envs/sci/lib/python3.11/site-packages/IPython/core/interactiveshell.py\", line 3553, in run_code\n",
      "    exec(code_obj, self.user_global_ns, self.user_ns)\n",
      "  File \"/tmp/ipykernel_382400/640400133.py\", line 25, in <module>\n",
      "    targ_kspace = TMap_bloch_sums(batch.target, phase, indices, kpts_idx, return_tensormap = True)\n",
      "                  ^^^^^^^^^^^^^^^^^^^^^^^^^^^^^^^^^^^^^^^^^^^^^^^^^^^^^^^^^^^^^^^^^^^^^^^^^^^^^^^^\n",
      "  File \"/home/pegolo/Software/mlelec/src/mlelec/utils/pbc_utils.py\", line None, in TMap_bloch_sums\n",
      "KeyboardInterrupt\n",
      "\n",
      "During handling of the above exception, another exception occurred:\n",
      "\n",
      "Traceback (most recent call last):\n",
      "  File \"/home/pegolo/micromamba/envs/sci/lib/python3.11/site-packages/IPython/core/interactiveshell.py\", line 2144, in showtraceback\n",
      "    stb = self.InteractiveTB.structured_traceback(\n",
      "          ^^^^^^^^^^^^^^^^^^^^^^^^^^^^^^^^^^^^^^^^\n",
      "  File \"/home/pegolo/micromamba/envs/sci/lib/python3.11/site-packages/IPython/core/ultratb.py\", line 1435, in structured_traceback\n",
      "    return FormattedTB.structured_traceback(\n",
      "           ^^^^^^^^^^^^^^^^^^^^^^^^^^^^^^^^^\n",
      "  File \"/home/pegolo/micromamba/envs/sci/lib/python3.11/site-packages/IPython/core/ultratb.py\", line 1326, in structured_traceback\n",
      "    return VerboseTB.structured_traceback(\n",
      "           ^^^^^^^^^^^^^^^^^^^^^^^^^^^^^^^\n",
      "  File \"/home/pegolo/micromamba/envs/sci/lib/python3.11/site-packages/IPython/core/ultratb.py\", line 1173, in structured_traceback\n",
      "    formatted_exception = self.format_exception_as_a_whole(etype, evalue, etb, number_of_lines_of_context,\n",
      "                          ^^^^^^^^^^^^^^^^^^^^^^^^^^^^^^^^^^^^^^^^^^^^^^^^^^^^^^^^^^^^^^^^^^^^^^^^^^^^^^^^\n",
      "  File \"/home/pegolo/micromamba/envs/sci/lib/python3.11/site-packages/IPython/core/ultratb.py\", line 1088, in format_exception_as_a_whole\n",
      "    frames.append(self.format_record(record))\n",
      "                  ^^^^^^^^^^^^^^^^^^^^^^^^^^\n",
      "  File \"/home/pegolo/micromamba/envs/sci/lib/python3.11/site-packages/IPython/core/ultratb.py\", line 970, in format_record\n",
      "    frame_info.lines, Colors, self.has_colors, lvals\n",
      "    ^^^^^^^^^^^^^^^^\n",
      "  File \"/home/pegolo/micromamba/envs/sci/lib/python3.11/site-packages/IPython/core/ultratb.py\", line 792, in lines\n",
      "    return self._sd.lines\n",
      "           ^^^^^^^^^^^^^^\n",
      "  File \"/home/pegolo/micromamba/envs/sci/lib/python3.11/site-packages/stack_data/utils.py\", line 144, in cached_property_wrapper\n",
      "    value = obj.__dict__[self.func.__name__] = self.func(obj)\n",
      "                                               ^^^^^^^^^^^^^^\n",
      "  File \"/home/pegolo/micromamba/envs/sci/lib/python3.11/site-packages/stack_data/core.py\", line 734, in lines\n",
      "    pieces = self.included_pieces\n",
      "             ^^^^^^^^^^^^^^^^^^^^\n",
      "  File \"/home/pegolo/micromamba/envs/sci/lib/python3.11/site-packages/stack_data/utils.py\", line 144, in cached_property_wrapper\n",
      "    value = obj.__dict__[self.func.__name__] = self.func(obj)\n",
      "                                               ^^^^^^^^^^^^^^\n",
      "  File \"/home/pegolo/micromamba/envs/sci/lib/python3.11/site-packages/stack_data/core.py\", line 681, in included_pieces\n",
      "    pos = scope_pieces.index(self.executing_piece)\n",
      "                             ^^^^^^^^^^^^^^^^^^^^\n",
      "  File \"/home/pegolo/micromamba/envs/sci/lib/python3.11/site-packages/stack_data/utils.py\", line 144, in cached_property_wrapper\n",
      "    value = obj.__dict__[self.func.__name__] = self.func(obj)\n",
      "                                               ^^^^^^^^^^^^^^\n",
      "  File \"/home/pegolo/micromamba/envs/sci/lib/python3.11/site-packages/stack_data/core.py\", line 660, in executing_piece\n",
      "    return only(\n",
      "           ^^^^^\n",
      "  File \"/home/pegolo/micromamba/envs/sci/lib/python3.11/site-packages/executing/executing.py\", line 116, in only\n",
      "    raise NotOneValueFound('Expected one value, found 0')\n",
      "executing.executing.NotOneValueFound: Expected one value, found 0\n"
     ]
    }
   ],
   "source": [
    "# %%timeit -n 1 -r 1\n",
    "\n",
    "train_kspace = False\n",
    "LOSS_LIST = []\n",
    "\n",
    "nepoch = 100\n",
    "for epoch in range(nepoch):\n",
    "\n",
    "    if epoch >= 100:\n",
    "        train_kspace = True\n",
    "\n",
    "    if not train_kspace:\n",
    "        # Train against real space targets\n",
    "        LOSS = 0\n",
    "        lr = []\n",
    "        for ib, batch in enumerate(dataloader):\n",
    "            \n",
    "            model.train(True)\n",
    "            \n",
    "            for ik, key in enumerate(model.model):\n",
    "                optimizers[ik].zero_grad()\n",
    "            \n",
    "            pred = model.predict_batch(batch.descriptor, batch.target)\n",
    "            pred_kspace = TMap_bloch_sums(pred, phase, indices, kpts_idx, return_tensormap = True)\n",
    "            targ_kspace = TMap_bloch_sums(batch.target, phase, indices, kpts_idx, return_tensormap = True)\n",
    "            # Compute the loss\n",
    "            loss = L2_loss(pred_kspace, targ_kspace, norm = 2*np.prod(dataset.kmesh[0]))\n",
    "    \n",
    "            # Total loss \n",
    "            epoch_loss = loss.item()\n",
    "            LOSS += epoch_loss\n",
    "                   \n",
    "            loss.backward(retain_graph = True)\n",
    "            torch.nn.utils.clip_grad_norm_(model.parameters(), 1)\n",
    "            for ik, key in enumerate(model.model):\n",
    "                optimizers[ik].step()\n",
    "                schedulers[ik].step(epoch_loss/len(model.model))\n",
    "                lr.append(schedulers[ik].get_last_lr())\n",
    "\n",
    "    if epoch >= 0: #% 10 == 0:\n",
    "        # print(f\"Epoch {epoch:>7d}, train loss on all blocks {epoch_loss:>15.10f}, train loss per prediction {np.sqrt(epoch_loss)/n_predictions:>6.5e}\")\n",
    "        # print(f\"Epoch {epoch:>7d}, train loss real {loss_real[-1]:>15.10f}\") #, train loss k {loss_k[-1]:>15.10f}, train loss per prediction {np.sqrt(epoch_loss)/n_predictions:>6.5e}\")\n",
    "        LOSS_LIST.append(LOSS)\n",
    "        print(f\"Epoch {epoch:>7d}, train loss {LOSS:>15.10f}, avg lr = {np.mean(lr)}\") #, train loss k {loss_k[-1]:>15.10f}, train loss per prediction {np.sqrt(epoch_loss)/n_predictions:>6.5e}\")"
   ]
  },
  {
   "cell_type": "code",
   "execution_count": 174,
   "id": "f68d2479-2ba0-4d4f-9222-8c1859657bdf",
   "metadata": {},
   "outputs": [
    {
     "data": {
      "text/plain": [
       "Cell([8.542800228790643, 8.542800228790643, 8.542800228790643])"
      ]
     },
     "execution_count": 174,
     "metadata": {},
     "output_type": "execute_result"
    }
   ],
   "source": [
    "dataset.structures[0].cell"
   ]
  },
  {
   "cell_type": "code",
   "execution_count": 162,
   "id": "6b5cdec0-50f6-407a-bccb-5b0ffa65144b",
   "metadata": {},
   "outputs": [],
   "source": [
    "k2 = TMap_bloch_sums(target_coupled_blocks, phase, indices, kpts_idx, return_tensormap = True)"
   ]
  },
  {
   "cell_type": "code",
   "execution_count": 163,
   "id": "f8eec300-1405-46d7-93c9-01badd938d2d",
   "metadata": {},
   "outputs": [
    {
     "name": "stdout",
     "output_type": "stream",
     "text": [
      "[-1  6  1  0  6  1  0  0] tensor(0.) 0.0 0.0\n",
      "[-1  6  1  0  6  2  0  0] tensor(3.1257e-16) 0.0025572508658906453 0.002557250865890646\n",
      "[-1  6  1  0  6  2  1  1] tensor(1.6350e-15) 40.72780678142617 40.72780678142617\n",
      "[-1  6  2  0  6  2  0  0] tensor(6.3381e-16) 6.338062266723161e-16 0.0\n",
      "[-1  6  2  0  6  2  1  1] tensor(1.0408e-08) 25.051277416867478 25.051277416867478\n",
      "[-1  6  2  1  6  2  1  0] tensor(1.1460e-16) 1.1460261317758946e-16 0.0\n",
      "[-1  6  2  1  6  2  1  1] tensor(5.2874e-10) 3.0689125929140286 3.06891259291404\n",
      "[-1  6  2  1  6  2  1  2] tensor(2.4840e-16) 2.483987105539217e-16 0.0\n",
      "[1 6 1 0 6 1 0 0] tensor(9.4130e-14) 520.4349000395782 520.4349000395783\n",
      "[1 6 1 0 6 2 0 0] tensor(2.5505e-14) 145.1343696149979 145.1343696149979\n",
      "[1 6 1 0 6 2 1 1] tensor(3.9474e-16) 0.09952127864094654 0.09952127864094654\n",
      "[1 6 2 0 6 2 0 0] tensor(2.6943e-09) 63.80870955436984 63.808709554369884\n",
      "[1 6 2 0 6 2 1 1] tensor(1.0648e-10) 2.7829623807974193 2.782962380797427\n",
      "[1 6 2 1 6 2 1 0] tensor(2.1782e-08) 4.179232892160608 4.179232892160614\n",
      "[1 6 2 1 6 2 1 1] tensor(3.1763e-16) 1.471350781490843e-14 1.4697518947786857e-14\n",
      "[1 6 2 1 6 2 1 2] tensor(3.2776e-08) 16.946971809144156 16.946971809144166\n"
     ]
    }
   ],
   "source": [
    "for (k,b), (k1,b1), (k3,b3) in zip(mts.subtract(k2, k_target_coupled_blocks).items(), k_target_coupled_blocks.items(), k2.items()):\n",
    "    print(k.values,b.values.norm(),b1.values.norm().item(),b3.values.norm().item())"
   ]
  },
  {
   "cell_type": "code",
   "execution_count": 168,
   "id": "fcdf379f-460e-46d5-aa89-393156c79f48",
   "metadata": {},
   "outputs": [
    {
     "data": {
      "text/plain": [
       "torch.Size([43092, 5, 1])"
      ]
     },
     "execution_count": 168,
     "metadata": {},
     "output_type": "execute_result"
    }
   ],
   "source": [
    "torch.abs(b1.values-b3.values).shape"
   ]
  },
  {
   "cell_type": "code",
   "execution_count": 170,
   "id": "96c95c82-2d6f-4f6d-9cf6-56614fb6fb56",
   "metadata": {},
   "outputs": [
    {
     "data": {
      "text/plain": [
       "tensor(18345)"
      ]
     },
     "execution_count": 170,
     "metadata": {},
     "output_type": "execute_result"
    }
   ],
   "source": [
    "torch.argmax(torch.abs((b1.values-b3.values)[:,0,0]))"
   ]
  },
  {
   "cell_type": "code",
   "execution_count": 171,
   "id": "c77f905c-ed7c-4632-a7cd-127461097ed0",
   "metadata": {},
   "outputs": [
    {
     "data": {
      "text/plain": [
       "LabelsValues([ 0, 13, 42, 12], dtype=int32)"
      ]
     },
     "execution_count": 171,
     "metadata": {},
     "output_type": "execute_result"
    }
   ],
   "source": [
    "b1.samples.values[18345]"
   ]
  },
  {
   "cell_type": "code",
   "execution_count": null,
   "id": "5d2de75d-2057-4dca-8abd-58154efc38f0",
   "metadata": {},
   "outputs": [],
   "source": []
  },
  {
   "cell_type": "code",
   "execution_count": 128,
   "id": "df93b034-078c-4bbc-84ec-f46ecd3b36f8",
   "metadata": {},
   "outputs": [
    {
     "data": {
      "text/plain": [
       "tensor([[ 1.0000+0.0000j],\n",
       "        [ 1.0000+0.0000j],\n",
       "        [ 1.0000+0.0000j],\n",
       "        [-0.5000-0.8660j],\n",
       "        [-0.5000-0.8660j],\n",
       "        [-0.5000-0.8660j],\n",
       "        [-0.5000+0.8660j],\n",
       "        [-0.5000+0.8660j],\n",
       "        [-0.5000+0.8660j],\n",
       "        [ 1.0000+0.0000j],\n",
       "        [ 1.0000+0.0000j],\n",
       "        [ 1.0000+0.0000j],\n",
       "        [-0.5000-0.8660j],\n",
       "        [-0.5000-0.8660j],\n",
       "        [-0.5000-0.8660j],\n",
       "        [-0.5000+0.8660j],\n",
       "        [-0.5000+0.8660j],\n",
       "        [-0.5000+0.8660j],\n",
       "        [ 1.0000+0.0000j],\n",
       "        [ 1.0000+0.0000j],\n",
       "        [ 1.0000+0.0000j],\n",
       "        [-0.5000-0.8660j],\n",
       "        [-0.5000-0.8660j],\n",
       "        [-0.5000-0.8660j],\n",
       "        [-0.5000+0.8660j],\n",
       "        [-0.5000+0.8660j],\n",
       "        [-0.5000+0.8660j]])"
      ]
     },
     "execution_count": 128,
     "metadata": {},
     "output_type": "execute_result"
    }
   ],
   "source": [
    "phase[tuple(k1.values)][0,18,44]"
   ]
  },
  {
   "cell_type": "code",
   "execution_count": 116,
   "id": "46b57eec-00e6-4b0f-809b-b5c7b7659cd1",
   "metadata": {},
   "outputs": [
    {
     "data": {
      "text/plain": [
       "(tensor([[ 0.0433+9.5638e-09j],\n",
       "         [-0.0905+5.9029e-08j],\n",
       "         [ 0.0447+1.7256e-07j],\n",
       "         [-0.0657+4.8182e-08j],\n",
       "         [-0.0021-1.6129e-09j]]),\n",
       " tensor([[ 0.0433+0.j],\n",
       "         [-0.0905+0.j],\n",
       "         [ 0.0447+0.j],\n",
       "         [-0.0657+0.j],\n",
       "         [-0.0021+0.j]]))"
      ]
     },
     "execution_count": 116,
     "metadata": {},
     "output_type": "execute_result"
    }
   ],
   "source": [
    "b1.values[18632],b3.values[18632]"
   ]
  },
  {
   "cell_type": "code",
   "execution_count": 173,
   "id": "34064530-767f-464b-a5f7-3db85f76ac5a",
   "metadata": {},
   "outputs": [
    {
     "data": {
      "text/plain": [
       "<matplotlib.colorbar.Colorbar at 0x7733d9bbd0d0>"
      ]
     },
     "execution_count": 173,
     "metadata": {},
     "output_type": "execute_result"
    },
    {
     "data": {
      "image/png": "[encoded data removed]",
      "text/plain": [
       "<Figure size 480x480 with 2 Axes>"
      ]
     },
     "metadata": {},
     "output_type": "display_data"
    },
    {
     "data": {
      "image/png": "[encoded data removed]",
      "text/plain": [
       "<Figure size 480x480 with 2 Axes>"
      ]
     },
     "metadata": {},
     "output_type": "display_data"
    }
   ],
   "source": [
    "plt.matshow(dataset.fock_kspace[0][12][13*5:14*5,42*5:43*5].real)\n",
    "plt.colorbar()\n",
    "plt.matshow(dataset.fock_kspace[0][12][13*5:14*5,42*5:43*5].imag)\n",
    "plt.colorbar()"
   ]
  },
  {
   "cell_type": "code",
   "execution_count": 80,
   "id": "d22e5cae-6516-475f-be74-138cf1f6835a",
   "metadata": {},
   "outputs": [],
   "source": [
    "pred_kspace = TMap_bloch_sums(pred, phase, indices, kpts_idx, return_tensormap = True)"
   ]
  },
  {
   "cell_type": "code",
   "execution_count": 84,
   "id": "da116ef9-b9d9-4705-8355-868a24412b39",
   "metadata": {},
   "outputs": [
    {
     "data": {
      "text/plain": [
       "tensor(0.0027, grad_fn=<AddBackward0>)"
      ]
     },
     "execution_count": 84,
     "metadata": {},
     "output_type": "execute_result"
    }
   ],
   "source": [
    "L2_loss(pred_kspace, k_target_coupled_blocks, norm = 2*np.prod(dataset.kmesh[0]))"
   ]
  },
  {
   "cell_type": "code",
   "execution_count": 172,
   "id": "962e7f3e-2704-472c-bd15-44c732911fe8",
   "metadata": {},
   "outputs": [
    {
     "name": "stdout",
     "output_type": "stream",
     "text": [
      "5.977323695534088\n",
      "(0, 0, 0) tensor([[ 0.0000e+00,  0.0000e+00,  0.0000e+00,  0.0000e+00,  0.0000e+00],\n",
      "        [-3.3928e-15, -9.6079e-07, -2.3023e-06,  4.3447e-07, -1.1737e-06],\n",
      "        [ 1.4204e-14,  2.3800e-06,  5.3679e-06, -1.0837e-06,  2.9035e-06],\n",
      "        [ 1.0351e-16, -4.0062e-07, -9.5743e-07, -9.4154e-08, -4.8094e-07],\n",
      "        [ 6.1733e-15,  1.1333e-06,  2.6957e-06, -5.0607e-07,  1.0931e-06]])\n",
      "12.380601876709793\n",
      "(-1, 0, 0) tensor([[0., 0., 0., 0., 0.],\n",
      "        [0., 0., 0., 0., 0.],\n",
      "        [0., 0., 0., 0., 0.],\n",
      "        [0., 0., 0., 0., 0.],\n",
      "        [0., 0., 0., 0., 0.]])\n",
      "8.008518326809737\n",
      "(1, 0, 0) tensor([[ 0.0000e+00,  0.0000e+00,  0.0000e+00,  0.0000e+00,  0.0000e+00],\n",
      "        [ 0.0000e+00, -2.5787e-11, -6.6217e-11,  1.2049e-11,  7.2680e-11],\n",
      "        [ 0.0000e+00,  6.4879e-11,  1.5821e-10, -3.0182e-11, -1.8236e-10],\n",
      "        [ 0.0000e+00, -1.1329e-11, -2.8924e-11, -2.2712e-12,  3.2320e-11],\n",
      "        [ 0.0000e+00, -7.4254e-11, -1.9042e-10,  3.5167e-11,  2.0094e-10]])\n",
      "14.112664872726361\n",
      "(0, -1, 0) tensor([[0., 0., 0., 0., 0.],\n",
      "        [0., 0., 0., 0., 0.],\n",
      "        [0., 0., 0., 0., 0.],\n",
      "        [0., 0., 0., 0., 0.],\n",
      "        [0., 0., 0., 0., 0.]])\n",
      "4.2718097816444205\n",
      "(0, 1, 0) tensor([[ 0.0000e+00, -1.9433e-06,  5.8906e-06,  1.7120e-06, -4.7311e-06],\n",
      "        [-1.9469e-06, -7.5014e-04,  1.1033e-03,  2.4833e-04, -8.5828e-04],\n",
      "        [-5.9009e-06, -1.1604e-03,  1.5459e-03,  3.5232e-04, -1.3391e-03],\n",
      "        [-1.7152e-06, -4.0614e-04,  5.8771e-04, -7.6954e-05, -4.9453e-04],\n",
      "        [ 4.7393e-06,  9.5543e-04, -1.4261e-03, -3.3077e-04,  8.7038e-04]])\n",
      "9.621666629993864\n",
      "(0, 0, -1) tensor([[0., 0., 0., 0., 0.],\n",
      "        [0., 0., 0., 0., 0.],\n",
      "        [0., 0., 0., 0., 0.],\n",
      "        [0., 0., 0., 0., 0.],\n",
      "        [0., 0., 0., 0., 0.]])\n",
      "11.173146373412461\n",
      "(0, 0, 1) tensor([[0., 0., 0., 0., 0.],\n",
      "        [0., 0., 0., 0., 0.],\n",
      "        [0., 0., 0., 0., 0.],\n",
      "        [0., 0., 0., 0., 0.],\n",
      "        [0., 0., 0., 0., 0.]])\n",
      "17.796578718345877\n",
      "(-1, -1, 0) tensor([[0., 0., 0., 0., 0.],\n",
      "        [0., 0., 0., 0., 0.],\n",
      "        [0., 0., 0., 0., 0.],\n",
      "        [0., 0., 0., 0., 0.],\n",
      "        [0., 0., 0., 0., 0.]])\n",
      "15.085598332168953\n",
      "(1, -1, 0) tensor([[0., 0., 0., 0., 0.],\n",
      "        [0., 0., 0., 0., 0.],\n",
      "        [0., 0., 0., 0., 0.],\n",
      "        [0., 0., 0., 0., 0.],\n",
      "        [0., 0., 0., 0., 0.]])\n",
      "11.653294087036064\n",
      "(-1, 1, 0) tensor([[0., 0., 0., 0., 0.],\n",
      "        [0., 0., 0., 0., 0.],\n",
      "        [0., 0., 0., 0., 0.],\n",
      "        [0., 0., 0., 0., 0.],\n",
      "        [0., 0., 0., 0., 0.]])\n",
      "6.830543612349393\n",
      "(1, 1, 0) tensor([[ 0.0000e+00,  0.0000e+00,  0.0000e+00,  0.0000e+00,  0.0000e+00],\n",
      "        [ 0.0000e+00, -1.7471e-08,  2.7271e-08,  7.2246e-09,  4.8210e-08],\n",
      "        [ 0.0000e+00, -2.6139e-08,  3.5365e-08,  1.0866e-08,  7.1886e-08],\n",
      "        [ 0.0000e+00, -8.2990e-09,  1.3136e-08, -1.8091e-09,  2.2715e-08],\n",
      "        [ 0.0000e+00, -4.9360e-08,  7.7090e-08,  2.0081e-08,  1.3042e-07]])\n",
      "14.495770866260761\n",
      "(-1, 0, -1) tensor([[0., 0., 0., 0., 0.],\n",
      "        [0., 0., 0., 0., 0.],\n",
      "        [0., 0., 0., 0., 0.],\n",
      "        [0., 0., 0., 0., 0.],\n",
      "        [0., 0., 0., 0., 0.]])\n",
      "10.99929252126661\n",
      "(1, 0, -1) tensor([[0., 0., 0., 0., 0.],\n",
      "        [0., 0., 0., 0., 0.],\n",
      "        [0., 0., 0., 0., 0.],\n",
      "        [0., 0., 0., 0., 0.],\n",
      "        [0., 0., 0., 0., 0.]])\n",
      "15.568882559454831\n",
      "(-1, 0, 1) tensor([[0., 0., 0., 0., 0.],\n",
      "        [0., 0., 0., 0., 0.],\n",
      "        [0., 0., 0., 0., 0.],\n",
      "        [0., 0., 0., 0., 0.],\n",
      "        [0., 0., 0., 0., 0.]])\n",
      "12.379303983316435\n",
      "(1, 0, 1) tensor([[0., 0., 0., 0., 0.],\n",
      "        [0., 0., 0., 0., 0.],\n",
      "        [0., 0., 0., 0., 0.],\n",
      "        [0., 0., 0., 0., 0.],\n",
      "        [0., 0., 0., 0., 0.]])\n",
      "16.000480617388614\n",
      "(0, -1, -1) tensor([[0., 0., 0., 0., 0.],\n",
      "        [0., 0., 0., 0., 0.],\n",
      "        [0., 0., 0., 0., 0.],\n",
      "        [0., 0., 0., 0., 0.],\n",
      "        [0., 0., 0., 0., 0.]])\n",
      "8.66581957971069\n",
      "(0, 1, -1) tensor([[0., 0., 0., 0., 0.],\n",
      "        [0., 0., 0., 0., 0.],\n",
      "        [0., 0., 0., 0., 0.],\n",
      "        [0., 0., 0., 0., 0.],\n",
      "        [0., 0., 0., 0., 0.]])\n",
      "16.97875469904643\n",
      "(0, -1, 1) tensor([[0., 0., 0., 0., 0.],\n",
      "        [0., 0., 0., 0., 0.],\n",
      "        [0., 0., 0., 0., 0.],\n",
      "        [0., 0., 0., 0., 0.],\n",
      "        [0., 0., 0., 0., 0.]])\n",
      "10.361426549035595\n",
      "(0, 1, 1) tensor([[0., 0., 0., 0., 0.],\n",
      "        [0., 0., 0., 0., 0.],\n",
      "        [0., 0., 0., 0., 0.],\n",
      "        [0., 0., 0., 0., 0.],\n",
      "        [0., 0., 0., 0., 0.]])\n",
      "19.32786289934367\n",
      "(-1, -1, -1) tensor([[0., 0., 0., 0., 0.],\n",
      "        [0., 0., 0., 0., 0.],\n",
      "        [0., 0., 0., 0., 0.],\n",
      "        [0., 0., 0., 0., 0.],\n",
      "        [0., 0., 0., 0., 0.]])\n",
      "16.864855386782388\n",
      "(1, -1, -1) tensor([[0., 0., 0., 0., 0.],\n",
      "        [0., 0., 0., 0., 0.],\n",
      "        [0., 0., 0., 0., 0.],\n",
      "        [0., 0., 0., 0., 0.],\n",
      "        [0., 0., 0., 0., 0.]])\n",
      "13.87974543197727\n",
      "(-1, 1, -1) tensor([[0., 0., 0., 0., 0.],\n",
      "        [0., 0., 0., 0., 0.],\n",
      "        [0., 0., 0., 0., 0.],\n",
      "        [0., 0., 0., 0., 0.],\n",
      "        [0., 0., 0., 0., 0.]])\n",
      "20.145198321158023\n",
      "(-1, -1, 1) tensor([[0., 0., 0., 0., 0.],\n",
      "        [0., 0., 0., 0., 0.],\n",
      "        [0., 0., 0., 0., 0.],\n",
      "        [0., 0., 0., 0., 0.],\n",
      "        [0., 0., 0., 0., 0.]])\n",
      "10.173711034708589\n",
      "(1, 1, -1) tensor([[0., 0., 0., 0., 0.],\n",
      "        [0., 0., 0., 0., 0.],\n",
      "        [0., 0., 0., 0., 0.],\n",
      "        [0., 0., 0., 0., 0.],\n",
      "        [0., 0., 0., 0., 0.]])\n",
      "17.795675833191765\n",
      "(1, -1, 1) tensor([[0., 0., 0., 0., 0.],\n",
      "        [0., 0., 0., 0., 0.],\n",
      "        [0., 0., 0., 0., 0.],\n",
      "        [0., 0., 0., 0., 0.],\n",
      "        [0., 0., 0., 0., 0.]])\n",
      "14.997001847017838\n",
      "(-1, 1, 1) tensor([[0., 0., 0., 0., 0.],\n",
      "        [0., 0., 0., 0., 0.],\n",
      "        [0., 0., 0., 0., 0.],\n",
      "        [0., 0., 0., 0., 0.],\n",
      "        [0., 0., 0., 0., 0.]])\n",
      "11.65191517994848\n",
      "(1, 1, 1) tensor([[0., 0., 0., 0., 0.],\n",
      "        [0., 0., 0., 0., 0.],\n",
      "        [0., 0., 0., 0., 0.],\n",
      "        [0., 0., 0., 0., 0.],\n",
      "        [0., 0., 0., 0., 0.]])\n"
     ]
    }
   ],
   "source": [
    "for T in dataset.fock_realspace[0]:\n",
    "    print(np.linalg.norm(dataset.structures[0].positions[13] - (dataset.structures[0].cell.array.T@T + dataset.structures[0].positions[42])))\n",
    "    print(T, dataset.fock_realspace[0][T][13*5:14*5,42*5:43*5])"
   ]
  },
  {
   "cell_type": "code",
   "execution_count": null,
   "id": "4a214f25-4a97-4475-9e81-5a4664959c64",
   "metadata": {},
   "outputs": [],
   "source": []
  },
  {
   "cell_type": "code",
   "execution_count": 44,
   "id": "92e9d6fd-8c80-450c-a83f-2cce15f02697",
   "metadata": {},
   "outputs": [
    {
     "name": "stdout",
     "output_type": "stream",
     "text": [
      "Epoch       0, train loss real  593.0036468974\n",
      "Epoch       1, train loss real   49.2449186928\n",
      "Epoch       2, train loss real    2.0704940922\n",
      "Epoch       3, train loss real    0.6410718528\n"
     ]
    },
    {
     "ename": "KeyboardInterrupt",
     "evalue": "",
     "output_type": "error",
     "traceback": [
      "\u001b[0;31m---------------------------------------------------------------------------\u001b[0m",
      "\u001b[0;31mKeyboardInterrupt\u001b[0m                         Traceback (most recent call last)",
      "Cell \u001b[0;32mIn[44], line 54\u001b[0m\n\u001b[1;32m     51\u001b[0m \u001b[38;5;28;01melse\u001b[39;00m:\n\u001b[1;32m     53\u001b[0m     pred_kspace \u001b[38;5;241m=\u001b[39m TMap_bloch_sums(pred, phase, indices, kpts_idx, return_tensormap \u001b[38;5;241m=\u001b[39m \u001b[38;5;28;01mTrue\u001b[39;00m)\n\u001b[0;32m---> 54\u001b[0m     target_kspace \u001b[38;5;241m=\u001b[39m \u001b[43mTMap_bloch_sums\u001b[49m\u001b[43m(\u001b[49m\u001b[43mbatch\u001b[49m\u001b[38;5;241;43m.\u001b[39;49m\u001b[43mtarget\u001b[49m\u001b[43m,\u001b[49m\u001b[43m \u001b[49m\u001b[43mphase\u001b[49m\u001b[43m,\u001b[49m\u001b[43m \u001b[49m\u001b[43mindices\u001b[49m\u001b[43m,\u001b[49m\u001b[43m \u001b[49m\u001b[43mkpts_idx\u001b[49m\u001b[43m,\u001b[49m\u001b[43m \u001b[49m\u001b[43mreturn_tensormap\u001b[49m\u001b[43m \u001b[49m\u001b[38;5;241;43m=\u001b[39;49m\u001b[43m \u001b[49m\u001b[38;5;28;43;01mTrue\u001b[39;49;00m\u001b[43m)\u001b[49m\n\u001b[1;32m     56\u001b[0m     \u001b[38;5;66;03m# Compute the loss\u001b[39;00m\n\u001b[1;32m     57\u001b[0m     loss \u001b[38;5;241m=\u001b[39m L2_loss(pred_kspace, target_kspace, norm \u001b[38;5;241m=\u001b[39m \u001b[38;5;241m2\u001b[39m)\n",
      "File \u001b[0;32m~/Software/mlelec/src/mlelec/utils/pbc_utils.py:954\u001b[0m, in \u001b[0;36mTMap_bloch_sums\u001b[0;34m(target_blocks, phase, indices, kpts_idx, return_tensormap)\u001b[0m\n\u001b[1;32m    951\u001b[0m pshape \u001b[38;5;241m=\u001b[39m phase[kl][ifr, i, j]\u001b[38;5;241m.\u001b[39mshape\n\u001b[1;32m    953\u001b[0m \u001b[38;5;66;03m# equivalent to torch.einsum('Tmnv,kT->kmnv', values.to(phase[kl][ifr, i, j]), phase[kl][ifr, i, j]), but faster\u001b[39;00m\n\u001b[0;32m--> 954\u001b[0m contraction \u001b[38;5;241m=\u001b[39m (phase[kl][ifr, i, j]\u001b[38;5;129m@values\u001b[39m\u001b[38;5;241;43m.\u001b[39;49m\u001b[43mreshape\u001b[49m\u001b[43m(\u001b[49m\u001b[43mvshape\u001b[49m\u001b[43m[\u001b[49m\u001b[38;5;241;43m0\u001b[39;49m\u001b[43m]\u001b[49m\u001b[43m,\u001b[49m\u001b[43m \u001b[49m\u001b[38;5;241;43m-\u001b[39;49m\u001b[38;5;241;43m1\u001b[39;49m\u001b[43m)\u001b[49m)\u001b[38;5;241m.\u001b[39mreshape(pshape[\u001b[38;5;241m0\u001b[39m], \u001b[38;5;241m*\u001b[39mvshape[\u001b[38;5;241m1\u001b[39m:])\u001b[38;5;241m*\u001b[39mfactor\n\u001b[1;32m    956\u001b[0m \u001b[38;5;66;03m# if bt == 1 or bt == 2 or (bt == -1 and i != j):\u001b[39;00m\n\u001b[1;32m    958\u001b[0m \u001b[38;5;28;01mif\u001b[39;00m bt \u001b[38;5;241m!=\u001b[39m \u001b[38;5;241m-\u001b[39m\u001b[38;5;241m1\u001b[39m \u001b[38;5;129;01mor\u001b[39;00m (bt \u001b[38;5;241m==\u001b[39m \u001b[38;5;241m-\u001b[39m\u001b[38;5;241m1\u001b[39m \u001b[38;5;129;01mand\u001b[39;00m i \u001b[38;5;241m!=\u001b[39m j):\n",
      "\u001b[0;31mKeyboardInterrupt\u001b[0m: "
     ]
    }
   ],
   "source": [
    "# %%timeit -n 1 -r 1\n",
    "\n",
    "new_sched = True\n",
    "\n",
    "train_kspace = False\n",
    "\n",
    "loss_real = []\n",
    "\n",
    "nepoch = 100\n",
    "for epoch in range(nepoch):\n",
    "\n",
    "    if epoch >= 0:\n",
    "        train_kspace = True\n",
    "\n",
    "    LOSS = 0\n",
    "    for ib, batch in enumerate(dataloader):\n",
    "\n",
    "        model.train(True)\n",
    "\n",
    "        for ik, key in enumerate(model.model):\n",
    "            optimizers[ik].zero_grad()\n",
    "        \n",
    "        pred = model.predict_batch(batch.descriptor, batch.target)\n",
    "            \n",
    "        if not train_kspace:\n",
    "    \n",
    "            # Compute the loss for each block\n",
    "            all_losses, epoch_loss = L2_loss(pred, batch.target, loss_per_block = True)\n",
    "    \n",
    "            # Total loss\n",
    "            epoch_loss = epoch_loss.item()\n",
    "            LOSS += epoch_loss\n",
    "            # Append the values of the loss to a list\n",
    "            # loss_k.append(L2_loss(pred_kspace, k_target_blocks, norm = 2).item())\n",
    "            loss_real.append(epoch_loss)\n",
    "    \n",
    "            # Loop through submodels and backpropagate\n",
    "            for ik, (loss, key) in enumerate(zip(all_losses, model.model)):\n",
    "                loss.backward(retain_graph = False)\n",
    "                torch.nn.utils.clip_grad_norm_(model.model[key].parameters(), 1)\n",
    "                optimizers[ik].step()\n",
    "                schedulers[ik].step(loss)\n",
    "                \n",
    "                if key not in losses:\n",
    "                    losses[key] = [loss.item()]\n",
    "                    learning_rates[key] = [schedulers[ik].state_dict()['_last_lr'][0]]\n",
    "                else:\n",
    "                    losses[key].append(loss.item())\n",
    "                    learning_rates[key].append(schedulers[ik].state_dict()['_last_lr'][0])\n",
    "                    \n",
    "        else:\n",
    "\n",
    "            pred_kspace = TMap_bloch_sums(pred, phase, indices, kpts_idx, return_tensormap = True)\n",
    "            target_kspace = TMap_bloch_sums(batch.target, phase, indices, kpts_idx, return_tensormap = True)\n",
    "            \n",
    "            # Compute the loss\n",
    "            loss = L2_loss(pred_kspace, target_kspace, norm = 2)\n",
    "    \n",
    "            # Total loss \n",
    "            epoch_loss = loss.item()\n",
    "            LOSS += epoch_loss\n",
    "            \n",
    "            # Append the values of the loss to a list\n",
    "            all_losses, epoch_loss_real = L2_loss(pred, batch.target, loss_per_block=True)\n",
    "            # loss_real.append(epoch_loss_real.item())\n",
    "            # loss_k.append(epoch_loss)\n",
    "    \n",
    "                   \n",
    "            loss.backward(retain_graph = True)\n",
    "            torch.nn.utils.clip_grad_norm_(model.parameters(), 1)\n",
    "    \n",
    "            # for ik, (loss_, key) in enumerate(zip(all_losses, model.model)):\n",
    "            for ik, key in enumerate(model.model):\n",
    "                optimizers[ik].step()\n",
    "                schedulers[ik].step(epoch_loss/len(model.model))\n",
    "                # if key not in losses:\n",
    "                #     # losses[key] = [loss_.item()]\n",
    "                #     learning_rates[key] = [schedulers[ik].state_dict()['_last_lr'][0]]\n",
    "                # else:\n",
    "                #     # losses[key].append(loss_.item())\n",
    "                #     learning_rates[key].append(schedulers[ik].state_dict()['_last_lr'][0])\n",
    "\n",
    "        # print(ib, end = ' ')\n",
    "    if epoch >= 0: #% 10 == 0:\n",
    "        # print(f\"Epoch {epoch:>7d}, train loss on all blocks {epoch_loss:>15.10f}, train loss per prediction {np.sqrt(epoch_loss)/n_predictions:>6.5e}\")\n",
    "        # print(f\"Epoch {epoch:>7d}, train loss real {loss_real[-1]:>15.10f}\") #, train loss k {loss_k[-1]:>15.10f}, train loss per prediction {np.sqrt(epoch_loss)/n_predictions:>6.5e}\")\n",
    "        print(f\"Epoch {epoch:>7d}, train loss real {LOSS:>15.10f}\") #, train loss k {loss_k[-1]:>15.10f}, train loss per prediction {np.sqrt(epoch_loss)/n_predictions:>6.5e}\")"
   ]
  },
  {
   "cell_type": "code",
   "execution_count": 46,
   "id": "24f39f8b-0cb8-4c9f-8318-bbd23666dc71",
   "metadata": {},
   "outputs": [],
   "source": [
    "target_kspace = TMap_bloch_sums(target_coupled_blocks, phase, indices, kpts_idx, return_tensormap = True)"
   ]
  },
  {
   "cell_type": "code",
   "execution_count": 47,
   "id": "ad5b5e15-98f7-4f1d-9aec-2bd4bed5d3b4",
   "metadata": {},
   "outputs": [
    {
     "name": "stdout",
     "output_type": "stream",
     "text": [
      "Epoch       0, train loss real 1276.7376358469\n",
      "Epoch       1, train loss real 1022.9805296847\n",
      "Epoch       2, train loss real  828.5650614440\n",
      "Epoch       3, train loss real  679.7027881757\n",
      "Epoch       4, train loss real  559.7761959069\n",
      "Epoch       5, train loss real  460.1125304624\n",
      "Epoch       6, train loss real  375.6945812240\n",
      "Epoch       7, train loss real  303.1982950560\n",
      "Epoch       8, train loss real  240.1988690185\n",
      "Epoch       9, train loss real  187.3344156086\n",
      "Epoch      10, train loss real  144.5820797534\n"
     ]
    },
    {
     "ename": "KeyboardInterrupt",
     "evalue": "",
     "output_type": "error",
     "traceback": [
      "\u001b[0;31m---------------------------------------------------------------------------\u001b[0m",
      "\u001b[0;31mKeyboardInterrupt\u001b[0m                         Traceback (most recent call last)",
      "Cell \u001b[0;32mIn[47], line 69\u001b[0m\n\u001b[1;32m     64\u001b[0m all_losses, epoch_loss_real \u001b[38;5;241m=\u001b[39m L2_loss(pred, target_coupled_blocks, loss_per_block\u001b[38;5;241m=\u001b[39m\u001b[38;5;28;01mTrue\u001b[39;00m)\n\u001b[1;32m     65\u001b[0m \u001b[38;5;66;03m# loss_real.append(epoch_loss_real.item())\u001b[39;00m\n\u001b[1;32m     66\u001b[0m \u001b[38;5;66;03m# loss_k.append(epoch_loss)\u001b[39;00m\n\u001b[0;32m---> 69\u001b[0m \u001b[43mloss\u001b[49m\u001b[38;5;241;43m.\u001b[39;49m\u001b[43mbackward\u001b[49m\u001b[43m(\u001b[49m\u001b[43mretain_graph\u001b[49m\u001b[43m \u001b[49m\u001b[38;5;241;43m=\u001b[39;49m\u001b[43m \u001b[49m\u001b[38;5;28;43;01mTrue\u001b[39;49;00m\u001b[43m)\u001b[49m\n\u001b[1;32m     70\u001b[0m torch\u001b[38;5;241m.\u001b[39mnn\u001b[38;5;241m.\u001b[39mutils\u001b[38;5;241m.\u001b[39mclip_grad_norm_(model\u001b[38;5;241m.\u001b[39mparameters(), \u001b[38;5;241m1\u001b[39m)\n\u001b[1;32m     72\u001b[0m \u001b[38;5;28;01mfor\u001b[39;00m ik, (loss_, key) \u001b[38;5;129;01min\u001b[39;00m \u001b[38;5;28menumerate\u001b[39m(\u001b[38;5;28mzip\u001b[39m(all_losses, model\u001b[38;5;241m.\u001b[39mmodel)):\n",
      "File \u001b[0;32m~/micromamba/envs/sci/lib/python3.11/site-packages/torch/_tensor.py:522\u001b[0m, in \u001b[0;36mTensor.backward\u001b[0;34m(self, gradient, retain_graph, create_graph, inputs)\u001b[0m\n\u001b[1;32m    512\u001b[0m \u001b[38;5;28;01mif\u001b[39;00m has_torch_function_unary(\u001b[38;5;28mself\u001b[39m):\n\u001b[1;32m    513\u001b[0m     \u001b[38;5;28;01mreturn\u001b[39;00m handle_torch_function(\n\u001b[1;32m    514\u001b[0m         Tensor\u001b[38;5;241m.\u001b[39mbackward,\n\u001b[1;32m    515\u001b[0m         (\u001b[38;5;28mself\u001b[39m,),\n\u001b[0;32m   (...)\u001b[0m\n\u001b[1;32m    520\u001b[0m         inputs\u001b[38;5;241m=\u001b[39minputs,\n\u001b[1;32m    521\u001b[0m     )\n\u001b[0;32m--> 522\u001b[0m \u001b[43mtorch\u001b[49m\u001b[38;5;241;43m.\u001b[39;49m\u001b[43mautograd\u001b[49m\u001b[38;5;241;43m.\u001b[39;49m\u001b[43mbackward\u001b[49m\u001b[43m(\u001b[49m\n\u001b[1;32m    523\u001b[0m \u001b[43m    \u001b[49m\u001b[38;5;28;43mself\u001b[39;49m\u001b[43m,\u001b[49m\u001b[43m \u001b[49m\u001b[43mgradient\u001b[49m\u001b[43m,\u001b[49m\u001b[43m \u001b[49m\u001b[43mretain_graph\u001b[49m\u001b[43m,\u001b[49m\u001b[43m \u001b[49m\u001b[43mcreate_graph\u001b[49m\u001b[43m,\u001b[49m\u001b[43m \u001b[49m\u001b[43minputs\u001b[49m\u001b[38;5;241;43m=\u001b[39;49m\u001b[43minputs\u001b[49m\n\u001b[1;32m    524\u001b[0m \u001b[43m\u001b[49m\u001b[43m)\u001b[49m\n",
      "File \u001b[0;32m~/micromamba/envs/sci/lib/python3.11/site-packages/torch/autograd/__init__.py:266\u001b[0m, in \u001b[0;36mbackward\u001b[0;34m(tensors, grad_tensors, retain_graph, create_graph, grad_variables, inputs)\u001b[0m\n\u001b[1;32m    261\u001b[0m     retain_graph \u001b[38;5;241m=\u001b[39m create_graph\n\u001b[1;32m    263\u001b[0m \u001b[38;5;66;03m# The reason we repeat the same comment below is that\u001b[39;00m\n\u001b[1;32m    264\u001b[0m \u001b[38;5;66;03m# some Python versions print out the first line of a multi-line function\u001b[39;00m\n\u001b[1;32m    265\u001b[0m \u001b[38;5;66;03m# calls in the traceback and some print out the last line\u001b[39;00m\n\u001b[0;32m--> 266\u001b[0m \u001b[43mVariable\u001b[49m\u001b[38;5;241;43m.\u001b[39;49m\u001b[43m_execution_engine\u001b[49m\u001b[38;5;241;43m.\u001b[39;49m\u001b[43mrun_backward\u001b[49m\u001b[43m(\u001b[49m\u001b[43m  \u001b[49m\u001b[38;5;66;43;03m# Calls into the C++ engine to run the backward pass\u001b[39;49;00m\n\u001b[1;32m    267\u001b[0m \u001b[43m    \u001b[49m\u001b[43mtensors\u001b[49m\u001b[43m,\u001b[49m\n\u001b[1;32m    268\u001b[0m \u001b[43m    \u001b[49m\u001b[43mgrad_tensors_\u001b[49m\u001b[43m,\u001b[49m\n\u001b[1;32m    269\u001b[0m \u001b[43m    \u001b[49m\u001b[43mretain_graph\u001b[49m\u001b[43m,\u001b[49m\n\u001b[1;32m    270\u001b[0m \u001b[43m    \u001b[49m\u001b[43mcreate_graph\u001b[49m\u001b[43m,\u001b[49m\n\u001b[1;32m    271\u001b[0m \u001b[43m    \u001b[49m\u001b[43minputs\u001b[49m\u001b[43m,\u001b[49m\n\u001b[1;32m    272\u001b[0m \u001b[43m    \u001b[49m\u001b[43mallow_unreachable\u001b[49m\u001b[38;5;241;43m=\u001b[39;49m\u001b[38;5;28;43;01mTrue\u001b[39;49;00m\u001b[43m,\u001b[49m\n\u001b[1;32m    273\u001b[0m \u001b[43m    \u001b[49m\u001b[43maccumulate_grad\u001b[49m\u001b[38;5;241;43m=\u001b[39;49m\u001b[38;5;28;43;01mTrue\u001b[39;49;00m\u001b[43m,\u001b[49m\n\u001b[1;32m    274\u001b[0m \u001b[43m\u001b[49m\u001b[43m)\u001b[49m\n",
      "\u001b[0;31mKeyboardInterrupt\u001b[0m: "
     ]
    }
   ],
   "source": [
    "# %%timeit -r 1 -n 1\n",
    "\n",
    "new_sched = True\n",
    "\n",
    "# batch_size = 360\n",
    "# dataloader = DataLoader(ml_data, batch_size = batch_size, shuffle = True, collate_fn = lambda x: group_and_join_mts(x, join_kwargs = {'different_keys': 'union', 'remove_tensor_name': True}))\n",
    "\n",
    "train_kspace = False\n",
    "\n",
    "# target_kspace = \n",
    "loss_real = []\n",
    "\n",
    "nepoch = 100\n",
    "for epoch in range(nepoch):\n",
    "\n",
    "    if epoch >= 0:\n",
    "        train_kspace = True\n",
    "\n",
    "    model.train(True)\n",
    "\n",
    "    for ik, key in enumerate(model.model):\n",
    "        optimizers[ik].zero_grad()\n",
    "    \n",
    "    pred = model()\n",
    "        \n",
    "    if not train_kspace:\n",
    "\n",
    "        # Compute the loss for each block\n",
    "        all_losses, epoch_loss = L2_loss(pred, target_coupled_blocks, loss_per_block = True)\n",
    "\n",
    "        # Total loss\n",
    "        epoch_loss = epoch_loss.item()\n",
    "        LOSS = epoch_loss\n",
    "        # Append the values of the loss to a list\n",
    "        # loss_k.append(L2_loss(pred_kspace, k_target_blocks, norm = 2).item())\n",
    "        loss_real.append(epoch_loss)\n",
    "\n",
    "        # Loop through submodels and backpropagate\n",
    "        for ik, (loss, key) in enumerate(zip(all_losses, model.model)):\n",
    "            loss.backward(retain_graph = False)\n",
    "            torch.nn.utils.clip_grad_norm_(model.model[key].parameters(), 1)\n",
    "            optimizers[ik].step()\n",
    "            schedulers[ik].step(loss)\n",
    "            \n",
    "            if key not in losses:\n",
    "                losses[key] = [loss.item()]\n",
    "                learning_rates[key] = [schedulers[ik].state_dict()['_last_lr'][0]]\n",
    "            else:\n",
    "                losses[key].append(loss.item())\n",
    "                learning_rates[key].append(schedulers[ik].state_dict()['_last_lr'][0])\n",
    "                \n",
    "    else:\n",
    "\n",
    "        pred_kspace = TMap_bloch_sums(pred, phase, indices, kpts_idx, return_tensormap = True)\n",
    "        # target_kspace = TMap_bloch_sums(batch.target, phase, indices, kpts_idx, return_tensormap = True)\n",
    "        \n",
    "        # Compute the loss\n",
    "        loss = L2_loss(pred_kspace, target_kspace, norm = 2)\n",
    "\n",
    "        # Total loss \n",
    "        epoch_loss = loss.item()\n",
    "        LOSS = epoch_loss        \n",
    "        # Append the values of the loss to a list\n",
    "        all_losses, epoch_loss_real = L2_loss(pred, target_coupled_blocks, loss_per_block=True)\n",
    "        # loss_real.append(epoch_loss_real.item())\n",
    "        # loss_k.append(epoch_loss)\n",
    "\n",
    "               \n",
    "        loss.backward(retain_graph = True)\n",
    "        torch.nn.utils.clip_grad_norm_(model.parameters(), 1)\n",
    "\n",
    "        for ik, (loss_, key) in enumerate(zip(all_losses, model.model)):\n",
    "            optimizers[ik].step()\n",
    "            schedulers[ik].step(epoch_loss/len(model.model))\n",
    "            if key not in losses:\n",
    "                losses[key] = [loss_.item()]\n",
    "                learning_rates[key] = [schedulers[ik].state_dict()['_last_lr'][0]]\n",
    "            else:\n",
    "                losses[key].append(loss_.item())\n",
    "                learning_rates[key].append(schedulers[ik].state_dict()['_last_lr'][0])\n",
    "\n",
    "    # print(ib, end = ' ')\n",
    "    if epoch >= 0: #% 10 == 0:\n",
    "        # print(f\"Epoch {epoch:>7d}, train loss on all blocks {epoch_loss:>15.10f}, train loss per prediction {np.sqrt(epoch_loss)/n_predictions:>6.5e}\")\n",
    "        # print(f\"Epoch {epoch:>7d}, train loss real {loss_real[-1]:>15.10f}\") #, train loss k {loss_k[-1]:>15.10f}, train loss per prediction {np.sqrt(epoch_loss)/n_predictions:>6.5e}\")\n",
    "        print(f\"Epoch {epoch:>7d}, train loss real {LOSS:>15.10f}\") #, train loss k {loss_k[-1]:>15.10f}, train loss per prediction {np.sqrt(epoch_loss)/n_predictions:>6.5e}\")"
   ]
  },
  {
   "cell_type": "code",
   "execution_count": 50,
   "id": "7cece61d-bd13-4771-8f9e-c05b3418f93f",
   "metadata": {},
   "outputs": [],
   "source": [
    "checkpoint = torch.load('/home/pegolo/Software/mlelec/examples/data/periodic/deepH_graphene/models/model_1500.ckpt')"
   ]
  },
  {
   "cell_type": "code",
   "execution_count": 149,
   "id": "64be86f8-7a97-49d1-8153-e14077c177e3",
   "metadata": {},
   "outputs": [],
   "source": [
    "allo_checkpoint = torch.load('./examples/data/periodic/carbon_allotropes/allotropes_model_1700.ckpt')"
   ]
  },
  {
   "cell_type": "code",
   "execution_count": 131,
   "id": "ec1e2db5-60e0-46c0-83b0-c30ca98e33db",
   "metadata": {},
   "outputs": [],
   "source": [
    "from mlelec.models.linear import LinearModelPeriodic\n",
    "graphene_model = LinearModelPeriodic(twocfeat = features, \n",
    "                                     target_blocks = target_coupled_blocks,\n",
    "                                     frames = dataset.structures, orbitals = dataset.basis, \n",
    "                                     device = device,\n",
    "                                     bias = True,\n",
    "                                     nhidden = 128, \n",
    "                                     nlayers = 2,\n",
    "                                     activation = 'SiLU',\n",
    "                                     apply_norm = True)\n",
    "graphene_model = graphene_model.double()"
   ]
  },
  {
   "cell_type": "code",
   "execution_count": 150,
   "id": "30df24b3-db4c-497c-9368-24a98ad57c29",
   "metadata": {},
   "outputs": [],
   "source": [
    "from mlelec.models.linear import LinearModelPeriodic\n",
    "allo_model = LinearModelPeriodic(twocfeat = features, \n",
    "                                     target_blocks = target_coupled_blocks,\n",
    "                                     frames = dataset.structures, orbitals = dataset.basis, \n",
    "                                     device = device,\n",
    "                                     bias = True,\n",
    "                                     nhidden = 128, \n",
    "                                     nlayers = 2,\n",
    "                                     activation = 'SiLU',\n",
    "                                     apply_norm = True)\n",
    "allo_model = allo_model.double()"
   ]
  },
  {
   "cell_type": "code",
   "execution_count": 151,
   "id": "19277aa9-1d78-448c-9724-797502452c11",
   "metadata": {},
   "outputs": [
    {
     "data": {
      "text/plain": [
       "<All keys matched successfully>"
      ]
     },
     "execution_count": 151,
     "metadata": {},
     "output_type": "execute_result"
    }
   ],
   "source": [
    "allo_model.load_state_dict(allo_checkpoint['model_state_dict'])"
   ]
  },
  {
   "cell_type": "code",
   "execution_count": 152,
   "id": "fe4279d5-0394-4676-857b-8448a21970f0",
   "metadata": {},
   "outputs": [],
   "source": [
    "pred_from_allo = allo_model.predict(features, target_coupled_blocks)"
   ]
  },
  {
   "cell_type": "code",
   "execution_count": 153,
   "id": "1e5ea0fb-cce5-4e35-bc20-50c16caee32f",
   "metadata": {},
   "outputs": [
    {
     "data": {
      "text/plain": [
       "tensor(511.6308, grad_fn=<AddBackward0>)"
      ]
     },
     "execution_count": 153,
     "metadata": {},
     "output_type": "execute_result"
    }
   ],
   "source": [
    "L2_loss(pred_from_allo, target_coupled_blocks)"
   ]
  },
  {
   "cell_type": "code",
   "execution_count": 29,
   "id": "26325b7e-040f-4d35-a2ff-eef2c79c8c30",
   "metadata": {},
   "outputs": [
    {
     "data": {
      "text/plain": [
       "(<Figure size 1920x480 with 2 Axes>,\n",
       " <Axes: ylabel='|H| (a.u.)'>,\n",
       " <Axes: ylabel='$|H-\\\\tilde{H}|^2$  (a.u.)'>)"
      ]
     },
     "execution_count": 29,
     "metadata": {},
     "output_type": "execute_result"
    },
    {
     "data": {
      "image/png": "[encoded data removed]",
      "text/plain": [
       "<Figure size 1920x480 with 2 Axes>"
      ]
     },
     "metadata": {},
     "output_type": "display_data"
    }
   ],
   "source": [
    "pred = model()\n",
    "plot_block_errors(target_coupled_blocks, pred, plot_loss=True)"
   ]
  },
  {
   "cell_type": "code",
   "execution_count": 289,
   "id": "6f08fcfc-1f14-45f6-9d5e-43e943d8794e",
   "metadata": {
    "scrolled": true
   },
   "outputs": [],
   "source": [
    "recon_HT = blocks_to_matrix(pred, dataset)"
   ]
  },
  {
   "cell_type": "code",
   "execution_count": 290,
   "id": "2b02c88c-8ff0-43c2-a92d-4ae842dc7b79",
   "metadata": {},
   "outputs": [],
   "source": [
    "recon_Hk = dataset.bloch_sum(recon_HT)"
   ]
  },
  {
   "cell_type": "code",
   "execution_count": 291,
   "id": "b903ab4e-4647-4475-8709-fe190f71591e",
   "metadata": {},
   "outputs": [],
   "source": [
    "cutoff_overlaps = blocks_to_matrix(matrix_to_blocks(dataset, cutoff = cutoff, target='overlap'), dataset)"
   ]
  },
  {
   "cell_type": "code",
   "execution_count": 292,
   "id": "be94493a-f321-4838-833e-2d80a337152a",
   "metadata": {},
   "outputs": [],
   "source": [
    "recon_Sk = dataset.bloch_sum(cutoff_overlaps)"
   ]
  },
  {
   "cell_type": "code",
   "execution_count": 293,
   "id": "435cd672-fc91-47fe-b484-9370fd4a1ed4",
   "metadata": {},
   "outputs": [],
   "source": [
    "from scipy.linalg import eigvalsh\n",
    "eigvals_target = {}\n",
    "eigvals_pred = {}\n",
    "for A in range(len(dataset)):\n",
    "    eigvals_target[A] = []\n",
    "    eigvals_pred[A] = []\n",
    "    for ik in range(len(dataset.fock_kspace[A])):\n",
    "        eigvals_target[A].append(eigvalsh(dataset.fock_kspace[A][ik].numpy(), dataset.overlap_kspace[A][ik].numpy()))\n",
    "        eigvals_pred[A].append(eigvalsh(recon_Hk[A][ik].detach().numpy(), recon_Sk[A][ik].detach().numpy()))"
   ]
  },
  {
   "cell_type": "code",
   "execution_count": 294,
   "id": "10d10d9d-cd92-4824-beaa-2190413efd92",
   "metadata": {},
   "outputs": [
    {
     "data": {
      "text/plain": [
       "<Popen: returncode: None args: ['/home/pegolo/micromamba/envs/sci/bin/python...>"
      ]
     },
     "execution_count": 294,
     "metadata": {},
     "output_type": "execute_result"
    }
   ],
   "source": [
    "view(dataset.structures)"
   ]
  },
  {
   "cell_type": "code",
   "execution_count": 298,
   "id": "0004f3ff-bd81-4d45-87d4-8dbb6813cc28",
   "metadata": {},
   "outputs": [
    {
     "data": {
      "text/plain": [
       "(-2.0, 2.0)"
      ]
     },
     "execution_count": 298,
     "metadata": {},
     "output_type": "execute_result"
    },
    {
     "data": {
      "image/png": "[encoded data removed]",
      "text/plain": [
       "<Figure size 640x480 with 1 Axes>"
      ]
     },
     "metadata": {},
     "output_type": "display_data"
    }
   ],
   "source": [
    "for A in eigvals_target:\n",
    "    # if A != 2:\n",
    "        plt.plot(np.concatenate(eigvals_target[A]), np.concatenate(eigvals_pred[A]), '.', alpha = 0.5, label = A)\n",
    "plt.plot([-11,2], [-11,2])\n",
    "# plt.plot([-1,2], [-1,2])\n",
    "plt.legend()\n",
    "# plt.xlim(-9.78,-9.7)\n",
    "# plt.ylim(-9.78,-9.7)\n",
    "plt.xlim(-1,1.5)\n",
    "plt.ylim(-2,2)"
   ]
  },
  {
   "cell_type": "code",
   "execution_count": 161,
   "id": "db07e158-4188-4995-b85a-09ab9e102563",
   "metadata": {},
   "outputs": [
    {
     "data": {
      "text/plain": [
       "720"
      ]
     },
     "execution_count": 161,
     "metadata": {},
     "output_type": "execute_result"
    }
   ],
   "source": [
    "sum(np.concatenate(eigvals_target)<-8)"
   ]
  },
  {
   "cell_type": "code",
   "execution_count": 162,
   "id": "1872ee76-b6f0-44b0-9145-833bb1f3999b",
   "metadata": {},
   "outputs": [
    {
     "data": {
      "text/plain": [
       "[]"
      ]
     },
     "execution_count": 162,
     "metadata": {},
     "output_type": "execute_result"
    },
    {
     "data": {
      "image/png": "[encoded data removed]",
      "text/plain": [
       "<Figure size 640x480 with 1 Axes>"
      ]
     },
     "metadata": {},
     "output_type": "display_data"
    }
   ],
   "source": [
    "plt.plot(np.concatenate(eigvals_target) - np.concatenate(eigvals_pred))\n",
    "plt.plot()"
   ]
  },
  {
   "cell_type": "code",
   "execution_count": 147,
   "id": "4ee0f013-21e3-4500-9fd4-fcab6491621f",
   "metadata": {},
   "outputs": [
    {
     "data": {
      "text/plain": [
       "<Popen: returncode: None args: ['/home/pegolo/micromamba/envs/sci/bin/python...>"
      ]
     },
     "execution_count": 147,
     "metadata": {},
     "output_type": "execute_result"
    }
   ],
   "source": [
    "view(frames)"
   ]
  },
  {
   "cell_type": "code",
   "execution_count": null,
   "id": "892612a9-7da1-4c64-a049-c8a9838b4308",
   "metadata": {},
   "outputs": [],
   "source": []
  },
  {
   "cell_type": "markdown",
   "id": "c949bc40-f9c1-428e-a240-787b8ac8e17a",
   "metadata": {},
   "source": [
    "# Meh"
   ]
  },
  {
   "cell_type": "code",
   "execution_count": 59,
   "id": "b53aaef2-7c6b-420e-9938-ceb474a9c8aa",
   "metadata": {},
   "outputs": [],
   "source": [
    "split_features, split_target = split_by_Aij(target_coupled_blocks, features = features)"
   ]
  },
  {
   "cell_type": "markdown",
   "id": "d6b33a7a-f2b6-424b-a974-2e3b73184b63",
   "metadata": {},
   "source": [
    "## Using tensormaps"
   ]
  },
  {
   "cell_type": "code",
   "execution_count": 65,
   "id": "eda452c7-f3ce-4699-a801-435a51cb0efa",
   "metadata": {},
   "outputs": [],
   "source": [
    "split_features, split_target = split_by_Aij_mts(target_coupled_blocks, features = features)"
   ]
  },
  {
   "cell_type": "code",
   "execution_count": 66,
   "id": "38900ab1-8d11-47b6-89d5-f184da2aae4c",
   "metadata": {},
   "outputs": [],
   "source": [
    "ml_data = IndexedDataset(descriptor = list(split_features.values()), target = list(split_target.values()), sample_id = list(split_target.keys()))"
   ]
  },
  {
   "cell_type": "code",
   "execution_count": 111,
   "id": "401203e3-4809-415a-a8d4-b89347c2e6a3",
   "metadata": {},
   "outputs": [],
   "source": [
    "batch_size = 20\n",
    "dataloader = DataLoader(ml_data, batch_size = batch_size, shuffle = True, collate_fn = lambda x: group_and_join_mts(x, join_kwargs = {'different_keys': 'union', 'remove_tensor_name': True}))"
   ]
  },
  {
   "cell_type": "code",
   "execution_count": 92,
   "id": "59794982-77a8-4ae4-b6cd-0176753165f3",
   "metadata": {},
   "outputs": [],
   "source": [
    "phase, indices, kpts_idx = precompute_phase(target_coupled_blocks, dataset, cutoff = cutoff)"
   ]
  },
  {
   "cell_type": "code",
   "execution_count": 112,
   "id": "37b9e355-1d5b-49f9-8c74-ac4a061b1c4a",
   "metadata": {},
   "outputs": [],
   "source": [
    "kmap = []\n",
    "for batch in dataloader:\n",
    "    kmap.append(TMap_bloch_sums(batch.target, phase, indices, kpts_idx, return_tensormap = True))"
   ]
  },
  {
   "cell_type": "markdown",
   "id": "0de63fb5-4aff-44fe-94ab-884ebf23bc72",
   "metadata": {},
   "source": [
    "## Debug"
   ]
  },
  {
   "cell_type": "code",
   "execution_count": 487,
   "id": "e00f07a9-d21d-4ed1-a446-cfb72bfe0787",
   "metadata": {},
   "outputs": [],
   "source": [
    "from mlelec.utils.plot_utils import block_matrix_norm, matrix_norm"
   ]
  },
  {
   "cell_type": "code",
   "execution_count": null,
   "id": "aabbb82b-a7a8-4f77-8c50-438ba24aec99",
   "metadata": {},
   "outputs": [],
   "source": [
    "rij, Hij = block_matrix_norm(target_coupled_blocks, dataset)"
   ]
  },
  {
   "cell_type": "code",
   "execution_count": 280,
   "id": "b65b54ca-4536-4466-a201-9d07d793e44e",
   "metadata": {},
   "outputs": [],
   "source": [
    "rij_, fij = block_matrix_norm(features, dataset)"
   ]
  },
  {
   "cell_type": "code",
   "execution_count": 219,
   "id": "92ab01ef-365c-471c-ab10-a089c8557e16",
   "metadata": {},
   "outputs": [
    {
     "data": {
      "text/plain": [
       "<matplotlib.legend.Legend at 0x7ef82ddc3690>"
      ]
     },
     "execution_count": 219,
     "metadata": {},
     "output_type": "execute_result"
    },
    {
     "data": {
      "image/png": "[encoded data removed]",
      "text/plain": [
       "<Figure size 640x480 with 1 Axes>"
      ]
     },
     "metadata": {},
     "output_type": "display_data"
    }
   ],
   "source": [
    "for k in rij:\n",
    "    if k[0] == 1 and k[-1]==0 and k[3]==0 and k[5]==1:\n",
    "        x = np.array(rij[k])\n",
    "        y = np.array(Hij[k])\n",
    "        plt.plot(x[x.argsort()], y[x.argsort()], '-', label = k)\n",
    "# plt.ylim(-1e-3,1)\n",
    "plt.legend(loc = 'center left', bbox_to_anchor = (1,0.5))"
   ]
  },
  {
   "cell_type": "code",
   "execution_count": 260,
   "id": "84c68c6c-a6a9-4684-858a-5cc4b002db47",
   "metadata": {},
   "outputs": [],
   "source": [
    "from rascaline import SphericalExpansionByPair\n",
    "from mlelec.features.acdc_utils import acdc_standardize_keys\n",
    "gij = SphericalExpansionByPair(**hypers_pair).compute(frames)\n",
    "gij = acdc_standardize_keys(gij)\n",
    "rij_, fij = block_matrix_norm(gij, dataset)"
   ]
  },
  {
   "cell_type": "code",
   "execution_count": 282,
   "id": "ecbaa17b-a71d-4a81-b314-58d6bee64e32",
   "metadata": {},
   "outputs": [
    {
     "data": {
      "text/plain": [
       "<matplotlib.legend.Legend at 0x7efd9e3f8dd0>"
      ]
     },
     "execution_count": 282,
     "metadata": {},
     "output_type": "execute_result"
    },
    {
     "data": {
      "image/png": "[encoded data removed]",
      "text/plain": [
       "<Figure size 640x480 with 1 Axes>"
      ]
     },
     "metadata": {},
     "output_type": "display_data"
    }
   ],
   "source": [
    "for k in rij_:\n",
    "    # if k[0] == 1 and k[-1]==0 and k[3]==0 and k[5]==1:\n",
    "    if k[-1]==-1:\n",
    "    \n",
    "        x = np.array(rij_[k])\n",
    "        y = np.array(fij[k])\n",
    "        plt.plot(x[x.argsort()], y[x.argsort()], '-', label = k)\n",
    "# plt.ylim(-1e-3,1)\n",
    "plt.legend(loc = 'center left', bbox_to_anchor = (1,0.5))"
   ]
  },
  {
   "cell_type": "code",
   "execution_count": 148,
   "id": "7ed1a614-453f-4b3d-a3d8-8e730b162317",
   "metadata": {},
   "outputs": [],
   "source": [
    "ht = blocks_to_matrix(target_blocks, dataset)\n",
    "ht_=[]\n",
    "for ifr in range(len(rht)):\n",
    "    ht_.append(torch.stack(list(ht[ifr].values())).flatten())\n",
    "ht_ = torch.cat(ht_)"
   ]
  },
  {
   "cell_type": "code",
   "execution_count": 167,
   "id": "6f34be6d-3332-4fa0-b577-bbeb13b11da2",
   "metadata": {},
   "outputs": [
    {
     "data": {
      "text/plain": [
       "tensor(0.1531)"
      ]
     },
     "execution_count": 167,
     "metadata": {},
     "output_type": "execute_result"
    }
   ],
   "source": [
    "from ase.units import Hartree\n",
    "lossfn = nn.L1Loss()\n",
    "# lossfn = nn.MSELoss()\n",
    "lossfn(rht_,ht_)*Hartree*1000"
   ]
  },
  {
   "cell_type": "code",
   "execution_count": null,
   "id": "ffced8bb-440b-49d8-929e-d1b54f633fae",
   "metadata": {},
   "outputs": [],
   "source": []
  }
 ],
 "metadata": {
  "kernelspec": {
   "display_name": "Python 3 (ipykernel)",
   "language": "python",
   "name": "python3"
  },
  "language_info": {
   "codemirror_mode": {
    "name": "ipython",
    "version": 3
   },
   "file_extension": ".py",
   "mimetype": "text/x-python",
   "name": "python",
   "nbconvert_exporter": "python",
   "pygments_lexer": "ipython3",
   "version": "3.11.9"
  }
 },
 "nbformat": 4,
 "nbformat_minor": 5
}
