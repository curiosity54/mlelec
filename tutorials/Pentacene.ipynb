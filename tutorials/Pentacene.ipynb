{
 "cells": [
  {
   "cell_type": "code",
   "execution_count": null,
   "id": "e50fe7ed-7fac-4cc1-b0ea-e59664d00f37",
   "metadata": {},
   "outputs": [],
   "source": []
  },
  {
   "cell_type": "code",
   "execution_count": 1,
   "id": "fc06b192-c9b3-4cbc-a616-623933826d88",
   "metadata": {},
   "outputs": [
    {
     "name": "stdout",
     "output_type": "stream",
     "text": [
      "Using PyTorch backend.\n"
     ]
    },
    {
     "name": "stderr",
     "output_type": "stream",
     "text": [
      "/home/saade/miniconda3/envs/tutorial/lib/python3.11/site-packages/pyscf/dft/libxc.py:772: UserWarning: Since PySCF-2.3, B3LYP (and B3P86) are changed to the VWN-RPA variant, the same to the B3LYP functional in Gaussian and ORCA (issue 1480). To restore the VWN5 definition, you can put the setting \"B3LYP_WITH_VWN5 = True\" in pyscf_conf.py\n",
      "  warnings.warn('Since PySCF-2.3, B3LYP (and B3P86) are changed to the VWN-RPA variant, '\n"
     ]
    }
   ],
   "source": [
    "import torch \n",
    "torch.set_default_dtype(torch.float64) \n",
    "#if torch.cuda.is_available():\n",
    "#    device = 'cuda'\n",
    "#else:\n",
    "device = 'cpu'\n",
    "    \n",
    "import numpy as np\n",
    "\n",
    "import ase \n",
    "from ase.io import read, write\n",
    "from ase.units import Hartree\n",
    "\n",
    "import matplotlib.pyplot as plt\n",
    "\n",
    "import json  \n",
    "import chemiscope as cs\n",
    "import hickle\n",
    "\n",
    "from mlelec.features.acdc import compute_features_for_target\n",
    "from mlelec.data.dataset import get_dataloader\n",
    "from mlelec.data.dataset import MoleculeDataset\n",
    "from mlelec.data.dataset import MLDataset\n",
    "from mlelec.models.linear import LinearTargetModel\n",
    "from mlelec.data.pyscf_calculator import _instantiate_pyscf_mol\n",
    "from mlelec.utils.twocenter_utils import fix_orbital_order, unfix_orbital_order\n",
    "import mlelec.metrics as mlmetrics\n",
    "from mlelec.utils.learning_utils import compute_batch_dipole_moment, compute_dipole_moment_from_mf, instantiate_mf, compute_dipole_moment\n",
    "\n",
    "import os\n",
    "os.environ[\"PYSCFAD_BACKEND\"] = \"torch\"\n",
    "\n",
    "from pyscf import gto\n",
    "import pyscf.pbc.tools.pyscf_ase as pyscf_ase\n",
    "\n",
    "from pyscfad import numpy as pynp\n",
    "from pyscfad import ops\n",
    "from pyscfad.ml.scf import hf\n",
    "\n",
    "from IPython.utils import io\n",
    "\n",
    "import warnings\n",
    "from pathlib import Path"
   ]
  },
  {
   "cell_type": "code",
   "execution_count": 2,
   "id": "cd18b6e0-1dce-4d85-a6e6-3e4a4e4e367d",
   "metadata": {},
   "outputs": [],
   "source": [
    "import numpy as np\n",
    "from pyscf import gto, dft\n",
    "from ase.io import read\n",
    "\n",
    "MOL = \"pentacene\"\n",
    "LOT = \"b3lypg\"\n",
    "BAS = \"sto3g\"\n",
    "NFR = 1000\n",
    "\n",
    "\n",
    "def get_geom(positions, numbers):\n",
    "    atom = \"\"\n",
    "    for n, p in zip(numbers, positions):\n",
    "        atom += f\"{n:d}   {p[0]:.6f}   {p[1]:.6f}   {p[2]:.6f}\\n\"\n",
    "    atom = atom[:-1]\n",
    "    return atom\n",
    "\n",
    "\n",
    "def get_output(mf):\n",
    "    fock = mf.get_fock()\n",
    "    ovlp = mf.get_ovlp()\n",
    "    dm = mf.make_rdm1()\n",
    "    pop, chg = mf.mulliken_pop()\n",
    "    ao_labels = mf.mol.ao_labels()\n",
    "    dip_moment = mf.dip_moment()\n",
    "    energy_elec = mf.energy_elec()\n",
    "    energy_tot = mf.energy_tot()\n",
    "    converged = mf.converged\n",
    "\n",
    "    out = dict(\n",
    "        fock=fock,\n",
    "        ovlp=ovlp,\n",
    "        dm=dm,\n",
    "        pop=pop,\n",
    "        chg=chg,\n",
    "        ao_labels=ao_labels,\n",
    "        dip_moment=dip_moment,\n",
    "        energy_elec=energy_elec,\n",
    "        energy_tot=energy_tot,\n",
    "        converged=converged,\n",
    "    )\n",
    "\n",
    "    return out\n",
    "\n",
    "\n",
    "def single_point(positions, numbers, out_idx, dm=None):\n",
    "    mol = gto.M(\n",
    "        atom=get_geom(positions, numbers),\n",
    "        basis=BAS,\n",
    "        symmetry=False,\n",
    "        charge=0,\n",
    "        spin=0,\n",
    "        verbose=5,\n",
    "        cart=False,\n",
    "        output=f\"{out_idx:05d}.pylog\",\n",
    "    )\n",
    "    mol.build()\n",
    "\n",
    "    mf = dft.RKS(mol)\n",
    "    mf.xc = LOT\n",
    "    mf.conv_tol = 1e-10\n",
    "    # mf.max_cycle = 400\n",
    "    # mf.conv_tol_grad = 1e-10\n",
    "    # mf.diis_space = 12\n",
    "\n",
    "    grids = dft.Grids(mol)\n",
    "    grids.atom_grid = (99, 590)\n",
    "    grids.build()\n",
    "    mf.grids = grids\n",
    "\n",
    "    if dm is None:\n",
    "        mf.kernel()\n",
    "    else:\n",
    "        mf.kernel(dm)\n",
    "\n",
    "    print(\"Converged:\", mf.converged)\n",
    "\n",
    "    out = get_output(mf)\n",
    "\n",
    "    np.savez(\n",
    "        f\"{out_idx:05d}.npz\",\n",
    "        **out,\n",
    "    )"
   ]
  },
  {
   "cell_type": "code",
   "execution_count": 3,
   "id": "174f3c59-7b4f-495a-819d-0feb66a4a585",
   "metadata": {},
   "outputs": [],
   "source": [
    "output = np.load(\"/home/saade/mlelec/tutorials/data/pentacene/sto-3g/00000.npz\")"
   ]
  },
  {
   "cell_type": "code",
   "execution_count": 4,
   "id": "0f8bebd6-c4f9-4e77-80f9-6e113804f2fa",
   "metadata": {},
   "outputs": [
    {
     "data": {
      "text/plain": [
       "array([[-1.00271409e+01, -2.73906041e+00, -3.50767412e-04, ...,\n",
       "         4.75793990e-09,  8.12629712e-08, -2.34238048e-09],\n",
       "       [-2.73906041e+00, -1.38152499e+00, -1.26098259e-02, ...,\n",
       "         1.77096144e-08, -9.98640511e-07, -6.14584140e-07],\n",
       "       [-3.50767412e-04, -1.26098259e-02, -1.30623835e-01, ...,\n",
       "         5.72759996e-07, -9.46985381e-06,  5.54036601e-06],\n",
       "       ...,\n",
       "       [ 4.75793990e-09,  1.77096144e-08,  5.72759996e-07, ...,\n",
       "        -5.37659220e-01, -1.50262062e-03, -1.11557506e-01],\n",
       "       [ 8.12629712e-08, -9.98640511e-07, -9.46985381e-06, ...,\n",
       "        -1.50262062e-03, -2.18713290e-01, -4.80805287e-02],\n",
       "       [-2.34238048e-09, -6.14584140e-07,  5.54036601e-06, ...,\n",
       "        -1.11557506e-01, -4.80805287e-02, -5.51650934e-01]])"
      ]
     },
     "execution_count": 4,
     "metadata": {},
     "output_type": "execute_result"
    }
   ],
   "source": [
    "output['fock']"
   ]
  },
  {
   "cell_type": "code",
   "execution_count": 5,
   "id": "ca2b747c-6e16-425e-b656-a672994a7f0a",
   "metadata": {},
   "outputs": [],
   "source": [
    "frame_pentacene = ase.io.read('/home/saade/mlelec/tutorials/data/pentacene/Pentacene.xyz',\":\")"
   ]
  },
  {
   "cell_type": "code",
   "execution_count": 6,
   "id": "bf26d552-cadc-444c-a10d-09e12caf518a",
   "metadata": {},
   "outputs": [
    {
     "data": {
      "text/plain": [
       "{'0': True, '1': True}"
      ]
     },
     "execution_count": 6,
     "metadata": {},
     "output_type": "execute_result"
    }
   ],
   "source": [
    "frame_pentacene[0].info"
   ]
  },
  {
   "cell_type": "code",
   "execution_count": 7,
   "id": "1d30e1e8-3dac-4ba2-b845-d8e6aa77b011",
   "metadata": {},
   "outputs": [
    {
     "data": {
      "application/vnd.jupyter.widget-view+json": {
       "model_id": "ebc260bc3c094a79b7fab9b5452261b8",
       "version_major": 2,
       "version_minor": 0
      },
      "text/html": [
       "<StructureWidget(meta={'name': ' '}, structures=[{'size': 36, 'names': ['C', 'C', 'C', 'C', 'C', 'C', 'C', 'C', ...}, environments=[{'structure': 0, 'center': 0, 'cutoff': 15.0}, {'structure': 0,...}, properties={'index': {'target': 'structure', 'values': [0.0, 1.0, 2.0, 3.0,...}, )>"
      ],
      "text/plain": [
       "<StructureWidget(meta={'name': ' '}, structures=[{'size': 36, 'names': ['C', 'C', 'C', 'C', 'C', 'C', 'C', 'C'…"
      ]
     },
     "execution_count": 7,
     "metadata": {},
     "output_type": "execute_result"
    }
   ],
   "source": [
    "num_configs = 100\n",
    "random_pentacene_config = []\n",
    "for i in range(num_configs):\n",
    "    perturbed_positions = frame_pentacene[0].positions + np.random.normal(scale = 0.1, size = frame_pentacene[0].positions.shape)\n",
    "\n",
    "    perturbed_pentacene = frame_pentacene[0].copy()\n",
    "    perturbed_pentacene.positions = perturbed_positions\n",
    "    random_pentacene_config.append(perturbed_pentacene)\n",
    "\n",
    "write(f'pentacene_config_{num_configs}.xyz', random_pentacene_config)\n",
    "\n",
    "frames = read(f'pentacene_config_{num_configs}.xyz', index = ':')\n",
    "cs.show(frames, mode = 'structure', environments=cs.all_atomic_environments(frames, cutoff=15))"
   ]
  },
  {
   "cell_type": "code",
   "execution_count": 8,
   "id": "4d10a277-bf3c-4bbd-9021-361afe9c4d07",
   "metadata": {},
   "outputs": [],
   "source": [
    "#for idx, structure in enumerate(random_pentacene_config):\n",
    "    #single_point(structure.positions, structure.numbers, idx, dm=None)"
   ]
  },
  {
   "cell_type": "code",
   "execution_count": 9,
   "id": "7dfdd4af-9eaf-4248-87f2-871b50ce3a5e",
   "metadata": {},
   "outputs": [],
   "source": [
    "output = np.load(\"/home/saade/mlelec/tutorials/data/pentacene/sto-3g/00000.npz\")"
   ]
  },
  {
   "cell_type": "code",
   "execution_count": 10,
   "id": "5e6d6461-aaed-4339-b9ac-60cadd664545",
   "metadata": {},
   "outputs": [
    {
     "data": {
      "text/plain": [
       "array([[-1.00271409e+01, -2.73906041e+00, -3.50767412e-04, ...,\n",
       "         4.75793990e-09,  8.12629712e-08, -2.34238048e-09],\n",
       "       [-2.73906041e+00, -1.38152499e+00, -1.26098259e-02, ...,\n",
       "         1.77096144e-08, -9.98640511e-07, -6.14584140e-07],\n",
       "       [-3.50767412e-04, -1.26098259e-02, -1.30623835e-01, ...,\n",
       "         5.72759996e-07, -9.46985381e-06,  5.54036601e-06],\n",
       "       ...,\n",
       "       [ 4.75793990e-09,  1.77096144e-08,  5.72759996e-07, ...,\n",
       "        -5.37659220e-01, -1.50262062e-03, -1.11557506e-01],\n",
       "       [ 8.12629712e-08, -9.98640511e-07, -9.46985381e-06, ...,\n",
       "        -1.50262062e-03, -2.18713290e-01, -4.80805287e-02],\n",
       "       [-2.34238048e-09, -6.14584140e-07,  5.54036601e-06, ...,\n",
       "        -1.11557506e-01, -4.80805287e-02, -5.51650934e-01]])"
      ]
     },
     "execution_count": 10,
     "metadata": {},
     "output_type": "execute_result"
    }
   ],
   "source": [
    "output['fock']"
   ]
  },
  {
   "cell_type": "code",
   "execution_count": 11,
   "id": "a17d327a-0f98-4c1d-a0c7-efa6802c2da9",
   "metadata": {},
   "outputs": [],
   "source": [
    "mu = hickle.load('/home/saade/mlelec/tutorials/data/pentacene/sto-3g/dipole_moment.hkl')"
   ]
  },
  {
   "cell_type": "code",
   "execution_count": 12,
   "id": "cfb8d782-c6a0-4f00-a353-4f995c54f038",
   "metadata": {},
   "outputs": [],
   "source": [
    "for frame, dipole in zip(frames, mu):\n",
    "    frame.info['mu'] = dipole"
   ]
  },
  {
   "cell_type": "code",
   "execution_count": 13,
   "id": "75c2fd56-a5bb-4f16-b177-7c61328e8ca0",
   "metadata": {},
   "outputs": [
    {
     "name": "stdout",
     "output_type": "stream",
     "text": [
      "Atoms(symbols='C22H14', pbc=False)\n"
     ]
    }
   ],
   "source": [
    "print(frames[0])"
   ]
  },
  {
   "cell_type": "code",
   "execution_count": 14,
   "id": "48d7ed37-4e67-47a4-abb5-4516caf2c2f9",
   "metadata": {},
   "outputs": [
    {
     "data": {
      "text/plain": [
       "{'0': True, '1': True, 'mu': array([-0.05905164, -0.20686415,  0.13632801])}"
      ]
     },
     "execution_count": 14,
     "metadata": {},
     "output_type": "execute_result"
    }
   ],
   "source": [
    "frames[0].info"
   ]
  },
  {
   "cell_type": "code",
   "execution_count": 15,
   "id": "6f9fb340-b384-4d6a-95d3-34f39bae792a",
   "metadata": {},
   "outputs": [],
   "source": [
    "orb_name = {'1s': [1,0,0], '2s': [2, 0, 0], '2px': [2, 1, 1], '2py': [2, 1, -1], '2pz': [2, 1, 0]}\n",
    "atomic_number = {'C': 6, 'H': 1}"
   ]
  },
  {
   "cell_type": "code",
   "execution_count": 16,
   "id": "1365e128-58d5-46a4-8652-f4615dcb5166",
   "metadata": {},
   "outputs": [],
   "source": [
    "orbitals = {atomic_number['C']: [orb_name[k] for k in ['1s', '2s', '2px', '2py', '2pz']], atomic_number['H']: [orb_name['1s']]}"
   ]
  },
  {
   "cell_type": "code",
   "execution_count": 17,
   "id": "37cae420-1838-43b4-b629-cb7ff0d5d1bd",
   "metadata": {},
   "outputs": [
    {
     "data": {
      "text/plain": [
       "{6: [[1, 0, 0], [2, 0, 0], [2, 1, 1], [2, 1, -1], [2, 1, 0]], 1: [[1, 0, 0]]}"
      ]
     },
     "execution_count": 17,
     "metadata": {},
     "output_type": "execute_result"
    }
   ],
   "source": [
    "orbitals"
   ]
  },
  {
   "cell_type": "code",
   "execution_count": 18,
   "id": "3b474f3b-755e-4b28-bf0d-223f5fa717fb",
   "metadata": {},
   "outputs": [],
   "source": [
    "load_precomputed = True\n",
    "molecules_slice = slice(0, 1)"
   ]
  },
  {
   "cell_type": "code",
   "execution_count": 19,
   "id": "e2c42bdb-1fc7-47f2-89f5-759d434824d3",
   "metadata": {},
   "outputs": [],
   "source": [
    "#[np.max(f.get_all_distances()) for f in frames] "
   ]
  },
  {
   "cell_type": "code",
   "execution_count": 20,
   "id": "b451fb1a-f689-41f8-b7ec-31c2888956cb",
   "metadata": {},
   "outputs": [],
   "source": [
    "if not load_precomputed:\n",
    "    \n",
    "    molecule_data = MoleculeDataset(mol_name = \"pentacene\",\n",
    "                                    use_precomputed = False,\n",
    "                                    path = \"./data/pentacene\", \n",
    "                                    aux_path = \"./data/pentacene/sto-3g\", \n",
    "                                    frame_slice = molecules_slice,\n",
    "                                    device = device,\n",
    "                                    aux = [\"overlap\", \"orbitals\"],\n",
    "                                    target = [\"fock\", \"dipole_moment\"])\n",
    "                            \n",
    "else:\n",
    "    focks = hickle.load('./data/pentacene/sto-3g/fock.hkl')[molecules_slice]\n",
    "    overlaps = hickle.load('./data/pentacene/sto-3g/ovlp.hkl')[molecules_slice]\n",
    "    #orbitals = hickle.load('./data/pentacene/sto-3g/orbs.hkl')\n",
    "\n",
    "    molecule_data = MoleculeDataset(\n",
    "        mol_name = \"pentacene\",\n",
    "        frames = frames[molecules_slice],\n",
    "        frame_slice = molecules_slice, \n",
    "        device = device,\n",
    "        aux = [\"overlap\", \"orbitals\"],\n",
    "        target = [\"fock\", \"dipole_moment\"],\n",
    "        target_data = {\"fock\": torch.from_numpy(focks), \"dipole_moment\": torch.from_numpy(np.array([frame.info['mu'] for frame in frames[molecules_slice]]))},\n",
    "        aux_data = {\"overlap\": torch.from_numpy(overlaps), \"orbitals\": orbitals})"
   ]
  },
  {
   "cell_type": "code",
   "execution_count": 36,
   "id": "8c292069-9160-468a-af95-7a6445e496f6",
   "metadata": {},
   "outputs": [
    {
     "data": {
      "text/plain": [
       "array([[-1.00271409e+01, -2.73906041e+00, -3.50767412e-04, ...,\n",
       "         4.75793990e-09,  8.12629712e-08, -2.34238048e-09],\n",
       "       [-2.73906041e+00, -1.38152499e+00, -1.26098259e-02, ...,\n",
       "         1.77096144e-08, -9.98640511e-07, -6.14584140e-07],\n",
       "       [-3.50767412e-04, -1.26098259e-02, -1.30623835e-01, ...,\n",
       "         5.72759996e-07, -9.46985381e-06,  5.54036601e-06],\n",
       "       ...,\n",
       "       [ 4.75793990e-09,  1.77096144e-08,  5.72759996e-07, ...,\n",
       "        -5.37659220e-01, -1.50262062e-03, -1.11557506e-01],\n",
       "       [ 8.12629712e-08, -9.98640511e-07, -9.46985381e-06, ...,\n",
       "        -1.50262062e-03, -2.18713290e-01, -4.80805287e-02],\n",
       "       [-2.34238048e-09, -6.14584140e-07,  5.54036601e-06, ...,\n",
       "        -1.11557506e-01, -4.80805287e-02, -5.51650934e-01]])"
      ]
     },
     "execution_count": 36,
     "metadata": {},
     "output_type": "execute_result"
    }
   ],
   "source": [
    "focks[0]"
   ]
  },
  {
   "cell_type": "code",
   "execution_count": 48,
   "id": "ccf299e0-1377-482f-ae43-2128fdf1ae6a",
   "metadata": {},
   "outputs": [],
   "source": [
    "seed = 1\n",
    "train_frac = 1 #0.7\n",
    "val_frac = 0 #0.2\n",
    "test_frac = 0 #0.1"
   ]
  },
  {
   "cell_type": "code",
   "execution_count": 49,
   "id": "d1cacc3b-3fd5-4804-956e-c9343bc57418",
   "metadata": {},
   "outputs": [],
   "source": [
    "ml_data = MLDataset(\n",
    "    molecule_data = molecule_data,\n",
    "    device = device,\n",
    "    model_strategy = \"coupled\", \n",
    "    shuffle = True,\n",
    "    shuffle_seed = seed,\n",
    ")  \n",
    "\n",
    "ml_data._split_indices(train_frac = train_frac, val_frac = val_frac, test_frac = test_frac)"
   ]
  },
  {
   "cell_type": "code",
   "execution_count": 53,
   "id": "3873a2b5-32bd-42a4-a8f9-68cfbb84984a",
   "metadata": {},
   "outputs": [
    {
     "data": {
      "text/plain": [
       "TensorBlock\n",
       "    samples (22): ['structure', 'center', 'neighbor']\n",
       "    components (1): ['M']\n",
       "    properties (1): ['value']\n",
       "    gradients: None"
      ]
     },
     "execution_count": 53,
     "metadata": {},
     "output_type": "execute_result"
    }
   ],
   "source": [
    "ml_data.target_train[0]"
   ]
  },
  {
   "cell_type": "code",
   "execution_count": 51,
   "id": "fac2fa3f-f4db-4e1c-ae4d-b39642efcb69",
   "metadata": {},
   "outputs": [
    {
     "data": {
      "text/plain": [
       "1"
      ]
     },
     "execution_count": 51,
     "metadata": {},
     "output_type": "execute_result"
    }
   ],
   "source": [
    "len(ml_data.molecule_data.target[\"fock\"])"
   ]
  },
  {
   "cell_type": "code",
   "execution_count": 32,
   "id": "9e8c1dd5-c34d-42c9-96c3-ed10b9857d73",
   "metadata": {},
   "outputs": [
    {
     "data": {
      "text/plain": [
       "<Popen: returncode: None args: ['/home/saade/miniconda3/envs/tutorial/bin/py...>"
      ]
     },
     "execution_count": 32,
     "metadata": {},
     "output_type": "execute_result"
    }
   ],
   "source": [
    "from ase.visualize import view\n",
    "view(frames)"
   ]
  },
  {
   "cell_type": "code",
   "execution_count": 67,
   "id": "16823522-c83c-4c58-a3d3-4b727c40a19b",
   "metadata": {},
   "outputs": [],
   "source": [
    "#Hyperparameters of the features\n",
    "\n",
    "hypers = {\n",
    "            \"cutoff\": 4.0,\n",
    "            \"max_radial\" : 6,\n",
    "            \"max_angular\": 4,\n",
    "            \"atomic_gaussian_width\": 0.6,\n",
    "            \"center_atom_weight\": 1,\n",
    "            \"radial_basis\": {\"Gto\": {}},\n",
    "            \"cutoff_function\": {\"ShiftedCosine\": {\"width\": 0.1}},\n",
    "        }\n",
    "# hypers_pair = {\n",
    "        #     \"cutoff\": 15.0,\n",
    "        #     \"max_radial\" : 6,\n",
    "        #     \"max_angular\": 4,\n",
    "        #     \"atomic_gaussian_width\": 0.3,\n",
    "        #     \"center_atom_weight\": 1,\n",
    "        #     \"radial_basis\": {\"Gto\": {}},\n",
    "        #     \"cutoff_function\": {\"ShiftedCosine\": {\"width\": 0.1}},\n",
    "        # }\n",
    "\n",
    "if hypers is None:\n",
    "    ml_data._set_features(compute_features_for_target(ml_data, device = \"cpu\"))\n",
    "else:\n",
    "    ml_data._set_features(compute_features_for_target(ml_data, device = device, hypers = hypers))"
   ]
  },
  {
   "cell_type": "code",
   "execution_count": 68,
   "id": "c32611d0-0f14-4333-bcf2-ea8357bc93d8",
   "metadata": {},
   "outputs": [],
   "source": [
    "batch_size = 4\n",
    "train_dl, val_dl, test_dl = get_dataloader(ml_data, batch_size = batch_size, model_return = \"blocks\")"
   ]
  },
  {
   "cell_type": "markdown",
   "id": "a3de390d-7f65-4c5a-8271-626fb411f945",
   "metadata": {},
   "source": [
    "Model"
   ]
  },
  {
   "cell_type": "code",
   "execution_count": 69,
   "id": "07df29f1-41df-49ba-8cea-b3319aff3755",
   "metadata": {},
   "outputs": [],
   "source": [
    "model = LinearTargetModel(dataset = ml_data, nlayers = 3, nhidden = 16, bias = True, device = device)"
   ]
  },
  {
   "cell_type": "code",
   "execution_count": 70,
   "id": "45fba8d1-3baf-46b5-9acc-ec9d9e2288f8",
   "metadata": {},
   "outputs": [
    {
     "data": {
      "text/plain": [
       "14.296669543467754"
      ]
     },
     "execution_count": 70,
     "metadata": {},
     "output_type": "execute_result"
    }
   ],
   "source": [
    "np.max(frames[0].get_all_distances())"
   ]
  },
  {
   "cell_type": "markdown",
   "id": "0fa5e0fc-51f5-4a76-86ea-4335124f67f3",
   "metadata": {},
   "source": [
    "Training"
   ]
  },
  {
   "cell_type": "code",
   "execution_count": 71,
   "id": "36cc9764-7ce7-4e09-9505-ffcf25597e7e",
   "metadata": {},
   "outputs": [
    {
     "name": "stdout",
     "output_type": "stream",
     "text": [
      "LabelsEntry(block_type=0, species_i=6, n_i=1, l_i=0, species_j=6, n_j=1, l_j=0, L=0) torch.Size([22, 1, 1])\n",
      "torch.Size([22, 1, 720])\n",
      "LabelsEntry(block_type=0, species_i=6, n_i=1, l_i=0, species_j=6, n_j=2, l_j=0, L=0) torch.Size([22, 1, 1])\n",
      "torch.Size([22, 1, 720])\n",
      "LabelsEntry(block_type=0, species_i=6, n_i=1, l_i=0, species_j=6, n_j=2, l_j=1, L=1) torch.Size([22, 3, 1])\n",
      "torch.Size([22, 3, 1152])\n",
      "LabelsEntry(block_type=0, species_i=6, n_i=2, l_i=0, species_j=6, n_j=2, l_j=0, L=0) torch.Size([22, 1, 1])\n",
      "torch.Size([22, 1, 720])\n",
      "LabelsEntry(block_type=0, species_i=6, n_i=2, l_i=0, species_j=6, n_j=2, l_j=1, L=1) torch.Size([22, 3, 1])\n",
      "torch.Size([22, 3, 1152])\n",
      "LabelsEntry(block_type=0, species_i=6, n_i=2, l_i=1, species_j=6, n_j=2, l_j=1, L=0) torch.Size([22, 1, 1])\n",
      "torch.Size([22, 1, 720])\n",
      "LabelsEntry(block_type=0, species_i=6, n_i=2, l_i=1, species_j=6, n_j=2, l_j=1, L=2) torch.Size([22, 5, 1])\n",
      "torch.Size([22, 5, 1440])\n",
      "LabelsEntry(block_type=1, species_i=6, n_i=1, l_i=0, species_j=6, n_j=1, l_j=0, L=0) torch.Size([231, 1, 1])\n",
      "torch.Size([104, 1, 360])\n"
     ]
    },
    {
     "ename": "ValueError",
     "evalue": "operands could not be broadcast together with shapes (231,3) (104,3) ",
     "output_type": "error",
     "traceback": [
      "\u001b[0;31m---------------------------------------------------------------------------\u001b[0m",
      "\u001b[0;31mValueError\u001b[0m                                Traceback (most recent call last)",
      "Cell \u001b[0;32mIn[71], line 1\u001b[0m\n\u001b[0;32m----> 1\u001b[0m pred_ridges, ridges  \u001b[38;5;241m=\u001b[39m model\u001b[38;5;241m.\u001b[39mfit_ridge_analytical(set_bias\u001b[38;5;241m=\u001b[39m\u001b[38;5;28;01mFalse\u001b[39;00m)\n",
      "File \u001b[0;32m~/miniconda3/envs/tutorial/lib/python3.11/site-packages/mlelec/models/linear.py:315\u001b[0m, in \u001b[0;36mLinearTargetModel.fit_ridge_analytical\u001b[0;34m(self, set_bias)\u001b[0m\n\u001b[1;32m    312\u001b[0m nsamples, ncomp, nprops \u001b[38;5;241m=\u001b[39m block\u001b[38;5;241m.\u001b[39mvalues\u001b[38;5;241m.\u001b[39mshape\n\u001b[1;32m    313\u001b[0m \u001b[38;5;66;03m# nsamples, ncomp, nprops = feat.values.shape\u001b[39;00m\n\u001b[1;32m    314\u001b[0m \u001b[38;5;66;03m# _,sidx = labels_where(feat.samples, Labels(sample_names, values = np.asarray(block.samples.values).reshape(-1,len(sample_names))), return_idx=True)\u001b[39;00m\n\u001b[0;32m--> 315\u001b[0m \u001b[38;5;28;01massert\u001b[39;00m np\u001b[38;5;241m.\u001b[39mall(block\u001b[38;5;241m.\u001b[39msamples\u001b[38;5;241m.\u001b[39mvalues \u001b[38;5;241m==\u001b[39m feat\u001b[38;5;241m.\u001b[39msamples\u001b[38;5;241m.\u001b[39mvalues), (\n\u001b[1;32m    316\u001b[0m     k,\n\u001b[1;32m    317\u001b[0m     block\u001b[38;5;241m.\u001b[39msamples\u001b[38;5;241m.\u001b[39mvalues\u001b[38;5;241m.\u001b[39mshape,\n\u001b[1;32m    318\u001b[0m     feat\u001b[38;5;241m.\u001b[39msamples\u001b[38;5;241m.\u001b[39mvalues\u001b[38;5;241m.\u001b[39mshape,\n\u001b[1;32m    319\u001b[0m )\n\u001b[1;32m    321\u001b[0m x \u001b[38;5;241m=\u001b[39m (\n\u001b[1;32m    322\u001b[0m     (\n\u001b[1;32m    323\u001b[0m         feat\u001b[38;5;241m.\u001b[39mvalues\u001b[38;5;241m.\u001b[39mreshape(\n\u001b[0;32m   (...)\u001b[0m\n\u001b[1;32m    329\u001b[0m     \u001b[38;5;241m.\u001b[39mnumpy()\n\u001b[1;32m    330\u001b[0m )\n\u001b[1;32m    331\u001b[0m y \u001b[38;5;241m=\u001b[39m (\n\u001b[1;32m    332\u001b[0m     (\n\u001b[1;32m    333\u001b[0m         block\u001b[38;5;241m.\u001b[39mvalues\u001b[38;5;241m.\u001b[39mreshape(\n\u001b[0;32m   (...)\u001b[0m\n\u001b[1;32m    339\u001b[0m     \u001b[38;5;241m.\u001b[39mnumpy()\n\u001b[1;32m    340\u001b[0m )\n",
      "\u001b[0;31mValueError\u001b[0m: operands could not be broadcast together with shapes (231,3) (104,3) "
     ]
    }
   ],
   "source": [
    "pred_ridges, ridges  = model.fit_ridge_analytical(set_bias=False)"
   ]
  },
  {
   "cell_type": "code",
   "execution_count": 66,
   "id": "ddd5cc7f-838c-4af4-9ff1-4d2cfc43f31b",
   "metadata": {},
   "outputs": [
    {
     "name": "stdout",
     "output_type": "stream",
     "text": [
      "Training Loss 31454.19 meV\n"
     ]
    }
   ],
   "source": [
    "# We compute the loss over individual blocks\n",
    "block_losses = {}\n",
    "for k,b in ml_data.target_train.items():\n",
    "    block_losses[tuple(k.values)] = torch.linalg.norm(b.values - pred_ridges.block(k).values)**2\n",
    "loss_ = sum(block_losses.values()) # sum of squares losses of all the blocks \n",
    "\n",
    "\n",
    "# Get errors in eV from here \n",
    "normalizing_factor = 7 # TOFIX frames[0].get_global_number_of_atoms()*ml_data.molecule_data.basis. per species \n",
    "print(f\"Training Loss {np.sqrt(loss_/normalizing_factor) * Hartree*1000:.2f} meV\")"
   ]
  },
  {
   "cell_type": "code",
   "execution_count": null,
   "id": "d6fe4b0e-25aa-4889-94eb-b981e61cc307",
   "metadata": {},
   "outputs": [],
   "source": [
    "import matplotlib.pyplot as plt\n",
    "\n",
    "plt.rcParams['figure.dpi'] = 500\n",
    "x=[','.join([str(lbl[i]) for i in [0,2,3,5,6,7]]) for lbl in ml_data.target.blocks.keys.values.tolist()]\n",
    "fs = plt.rcParams['figure.figsize']\n",
    "fig, ax = plt.subplots(figsize = (fs[0]*2, fs[1]))\n",
    "# ax_loss = ax.twinx()\n",
    "# s = (0,0,0)\n",
    "prediction_ = np.array([torch.linalg.norm(b.values) for b in pred_ridges])\n",
    "target_ = np.array([torch.linalg.norm(b.values) for b in ml_data.target_train])\n",
    "loss_ = np.array([torch.linalg.norm(b.values-b1.values)**2 for b,b1 in zip(ml_data.target_train,pred_ridges)])\n",
    "print(np.sum(loss_))\n",
    "\n",
    "loss_blocks = list(block_losses.values())\n",
    "\n",
    "x_ = 3.5*np.arange(len(loss_blocks))\n",
    "\n",
    "labels = []\n",
    "handles = []\n",
    "pl = ax.bar(x_, prediction_, label = 'pred', width = 1, color = 'tab:blue');\n",
    "handles.append(pl)\n",
    "labels.append('Prediction')\n",
    "pl = ax.bar(x_+1, target_, alpha = 1, label = 'target', width = 1, color = 'tab:orange');\n",
    "handles.append(pl)\n",
    "labels.append('Target')\n",
    "\n",
    "# pl = ax_loss.bar(x_+2, loss_, alpha = 1, label = 'target', width = 1, color = 'tab:red');\n",
    "# handles.append(pl)\n",
    "# labels.append('Loss')\n",
    "\n",
    "# ax.set_ylim(1e-7, 1000)\n",
    "ax.set_xticks(3.5*np.arange(len(loss_blocks))+3.5/3-0.5)\n",
    "ax.set_xticklabels(x, rotation=90);\n",
    "ax.legend(handles, labels, loc = 'best')\n",
    "ax.set_ylabel('|H|')\n",
    "# ax_loss.set_ylabel('Loss')\n",
    "# ax_loss.set_yscale('log')\n",
    "# # ax_loss.set_ylim(1e-7)\n",
    "ax.set_yscale('log')\n",
    "ax.set_title('Performance on the training set')\n",
    "fig.tight_layout()"
   ]
  },
  {
   "cell_type": "code",
   "execution_count": null,
   "id": "c5f3aca3-34fe-4196-ad9c-9e8ae6bc304b",
   "metadata": {},
   "outputs": [],
   "source": []
  }
 ],
 "metadata": {
  "kernelspec": {
   "display_name": "tutorial",
   "language": "python",
   "name": "tutorial"
  },
  "language_info": {
   "codemirror_mode": {
    "name": "ipython",
    "version": 3
   },
   "file_extension": ".py",
   "mimetype": "text/x-python",
   "name": "python",
   "nbconvert_exporter": "python",
   "pygments_lexer": "ipython3",
   "version": "3.11.8"
  }
 },
 "nbformat": 4,
 "nbformat_minor": 5
}
