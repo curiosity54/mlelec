{
 "cells": [
  {
   "cell_type": "code",
   "execution_count": 1,
   "id": "e50fe7ed-7fac-4cc1-b0ea-e59664d00f37",
   "metadata": {},
   "outputs": [],
   "source": [
    "%load_ext autoreload\n",
    "%autoreload 2"
   ]
  },
  {
   "cell_type": "code",
   "execution_count": 2,
   "id": "fc06b192-c9b3-4cbc-a616-623933826d88",
   "metadata": {},
   "outputs": [
    {
     "name": "stdout",
     "output_type": "stream",
     "text": [
      "Using PyTorch backend.\n"
     ]
    },
    {
     "name": "stderr",
     "output_type": "stream",
     "text": [
      "/home/saade/miniconda3/envs/tutorial/lib/python3.11/site-packages/pyscf/dft/libxc.py:772: UserWarning: Since PySCF-2.3, B3LYP (and B3P86) are changed to the VWN-RPA variant, the same to the B3LYP functional in Gaussian and ORCA (issue 1480). To restore the VWN5 definition, you can put the setting \"B3LYP_WITH_VWN5 = True\" in pyscf_conf.py\n",
      "  warnings.warn('Since PySCF-2.3, B3LYP (and B3P86) are changed to the VWN-RPA variant, '\n"
     ]
    }
   ],
   "source": [
    "import torch \n",
    "torch.set_default_dtype(torch.float64) \n",
    "#if torch.cuda.is_available():\n",
    "#    device = 'cuda'\n",
    "#else:\n",
    "device = 'cpu'\n",
    "    \n",
    "import numpy as np\n",
    "\n",
    "import ase \n",
    "from ase.io import read, write\n",
    "from ase.units import Hartree\n",
    "\n",
    "import matplotlib.pyplot as plt\n",
    "\n",
    "import json  \n",
    "import chemiscope as cs\n",
    "import hickle\n",
    "\n",
    "from mlelec.features.acdc import compute_features_for_target\n",
    "from mlelec.data.dataset import get_dataloader\n",
    "from mlelec.data.dataset import MoleculeDataset\n",
    "from mlelec.data.dataset import MLDataset\n",
    "from mlelec.models.linear import LinearTargetModel\n",
    "from mlelec.data.pyscf_calculator import _instantiate_pyscf_mol\n",
    "from mlelec.utils.twocenter_utils import fix_orbital_order, unfix_orbital_order\n",
    "import mlelec.metrics as mlmetrics\n",
    "from mlelec.utils.learning_utils import compute_batch_dipole_moment, compute_dipole_moment_from_mf, instantiate_mf, compute_dipole_moment\n",
    "\n",
    "import os\n",
    "os.environ[\"PYSCFAD_BACKEND\"] = \"torch\"\n",
    "\n",
    "from pyscf import gto\n",
    "import pyscf.pbc.tools.pyscf_ase as pyscf_ase\n",
    "\n",
    "from pyscfad import numpy as pynp\n",
    "from pyscfad import ops\n",
    "from pyscfad.ml.scf import hf\n",
    "\n",
    "from IPython.utils import io\n",
    "\n",
    "import warnings\n",
    "from pathlib import Path"
   ]
  },
  {
   "cell_type": "markdown",
   "id": "40d92f0b-7cee-4e75-8cec-42de198c0d56",
   "metadata": {},
   "source": [
    "# Calc"
   ]
  },
  {
   "cell_type": "code",
   "execution_count": 3,
   "id": "cd18b6e0-1dce-4d85-a6e6-3e4a4e4e367d",
   "metadata": {},
   "outputs": [],
   "source": [
    "import numpy as np\n",
    "from pyscf import gto, dft\n",
    "from ase.io import read\n",
    "\n",
    "MOL = \"pentacene\"\n",
    "LOT = \"b3lypg\"\n",
    "BAS = \"sto3g\"\n",
    "NFR = 1000\n",
    "\n",
    "\n",
    "def get_geom(positions, numbers):\n",
    "    atom = \"\"\n",
    "    for n, p in zip(numbers, positions):\n",
    "        atom += f\"{n:d}   {p[0]:.6f}   {p[1]:.6f}   {p[2]:.6f}\\n\"\n",
    "    atom = atom[:-1]\n",
    "    return atom\n",
    "\n",
    "\n",
    "def get_output(mf):\n",
    "    fock = mf.get_fock()\n",
    "    ovlp = mf.get_ovlp()\n",
    "    dm = mf.make_rdm1()\n",
    "    pop, chg = mf.mulliken_pop()\n",
    "    ao_labels = mf.mol.ao_labels()\n",
    "    dip_moment = mf.dip_moment()\n",
    "    energy_elec = mf.energy_elec()\n",
    "    energy_tot = mf.energy_tot()\n",
    "    converged = mf.converged\n",
    "\n",
    "    out = dict(\n",
    "        fock=fock,\n",
    "        ovlp=ovlp,\n",
    "        dm=dm,\n",
    "        pop=pop,\n",
    "        chg=chg,\n",
    "        ao_labels=ao_labels,\n",
    "        dip_moment=dip_moment,\n",
    "        energy_elec=energy_elec,\n",
    "        energy_tot=energy_tot,\n",
    "        converged=converged,\n",
    "    )\n",
    "\n",
    "    return out\n",
    "\n",
    "\n",
    "def single_point(positions, numbers, out_idx, dm=None):\n",
    "    mol = gto.M(\n",
    "        atom=get_geom(positions, numbers),\n",
    "        basis=BAS,\n",
    "        symmetry=False,\n",
    "        charge=0,\n",
    "        spin=0,\n",
    "        verbose=5,\n",
    "        cart=False,\n",
    "        output=f\"{out_idx:05d}.pylog\",\n",
    "    )\n",
    "    mol.build()\n",
    "\n",
    "    mf = dft.RKS(mol)\n",
    "    mf.xc = LOT\n",
    "    mf.conv_tol = 1e-10\n",
    "    # mf.max_cycle = 400\n",
    "    # mf.conv_tol_grad = 1e-10\n",
    "    # mf.diis_space = 12\n",
    "\n",
    "    grids = dft.Grids(mol)\n",
    "    grids.atom_grid = (99, 590)\n",
    "    grids.build()\n",
    "    mf.grids = grids\n",
    "\n",
    "    if dm is None:\n",
    "        mf.kernel()\n",
    "    else:\n",
    "        mf.kernel(dm)\n",
    "\n",
    "    print(\"Converged:\", mf.converged)\n",
    "\n",
    "    out = get_output(mf)\n",
    "\n",
    "    np.savez(\n",
    "        f\"{out_idx:05d}.npz\",\n",
    "        **out,\n",
    "    )"
   ]
  },
  {
   "cell_type": "code",
   "execution_count": 4,
   "id": "174f3c59-7b4f-495a-819d-0feb66a4a585",
   "metadata": {},
   "outputs": [],
   "source": [
    "output = np.load(\"/home/saade/mlelec/tutorials/data/pentacene/sto-3g/00000.npz\")"
   ]
  },
  {
   "cell_type": "code",
   "execution_count": 5,
   "id": "0f8bebd6-c4f9-4e77-80f9-6e113804f2fa",
   "metadata": {},
   "outputs": [
    {
     "data": {
      "text/plain": [
       "array([[-1.00271409e+01, -2.73906041e+00, -3.50767412e-04, ...,\n",
       "         4.75793990e-09,  8.12629712e-08, -2.34238048e-09],\n",
       "       [-2.73906041e+00, -1.38152499e+00, -1.26098259e-02, ...,\n",
       "         1.77096144e-08, -9.98640511e-07, -6.14584140e-07],\n",
       "       [-3.50767412e-04, -1.26098259e-02, -1.30623835e-01, ...,\n",
       "         5.72759996e-07, -9.46985381e-06,  5.54036601e-06],\n",
       "       ...,\n",
       "       [ 4.75793990e-09,  1.77096144e-08,  5.72759996e-07, ...,\n",
       "        -5.37659220e-01, -1.50262062e-03, -1.11557506e-01],\n",
       "       [ 8.12629712e-08, -9.98640511e-07, -9.46985381e-06, ...,\n",
       "        -1.50262062e-03, -2.18713290e-01, -4.80805287e-02],\n",
       "       [-2.34238048e-09, -6.14584140e-07,  5.54036601e-06, ...,\n",
       "        -1.11557506e-01, -4.80805287e-02, -5.51650934e-01]])"
      ]
     },
     "execution_count": 5,
     "metadata": {},
     "output_type": "execute_result"
    }
   ],
   "source": [
    "output['fock']"
   ]
  },
  {
   "cell_type": "code",
   "execution_count": 6,
   "id": "ca2b747c-6e16-425e-b656-a672994a7f0a",
   "metadata": {},
   "outputs": [],
   "source": [
    "frame_pentacene = ase.io.read('/home/saade/mlelec/tutorials/data/pentacene/Pentacene.xyz',\":\")"
   ]
  },
  {
   "cell_type": "code",
   "execution_count": 7,
   "id": "bf26d552-cadc-444c-a10d-09e12caf518a",
   "metadata": {},
   "outputs": [
    {
     "data": {
      "text/plain": [
       "{'0': True, '1': True}"
      ]
     },
     "execution_count": 7,
     "metadata": {},
     "output_type": "execute_result"
    }
   ],
   "source": [
    "frame_pentacene[0].info"
   ]
  },
  {
   "cell_type": "code",
   "execution_count": 8,
   "id": "1d30e1e8-3dac-4ba2-b845-d8e6aa77b011",
   "metadata": {},
   "outputs": [
    {
     "data": {
      "application/vnd.jupyter.widget-view+json": {
       "model_id": "3d5a4f0f7c6243f495b19b5abde9a3cb",
       "version_major": 2,
       "version_minor": 0
      },
      "text/html": [
       "<StructureWidget(meta={'name': ' '}, structures=[{'size': 36, 'names': ['C', 'C', 'C', 'C', 'C', 'C', 'C', 'C', ...}, environments=[{'structure': 0, 'center': 0, 'cutoff': 15.0}, {'structure': 0,...}, properties={'index': {'target': 'structure', 'values': [0.0, 1.0, 2.0, 3.0,...}, )>"
      ],
      "text/plain": [
       "<StructureWidget(meta={'name': ' '}, structures=[{'size': 36, 'names': ['C', 'C', 'C', 'C', 'C', 'C', 'C', 'C'…"
      ]
     },
     "execution_count": 8,
     "metadata": {},
     "output_type": "execute_result"
    }
   ],
   "source": [
    "num_configs = 100\n",
    "random_pentacene_config = []\n",
    "for i in range(num_configs):\n",
    "    perturbed_positions = frame_pentacene[0].positions + np.random.normal(scale = 0.1, size = frame_pentacene[0].positions.shape)\n",
    "\n",
    "    perturbed_pentacene = frame_pentacene[0].copy()\n",
    "    perturbed_pentacene.positions = perturbed_positions\n",
    "    random_pentacene_config.append(perturbed_pentacene)\n",
    "\n",
    "write(f'pentacene_config_{num_configs}.xyz', random_pentacene_config)\n",
    "\n",
    "frames = read(f'pentacene_config_{num_configs}.xyz', index = ':')\n",
    "cs.show(frames, mode = 'structure', environments=cs.all_atomic_environments(frames, cutoff=15))"
   ]
  },
  {
   "cell_type": "code",
   "execution_count": 9,
   "id": "4d10a277-bf3c-4bbd-9021-361afe9c4d07",
   "metadata": {},
   "outputs": [],
   "source": [
    "#for idx, structure in enumerate(random_pentacene_config):\n",
    "    #single_point(structure.positions, structure.numbers, idx, dm=None)"
   ]
  },
  {
   "cell_type": "code",
   "execution_count": 10,
   "id": "7dfdd4af-9eaf-4248-87f2-871b50ce3a5e",
   "metadata": {},
   "outputs": [],
   "source": [
    "output = np.load(\"/home/saade/mlelec/tutorials/data/pentacene/sto-3g/00000.npz\")"
   ]
  },
  {
   "cell_type": "code",
   "execution_count": 11,
   "id": "5e6d6461-aaed-4339-b9ac-60cadd664545",
   "metadata": {},
   "outputs": [
    {
     "data": {
      "text/plain": [
       "array([[-1.00271409e+01, -2.73906041e+00, -3.50767412e-04, ...,\n",
       "         4.75793990e-09,  8.12629712e-08, -2.34238048e-09],\n",
       "       [-2.73906041e+00, -1.38152499e+00, -1.26098259e-02, ...,\n",
       "         1.77096144e-08, -9.98640511e-07, -6.14584140e-07],\n",
       "       [-3.50767412e-04, -1.26098259e-02, -1.30623835e-01, ...,\n",
       "         5.72759996e-07, -9.46985381e-06,  5.54036601e-06],\n",
       "       ...,\n",
       "       [ 4.75793990e-09,  1.77096144e-08,  5.72759996e-07, ...,\n",
       "        -5.37659220e-01, -1.50262062e-03, -1.11557506e-01],\n",
       "       [ 8.12629712e-08, -9.98640511e-07, -9.46985381e-06, ...,\n",
       "        -1.50262062e-03, -2.18713290e-01, -4.80805287e-02],\n",
       "       [-2.34238048e-09, -6.14584140e-07,  5.54036601e-06, ...,\n",
       "        -1.11557506e-01, -4.80805287e-02, -5.51650934e-01]])"
      ]
     },
     "execution_count": 11,
     "metadata": {},
     "output_type": "execute_result"
    }
   ],
   "source": [
    "output['fock']"
   ]
  },
  {
   "cell_type": "code",
   "execution_count": 12,
   "id": "874140fb-672c-46e2-a807-3c157a17c9b6",
   "metadata": {},
   "outputs": [
    {
     "data": {
      "text/plain": [
       "'/home/saade/mlelec/tutorials'"
      ]
     },
     "execution_count": 12,
     "metadata": {},
     "output_type": "execute_result"
    }
   ],
   "source": [
    "pwd"
   ]
  },
  {
   "cell_type": "markdown",
   "id": "698d9041-de83-4dad-831e-3ca72615ae55",
   "metadata": {},
   "source": [
    "# ML"
   ]
  },
  {
   "cell_type": "code",
   "execution_count": 13,
   "id": "d2e38f60-0549-460b-9aaf-06cbb4893942",
   "metadata": {},
   "outputs": [],
   "source": [
    "molecules_slice = slice(0, 3)\n",
    "frames = read('data/pentacene/pentacene_config_100.xyz', index = molecules_slice)"
   ]
  },
  {
   "cell_type": "code",
   "execution_count": 14,
   "id": "6f9fb340-b384-4d6a-95d3-34f39bae792a",
   "metadata": {},
   "outputs": [],
   "source": [
    "orb_name = {'1s': [1,0,0], '2s': [2, 0, 0], '2px': [2, 1, 1], '2py': [2, 1, -1], '2pz': [2, 1, 0]}\n",
    "atomic_number = {'C': 6, 'H': 1}"
   ]
  },
  {
   "cell_type": "code",
   "execution_count": 15,
   "id": "1365e128-58d5-46a4-8652-f4615dcb5166",
   "metadata": {},
   "outputs": [],
   "source": [
    "orbitals = {atomic_number['C']: [orb_name[k] for k in ['1s', '2s', '2px', '2py', '2pz']], atomic_number['H']: [orb_name['1s']]}"
   ]
  },
  {
   "cell_type": "code",
   "execution_count": 16,
   "id": "3b474f3b-755e-4b28-bf0d-223f5fa717fb",
   "metadata": {},
   "outputs": [],
   "source": [
    "load_precomputed = True"
   ]
  },
  {
   "cell_type": "code",
   "execution_count": 17,
   "id": "b451fb1a-f689-41f8-b7ec-31c2888956cb",
   "metadata": {
    "scrolled": true
   },
   "outputs": [],
   "source": [
    "if not load_precomputed:\n",
    "    \n",
    "    molecule_data = MoleculeDataset(mol_name = \"pentacene\",\n",
    "                                    use_precomputed = False,\n",
    "                                    path = \"./data/pentacene\", \n",
    "                                    aux_path = \"./data/pentacene/sto-3g\", \n",
    "                                    frame_slice = molecules_slice,\n",
    "                                    device = device,\n",
    "                                    aux = [\"overlap\", \"orbitals\"],\n",
    "                                    target = [\"fock\", \"dipole_moment\"])\n",
    "                            \n",
    "else:\n",
    "    focks = hickle.load('./data/pentacene/sto-3g/fock.hkl')[molecules_slice]\n",
    "    overlaps = hickle.load('./data/pentacene/sto-3g/ovlp.hkl')[molecules_slice]\n",
    "    #orbitals = hickle.load('./data/pentacene/sto-3g/orbs.hkl')\n",
    "\n",
    "    molecule_data = MoleculeDataset(\n",
    "        mol_name = \"pentacene\",\n",
    "        frames = frames[molecules_slice],\n",
    "        frame_slice = molecules_slice, \n",
    "        device = device,\n",
    "        aux = [\"overlap\", \"orbitals\"],\n",
    "        target = [\"fock\", \"dipole_moment\"],\n",
    "        target_data = {\"fock\": torch.from_numpy(focks), \"dipole_moment\": torch.from_numpy(np.array([frame.info['mu'] for frame in frames[molecules_slice]]))},\n",
    "        aux_data = {\"overlap\": torch.from_numpy(overlaps), \"orbitals\": orbitals})"
   ]
  },
  {
   "cell_type": "code",
   "execution_count": 18,
   "id": "ccf299e0-1377-482f-ae43-2128fdf1ae6a",
   "metadata": {},
   "outputs": [],
   "source": [
    "seed = 1\n",
    "train_frac = 0.7\n",
    "val_frac = 0.2\n",
    "test_frac = 0.1"
   ]
  },
  {
   "cell_type": "code",
   "execution_count": 19,
   "id": "d1cacc3b-3fd5-4804-956e-c9343bc57418",
   "metadata": {},
   "outputs": [],
   "source": [
    "ml_data = MLDataset(\n",
    "    molecule_data = molecule_data,\n",
    "    device = device,\n",
    "    model_strategy = \"coupled\", \n",
    "    shuffle = True,\n",
    "    shuffle_seed = seed,\n",
    ")  \n",
    "\n",
    "ml_data._split_indices(train_frac = train_frac, val_frac = val_frac, test_frac = test_frac)"
   ]
  },
  {
   "cell_type": "code",
   "execution_count": 20,
   "id": "16823522-c83c-4c58-a3d3-4b727c40a19b",
   "metadata": {},
   "outputs": [],
   "source": [
    "#Hyperparameters of the features\n",
    "\n",
    "hypers = {\n",
    "            \"cutoff\": 6.0,\n",
    "            \"max_radial\" : 8,\n",
    "            \"max_angular\": 4,\n",
    "            \"atomic_gaussian_width\": 0.3,\n",
    "            \"center_atom_weight\": 1,\n",
    "            \"radial_basis\": {\"Gto\": {}},\n",
    "            \"cutoff_function\": {\"ShiftedCosine\": {\"width\": 0.1}},\n",
    "        }\n",
    "hypers_pair = {\n",
    "            \"cutoff\": 10.0,\n",
    "            \"max_radial\" : 8,\n",
    "            \"max_angular\": 4,\n",
    "            \"atomic_gaussian_width\": 0.5,\n",
    "            \"center_atom_weight\": 1,\n",
    "            \"radial_basis\": {\"Gto\": {}},\n",
    "            \"cutoff_function\": {\"ShiftedCosine\": {\"width\": 0.1}},\n",
    "        }\n",
    "\n",
    "if hypers is None:\n",
    "    ml_data._set_features(compute_features_for_target(ml_data, device = \"cpu\"))\n",
    "else:\n",
    "    ml_data._set_features(compute_features_for_target(ml_data, device = device, hypers = hypers, hypers_pair = hypers_pair))"
   ]
  },
  {
   "cell_type": "markdown",
   "id": "e9e36a29-6d3c-4ccc-98bb-1f914d2f5ad5",
   "metadata": {},
   "source": [
    "# Explore TensorMap"
   ]
  },
  {
   "cell_type": "code",
   "execution_count": 21,
   "id": "2a0083d7-f406-4901-95a1-f29d9c03f688",
   "metadata": {},
   "outputs": [],
   "source": [
    "tm = ml_data.features # get tensormap = features (actual numbers describing atoms) + metadata (which atom belongs to which structure, species, etc.)"
   ]
  },
  {
   "cell_type": "code",
   "execution_count": 22,
   "id": "f0a1e3ae-0de5-4bed-b61a-96b69acd8143",
   "metadata": {},
   "outputs": [
    {
     "data": {
      "text/plain": [
       "TensorMap with 63 blocks\n",
       "keys: order_nu  inversion_sigma  spherical_harmonics_l  species_center  species_neighbor  block_type  cell_shift_a  cell_shift_b  cell_shift_c  cell_shift_a_MIC  cell_shift_b_MIC  cell_shift_c_MIC\n",
       "         2             1                   0                  1                1              0            0             0             0               0                 0                 0\n",
       "         2             1                   1                  1                1              0            0             0             0               0                 0                 0\n",
       "                                                                                                   ...\n",
       "         2            -1                   4                  6                6              1            0             0             0               0                 0                 0\n",
       "         2            -1                   4                  6                6              -1           0             0             0               0                 0                 0"
      ]
     },
     "execution_count": 22,
     "metadata": {},
     "output_type": "execute_result"
    }
   ],
   "source": [
    "tm"
   ]
  },
  {
   "cell_type": "code",
   "execution_count": 23,
   "id": "190e64c1-4630-4833-985d-4fbc23a97b3d",
   "metadata": {},
   "outputs": [
    {
     "data": {
      "text/plain": [
       "Labels(\n",
       "    order_nu  inversion_sigma  spherical_harmonics_l  species_center  species_neighbor  block_type  cell_shift_a  cell_shift_b  cell_shift_c  cell_shift_a_MIC  cell_shift_b_MIC  cell_shift_c_MIC\n",
       "       2             1                   0                  1                1              0            0             0             0               0                 0                 0\n",
       "       2             1                   1                  1                1              0            0             0             0               0                 0                 0\n",
       "       2             1                   2                  1                1              0            0             0             0               0                 0                 0\n",
       "       2             1                   3                  1                1              0            0             0             0               0                 0                 0\n",
       "       2             1                   4                  1                1              0            0             0             0               0                 0                 0\n",
       "       2            -1                   1                  1                1              0            0             0             0               0                 0                 0\n",
       "       2            -1                   2                  1                1              0            0             0             0               0                 0                 0\n",
       "       2            -1                   3                  1                1              0            0             0             0               0                 0                 0\n",
       "       2            -1                   4                  1                1              0            0             0             0               0                 0                 0\n",
       "       2             1                   0                  6                6              0            0             0             0               0                 0                 0\n",
       "       2             1                   1                  6                6              0            0             0             0               0                 0                 0\n",
       "       2             1                   2                  6                6              0            0             0             0               0                 0                 0\n",
       "       2             1                   3                  6                6              0            0             0             0               0                 0                 0\n",
       "       2             1                   4                  6                6              0            0             0             0               0                 0                 0\n",
       "       2            -1                   1                  6                6              0            0             0             0               0                 0                 0\n",
       "       2            -1                   2                  6                6              0            0             0             0               0                 0                 0\n",
       "       2            -1                   3                  6                6              0            0             0             0               0                 0                 0\n",
       "       2            -1                   4                  6                6              0            0             0             0               0                 0                 0\n",
       "       2             1                   0                  1                1              1            0             0             0               0                 0                 0\n",
       "       2             1                   0                  1                1              -1           0             0             0               0                 0                 0\n",
       "       2             1                   1                  1                1              1            0             0             0               0                 0                 0\n",
       "       2             1                   1                  1                1              -1           0             0             0               0                 0                 0\n",
       "       2             1                   2                  1                1              1            0             0             0               0                 0                 0\n",
       "       2             1                   2                  1                1              -1           0             0             0               0                 0                 0\n",
       "       2             1                   3                  1                1              1            0             0             0               0                 0                 0\n",
       "       2             1                   3                  1                1              -1           0             0             0               0                 0                 0\n",
       "       2             1                   4                  1                1              1            0             0             0               0                 0                 0\n",
       "       2             1                   4                  1                1              -1           0             0             0               0                 0                 0\n",
       "       2             1                   0                  1                6              2            0             0             0               0                 0                 0\n",
       "       2             1                   1                  1                6              2            0             0             0               0                 0                 0\n",
       "       2             1                   2                  1                6              2            0             0             0               0                 0                 0\n",
       "       2             1                   3                  1                6              2            0             0             0               0                 0                 0\n",
       "       2             1                   4                  1                6              2            0             0             0               0                 0                 0\n",
       "       2            -1                   1                  1                1              1            0             0             0               0                 0                 0\n",
       "       2            -1                   1                  1                1              -1           0             0             0               0                 0                 0\n",
       "       2            -1                   2                  1                1              1            0             0             0               0                 0                 0\n",
       "       2            -1                   2                  1                1              -1           0             0             0               0                 0                 0\n",
       "       2            -1                   3                  1                1              1            0             0             0               0                 0                 0\n",
       "       2            -1                   3                  1                1              -1           0             0             0               0                 0                 0\n",
       "       2            -1                   4                  1                1              1            0             0             0               0                 0                 0\n",
       "       2            -1                   4                  1                1              -1           0             0             0               0                 0                 0\n",
       "       2            -1                   1                  1                6              2            0             0             0               0                 0                 0\n",
       "       2            -1                   2                  1                6              2            0             0             0               0                 0                 0\n",
       "       2            -1                   3                  1                6              2            0             0             0               0                 0                 0\n",
       "       2            -1                   4                  1                6              2            0             0             0               0                 0                 0\n",
       "       2             1                   0                  6                6              1            0             0             0               0                 0                 0\n",
       "       2             1                   0                  6                6              -1           0             0             0               0                 0                 0\n",
       "       2             1                   1                  6                6              1            0             0             0               0                 0                 0\n",
       "       2             1                   1                  6                6              -1           0             0             0               0                 0                 0\n",
       "       2             1                   2                  6                6              1            0             0             0               0                 0                 0\n",
       "       2             1                   2                  6                6              -1           0             0             0               0                 0                 0\n",
       "       2             1                   3                  6                6              1            0             0             0               0                 0                 0\n",
       "       2             1                   3                  6                6              -1           0             0             0               0                 0                 0\n",
       "       2             1                   4                  6                6              1            0             0             0               0                 0                 0\n",
       "       2             1                   4                  6                6              -1           0             0             0               0                 0                 0\n",
       "       2            -1                   1                  6                6              1            0             0             0               0                 0                 0\n",
       "       2            -1                   1                  6                6              -1           0             0             0               0                 0                 0\n",
       "       2            -1                   2                  6                6              1            0             0             0               0                 0                 0\n",
       "       2            -1                   2                  6                6              -1           0             0             0               0                 0                 0\n",
       "       2            -1                   3                  6                6              1            0             0             0               0                 0                 0\n",
       "       2            -1                   3                  6                6              -1           0             0             0               0                 0                 0\n",
       "       2            -1                   4                  6                6              1            0             0             0               0                 0                 0\n",
       "       2            -1                   4                  6                6              -1           0             0             0               0                 0                 0\n",
       ")"
      ]
     },
     "execution_count": 23,
     "metadata": {},
     "output_type": "execute_result"
    }
   ],
   "source": [
    "tm.keys"
   ]
  },
  {
   "cell_type": "markdown",
   "id": "43178591-8ca5-4050-bb37-0573c801e030",
   "metadata": {},
   "source": [
    "Two methods to access the blocks: the first one is simpler (especially if you loop over all blocks anyway), while the second method is much more explicit"
   ]
  },
  {
   "cell_type": "code",
   "execution_count": 45,
   "id": "13182bb8-f2b3-42fb-a626-7c82d02b166e",
   "metadata": {},
   "outputs": [],
   "source": [
    "block = tm.block(2) # consists of both the values (think: matrix of coefficients / features) and the associated metadata (called samples, properties, components)"
   ]
  },
  {
   "cell_type": "code",
   "execution_count": 25,
   "id": "c3f3d07e-0712-4a98-80d2-8514ae718006",
   "metadata": {},
   "outputs": [],
   "source": [
    "block_explicit = tm.block(inversion_sigma=1, spherical_harmonics_l=2, species_center=1, species_neighbor=1, block_type=0)"
   ]
  },
  {
   "cell_type": "code",
   "execution_count": 26,
   "id": "36d7142b-d68f-4233-bf56-448ee04f27b4",
   "metadata": {},
   "outputs": [
    {
     "data": {
      "text/plain": [
       "TensorBlock\n",
       "    samples (42): ['structure', 'center', 'neighbor']\n",
       "    components (5): ['spherical_harmonics_m']\n",
       "    properties (2560): ['species_neighbor_1', 'n_1', 'k_2', 'species_neighbor_2', 'n_2', 'l_2']\n",
       "    gradients: None"
      ]
     },
     "execution_count": 26,
     "metadata": {},
     "output_type": "execute_result"
    }
   ],
   "source": [
    "block"
   ]
  },
  {
   "cell_type": "code",
   "execution_count": 27,
   "id": "250b6177-684c-46a6-9213-7a922aca8a8c",
   "metadata": {},
   "outputs": [
    {
     "data": {
      "text/plain": [
       "TensorBlock\n",
       "    samples (42): ['structure', 'center', 'neighbor']\n",
       "    components (5): ['spherical_harmonics_m']\n",
       "    properties (2560): ['species_neighbor_1', 'n_1', 'k_2', 'species_neighbor_2', 'n_2', 'l_2']\n",
       "    gradients: None"
      ]
     },
     "execution_count": 27,
     "metadata": {},
     "output_type": "execute_result"
    }
   ],
   "source": [
    "block_explicit # compare with the result above to make sure we got the same block"
   ]
  },
  {
   "cell_type": "code",
   "execution_count": 40,
   "id": "68bb33f0-e9c5-4326-a6bd-e3aada07f024",
   "metadata": {},
   "outputs": [],
   "source": [
    "vals = block.values # actual coefficients"
   ]
  },
  {
   "cell_type": "code",
   "execution_count": 41,
   "id": "46e0e82c-3b2d-4035-b9ce-393cf961251a",
   "metadata": {},
   "outputs": [
    {
     "data": {
      "text/plain": [
       "torch.Size([42, 5, 2560])"
      ]
     },
     "execution_count": 41,
     "metadata": {},
     "output_type": "execute_result"
    }
   ],
   "source": [
    "vals.shape"
   ]
  },
  {
   "cell_type": "code",
   "execution_count": 42,
   "id": "2a20bd9e-6898-4cbd-9154-ce5d9153069f",
   "metadata": {},
   "outputs": [
    {
     "data": {
      "text/plain": [
       "Labels(\n",
       "    structure  center  neighbor\n",
       "        0        22       22\n",
       "        0        23       23\n",
       "        0        24       24\n",
       "        0        25       25\n",
       "        0        26       26\n",
       "        0        27       27\n",
       "        0        28       28\n",
       "        0        29       29\n",
       "        0        30       30\n",
       "        0        31       31\n",
       "        0        32       32\n",
       "        0        33       33\n",
       "        0        34       34\n",
       "        0        35       35\n",
       "        1        22       22\n",
       "        1        23       23\n",
       "        1        24       24\n",
       "        1        25       25\n",
       "        1        26       26\n",
       "        1        27       27\n",
       "        1        28       28\n",
       "        1        29       29\n",
       "        1        30       30\n",
       "        1        31       31\n",
       "        1        32       32\n",
       "        1        33       33\n",
       "        1        34       34\n",
       "        1        35       35\n",
       "        2        22       22\n",
       "        2        23       23\n",
       "        2        24       24\n",
       "        2        25       25\n",
       "        2        26       26\n",
       "        2        27       27\n",
       "        2        28       28\n",
       "        2        29       29\n",
       "        2        30       30\n",
       "        2        31       31\n",
       "        2        32       32\n",
       "        2        33       33\n",
       "        2        34       34\n",
       "        2        35       35\n",
       ")"
      ]
     },
     "execution_count": 42,
     "metadata": {},
     "output_type": "execute_result"
    }
   ],
   "source": [
    "block.samples # 42 \"rows\" consist of structure, center and neighbor indices"
   ]
  },
  {
   "cell_type": "code",
   "execution_count": 43,
   "id": "590d3f50-4fb0-49cc-ae50-8d3edd28c077",
   "metadata": {},
   "outputs": [
    {
     "data": {
      "text/plain": [
       "[Labels(\n",
       "     spherical_harmonics_m\n",
       "              -2\n",
       "              -1\n",
       "               0\n",
       "               1\n",
       "               2\n",
       " )]"
      ]
     },
     "execution_count": 43,
     "metadata": {},
     "output_type": "execute_result"
    }
   ],
   "source": [
    "block.components # the 5 \"columns\" correspond to spherical harmonics m=-2,-1,0,1,2"
   ]
  },
  {
   "cell_type": "code",
   "execution_count": 57,
   "id": "43cb818b-efe1-409e-bf93-309c12b9d791",
   "metadata": {},
   "outputs": [],
   "source": [
    "# block.properties # careful: there are 2560 possible properties, the least important indices go here (\"the rest\" basically)"
   ]
  },
  {
   "cell_type": "code",
   "execution_count": 56,
   "id": "66fbb64c-2efa-43d4-bda8-68a149def59d",
   "metadata": {},
   "outputs": [
    {
     "data": {
      "text/plain": [
       "LabelsEntry(species_neighbor_1=1, n_1=0, k_2=0, species_neighbor_2=1, n_2=2, l_2=2)"
      ]
     },
     "execution_count": 56,
     "metadata": {},
     "output_type": "execute_result"
    }
   ],
   "source": [
    "block.properties[2]"
   ]
  },
  {
   "cell_type": "code",
   "execution_count": 30,
   "id": "c32611d0-0f14-4333-bcf2-ea8357bc93d8",
   "metadata": {},
   "outputs": [],
   "source": [
    "batch_size = 4\n",
    "train_dl, val_dl, test_dl = get_dataloader(ml_data, batch_size = batch_size, model_return = \"blocks\")"
   ]
  },
  {
   "cell_type": "markdown",
   "id": "a3de390d-7f65-4c5a-8271-626fb411f945",
   "metadata": {},
   "source": [
    "Model"
   ]
  },
  {
   "cell_type": "code",
   "execution_count": 31,
   "id": "07df29f1-41df-49ba-8cea-b3319aff3755",
   "metadata": {},
   "outputs": [],
   "source": [
    "model = LinearTargetModel(dataset = ml_data, nlayers = 3, nhidden = 16, bias = True, device = device)"
   ]
  },
  {
   "cell_type": "code",
   "execution_count": 32,
   "id": "45fba8d1-3baf-46b5-9acc-ec9d9e2288f8",
   "metadata": {},
   "outputs": [
    {
     "data": {
      "text/plain": [
       "14.62364872892528"
      ]
     },
     "execution_count": 32,
     "metadata": {},
     "output_type": "execute_result"
    }
   ],
   "source": [
    "np.max(frames[0].get_all_distances())"
   ]
  },
  {
   "cell_type": "markdown",
   "id": "0fa5e0fc-51f5-4a76-86ea-4335124f67f3",
   "metadata": {},
   "source": [
    "Training"
   ]
  },
  {
   "cell_type": "code",
   "execution_count": 33,
   "id": "36cc9764-7ce7-4e09-9505-ffcf25597e7e",
   "metadata": {},
   "outputs": [],
   "source": [
    "pred_ridges, ridges  = model.fit_ridge_analytical(set_bias=False)"
   ]
  },
  {
   "cell_type": "code",
   "execution_count": 34,
   "id": "ddd5cc7f-838c-4af4-9ff1-4d2cfc43f31b",
   "metadata": {},
   "outputs": [
    {
     "name": "stdout",
     "output_type": "stream",
     "text": [
      "Training Loss 26995.13 meV\n"
     ]
    }
   ],
   "source": [
    "# We compute the loss over individual blocks\n",
    "block_losses = {}\n",
    "for k,b in ml_data.target_train.items():\n",
    "    block_losses[tuple(k.values)] = torch.linalg.norm(b.values - pred_ridges.block(k).values)**2\n",
    "loss_ = sum(block_losses.values()) # sum of squares losses of all the blocks \n",
    "\n",
    "\n",
    "# Get errors in eV from here \n",
    "normalizing_factor = 22*5+14 # TOFIX frames[0].get_global_number_of_atoms()*ml_data.molecule_data.basis. per species \n",
    "print(f\"Training Loss {np.sqrt(loss_/normalizing_factor) * Hartree*1000:.2f} meV\")"
   ]
  },
  {
   "cell_type": "code",
   "execution_count": 35,
   "id": "669b1ca1-edbf-48d0-850f-6b9c82203701",
   "metadata": {},
   "outputs": [
    {
     "data": {
      "image/png": "[encoded data removed]",
      "text/plain": [
       "<Figure size 1920x480 with 2 Axes>"
      ]
     },
     "metadata": {},
     "output_type": "display_data"
    }
   ],
   "source": [
    "from mlelec.utils.plot_utils import plot_block_errors\n",
    "fig, ax, ax_loss = plot_block_errors(ml_data.target_train, pred_ridges, plot_loss = True)\n",
    "ax_loss.set_ylim(1e-5,)\n",
    "ax.set_ylim(1e-5,)\n",
    "fig.tight_layout()"
   ]
  },
  {
   "cell_type": "code",
   "execution_count": 36,
   "id": "c5f3aca3-34fe-4196-ad9c-9e8ae6bc304b",
   "metadata": {},
   "outputs": [
    {
     "name": "stdout",
     "output_type": "stream",
     "text": [
      "Train RMSE: 11.047005184719431\n"
     ]
    }
   ],
   "source": [
    "from mlelec.utils.twocenter_utils import _to_uncoupled_basis, _to_matrix\n",
    "reconstructed_uncoupled = _to_uncoupled_basis(pred_ridges,  device=model.device) # Convert the coupled blocks to uncoupled\n",
    "\n",
    "# Recover the predicted matrices for the training set \n",
    "fock_predictions_train = _to_matrix(\n",
    "   reconstructed_uncoupled,\n",
    "    ml_data.train_frames,\n",
    "     ml_data.aux_data['orbitals'],\n",
    "    device=model.device,\n",
    ")\n",
    "\n",
    "print(f'Train RMSE: {torch.sqrt(torch.linalg.norm((fock_predictions_train - ml_data.target.tensor[ml_data.train_idx]))**2 / len(ml_data.train_idx) )}')"
   ]
  },
  {
   "cell_type": "markdown",
   "id": "7c7f3ed7-3b95-428e-a8ed-c12f541bb50b",
   "metadata": {},
   "source": [
    "Validation"
   ]
  },
  {
   "cell_type": "code",
   "execution_count": 37,
   "id": "6e97e253-9431-4d8f-a5fa-fc1aa9ccb85e",
   "metadata": {},
   "outputs": [
    {
     "ename": "RuntimeError",
     "evalue": "cannot reshape tensor of 0 elements into shape [0, -1] because the unspecified dimension size -1 can be any value and is ambiguous",
     "output_type": "error",
     "traceback": [
      "\u001b[0;31m---------------------------------------------------------------------------\u001b[0m",
      "\u001b[0;31mRuntimeError\u001b[0m                              Traceback (most recent call last)",
      "Cell \u001b[0;32mIn[37], line 1\u001b[0m\n\u001b[0;32m----> 1\u001b[0m pred_ridges_val  \u001b[38;5;241m=\u001b[39m model\u001b[38;5;241m.\u001b[39mpredict_ridge_analytical()\n",
      "File \u001b[0;32m~/miniconda3/envs/tutorial/lib/python3.11/site-packages/mlelec/models/linear.py:394\u001b[0m, in \u001b[0;36mLinearTargetModel.predict_ridge_analytical\u001b[0;34m(self, return_matrix)\u001b[0m\n\u001b[1;32m    389\u001b[0m nsamples, ncomp, nprops \u001b[38;5;241m=\u001b[39m target\u001b[38;5;241m.\u001b[39mvalues\u001b[38;5;241m.\u001b[39mshape\n\u001b[1;32m    391\u001b[0m feat \u001b[38;5;241m=\u001b[39m map_targetkeys_to_featkeys(\u001b[38;5;28mself\u001b[39m\u001b[38;5;241m.\u001b[39mdataset\u001b[38;5;241m.\u001b[39mfeat_val, tkey)\n\u001b[1;32m    392\u001b[0m x \u001b[38;5;241m=\u001b[39m (\n\u001b[1;32m    393\u001b[0m     (\n\u001b[0;32m--> 394\u001b[0m         feat\u001b[38;5;241m.\u001b[39mvalues\u001b[38;5;241m.\u001b[39mreshape(\n\u001b[1;32m    395\u001b[0m             (feat\u001b[38;5;241m.\u001b[39mvalues\u001b[38;5;241m.\u001b[39mshape[\u001b[38;5;241m0\u001b[39m] \u001b[38;5;241m*\u001b[39m feat\u001b[38;5;241m.\u001b[39mvalues\u001b[38;5;241m.\u001b[39mshape[\u001b[38;5;241m1\u001b[39m], \u001b[38;5;241m-\u001b[39m\u001b[38;5;241m1\u001b[39m)\n\u001b[1;32m    396\u001b[0m         )\n\u001b[1;32m    397\u001b[0m         \u001b[38;5;241m/\u001b[39m \u001b[38;5;241m1\u001b[39m\n\u001b[1;32m    398\u001b[0m     )\n\u001b[1;32m    399\u001b[0m     \u001b[38;5;241m.\u001b[39mcpu()\n\u001b[1;32m    400\u001b[0m     \u001b[38;5;241m.\u001b[39mnumpy()\n\u001b[1;32m    401\u001b[0m )\n\u001b[1;32m    402\u001b[0m pred \u001b[38;5;241m=\u001b[39m \u001b[38;5;28mself\u001b[39m\u001b[38;5;241m.\u001b[39mridges[imdl]\u001b[38;5;241m.\u001b[39mpredict(x)\n\u001b[1;32m    403\u001b[0m pred_blocks_val\u001b[38;5;241m.\u001b[39mappend(\n\u001b[1;32m    404\u001b[0m     TensorBlock(\n\u001b[1;32m    405\u001b[0m         values\u001b[38;5;241m=\u001b[39mtorch\u001b[38;5;241m.\u001b[39mfrom_numpy(pred\u001b[38;5;241m.\u001b[39mreshape((nsamples, ncomp, \u001b[38;5;241m1\u001b[39m)))\n\u001b[0;32m   (...)\u001b[0m\n\u001b[1;32m    411\u001b[0m     )\n\u001b[1;32m    412\u001b[0m )\n",
      "\u001b[0;31mRuntimeError\u001b[0m: cannot reshape tensor of 0 elements into shape [0, -1] because the unspecified dimension size -1 can be any value and is ambiguous"
     ]
    }
   ],
   "source": [
    "pred_ridges_val  = model.predict_ridge_analytical()"
   ]
  },
  {
   "cell_type": "code",
   "execution_count": null,
   "id": "669ec0fd-8821-4f93-b385-139a342fee2a",
   "metadata": {},
   "outputs": [],
   "source": [
    "block_losses = {}\n",
    "for k,b in ml_data.target_val.items():\n",
    "    block_losses[tuple(k.values)] = torch.linalg.norm(b.values - pred_ridges_val.block(k).values)**2\n",
    "loss_ = sum(block_losses.values()) # sum of squares losses of all the blocks \n",
    "\n",
    "\n",
    "# Get errors in eV from here \n",
    "normalizing_factor = 7 # TOFIX frames[0].get_global_number_of_atoms()*ml_data.molecule_data.basis.\n",
    "print(f\"Validation Loss {np.sqrt(loss_/normalizing_factor) * Hartree*1000:.2f} meV\")"
   ]
  },
  {
   "cell_type": "code",
   "execution_count": null,
   "id": "a1eda633-637f-4db8-80cc-6221cffd1261",
   "metadata": {},
   "outputs": [],
   "source": [
    "import matplotlib.pyplot as plt\n",
    "\n",
    "plt.rcParams['figure.dpi'] = 500\n",
    "x=[','.join([str(lbl[i]) for i in [0,2,3,5,6,7]]) for lbl in ml_data.target.blocks.keys.values.tolist()]\n",
    "fs = plt.rcParams['figure.figsize']\n",
    "fig, ax = plt.subplots(figsize = (fs[0]*2, fs[1]))\n",
    "# ax_loss = ax.twinx()\n",
    "# s = (0,0,0)\n",
    "prediction_ = np.array([torch.linalg.norm(b.values) for b in pred_ridges_val])\n",
    "target_ = np.array([torch.linalg.norm(b.values) for b in ml_data.target_val])\n",
    "loss_ = np.array([torch.linalg.norm(b.values-b1.values)**2 for b,b1 in zip(ml_data.target_val,pred_ridges_val)])\n",
    "print(np.sum(loss_))\n",
    "\n",
    "loss_blocks = list(block_losses.values())\n",
    "\n",
    "x_ = 3.5*np.arange(len(loss_blocks))\n",
    "\n",
    "labels = []\n",
    "handles = []\n",
    "pl = ax.bar(x_, prediction_, label = 'pred', width = 1, color = 'tab:blue');\n",
    "handles.append(pl)\n",
    "labels.append('Prediction')\n",
    "pl = ax.bar(x_+1, target_, alpha = 1, label = 'target', width = 1, color = 'tab:orange');\n",
    "handles.append(pl)\n",
    "labels.append('Target')\n",
    "\n",
    "# pl = ax_loss.bar(x_+2, loss_, alpha = 1, label = 'target', width = 1, color = 'tab:red');\n",
    "# handles.append(pl)\n",
    "# labels.append('Loss')\n",
    "\n",
    "# ax.set_ylim(1e-7, 1000)\n",
    "ax.set_xticks(3.5*np.arange(len(loss_blocks))+3.5/3-0.5)\n",
    "ax.set_xticklabels(x, rotation=90);\n",
    "ax.legend(handles, labels, loc = 'best')\n",
    "ax.set_ylabel('|H|')\n",
    "# ax_loss.set_ylabel('Loss')\n",
    "# ax_loss.set_yscale('log')\n",
    "# # ax_loss.set_ylim(1e-7)\n",
    "ax.set_yscale('log')\n",
    "ax.set_title('Performance on the training set')\n",
    "fig.tight_layout()"
   ]
  },
  {
   "cell_type": "code",
   "execution_count": null,
   "id": "d41d9adf-0429-4a27-8ebd-7c543182b6f7",
   "metadata": {},
   "outputs": [],
   "source": [
    "reconstructed_uncoupled = _to_uncoupled_basis(pred_ridges_val,  device=model.device) # Convert the coupled blocks to uncoupled\n",
    "\n",
    "# Recover the predicted matrices for the validation set \n",
    "fock_predictions_val = _to_matrix(\n",
    "   reconstructed_uncoupled,\n",
    "    ml_data.val_frames,\n",
    "     ml_data.aux_data['orbitals'],\n",
    "    device=model.device,\n",
    ")\n",
    "\n",
    "print(f'Validation RMSE: {torch.sqrt(torch.linalg.norm((fock_predictions_val - ml_data.target.tensor[ml_data.val_idx]))**2 / len(ml_data.val_idx) )}')"
   ]
  },
  {
   "cell_type": "markdown",
   "id": "c452255d-a953-4d06-8a61-a2fe749de279",
   "metadata": {},
   "source": [
    "Predict properties from the trained Hamiltonians"
   ]
  },
  {
   "cell_type": "code",
   "execution_count": null,
   "id": "a8953ce0-dffd-4592-ba2f-f793645d695b",
   "metadata": {},
   "outputs": [],
   "source": [
    "import os\n",
    "os.environ[\"PYSCFAD_BACKEND\"] = \"torch\"\n",
    "import torch\n",
    "from pyscf import gto\n",
    "from pyscfad import numpy as pynp\n",
    "from pyscfad import ops\n",
    "from pyscfad.ml.scf import hf\n",
    "import pyscf.pbc.tools.pyscf_ase as pyscf_ase\n",
    "from mlelec.data.pyscf_calculator import _instantiate_pyscf_mol\n",
    "from mlelec.utils.twocenter_utils import fix_orbital_order, unfix_orbital_order\n",
    "# import mlelec.metrics as mlmetrics"
   ]
  },
  {
   "cell_type": "code",
   "execution_count": null,
   "id": "388be4d1-31c6-46f0-b431-71685ce1584b",
   "metadata": {},
   "outputs": [],
   "source": [
    "def compute_dipole_moment(frames, fock_predictions, overlaps):\n",
    "    assert (\n",
    "        len(frames) == len(fock_predictions) == len(overlaps)\n",
    "    ), \"Length of frames, fock_predictions, and overlaps must be the same\"\n",
    "    dipoles = []\n",
    "    for i, frame in enumerate(frames):\n",
    "        mol = _instantiate_pyscf_mol(frame)\n",
    "        mf = hf.SCF(mol)\n",
    "        fock = torch.autograd.Variable(\n",
    "            fock_predictions[i].type(torch.float64), requires_grad=True\n",
    "        )\n",
    "\n",
    "        mo_energy, mo_coeff = mf.eig(fock, overlaps[i])\n",
    "        mo_occ = mf.get_occ(mo_energy)  # get_occ returns a numpy array\n",
    "        mo_occ = ops.convert_to_tensor(mo_occ)\n",
    "        dm1 = mf.make_rdm1(mo_coeff, mo_occ)\n",
    "        dip = mf.dip_moment(dm=dm1)\n",
    "        dipoles.append(dip)\n",
    "    return torch.stack(dipoles)"
   ]
  },
  {
   "cell_type": "code",
   "execution_count": null,
   "id": "fc1743a5-47dc-40d6-80eb-cd389ca3797b",
   "metadata": {},
   "outputs": [],
   "source": [
    "from IPython.utils import io\n",
    "import mlelec.metrics as mlmetrics\n",
    "# with HiddenPrints():\n",
    "\n",
    "fock_reference_train = ml_data.molecule_data.target['fock'][ml_data.train_idx] \n",
    "fock_reference_val = ml_data.molecule_data.target['fock'][ml_data.val_idx] \n",
    "\n",
    "with io.capture_output() as captured:\n",
    "   # Compute the dipole moments of reference Fock matrix\n",
    "    dipole_reference_train = compute_dipole_moment(\n",
    "        ml_data.train_frames,\n",
    "        fock_reference_train,\n",
    "        ml_data.molecule_data.aux_data[\"overlap\"][ml_data.train_idx],\n",
    "    )\n",
    "    # convert prediction back to pyscf order before passing to pyscf \n",
    "    fock_predictions_train = unfix_orbital_order(\n",
    "        fock_predictions_train,\n",
    "        ml_data.train_frames,\n",
    "        ml_data.molecule_data.aux_data[\"orbitals\"],\n",
    "    )\n",
    "    # Compute the dipole moments of the prediction of the training set\n",
    "    dipole_prediction_train = compute_dipole_moment(\n",
    "        ml_data.train_frames,\n",
    "        fock_predictions_train,\n",
    "        ml_data.molecule_data.aux_data[\"overlap\"][ml_data.train_idx],\n",
    "    )\n",
    "    \n",
    "\n",
    "    # Repeat the procedure above for the validation set \n",
    "    dipole_reference_val = compute_dipole_moment(\n",
    "        ml_data.val_frames,\n",
    "        fock_reference_val,\n",
    "        ml_data.molecule_data.aux_data[\"overlap\"][ml_data.val_idx],\n",
    "    )\n",
    "    \n",
    "    fock_predictions_val = unfix_orbital_order(\n",
    "        fock_predictions_val,\n",
    "        ml_data.val_frames,\n",
    "        ml_data.molecule_data.aux_data[\"orbitals\"],\n",
    "    )\n",
    "\n",
    "    dipole_prediction_val = compute_dipole_moment(\n",
    "        ml_data.val_frames,\n",
    "        fock_predictions_val,\n",
    "        ml_data.molecule_data.aux_data[\"overlap\"][ml_data.val_idx],\n",
    "    )"
   ]
  },
  {
   "cell_type": "code",
   "execution_count": null,
   "id": "82469902-eb4c-4f7a-a920-3d49ae694dcb",
   "metadata": {},
   "outputs": [],
   "source": [
    "square_loss = mlmetrics.L2_loss(dipole_reference_train , dipole_prediction_train)\n",
    "print(f\"RMSE on dipoles (training set) (a.u.):  {torch.sqrt(square_loss / len(dipole_prediction_train)).item()}\")\n",
    "\n",
    "square_loss = mlmetrics.L2_loss(dipole_reference_val , dipole_prediction_val)\n",
    "print(f\"RMSE on dipoles (validation set) (a.u.): {torch.sqrt(square_loss / len(dipole_prediction_val)).item()}\")"
   ]
  },
  {
   "cell_type": "markdown",
   "id": "6f02d78c-05b0-4261-a3a8-e9f7843585ec",
   "metadata": {},
   "source": [
    "Train the model"
   ]
  },
  {
   "cell_type": "raw",
   "id": "69e7e89f-bf12-443a-8db8-422e4c190510",
   "metadata": {},
   "source": [
    "loss_fn = getattr(mlmetrics, \"L2_loss\") "
   ]
  },
  {
   "cell_type": "code",
   "execution_count": null,
   "id": "a3d0f2c7-ab54-4310-9b1d-299dbbadb0f8",
   "metadata": {},
   "outputs": [],
   "source": [
    "from cmath import inf\n",
    "best = inf\n",
    "early_stop_criterion = 50"
   ]
  },
  {
   "cell_type": "code",
   "execution_count": null,
   "id": "17751da4-1d9c-4db6-b03a-7a2d5fcc4db8",
   "metadata": {},
   "outputs": [],
   "source": [
    "optimizer = torch.optim.Adam(model.parameters(), lr = 1e-3)\n",
    "scheduler = torch.optim.lr_scheduler.ReduceLROnPlateau(optimizer, factor = 0.5, patience = 20, verbose = True)"
   ]
  },
  {
   "cell_type": "code",
   "execution_count": null,
   "id": "28a10b94-5613-4daa-b332-751b7a1f7790",
   "metadata": {},
   "outputs": [],
   "source": [
    "val_interval = 10\n",
    "losses = []\n",
    "early_stop_count = 0\n",
    "nepochs = 800\n",
    "Path('model').mkdir(exist_ok = True)"
   ]
  },
  {
   "cell_type": "code",
   "execution_count": null,
   "id": "02ef3e59-fefa-40d3-b28e-b949b561dc4b",
   "metadata": {},
   "outputs": [],
   "source": [
    "for epoch in range(nepochs):\n",
    "    \n",
    "    model.train(True)\n",
    "    train_loss = 0\n",
    "    \n",
    "    for i, data in enumerate(train_dl):\n",
    "        optimizer.zero_grad()\n",
    "        pred = model(data[\"input\"], return_type = \"coupled_blocks\", batch_indices = data[\"idx\"])  \n",
    "        loss = loss_fn(pred, data[\"output\"])\n",
    "        train_loss += loss\n",
    "        loss.backward()\n",
    "        optimizer.step()\n",
    "    losses.append(train_loss.item())\n",
    "    scheduler.step(train_loss)\n",
    "    model.train(False)\n",
    "\n",
    "    if epoch % val_interval == 0:\n",
    "        val_loss = 0\n",
    "        \n",
    "        for i, data in enumerate(val_dl):\n",
    "            pred = model(data[\"input\"], return_type = \"coupled_blocks\", batch_indices = data[\"idx\"])\n",
    "            vloss = loss_fn(pred, data[\"output\"])\n",
    "            val_loss += vloss.item()\n",
    "        new_best = val_loss < best\n",
    "        \n",
    "        if new_best:\n",
    "            best = val_loss\n",
    "            early_stop_count = 0\n",
    "        else:\n",
    "            early_stop_count += 1\n",
    "            \n",
    "        if early_stop_count > early_stop_criterion:\n",
    "            print(f\"\\n\\nEarly stopping at epoch {epoch}\")\n",
    "            print(f\"Epoch {epoch}, train loss {train_loss/len(ml_data.train_idx)}\")\n",
    "            print(f\"Epoch {epoch} val loss {val_loss/len(ml_data.val_idx)}\")\n",
    "            break\n",
    "            \n",
    "    if epoch % 10 == 0:\n",
    "        print(f\"Epoch {epoch:>5d}, train. loss: {train_loss/len(ml_data.train_idx):>10.6e}. Val. loss: {val_loss/len(ml_data.val_idx):>10.6e}\")"
   ]
  },
  {
   "cell_type": "code",
   "execution_count": null,
   "id": "ef9d1246-55c0-4746-a5c7-052daba1ca58",
   "metadata": {},
   "outputs": [],
   "source": [
    "fig, ax = plt.subplots()\n",
    "ax.plot(np.array(losses)*Hartree**2)\n",
    "ax.set_xscale(\"log\")\n",
    "ax.set_yscale(\"log\")\n",
    "ax.set_xlabel('Number of epochs')\n",
    "ax.set_ylabel(r'Loss function ($\\mathrm{eV}^2$)')"
   ]
  },
  {
   "cell_type": "code",
   "execution_count": null,
   "id": "e8259ac2-2ca7-44a6-89ba-fe005977173c",
   "metadata": {},
   "outputs": [],
   "source": []
  }
 ],
 "metadata": {
  "kernelspec": {
   "display_name": "tutorial",
   "language": "python",
   "name": "tutorial"
  },
  "language_info": {
   "codemirror_mode": {
    "name": "ipython",
    "version": 3
   },
   "file_extension": ".py",
   "mimetype": "text/x-python",
   "name": "python",
   "nbconvert_exporter": "python",
   "pygments_lexer": "ipython3",
   "version": "3.11.8"
  }
 },
 "nbformat": 4,
 "nbformat_minor": 5
}
