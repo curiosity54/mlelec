{
 "cells": [
  {
   "cell_type": "code",
   "execution_count": 1,
   "id": "e50fe7ed-7fac-4cc1-b0ea-e59664d00f37",
   "metadata": {},
   "outputs": [],
   "source": [
    "%load_ext autoreload\n",
    "%autoreload 2"
   ]
  },
  {
   "cell_type": "code",
   "execution_count": 2,
   "id": "fc06b192-c9b3-4cbc-a616-623933826d88",
   "metadata": {},
   "outputs": [
    {
     "name": "stdout",
     "output_type": "stream",
     "text": [
      "Using PyTorch backend.\n"
     ]
    },
    {
     "name": "stderr",
     "output_type": "stream",
     "text": [
      "/home/saade/miniconda3/envs/tutorial/lib/python3.11/site-packages/pyscf/dft/libxc.py:772: UserWarning: Since PySCF-2.3, B3LYP (and B3P86) are changed to the VWN-RPA variant, the same to the B3LYP functional in Gaussian and ORCA (issue 1480). To restore the VWN5 definition, you can put the setting \"B3LYP_WITH_VWN5 = True\" in pyscf_conf.py\n",
      "  warnings.warn('Since PySCF-2.3, B3LYP (and B3P86) are changed to the VWN-RPA variant, '\n"
     ]
    }
   ],
   "source": [
    "import torch \n",
    "torch.set_default_dtype(torch.float64) \n",
    "#if torch.cuda.is_available():\n",
    "#    device = 'cuda'\n",
    "#else:\n",
    "device = 'cpu'\n",
    "    \n",
    "import numpy as np\n",
    "\n",
    "import ase \n",
    "from ase.io import read, write\n",
    "from ase.units import Hartree\n",
    "\n",
    "import matplotlib.pyplot as plt\n",
    "\n",
    "import json  \n",
    "import chemiscope as cs\n",
    "import hickle\n",
    "\n",
    "from mlelec.features.acdc import compute_features_for_target\n",
    "from mlelec.data.dataset import get_dataloader\n",
    "from mlelec.data.dataset import MoleculeDataset\n",
    "from mlelec.data.dataset import MLDataset\n",
    "from mlelec.models.linear import LinearTargetModel\n",
    "from mlelec.data.pyscf_calculator import _instantiate_pyscf_mol\n",
    "from mlelec.utils.twocenter_utils import fix_orbital_order, unfix_orbital_order\n",
    "import mlelec.metrics as mlmetrics\n",
    "from mlelec.utils.learning_utils import compute_batch_dipole_moment, compute_dipole_moment_from_mf, instantiate_mf, compute_dipole_moment\n",
    "\n",
    "import os\n",
    "os.environ[\"PYSCFAD_BACKEND\"] = \"torch\"\n",
    "\n",
    "from pyscf import gto\n",
    "import pyscf.pbc.tools.pyscf_ase as pyscf_ase\n",
    "\n",
    "from pyscfad import numpy as pynp\n",
    "from pyscfad import ops\n",
    "from pyscfad.ml.scf import hf\n",
    "\n",
    "from IPython.utils import io\n",
    "\n",
    "import warnings\n",
    "from pathlib import Path"
   ]
  },
  {
   "cell_type": "markdown",
   "id": "40d92f0b-7cee-4e75-8cec-42de198c0d56",
   "metadata": {
    "jp-MarkdownHeadingCollapsed": true
   },
   "source": [
    "# Calc"
   ]
  },
  {
   "cell_type": "code",
   "execution_count": 3,
   "id": "cd18b6e0-1dce-4d85-a6e6-3e4a4e4e367d",
   "metadata": {},
   "outputs": [],
   "source": [
    "import numpy as np\n",
    "from pyscf import gto, dft\n",
    "from ase.io import read\n",
    "\n",
    "MOL = \"pentacene\"\n",
    "LOT = \"b3lypg\"\n",
    "BAS = \"sto3g\"\n",
    "NFR = 1000\n",
    "\n",
    "\n",
    "def get_geom(positions, numbers):\n",
    "    atom = \"\"\n",
    "    for n, p in zip(numbers, positions):\n",
    "        atom += f\"{n:d}   {p[0]:.6f}   {p[1]:.6f}   {p[2]:.6f}\\n\"\n",
    "    atom = atom[:-1]\n",
    "    return atom\n",
    "\n",
    "\n",
    "def get_output(mf):\n",
    "    fock = mf.get_fock()\n",
    "    ovlp = mf.get_ovlp()\n",
    "    dm = mf.make_rdm1()\n",
    "    pop, chg = mf.mulliken_pop()\n",
    "    ao_labels = mf.mol.ao_labels()\n",
    "    dip_moment = mf.dip_moment()\n",
    "    energy_elec = mf.energy_elec()\n",
    "    energy_tot = mf.energy_tot()\n",
    "    converged = mf.converged\n",
    "\n",
    "    out = dict(\n",
    "        fock=fock,\n",
    "        ovlp=ovlp,\n",
    "        dm=dm,\n",
    "        pop=pop,\n",
    "        chg=chg,\n",
    "        ao_labels=ao_labels,\n",
    "        dip_moment=dip_moment,\n",
    "        energy_elec=energy_elec,\n",
    "        energy_tot=energy_tot,\n",
    "        converged=converged,\n",
    "    )\n",
    "\n",
    "    return out\n",
    "\n",
    "\n",
    "def single_point(positions, numbers, out_idx, dm=None):\n",
    "    mol = gto.M(\n",
    "        atom=get_geom(positions, numbers),\n",
    "        basis=BAS,\n",
    "        symmetry=False,\n",
    "        charge=0,\n",
    "        spin=0,\n",
    "        verbose=5,\n",
    "        cart=False,\n",
    "        output=f\"{out_idx:05d}.pylog\",\n",
    "    )\n",
    "    mol.build()\n",
    "\n",
    "    mf = dft.RKS(mol)\n",
    "    mf.xc = LOT\n",
    "    mf.conv_tol = 1e-10\n",
    "    # mf.max_cycle = 400\n",
    "    # mf.conv_tol_grad = 1e-10\n",
    "    # mf.diis_space = 12\n",
    "\n",
    "    grids = dft.Grids(mol)\n",
    "    grids.atom_grid = (99, 590)\n",
    "    grids.build()\n",
    "    mf.grids = grids\n",
    "\n",
    "    if dm is None:\n",
    "        mf.kernel()\n",
    "    else:\n",
    "        mf.kernel(dm)\n",
    "\n",
    "    print(\"Converged:\", mf.converged)\n",
    "\n",
    "    out = get_output(mf)\n",
    "\n",
    "    np.savez(\n",
    "        f\"{out_idx:05d}.npz\",\n",
    "        **out,\n",
    "    )"
   ]
  },
  {
   "cell_type": "code",
   "execution_count": 4,
   "id": "174f3c59-7b4f-495a-819d-0feb66a4a585",
   "metadata": {},
   "outputs": [],
   "source": [
    "output = np.load(\"/home/saade/mlelec/tutorials/data/pentacene/sto-3g/00000.npz\")"
   ]
  },
  {
   "cell_type": "code",
   "execution_count": null,
   "id": "0f8bebd6-c4f9-4e77-80f9-6e113804f2fa",
   "metadata": {},
   "outputs": [],
   "source": [
    "output['fock']"
   ]
  },
  {
   "cell_type": "code",
   "execution_count": null,
   "id": "ca2b747c-6e16-425e-b656-a672994a7f0a",
   "metadata": {},
   "outputs": [],
   "source": [
    "frame_pentacene = ase.io.read('/home/saade/mlelec/tutorials/data/pentacene/Pentacene.xyz',\":\")"
   ]
  },
  {
   "cell_type": "code",
   "execution_count": null,
   "id": "bf26d552-cadc-444c-a10d-09e12caf518a",
   "metadata": {},
   "outputs": [],
   "source": [
    "frame_pentacene[0].info"
   ]
  },
  {
   "cell_type": "code",
   "execution_count": null,
   "id": "1d30e1e8-3dac-4ba2-b845-d8e6aa77b011",
   "metadata": {},
   "outputs": [],
   "source": [
    "num_configs = 100\n",
    "random_pentacene_config = []\n",
    "for i in range(num_configs):\n",
    "    perturbed_positions = frame_pentacene[0].positions + np.random.normal(scale = 0.1, size = frame_pentacene[0].positions.shape)\n",
    "\n",
    "    perturbed_pentacene = frame_pentacene[0].copy()\n",
    "    perturbed_pentacene.positions = perturbed_positions\n",
    "    random_pentacene_config.append(perturbed_pentacene)\n",
    "\n",
    "write(f'pentacene_config_{num_configs}.xyz', random_pentacene_config)\n",
    "\n",
    "frames = read(f'pentacene_config_{num_configs}.xyz', index = ':')\n",
    "cs.show(frames, mode = 'structure', environments=cs.all_atomic_environments(frames, cutoff=15))"
   ]
  },
  {
   "cell_type": "code",
   "execution_count": null,
   "id": "4d10a277-bf3c-4bbd-9021-361afe9c4d07",
   "metadata": {},
   "outputs": [],
   "source": [
    "#for idx, structure in enumerate(random_pentacene_config):\n",
    "    #single_point(structure.positions, structure.numbers, idx, dm=None)"
   ]
  },
  {
   "cell_type": "code",
   "execution_count": null,
   "id": "7dfdd4af-9eaf-4248-87f2-871b50ce3a5e",
   "metadata": {},
   "outputs": [],
   "source": [
    "output = np.load(\"/home/saade/mlelec/tutorials/data/pentacene/sto-3g/00000.npz\")"
   ]
  },
  {
   "cell_type": "code",
   "execution_count": null,
   "id": "5e6d6461-aaed-4339-b9ac-60cadd664545",
   "metadata": {},
   "outputs": [],
   "source": [
    "output['fock']"
   ]
  },
  {
   "cell_type": "code",
   "execution_count": null,
   "id": "874140fb-672c-46e2-a807-3c157a17c9b6",
   "metadata": {},
   "outputs": [],
   "source": [
    "pwd"
   ]
  },
  {
   "cell_type": "markdown",
   "id": "698d9041-de83-4dad-831e-3ca72615ae55",
   "metadata": {},
   "source": [
    "# ML"
   ]
  },
  {
   "cell_type": "code",
   "execution_count": 5,
   "id": "d2e38f60-0549-460b-9aaf-06cbb4893942",
   "metadata": {},
   "outputs": [],
   "source": [
    "molecules_slice = slice(0, 20)\n",
    "frames = read('data/pentacene/pentacene_config_100.xyz', index = molecules_slice)"
   ]
  },
  {
   "cell_type": "code",
   "execution_count": 6,
   "id": "6f9fb340-b384-4d6a-95d3-34f39bae792a",
   "metadata": {},
   "outputs": [],
   "source": [
    "orb_name = {'1s': [1,0,0], '2s': [2, 0, 0], '2px': [2, 1, 1], '2py': [2, 1, -1], '2pz': [2, 1, 0]}\n",
    "atomic_number = {'C': 6, 'H': 1}"
   ]
  },
  {
   "cell_type": "code",
   "execution_count": 7,
   "id": "1365e128-58d5-46a4-8652-f4615dcb5166",
   "metadata": {},
   "outputs": [],
   "source": [
    "orbitals = {atomic_number['C']: [orb_name[k] for k in ['1s', '2s', '2px', '2py', '2pz']], atomic_number['H']: [orb_name['1s']]}"
   ]
  },
  {
   "cell_type": "code",
   "execution_count": 8,
   "id": "3b474f3b-755e-4b28-bf0d-223f5fa717fb",
   "metadata": {},
   "outputs": [],
   "source": [
    "load_precomputed = True"
   ]
  },
  {
   "cell_type": "code",
   "execution_count": 9,
   "id": "b451fb1a-f689-41f8-b7ec-31c2888956cb",
   "metadata": {
    "scrolled": true
   },
   "outputs": [],
   "source": [
    "if not load_precomputed:\n",
    "    \n",
    "    molecule_data = MoleculeDataset(mol_name = \"pentacene\",\n",
    "                                    use_precomputed = False,\n",
    "                                    path = \"./data/pentacene\", \n",
    "                                    aux_path = \"./data/pentacene/sto-3g\", \n",
    "                                    frame_slice = molecules_slice,\n",
    "                                    device = device,\n",
    "                                    aux = [\"overlap\", \"orbitals\"],\n",
    "                                    target = [\"fock\", \"dipole_moment\"])\n",
    "                            \n",
    "else:\n",
    "    focks = hickle.load('./data/pentacene/sto-3g/fock.hkl')[molecules_slice]\n",
    "    overlaps = hickle.load('./data/pentacene/sto-3g/ovlp.hkl')[molecules_slice]\n",
    "    #orbitals = hickle.load('./data/pentacene/sto-3g/orbs.hkl')\n",
    "\n",
    "    molecule_data = MoleculeDataset(\n",
    "        mol_name = \"pentacene\",\n",
    "        frames = frames[molecules_slice],\n",
    "        frame_slice = molecules_slice, \n",
    "        device = device,\n",
    "        aux = [\"overlap\", \"orbitals\"],\n",
    "        target = [\"fock\", \"dipole_moment\"],\n",
    "        target_data = {\"fock\": torch.from_numpy(focks), \"dipole_moment\": torch.from_numpy(np.array([frame.info['mu'] for frame in frames[molecules_slice]]))},\n",
    "        aux_data = {\"overlap\": torch.from_numpy(overlaps), \"orbitals\": orbitals})"
   ]
  },
  {
   "cell_type": "code",
   "execution_count": 10,
   "id": "ccf299e0-1377-482f-ae43-2128fdf1ae6a",
   "metadata": {},
   "outputs": [],
   "source": [
    "seed = 1\n",
    "train_frac = 0.7\n",
    "val_frac = 0.2\n",
    "test_frac = 0.1"
   ]
  },
  {
   "cell_type": "code",
   "execution_count": 11,
   "id": "d1cacc3b-3fd5-4804-956e-c9343bc57418",
   "metadata": {},
   "outputs": [],
   "source": [
    "ml_data = MLDataset(\n",
    "    molecule_data = molecule_data,\n",
    "    device = device,\n",
    "    model_strategy = \"coupled\", \n",
    "    shuffle = True,\n",
    "    shuffle_seed = seed,\n",
    ")  \n",
    "\n",
    "ml_data._split_indices(train_frac = train_frac, val_frac = val_frac, test_frac = test_frac)"
   ]
  },
  {
   "cell_type": "code",
   "execution_count": 12,
   "id": "16823522-c83c-4c58-a3d3-4b727c40a19b",
   "metadata": {},
   "outputs": [],
   "source": [
    "#Hyperparameters of the features\n",
    "\n",
    "hypers = {\n",
    "            \"cutoff\": 6.0,\n",
    "            \"max_radial\" : 8,\n",
    "            \"max_angular\": 4,\n",
    "            \"atomic_gaussian_width\": 0.3,\n",
    "            \"center_atom_weight\": 1,\n",
    "            \"radial_basis\": {\"Gto\": {}},\n",
    "            \"cutoff_function\": {\"ShiftedCosine\": {\"width\": 0.1}},\n",
    "        }\n",
    "hypers_pair = {\n",
    "            \"cutoff\": 10.0,\n",
    "            \"max_radial\" : 8,\n",
    "            \"max_angular\": 4,\n",
    "            \"atomic_gaussian_width\": 0.5,\n",
    "            \"center_atom_weight\": 1,\n",
    "            \"radial_basis\": {\"Gto\": {}},\n",
    "            \"cutoff_function\": {\"ShiftedCosine\": {\"width\": 0.1}},\n",
    "        }\n",
    "\n",
    "if hypers is None:\n",
    "    ml_data._set_features(compute_features_for_target(ml_data, device = \"cpu\"))\n",
    "else:\n",
    "    ml_data._set_features(compute_features_for_target(ml_data, device = device, hypers = hypers, hypers_pair = hypers_pair))"
   ]
  },
  {
   "cell_type": "code",
   "execution_count": 13,
   "id": "c32611d0-0f14-4333-bcf2-ea8357bc93d8",
   "metadata": {},
   "outputs": [],
   "source": [
    "batch_size = 4\n",
    "train_dl, val_dl, test_dl = get_dataloader(ml_data, batch_size = batch_size, model_return = \"blocks\")"
   ]
  },
  {
   "cell_type": "markdown",
   "id": "a3de390d-7f65-4c5a-8271-626fb411f945",
   "metadata": {},
   "source": [
    "Model"
   ]
  },
  {
   "cell_type": "code",
   "execution_count": 14,
   "id": "07df29f1-41df-49ba-8cea-b3319aff3755",
   "metadata": {},
   "outputs": [],
   "source": [
    "model = LinearTargetModel(dataset = ml_data, nlayers = 3, nhidden = 16, bias = True, device = device)"
   ]
  },
  {
   "cell_type": "code",
   "execution_count": 15,
   "id": "45fba8d1-3baf-46b5-9acc-ec9d9e2288f8",
   "metadata": {},
   "outputs": [
    {
     "data": {
      "text/plain": [
       "14.62364872892528"
      ]
     },
     "execution_count": 15,
     "metadata": {},
     "output_type": "execute_result"
    }
   ],
   "source": [
    "np.max(frames[0].get_all_distances())"
   ]
  },
  {
   "cell_type": "markdown",
   "id": "0fa5e0fc-51f5-4a76-86ea-4335124f67f3",
   "metadata": {},
   "source": [
    "Training"
   ]
  },
  {
   "cell_type": "code",
   "execution_count": 16,
   "id": "36cc9764-7ce7-4e09-9505-ffcf25597e7e",
   "metadata": {},
   "outputs": [],
   "source": [
    "pred_ridges, ridges  = model.fit_ridge_analytical(set_bias=False)"
   ]
  },
  {
   "cell_type": "code",
   "execution_count": 17,
   "id": "ddd5cc7f-838c-4af4-9ff1-4d2cfc43f31b",
   "metadata": {},
   "outputs": [
    {
     "name": "stdout",
     "output_type": "stream",
     "text": [
      "Training Loss 418.88 meV\n"
     ]
    }
   ],
   "source": [
    "# We compute the loss over individual blocks\n",
    "block_losses = {}\n",
    "for k,b in ml_data.target_train.items():\n",
    "    block_losses[tuple(k.values)] = torch.linalg.norm(b.values - pred_ridges.block(k).values)**2\n",
    "loss_ = sum(block_losses.values()) # sum of squares losses of all the blocks \n",
    "\n",
    "\n",
    "# Get errors in eV from here \n",
    "normalizing_factor = 22*5+14 # TOFIX frames[0].get_global_number_of_atoms()*ml_data.molecule_data.basis. per species \n",
    "print(f\"Training Loss {np.sqrt(loss_/normalizing_factor) * Hartree*1000:.2f} meV\")"
   ]
  },
  {
   "cell_type": "code",
   "execution_count": 18,
   "id": "669b1ca1-edbf-48d0-850f-6b9c82203701",
   "metadata": {},
   "outputs": [
    {
     "data": {
      "image/png": "[encoded data removed]",
      "text/plain": [
       "<Figure size 1920x480 with 2 Axes>"
      ]
     },
     "metadata": {},
     "output_type": "display_data"
    }
   ],
   "source": [
    "from mlelec.utils.plot_utils import plot_block_errors\n",
    "fig, ax, ax_loss = plot_block_errors(ml_data.target_train, pred_ridges, plot_loss = True)\n",
    "ax_loss.set_ylim(1e-5,)\n",
    "ax.set_ylim(1e-5,)\n",
    "fig.tight_layout()"
   ]
  },
  {
   "cell_type": "code",
   "execution_count": null,
   "id": "c5f3aca3-34fe-4196-ad9c-9e8ae6bc304b",
   "metadata": {},
   "outputs": [],
   "source": [
    "from mlelec.utils.twocenter_utils import _to_uncoupled_basis, _to_matrix\n",
    "reconstructed_uncoupled = _to_uncoupled_basis(pred_ridges,  device=model.device) # Convert the coupled blocks to uncoupled\n",
    "\n",
    "# Recover the predicted matrices for the training set \n",
    "fock_predictions_train = _to_matrix(\n",
    "   reconstructed_uncoupled,\n",
    "    ml_data.train_frames,\n",
    "     ml_data.aux_data['orbitals'],\n",
    "    device=model.device,\n",
    ")\n",
    "\n",
    "print(f'Train RMSE: {torch.sqrt(torch.linalg.norm((fock_predictions_train - ml_data.target.tensor[ml_data.train_idx]))**2 / len(ml_data.train_idx) )}')"
   ]
  },
  {
   "cell_type": "markdown",
   "id": "7c7f3ed7-3b95-428e-a8ed-c12f541bb50b",
   "metadata": {},
   "source": [
    "Validation"
   ]
  },
  {
   "cell_type": "code",
   "execution_count": null,
   "id": "6e97e253-9431-4d8f-a5fa-fc1aa9ccb85e",
   "metadata": {},
   "outputs": [],
   "source": [
    "pred_ridges_val  = model.predict_ridge_analytical()"
   ]
  },
  {
   "cell_type": "code",
   "execution_count": null,
   "id": "669ec0fd-8821-4f93-b385-139a342fee2a",
   "metadata": {},
   "outputs": [],
   "source": [
    "block_losses = {}\n",
    "for k,b in ml_data.target_val.items():\n",
    "    block_losses[tuple(k.values)] = torch.linalg.norm(b.values - pred_ridges_val.block(k).values)**2\n",
    "loss_ = sum(block_losses.values()) # sum of squares losses of all the blocks \n",
    "\n",
    "\n",
    "# Get errors in eV from here \n",
    "normalizing_factor = 7 # TOFIX frames[0].get_global_number_of_atoms()*ml_data.molecule_data.basis.\n",
    "print(f\"Validation Loss {np.sqrt(loss_/normalizing_factor) * Hartree*1000:.2f} meV\")"
   ]
  },
  {
   "cell_type": "code",
   "execution_count": null,
   "id": "a1eda633-637f-4db8-80cc-6221cffd1261",
   "metadata": {},
   "outputs": [],
   "source": [
    "import matplotlib.pyplot as plt\n",
    "\n",
    "plt.rcParams['figure.dpi'] = 500\n",
    "x=[','.join([str(lbl[i]) for i in [0,2,3,5,6,7]]) for lbl in ml_data.target.blocks.keys.values.tolist()]\n",
    "fs = plt.rcParams['figure.figsize']\n",
    "fig, ax = plt.subplots(figsize = (fs[0]*2, fs[1]))\n",
    "# ax_loss = ax.twinx()\n",
    "# s = (0,0,0)\n",
    "prediction_ = np.array([torch.linalg.norm(b.values) for b in pred_ridges_val])\n",
    "target_ = np.array([torch.linalg.norm(b.values) for b in ml_data.target_val])\n",
    "loss_ = np.array([torch.linalg.norm(b.values-b1.values)**2 for b,b1 in zip(ml_data.target_val,pred_ridges_val)])\n",
    "print(np.sum(loss_))\n",
    "\n",
    "loss_blocks = list(block_losses.values())\n",
    "\n",
    "x_ = 3.5*np.arange(len(loss_blocks))\n",
    "\n",
    "labels = []\n",
    "handles = []\n",
    "pl = ax.bar(x_, prediction_, label = 'pred', width = 1, color = 'tab:blue');\n",
    "handles.append(pl)\n",
    "labels.append('Prediction')\n",
    "pl = ax.bar(x_+1, target_, alpha = 1, label = 'target', width = 1, color = 'tab:orange');\n",
    "handles.append(pl)\n",
    "labels.append('Target')\n",
    "\n",
    "# pl = ax_loss.bar(x_+2, loss_, alpha = 1, label = 'target', width = 1, color = 'tab:red');\n",
    "# handles.append(pl)\n",
    "# labels.append('Loss')\n",
    "\n",
    "# ax.set_ylim(1e-7, 1000)\n",
    "ax.set_xticks(3.5*np.arange(len(loss_blocks))+3.5/3-0.5)\n",
    "ax.set_xticklabels(x, rotation=90);\n",
    "ax.legend(handles, labels, loc = 'best')\n",
    "ax.set_ylabel('|H|')\n",
    "# ax_loss.set_ylabel('Loss')\n",
    "# ax_loss.set_yscale('log')\n",
    "# # ax_loss.set_ylim(1e-7)\n",
    "ax.set_yscale('log')\n",
    "ax.set_title('Performance on the training set')\n",
    "fig.tight_layout()"
   ]
  },
  {
   "cell_type": "code",
   "execution_count": null,
   "id": "d41d9adf-0429-4a27-8ebd-7c543182b6f7",
   "metadata": {},
   "outputs": [],
   "source": [
    "reconstructed_uncoupled = _to_uncoupled_basis(pred_ridges_val,  device=model.device) # Convert the coupled blocks to uncoupled\n",
    "\n",
    "# Recover the predicted matrices for the validation set \n",
    "fock_predictions_val = _to_matrix(\n",
    "   reconstructed_uncoupled,\n",
    "    ml_data.val_frames,\n",
    "     ml_data.aux_data['orbitals'],\n",
    "    device=model.device,\n",
    ")\n",
    "\n",
    "print(f'Validation RMSE: {torch.sqrt(torch.linalg.norm((fock_predictions_val - ml_data.target.tensor[ml_data.val_idx]))**2 / len(ml_data.val_idx) )}')"
   ]
  },
  {
   "cell_type": "markdown",
   "id": "c452255d-a953-4d06-8a61-a2fe749de279",
   "metadata": {},
   "source": [
    "Predict properties from the trained Hamiltonians"
   ]
  },
  {
   "cell_type": "code",
   "execution_count": null,
   "id": "a8953ce0-dffd-4592-ba2f-f793645d695b",
   "metadata": {},
   "outputs": [],
   "source": [
    "import os\n",
    "os.environ[\"PYSCFAD_BACKEND\"] = \"torch\"\n",
    "import torch\n",
    "from pyscf import gto\n",
    "from pyscfad import numpy as pynp\n",
    "from pyscfad import ops\n",
    "from pyscfad.ml.scf import hf\n",
    "import pyscf.pbc.tools.pyscf_ase as pyscf_ase\n",
    "from mlelec.data.pyscf_calculator import _instantiate_pyscf_mol\n",
    "from mlelec.utils.twocenter_utils import fix_orbital_order, unfix_orbital_order\n",
    "# import mlelec.metrics as mlmetrics"
   ]
  },
  {
   "cell_type": "code",
   "execution_count": null,
   "id": "388be4d1-31c6-46f0-b431-71685ce1584b",
   "metadata": {},
   "outputs": [],
   "source": [
    "def compute_dipole_moment(frames, fock_predictions, overlaps):\n",
    "    assert (\n",
    "        len(frames) == len(fock_predictions) == len(overlaps)\n",
    "    ), \"Length of frames, fock_predictions, and overlaps must be the same\"\n",
    "    dipoles = []\n",
    "    for i, frame in enumerate(frames):\n",
    "        mol = _instantiate_pyscf_mol(frame)\n",
    "        mf = hf.SCF(mol)\n",
    "        fock = torch.autograd.Variable(\n",
    "            fock_predictions[i].type(torch.float64), requires_grad=True\n",
    "        )\n",
    "\n",
    "        mo_energy, mo_coeff = mf.eig(fock, overlaps[i])\n",
    "        mo_occ = mf.get_occ(mo_energy)  # get_occ returns a numpy array\n",
    "        mo_occ = ops.convert_to_tensor(mo_occ)\n",
    "        dm1 = mf.make_rdm1(mo_coeff, mo_occ)\n",
    "        dip = mf.dip_moment(dm=dm1)\n",
    "        dipoles.append(dip)\n",
    "    return torch.stack(dipoles)"
   ]
  },
  {
   "cell_type": "code",
   "execution_count": null,
   "id": "fc1743a5-47dc-40d6-80eb-cd389ca3797b",
   "metadata": {},
   "outputs": [],
   "source": [
    "from IPython.utils import io\n",
    "import mlelec.metrics as mlmetrics\n",
    "# with HiddenPrints():\n",
    "\n",
    "fock_reference_train = ml_data.molecule_data.target['fock'][ml_data.train_idx] \n",
    "fock_reference_val = ml_data.molecule_data.target['fock'][ml_data.val_idx] \n",
    "\n",
    "with io.capture_output() as captured:\n",
    "   # Compute the dipole moments of reference Fock matrix\n",
    "    dipole_reference_train = compute_dipole_moment(\n",
    "        ml_data.train_frames,\n",
    "        fock_reference_train,\n",
    "        ml_data.molecule_data.aux_data[\"overlap\"][ml_data.train_idx],\n",
    "    )\n",
    "    # convert prediction back to pyscf order before passing to pyscf \n",
    "    fock_predictions_train = unfix_orbital_order(\n",
    "        fock_predictions_train,\n",
    "        ml_data.train_frames,\n",
    "        ml_data.molecule_data.aux_data[\"orbitals\"],\n",
    "    )\n",
    "    # Compute the dipole moments of the prediction of the training set\n",
    "    dipole_prediction_train = compute_dipole_moment(\n",
    "        ml_data.train_frames,\n",
    "        fock_predictions_train,\n",
    "        ml_data.molecule_data.aux_data[\"overlap\"][ml_data.train_idx],\n",
    "    )\n",
    "    \n",
    "\n",
    "    # Repeat the procedure above for the validation set \n",
    "    dipole_reference_val = compute_dipole_moment(\n",
    "        ml_data.val_frames,\n",
    "        fock_reference_val,\n",
    "        ml_data.molecule_data.aux_data[\"overlap\"][ml_data.val_idx],\n",
    "    )\n",
    "    \n",
    "    fock_predictions_val = unfix_orbital_order(\n",
    "        fock_predictions_val,\n",
    "        ml_data.val_frames,\n",
    "        ml_data.molecule_data.aux_data[\"orbitals\"],\n",
    "    )\n",
    "\n",
    "    dipole_prediction_val = compute_dipole_moment(\n",
    "        ml_data.val_frames,\n",
    "        fock_predictions_val,\n",
    "        ml_data.molecule_data.aux_data[\"overlap\"][ml_data.val_idx],\n",
    "    )"
   ]
  },
  {
   "cell_type": "code",
   "execution_count": null,
   "id": "82469902-eb4c-4f7a-a920-3d49ae694dcb",
   "metadata": {},
   "outputs": [],
   "source": [
    "square_loss = mlmetrics.L2_loss(dipole_reference_train , dipole_prediction_train)\n",
    "print(f\"RMSE on dipoles (training set) (a.u.):  {torch.sqrt(square_loss / len(dipole_prediction_train)).item()}\")\n",
    "\n",
    "square_loss = mlmetrics.L2_loss(dipole_reference_val , dipole_prediction_val)\n",
    "print(f\"RMSE on dipoles (validation set) (a.u.): {torch.sqrt(square_loss / len(dipole_prediction_val)).item()}\")"
   ]
  },
  {
   "cell_type": "markdown",
   "id": "6f02d78c-05b0-4261-a3a8-e9f7843585ec",
   "metadata": {},
   "source": [
    "Train the model"
   ]
  },
  {
   "cell_type": "raw",
   "id": "69e7e89f-bf12-443a-8db8-422e4c190510",
   "metadata": {},
   "source": [
    "loss_fn = getattr(mlmetrics, \"L2_loss\") "
   ]
  },
  {
   "cell_type": "code",
   "execution_count": null,
   "id": "a3d0f2c7-ab54-4310-9b1d-299dbbadb0f8",
   "metadata": {},
   "outputs": [],
   "source": [
    "from cmath import inf\n",
    "best = inf\n",
    "early_stop_criterion = 50"
   ]
  },
  {
   "cell_type": "code",
   "execution_count": null,
   "id": "17751da4-1d9c-4db6-b03a-7a2d5fcc4db8",
   "metadata": {},
   "outputs": [],
   "source": [
    "optimizer = torch.optim.Adam(model.parameters(), lr = 1e-3)\n",
    "scheduler = torch.optim.lr_scheduler.ReduceLROnPlateau(optimizer, factor = 0.5, patience = 20, verbose = True)"
   ]
  },
  {
   "cell_type": "code",
   "execution_count": null,
   "id": "28a10b94-5613-4daa-b332-751b7a1f7790",
   "metadata": {},
   "outputs": [],
   "source": [
    "val_interval = 10\n",
    "losses = []\n",
    "early_stop_count = 0\n",
    "nepochs = 800\n",
    "Path('model').mkdir(exist_ok = True)"
   ]
  },
  {
   "cell_type": "code",
   "execution_count": null,
   "id": "02ef3e59-fefa-40d3-b28e-b949b561dc4b",
   "metadata": {},
   "outputs": [],
   "source": [
    "for epoch in range(nepochs):\n",
    "    \n",
    "    model.train(True)\n",
    "    train_loss = 0\n",
    "    \n",
    "    for i, data in enumerate(train_dl):\n",
    "        optimizer.zero_grad()\n",
    "        pred = model(data[\"input\"], return_type = \"coupled_blocks\", batch_indices = data[\"idx\"])  \n",
    "        loss = loss_fn(pred, data[\"output\"])\n",
    "        train_loss += loss\n",
    "        loss.backward()\n",
    "        optimizer.step()\n",
    "    losses.append(train_loss.item())\n",
    "    scheduler.step(train_loss)\n",
    "    model.train(False)\n",
    "\n",
    "    if epoch % val_interval == 0:\n",
    "        val_loss = 0\n",
    "        \n",
    "        for i, data in enumerate(val_dl):\n",
    "            pred = model(data[\"input\"], return_type = \"coupled_blocks\", batch_indices = data[\"idx\"])\n",
    "            vloss = loss_fn(pred, data[\"output\"])\n",
    "            val_loss += vloss.item()\n",
    "        new_best = val_loss < best\n",
    "        \n",
    "        if new_best:\n",
    "            best = val_loss\n",
    "            early_stop_count = 0\n",
    "        else:\n",
    "            early_stop_count += 1\n",
    "            \n",
    "        if early_stop_count > early_stop_criterion:\n",
    "            print(f\"\\n\\nEarly stopping at epoch {epoch}\")\n",
    "            print(f\"Epoch {epoch}, train loss {train_loss/len(ml_data.train_idx)}\")\n",
    "            print(f\"Epoch {epoch} val loss {val_loss/len(ml_data.val_idx)}\")\n",
    "            break\n",
    "            \n",
    "    if epoch % 10 == 0:\n",
    "        print(f\"Epoch {epoch:>5d}, train. loss: {train_loss/len(ml_data.train_idx):>10.6e}. Val. loss: {val_loss/len(ml_data.val_idx):>10.6e}\")"
   ]
  },
  {
   "cell_type": "code",
   "execution_count": null,
   "id": "ef9d1246-55c0-4746-a5c7-052daba1ca58",
   "metadata": {},
   "outputs": [],
   "source": [
    "fig, ax = plt.subplots()\n",
    "ax.plot(np.array(losses)*Hartree**2)\n",
    "ax.set_xscale(\"log\")\n",
    "ax.set_yscale(\"log\")\n",
    "ax.set_xlabel('Number of epochs')\n",
    "ax.set_ylabel(r'Loss function ($\\mathrm{eV}^2$)')"
   ]
  }
 ],
 "metadata": {
  "kernelspec": {
   "display_name": "tutorial",
   "language": "python",
   "name": "tutorial"
  },
  "language_info": {
   "codemirror_mode": {
    "name": "ipython",
    "version": 3
   },
   "file_extension": ".py",
   "mimetype": "text/x-python",
   "name": "python",
   "nbconvert_exporter": "python",
   "pygments_lexer": "ipython3",
   "version": "3.11.8"
  }
 },
 "nbformat": 4,
 "nbformat_minor": 5
}
