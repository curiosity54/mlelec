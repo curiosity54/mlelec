{
 "cells": [
  {
   "cell_type": "code",
   "execution_count": 1,
   "id": "28036480-04ed-4928-b087-373a3e853f5a",
   "metadata": {},
   "outputs": [
    {
     "name": "stderr",
     "output_type": "stream",
     "text": [
      "/home/nigam/miniconda3/lib/python3.11/site-packages/pyscf/dft/libxc.py:772: UserWarning: Since PySCF-2.3, B3LYP (and B3P86) are changed to the VWN-RPA variant, the same to the B3LYP functional in Gaussian and ORCA (issue 1480). To restore the VWN5 definition, you can put the setting \"B3LYP_WITH_VWN5 = True\" in pyscf_conf.py\n",
      "  warnings.warn('Since PySCF-2.3, B3LYP (and B3P86) are changed to the VWN-RPA variant, '\n"
     ]
    }
   ],
   "source": [
    "import hickle\n",
    "from ase.io import read\n",
    "import pyscf.pbc.gto as pbcgto\n",
    "import pyscf.pbc.tools.pyscf_ase as pyscf_ase\n",
    "from pyscf.pbc.tools.k2gamma import get_phase, kpts_to_kmesh, k2gamma\n",
    "import numpy as np\n",
    "import pyscf.pbc.scf as pbcscf"
   ]
  },
  {
   "cell_type": "code",
   "execution_count": 2,
   "id": "b4ffc354-6b2b-46bf-bba6-a98e93a61c0e",
   "metadata": {},
   "outputs": [],
   "source": [
    "hex = read('examples/data/periodic/graphene_supercell_variety/graphene_variety.xyz', '1')\n",
    "kmesh = [1,1,1]"
   ]
  },
  {
   "cell_type": "code",
   "execution_count": 3,
   "id": "00593332-bac5-4121-828f-8bfa07095f26",
   "metadata": {},
   "outputs": [
    {
     "name": "stdout",
     "output_type": "stream",
     "text": [
      "-------------------------------------------------------------------------------\n",
      "KMESH [1, 1, 1]\n"
     ]
    },
    {
     "name": "stderr",
     "output_type": "stream",
     "text": [
      "/home/nigam/miniconda3/lib/python3.11/site-packages/pyscf/pbc/gto/cell.py:243: UserWarning: Function cell.dumps drops attribute a because it is not JSON-serializable\n",
      "  warnings.warn(msg)\n"
     ]
    },
    {
     "name": "stdout",
     "output_type": "stream",
     "text": [
      "converged SCF energy = -74.6968298673279\n"
     ]
    },
    {
     "data": {
      "text/plain": [
       "-74.69682986732795"
      ]
     },
     "execution_count": 3,
     "metadata": {},
     "output_type": "execute_result"
    }
   ],
   "source": [
    "cell = pbcgto.Cell()\n",
    "cell.atom = pyscf_ase.ase_atoms_to_pyscf(hex)\n",
    "\n",
    "cell.basis = 'sto-3g' #'def2-svp'\n",
    "cell.a = frame.cell\n",
    "cell.verbose = 3\n",
    "print('-------------------------------------------------------------------------------', flush= True)\n",
    "cell.build()\n",
    "\n",
    "kmesh = kmesh\n",
    "print('KMESH', kmesh)\n",
    "kpts = cell.make_kpts(kmesh)\n",
    "#kmesh = [np.int32(np.max([1, np.ceil(2*np.pi*np.linalg.norm(vec)/kspacing)])) for vec in frame.cell.reciprocal().array]\n",
    "\n",
    "nao = cell.nao\n",
    "kmf = pbcscf.KRHF(cell, kpts = cell.make_kpts(kmesh))\n",
    "\n",
    "kmf = kmf.density_fit()\n",
    "kmf.max_cycle = 500\n",
    "kmf.conv_tol = 1e-8 \n",
    "kmf.conv_tol_grad = 1e-8\n",
    "\n",
    "kmf.kernel()"
   ]
  },
  {
   "cell_type": "code",
   "execution_count": 4,
   "id": "4264b42f-d695-4798-8839-315e96a75624",
   "metadata": {},
   "outputs": [],
   "source": [
    "hex22 = read('examples/data/periodic/graphene_supercell_variety/graphene_variety.xyz', '2')\n",
    "kmesh = [1,1,1]"
   ]
  },
  {
   "cell_type": "code",
   "execution_count": 5,
   "id": "5fca1f24-6a02-4fe4-b3b5-a2f4d0ffd8ba",
   "metadata": {},
   "outputs": [
    {
     "name": "stdout",
     "output_type": "stream",
     "text": [
      "-------------------------------------------------------------------------------\n",
      "KMESH [1, 1, 1]\n",
      "\n",
      "WARN: Singularity detected in overlap matrix.  Integral accuracy may be not enough.\n",
      "      You can adjust  cell.precision  or  cell.rcut  to improve accuracy.  Recommended settings are\n",
      "      cell.precision < 3.2e-12\n",
      "      cell.rcut > 20.87\n",
      "\n",
      "\n",
      "WARN: Singularity detected in overlap matrix.  Integral accuracy may be not enough.\n",
      "      You can adjust  cell.precision  or  cell.rcut  to improve accuracy.  Recommended settings are\n",
      "      cell.precision < 3.2e-12\n",
      "      cell.rcut > 20.87\n",
      "\n",
      "\n",
      "WARN: Singularity detected in overlap matrix (condition number = 3.11e+18). SCF may be inaccurate and hard to converge.\n",
      "\n"
     ]
    },
    {
     "ename": "LinAlgError",
     "evalue": "The leading minor of order 12 of B is not positive definite. The factorization of B could not be completed and no eigenvalues or eigenvectors were computed.",
     "output_type": "error",
     "traceback": [
      "\u001b[0;31m---------------------------------------------------------------------------\u001b[0m",
      "\u001b[0;31mLinAlgError\u001b[0m                               Traceback (most recent call last)",
      "Cell \u001b[0;32mIn[5], line 23\u001b[0m\n\u001b[1;32m     20\u001b[0m kmf\u001b[38;5;241m.\u001b[39mconv_tol \u001b[38;5;241m=\u001b[39m \u001b[38;5;241m1e-8\u001b[39m \n\u001b[1;32m     21\u001b[0m kmf\u001b[38;5;241m.\u001b[39mconv_tol_grad \u001b[38;5;241m=\u001b[39m \u001b[38;5;241m1e-8\u001b[39m\n\u001b[0;32m---> 23\u001b[0m \u001b[43mkmf\u001b[49m\u001b[38;5;241;43m.\u001b[39;49m\u001b[43mkernel\u001b[49m\u001b[43m(\u001b[49m\u001b[43m)\u001b[49m\n",
      "File \u001b[0;32m<string>:2\u001b[0m, in \u001b[0;36mkernel\u001b[0;34m(self, dm0, **kwargs)\u001b[0m\n",
      "File \u001b[0;32m~/miniconda3/lib/python3.11/site-packages/pyscf/scf/hf.py:1685\u001b[0m, in \u001b[0;36mSCF.scf\u001b[0;34m(self, dm0, **kwargs)\u001b[0m\n\u001b[1;32m   1680\u001b[0m \u001b[38;5;28mself\u001b[39m\u001b[38;5;241m.\u001b[39mbuild(\u001b[38;5;28mself\u001b[39m\u001b[38;5;241m.\u001b[39mmol)\n\u001b[1;32m   1682\u001b[0m \u001b[38;5;28;01mif\u001b[39;00m \u001b[38;5;28mself\u001b[39m\u001b[38;5;241m.\u001b[39mmax_cycle \u001b[38;5;241m>\u001b[39m \u001b[38;5;241m0\u001b[39m \u001b[38;5;129;01mor\u001b[39;00m \u001b[38;5;28mself\u001b[39m\u001b[38;5;241m.\u001b[39mmo_coeff \u001b[38;5;129;01mis\u001b[39;00m \u001b[38;5;28;01mNone\u001b[39;00m:\n\u001b[1;32m   1683\u001b[0m     \u001b[38;5;28mself\u001b[39m\u001b[38;5;241m.\u001b[39mconverged, \u001b[38;5;28mself\u001b[39m\u001b[38;5;241m.\u001b[39me_tot, \\\n\u001b[1;32m   1684\u001b[0m             \u001b[38;5;28mself\u001b[39m\u001b[38;5;241m.\u001b[39mmo_energy, \u001b[38;5;28mself\u001b[39m\u001b[38;5;241m.\u001b[39mmo_coeff, \u001b[38;5;28mself\u001b[39m\u001b[38;5;241m.\u001b[39mmo_occ \u001b[38;5;241m=\u001b[39m \\\n\u001b[0;32m-> 1685\u001b[0m             \u001b[43mkernel\u001b[49m\u001b[43m(\u001b[49m\u001b[38;5;28;43mself\u001b[39;49m\u001b[43m,\u001b[49m\u001b[43m \u001b[49m\u001b[38;5;28;43mself\u001b[39;49m\u001b[38;5;241;43m.\u001b[39;49m\u001b[43mconv_tol\u001b[49m\u001b[43m,\u001b[49m\u001b[43m \u001b[49m\u001b[38;5;28;43mself\u001b[39;49m\u001b[38;5;241;43m.\u001b[39;49m\u001b[43mconv_tol_grad\u001b[49m\u001b[43m,\u001b[49m\n\u001b[1;32m   1686\u001b[0m \u001b[43m                   \u001b[49m\u001b[43mdm0\u001b[49m\u001b[38;5;241;43m=\u001b[39;49m\u001b[43mdm0\u001b[49m\u001b[43m,\u001b[49m\u001b[43m \u001b[49m\u001b[43mcallback\u001b[49m\u001b[38;5;241;43m=\u001b[39;49m\u001b[38;5;28;43mself\u001b[39;49m\u001b[38;5;241;43m.\u001b[39;49m\u001b[43mcallback\u001b[49m\u001b[43m,\u001b[49m\n\u001b[1;32m   1687\u001b[0m \u001b[43m                   \u001b[49m\u001b[43mconv_check\u001b[49m\u001b[38;5;241;43m=\u001b[39;49m\u001b[38;5;28;43mself\u001b[39;49m\u001b[38;5;241;43m.\u001b[39;49m\u001b[43mconv_check\u001b[49m\u001b[43m,\u001b[49m\u001b[43m \u001b[49m\u001b[38;5;241;43m*\u001b[39;49m\u001b[38;5;241;43m*\u001b[39;49m\u001b[43mkwargs\u001b[49m\u001b[43m)\u001b[49m\n\u001b[1;32m   1688\u001b[0m \u001b[38;5;28;01melse\u001b[39;00m:\n\u001b[1;32m   1689\u001b[0m     \u001b[38;5;66;03m# Avoid to update SCF orbitals in the non-SCF initialization\u001b[39;00m\n\u001b[1;32m   1690\u001b[0m     \u001b[38;5;66;03m# (issue #495).  But run regular SCF for initial guess if SCF was\u001b[39;00m\n\u001b[1;32m   1691\u001b[0m     \u001b[38;5;66;03m# not initialized.\u001b[39;00m\n\u001b[1;32m   1692\u001b[0m     \u001b[38;5;28mself\u001b[39m\u001b[38;5;241m.\u001b[39me_tot \u001b[38;5;241m=\u001b[39m kernel(\u001b[38;5;28mself\u001b[39m, \u001b[38;5;28mself\u001b[39m\u001b[38;5;241m.\u001b[39mconv_tol, \u001b[38;5;28mself\u001b[39m\u001b[38;5;241m.\u001b[39mconv_tol_grad,\n\u001b[1;32m   1693\u001b[0m                         dm0\u001b[38;5;241m=\u001b[39mdm0, callback\u001b[38;5;241m=\u001b[39m\u001b[38;5;28mself\u001b[39m\u001b[38;5;241m.\u001b[39mcallback,\n\u001b[1;32m   1694\u001b[0m                         conv_check\u001b[38;5;241m=\u001b[39m\u001b[38;5;28mself\u001b[39m\u001b[38;5;241m.\u001b[39mconv_check, \u001b[38;5;241m*\u001b[39m\u001b[38;5;241m*\u001b[39mkwargs)[\u001b[38;5;241m1\u001b[39m]\n",
      "File \u001b[0;32m~/miniconda3/lib/python3.11/site-packages/pyscf/scf/hf.py:161\u001b[0m, in \u001b[0;36mkernel\u001b[0;34m(mf, conv_tol, conv_tol_grad, dump_chk, dm0, callback, conv_check, **kwargs)\u001b[0m\n\u001b[1;32m    157\u001b[0m     \u001b[38;5;66;03m# We get the used orthonormalized AO basis from any old eigendecomposition.\u001b[39;00m\n\u001b[1;32m    158\u001b[0m     \u001b[38;5;66;03m# Since the ingredients for the Fock matrix has already been built, we can\u001b[39;00m\n\u001b[1;32m    159\u001b[0m     \u001b[38;5;66;03m# just go ahead and use it to determine the orthonormal basis vectors.\u001b[39;00m\n\u001b[1;32m    160\u001b[0m     fock \u001b[38;5;241m=\u001b[39m mf\u001b[38;5;241m.\u001b[39mget_fock(h1e, s1e, vhf, dm)\n\u001b[0;32m--> 161\u001b[0m     _, mf_diis\u001b[38;5;241m.\u001b[39mCorth \u001b[38;5;241m=\u001b[39m \u001b[43mmf\u001b[49m\u001b[38;5;241;43m.\u001b[39;49m\u001b[43meig\u001b[49m\u001b[43m(\u001b[49m\u001b[43mfock\u001b[49m\u001b[43m,\u001b[49m\u001b[43m \u001b[49m\u001b[43ms1e\u001b[49m\u001b[43m)\u001b[49m\n\u001b[1;32m    162\u001b[0m \u001b[38;5;28;01melse\u001b[39;00m:\n\u001b[1;32m    163\u001b[0m     mf_diis \u001b[38;5;241m=\u001b[39m \u001b[38;5;28;01mNone\u001b[39;00m\n",
      "File \u001b[0;32m~/miniconda3/lib/python3.11/site-packages/pyscf/pbc/scf/khf.py:654\u001b[0m, in \u001b[0;36mKSCF.eig\u001b[0;34m(self, h_kpts, s_kpts)\u001b[0m\n\u001b[1;32m    651\u001b[0m mo_coeff_kpts \u001b[38;5;241m=\u001b[39m []\n\u001b[1;32m    653\u001b[0m \u001b[38;5;28;01mfor\u001b[39;00m k \u001b[38;5;129;01min\u001b[39;00m \u001b[38;5;28mrange\u001b[39m(nkpts):\n\u001b[0;32m--> 654\u001b[0m     e, c \u001b[38;5;241m=\u001b[39m \u001b[38;5;28;43mself\u001b[39;49m\u001b[38;5;241;43m.\u001b[39;49m\u001b[43m_eigh\u001b[49m\u001b[43m(\u001b[49m\u001b[43mh_kpts\u001b[49m\u001b[43m[\u001b[49m\u001b[43mk\u001b[49m\u001b[43m]\u001b[49m\u001b[43m,\u001b[49m\u001b[43m \u001b[49m\u001b[43ms_kpts\u001b[49m\u001b[43m[\u001b[49m\u001b[43mk\u001b[49m\u001b[43m]\u001b[49m\u001b[43m)\u001b[49m\n\u001b[1;32m    655\u001b[0m     eig_kpts\u001b[38;5;241m.\u001b[39mappend(e)\n\u001b[1;32m    656\u001b[0m     mo_coeff_kpts\u001b[38;5;241m.\u001b[39mappend(c)\n",
      "File \u001b[0;32m~/miniconda3/lib/python3.11/site-packages/pyscf/scf/hf.py:1537\u001b[0m, in \u001b[0;36mSCF._eigh\u001b[0;34m(self, h, s)\u001b[0m\n\u001b[1;32m   1536\u001b[0m \u001b[38;5;28;01mdef\u001b[39;00m \u001b[38;5;21m_eigh\u001b[39m(\u001b[38;5;28mself\u001b[39m, h, s):\n\u001b[0;32m-> 1537\u001b[0m     \u001b[38;5;28;01mreturn\u001b[39;00m \u001b[43meig\u001b[49m\u001b[43m(\u001b[49m\u001b[43mh\u001b[49m\u001b[43m,\u001b[49m\u001b[43m \u001b[49m\u001b[43ms\u001b[49m\u001b[43m)\u001b[49m\n",
      "File \u001b[0;32m~/miniconda3/lib/python3.11/site-packages/pyscf/scf/hf.py:1183\u001b[0m, in \u001b[0;36meig\u001b[0;34m(h, s)\u001b[0m\n\u001b[1;32m   1178\u001b[0m \u001b[38;5;28;01mdef\u001b[39;00m \u001b[38;5;21meig\u001b[39m(h, s):\n\u001b[1;32m   1179\u001b[0m \u001b[38;5;250m    \u001b[39m\u001b[38;5;124;03m'''Solver for generalized eigenvalue problem\u001b[39;00m\n\u001b[1;32m   1180\u001b[0m \n\u001b[1;32m   1181\u001b[0m \u001b[38;5;124;03m    .. math:: HC = SCE\u001b[39;00m\n\u001b[1;32m   1182\u001b[0m \u001b[38;5;124;03m    '''\u001b[39;00m\n\u001b[0;32m-> 1183\u001b[0m     e, c \u001b[38;5;241m=\u001b[39m \u001b[43mscipy\u001b[49m\u001b[38;5;241;43m.\u001b[39;49m\u001b[43mlinalg\u001b[49m\u001b[38;5;241;43m.\u001b[39;49m\u001b[43meigh\u001b[49m\u001b[43m(\u001b[49m\u001b[43mh\u001b[49m\u001b[43m,\u001b[49m\u001b[43m \u001b[49m\u001b[43ms\u001b[49m\u001b[43m)\u001b[49m\n\u001b[1;32m   1184\u001b[0m     idx \u001b[38;5;241m=\u001b[39m numpy\u001b[38;5;241m.\u001b[39margmax(\u001b[38;5;28mabs\u001b[39m(c\u001b[38;5;241m.\u001b[39mreal), axis\u001b[38;5;241m=\u001b[39m\u001b[38;5;241m0\u001b[39m)\n\u001b[1;32m   1185\u001b[0m     c[:,c[idx,numpy\u001b[38;5;241m.\u001b[39marange(\u001b[38;5;28mlen\u001b[39m(e))]\u001b[38;5;241m.\u001b[39mreal\u001b[38;5;241m<\u001b[39m\u001b[38;5;241m0\u001b[39m] \u001b[38;5;241m*\u001b[39m\u001b[38;5;241m=\u001b[39m \u001b[38;5;241m-\u001b[39m\u001b[38;5;241m1\u001b[39m\n",
      "File \u001b[0;32m~/miniconda3/lib/python3.11/site-packages/scipy/linalg/_decomp.py:593\u001b[0m, in \u001b[0;36meigh\u001b[0;34m(a, b, lower, eigvals_only, overwrite_a, overwrite_b, turbo, eigvals, type, check_finite, subset_by_index, subset_by_value, driver)\u001b[0m\n\u001b[1;32m    590\u001b[0m     \u001b[38;5;28;01mraise\u001b[39;00m LinAlgError(\u001b[38;5;124m'\u001b[39m\u001b[38;5;124mIllegal value in argument \u001b[39m\u001b[38;5;132;01m{}\u001b[39;00m\u001b[38;5;124m of internal \u001b[39m\u001b[38;5;132;01m{}\u001b[39;00m\u001b[38;5;124m'\u001b[39m\n\u001b[1;32m    591\u001b[0m                       \u001b[38;5;124m'\u001b[39m\u001b[38;5;124m'\u001b[39m\u001b[38;5;241m.\u001b[39mformat(\u001b[38;5;241m-\u001b[39minfo, drv\u001b[38;5;241m.\u001b[39mtypecode \u001b[38;5;241m+\u001b[39m pfx \u001b[38;5;241m+\u001b[39m driver))\n\u001b[1;32m    592\u001b[0m \u001b[38;5;28;01melif\u001b[39;00m info \u001b[38;5;241m>\u001b[39m n:\n\u001b[0;32m--> 593\u001b[0m     \u001b[38;5;28;01mraise\u001b[39;00m LinAlgError(\u001b[38;5;124m'\u001b[39m\u001b[38;5;124mThe leading minor of order \u001b[39m\u001b[38;5;132;01m{}\u001b[39;00m\u001b[38;5;124m of B is not \u001b[39m\u001b[38;5;124m'\u001b[39m\n\u001b[1;32m    594\u001b[0m                       \u001b[38;5;124m'\u001b[39m\u001b[38;5;124mpositive definite. The factorization of B \u001b[39m\u001b[38;5;124m'\u001b[39m\n\u001b[1;32m    595\u001b[0m                       \u001b[38;5;124m'\u001b[39m\u001b[38;5;124mcould not be completed and no eigenvalues \u001b[39m\u001b[38;5;124m'\u001b[39m\n\u001b[1;32m    596\u001b[0m                       \u001b[38;5;124m'\u001b[39m\u001b[38;5;124mor eigenvectors were computed.\u001b[39m\u001b[38;5;124m'\u001b[39m\u001b[38;5;241m.\u001b[39mformat(info\u001b[38;5;241m-\u001b[39mn))\n\u001b[1;32m    597\u001b[0m \u001b[38;5;28;01melse\u001b[39;00m:\n\u001b[1;32m    598\u001b[0m     drv_err \u001b[38;5;241m=\u001b[39m {\u001b[38;5;124m'\u001b[39m\u001b[38;5;124mev\u001b[39m\u001b[38;5;124m'\u001b[39m: \u001b[38;5;124m'\u001b[39m\u001b[38;5;124mThe algorithm failed to converge; \u001b[39m\u001b[38;5;132;01m{}\u001b[39;00m\u001b[38;5;124m \u001b[39m\u001b[38;5;124m'\u001b[39m\n\u001b[1;32m    599\u001b[0m                      \u001b[38;5;124m'\u001b[39m\u001b[38;5;124moff-diagonal elements of an intermediate \u001b[39m\u001b[38;5;124m'\u001b[39m\n\u001b[1;32m    600\u001b[0m                      \u001b[38;5;124m'\u001b[39m\u001b[38;5;124mtridiagonal form did not converge to zero.\u001b[39m\u001b[38;5;124m'\u001b[39m,\n\u001b[0;32m   (...)\u001b[0m\n\u001b[1;32m    605\u001b[0m                \u001b[38;5;124m'\u001b[39m\u001b[38;5;124mevr\u001b[39m\u001b[38;5;124m'\u001b[39m: \u001b[38;5;124m'\u001b[39m\u001b[38;5;124mInternal Error.\u001b[39m\u001b[38;5;124m'\u001b[39m\n\u001b[1;32m    606\u001b[0m                }\n",
      "\u001b[0;31mLinAlgError\u001b[0m: The leading minor of order 12 of B is not positive definite. The factorization of B could not be completed and no eigenvalues or eigenvectors were computed."
     ]
    }
   ],
   "source": [
    "cell = pbcgto.Cell()\n",
    "cell.atom = pyscf_ase.ase_atoms_to_pyscf(hex22)\n",
    "\n",
    "cell.basis = 'sto-3g' #'def2-svp'\n",
    "cell.a = frame.cell\n",
    "cell.verbose = 3\n",
    "print('-------------------------------------------------------------------------------', flush= True)\n",
    "cell.build()\n",
    "\n",
    "kmesh = kmesh\n",
    "print('KMESH', kmesh)\n",
    "kpts = cell.make_kpts(kmesh)\n",
    "#kmesh = [np.int32(np.max([1, np.ceil(2*np.pi*np.linalg.norm(vec)/kspacing)])) for vec in frame.cell.reciprocal().array]\n",
    "\n",
    "nao = cell.nao\n",
    "kmf = pbcscf.KRHF(cell, kpts = cell.make_kpts(kmesh))\n",
    "\n",
    "kmf = kmf.density_fit()\n",
    "kmf.max_cycle = 500\n",
    "kmf.conv_tol = 1e-8 \n",
    "kmf.conv_tol_grad = 1e-8\n",
    "\n",
    "kmf.kernel()"
   ]
  },
  {
   "cell_type": "code",
   "execution_count": null,
   "id": "58a51f65-036b-4573-a182-9ae0eb99e273",
   "metadata": {},
   "outputs": [],
   "source": [
    "cell.rcut"
   ]
  },
  {
   "cell_type": "code",
   "execution_count": null,
   "id": "1666f918-b6a2-4c39-b8e8-98ca420a10e5",
   "metadata": {},
   "outputs": [],
   "source": []
  }
 ],
 "metadata": {
  "kernelspec": {
   "display_name": "Python 3 (ipykernel)",
   "language": "python",
   "name": "python3"
  },
  "language_info": {
   "codemirror_mode": {
    "name": "ipython",
    "version": 3
   },
   "file_extension": ".py",
   "mimetype": "text/x-python",
   "name": "python",
   "nbconvert_exporter": "python",
   "pygments_lexer": "ipython3",
   "version": "3.11.5"
  }
 },
 "nbformat": 4,
 "nbformat_minor": 5
}
