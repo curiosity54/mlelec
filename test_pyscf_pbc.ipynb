{
 "cells": [
  {
   "cell_type": "code",
   "execution_count": 1,
   "id": "28036480-04ed-4928-b087-373a3e853f5a",
   "metadata": {},
   "outputs": [
    {
     "name": "stderr",
     "output_type": "stream",
     "text": [
      "/home/nigam/miniconda3/lib/python3.11/site-packages/pyscf/dft/libxc.py:772: UserWarning: Since PySCF-2.3, B3LYP (and B3P86) are changed to the VWN-RPA variant, the same to the B3LYP functional in Gaussian and ORCA (issue 1480). To restore the VWN5 definition, you can put the setting \"B3LYP_WITH_VWN5 = True\" in pyscf_conf.py\n",
      "  warnings.warn('Since PySCF-2.3, B3LYP (and B3P86) are changed to the VWN-RPA variant, '\n"
     ]
    }
   ],
   "source": [
    "import hickle\n",
    "from ase.io import read\n",
    "import pyscf.pbc.gto as pbcgto\n",
    "import pyscf.pbc.tools.pyscf_ase as pyscf_ase\n",
    "from pyscf.pbc.tools.k2gamma import get_phase, kpts_to_kmesh, k2gamma\n",
    "import numpy as np\n",
    "import pyscf.pbc.scf as pbcscf\n",
    "from ase.visualize import view"
   ]
  },
  {
   "cell_type": "code",
   "execution_count": 2,
   "id": "3a562c71-04a5-44ed-abc2-21d7ec6448f7",
   "metadata": {},
   "outputs": [],
   "source": [
    "from ase.atoms import Atoms\n",
    "frame= Atoms('C', positions = [[0,0,0.1]], cell=[2,2,1])\n",
    "frame.center()\n",
    "frame22 = frame.repeat([2,2,1])\n",
    "#view([frame, frame22])"
   ]
  },
  {
   "cell_type": "code",
   "execution_count": 45,
   "id": "c9853fad-1010-45ef-b6f2-c3aa6a75c67d",
   "metadata": {},
   "outputs": [
    {
     "data": {
      "text/plain": [
       "<Popen: returncode: None args: ['/home/nigam/miniconda3/bin/python', '-m', '...>"
      ]
     },
     "execution_count": 45,
     "metadata": {},
     "output_type": "execute_result"
    }
   ],
   "source": [
    "view([frame, frame22])"
   ]
  },
  {
   "cell_type": "code",
   "execution_count": 16,
   "id": "b4ffc354-6b2b-46bf-bba6-a98e93a61c0e",
   "metadata": {},
   "outputs": [],
   "source": [
    "# frame = read('examples/data/periodic/graphene_supercell_variety/graphene_variety.xyz', '1')\n"
   ]
  },
  {
   "cell_type": "code",
   "execution_count": 53,
   "id": "00593332-bac5-4121-828f-8bfa07095f26",
   "metadata": {},
   "outputs": [
    {
     "name": "stdout",
     "output_type": "stream",
     "text": [
      "-------------------------------------------------------------------------------\n",
      "KMESH [2, 2, 1]\n"
     ]
    }
   ],
   "source": [
    "kmesh = [2,2,1]\n",
    "cell = pbcgto.Cell()\n",
    "cell.atom = pyscf_ase.ase_atoms_to_pyscf(frame)\n",
    "\n",
    "cell.basis = 'sto-3g' #'def2-svp'\n",
    "cell.a = frame.cell\n",
    "cell.verbose = 3\n",
    "print('-------------------------------------------------------------------------------', flush= True)\n",
    "cell.build()\n",
    "\n",
    "kmesh = kmesh\n",
    "print('KMESH', kmesh)\n",
    "kpts = cell.make_kpts(kmesh)\n",
    "#kmesh = [np.int32(np.max([1, np.ceil(2*np.pi*np.linalg.norm(vec)/kspacing)])) for vec in frame.cell.reciprocal().array]\n",
    "\n",
    "nao = cell.nao\n",
    "kmf = pbcscf.KRHF(cell, kpts = cell.make_kpts(kmesh))\n",
    "\n",
    "kmf = kmf.density_fit()\n",
    "kmf.init_guess_by_minao() #('minao')\n",
    "kmf.max_cycle = 500\n",
    "kmf.conv_tol = 1e-8 \n",
    "kmf.conv_tol_grad = 1e-8\n",
    "\n",
    "# kmf.kernel()"
   ]
  },
  {
   "cell_type": "code",
   "execution_count": 47,
   "id": "6c1e55f9-e442-434c-b5f9-1f6bd18525a3",
   "metadata": {},
   "outputs": [],
   "source": [
    "fock = kmf.get_fock(dm =kmf.init_guess_by_minao(), cycle= 0 )"
   ]
  },
  {
   "cell_type": "code",
   "execution_count": 18,
   "id": "4264b42f-d695-4798-8839-315e96a75624",
   "metadata": {},
   "outputs": [],
   "source": [
    "# hex22 = read('examples/data/periodic/graphene_supercell_variety/graphene_variety.xyz', '2')\n",
    "\n",
    "kmesh = [1,1,1]"
   ]
  },
  {
   "cell_type": "code",
   "execution_count": 67,
   "id": "5fca1f24-6a02-4fe4-b3b5-a2f4d0ffd8ba",
   "metadata": {},
   "outputs": [
    {
     "name": "stdout",
     "output_type": "stream",
     "text": [
      "-------------------------------------------------------------------------------\n",
      "KMESH [2, 2, 1]\n",
      "\n",
      "WARN: Singularity detected in overlap matrix.  Integral accuracy may be not enough.\n",
      "      You can adjust  cell.precision  or  cell.rcut  to improve accuracy.  Recommended settings are\n",
      "      cell.precision < 3.2e-13\n",
      "      cell.rcut > 21.38\n",
      "\n",
      "\n",
      "WARN: Singularity detected in overlap matrix.  Integral accuracy may be not enough.\n",
      "      You can adjust  cell.precision  or  cell.rcut  to improve accuracy.  Recommended settings are\n",
      "      cell.precision < 3.2e-13\n",
      "      cell.rcut > 21.38\n",
      "\n",
      "\n",
      "WARN: Singularity detected in overlap matrix (condition number = 3.1e+19). SCF may be inaccurate and hard to converge.\n",
      "\n"
     ]
    },
    {
     "ename": "LinAlgError",
     "evalue": "The leading minor of order 6 of B is not positive definite. The factorization of B could not be completed and no eigenvalues or eigenvectors were computed.",
     "output_type": "error",
     "traceback": [
      "\u001b[0;31m---------------------------------------------------------------------------\u001b[0m",
      "\u001b[0;31mLinAlgError\u001b[0m                               Traceback (most recent call last)",
      "Cell \u001b[0;32mIn[67], line 23\u001b[0m\n\u001b[1;32m     20\u001b[0m superkmf\u001b[38;5;241m.\u001b[39mconv_tol \u001b[38;5;241m=\u001b[39m \u001b[38;5;241m1e-8\u001b[39m \n\u001b[1;32m     21\u001b[0m superkmf\u001b[38;5;241m.\u001b[39mconv_tol_grad \u001b[38;5;241m=\u001b[39m \u001b[38;5;241m1e-8\u001b[39m\n\u001b[0;32m---> 23\u001b[0m \u001b[43msuperkmf\u001b[49m\u001b[38;5;241;43m.\u001b[39;49m\u001b[43mkernel\u001b[49m\u001b[43m(\u001b[49m\u001b[43m)\u001b[49m\n",
      "File \u001b[0;32m<string>:2\u001b[0m, in \u001b[0;36mkernel\u001b[0;34m(self, dm0, **kwargs)\u001b[0m\n",
      "File \u001b[0;32m~/miniconda3/lib/python3.11/site-packages/pyscf/scf/hf.py:1685\u001b[0m, in \u001b[0;36mSCF.scf\u001b[0;34m(self, dm0, **kwargs)\u001b[0m\n\u001b[1;32m   1680\u001b[0m \u001b[38;5;28mself\u001b[39m\u001b[38;5;241m.\u001b[39mbuild(\u001b[38;5;28mself\u001b[39m\u001b[38;5;241m.\u001b[39mmol)\n\u001b[1;32m   1682\u001b[0m \u001b[38;5;28;01mif\u001b[39;00m \u001b[38;5;28mself\u001b[39m\u001b[38;5;241m.\u001b[39mmax_cycle \u001b[38;5;241m>\u001b[39m \u001b[38;5;241m0\u001b[39m \u001b[38;5;129;01mor\u001b[39;00m \u001b[38;5;28mself\u001b[39m\u001b[38;5;241m.\u001b[39mmo_coeff \u001b[38;5;129;01mis\u001b[39;00m \u001b[38;5;28;01mNone\u001b[39;00m:\n\u001b[1;32m   1683\u001b[0m     \u001b[38;5;28mself\u001b[39m\u001b[38;5;241m.\u001b[39mconverged, \u001b[38;5;28mself\u001b[39m\u001b[38;5;241m.\u001b[39me_tot, \\\n\u001b[1;32m   1684\u001b[0m             \u001b[38;5;28mself\u001b[39m\u001b[38;5;241m.\u001b[39mmo_energy, \u001b[38;5;28mself\u001b[39m\u001b[38;5;241m.\u001b[39mmo_coeff, \u001b[38;5;28mself\u001b[39m\u001b[38;5;241m.\u001b[39mmo_occ \u001b[38;5;241m=\u001b[39m \\\n\u001b[0;32m-> 1685\u001b[0m             \u001b[43mkernel\u001b[49m\u001b[43m(\u001b[49m\u001b[38;5;28;43mself\u001b[39;49m\u001b[43m,\u001b[49m\u001b[43m \u001b[49m\u001b[38;5;28;43mself\u001b[39;49m\u001b[38;5;241;43m.\u001b[39;49m\u001b[43mconv_tol\u001b[49m\u001b[43m,\u001b[49m\u001b[43m \u001b[49m\u001b[38;5;28;43mself\u001b[39;49m\u001b[38;5;241;43m.\u001b[39;49m\u001b[43mconv_tol_grad\u001b[49m\u001b[43m,\u001b[49m\n\u001b[1;32m   1686\u001b[0m \u001b[43m                   \u001b[49m\u001b[43mdm0\u001b[49m\u001b[38;5;241;43m=\u001b[39;49m\u001b[43mdm0\u001b[49m\u001b[43m,\u001b[49m\u001b[43m \u001b[49m\u001b[43mcallback\u001b[49m\u001b[38;5;241;43m=\u001b[39;49m\u001b[38;5;28;43mself\u001b[39;49m\u001b[38;5;241;43m.\u001b[39;49m\u001b[43mcallback\u001b[49m\u001b[43m,\u001b[49m\n\u001b[1;32m   1687\u001b[0m \u001b[43m                   \u001b[49m\u001b[43mconv_check\u001b[49m\u001b[38;5;241;43m=\u001b[39;49m\u001b[38;5;28;43mself\u001b[39;49m\u001b[38;5;241;43m.\u001b[39;49m\u001b[43mconv_check\u001b[49m\u001b[43m,\u001b[49m\u001b[43m \u001b[49m\u001b[38;5;241;43m*\u001b[39;49m\u001b[38;5;241;43m*\u001b[39;49m\u001b[43mkwargs\u001b[49m\u001b[43m)\u001b[49m\n\u001b[1;32m   1688\u001b[0m \u001b[38;5;28;01melse\u001b[39;00m:\n\u001b[1;32m   1689\u001b[0m     \u001b[38;5;66;03m# Avoid to update SCF orbitals in the non-SCF initialization\u001b[39;00m\n\u001b[1;32m   1690\u001b[0m     \u001b[38;5;66;03m# (issue #495).  But run regular SCF for initial guess if SCF was\u001b[39;00m\n\u001b[1;32m   1691\u001b[0m     \u001b[38;5;66;03m# not initialized.\u001b[39;00m\n\u001b[1;32m   1692\u001b[0m     \u001b[38;5;28mself\u001b[39m\u001b[38;5;241m.\u001b[39me_tot \u001b[38;5;241m=\u001b[39m kernel(\u001b[38;5;28mself\u001b[39m, \u001b[38;5;28mself\u001b[39m\u001b[38;5;241m.\u001b[39mconv_tol, \u001b[38;5;28mself\u001b[39m\u001b[38;5;241m.\u001b[39mconv_tol_grad,\n\u001b[1;32m   1693\u001b[0m                         dm0\u001b[38;5;241m=\u001b[39mdm0, callback\u001b[38;5;241m=\u001b[39m\u001b[38;5;28mself\u001b[39m\u001b[38;5;241m.\u001b[39mcallback,\n\u001b[1;32m   1694\u001b[0m                         conv_check\u001b[38;5;241m=\u001b[39m\u001b[38;5;28mself\u001b[39m\u001b[38;5;241m.\u001b[39mconv_check, \u001b[38;5;241m*\u001b[39m\u001b[38;5;241m*\u001b[39mkwargs)[\u001b[38;5;241m1\u001b[39m]\n",
      "File \u001b[0;32m~/miniconda3/lib/python3.11/site-packages/pyscf/scf/hf.py:145\u001b[0m, in \u001b[0;36mkernel\u001b[0;34m(mf, conv_tol, conv_tol_grad, dump_chk, dm0, callback, conv_check, **kwargs)\u001b[0m\n\u001b[1;32m    143\u001b[0m \u001b[38;5;28;01mif\u001b[39;00m mf\u001b[38;5;241m.\u001b[39mmax_cycle \u001b[38;5;241m<\u001b[39m\u001b[38;5;241m=\u001b[39m \u001b[38;5;241m0\u001b[39m:\n\u001b[1;32m    144\u001b[0m     fock \u001b[38;5;241m=\u001b[39m mf\u001b[38;5;241m.\u001b[39mget_fock(h1e, s1e, vhf, dm)  \u001b[38;5;66;03m# = h1e + vhf, no DIIS\u001b[39;00m\n\u001b[0;32m--> 145\u001b[0m     mo_energy, mo_coeff \u001b[38;5;241m=\u001b[39m \u001b[43mmf\u001b[49m\u001b[38;5;241;43m.\u001b[39;49m\u001b[43meig\u001b[49m\u001b[43m(\u001b[49m\u001b[43mfock\u001b[49m\u001b[43m,\u001b[49m\u001b[43m \u001b[49m\u001b[43ms1e\u001b[49m\u001b[43m)\u001b[49m\n\u001b[1;32m    146\u001b[0m     mo_occ \u001b[38;5;241m=\u001b[39m mf\u001b[38;5;241m.\u001b[39mget_occ(mo_energy, mo_coeff)\n\u001b[1;32m    147\u001b[0m     \u001b[38;5;28;01mreturn\u001b[39;00m scf_conv, e_tot, mo_energy, mo_coeff, mo_occ\n",
      "File \u001b[0;32m~/miniconda3/lib/python3.11/site-packages/pyscf/pbc/scf/khf.py:654\u001b[0m, in \u001b[0;36mKSCF.eig\u001b[0;34m(self, h_kpts, s_kpts)\u001b[0m\n\u001b[1;32m    651\u001b[0m mo_coeff_kpts \u001b[38;5;241m=\u001b[39m []\n\u001b[1;32m    653\u001b[0m \u001b[38;5;28;01mfor\u001b[39;00m k \u001b[38;5;129;01min\u001b[39;00m \u001b[38;5;28mrange\u001b[39m(nkpts):\n\u001b[0;32m--> 654\u001b[0m     e, c \u001b[38;5;241m=\u001b[39m \u001b[38;5;28;43mself\u001b[39;49m\u001b[38;5;241;43m.\u001b[39;49m\u001b[43m_eigh\u001b[49m\u001b[43m(\u001b[49m\u001b[43mh_kpts\u001b[49m\u001b[43m[\u001b[49m\u001b[43mk\u001b[49m\u001b[43m]\u001b[49m\u001b[43m,\u001b[49m\u001b[43m \u001b[49m\u001b[43ms_kpts\u001b[49m\u001b[43m[\u001b[49m\u001b[43mk\u001b[49m\u001b[43m]\u001b[49m\u001b[43m)\u001b[49m\n\u001b[1;32m    655\u001b[0m     eig_kpts\u001b[38;5;241m.\u001b[39mappend(e)\n\u001b[1;32m    656\u001b[0m     mo_coeff_kpts\u001b[38;5;241m.\u001b[39mappend(c)\n",
      "File \u001b[0;32m~/miniconda3/lib/python3.11/site-packages/pyscf/scf/hf.py:1537\u001b[0m, in \u001b[0;36mSCF._eigh\u001b[0;34m(self, h, s)\u001b[0m\n\u001b[1;32m   1536\u001b[0m \u001b[38;5;28;01mdef\u001b[39;00m \u001b[38;5;21m_eigh\u001b[39m(\u001b[38;5;28mself\u001b[39m, h, s):\n\u001b[0;32m-> 1537\u001b[0m     \u001b[38;5;28;01mreturn\u001b[39;00m \u001b[43meig\u001b[49m\u001b[43m(\u001b[49m\u001b[43mh\u001b[49m\u001b[43m,\u001b[49m\u001b[43m \u001b[49m\u001b[43ms\u001b[49m\u001b[43m)\u001b[49m\n",
      "File \u001b[0;32m~/miniconda3/lib/python3.11/site-packages/pyscf/scf/hf.py:1183\u001b[0m, in \u001b[0;36meig\u001b[0;34m(h, s)\u001b[0m\n\u001b[1;32m   1178\u001b[0m \u001b[38;5;28;01mdef\u001b[39;00m \u001b[38;5;21meig\u001b[39m(h, s):\n\u001b[1;32m   1179\u001b[0m \u001b[38;5;250m    \u001b[39m\u001b[38;5;124;03m'''Solver for generalized eigenvalue problem\u001b[39;00m\n\u001b[1;32m   1180\u001b[0m \n\u001b[1;32m   1181\u001b[0m \u001b[38;5;124;03m    .. math:: HC = SCE\u001b[39;00m\n\u001b[1;32m   1182\u001b[0m \u001b[38;5;124;03m    '''\u001b[39;00m\n\u001b[0;32m-> 1183\u001b[0m     e, c \u001b[38;5;241m=\u001b[39m \u001b[43mscipy\u001b[49m\u001b[38;5;241;43m.\u001b[39;49m\u001b[43mlinalg\u001b[49m\u001b[38;5;241;43m.\u001b[39;49m\u001b[43meigh\u001b[49m\u001b[43m(\u001b[49m\u001b[43mh\u001b[49m\u001b[43m,\u001b[49m\u001b[43m \u001b[49m\u001b[43ms\u001b[49m\u001b[43m)\u001b[49m\n\u001b[1;32m   1184\u001b[0m     idx \u001b[38;5;241m=\u001b[39m numpy\u001b[38;5;241m.\u001b[39margmax(\u001b[38;5;28mabs\u001b[39m(c\u001b[38;5;241m.\u001b[39mreal), axis\u001b[38;5;241m=\u001b[39m\u001b[38;5;241m0\u001b[39m)\n\u001b[1;32m   1185\u001b[0m     c[:,c[idx,numpy\u001b[38;5;241m.\u001b[39marange(\u001b[38;5;28mlen\u001b[39m(e))]\u001b[38;5;241m.\u001b[39mreal\u001b[38;5;241m<\u001b[39m\u001b[38;5;241m0\u001b[39m] \u001b[38;5;241m*\u001b[39m\u001b[38;5;241m=\u001b[39m \u001b[38;5;241m-\u001b[39m\u001b[38;5;241m1\u001b[39m\n",
      "File \u001b[0;32m~/miniconda3/lib/python3.11/site-packages/scipy/linalg/_decomp.py:593\u001b[0m, in \u001b[0;36meigh\u001b[0;34m(a, b, lower, eigvals_only, overwrite_a, overwrite_b, turbo, eigvals, type, check_finite, subset_by_index, subset_by_value, driver)\u001b[0m\n\u001b[1;32m    590\u001b[0m     \u001b[38;5;28;01mraise\u001b[39;00m LinAlgError(\u001b[38;5;124m'\u001b[39m\u001b[38;5;124mIllegal value in argument \u001b[39m\u001b[38;5;132;01m{}\u001b[39;00m\u001b[38;5;124m of internal \u001b[39m\u001b[38;5;132;01m{}\u001b[39;00m\u001b[38;5;124m'\u001b[39m\n\u001b[1;32m    591\u001b[0m                       \u001b[38;5;124m'\u001b[39m\u001b[38;5;124m'\u001b[39m\u001b[38;5;241m.\u001b[39mformat(\u001b[38;5;241m-\u001b[39minfo, drv\u001b[38;5;241m.\u001b[39mtypecode \u001b[38;5;241m+\u001b[39m pfx \u001b[38;5;241m+\u001b[39m driver))\n\u001b[1;32m    592\u001b[0m \u001b[38;5;28;01melif\u001b[39;00m info \u001b[38;5;241m>\u001b[39m n:\n\u001b[0;32m--> 593\u001b[0m     \u001b[38;5;28;01mraise\u001b[39;00m LinAlgError(\u001b[38;5;124m'\u001b[39m\u001b[38;5;124mThe leading minor of order \u001b[39m\u001b[38;5;132;01m{}\u001b[39;00m\u001b[38;5;124m of B is not \u001b[39m\u001b[38;5;124m'\u001b[39m\n\u001b[1;32m    594\u001b[0m                       \u001b[38;5;124m'\u001b[39m\u001b[38;5;124mpositive definite. The factorization of B \u001b[39m\u001b[38;5;124m'\u001b[39m\n\u001b[1;32m    595\u001b[0m                       \u001b[38;5;124m'\u001b[39m\u001b[38;5;124mcould not be completed and no eigenvalues \u001b[39m\u001b[38;5;124m'\u001b[39m\n\u001b[1;32m    596\u001b[0m                       \u001b[38;5;124m'\u001b[39m\u001b[38;5;124mor eigenvectors were computed.\u001b[39m\u001b[38;5;124m'\u001b[39m\u001b[38;5;241m.\u001b[39mformat(info\u001b[38;5;241m-\u001b[39mn))\n\u001b[1;32m    597\u001b[0m \u001b[38;5;28;01melse\u001b[39;00m:\n\u001b[1;32m    598\u001b[0m     drv_err \u001b[38;5;241m=\u001b[39m {\u001b[38;5;124m'\u001b[39m\u001b[38;5;124mev\u001b[39m\u001b[38;5;124m'\u001b[39m: \u001b[38;5;124m'\u001b[39m\u001b[38;5;124mThe algorithm failed to converge; \u001b[39m\u001b[38;5;132;01m{}\u001b[39;00m\u001b[38;5;124m \u001b[39m\u001b[38;5;124m'\u001b[39m\n\u001b[1;32m    599\u001b[0m                      \u001b[38;5;124m'\u001b[39m\u001b[38;5;124moff-diagonal elements of an intermediate \u001b[39m\u001b[38;5;124m'\u001b[39m\n\u001b[1;32m    600\u001b[0m                      \u001b[38;5;124m'\u001b[39m\u001b[38;5;124mtridiagonal form did not converge to zero.\u001b[39m\u001b[38;5;124m'\u001b[39m,\n\u001b[0;32m   (...)\u001b[0m\n\u001b[1;32m    605\u001b[0m                \u001b[38;5;124m'\u001b[39m\u001b[38;5;124mevr\u001b[39m\u001b[38;5;124m'\u001b[39m: \u001b[38;5;124m'\u001b[39m\u001b[38;5;124mInternal Error.\u001b[39m\u001b[38;5;124m'\u001b[39m\n\u001b[1;32m    606\u001b[0m                }\n",
      "\u001b[0;31mLinAlgError\u001b[0m: The leading minor of order 6 of B is not positive definite. The factorization of B could not be completed and no eigenvalues or eigenvectors were computed."
     ]
    }
   ],
   "source": [
    "supercell = pbcgto.Cell()\n",
    "supercell.atom = pyscf_ase.ase_atoms_to_pyscf(frame22)\n",
    "\n",
    "supercell.basis = 'sto-3g' #'def2-svp'\n",
    "supercell.a = frame.cell\n",
    "supercell.verbose = 3\n",
    "print('-------------------------------------------------------------------------------', flush= True)\n",
    "supercell.build()\n",
    "\n",
    "kmesh = kmesh\n",
    "print('KMESH', kmesh)\n",
    "kpts = supercell.make_kpts(kmesh)\n",
    "#kmesh = [np.int32(np.max([1, np.ceil(2*np.pi*np.linalg.norm(vec)/kspacing)])) for vec in frame.cell.reciprocal().array]\n",
    "\n",
    "nao = cell.nao\n",
    "superkmf = pbcscf.KRHF(supercell, kpts = kpts)\n",
    "\n",
    "superkmf = superkmf.density_fit()\n",
    "superkmf.max_cycle = 0\n",
    "superkmf.conv_tol = 1e-8 \n",
    "superkmf.conv_tol_grad = 1e-8\n",
    "\n",
    "superkmf.kernel()"
   ]
  },
  {
   "cell_type": "code",
   "execution_count": 39,
   "id": "87650ee3-3a64-4203-8f79-7266a75d52bc",
   "metadata": {},
   "outputs": [
    {
     "name": "stdout",
     "output_type": "stream",
     "text": [
      "\n",
      "WARN: Singularity detected in overlap matrix.  Integral accuracy may be not enough.\n",
      "      You can adjust  cell.precision  or  cell.rcut  to improve accuracy.  Recommended settings are\n",
      "      cell.precision < 8.8e-12\n",
      "      cell.rcut > 20.64\n",
      "\n"
     ]
    }
   ],
   "source": [
    "fock22 = superkmf.get_fock(dm = superkmf.init_guess_by_minao(), cycle= 0 )"
   ]
  },
  {
   "cell_type": "code",
   "execution_count": 66,
   "id": "375202a3-7341-4cbf-9a63-73bea1643a5c",
   "metadata": {},
   "outputs": [
    {
     "data": {
      "text/plain": [
       "500"
      ]
     },
     "execution_count": 66,
     "metadata": {},
     "output_type": "execute_result"
    }
   ],
   "source": [
    "kmf.max_cycle"
   ]
  },
  {
   "cell_type": "code",
   "execution_count": 40,
   "id": "23922220-5c5f-4d8b-95cc-e77008a88839",
   "metadata": {},
   "outputs": [
    {
     "ename": "NameError",
     "evalue": "name 'fock' is not defined",
     "output_type": "error",
     "traceback": [
      "\u001b[0;31m---------------------------------------------------------------------------\u001b[0m",
      "\u001b[0;31mNameError\u001b[0m                                 Traceback (most recent call last)",
      "Cell \u001b[0;32mIn[40], line 1\u001b[0m\n\u001b[0;32m----> 1\u001b[0m \u001b[43mfock\u001b[49m \n",
      "\u001b[0;31mNameError\u001b[0m: name 'fock' is not defined"
     ]
    }
   ],
   "source": [
    "fock "
   ]
  },
  {
   "cell_type": "code",
   "execution_count": null,
   "id": "36c1501f-3331-49d0-bdd3-b85f5ef13db8",
   "metadata": {},
   "outputs": [],
   "source": [
    "superfock"
   ]
  },
  {
   "cell_type": "code",
   "execution_count": 56,
   "id": "58a51f65-036b-4573-a182-9ae0eb99e273",
   "metadata": {},
   "outputs": [],
   "source": [
    "over = kmf.get_ovlp()"
   ]
  },
  {
   "cell_type": "code",
   "execution_count": 64,
   "id": "e4d9e540-609e-40d2-8719-2b1cb2ac91de",
   "metadata": {
    "scrolled": true
   },
   "outputs": [
    {
     "data": {
      "text/plain": [
       "array([[-2.22044605e-16+0.j,  2.22044605e-16+0.j, -7.63430795e-18+0.j,\n",
       "        -2.17298294e-18+0.j, -7.38129657e-18+0.j],\n",
       "       [ 2.22044605e-16+0.j,  1.77635684e-15+0.j, -1.35891588e-17+0.j,\n",
       "        -6.40041057e-17+0.j,  3.51437940e-18+0.j],\n",
       "       [-6.67631369e-18+0.j,  5.52225222e-17+0.j, -6.66133815e-16+0.j,\n",
       "         2.69335301e-18+0.j, -6.91524316e-18+0.j],\n",
       "       [-5.61095337e-19+0.j, -4.06840843e-17+0.j,  6.16279997e-18+0.j,\n",
       "         6.66133815e-16+0.j, -4.39550013e-17+0.j],\n",
       "       [ 9.85174054e-18+0.j, -1.46889211e-17+0.j, -2.08129362e-17+0.j,\n",
       "        -2.31247671e-17+0.j,  1.15185639e-15+0.j]])"
      ]
     },
     "execution_count": 64,
     "metadata": {},
     "output_type": "execute_result"
    }
   ],
   "source": [
    "over[0][:5,:5] - over22[0][:5,:5]"
   ]
  },
  {
   "cell_type": "code",
   "execution_count": 61,
   "id": "1462a969-6fda-4498-b4c1-d5b70dd4f051",
   "metadata": {},
   "outputs": [
    {
     "data": {
      "text/plain": [
       "array([[ 1.00075836e+00,  5.12886055e-01,  5.66046828e-18,\n",
       "         1.62121103e-18, -1.30105521e-18,  1.00075836e+00,\n",
       "         5.12886055e-01,  5.79632959e-18,  2.02099173e-18,\n",
       "        -3.02763467e-17,  1.00075836e+00,  5.12886055e-01,\n",
       "         7.70425760e-18, -1.73288908e-19, -2.76740752e-17,\n",
       "         1.00075836e+00,  5.12886055e-01,  7.55823573e-18,\n",
       "        -2.70481803e-19, -2.66245534e-17],\n",
       "       [ 5.12886055e-01,  4.25527279e+00, -1.88728049e-16,\n",
       "        -1.09489265e-17, -4.78089483e-17,  5.12886055e-01,\n",
       "         4.25527279e+00, -3.16176037e-16,  4.80896736e-17,\n",
       "        -7.60937653e-17,  5.12886055e-01,  4.25527279e+00,\n",
       "        -1.86913220e-16,  3.37880647e-17, -7.73443622e-17,\n",
       "         5.12886055e-01,  4.25527279e+00, -2.69904409e-13,\n",
       "        -2.69735177e-13, -7.60443705e-17],\n",
       "       [ 1.71380056e-18,  1.47094685e-16,  1.01591954e+00,\n",
       "        -6.04987989e-18,  3.27410130e-17,  1.13599981e-18,\n",
       "         2.03419011e-16,  1.01591954e+00, -2.16422758e-17,\n",
       "         9.61940515e-18, -7.70288117e-18,  1.84744392e-16,\n",
       "         1.01591954e+00, -1.03784359e-17,  1.14412766e-17,\n",
       "        -6.17646101e-19,  2.69903542e-13,  1.01591954e+00,\n",
       "         8.06410443e-13,  1.25938609e-17],\n",
       "       [ 2.49886310e-18,  2.47182941e-17, -6.04987989e-18,\n",
       "         1.01591954e+00,  6.34635862e-17,  2.08552988e-18,\n",
       "        -6.97737170e-17, -2.14254354e-17,  1.01591954e+00,\n",
       "         5.20420369e-17,  2.45035170e-18, -6.50131138e-17,\n",
       "        -1.03784359e-17,  1.01591954e+00,  3.00879186e-17,\n",
       "         2.65572741e-18,  2.69731701e-13,  8.06410430e-13,\n",
       "         1.01591954e+00,  4.31851293e-17],\n",
       "       [ 2.27683717e-18,  1.03320100e-16,  2.58021191e-17,\n",
       "         3.74427341e-17,  4.56407676e-02,  3.15638368e-17,\n",
       "         1.15992405e-16, -4.25838266e-18,  5.20420369e-17,\n",
       "         4.56407676e-02,  2.85414369e-17,  1.25916619e-16,\n",
       "         1.14412766e-17,  3.00879186e-17,  4.56407676e-02,\n",
       "         2.74919159e-17,  1.17677734e-16, -1.27037443e-18,\n",
       "         4.66545762e-17,  4.56407676e-02],\n",
       "       [ 1.00075836e+00,  5.12886055e-01,  4.71247963e-19,\n",
       "         1.61348739e-18, -3.03578950e-18,  1.00075836e+00,\n",
       "         5.12886055e-01,  5.66046828e-18,  1.62121103e-18,\n",
       "        -1.30105521e-18,  1.00075836e+00,  5.12886055e-01,\n",
       "        -1.73442642e-18,  2.06580211e-18, -2.73553525e-17,\n",
       "         1.00075836e+00,  5.12886055e-01,  7.70425760e-18,\n",
       "        -1.73288908e-19, -2.76740752e-17],\n",
       "       [ 5.12886055e-01,  4.25527279e+00,  6.43192424e-17,\n",
       "         5.01082109e-17, -5.54298361e-17,  5.12886055e-01,\n",
       "         4.25527279e+00, -1.88728049e-16, -1.09489265e-17,\n",
       "        -4.78089483e-17,  5.12886055e-01,  4.25527279e+00,\n",
       "        -2.69933986e-13,  2.69842892e-13, -9.39116966e-17,\n",
       "         5.12886055e-01,  4.25527279e+00, -1.86913220e-16,\n",
       "         3.37880647e-17, -7.73443622e-17],\n",
       "       [ 6.46934001e-18, -1.76209118e-16,  1.01591954e+00,\n",
       "         1.82581016e-18,  8.32093404e-18,  1.71380056e-18,\n",
       "         1.47094685e-16,  1.01591954e+00, -6.04987989e-18,\n",
       "         3.27410130e-17,  2.16980136e-18,  2.69904494e-13,\n",
       "         1.01591954e+00, -8.06424440e-13,  3.23584728e-17,\n",
       "        -7.70288117e-18,  1.84744392e-16,  1.01591954e+00,\n",
       "        -1.03784359e-17,  1.14412766e-17],\n",
       "       [ 9.01169390e-18, -7.78637865e-17,  1.85291522e-18,\n",
       "         1.01591954e+00,  1.70219741e-17,  2.49886310e-18,\n",
       "        -4.46706449e-17, -6.04987989e-18,  1.01591954e+00,\n",
       "         6.34635862e-17,  2.05429850e-18, -2.69842947e-13,\n",
       "        -8.06410562e-13,  1.01591954e+00,  5.44393369e-17,\n",
       "         2.45035170e-18, -8.58297955e-17, -1.03784359e-17,\n",
       "         1.01591954e+00,  3.00879186e-17],\n",
       "       [ 4.77051298e-18,  9.71174096e-17, -5.55685377e-18,\n",
       "         1.18178037e-17,  4.56407676e-02,  2.27683717e-18,\n",
       "         1.03320100e-16,  2.58021191e-17,  3.74427341e-17,\n",
       "         4.56407676e-02,  2.86835002e-17,  1.47661019e-16,\n",
       "         2.71543024e-17,  3.18811555e-17,  4.56407676e-02,\n",
       "         2.85414369e-17,  1.25916619e-16,  1.14412766e-17,\n",
       "         3.00879186e-17,  4.56407676e-02],\n",
       "       [ 1.00075836e+00,  5.12886055e-01,  9.37789218e-19,\n",
       "        -6.14932685e-19, -1.92958142e-17,  1.00075836e+00,\n",
       "         5.12886055e-01, -4.13131455e-18,  5.44279785e-19,\n",
       "        -1.56304957e-17,  1.00075836e+00,  5.12886055e-01,\n",
       "         5.66046828e-18,  1.62121103e-18, -1.30105521e-18,\n",
       "         1.00075836e+00,  5.12886055e-01,  5.79632959e-18,\n",
       "         2.02099173e-18, -3.02763467e-17],\n",
       "       [ 5.12886055e-01,  4.25527279e+00,  2.59284840e-17,\n",
       "        -2.11419424e-18, -1.01372903e-16,  5.12886055e-01,\n",
       "         4.25527279e+00,  2.69515237e-13, -2.69817331e-13,\n",
       "        -1.02313851e-16,  5.12886055e-01,  4.25527279e+00,\n",
       "        -1.88728049e-16, -1.09489265e-17, -4.78089483e-17,\n",
       "         5.12886055e-01,  4.25527279e+00, -3.16176037e-16,\n",
       "         4.80896736e-17, -7.60937653e-17],\n",
       "       [ 6.00111792e-18, -1.36950786e-16,  1.01591954e+00,\n",
       "        -4.87890977e-19,  4.58075418e-18,  4.56499543e-18,\n",
       "        -2.69765038e-13,  1.01591954e+00, -8.06467336e-13,\n",
       "         3.22509912e-17,  5.18324751e-18,  1.47094685e-16,\n",
       "         1.01591954e+00, -6.04987989e-18,  3.27410130e-17,\n",
       "         1.13599981e-18,  2.03419011e-16,  1.01591954e+00,\n",
       "        -2.16422758e-17,  9.61940515e-18],\n",
       "       [ 4.30122669e-18, -1.17635936e-17, -4.87890977e-19,\n",
       "         1.01591954e+00,  4.38017678e-17,  1.62412457e-18,\n",
       "         2.69761820e-13, -8.06453459e-13,  1.01591954e+00,\n",
       "         5.60045479e-17,  2.49886310e-18,  2.47182941e-17,\n",
       "        -6.04987989e-18,  1.01591954e+00,  6.34635862e-17,\n",
       "         2.08552988e-18, -6.97737170e-17, -2.16422758e-17,\n",
       "         1.01591954e+00,  5.20420369e-17],\n",
       "       [ 2.49336688e-17,  2.60967463e-16, -7.58941521e-18,\n",
       "         3.16587034e-17,  4.56407676e-02,  1.69586434e-17,\n",
       "         7.45581694e-17,  2.01079269e-17,  2.30450136e-17,\n",
       "         4.56407676e-02,  2.27683717e-18,  1.03320100e-16,\n",
       "         2.58021191e-17,  3.74427341e-17,  4.56407676e-02,\n",
       "         3.15638368e-17,  1.15992405e-16, -4.25838266e-18,\n",
       "         5.20420369e-17,  4.56407676e-02],\n",
       "       [ 1.00075836e+00,  5.12886055e-01, -9.54457438e-18,\n",
       "        -5.85977393e-18,  2.90235839e-18,  1.00075836e+00,\n",
       "         5.12886055e-01,  9.37789218e-19, -6.14932685e-19,\n",
       "        -1.92958142e-17,  1.00075836e+00,  5.12886055e-01,\n",
       "         4.71247963e-19,  1.61348739e-18, -3.03578950e-18,\n",
       "         1.00075836e+00,  5.12886055e-01,  5.66046828e-18,\n",
       "         1.62121103e-18, -1.30105521e-18],\n",
       "       [ 5.12886055e-01,  4.25527279e+00,  2.69983655e-13,\n",
       "         2.69784989e-13, -4.98732999e-18,  5.12886055e-01,\n",
       "         4.25527279e+00,  2.59284840e-17, -2.11419424e-18,\n",
       "        -1.01372903e-16,  5.12886055e-01,  4.25527279e+00,\n",
       "         6.43192424e-17,  5.01082109e-17, -5.54298361e-17,\n",
       "         5.12886055e-01,  4.25527279e+00, -1.88728049e-16,\n",
       "        -1.09489265e-17, -4.78089483e-17],\n",
       "       [ 9.54542141e-18, -2.70095545e-13,  1.01591954e+00,\n",
       "         8.06395776e-13,  2.14672030e-17,  6.00111792e-18,\n",
       "        -1.36950786e-16,  1.01591954e+00, -4.87890977e-19,\n",
       "         4.58075418e-18,  6.46934001e-18, -2.87231421e-16,\n",
       "         1.01591954e+00,  1.82581016e-18,  8.32093404e-18,\n",
       "         5.18324751e-18,  1.47094685e-16,  1.01591954e+00,\n",
       "        -6.04987989e-18,  3.27410130e-17],\n",
       "       [ 6.07672024e-18, -2.69843970e-13,  8.06395776e-13,\n",
       "         1.01591954e+00, -1.38710115e-17,  4.30122669e-18,\n",
       "        -6.72747448e-17, -4.87890977e-19,  1.01591954e+00,\n",
       "         4.38017678e-17,  9.01169390e-18, -7.78637865e-17,\n",
       "         1.85291522e-18,  1.01591954e+00,  1.70219741e-17,\n",
       "         2.49886310e-18, -4.46706449e-17, -6.04987989e-18,\n",
       "         1.01591954e+00,  6.34635862e-17],\n",
       "       [-1.60115697e-18,  1.02023424e-16,  7.58941521e-18,\n",
       "         6.77626358e-21,  4.56407676e-02,  2.49336688e-17,\n",
       "         2.60967463e-16, -7.58941521e-18,  3.16587034e-17,\n",
       "         4.56407676e-02,  4.77051298e-18,  9.71174096e-17,\n",
       "        -5.55685377e-18,  1.18178037e-17,  4.56407676e-02,\n",
       "         2.27683717e-18,  1.03320100e-16,  2.58021191e-17,\n",
       "         3.74427341e-17,  4.56407676e-02]])"
      ]
     },
     "execution_count": 61,
     "metadata": {},
     "output_type": "execute_result"
    }
   ],
   "source": [
    "over22[0]"
   ]
  },
  {
   "cell_type": "code",
   "execution_count": 59,
   "id": "1666f918-b6a2-4c39-b8e8-98ca420a10e5",
   "metadata": {},
   "outputs": [
    {
     "name": "stdout",
     "output_type": "stream",
     "text": [
      "\n",
      "WARN: Singularity detected in overlap matrix.  Integral accuracy may be not enough.\n",
      "      You can adjust  cell.precision  or  cell.rcut  to improve accuracy.  Recommended settings are\n",
      "      cell.precision < 8.8e-12\n",
      "      cell.rcut > 20.64\n",
      "\n"
     ]
    }
   ],
   "source": [
    "over22 = superkmf.get_ovlp()"
   ]
  },
  {
   "cell_type": "code",
   "execution_count": 52,
   "id": "6aaa8022-36ce-4aa6-b196-e4056a56889a",
   "metadata": {},
   "outputs": [
    {
     "data": {
      "text/plain": [
       "array([[ 0.00000000e+00,  1.11022302e-16, -7.63346092e-18,\n",
       "        -2.87438354e-18,  9.90234455e-19],\n",
       "       [ 1.11022302e-16,  0.00000000e+00,  2.12792334e-16,\n",
       "         3.31573496e-17, -1.32647808e-17],\n",
       "       [ 7.19978005e-18, -1.72893694e-16,  1.77635684e-15,\n",
       "         6.66760513e-18, -6.91524316e-18],\n",
       "       [-8.12008020e-19, -1.05909016e-16,  6.69471019e-18,\n",
       "         1.11022302e-15, -4.39550013e-17],\n",
       "       [ 9.85174054e-18, -1.46889211e-17, -3.94121783e-17,\n",
       "         8.74827539e-18,  1.15185639e-15]])"
      ]
     },
     "execution_count": 52,
     "metadata": {},
     "output_type": "execute_result"
    }
   ],
   "source": [
    "over -over22[:5,:5]"
   ]
  },
  {
   "cell_type": "code",
   "execution_count": 30,
   "id": "3519dd6d-01e4-409a-8303-86a1eb6a2bbd",
   "metadata": {},
   "outputs": [
    {
     "ename": "TypeError",
     "evalue": "object of type 'NoneType' has no len()",
     "output_type": "error",
     "traceback": [
      "\u001b[0;31m---------------------------------------------------------------------------\u001b[0m",
      "\u001b[0;31mTypeError\u001b[0m                                 Traceback (most recent call last)",
      "Cell \u001b[0;32mIn[30], line 1\u001b[0m\n\u001b[0;32m----> 1\u001b[0m fock \u001b[38;5;241m=\u001b[39m \u001b[43mkmf\u001b[49m\u001b[38;5;241;43m.\u001b[39;49m\u001b[43mget_fock\u001b[49m\u001b[43m(\u001b[49m\u001b[43m)\u001b[49m\n\u001b[1;32m      2\u001b[0m fock22 \u001b[38;5;241m=\u001b[39m superkmf\u001b[38;5;241m.\u001b[39mget_fock()\n",
      "File \u001b[0;32m~/miniconda3/lib/python3.11/site-packages/pyscf/pbc/scf/khf.py:131\u001b[0m, in \u001b[0;36mget_fock\u001b[0;34m(mf, h1e, s1e, vhf, dm, cycle, diis, diis_start_cycle, level_shift_factor, damp_factor)\u001b[0m\n\u001b[1;32m    129\u001b[0m h1e_kpts, s_kpts, vhf_kpts, dm_kpts \u001b[38;5;241m=\u001b[39m h1e, s1e, vhf, dm\n\u001b[1;32m    130\u001b[0m \u001b[38;5;28;01mif\u001b[39;00m h1e_kpts \u001b[38;5;129;01mis\u001b[39;00m \u001b[38;5;28;01mNone\u001b[39;00m: h1e_kpts \u001b[38;5;241m=\u001b[39m mf\u001b[38;5;241m.\u001b[39mget_hcore()\n\u001b[0;32m--> 131\u001b[0m \u001b[38;5;28;01mif\u001b[39;00m vhf_kpts \u001b[38;5;129;01mis\u001b[39;00m \u001b[38;5;28;01mNone\u001b[39;00m: vhf_kpts \u001b[38;5;241m=\u001b[39m \u001b[43mmf\u001b[49m\u001b[38;5;241;43m.\u001b[39;49m\u001b[43mget_veff\u001b[49m\u001b[43m(\u001b[49m\u001b[43mmf\u001b[49m\u001b[38;5;241;43m.\u001b[39;49m\u001b[43mcell\u001b[49m\u001b[43m,\u001b[49m\u001b[43m \u001b[49m\u001b[43mdm_kpts\u001b[49m\u001b[43m)\u001b[49m\n\u001b[1;32m    132\u001b[0m f_kpts \u001b[38;5;241m=\u001b[39m h1e_kpts \u001b[38;5;241m+\u001b[39m vhf_kpts\n\u001b[1;32m    133\u001b[0m \u001b[38;5;28;01mif\u001b[39;00m cycle \u001b[38;5;241m<\u001b[39m \u001b[38;5;241m0\u001b[39m \u001b[38;5;129;01mand\u001b[39;00m diis \u001b[38;5;129;01mis\u001b[39;00m \u001b[38;5;28;01mNone\u001b[39;00m:  \u001b[38;5;66;03m# Not inside the SCF iteration\u001b[39;00m\n",
      "File \u001b[0;32m~/miniconda3/lib/python3.11/site-packages/pyscf/pbc/scf/khf.py:628\u001b[0m, in \u001b[0;36mKSCF.get_veff\u001b[0;34m(self, cell, dm_kpts, dm_last, vhf_last, hermi, kpts, kpts_band)\u001b[0m\n\u001b[1;32m    624\u001b[0m \u001b[38;5;250m\u001b[39m\u001b[38;5;124;03m'''Hartree-Fock potential matrix for the given density matrix.\u001b[39;00m\n\u001b[1;32m    625\u001b[0m \u001b[38;5;124;03mSee :func:`scf.hf.get_veff` and :func:`scf.hf.RHF.get_veff`\u001b[39;00m\n\u001b[1;32m    626\u001b[0m \u001b[38;5;124;03m'''\u001b[39;00m\n\u001b[1;32m    627\u001b[0m \u001b[38;5;28;01mif\u001b[39;00m dm_kpts \u001b[38;5;129;01mis\u001b[39;00m \u001b[38;5;28;01mNone\u001b[39;00m:\n\u001b[0;32m--> 628\u001b[0m     dm_kpts \u001b[38;5;241m=\u001b[39m \u001b[38;5;28;43mself\u001b[39;49m\u001b[38;5;241;43m.\u001b[39;49m\u001b[43mmake_rdm1\u001b[49m\u001b[43m(\u001b[49m\u001b[43m)\u001b[49m\n\u001b[1;32m    629\u001b[0m vj, vk \u001b[38;5;241m=\u001b[39m \u001b[38;5;28mself\u001b[39m\u001b[38;5;241m.\u001b[39mget_jk(cell, dm_kpts, hermi, kpts, kpts_band)\n\u001b[1;32m    630\u001b[0m \u001b[38;5;28;01mreturn\u001b[39;00m vj \u001b[38;5;241m-\u001b[39m vk \u001b[38;5;241m*\u001b[39m \u001b[38;5;241m.5\u001b[39m\n",
      "File \u001b[0;32m~/miniconda3/lib/python3.11/site-packages/pyscf/pbc/scf/khf.py:669\u001b[0m, in \u001b[0;36mKSCF.make_rdm1\u001b[0;34m(self, mo_coeff_kpts, mo_occ_kpts, **kwargs)\u001b[0m\n\u001b[1;32m    664\u001b[0m \u001b[38;5;28;01mif\u001b[39;00m mo_occ_kpts \u001b[38;5;129;01mis\u001b[39;00m \u001b[38;5;28;01mNone\u001b[39;00m:\n\u001b[1;32m    665\u001b[0m     \u001b[38;5;66;03m# Note: this is actually \"self.mo_occ_kpts\"\u001b[39;00m\n\u001b[1;32m    666\u001b[0m     \u001b[38;5;66;03m# which is stored in self.mo_occ of the scf.hf.RHF superclass\u001b[39;00m\n\u001b[1;32m    667\u001b[0m     mo_occ_kpts \u001b[38;5;241m=\u001b[39m \u001b[38;5;28mself\u001b[39m\u001b[38;5;241m.\u001b[39mmo_occ\n\u001b[0;32m--> 669\u001b[0m \u001b[38;5;28;01mreturn\u001b[39;00m \u001b[43mmake_rdm1\u001b[49m\u001b[43m(\u001b[49m\u001b[43mmo_coeff_kpts\u001b[49m\u001b[43m,\u001b[49m\u001b[43m \u001b[49m\u001b[43mmo_occ_kpts\u001b[49m\u001b[43m,\u001b[49m\u001b[43m \u001b[49m\u001b[38;5;241;43m*\u001b[39;49m\u001b[38;5;241;43m*\u001b[39;49m\u001b[43mkwargs\u001b[49m\u001b[43m)\u001b[49m\n",
      "File \u001b[0;32m~/miniconda3/lib/python3.11/site-packages/pyscf/pbc/scf/khf.py:234\u001b[0m, in \u001b[0;36mmake_rdm1\u001b[0;34m(mo_coeff_kpts, mo_occ_kpts, **kwargs)\u001b[0m\n\u001b[1;32m    228\u001b[0m \u001b[38;5;28;01mdef\u001b[39;00m \u001b[38;5;21mmake_rdm1\u001b[39m(mo_coeff_kpts, mo_occ_kpts, \u001b[38;5;241m*\u001b[39m\u001b[38;5;241m*\u001b[39mkwargs):\n\u001b[1;32m    229\u001b[0m \u001b[38;5;250m    \u001b[39m\u001b[38;5;124;03m'''One particle density matrices for all k-points.\u001b[39;00m\n\u001b[1;32m    230\u001b[0m \n\u001b[1;32m    231\u001b[0m \u001b[38;5;124;03m    Returns:\u001b[39;00m\n\u001b[1;32m    232\u001b[0m \u001b[38;5;124;03m        dm_kpts : (nkpts, nao, nao) ndarray\u001b[39;00m\n\u001b[1;32m    233\u001b[0m \u001b[38;5;124;03m    '''\u001b[39;00m\n\u001b[0;32m--> 234\u001b[0m     nkpts \u001b[38;5;241m=\u001b[39m \u001b[38;5;28mlen\u001b[39m(mo_occ_kpts)\n\u001b[1;32m    235\u001b[0m     dm \u001b[38;5;241m=\u001b[39m [mol_hf\u001b[38;5;241m.\u001b[39mmake_rdm1(mo_coeff_kpts[k], mo_occ_kpts[k]) \u001b[38;5;28;01mfor\u001b[39;00m k \u001b[38;5;129;01min\u001b[39;00m \u001b[38;5;28mrange\u001b[39m(nkpts)]\n\u001b[1;32m    236\u001b[0m     \u001b[38;5;28;01mreturn\u001b[39;00m lib\u001b[38;5;241m.\u001b[39mtag_array(dm, mo_coeff\u001b[38;5;241m=\u001b[39mmo_coeff_kpts, mo_occ\u001b[38;5;241m=\u001b[39mmo_occ_kpts)\n",
      "\u001b[0;31mTypeError\u001b[0m: object of type 'NoneType' has no len()"
     ]
    }
   ],
   "source": [
    "fock = kmf.get_fock()\n",
    "fock22 = superkmf.get_fock()"
   ]
  },
  {
   "cell_type": "code",
   "execution_count": null,
   "id": "b3d9d744-68c8-492f-802c-8c031b21e355",
   "metadata": {},
   "outputs": [],
   "source": []
  }
 ],
 "metadata": {
  "kernelspec": {
   "display_name": "Python 3 (ipykernel)",
   "language": "python",
   "name": "python3"
  },
  "language_info": {
   "codemirror_mode": {
    "name": "ipython",
    "version": 3
   },
   "file_extension": ".py",
   "mimetype": "text/x-python",
   "name": "python",
   "nbconvert_exporter": "python",
   "pygments_lexer": "ipython3",
   "version": "3.11.5"
  }
 },
 "nbformat": 4,
 "nbformat_minor": 5
}
