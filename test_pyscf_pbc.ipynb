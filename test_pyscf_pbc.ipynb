{
 "cells": [
  {
   "cell_type": "code",
   "execution_count": 1,
   "id": "28036480-04ed-4928-b087-373a3e853f5a",
   "metadata": {},
   "outputs": [
    {
     "name": "stderr",
     "output_type": "stream",
     "text": [
      "/home/pegolo/micromamba/envs/sci/lib/python3.11/site-packages/pyscf/dft/libxc.py:771: UserWarning: Since PySCF-2.3, B3LYP (and B3P86) are changed to the VWN-RPA variant, corresponding to the original definition by Stephens et al. (issue 1480) and the same as the B3LYP functional in Gaussian. To restore the VWN5 definition, you can put the setting \"B3LYP_WITH_VWN5 = True\" in pyscf_conf.py\n",
      "  warnings.warn('Since PySCF-2.3, B3LYP (and B3P86) are changed to the VWN-RPA variant, '\n"
     ]
    }
   ],
   "source": [
    "import hickle\n",
    "from ase.io import read\n",
    "import pyscf.pbc.gto as pbcgto\n",
    "import pyscf.pbc.tools.pyscf_ase as pyscf_ase\n",
    "from pyscf.pbc.tools.k2gamma import get_phase, kpts_to_kmesh, k2gamma\n",
    "import numpy as np\n",
    "import pyscf.pbc.scf as pbcscf\n",
    "from ase.visualize import view"
   ]
  },
  {
   "cell_type": "code",
   "execution_count": 10,
   "id": "4be41fcf-4459-4dca-83d6-dc2ce497ce07",
   "metadata": {},
   "outputs": [],
   "source": [
    "def print_matrix(matrix):\n",
    "    for row in matrix:\n",
    "        for v in row:\n",
    "            print(f'{v:>12.6f}', end = ' ')\n",
    "        print()"
   ]
  },
  {
   "cell_type": "code",
   "execution_count": 95,
   "id": "3a562c71-04a5-44ed-abc2-21d7ec6448f7",
   "metadata": {},
   "outputs": [],
   "source": [
    "from ase.atoms import Atoms\n",
    "frame= Atoms('He', positions = [[0,0,0]], cell=[10,10,1])\n",
    "frame.center()\n",
    "frame22 = frame.repeat([2,2,1])\n",
    "#view([frame, frame22])"
   ]
  },
  {
   "cell_type": "code",
   "execution_count": 97,
   "id": "c9853fad-1010-45ef-b6f2-c3aa6a75c67d",
   "metadata": {},
   "outputs": [],
   "source": [
    "# view([frame, frame22])"
   ]
  },
  {
   "cell_type": "code",
   "execution_count": 16,
   "id": "b4ffc354-6b2b-46bf-bba6-a98e93a61c0e",
   "metadata": {},
   "outputs": [],
   "source": [
    "# frame = read('examples/data/periodic/graphene_supercell_variety/graphene_variety.xyz', '1')\n"
   ]
  },
  {
   "cell_type": "code",
   "execution_count": 79,
   "id": "00593332-bac5-4121-828f-8bfa07095f26",
   "metadata": {
    "scrolled": true
   },
   "outputs": [
    {
     "name": "stdout",
     "output_type": "stream",
     "text": [
      "-------------------------------------------------------------------------------\n",
      "System: uname_result(system='Linux', node='cosmopc3', release='5.15.0-91-generic', version='#101-Ubuntu SMP Tue Nov 14 13:30:08 UTC 2023', machine='x86_64')  Threads 24\n",
      "Python 3.11.7 | packaged by conda-forge | (main, Dec 23 2023, 14:43:09) [GCC 12.3.0]\n",
      "numpy 1.26.3  scipy 1.10.1\n",
      "Date: Fri Mar 15 13:59:38 2024\n",
      "PySCF version 2.4.0\n",
      "PySCF path  /home/pegolo/micromamba/envs/sci/lib/python3.11/site-packages/pyscf\n",
      "\n",
      "[CONFIG] conf_file None\n",
      "[INPUT] verbose = 4\n",
      "[INPUT] num. atoms = 1\n",
      "[INPUT] num. electrons = 2\n",
      "[INPUT] charge = 0\n",
      "[INPUT] spin (= nelec alpha-beta = 2S) = 0\n",
      "[INPUT] symmetry False subgroup None\n",
      "[INPUT] Mole.unit = angstrom\n",
      "[INPUT] Symbol           X                Y                Z      unit          X                Y                Z       unit  Magmom\n",
      "[INPUT]  1 He     1.000000000000   1.000000000000   0.500000000000 AA    1.889726124565   1.889726124565   0.944863062283 Bohr   0.0\n",
      "\n",
      "nuclear repulsion = -1.55219835630707\n",
      "number of shells = 3\n",
      "number of NR pGTOs = 7\n",
      "number of NR cGTOs = 5\n",
      "basis = def2-svp\n",
      "ecp = {}\n",
      "CPU time:      9839.15\n",
      "lattice vectors  a1 [3.779452249, 0.000000000, 0.000000000]\n",
      "                 a2 [0.000000000, 3.779452249, 0.000000000]\n",
      "                 a3 [0.000000000, 0.000000000, 1.889726125]\n",
      "dimension = 3\n",
      "low_dim_ft_type = None\n",
      "Cell volume = 26.9933\n",
      "rcut = 13.058322492694801 (nimgs = [4 4 7])\n",
      "lattice sum = 503 cells\n",
      "precision = 1e-08\n",
      "pseudo = None\n",
      "ke_cutoff = 2874.3100425553366\n",
      "    = [93 93 47] mesh (406503 PWs)\n",
      "KMESH [8, 8, 1]\n",
      "\n",
      "\n",
      "******** <class 'pyscf.pbc.scf.khf.KRHF'> ********\n",
      "method = KRHF\n",
      "initial guess = minao\n",
      "damping factor = 0\n",
      "level_shift factor = 0\n",
      "DIIS = <class 'pyscf.scf.diis.CDIIS'>\n",
      "diis_start_cycle = 1\n",
      "diis_space = 8\n",
      "SCF conv_tol = 1e-08\n",
      "SCF conv_tol_grad = 1e-08\n",
      "SCF max_cycles = 2000\n",
      "direct_scf = True\n",
      "direct_scf_tol = 1e-13\n",
      "chkfile to save SCF result = /tmp/tmpz5yyvrud\n",
      "max_memory 4000 MB (current use 984 MB)\n",
      "\n",
      "\n",
      "******** PBC SCF flags ********\n",
      "N kpts = 64\n",
      "Exchange divergence treatment (exxdiv) = ewald\n",
      "    madelung (= occupied orbital energy shift) = -1.4246765847931342\n",
      "    Total energy shift due to Ewald probe charge = -1/2 * Nelec*madelung = 1.42467658479\n",
      "DF object = <pyscf.pbc.df.df.GDF object at 0x7efed0b47810>\n",
      "\n",
      "\n",
      "******** <class 'pyscf.pbc.df.rsdf_builder._RSNucBuilder'> ********\n",
      "mesh = [7 7 5] (245 PWs)\n",
      "ke_cutoff = 12.436968235142707\n",
      "omega = 0.45761683343257953\n",
      "exclude_d_aux = False\n",
      "exclude_dd_block = True\n",
      "j2c_eig_always = False\n",
      "has_long_range = True\n",
      "\n",
      "\n",
      "******** <class 'pyscf.pbc.df.df.GDF'> ********\n",
      "auxbasis = None\n",
      "exp_to_discard = None\n",
      "_cderi_to_save = /tmp/tmpyg8r4dy9\n",
      "len(kpts) = 64\n",
      "Default auxbasis def2-svp-jkfit is used for He def2-svp\n",
      "Drop 0 primitive fitting functions\n",
      "make aux basis, num shells = 9, num cGTOs = 23\n",
      "auxcell.rcut 7.723468338327722\n",
      "\n",
      "\n",
      "******** <class 'pyscf.pbc.df.rsdf_builder._RSGDFBuilder'> ********\n",
      "mesh = [5 5 3] (75 PWs)\n",
      "ke_cutoff = 5.527541437841203\n",
      "omega = 0.3010694360950827\n",
      "exclude_d_aux = True\n",
      "exclude_dd_block = True\n",
      "j2c_eig_always = False\n",
      "has_long_range = True\n",
      "init E= -3.27459777339746\n",
      "HOMO = -1.02272006257  LUMO = 1.17075547821\n",
      "cycle= 1 E= -3.36136647937884  delta_E= -0.0868  |g|= 0.39  |ddm|= 2.89\n",
      "HOMO = -0.917332149982  LUMO = 1.20009225486\n",
      "cycle= 2 E= -3.36169422880545  delta_E= -0.000328  |g|= 0.112  |ddm|= 0.212\n",
      "HOMO = -0.920463930285  LUMO = 1.19896155766\n",
      "cycle= 3 E= -3.36172495506745  delta_E= -3.07e-05  |g|= 0.0117  |ddm|= 0.0464\n",
      "HOMO = -0.920301844522  LUMO = 1.19904752166\n",
      "cycle= 4 E= -3.36172523388754  delta_E= -2.79e-07  |g|= 0.00124  |ddm|= 0.00402\n",
      "HOMO = -0.920267963253  LUMO = 1.1990621319\n",
      "cycle= 5 E= -3.36172523692415  delta_E= -3.04e-09  |g|= 0.000217  |ddm|= 0.000432\n",
      "HOMO = -0.920269147755  LUMO = 1.19906341559\n",
      "cycle= 6 E= -3.36172523701465  delta_E= -9.05e-11  |g|= 3.06e-05  |ddm|= 7.06e-05\n",
      "HOMO = -0.920269241181  LUMO = 1.19906347489\n",
      "cycle= 7 E= -3.36172523701649  delta_E= -1.84e-12  |g|= 3.26e-06  |ddm|= 9.91e-06\n",
      "HOMO = -0.920269249885  LUMO = 1.19906348161\n",
      "cycle= 8 E= -3.36172523701651  delta_E= -2.09e-14  |g|= 3.22e-07  |ddm|= 1.06e-06\n",
      "HOMO = -0.920269254371  LUMO = 1.19906348314\n",
      "cycle= 9 E= -3.36172523701651  delta_E= -4.44e-16  |g|= 3.57e-08  |ddm|= 9.97e-08\n",
      "HOMO = -0.920269254734  LUMO = 1.19906348317\n",
      "cycle= 10 E= -3.36172523701651  delta_E=    0  |g|= 1.27e-08  |ddm|= 1.33e-08\n",
      "HOMO = -0.920269254594  LUMO = 1.19906348318\n",
      "cycle= 11 E= -3.36172523701651  delta_E= 1.78e-15  |g|= 4.88e-09  |ddm|= 2.15e-09\n",
      "HOMO = -0.920269254514  LUMO = 1.19906348316\n",
      "Extra cycle  E= -3.36172523701651  delta_E= -3.11e-15  |g|= 2.92e-09  |ddm|= 2.12e-09\n",
      "converged SCF energy = -3.36172523701651\n"
     ]
    }
   ],
   "source": [
    "kmesh = [8,8,1]\n",
    "cell = pbcgto.Cell()\n",
    "cell.atom = pyscf_ase.ase_atoms_to_pyscf(frame)\n",
    "\n",
    "cell.basis = 'def2-svp'\n",
    "cell.a = frame.cell\n",
    "cell.verbose = 4\n",
    "print('-------------------------------------------------------------------------------', flush= True)\n",
    "cell.build()\n",
    "\n",
    "kmesh = kmesh\n",
    "print('KMESH', kmesh)\n",
    "kpts = cell.make_kpts(kmesh)\n",
    "#kmesh = [np.int32(np.max([1, np.ceil(2*np.pi*np.linalg.norm(vec)/kspacing)])) for vec in frame.cell.reciprocal().array]\n",
    "\n",
    "nao = cell.nao\n",
    "kmf = pbcscf.KRHF(cell, kpts = cell.make_kpts(kmesh))\n",
    "\n",
    "kmf = kmf.density_fit()\n",
    "kmf.init_guess_by_minao() #('minao')\n",
    "kmf.max_cycle = 2000\n",
    "kmf.conv_tol = 1e-8 \n",
    "kmf.conv_tol_grad = 1e-8\n",
    "\n",
    "e1= kmf.kernel()"
   ]
  },
  {
   "cell_type": "code",
   "execution_count": 80,
   "id": "5fca1f24-6a02-4fe4-b3b5-a2f4d0ffd8ba",
   "metadata": {
    "scrolled": true
   },
   "outputs": [
    {
     "name": "stdout",
     "output_type": "stream",
     "text": [
      "-------------------------------------------------------------------------------\n",
      "System: uname_result(system='Linux', node='cosmopc3', release='5.15.0-91-generic', version='#101-Ubuntu SMP Tue Nov 14 13:30:08 UTC 2023', machine='x86_64')  Threads 24\n",
      "Python 3.11.7 | packaged by conda-forge | (main, Dec 23 2023, 14:43:09) [GCC 12.3.0]\n",
      "numpy 1.26.3  scipy 1.10.1\n",
      "Date: Fri Mar 15 14:01:06 2024\n",
      "PySCF version 2.4.0\n",
      "PySCF path  /home/pegolo/micromamba/envs/sci/lib/python3.11/site-packages/pyscf\n",
      "\n",
      "[CONFIG] conf_file None\n",
      "[INPUT] verbose = 4\n",
      "[INPUT] num. atoms = 4\n",
      "[INPUT] num. electrons = 8\n",
      "[INPUT] charge = 0\n",
      "[INPUT] spin (= nelec alpha-beta = 2S) = 0\n",
      "[INPUT] symmetry False subgroup None\n",
      "[INPUT] Mole.unit = angstrom\n",
      "[INPUT] Symbol           X                Y                Z      unit          X                Y                Z       unit  Magmom\n",
      "[INPUT]  1 He     1.000000000000   1.000000000000   0.500000000000 AA    1.889726124565   1.889726124565   0.944863062283 Bohr   0.0\n",
      "[INPUT]  2 He     1.000000000000   3.000000000000   0.500000000000 AA    1.889726124565   5.669178373695   0.944863062283 Bohr   0.0\n",
      "[INPUT]  3 He     3.000000000000   1.000000000000   0.500000000000 AA    5.669178373695   1.889726124565   0.944863062283 Bohr   0.0\n",
      "[INPUT]  4 He     3.000000000000   3.000000000000   0.500000000000 AA    5.669178373695   5.669178373695   0.944863062283 Bohr   0.0\n",
      "\n",
      "nuclear repulsion = -6.20879342522823\n",
      "number of shells = 12\n",
      "number of NR pGTOs = 28\n",
      "number of NR cGTOs = 20\n",
      "basis = def2-svp\n",
      "ecp = {}\n",
      "CPU time:     10330.57\n",
      "lattice vectors  a1 [7.558904498, 0.000000000, 0.000000000]\n",
      "                 a2 [0.000000000, 7.558904498, 0.000000000]\n",
      "                 a3 [0.000000000, 0.000000000, 1.889726125]\n",
      "dimension = 3\n",
      "low_dim_ft_type = None\n",
      "Cell volume = 107.973\n",
      "rcut = 13.058322492694801 (nimgs = [2 2 7])\n",
      "lattice sum = 479 cells\n",
      "precision = 1e-08\n",
      "pseudo = None\n",
      "ke_cutoff = 2874.3100425553366\n",
      "    = [185 185  47] mesh (1608575 PWs)\n",
      "KMESH [4, 4, 1]\n",
      "\n",
      "\n",
      "******** <class 'pyscf.pbc.scf.khf.KRHF'> ********\n",
      "method = KRHF\n",
      "initial guess = minao\n",
      "damping factor = 0\n",
      "level_shift factor = 0\n",
      "DIIS = <class 'pyscf.scf.diis.CDIIS'>\n",
      "diis_start_cycle = 1\n",
      "diis_space = 8\n",
      "SCF conv_tol = 1e-08\n",
      "SCF conv_tol_grad = 1e-08\n",
      "SCF max_cycles = 500\n",
      "direct_scf = True\n",
      "direct_scf_tol = 1e-13\n",
      "chkfile to save SCF result = /tmp/tmpxuzhaftr\n",
      "max_memory 4000 MB (current use 1028 MB)\n",
      "\n",
      "\n",
      "******** PBC SCF flags ********\n",
      "N kpts = 16\n",
      "Exchange divergence treatment (exxdiv) = ewald\n",
      "    madelung (= occupied orbital energy shift) = -1.4246765847931342\n",
      "    Total energy shift due to Ewald probe charge = -1/2 * Nelec*madelung = 5.69870633917\n",
      "DF object = <pyscf.pbc.df.df.GDF object at 0x7efed1c2f810>\n",
      "\n",
      "\n",
      "******** <class 'pyscf.pbc.df.rsdf_builder._RSNucBuilder'> ********\n",
      "mesh = [13 13  5] (845 PWs)\n",
      "ke_cutoff = 12.436968235142707\n",
      "omega = 0.45761683343257953\n",
      "exclude_d_aux = False\n",
      "exclude_dd_block = True\n",
      "j2c_eig_always = False\n",
      "has_long_range = True\n",
      "\n",
      "\n",
      "******** <class 'pyscf.pbc.df.df.GDF'> ********\n",
      "auxbasis = None\n",
      "exp_to_discard = None\n",
      "_cderi_to_save = /tmp/tmp6zp7nxn9\n",
      "len(kpts) = 16\n",
      "Default auxbasis def2-svp-jkfit is used for He def2-svp\n",
      "Drop 0 primitive fitting functions\n",
      "make aux basis, num shells = 36, num cGTOs = 92\n",
      "auxcell.rcut 7.723468338327722\n",
      "\n",
      "\n",
      "******** <class 'pyscf.pbc.df.rsdf_builder._RSGDFBuilder'> ********\n",
      "mesh = [11 11  5] (605 PWs)\n",
      "ke_cutoff = 8.636783496626881\n",
      "omega = 0.3736124850725597\n",
      "exclude_d_aux = True\n",
      "exclude_dd_block = True\n",
      "j2c_eig_always = False\n",
      "has_long_range = True\n",
      "init E= -13.0951754866824\n",
      "HOMO = -0.990609795203  LUMO = 1.1710541654\n",
      "cycle= 1 E= -13.4444210743432  delta_E= -0.349  |g|= 0.508  |ddm|= 2.88\n",
      "HOMO = -0.916366900175  LUMO = 1.20050477197\n",
      "cycle= 2 E= -13.4466676544963  delta_E= -0.00225  |g|= 0.154  |ddm|= 0.275\n",
      "HOMO = -0.920410800465  LUMO = 1.19894764652\n",
      "cycle= 3 E= -13.4468989063323  delta_E= -0.000231  |g|= 0.0158  |ddm|= 0.0632\n",
      "HOMO = -0.920309450054  LUMO = 1.19904423791\n",
      "cycle= 4 E= -13.4469009309514  delta_E= -2.02e-06  |g|= 0.00149  |ddm|= 0.00551\n",
      "HOMO = -0.920268190716  LUMO = 1.19906130364\n",
      "cycle= 5 E= -13.4469009486491  delta_E= -1.77e-08  |g|= 0.000287  |ddm|= 0.000536\n",
      "HOMO = -0.920269141996  LUMO = 1.19906339492\n",
      "cycle= 6 E= -13.4469009492849  delta_E= -6.36e-10  |g|= 4.13e-05  |ddm|= 8.75e-05\n",
      "HOMO = -0.920269247137  LUMO = 1.19906347168\n",
      "cycle= 7 E= -13.4469009492983  delta_E= -1.34e-11  |g|= 4.3e-06  |ddm|= 1.26e-05\n",
      "HOMO = -0.920269248761  LUMO = 1.19906348127\n",
      "cycle= 8 E= -13.4469009492984  delta_E= -1.46e-13  |g|= 4.38e-07  |ddm|= 1.4e-06\n",
      "HOMO = -0.920269254287  LUMO = 1.19906348332\n",
      "cycle= 9 E= -13.4469009492984  delta_E= -5.33e-15  |g|= 5.27e-08  |ddm|= 1.36e-07\n",
      "HOMO = -0.920269254904  LUMO = 1.19906348334\n",
      "cycle= 10 E= -13.4469009492984  delta_E= -5.33e-15  |g|= 1.46e-08  |ddm|= 1.88e-08\n",
      "HOMO = -0.920269254704  LUMO = 1.19906348337\n",
      "cycle= 11 E= -13.4469009492984  delta_E= 7.11e-15  |g|= 6.6e-09  |ddm|= 2.22e-09\n",
      "HOMO = -0.920269254552  LUMO = 1.19906348334\n",
      "Extra cycle  E= -13.4469009492984  delta_E= -3.55e-15  |g|= 3.77e-09  |ddm|= 2.89e-09\n",
      "converged SCF energy = -13.4469009492984\n"
     ]
    }
   ],
   "source": [
    "supercell = pbcgto.Cell()\n",
    "supercell.atom = pyscf_ase.ase_atoms_to_pyscf(frame22)\n",
    "\n",
    "supercell.basis = 'def2-svp'\n",
    "supercell.a = frame22.cell\n",
    "supercell.verbose = 4\n",
    "print('-------------------------------------------------------------------------------', flush= True)\n",
    "supercell.build()\n",
    "\n",
    "kmesh = [4,4,1] #kmesh\n",
    "print('KMESH', kmesh)\n",
    "kpts = supercell.make_kpts(kmesh)\n",
    "#kmesh = [np.int32(np.max([1, np.ceil(2*np.pi*np.linalg.norm(vec)/kspacing)])) for vec in frame.cell.reciprocal().array]\n",
    "\n",
    "nao = cell.nao\n",
    "superkmf = pbcscf.KRHF(supercell, kpts = kpts)\n",
    "\n",
    "superkmf = superkmf.density_fit()\n",
    "superkmf.max_cycle = 500\n",
    "superkmf.conv_tol = 1e-8 \n",
    "superkmf.conv_tol_grad = 1e-8\n",
    "\n",
    "e2 = superkmf.kernel()"
   ]
  },
  {
   "cell_type": "code",
   "execution_count": 81,
   "id": "eb539518-2a25-48b4-92a1-8a95ac139538",
   "metadata": {},
   "outputs": [
    {
     "data": {
      "text/plain": [
       "4.000000000366593"
      ]
     },
     "execution_count": 81,
     "metadata": {},
     "output_type": "execute_result"
    }
   ],
   "source": [
    "e2/e1"
   ]
  },
  {
   "cell_type": "code",
   "execution_count": 82,
   "id": "df8f7ed3-aa8a-4fa4-8e0b-0f4dd8ac768b",
   "metadata": {},
   "outputs": [
    {
     "name": "stdout",
     "output_type": "stream",
     "text": [
      "\n",
      "\n",
      "******** <class 'pyscf.pbc.df.rsdf_builder._RSNucBuilder'> ********\n",
      "mesh = [7 7 5] (245 PWs)\n",
      "ke_cutoff = 12.436968235142707\n",
      "omega = 0.45761683343257953\n",
      "exclude_d_aux = False\n",
      "exclude_dd_block = True\n",
      "j2c_eig_always = False\n",
      "has_long_range = True\n",
      "\n",
      "\n",
      "******** <class 'pyscf.pbc.df.rsdf_builder._RSNucBuilder'> ********\n",
      "mesh = [13 13  5] (845 PWs)\n",
      "ke_cutoff = 12.436968235142707\n",
      "omega = 0.45761683343257953\n",
      "exclude_d_aux = False\n",
      "exclude_dd_block = True\n",
      "j2c_eig_always = False\n",
      "has_long_range = True\n"
     ]
    }
   ],
   "source": [
    "fock = kmf.get_fock()\n",
    "over = kmf.get_ovlp()\n",
    "sfock = superkmf.get_fock()\n",
    "sover = superkmf.get_ovlp()"
   ]
  },
  {
   "cell_type": "markdown",
   "id": "41ca7048-6297-4011-ab76-de57e0028570",
   "metadata": {},
   "source": [
    "Very important: $\\frac{123.5199}{30.34544157907528} \\simeq \\frac{8}{2}$"
   ]
  },
  {
   "cell_type": "code",
   "execution_count": 83,
   "id": "733221f2-135d-4b50-8347-36cfcc55553d",
   "metadata": {},
   "outputs": [
    {
     "name": "stdout",
     "output_type": "stream",
     "text": [
      "   -0.926783    -2.275759     0.000000     0.000000     0.000000 \n",
      "   -2.275759    -2.075280     0.000000     0.000000    -0.000000 \n",
      "    0.000000     0.000000     2.315694    -0.000000     0.000000 \n",
      "    0.000000     0.000000    -0.000000     2.315694    -0.000000 \n",
      "    0.000000    -0.000000     0.000000    -0.000000     0.687524 \n"
     ]
    }
   ],
   "source": [
    "print_matrix(fock[0][:5,:5].real)"
   ]
  },
  {
   "cell_type": "code",
   "execution_count": 84,
   "id": "49921450-67a7-4ffb-aaf4-398a8400d8b3",
   "metadata": {},
   "outputs": [
    {
     "name": "stdout",
     "output_type": "stream",
     "text": [
      "   -0.879621    -1.803890    -0.000000    -0.000000     0.000000 \n",
      "   -1.803890    -1.159514     0.000000     0.000000     0.000000 \n",
      "   -0.000000     0.000000     2.192807     0.000000     0.000000 \n",
      "   -0.000000     0.000000     0.000000     2.192807    -0.000000 \n",
      "    0.000000     0.000000     0.000000    -0.000000     0.687724 \n"
     ]
    }
   ],
   "source": [
    "print_matrix(sfock[0][:5,:5].real)"
   ]
  },
  {
   "cell_type": "code",
   "execution_count": 85,
   "id": "0b2fb62c-e216-4fb1-bb9d-ba2f41fe577a",
   "metadata": {},
   "outputs": [
    {
     "name": "stdout",
     "output_type": "stream",
     "text": [
      "    1.152868     1.355004    -0.000000    -0.000000    -0.000000 \n",
      "    1.355004     3.733936    -0.000000    -0.000000    -0.000000 \n",
      "    0.000000     0.000000     1.310968    -0.000000     0.000000 \n",
      "   -0.000000     0.000000    -0.000000     1.310968    -0.000000 \n",
      "    0.000000     0.000000     0.000000    -0.000000     0.116970 \n"
     ]
    }
   ],
   "source": [
    "print_matrix(over[0][:5,:5].real)"
   ]
  },
  {
   "cell_type": "code",
   "execution_count": 86,
   "id": "3b76e5af-6fe0-4b77-8770-692fe4df072e",
   "metadata": {},
   "outputs": [
    {
     "name": "stdout",
     "output_type": "stream",
     "text": [
      "    1.152430     1.202417     0.000000    -0.000000    -0.000000 \n",
      "    1.202417     2.433568     0.000000     0.000000    -0.000000 \n",
      "    0.000000     0.000000     1.336998     0.000000    -0.000000 \n",
      "   -0.000000    -0.000000     0.000000     1.336998    -0.000000 \n",
      "    0.000000     0.000000    -0.000000    -0.000000     0.116601 \n"
     ]
    }
   ],
   "source": [
    "print_matrix(sover[0][:5,:5].real)"
   ]
  },
  {
   "cell_type": "code",
   "execution_count": 89,
   "id": "9d1e1eb8-8ca1-4c07-8fe8-8ba39d6ada4b",
   "metadata": {},
   "outputs": [],
   "source": [
    "from ase.visualize import view \n",
    "from ase.io import read\n",
    "fr = read('examples/data/periodic/c2/C2_174.extxyz', ':')\n",
    "fr2 = read('examples/data/periodic/c4/C4_174.extxyz', ':')\n"
   ]
  },
  {
   "cell_type": "code",
   "execution_count": 92,
   "id": "5fbae97d-6eef-4f2a-a674-21d7a0229cfe",
   "metadata": {},
   "outputs": [
    {
     "name": "stdout",
     "output_type": "stream",
     "text": [
      "[[-0.08351854 -0.00307582  1.62727708]\n",
      " [-0.05879422  1.33906047  1.60493484]]\n",
      "\n",
      "Cell([[2.321189, 0.0, 0.0], [-1.155982, 1.986034, 0.0], [-0.37381, -0.001243, 106.457295]])\n"
     ]
    }
   ],
   "source": [
    "print(fr[0].positions)\n",
    "print()\n",
    "print(fr[0].cell)"
   ]
  },
  {
   "cell_type": "code",
   "execution_count": 93,
   "id": "718b45eb-c429-4f20-be31-4ea822f0a0b8",
   "metadata": {},
   "outputs": [
    {
     "name": "stdout",
     "output_type": "stream",
     "text": [
      "[[-0.0785514  -0.00445846  1.63375397]\n",
      " [-0.04356392  1.33671894  1.60259347]\n",
      " [ 2.25346259  0.00459853  1.62258234]\n",
      " [ 2.26782038  1.33442629  1.60027754]]\n",
      "\n",
      "Cell([[4.642378, 0.0, 0.0], [-1.155982, 1.986034, 0.0], [-0.37381, -0.001243, 106.457295]])\n"
     ]
    }
   ],
   "source": [
    "print(fr2[0].positions)\n",
    "print()\n",
    "print(fr2[0].cell)"
   ]
  },
  {
   "cell_type": "code",
   "execution_count": 94,
   "id": "7c5d9ac2-4a72-4d29-a7e1-87d31e61dcbc",
   "metadata": {},
   "outputs": [
    {
     "data": {
      "text/plain": [
       "<Popen: returncode: None args: ['/home/pegolo/micromamba/envs/sci/bin/python...>"
      ]
     },
     "execution_count": 94,
     "metadata": {},
     "output_type": "execute_result"
    }
   ],
   "source": [
    "view(fr[0])"
   ]
  },
  {
   "cell_type": "code",
   "execution_count": null,
   "id": "65057fa0-9567-4e13-97b2-1a38f09d3583",
   "metadata": {},
   "outputs": [],
   "source": []
  }
 ],
 "metadata": {
  "kernelspec": {
   "display_name": "Python 3 (ipykernel)",
   "language": "python",
   "name": "python3"
  },
  "language_info": {
   "codemirror_mode": {
    "name": "ipython",
    "version": 3
   },
   "file_extension": ".py",
   "mimetype": "text/x-python",
   "name": "python",
   "nbconvert_exporter": "python",
   "pygments_lexer": "ipython3",
   "version": "3.11.7"
  }
 },
 "nbformat": 4,
 "nbformat_minor": 5
}
