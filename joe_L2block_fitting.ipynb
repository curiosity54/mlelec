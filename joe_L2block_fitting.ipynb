{
 "cells": [
  {
   "cell_type": "code",
   "execution_count": 1,
   "metadata": {},
   "outputs": [],
   "source": [
    "import numpy as np\n",
    "import matplotlib.pyplot as plt\n",
    "from sklearn import linear_model\n",
    "import torch"
   ]
  },
  {
   "cell_type": "markdown",
   "metadata": {},
   "source": [
    "## Linalg"
   ]
  },
  {
   "cell_type": "code",
   "execution_count": 6,
   "metadata": {},
   "outputs": [],
   "source": [
    "components_to_samples = True  # True for equivariant, False breaks equivariance\n",
    "model_type = \"linear\"\n",
    "# model_type = \"ridge\"\n",
    "alpha = 1e-05"
   ]
  },
  {
   "cell_type": "code",
   "execution_count": 41,
   "metadata": {},
   "outputs": [
    {
     "name": "stdout",
     "output_type": "stream",
     "text": [
      "Before reshaping: x =  (40, 5, 81600) y =  (40, 5, 1)\n",
      "After reshaping: x =  (200, 81600) y =  (200, 1)\n",
      "MSE loss: 1.3265963618178713e-31\n"
     ]
    }
   ],
   "source": [
    "# Load\n",
    "x = np.array(torch.load(\"/home/pegolo/Downloads/features_block1_L2.pt\"), dtype=np.float64)\n",
    "y = np.array(torch.load(\"/home/pegolo/Downloads/target_block1_L2.pt\"), dtype=np.float64)\n",
    "\n",
    "print(\"Before reshaping: x = \", x.shape, \"y = \", y.shape)\n",
    "\n",
    "# Reshape\n",
    "if components_to_samples:  # equivariant\n",
    "    x = x.reshape(-1, x.shape[2])\n",
    "    y = y.reshape(-1, y.shape[2])\n",
    "\n",
    "else:  # components to properties (non-equivariant)\n",
    "    x = x.reshape(-1, x.shape[1] * x.shape[2])\n",
    "    y = y.reshape(-1, y.shape[1] * y.shape[2])\n",
    "\n",
    "print(\"After reshaping: x = \", x.shape, \"y = \", y.shape)\n",
    "\n",
    "if model_type == \"linear\":\n",
    "    linalg_model = linear_model.LinearRegression(fit_intercept=False)\n",
    "else:\n",
    "    assert model_type == \"ridge\"\n",
    "    linalg_model = linear_model.Ridge(fit_intercept=False, alpha=alpha)\n",
    "\n",
    "# Fit\n",
    "linalg_model.fit(x, y)\n",
    "\n",
    "# Error\n",
    "prediction = x @ linalg_model.coef_.T\n",
    "mse_loss = ((prediction - y) ** 2).mean()\n",
    "print(\"MSE loss:\", mse_loss)"
   ]
  },
  {
   "cell_type": "markdown",
   "metadata": {},
   "source": [
    "## GD"
   ]
  },
  {
   "cell_type": "code",
   "execution_count": 110,
   "metadata": {},
   "outputs": [],
   "source": [
    "use_linalg_weights = False  # Use the weights determined by Linear Algebra\n",
    "use_random_weights = False  # Use the weights determined by Linear Algebra\n",
    "use_random_features = False "
   ]
  },
  {
   "cell_type": "code",
   "execution_count": 120,
   "metadata": {},
   "outputs": [],
   "source": [
    "import ase"
   ]
  },
  {
   "cell_type": "code",
   "execution_count": 123,
   "metadata": {},
   "outputs": [],
   "source": [
    "ase.Atoms('H').calc = None"
   ]
  },
  {
   "cell_type": "code",
   "execution_count": 111,
   "metadata": {},
   "outputs": [],
   "source": [
    "# Set up\n",
    "torch.set_default_dtype(torch.float64)\n",
    "x = torch.load(\"/home/pegolo/Downloads/features_block1_L2.pt\").to(dtype=torch.float64)\n",
    "x = torch.nn.functional.normalize(x, p=1, dim=-1)\n",
    "if use_random_features:\n",
    "    x = torch.nn.functional.normalize(torch.randn_like(x), p=1, dim=-1)\n",
    "y = torch.load(\"/home/pegolo/Downloads/target_block1_L2.pt\").to(dtype=torch.float64)\n",
    "\n",
    "model = torch.nn.Sequential(\n",
    "    torch.nn.Linear(in_features=x.shape[-1], out_features=y.shape[-1], bias=False),\n",
    ")\n",
    "\n",
    "loss_fn = torch.nn.MSELoss()\n",
    "\n",
    "if use_linalg_weights:\n",
    "    # With a low LR we can stay in the minimum\n",
    "    model[0].weight = torch.nn.Parameter(torch.tensor(linalg_model.coef_).to(dtype=torch.float64))\n",
    "    optimizer = torch.optim.Adam(model.parameters(), lr=1e-10)\n",
    "    scheduler = None\n",
    "elif use_random_weights:\n",
    "    model[0].weight = torch.nn.Parameter(rweights)\n",
    "    optimizer = torch.optim.Adam(model.parameters(), lr=1e-10)\n",
    "    scheduler = None\n",
    "else:\n",
    "    optimizer = torch.optim.Adam(model.parameters(), lr=1e-2)\n",
    "    scheduler = torch.optim.lr_scheduler.MultiStepLR(\n",
    "        optimizer, milestones=[5000, 7500, 10000, 15000], gamma=1e-1)"
   ]
  },
  {
   "cell_type": "code",
   "execution_count": 112,
   "metadata": {},
   "outputs": [
    {
     "name": "stdout",
     "output_type": "stream",
     "text": [
      "Epoch: 0 Loss: 0.02510843956722407 LR: 0.01\n",
      "Epoch: 500 Loss: 0.0006991864824409394 LR: 0.01\n",
      "Epoch: 1000 Loss: 0.0004072535967008755 LR: 0.01\n",
      "Epoch: 1500 Loss: 0.00022660233723310752 LR: 0.01\n",
      "Epoch: 2000 Loss: 0.00012150509234688845 LR: 0.01\n",
      "Epoch: 2500 Loss: 6.390612327871976e-05 LR: 0.01\n",
      "Epoch: 3000 Loss: 3.4174797908955896e-05 LR: 0.01\n",
      "Epoch: 3500 Loss: 1.953584658251302e-05 LR: 0.01\n",
      "Epoch: 4000 Loss: 1.237065417738604e-05 LR: 0.01\n",
      "Epoch: 4500 Loss: 8.650689928680232e-06 LR: 0.01\n",
      "Epoch: 5000 Loss: 6.510721998170166e-06 LR: 0.001\n",
      "Epoch: 5500 Loss: 6.34149376282227e-06 LR: 0.001\n",
      "Epoch: 6000 Loss: 6.166056689465468e-06 LR: 0.001\n",
      "Epoch: 6500 Loss: 5.986542213857392e-06 LR: 0.001\n",
      "Epoch: 7000 Loss: 5.805202018549908e-06 LR: 0.001\n"
     ]
    },
    {
     "ename": "KeyboardInterrupt",
     "evalue": "",
     "output_type": "error",
     "traceback": [
      "\u001b[0;31m---------------------------------------------------------------------------\u001b[0m",
      "\u001b[0;31mKeyboardInterrupt\u001b[0m                         Traceback (most recent call last)",
      "Cell \u001b[0;32mIn[112], line 7\u001b[0m\n\u001b[1;32m      5\u001b[0m prediction \u001b[38;5;241m=\u001b[39m model(x)\n\u001b[1;32m      6\u001b[0m loss \u001b[38;5;241m=\u001b[39m loss_fn(prediction, y)\n\u001b[0;32m----> 7\u001b[0m \u001b[43mloss\u001b[49m\u001b[38;5;241;43m.\u001b[39;49m\u001b[43mbackward\u001b[49m\u001b[43m(\u001b[49m\u001b[43m)\u001b[49m\n\u001b[1;32m      8\u001b[0m optimizer\u001b[38;5;241m.\u001b[39mstep()\n\u001b[1;32m      9\u001b[0m \u001b[38;5;28;01mif\u001b[39;00m scheduler \u001b[38;5;129;01mis\u001b[39;00m \u001b[38;5;129;01mnot\u001b[39;00m \u001b[38;5;28;01mNone\u001b[39;00m:\n",
      "File \u001b[0;32m~/micromamba/envs/sci/lib/python3.11/site-packages/torch/_tensor.py:492\u001b[0m, in \u001b[0;36mTensor.backward\u001b[0;34m(self, gradient, retain_graph, create_graph, inputs)\u001b[0m\n\u001b[1;32m    482\u001b[0m \u001b[38;5;28;01mif\u001b[39;00m has_torch_function_unary(\u001b[38;5;28mself\u001b[39m):\n\u001b[1;32m    483\u001b[0m     \u001b[38;5;28;01mreturn\u001b[39;00m handle_torch_function(\n\u001b[1;32m    484\u001b[0m         Tensor\u001b[38;5;241m.\u001b[39mbackward,\n\u001b[1;32m    485\u001b[0m         (\u001b[38;5;28mself\u001b[39m,),\n\u001b[0;32m   (...)\u001b[0m\n\u001b[1;32m    490\u001b[0m         inputs\u001b[38;5;241m=\u001b[39minputs,\n\u001b[1;32m    491\u001b[0m     )\n\u001b[0;32m--> 492\u001b[0m \u001b[43mtorch\u001b[49m\u001b[38;5;241;43m.\u001b[39;49m\u001b[43mautograd\u001b[49m\u001b[38;5;241;43m.\u001b[39;49m\u001b[43mbackward\u001b[49m\u001b[43m(\u001b[49m\n\u001b[1;32m    493\u001b[0m \u001b[43m    \u001b[49m\u001b[38;5;28;43mself\u001b[39;49m\u001b[43m,\u001b[49m\u001b[43m \u001b[49m\u001b[43mgradient\u001b[49m\u001b[43m,\u001b[49m\u001b[43m \u001b[49m\u001b[43mretain_graph\u001b[49m\u001b[43m,\u001b[49m\u001b[43m \u001b[49m\u001b[43mcreate_graph\u001b[49m\u001b[43m,\u001b[49m\u001b[43m \u001b[49m\u001b[43minputs\u001b[49m\u001b[38;5;241;43m=\u001b[39;49m\u001b[43minputs\u001b[49m\n\u001b[1;32m    494\u001b[0m \u001b[43m\u001b[49m\u001b[43m)\u001b[49m\n",
      "File \u001b[0;32m~/micromamba/envs/sci/lib/python3.11/site-packages/torch/autograd/__init__.py:251\u001b[0m, in \u001b[0;36mbackward\u001b[0;34m(tensors, grad_tensors, retain_graph, create_graph, grad_variables, inputs)\u001b[0m\n\u001b[1;32m    246\u001b[0m     retain_graph \u001b[38;5;241m=\u001b[39m create_graph\n\u001b[1;32m    248\u001b[0m \u001b[38;5;66;03m# The reason we repeat the same comment below is that\u001b[39;00m\n\u001b[1;32m    249\u001b[0m \u001b[38;5;66;03m# some Python versions print out the first line of a multi-line function\u001b[39;00m\n\u001b[1;32m    250\u001b[0m \u001b[38;5;66;03m# calls in the traceback and some print out the last line\u001b[39;00m\n\u001b[0;32m--> 251\u001b[0m \u001b[43mVariable\u001b[49m\u001b[38;5;241;43m.\u001b[39;49m\u001b[43m_execution_engine\u001b[49m\u001b[38;5;241;43m.\u001b[39;49m\u001b[43mrun_backward\u001b[49m\u001b[43m(\u001b[49m\u001b[43m  \u001b[49m\u001b[38;5;66;43;03m# Calls into the C++ engine to run the backward pass\u001b[39;49;00m\n\u001b[1;32m    252\u001b[0m \u001b[43m    \u001b[49m\u001b[43mtensors\u001b[49m\u001b[43m,\u001b[49m\n\u001b[1;32m    253\u001b[0m \u001b[43m    \u001b[49m\u001b[43mgrad_tensors_\u001b[49m\u001b[43m,\u001b[49m\n\u001b[1;32m    254\u001b[0m \u001b[43m    \u001b[49m\u001b[43mretain_graph\u001b[49m\u001b[43m,\u001b[49m\n\u001b[1;32m    255\u001b[0m \u001b[43m    \u001b[49m\u001b[43mcreate_graph\u001b[49m\u001b[43m,\u001b[49m\n\u001b[1;32m    256\u001b[0m \u001b[43m    \u001b[49m\u001b[43minputs\u001b[49m\u001b[43m,\u001b[49m\n\u001b[1;32m    257\u001b[0m \u001b[43m    \u001b[49m\u001b[43mallow_unreachable\u001b[49m\u001b[38;5;241;43m=\u001b[39;49m\u001b[38;5;28;43;01mTrue\u001b[39;49;00m\u001b[43m,\u001b[49m\n\u001b[1;32m    258\u001b[0m \u001b[43m    \u001b[49m\u001b[43maccumulate_grad\u001b[49m\u001b[38;5;241;43m=\u001b[39;49m\u001b[38;5;28;43;01mTrue\u001b[39;49;00m\u001b[43m,\u001b[49m\n\u001b[1;32m    259\u001b[0m \u001b[43m\u001b[49m\u001b[43m)\u001b[49m\n",
      "\u001b[0;31mKeyboardInterrupt\u001b[0m: "
     ]
    }
   ],
   "source": [
    "# Train\n",
    "epochs = 20000\n",
    "for epoch in range(epochs + 1):\n",
    "    optimizer.zero_grad()\n",
    "    prediction = model(x)\n",
    "    loss = loss_fn(prediction, y)\n",
    "    loss.backward()\n",
    "    optimizer.step()\n",
    "    if scheduler is not None:\n",
    "        scheduler.step()\n",
    "\n",
    "    if epoch % 500 == 0:\n",
    "        print(\"Epoch:\", epoch, \"Loss:\", loss.item(), \"LR:\", optimizer.param_groups[0]['lr'])"
   ]
  },
  {
   "cell_type": "code",
   "execution_count": 63,
   "metadata": {},
   "outputs": [],
   "source": [
    "for p in model.parameters():\n",
    "    wdweights = p.data"
   ]
  },
  {
   "cell_type": "code",
   "execution_count": 40,
   "metadata": {},
   "outputs": [
    {
     "data": {
      "text/plain": [
       "(array([3.0000e+00, 1.0000e+00, 4.0000e+00, 5.0000e+00, 8.0000e+00,\n",
       "        8.0000e+00, 5.0000e+00, 2.0000e+01, 1.9000e+01, 2.0000e+01,\n",
       "        2.4000e+01, 3.7000e+01, 5.0000e+01, 5.6000e+01, 6.6000e+01,\n",
       "        6.9000e+01, 1.0800e+02, 1.4400e+02, 2.1200e+02, 2.9900e+02,\n",
       "        6.9300e+02, 2.3830e+03, 5.7986e+04, 1.6301e+04, 1.5040e+03,\n",
       "        5.9900e+02, 2.4400e+02, 1.5500e+02, 1.0100e+02, 7.7000e+01,\n",
       "        6.6000e+01, 6.5000e+01, 6.1000e+01, 3.8000e+01, 4.1000e+01,\n",
       "        3.5000e+01, 1.7000e+01, 1.2000e+01, 1.4000e+01, 1.1000e+01,\n",
       "        1.7000e+01, 5.0000e+00, 5.0000e+00, 3.0000e+00, 3.0000e+00,\n",
       "        1.0000e+00, 1.0000e+00, 2.0000e+00, 1.0000e+00, 1.0000e+00]),\n",
       " array([-0.58326493, -0.5577406 , -0.53221628, -0.50669195, -0.48116763,\n",
       "        -0.4556433 , -0.43011898, -0.40459465, -0.37907033, -0.353546  ,\n",
       "        -0.32802168, -0.30249735, -0.27697302, -0.2514487 , -0.22592437,\n",
       "        -0.20040005, -0.17487572, -0.1493514 , -0.12382707, -0.09830275,\n",
       "        -0.07277842, -0.0472541 , -0.02172977,  0.00379455,  0.02931888,\n",
       "         0.0548432 ,  0.08036753,  0.10589185,  0.13141618,  0.15694051,\n",
       "         0.18246483,  0.20798916,  0.23351348,  0.25903781,  0.28456213,\n",
       "         0.31008646,  0.33561078,  0.36113511,  0.38665943,  0.41218376,\n",
       "         0.43770808,  0.46323241,  0.48875673,  0.51428106,  0.53980539,\n",
       "         0.56532971,  0.59085404,  0.61637836,  0.64190269,  0.66742701,\n",
       "         0.69295134]),\n",
       " <BarContainer object of 50 artists>)"
      ]
     },
     "execution_count": 40,
     "metadata": {},
     "output_type": "execute_result"
    },
    {
     "data": {
      "image/png": "[encoded data removed]",
      "text/plain": [
       "<Figure size 640x480 with 1 Axes>"
      ]
     },
     "metadata": {},
     "output_type": "display_data"
    }
   ],
   "source": [
    "plt.hist(weights.flatten(), bins = 50)"
   ]
  },
  {
   "cell_type": "code",
   "execution_count": 21,
   "metadata": {},
   "outputs": [
    {
     "data": {
      "text/plain": [
       "(array([4.000e+00, 5.000e+00, 9.000e+00, 8.000e+00, 1.300e+01, 7.700e+01,\n",
       "        2.340e+02, 6.070e+02, 3.161e+03, 4.966e+03, 5.114e+03, 4.951e+03,\n",
       "        5.060e+03, 4.986e+03, 4.972e+03, 4.413e+03, 2.162e+03, 2.020e+02,\n",
       "        8.000e+00, 5.000e+00, 0.000e+00, 1.000e+00, 1.000e+00, 2.000e+00,\n",
       "        4.000e+00, 1.000e+00, 5.000e+00, 2.000e+00, 6.000e+00, 6.800e+01,\n",
       "        1.163e+03, 4.148e+03, 4.762e+03, 4.879e+03, 5.118e+03, 5.103e+03,\n",
       "        4.991e+03, 4.969e+03, 3.983e+03, 9.620e+02, 3.130e+02, 1.200e+02,\n",
       "        1.400e+01, 1.200e+01, 5.000e+00, 4.000e+00, 4.000e+00, 0.000e+00,\n",
       "        1.000e+00, 2.000e+00]),\n",
       " array([-0.0204848 , -0.01961862, -0.01875244, -0.01788626, -0.01702008,\n",
       "        -0.0161539 , -0.01528771, -0.01442153, -0.01355535, -0.01268917,\n",
       "        -0.01182299, -0.01095681, -0.01009063, -0.00922445, -0.00835827,\n",
       "        -0.00749209, -0.00662591, -0.00575973, -0.00489355, -0.00402737,\n",
       "        -0.00316118, -0.002295  , -0.00142882, -0.00056264,  0.00030354,\n",
       "         0.00116972,  0.0020359 ,  0.00290208,  0.00376826,  0.00463444,\n",
       "         0.00550062,  0.0063668 ,  0.00723298,  0.00809916,  0.00896534,\n",
       "         0.00983153,  0.01069771,  0.01156389,  0.01243007,  0.01329625,\n",
       "         0.01416243,  0.01502861,  0.01589479,  0.01676097,  0.01762715,\n",
       "         0.01849333,  0.01935951,  0.02022569,  0.02109187,  0.02195806,\n",
       "         0.02282424]),\n",
       " <BarContainer object of 50 artists>)"
      ]
     },
     "execution_count": 21,
     "metadata": {},
     "output_type": "execute_result"
    },
    {
     "data": {
      "image/png": "[encoded data removed]",
      "text/plain": [
       "<Figure size 640x480 with 1 Axes>"
      ]
     },
     "metadata": {},
     "output_type": "display_data"
    }
   ],
   "source": [
    "plt.hist(weights.flatten(), bins = 50)"
   ]
  },
  {
   "cell_type": "code",
   "execution_count": 27,
   "metadata": {},
   "outputs": [
    {
     "data": {
      "text/plain": [
       "tensor(25.6159)"
      ]
     },
     "execution_count": 27,
     "metadata": {},
     "output_type": "execute_result"
    }
   ],
   "source": [
    "x.norm()"
   ]
  },
  {
   "cell_type": "code",
   "execution_count": 114,
   "metadata": {},
   "outputs": [
    {
     "name": "stdout",
     "output_type": "stream",
     "text": [
      "tensor(25.6159) tensor(-0.0003) tensor(4.0138e-05)\n",
      "tensor(0.2510) tensor(-1.8788e-06) tensor(3.8582e-09)\n",
      "tensor(4039.7818) tensor(6.9661e-20) tensor(1.0000)\n"
     ]
    }
   ],
   "source": [
    "x = torch.load(\"/home/pegolo/Downloads/features_block1_L2.pt\").to(dtype=torch.float64)\n",
    "xn = torch.nn.functional.normalize(torch.load(\"/home/pegolo/Downloads/features_block1_L2.pt\").to(dtype=torch.float64), p=1, dim=-1)\n",
    "# r = torch.nn.functional.normalize(torch.randn_like(x), p=1, dim=-1)\n",
    "r = torch.nn.functional.layer_norm(torch.randn_like(x), normalized_shape=x.shape)\n",
    "\n",
    "print(x.norm(), x.mean(), x.var())\n",
    "print(xn.norm(), xn.mean(), xn.var())\n",
    "print(r.norm(), r.mean(), r.var())\n"
   ]
  },
  {
   "cell_type": "code",
   "execution_count": null,
   "metadata": {},
   "outputs": [],
   "source": []
  },
  {
   "cell_type": "code",
   "execution_count": 119,
   "metadata": {},
   "outputs": [
    {
     "data": {
      "text/plain": [
       "<matplotlib.legend.Legend at 0x7f08559c4990>"
      ]
     },
     "execution_count": 119,
     "metadata": {},
     "output_type": "execute_result"
    },
    {
     "data": {
      "image/png": "[encoded data removed]",
      "text/plain": [
       "<Figure size 640x480 with 1 Axes>"
      ]
     },
     "metadata": {},
     "output_type": "display_data"
    }
   ],
   "source": [
    "# plt.hist(x.flatten()[::100], bins=50, density = True, alpha = 0.5,label='x');\n",
    "# plt.hist(xn.flatten()[::100], bins=50, density = True, alpha = 0.5,label='xn');\n",
    "plt.hist(r.flatten()[::100], bins=50, density = True, alpha = 0.5, label='r');\n",
    "plt.legend()"
   ]
  },
  {
   "cell_type": "code",
   "execution_count": 64,
   "metadata": {},
   "outputs": [
    {
     "data": {
      "text/plain": [
       "(-0.1, 0.1)"
      ]
     },
     "execution_count": 64,
     "metadata": {},
     "output_type": "execute_result"
    },
    {
     "data": {
      "image/png": "[encoded data removed]",
      "text/plain": [
       "<Figure size 640x480 with 1 Axes>"
      ]
     },
     "metadata": {},
     "output_type": "display_data"
    }
   ],
   "source": [
    "plt.hist(linalg_model.coef_.T.flatten(), bins = 50, label = 'linalg', alpha = 0.5, density = True)\n",
    "plt.hist(weights.flatten(), bins = 50, label = 'GD (features)', alpha = 0.5, density = True)\n",
    "plt.hist(rweights.flatten(), bins = 50, label = 'GD (random)', alpha = 0.5, density = True)\n",
    "plt.hist(wdweights.flatten(), bins = 50, label = 'GD (wd)', alpha = 0.5, density = True)\n",
    "plt.legend()\n",
    "plt.xlim(-0.1,0.1)"
   ]
  },
  {
   "cell_type": "code",
   "execution_count": 43,
   "metadata": {},
   "outputs": [
    {
     "data": {
      "text/plain": [
       "torch.Size([81600])"
      ]
     },
     "execution_count": 43,
     "metadata": {},
     "output_type": "execute_result"
    }
   ],
   "source": [
    "weights.flatten().shape"
   ]
  },
  {
   "cell_type": "code",
   "execution_count": 125,
   "metadata": {},
   "outputs": [
    {
     "data": {
      "text/plain": [
       "\u001b[0;31mSignature:\u001b[0m \u001b[0mtorch\u001b[0m\u001b[0;34m.\u001b[0m\u001b[0mnn\u001b[0m\u001b[0;34m.\u001b[0m\u001b[0minit\u001b[0m\u001b[0;34m.\u001b[0m\u001b[0mxavier_normal_\u001b[0m\u001b[0;34m(\u001b[0m\u001b[0mtensor\u001b[0m\u001b[0;34m:\u001b[0m \u001b[0mtorch\u001b[0m\u001b[0;34m.\u001b[0m\u001b[0mTensor\u001b[0m\u001b[0;34m,\u001b[0m \u001b[0mgain\u001b[0m\u001b[0;34m:\u001b[0m \u001b[0mfloat\u001b[0m \u001b[0;34m=\u001b[0m \u001b[0;36m1.0\u001b[0m\u001b[0;34m)\u001b[0m \u001b[0;34m->\u001b[0m \u001b[0mtorch\u001b[0m\u001b[0;34m.\u001b[0m\u001b[0mTensor\u001b[0m\u001b[0;34m\u001b[0m\u001b[0;34m\u001b[0m\u001b[0m\n",
       "\u001b[0;31mDocstring:\u001b[0m\n",
       "Fills the input `Tensor` with values according to the method\n",
       "described in `Understanding the difficulty of training deep feedforward\n",
       "neural networks` - Glorot, X. & Bengio, Y. (2010), using a normal\n",
       "distribution. The resulting tensor will have values sampled from\n",
       ":math:`\\mathcal{N}(0, \\text{std}^2)` where\n",
       "\n",
       ".. math::\n",
       "    \\text{std} = \\text{gain} \\times \\sqrt{\\frac{2}{\\text{fan\\_in} + \\text{fan\\_out}}}\n",
       "\n",
       "Also known as Glorot initialization.\n",
       "\n",
       "Args:\n",
       "    tensor: an n-dimensional `torch.Tensor`\n",
       "    gain: an optional scaling factor\n",
       "\n",
       "Examples:\n",
       "    >>> w = torch.empty(3, 5)\n",
       "    >>> nn.init.xavier_normal_(w)\n",
       "\u001b[0;31mFile:\u001b[0m      ~/micromamba/envs/sci/lib/python3.11/site-packages/torch/nn/init.py\n",
       "\u001b[0;31mType:\u001b[0m      function"
      ]
     },
     "metadata": {},
     "output_type": "display_data"
    }
   ],
   "source": [
    "torch.nn.init.xavier_normal_?"
   ]
  },
  {
   "cell_type": "code",
   "execution_count": null,
   "metadata": {},
   "outputs": [],
   "source": []
  }
 ],
 "metadata": {
  "kernelspec": {
   "display_name": "Python 3 (ipykernel)",
   "language": "python",
   "name": "python3"
  },
  "language_info": {
   "codemirror_mode": {
    "name": "ipython",
    "version": 3
   },
   "file_extension": ".py",
   "mimetype": "text/x-python",
   "name": "python",
   "nbconvert_exporter": "python",
   "pygments_lexer": "ipython3",
   "version": "3.11.7"
  }
 },
 "nbformat": 4,
 "nbformat_minor": 4
}
