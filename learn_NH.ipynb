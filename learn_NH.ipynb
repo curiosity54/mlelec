{
 "cells": [
  {
   "cell_type": "code",
   "execution_count": 2,
   "metadata": {},
   "outputs": [],
   "source": [
    "%load_ext autoreload\n",
    "%autoreload 2"
   ]
  },
  {
   "cell_type": "code",
   "execution_count": 3,
   "metadata": {},
   "outputs": [
    {
     "name": "stderr",
     "output_type": "stream",
     "text": [
      "/home/nigam/miniconda3/lib/python3.11/site-packages/pyscf/dft/libxc.py:772: UserWarning: Since PySCF-2.3, B3LYP (and B3P86) are changed to the VWN-RPA variant, the same to the B3LYP functional in Gaussian and ORCA (issue 1480). To restore the VWN5 definition, you can put the setting \"B3LYP_WITH_VWN5 = True\" in pyscf_conf.py\n",
      "  warnings.warn('Since PySCF-2.3, B3LYP (and B3P86) are changed to the VWN-RPA variant, '\n"
     ]
    }
   ],
   "source": [
    "import numpy as np\n",
    "import ase \n",
    "from ase.units import Bohr \n",
    "import torch\n",
    "import metatensor\n",
    "from metatensor import TensorMap, TensorBlock, Labels\n",
    "import matplotlib.pyplot as plt\n",
    "from ase.io import read \n",
    "import hickle\n",
    "from mlelec.utils.metatensor_utils import labels_where\n",
    "\n",
    "from mlelec.data.dataset import PeriodicDataset"
   ]
  },
  {
   "cell_type": "code",
   "execution_count": 4,
   "metadata": {},
   "outputs": [],
   "source": [
    "filename = \"C2_rotated\"\n",
    "frames = read('examples/data/periodic/c2/C2_rotated.xyz', ':') # will be automated from filename  \n",
    "for f in frames:\n",
    "    f.pbc = [True, True, True]\n",
    "kfock = np.load('examples/data/periodic/c2/results_{}/kfocks.npy'.format(filename))\n",
    "rotated_dataset = PeriodicDataset(frames = frames, kgrid=[4,4,1], matrices_kpoint = kfock, target=[\"real_translation\"] ,device = \"cpu\")#, desired_shifts=desired_shifts)"
   ]
  },
  {
   "cell_type": "code",
   "execution_count": 5,
   "metadata": {},
   "outputs": [
    {
     "data": {
      "text/plain": [
       "[[1, 1, 0],\n",
       " [1, -2, 0],\n",
       " [1, -1, 0],\n",
       " [1, 0, 0],\n",
       " [-2, 1, 0],\n",
       " [-2, -2, 0],\n",
       " [-2, -1, 0],\n",
       " [-2, 0, 0],\n",
       " [-1, -2, 0],\n",
       " [0, 1, 0],\n",
       " [0, -2, 0],\n",
       " [0, 0, 0]]"
      ]
     },
     "execution_count": 5,
     "metadata": {},
     "output_type": "execute_result"
    }
   ],
   "source": [
    "rotated_dataset.desired_shifts"
   ]
  },
  {
   "cell_type": "code",
   "execution_count": 6,
   "metadata": {},
   "outputs": [],
   "source": [
    "## This should happen in the ML Dataset class #TODO\n",
    "## Fix orbital order \n",
    "from mlelec.utils.twocenter_utils import fix_orbital_order\n",
    "orbs = {6: [[1,0,0],[2,0,0],[2,1,1], [2,1,-1],[2,1,0]]}\n",
    "for T in rotated_dataset.matrices_translation.keys():\n",
    "    rotated_dataset.matrices_translation[T] = fix_orbital_order(rotated_dataset.matrices_translation[T], frames, orbs)\n"
   ]
  },
  {
   "cell_type": "code",
   "execution_count": 14,
   "metadata": {},
   "outputs": [],
   "source": [
    "withnegative_shifts = list(rotated_dataset.desired_shifts_sup.keys())\n",
    "# withnegative_shifts.remove((0,0,0))\n",
    "desired_shifts = list(rotated_dataset.desired_shifts)\n",
    "desired_shifts.remove([0,0,0]) # for now we remove the zero shift until i have incorporate featuires for zero shift into the feats "
   ]
  },
  {
   "cell_type": "markdown",
   "metadata": {},
   "source": [
    "## Matrix to blocks "
   ]
  },
  {
   "cell_type": "code",
   "execution_count": 7,
   "metadata": {},
   "outputs": [],
   "source": [
    "from mlelec.utils.twocenter_utils import _to_blocks, _to_matrix, _to_coupled_basis, _to_uncoupled_basis, discard_nonhermiticity"
   ]
  },
  {
   "cell_type": "code",
   "execution_count": 8,
   "metadata": {},
   "outputs": [],
   "source": [
    "# Extracting matrices out from the dataset for now \n",
    "matrices = {}\n",
    "for s in rotated_dataset.desired_shifts[:]: # positive translations only \n",
    "    matrices[tuple(s)] = torch.from_numpy(rotated_dataset.matrices_translation[tuple(s)]).to('cuda')\n",
    "    # NORMALIZING the translated matrices for each structure - not sure this is for training - SKIP if not needed\n",
    "    # matrices[tuple(s)] = matrices[tuple(s)]/torch.linalg.norm(matrices[tuple(s)], axis = (1,2) ) [:,None, None]\n"
   ]
  },
  {
   "cell_type": "code",
   "execution_count": 9,
   "metadata": {},
   "outputs": [
    {
     "name": "stderr",
     "output_type": "stream",
     "text": [
      "/media/nigam/b5749eb7-d3f1-4495-adeb-2c318fb7d0de/MAC/my_mlelec/src/mlelec/utils/twocenter_utils.py:162: UserWarning: Matrix is neither hermitian nor antihermitian - attempting to use _toblocks for NH\n",
      "  warnings.warn(\n",
      "/media/nigam/b5749eb7-d3f1-4495-adeb-2c318fb7d0de/MAC/my_mlelec/src/mlelec/utils/metatensor_utils.py:129: DeviceWarning: Values and labels for this block are on different devices: labels are always on CPU, and values are on device 'cuda:0'. If you are using PyTorch and need the labels to also be on cuda:0, you should use `metatensor.torch.TensorBlock`.\n",
      "  block = TensorBlock(\n",
      "/media/nigam/b5749eb7-d3f1-4495-adeb-2c318fb7d0de/MAC/my_mlelec/src/mlelec/utils/metatensor_utils.py:91: DeviceWarning: Blocks values and keys for this TensorMap are on different devices: keys are always on CPU, and blocks values are on device 'cuda:0'. If you are using PyTorch and need the labels to also be on cuda:0, you should use `metatensor.torch.TensorMap`.\n",
      "  return TensorMap(keys, blocks)\n"
     ]
    }
   ],
   "source": [
    "target_blocks = {}\n",
    "target_blocks = {}\n",
    "target_coupled_blocks = {}\n",
    "for s in desired_shifts[:]:\n",
    "    target_blocks[tuple(s)] = _to_blocks(matrices[tuple(s)], frames=frames, orbitals=orbs, NH=True) # matrix -> uncoupled\n",
    "    # Dont forget NH = True\n",
    "    target_coupled_blocks[tuple(s)] = _to_coupled_basis(target_blocks[tuple(s)], orbs, skip_symmetry=True) # uncouple -> coupled\n",
    "    # Dont forget skip_symmetry = True"
   ]
  },
  {
   "cell_type": "code",
   "execution_count": 10,
   "metadata": {},
   "outputs": [
    {
     "name": "stderr",
     "output_type": "stream",
     "text": [
      "/tmp/ipykernel_218761/3725357898.py:11: DeviceWarning: Blocks values and keys for this TensorMap are on different devices: keys are always on CPU, and blocks values are on device 'cuda:0'. If you are using PyTorch and need the labels to also be on cuda:0, you should use `metatensor.torch.TensorMap`.\n",
      "  target = TensorMap(keys=keys, blocks=blocks)\n"
     ]
    }
   ],
   "source": [
    "from collections import defaultdict\n",
    "blocks = []\n",
    "tmap_keys = []\n",
    "for translation in target_coupled_blocks.keys():\n",
    "    for i, (key, block) in enumerate(target_coupled_blocks[translation].items()):\n",
    "        blocks.append(block.copy())\n",
    "        x = list(key)\n",
    "        x.extend(translation)\n",
    "        tmap_keys.append(x)\n",
    "keys = Labels(next(iter(target_coupled_blocks.values())).keys.names+[\"cell_shift_a\", \"cell_shift_b\", \"cell_shift_c\"], values=np.asarray(tmap_keys))\n",
    "target = TensorMap(keys=keys, blocks=blocks)\n",
    "\n",
    "target = target.keys_to_samples('cell_shift_a')\n",
    "target = target.keys_to_samples('cell_shift_b')\n",
    "target = target.keys_to_samples('cell_shift_c')\n"
   ]
  },
  {
   "cell_type": "markdown",
   "metadata": {},
   "source": [
    "## feature"
   ]
  },
  {
   "cell_type": "code",
   "execution_count": 11,
   "metadata": {},
   "outputs": [],
   "source": [
    "from mlelec.utils.metatensor_utils import labels_where\n",
    "from metatensor import Labels\n",
    "from mlelec.features.acdc import twocenter_hermitian_features, single_center_features, pair_features, twocenter_hermitian_features_periodic\n",
    "from mlelec.utils.twocenter_utils import map_targetkeys_to_featkeys\n",
    "from mlelec.features.acdc import twocenter_features_periodic_NH\n",
    "from mlelec.features.acdc_utils import _pca \n",
    "\n"
   ]
  },
  {
   "cell_type": "code",
   "execution_count": 12,
   "metadata": {},
   "outputs": [],
   "source": [
    "hypers = {'cutoff': 4,\n",
    "          'max_radial':8, \n",
    "          'max_angular':4,\n",
    "          'atomic_gaussian_width':0.3,\n",
    "          'center_atom_weight':1,\n",
    "          \"radial_basis\": {\"Gto\": {}},\n",
    "          \"cutoff_function\": {\"ShiftedCosine\": {\"width\": 0.1}},\n",
    "}"
   ]
  },
  {
   "cell_type": "code",
   "execution_count": 13,
   "metadata": {},
   "outputs": [
    {
     "name": "stderr",
     "output_type": "stream",
     "text": [
      "/media/nigam/b5749eb7-d3f1-4495-adeb-2c318fb7d0de/MAC/my_mlelec/src/mlelec/features/acdc.py:132: UserWarning: Using cutoff 7.0 for all pairs feature\n",
      "  warnings.warn(\n",
      "/media/nigam/b5749eb7-d3f1-4495-adeb-2c318fb7d0de/MAC/my_mlelec/src/mlelec/features/acdc_utils.py:614: DeviceWarning: Values and labels for this block are on different devices: labels are always on CPU, and values are on device 'cuda:0'. If you are using PyTorch and need the labels to also be on cuda:0, you should use `metatensor.torch.TensorBlock`.\n",
      "  newblock = TensorBlock(\n",
      "/media/nigam/b5749eb7-d3f1-4495-adeb-2c318fb7d0de/MAC/my_mlelec/src/mlelec/features/acdc_utils.py:624: DeviceWarning: Blocks values and keys for this TensorMap are on different devices: keys are always on CPU, and blocks values are on device 'cuda:0'. If you are using PyTorch and need the labels to also be on cuda:0, you should use `metatensor.torch.TensorMap`.\n",
      "  X = TensorMap(\n"
     ]
    }
   ],
   "source": [
    "# two center features used for all translations except the 0,0,0 translation\n",
    "rhoij = pair_features(frames, hypers, order_nu=[1,1],  all_pairs=True, lcut=2, max_shift=[2,3,1], both_centers=True,)# device = \"cpu\")"
   ]
  },
  {
   "cell_type": "code",
   "execution_count": 15,
   "metadata": {},
   "outputs": [
    {
     "name": "stderr",
     "output_type": "stream",
     "text": [
      "/tmp/ipykernel_218761/1895663004.py:20: DeviceWarning: Values and labels for this block are on different devices: labels are always on CPU, and values are on device 'cuda:0'. If you are using PyTorch and need the labels to also be on cuda:0, you should use `metatensor.torch.TensorBlock`.\n",
      "  blocks.append(TensorBlock(values = b.values[sidx],\n",
      "/tmp/ipykernel_218761/1895663004.py:25: DeviceWarning: Blocks values and keys for this TensorMap are on different devices: keys are always on CPU, and blocks values are on device 'cuda:0'. If you are using PyTorch and need the labels to also be on cuda:0, you should use `metatensor.torch.TensorMap`.\n",
      "  rhoij = TensorMap(keys=rhoij.keys, blocks=blocks)\n"
     ]
    }
   ],
   "source": [
    "blocks = []\n",
    "# normalizing features - SKIP if needed \n",
    "# rhoij_norm = {tuple(t):[] for t in desired_shifts}\n",
    "# for i, (k,b) in enumerate(rhoij.items()):\n",
    "#       for t in desired_shifts[:]:\n",
    "#             tlab, tidx = labels_where(b.samples, selection=Labels(names=[\"cell_shift_a\", \"cell_shift_b\", \"cell_shift_c\"], values=np.array([t]).reshape(1,3)), return_idx=True)\n",
    "#             rhoij_norm[tuple(t)].append(torch.linalg.norm(b.values[tidx])**2)\n",
    "\n",
    "# for t in desired_shifts:\n",
    "#       rhoij_norm[tuple(t)] =torch.sum(torch.tensor(rhoij_norm[tuple(t)])) \n",
    "\n",
    "for i, (k,b) in enumerate(rhoij.items()):\n",
    "      # tlab, tidx = labels_where(b.samples, selection=Labels(names=[\"cell_shift_a\", \"cell_shift_b\", \"cell_shift_c\"], values=np.array([t]).reshape(1,3)), return_idx=True)\n",
    "\n",
    "      # b.values[tidx] = b.values[tidx]/torch.sqrt(rhoij_norm[tuple(t)]+1e-6) # dividing by norm of features, SKIP if needed \n",
    "\n",
    "      slab, sidx = labels_where(b.samples, selection=Labels(names=[\"cell_shift_a\", \"cell_shift_b\", \"cell_shift_c\"], values=np.array(desired_shifts[:]).reshape(-1,3)), return_idx=True) # only retain tranlsations that we want - DONT SKIP \n",
    "\n",
    "\n",
    "      blocks.append(TensorBlock(values = b.values[sidx],\n",
    "                              components = b.components,\n",
    "                        samples = Labels(names = b.samples.names, values=np.asarray(b.samples.values[sidx])),\n",
    "                              properties = b.properties)\n",
    "                        )\n",
    "rhoij = TensorMap(keys=rhoij.keys, blocks=blocks)\n",
    "        \n",
    "# One can PCA the features if desired \n",
    "# rhoij_pca = _pca(rhoij)"
   ]
  },
  {
   "cell_type": "code",
   "execution_count": 16,
   "metadata": {},
   "outputs": [
    {
     "name": "stderr",
     "output_type": "stream",
     "text": [
      "/media/nigam/b5749eb7-d3f1-4495-adeb-2c318fb7d0de/MAC/my_mlelec/src/mlelec/features/acdc.py:344: DeviceWarning: Values and labels for this block are on different devices: labels are always on CPU, and values are on device 'cuda:0'. If you are using PyTorch and need the labels to also be on cuda:0, you should use `metatensor.torch.TensorBlock`.\n",
      "  TensorBlock(\n",
      "/media/nigam/b5749eb7-d3f1-4495-adeb-2c318fb7d0de/MAC/my_mlelec/src/mlelec/features/acdc.py:398: DeviceWarning: Values and labels for this block are on different devices: labels are always on CPU, and values are on device 'cuda:0'. If you are using PyTorch and need the labels to also be on cuda:0, you should use `metatensor.torch.TensorBlock`.\n",
      "  TensorBlock(\n",
      "/media/nigam/b5749eb7-d3f1-4495-adeb-2c318fb7d0de/MAC/my_mlelec/src/mlelec/features/acdc.py:409: DeviceWarning: Values and labels for this block are on different devices: labels are always on CPU, and values are on device 'cuda:0'. If you are using PyTorch and need the labels to also be on cuda:0, you should use `metatensor.torch.TensorBlock`.\n",
      "  TensorBlock(\n",
      "/media/nigam/b5749eb7-d3f1-4495-adeb-2c318fb7d0de/MAC/my_mlelec/src/mlelec/features/acdc.py:425: DeviceWarning: Blocks values and keys for this TensorMap are on different devices: keys are always on CPU, and blocks values are on device 'cuda:0'. If you are using PyTorch and need the labels to also be on cuda:0, you should use `metatensor.torch.TensorMap`.\n",
      "  return TensorMap(\n"
     ]
    }
   ],
   "source": [
    "hfeat = twocenter_features_periodic_NH(single_center=None, pair= rhoij) # take the pair feature and create features corresponding to different blocks of the hamiltonian "
   ]
  },
  {
   "cell_type": "code",
   "execution_count": 17,
   "metadata": {},
   "outputs": [
    {
     "name": "stderr",
     "output_type": "stream",
     "text": [
      "/media/nigam/b5749eb7-d3f1-4495-adeb-2c318fb7d0de/MAC/my_mlelec/src/mlelec/features/acdc.py:132: UserWarning: Using cutoff 2.0 for all pairs feature\n",
      "  warnings.warn(\n",
      "/tmp/ipykernel_218761/2812144406.py:8: DeviceWarning: Values and labels for this block are on different devices: labels are always on CPU, and values are on device 'cuda:0'. If you are using PyTorch and need the labels to also be on cuda:0, you should use `metatensor.torch.TensorBlock`.\n",
      "  tb = TensorBlock(\n"
     ]
    },
    {
     "name": "stdout",
     "output_type": "stream",
     "text": [
      "HERE\n"
     ]
    },
    {
     "name": "stderr",
     "output_type": "stream",
     "text": [
      "/tmp/ipykernel_218761/2812144406.py:15: DeviceWarning: Blocks values and keys for this TensorMap are on different devices: keys are always on CPU, and blocks values are on device 'cuda:0'. If you are using PyTorch and need the labels to also be on cuda:0, you should use `metatensor.torch.TensorMap`.\n",
      "  rhoij_zero_shift = TensorMap(keys = rhoij_zero_shift.keys, blocks=blocks)\n",
      "/media/nigam/b5749eb7-d3f1-4495-adeb-2c318fb7d0de/MAC/my_mlelec/src/mlelec/features/acdc.py:245: DeviceWarning: Values and labels for this block are on different devices: labels are always on CPU, and values are on device 'cuda:0'. If you are using PyTorch and need the labels to also be on cuda:0, you should use `metatensor.torch.TensorBlock`.\n",
      "  TensorBlock(\n",
      "/media/nigam/b5749eb7-d3f1-4495-adeb-2c318fb7d0de/MAC/my_mlelec/src/mlelec/features/acdc.py:290: DeviceWarning: Values and labels for this block are on different devices: labels are always on CPU, and values are on device 'cuda:0'. If you are using PyTorch and need the labels to also be on cuda:0, you should use `metatensor.torch.TensorBlock`.\n",
      "  TensorBlock(\n",
      "/media/nigam/b5749eb7-d3f1-4495-adeb-2c318fb7d0de/MAC/my_mlelec/src/mlelec/features/acdc.py:301: DeviceWarning: Values and labels for this block are on different devices: labels are always on CPU, and values are on device 'cuda:0'. If you are using PyTorch and need the labels to also be on cuda:0, you should use `metatensor.torch.TensorBlock`.\n",
      "  TensorBlock(\n",
      "/media/nigam/b5749eb7-d3f1-4495-adeb-2c318fb7d0de/MAC/my_mlelec/src/mlelec/features/acdc.py:316: DeviceWarning: Blocks values and keys for this TensorMap are on different devices: keys are always on CPU, and blocks values are on device 'cuda:0'. If you are using PyTorch and need the labels to also be on cuda:0, you should use `metatensor.torch.TensorMap`.\n",
      "  return TensorMap(\n"
     ]
    }
   ],
   "source": [
    "rhonui = single_center_features(frames, hypers, order_nu=3, lcut=2, max_shift=[2,3,1], feature_names = hfeat.property_names)\n",
    "rhoij_zero_shift = pair_features(frames, hypers, order_nu=[1,1],  both_centers=True, all_pairs=True, lcut=2, max_shift=[1,1,1], feature_names = rhonui.property_names)\n",
    "# pair = rhoij\n",
    "blocks = []\n",
    "for i, (key, block) in enumerate(rhoij_zero_shift.items()):\n",
    "    samples_lab, idx = labels_where(block.samples, selection=Labels([\"cell_shift_a\", \"cell_shift_b\", \"cell_shift_c\"], values=np.asarray([[0,0,0]]).reshape(-1, 3)), return_idx=True)\n",
    "    samples_lab =  Labels(samples_lab.names[:3], values=samples_lab.values[:,:3])\n",
    "    tb = TensorBlock(\n",
    "        samples=samples_lab,\n",
    "        values=block.values[idx],\n",
    "        properties=block.properties,\n",
    "        components = block.components\n",
    "    )\n",
    "    blocks.append(tb)\n",
    "rhoij_zero_shift = TensorMap(keys = rhoij_zero_shift.keys, blocks=blocks)\n",
    "hfeat0 = twocenter_features_periodic_NH(single_center= rhonui, pair = rhoij_zero_shift, shift=[0,0,0]) # take the pair feature and create features corresponding to different blocks of the hamiltonian\n",
    "hfeat0 = hfeat0.keys_to_samples('cell_shift_a')\n",
    "hfeat0 = hfeat0.keys_to_samples('cell_shift_b')\n",
    "hfeat0 = hfeat0.keys_to_samples('cell_shift_c')\n"
   ]
  },
  {
   "cell_type": "code",
   "execution_count": 18,
   "metadata": {},
   "outputs": [
    {
     "data": {
      "text/plain": [
       "True"
      ]
     },
     "execution_count": 18,
     "metadata": {},
     "output_type": "execute_result"
    }
   ],
   "source": [
    "hfeat0.property_names == hfeat.property_names"
   ]
  },
  {
   "cell_type": "code",
   "execution_count": 19,
   "metadata": {},
   "outputs": [
    {
     "name": "stderr",
     "output_type": "stream",
     "text": [
      "/home/nigam/miniconda3/lib/python3.11/site-packages/metatensor/operations/join.py:301: DeviceWarning: Values and labels for this block are on different devices: labels are always on CPU, and values are on device 'cuda:0'. If you are using PyTorch and need the labels to also be on cuda:0, you should use `metatensor.torch.TensorBlock`.\n",
      "  new_block = TensorBlock(\n",
      "/home/nigam/miniconda3/lib/python3.11/site-packages/metatensor/operations/join.py:326: DeviceWarning: Blocks values and keys for this TensorMap are on different devices: keys are always on CPU, and blocks values are on device 'cuda:0'. If you are using PyTorch and need the labels to also be on cuda:0, you should use `metatensor.torch.TensorMap`.\n",
      "  tensor = TensorMap(keys=keys, blocks=blocks)\n"
     ]
    }
   ],
   "source": [
    "from metatensor.operations import join \n",
    "hfeat = join([hfeat, hfeat0],axis=\"properties\")"
   ]
  },
  {
   "cell_type": "markdown",
   "metadata": {},
   "source": [
    "## train"
   ]
  },
  {
   "cell_type": "code",
   "execution_count": 20,
   "metadata": {},
   "outputs": [],
   "source": [
    "from mlelec.models.linear import LinearModelPeriodic\n",
    "from mlelec.utils.plot_utils import plot_hamiltonian "
   ]
  },
  {
   "cell_type": "code",
   "execution_count": 22,
   "metadata": {},
   "outputs": [
    {
     "data": {
      "text/plain": [
       "((72, 6), (72, 6))"
      ]
     },
     "execution_count": 22,
     "metadata": {},
     "output_type": "execute_result"
    }
   ],
   "source": [
    "target[0].samples.values.shape, hfeat[0].samples.values.shape"
   ]
  },
  {
   "cell_type": "code",
   "execution_count": 25,
   "metadata": {},
   "outputs": [
    {
     "name": "stdout",
     "output_type": "stream",
     "text": [
      "[[1, 1, 0], [1, -2, 0], [1, -1, 0], [1, 0, 0], [-2, 1, 0], [-2, -2, 0], [-2, -1, 0], [-2, 0, 0], [-1, -2, 0], [0, 1, 0], [0, -2, 0], [0, 0, 0]] 12\n"
     ]
    }
   ],
   "source": [
    "model = LinearModelPeriodic(hfeat, target, frames, orbs,\n",
    "                            cell_shifts= rotated_dataset.desired_shifts[:], \n",
    "                            nhidden=16, nlayers=2)\n",
    "\n",
    "optimizer = torch.optim.Adam(model.parameters(), lr=1e-3)\n",
    "# optimizer= torch.optim.SGD(model.parameters(), lr=1e-3)\n",
    "# optimizer = torch.optim.LBFGS(model.parameters(), lr=1e-3)\n",
    "scheduler = torch.optim.lr_scheduler.ReduceLROnPlateau(optimizer, 'min', factor=0.5, patience=100, verbose=True)\n",
    "\n",
    "\n",
    "def train(model, target_blocks, nepochs=10, optimizer=None, scheduler=None, log_interval=10):\n",
    "    losses = []\n",
    "    for i in range(nepochs):\n",
    "        # def closure():\n",
    "        #     optimizer.zero_grad()\n",
    "        #     rmat = model.forward()\n",
    "        #     loss = 0\n",
    "        #     for s in rmat:            \n",
    "        #         loss += torch.linalg.norm(rmat[s]-matrices[tuple(s)])**2\n",
    "        #     # loss = torch.linalg.norm(rmat - matrices)**2\n",
    "        #     # loss.backward()\n",
    "        #     return loss\n",
    "\n",
    "        # optimizer.step(closure)\n",
    "        # loss = closure()\n",
    "\n",
    "    #---ADAM---- \n",
    "        optimizer.zero_grad()\n",
    "        rmat = model.forward()\n",
    "        loss = 0\n",
    "        for s in rmat:      \n",
    "            for (key, block) in rmat[s].items():\n",
    "                loss += torch.linalg.norm(block.values-target_blocks[tuple(s)].block(key).values)**2      \n",
    "            # loss += torch.sum((rmat[s]-matrices[tuple(s)])**2)\n",
    "\n",
    "\n",
    "        loss.backward()\n",
    "        optimizer.step()\n",
    "        # scheduler.step(loss)\n",
    "        losses.append(loss.item())\n",
    "        if i%log_interval ==0:\n",
    "            print(i, loss.item())\n",
    "    return losses, model, optimizer\n"
   ]
  },
  {
   "cell_type": "code",
   "execution_count": 27,
   "metadata": {},
   "outputs": [
    {
     "name": "stdout",
     "output_type": "stream",
     "text": [
      "0 0.0017503242706879973\n",
      "10 0.0018151219701394439\n",
      "20 0.0017396773910149932\n",
      "30 0.0018684456590563059\n",
      "40 0.001681140041910112\n",
      "50 0.00164368178229779\n",
      "60 0.00163083930965513\n",
      "70 0.0015999069437384605\n",
      "80 0.0015761853428557515\n",
      "90 0.0015561890322715044\n",
      "100 0.0015419040573760867\n",
      "110 0.0017378696938976645\n",
      "120 0.0015758720692247152\n",
      "130 0.0015651609282940626\n",
      "140 0.0028784102760255337\n",
      "150 0.0016673019854351878\n",
      "160 0.0014649612130597234\n",
      "170 0.0014152214862406254\n",
      "180 0.0013902579667046666\n",
      "190 0.001374551560729742\n",
      "200 0.0013600913807749748\n",
      "210 0.0013397824950516224\n",
      "220 0.001326170051470399\n",
      "230 0.0013066146057099104\n",
      "240 0.0012992577394470572\n",
      "250 0.0012790273176506162\n",
      "260 0.001262590754777193\n",
      "270 0.0012443746672943234\n",
      "280 0.0012369112810119987\n",
      "290 0.0012382029090076685\n",
      "300 0.0012149021495133638\n",
      "310 0.0012159771285951138\n",
      "320 0.0011900829849764705\n",
      "330 0.0011772013967856765\n",
      "340 0.0011727316305041313\n",
      "350 0.0011354292510077357\n",
      "360 0.0012393638025969267\n",
      "370 0.00326179969124496\n",
      "380 0.0017214989056810737\n",
      "390 0.001305406098254025\n",
      "400 0.0011346457758918405\n",
      "410 0.0010750413639470935\n",
      "420 0.0010436493903398514\n",
      "430 0.0010283527662977576\n",
      "440 0.0010143857216462493\n",
      "450 0.0010016732849180698\n",
      "460 0.0009893240639939904\n",
      "470 0.00098735885694623\n",
      "480 0.0009682027157396078\n",
      "490 0.0009618885815143585\n",
      "500 0.0009443510789424181\n",
      "510 0.0009387335157953203\n",
      "520 0.0009739347733557224\n",
      "530 0.0009165388182736933\n",
      "540 0.0009013678063638508\n",
      "550 0.0008931825868785381\n",
      "560 0.0008794036693871021\n",
      "570 0.0008720098412595689\n",
      "580 0.0008622952736914158\n",
      "590 0.0008705671061761677\n",
      "600 0.0009777516825124621\n",
      "610 0.0010198608506470919\n",
      "620 0.0012302809627726674\n",
      "630 0.0013657361268997192\n",
      "640 0.000864427478518337\n",
      "650 0.0008177459822036326\n",
      "660 0.0007916035829111934\n",
      "670 0.0007717301486991346\n",
      "680 0.0007645199075341225\n",
      "690 0.0007732701487839222\n",
      "700 0.0007683321018703282\n",
      "710 0.0007642097189091146\n",
      "720 0.0007331148372031748\n",
      "730 0.0007506300462409854\n",
      "740 0.0007129080477170646\n",
      "750 0.0007188818999566138\n",
      "760 0.0007144624833017588\n",
      "770 0.0006885982002131641\n",
      "780 0.0006729987799189985\n",
      "790 0.0006643400993198156\n",
      "800 0.0006558604654856026\n",
      "810 0.0006473134271800518\n",
      "820 0.000647960405331105\n",
      "830 0.0006531720864586532\n",
      "840 0.0006295357597991824\n",
      "850 0.0006212493753992021\n",
      "860 0.0006177836912684143\n",
      "870 0.0036601803731173277\n",
      "880 0.0010251597268506885\n",
      "890 0.001128745381720364\n",
      "900 0.000656703719869256\n",
      "910 0.0006190849817357957\n",
      "920 0.0008957968675531447\n",
      "930 0.000599500082898885\n",
      "940 0.0005803892272524536\n",
      "950 0.0005654102424159646\n",
      "960 0.0005461389664560556\n",
      "970 0.0005402759416028857\n",
      "980 0.0005330700078047812\n",
      "990 0.0005249485839158297\n",
      "1000 0.0005536572425626218\n",
      "1010 0.000577235477976501\n",
      "1020 0.0005102080176584423\n",
      "1030 0.0005037037772126496\n",
      "1040 0.0004917177720926702\n",
      "1050 0.0004831255064345896\n",
      "1060 0.0005314809968695045\n",
      "1070 0.0004706829786300659\n",
      "1080 0.0004801854374818504\n",
      "1090 0.0004575435013975948\n",
      "1100 0.00045199308078736067\n",
      "1110 0.00044602356501854956\n",
      "1120 0.00046161460340954363\n",
      "1130 0.0004899950581602752\n",
      "1140 0.00045762810623273253\n",
      "1150 0.00042880806722678244\n",
      "1160 0.0005153872771188617\n",
      "1170 0.001301419804804027\n",
      "1180 0.0008560408605262637\n",
      "1190 0.00044842742499895394\n",
      "1200 0.0004221241979394108\n",
      "1210 0.0005592346424236894\n",
      "1220 0.0004028215480502695\n",
      "1230 0.00045340164797380567\n",
      "1240 0.0003988427924923599\n",
      "1250 0.0004033405566588044\n",
      "1260 0.0003700392844621092\n",
      "1270 0.00036859422107227147\n",
      "1280 0.0003908605722244829\n",
      "1290 0.00038815211155451834\n",
      "1300 0.0003924046759493649\n",
      "1310 0.00035855078021995723\n",
      "1320 0.0003425389586482197\n",
      "1330 0.00033913200604729354\n",
      "1340 0.0003386875905562192\n",
      "1350 0.00034327543107792735\n",
      "1360 0.0003339777758810669\n",
      "1370 0.00034166284603998065\n",
      "1380 0.00031880458118394017\n",
      "1390 0.0003209382703062147\n",
      "1400 0.0004620724357664585\n",
      "1410 0.0005512846983037889\n",
      "1420 0.00033500842982903123\n",
      "1430 0.0035934934858232737\n",
      "1440 0.0007476214086636901\n",
      "1450 0.000572189106605947\n",
      "1460 0.00041417995817027986\n",
      "1470 0.0003268501895945519\n",
      "1480 0.00029060390079393983\n",
      "1490 0.0002781230432447046\n",
      "1500 0.00027520908042788506\n",
      "1510 0.000275668891845271\n",
      "1520 0.0002660284226294607\n",
      "1530 0.00027022574795410037\n",
      "1540 0.00032819126499816775\n",
      "1550 0.0002676337899174541\n",
      "1560 0.00027467362815514207\n",
      "1570 0.00028964708326384425\n",
      "1580 0.0002541423309594393\n",
      "1590 0.0002907325979322195\n",
      "1600 0.0002467018202878535\n",
      "1610 0.00023767694074194878\n",
      "1620 0.00022995486506260931\n",
      "1630 0.00023209645587485284\n",
      "1640 0.00022397926659323275\n",
      "1650 0.0004539325018413365\n",
      "1660 0.00024551080423407257\n",
      "1670 0.00022832407557871193\n",
      "1680 0.00026974943466484547\n",
      "1690 0.0032769048120826483\n",
      "1700 0.00024281932564917952\n",
      "1710 0.0002837813226506114\n",
      "1720 0.0002957355754915625\n",
      "1730 0.00040411765803582966\n",
      "1740 0.0002781014482025057\n",
      "1750 0.00021684644161723554\n",
      "1760 0.0001987295545404777\n",
      "1770 0.0001913166925078258\n",
      "1780 0.0001870056294137612\n",
      "1790 0.00020875094924122095\n",
      "1800 0.00019740524294320494\n",
      "1810 0.00018351536709815264\n",
      "1820 0.00018105968774762005\n",
      "1830 0.00023211077495943755\n",
      "1840 0.00020275275164749473\n",
      "1850 0.0001720773143460974\n",
      "1860 0.00018031912622973323\n",
      "1870 0.0002202845353167504\n",
      "1880 0.00016539954231120646\n",
      "1890 0.00016417211736552417\n",
      "1900 0.00017211082740686834\n",
      "1910 0.00023458868963643909\n",
      "1920 0.00020906115241814405\n",
      "1930 0.00017902051331475377\n",
      "1940 0.0001879328629001975\n",
      "1950 0.0015336447395384312\n",
      "1960 0.001466403715312481\n",
      "1970 0.0004508627171162516\n",
      "1980 0.00015213766891974956\n",
      "1990 0.00015551919932477176\n"
     ]
    }
   ],
   "source": [
    "losses, model, optimizer = train(model, target_coupled_blocks, nepochs=2000, optimizer=optimizer)"
   ]
  },
  {
   "cell_type": "code",
   "execution_count": 28,
   "metadata": {},
   "outputs": [
    {
     "data": {
      "text/plain": [
       "[<matplotlib.lines.Line2D at 0x7f13841bbed0>]"
      ]
     },
     "execution_count": 28,
     "metadata": {},
     "output_type": "execute_result"
    },
    {
     "data": {
      "image/png": "[encoded data removed]",
      "text/plain": [
       "<Figure size 640x480 with 1 Axes>"
      ]
     },
     "metadata": {},
     "output_type": "display_data"
    }
   ],
   "source": [
    "plt.loglog(losses)"
   ]
  },
  {
   "cell_type": "code",
   "execution_count": 29,
   "metadata": {},
   "outputs": [
    {
     "name": "stderr",
     "output_type": "stream",
     "text": [
      "/media/nigam/b5749eb7-d3f1-4495-adeb-2c318fb7d0de/MAC/my_mlelec/src/mlelec/utils/metatensor_utils.py:129: DeviceWarning: Values and labels for this block are on different devices: labels are always on CPU, and values are on device 'cuda:0'. If you are using PyTorch and need the labels to also be on cuda:0, you should use `metatensor.torch.TensorBlock`.\n",
      "  block = TensorBlock(\n",
      "/media/nigam/b5749eb7-d3f1-4495-adeb-2c318fb7d0de/MAC/my_mlelec/src/mlelec/utils/metatensor_utils.py:91: DeviceWarning: Blocks values and keys for this TensorMap are on different devices: keys are always on CPU, and blocks values are on device 'cuda:0'. If you are using PyTorch and need the labels to also be on cuda:0, you should use `metatensor.torch.TensorMap`.\n",
      "  return TensorMap(keys, blocks)\n"
     ]
    }
   ],
   "source": [
    "mblocks = model.forward()\n",
    "rmat = {}\n",
    "for s in model.cell_shifts:\n",
    "    rmat[tuple(s)] = _to_matrix(_to_uncoupled_basis(mblocks[tuple(s)]), frames = frames, orbitals=orbs,  NH=True)  # DONT FORGET NH=True      \n"
   ]
  },
  {
   "cell_type": "code",
   "execution_count": 37,
   "metadata": {},
   "outputs": [],
   "source": [
    "mdict = {\"mdict\": model.state_dict(), \"optimizer\": optimizer.state_dict(), \"epoch\":4000}"
   ]
  },
  {
   "cell_type": "code",
   "execution_count": 38,
   "metadata": {},
   "outputs": [],
   "source": [
    "torch.save(mdict, \"rotated_model.pt\")"
   ]
  },
  {
   "cell_type": "code",
   "execution_count": 30,
   "metadata": {},
   "outputs": [
    {
     "name": "stdout",
     "output_type": "stream",
     "text": [
      "[1, 1, 0] 0.004570793010892625\n",
      "[1, -2, 0] 0.005265318791018532\n",
      "[1, -1, 0] 0.002152167003790616\n",
      "[1, 0, 0] 0.0024277321396065942\n",
      "[-2, 1, 0] 0.006987371963764007\n",
      "[-2, -2, 0] 0.0020260091701494475\n",
      "[-2, -1, 0] 0.0018207808010117148\n",
      "[-2, 0, 0] 0.0027619864360295876\n",
      "[-1, -2, 0] 0.0010077719040180791\n",
      "[0, 1, 0] 0.0034215346115346206\n",
      "[0, -2, 0] 0.0020534574684471134\n",
      "[0, 0, 0] 0.004052818101030509\n"
     ]
    }
   ],
   "source": [
    "# error on individual translations\n",
    "for translation in model.cell_shifts: \n",
    "    print(translation, torch.linalg.norm(rmat[tuple(translation)]-matrices[tuple(translation)]).detach().cpu().numpy())"
   ]
  },
  {
   "cell_type": "code",
   "execution_count": 1,
   "metadata": {},
   "outputs": [
    {
     "ename": "NameError",
     "evalue": "name 'plot_hamiltonian' is not defined",
     "output_type": "error",
     "traceback": [
      "\u001b[0;31m---------------------------------------------------------------------------\u001b[0m",
      "\u001b[0;31mNameError\u001b[0m                                 Traceback (most recent call last)",
      "Cell \u001b[0;32mIn[1], line 1\u001b[0m\n\u001b[0;32m----> 1\u001b[0m fig, ax, mappable \u001b[38;5;241m=\u001b[39m \u001b[43mplot_hamiltonian\u001b[49m((matrices[(\u001b[38;5;241m0\u001b[39m,\u001b[38;5;241m1\u001b[39m,\u001b[38;5;241m0\u001b[39m)])\u001b[38;5;241m.\u001b[39mdetach()\u001b[38;5;241m.\u001b[39mcpu()[\u001b[38;5;241m0\u001b[39m], plot_abs \u001b[38;5;241m=\u001b[39m \u001b[38;5;28;01mTrue\u001b[39;00m)\n\u001b[1;32m      2\u001b[0m fig\u001b[38;5;241m.\u001b[39mcolorbar(mappable, ax\u001b[38;5;241m=\u001b[39max)\n\u001b[1;32m      3\u001b[0m fig\u001b[38;5;241m.\u001b[39mtight_layout()\n",
      "\u001b[0;31mNameError\u001b[0m: name 'plot_hamiltonian' is not defined"
     ]
    }
   ],
   "source": [
    "fig, ax, mappable = plot_hamiltonian((matrices[(0,1,0)]).detach().cpu()[0], plot_abs = True)\n",
    "fig.colorbar(mappable, ax=ax)\n",
    "fig.tight_layout()\n",
    "# fig.savefig('/home/nigam/act010.png', dpi = 400, bbox_inches = 'tight')"
   ]
  },
  {
   "cell_type": "markdown",
   "metadata": {},
   "source": [
    "## TODO: try diff loss functions "
   ]
  },
  {
   "cell_type": "code",
   "execution_count": null,
   "metadata": {},
   "outputs": [],
   "source": [
    "   \n",
    "from typing import Union, List\n",
    "def loss_zero_shift(pred, target, device=None):\n",
    "    if device is None: \n",
    "        device = next(iter(pred.values())).device\n",
    "    assert pred.keys() == target.keys()\n",
    "    loss = 0\n",
    "    \n",
    "    loss += torch.sum((pred[tuple(s)]-target[tuple(s)])**2)\n",
    "    return loss\n",
    "\n",
    "def loss_fn_indiv_shift(rmat, matrices, specific_shift_idx:Union[str, List]=None, device=None):\n",
    "    #TODO: loss over particular shifts\n",
    "    if device is None: \n",
    "        device = rmat[(0,0,0)].device \n",
    "\n",
    "    #weight_minus = 1; weight_plus = 1 # we could still keep this?  \n",
    "    if not isinstance(next(iter(matrices.values())), torch.Tensor):\n",
    "        matrices = {k:torch.from_numpy(v).type(torch.float).to(device) for k,v in matrices.items()}\n",
    "    loss = 0\n",
    "    if isinstance(specific_shift_idx, list) or isinstance(specific_shift_idx,str):\n",
    "        raise NotImplementedError\n",
    "    # elif isinstance(specific_shift_idx, str):\n",
    "    #     if specific_shift_idx == \"positive\":\n",
    "    #         weight_minus=0\n",
    "    #     elif specific_shift_idx == \"negative\":\n",
    "    #         weight_plus=0\n",
    "           \n",
    "    for s in rmat.keys():            \n",
    "        loss += torch.linalg.norm(rmat[s]-matrices[tuple(s)])**2\n",
    "\n",
    "    return loss\n",
    "\n",
    "\n",
    "def loss_fn_combined(rsum, rdiff, expkL:dict, complex_target, device = None):\n",
    "    #TODO : support multiple k points \n",
    "    if device is None: \n",
    "        device = next(iter(rsum.values())).device\n",
    "        complex_target = complex_target.to(device)\n",
    "    assert rsum.keys() == rdiff.keys()\n",
    "    matrix = {}\n",
    "    for s in rsum.keys():\n",
    "        matrix[tuple(s)] = rsum[tuple(s)] + rdiff[tuple(s)]\n",
    "        matrix[tuple(-np.array(s))] = rsum[s] - rdiff[s]\n",
    "\n",
    "    recon_target = torch.zeros_like(complex_target, requires_grad=True, dtype = torch.complex64, device = device)\n",
    "    for s in matrix.keys():\n",
    "         recon_target = recon_target+ matrix[s]*expkL[s]\n",
    "    \n",
    "    loss = torch.tensordot((recon_target-complex_target),torch.conj(recon_target-complex_target)) \n",
    "    # equivalent to torch.linalg.norm((recon_target-complex_target))**2\n",
    "    assert torch.isclose(abs(loss), abs(loss.real))\n",
    "    return loss.real\n",
    "\n",
    "def get_predicted_matrices(rsum, rdiff, device=None):\n",
    "    if device is None: \n",
    "        device = next(iter(rsum.values())).device\n",
    "    assert rsum.keys() == rdiff.keys(), \"rsum and rdiff must have same keys\"\n",
    "    matrix = {}\n",
    "    for s in rsum.keys():\n",
    "        # sint = [int(x) for x in s[1:-1].split(\", \")]\n",
    "        matrix[s] = rsum[s] + rdiff[s]\n",
    "        matrix[tuple(-np.array(s))] = rsum[s] - rdiff[s]\n",
    "\n",
    "    return matrix\n"
   ]
  },
  {
   "cell_type": "code",
   "execution_count": null,
   "metadata": {},
   "outputs": [],
   "source": [
    "model = LinearModelPeriodic(hfeat, target, frames, orbs,\n",
    "                            cell_shifts= withnegative_shifts, \n",
    "                            nhidden=16, nlayers=2)\n"
   ]
  },
  {
   "cell_type": "code",
   "execution_count": null,
   "metadata": {},
   "outputs": [
    {
     "name": "stderr",
     "output_type": "stream",
     "text": [
      "/tmp/ipykernel_92716/37171875.py:44: DeviceWarning: Values and labels for this block are on different devices: labels are always on CPU, and values are on device 'cuda:0'. If you are using PyTorch and need the labels to also be on cuda:0, you should use `metatensor.torch.TensorBlock`.\n",
      "  pred_blocks.append(TensorBlock(values=pred.reshape((nsamples, ncomp, 1)),samples=block.samples,\n",
      "/tmp/ipykernel_92716/37171875.py:49: DeviceWarning: Blocks values and keys for this TensorMap are on different devices: keys are always on CPU, and blocks values are on device 'cuda:0'. If you are using PyTorch and need the labels to also be on cuda:0, you should use `metatensor.torch.TensorMap`.\n",
      "  pred_tmap = TensorMap(self.target_blocks.keys, pred_blocks)\n",
      "/tmp/ipykernel_92716/37171875.py:67: DeviceWarning: Values and labels for this block are on different devices: labels are always on CPU, and values are on device 'cuda:0'. If you are using PyTorch and need the labels to also be on cuda:0, you should use `metatensor.torch.TensorBlock`.\n",
      "  blocks.append(TensorBlock(samples = Labels(target.sample_names[:-3], values=np.asarray(block.samples.values[i])[:,:-3]),\n",
      "/tmp/ipykernel_92716/37171875.py:71: DeviceWarning: Blocks values and keys for this TensorMap are on different devices: keys are always on CPU, and blocks values are on device 'cuda:0'. If you are using PyTorch and need the labels to also be on cuda:0, you should use `metatensor.torch.TensorMap`.\n",
      "  tmap = TensorMap(target.keys, blocks)\n",
      "/media/nigam/b5749eb7-d3f1-4495-adeb-2c318fb7d0de/MAC/my_mlelec/src/mlelec/utils/metatensor_utils.py:129: DeviceWarning: Values and labels for this block are on different devices: labels are always on CPU, and values are on device 'cuda:0'. If you are using PyTorch and need the labels to also be on cuda:0, you should use `metatensor.torch.TensorBlock`.\n",
      "  block = TensorBlock(\n",
      "/media/nigam/b5749eb7-d3f1-4495-adeb-2c318fb7d0de/MAC/my_mlelec/src/mlelec/utils/metatensor_utils.py:91: DeviceWarning: Blocks values and keys for this TensorMap are on different devices: keys are always on CPU, and blocks values are on device 'cuda:0'. If you are using PyTorch and need the labels to also be on cuda:0, you should use `metatensor.torch.TensorMap`.\n",
      "  return TensorMap(keys, blocks)\n"
     ]
    },
    {
     "name": "stdout",
     "output_type": "stream",
     "text": [
      "0 15.795816421508789\n",
      "1 166.77407836914062\n",
      "2 24.705739974975586\n",
      "3 45.38225173950195\n",
      "4 89.55624389648438\n"
     ]
    },
    {
     "name": "stderr",
     "output_type": "stream",
     "text": [
      "Exception ignored on calling ctypes callback function: <function ArrayWrapper.__init__.<locals>.mts_array_origin at 0x7f994462f880>\n",
      "Traceback (most recent call last):\n",
      "  File \"/home/nigam/miniconda3/lib/python3.11/site-packages/metatensor/utils.py\", line 30, in inner\n",
      "    @functools.wraps(function)\n",
      "\n",
      "KeyboardInterrupt: \n"
     ]
    },
    {
     "ename": "MetatensorError",
     "evalue": "invalid parameter: tried to build a TensorMap from blocks with different origins: at least ('metatensor.data.array.torch') and ('unregistered origin') were detected",
     "output_type": "error",
     "traceback": [
      "\u001b[0;31m---------------------------------------------------------------------------\u001b[0m",
      "\u001b[0;31mMetatensorError\u001b[0m                           Traceback (most recent call last)",
      "Cell \u001b[0;32mIn[54], line 18\u001b[0m\n\u001b[1;32m     13\u001b[0m \u001b[38;5;28;01mfor\u001b[39;00m i \u001b[38;5;129;01min\u001b[39;00m \u001b[38;5;28mrange\u001b[39m(\u001b[38;5;241m1300\u001b[39m):\n\u001b[1;32m     14\u001b[0m     \u001b[38;5;66;03m# loss = closure()\u001b[39;00m\n\u001b[1;32m     15\u001b[0m     \u001b[38;5;66;03m# optimizer.step(closure)\u001b[39;00m\n\u001b[1;32m     17\u001b[0m     optimizer\u001b[38;5;241m.\u001b[39mzero_grad()\n\u001b[0;32m---> 18\u001b[0m     rmat \u001b[38;5;241m=\u001b[39m \u001b[43mmodel\u001b[49m\u001b[38;5;241;43m.\u001b[39;49m\u001b[43mforward\u001b[49m\u001b[43m(\u001b[49m\u001b[43m)\u001b[49m\n\u001b[1;32m     19\u001b[0m     loss \u001b[38;5;241m=\u001b[39m loss_fn_indiv_shift(rmat, matrices) \u001b[38;5;66;03m#, specific_shift_idx = 'positive' )\u001b[39;00m\n\u001b[1;32m     20\u001b[0m     loss\u001b[38;5;241m.\u001b[39mbackward()\n",
      "Cell \u001b[0;32mIn[50], line 54\u001b[0m, in \u001b[0;36mLinearModelPeriodic.forward\u001b[0;34m(self)\u001b[0m\n\u001b[1;32m     48\u001b[0m         pred_blocks\u001b[38;5;241m.\u001b[39mappend(block\u001b[38;5;241m.\u001b[39mcopy())\n\u001b[1;32m     49\u001b[0m pred_tmap \u001b[38;5;241m=\u001b[39m TensorMap(\u001b[38;5;28mself\u001b[39m\u001b[38;5;241m.\u001b[39mtarget_blocks\u001b[38;5;241m.\u001b[39mkeys, pred_blocks)\n\u001b[0;32m---> 54\u001b[0m \u001b[38;5;28mself\u001b[39m\u001b[38;5;241m.\u001b[39mrecon_mat \u001b[38;5;241m=\u001b[39m \u001b[38;5;28;43mself\u001b[39;49m\u001b[38;5;241;43m.\u001b[39;49m\u001b[43mtranslations_to_keys\u001b[49m\u001b[43m(\u001b[49m\u001b[43mpred_tmap\u001b[49m\u001b[43m)\u001b[49m\n\u001b[1;32m     55\u001b[0m     \u001b[38;5;66;03m# _to_matrix(_to_uncoupled_basis(pred_sum_dict[s]), frames = self.frames, orbitals=self.orbitals)\u001b[39;00m\n\u001b[1;32m     57\u001b[0m \u001b[38;5;28;01mreturn\u001b[39;00m \u001b[38;5;28mself\u001b[39m\u001b[38;5;241m.\u001b[39mrecon_mat\n",
      "Cell \u001b[0;32mIn[50], line 71\u001b[0m, in \u001b[0;36mLinearModelPeriodic.translations_to_keys\u001b[0;34m(self, target)\u001b[0m\n\u001b[1;32m     66\u001b[0m         _,i \u001b[38;5;241m=\u001b[39m labels_where(block\u001b[38;5;241m.\u001b[39msamples, Labels([\u001b[38;5;124m\"\u001b[39m\u001b[38;5;124mcell_shift_a\u001b[39m\u001b[38;5;124m\"\u001b[39m, \u001b[38;5;124m\"\u001b[39m\u001b[38;5;124mcell_shift_b\u001b[39m\u001b[38;5;124m\"\u001b[39m, \u001b[38;5;124m\"\u001b[39m\u001b[38;5;124mcell_shift_c\u001b[39m\u001b[38;5;124m\"\u001b[39m], values \u001b[38;5;241m=\u001b[39m np\u001b[38;5;241m.\u001b[39masarray([translation[\u001b[38;5;241m0\u001b[39m], translation[\u001b[38;5;241m1\u001b[39m], translation[\u001b[38;5;241m2\u001b[39m]])\u001b[38;5;241m.\u001b[39mreshape(\u001b[38;5;241m1\u001b[39m,\u001b[38;5;241m-\u001b[39m\u001b[38;5;241m1\u001b[39m)), return_idx\u001b[38;5;241m=\u001b[39m\u001b[38;5;28;01mTrue\u001b[39;00m)\n\u001b[1;32m     67\u001b[0m         blocks\u001b[38;5;241m.\u001b[39mappend(TensorBlock(samples \u001b[38;5;241m=\u001b[39m Labels(target\u001b[38;5;241m.\u001b[39msample_names[:\u001b[38;5;241m-\u001b[39m\u001b[38;5;241m3\u001b[39m], values\u001b[38;5;241m=\u001b[39mnp\u001b[38;5;241m.\u001b[39masarray(block\u001b[38;5;241m.\u001b[39msamples\u001b[38;5;241m.\u001b[39mvalues[i])[:,:\u001b[38;5;241m-\u001b[39m\u001b[38;5;241m3\u001b[39m]),\n\u001b[1;32m     68\u001b[0m                                   values\u001b[38;5;241m=\u001b[39mblock\u001b[38;5;241m.\u001b[39mvalues[i],\n\u001b[1;32m     69\u001b[0m                                   components\u001b[38;5;241m=\u001b[39mblock\u001b[38;5;241m.\u001b[39mcomponents,\n\u001b[1;32m     70\u001b[0m                                   properties\u001b[38;5;241m=\u001b[39mblock\u001b[38;5;241m.\u001b[39mproperties))\n\u001b[0;32m---> 71\u001b[0m     tmap \u001b[38;5;241m=\u001b[39m \u001b[43mTensorMap\u001b[49m\u001b[43m(\u001b[49m\u001b[43mtarget\u001b[49m\u001b[38;5;241;43m.\u001b[39;49m\u001b[43mkeys\u001b[49m\u001b[43m,\u001b[49m\u001b[43m \u001b[49m\u001b[43mblocks\u001b[49m\u001b[43m)\u001b[49m\n\u001b[1;32m     72\u001b[0m     recon_blocks[\u001b[38;5;28mtuple\u001b[39m(translation)] \u001b[38;5;241m=\u001b[39m tmap\n\u001b[1;32m     74\u001b[0m \u001b[38;5;28;01mfor\u001b[39;00m s \u001b[38;5;129;01min\u001b[39;00m \u001b[38;5;28mself\u001b[39m\u001b[38;5;241m.\u001b[39mcell_shifts[:]:\n",
      "File \u001b[0;32m~/miniconda3/lib/python3.11/site-packages/metatensor/tensor.py:114\u001b[0m, in \u001b[0;36mTensorMap.__init__\u001b[0;34m(self, keys, blocks)\u001b[0m\n\u001b[1;32m    109\u001b[0m     block\u001b[38;5;241m.\u001b[39m_move_ptr()\n\u001b[1;32m    111\u001b[0m \u001b[38;5;28mself\u001b[39m\u001b[38;5;241m.\u001b[39m_ptr \u001b[38;5;241m=\u001b[39m \u001b[38;5;28mself\u001b[39m\u001b[38;5;241m.\u001b[39m_lib\u001b[38;5;241m.\u001b[39mmts_tensormap(\n\u001b[1;32m    112\u001b[0m     keys\u001b[38;5;241m.\u001b[39m_as_mts_labels_t(), blocks_array, \u001b[38;5;28mlen\u001b[39m(blocks)\n\u001b[1;32m    113\u001b[0m )\n\u001b[0;32m--> 114\u001b[0m \u001b[43m_check_pointer\u001b[49m\u001b[43m(\u001b[49m\u001b[38;5;28;43mself\u001b[39;49m\u001b[38;5;241;43m.\u001b[39;49m\u001b[43m_ptr\u001b[49m\u001b[43m)\u001b[49m\n\u001b[1;32m    116\u001b[0m \u001b[38;5;28;01mfor\u001b[39;00m block \u001b[38;5;129;01min\u001b[39;00m blocks:\n\u001b[1;32m    117\u001b[0m     block\u001b[38;5;241m.\u001b[39m_is_inside_map \u001b[38;5;241m=\u001b[39m \u001b[38;5;28;01mTrue\u001b[39;00m\n",
      "File \u001b[0;32m~/miniconda3/lib/python3.11/site-packages/metatensor/status.py:48\u001b[0m, in \u001b[0;36m_check_pointer\u001b[0;34m(pointer)\u001b[0m\n\u001b[1;32m     46\u001b[0m     \u001b[38;5;28;01mraise\u001b[39;00m MetatensorError(last_error()) \u001b[38;5;28;01mfrom\u001b[39;00m \u001b[38;5;21;01me\u001b[39;00m\n\u001b[1;32m     47\u001b[0m \u001b[38;5;28;01melse\u001b[39;00m:\n\u001b[0;32m---> 48\u001b[0m     \u001b[38;5;28;01mraise\u001b[39;00m MetatensorError(last_error())\n",
      "\u001b[0;31mMetatensorError\u001b[0m: invalid parameter: tried to build a TensorMap from blocks with different origins: at least ('metatensor.data.array.torch') and ('unregistered origin') were detected"
     ]
    }
   ],
   "source": [
    "\n",
    "optimizer = torch.optim.Adam(model.parameters(), lr=1e-3)\n",
    "# optimizer= torch.optim.SGD(model.parameters(), lr=1e-3)\n",
    "# optimizer = torch.optim.LBFGS(model.parameters(), lr=1e-4)\n",
    "# scheduler = torch.optim.lr_scheduler.ReduceLROnPlateau(optimizer, 'min', factor=0.5, patience=100, verbose=True)\n",
    "def closure():\n",
    "    optimizer.zero_grad()\n",
    "    rmat = model.forward()\n",
    "    loss = loss_fn_indiv_shift(rmat, matrices )\n",
    "    loss.backward()\n",
    "    return loss\n",
    "\n",
    "losses = []\n",
    "for i in range(1300):\n",
    "    # loss = closure()\n",
    "    # optimizer.step(closure)\n",
    "\n",
    "    optimizer.zero_grad()\n",
    "    rmat = model.forward()\n",
    "    loss = loss_fn_indiv_shift(rmat, matrices) #, specific_shift_idx = 'positive' )\n",
    "    loss.backward()\n",
    "    optimizer.step()\n",
    "    # scheduler.step(loss)\n",
    "    losses.append(loss.item())\n",
    "    if i%1 ==0:\n",
    "        print(i, loss.item())\n"
   ]
  },
  {
   "cell_type": "markdown",
   "metadata": {},
   "source": [
    "## band structure"
   ]
  }
 ],
 "metadata": {
  "kernelspec": {
   "display_name": "base",
   "language": "python",
   "name": "python3"
  },
  "language_info": {
   "codemirror_mode": {
    "name": "ipython",
    "version": 3
   },
   "file_extension": ".py",
   "mimetype": "text/x-python",
   "name": "python",
   "nbconvert_exporter": "python",
   "pygments_lexer": "ipython3",
   "version": "3.11.5"
  }
 },
 "nbformat": 4,
 "nbformat_minor": 2
}
