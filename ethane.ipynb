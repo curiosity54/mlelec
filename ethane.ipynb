{
 "cells": [
  {
   "cell_type": "code",
   "execution_count": 1,
   "id": "5372d494",
   "metadata": {},
   "outputs": [],
   "source": [
    "%load_ext autoreload\n",
    "%autoreload 2"
   ]
  },
  {
   "cell_type": "code",
   "execution_count": 2,
   "id": "9ffeb27f",
   "metadata": {},
   "outputs": [],
   "source": [
    "import torch \n",
    "import numpy as np\n",
    "import ase \n",
    "from ase.io import read\n",
    "import json  \n",
    "from ase.units import Hartree"
   ]
  },
  {
   "cell_type": "code",
   "execution_count": 3,
   "id": "361c1865-da3d-42a8-b631-ca73cba03f6f",
   "metadata": {},
   "outputs": [],
   "source": [
    "torch.set_default_dtype(torch.float64) # set default dtype of torch to avoid numerical errors "
   ]
  },
  {
   "cell_type": "code",
   "execution_count": 4,
   "id": "3fa73f75",
   "metadata": {},
   "outputs": [],
   "source": [
    "device = \"cpu\""
   ]
  },
  {
   "cell_type": "markdown",
   "id": "d2677c4e",
   "metadata": {},
   "source": [
    "# Instantiate the Molecule Dataset "
   ]
  },
  {
   "cell_type": "code",
   "execution_count": 5,
   "id": "a3dd8724",
   "metadata": {},
   "outputs": [
    {
     "name": "stderr",
     "output_type": "stream",
     "text": [
      "/home/suman/miniconda3/envs/pyscfad/lib/python3.11/site-packages/pyscf/dft/libxc.py:772: UserWarning: Since PySCF-2.3, B3LYP (and B3P86) are changed to the VWN-RPA variant, the same to the B3LYP functional in Gaussian and ORCA (issue 1480). To restore the VWN5 definition, you can put the setting \"B3LYP_WITH_VWN5 = True\" in pyscf_conf.py\n",
      "  warnings.warn('Since PySCF-2.3, B3LYP (and B3P86) are changed to the VWN-RPA variant, '\n"
     ]
    }
   ],
   "source": [
    "from mlelec.data.dataset import MoleculeDataset"
   ]
  },
  {
   "cell_type": "code",
   "execution_count": 6,
   "id": "18b9ad2c",
   "metadata": {},
   "outputs": [
    {
     "name": "stdout",
     "output_type": "stream",
     "text": [
      "Loading structures\n",
      "examples/data/ethane/sto-3g/fock.hickle\n",
      "examples/data/ethane/sto-3g/dipole_moment.hickle\n"
     ]
    }
   ],
   "source": [
    "molecule_data = MoleculeDataset(\n",
    "    mol_name = \"ethane\",\n",
    "    use_precomputed=True,\n",
    "    path= \"examples/data/ethane\",\n",
    "    aux_path=\"examples/data/ethane/sto-3g\",\n",
    "    frame_slice=slice(0, 200),\n",
    "    device=device,\n",
    "    aux=[\"overlap\", \"orbitals\"],\n",
    "    target=[\"fock\", \"dipole_moment\"],\n",
    ")\n"
   ]
  },
  {
   "cell_type": "markdown",
   "id": "38f2ccbf",
   "metadata": {},
   "source": [
    "### Create the ML dataset from the molecular data "
   ]
  },
  {
   "cell_type": "code",
   "execution_count": 7,
   "id": "36d796a0",
   "metadata": {},
   "outputs": [],
   "source": [
    "from mlelec.data.dataset import MLDataset"
   ]
  },
  {
   "cell_type": "code",
   "execution_count": 8,
   "id": "8a726f5b-64a0-412c-b973-72270a98ed0f",
   "metadata": {},
   "outputs": [],
   "source": [
    "ml_data = MLDataset(\n",
    "    molecule_data=molecule_data,\n",
    "    device=device,\n",
    "    model_strategy=\"coupled\",\n",
    "    shuffle=True, \n",
    "    shuffle_seed=5380,\n",
    ")  "
   ]
  },
  {
   "cell_type": "code",
   "execution_count": 9,
   "id": "1761c455-071d-4e1c-8ddf-e51c33bb717a",
   "metadata": {},
   "outputs": [],
   "source": [
    "ml_data._split_indices(train_frac=0.7, val_frac=0.2, test_frac=0.1)"
   ]
  },
  {
   "cell_type": "code",
   "execution_count": 10,
   "id": "e8d8bbb5",
   "metadata": {},
   "outputs": [],
   "source": [
    "from mlelec.features.acdc import compute_features_for_target\n",
    "from mlelec.data.dataset import get_dataloader"
   ]
  },
  {
   "cell_type": "code",
   "execution_count": 11,
   "id": "8c053f82-3b5e-4537-ab98-a819c3bbbc56",
   "metadata": {},
   "outputs": [],
   "source": [
    "hypers = {\n",
    "            \"cutoff\": 5.0,\n",
    "            \"max_radial\" : 6,\n",
    "            \"max_angular\": 4,\n",
    "            \"atomic_gaussian_width\": 0.3,\n",
    "            \"center_atom_weight\": 1,\n",
    "            \"radial_basis\": {\"Gto\": {}},\n",
    "            \"cutoff_function\": {\"ShiftedCosine\": {\"width\": 0.1}},\n",
    "        }\n",
    "\n",
    "ml_data._set_features(compute_features_for_target(ml_data, device = device, hypers = hypers))"
   ]
  },
  {
   "cell_type": "code",
   "execution_count": 12,
   "id": "dc0f3bda-6185-4ca5-893c-2f527d71d4a2",
   "metadata": {},
   "outputs": [],
   "source": [
    "train_dl, val_dl, test_dl = get_dataloader(ml_data, model_return=\"tensor\", batch_size=10)"
   ]
  },
  {
   "cell_type": "markdown",
   "id": "fe2e6f60",
   "metadata": {},
   "source": [
    "# RidgeCV Model"
   ]
  },
  {
   "cell_type": "code",
   "execution_count": 13,
   "id": "c89857ba",
   "metadata": {},
   "outputs": [],
   "source": [
    "from src.mlelec.models.linear import LinearTargetModel"
   ]
  },
  {
   "cell_type": "markdown",
   "id": "f00c21b6-4c95-4902-b0f7-4d99ce8006f5",
   "metadata": {},
   "source": [
    "### Fitting a RidgeCV model"
   ]
  },
  {
   "cell_type": "code",
   "execution_count": 14,
   "id": "57243f3c",
   "metadata": {},
   "outputs": [],
   "source": [
    "model = LinearTargetModel(dataset = ml_data, nlayers = 1, nhidden = 16, bias = False, device = device)"
   ]
  },
  {
   "cell_type": "code",
   "execution_count": 15,
   "id": "d9a235c3-3faa-44bc-9887-b2444bf4359c",
   "metadata": {},
   "outputs": [],
   "source": [
    "pred_ridges, ridges = model.fit_ridge_analytical(set_bias=False)"
   ]
  },
  {
   "cell_type": "markdown",
   "id": "2336fb9e-fa91-4fc7-ab3d-b9cafa1fbd82",
   "metadata": {},
   "source": [
    "### Calculating train and test errors for MO energies and dipoles"
   ]
  },
  {
   "cell_type": "code",
   "execution_count": 20,
   "id": "228d6515",
   "metadata": {},
   "outputs": [],
   "source": [
    "from mlelec.utils.twocenter_utils import _to_uncoupled_basis, _to_matrix, unfix_orbital_order\n",
    "    \n",
    "uncoupled = _to_uncoupled_basis(pred_ridges,  device=model.device) # Convert the coupled blocks to uncoupled\n",
    "\n",
    "# Recover the predicted matrices for the training set \n",
    "fock_predictions_train = _to_matrix(\n",
    "    uncoupled,\n",
    "    ml_data.train_frames,\n",
    "    ml_data.train_idx,\n",
    "    ml_data.aux_data['orbitals'],\n",
    "    device=model.device,\n",
    ")"
   ]
  },
  {
   "cell_type": "code",
   "execution_count": 22,
   "id": "4fa98317",
   "metadata": {},
   "outputs": [],
   "source": [
    "from typing import Optional, List, Union, Tuple, Dict\n",
    "\n",
    "def isqrtm(A: torch.Tensor) -> torch.Tensor:\n",
    "    eva, eve = torch.linalg.eigh(A)\n",
    "    idx = eva > 1e-15\n",
    "    return eve[:, idx] @ torch.diag(eva[idx] ** (-0.5)) @ eve[:, idx].T\n",
    "\n",
    "\n",
    "def _lowdin_orthogonalize(\n",
    "    fock: torch.Tensor, ovlp: torch.Tensor\n",
    ") -> Tuple[torch.Tensor, torch.Tensor]:\n",
    "    ovlp_i12 = isqrtm(ovlp)\n",
    "    return torch.einsum(\"ij,jk,kl->il\", ovlp_i12, fock, ovlp_i12)"
   ]
  },
  {
   "cell_type": "code",
   "execution_count": 24,
   "id": "a6a0b581",
   "metadata": {},
   "outputs": [],
   "source": [
    "# from mlelec.utils.twocenter_utils import _lowdin_orthogonalize\n",
    "\n",
    "def compute_eigvals(ml_data, focks, indices):\n",
    "    batch_frames = [ml_data.structures[i] for i in indices]\n",
    "    batch_fock = unfix_orbital_order(\n",
    "        focks, batch_frames, ml_data.molecule_data.aux_data[\"orbitals\"]\n",
    "    )\n",
    "    batch_overlap = ml_data.molecule_data.aux_data[\"overlap\"][indices]\n",
    "    ortho_focks = [_lowdin_orthogonalize(f, o) for f, o in zip(batch_fock, batch_overlap)]\n",
    "    eva = []\n",
    "    for i in range(len(focks)):\n",
    "        eva.append(torch.linalg.eigvalsh(ortho_focks[i]))\n",
    "    return torch.stack(eva)"
   ]
  },
  {
   "cell_type": "code",
   "execution_count": 28,
   "id": "2c267800",
   "metadata": {},
   "outputs": [],
   "source": [
    "pred_eva = compute_eigvals(ml_data, fock_predictions_train, ml_data.train_idx)\n",
    "eva = compute_eigvals(ml_data, ml_data.target.tensor[ml_data.train_idx], ml_data.train_idx)"
   ]
  },
  {
   "cell_type": "code",
   "execution_count": 35,
   "id": "15cdf05b",
   "metadata": {},
   "outputs": [
    {
     "name": "stdout",
     "output_type": "stream",
     "text": [
      "Train RMSE for MO_energies in eV:  tensor(0.9846)\n"
     ]
    }
   ],
   "source": [
    "import mlelec.metrics as mlmetrics\n",
    "\n",
    "loss_fn = getattr(mlmetrics, \"L2_loss\")\n",
    "print(\"Train RMSE for MO_energies in eV: \", torch.sqrt(loss_fn(pred_eva, eva) / len(ml_data.train_idx) /16) *Hartree)"
   ]
  },
  {
   "cell_type": "code",
   "execution_count": 36,
   "id": "96670175-7820-4c37-ab30-503658218293",
   "metadata": {},
   "outputs": [],
   "source": [
    "pred_test = model.predict_ridge_analytical(ml_data.target_test, ml_data.feat_test)"
   ]
  },
  {
   "cell_type": "code",
   "execution_count": 37,
   "id": "0f482964-5a2a-42e9-b413-e3c84c09730a",
   "metadata": {},
   "outputs": [],
   "source": [
    "test_uncoupled = _to_uncoupled_basis(pred_test,  device=model.device) # Convert the coupled blocks to uncoupled\n",
    "fock_predictions_test = _to_matrix(\n",
    "test_uncoupled,\n",
    "    ml_data.test_frames,\n",
    "    ml_data.test_idx,\n",
    "    ml_data.aux_data['orbitals'],\n",
    "    device=model.device,\n",
    ")"
   ]
  },
  {
   "cell_type": "code",
   "execution_count": 40,
   "id": "b265f6c8",
   "metadata": {},
   "outputs": [
    {
     "name": "stdout",
     "output_type": "stream",
     "text": [
      "Test RMSE for MO_energies in eV:  tensor(0.9743)\n"
     ]
    }
   ],
   "source": [
    "test_pred_eva = compute_eigvals(ml_data, fock_predictions_test, ml_data.test_idx)\n",
    "test_eva = compute_eigvals(ml_data, ml_data.target.tensor[ml_data.test_idx], ml_data.test_idx)\n",
    "\n",
    "print(\"Test RMSE for MO_energies in eV: \", torch.sqrt(loss_fn(test_pred_eva, test_eva) / len(ml_data.test_idx) /16) *Hartree)"
   ]
  },
  {
   "cell_type": "code",
   "execution_count": 41,
   "id": "a42a5791-babd-4d02-bb92-0f502ac60f7f",
   "metadata": {},
   "outputs": [
    {
     "data": {
      "image/png": "[encoded data removed]",
      "text/plain": [
       "<Figure size 640x480 with 1 Axes>"
      ]
     },
     "metadata": {},
     "output_type": "display_data"
    }
   ],
   "source": [
    "import matplotlib.pyplot as plt\n",
    "\n",
    "x = test_eva * Hartree\n",
    "y = test_pred_eva * Hartree\n",
    "\n",
    "x = x[x>-50]\n",
    "y = y[y>-50]\n",
    "plt.scatter(x,y)\n",
    "\n",
    "plt.plot([-35,35], [-35,35], linestyle='--', color='black', linewidth=0.5)\n",
    "plt.xlabel('Target MO Energies (eV)')\n",
    "plt.ylabel('Predicted MO Energies (eV)')\n",
    "plt.show()"
   ]
  },
  {
   "cell_type": "markdown",
   "id": "8ddca012-fbd7-470c-8293-e4cbaf39d84f",
   "metadata": {},
   "source": [
    "## Indirect learning of eigenvalues via bacprop"
   ]
  },
  {
   "cell_type": "code",
   "execution_count": 43,
   "id": "ccf16835-d6dd-46a0-a253-0e1ae3b2274e",
   "metadata": {},
   "outputs": [
    {
     "name": "stdout",
     "output_type": "stream",
     "text": [
      "Using PyTorch backend.\n"
     ]
    }
   ],
   "source": [
    "import os\n",
    "os.environ[\"PYSCFAD_BACKEND\"] = \"torch\"\n",
    "import torch\n",
    "from torch.autograd.functional import jacobian\n",
    "from pyscf import gto\n",
    "from pyscfad import numpy as pynp\n",
    "from pyscfad import ops\n",
    "from pyscfad.ml.scf import hf\n",
    "import pyscf.pbc.tools.pyscf_ase as pyscf_ase\n",
    "from mlelec.data.pyscf_calculator import _instantiate_pyscf_mol\n",
    "from mlelec.utils.twocenter_utils import fix_orbital_order, unfix_orbital_order\n",
    "from tqdm import tqdm"
   ]
  },
  {
   "cell_type": "code",
   "execution_count": 33,
   "id": "86420124-b88e-4aec-b203-0660d72cbdd7",
   "metadata": {},
   "outputs": [],
   "source": [
    "# with io.capture_output() as captured:\n",
    "#     all_mfs, fockvars = instantiate_mf(\n",
    "#         ml_data,\n",
    "#         fock_predictions=None,\n",
    "#         batch_indices=list(range(len(ml_data.structures))),\n",
    "#     )"
   ]
  },
  {
   "cell_type": "code",
   "execution_count": 44,
   "id": "6fba7e05",
   "metadata": {},
   "outputs": [],
   "source": [
    "from cmath import inf\n",
    "best = inf\n",
    "early_stop_criteria = 50"
   ]
  },
  {
   "cell_type": "code",
   "execution_count": null,
   "id": "234d5fde-9893-4780-874d-0d664c9d778e",
   "metadata": {},
   "outputs": [],
   "source": [
    "# Do this only if you want to start your indirect training from the Ridge fitted weights\n",
    "train_pred = model.forward(ml_data.feat_train, return_type=\"tensor\", batch_indices=ml_data.train_idx, ridge_fit=True)"
   ]
  },
  {
   "cell_type": "code",
   "execution_count": 41,
   "id": "ac2c41ff",
   "metadata": {},
   "outputs": [],
   "source": [
    "optimizer = torch.optim.Adam(model.parameters(), lr=1e-3)\n",
    "scheduler = torch.optim.lr_scheduler.ReduceLROnPlateau(\n",
    "    optimizer, factor=0.5, patience=20, verbose=True\n",
    ")\n",
    "\n",
    "val_interval = 10\n",
    "loss_fn = getattr(mlmetrics, \"L2_loss\") \n",
    "losses = []\n",
    "early_stop_count = 0\n",
    "nepochs = 800"
   ]
  },
  {
   "cell_type": "code",
   "execution_count": 54,
   "id": "7f5cffb6-e29b-4f10-8d9a-fae0a84a973c",
   "metadata": {
    "scrolled": true
   },
   "outputs": [
    {
     "name": "stderr",
     "output_type": "stream",
     "text": [
      "  8%|▊         | 67/800 [05:55<1:04:44,  5.30s/it, Val_loss=0.0003, train_loss=0.000184]  \n"
     ]
    },
    {
     "ename": "KeyboardInterrupt",
     "evalue": "",
     "output_type": "error",
     "traceback": [
      "\u001b[0;31m---------------------------------------------------------------------------\u001b[0m",
      "\u001b[0;31mKeyboardInterrupt\u001b[0m                         Traceback (most recent call last)",
      "Cell \u001b[0;32mIn[54], line 6\u001b[0m\n\u001b[1;32m      4\u001b[0m model\u001b[38;5;241m.\u001b[39mtrain(\u001b[38;5;28;01mTrue\u001b[39;00m)\n\u001b[1;32m      5\u001b[0m train_loss \u001b[38;5;241m=\u001b[39m \u001b[38;5;241m0\u001b[39m\n\u001b[0;32m----> 6\u001b[0m \u001b[43m\u001b[49m\u001b[38;5;28;43;01mfor\u001b[39;49;00m\u001b[43m \u001b[49m\u001b[43mdata\u001b[49m\u001b[43m \u001b[49m\u001b[38;5;129;43;01min\u001b[39;49;00m\u001b[43m \u001b[49m\u001b[43mtrain_dl\u001b[49m\u001b[43m:\u001b[49m\n\u001b[1;32m      7\u001b[0m \u001b[43m    \u001b[49m\u001b[43moptimizer\u001b[49m\u001b[38;5;241;43m.\u001b[39;49m\u001b[43mzero_grad\u001b[49m\u001b[43m(\u001b[49m\u001b[43m)\u001b[49m\n\u001b[1;32m      8\u001b[0m \u001b[43m    \u001b[49m\u001b[43midx\u001b[49m\u001b[43m \u001b[49m\u001b[38;5;241;43m=\u001b[39;49m\u001b[43m \u001b[49m\u001b[43mdata\u001b[49m\u001b[43m[\u001b[49m\u001b[38;5;124;43m\"\u001b[39;49m\u001b[38;5;124;43midx\u001b[39;49m\u001b[38;5;124;43m\"\u001b[39;49m\u001b[43m]\u001b[49m\n",
      "File \u001b[0;32m~/miniconda3/envs/qm7/lib/python3.11/site-packages/torch/utils/data/dataloader.py:631\u001b[0m, in \u001b[0;36m_BaseDataLoaderIter.__next__\u001b[0;34m(self)\u001b[0m\n\u001b[1;32m    628\u001b[0m \u001b[38;5;28;01mif\u001b[39;00m \u001b[38;5;28mself\u001b[39m\u001b[38;5;241m.\u001b[39m_sampler_iter \u001b[38;5;129;01mis\u001b[39;00m \u001b[38;5;28;01mNone\u001b[39;00m:\n\u001b[1;32m    629\u001b[0m     \u001b[38;5;66;03m# TODO(https://github.com/pytorch/pytorch/issues/76750)\u001b[39;00m\n\u001b[1;32m    630\u001b[0m     \u001b[38;5;28mself\u001b[39m\u001b[38;5;241m.\u001b[39m_reset()  \u001b[38;5;66;03m# type: ignore[call-arg]\u001b[39;00m\n\u001b[0;32m--> 631\u001b[0m data \u001b[38;5;241m=\u001b[39m \u001b[38;5;28;43mself\u001b[39;49m\u001b[38;5;241;43m.\u001b[39;49m\u001b[43m_next_data\u001b[49m\u001b[43m(\u001b[49m\u001b[43m)\u001b[49m\n\u001b[1;32m    632\u001b[0m \u001b[38;5;28mself\u001b[39m\u001b[38;5;241m.\u001b[39m_num_yielded \u001b[38;5;241m+\u001b[39m\u001b[38;5;241m=\u001b[39m \u001b[38;5;241m1\u001b[39m\n\u001b[1;32m    633\u001b[0m \u001b[38;5;28;01mif\u001b[39;00m \u001b[38;5;28mself\u001b[39m\u001b[38;5;241m.\u001b[39m_dataset_kind \u001b[38;5;241m==\u001b[39m _DatasetKind\u001b[38;5;241m.\u001b[39mIterable \u001b[38;5;129;01mand\u001b[39;00m \\\n\u001b[1;32m    634\u001b[0m         \u001b[38;5;28mself\u001b[39m\u001b[38;5;241m.\u001b[39m_IterableDataset_len_called \u001b[38;5;129;01mis\u001b[39;00m \u001b[38;5;129;01mnot\u001b[39;00m \u001b[38;5;28;01mNone\u001b[39;00m \u001b[38;5;129;01mand\u001b[39;00m \\\n\u001b[1;32m    635\u001b[0m         \u001b[38;5;28mself\u001b[39m\u001b[38;5;241m.\u001b[39m_num_yielded \u001b[38;5;241m>\u001b[39m \u001b[38;5;28mself\u001b[39m\u001b[38;5;241m.\u001b[39m_IterableDataset_len_called:\n",
      "File \u001b[0;32m~/miniconda3/envs/qm7/lib/python3.11/site-packages/torch/utils/data/dataloader.py:675\u001b[0m, in \u001b[0;36m_SingleProcessDataLoaderIter._next_data\u001b[0;34m(self)\u001b[0m\n\u001b[1;32m    673\u001b[0m \u001b[38;5;28;01mdef\u001b[39;00m \u001b[38;5;21m_next_data\u001b[39m(\u001b[38;5;28mself\u001b[39m):\n\u001b[1;32m    674\u001b[0m     index \u001b[38;5;241m=\u001b[39m \u001b[38;5;28mself\u001b[39m\u001b[38;5;241m.\u001b[39m_next_index()  \u001b[38;5;66;03m# may raise StopIteration\u001b[39;00m\n\u001b[0;32m--> 675\u001b[0m     data \u001b[38;5;241m=\u001b[39m \u001b[38;5;28;43mself\u001b[39;49m\u001b[38;5;241;43m.\u001b[39;49m\u001b[43m_dataset_fetcher\u001b[49m\u001b[38;5;241;43m.\u001b[39;49m\u001b[43mfetch\u001b[49m\u001b[43m(\u001b[49m\u001b[43mindex\u001b[49m\u001b[43m)\u001b[49m  \u001b[38;5;66;03m# may raise StopIteration\u001b[39;00m\n\u001b[1;32m    676\u001b[0m     \u001b[38;5;28;01mif\u001b[39;00m \u001b[38;5;28mself\u001b[39m\u001b[38;5;241m.\u001b[39m_pin_memory:\n\u001b[1;32m    677\u001b[0m         data \u001b[38;5;241m=\u001b[39m _utils\u001b[38;5;241m.\u001b[39mpin_memory\u001b[38;5;241m.\u001b[39mpin_memory(data, \u001b[38;5;28mself\u001b[39m\u001b[38;5;241m.\u001b[39m_pin_memory_device)\n",
      "File \u001b[0;32m~/miniconda3/envs/qm7/lib/python3.11/site-packages/torch/utils/data/_utils/fetch.py:51\u001b[0m, in \u001b[0;36m_MapDatasetFetcher.fetch\u001b[0;34m(self, possibly_batched_index)\u001b[0m\n\u001b[1;32m     49\u001b[0m         data \u001b[38;5;241m=\u001b[39m \u001b[38;5;28mself\u001b[39m\u001b[38;5;241m.\u001b[39mdataset\u001b[38;5;241m.\u001b[39m__getitems__(possibly_batched_index)\n\u001b[1;32m     50\u001b[0m     \u001b[38;5;28;01melse\u001b[39;00m:\n\u001b[0;32m---> 51\u001b[0m         data \u001b[38;5;241m=\u001b[39m \u001b[43m[\u001b[49m\u001b[38;5;28;43mself\u001b[39;49m\u001b[38;5;241;43m.\u001b[39;49m\u001b[43mdataset\u001b[49m\u001b[43m[\u001b[49m\u001b[43midx\u001b[49m\u001b[43m]\u001b[49m\u001b[43m \u001b[49m\u001b[38;5;28;43;01mfor\u001b[39;49;00m\u001b[43m \u001b[49m\u001b[43midx\u001b[49m\u001b[43m \u001b[49m\u001b[38;5;129;43;01min\u001b[39;49;00m\u001b[43m \u001b[49m\u001b[43mpossibly_batched_index\u001b[49m\u001b[43m]\u001b[49m\n\u001b[1;32m     52\u001b[0m \u001b[38;5;28;01melse\u001b[39;00m:\n\u001b[1;32m     53\u001b[0m     data \u001b[38;5;241m=\u001b[39m \u001b[38;5;28mself\u001b[39m\u001b[38;5;241m.\u001b[39mdataset[possibly_batched_index]\n",
      "File \u001b[0;32m~/miniconda3/envs/qm7/lib/python3.11/site-packages/torch/utils/data/_utils/fetch.py:51\u001b[0m, in \u001b[0;36m<listcomp>\u001b[0;34m(.0)\u001b[0m\n\u001b[1;32m     49\u001b[0m         data \u001b[38;5;241m=\u001b[39m \u001b[38;5;28mself\u001b[39m\u001b[38;5;241m.\u001b[39mdataset\u001b[38;5;241m.\u001b[39m__getitems__(possibly_batched_index)\n\u001b[1;32m     50\u001b[0m     \u001b[38;5;28;01melse\u001b[39;00m:\n\u001b[0;32m---> 51\u001b[0m         data \u001b[38;5;241m=\u001b[39m [\u001b[38;5;28;43mself\u001b[39;49m\u001b[38;5;241;43m.\u001b[39;49m\u001b[43mdataset\u001b[49m\u001b[43m[\u001b[49m\u001b[43midx\u001b[49m\u001b[43m]\u001b[49m \u001b[38;5;28;01mfor\u001b[39;00m idx \u001b[38;5;129;01min\u001b[39;00m possibly_batched_index]\n\u001b[1;32m     52\u001b[0m \u001b[38;5;28;01melse\u001b[39;00m:\n\u001b[1;32m     53\u001b[0m     data \u001b[38;5;241m=\u001b[39m \u001b[38;5;28mself\u001b[39m\u001b[38;5;241m.\u001b[39mdataset[possibly_batched_index]\n",
      "File \u001b[0;32m~/mlelec/src/mlelec/data/dataset.py:430\u001b[0m, in \u001b[0;36mMLDataset.__getitem__\u001b[0;34m(self, idx)\u001b[0m\n\u001b[1;32m    426\u001b[0m \u001b[38;5;28;01melse\u001b[39;00m:\n\u001b[1;32m    427\u001b[0m     \u001b[38;5;28;01massert\u001b[39;00m (\n\u001b[1;32m    428\u001b[0m         \u001b[38;5;28mself\u001b[39m\u001b[38;5;241m.\u001b[39mfeatures \u001b[38;5;129;01mis\u001b[39;00m \u001b[38;5;129;01mnot\u001b[39;00m \u001b[38;5;28;01mNone\u001b[39;00m\n\u001b[1;32m    429\u001b[0m     ), \u001b[38;5;124m\"\u001b[39m\u001b[38;5;124mFeatures not set, call _set_features() first\u001b[39m\u001b[38;5;124m\"\u001b[39m\n\u001b[0;32m--> 430\u001b[0m     x \u001b[38;5;241m=\u001b[39m \u001b[43moperations\u001b[49m\u001b[38;5;241;43m.\u001b[39;49m\u001b[43mslice\u001b[49m\u001b[43m(\u001b[49m\n\u001b[1;32m    431\u001b[0m \u001b[43m        \u001b[49m\u001b[38;5;28;43mself\u001b[39;49m\u001b[38;5;241;43m.\u001b[39;49m\u001b[43mfeatures\u001b[49m\u001b[43m,\u001b[49m\n\u001b[1;32m    432\u001b[0m \u001b[43m        \u001b[49m\u001b[43maxis\u001b[49m\u001b[38;5;241;43m=\u001b[39;49m\u001b[38;5;124;43m\"\u001b[39;49m\u001b[38;5;124;43msamples\u001b[39;49m\u001b[38;5;124;43m\"\u001b[39;49m\u001b[43m,\u001b[49m\n\u001b[1;32m    433\u001b[0m \u001b[43m        \u001b[49m\u001b[43mlabels\u001b[49m\u001b[38;5;241;43m=\u001b[39;49m\u001b[43mLabels\u001b[49m\u001b[43m(\u001b[49m\n\u001b[1;32m    434\u001b[0m \u001b[43m            \u001b[49m\u001b[43mnames\u001b[49m\u001b[38;5;241;43m=\u001b[39;49m\u001b[43m[\u001b[49m\u001b[38;5;124;43m\"\u001b[39;49m\u001b[38;5;124;43mstructure\u001b[39;49m\u001b[38;5;124;43m\"\u001b[39;49m\u001b[43m]\u001b[49m\u001b[43m,\u001b[49m\u001b[43m \u001b[49m\u001b[43mvalues\u001b[49m\u001b[38;5;241;43m=\u001b[39;49m\u001b[43mnp\u001b[49m\u001b[38;5;241;43m.\u001b[39;49m\u001b[43masarray\u001b[49m\u001b[43m(\u001b[49m\u001b[43m[\u001b[49m\u001b[43midx\u001b[49m\u001b[43m]\u001b[49m\u001b[43m)\u001b[49m\u001b[38;5;241;43m.\u001b[39;49m\u001b[43mreshape\u001b[49m\u001b[43m(\u001b[49m\u001b[38;5;241;43m-\u001b[39;49m\u001b[38;5;241;43m1\u001b[39;49m\u001b[43m,\u001b[49m\u001b[43m \u001b[49m\u001b[38;5;241;43m1\u001b[39;49m\u001b[43m)\u001b[49m\n\u001b[1;32m    435\u001b[0m \u001b[43m        \u001b[49m\u001b[43m)\u001b[49m\u001b[43m,\u001b[49m\n\u001b[1;32m    436\u001b[0m \u001b[43m    \u001b[49m\u001b[43m)\u001b[49m\n\u001b[1;32m    437\u001b[0m     \u001b[38;5;28;01mif\u001b[39;00m \u001b[38;5;28mself\u001b[39m\u001b[38;5;241m.\u001b[39mmodel_return \u001b[38;5;241m==\u001b[39m \u001b[38;5;124m\"\u001b[39m\u001b[38;5;124mblocks\u001b[39m\u001b[38;5;124m\"\u001b[39m:\n\u001b[1;32m    438\u001b[0m         y \u001b[38;5;241m=\u001b[39m operations\u001b[38;5;241m.\u001b[39mslice(\n\u001b[1;32m    439\u001b[0m             \u001b[38;5;28mself\u001b[39m\u001b[38;5;241m.\u001b[39mtarget\u001b[38;5;241m.\u001b[39mblocks,\n\u001b[1;32m    440\u001b[0m             axis\u001b[38;5;241m=\u001b[39m\u001b[38;5;124m\"\u001b[39m\u001b[38;5;124msamples\u001b[39m\u001b[38;5;124m\"\u001b[39m,\n\u001b[0;32m   (...)\u001b[0m\n\u001b[1;32m    443\u001b[0m             ),\n\u001b[1;32m    444\u001b[0m         )\n",
      "File \u001b[0;32m~/miniconda3/envs/qm7/lib/python3.11/site-packages/metatensor/operations/slice.py:225\u001b[0m, in \u001b[0;36mslice\u001b[0;34m(tensor, axis, labels)\u001b[0m\n\u001b[1;32m    217\u001b[0m         \u001b[38;5;28;01mraise\u001b[39;00m \u001b[38;5;167;01mTypeError\u001b[39;00m(\n\u001b[1;32m    218\u001b[0m             \u001b[38;5;124mf\u001b[39m\u001b[38;5;124m\"\u001b[39m\u001b[38;5;124m`tensor` must be a metatensor TensorMap, not \u001b[39m\u001b[38;5;132;01m{\u001b[39;00m\u001b[38;5;28mtype\u001b[39m(tensor)\u001b[38;5;132;01m}\u001b[39;00m\u001b[38;5;124m\"\u001b[39m\n\u001b[1;32m    219\u001b[0m         )\n\u001b[1;32m    221\u001b[0m _check_args(tensor\u001b[38;5;241m.\u001b[39mblock(\u001b[38;5;241m0\u001b[39m), axis\u001b[38;5;241m=\u001b[39maxis, labels\u001b[38;5;241m=\u001b[39mlabels)\n\u001b[1;32m    223\u001b[0m \u001b[38;5;28;01mreturn\u001b[39;00m TensorMap(\n\u001b[1;32m    224\u001b[0m     keys\u001b[38;5;241m=\u001b[39mtensor\u001b[38;5;241m.\u001b[39mkeys,\n\u001b[0;32m--> 225\u001b[0m     blocks\u001b[38;5;241m=\u001b[39m\u001b[43m[\u001b[49m\n\u001b[1;32m    226\u001b[0m \u001b[43m        \u001b[49m\u001b[43m_slice_block\u001b[49m\u001b[43m(\u001b[49m\u001b[43mtensor\u001b[49m\u001b[43m[\u001b[49m\u001b[43mtensor\u001b[49m\u001b[38;5;241;43m.\u001b[39;49m\u001b[43mkeys\u001b[49m\u001b[38;5;241;43m.\u001b[39;49m\u001b[43mentry\u001b[49m\u001b[43m(\u001b[49m\u001b[43mi\u001b[49m\u001b[43m)\u001b[49m\u001b[43m]\u001b[49m\u001b[43m,\u001b[49m\u001b[43m \u001b[49m\u001b[43maxis\u001b[49m\u001b[43m,\u001b[49m\u001b[43m \u001b[49m\u001b[43mlabels\u001b[49m\u001b[43m)\u001b[49m\n\u001b[1;32m    227\u001b[0m \u001b[43m        \u001b[49m\u001b[38;5;28;43;01mfor\u001b[39;49;00m\u001b[43m \u001b[49m\u001b[43mi\u001b[49m\u001b[43m \u001b[49m\u001b[38;5;129;43;01min\u001b[39;49;00m\u001b[43m \u001b[49m\u001b[38;5;28;43mrange\u001b[39;49m\u001b[43m(\u001b[49m\u001b[38;5;28;43mlen\u001b[39;49m\u001b[43m(\u001b[49m\u001b[43mtensor\u001b[49m\u001b[38;5;241;43m.\u001b[39;49m\u001b[43mkeys\u001b[49m\u001b[43m)\u001b[49m\u001b[43m)\u001b[49m\n\u001b[1;32m    228\u001b[0m \u001b[43m    \u001b[49m\u001b[43m]\u001b[49m,\n\u001b[1;32m    229\u001b[0m )\n",
      "File \u001b[0;32m~/miniconda3/envs/qm7/lib/python3.11/site-packages/metatensor/operations/slice.py:226\u001b[0m, in \u001b[0;36m<listcomp>\u001b[0;34m(.0)\u001b[0m\n\u001b[1;32m    217\u001b[0m         \u001b[38;5;28;01mraise\u001b[39;00m \u001b[38;5;167;01mTypeError\u001b[39;00m(\n\u001b[1;32m    218\u001b[0m             \u001b[38;5;124mf\u001b[39m\u001b[38;5;124m\"\u001b[39m\u001b[38;5;124m`tensor` must be a metatensor TensorMap, not \u001b[39m\u001b[38;5;132;01m{\u001b[39;00m\u001b[38;5;28mtype\u001b[39m(tensor)\u001b[38;5;132;01m}\u001b[39;00m\u001b[38;5;124m\"\u001b[39m\n\u001b[1;32m    219\u001b[0m         )\n\u001b[1;32m    221\u001b[0m _check_args(tensor\u001b[38;5;241m.\u001b[39mblock(\u001b[38;5;241m0\u001b[39m), axis\u001b[38;5;241m=\u001b[39maxis, labels\u001b[38;5;241m=\u001b[39mlabels)\n\u001b[1;32m    223\u001b[0m \u001b[38;5;28;01mreturn\u001b[39;00m TensorMap(\n\u001b[1;32m    224\u001b[0m     keys\u001b[38;5;241m=\u001b[39mtensor\u001b[38;5;241m.\u001b[39mkeys,\n\u001b[1;32m    225\u001b[0m     blocks\u001b[38;5;241m=\u001b[39m[\n\u001b[0;32m--> 226\u001b[0m         \u001b[43m_slice_block\u001b[49m\u001b[43m(\u001b[49m\u001b[43mtensor\u001b[49m\u001b[43m[\u001b[49m\u001b[43mtensor\u001b[49m\u001b[38;5;241;43m.\u001b[39;49m\u001b[43mkeys\u001b[49m\u001b[38;5;241;43m.\u001b[39;49m\u001b[43mentry\u001b[49m\u001b[43m(\u001b[49m\u001b[43mi\u001b[49m\u001b[43m)\u001b[49m\u001b[43m]\u001b[49m\u001b[43m,\u001b[49m\u001b[43m \u001b[49m\u001b[43maxis\u001b[49m\u001b[43m,\u001b[49m\u001b[43m \u001b[49m\u001b[43mlabels\u001b[49m\u001b[43m)\u001b[49m\n\u001b[1;32m    227\u001b[0m         \u001b[38;5;28;01mfor\u001b[39;00m i \u001b[38;5;129;01min\u001b[39;00m \u001b[38;5;28mrange\u001b[39m(\u001b[38;5;28mlen\u001b[39m(tensor\u001b[38;5;241m.\u001b[39mkeys))\n\u001b[1;32m    228\u001b[0m     ],\n\u001b[1;32m    229\u001b[0m )\n",
      "File \u001b[0;32m~/miniconda3/envs/qm7/lib/python3.11/site-packages/metatensor/operations/slice.py:19\u001b[0m, in \u001b[0;36m_slice_block\u001b[0;34m(block, axis, labels)\u001b[0m\n\u001b[1;32m     16\u001b[0m all_samples \u001b[38;5;241m=\u001b[39m block\u001b[38;5;241m.\u001b[39msamples\u001b[38;5;241m.\u001b[39mview(labels\u001b[38;5;241m.\u001b[39mnames)\n\u001b[1;32m     17\u001b[0m \u001b[38;5;66;03m# create an arrays of bools indicating which samples indices to keep\u001b[39;00m\n\u001b[1;32m     18\u001b[0m samples_mask \u001b[38;5;241m=\u001b[39m _dispatch\u001b[38;5;241m.\u001b[39mbool_array_like(\n\u001b[0;32m---> 19\u001b[0m     \u001b[43m[\u001b[49m\u001b[43mall_samples\u001b[49m\u001b[38;5;241;43m.\u001b[39;49m\u001b[43mentry\u001b[49m\u001b[43m(\u001b[49m\u001b[43mi\u001b[49m\u001b[43m)\u001b[49m\u001b[43m \u001b[49m\u001b[38;5;129;43;01min\u001b[39;49;00m\u001b[43m \u001b[49m\u001b[43mlabels\u001b[49m\u001b[43m \u001b[49m\u001b[38;5;28;43;01mfor\u001b[39;49;00m\u001b[43m \u001b[49m\u001b[43mi\u001b[49m\u001b[43m \u001b[49m\u001b[38;5;129;43;01min\u001b[39;49;00m\u001b[43m \u001b[49m\u001b[38;5;28;43mrange\u001b[39;49m\u001b[43m(\u001b[49m\u001b[38;5;28;43mlen\u001b[39;49m\u001b[43m(\u001b[49m\u001b[43mall_samples\u001b[49m\u001b[43m)\u001b[49m\u001b[43m)\u001b[49m\u001b[43m]\u001b[49m,\n\u001b[1;32m     20\u001b[0m     block\u001b[38;5;241m.\u001b[39mvalues,\n\u001b[1;32m     21\u001b[0m )\n\u001b[1;32m     22\u001b[0m new_values \u001b[38;5;241m=\u001b[39m _dispatch\u001b[38;5;241m.\u001b[39mmask(block\u001b[38;5;241m.\u001b[39mvalues, \u001b[38;5;241m0\u001b[39m, samples_mask)\n\u001b[1;32m     23\u001b[0m new_samples \u001b[38;5;241m=\u001b[39m Labels(\n\u001b[1;32m     24\u001b[0m     block\u001b[38;5;241m.\u001b[39msamples\u001b[38;5;241m.\u001b[39mnames,\n\u001b[1;32m     25\u001b[0m     _dispatch\u001b[38;5;241m.\u001b[39mmask(block\u001b[38;5;241m.\u001b[39msamples\u001b[38;5;241m.\u001b[39mvalues, \u001b[38;5;241m0\u001b[39m, samples_mask),\n\u001b[1;32m     26\u001b[0m )\n",
      "File \u001b[0;32m~/miniconda3/envs/qm7/lib/python3.11/site-packages/metatensor/operations/slice.py:19\u001b[0m, in \u001b[0;36m<listcomp>\u001b[0;34m(.0)\u001b[0m\n\u001b[1;32m     16\u001b[0m all_samples \u001b[38;5;241m=\u001b[39m block\u001b[38;5;241m.\u001b[39msamples\u001b[38;5;241m.\u001b[39mview(labels\u001b[38;5;241m.\u001b[39mnames)\n\u001b[1;32m     17\u001b[0m \u001b[38;5;66;03m# create an arrays of bools indicating which samples indices to keep\u001b[39;00m\n\u001b[1;32m     18\u001b[0m samples_mask \u001b[38;5;241m=\u001b[39m _dispatch\u001b[38;5;241m.\u001b[39mbool_array_like(\n\u001b[0;32m---> 19\u001b[0m     [\u001b[43mall_samples\u001b[49m\u001b[38;5;241;43m.\u001b[39;49m\u001b[43mentry\u001b[49m\u001b[43m(\u001b[49m\u001b[43mi\u001b[49m\u001b[43m)\u001b[49m\u001b[43m \u001b[49m\u001b[38;5;129;43;01min\u001b[39;49;00m\u001b[43m \u001b[49m\u001b[43mlabels\u001b[49m \u001b[38;5;28;01mfor\u001b[39;00m i \u001b[38;5;129;01min\u001b[39;00m \u001b[38;5;28mrange\u001b[39m(\u001b[38;5;28mlen\u001b[39m(all_samples))],\n\u001b[1;32m     20\u001b[0m     block\u001b[38;5;241m.\u001b[39mvalues,\n\u001b[1;32m     21\u001b[0m )\n\u001b[1;32m     22\u001b[0m new_values \u001b[38;5;241m=\u001b[39m _dispatch\u001b[38;5;241m.\u001b[39mmask(block\u001b[38;5;241m.\u001b[39mvalues, \u001b[38;5;241m0\u001b[39m, samples_mask)\n\u001b[1;32m     23\u001b[0m new_samples \u001b[38;5;241m=\u001b[39m Labels(\n\u001b[1;32m     24\u001b[0m     block\u001b[38;5;241m.\u001b[39msamples\u001b[38;5;241m.\u001b[39mnames,\n\u001b[1;32m     25\u001b[0m     _dispatch\u001b[38;5;241m.\u001b[39mmask(block\u001b[38;5;241m.\u001b[39msamples\u001b[38;5;241m.\u001b[39mvalues, \u001b[38;5;241m0\u001b[39m, samples_mask),\n\u001b[1;32m     26\u001b[0m )\n",
      "File \u001b[0;32m~/miniconda3/envs/qm7/lib/python3.11/site-packages/metatensor/labels.py:449\u001b[0m, in \u001b[0;36mLabels.__contains__\u001b[0;34m(self, entry)\u001b[0m\n\u001b[1;32m    444\u001b[0m \u001b[38;5;28;01mif\u001b[39;00m \u001b[38;5;28mself\u001b[39m\u001b[38;5;241m.\u001b[39mis_view():\n\u001b[1;32m    445\u001b[0m     \u001b[38;5;28;01mraise\u001b[39;00m \u001b[38;5;167;01mValueError\u001b[39;00m(\n\u001b[1;32m    446\u001b[0m         \u001b[38;5;124m\"\u001b[39m\u001b[38;5;124mcan not call `__contains__` on a Labels view, call `to_owned` before\u001b[39m\u001b[38;5;124m\"\u001b[39m\n\u001b[1;32m    447\u001b[0m     )\n\u001b[0;32m--> 449\u001b[0m \u001b[38;5;28;01mreturn\u001b[39;00m \u001b[38;5;28;43mself\u001b[39;49m\u001b[38;5;241;43m.\u001b[39;49m\u001b[43mposition\u001b[49m\u001b[43m(\u001b[49m\u001b[43mentry\u001b[49m\u001b[43m)\u001b[49m \u001b[38;5;129;01mis\u001b[39;00m \u001b[38;5;129;01mnot\u001b[39;00m \u001b[38;5;28;01mNone\u001b[39;00m\n",
      "File \u001b[0;32m~/miniconda3/envs/qm7/lib/python3.11/site-packages/metatensor/labels.py:774\u001b[0m, in \u001b[0;36mLabels.position\u001b[0;34m(self, entry)\u001b[0m\n\u001b[1;32m    769\u001b[0m     \u001b[38;5;28;01mraise\u001b[39;00m \u001b[38;5;167;01mValueError\u001b[39;00m(\n\u001b[1;32m    770\u001b[0m         \u001b[38;5;124m\"\u001b[39m\u001b[38;5;124mcan not call `position` on a Labels view, call `to_owned` before\u001b[39m\u001b[38;5;124m\"\u001b[39m\n\u001b[1;32m    771\u001b[0m     )\n\u001b[1;32m    773\u001b[0m result \u001b[38;5;241m=\u001b[39m ctypes\u001b[38;5;241m.\u001b[39mc_int64()\n\u001b[0;32m--> 774\u001b[0m c_entry \u001b[38;5;241m=\u001b[39m \u001b[43mctypes\u001b[49m\u001b[38;5;241;43m.\u001b[39;49m\u001b[43mARRAY\u001b[49m\u001b[43m(\u001b[49m\u001b[43mctypes\u001b[49m\u001b[38;5;241;43m.\u001b[39;49m\u001b[43mc_int32\u001b[49m\u001b[43m,\u001b[49m\u001b[43m \u001b[49m\u001b[38;5;28;43mlen\u001b[39;49m\u001b[43m(\u001b[49m\u001b[43mentry\u001b[49m\u001b[43m)\u001b[49m\u001b[43m)\u001b[49m()\n\u001b[1;32m    775\u001b[0m \u001b[38;5;28;01mfor\u001b[39;00m i, v \u001b[38;5;129;01min\u001b[39;00m \u001b[38;5;28menumerate\u001b[39m(entry):\n\u001b[1;32m    776\u001b[0m     c_entry[i] \u001b[38;5;241m=\u001b[39m ctypes\u001b[38;5;241m.\u001b[39mc_int32(v)\n",
      "File \u001b[0;32m~/miniconda3/envs/qm7/lib/python3.11/ctypes/__init__.py:315\u001b[0m, in \u001b[0;36mARRAY\u001b[0;34m(typ, len)\u001b[0m\n\u001b[1;32m    312\u001b[0m     \u001b[38;5;28;01mdel\u001b[39;00m _pointer_type_cache[\u001b[38;5;28mid\u001b[39m(pointer)]\n\u001b[1;32m    314\u001b[0m \u001b[38;5;66;03m# XXX Deprecated\u001b[39;00m\n\u001b[0;32m--> 315\u001b[0m \u001b[38;5;28;01mdef\u001b[39;00m \u001b[38;5;21mARRAY\u001b[39m(typ, \u001b[38;5;28mlen\u001b[39m):\n\u001b[1;32m    316\u001b[0m     \u001b[38;5;28;01mreturn\u001b[39;00m typ \u001b[38;5;241m*\u001b[39m \u001b[38;5;28mlen\u001b[39m\n\u001b[1;32m    318\u001b[0m \u001b[38;5;66;03m################################################################\u001b[39;00m\n",
      "\u001b[0;31mKeyboardInterrupt\u001b[0m: "
     ]
    }
   ],
   "source": [
    "iterator = tqdm(range(nepochs))\n",
    "\n",
    "for epoch in iterator:\n",
    "    model.train(True)\n",
    "    train_loss = 0\n",
    "    for data in train_dl:\n",
    "        optimizer.zero_grad()\n",
    "        idx = data[\"idx\"]\n",
    "\n",
    "        #forward pass\n",
    "        pred = model(data[\"input\"], return_type=\"tensor\", batch_indices=idx)\n",
    "        pred_evals = compute_eigvals(ml_data, pred, data[\"idx\"])\n",
    "        targ_evals = compute_eigvals(ml_data, ml_data.target.tensor[idx], data[\"idx\"])\n",
    "        \n",
    "        loss = loss_fn(pred_evals, targ_evals)\n",
    "        # train_dip_pred = compute_batch_dipole_moment(\n",
    "        #     ml_data, pred, batch_indices=idx, mfs=all_mfs\n",
    "        # )\n",
    "        # dip = torch.from_numpy(ml_data.molecule_data.target[\"dipole_moment\"][idx].astype(np.float64))\n",
    "        \n",
    "        # loss = loss_fn(train_dip_pred, dip)\n",
    "        train_loss += loss.item()\n",
    "        \n",
    "        # backward pass\n",
    "        loss.backward()\n",
    "        optimizer.step()\n",
    "\n",
    "    losses.append(train_loss)\n",
    "    scheduler.step(train_loss)\n",
    "    \n",
    "    model.train(False)\n",
    "\n",
    "    if epoch % val_interval == 0:\n",
    "        val_loss = 0\n",
    "        for i, data in enumerate(val_dl):\n",
    "            idx = data[\"idx\"]\n",
    "            val_pred = model(data[\"input\"], return_type=\"tensor\", batch_indices=idx)\n",
    "            val_pred_eval = compute_eigvals(ml_data, val_pred, data[\"idx\"])\n",
    "            val_targ_eval = compute_eigvals(ml_data, ml_data.target.tensor[idx], data[\"idx\"])\n",
    "            vloss = loss_fn(val_pred_eval, val_targ_eval)\n",
    "            \n",
    "            # with io.capture_output() as captured:\n",
    "            #     val_dip_pred = compute_batch_dipole_moment(\n",
    "            #         ml_data, val_pred, batch_indices=idx, mfs=all_mfs\n",
    "            #     )\n",
    "            # val_dip = torch.from_numpy(ml_data.molecule_data.target[\"dipole_moment\"][idx].astype(np.float64))\n",
    "            # vloss = loss_fn(val_dip_pred, val_dip)\n",
    "            val_loss += vloss.item()\n",
    "        new_best = val_loss < best\n",
    "        if new_best:\n",
    "            best = val_loss\n",
    "            # torch.save(model.state_dict(), 'best_model_dipole.pt')\n",
    "            early_stop_count = 0\n",
    "        else:\n",
    "            early_stop_count += 1\n",
    "        if early_stop_count > early_stop_criteria:\n",
    "            print(f\"Early stopping at epoch {epoch}\")\n",
    "            print(f\"Epoch {epoch}, train loss {train_loss/len(ml_data.train_idx)}\")\n",
    "\n",
    "            print(f\"Epoch {epoch} val loss {val_loss/len(ml_data.val_idx)}\")\n",
    "            # Save last best model\n",
    "            break\n",
    "\n",
    "    if epoch % 1 == 0:\n",
    "        iterator.set_postfix(train_loss = train_loss/len(ml_data.train_idx), Val_loss = val_loss/len(ml_data.val_idx))"
   ]
  },
  {
   "cell_type": "code",
   "execution_count": 55,
   "id": "8c498b16",
   "metadata": {},
   "outputs": [
    {
     "data": {
      "text/plain": [
       "[<matplotlib.lines.Line2D at 0x7f0f240492d0>]"
      ]
     },
     "execution_count": 55,
     "metadata": {},
     "output_type": "execute_result"
    },
    {
     "data": {
      "image/png": "[encoded data removed]",
      "text/plain": [
       "<Figure size 640x480 with 1 Axes>"
      ]
     },
     "metadata": {},
     "output_type": "display_data"
    }
   ],
   "source": [
    "from matplotlib import pyplot as plt\n",
    "plt.loglog(losses)"
   ]
  },
  {
   "cell_type": "code",
   "execution_count": 57,
   "id": "23dc049c",
   "metadata": {},
   "outputs": [],
   "source": [
    "with io.capture_output() as captured:\n",
    "    test_fock_predictions = model.forward(\n",
    "        ml_data.feat_test, return_type=\"tensor\", ml_data.test_idx,\n",
    "    )"
   ]
  },
  {
   "cell_type": "code",
   "execution_count": null,
   "id": "e6b14783",
   "metadata": {},
   "outputs": [],
   "source": [
    "test_eva_pred_ind = compute_eigvals(ml_data, test_fock_predictions, ml_data.test_idx)\n",
    "test_eva_ref = compute_eigvals(ml_data, ml_data.target.tensor[ml_data.test_idx], ml_data.test_idx)"
   ]
  },
  {
   "cell_type": "code",
   "execution_count": 74,
   "id": "53130653-9bac-49f7-8e92-638966cbc4f9",
   "metadata": {},
   "outputs": [
    {
     "data": {
      "text/plain": [
       "tensor(0.0004, grad_fn=<DivBackward0>)"
      ]
     },
     "execution_count": 74,
     "metadata": {},
     "output_type": "execute_result"
    }
   ],
   "source": [
    "error = loss_fn(test_eva_pred_ind, test_eva_ref) / len(ml_data.test_idx)\n",
    "error"
   ]
  },
  {
   "cell_type": "code",
   "execution_count": 77,
   "id": "a2c94ae6-4826-42a3-822f-e22b4b1cfe31",
   "metadata": {},
   "outputs": [
    {
     "name": "stdout",
     "output_type": "stream",
     "text": [
      "Test RMSE on MO energies after indirect learning on dipoles 0.13131 eV \n"
     ]
    }
   ],
   "source": [
    "print(\"Test RMSE on MO energies after indirect learning on eigenvalues {:.5f} eV \".format(torch.sqrt(error/16)*Hartree))"
   ]
  },
  {
   "cell_type": "code",
   "execution_count": 65,
   "id": "99bf9c32-3c62-4a5c-a44f-cb52108ef94e",
   "metadata": {},
   "outputs": [
    {
     "data": {
      "image/png": "[encoded data removed]",
      "text/plain": [
       "<Figure size 640x480 with 1 Axes>"
      ]
     },
     "metadata": {},
     "output_type": "display_data"
    }
   ],
   "source": [
    "x = test_eva_ref.detach().numpy()  * Hartree\n",
    "y = test_eva_pred_ind.detach().numpy()  * Hartree\n",
    "\n",
    "x = x[x>-50]\n",
    "y = y[y>-50]\n",
    "plt.scatter(x,y)\n",
    "    \n",
    "plt.plot([-35,35], [-35,35], linestyle='--', color='black', linewidth=0.5)\n",
    "plt.xlabel('Target MO Energies (eV)')\n",
    "plt.ylabel('Predicted MO Energies (eV)')\n",
    "plt.show()"
   ]
  },
  {
   "cell_type": "code",
   "execution_count": null,
   "id": "891f8cb3-00a6-4f33-a95b-ca7ee2534f89",
   "metadata": {},
   "outputs": [],
   "source": []
  }
 ],
 "metadata": {
  "kernelspec": {
   "display_name": "Python 3 (ipykernel)",
   "language": "python",
   "name": "python3"
  },
  "language_info": {
   "codemirror_mode": {
    "name": "ipython",
    "version": 3
   },
   "file_extension": ".py",
   "mimetype": "text/x-python",
   "name": "python",
   "nbconvert_exporter": "python",
   "pygments_lexer": "ipython3",
   "version": "3.11.8"
  },
  "toc": {
   "base_numbering": 1,
   "nav_menu": {},
   "number_sections": true,
   "sideBar": true,
   "skip_h1_title": false,
   "title_cell": "Table of Contents",
   "title_sidebar": "Contents",
   "toc_cell": false,
   "toc_position": {},
   "toc_section_display": true,
   "toc_window_display": false
  }
 },
 "nbformat": 4,
 "nbformat_minor": 5
}
