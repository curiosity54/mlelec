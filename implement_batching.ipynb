{
 "cells": [
  {
   "cell_type": "code",
   "execution_count": 1,
   "id": "a3d8f12c-62ee-4d46-b766-c3b49d817fe2",
   "metadata": {},
   "outputs": [],
   "source": [
    "%load_ext autoreload\n",
    "%autoreload 2"
   ]
  },
  {
   "cell_type": "code",
   "execution_count": 2,
   "id": "635a399b-c69b-4438-bac6-4ba0712d0d06",
   "metadata": {},
   "outputs": [
    {
     "name": "stderr",
     "output_type": "stream",
     "text": [
      "/home/pegolo/micromamba/envs/sci/lib/python3.11/site-packages/pyscf/dft/libxc.py:771: UserWarning: Since PySCF-2.3, B3LYP (and B3P86) are changed to the VWN-RPA variant, corresponding to the original definition by Stephens et al. (issue 1480) and the same as the B3LYP functional in Gaussian. To restore the VWN5 definition, you can put the setting \"B3LYP_WITH_VWN5 = True\" in pyscf_conf.py\n",
      "  warnings.warn('Since PySCF-2.3, B3LYP (and B3P86) are changed to the VWN-RPA variant, '\n"
     ]
    }
   ],
   "source": [
    "from ase.io import read\n",
    "from ase.visualize import view\n",
    "import matplotlib.pyplot as plt\n",
    "import numpy as np \n",
    "import torch \n",
    "torch.set_default_dtype(torch.float64)\n",
    "\n",
    "import rascaline\n",
    "\n",
    "import metatensor \n",
    "from metatensor import Labels, TensorBlock, TensorMap\n",
    "from metatensor import load, sort\n",
    "\n",
    "from mlelec.data.dataset import PySCFPeriodicDataset, split_by_Aij_mts\n",
    "from mlelec.utils.twocenter_utils import _to_coupled_basis\n",
    "from mlelec.utils.pbc_utils import matrix_to_blocks, kmatrix_to_blocks, TMap_bloch_sums, precompute_phase, kblocks_to_matrix, kmatrix_to_blocks, blocks_to_matrix, matrix_to_blocks\n",
    "from mlelec.utils.plot_utils import print_matrix, matrix_norm, block_matrix_norm, plot_block_errors\n",
    "from mlelec.features.acdc import pair_features, single_center_features, twocenter_features_periodic_NH, twocenter_hermitian_features\n",
    "from mlelec.models.linear import LinearModelPeriodic"
   ]
  },
  {
   "cell_type": "code",
   "execution_count": 3,
   "id": "26a54e69-a6cf-413a-a1fa-bec6edae654c",
   "metadata": {},
   "outputs": [],
   "source": [
    "def get_targets(dataset, device =\"cpu\", cutoff = None, target='fock', all_pairs = False, sort_orbs = True):\n",
    "    \n",
    "    blocks = matrix_to_blocks(dataset, device = device, cutoff = cutoff, all_pairs = all_pairs, target = target, sort_orbs = sort_orbs)\n",
    "    coupled_blocks = _to_coupled_basis(blocks, skip_symmetry = True, device = device, translations = True)\n",
    "\n",
    "    blocks = blocks.to(arrays='numpy')\n",
    "    blocks = sort(blocks)\n",
    "    blocks = blocks.to(arrays='torch')\n",
    "    \n",
    "    coupled_blocks = coupled_blocks.to(arrays='numpy')\n",
    "    coupled_blocks = sort(coupled_blocks)\n",
    "    coupled_blocks = coupled_blocks.to(arrays='torch')\n",
    "    \n",
    "    return blocks, coupled_blocks"
   ]
  },
  {
   "cell_type": "code",
   "execution_count": 4,
   "id": "cc04a6ae-03c9-489e-b7e3-347cc86f8dfa",
   "metadata": {},
   "outputs": [],
   "source": [
    "def compute_features(dataset, all_pairs=False):\n",
    "\n",
    "    rhoij = pair_features(dataset.structures, hypers_atom, hypers_pair, order_nu = 1, all_pairs = all_pairs, both_centers = both_centers,\n",
    "                          kmesh = dataset.kmesh, device = device, lcut = LCUT, return_rho0ij = return_rho0ij)  \n",
    "    \n",
    "    if both_centers and not return_rho0ij:\n",
    "        NU = 3\n",
    "    else:\n",
    "        NU = 2\n",
    "    rhonui = single_center_features(dataset.structures, hypers_atom, order_nu = NU, lcut = LCUT, device = device,\n",
    "                                    feature_names = rhoij.property_names)\n",
    "    \n",
    "    hfeat = twocenter_features_periodic_NH(single_center = rhonui, pair = rhoij, all_pairs = all_pairs)\n",
    "\n",
    "    return hfeat"
   ]
  },
  {
   "cell_type": "code",
   "execution_count": 5,
   "id": "f0131f6a-72a2-445e-9384-0ba95406c112",
   "metadata": {},
   "outputs": [],
   "source": [
    "device = 'cpu'\n",
    "\n",
    "orbitals = {\n",
    "    'sto-3g': {5: [[1,0,0],[2,0,0],[2,1,-1], [2,1,0],[2,1,1]], \n",
    "               6: [[1,0,0],[2,0,0],[2,1,-1], [2,1,0],[2,1,1]], \n",
    "               7: [[1,0,0],[2,0,0],[2,1,-1], [2,1,0],[2,1,1]]}, \n",
    "    \n",
    "    'def2svp': {6: [[1,0,0],[2,0,0],[3,0,0],[2,1,1], [2,1,-1],[2,1,0], [3,1,1], [3,1,-1],[3,1,0], [3,2,-2], [3,2,-1],[3,2,0], [3,2,1],[3,2,2]]},\n",
    "    'benzene': {6: [[2,0,0],[2,1,-1], [2,1,0],[2,1,1]], 1:[[1,0,0]]},\n",
    "    'gthszvmolopt': {\n",
    "        6: [[2, 0, 0], [2, 1, -1], [2, 1, 0], [2, 1, 1]],\n",
    "        \n",
    "        16: [[3,0,0], \n",
    "             [3,1,-1], [3,1,0], [3,1,1]],\n",
    "\n",
    "        42: [[4,0,0], \n",
    "             [5,0,0], \n",
    "             [4,1,-1], [4,1,0], [4,1,1], \n",
    "             [4, 2, -2], [4, 2, -1], [4, 2, 0], [4, 2, 1], [4, 2, 2]]}\n",
    "}"
   ]
  },
  {
   "cell_type": "markdown",
   "id": "61756a8d-5fbe-4fd2-9521-4a4604762d6d",
   "metadata": {},
   "source": [
    "# QC dataset"
   ]
  },
  {
   "cell_type": "code",
   "execution_count": 60,
   "id": "0cb8d851-377b-4bd5-a632-397f666731e1",
   "metadata": {},
   "outputs": [],
   "source": [
    "workdir = './'\n",
    "START = 0 \n",
    "STOP = 5\n",
    "ORBS = 'sto-3g'\n",
    "root = f'{workdir}/examples/data/periodic/deepH_graphene/wrap/'\n",
    "data_dir = root\n",
    "frames = read(f'{data_dir}/wrapped_deepH_graphene.xyz', slice(START, STOP))\n",
    "rfock = [np.load(f\"{data_dir}/realfock_{i}.npy\", allow_pickle = True).item() for i in range(START, STOP)]\n",
    "rover = [np.load(f\"{data_dir}/realoverlap_{i}.npy\", allow_pickle = True).item() for i in range(START, STOP)]\n",
    "kmesh = [1,1,1]\n",
    "dataset = PySCFPeriodicDataset(frames = frames, \n",
    "                               kmesh = kmesh, \n",
    "                               dimension = 2,\n",
    "                               fock_realspace = rfock, \n",
    "                               overlap_realspace = rover, \n",
    "                               device = device, \n",
    "                               orbs = orbitals[ORBS], \n",
    "                               orbs_name = 'sto-3g')"
   ]
  },
  {
   "cell_type": "markdown",
   "id": "e3873bac-ec05-4a55-aeb6-abc711ebe1b2",
   "metadata": {},
   "source": [
    "# Targets"
   ]
  },
  {
   "cell_type": "code",
   "execution_count": 61,
   "id": "a4ac2b01-c2a3-47e2-9296-323a5eddd158",
   "metadata": {},
   "outputs": [],
   "source": [
    "cutoff = 4"
   ]
  },
  {
   "cell_type": "code",
   "execution_count": 62,
   "id": "567ec238-ff88-4497-930f-fcb0551861ba",
   "metadata": {},
   "outputs": [],
   "source": [
    "target_blocks, target_coupled_blocks = get_targets(dataset, cutoff = cutoff, device = device)"
   ]
  },
  {
   "cell_type": "markdown",
   "id": "eaa78cad-0988-4be9-812a-2209fdc5a9bf",
   "metadata": {},
   "source": [
    "# Features"
   ]
  },
  {
   "cell_type": "code",
   "execution_count": 63,
   "id": "db41bfa2-936d-4d9f-8f3c-22580d7959a4",
   "metadata": {},
   "outputs": [],
   "source": [
    "max_radial  = 6\n",
    "max_angular = 4\n",
    "atomic_gaussian_width = 0.3\n",
    "\n",
    "hypers_pair = {'cutoff': cutoff,\n",
    "               'max_radial': max_radial,\n",
    "               'max_angular': max_angular,\n",
    "               'atomic_gaussian_width': atomic_gaussian_width,\n",
    "               'center_atom_weight': 1,\n",
    "               \"radial_basis\": {\"Gto\": {}},\n",
    "               \"cutoff_function\": {\"ShiftedCosine\": {\"width\": 0.1}}}\n",
    "\n",
    "\n",
    "hypers_atom = {'cutoff': 4,\n",
    "               'max_radial': max_radial,\n",
    "               'max_angular': max_angular,\n",
    "               'atomic_gaussian_width': 0.3,\n",
    "               'center_atom_weight': 1,\n",
    "               \"radial_basis\": {\"Gto\": {}},\n",
    "               \"cutoff_function\": {\"ShiftedCosine\": {\"width\": 0.1}}}\n",
    "\n",
    "\n",
    "return_rho0ij = False\n",
    "both_centers = False\n",
    "LCUT = 3"
   ]
  },
  {
   "cell_type": "code",
   "execution_count": 64,
   "id": "7e89ccaa-95c0-44d2-938c-3189761c58c0",
   "metadata": {},
   "outputs": [
    {
     "name": "stdout",
     "output_type": "stream",
     "text": [
      "cpu pair features\n",
      "cpu single center features\n",
      "cpu single center features\n"
     ]
    }
   ],
   "source": [
    "features = compute_features(dataset)"
   ]
  },
  {
   "cell_type": "markdown",
   "id": "b2566f8d-43e1-4404-bf31-e80c1e2e7e57",
   "metadata": {},
   "source": [
    "# ML Dataset/Dataloader"
   ]
  },
  {
   "cell_type": "code",
   "execution_count": 35,
   "id": "a61b2ec7-8647-4c4c-a843-e38141d5b9fd",
   "metadata": {},
   "outputs": [],
   "source": [
    "from metatensor.learn import Dataset, DataLoader, IndexedDataset\n",
    "from metatensor.learn.data import group as mts_group, group_and_join as group_and_join_mts\n",
    "import metatensor as mts\n",
    "from mlelec.data.dataset import split_by_Aij"
   ]
  },
  {
   "cell_type": "code",
   "execution_count": 62,
   "id": "06da6f3b-f22f-4e94-81d3-851162f746a4",
   "metadata": {},
   "outputs": [
    {
     "name": "stdout",
     "output_type": "stream",
     "text": [
      "4.78 s ± 1.01 s per loop (mean ± std. dev. of 10 runs, 1 loop each)\n"
     ]
    }
   ],
   "source": [
    "%%timeit -n 1 -r 10\n",
    "split_features_mts, split_target_mts = split_by_Aij_mts(target_coupled_blocks, features = features)"
   ]
  },
  {
   "cell_type": "code",
   "execution_count": 63,
   "id": "3a6ecf1e-63b8-403c-aa04-080b985e3d5a",
   "metadata": {},
   "outputs": [
    {
     "name": "stdout",
     "output_type": "stream",
     "text": [
      "248 ms ± 725 µs per loop (mean ± std. dev. of 10 runs, 1 loop each)\n"
     ]
    }
   ],
   "source": [
    "%%timeit -n 1 -r 10\n",
    "split_features, split_target = split_by_Aij(target_coupled_blocks, features = features)"
   ]
  },
  {
   "cell_type": "code",
   "execution_count": 59,
   "id": "b53aaef2-7c6b-420e-9938-ceb474a9c8aa",
   "metadata": {},
   "outputs": [],
   "source": [
    "split_features, split_target = split_by_Aij(target_coupled_blocks, features = features)"
   ]
  },
  {
   "cell_type": "markdown",
   "id": "d6b33a7a-f2b6-424b-a974-2e3b73184b63",
   "metadata": {},
   "source": [
    "## Using metatensor"
   ]
  },
  {
   "cell_type": "code",
   "execution_count": 65,
   "id": "eda452c7-f3ce-4699-a801-435a51cb0efa",
   "metadata": {},
   "outputs": [],
   "source": [
    "split_features, split_target = split_by_Aij_mts(target_coupled_blocks, features = features)"
   ]
  },
  {
   "cell_type": "code",
   "execution_count": 66,
   "id": "38900ab1-8d11-47b6-89d5-f184da2aae4c",
   "metadata": {},
   "outputs": [],
   "source": [
    "ml_data = IndexedDataset(descriptor = list(split_features.values()), target = list(split_target.values()), sample_id = list(split_target.keys()))"
   ]
  },
  {
   "cell_type": "code",
   "execution_count": 111,
   "id": "401203e3-4809-415a-a8d4-b89347c2e6a3",
   "metadata": {},
   "outputs": [],
   "source": [
    "batch_size = 20\n",
    "dataloader = DataLoader(ml_data, batch_size = batch_size, shuffle = True, collate_fn = lambda x: group_and_join_mts(x, join_kwargs = {'different_keys': 'union', 'remove_tensor_name': True}))"
   ]
  },
  {
   "cell_type": "code",
   "execution_count": 92,
   "id": "59794982-77a8-4ae4-b6cd-0176753165f3",
   "metadata": {},
   "outputs": [],
   "source": [
    "phase, indices, kpts_idx = precompute_phase(target_coupled_blocks, dataset, cutoff = cutoff)"
   ]
  },
  {
   "cell_type": "code",
   "execution_count": 112,
   "id": "37b9e355-1d5b-49f9-8c74-ac4a061b1c4a",
   "metadata": {},
   "outputs": [],
   "source": [
    "kmap = []\n",
    "for batch in dataloader:\n",
    "    kmap.append(TMap_bloch_sums(batch.target, phase, indices, kpts_idx, return_tensormap = True))"
   ]
  }
 ],
 "metadata": {
  "kernelspec": {
   "display_name": "Python 3 (ipykernel)",
   "language": "python",
   "name": "python3"
  },
  "language_info": {
   "codemirror_mode": {
    "name": "ipython",
    "version": 3
   },
   "file_extension": ".py",
   "mimetype": "text/x-python",
   "name": "python",
   "nbconvert_exporter": "python",
   "pygments_lexer": "ipython3",
   "version": "3.11.7"
  }
 },
 "nbformat": 4,
 "nbformat_minor": 5
}
