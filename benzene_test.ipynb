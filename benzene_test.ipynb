{
 "cells": [
  {
   "cell_type": "code",
   "execution_count": 21,
   "id": "e6142c48-c96c-4485-b2f8-8c5334ccc059",
   "metadata": {},
   "outputs": [],
   "source": [
    "import ase\n",
    "import numpy as np\n",
    "import torch\n",
    "torch.set_default_dtype(torch.float64)\n",
    "from mlelec.data.dataset import QMDataset\n",
    "from mlelec.utils.target_utils import get_targets\n",
    "from mlelec.features.acdc import compute_features\n",
    "from mlelec.models.linear import LinearModelPeriodic\n",
    "from mlelec.utils.pbc_utils import blocks_to_matrix\n",
    "import matplotlib.pyplot as plt"
   ]
  },
  {
   "cell_type": "code",
   "execution_count": 2,
   "id": "09e583cc-b4ea-4dab-91b6-c820519d5da6",
   "metadata": {},
   "outputs": [],
   "source": [
    "frame = ase.Atoms(\"C6H6\")\n",
    "rc = 1.384\n",
    "rh = 2.465\n",
    "for i in range(6):\n",
    "    frame.positions[i] = [np.cos(i*np.pi/3)*rc,np.sin(i*np.pi/3)*rc,0]\n",
    "    frame.positions[i+6] = [np.cos(i*np.pi/3)*rh,np.sin(i*np.pi/3)*rh,0]"
   ]
  },
  {
   "cell_type": "code",
   "execution_count": 3,
   "id": "84c2c8b4-e742-4a01-aca4-7cd7f2bd5bca",
   "metadata": {},
   "outputs": [],
   "source": [
    "np.random.seed(321)\n",
    "torch.random.manual_seed(321)\n",
    "fock = np.random.uniform(size=(30,30))\n",
    "fock = fock+fock.T\n",
    "ref_eva = np.linalg.eigvalsh(fock)"
   ]
  },
  {
   "cell_type": "code",
   "execution_count": 4,
   "id": "35eecefd-13a4-4f75-bc45-6f53ab01ce39",
   "metadata": {},
   "outputs": [],
   "source": [
    "device = 'cpu'\n",
    "orbitals = {'benzene': {6: [[2,0,0],[2,1,-1], [2,1,0],[2,1,1]], 1:[[1,0,0]]}}\n",
    "max_radial  = 6\n",
    "max_angular = 4\n",
    "atomic_gaussian_width = 0.3\n",
    "cutoff = 6\n",
    "LCUT = 3"
   ]
  },
  {
   "cell_type": "code",
   "execution_count": 5,
   "id": "cbcc6df6-2d5b-46d3-bdfd-47fcf2bcb03a",
   "metadata": {},
   "outputs": [
    {
     "name": "stderr",
     "output_type": "stream",
     "text": [
      "/home/pegolo/Software/mlelec/src/mlelec/data/dataset.py:912: UserWarning: Overlap matrices not provided\n",
      "  warnings.warn(\"Overlap matrices not provided\")\n"
     ]
    }
   ],
   "source": [
    "dataset = QMDataset(frames = [frame], \n",
    "                   kmesh = [1,1,1], \n",
    "                   fix_p_orbital_order=True,\n",
    "                   dimension = 0,\n",
    "                   fock_realspace=[fock],\n",
    "                   device = device, \n",
    "                   orbs = orbitals['benzene'], \n",
    "                   orbs_name = None\n",
    "                   )"
   ]
  },
  {
   "cell_type": "code",
   "execution_count": 6,
   "id": "9eb6f7f9-f5cb-4592-b05a-e447397e4142",
   "metadata": {},
   "outputs": [],
   "source": [
    "target_coupled_blocks = get_targets(dataset, cutoff = cutoff, device = device)"
   ]
  },
  {
   "cell_type": "code",
   "execution_count": 7,
   "id": "451f5ad5-92f6-4128-ad9b-4fdd670fb583",
   "metadata": {},
   "outputs": [],
   "source": [
    "hypers_pair = {'cutoff': cutoff,\n",
    "               'max_radial': max_radial,\n",
    "               'max_angular': max_angular,\n",
    "               'atomic_gaussian_width': atomic_gaussian_width,\n",
    "               'center_atom_weight': 1,\n",
    "               \"radial_basis\": {\"Gto\": {}},\n",
    "               \"cutoff_function\": {\"ShiftedCosine\": {\"width\": 0.1}}}\n",
    "\n",
    "hypers_atom = {'cutoff': 4,\n",
    "               'max_radial': max_radial,\n",
    "               'max_angular': max_angular,\n",
    "               'atomic_gaussian_width': 0.3,\n",
    "               'center_atom_weight': 1,\n",
    "               \"radial_basis\": {\"Gto\": {}},\n",
    "               \"cutoff_function\": {\"ShiftedCosine\": {\"width\": 0.1}}}"
   ]
  },
  {
   "cell_type": "code",
   "execution_count": 8,
   "id": "a55204fe-3f08-4fa8-9896-8cd8531a38d4",
   "metadata": {},
   "outputs": [
    {
     "name": "stdout",
     "output_type": "stream",
     "text": [
      "cpu pair features\n",
      "cpu single center features\n",
      "cpu single center features\n"
     ]
    }
   ],
   "source": [
    "hfeat = compute_features(dataset, hypers_atom, LCUT, hypers_pair = hypers_pair)"
   ]
  },
  {
   "cell_type": "code",
   "execution_count": 11,
   "id": "a4edc569-5b1c-4944-b63e-335ff295164d",
   "metadata": {},
   "outputs": [],
   "source": [
    "def train_ridge(model, target_blocks, set_bias=False, alphas = None, kernel_ridge = False, alpha = None):\n",
    "    block_losses = {}\n",
    "    loss = 0\n",
    "    pred, ridges = model.fit_ridge_analytical(return_matrix = False, set_bias = set_bias, kernel_ridge = kernel_ridge, alphas = alphas, alpha = alpha)\n",
    "\n",
    "    for (key, block) in pred.items():\n",
    "        block_loss=torch.norm(block.values - target_blocks[key].values)**2\n",
    "        loss += block_loss\n",
    "        \n",
    "        block_losses[tuple(key.values)] = block_loss\n",
    "\n",
    "    return loss, pred, ridges, block_losses"
   ]
  },
  {
   "cell_type": "code",
   "execution_count": 12,
   "id": "d8dc1976-d00c-48a5-bf2f-0971baaeb0e8",
   "metadata": {},
   "outputs": [
    {
     "name": "stdout",
     "output_type": "stream",
     "text": [
      "tensor(534.4078)\n"
     ]
    }
   ],
   "source": [
    "model_ridge = LinearModelPeriodic(twocfeat = hfeat, \n",
    "                                  target_blocks = target_coupled_blocks,\n",
    "                                  frames = dataset.structures, \n",
    "                                  orbitals = dataset.basis, \n",
    "                                  device = device)\n",
    "\n",
    "model_ridge = model_ridge.double()\n",
    "loss_ridge_bias, pred_ridge_bias, ridges_bias, loss_blocks = train_ridge(model_ridge, \n",
    "                                                                         target_coupled_blocks,\n",
    "                                                                         set_bias = True,\n",
    "                                                                         kernel_ridge = False,\n",
    "                                                                         alphas = np.logspace(-10, -1, 100),\n",
    "                                                                        )\n",
    "print(loss_ridge_bias)"
   ]
  },
  {
   "cell_type": "code",
   "execution_count": 13,
   "id": "11dc367b-738c-45c0-a304-2e4941af6b00",
   "metadata": {},
   "outputs": [
    {
     "name": "stderr",
     "output_type": "stream",
     "text": [
      "/home/pegolo/Software/mlelec/src/mlelec/data/dataset.py:912: UserWarning: Overlap matrices not provided\n",
      "  warnings.warn(\"Overlap matrices not provided\")\n"
     ]
    }
   ],
   "source": [
    "ld = np.linspace(-0.1,0.1,31)\n",
    "frames_displace = []\n",
    "fockdummy = []\n",
    "for i,d in enumerate(ld):\n",
    "    fd = frame.copy()    \n",
    "    cent = fd.positions.mean(axis=0)\n",
    "    fd.positions -= cent\n",
    "    fd.positions[[-5,-2]] *= 1+d\n",
    "    fd.positions[[-6,-3]] *= 1-d\n",
    "    fd.positions += cent\n",
    "    frames_displace.append(fd)\n",
    "    fockdummy.append(np.zeros_like(fock))\n",
    "    \n",
    "dataset_displaced = QMDataset(frames = frames_displace, \n",
    "                              kmesh = [1,1,1], \n",
    "                              fix_p_orbital_order=True,\n",
    "                              dimension = 0,\n",
    "                              fock_realspace=fockdummy,\n",
    "                              device = device, \n",
    "                              orbs = orbitals['benzene'], \n",
    "                              orbs_name = None\n",
    "                              )"
   ]
  },
  {
   "cell_type": "code",
   "execution_count": 14,
   "id": "0bf76314-8af2-418d-8864-3c18a7a41779",
   "metadata": {},
   "outputs": [
    {
     "name": "stdout",
     "output_type": "stream",
     "text": [
      "cpu pair features\n",
      "cpu single center features\n",
      "cpu single center features\n"
     ]
    }
   ],
   "source": [
    "hfeat_d = compute_features(dataset_displaced, hypers_atom, LCUT, hypers_pair=hypers_pair)"
   ]
  },
  {
   "cell_type": "code",
   "execution_count": 15,
   "id": "0d2d016a-ddb4-4974-9597-66298ca04ad1",
   "metadata": {},
   "outputs": [
    {
     "name": "stderr",
     "output_type": "stream",
     "text": [
      "/home/pegolo/Software/mlelec/src/mlelec/models/linear.py:868: UserWarning: Using train target_blocks, otherwise provide test target_blocks\n",
      "  warnings.warn('Using train target_blocks, otherwise provide test target_blocks')\n"
     ]
    }
   ],
   "source": [
    "pred_disp = model_ridge.predict_ridge_analytical(ridges = ridges_bias, hfeat=hfeat_d)"
   ]
  },
  {
   "cell_type": "code",
   "execution_count": 18,
   "id": "b3aa02be-28b4-499e-9f97-b8abefbf39d4",
   "metadata": {},
   "outputs": [],
   "source": [
    "fockd = blocks_to_matrix(pred_disp, dataset_displaced)\n",
    "fock_disp = [f[0,0,0].numpy() for f in fockd]"
   ]
  },
  {
   "cell_type": "code",
   "execution_count": 19,
   "id": "af2f9af5-65ad-49ab-a6d2-bd55603f5fc4",
   "metadata": {},
   "outputs": [],
   "source": [
    "evd = [np.linalg.eigvalsh(f) for f in fock_disp]\n",
    "dd = np.asarray([np.sqrt(((frames_displace[i].positions-frames_displace[len(frames_displace)//2].positions)**2).mean())*np.sign(ld[i]) for i in range(len(frames_displace)) ])"
   ]
  },
  {
   "cell_type": "code",
   "execution_count": 22,
   "id": "f04e0538-d192-4c7a-9218-9dc901f5ce3c",
   "metadata": {},
   "outputs": [
    {
     "data": {
      "text/plain": [
       "Text(0, 0.5, '$\\\\epsilon_k$ / a.u.')"
      ]
     },
     "execution_count": 22,
     "metadata": {},
     "output_type": "execute_result"
    },
    {
     "data": {
      "image/png": "[encoded data removed]",
      "text/plain": [
       "<Figure size 640x480 with 1 Axes>"
      ]
     },
     "metadata": {},
     "output_type": "display_data"
    }
   ],
   "source": [
    "for k in range(0,6):\n",
    "    plt.plot(dd, [ev[k] for ev in evd], '-')   \n",
    "plt.xlabel(\"RMSD / Å\")\n",
    "plt.ylabel(r\"$\\epsilon_k$ / a.u.\")\n",
    "# plt.savefig(\"../figures/benzene-deformations.svg\")"
   ]
  }
 ],
 "metadata": {
  "kernelspec": {
   "display_name": "Python 3 (ipykernel)",
   "language": "python",
   "name": "python3"
  },
  "language_info": {
   "codemirror_mode": {
    "name": "ipython",
    "version": 3
   },
   "file_extension": ".py",
   "mimetype": "text/x-python",
   "name": "python",
   "nbconvert_exporter": "python",
   "pygments_lexer": "ipython3",
   "version": "3.11.7"
  }
 },
 "nbformat": 4,
 "nbformat_minor": 5
}
