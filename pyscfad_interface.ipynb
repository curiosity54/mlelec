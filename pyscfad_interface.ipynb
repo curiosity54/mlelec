{
 "cells": [
  {
   "cell_type": "code",
   "execution_count": 1,
   "metadata": {},
   "outputs": [],
   "source": [
    "%load_ext autoreload\n",
    "%autoreload 2"
   ]
  },
  {
   "cell_type": "code",
   "execution_count": 2,
   "metadata": {},
   "outputs": [],
   "source": [
    "from mlelec.data.dataset import (\n",
    "    precomputed_molecules,\n",
    "    MoleculeDataset,\n",
    "    MLDataset,\n",
    "    get_dataloader,\n",
    ")\n",
    "import torch\n",
    "from ase.io import read\n",
    "import ase\n",
    "from mlelec.models.linear import LinearTargetModel\n",
    "from mlelec.features.acdc import compute_features_for_target\n",
    "\n",
    "import matplotlib.pyplot as plt\n",
    "from IPython.utils import io"
   ]
  },
  {
   "cell_type": "code",
   "execution_count": 3,
   "metadata": {},
   "outputs": [
    {
     "name": "stdout",
     "output_type": "stream",
     "text": [
      "sys.version_info(major=3, minor=11, micro=5, releaselevel='final', serial=0)\n",
      "2.3.0\n",
      "0.1.2\n"
     ]
    }
   ],
   "source": [
    "import sys\n",
    "import pyscf, pyscfad\n",
    "\n",
    "print(sys.version_info)\n",
    "print(pyscf.__version__)\n",
    "print(pyscfad.__version__)"
   ]
  },
  {
   "cell_type": "code",
   "execution_count": 4,
   "metadata": {},
   "outputs": [],
   "source": [
    "# import sys\n",
    "# import os\n",
    "# class HiddenPrints:\n",
    "#     def __enter__(self):\n",
    "#         self._original_stdout = sys.stdout\n",
    "#         sys.stdout = open(os.devnull, 'w')\n",
    "#         sys._jupyter_stdout = sys.stdout\n",
    "\n",
    "#     def __exit__(self, exc_type, exc_val, exc_tb):\n",
    "#         sys.stdout.close()\n",
    "#         sys.stdout = self._original_stdout\n",
    "#         sys._jupyter_stdout = sys.stdout"
   ]
  },
  {
   "cell_type": "code",
   "execution_count": 5,
   "metadata": {},
   "outputs": [
    {
     "name": "stdout",
     "output_type": "stream",
     "text": [
      "Loading structures\n",
      "examples/data/water_1000/sto-3g/fock.hickle\n",
      "examples/data/water_1000/sto-3g/dipole_moment.hickle\n",
      "Computing features with default hypers\n"
     ]
    },
    {
     "name": "stderr",
     "output_type": "stream",
     "text": [
      "/home/nigam/miniconda3/lib/python3.11/site-packages/rascaline/systems/ase.py:57: UserWarning: periodic boundary conditions are disabled, but the cell matrix is not zero, we will set the cell to zero.\n",
      "  warnings.warn(\n"
     ]
    }
   ],
   "source": [
    "water_data = MoleculeDataset(\n",
    "    mol_name=\"water_1000\",\n",
    "    frame_slice=slice(0, 100),\n",
    "    device=\"cuda\",\n",
    "    aux=[\"overlap\", \"orbitals\"],\n",
    "    target=[\"fock\", \"dipole_moment\"],\n",
    ")\n",
    "ml_data = MLDataset(\n",
    "    molecule_data=water_data,\n",
    "    device=\"cuda\",\n",
    "    model_strategy=\"coupled\",\n",
    "    shuffle=True,\n",
    "    shuffle_seed=5380,\n",
    ")  # train_frac=0.5, val_frac=0.1,) #target=[\"fock\", \"dipole_moment\"])\n",
    "\n",
    "# ml_data._shuffle(5380)\n",
    "ml_data._split_indices(train_frac=0.7, val_frac=0.2, test_frac=0.1)\n",
    "# assumed args.model_type = 'acdc'\n",
    "if ml_data.features is None:\n",
    "    ml_data._set_features(compute_features_for_target(ml_data, device=\"cuda\"))\n",
    "\n",
    "train_dl, val_dl, test_dl = get_dataloader(ml_data, model_return=\"tensor\")"
   ]
  },
  {
   "cell_type": "markdown",
   "metadata": {},
   "source": [
    "## 1. Learn Hamiltonian then predict dipole"
   ]
  },
  {
   "cell_type": "code",
   "execution_count": 83,
   "metadata": {},
   "outputs": [],
   "source": [
    "model = LinearTargetModel(\n",
    "    dataset=ml_data, nlayers=1, nhidden=16, bias=False, device=\"cuda\"\n",
    ")"
   ]
  },
  {
   "cell_type": "code",
   "execution_count": 84,
   "metadata": {},
   "outputs": [],
   "source": [
    "from cmath import inf\n",
    "\n",
    "best = inf\n",
    "early_stop_criteria = 50"
   ]
  },
  {
   "cell_type": "code",
   "execution_count": 85,
   "metadata": {},
   "outputs": [],
   "source": [
    "optimizer = torch.optim.Adam(model.parameters(), lr=1e-3)\n",
    "scheduler = torch.optim.lr_scheduler.ReduceLROnPlateau(\n",
    "    optimizer, factor=0.5, patience=10, verbose=True\n",
    ")\n",
    "import mlelec.metrics as mlmetrics\n",
    "\n",
    "val_interval = 10\n",
    "loss_fn = getattr(mlmetrics, \"L2_loss\")\n",
    "losses = []\n",
    "early_stop_count = 0"
   ]
  },
  {
   "cell_type": "code",
   "execution_count": 86,
   "metadata": {},
   "outputs": [
    {
     "name": "stdout",
     "output_type": "stream",
     "text": [
      "Epoch 0, train loss 471.1422502257118\n",
      "Epoch 0 val loss 461.01390198046283\n",
      "Epoch 10, train loss 153.5696222241118\n",
      "Epoch 10 val loss 134.30316721645727\n",
      "Epoch 20, train loss 6.020242243384347\n",
      "Epoch 20 val loss 4.863695816885546\n",
      "Epoch 30, train loss 2.419698748460661\n",
      "Epoch 30 val loss 2.8194324528945214\n",
      "Epoch 40, train loss 2.1079256938928546\n",
      "Epoch 40 val loss 2.1984906077315327\n",
      "Epoch 50, train loss 1.7910084999452782\n",
      "Epoch 50 val loss 1.7041997267401958\n",
      "Epoch 60, train loss 1.4849439037005143\n",
      "Epoch 60 val loss 1.2131049681817034\n",
      "Epoch 70, train loss 1.186095684461929\n",
      "Epoch 70 val loss 1.2273000623716384\n",
      "Epoch 80, train loss 1.226056306528393\n",
      "Epoch 80 val loss 1.043814922785987\n",
      "Epoch 90, train loss 1.1240874296848944\n",
      "Epoch 90 val loss 0.831274960749046\n",
      "Epoch 100, train loss 1.0713700891164009\n",
      "Epoch 100 val loss 0.7909029991734098\n",
      "Epoch 110, train loss 1.0356319251705617\n",
      "Epoch 110 val loss 0.5591677811501039\n",
      "Epoch 120, train loss 1.0784276433607898\n",
      "Epoch 120 val loss 0.8763550590904681\n",
      "Epoch 130, train loss 1.082077387568739\n",
      "Epoch 130 val loss 0.8946959535152604\n",
      "Epoch 140, train loss 1.031845737619186\n",
      "Epoch 140 val loss 0.643259023120355\n",
      "Epoch 150, train loss 0.9594804495784264\n",
      "Epoch 150 val loss 0.6911269344482541\n",
      "Epoch 160, train loss 1.092462826511568\n",
      "Epoch 160 val loss 0.8943469744612386\n",
      "Epoch 170, train loss 0.9056204952044169\n",
      "Epoch 170 val loss 0.6299759381195862\n",
      "Epoch 180, train loss 0.9431497915029458\n",
      "Epoch 180 val loss 0.8037516054579878\n",
      "Epoch 190, train loss 1.0154756647140075\n",
      "Epoch 190 val loss 0.664262064749762\n"
     ]
    },
    {
     "ename": "KeyboardInterrupt",
     "evalue": "",
     "output_type": "error",
     "traceback": [
      "\u001b[0;31m---------------------------------------------------------------------------\u001b[0m",
      "\u001b[0;31mKeyboardInterrupt\u001b[0m                         Traceback (most recent call last)",
      "\u001b[1;32m/home/nigam/scratch/MAC/my_mlelec/pyscfad_interface.ipynb Cell 10\u001b[0m line \u001b[0;36m1\n\u001b[1;32m     <a href='vscode-notebook-cell:/home/nigam/scratch/MAC/my_mlelec/pyscfad_interface.ipynb#X13sZmlsZQ%3D%3D?line=10'>11</a>\u001b[0m     loss \u001b[39m=\u001b[39m loss_fn(pred, data[\u001b[39m\"\u001b[39m\u001b[39moutput\u001b[39m\u001b[39m\"\u001b[39m])\n\u001b[1;32m     <a href='vscode-notebook-cell:/home/nigam/scratch/MAC/my_mlelec/pyscfad_interface.ipynb#X13sZmlsZQ%3D%3D?line=11'>12</a>\u001b[0m     train_loss \u001b[39m+\u001b[39m\u001b[39m=\u001b[39m loss\u001b[39m.\u001b[39mitem()\n\u001b[0;32m---> <a href='vscode-notebook-cell:/home/nigam/scratch/MAC/my_mlelec/pyscfad_interface.ipynb#X13sZmlsZQ%3D%3D?line=12'>13</a>\u001b[0m     loss\u001b[39m.\u001b[39;49mbackward()\n\u001b[1;32m     <a href='vscode-notebook-cell:/home/nigam/scratch/MAC/my_mlelec/pyscfad_interface.ipynb#X13sZmlsZQ%3D%3D?line=13'>14</a>\u001b[0m     optimizer\u001b[39m.\u001b[39mstep()\n\u001b[1;32m     <a href='vscode-notebook-cell:/home/nigam/scratch/MAC/my_mlelec/pyscfad_interface.ipynb#X13sZmlsZQ%3D%3D?line=14'>15</a>\u001b[0m \u001b[39m# train_loss = loss_fn(torch.cat(train_pred), torch.cat(target))\u001b[39;00m\n\u001b[1;32m     <a href='vscode-notebook-cell:/home/nigam/scratch/MAC/my_mlelec/pyscfad_interface.ipynb#X13sZmlsZQ%3D%3D?line=15'>16</a>\u001b[0m \u001b[39m# print(train_loss - epoch_loss)\u001b[39;00m\n",
      "File \u001b[0;32m~/miniconda3/lib/python3.11/site-packages/torch/_tensor.py:492\u001b[0m, in \u001b[0;36mTensor.backward\u001b[0;34m(self, gradient, retain_graph, create_graph, inputs)\u001b[0m\n\u001b[1;32m    482\u001b[0m \u001b[39mif\u001b[39;00m has_torch_function_unary(\u001b[39mself\u001b[39m):\n\u001b[1;32m    483\u001b[0m     \u001b[39mreturn\u001b[39;00m handle_torch_function(\n\u001b[1;32m    484\u001b[0m         Tensor\u001b[39m.\u001b[39mbackward,\n\u001b[1;32m    485\u001b[0m         (\u001b[39mself\u001b[39m,),\n\u001b[0;32m   (...)\u001b[0m\n\u001b[1;32m    490\u001b[0m         inputs\u001b[39m=\u001b[39minputs,\n\u001b[1;32m    491\u001b[0m     )\n\u001b[0;32m--> 492\u001b[0m torch\u001b[39m.\u001b[39;49mautograd\u001b[39m.\u001b[39;49mbackward(\n\u001b[1;32m    493\u001b[0m     \u001b[39mself\u001b[39;49m, gradient, retain_graph, create_graph, inputs\u001b[39m=\u001b[39;49minputs\n\u001b[1;32m    494\u001b[0m )\n",
      "File \u001b[0;32m~/miniconda3/lib/python3.11/site-packages/torch/autograd/__init__.py:251\u001b[0m, in \u001b[0;36mbackward\u001b[0;34m(tensors, grad_tensors, retain_graph, create_graph, grad_variables, inputs)\u001b[0m\n\u001b[1;32m    246\u001b[0m     retain_graph \u001b[39m=\u001b[39m create_graph\n\u001b[1;32m    248\u001b[0m \u001b[39m# The reason we repeat the same comment below is that\u001b[39;00m\n\u001b[1;32m    249\u001b[0m \u001b[39m# some Python versions print out the first line of a multi-line function\u001b[39;00m\n\u001b[1;32m    250\u001b[0m \u001b[39m# calls in the traceback and some print out the last line\u001b[39;00m\n\u001b[0;32m--> 251\u001b[0m Variable\u001b[39m.\u001b[39;49m_execution_engine\u001b[39m.\u001b[39;49mrun_backward(  \u001b[39m# Calls into the C++ engine to run the backward pass\u001b[39;49;00m\n\u001b[1;32m    252\u001b[0m     tensors,\n\u001b[1;32m    253\u001b[0m     grad_tensors_,\n\u001b[1;32m    254\u001b[0m     retain_graph,\n\u001b[1;32m    255\u001b[0m     create_graph,\n\u001b[1;32m    256\u001b[0m     inputs,\n\u001b[1;32m    257\u001b[0m     allow_unreachable\u001b[39m=\u001b[39;49m\u001b[39mTrue\u001b[39;49;00m,\n\u001b[1;32m    258\u001b[0m     accumulate_grad\u001b[39m=\u001b[39;49m\u001b[39mTrue\u001b[39;49;00m,\n\u001b[1;32m    259\u001b[0m )\n",
      "\u001b[0;31mKeyboardInterrupt\u001b[0m: "
     ]
    }
   ],
   "source": [
    "for epoch in range(800):\n",
    "    # train_pred = []\n",
    "    # target=[]\n",
    "    model.train(True)\n",
    "    train_loss = 0\n",
    "    for i, data in enumerate(train_dl):\n",
    "        optimizer.zero_grad()\n",
    "        pred = model(data[\"input\"], return_type=\"tensor\", batch_indices=data[\"idx\"])\n",
    "        # target.append(data['output'])\n",
    "        # train_pred.append(pred)\n",
    "        loss = loss_fn(pred, data[\"output\"])\n",
    "        train_loss += loss.item()\n",
    "        loss.backward()\n",
    "        optimizer.step()\n",
    "    # train_loss = loss_fn(torch.cat(train_pred), torch.cat(target))\n",
    "    # print(train_loss - epoch_loss)\n",
    "    losses.append(train_loss)\n",
    "    # scheduler.step(train_loss)\n",
    "    model.train(False)\n",
    "\n",
    "    if epoch % val_interval == 0:\n",
    "        # val_pred = []\n",
    "        # val= []\n",
    "        val_loss = 0\n",
    "        for i, data in enumerate(val_dl):\n",
    "            pred = model(data[\"input\"], return_type=\"tensor\", batch_indices=data[\"idx\"])\n",
    "            vloss = loss_fn(pred, data[\"output\"])\n",
    "            val_loss += vloss.item()\n",
    "            # val.append(data['output'])\n",
    "            # val_pred.append(pred)\n",
    "        new_best = val_loss < best\n",
    "        if new_best:\n",
    "            best = val_loss\n",
    "            torch.save(model.state_dict(), \"best_model.pt\")\n",
    "            early_stop_count = 0\n",
    "        else:\n",
    "            early_stop_count += 1\n",
    "        if early_stop_count > early_stop_criteria:\n",
    "            print(f\"Early stopping at epoch {epoch}\")\n",
    "            print(f\"Epoch {epoch}, train loss {train_loss/len(ml_data.train_idx)}\")\n",
    "\n",
    "            print(f\"Epoch {epoch} val loss {val_loss/len(ml_data.val_idx)}\")\n",
    "            # Save last best model\n",
    "            break\n",
    "\n",
    "        # val_loss = loss_fn(torch.cat(val_pred), torch.cat(val))\n",
    "    if epoch % 10 == 0:\n",
    "        print(f\"Epoch {epoch}, train loss {train_loss/len(ml_data.train_idx)}\")\n",
    "\n",
    "        print(f\"Epoch {epoch} val loss {val_loss/len(ml_data.val_idx)}\")"
   ]
  },
  {
   "cell_type": "code",
   "execution_count": null,
   "metadata": {},
   "outputs": [
    {
     "data": {
      "text/plain": [
       "Text(0, 0.5, 'MSE \\\\ a.u.')"
      ]
     },
     "execution_count": 51,
     "metadata": {},
     "output_type": "execute_result"
    },
    {
     "data": {
      "image/png": "[encoded data removed]",
      "text/plain": [
       "<Figure size 640x480 with 1 Axes>"
      ]
     },
     "metadata": {},
     "output_type": "display_data"
    }
   ],
   "source": [
    "import numpy as np\n",
    "\n",
    "plt.loglog(np.asarray(losses) / len(ml_data.train_idx))\n",
    "plt.xlabel(\"Epoch\")\n",
    "plt.ylabel(\"MSE \\ a.u.\")"
   ]
  },
  {
   "cell_type": "markdown",
   "metadata": {},
   "source": [
    "### Input model prediction into pyscf to compute dipole moment "
   ]
  },
  {
   "cell_type": "code",
   "execution_count": null,
   "metadata": {},
   "outputs": [],
   "source": [
    "import os\n",
    "\n",
    "os.environ[\"PYSCFAD_BACKEND\"] = \"torch\"\n",
    "\n",
    "import torch\n",
    "from pyscf import gto\n",
    "\n",
    "from pyscfad import numpy as pynp\n",
    "from pyscfad import ops\n",
    "from pyscfad.ml.scf import hf\n",
    "import pyscf.pbc.tools.pyscf_ase as pyscf_ase"
   ]
  },
  {
   "cell_type": "code",
   "execution_count": null,
   "metadata": {},
   "outputs": [],
   "source": [
    "from mlelec.data.pyscf_calculator import _instantiate_pyscf_mol\n",
    "from mlelec.utils.twocenter_utils import fix_orbital_order, unfix_orbital_order\n",
    "import mlelec.metrics as mlmetrics"
   ]
  },
  {
   "cell_type": "code",
   "execution_count": null,
   "metadata": {},
   "outputs": [],
   "source": [
    "def compute_dipole_moment(frames, fock_predictions, overlaps):\n",
    "    assert (\n",
    "        len(frames) == len(fock_predictions) == len(overlaps)\n",
    "    ), \"Length of frames, fock_predictions, and overlaps must be the same\"\n",
    "    dipoles = []\n",
    "    for i, frame in enumerate(frames):\n",
    "        mol = _instantiate_pyscf_mol(frame)\n",
    "        mf = hf.SCF(mol)\n",
    "        fock = torch.autograd.Variable(\n",
    "            fock_predictions[i].type(torch.float64), requires_grad=True\n",
    "        )\n",
    "\n",
    "        mo_energy, mo_coeff = mf.eig(fock, overlaps[i])\n",
    "        mo_occ = mf.get_occ(mo_energy)  # get_occ returns a numpy array\n",
    "        mo_occ = ops.convert_to_tensor(mo_occ)\n",
    "        dm1 = mf.make_rdm1(mo_coeff, mo_occ)\n",
    "        dip = mf.dip_moment(dm=dm1)\n",
    "        dipoles.append(dip)\n",
    "    return torch.stack(dipoles)"
   ]
  },
  {
   "cell_type": "code",
   "execution_count": null,
   "metadata": {},
   "outputs": [
    {
     "name": "stdout",
     "output_type": "stream",
     "text": [
      "(TEST) MSE on dipole tensor(0.3787, device='cuda:0', dtype=torch.float64, grad_fn=<DivBackward0>)\n"
     ]
    }
   ],
   "source": [
    "# TEST set\n",
    "\n",
    "# with HiddenPrints():\n",
    "with io.capture_output() as captured:\n",
    "    fock_predictions = model.forward(ml_data.feat_test, return_type=\"tensor\")\n",
    "    # convert prediction back to pyscf order\n",
    "    fock_predictions = unfix_orbital_order(\n",
    "        fock_predictions,\n",
    "        ml_data.test_frames,\n",
    "        ml_data.molecule_data.aux_data[\"orbitals\"],\n",
    "    )\n",
    "\n",
    "    dipole_predictions = compute_dipole_moment(\n",
    "        ml_data.test_frames,\n",
    "        fock_predictions,\n",
    "        ml_data.molecule_data.aux_data[\"overlap\"][ml_data.test_idx],\n",
    "    )\n",
    "    # very imp to pass the right overlap matrix\n",
    "\n",
    "\n",
    "error = mlmetrics.L2_loss(\n",
    "    dipole_predictions, ml_data.molecule_data.target[\"dipole_moment\"][ml_data.test_idx]\n",
    ")\n",
    "print(\"(TEST) MSE on dipole\", error / len(dipole_predictions))"
   ]
  },
  {
   "cell_type": "code",
   "execution_count": null,
   "metadata": {},
   "outputs": [
    {
     "name": "stdout",
     "output_type": "stream",
     "text": [
      "MSE on dipole tensor(0.2696, device='cuda:0', dtype=torch.float64, grad_fn=<DivBackward0>)\n"
     ]
    }
   ],
   "source": [
    "# Entire dataset\n",
    "with io.capture_output() as captured:\n",
    "    fock_predictions = model.forward(ml_data.features, return_type=\"tensor\")\n",
    "    # convert prediction back to pyscf order\n",
    "    fock_predictions = unfix_orbital_order(\n",
    "        fock_predictions, ml_data.structures, ml_data.molecule_data.aux_data[\"orbitals\"]\n",
    "    )\n",
    "    dipole_predictions = compute_dipole_moment(\n",
    "        ml_data.structures, fock_predictions, ml_data.molecule_data.aux_data[\"overlap\"]\n",
    "    )\n",
    "error = mlmetrics.L2_loss(\n",
    "    dipole_predictions, ml_data.molecule_data.target[\"dipole_moment\"]\n",
    ")\n",
    "print(\"MSE on dipole\", error / len(dipole_predictions))"
   ]
  },
  {
   "cell_type": "markdown",
   "metadata": {},
   "source": [
    "## 2. Indirect learning of dipole moment through pyscfad "
   ]
  },
  {
   "cell_type": "code",
   "execution_count": null,
   "metadata": {},
   "outputs": [],
   "source": [
    "import mlelec.metrics as mlmetrics"
   ]
  },
  {
   "cell_type": "code",
   "execution_count": null,
   "metadata": {},
   "outputs": [
    {
     "name": "stdout",
     "output_type": "stream",
     "text": [
      "Using PyTorch backend.\n"
     ]
    },
    {
     "name": "stderr",
     "output_type": "stream",
     "text": [
      "/home/nigam/miniconda3/lib/python3.11/site-packages/pyscf/dft/libxc.py:772: UserWarning: Since PySCF-2.3, B3LYP (and B3P86) are changed to the VWN-RPA variant, the same to the B3LYP functional in Gaussian and ORCA (issue 1480). To restore the VWN5 definition, you can put the setting \"B3LYP_WITH_VWN5 = True\" in pyscf_conf.py\n",
      "  warnings.warn('Since PySCF-2.3, B3LYP (and B3P86) are changed to the VWN-RPA variant, '\n"
     ]
    }
   ],
   "source": [
    "import os\n",
    "\n",
    "os.environ[\"PYSCFAD_BACKEND\"] = \"torch\"\n",
    "\n",
    "import torch\n",
    "from pyscf import gto\n",
    "\n",
    "from pyscfad import numpy as pynp\n",
    "from pyscfad import ops\n",
    "from pyscfad.ml.scf import hf\n",
    "import pyscf.pbc.tools.pyscf_ase as pyscf_ase"
   ]
  },
  {
   "cell_type": "code",
   "execution_count": null,
   "metadata": {},
   "outputs": [],
   "source": [
    "from mlelec.data.pyscf_calculator import _instantiate_pyscf_mol\n",
    "from mlelec.utils.twocenter_utils import fix_orbital_order, unfix_orbital_order\n",
    "import mlelec.metrics as mlmetrics"
   ]
  },
  {
   "cell_type": "code",
   "execution_count": null,
   "metadata": {},
   "outputs": [],
   "source": [
    "import warnings\n",
    "\n",
    "\n",
    "def instantiate_mf(ml_data: MLDataset, fock_predictions=None, batch_indices=None):\n",
    "    if fock_predictions is not None and len(batch_indices) != len(fock_predictions):\n",
    "        warnings.warn(\"Converting shapes\")\n",
    "        fock_predictions = fock_predictions.reshape(1, *fock_predictions.shape)\n",
    "    if fock_predictions is None:\n",
    "        fock_predictions = torch.zeros_like(ml_data.target.tensor[batch_indices])\n",
    "\n",
    "    mfs = []\n",
    "    fockvar = []\n",
    "    for i, idx in enumerate(batch_indices):\n",
    "        mol = _instantiate_pyscf_mol(ml_data.structures[idx])\n",
    "        mf = hf.SCF(mol)\n",
    "        fock = torch.autograd.Variable(\n",
    "            fock_predictions[i].type(torch.float64), requires_grad=True\n",
    "        )\n",
    "        mfs.append(mf)\n",
    "        fockvar.append(fock)\n",
    "    return mfs, torch.stack(fockvar)\n",
    "\n",
    "\n",
    "def compute_dipole_moment_from_mf(mfs, fock_vars, overlaps):\n",
    "    # compute dipole moment for each molecule in batch\n",
    "    dipoles = []\n",
    "    for i in range(len(mfs)):\n",
    "        mf = mfs[i]\n",
    "        fock = fock_vars[i]\n",
    "        overlaps[i] = overlaps[i].to(fock)\n",
    "        mo_energy, mo_coeff = mf.eig(fock, overlaps[i])\n",
    "        mo_occ = mf.get_occ(mo_energy)  # get_occ returns a numpy array\n",
    "        mo_occ = ops.convert_to_tensor(mo_occ)\n",
    "        dm1 = mf.make_rdm1(mo_coeff, mo_occ)\n",
    "        dip = mf.dip_moment(dm=dm1)\n",
    "        dipoles.append(dip)\n",
    "    return torch.stack(dipoles)\n",
    "\n",
    "\n",
    "def compute_batch_dipole_moment(ml_data: MLDataset, batch_fockvars, batch_indices, mfs):\n",
    "    # Convert fock predictions back to pyscf order\n",
    "    # Compute dipole moment for each molecule in batch\n",
    "    batch_frames = [ml_data.structures[i] for i in batch_indices]\n",
    "    batch_fock = unfix_orbital_order(\n",
    "        batch_fockvars, batch_frames, ml_data.molecule_data.aux_data[\"orbitals\"]\n",
    "    )\n",
    "    batch_overlap = ml_data.molecule_data.aux_data[\"overlap\"][batch_indices].to(\n",
    "        batch_fock\n",
    "    )\n",
    "    batch_mfs = [mfs[i] for i in batch_indices]\n",
    "    dipoles = compute_dipole_moment_from_mf(batch_mfs, batch_fock, batch_overlap)\n",
    "    return dipoles"
   ]
  },
  {
   "cell_type": "code",
   "execution_count": null,
   "metadata": {},
   "outputs": [],
   "source": [
    "with io.capture_output() as captured:\n",
    "    all_mfs, fockvars = instantiate_mf(\n",
    "        ml_data,\n",
    "        fock_predictions=None,\n",
    "        batch_indices=list(range(len(ml_data.structures))),\n",
    "    )"
   ]
  },
  {
   "cell_type": "code",
   "execution_count": null,
   "metadata": {},
   "outputs": [],
   "source": [
    "from cmath import inf\n",
    "\n",
    "best = inf\n",
    "early_stop_criteria = 10"
   ]
  },
  {
   "cell_type": "code",
   "execution_count": null,
   "metadata": {},
   "outputs": [],
   "source": [
    "model = LinearTargetModel(\n",
    "    dataset=ml_data, nlayers=1, nhidden=16, bias=False, device=\"cuda\"\n",
    ")\n",
    "optimizer = torch.optim.Adam(model.parameters(), lr=1e-3)\n",
    "scheduler = torch.optim.lr_scheduler.ReduceLROnPlateau(\n",
    "    optimizer, factor=0.5, patience=10, verbose=True\n",
    ")\n",
    "\n",
    "val_interval = 10  # When to validate the model"
   ]
  },
  {
   "cell_type": "code",
   "execution_count": null,
   "metadata": {},
   "outputs": [
    {
     "name": "stdout",
     "output_type": "stream",
     "text": [
      "Epoch 0, train loss 4.7234631343690525\n",
      "Epoch 0 val loss 0.5009249111702158\n",
      "Epoch 10, train loss 0.12233480542107343\n",
      "Epoch 10 val loss 0.07607226597589022\n",
      "Epoch 20, train loss 0.0671454152602597\n",
      "Epoch 20 val loss 0.05426086619676726\n",
      "Epoch 30, train loss 0.06057652705550447\n",
      "Epoch 30 val loss 0.053444889243728394\n",
      "Epoch 40, train loss 0.07045082210620911\n",
      "Epoch 40 val loss 0.11526813719342328\n",
      "Epoch 50, train loss 0.052494894499576394\n",
      "Epoch 50 val loss 0.03088410988041648\n",
      "Epoch 60, train loss 0.044533690385070886\n",
      "Epoch 60 val loss 0.025156641535927525\n",
      "Epoch 70, train loss 0.03901671014634406\n",
      "Epoch 70 val loss 0.022674010766148996\n",
      "Epoch 80, train loss 0.02512234538221762\n",
      "Epoch 80 val loss 0.036093141939436774\n",
      "Epoch 90, train loss 0.024097809138107208\n",
      "Epoch 90 val loss 0.022499076981467907\n",
      "Epoch 100, train loss 0.02650963338031376\n",
      "Epoch 100 val loss 0.01788050025811151\n",
      "Epoch 110, train loss 0.021045868340015112\n",
      "Epoch 110 val loss 0.013018676762912483\n",
      "Epoch 120, train loss 0.021396714919648663\n",
      "Epoch 120 val loss 0.01583993169987415\n",
      "Epoch 130, train loss 0.014574675147083974\n",
      "Epoch 130 val loss 0.013735575329102129\n",
      "Epoch 140, train loss 0.012173558867215118\n",
      "Epoch 140 val loss 0.010526909267124662\n",
      "Epoch 150, train loss 0.012941138985672054\n",
      "Epoch 150 val loss 0.007796785367700591\n",
      "Epoch 160, train loss 0.015511824505653351\n",
      "Epoch 160 val loss 0.005778488419005599\n",
      "Epoch 170, train loss 0.00938882155482859\n",
      "Epoch 170 val loss 0.0071213823320258945\n",
      "Epoch 180, train loss 0.009890556103596414\n",
      "Epoch 180 val loss 0.012999170017146811\n",
      "Epoch 190, train loss 0.017293176501105605\n",
      "Epoch 190 val loss 0.011705142641843585\n",
      "Epoch 200, train loss 0.009331301650277119\n",
      "Epoch 200 val loss 0.005533298421057002\n",
      "Epoch 210, train loss 0.006848026410638162\n",
      "Epoch 210 val loss 0.00920986247745891\n",
      "Epoch 220, train loss 0.00798045667784226\n",
      "Epoch 220 val loss 0.005664742453175555\n",
      "Epoch 230, train loss 0.009530966932919648\n",
      "Epoch 230 val loss 0.010353659190452258\n",
      "Epoch 240, train loss 0.011360801288308941\n",
      "Epoch 240 val loss 0.0074224827741513726\n",
      "Epoch 250, train loss 0.00864835253677297\n",
      "Epoch 250 val loss 0.008207545241229207\n",
      "Epoch 260, train loss 0.007480268502713886\n",
      "Epoch 260 val loss 0.004738144372607707\n",
      "Epoch 270, train loss 0.008125061108465413\n",
      "Epoch 270 val loss 0.007449456846531994\n",
      "Epoch 280, train loss 0.0074928810416008546\n",
      "Epoch 280 val loss 0.005505092148931032\n",
      "Epoch 290, train loss 0.0077420214781086\n",
      "Epoch 290 val loss 0.004622097047198506\n",
      "Epoch 300, train loss 0.008201061328954458\n",
      "Epoch 300 val loss 0.00663641406036737\n",
      "Epoch 310, train loss 0.007299820508380368\n",
      "Epoch 310 val loss 0.005271874510904895\n",
      "Epoch 320, train loss 0.00849862660750353\n",
      "Epoch 320 val loss 0.007809995798051056\n",
      "Epoch 330, train loss 0.010196395122715309\n",
      "Epoch 330 val loss 0.007173780610498343\n",
      "Epoch 340, train loss 0.008158831777640952\n",
      "Epoch 340 val loss 0.004616794298335\n",
      "Epoch 350, train loss 0.007558028726294841\n",
      "Epoch 350 val loss 0.006493360424473514\n",
      "Epoch 360, train loss 0.008565906055168153\n",
      "Epoch 360 val loss 0.008344846009093626\n",
      "Epoch 370, train loss 0.007427324240588076\n",
      "Epoch 370 val loss 0.006298031008571045\n",
      "Epoch 380, train loss 0.00744697582385355\n",
      "Epoch 380 val loss 0.006460895947323596\n",
      "Epoch 390, train loss 0.007530567451570103\n",
      "Epoch 390 val loss 0.007543421064196741\n",
      "Epoch 400, train loss 0.010451390343281792\n",
      "Epoch 400 val loss 0.008097586724064722\n",
      "Epoch 410, train loss 0.007114786739735111\n",
      "Epoch 410 val loss 0.006393943831623507\n",
      "Epoch 420, train loss 0.007851279072817378\n",
      "Epoch 420 val loss 0.007654416664375688\n",
      "Epoch 430, train loss 0.009719451801607154\n",
      "Epoch 430 val loss 0.005583853746702211\n",
      "Epoch 440, train loss 0.007838797597601836\n",
      "Epoch 440 val loss 0.005892874562226052\n",
      "Early stopping at epoch 450\n",
      "Epoch 450, train loss 0.00790957939626527\n",
      "Epoch 450 val loss 0.004748902577635371\n"
     ]
    }
   ],
   "source": [
    "loss_fn = getattr(mlmetrics, \"L2_loss\")\n",
    "losses = []\n",
    "early_stop_count = 0\n",
    "for epoch in range(800):\n",
    "    model.train(True)\n",
    "    train_loss = 0\n",
    "    for i, data in enumerate(train_dl):\n",
    "        optimizer.zero_grad()\n",
    "        batch_indices = data[\"idx\"]\n",
    "        # print(batch_indices)\n",
    "        train_focks = model(\n",
    "            data[\"input\"], return_type=\"tensor\", batch_indices=batch_indices\n",
    "        ).type(torch.float64)\n",
    "        with io.capture_output() as captured:\n",
    "            train_dip_pred = compute_batch_dipole_moment(\n",
    "                ml_data, train_focks, batch_indices=batch_indices, mfs=all_mfs\n",
    "            )\n",
    "        loss = loss_fn(\n",
    "            train_dip_pred, ml_data.molecule_data.target[\"dipole_moment\"][batch_indices]\n",
    "        )\n",
    "        train_loss += loss.item()\n",
    "        loss.backward()\n",
    "        optimizer.step()\n",
    "\n",
    "    losses.append(train_loss)\n",
    "    # scheduler.step(train_loss)\n",
    "    model.train(False)\n",
    "\n",
    "    if epoch % val_interval == 0:\n",
    "        val_loss = 0\n",
    "        for i, data in enumerate(val_dl):\n",
    "            batch_indices = data[\"idx\"]\n",
    "            val_focks = model(\n",
    "                data[\"input\"], return_type=\"tensor\", batch_indices=batch_indices\n",
    "            ).type(torch.float64)\n",
    "            with io.capture_output() as captured:\n",
    "                val_dip_pred = compute_batch_dipole_moment(\n",
    "                    ml_data, val_focks, batch_indices=batch_indices, mfs=all_mfs\n",
    "                )\n",
    "\n",
    "            vloss = loss_fn(\n",
    "                val_dip_pred,\n",
    "                ml_data.molecule_data.target[\"dipole_moment\"][batch_indices],\n",
    "            )\n",
    "            val_loss += vloss.item()\n",
    "        new_best = val_loss < best\n",
    "        if new_best:\n",
    "            best = val_loss\n",
    "            # torch.save(model.state_dict(), 'best_model_dipole.pt')\n",
    "            early_stop_count = 0\n",
    "        else:\n",
    "            early_stop_count += 1\n",
    "        if early_stop_count > early_stop_criteria:\n",
    "            print(f\"Early stopping at epoch {epoch}\")\n",
    "            print(f\"Epoch {epoch}, train loss {train_loss/len(ml_data.train_idx)}\")\n",
    "\n",
    "            print(f\"Epoch {epoch} val loss {val_loss/len(ml_data.val_idx)}\")\n",
    "            # Save last best model\n",
    "            break\n",
    "\n",
    "    if epoch % 10 == 0:\n",
    "        print(f\"Epoch {epoch}, train loss {train_loss/len(ml_data.train_idx)}\")\n",
    "\n",
    "        print(f\"Epoch {epoch} val loss {val_loss/len(ml_data.val_idx)}\")"
   ]
  },
  {
   "cell_type": "code",
   "execution_count": null,
   "metadata": {},
   "outputs": [
    {
     "data": {
      "text/plain": [
       "Text(0, 0.5, 'MSE')"
      ]
     },
     "execution_count": 34,
     "metadata": {},
     "output_type": "execute_result"
    },
    {
     "data": {
      "image/png": "[encoded data removed]",
      "text/plain": [
       "<Figure size 640x480 with 1 Axes>"
      ]
     },
     "metadata": {},
     "output_type": "display_data"
    }
   ],
   "source": [
    "plt.loglog(losses)\n",
    "plt.xlabel(\"Epoch\")\n",
    "plt.ylabel(\"MSE\")"
   ]
  },
  {
   "cell_type": "code",
   "execution_count": null,
   "metadata": {},
   "outputs": [
    {
     "name": "stdout",
     "output_type": "stream",
     "text": [
      "(TEST) MSE on dipole tensor(0.0031, device='cuda:0', dtype=torch.float64, grad_fn=<DivBackward0>)\n"
     ]
    }
   ],
   "source": [
    "with io.capture_output() as captured:\n",
    "    batch_indices = ml_data.test_idx\n",
    "    test_fock_predictions = model.forward(\n",
    "        ml_data.feat_test, return_type=\"tensor\", batch_indices=ml_data.test_idx\n",
    "    ).type(torch.float64)\n",
    "    test_dip_pred = compute_batch_dipole_moment(\n",
    "        ml_data, test_fock_predictions, batch_indices=batch_indices, mfs=all_mfs\n",
    "    )\n",
    "\n",
    "error = mlmetrics.L2_loss(\n",
    "    test_dip_pred, ml_data.molecule_data.target[\"dipole_moment\"][ml_data.test_idx]\n",
    ")\n",
    "print(\"(TEST) MSE on dipole\", error / len(test_dip_pred))"
   ]
  },
  {
   "cell_type": "markdown",
   "metadata": {},
   "source": [
    "What about the loss on the Hamiltonian which is not directly trained on? "
   ]
  },
  {
   "cell_type": "code",
   "execution_count": null,
   "metadata": {},
   "outputs": [
    {
     "data": {
      "text/plain": [
       "tensor(497.8821, device='cuda:0', dtype=torch.float64, grad_fn=<DivBackward0>)"
      ]
     },
     "execution_count": 39,
     "metadata": {},
     "output_type": "execute_result"
    }
   ],
   "source": [
    "# Error on canonical ordered fock matrix\n",
    "mlmetrics.L2_loss(test_fock_predictions, ml_data.target.tensor[ml_data.test_idx]) / len(\n",
    "    test_fock_predictions\n",
    ")"
   ]
  },
  {
   "cell_type": "markdown",
   "metadata": {},
   "source": [
    "### TODO : Add loss on the intermediate fock matrix predictions to the overall loss term "
   ]
  },
  {
   "cell_type": "markdown",
   "metadata": {},
   "source": [
    "## We can overfit on just rotated structures "
   ]
  },
  {
   "cell_type": "code",
   "execution_count": null,
   "metadata": {},
   "outputs": [
    {
     "name": "stdout",
     "output_type": "stream",
     "text": [
      "Loading structures\n",
      "examples/data/water_rotated/sto-3g/fock.hickle\n",
      "examples/data/water_rotated/sto-3g/dipole_moment.hickle\n",
      "Computing features with default hypers\n"
     ]
    },
    {
     "name": "stderr",
     "output_type": "stream",
     "text": [
      "/home/nigam/miniconda3/lib/python3.11/site-packages/rascaline/systems/ase.py:57: UserWarning: periodic boundary conditions are disabled, but the cell matrix is not zero, we will set the cell to zero.\n",
      "  warnings.warn(\n"
     ]
    }
   ],
   "source": [
    "water_data = MoleculeDataset(\n",
    "    mol_name=\"water_rotated\",\n",
    "    frame_slice=slice(0, 100),\n",
    "    device=\"cuda\",\n",
    "    aux=[\"overlap\", \"orbitals\"],\n",
    "    target=[\"fock\", \"dipole_moment\"],\n",
    ")\n",
    "ml_data = MLDataset(molecule_data=water_data, device=\"cuda\", model_strategy=\"coupled\")\n",
    "\n",
    "# ml_data._shuffle(random_seed=5380)\n",
    "ml_data._split_indices(train_frac=0.4, val_frac=0.33)\n",
    "# assumed args.model_type = 'acdc'\n",
    "if ml_data.features is None:\n",
    "    ml_data._set_features(compute_features_for_target(ml_data, device=\"cuda\"))"
   ]
  },
  {
   "cell_type": "code",
   "execution_count": null,
   "metadata": {},
   "outputs": [],
   "source": [
    "train_dl, val_dl, test_dl = get_dataloader(ml_data, model_return=\"tensor\")\n",
    "# next(iter(train_dl))"
   ]
  },
  {
   "cell_type": "markdown",
   "metadata": {},
   "source": [
    "### training on rotated structures "
   ]
  },
  {
   "cell_type": "code",
   "execution_count": null,
   "metadata": {},
   "outputs": [],
   "source": [
    "model = LinearTargetModel(\n",
    "    dataset=ml_data, nlayers=1, nhidden=16, bias=False, device=\"cuda\"\n",
    ")"
   ]
  },
  {
   "cell_type": "code",
   "execution_count": null,
   "metadata": {},
   "outputs": [],
   "source": [
    "from cmath import inf\n",
    "\n",
    "best = inf\n",
    "early_stop_criteria = 10"
   ]
  },
  {
   "cell_type": "code",
   "execution_count": null,
   "metadata": {},
   "outputs": [],
   "source": [
    "optimizer = torch.optim.Adam(model.parameters(), lr=1e-3)\n",
    "scheduler = torch.optim.lr_scheduler.ReduceLROnPlateau(\n",
    "    optimizer, factor=0.5, patience=10, verbose=True\n",
    ")\n",
    "import mlelec.metrics as mlmetrics\n",
    "\n",
    "val_interval = 10\n",
    "loss_fn = getattr(mlmetrics, \"L2_loss\")\n",
    "losses = []\n",
    "early_stop_count = 0"
   ]
  },
  {
   "cell_type": "code",
   "execution_count": null,
   "metadata": {},
   "outputs": [
    {
     "name": "stdout",
     "output_type": "stream",
     "text": [
      "Epoch 0, train loss 480.6221471109374\n",
      "Epoch 0 val loss 479.6697718800906\n",
      "Epoch 10, train loss 471.067940931348\n",
      "Epoch 10 val loss 470.07432046560285\n",
      "Epoch 20, train loss 460.5452746793023\n",
      "Epoch 20 val loss 459.41386976932336\n",
      "Epoch 30, train loss 448.51430957752297\n",
      "Epoch 30 val loss 447.2212151794173\n",
      "Epoch 40, train loss 434.8163762364184\n",
      "Epoch 40 val loss 433.35173403945134\n",
      "Epoch 50, train loss 419.394049535435\n",
      "Epoch 50 val loss 417.75839236533676\n",
      "Epoch 60, train loss 402.31622244719415\n",
      "Epoch 60 val loss 400.5242073677908\n",
      "Epoch 70, train loss 383.78575865653283\n",
      "Epoch 70 val loss 381.8637295122723\n",
      "Epoch 80, train loss 364.1001015139956\n",
      "Epoch 80 val loss 362.08097041657\n",
      "Epoch 90, train loss 343.5972824317196\n",
      "Epoch 90 val loss 341.51489354079655\n",
      "Epoch 100, train loss 322.60118737197865\n",
      "Epoch 100 val loss 320.48553902797124\n",
      "Epoch 110, train loss 301.38706441313224\n",
      "Epoch 110 val loss 299.2625421243271\n",
      "Epoch 120, train loss 280.17292045612527\n",
      "Epoch 120 val loss 278.05829901281874\n",
      "Epoch 130, train loss 259.1249612760588\n",
      "Epoch 130 val loss 257.0343781514643\n",
      "Epoch 140, train loss 238.36724031403483\n",
      "Epoch 140 val loss 236.31121093580407\n",
      "Epoch 150, train loss 217.99251486134105\n",
      "Epoch 150 val loss 215.97906654704028\n",
      "Epoch 160, train loss 198.0762107819464\n",
      "Epoch 160 val loss 196.11260204925392\n",
      "Epoch 170, train loss 178.69350050188095\n",
      "Epoch 170 val loss 176.78785831983802\n",
      "Epoch 180, train loss 159.93384293220115\n",
      "Epoch 180 val loss 158.09619549214355\n",
      "Epoch 190, train loss 141.90665180448767\n",
      "Epoch 190 val loss 140.14891308143552\n",
      "Epoch 200, train loss 124.73659394317214\n",
      "Epoch 200 val loss 123.0717261264063\n",
      "Epoch 210, train loss 108.55220101124699\n",
      "Epoch 210 val loss 106.99271259488519\n",
      "Epoch 220, train loss 93.47254904497245\n",
      "Epoch 220 val loss 92.02936690506182\n",
      "Epoch 230, train loss 79.59626112842915\n",
      "Epoch 230 val loss 78.27781176063128\n",
      "Epoch 240, train loss 66.99418725029865\n",
      "Epoch 240 val loss 65.80585439464825\n",
      "Epoch 250, train loss 55.705655318225354\n",
      "Epoch 250 val loss 54.64959234288684\n",
      "Epoch 260, train loss 45.737404124866394\n",
      "Epoch 260 val loss 44.81250137496227\n",
      "Epoch 270, train loss 37.064639028382935\n",
      "Epoch 270 val loss 36.266770276668666\n",
      "Epoch 280, train loss 29.633923407857132\n",
      "Epoch 280 val loss 28.956339836269017\n",
      "Epoch 290, train loss 23.367322987455452\n",
      "Epoch 290 val loss 22.801077623055797\n",
      "Epoch 300, train loss 18.167595893211928\n",
      "Epoch 300 val loss 17.702121316630567\n",
      "Epoch 310, train loss 13.92400440396401\n",
      "Epoch 310 val loss 13.547730224704392\n",
      "Epoch 320, train loss 10.518564705489238\n",
      "Epoch 320 val loss 10.219489035551165\n",
      "Epoch 330, train loss 7.831725362167545\n",
      "Epoch 330 val loss 7.5980359750066695\n",
      "Epoch 340, train loss 5.74757659350204\n",
      "Epoch 340 val loss 5.5680680275896215\n",
      "Epoch 350, train loss 4.158098689219944\n",
      "Epoch 350 val loss 4.0225039422569795\n",
      "Epoch 360, train loss 2.9660037584865058\n",
      "Epoch 360 val loss 2.865273336756371\n",
      "Epoch 370, train loss 2.0865388331682513\n",
      "Epoch 370 val loss 2.01291596395469\n",
      "Epoch 380, train loss 1.4480674493223942\n",
      "Epoch 380 val loss 1.3951050864712433\n",
      "Epoch 390, train loss 0.9917601308730389\n",
      "Epoch 390 val loss 0.9542425056049562\n",
      "Epoch 400, train loss 0.6705474058123113\n",
      "Epoch 400 val loss 0.6443625709467616\n",
      "Epoch 410, train loss 0.44772901025879625\n",
      "Epoch 410 val loss 0.42971204592156614\n",
      "Epoch 420, train loss 0.2953320690962386\n",
      "Epoch 420 val loss 0.283111847004136\n",
      "Epoch 430, train loss 0.19251518619057434\n",
      "Epoch 430 val loss 0.184332327061375\n",
      "Epoch 440, train loss 0.1240532589152218\n",
      "Epoch 440 val loss 0.11864514265112773\n",
      "Epoch 450, train loss 0.07904095590088342\n",
      "Epoch 450 val loss 0.07551205979652757\n",
      "Epoch 460, train loss 0.0498092305779583\n",
      "Epoch 460 val loss 0.04753291140824228\n",
      "Epoch 470, train loss 0.03104977000997539\n",
      "Epoch 470 val loss 0.029599068865213025\n",
      "Epoch 480, train loss 0.01915141380757535\n",
      "Epoch 480 val loss 0.01823665051030572\n",
      "Epoch 490, train loss 0.011688070711021563\n",
      "Epoch 490 val loss 0.011118226190472218\n",
      "Epoch 500, train loss 0.007058982840221053\n",
      "Epoch 500 val loss 0.0067077075533684945\n",
      "Epoch 510, train loss 0.0042192443791439415\n",
      "Epoch 510 val loss 0.004005216557278323\n",
      "Epoch 520, train loss 0.002495824607427838\n",
      "Epoch 520 val loss 0.0023668017643400574\n",
      "Epoch 530, train loss 0.0014610909838555855\n",
      "Epoch 530 val loss 0.0013841218244743784\n",
      "Epoch 540, train loss 0.0008464458229658755\n",
      "Epoch 540 val loss 0.0008010140574677754\n",
      "Epoch 550, train loss 0.00048527343538476864\n",
      "Epoch 550 val loss 0.00045875516584494583\n",
      "Epoch 560, train loss 0.0002752636639301316\n",
      "Epoch 560 val loss 0.000259914482921553\n",
      "Epoch 570, train loss 0.00015443852694061754\n",
      "Epoch 570 val loss 0.00014570071496888397\n",
      "Epoch 580, train loss 8.576855164733978e-05\n",
      "Epoch 580 val loss 8.079097267728772e-05\n",
      "Epoch 590, train loss 4.7082745938259946e-05\n",
      "Epoch 590 val loss 4.4298245138272815e-05\n",
      "Epoch 600, train loss 2.5557351118934664e-05\n",
      "Epoch 600 val loss 2.4037835770633934e-05\n",
      "Epoch 610, train loss 1.3727213000173732e-05\n",
      "Epoch 610 val loss 1.2905994633345818e-05\n",
      "Epoch 620, train loss 7.289206669055451e-06\n",
      "Epoch 620 val loss 6.84308685775311e-06\n",
      "Epoch 630, train loss 3.8184301431629254e-06\n",
      "Epoch 630 val loss 3.5836195396507624e-06\n",
      "Epoch 640, train loss 1.978726664834227e-06\n",
      "Epoch 640 val loss 1.85203740339039e-06\n",
      "Epoch 650, train loss 1.0122980250102664e-06\n",
      "Epoch 650 val loss 9.443916639293617e-07\n",
      "Epoch 660, train loss 5.129637398748813e-07\n",
      "Epoch 660 val loss 4.780614319663422e-07\n",
      "Epoch 670, train loss 2.5260106294956355e-07\n",
      "Epoch 670 val loss 2.3749690337278292e-07\n",
      "Epoch 680, train loss 1.2519196488590848e-07\n",
      "Epoch 680 val loss 1.1592325827692871e-07\n",
      "Epoch 690, train loss 6.101811283661752e-08\n",
      "Epoch 690 val loss 5.639888089999499e-08\n",
      "Epoch 700, train loss 2.9148783310280205e-08\n",
      "Epoch 700 val loss 2.722893010694e-08\n",
      "Epoch 710, train loss 1.3767425601053512e-08\n",
      "Epoch 710 val loss 1.2888131460337695e-08\n",
      "Epoch 720, train loss 6.273250330401877e-09\n",
      "Epoch 720 val loss 5.685017568512125e-09\n",
      "Epoch 730, train loss 2.5625431465731515e-09\n",
      "Epoch 730 val loss 2.19262484125471e-09\n",
      "Epoch 740, train loss 1.2528848644384963e-09\n",
      "Epoch 740 val loss 1.2540507693273925e-09\n",
      "Epoch 750, train loss 1.1218992540376975e-09\n",
      "Epoch 750 val loss 1.1230874421539308e-09\n",
      "Epoch 760, train loss 1.1219203335403971e-09\n",
      "Epoch 760 val loss 1.1230852906681012e-09\n",
      "Epoch 770, train loss 1.1220061142835945e-09\n",
      "Epoch 770 val loss 1.1230870600397601e-09\n",
      "Epoch 780, train loss 1.1218990518260406e-09\n",
      "Epoch 780 val loss 1.1230885915626679e-09\n",
      "Epoch 790, train loss 1.1220078074766654e-09\n",
      "Epoch 790 val loss 1.1230831874809509e-09\n"
     ]
    }
   ],
   "source": [
    "for epoch in range(800):\n",
    "    # train_pred = []\n",
    "    # target=[]\n",
    "    model.train(True)\n",
    "    train_loss = 0\n",
    "    for i, data in enumerate(train_dl):\n",
    "        optimizer.zero_grad()\n",
    "        pred = model(data[\"input\"], return_type=\"tensor\", batch_indices=data[\"idx\"])\n",
    "        # target.append(data['output'])\n",
    "        # train_pred.append(pred)\n",
    "        loss = loss_fn(pred, data[\"output\"])\n",
    "        train_loss += loss.item()\n",
    "        loss.backward()\n",
    "        optimizer.step()\n",
    "    # train_loss = loss_fn(torch.cat(train_pred), torch.cat(target))\n",
    "    # print(train_loss - epoch_loss)\n",
    "    losses.append(train_loss)\n",
    "    # scheduler.step(train_loss)\n",
    "    model.train(False)\n",
    "\n",
    "    if epoch % val_interval == 0:\n",
    "        # val_pred = []\n",
    "        # val= []\n",
    "        val_loss = 0\n",
    "        for i, data in enumerate(val_dl):\n",
    "            pred = model(data[\"input\"], return_type=\"tensor\", batch_indices=data[\"idx\"])\n",
    "            vloss = loss_fn(pred, data[\"output\"])\n",
    "            val_loss += vloss.item()\n",
    "            # val.append(data['output'])\n",
    "            # val_pred.append(pred)\n",
    "        new_best = val_loss < best\n",
    "        if new_best:\n",
    "            best = val_loss\n",
    "            torch.save(model.state_dict(), \"best_model.pt\")\n",
    "            early_stop_count = 0\n",
    "        else:\n",
    "            early_stop_count += 1\n",
    "        if early_stop_count > early_stop_criteria:\n",
    "            print(f\"Early stopping at epoch {epoch}\")\n",
    "            print(f\"Epoch {epoch}, train loss {train_loss/len(ml_data.train_idx)}\")\n",
    "\n",
    "            print(f\"Epoch {epoch} val loss {val_loss/len(ml_data.val_idx)}\")\n",
    "            # Save last best model\n",
    "            break\n",
    "\n",
    "        # val_loss = loss_fn(torch.cat(val_pred), torch.cat(val))\n",
    "    if epoch % 10 == 0:\n",
    "        print(f\"Epoch {epoch}, train loss {train_loss/len(ml_data.train_idx)}\")\n",
    "\n",
    "        print(f\"Epoch {epoch} val loss {val_loss/len(ml_data.val_idx)}\")"
   ]
  },
  {
   "cell_type": "code",
   "execution_count": null,
   "metadata": {},
   "outputs": [
    {
     "data": {
      "text/plain": [
       "[<matplotlib.lines.Line2D at 0x7f2e20c95910>]"
      ]
     },
     "execution_count": 11,
     "metadata": {},
     "output_type": "execute_result"
    },
    {
     "data": {
      "image/png": "[encoded data removed]",
      "text/plain": [
       "<Figure size 640x480 with 1 Axes>"
      ]
     },
     "metadata": {},
     "output_type": "display_data"
    }
   ],
   "source": [
    "import matplotlib.pyplot as plt\n",
    "\n",
    "plt.loglog(losses)"
   ]
  },
  {
   "cell_type": "markdown",
   "metadata": {},
   "source": [
    "### Input model prediction into pyscf to compute dipole moment "
   ]
  },
  {
   "cell_type": "code",
   "execution_count": null,
   "metadata": {},
   "outputs": [
    {
     "name": "stdout",
     "output_type": "stream",
     "text": [
      "Using PyTorch backend.\n"
     ]
    },
    {
     "name": "stderr",
     "output_type": "stream",
     "text": [
      "/home/nigam/miniconda3/lib/python3.11/site-packages/pyscf/dft/libxc.py:772: UserWarning: Since PySCF-2.3, B3LYP (and B3P86) are changed to the VWN-RPA variant, the same to the B3LYP functional in Gaussian and ORCA (issue 1480). To restore the VWN5 definition, you can put the setting \"B3LYP_WITH_VWN5 = True\" in pyscf_conf.py\n",
      "  warnings.warn('Since PySCF-2.3, B3LYP (and B3P86) are changed to the VWN-RPA variant, '\n"
     ]
    }
   ],
   "source": [
    "import os\n",
    "\n",
    "os.environ[\"PYSCFAD_BACKEND\"] = \"torch\"\n",
    "\n",
    "import torch\n",
    "from pyscf import gto\n",
    "\n",
    "from pyscfad import numpy as pynp\n",
    "from pyscfad import ops\n",
    "from pyscfad.ml.scf import hf\n",
    "import pyscf.pbc.tools.pyscf_ase as pyscf_ase"
   ]
  },
  {
   "cell_type": "code",
   "execution_count": null,
   "metadata": {},
   "outputs": [],
   "source": [
    "from mlelec.data.pyscf_calculator import _instantiate_pyscf_mol\n",
    "from mlelec.utils.twocenter_utils import fix_orbital_order, unfix_orbital_order\n",
    "import mlelec.metrics as mlmetrics"
   ]
  },
  {
   "cell_type": "code",
   "execution_count": null,
   "metadata": {},
   "outputs": [],
   "source": [
    "import sys\n",
    "import os\n",
    "\n",
    "\n",
    "class HiddenPrints:\n",
    "    def __enter__(self):\n",
    "        self._original_stdout = sys.stdout\n",
    "        sys.stdout = open(os.devnull, \"w\")\n",
    "        sys._jupyter_stdout = sys.stdout\n",
    "\n",
    "    def __exit__(self, exc_type, exc_val, exc_tb):\n",
    "        sys.stdout.close()\n",
    "        sys.stdout = self._original_stdout\n",
    "        sys._jupyter_stdout = sys.stdout"
   ]
  },
  {
   "cell_type": "code",
   "execution_count": null,
   "metadata": {},
   "outputs": [],
   "source": [
    "def compute_dipole_moment(frames, fock_predictions, overlaps):\n",
    "    assert (\n",
    "        len(frames) == len(fock_predictions) == len(overlaps)\n",
    "    ), \"Length of frames, fock_predictions, and overlaps must be the same\"\n",
    "    dipoles = []\n",
    "    for i, frame in enumerate(frames):\n",
    "        mol = _instantiate_pyscf_mol(frame)\n",
    "        mf = hf.SCF(mol)\n",
    "        fock = torch.autograd.Variable(\n",
    "            fock_predictions[i].type(torch.float64), requires_grad=True\n",
    "        )\n",
    "\n",
    "        mo_energy, mo_coeff = mf.eig(fock, overlaps[i])\n",
    "        mo_occ = mf.get_occ(mo_energy)  # get_occ returns a numpy array\n",
    "        mo_occ = ops.convert_to_tensor(mo_occ)\n",
    "        dm1 = mf.make_rdm1(mo_coeff, mo_occ)\n",
    "        dip = mf.dip_moment(dm=dm1)\n",
    "        dipoles.append(dip)\n",
    "    return torch.stack(dipoles)"
   ]
  },
  {
   "cell_type": "code",
   "execution_count": null,
   "metadata": {},
   "outputs": [
    {
     "ename": "NameError",
     "evalue": "name 'model' is not defined",
     "output_type": "error",
     "traceback": [
      "\u001b[0;31m---------------------------------------------------------------------------\u001b[0m",
      "\u001b[0;31mNameError\u001b[0m                                 Traceback (most recent call last)",
      "\u001b[1;32m/home/nigam/scratch/MAC/my_mlelec/pyscfad_interface.ipynb Cell 17\u001b[0m line \u001b[0;36m6\n\u001b[1;32m      <a href='vscode-notebook-cell:/home/nigam/scratch/MAC/my_mlelec/pyscfad_interface.ipynb#Y125sZmlsZQ%3D%3D?line=2'>3</a>\u001b[0m \u001b[39m# with HiddenPrints():\u001b[39;00m\n\u001b[1;32m      <a href='vscode-notebook-cell:/home/nigam/scratch/MAC/my_mlelec/pyscfad_interface.ipynb#Y125sZmlsZQ%3D%3D?line=3'>4</a>\u001b[0m \u001b[39mwith\u001b[39;00m io\u001b[39m.\u001b[39mcapture_output() \u001b[39mas\u001b[39;00m captured:\n\u001b[0;32m----> <a href='vscode-notebook-cell:/home/nigam/scratch/MAC/my_mlelec/pyscfad_interface.ipynb#Y125sZmlsZQ%3D%3D?line=5'>6</a>\u001b[0m     fock_predictions \u001b[39m=\u001b[39m model\u001b[39m.\u001b[39mforward(ml_data\u001b[39m.\u001b[39mfeat_test, return_type\u001b[39m=\u001b[39m\u001b[39m'\u001b[39m\u001b[39mtensor\u001b[39m\u001b[39m'\u001b[39m)\n\u001b[1;32m      <a href='vscode-notebook-cell:/home/nigam/scratch/MAC/my_mlelec/pyscfad_interface.ipynb#Y125sZmlsZQ%3D%3D?line=6'>7</a>\u001b[0m     \u001b[39m# convert prediction back to pyscf order\u001b[39;00m\n\u001b[1;32m      <a href='vscode-notebook-cell:/home/nigam/scratch/MAC/my_mlelec/pyscfad_interface.ipynb#Y125sZmlsZQ%3D%3D?line=7'>8</a>\u001b[0m     test_structures \u001b[39m=\u001b[39m [ml_data\u001b[39m.\u001b[39mstructures[i] \u001b[39mfor\u001b[39;00m i \u001b[39min\u001b[39;00m ml_data\u001b[39m.\u001b[39mtest_idx] \n",
      "\u001b[0;31mNameError\u001b[0m: name 'model' is not defined"
     ]
    }
   ],
   "source": [
    "# TEST set\n",
    "\n",
    "# with HiddenPrints():\n",
    "with io.capture_output() as captured:\n",
    "    fock_predictions = model.forward(ml_data.feat_test, return_type=\"tensor\")\n",
    "    # convert prediction back to pyscf order\n",
    "    fock_predictions = unfix_orbital_order(\n",
    "        fock_predictions,\n",
    "        ml_data.test_structures,\n",
    "        ml_data.molecule_data.aux_data[\"orbitals\"],\n",
    "    )\n",
    "\n",
    "    dipole_predictions = compute_dipole_moment(\n",
    "        ml_data.test_structures,\n",
    "        fock_predictions,\n",
    "        ml_data.molecule_data.aux_data[\"overlap\"][ml_data.test_idx],\n",
    "    )\n",
    "    # very imp to pass the right overlap matrix\n",
    "\n",
    "\n",
    "error = mlmetrics.L2_loss(\n",
    "    dipole_predictions, ml_data.molecule_data.target[\"dipole_moment\"][ml_data.test_idx]\n",
    ")\n",
    "print(\"(TEST) MSE on dipole\", error / len(dipole_predictions))"
   ]
  },
  {
   "cell_type": "code",
   "execution_count": null,
   "metadata": {},
   "outputs": [],
   "source": [
    "# Entire dataset\n",
    "with io.capture_output() as captured:\n",
    "    fock_predictions = model.forward(ml_data.features, return_type=\"tensor\")\n",
    "    # convert prediction back to pyscf order\n",
    "    fock_predictions = unfix_orbital_order(\n",
    "        fock_predictions, ml_data.structures, ml_data.molecule_data.aux_data[\"orbitals\"]\n",
    "    )\n",
    "    dipole_predictions = compute_dipole_moment(\n",
    "        ml_data.structures, fock_predictions, ml_data.molecule_data.aux_data[\"overlap\"]\n",
    "    )"
   ]
  },
  {
   "cell_type": "code",
   "execution_count": null,
   "metadata": {},
   "outputs": [
    {
     "name": "stdout",
     "output_type": "stream",
     "text": [
      "MSE on dipole tensor(1.3298e-12, device='cuda:0', dtype=torch.float64,\n",
      "       grad_fn=<DivBackward0>)\n"
     ]
    }
   ],
   "source": [
    "error = mlmetrics.L2_loss(\n",
    "    dipole_predictions, ml_data.molecule_data.target[\"dipole_moment\"]\n",
    ")\n",
    "print(\"MSE on dipole\", error / len(dipole_predictions))"
   ]
  },
  {
   "cell_type": "markdown",
   "metadata": {},
   "source": [
    "### test equivariance of prediction/features "
   ]
  },
  {
   "cell_type": "code",
   "execution_count": null,
   "metadata": {},
   "outputs": [],
   "source": [
    "import hickle\n",
    "\n",
    "rotations = hickle.load(\"examples/data/water_rotated/rotations.hickle\")\n",
    "r1 = model.forward(ml_data.features, return_type=\"coupled_blocks\")"
   ]
  },
  {
   "cell_type": "code",
   "execution_count": null,
   "metadata": {},
   "outputs": [],
   "source": [
    "r1 = ml_data.features"
   ]
  },
  {
   "cell_type": "code",
   "execution_count": null,
   "metadata": {},
   "outputs": [],
   "source": [
    "from mlelec.utils.metatensor_utils import labels_where\n",
    "from mlelec.utils.symmetry import _wigner_d_real\n",
    "import numpy as np\n",
    "from metatensor import Labels\n",
    "\n",
    "for i, (k, b) in enumerate(r1.items()):\n",
    "    unrot_idx = labels_where(\n",
    "        b.samples,\n",
    "        selection=Labels([\"structure\"], values=np.asarray([[0]]).reshape(-1, 1)),\n",
    "        return_idx=True,\n",
    "    )[-1]\n",
    "    rot_idx = labels_where(\n",
    "        b.samples,\n",
    "        selection=Labels(\n",
    "            [\"structure\"], values=np.asarray([[ml_data.test_idx]]).reshape(-1, 1)\n",
    "        ),\n",
    "        return_idx=True,\n",
    "    )[-1]\n",
    "    # L = k['L']\n",
    "    L = k[\"spherical_harmonics_l\"]\n",
    "    wd = _wigner_d_real(L, *rotations[ml_data.test_idx - 1]).to(b.values)\n",
    "    if torch.linalg.norm(wd @ b.values[unrot_idx] - b.values[rot_idx]) > 1e-7:\n",
    "        print(torch.linalg.norm(wd @ b.values[unrot_idx] - b.values[rot_idx]))"
   ]
  },
  {
   "cell_type": "markdown",
   "metadata": {},
   "source": [
    "### Indirect learning of dipole moment through pyscfad "
   ]
  },
  {
   "cell_type": "code",
   "execution_count": null,
   "metadata": {},
   "outputs": [],
   "source": [
    "import mlelec.metrics as mlmetrics"
   ]
  },
  {
   "cell_type": "code",
   "execution_count": null,
   "metadata": {},
   "outputs": [],
   "source": [
    "import warnings\n",
    "\n",
    "\n",
    "def instantiate_mf(ml_data: MLDataset, fock_predictions, batch_indices):\n",
    "    if len(batch_indices) != len(fock_predictions):\n",
    "        warnings.warn(\"Converting shapes\")\n",
    "        fock_predictions = fock_predictions.reshape(1, *fock_predictions.shape)\n",
    "    mfs = []\n",
    "    fockvar = []\n",
    "    for i, idx in enumerate(batch_indices):\n",
    "        mol = _instantiate_pyscf_mol(ml_data.structures[idx])\n",
    "        mf = hf.SCF(mol)\n",
    "        fock = torch.autograd.Variable(\n",
    "            fock_predictions[i].type(torch.float64), requires_grad=True\n",
    "        )\n",
    "        mfs.append(mf)\n",
    "        fockvar.append(fock)\n",
    "    return mfs, torch.cat(fockvar)\n",
    "\n",
    "\n",
    "def compute_dipole_moment_frommf(mfs, fock_vars, overlaps):\n",
    "    print(fock_vars.dtype, overlaps.dtype)\n",
    "    dipoles = []\n",
    "    for i in range(len(mfs)):\n",
    "        mf = mfs[i]\n",
    "        fock = fock_vars[i]\n",
    "        overlaps[i] = overlaps[i].to(fock)\n",
    "        mo_energy, mo_coeff = mf.eig(fock, overlaps[i])\n",
    "        mo_occ = mf.get_occ(mo_energy)  # get_occ returns a numpy array\n",
    "        mo_occ = ops.convert_to_tensor(mo_occ)\n",
    "        dm1 = mf.make_rdm1(mo_coeff, mo_occ)\n",
    "        dip = mf.dip_moment(dm=dm1)\n",
    "        dipoles.append(dip)\n",
    "    return torch.stack(dipoles)"
   ]
  },
  {
   "cell_type": "code",
   "execution_count": null,
   "metadata": {},
   "outputs": [],
   "source": [
    "def compute_dipole_moment_from_batchidx(\n",
    "    ml_data: MLDataset, batch_fockvars, batch_indices, mfs\n",
    "):\n",
    "    # Convert fock predictions back to pyscf order\n",
    "    # Compute dipole moment for each molecule in batch\n",
    "    batch_frames = [ml_data.structures[i] for i in batch_indices]\n",
    "    batch_fock = unfix_orbital_order(\n",
    "        batch_fockvars, batch_frames, ml_data.molecule_data.aux_data[\"orbitals\"]\n",
    "    )\n",
    "    batch_overlap = ml_data.molecule_data.aux_data[\"overlap\"][batch_indices].to(\n",
    "        batch_fock\n",
    "    )\n",
    "    print(len(batch_frames), len(batch_fock), len(batch_overlap))\n",
    "    return compute_dipole_moment_frommf(mfs, batch_fock, batch_overlap)"
   ]
  },
  {
   "cell_type": "code",
   "execution_count": null,
   "metadata": {},
   "outputs": [],
   "source": [
    "from cmath import inf\n",
    "\n",
    "best = inf\n",
    "early_stop_criteria = 10"
   ]
  },
  {
   "cell_type": "code",
   "execution_count": null,
   "metadata": {},
   "outputs": [],
   "source": [
    "model = LinearTargetModel(\n",
    "    dataset=ml_data, nlayers=1, nhidden=16, bias=False, device=\"cuda\"\n",
    ")\n",
    "optimizer = torch.optim.Adam(model.parameters(), lr=1e-3)\n",
    "scheduler = torch.optim.lr_scheduler.ReduceLROnPlateau(\n",
    "    optimizer, factor=0.5, patience=10, verbose=True\n",
    ")\n",
    "\n",
    "val_interval = 10"
   ]
  },
  {
   "cell_type": "code",
   "execution_count": null,
   "metadata": {},
   "outputs": [
    {
     "data": {
      "text/plain": [
       "torch.Size([7, 7])"
      ]
     },
     "execution_count": 36,
     "metadata": {},
     "output_type": "execute_result"
    }
   ],
   "source": [
    "train_focks.shape"
   ]
  },
  {
   "cell_type": "code",
   "execution_count": null,
   "metadata": {},
   "outputs": [
    {
     "name": "stdout",
     "output_type": "stream",
     "text": [
      "Epoch 0, train loss 23.890822617507865\n",
      "Epoch 0 val loss 23.890827610345298\n",
      "Epoch 10, train loss 0.25844257845675\n",
      "Epoch 10 val loss 0.2808343047151666\n",
      "Epoch 20, train loss 0.07868898373478944\n",
      "Epoch 20 val loss 0.056642496020292366\n",
      "Epoch 30, train loss 0.0030995529533909684\n",
      "Epoch 30 val loss 0.005510526882811492\n",
      "Epoch 40, train loss 0.014536936556569131\n",
      "Epoch 40 val loss 0.013285529380427562\n",
      "Epoch 50, train loss 0.0010134080183643297\n",
      "Epoch 50 val loss 0.0004910347735883092\n",
      "Epoch 60, train loss 0.00106229340354553\n",
      "Epoch 60 val loss 0.001180861165248113\n",
      "Epoch 70, train loss 0.0004542081681794029\n",
      "Epoch 70 val loss 0.0003260449352048469\n",
      "Epoch 80, train loss 4.7677173606573505e-05\n",
      "Epoch 80 val loss 7.065522318653241e-05\n",
      "Epoch 90, train loss 7.915291068666748e-05\n",
      "Epoch 90 val loss 6.283436181653282e-05\n",
      "Epoch 100, train loss 2.127319029450375e-06\n",
      "Epoch 100 val loss 4.63705931478635e-06\n",
      "Epoch 110, train loss 1.0708887809057119e-05\n",
      "Epoch 110 val loss 8.727589505492225e-06\n",
      "Epoch 120, train loss 2.403014203490348e-07\n",
      "Epoch 120 val loss 5.701865883884525e-07\n",
      "Epoch 130, train loss 1.3102374100861605e-06\n",
      "Epoch 130 val loss 1.0356571458630192e-06\n",
      "Epoch 140, train loss 7.216712145911522e-08\n",
      "Epoch 140 val loss 1.2692791141304945e-07\n",
      "Epoch 150, train loss 1.3779659434889915e-07\n",
      "Epoch 150 val loss 9.843194332139979e-08\n",
      "Epoch 160, train loss 2.4351050180029117e-08\n",
      "Epoch 160 val loss 3.194040208731063e-08\n",
      "Epoch 170, train loss 9.806474134499067e-09\n",
      "Epoch 170 val loss 5.395607161134187e-09\n",
      "Epoch 180, train loss 6.170391047569166e-09\n",
      "Epoch 180 val loss 6.466949815282122e-09\n",
      "Epoch 190, train loss 1.793740354206311e-10\n",
      "Epoch 190 val loss 1.5703071407531457e-11\n",
      "Epoch 200, train loss 9.97007724561119e-10\n",
      "Epoch 200 val loss 8.755541046240304e-10\n",
      "Epoch 210, train loss 3.765663423846066e-11\n",
      "Epoch 210 val loss 7.529584281605097e-11\n",
      "Epoch 220, train loss 9.404085720603172e-11\n",
      "Epoch 220 val loss 6.345609558895895e-11\n",
      "Epoch 230, train loss 2.5561345744374286e-11\n",
      "Epoch 230 val loss 3.081183157889612e-11\n",
      "Epoch 240, train loss 8.512056108605322e-12\n",
      "Epoch 240 val loss 6.887087700706133e-12\n",
      "Epoch 250, train loss 6.729639063688606e-12\n",
      "Epoch 250 val loss 7.536690746909916e-12\n",
      "Epoch 260, train loss 4.1475466444536875e-12\n",
      "Epoch 260 val loss 4.60197190620545e-12\n",
      "Epoch 270, train loss 4.058320346684626e-12\n",
      "Epoch 270 val loss 4.791822586722678e-12\n",
      "Epoch 280, train loss 4.0317516311540785e-12\n",
      "Epoch 280 val loss 4.8403112651203744e-12\n",
      "Epoch 290, train loss 3.7679114363345674e-12\n",
      "Epoch 290 val loss 4.788251473065859e-12\n"
     ]
    }
   ],
   "source": [
    "loss_fn = getattr(mlmetrics, \"L2_loss\")\n",
    "losses = []\n",
    "early_stop_count = 0\n",
    "for epoch in range(300):\n",
    "    model.train(True)\n",
    "    train_loss = 0\n",
    "    for i, data in enumerate(train_dl):\n",
    "        optimizer.zero_grad()\n",
    "        batch_indices = data[\"idx\"]\n",
    "        # print(batch_indices)\n",
    "        train_focks = model(\n",
    "            data[\"input\"], return_type=\"tensor\", batch_indices=batch_indices\n",
    "        ).type(torch.float64)\n",
    "        with io.capture_output() as captured:\n",
    "            # with HiddenPrints():\n",
    "            if epoch == 0:\n",
    "                train_mfs, train_focks = instantiate_mf(\n",
    "                    ml_data, train_focks, batch_indices\n",
    "                )\n",
    "            train_dip_pred = compute_dipole_moment_from_batchidx(\n",
    "                ml_data, train_focks, batch_indices=batch_indices, mfs=train_mfs\n",
    "            )\n",
    "            loss = loss_fn(\n",
    "                train_dip_pred,\n",
    "                ml_data.molecule_data.target[\"dipole_moment\"][batch_indices],\n",
    "            )\n",
    "            train_loss += loss.item()\n",
    "            loss.backward()\n",
    "            optimizer.step()\n",
    "    # train_loss = loss_fn(torch.cat(train_pred), torch.cat(target))\n",
    "    # print(train_loss - epoch_loss)\n",
    "    losses.append(train_loss)\n",
    "    # scheduler.step(train_loss)\n",
    "    model.train(False)\n",
    "\n",
    "    if epoch % val_interval == 0:\n",
    "        val_loss = 0\n",
    "        for i, data in enumerate(val_dl):\n",
    "            batch_indices = data[\"idx\"]\n",
    "            val_focks = model(\n",
    "                data[\"input\"], return_type=\"tensor\", batch_indices=batch_indices\n",
    "            ).type(torch.float64)\n",
    "            with io.capture_output() as captured:\n",
    "                # with HiddenPrints():\n",
    "                if epoch == 0:\n",
    "                    val_mfs, train_focks = instantiate_mf(\n",
    "                        ml_data, val_focks, batch_indices\n",
    "                    )\n",
    "                val_dip_pred = compute_dipole_moment_from_batchidx(\n",
    "                    ml_data, val_focks, batch_indices=batch_indices, mfs=val_mfs\n",
    "                )\n",
    "            vloss = loss_fn(\n",
    "                val_dip_pred,\n",
    "                ml_data.molecule_data.target[\"dipole_moment\"][batch_indices],\n",
    "            )\n",
    "            val_loss += vloss.item()\n",
    "        new_best = val_loss < best\n",
    "        if new_best:\n",
    "            best = val_loss\n",
    "            # torch.save(model.state_dict(), 'best_model_dipole.pt')\n",
    "            early_stop_count = 0\n",
    "        else:\n",
    "            early_stop_count += 1\n",
    "        if early_stop_count > early_stop_criteria:\n",
    "            print(f\"Early stopping at epoch {epoch}\")\n",
    "            print(f\"Epoch {epoch}, train loss {train_loss/len(ml_data.train_idx)}\")\n",
    "\n",
    "            print(f\"Epoch {epoch} val loss {val_loss/len(ml_data.val_idx)}\")\n",
    "            # Save last best model\n",
    "            break\n",
    "\n",
    "        # val_loss = loss_fn(torch.cat(val_pred), torch.cat(val))\n",
    "    if epoch % 10 == 0:\n",
    "        print(f\"Epoch {epoch}, train loss {train_loss/len(ml_data.train_idx)}\")\n",
    "\n",
    "        print(f\"Epoch {epoch} val loss {val_loss/len(ml_data.val_idx)}\")"
   ]
  },
  {
   "cell_type": "code",
   "execution_count": null,
   "metadata": {},
   "outputs": [
    {
     "name": "stdout",
     "output_type": "stream",
     "text": [
      "(TEST) MSE on dipole tensor(3.6236e-12, device='cuda:0', dtype=torch.float64,\n",
      "       grad_fn=<DivBackward0>)\n"
     ]
    }
   ],
   "source": [
    "with io.capture_output() as captured:\n",
    "    batch_indices = ml_data.test_idx\n",
    "    test_fock_predictions = model.forward(ml_data.feat_test, return_type=\"tensor\").type(\n",
    "        torch.float64\n",
    "    )\n",
    "    # convert prediction back to pyscf order\n",
    "    test_mfs, test_focks = instantiate_mf(ml_data, test_fock_predictions, batch_indices)\n",
    "    test_dip_pred = compute_dipole_moment_from_batchidx(\n",
    "        ml_data, test_fock_predictions, batch_indices=batch_indices, mfs=test_mfs\n",
    "    )\n",
    "    # very imp to pass the right overlap matrix\n",
    "\n",
    "\n",
    "error = mlmetrics.L2_loss(\n",
    "    test_dip_pred, ml_data.molecule_data.target[\"dipole_moment\"][ml_data.test_idx]\n",
    ")\n",
    "print(\"(TEST) MSE on dipole\", error / len(test_dip_pred))"
   ]
  },
  {
   "cell_type": "markdown",
   "metadata": {},
   "source": [
    "## Calculate the target dipole moment of water molecule in case data not found"
   ]
  },
  {
   "cell_type": "code",
   "execution_count": 94,
   "metadata": {},
   "outputs": [],
   "source": [
    "from mlelec.data.pyscf_calculator import calculator\n",
    "\n",
    "calc = calculator(\n",
    "    path=\"examples/data/water_1000/\",\n",
    "    mol_name=\"water_1000\",\n",
    "    frame_slice=\":\",\n",
    "    target=[\"fock\", \"dipole_moment\", \"density\"],\n",
    ")\n",
    "calc.calculate(basis_set=\"sto-3g\", verbose=1)"
   ]
  },
  {
   "cell_type": "code",
   "execution_count": 93,
   "metadata": {},
   "outputs": [
    {
     "name": "stdout",
     "output_type": "stream",
     "text": [
      "1 s\n",
      "2 s\n",
      "2 px\n",
      "2 py\n",
      "2 pz\n",
      "1 s\n",
      "{8: [[1, 0, 0], [2, 0, 0], [2, 1, 1], [2, 1, -1], [2, 1, 0]], 1: [[1, 0, 0]]}\n",
      "All done, results saved at:  examples/data/water_1000/sto-3g/\n"
     ]
    },
    {
     "name": "stderr",
     "output_type": "stream",
     "text": [
      "/home/nigam/miniconda3/lib/python3.11/site-packages/hickle/lookup.py:1491: SerializedWarning: 'Tensor' type not understood, data is serialized:\n",
      "  warnings.warn(\n"
     ]
    }
   ],
   "source": [
    "calc.save_results(path=\"examples/data/water_1000/sto-3g/\")"
   ]
  },
  {
   "cell_type": "code",
   "execution_count": 109,
   "metadata": {},
   "outputs": [],
   "source": [
    "for i in range(len(calc.results[\"fock\"])):\n",
    "    tr = torch.trace(calc.results['density'][i] @ calc.results['overlap'][i])\n",
    "    if tr-10> 1e-14: \n",
    "        print(i, tr-10)"
   ]
  },
  {
   "cell_type": "code",
   "execution_count": null,
   "metadata": {},
   "outputs": [],
   "source": []
  },
  {
   "cell_type": "code",
   "execution_count": null,
   "metadata": {},
   "outputs": [],
   "source": []
  },
  {
   "cell_type": "markdown",
   "metadata": {},
   "source": [
    "## grad of dipole moment vector if we need it"
   ]
  },
  {
   "cell_type": "code",
   "execution_count": null,
   "metadata": {},
   "outputs": [],
   "source": [
    "# https://stackoverflow.com/questions/62067400/understanding-accumulated-gradients-in-pytorch"
   ]
  },
  {
   "cell_type": "code",
   "execution_count": null,
   "metadata": {},
   "outputs": [
    {
     "ename": "NameError",
     "evalue": "name 'predicted_xyz' is not defined",
     "output_type": "error",
     "traceback": [
      "\u001b[0;31m---------------------------------------------------------------------------\u001b[0m",
      "\u001b[0;31mNameError\u001b[0m                                 Traceback (most recent call last)",
      "\u001b[1;32m/home/nigam/scratch/MAC/my_mlelec/pyscfad_interface.ipynb Cell 33\u001b[0m line \u001b[0;36m4\n\u001b[1;32m      <a href='vscode-notebook-cell:/home/nigam/scratch/MAC/my_mlelec/pyscfad_interface.ipynb#X55sZmlsZQ%3D%3D?line=0'>1</a>\u001b[0m \u001b[39m# grad of dipole moment\u001b[39;00m\n\u001b[0;32m----> <a href='vscode-notebook-cell:/home/nigam/scratch/MAC/my_mlelec/pyscfad_interface.ipynb#X55sZmlsZQ%3D%3D?line=3'>4</a>\u001b[0m \u001b[39mfor\u001b[39;00m ifr, pred \u001b[39min\u001b[39;00m \u001b[39menumerate\u001b[39m(predicted_xyz[:]):\n\u001b[1;32m      <a href='vscode-notebook-cell:/home/nigam/scratch/MAC/my_mlelec/pyscfad_interface.ipynb#X55sZmlsZQ%3D%3D?line=4'>5</a>\u001b[0m     \u001b[39m#gradient of the x component of the p vector\u001b[39;00m\n\u001b[1;32m      <a href='vscode-notebook-cell:/home/nigam/scratch/MAC/my_mlelec/pyscfad_interface.ipynb#X55sZmlsZQ%3D%3D?line=5'>6</a>\u001b[0m     gradients[ifr][:, \u001b[39m0\u001b[39m,:] \u001b[39m=\u001b[39m torch\u001b[39m.\u001b[39mautograd\u001b[39m.\u001b[39mgrad(pred[\u001b[39m0\u001b[39m], systems[ifr]\u001b[39m.\u001b[39mpositions, retain_graph \u001b[39m=\u001b[39m \u001b[39mTrue\u001b[39;00m)[\u001b[39m0\u001b[39m]\n\u001b[1;32m      <a href='vscode-notebook-cell:/home/nigam/scratch/MAC/my_mlelec/pyscfad_interface.ipynb#X55sZmlsZQ%3D%3D?line=6'>7</a>\u001b[0m     \u001b[39m#gradient of the y component of the p vector\u001b[39;00m\n",
      "\u001b[0;31mNameError\u001b[0m: name 'predicted_xyz' is not defined"
     ]
    }
   ],
   "source": [
    "# grad of dipole moment\n",
    "\n",
    "\n",
    "for ifr, pred in enumerate(predicted_xyz[:]):\n",
    "    # gradient of the x component of the p vector\n",
    "    gradients[ifr][:, 0, :] = torch.autograd.grad(\n",
    "        pred[0], systems[ifr].positions, retain_graph=True\n",
    "    )[0]\n",
    "    # gradient of the y component of the p vector\n",
    "    gradients[ifr][:, 1, :] = torch.autograd.grad(\n",
    "        pred[1], systems[ifr].positions, retain_graph=True\n",
    "    )[0]\n",
    "    # gradient of the z component of the p vector\n",
    "    gradients[ifr][:, 2, :] = torch.autograd.grad(\n",
    "        pred[2], systems[ifr].positions, retain_graph=True\n",
    "    )[0]"
   ]
  },
  {
   "cell_type": "markdown",
   "metadata": {},
   "source": [
    "# Learning Hamiltonian with losses on derived charges/density matrices "
   ]
  },
  {
   "cell_type": "markdown",
   "metadata": {},
   "source": [
    "Above we employed two strategies - one to learn the fock matrix directly and then extract the dipole moment, the other to learn the dipole moment through the fock matrix. The latter strategy is more accurate.\n",
    "Now we test if adding additional constraints such as charges/densities derived from the predicted fock (against those computed from direct pyscf calculations) makes the learning better "
   ]
  },
  {
   "cell_type": "code",
   "execution_count": 13,
   "metadata": {},
   "outputs": [
    {
     "name": "stdout",
     "output_type": "stream",
     "text": [
      "Using PyTorch backend.\n"
     ]
    },
    {
     "name": "stderr",
     "output_type": "stream",
     "text": [
      "/home/nigam/miniconda3/lib/python3.11/site-packages/pyscf/dft/libxc.py:772: UserWarning: Since PySCF-2.3, B3LYP (and B3P86) are changed to the VWN-RPA variant, the same to the B3LYP functional in Gaussian and ORCA (issue 1480). To restore the VWN5 definition, you can put the setting \"B3LYP_WITH_VWN5 = True\" in pyscf_conf.py\n",
      "  warnings.warn('Since PySCF-2.3, B3LYP (and B3P86) are changed to the VWN-RPA variant, '\n"
     ]
    }
   ],
   "source": [
    "import warnings\n",
    "import os\n",
    "\n",
    "os.environ[\"PYSCFAD_BACKEND\"] = \"torch\"\n",
    "\n",
    "import torch\n",
    "from pyscf import gto\n",
    "\n",
    "from pyscfad import numpy as pynp\n",
    "from pyscfad import ops\n",
    "from pyscfad.ml.scf import hf\n",
    "import pyscf.pbc.tools.pyscf_ase as pyscf_ase\n",
    "from mlelec.data.pyscf_calculator import _instantiate_pyscf_mol\n",
    "from mlelec.utils.twocenter_utils import fix_orbital_order, unfix_orbital_order\n",
    "import mlelec.metrics as mlmetrics"
   ]
  },
  {
   "cell_type": "code",
   "execution_count": 36,
   "metadata": {},
   "outputs": [
    {
     "name": "stdout",
     "output_type": "stream",
     "text": [
      "Loading structures\n",
      "examples/data/water_1000/sto-3g/fock.hickle\n",
      "examples/data/water_1000/sto-3g/density.hickle\n",
      "Computing features with default hypers\n"
     ]
    },
    {
     "name": "stderr",
     "output_type": "stream",
     "text": [
      "/home/nigam/miniconda3/lib/python3.11/site-packages/rascaline/systems/ase.py:57: UserWarning: periodic boundary conditions are disabled, but the cell matrix is not zero, we will set the cell to zero.\n",
      "  warnings.warn(\n"
     ]
    }
   ],
   "source": [
    "water_data = MoleculeDataset(\n",
    "    mol_name=\"water_1000\",\n",
    "    frame_slice=slice(0, 100),\n",
    "    device=\"cuda\",\n",
    "    aux=[\"overlap\", \"orbitals\"],\n",
    "    target=[\"fock\", \"density\"],\n",
    ")\n",
    "ml_data = MLDataset(\n",
    "    molecule_data=water_data,\n",
    "    device=\"cuda\",\n",
    "    model_strategy=\"coupled\",\n",
    "    shuffle=True,\n",
    "    shuffle_seed=5380,\n",
    ")  # train_frac=0.5, val_frac=0.1,) #target=[\"fock\", \"dipole_moment\"])\n",
    "\n",
    "# ml_data._shuffle(5380)\n",
    "ml_data._split_indices(train_frac=0.7, val_frac=0.2, test_frac=0.1)\n",
    "# assumed args.model_type = 'acdc'\n",
    "if ml_data.features is None:\n",
    "    ml_data._set_features(compute_features_for_target(ml_data, device=\"cuda\"))\n",
    "\n",
    "train_dl, val_dl, test_dl = get_dataloader(ml_data, model_return=\"tensor\")"
   ]
  },
  {
   "cell_type": "code",
   "execution_count": 15,
   "metadata": {},
   "outputs": [],
   "source": [
    "\n",
    "def instantiate_mf(ml_data: MLDataset, fock_predictions=None, batch_indices=None):\n",
    "    if fock_predictions is not None and len(batch_indices) != len(fock_predictions):\n",
    "        warnings.warn(\"Converting shapes\")\n",
    "        fock_predictions = fock_predictions.reshape(1, *fock_predictions.shape)\n",
    "    if fock_predictions is None:\n",
    "        fock_predictions = torch.zeros_like(ml_data.target.tensor[batch_indices])\n",
    "\n",
    "    mfs = []\n",
    "    fockvar = []\n",
    "    for i, idx in enumerate(batch_indices):\n",
    "        mol = _instantiate_pyscf_mol(ml_data.structures[idx])\n",
    "        mf = hf.SCF(mol)\n",
    "        fock = torch.autograd.Variable(\n",
    "            fock_predictions[i].type(torch.float64), requires_grad=True\n",
    "        )\n",
    "        mfs.append(mf)\n",
    "        fockvar.append(fock)\n",
    "    return mfs, torch.stack(fockvar)"
   ]
  },
  {
   "cell_type": "code",
   "execution_count": 52,
   "metadata": {},
   "outputs": [],
   "source": [
    "def compute_densitymatrix_from_mf(mfs, fock_vars, overlaps):\n",
    "    # compute dipole moment for each molecule in batch\n",
    "    density = []\n",
    "    for i in range(len(mfs)):\n",
    "        mf = mfs[i]\n",
    "        fock = fock_vars[i]\n",
    "        overlaps[i] = overlaps[i].to(fock)\n",
    "        mo_energy, mo_coeff = mf.eig(fock, overlaps[i])\n",
    "        mo_occ = mf.get_occ(mo_energy)  # get_occ returns a numpy array\n",
    "        mo_occ = ops.convert_to_tensor(mo_occ)\n",
    "        dm = mf.make_rdm1(mo_coeff, mo_occ)\n",
    "        density.append(dm)\n",
    "    return torch.stack(density)\n",
    "\n",
    "\n",
    "def compute_batch_dm(ml_data: MLDataset, batch_fockvars, batch_indices, mfs, return_pop=False):\n",
    "    # Convert fock predictions back to pyscf order\n",
    "    # Compute density matrix for each molecule in batch\n",
    "    batch_frames = [ml_data.structures[i] for i in batch_indices]\n",
    "    batch_fock = unfix_orbital_order(\n",
    "        batch_fockvars, batch_frames, ml_data.molecule_data.aux_data[\"orbitals\"]\n",
    "    )\n",
    "    batch_overlap = ml_data.molecule_data.aux_data[\"overlap\"][batch_indices].to(\n",
    "        batch_fock\n",
    "    )\n",
    "    batch_mfs = [mfs[i] for i in batch_indices]\n",
    "    density = compute_densitymatrix_from_mf(batch_mfs, batch_fock, batch_overlap)\n",
    "    population = torch.sum(torch.einsum(\"bij, bji ->bi\", density, batch_overlap), axis=1)\n",
    "    #This, for each frame is the Trace(overlap @ Density matrix) = number of electrons \n",
    "    if return_pop:\n",
    "        return density, population  \n",
    "    return density\n"
   ]
  },
  {
   "cell_type": "markdown",
   "metadata": {},
   "source": [
    "## Derived density matrix/pop  "
   ]
  },
  {
   "cell_type": "code",
   "execution_count": 61,
   "metadata": {},
   "outputs": [],
   "source": [
    "model = LinearTargetModel(\n",
    "    dataset=ml_data, nlayers=1, nhidden=16, bias=False, device=\"cuda\"\n",
    ")"
   ]
  },
  {
   "cell_type": "code",
   "execution_count": 62,
   "metadata": {},
   "outputs": [],
   "source": [
    "from cmath import inf\n",
    "\n",
    "best = inf\n",
    "early_stop_criteria = 50"
   ]
  },
  {
   "cell_type": "code",
   "execution_count": 63,
   "metadata": {},
   "outputs": [],
   "source": [
    "optimizer = torch.optim.Adam(model.parameters(), lr=1e-3)\n",
    "scheduler = torch.optim.lr_scheduler.ReduceLROnPlateau(\n",
    "    optimizer, factor=0.5, patience=10, verbose=True\n",
    ")\n",
    "import mlelec.metrics as mlmetrics\n",
    "\n",
    "val_interval = 10\n",
    "loss_fn = getattr(mlmetrics, \"L2_loss\")\n",
    "losses = []\n",
    "early_stop_count = 0"
   ]
  },
  {
   "cell_type": "code",
   "execution_count": 64,
   "metadata": {},
   "outputs": [],
   "source": [
    "with io.capture_output() as captured:\n",
    "    all_mfs, fockvars = instantiate_mf(\n",
    "        ml_data,\n",
    "        fock_predictions=None,\n",
    "        batch_indices=list(range(len(ml_data.structures))),\n",
    "    )"
   ]
  },
  {
   "cell_type": "code",
   "execution_count": 65,
   "metadata": {},
   "outputs": [],
   "source": [
    "def multiple_loss_fn(pred, target, loss_fn:callable):\n",
    "    #pred, target are dictionaries \n",
    "    loss = 0\n",
    "    for t in pred: \n",
    "        for i in range(len(pred[t])):\n",
    "            loss += loss_fn(pred[t][i], target[t][i])\n",
    "        return loss"
   ]
  },
  {
   "cell_type": "code",
   "execution_count": 66,
   "metadata": {},
   "outputs": [
    {
     "name": "stdout",
     "output_type": "stream",
     "text": [
      "Epoch 0, train loss 485.52794381617537\n",
      "Epoch 0 val loss 483.6614962035804\n"
     ]
    }
   ],
   "source": [
    "for epoch in range(800):\n",
    "    # train_pred = []\n",
    "    # target=[]\n",
    "    model.train(True)\n",
    "    train_loss = 0\n",
    "    for i, data in enumerate(train_dl):\n",
    "        optimizer.zero_grad()\n",
    "        batch_indices = data[\"idx\"]\n",
    "        train_focks = model(\n",
    "            data[\"input\"], return_type=\"tensor\", batch_indices=batch_indices\n",
    "        ).type(torch.float64)\n",
    "\n",
    "        with io.capture_output() as captured:\n",
    "            train_dm_pred, train_pop = compute_batch_dm(\n",
    "                ml_data, train_focks, batch_indices=batch_indices, mfs=all_mfs, return_pop=True\n",
    "            )\n",
    "        loss = loss_fn(\n",
    "            train_focks, data[\"output\"]) + loss_fn(train_dm_pred, ml_data.molecule_data.target['density'][batch_indices]) \n",
    "        + loss_fn(train_pop, ml_data.molecule_data.target['elec_population'][batch_indices])\n",
    "\n",
    "        # target.append(data['output'])\n",
    "        # train_pred.append(pred)\n",
    "        \n",
    "        train_loss += loss.item()\n",
    "        loss.backward()\n",
    "        optimizer.step()\n",
    "    # train_loss = loss_fn(torch.cat(train_pred), torch.cat(target))\n",
    "    # print(train_loss - epoch_loss)\n",
    "    losses.append(train_loss)\n",
    "    # scheduler.step(train_loss)\n",
    "    model.train(False)\n",
    "\n",
    "    if epoch % val_interval == 0:\n",
    "        # val_pred = []\n",
    "        # val= []\n",
    "        val_loss = 0\n",
    "        for i, data in enumerate(val_dl):\n",
    "            val_focks = model(data[\"input\"], return_type=\"tensor\", batch_indices=data[\"idx\"]).type(torch.float64)\n",
    "            with io.capture_output() as captured:\n",
    "                val_dm_pred, val_pop = compute_batch_dm(\n",
    "                ml_data, val_focks, batch_indices=batch_indices, mfs=all_mfs, return_pop=True\n",
    "            )\n",
    "            vloss = loss_fn(val_focks, data[\"output\"]) + loss_fn(val_dm_pred, ml_data.molecule_data.target['density'][batch_indices]) + loss_fn(val_pop, ml_data.molecule_data.target['elec_population'][batch_indices])\n",
    "            val_loss += vloss.item()\n",
    "            # val.append(data['output'])\n",
    "            # val_pred.append(pred)\n",
    "        new_best = val_loss < best\n",
    "        if new_best:\n",
    "            best = val_loss\n",
    "            torch.save(model.state_dict(), \"best_model.pt\")\n",
    "            early_stop_count = 0\n",
    "        else:\n",
    "            early_stop_count += 1\n",
    "        if early_stop_count > early_stop_criteria:\n",
    "            print(f\"Early stopping at epoch {epoch}\")\n",
    "            print(f\"Epoch {epoch}, train loss {train_loss/len(ml_data.train_idx)}\")\n",
    "\n",
    "            print(f\"Epoch {epoch} val loss {val_loss/len(ml_data.val_idx)}\")\n",
    "            # Save last best model\n",
    "            break\n",
    "\n",
    "        # val_loss = loss_fn(torch.cat(val_pred), torch.cat(val))\n",
    "    if epoch % 10 == 0:\n",
    "        print(f\"Epoch {epoch}, train loss {train_loss/len(ml_data.train_idx)}\")\n",
    "\n",
    "        print(f\"Epoch {epoch} val loss {val_loss/len(ml_data.val_idx)}\")"
   ]
  },
  {
   "cell_type": "code",
   "execution_count": 116,
   "metadata": {},
   "outputs": [],
   "source": [
    "# plt.loglog(losses)"
   ]
  },
  {
   "cell_type": "code",
   "execution_count": 59,
   "metadata": {},
   "outputs": [
    {
     "data": {
      "text/plain": [
       "tensor([[[ 1.6997e-03,  1.1588e-02, -4.2823e-03,  4.9313e-04, -2.4257e-17,\n",
       "           1.0567e-02,  5.3637e-03],\n",
       "         [ 1.1588e-02, -2.4959e-01, -1.4029e-02, -8.2644e-02,  1.4300e-16,\n",
       "           1.0756e-01,  1.4521e-01],\n",
       "         [-4.2823e-03, -1.4029e-02, -7.7485e-02,  5.1602e-02, -6.6804e-16,\n",
       "           1.0658e-02,  2.1016e-02],\n",
       "         [ 4.9313e-04, -8.2644e-02,  5.1602e-02, -1.3922e-01,  6.7770e-16,\n",
       "          -6.1233e-03,  1.6349e-02],\n",
       "         [-2.4257e-17,  1.4300e-16, -6.6804e-16,  6.7770e-16, -4.4409e-16,\n",
       "           5.9226e-16, -8.6871e-16],\n",
       "         [ 1.0567e-02,  1.0756e-01,  1.0658e-02, -6.1233e-03,  5.9226e-16,\n",
       "           1.4521e-01, -2.8005e-03],\n",
       "         [ 5.3637e-03,  1.4521e-01,  2.1016e-02,  1.6349e-02, -8.6871e-16,\n",
       "          -2.8005e-03,  3.1132e-01]],\n",
       "\n",
       "        [[-8.0133e-03,  3.7592e-02, -2.9352e-03,  1.1842e-02, -7.0658e-17,\n",
       "          -4.2416e-02, -1.4107e-02],\n",
       "         [ 3.7592e-02, -8.5256e-02,  1.2201e-01, -1.3397e-01,  4.6145e-16,\n",
       "           3.1520e-02,  7.9138e-02],\n",
       "         [-2.9352e-03,  1.2201e-01,  1.0477e-02,  1.4893e-01, -2.3561e-16,\n",
       "          -7.2956e-02, -1.0414e-01],\n",
       "         [ 1.1842e-02, -1.3397e-01,  1.4893e-01,  2.1694e-01,  5.3025e-16,\n",
       "           1.1780e-01, -8.5441e-02],\n",
       "         [-7.0658e-17,  4.6145e-16, -2.3561e-16,  5.3025e-16, -4.4409e-16,\n",
       "          -2.0726e-16, -6.2820e-16],\n",
       "         [-4.2416e-02,  3.1520e-02, -7.2956e-02,  1.1780e-01, -2.0726e-16,\n",
       "          -1.3461e-01, -3.1660e-02],\n",
       "         [-1.4107e-02,  7.9138e-02, -1.0414e-01, -8.5441e-02, -6.2820e-16,\n",
       "          -3.1660e-02, -1.0189e-01]],\n",
       "\n",
       "        [[-3.9842e-03,  2.0383e-02,  9.6043e-03,  9.4185e-03, -5.6621e-17,\n",
       "           9.2653e-03, -2.8959e-02],\n",
       "         [ 2.0383e-02, -4.0827e-02, -1.3884e-01,  3.1184e-03,  3.5025e-16,\n",
       "           4.5458e-02, -4.0325e-02],\n",
       "         [ 9.6043e-03, -1.3884e-01,  4.5373e-03, -4.1474e-02,  7.9760e-17,\n",
       "           1.3172e-02,  6.7711e-02],\n",
       "         [ 9.4185e-03,  3.1184e-03, -4.1474e-02, -2.1499e-02, -9.0981e-17,\n",
       "          -1.4863e-01, -2.1077e-02],\n",
       "         [-5.6621e-17,  3.5025e-16,  7.9760e-17, -9.0981e-17,  0.0000e+00,\n",
       "          -3.6704e-16, -2.1752e-16],\n",
       "         [ 9.2653e-03,  4.5458e-02,  1.3172e-02, -1.4863e-01, -3.6704e-16,\n",
       "           8.6302e-02, -1.8203e-02],\n",
       "         [-2.8959e-02, -4.0325e-02,  6.7711e-02, -2.1077e-02, -2.1752e-16,\n",
       "          -1.8203e-02, -9.8188e-02]],\n",
       "\n",
       "        [[-2.5498e-03, -2.5975e-03,  3.2171e-02, -2.1434e-03,  2.3548e-17,\n",
       "          -1.7451e-02,  1.3189e-02],\n",
       "         [-2.5975e-03,  1.2417e-01, -3.5610e-02,  4.7755e-02, -1.3195e-16,\n",
       "          -6.2306e-02, -1.0780e-01],\n",
       "         [ 3.2171e-02, -3.5610e-02,  3.7583e-02, -1.7459e-01, -6.5769e-17,\n",
       "           3.1298e-02,  5.4183e-02],\n",
       "         [-2.1434e-03,  4.7755e-02, -1.7459e-01, -1.3052e-01,  1.4367e-16,\n",
       "          -7.5564e-02,  4.5861e-02],\n",
       "         [ 2.3548e-17, -1.3195e-16, -6.5769e-17,  1.4367e-16,  0.0000e+00,\n",
       "          -9.4917e-17,  3.0030e-16],\n",
       "         [-1.7451e-02, -6.2306e-02,  3.1298e-02, -7.5564e-02, -9.4917e-17,\n",
       "           1.2096e-02,  7.3849e-02],\n",
       "         [ 1.3189e-02, -1.0780e-01,  5.4183e-02,  4.5861e-02,  3.0030e-16,\n",
       "           7.3849e-02,  5.6182e-02]]], device='cuda:0', dtype=torch.float64,\n",
       "       grad_fn=<SubBackward0>)"
      ]
     },
     "execution_count": 59,
     "metadata": {},
     "output_type": "execute_result"
    }
   ],
   "source": [
    "train_dm_pred - ml_data.molecule_data.target['density'][batch_indices]"
   ]
  },
  {
   "cell_type": "code",
   "execution_count": 60,
   "metadata": {},
   "outputs": [
    {
     "data": {
      "text/plain": [
       "tensor([[[ 1.8868e-02,  8.5185e-03,  1.0648e-02,  5.0842e-19,  3.7512e-03,\n",
       "           5.9580e-02, -9.6621e-02],\n",
       "         [ 8.5185e-03,  8.4870e-03, -1.7543e-02, -8.5513e-20, -2.1319e-02,\n",
       "           3.5019e-02, -5.2275e-02],\n",
       "         [ 1.0648e-02, -1.7543e-02,  3.7093e-01,  5.5826e-18,  1.5113e-02,\n",
       "          -8.5344e-03,  4.3413e-01],\n",
       "         [ 5.0842e-19, -8.5513e-20,  5.5826e-18,  4.6065e-01, -7.7798e-18,\n",
       "          -5.8441e-18,  9.7039e-18],\n",
       "         [ 3.7512e-03, -2.1319e-02,  1.5113e-02, -7.7798e-18,  4.0172e-01,\n",
       "           4.7330e-01, -1.7751e-01],\n",
       "         [ 5.9580e-02,  3.5019e-02, -8.5344e-03, -5.8441e-18,  4.7330e-01,\n",
       "           1.6424e-01, -1.2832e-01],\n",
       "         [-9.6621e-02, -5.2275e-02,  4.3413e-01,  9.7039e-18, -1.7751e-01,\n",
       "          -1.2832e-01,  1.0188e-01]],\n",
       "\n",
       "        [[-2.6626e-01, -2.0169e-02,  1.7522e-03,  1.6860e-18,  5.7901e-03,\n",
       "          -9.3896e-02, -4.0922e-01],\n",
       "         [-2.0169e-02, -8.5192e-02, -4.4093e-02, -4.6813e-19,  2.9182e-02,\n",
       "          -7.9704e-02, -2.6791e-01],\n",
       "         [ 1.7522e-03, -4.4093e-02,  3.2119e-01, -1.7609e-17,  2.0070e-02,\n",
       "          -2.2405e-02,  4.2003e-01],\n",
       "         [ 1.6860e-18, -4.6813e-19, -1.7609e-17,  4.7676e-01,  1.8575e-17,\n",
       "           3.7669e-18,  1.1621e-17],\n",
       "         [ 5.7901e-03,  2.9182e-02,  2.0070e-02,  1.8575e-17,  4.0445e-01,\n",
       "           5.0453e-01, -4.0738e-02],\n",
       "         [-9.3896e-02, -7.9704e-02, -2.2405e-02,  3.7669e-18,  5.0453e-01,\n",
       "           9.8888e-02, -1.8680e-01],\n",
       "         [-4.0922e-01, -2.6791e-01,  4.2003e-01,  1.1621e-17, -4.0738e-02,\n",
       "          -1.8680e-01, -2.3497e-02]],\n",
       "\n",
       "        [[ 1.0644e-01,  2.1819e-02,  5.6903e-03, -9.2733e-19,  6.0975e-03,\n",
       "          -3.1280e-01, -3.3496e-01],\n",
       "         [ 2.1819e-02, -2.4977e-02, -4.4326e-02, -8.8767e-20, -5.1354e-02,\n",
       "          -1.9594e-01, -2.1788e-01],\n",
       "         [ 5.6903e-03, -4.4326e-02,  3.3365e-01,  2.7667e-18,  7.2389e-03,\n",
       "          -1.1866e-02,  3.8552e-01],\n",
       "         [-9.2733e-19, -8.8767e-20,  2.7667e-18,  4.5518e-01,  6.0248e-18,\n",
       "          -2.9887e-17,  1.9691e-17],\n",
       "         [ 6.0975e-03, -5.1354e-02,  7.2389e-03,  6.0248e-18,  2.9772e-01,\n",
       "           4.0681e-01, -2.0905e-01],\n",
       "         [-3.1280e-01, -1.9594e-01, -1.1866e-02, -2.9887e-17,  4.0681e-01,\n",
       "           1.4641e-02, -2.6342e-01],\n",
       "         [-3.3496e-01, -2.1788e-01,  3.8552e-01,  1.9691e-17, -2.0905e-01,\n",
       "          -2.6342e-01, -2.8643e-02]],\n",
       "\n",
       "        [[ 9.4621e-01,  1.1492e-01,  1.9147e-02, -2.6013e-18,  1.3078e-02,\n",
       "           3.0945e-01,  1.0352e-01],\n",
       "         [ 1.1492e-01,  1.8655e-01, -6.9167e-04,  2.5319e-18,  3.9700e-02,\n",
       "           2.5482e-01,  1.3185e-01],\n",
       "         [ 1.9147e-02, -6.9167e-04,  3.7406e-01, -4.4891e-17,  2.3186e-02,\n",
       "          -3.1248e-03,  4.4805e-01],\n",
       "         [-2.6013e-18,  2.5319e-18, -4.4891e-17,  4.6552e-01, -1.2370e-17,\n",
       "          -2.2221e-17,  3.5730e-18],\n",
       "         [ 1.3078e-02,  3.9700e-02,  2.3186e-02, -1.2370e-17,  4.2983e-01,\n",
       "           5.1398e-01, -1.1539e-01],\n",
       "         [ 3.0945e-01,  2.5482e-01, -3.1248e-03, -2.2221e-17,  5.1398e-01,\n",
       "           3.1915e-01,  1.5111e-02],\n",
       "         [ 1.0352e-01,  1.3185e-01,  4.4805e-01,  3.5730e-18, -1.1539e-01,\n",
       "           1.5111e-02,  2.2224e-01]]], device='cuda:0', dtype=torch.float64,\n",
       "       grad_fn=<SubBackward0>)"
      ]
     },
     "execution_count": 60,
     "metadata": {},
     "output_type": "execute_result"
    }
   ],
   "source": [
    "train_focks - data[\"output\"]"
   ]
  },
  {
   "cell_type": "code",
   "execution_count": null,
   "metadata": {},
   "outputs": [],
   "source": []
  }
 ],
 "metadata": {
  "kernelspec": {
   "display_name": "Python 3 (ipykernel)",
   "language": "python",
   "name": "python3"
  },
  "language_info": {
   "codemirror_mode": {
    "name": "ipython",
    "version": 3
   },
   "file_extension": ".py",
   "mimetype": "text/x-python",
   "name": "python",
   "nbconvert_exporter": "python",
   "pygments_lexer": "ipython3",
   "version": "3.11.5"
  },
  "toc": {
   "base_numbering": 1,
   "nav_menu": {},
   "number_sections": true,
   "sideBar": true,
   "skip_h1_title": false,
   "title_cell": "Table of Contents",
   "title_sidebar": "Contents",
   "toc_cell": false,
   "toc_position": {},
   "toc_section_display": true,
   "toc_window_display": false
  }
 },
 "nbformat": 4,
 "nbformat_minor": 2
}
