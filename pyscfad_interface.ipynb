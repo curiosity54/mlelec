{
 "cells": [
  {
   "cell_type": "code",
   "execution_count": 1,
   "metadata": {},
   "outputs": [],
   "source": [
    "%load_ext autoreload\n",
    "%autoreload 2"
   ]
  },
  {
   "cell_type": "code",
   "execution_count": 2,
   "metadata": {},
   "outputs": [],
   "source": [
    "from mlelec.data.dataset import precomputed_molecules, MoleculeDataset, MLDataset\n",
    "import torch\n",
    "from ase.io import read\n",
    "import ase\n",
    "from mlelec.models.linear import LinearTargetModel"
   ]
  },
  {
   "cell_type": "code",
   "execution_count": 3,
   "metadata": {},
   "outputs": [
    {
     "name": "stdout",
     "output_type": "stream",
     "text": [
      "sys.version_info(major=3, minor=11, micro=5, releaselevel='final', serial=0)\n",
      "2.3.0\n",
      "0.1.2\n"
     ]
    }
   ],
   "source": [
    "import sys \n",
    "import pyscf, pyscfad\n",
    "print(sys.version_info)\n",
    "print(pyscf.__version__)\n",
    "print(pyscfad.__version__)\n"
   ]
  },
  {
   "cell_type": "code",
   "execution_count": 4,
   "metadata": {},
   "outputs": [
    {
     "name": "stdout",
     "output_type": "stream",
     "text": [
      "Loading structures\n",
      "examples/data/water_1000/sto-3g/fock.hickle\n",
      "examples/data/water_1000/sto-3g/dipole_moment.hickle\n",
      "{'fock': tensor([[[-2.0247e+01, -5.1670e+00, -2.6695e-02,  ...,  6.7615e-19,\n",
      "          -1.5899e+00, -1.1728e+00],\n",
      "         [-5.1670e+00, -2.4826e+00, -1.6115e-01,  ...,  5.5728e-19,\n",
      "          -1.2659e+00, -1.0295e+00],\n",
      "         [-2.6695e-02, -1.6115e-01, -4.2632e-01,  ...,  1.9056e-17,\n",
      "          -6.1406e-01, -1.0659e-01],\n",
      "         ...,\n",
      "         [ 6.7615e-19,  5.5728e-19,  1.9056e-17,  ..., -4.0814e-01,\n",
      "          -2.3783e-17,  2.4632e-17],\n",
      "         [-1.5899e+00, -1.2659e+00, -6.1406e-01,  ..., -2.3783e-17,\n",
      "          -8.0231e-01, -5.7995e-01],\n",
      "         [-1.1728e+00, -1.0295e+00, -1.0659e-01,  ...,  2.4632e-17,\n",
      "          -5.7995e-01, -5.9604e-01]],\n",
      "\n",
      "        [[-2.0234e+01, -5.1672e+00, -2.3115e-02,  ...,  1.1899e-19,\n",
      "          -1.5852e+00, -1.5562e+00],\n",
      "         [-5.1672e+00, -2.5008e+00, -1.3644e-01,  ..., -6.4699e-20,\n",
      "          -1.2619e+00, -1.2463e+00],\n",
      "         [-2.3115e-02, -1.3644e-01, -4.2727e-01,  ...,  2.0885e-17,\n",
      "          -5.9718e-01, -1.8235e-03],\n",
      "         ...,\n",
      "         [ 1.1899e-19, -6.4699e-20,  2.0885e-17,  ..., -4.0962e-01,\n",
      "          -1.8656e-17,  1.9259e-17],\n",
      "         [-1.5852e+00, -1.2619e+00, -5.9718e-01,  ..., -1.8656e-17,\n",
      "          -7.8341e-01, -6.1149e-01],\n",
      "         [-1.5562e+00, -1.2463e+00, -1.8235e-03,  ...,  1.9259e-17,\n",
      "          -6.1149e-01, -7.6876e-01]],\n",
      "\n",
      "        [[-2.0235e+01, -5.1629e+00,  2.5107e-02,  ..., -1.4486e-02,\n",
      "          -1.1551e+00, -1.1551e+00],\n",
      "         [-5.1629e+00, -2.4412e+00,  1.0432e-01,  ..., -6.0188e-02,\n",
      "          -9.9928e-01, -9.9928e-01],\n",
      "         [ 2.5107e-02,  1.0432e-01, -3.3415e-01,  ...,  1.4645e-02,\n",
      "           1.1769e-01,  5.1023e-01],\n",
      "         ...,\n",
      "         [-1.4486e-02, -6.0188e-02,  1.4645e-02,  ..., -3.1722e-01,\n",
      "          -5.2132e-01,  1.5902e-01],\n",
      "         [-1.1551e+00, -9.9928e-01,  1.1769e-01,  ..., -5.2132e-01,\n",
      "          -5.5924e-01, -3.7545e-01],\n",
      "         [-1.1551e+00, -9.9928e-01,  5.1023e-01,  ...,  1.5902e-01,\n",
      "          -3.7545e-01, -5.5924e-01]],\n",
      "\n",
      "        ...,\n",
      "\n",
      "        [[-2.0238e+01, -5.1653e+00, -1.7535e-02,  ..., -2.1756e-18,\n",
      "          -1.0824e+00, -1.5599e+00],\n",
      "         [-5.1653e+00, -2.4673e+00, -6.7051e-02,  ...,  2.2938e-18,\n",
      "          -9.6249e-01, -1.2374e+00],\n",
      "         [-1.7535e-02, -6.7051e-02, -3.1722e-01,  ...,  2.7994e-19,\n",
      "          -5.2671e-01,  3.3983e-02],\n",
      "         ...,\n",
      "         [-2.1756e-18,  2.2938e-18,  2.7994e-19,  ..., -3.9997e-01,\n",
      "           1.0213e-17, -2.1059e-17],\n",
      "         [-1.0824e+00, -9.6249e-01, -5.2671e-01,  ...,  1.0213e-17,\n",
      "          -5.3101e-01, -4.6835e-01],\n",
      "         [-1.5599e+00, -1.2374e+00,  3.3983e-02,  ..., -2.1059e-17,\n",
      "          -4.6835e-01, -7.6576e-01]],\n",
      "\n",
      "        [[-2.0238e+01, -5.1613e+00, -1.2869e-02,  ...,  1.9712e-18,\n",
      "          -8.0638e-01, -1.0149e+00],\n",
      "         [-5.1613e+00, -2.4085e+00, -2.4854e-02,  ..., -1.3314e-19,\n",
      "          -7.6869e-01, -9.0522e-01],\n",
      "         [-1.2869e-02, -2.4854e-02, -2.3918e-01,  ..., -2.8406e-17,\n",
      "          -4.6450e-01,  1.5297e-01],\n",
      "         ...,\n",
      "         [ 1.9712e-18, -1.3314e-19, -2.8406e-17,  ..., -3.8086e-01,\n",
      "           3.9768e-17, -1.9600e-17],\n",
      "         [-8.0638e-01, -7.6869e-01, -4.6450e-01,  ...,  3.9768e-17,\n",
      "          -3.9046e-01, -2.4392e-01],\n",
      "         [-1.0149e+00, -9.0522e-01,  1.5297e-01,  ..., -1.9600e-17,\n",
      "          -2.4392e-01, -4.8845e-01]],\n",
      "\n",
      "        [[-2.0255e+01, -5.1648e+00, -2.1021e-02,  ..., -4.7846e-18,\n",
      "          -1.2349e+00, -6.3434e-01],\n",
      "         [-5.1648e+00, -2.4235e+00, -1.0139e-01,  ...,  3.8790e-18,\n",
      "          -1.0425e+00, -6.4836e-01],\n",
      "         [-2.1021e-02, -1.0139e-01, -3.3463e-01,  ..., -5.7726e-17,\n",
      "          -5.5172e-01,  5.0188e-02],\n",
      "         ...,\n",
      "         [-4.7846e-18,  3.8790e-18, -5.7726e-17,  ..., -3.9232e-01,\n",
      "          -6.9865e-17,  3.1748e-17],\n",
      "         [-1.2349e+00, -1.0425e+00, -5.5172e-01,  ..., -6.9865e-17,\n",
      "          -6.0266e-01, -2.7282e-01],\n",
      "         [-6.3434e-01, -6.4836e-01,  5.0188e-02,  ...,  3.1748e-17,\n",
      "          -2.7282e-01, -3.1921e-01]]], device='cuda:0', dtype=torch.float64), 'dipole_moment': tensor([[ 1.5026e+00,  1.2409e+00,  7.1681e-18],\n",
      "        [ 1.2997e+00,  1.4442e+00, -4.3135e-18],\n",
      "        [-1.4773e+00, -3.6498e-12,  8.5239e-01],\n",
      "        [ 5.0394e-01,  1.2944e+00,  5.0894e-13],\n",
      "        [ 1.0403e+00,  1.3966e+00, -1.0934e-18],\n",
      "        [ 1.1919e+00,  1.3753e+00, -1.8364e-18],\n",
      "        [ 8.2133e-01,  1.1655e+00, -5.7844e-20],\n",
      "        [ 1.7374e+00, -7.2138e-05, -2.0565e-04],\n",
      "        [ 1.3299e+00,  1.1688e+00, -4.5157e-12],\n",
      "        [ 1.0543e+00,  1.2864e+00, -4.2237e-17],\n",
      "        [ 9.9243e-01,  1.3145e+00, -1.2008e-17],\n",
      "        [ 9.2289e-01,  1.4053e+00, -1.4639e-16],\n",
      "        [ 9.6683e-01,  1.3169e+00, -3.5089e-01],\n",
      "        [ 1.3187e+00,  1.2933e+00,  3.1690e-12],\n",
      "        [ 8.3748e-01,  1.3445e+00,  1.7285e-17],\n",
      "        [ 8.5144e-01,  1.3036e+00,  5.2342e-17],\n",
      "        [ 1.4877e+00,  9.4830e-01,  9.3286e-17],\n",
      "        [-1.4772e+00,  4.0196e-12,  8.5257e-01],\n",
      "        [-1.6682e+00, -8.5181e-07, -3.5535e-01],\n",
      "        [ 7.1878e-01,  1.3844e+00, -8.0969e-12],\n",
      "        [-1.2979e+00, -8.3144e-07,  1.1065e+00],\n",
      "        [ 1.2621e+00,  1.3830e+00, -5.6048e-12],\n",
      "        [ 1.3500e+00,  1.0513e+00, -6.6817e-17],\n",
      "        [ 6.8108e-01,  1.3692e+00,  8.7547e-18],\n",
      "        [ 1.3105e+00,  1.4364e+00, -1.5830e-17],\n",
      "        [ 7.4032e-01,  1.2934e+00,  2.3302e-17],\n",
      "        [ 1.4202e+00,  1.2477e+00, -6.6535e-19],\n",
      "        [ 9.9325e-01,  1.2024e+00,  3.0770e-17],\n",
      "        [ 1.1584e+00,  1.2390e+00,  8.8222e-19],\n",
      "        [ 8.0414e-01,  1.3227e+00, -9.3029e-19],\n",
      "        [ 7.3621e-01,  1.2353e+00, -8.6400e-18],\n",
      "        [ 1.2102e+00,  1.1144e+00,  9.0193e-17],\n",
      "        [ 1.1293e+00,  1.2695e+00, -1.5516e-17],\n",
      "        [ 6.4023e-01,  1.3000e+00,  2.7153e-17],\n",
      "        [-2.2027e-01, -4.8022e-08,  1.6913e+00],\n",
      "        [ 1.0267e+00,  1.3218e+00,  2.3412e-11],\n",
      "        [ 1.0138e+00,  1.4961e+00,  8.3079e-17],\n",
      "        [ 1.5353e+00,  1.1833e+00, -3.8827e-19],\n",
      "        [-1.3934e+00,  1.5241e-07,  9.8366e-01],\n",
      "        [ 9.6285e-01,  1.3614e+00, -3.8601e-13],\n",
      "        [ 1.1202e+00,  1.1476e+00,  2.2007e-16],\n",
      "        [ 1.5577e+00,  1.2115e+00,  9.9805e-18],\n",
      "        [ 7.3680e-01,  1.2770e+00, -8.8149e-20],\n",
      "        [ 8.5754e-01,  1.1708e+00,  4.5197e-17],\n",
      "        [ 1.2716e+00,  1.1365e+00, -2.6544e-17],\n",
      "        [ 9.8674e-01,  1.4323e+00, -3.9207e-17],\n",
      "        [ 1.0187e+00,  1.3904e+00,  1.3576e-17],\n",
      "        [ 1.2092e+00,  1.2517e+00,  3.1577e-17],\n",
      "        [ 6.1611e-01,  1.3659e+00,  9.1200e-18],\n",
      "        [ 1.3848e+00,  1.2253e+00,  1.9788e-18],\n",
      "        [ 1.1134e+00,  1.4790e+00,  2.0161e-18],\n",
      "        [ 1.0602e+00,  1.3502e+00,  1.2081e-16],\n",
      "        [ 9.9570e-01,  1.3833e+00, -1.3217e-16],\n",
      "        [ 6.2802e-01,  1.2563e+00,  1.2401e-17],\n",
      "        [ 1.6316e+00,  1.2474e+00,  1.6078e-17],\n",
      "        [ 1.2562e+00,  1.2468e+00,  9.5142e-17],\n",
      "        [ 9.8899e-01,  1.4798e+00, -1.6173e-17],\n",
      "        [ 8.9652e-01,  1.2118e+00, -1.4553e-17],\n",
      "        [ 6.9584e-01,  1.2092e+00, -6.7205e-18],\n",
      "        [ 1.2792e+00,  1.3224e+00, -3.5579e-18],\n",
      "        [-1.5083e+00,  9.5790e-08,  7.9637e-01],\n",
      "        [ 9.5166e-01,  1.1313e+00,  3.7895e-11],\n",
      "        [ 9.4267e-01,  1.2509e+00,  3.5055e-16],\n",
      "        [ 1.5121e+00,  1.2810e+00, -1.2057e-16],\n",
      "        [ 1.2851e+00,  9.3152e-01, -9.4582e-18],\n",
      "        [ 8.8261e-01,  1.4402e+00,  5.8910e-17],\n",
      "        [ 1.2692e+00,  1.3411e+00,  3.3050e-19],\n",
      "        [ 1.4682e+00,  1.3019e+00,  2.2728e-17],\n",
      "        [ 1.2292e+00,  1.2608e+00,  1.1425e-17],\n",
      "        [ 1.2282e+00,  1.0551e+00, -1.0705e-17],\n",
      "        [ 7.6019e-01,  1.4176e+00,  4.7475e-17],\n",
      "        [ 1.0842e+00,  1.2939e+00, -3.0467e-17],\n",
      "        [ 8.1308e-01,  1.3565e+00, -1.2787e-17],\n",
      "        [ 2.9338e-12,  3.9723e-12,  1.7056e+00],\n",
      "        [ 1.1342e+00,  1.1471e+00, -8.3663e-12],\n",
      "        [ 9.6310e-01,  1.3661e+00, -1.8352e-17],\n",
      "        [ 8.5191e-01,  1.3560e+00,  2.0130e-18],\n",
      "        [ 1.2975e+00,  1.2129e+00, -5.3691e-19],\n",
      "        [ 1.0407e+00,  1.3567e+00, -1.9498e-18],\n",
      "        [ 6.4438e-01,  1.3116e+00,  4.2255e-18],\n",
      "        [ 1.0937e+00,  1.3012e+00,  3.3658e-17],\n",
      "        [ 7.5179e-01,  1.4277e+00, -2.3867e-17],\n",
      "        [ 1.0650e+00,  1.3677e+00, -2.0246e-16],\n",
      "        [ 8.6025e-01,  1.4496e+00,  2.1395e-17],\n",
      "        [ 8.6775e-01,  1.0659e+00,  3.9186e-17],\n",
      "        [ 9.4865e-01,  1.3012e+00, -1.4905e-18],\n",
      "        [ 7.5508e-01,  1.4269e+00,  2.2171e-17],\n",
      "        [ 1.3811e+00,  1.2110e+00,  2.4775e-17],\n",
      "        [ 1.1287e+00,  1.4731e+00, -2.0402e-17],\n",
      "        [ 4.8602e-01,  1.2565e+00,  1.2101e-17],\n",
      "        [ 1.1280e+00,  1.2463e+00, -3.0395e-18],\n",
      "        [ 1.0974e+00,  1.1495e+00, -1.9660e-18],\n",
      "        [ 9.7137e-01,  1.2900e+00, -2.1417e-17],\n",
      "        [ 1.7583e+00,  1.0888e+00, -3.2677e-17],\n",
      "        [ 6.1291e-01,  1.3142e+00,  2.6000e-17],\n",
      "        [ 1.3865e+00,  1.0311e+00, -1.6946e-16],\n",
      "        [ 1.1676e+00,  1.1402e+00,  5.3609e-17],\n",
      "        [ 1.1281e+00,  1.4350e+00, -2.7408e-17],\n",
      "        [ 8.0738e-01,  1.3001e+00,  1.0868e-17],\n",
      "        [ 1.1557e+00,  1.1043e+00, -5.9665e-17]], device='cuda:0',\n",
      "       dtype=torch.float64)} tensor([[[-2.0247e+01, -5.1670e+00, -2.6695e-02,  ...,  6.7615e-19,\n",
      "          -1.5899e+00, -1.1728e+00],\n",
      "         [-5.1670e+00, -2.4826e+00, -1.6115e-01,  ...,  5.5728e-19,\n",
      "          -1.2659e+00, -1.0295e+00],\n",
      "         [-2.6695e-02, -1.6115e-01, -4.2632e-01,  ...,  1.9056e-17,\n",
      "          -6.1406e-01, -1.0659e-01],\n",
      "         ...,\n",
      "         [ 6.7615e-19,  5.5728e-19,  1.9056e-17,  ..., -4.0814e-01,\n",
      "          -2.3783e-17,  2.4632e-17],\n",
      "         [-1.5899e+00, -1.2659e+00, -6.1406e-01,  ..., -2.3783e-17,\n",
      "          -8.0231e-01, -5.7995e-01],\n",
      "         [-1.1728e+00, -1.0295e+00, -1.0659e-01,  ...,  2.4632e-17,\n",
      "          -5.7995e-01, -5.9604e-01]],\n",
      "\n",
      "        [[-2.0234e+01, -5.1672e+00, -2.3115e-02,  ...,  1.1899e-19,\n",
      "          -1.5852e+00, -1.5562e+00],\n",
      "         [-5.1672e+00, -2.5008e+00, -1.3644e-01,  ..., -6.4699e-20,\n",
      "          -1.2619e+00, -1.2463e+00],\n",
      "         [-2.3115e-02, -1.3644e-01, -4.2727e-01,  ...,  2.0885e-17,\n",
      "          -5.9718e-01, -1.8235e-03],\n",
      "         ...,\n",
      "         [ 1.1899e-19, -6.4699e-20,  2.0885e-17,  ..., -4.0962e-01,\n",
      "          -1.8656e-17,  1.9259e-17],\n",
      "         [-1.5852e+00, -1.2619e+00, -5.9718e-01,  ..., -1.8656e-17,\n",
      "          -7.8341e-01, -6.1149e-01],\n",
      "         [-1.5562e+00, -1.2463e+00, -1.8235e-03,  ...,  1.9259e-17,\n",
      "          -6.1149e-01, -7.6876e-01]],\n",
      "\n",
      "        [[-2.0235e+01, -5.1629e+00,  2.5107e-02,  ..., -1.4486e-02,\n",
      "          -1.1551e+00, -1.1551e+00],\n",
      "         [-5.1629e+00, -2.4412e+00,  1.0432e-01,  ..., -6.0188e-02,\n",
      "          -9.9928e-01, -9.9928e-01],\n",
      "         [ 2.5107e-02,  1.0432e-01, -3.3415e-01,  ...,  1.4645e-02,\n",
      "           1.1769e-01,  5.1023e-01],\n",
      "         ...,\n",
      "         [-1.4486e-02, -6.0188e-02,  1.4645e-02,  ..., -3.1722e-01,\n",
      "          -5.2132e-01,  1.5902e-01],\n",
      "         [-1.1551e+00, -9.9928e-01,  1.1769e-01,  ..., -5.2132e-01,\n",
      "          -5.5924e-01, -3.7545e-01],\n",
      "         [-1.1551e+00, -9.9928e-01,  5.1023e-01,  ...,  1.5902e-01,\n",
      "          -3.7545e-01, -5.5924e-01]],\n",
      "\n",
      "        ...,\n",
      "\n",
      "        [[-2.0238e+01, -5.1653e+00, -1.7535e-02,  ..., -2.1756e-18,\n",
      "          -1.0824e+00, -1.5599e+00],\n",
      "         [-5.1653e+00, -2.4673e+00, -6.7051e-02,  ...,  2.2938e-18,\n",
      "          -9.6249e-01, -1.2374e+00],\n",
      "         [-1.7535e-02, -6.7051e-02, -3.1722e-01,  ...,  2.7994e-19,\n",
      "          -5.2671e-01,  3.3983e-02],\n",
      "         ...,\n",
      "         [-2.1756e-18,  2.2938e-18,  2.7994e-19,  ..., -3.9997e-01,\n",
      "           1.0213e-17, -2.1059e-17],\n",
      "         [-1.0824e+00, -9.6249e-01, -5.2671e-01,  ...,  1.0213e-17,\n",
      "          -5.3101e-01, -4.6835e-01],\n",
      "         [-1.5599e+00, -1.2374e+00,  3.3983e-02,  ..., -2.1059e-17,\n",
      "          -4.6835e-01, -7.6576e-01]],\n",
      "\n",
      "        [[-2.0238e+01, -5.1613e+00, -1.2869e-02,  ...,  1.9712e-18,\n",
      "          -8.0638e-01, -1.0149e+00],\n",
      "         [-5.1613e+00, -2.4085e+00, -2.4854e-02,  ..., -1.3314e-19,\n",
      "          -7.6869e-01, -9.0522e-01],\n",
      "         [-1.2869e-02, -2.4854e-02, -2.3918e-01,  ..., -2.8406e-17,\n",
      "          -4.6450e-01,  1.5297e-01],\n",
      "         ...,\n",
      "         [ 1.9712e-18, -1.3314e-19, -2.8406e-17,  ..., -3.8086e-01,\n",
      "           3.9768e-17, -1.9600e-17],\n",
      "         [-8.0638e-01, -7.6869e-01, -4.6450e-01,  ...,  3.9768e-17,\n",
      "          -3.9046e-01, -2.4392e-01],\n",
      "         [-1.0149e+00, -9.0522e-01,  1.5297e-01,  ..., -1.9600e-17,\n",
      "          -2.4392e-01, -4.8845e-01]],\n",
      "\n",
      "        [[-2.0255e+01, -5.1648e+00, -2.1021e-02,  ..., -4.7846e-18,\n",
      "          -1.2349e+00, -6.3434e-01],\n",
      "         [-5.1648e+00, -2.4235e+00, -1.0139e-01,  ...,  3.8790e-18,\n",
      "          -1.0425e+00, -6.4836e-01],\n",
      "         [-2.1021e-02, -1.0139e-01, -3.3463e-01,  ..., -5.7726e-17,\n",
      "          -5.5172e-01,  5.0188e-02],\n",
      "         ...,\n",
      "         [-4.7846e-18,  3.8790e-18, -5.7726e-17,  ..., -3.9232e-01,\n",
      "          -6.9865e-17,  3.1748e-17],\n",
      "         [-1.2349e+00, -1.0425e+00, -5.5172e-01,  ..., -6.9865e-17,\n",
      "          -6.0266e-01, -2.7282e-01],\n",
      "         [-6.3434e-01, -6.4836e-01,  5.0188e-02,  ...,  3.1748e-17,\n",
      "          -2.7282e-01, -3.1921e-01]]], device='cuda:0', dtype=torch.float64)\n"
     ]
    }
   ],
   "source": [
    "water_data = MoleculeDataset(mol_name='water_1000', frame_slice=slice(0,100),  device='cuda', aux=['overlap', 'orbitals'], target=[\"fock\", \"dipole_moment\"])\n",
    "ml_data = MLDataset(molecule_data=water_data, device ='cuda', model_strategy = \"coupled\")\n",
    "if ml_data.features is None: \n",
    "    ml_data.features = mlelec.features.acdc.compute_features(ml_data.molecule_data, ml_data.device)"
   ]
  },
  {
   "cell_type": "code",
   "execution_count": 5,
   "metadata": {},
   "outputs": [],
   "source": [
    "ml_data._shuffle(random_seed=5381)\n",
    "ml_data._split_indices(train_frac=0.7, val_frac=0.2)"
   ]
  },
  {
   "cell_type": "code",
   "execution_count": null,
   "metadata": {},
   "outputs": [],
   "source": [
    "if self.features is None:\n",
    "                print\n",
    "               hypers = kwargs.get(\"hypers\", None)\n",
    "            if hypers is None:\n",
    "                print(\"Computing features with default hypers\")\n",
    "                hypers = {\n",
    "                    \"cutoff\": 4.0,\n",
    "                    \"max_radial\": 6,\n",
    "                    \"max_angular\": 3,\n",
    "                    \"atomic_gaussian_width\": 0.3,\n",
    "                    \"center_atom_weight\": 1,\n",
    "                    \"radial_basis\": {\"Gto\": {}},\n",
    "                    \"cutoff_function\": {\"ShiftedCosine\": {\"width\": 0.1}},\n",
    "                }\n",
    "            single = single_center_features(dataset.structures, hypers, order_nu = 2, lcut = hypers[\"max_angular\"])\n",
    "            if isinstance(dataset.target, SingleCenter):\n",
    "                self.features = single\n",
    "            elif isinstance(dataset.target, TwoCenter):\n",
    "                pairs = pair_features(\n",
    "                    dataset.structures,\n",
    "                    hypers,\n",
    "                    order_nu=1,\n",
    "                    lcut = hypers[\"max_angular\"],\n",
    "                    feature_names=single[0].properties.names,\n",
    "                )\n",
    "                self.features = twocenter_hermitian_features(single, pairs)\n",
    "                "
   ]
  },
  {
   "cell_type": "code",
   "execution_count": 117,
   "metadata": {},
   "outputs": [],
   "source": [
    "import argparse\n",
    "parser = argparse.ArgumentParser()\n",
    "\n",
    "parser.add_argument('--model_type', type=str, default=\"acdc\")\n",
    "parser.add_argument('--feature_path', type=str, default=None)\n",
    "parser.add_argument('--max_radial', type=int, default=4)\n",
    "parser.add_argument('--max_angular', type=int, default=2)\n",
    "args= parser.parse_args()\n"
   ]
  },
  {
   "cell_type": "code",
   "execution_count": 116,
   "metadata": {},
   "outputs": [
    {
     "ename": "NameError",
     "evalue": "name 'feature' is not defined",
     "output_type": "error",
     "traceback": [
      "\u001b[0;31m---------------------------------------------------------------------------\u001b[0m",
      "\u001b[0;31mNameError\u001b[0m                                 Traceback (most recent call last)",
      "\u001b[1;32m/home/nigam/scratch/MAC/my_mlelec/pyscfad_interface.ipynb Cell 7\u001b[0m line \u001b[0;36m1\n\u001b[0;32m----> <a href='vscode-notebook-cell://ssh-remote%2Bcosmopc/home/nigam/scratch/MAC/my_mlelec/pyscfad_interface.ipynb#Y132sdnNjb2RlLXJlbW90ZQ%3D%3D?line=0'>1</a>\u001b[0m feature \u001b[39min\u001b[39;00m args\n",
      "\u001b[0;31mNameError\u001b[0m: name 'feature' is not defined"
     ]
    }
   ],
   "source": [
    "if args.model_type == 'acdc' and args.feature_path is None: \n",
    "    \n",
    "    if "
   ]
  },
  {
   "cell_type": "code",
   "execution_count": 55,
   "metadata": {},
   "outputs": [
    {
     "data": {
      "text/plain": [
       "tensor([ 7,  9, 23, 25, 51, 55, 59, 65, 68, 87, 91])"
      ]
     },
     "execution_count": 55,
     "metadata": {},
     "output_type": "execute_result"
    }
   ],
   "source": [
    "#instantiate model based on args['model_type'] -'linear', 'se3-transformer'..\n",
    "def instantiate_model(args, dataset: MLDataset, device):\n",
    "    if args.model_type == 'linear':\n",
    "        if features \n",
    "        model = LinearTargetModel(dataset, features = features, device =device)\n",
    "    \n",
    "\n",
    "    elif args.model_type == 'se3-transformer':\n",
    "        raise NotImplementedError\n",
    "        # model = SE3TransformerTargetModel(dataset, device)\n",
    "    else:\n",
    "        raise NotImplementedError\n",
    "    return model\n",
    "\n",
    "model = get_model(args, trainset, device) # trainset to get the block keys \n"
   ]
  },
  {
   "cell_type": "code",
   "execution_count": 15,
   "metadata": {},
   "outputs": [],
   "source": [
    "ml_data._set_features(model.features)\n"
   ]
  },
  {
   "cell_type": "code",
   "execution_count": 10,
   "metadata": {},
   "outputs": [],
   "source": [
    "import torch.utils.data as data"
   ]
  },
  {
   "cell_type": "code",
   "execution_count": 100,
   "metadata": {},
   "outputs": [],
   "source": [
    "# sampler = data.sampler.SubsetRandomSampler(indices = ml_data.train_idx)\n",
    "train_sampler = data.sampler.SubsetRandomSampler(ml_data.train_idx)\n",
    "train_sampler = data.sampler.BatchSampler(train_sampler, batch_size=4, drop_last=False)\n",
    "\n",
    "val_sampler = data.sampler.SubsetRandomSampler(ml_data.val_idx)\n",
    "val_sampler = data.sampler.BatchSampler(val_sampler, batch_size=4, drop_last=False)\n",
    "\n",
    "test_sampler = data.sampler.SubsetRandomSampler(ml_data.test_idx)\n",
    "test_sampler = data.sampler.BatchSampler(test_sampler, batch_size=4, drop_last=False)"
   ]
  },
  {
   "cell_type": "code",
   "execution_count": 101,
   "metadata": {},
   "outputs": [],
   "source": [
    "from torch.utils import data \n",
    "import metatensor\n",
    "def collate(batch):\n",
    "    x = batch[0][0] \n",
    "    y = batch[0][1]\n",
    "    return x, y\n",
    "\n",
    "train_loader = data.DataLoader(\n",
    "                ml_data,\n",
    "                sampler = train_sampler,\n",
    "                collate_fn = collate,\n",
    "            )\n",
    "val_loader = data.DataLoader(\n",
    "                ml_data,\n",
    "                sampler = val_sampler,\n",
    "                collate_fn = collate,\n",
    "            )\n",
    "\n",
    "test_loader = data.DataLoader(\n",
    "                ml_data,\n",
    "                sampler = test_sampler,\n",
    "                collate_fn = collate,\n",
    "            )\n"
   ]
  },
  {
   "cell_type": "code",
   "execution_count": null,
   "metadata": {},
   "outputs": [],
   "source": []
  },
  {
   "cell_type": "code",
   "execution_count": 7,
   "metadata": {},
   "outputs": [],
   "source": [
    "for f in ml_data.structures:\n",
    "    f.pbc = False"
   ]
  },
  {
   "cell_type": "markdown",
   "metadata": {},
   "source": [
    "## training on a tiny dataset for now "
   ]
  },
  {
   "cell_type": "code",
   "execution_count": 8,
   "metadata": {},
   "outputs": [
    {
     "name": "stdout",
     "output_type": "stream",
     "text": [
      "Computing features with default hypers\n",
      "cuda:0 cuda\n",
      "MLP(\n",
      "  (mlp): Sequential(\n",
      "    (0): Linear(in_features=576, out_features=16, bias=False)\n",
      "    (1): Linear(in_features=16, out_features=1, bias=False)\n",
      "  )\n",
      ")\n",
      "cuda:0 cuda\n",
      "MLP(\n",
      "  (mlp): Sequential(\n",
      "    (0): Linear(in_features=576, out_features=16, bias=False)\n",
      "    (1): Linear(in_features=16, out_features=1, bias=False)\n",
      "  )\n",
      ")\n",
      "cuda:0 cuda\n",
      "MLP(\n",
      "  (mlp): Sequential(\n",
      "    (0): Linear(in_features=864, out_features=16, bias=False)\n",
      "    (1): Linear(in_features=16, out_features=1, bias=False)\n",
      "  )\n",
      ")\n",
      "cuda:0 cuda\n",
      "MLP(\n",
      "  (mlp): Sequential(\n",
      "    (0): Linear(in_features=576, out_features=16, bias=False)\n",
      "    (1): Linear(in_features=16, out_features=1, bias=False)\n",
      "  )\n",
      ")\n",
      "cuda:0 cuda\n",
      "MLP(\n",
      "  (mlp): Sequential(\n",
      "    (0): Linear(in_features=864, out_features=16, bias=False)\n",
      "    (1): Linear(in_features=16, out_features=1, bias=False)\n",
      "  )\n",
      ")\n",
      "cuda:0 cuda\n",
      "MLP(\n",
      "  (mlp): Sequential(\n",
      "    (0): Linear(in_features=576, out_features=16, bias=False)\n",
      "    (1): Linear(in_features=16, out_features=1, bias=False)\n",
      "  )\n",
      ")\n",
      "cuda:0 cuda\n",
      "MLP(\n",
      "  (mlp): Sequential(\n",
      "    (0): Linear(in_features=1008, out_features=16, bias=False)\n",
      "    (1): Linear(in_features=16, out_features=1, bias=False)\n",
      "  )\n",
      ")\n",
      "cuda:0 cuda\n",
      "MLP(\n",
      "  (mlp): Sequential(\n",
      "    (0): Linear(in_features=288, out_features=16, bias=False)\n",
      "    (1): Linear(in_features=16, out_features=1, bias=False)\n",
      "  )\n",
      ")\n",
      "cuda:0 cuda\n",
      "MLP(\n",
      "  (mlp): Sequential(\n",
      "    (0): Linear(in_features=288, out_features=16, bias=False)\n",
      "    (1): Linear(in_features=16, out_features=1, bias=False)\n",
      "  )\n",
      ")\n",
      "cuda:0 cuda\n",
      "MLP(\n",
      "  (mlp): Sequential(\n",
      "    (0): Linear(in_features=432, out_features=16, bias=False)\n",
      "    (1): Linear(in_features=16, out_features=1, bias=False)\n",
      "  )\n",
      ")\n",
      "cuda:0 cuda\n",
      "MLP(\n",
      "  (mlp): Sequential(\n",
      "    (0): Linear(in_features=576, out_features=16, bias=False)\n",
      "    (1): Linear(in_features=16, out_features=1, bias=False)\n",
      "  )\n",
      ")\n",
      "cuda:0 cuda\n",
      "MLP(\n",
      "  (mlp): Sequential(\n",
      "    (0): Linear(in_features=288, out_features=16, bias=False)\n",
      "    (1): Linear(in_features=16, out_features=1, bias=False)\n",
      "  )\n",
      ")\n"
     ]
    }
   ],
   "source": [
    "model = LinearTargetModel(dataset = ml_data, metrics = \"l2_loss\", nlayers = 1, nhidden = 16, bias = False, device = 'cuda')\n"
   ]
  },
  {
   "cell_type": "code",
   "execution_count": null,
   "metadata": {},
   "outputs": [],
   "source": [
    "model.train_model(nepochs=100, batch_size=32, lr=1e-3, weight_decay=0.0, verbose=True, log_interval=10)"
   ]
  },
  {
   "cell_type": "code",
   "execution_count": 33,
   "metadata": {
    "scrolled": true
   },
   "outputs": [],
   "source": [
    "optimizer = torch.optim.Adam(model.parameters(), lr=1e-3)\n",
    "scheduler = torch.optim.lr_scheduler.ReduceLROnPlateau(optimizer, factor=0.5, patience=10, verbose=True)\n",
    "losses= []"
   ]
  },
  {
   "cell_type": "code",
   "execution_count": 38,
   "metadata": {},
   "outputs": [
    {
     "name": "stdout",
     "output_type": "stream",
     "text": [
      "tensor(1.3400, device='cuda:0', dtype=torch.float64)\n",
      "tensor(1.3346, device='cuda:0', dtype=torch.float64)\n",
      "tensor(1.3292, device='cuda:0', dtype=torch.float64)\n",
      "tensor(1.3235, device='cuda:0', dtype=torch.float64)\n",
      "tensor(1.3179, device='cuda:0', dtype=torch.float64)\n",
      "tensor(1.3124, device='cuda:0', dtype=torch.float64)\n",
      "tensor(1.3072, device='cuda:0', dtype=torch.float64)\n",
      "tensor(1.3017, device='cuda:0', dtype=torch.float64)\n",
      "tensor(1.2972, device='cuda:0', dtype=torch.float64)\n",
      "tensor(1.2913, device='cuda:0', dtype=torch.float64)\n",
      "tensor(1.2860, device='cuda:0', dtype=torch.float64)\n",
      "tensor(1.2808, device='cuda:0', dtype=torch.float64)\n",
      "tensor(1.2755, device='cuda:0', dtype=torch.float64)\n",
      "tensor(1.2704, device='cuda:0', dtype=torch.float64)\n",
      "tensor(1.2659, device='cuda:0', dtype=torch.float64)\n",
      "tensor(1.2605, device='cuda:0', dtype=torch.float64)\n",
      "tensor(1.2554, device='cuda:0', dtype=torch.float64)\n",
      "tensor(1.2511, device='cuda:0', dtype=torch.float64)\n",
      "tensor(1.2456, device='cuda:0', dtype=torch.float64)\n",
      "tensor(1.2407, device='cuda:0', dtype=torch.float64)\n",
      "tensor(1.2359, device='cuda:0', dtype=torch.float64)\n",
      "tensor(1.2312, device='cuda:0', dtype=torch.float64)\n",
      "tensor(1.2265, device='cuda:0', dtype=torch.float64)\n",
      "tensor(1.2217, device='cuda:0', dtype=torch.float64)\n",
      "tensor(1.2171, device='cuda:0', dtype=torch.float64)\n",
      "tensor(1.2124, device='cuda:0', dtype=torch.float64)\n",
      "tensor(1.2079, device='cuda:0', dtype=torch.float64)\n",
      "tensor(1.2055, device='cuda:0', dtype=torch.float64)\n",
      "tensor(1.1996, device='cuda:0', dtype=torch.float64)\n",
      "tensor(1.1948, device='cuda:0', dtype=torch.float64)\n",
      "tensor(1.1902, device='cuda:0', dtype=torch.float64)\n",
      "tensor(1.1862, device='cuda:0', dtype=torch.float64)\n",
      "tensor(1.1814, device='cuda:0', dtype=torch.float64)\n",
      "tensor(1.1771, device='cuda:0', dtype=torch.float64)\n",
      "tensor(1.1728, device='cuda:0', dtype=torch.float64)\n",
      "tensor(1.1686, device='cuda:0', dtype=torch.float64)\n",
      "tensor(1.1644, device='cuda:0', dtype=torch.float64)\n",
      "tensor(1.1603, device='cuda:0', dtype=torch.float64)\n",
      "tensor(1.1562, device='cuda:0', dtype=torch.float64)\n",
      "tensor(1.1521, device='cuda:0', dtype=torch.float64)\n",
      "tensor(1.1482, device='cuda:0', dtype=torch.float64)\n",
      "tensor(1.1444, device='cuda:0', dtype=torch.float64)\n",
      "tensor(1.1408, device='cuda:0', dtype=torch.float64)\n",
      "tensor(1.1365, device='cuda:0', dtype=torch.float64)\n",
      "tensor(1.1327, device='cuda:0', dtype=torch.float64)\n",
      "tensor(1.1287, device='cuda:0', dtype=torch.float64)\n",
      "tensor(1.1248, device='cuda:0', dtype=torch.float64)\n",
      "tensor(1.1212, device='cuda:0', dtype=torch.float64)\n",
      "tensor(1.1183, device='cuda:0', dtype=torch.float64)\n",
      "tensor(1.1146, device='cuda:0', dtype=torch.float64)\n",
      "tensor(1.1101, device='cuda:0', dtype=torch.float64)\n",
      "tensor(1.1072, device='cuda:0', dtype=torch.float64)\n",
      "tensor(1.1033, device='cuda:0', dtype=torch.float64)\n",
      "tensor(1.0995, device='cuda:0', dtype=torch.float64)\n",
      "tensor(1.0965, device='cuda:0', dtype=torch.float64)\n",
      "tensor(1.0925, device='cuda:0', dtype=torch.float64)\n",
      "tensor(1.0890, device='cuda:0', dtype=torch.float64)\n",
      "tensor(1.0856, device='cuda:0', dtype=torch.float64)\n",
      "tensor(1.0822, device='cuda:0', dtype=torch.float64)\n",
      "tensor(1.0788, device='cuda:0', dtype=torch.float64)\n",
      "tensor(1.0756, device='cuda:0', dtype=torch.float64)\n",
      "tensor(1.0723, device='cuda:0', dtype=torch.float64)\n",
      "tensor(1.0691, device='cuda:0', dtype=torch.float64)\n",
      "tensor(1.0659, device='cuda:0', dtype=torch.float64)\n",
      "tensor(1.0627, device='cuda:0', dtype=torch.float64)\n",
      "tensor(1.0596, device='cuda:0', dtype=torch.float64)\n",
      "tensor(1.0567, device='cuda:0', dtype=torch.float64)\n",
      "tensor(1.0537, device='cuda:0', dtype=torch.float64)\n",
      "tensor(1.0507, device='cuda:0', dtype=torch.float64)\n",
      "tensor(1.0475, device='cuda:0', dtype=torch.float64)\n"
     ]
    }
   ],
   "source": [
    "\n",
    "for epoch in range(700):\n",
    "    optimizer.zero_grad()\n",
    "    loss = model.forward()\n",
    "    loss.backward()\n",
    "    optimizer.step()\n",
    "    losses.append(loss.item())  \n",
    "    # scheduler.step(loss)\n",
    "    if epoch%10 == 0:\n",
    "        print(torch.sqrt(loss.detach()))"
   ]
  },
  {
   "cell_type": "code",
   "execution_count": 40,
   "metadata": {},
   "outputs": [
    {
     "data": {
      "text/plain": [
       "[<matplotlib.lines.Line2D at 0x7f33bbcddb90>]"
      ]
     },
     "execution_count": 40,
     "metadata": {},
     "output_type": "execute_result"
    },
    {
     "data": {
      "image/png": "[encoded data removed]",
      "text/plain": [
       "<Figure size 640x480 with 1 Axes>"
      ]
     },
     "metadata": {},
     "output_type": "display_data"
    }
   ],
   "source": [
    "import matplotlib.pyplot as plt\n",
    "plt.loglog(losses)"
   ]
  },
  {
   "cell_type": "code",
   "execution_count": 41,
   "metadata": {},
   "outputs": [],
   "source": [
    "pred = model.forward()"
   ]
  },
  {
   "cell_type": "code",
   "execution_count": 43,
   "metadata": {},
   "outputs": [
    {
     "data": {
      "text/plain": [
       "tensor(1.0908, device='cuda:0', dtype=torch.float64, grad_fn=<SumBackward0>)"
      ]
     },
     "execution_count": 43,
     "metadata": {},
     "output_type": "execute_result"
    }
   ],
   "source": [
    "model."
   ]
  },
  {
   "cell_type": "markdown",
   "metadata": {},
   "source": [
    "The default features and model is quite bad - so no wonder losses are high"
   ]
  },
  {
   "cell_type": "markdown",
   "metadata": {},
   "source": [
    "## Predictions"
   ]
  },
  {
   "cell_type": "code",
   "execution_count": 36,
   "metadata": {},
   "outputs": [
    {
     "name": "stdout",
     "output_type": "stream",
     "text": [
      "cuda:0 cuda:0\n",
      "torch.Size([10, 7, 7])\n",
      "torch.float32\n"
     ]
    }
   ],
   "source": [
    "linmod.forward()\n",
    "fock = linmod.reconstructed_tensor\n",
    "print(fock.shape)\n",
    "print(fock.dtype)"
   ]
  },
  {
   "cell_type": "markdown",
   "metadata": {},
   "source": [
    "## plugging in predicted fock matrix into pyscfad"
   ]
  },
  {
   "cell_type": "code",
   "execution_count": 37,
   "metadata": {},
   "outputs": [],
   "source": [
    "\n",
    "import os\n",
    "os.environ['PYSCFAD_BACKEND']='torch'\n",
    "\n",
    "import torch\n",
    "from pyscf import gto\n",
    "\n",
    "from pyscfad import numpy as np\n",
    "from pyscfad import ops\n",
    "from pyscfad.ml.scf import hf\n",
    "import pyscf.pbc.tools.pyscf_ase as pyscf_ase\n"
   ]
  },
  {
   "cell_type": "code",
   "execution_count": 45,
   "metadata": {},
   "outputs": [
    {
     "data": {
      "text/plain": [
       "tensor([[-23.2849,  -2.7638,   0.7262,   0.0000,   0.8035,  -1.1535,  -1.3145],\n",
       "        [ -2.7638,  -8.5905,   0.7166,   0.0000,   0.8957,  -2.0820,  -2.2938],\n",
       "        [  0.7262,   0.7166,  -1.8219,   0.0000,   0.2043,  -0.6207,   0.9639],\n",
       "        [  0.0000,   0.0000,   0.0000,  -4.7920,   0.0000,   0.0000,   0.0000],\n",
       "        [  0.8035,   0.8957,   0.2043,   0.0000,  -1.9606,   0.9687,  -0.3907],\n",
       "        [ -1.1535,  -2.0820,  -0.6207,   0.0000,   0.9687,  -3.2221,  -1.4339],\n",
       "        [ -1.3145,  -2.2938,   0.9639,   0.0000,  -0.3907,  -1.4339,  -3.1479]],\n",
       "       device='cuda:0', dtype=torch.float64, requires_grad=True)"
      ]
     },
     "execution_count": 45,
     "metadata": {},
     "output_type": "execute_result"
    }
   ],
   "source": []
  },
  {
   "cell_type": "code",
   "execution_count": 55,
   "metadata": {},
   "outputs": [],
   "source": [
    "def _instantiate_pyscf_mol(frames, basis= 'sto-3g'):\n",
    "    mol = gto.Mole()\n",
    "    mol.atom = pyscf_ase.ase_atoms_to_pyscf(frame)\n",
    "    mol.basis = basis\n",
    "    mol.build()\n",
    "    return mol\n",
    "\n",
    "f = linmod.reconstructed_tensor[0].type(torch.float64)\n",
    "f = torch.autograd.Variable(linmod.reconstructed_tensor[0].type(torch.float64), requires_grad=True)\n",
    "\n",
    "mf = hf.SCF(mol)\n",
    "\n",
    "mo_energy, mo_coeff = mf.eig(f, s = torch.eye(f.shape[-1], dtype = f.dtype))\n",
    "mo_occ = mf.get_occ(mo_energy) # get_occ returns a numpy array\n",
    "mo_occ = ops.convert_to_tensor(mo_occ)\n"
   ]
  },
  {
   "cell_type": "code",
   "execution_count": 47,
   "metadata": {},
   "outputs": [
    {
     "name": "stdout",
     "output_type": "stream",
     "text": [
      "Dipole moment(X, Y, Z, Debye): -3.31932, -2.92907,  0.84495\n"
     ]
    }
   ],
   "source": [
    "dm1 = mf.make_rdm1(mo_coeff, mo_occ)\n",
    "dip = mf.dip_moment(dm=dm1)\n",
    "dip_norm = np.linalg.norm(dip)\n",
    "dip_norm.backward(retain_graph=True)"
   ]
  },
  {
   "cell_type": "code",
   "execution_count": 53,
   "metadata": {},
   "outputs": [
    {
     "name": "stdout",
     "output_type": "stream",
     "text": [
      "tensor([[ 1.7105e-03,  6.3625e-03,  2.9021e-02, -2.2379e-03,  1.1759e-02,\n",
      "         -3.4497e-02,  9.9262e-03],\n",
      "        [ 6.3625e-03,  2.6275e-02, -4.1789e-03, -9.8700e-03,  1.0243e-01,\n",
      "         -7.3472e-02, -4.3468e-02],\n",
      "        [ 2.9021e-02, -4.1789e-03,  1.0441e-01, -1.0558e-01, -3.9019e-01,\n",
      "         -5.5819e-01, -2.6806e-01],\n",
      "        [-2.2379e-03, -9.8700e-03, -1.0558e-01,  6.9081e-18, -7.8187e-03,\n",
      "          5.6591e-02, -5.4898e-02],\n",
      "        [ 1.1759e-02,  1.0243e-01, -3.9019e-01, -7.8187e-03,  5.4390e-01,\n",
      "         -2.1696e-01, -9.5179e-02],\n",
      "        [-3.4497e-02, -7.3472e-02, -5.5819e-01,  5.6591e-02, -2.1696e-01,\n",
      "         -1.5031e-02,  3.6295e-01],\n",
      "        [ 9.9262e-03, -4.3468e-02, -2.6806e-01, -5.4898e-02, -9.5179e-02,\n",
      "          3.6295e-01, -6.6127e-01]], device='cuda:0', dtype=torch.float64)\n"
     ]
    }
   ],
   "source": [
    "print(f.grad)\n",
    "# print(fock.grad)"
   ]
  },
  {
   "cell_type": "code",
   "execution_count": 85,
   "metadata": {},
   "outputs": [
    {
     "name": "stdout",
     "output_type": "stream",
     "text": [
      "Dipole moment(X, Y, Z, Debye): -3.31932, -2.92907,  0.84495\n",
      "Dipole moment(X, Y, Z, Debye): -2.80104, -2.80665,  0.49420\n",
      "Dipole moment(X, Y, Z, Debye): -0.97410,  0.16333, -0.03832\n",
      "Dipole moment(X, Y, Z, Debye):  0.43273, -0.39412, -0.10863\n",
      "Dipole moment(X, Y, Z, Debye):  0.55159, -0.21967, -0.12267\n",
      "Dipole moment(X, Y, Z, Debye): -2.63093, -2.96524,  0.56775\n",
      "Dipole moment(X, Y, Z, Debye):  0.39313,  0.14061,  0.05585\n",
      "Dipole moment(X, Y, Z, Debye): -3.56483,  1.09624,  1.08741\n",
      "Dipole moment(X, Y, Z, Debye): -3.06630, -2.97490,  0.84684\n",
      "Dipole moment(X, Y, Z, Debye): -1.19815,  1.15317,  0.41941\n"
     ]
    }
   ],
   "source": [
    "all_fock = linmod.reconstructed_tensor\n",
    "af = []\n",
    "all_dipole = []\n",
    "for i, frame in enumerate(h_ml.structures):\n",
    "    mol = _instantiate_pyscf_mol(frame)\n",
    "    f= linmod.reconstructed_tensor[i].type(torch.float64)\n",
    "    f.retain_grad()\n",
    "#     f = torch.autograd.Variable(linmod.reconstructed_tensor[i].type(torch.float64), requires_grad=True)\n",
    "    af.append(f)\n",
    "    mf = hf.SCF(mol)\n",
    "    mo_energy, mo_coeff = mf.eig(f, s = torch.eye(f.shape[-1], dtype = f.dtype))\n",
    "    mo_occ = mf.get_occ(mo_energy) # get_occ returns a numpy array\n",
    "    mo_occ = ops.convert_to_tensor(mo_occ)\n",
    "    \n",
    "    dm1 = mf.make_rdm1(mo_coeff, mo_occ)\n",
    "    dip = mf.dip_moment(dm=dm1)\n",
    "    all_dipole.append(dip)\n",
    "all_dipole = torch.stack(all_dipole)\n",
    "af = torch.autograd.Variable(torch.stack(af), requires_grad=True)"
   ]
  },
  {
   "cell_type": "code",
   "execution_count": 87,
   "metadata": {},
   "outputs": [
    {
     "data": {
      "text/plain": [
       "tensor([[-22.7867,  -2.6760,   0.6460,   0.0000,   0.5339,  -1.3304,  -1.3777],\n",
       "        [ -2.6760,  -8.3764,   0.6752,   0.0000,   0.6351,  -2.2956,  -2.3194],\n",
       "        [  0.6460,   0.6752,  -1.9946,   0.0000,  -0.6772,  -0.3064,   0.8821],\n",
       "        [  0.0000,   0.0000,   0.0000,  -4.6945,   0.0000,   0.0000,   0.0000],\n",
       "        [  0.5339,   0.6351,  -0.6772,   0.0000,  -1.5873,   1.0782,  -0.4898],\n",
       "        [ -1.3304,  -2.2956,  -0.3064,   0.0000,   1.0782,  -2.6454,  -1.2547],\n",
       "        [ -1.3777,  -2.3194,   0.8821,   0.0000,  -0.4898,  -1.2547,  -2.4765]],\n",
       "       device='cuda:0', grad_fn=<SelectBackward0>)"
      ]
     },
     "execution_count": 87,
     "metadata": {},
     "output_type": "execute_result"
    }
   ],
   "source": [
    "linmod.reconstructed_tensor[i]"
   ]
  },
  {
   "cell_type": "code",
   "execution_count": 88,
   "metadata": {},
   "outputs": [],
   "source": [
    "all_dip_norm = np.linalg.norm(all_dipole)\n",
    "all_dip_norm.backward(retain_graph=True)"
   ]
  },
  {
   "cell_type": "code",
   "execution_count": 95,
   "metadata": {},
   "outputs": [
    {
     "data": {
      "text/plain": [
       "tensor([[-1.5416e-01, -1.8086e+00, -3.4247e+00,  3.1234e-01,  1.9814e+00,\n",
       "         -1.3653e+00,  6.3304e+00],\n",
       "        [-1.8086e+00, -3.1297e+00, -1.0496e+02,  7.0729e+00,  3.7506e+01,\n",
       "         -6.8787e+01,  6.5364e+01],\n",
       "        [-3.4247e+00, -1.0496e+02,  8.1099e+01, -4.3874e+00,  5.3934e+01,\n",
       "          1.6191e+02,  1.5759e+02],\n",
       "        [ 3.1234e-01,  7.0729e+00, -4.3874e+00,  4.8404e-15, -2.1587e+00,\n",
       "         -7.4399e+00, -1.4155e+01],\n",
       "        [ 1.9814e+00,  3.7506e+01,  5.3934e+01, -2.1587e+00, -4.9764e+01,\n",
       "          1.3806e+00, -9.7868e+01],\n",
       "        [-1.3653e+00, -6.8787e+01,  1.6191e+02, -7.4399e+00,  1.3806e+00,\n",
       "          1.9740e+02,  3.9760e+01],\n",
       "        [ 6.3304e+00,  6.5364e+01,  1.5759e+02, -1.4155e+01, -9.7868e+01,\n",
       "          3.9760e+01, -2.2546e+02]], device='cuda:0', dtype=torch.float64)"
      ]
     },
     "execution_count": 95,
     "metadata": {},
     "output_type": "execute_result"
    }
   ],
   "source": [
    "f.grad"
   ]
  },
  {
   "cell_type": "code",
   "execution_count": 93,
   "metadata": {},
   "outputs": [
    {
     "name": "stdout",
     "output_type": "stream",
     "text": [
      "tensor(12199.2923, device='cuda:0', dtype=torch.float64,\n",
      "       grad_fn=<PowBackward0>)\n"
     ]
    }
   ],
   "source": [
    "NORM = 120\n",
    "los = torch.pow((all_dip_norm - NORM),2)\n",
    "print(los)"
   ]
  },
  {
   "cell_type": "code",
   "execution_count": 94,
   "metadata": {},
   "outputs": [],
   "source": [
    "los.backward()"
   ]
  },
  {
   "cell_type": "code",
   "execution_count": 96,
   "metadata": {},
   "outputs": [
    {
     "ename": "ValueError",
     "evalue": "'species_i' not found in the dimensions of these Labels",
     "output_type": "error",
     "traceback": [
      "\u001b[0;31m---------------------------------------------------------------------------\u001b[0m",
      "\u001b[0;31mValueError\u001b[0m                                Traceback (most recent call last)",
      "File \u001b[0;32m~/miniconda3/lib/python3.11/site-packages/metatensor/labels.py:119\u001b[0m, in \u001b[0;36mLabelsEntry.__getitem__\u001b[0;34m(self, dimension)\u001b[0m\n\u001b[1;32m    118\u001b[0m \u001b[38;5;28;01mtry\u001b[39;00m:\n\u001b[0;32m--> 119\u001b[0m     i \u001b[38;5;241m=\u001b[39m \u001b[38;5;28mself\u001b[39m\u001b[38;5;241m.\u001b[39m_names\u001b[38;5;241m.\u001b[39mindex(dimension)\n\u001b[1;32m    120\u001b[0m \u001b[38;5;28;01mexcept\u001b[39;00m \u001b[38;5;167;01mValueError\u001b[39;00m:\n",
      "\u001b[0;31mValueError\u001b[0m: 'species_i' is not in list",
      "\nDuring handling of the above exception, another exception occurred:\n",
      "\u001b[0;31mValueError\u001b[0m                                Traceback (most recent call last)",
      "Cell \u001b[0;32mIn[96], line 1\u001b[0m\n\u001b[0;32m----> 1\u001b[0m \u001b[43mlinmod\u001b[49m\u001b[38;5;241;43m.\u001b[39;49m\u001b[43mforward\u001b[49m\u001b[43m(\u001b[49m\u001b[43m)\u001b[49m\n",
      "File \u001b[0;32m/media/nigam/b5749eb7-d3f1-4495-adeb-2c318fb7d0de/MAC/my_mlelec/src/mlelec/models/linear.py:220\u001b[0m, in \u001b[0;36mLinearTargetModel.forward\u001b[0;34m(self)\u001b[0m\n\u001b[1;32m    218\u001b[0m     pred_blocks\u001b[38;5;241m.\u001b[39mappend(pred_block)\n\u001b[1;32m    219\u001b[0m pred_tmap \u001b[38;5;241m=\u001b[39m TensorMap(\u001b[38;5;28mself\u001b[39m\u001b[38;5;241m.\u001b[39mdataset\u001b[38;5;241m.\u001b[39mtarget\u001b[38;5;241m.\u001b[39mblock_keys, pred_blocks)\n\u001b[0;32m--> 220\u001b[0m \u001b[38;5;28mself\u001b[39m\u001b[38;5;241m.\u001b[39mreconstructed \u001b[38;5;241m=\u001b[39m \u001b[43m_to_uncoupled_basis\u001b[49m\u001b[43m(\u001b[49m\u001b[43mpred_tmap\u001b[49m\u001b[43m)\u001b[49m\n\u001b[1;32m    221\u001b[0m \u001b[38;5;28mself\u001b[39m\u001b[38;5;241m.\u001b[39mreconstructed_tensor \u001b[38;5;241m=\u001b[39m _to_matrix(\n\u001b[1;32m    222\u001b[0m     \u001b[38;5;28mself\u001b[39m\u001b[38;5;241m.\u001b[39mreconstructed,\n\u001b[1;32m    223\u001b[0m     \u001b[38;5;28mself\u001b[39m\u001b[38;5;241m.\u001b[39mdataset\u001b[38;5;241m.\u001b[39mtarget\u001b[38;5;241m.\u001b[39mframes,\n\u001b[1;32m    224\u001b[0m     \u001b[38;5;28mself\u001b[39m\u001b[38;5;241m.\u001b[39mdataset\u001b[38;5;241m.\u001b[39mtarget\u001b[38;5;241m.\u001b[39morbitals,\n\u001b[1;32m    225\u001b[0m     device\u001b[38;5;241m=\u001b[39m\u001b[38;5;28mself\u001b[39m\u001b[38;5;241m.\u001b[39mdevice,\n\u001b[1;32m    226\u001b[0m )\n\u001b[1;32m    228\u001b[0m loss \u001b[38;5;241m=\u001b[39m \u001b[38;5;28mself\u001b[39m\u001b[38;5;241m.\u001b[39mloss_fn(\n\u001b[1;32m    229\u001b[0m     \u001b[38;5;28mself\u001b[39m\u001b[38;5;241m.\u001b[39mreconstructed_tensor, \u001b[38;5;28mself\u001b[39m\u001b[38;5;241m.\u001b[39mdataset\u001b[38;5;241m.\u001b[39mtarget\u001b[38;5;241m.\u001b[39mtensor\u001b[38;5;241m.\u001b[39mto(\u001b[38;5;28mself\u001b[39m\u001b[38;5;241m.\u001b[39mdevice)\n\u001b[1;32m    230\u001b[0m )\n",
      "File \u001b[0;32m/media/nigam/b5749eb7-d3f1-4495-adeb-2c318fb7d0de/MAC/my_mlelec/src/mlelec/utils/twocenter_utils.py:512\u001b[0m, in \u001b[0;36m_to_uncoupled_basis\u001b[0;34m(blocks, orbitals, cg, device)\u001b[0m\n\u001b[1;32m    510\u001b[0m \u001b[38;5;28;01mfor\u001b[39;00m idx, block \u001b[38;5;129;01min\u001b[39;00m blocks\u001b[38;5;241m.\u001b[39mitems():\n\u001b[1;32m    511\u001b[0m     block_type \u001b[38;5;241m=\u001b[39m idx[\u001b[38;5;124m\"\u001b[39m\u001b[38;5;124mblock_type\u001b[39m\u001b[38;5;124m\"\u001b[39m]\n\u001b[0;32m--> 512\u001b[0m     ai \u001b[38;5;241m=\u001b[39m \u001b[43midx\u001b[49m\u001b[43m[\u001b[49m\u001b[38;5;124;43m\"\u001b[39;49m\u001b[38;5;124;43mspecies_i\u001b[39;49m\u001b[38;5;124;43m\"\u001b[39;49m\u001b[43m]\u001b[49m\n\u001b[1;32m    513\u001b[0m     ni \u001b[38;5;241m=\u001b[39m idx[\u001b[38;5;124m\"\u001b[39m\u001b[38;5;124mn_i\u001b[39m\u001b[38;5;124m\"\u001b[39m]\n\u001b[1;32m    514\u001b[0m     li \u001b[38;5;241m=\u001b[39m idx[\u001b[38;5;124m\"\u001b[39m\u001b[38;5;124ml_i\u001b[39m\u001b[38;5;124m\"\u001b[39m]\n",
      "File \u001b[0;32m~/miniconda3/lib/python3.11/site-packages/metatensor/labels.py:121\u001b[0m, in \u001b[0;36mLabelsEntry.__getitem__\u001b[0;34m(self, dimension)\u001b[0m\n\u001b[1;32m    119\u001b[0m         i \u001b[38;5;241m=\u001b[39m \u001b[38;5;28mself\u001b[39m\u001b[38;5;241m.\u001b[39m_names\u001b[38;5;241m.\u001b[39mindex(dimension)\n\u001b[1;32m    120\u001b[0m     \u001b[38;5;28;01mexcept\u001b[39;00m \u001b[38;5;167;01mValueError\u001b[39;00m:\n\u001b[0;32m--> 121\u001b[0m         \u001b[38;5;28;01mraise\u001b[39;00m \u001b[38;5;167;01mValueError\u001b[39;00m(\n\u001b[1;32m    122\u001b[0m             \u001b[38;5;124mf\u001b[39m\u001b[38;5;124m\"\u001b[39m\u001b[38;5;124m'\u001b[39m\u001b[38;5;132;01m{\u001b[39;00mdimension\u001b[38;5;132;01m}\u001b[39;00m\u001b[38;5;124m'\u001b[39m\u001b[38;5;124m not found in the dimensions of these Labels\u001b[39m\u001b[38;5;124m\"\u001b[39m\n\u001b[1;32m    123\u001b[0m         )\n\u001b[1;32m    125\u001b[0m     \u001b[38;5;28;01mreturn\u001b[39;00m \u001b[38;5;28mself\u001b[39m\u001b[38;5;241m.\u001b[39m_values[i]\n\u001b[1;32m    127\u001b[0m \u001b[38;5;28;01melse\u001b[39;00m:\n",
      "\u001b[0;31mValueError\u001b[0m: 'species_i' not found in the dimensions of these Labels"
     ]
    }
   ],
   "source": [
    "linmod.forward()"
   ]
  },
  {
   "cell_type": "code",
   "execution_count": null,
   "metadata": {},
   "outputs": [],
   "source": [
    "https://stackoverflow.com/questions/62067400/understanding-accumulated-gradients-in-pytorch\n",
    "    "
   ]
  },
  {
   "cell_type": "code",
   "execution_count": 16,
   "metadata": {},
   "outputs": [],
   "source": [
    "# grad of dipole moment\n",
    "\n",
    "\n",
    "for ifr, pred in enumerate(predicted_xyz[:]):\n",
    "    #gradient of the x component of the p vector\n",
    "    gradients[ifr][:, 0,:] = torch.autograd.grad(pred[0], systems[ifr].positions, retain_graph = True)[0]\n",
    "    #gradient of the y component of the p vector\n",
    "    gradients[ifr][:, 1,:] = torch.autograd.grad(pred[1], systems[ifr].positions, retain_graph = True)[0]\n",
    "    #gradient of the z component of the p vector\n",
    "    gradients[ifr][:, 2,:] = torch.autograd.grad(pred[2], systems[ifr].positions, retain_graph = True)[0]"
   ]
  },
  {
   "cell_type": "markdown",
   "metadata": {},
   "source": [
    "## Calculate the dipole moment of water molecule"
   ]
  },
  {
   "cell_type": "code",
   "execution_count": 8,
   "metadata": {},
   "outputs": [
    {
     "name": "stdout",
     "output_type": "stream",
     "text": [
      "Loading\n",
      "Number of frames:  1\n",
      "['0 O 1s    ', '0 O 2s    ', '0 O 2px   ', '0 O 2py   ', '0 O 2pz   ', '1 H 1s    ', '2 H 1s    ']\n",
      "converged: True\n",
      "Dipole moment(X, Y, Z, Debye):  1.50259,  1.24095,  0.00000\n"
     ]
    }
   ],
   "source": [
    "from mlelec.data.pyscf_calculator import calculator\n",
    "\n",
    "calc= calculator(\n",
    "        path=\"examples/data/water_1000/\",\n",
    "        mol_name=\"water_1000\",\n",
    "        frame_slice=\"0:1\",\n",
    "        target = ['fock', 'dipole_moment'],\n",
    "    )\n",
    "calc.calculate(   basis_set=\"sto-3g\", verbose = 1)"
   ]
  },
  {
   "cell_type": "code",
   "execution_count": 10,
   "metadata": {},
   "outputs": [
    {
     "data": {
      "text/plain": [
       "defaultdict(list, {8: ['1s', '2s', '2px', '2py', '2pz'], 1: ['1s']})"
      ]
     },
     "execution_count": 10,
     "metadata": {},
     "output_type": "execute_result"
    }
   ],
   "source": [
    "calc.ao_labels"
   ]
  },
  {
   "cell_type": "code",
   "execution_count": 11,
   "metadata": {},
   "outputs": [
    {
     "name": "stdout",
     "output_type": "stream",
     "text": [
      "1 s\n",
      "2 s\n",
      "2 px\n",
      "2 py\n",
      "2 pz\n",
      "1 s\n",
      "{8: [[1, 0, 0], [2, 0, 0], [2, 1, 1], [2, 1, -1], [2, 1, 0]], 1: [[1, 0, 0]]}\n",
      "All done, results saved at:  examples/data/water/\n"
     ]
    },
    {
     "name": "stderr",
     "output_type": "stream",
     "text": [
      "/home/nigam/miniconda3/lib/python3.11/site-packages/hickle/lookup.py:1491: SerializedWarning: 'Tensor' type not understood, data is serialized:\n",
      "  warnings.warn(\n"
     ]
    }
   ],
   "source": [
    "calc.save_results(path= 'examples/data/water/')"
   ]
  },
  {
   "cell_type": "code",
   "execution_count": 7,
   "metadata": {},
   "outputs": [
    {
     "data": {
      "text/plain": [
       "tensor([[ 1.5026e+00,  1.2409e+00,  7.1681e-18],\n",
       "        [ 1.2997e+00,  1.4442e+00, -4.3135e-18],\n",
       "        [-1.4773e+00, -3.6498e-12,  8.5239e-01],\n",
       "        ...,\n",
       "        [ 1.0386e+00,  1.2824e+00,  8.0541e-18],\n",
       "        [ 6.6561e-01,  1.3449e+00,  1.0759e-16],\n",
       "        [ 1.3267e+00,  1.3025e+00,  2.3448e-17]], dtype=torch.float64)"
      ]
     },
     "execution_count": 7,
     "metadata": {},
     "output_type": "execute_result"
    }
   ],
   "source": [
    "calc.results['dipole_moment']\n"
   ]
  },
  {
   "cell_type": "code",
   "execution_count": 8,
   "metadata": {},
   "outputs": [
    {
     "data": {
      "text/plain": [
       "tensor([[[-2.0247e+01, -5.1670e+00, -2.6695e-02,  ...,  6.7615e-19,\n",
       "          -1.5899e+00, -1.1728e+00],\n",
       "         [-5.1670e+00, -2.4826e+00, -1.6115e-01,  ...,  5.5728e-19,\n",
       "          -1.2659e+00, -1.0295e+00],\n",
       "         [-2.6695e-02, -1.6115e-01, -4.2632e-01,  ...,  1.9056e-17,\n",
       "          -6.1406e-01, -1.0659e-01],\n",
       "         ...,\n",
       "         [ 6.7615e-19,  5.5728e-19,  1.9056e-17,  ..., -4.0814e-01,\n",
       "          -2.3783e-17,  2.4632e-17],\n",
       "         [-1.5899e+00, -1.2659e+00, -6.1406e-01,  ..., -2.3783e-17,\n",
       "          -8.0231e-01, -5.7995e-01],\n",
       "         [-1.1728e+00, -1.0295e+00, -1.0659e-01,  ...,  2.4632e-17,\n",
       "          -5.7995e-01, -5.9604e-01]],\n",
       "\n",
       "        [[-2.0234e+01, -5.1672e+00, -2.3115e-02,  ...,  1.1899e-19,\n",
       "          -1.5852e+00, -1.5562e+00],\n",
       "         [-5.1672e+00, -2.5008e+00, -1.3644e-01,  ..., -6.4699e-20,\n",
       "          -1.2619e+00, -1.2463e+00],\n",
       "         [-2.3115e-02, -1.3644e-01, -4.2727e-01,  ...,  2.0885e-17,\n",
       "          -5.9718e-01, -1.8235e-03],\n",
       "         ...,\n",
       "         [ 1.1899e-19, -6.4699e-20,  2.0885e-17,  ..., -4.0962e-01,\n",
       "          -1.8656e-17,  1.9259e-17],\n",
       "         [-1.5852e+00, -1.2619e+00, -5.9718e-01,  ..., -1.8656e-17,\n",
       "          -7.8341e-01, -6.1149e-01],\n",
       "         [-1.5562e+00, -1.2463e+00, -1.8235e-03,  ...,  1.9259e-17,\n",
       "          -6.1149e-01, -7.6876e-01]],\n",
       "\n",
       "        [[-2.0235e+01, -5.1629e+00,  2.5107e-02,  ..., -1.4486e-02,\n",
       "          -1.1551e+00, -1.1551e+00],\n",
       "         [-5.1629e+00, -2.4412e+00,  1.0432e-01,  ..., -6.0188e-02,\n",
       "          -9.9928e-01, -9.9928e-01],\n",
       "         [ 2.5107e-02,  1.0432e-01, -3.3415e-01,  ...,  1.4645e-02,\n",
       "           1.1769e-01,  5.1023e-01],\n",
       "         ...,\n",
       "         [-1.4486e-02, -6.0188e-02,  1.4645e-02,  ..., -3.1722e-01,\n",
       "          -5.2132e-01,  1.5902e-01],\n",
       "         [-1.1551e+00, -9.9928e-01,  1.1769e-01,  ..., -5.2132e-01,\n",
       "          -5.5924e-01, -3.7545e-01],\n",
       "         [-1.1551e+00, -9.9928e-01,  5.1023e-01,  ...,  1.5902e-01,\n",
       "          -3.7545e-01, -5.5924e-01]],\n",
       "\n",
       "        ...,\n",
       "\n",
       "        [[-2.0272e+01, -5.1673e+00, -1.6230e-02,  ...,  2.9126e-18,\n",
       "          -5.4332e-01, -1.2406e+00],\n",
       "         [-5.1673e+00, -2.4310e+00, -4.0415e-02,  ..., -9.1803e-19,\n",
       "          -5.8204e-01, -1.0511e+00],\n",
       "         [-1.6230e-02, -4.0415e-02, -1.9068e-01,  ...,  7.6190e-17,\n",
       "          -4.1857e-01, -1.0764e-01],\n",
       "         ...,\n",
       "         [ 2.9126e-18, -9.1803e-19,  7.6190e-17,  ..., -4.0190e-01,\n",
       "          -3.0502e-17,  5.0388e-17],\n",
       "         [-5.4332e-01, -5.8204e-01, -4.1857e-01,  ..., -3.0502e-17,\n",
       "          -2.9617e-01, -3.3429e-01],\n",
       "         [-1.2406e+00, -1.0511e+00, -1.0764e-01,  ...,  5.0388e-17,\n",
       "          -3.3429e-01, -6.2178e-01]],\n",
       "\n",
       "        [[-2.0244e+01, -5.1625e+00, -8.5321e-03,  ...,  7.0732e-19,\n",
       "          -5.3124e-01, -1.2169e+00],\n",
       "         [-5.1625e+00, -2.4095e+00,  1.6264e-02,  ..., -1.4818e-18,\n",
       "          -5.6497e-01, -1.0273e+00],\n",
       "         [-8.5321e-03,  1.6264e-02, -1.8622e-01,  ...,  2.0356e-16,\n",
       "          -3.9453e-01,  1.6923e-01],\n",
       "         ...,\n",
       "         [ 7.0732e-19, -1.4818e-18,  2.0356e-16,  ..., -3.8440e-01,\n",
       "          -1.7712e-17,  2.6320e-17],\n",
       "         [-5.3124e-01, -5.6497e-01, -3.9453e-01,  ..., -1.7712e-17,\n",
       "          -2.6696e-01, -2.0362e-01],\n",
       "         [-1.2169e+00, -1.0273e+00,  1.6923e-01,  ...,  2.6320e-17,\n",
       "          -2.0362e-01, -5.8775e-01]],\n",
       "\n",
       "        [[-2.0256e+01, -5.1664e+00, -2.1047e-02,  ...,  1.9510e-18,\n",
       "          -8.9574e-01, -1.4346e+00],\n",
       "         [-5.1664e+00, -2.4587e+00, -8.9055e-02,  ..., -3.1017e-18,\n",
       "          -8.4944e-01, -1.1748e+00],\n",
       "         [-2.1047e-02, -8.9055e-02, -2.7797e-01,  ...,  2.1469e-17,\n",
       "          -5.1516e-01, -1.5278e-01],\n",
       "         ...,\n",
       "         [ 1.9510e-18, -3.1017e-18,  2.1469e-17,  ..., -4.0414e-01,\n",
       "          -9.7003e-18,  1.6089e-17],\n",
       "         [-8.9574e-01, -8.4944e-01, -5.1516e-01,  ..., -9.7003e-18,\n",
       "          -4.6895e-01, -5.0081e-01],\n",
       "         [-1.4346e+00, -1.1748e+00, -1.5278e-01,  ...,  1.6089e-17,\n",
       "          -5.0081e-01, -7.2829e-01]]], dtype=torch.float64)"
      ]
     },
     "execution_count": 8,
     "metadata": {},
     "output_type": "execute_result"
    }
   ],
   "source": [
    "calc.results['fock']"
   ]
  },
  {
   "cell_type": "code",
   "execution_count": null,
   "metadata": {},
   "outputs": [],
   "source": []
  }
 ],
 "metadata": {
  "kernelspec": {
   "display_name": "Python 3 (ipykernel)",
   "language": "python",
   "name": "python3"
  },
  "language_info": {
   "codemirror_mode": {
    "name": "ipython",
    "version": 3
   },
   "file_extension": ".py",
   "mimetype": "text/x-python",
   "name": "python",
   "nbconvert_exporter": "python",
   "pygments_lexer": "ipython3",
   "version": "3.11.5"
  },
  "toc": {
   "base_numbering": 1,
   "nav_menu": {},
   "number_sections": true,
   "sideBar": true,
   "skip_h1_title": false,
   "title_cell": "Table of Contents",
   "title_sidebar": "Contents",
   "toc_cell": false,
   "toc_position": {},
   "toc_section_display": true,
   "toc_window_display": false
  }
 },
 "nbformat": 4,
 "nbformat_minor": 2
}
