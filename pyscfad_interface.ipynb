{
 "cells": [
  {
   "cell_type": "code",
   "execution_count": 1,
   "metadata": {},
   "outputs": [],
   "source": [
    "%load_ext autoreload\n",
    "%autoreload 2"
   ]
  },
  {
   "cell_type": "code",
   "execution_count": 2,
   "metadata": {},
   "outputs": [],
   "source": [
    "from mlelec.data.dataset import precomputed_molecules, MoleculeDataset, MLDataset, get_dataloader\n",
    "import torch\n",
    "from ase.io import read\n",
    "import ase\n",
    "from mlelec.models.linear import LinearTargetModel\n",
    "from mlelec.features.acdc import compute_features_for_target\n",
    "from IPython.utils import io"
   ]
  },
  {
   "cell_type": "code",
   "execution_count": 3,
   "metadata": {},
   "outputs": [
    {
     "name": "stdout",
     "output_type": "stream",
     "text": [
      "sys.version_info(major=3, minor=11, micro=5, releaselevel='final', serial=0)\n",
      "2.3.0\n",
      "0.1.2\n"
     ]
    }
   ],
   "source": [
    "import sys \n",
    "import pyscf, pyscfad\n",
    "print(sys.version_info)\n",
    "print(pyscf.__version__)\n",
    "print(pyscfad.__version__)\n"
   ]
  },
  {
   "cell_type": "code",
   "execution_count": 4,
   "metadata": {},
   "outputs": [
    {
     "name": "stdout",
     "output_type": "stream",
     "text": [
      "Loading structures\n",
      "examples/data/water_1000/sto-3g/fock.hickle\n",
      "examples/data/water_1000/sto-3g/dipole_moment.hickle\n",
      "Computing features with default hypers\n"
     ]
    },
    {
     "name": "stderr",
     "output_type": "stream",
     "text": [
      "/home/nigam/miniconda3/lib/python3.11/site-packages/rascaline/systems/ase.py:57: UserWarning: periodic boundary conditions are disabled, but the cell matrix is not zero, we will set the cell to zero.\n",
      "  warnings.warn(\n"
     ]
    }
   ],
   "source": [
    "water_data = MoleculeDataset(mol_name='water_1000', frame_slice=slice(0,200),  device='cuda', aux=['overlap', 'orbitals'], target=[\"fock\", \"dipole_moment\"])\n",
    "ml_data = MLDataset(molecule_data=water_data, device ='cuda', model_strategy = \"coupled\")\n",
    "\n",
    "ml_data._shuffle(random_seed=5380)\n",
    "ml_data._split_indices(train_frac=0.7, val_frac=0.2)\n",
    "#assumed args.model_type = 'acdc'\n",
    "if ml_data.features is None: \n",
    "    ml_data._set_features(compute_features_for_target(ml_data, device='cuda'))\n",
    "\n",
    "train_dl, val_dl, test_dl = get_dataloader(ml_data, model_return= 'tensor')\n",
    "# next(iter(train_dl))"
   ]
  },
  {
   "cell_type": "markdown",
   "metadata": {},
   "source": [
    "## 1. Learn Hamiltonian then predict dipole"
   ]
  },
  {
   "cell_type": "code",
   "execution_count": 22,
   "metadata": {},
   "outputs": [],
   "source": [
    "model = LinearTargetModel(dataset = ml_data, nlayers = 1, nhidden = 16, bias = False, device = 'cuda')"
   ]
  },
  {
   "cell_type": "code",
   "execution_count": 23,
   "metadata": {},
   "outputs": [],
   "source": [
    "from cmath import inf\n",
    "best = inf\n",
    "early_stop_criteria =  10 "
   ]
  },
  {
   "cell_type": "code",
   "execution_count": 24,
   "metadata": {},
   "outputs": [],
   "source": [
    "optimizer = torch.optim.Adam(model.parameters(), lr=1e-3)\n",
    "scheduler = torch.optim.lr_scheduler.ReduceLROnPlateau(optimizer, factor=0.5, patience=10, verbose=True)\n",
    "import mlelec.metrics as mlmetrics\n",
    "val_interval = 10\n",
    "loss_fn = getattr(mlmetrics, 'L2_loss')\n",
    "losses=[]\n",
    "early_stop_count = 0\n"
   ]
  },
  {
   "cell_type": "code",
   "execution_count": 25,
   "metadata": {},
   "outputs": [
    {
     "name": "stdout",
     "output_type": "stream",
     "text": [
      "Epoch 0, train loss 462.95987853278535\n",
      "Epoch 0 val loss 441.6532839589898\n",
      "Epoch 10, train loss 5.8631769241150575\n",
      "Epoch 10 val loss 3.766819132877007\n",
      "Epoch 20, train loss 1.9318194083224345\n",
      "Epoch 20 val loss 1.8118898962798404\n",
      "Epoch 30, train loss 1.3506038389008153\n",
      "Epoch 30 val loss 1.2654273477733144\n",
      "Epoch 40, train loss 1.0305076747323796\n",
      "Epoch 40 val loss 0.9843053593080245\n",
      "Epoch 50, train loss 0.8857030108592749\n",
      "Epoch 50 val loss 0.7242746097896844\n",
      "Epoch 60, train loss 1.017152272278283\n",
      "Epoch 60 val loss 0.8919096019890216\n",
      "Epoch 70, train loss 0.8431376878419865\n",
      "Epoch 70 val loss 0.8994411199714145\n",
      "Epoch 80, train loss 0.9008245495295076\n",
      "Epoch 80 val loss 0.6799362415339285\n",
      "Epoch 90, train loss 0.8556155980885519\n",
      "Epoch 90 val loss 0.5966697051283202\n",
      "Epoch 100, train loss 0.964322425665469\n",
      "Epoch 100 val loss 0.7399460882062244\n",
      "Epoch 110, train loss 0.8939658596937357\n",
      "Epoch 110 val loss 0.8117343962133475\n",
      "Epoch 120, train loss 0.9059325448372387\n",
      "Epoch 120 val loss 0.6516525941604734\n",
      "Epoch 130, train loss 0.8927714889119762\n",
      "Epoch 130 val loss 0.8520664900579701\n",
      "Epoch 140, train loss 0.8076510166895274\n",
      "Epoch 140 val loss 0.7210013039828755\n",
      "Epoch 150, train loss 0.816149808276664\n",
      "Epoch 150 val loss 0.5934053580638556\n",
      "Epoch 160, train loss 0.8525910146368798\n",
      "Epoch 160 val loss 0.8351558104985736\n",
      "Epoch 170, train loss 0.8142712488801576\n",
      "Epoch 170 val loss 0.6317249291084156\n",
      "Epoch 180, train loss 0.8116636270815484\n",
      "Epoch 180 val loss 0.6801136938864685\n",
      "Epoch 190, train loss 0.8968036663072088\n",
      "Epoch 190 val loss 0.7669471997555187\n",
      "Epoch 200, train loss 0.7423259658782096\n",
      "Epoch 200 val loss 0.7675338050597986\n",
      "Epoch 210, train loss 0.8785674046951394\n",
      "Epoch 210 val loss 0.8154984316031436\n",
      "Epoch 220, train loss 0.8191864608628356\n",
      "Epoch 220 val loss 0.7608534150204522\n",
      "Epoch 230, train loss 0.868899928481906\n",
      "Epoch 230 val loss 0.6080807875479954\n",
      "Epoch 240, train loss 0.941864204595978\n",
      "Epoch 240 val loss 0.6333690693990474\n",
      "Epoch 250, train loss 0.8934368367123002\n",
      "Epoch 250 val loss 0.7956968286690584\n",
      "Early stopping at epoch 260\n",
      "Epoch 260, train loss 0.8221905966461716\n",
      "Epoch 260 val loss 0.7396394120085912\n"
     ]
    }
   ],
   "source": [
    "for epoch in range(800):\n",
    "    # train_pred = []\n",
    "    # target=[]\n",
    "    model.train(True)\n",
    "    train_loss =0\n",
    "    for i, data in enumerate(train_dl):\n",
    "        optimizer.zero_grad()\n",
    "        pred = model(data['input'], return_type='tensor', batch_indices=data['idx'])\n",
    "        # target.append(data['output'])\n",
    "        # train_pred.append(pred)\n",
    "        loss = loss_fn(pred, data['output'])\n",
    "        train_loss += loss.item()\n",
    "        loss.backward()\n",
    "        optimizer.step()\n",
    "    # train_loss = loss_fn(torch.cat(train_pred), torch.cat(target))\n",
    "    # print(train_loss - epoch_loss)\n",
    "    losses.append(train_loss)\n",
    "    # scheduler.step(train_loss)\n",
    "    model.train(False)\n",
    "\n",
    "    if epoch% val_interval == 0:\n",
    "        # val_pred = []\n",
    "        # val= []\n",
    "        val_loss = 0\n",
    "        for i, data in enumerate(val_dl):\n",
    "            pred = model(data['input'], return_type='tensor', batch_indices=data['idx'])\n",
    "            vloss = loss_fn(pred, data['output'])\n",
    "            val_loss += vloss.item()\n",
    "            # val.append(data['output'])\n",
    "            # val_pred.append(pred)\n",
    "        new_best = val_loss < best \n",
    "        if new_best:\n",
    "            best = val_loss\n",
    "            torch.save(model.state_dict(), 'best_model.pt')\n",
    "            early_stop_count = 0\n",
    "        else: \n",
    "            early_stop_count+=1\n",
    "        if early_stop_count > early_stop_criteria:\n",
    "            print(f'Early stopping at epoch {epoch}')\n",
    "            print(f'Epoch {epoch}, train loss {train_loss/len(ml_data.train_idx)}')\n",
    "\n",
    "            print(f'Epoch {epoch} val loss {val_loss/len(ml_data.val_idx)}')\n",
    "            # Save last best model\n",
    "            break\n",
    "\n",
    "        # val_loss = loss_fn(torch.cat(val_pred), torch.cat(val))\n",
    "    if epoch % 10 == 0:\n",
    "        print(f'Epoch {epoch}, train loss {train_loss/len(ml_data.train_idx)}')\n",
    "\n",
    "        print(f'Epoch {epoch} val loss {val_loss/len(ml_data.val_idx)}')\n",
    "    "
   ]
  },
  {
   "cell_type": "code",
   "execution_count": 26,
   "metadata": {},
   "outputs": [
    {
     "data": {
      "text/plain": [
       "[<matplotlib.lines.Line2D at 0x7f2e19c40e90>]"
      ]
     },
     "execution_count": 26,
     "metadata": {},
     "output_type": "execute_result"
    },
    {
     "data": {
      "image/png": "[encoded data removed]",
      "text/plain": [
       "<Figure size 640x480 with 1 Axes>"
      ]
     },
     "metadata": {},
     "output_type": "display_data"
    }
   ],
   "source": [
    "import matplotlib.pyplot as plt\n",
    "plt.loglog(losses)"
   ]
  },
  {
   "cell_type": "markdown",
   "metadata": {},
   "source": [
    "### Input model prediction into pyscf to compute dipole moment "
   ]
  },
  {
   "cell_type": "code",
   "execution_count": 5,
   "metadata": {},
   "outputs": [
    {
     "name": "stdout",
     "output_type": "stream",
     "text": [
      "Using PyTorch backend.\n"
     ]
    },
    {
     "name": "stderr",
     "output_type": "stream",
     "text": [
      "/home/nigam/miniconda3/lib/python3.11/site-packages/pyscf/dft/libxc.py:772: UserWarning: Since PySCF-2.3, B3LYP (and B3P86) are changed to the VWN-RPA variant, the same to the B3LYP functional in Gaussian and ORCA (issue 1480). To restore the VWN5 definition, you can put the setting \"B3LYP_WITH_VWN5 = True\" in pyscf_conf.py\n",
      "  warnings.warn('Since PySCF-2.3, B3LYP (and B3P86) are changed to the VWN-RPA variant, '\n"
     ]
    }
   ],
   "source": [
    "import os\n",
    "os.environ['PYSCFAD_BACKEND']='torch'\n",
    "\n",
    "import torch\n",
    "from pyscf import gto\n",
    "\n",
    "from pyscfad import numpy as pynp\n",
    "from pyscfad import ops\n",
    "from pyscfad.ml.scf import hf\n",
    "import pyscf.pbc.tools.pyscf_ase as pyscf_ase"
   ]
  },
  {
   "cell_type": "code",
   "execution_count": 6,
   "metadata": {},
   "outputs": [],
   "source": [
    "from mlelec.data.pyscf_calculator import _instantiate_pyscf_mol\n",
    "from mlelec.utils.twocenter_utils import fix_orbital_order, unfix_orbital_order\n",
    "import mlelec.metrics as mlmetrics"
   ]
  },
  {
   "cell_type": "code",
   "execution_count": 7,
   "metadata": {},
   "outputs": [],
   "source": [
    "import sys\n",
    "import os\n",
    "class HiddenPrints:\n",
    "    def __enter__(self):\n",
    "        self._original_stdout = sys.stdout\n",
    "        sys.stdout = open(os.devnull, 'w')\n",
    "        sys._jupyter_stdout = sys.stdout\n",
    "\n",
    "    def __exit__(self, exc_type, exc_val, exc_tb):\n",
    "        sys.stdout.close()\n",
    "        sys.stdout = self._original_stdout\n",
    "        sys._jupyter_stdout = sys.stdout"
   ]
  },
  {
   "cell_type": "code",
   "execution_count": 8,
   "metadata": {},
   "outputs": [],
   "source": [
    "def compute_dipole_moment(frames, fock_predictions, overlaps):\n",
    "    assert len(frames) == len(fock_predictions) == len(overlaps), \"Length of frames, fock_predictions, and overlaps must be the same\"\n",
    "    dipoles  = []\n",
    "    for i, frame in enumerate(frames):\n",
    "        mol = _instantiate_pyscf_mol(frame)\n",
    "        mf = hf.SCF(mol)\n",
    "        fock = torch.autograd.Variable(fock_predictions[i].type(torch.float64), requires_grad=True)\n",
    "\n",
    "        mo_energy, mo_coeff = mf.eig(fock, overlaps[i])\n",
    "        mo_occ = mf.get_occ(mo_energy) # get_occ returns a numpy array\n",
    "        mo_occ = ops.convert_to_tensor(mo_occ)\n",
    "        dm1 = mf.make_rdm1(mo_coeff, mo_occ)\n",
    "        dip = mf.dip_moment(dm=dm1)\n",
    "        dipoles.append(dip)\n",
    "    return torch.stack(dipoles)"
   ]
  },
  {
   "cell_type": "code",
   "execution_count": 33,
   "metadata": {},
   "outputs": [
    {
     "name": "stdout",
     "output_type": "stream",
     "text": [
      "(TEST) MSE on dipole tensor(0.3084, device='cuda:0', dtype=torch.float64, grad_fn=<DivBackward0>)\n"
     ]
    }
   ],
   "source": [
    "#TEST set \n",
    "\n",
    "# with HiddenPrints():\n",
    "with io.capture_output() as captured:\n",
    "\n",
    "    fock_predictions = model.forward(ml_data.feat_test, return_type='tensor')\n",
    "    # convert prediction back to pyscf order\n",
    "    fock_predictions = unfix_orbital_order(fock_predictions, ml_data.test_frames, ml_data.molecule_data.aux_data['orbitals'])\n",
    "    \n",
    "    dipole_predictions = compute_dipole_moment(ml_data.test_frames, fock_predictions,ml_data.molecule_data.aux_data['overlap'][ml_data.test_idx])\n",
    "    # very imp to pass the right overlap matrix\n",
    "\n",
    "\n",
    "error = mlmetrics.L2_loss(dipole_predictions, ml_data.molecule_data.target['dipole_moment'][ml_data.test_idx])\n",
    "print('(TEST) MSE on dipole', error/len(dipole_predictions)) "
   ]
  },
  {
   "cell_type": "code",
   "execution_count": 34,
   "metadata": {},
   "outputs": [],
   "source": [
    "# Entire dataset \n",
    "with io.capture_output() as captured:\n",
    "\n",
    "    fock_predictions = model.forward(ml_data.features, return_type='tensor')\n",
    "    # convert prediction back to pyscf order \n",
    "    fock_predictions = unfix_orbital_order(fock_predictions, ml_data.structures, ml_data.molecule_data.aux_data['orbitals'])\n",
    "    dipole_predictions = compute_dipole_moment(ml_data.structures, fock_predictions,ml_data.molecule_data.aux_data['overlap']); "
   ]
  },
  {
   "cell_type": "code",
   "execution_count": 35,
   "metadata": {},
   "outputs": [
    {
     "name": "stdout",
     "output_type": "stream",
     "text": [
      "MSE on dipole tensor(0.2465, device='cuda:0', dtype=torch.float64, grad_fn=<DivBackward0>)\n"
     ]
    }
   ],
   "source": [
    "error = mlmetrics.L2_loss(dipole_predictions, ml_data.molecule_data.target['dipole_moment'])\n",
    "print('MSE on dipole', error/len(dipole_predictions))"
   ]
  },
  {
   "cell_type": "markdown",
   "metadata": {},
   "source": [
    "## 2. Indirect learning of dipole moment through pyscfad "
   ]
  },
  {
   "cell_type": "code",
   "execution_count": 9,
   "metadata": {},
   "outputs": [],
   "source": [
    "import mlelec.metrics as mlmetrics"
   ]
  },
  {
   "cell_type": "code",
   "execution_count": 10,
   "metadata": {},
   "outputs": [],
   "source": [
    "import warnings \n",
    "def instantiate_mf(ml_data: MLDataset, fock_predictions, batch_indices):\n",
    "    if len(batch_indices) != len(fock_predictions):\n",
    "        warnings.warn('Converting shapes')\n",
    "        fock_predictions = fock_predictions.reshape(1,*fock_predictions.shape)\n",
    "    mfs = []\n",
    "    fockvar = []\n",
    "    for i, idx in enumerate(batch_indices):\n",
    "        mol = _instantiate_pyscf_mol(ml_data.structures[idx])\n",
    "        mf = hf.SCF(mol)\n",
    "        fock = torch.autograd.Variable(fock_predictions[i].type(torch.float64), requires_grad=True)\n",
    "        mfs.append(mf)\n",
    "        fockvar.append(fock)\n",
    "    return mfs, torch.stack(fockvar)\n",
    "\n",
    "def compute_dipole_moment_frommf(mfs, fock_vars, overlaps):\n",
    "    print(fock_vars.dtype, overlaps.dtype)\n",
    "    dipoles  = []\n",
    "    for i in range(len(mfs)):\n",
    "        mf = mfs[i]\n",
    "        fock = fock_vars[i]\n",
    "        overlaps[i] = overlaps[i].to(fock)\n",
    "        mo_energy, mo_coeff = mf.eig(fock, overlaps[i])\n",
    "        mo_occ = mf.get_occ(mo_energy) # get_occ returns a numpy array\n",
    "        mo_occ = ops.convert_to_tensor(mo_occ)\n",
    "        dm1 = mf.make_rdm1(mo_coeff, mo_occ)\n",
    "        dip = mf.dip_moment(dm=dm1)\n",
    "        dipoles.append(dip)\n",
    "    return torch.stack(dipoles)"
   ]
  },
  {
   "cell_type": "code",
   "execution_count": 18,
   "metadata": {},
   "outputs": [],
   "source": [
    "def compute_dipole_moment_from_batchidx(ml_data: MLDataset, batch_fockvars, batch_indices, mfs):\n",
    "    # Convert fock predictions back to pyscf order\n",
    "    # Compute dipole moment for each molecule in batch\n",
    "    batch_frames = [ml_data.structures[i] for i in batch_indices]\n",
    "    batch_fock = unfix_orbital_order(batch_fockvars, batch_frames, ml_data.molecule_data.aux_data['orbitals'])\n",
    "    batch_overlap = ml_data.molecule_data.aux_data['overlap'][batch_indices].to(batch_fock)\n",
    "    print(len(batch_frames), len(batch_fock), len(batch_overlap))\n",
    "    batch_mfs = [mfs[i] for i in batch_indices]\n",
    "    return compute_dipole_moment_frommf(batch_mfs, batch_fock, batch_overlap)\n"
   ]
  },
  {
   "cell_type": "code",
   "execution_count": 12,
   "metadata": {},
   "outputs": [],
   "source": [
    "from cmath import inf\n",
    "best = inf\n",
    "early_stop_criteria =  10 "
   ]
  },
  {
   "cell_type": "code",
   "execution_count": 13,
   "metadata": {},
   "outputs": [],
   "source": [
    "model = LinearTargetModel(dataset = ml_data, nlayers = 1, nhidden = 16, bias = False, device = 'cuda')\n",
    "optimizer = torch.optim.Adam(model.parameters(), lr=1e-3)\n",
    "scheduler = torch.optim.lr_scheduler.ReduceLROnPlateau(optimizer, factor=0.5, patience=10, verbose=True)\n",
    "\n",
    "val_interval = 10"
   ]
  },
  {
   "cell_type": "code",
   "execution_count": null,
   "metadata": {},
   "outputs": [],
   "source": [
    "all_focks = model(ml_data.features , return_type='tensor').type(torch.float64)\n",
    "all_mfs = instantiate_mf(ml_data, all_focks, idx = list(range(len(ml_))))[0]"
   ]
  },
  {
   "cell_type": "code",
   "execution_count": 17,
   "metadata": {},
   "outputs": [],
   "source": [
    "train_focks = model(ml_data.feat_train , return_type='tensor').type(torch.float64)\n",
    "\n",
    "train_mfs, train_focks = instantiate_mf(ml_data, train_focks, ml_data.train_idx)\n",
    "\n",
    "val_focks = model(ml_data.feat_val, return_type='tensor').type(torch.float64)\n",
    "\n",
    "val_mfs, val_focks = instantiate_mf(ml_data, val_focks, ml_data.val_idx)\n"
   ]
  },
  {
   "cell_type": "code",
   "execution_count": 16,
   "metadata": {},
   "outputs": [
    {
     "name": "stdout",
     "output_type": "stream",
     "text": [
      "torch.Size([4, 3]) torch.Size([4, 3]) [199, 107, 41, 32]\n",
      "torch.Size([4, 3]) torch.Size([4, 3]) [96, 95, 115, 147]\n",
      "torch.Size([4, 3]) torch.Size([4, 3]) [68, 143, 57, 117]\n",
      "torch.Size([4, 3]) torch.Size([4, 3]) [142, 24, 64, 140]\n",
      "torch.Size([4, 3]) torch.Size([4, 3]) [13, 26, 44, 35]\n",
      "torch.Size([4, 3]) torch.Size([4, 3]) [112, 9, 179, 14]\n",
      "torch.Size([4, 3]) torch.Size([4, 3]) [146, 149, 10, 49]\n",
      "torch.Size([4, 3]) torch.Size([4, 3]) [106, 94, 5, 89]\n",
      "torch.Size([4, 3]) torch.Size([4, 3]) [83, 137, 158, 28]\n",
      "torch.Size([3, 3]) torch.Size([3, 3]) [136, 144, 82]\n",
      "Epoch 0, train loss 0.02341648604221277\n",
      "Epoch 0 val loss 0.03470706547770126\n",
      "torch.Size([3, 3]) torch.Size([4, 3]) [95, 24, 9, 89]\n"
     ]
    },
    {
     "ename": "RuntimeError",
     "evalue": "The size of tensor a (3) must match the size of tensor b (4) at non-singleton dimension 0",
     "output_type": "error",
     "traceback": [
      "\u001b[0;31m---------------------------------------------------------------------------\u001b[0m",
      "\u001b[0;31mRuntimeError\u001b[0m                              Traceback (most recent call last)",
      "\u001b[1;32m/home/nigam/scratch/MAC/my_mlelec/pyscfad_interface.ipynb Cell 25\u001b[0m line \u001b[0;36m3\n\u001b[1;32m     <a href='vscode-notebook-cell:/home/nigam/scratch/MAC/my_mlelec/pyscfad_interface.ipynb#Y323sZmlsZQ%3D%3D?line=36'>37</a>\u001b[0m         val_dip_pred \u001b[39m=\u001b[39m compute_dipole_moment_from_batchidx(ml_data, val_focks, batch_indices\u001b[39m=\u001b[39mbatch_indices, mfs\u001b[39m=\u001b[39mval_mfs)\n\u001b[1;32m     <a href='vscode-notebook-cell:/home/nigam/scratch/MAC/my_mlelec/pyscfad_interface.ipynb#Y323sZmlsZQ%3D%3D?line=37'>38</a>\u001b[0m     \u001b[39mprint\u001b[39m(val_dip_pred\u001b[39m.\u001b[39mshape, ml_data\u001b[39m.\u001b[39mmolecule_data\u001b[39m.\u001b[39mtarget[\u001b[39m'\u001b[39m\u001b[39mdipole_moment\u001b[39m\u001b[39m'\u001b[39m][batch_indices]\u001b[39m.\u001b[39mshape, batch_indices)\n\u001b[0;32m---> <a href='vscode-notebook-cell:/home/nigam/scratch/MAC/my_mlelec/pyscfad_interface.ipynb#Y323sZmlsZQ%3D%3D?line=38'>39</a>\u001b[0m     vloss \u001b[39m=\u001b[39m loss_fn(val_dip_pred, ml_data\u001b[39m.\u001b[39;49mmolecule_data\u001b[39m.\u001b[39;49mtarget[\u001b[39m'\u001b[39;49m\u001b[39mdipole_moment\u001b[39;49m\u001b[39m'\u001b[39;49m][batch_indices])\n\u001b[1;32m     <a href='vscode-notebook-cell:/home/nigam/scratch/MAC/my_mlelec/pyscfad_interface.ipynb#Y323sZmlsZQ%3D%3D?line=39'>40</a>\u001b[0m     val_loss \u001b[39m+\u001b[39m\u001b[39m=\u001b[39m vloss\u001b[39m.\u001b[39mitem()\n\u001b[1;32m     <a href='vscode-notebook-cell:/home/nigam/scratch/MAC/my_mlelec/pyscfad_interface.ipynb#Y323sZmlsZQ%3D%3D?line=40'>41</a>\u001b[0m new_best \u001b[39m=\u001b[39m val_loss \u001b[39m<\u001b[39m best \n",
      "File \u001b[0;32m/media/nigam/b5749eb7-d3f1-4495-adeb-2c318fb7d0de/MAC/my_mlelec/src/mlelec/metrics.py:9\u001b[0m, in \u001b[0;36mL2_loss\u001b[0;34m(pred, target)\u001b[0m\n\u001b[1;32m      7\u001b[0m \u001b[39m\u001b[39m\u001b[39m\"\"\"L2 loss function\"\"\"\u001b[39;00m\n\u001b[1;32m      8\u001b[0m \u001b[39m# target = target.to(pred)\u001b[39;00m\n\u001b[0;32m----> 9\u001b[0m \u001b[39mreturn\u001b[39;00m torch\u001b[39m.\u001b[39msum((pred \u001b[39m-\u001b[39;49m target) \u001b[39m*\u001b[39m\u001b[39m*\u001b[39m \u001b[39m2\u001b[39m)\n",
      "\u001b[0;31mRuntimeError\u001b[0m: The size of tensor a (3) must match the size of tensor b (4) at non-singleton dimension 0"
     ]
    }
   ],
   "source": [
    "loss_fn = getattr(mlmetrics, 'L2_loss')\n",
    "losses=[]\n",
    "early_stop_count = 0\n",
    "for epoch in range(300):\n",
    "    model.train(True)\n",
    "    train_loss =0\n",
    "    for i, data in enumerate(train_dl):\n",
    "        optimizer.zero_grad()\n",
    "        batch_indices = data['idx']\n",
    "        # print(batch_indices)\n",
    "        train_focks = model(data['input'], return_type='tensor', batch_indices=batch_indices).type(torch.float64)\n",
    "        with io.capture_output() as captured:\n",
    "        # with HiddenPrints():\n",
    "            # if epoch == 0:\n",
    "            #     train_mfs, train_focks = instantiate_mf(ml_data, train_focks, batch_indices )\n",
    "            #     print(len(train_mfs), len(train_focks), len(batch_indices))\n",
    "            train_dip_pred = compute_dipole_moment_from_batchidx(ml_data, train_focks, batch_indices=batch_indices, mfs=train_mfs)\n",
    "        loss = loss_fn(train_dip_pred, ml_data.molecule_data.target['dipole_moment'][batch_indices])\n",
    "        train_loss += loss.item()\n",
    "        loss.backward()\n",
    "        optimizer.step()\n",
    "    # train_loss = loss_fn(torch.cat(train_pred), torch.cat(target))\n",
    "    # print(train_loss - epoch_loss)\n",
    "    losses.append(train_loss)\n",
    "    # scheduler.step(train_loss)\n",
    "    model.train(False)\n",
    "\n",
    "    if epoch% val_interval == 0:\n",
    "        val_loss = 0\n",
    "        for i, data in enumerate(val_dl):\n",
    "            batch_indices = data['idx']\n",
    "            val_focks = model(data['input'], return_type='tensor', batch_indices=batch_indices).type(torch.float64)\n",
    "            with io.capture_output() as captured:\n",
    "            # with HiddenPrints():\n",
    "                if epoch == 0:\n",
    "                    val_mfs, val_focks = instantiate_mf(ml_data, val_focks, batch_indices )\n",
    "                val_dip_pred = compute_dipole_moment_from_batchidx(ml_data, val_focks, batch_indices=batch_indices, mfs=val_mfs)\n",
    "            print(val_dip_pred.shape, ml_data.molecule_data.target['dipole_moment'][batch_indices].shape, batch_indices)\n",
    "            vloss = loss_fn(val_dip_pred, ml_data.molecule_data.target['dipole_moment'][batch_indices])\n",
    "            val_loss += vloss.item()\n",
    "        new_best = val_loss < best \n",
    "        if new_best:\n",
    "            best = val_loss\n",
    "            # torch.save(model.state_dict(), 'best_model_dipole.pt')\n",
    "            early_stop_count = 0\n",
    "        else: \n",
    "            early_stop_count+=1\n",
    "        if early_stop_count > early_stop_criteria:\n",
    "            print(f'Early stopping at epoch {epoch}')\n",
    "            print(f'Epoch {epoch}, train loss {train_loss/len(ml_data.train_idx)}')\n",
    "\n",
    "            print(f'Epoch {epoch} val loss {val_loss/len(ml_data.val_idx)}')\n",
    "            # Save last best model\n",
    "            break\n",
    "\n",
    "        # val_loss = loss_fn(torch.cat(val_pred), torch.cat(val))\n",
    "    if epoch % 10 == 0:\n",
    "        print(f'Epoch {epoch}, train loss {train_loss/len(ml_data.train_idx)}')\n",
    "\n",
    "        print(f'Epoch {epoch} val loss {val_loss/len(ml_data.val_idx)}')\n",
    "    "
   ]
  },
  {
   "cell_type": "code",
   "execution_count": null,
   "metadata": {},
   "outputs": [
    {
     "name": "stdout",
     "output_type": "stream",
     "text": [
      "(TEST) MSE on dipole tensor(3.6236e-12, device='cuda:0', dtype=torch.float64,\n",
      "       grad_fn=<DivBackward0>)\n"
     ]
    }
   ],
   "source": [
    "with io.capture_output() as captured:\n",
    "    batch_indices = ml_data.test_idx\n",
    "    test_fock_predictions = model.forward(ml_data.feat_test, return_type='tensor').type(torch.float64)\n",
    "    # convert prediction back to pyscf order\n",
    "    test_mfs, test_focks = instantiate_mf(ml_data, test_fock_predictions, batch_indices )\n",
    "    test_dip_pred = compute_dipole_moment_from_batchidx(ml_data, test_fock_predictions, batch_indices=batch_indices, mfs=test_mfs)\n",
    "    # very imp to pass the right overlap matrix\n",
    "\n",
    "\n",
    "error = mlmetrics.L2_loss(test_dip_pred, ml_data.molecule_data.target['dipole_moment'][ml_data.test_idx])\n",
    "print('(TEST) MSE on dipole', error/len(test_dip_pred))"
   ]
  },
  {
   "cell_type": "code",
   "execution_count": null,
   "metadata": {},
   "outputs": [],
   "source": []
  },
  {
   "cell_type": "markdown",
   "metadata": {},
   "source": [
    "# We can overfit on just rotated structures "
   ]
  },
  {
   "cell_type": "code",
   "execution_count": 5,
   "metadata": {},
   "outputs": [
    {
     "name": "stdout",
     "output_type": "stream",
     "text": [
      "Loading structures\n",
      "examples/data/water_rotated/sto-3g/fock.hickle\n",
      "examples/data/water_rotated/sto-3g/dipole_moment.hickle\n",
      "Computing features with default hypers\n"
     ]
    },
    {
     "name": "stderr",
     "output_type": "stream",
     "text": [
      "/home/nigam/miniconda3/lib/python3.11/site-packages/rascaline/systems/ase.py:57: UserWarning: periodic boundary conditions are disabled, but the cell matrix is not zero, we will set the cell to zero.\n",
      "  warnings.warn(\n"
     ]
    }
   ],
   "source": [
    "water_data = MoleculeDataset(mol_name='water_rotated', frame_slice=slice(0,100),  device='cuda', aux=['overlap', 'orbitals'], target=[\"fock\", \"dipole_moment\"])\n",
    "ml_data = MLDataset(molecule_data=water_data, device ='cuda', model_strategy = \"coupled\")\n",
    "\n",
    "# ml_data._shuffle(random_seed=5380)\n",
    "ml_data._split_indices(train_frac=0.4, val_frac=0.33)\n",
    "#assumed args.model_type = 'acdc'\n",
    "if ml_data.features is None: \n",
    "    ml_data._set_features(compute_features_for_target(ml_data, device='cuda'))\n",
    "\n"
   ]
  },
  {
   "cell_type": "code",
   "execution_count": 6,
   "metadata": {},
   "outputs": [],
   "source": [
    "train_dl, val_dl, test_dl = get_dataloader(ml_data, model_return= 'tensor')\n",
    "# next(iter(train_dl))"
   ]
  },
  {
   "cell_type": "markdown",
   "metadata": {},
   "source": [
    "## training on rotated structures "
   ]
  },
  {
   "cell_type": "code",
   "execution_count": 7,
   "metadata": {},
   "outputs": [],
   "source": [
    "model = LinearTargetModel(dataset = ml_data, nlayers = 1, nhidden = 16, bias = False, device = 'cuda')"
   ]
  },
  {
   "cell_type": "code",
   "execution_count": 8,
   "metadata": {},
   "outputs": [],
   "source": [
    "from cmath import inf\n",
    "best = inf\n",
    "early_stop_criteria =  10 "
   ]
  },
  {
   "cell_type": "code",
   "execution_count": 9,
   "metadata": {},
   "outputs": [],
   "source": [
    "optimizer = torch.optim.Adam(model.parameters(), lr=1e-3)\n",
    "scheduler = torch.optim.lr_scheduler.ReduceLROnPlateau(optimizer, factor=0.5, patience=10, verbose=True)\n",
    "import mlelec.metrics as mlmetrics\n",
    "val_interval = 10\n",
    "loss_fn = getattr(mlmetrics, 'L2_loss')\n",
    "losses=[]\n",
    "early_stop_count = 0\n"
   ]
  },
  {
   "cell_type": "code",
   "execution_count": 10,
   "metadata": {},
   "outputs": [
    {
     "name": "stdout",
     "output_type": "stream",
     "text": [
      "Epoch 0, train loss 480.6221471109374\n",
      "Epoch 0 val loss 479.6697718800906\n",
      "Epoch 10, train loss 471.067940931348\n",
      "Epoch 10 val loss 470.07432046560285\n",
      "Epoch 20, train loss 460.5452746793023\n",
      "Epoch 20 val loss 459.41386976932336\n",
      "Epoch 30, train loss 448.51430957752297\n",
      "Epoch 30 val loss 447.2212151794173\n",
      "Epoch 40, train loss 434.8163762364184\n",
      "Epoch 40 val loss 433.35173403945134\n",
      "Epoch 50, train loss 419.394049535435\n",
      "Epoch 50 val loss 417.75839236533676\n",
      "Epoch 60, train loss 402.31622244719415\n",
      "Epoch 60 val loss 400.5242073677908\n",
      "Epoch 70, train loss 383.78575865653283\n",
      "Epoch 70 val loss 381.8637295122723\n",
      "Epoch 80, train loss 364.1001015139956\n",
      "Epoch 80 val loss 362.08097041657\n",
      "Epoch 90, train loss 343.5972824317196\n",
      "Epoch 90 val loss 341.51489354079655\n",
      "Epoch 100, train loss 322.60118737197865\n",
      "Epoch 100 val loss 320.48553902797124\n",
      "Epoch 110, train loss 301.38706441313224\n",
      "Epoch 110 val loss 299.2625421243271\n",
      "Epoch 120, train loss 280.17292045612527\n",
      "Epoch 120 val loss 278.05829901281874\n",
      "Epoch 130, train loss 259.1249612760588\n",
      "Epoch 130 val loss 257.0343781514643\n",
      "Epoch 140, train loss 238.36724031403483\n",
      "Epoch 140 val loss 236.31121093580407\n",
      "Epoch 150, train loss 217.99251486134105\n",
      "Epoch 150 val loss 215.97906654704028\n",
      "Epoch 160, train loss 198.0762107819464\n",
      "Epoch 160 val loss 196.11260204925392\n",
      "Epoch 170, train loss 178.69350050188095\n",
      "Epoch 170 val loss 176.78785831983802\n",
      "Epoch 180, train loss 159.93384293220115\n",
      "Epoch 180 val loss 158.09619549214355\n",
      "Epoch 190, train loss 141.90665180448767\n",
      "Epoch 190 val loss 140.14891308143552\n",
      "Epoch 200, train loss 124.73659394317214\n",
      "Epoch 200 val loss 123.0717261264063\n",
      "Epoch 210, train loss 108.55220101124699\n",
      "Epoch 210 val loss 106.99271259488519\n",
      "Epoch 220, train loss 93.47254904497245\n",
      "Epoch 220 val loss 92.02936690506182\n",
      "Epoch 230, train loss 79.59626112842915\n",
      "Epoch 230 val loss 78.27781176063128\n",
      "Epoch 240, train loss 66.99418725029865\n",
      "Epoch 240 val loss 65.80585439464825\n",
      "Epoch 250, train loss 55.705655318225354\n",
      "Epoch 250 val loss 54.64959234288684\n",
      "Epoch 260, train loss 45.737404124866394\n",
      "Epoch 260 val loss 44.81250137496227\n",
      "Epoch 270, train loss 37.064639028382935\n",
      "Epoch 270 val loss 36.266770276668666\n",
      "Epoch 280, train loss 29.633923407857132\n",
      "Epoch 280 val loss 28.956339836269017\n",
      "Epoch 290, train loss 23.367322987455452\n",
      "Epoch 290 val loss 22.801077623055797\n",
      "Epoch 300, train loss 18.167595893211928\n",
      "Epoch 300 val loss 17.702121316630567\n",
      "Epoch 310, train loss 13.92400440396401\n",
      "Epoch 310 val loss 13.547730224704392\n",
      "Epoch 320, train loss 10.518564705489238\n",
      "Epoch 320 val loss 10.219489035551165\n",
      "Epoch 330, train loss 7.831725362167545\n",
      "Epoch 330 val loss 7.5980359750066695\n",
      "Epoch 340, train loss 5.74757659350204\n",
      "Epoch 340 val loss 5.5680680275896215\n",
      "Epoch 350, train loss 4.158098689219944\n",
      "Epoch 350 val loss 4.0225039422569795\n",
      "Epoch 360, train loss 2.9660037584865058\n",
      "Epoch 360 val loss 2.865273336756371\n",
      "Epoch 370, train loss 2.0865388331682513\n",
      "Epoch 370 val loss 2.01291596395469\n",
      "Epoch 380, train loss 1.4480674493223942\n",
      "Epoch 380 val loss 1.3951050864712433\n",
      "Epoch 390, train loss 0.9917601308730389\n",
      "Epoch 390 val loss 0.9542425056049562\n",
      "Epoch 400, train loss 0.6705474058123113\n",
      "Epoch 400 val loss 0.6443625709467616\n",
      "Epoch 410, train loss 0.44772901025879625\n",
      "Epoch 410 val loss 0.42971204592156614\n",
      "Epoch 420, train loss 0.2953320690962386\n",
      "Epoch 420 val loss 0.283111847004136\n",
      "Epoch 430, train loss 0.19251518619057434\n",
      "Epoch 430 val loss 0.184332327061375\n",
      "Epoch 440, train loss 0.1240532589152218\n",
      "Epoch 440 val loss 0.11864514265112773\n",
      "Epoch 450, train loss 0.07904095590088342\n",
      "Epoch 450 val loss 0.07551205979652757\n",
      "Epoch 460, train loss 0.0498092305779583\n",
      "Epoch 460 val loss 0.04753291140824228\n",
      "Epoch 470, train loss 0.03104977000997539\n",
      "Epoch 470 val loss 0.029599068865213025\n",
      "Epoch 480, train loss 0.01915141380757535\n",
      "Epoch 480 val loss 0.01823665051030572\n",
      "Epoch 490, train loss 0.011688070711021563\n",
      "Epoch 490 val loss 0.011118226190472218\n",
      "Epoch 500, train loss 0.007058982840221053\n",
      "Epoch 500 val loss 0.0067077075533684945\n",
      "Epoch 510, train loss 0.0042192443791439415\n",
      "Epoch 510 val loss 0.004005216557278323\n",
      "Epoch 520, train loss 0.002495824607427838\n",
      "Epoch 520 val loss 0.0023668017643400574\n",
      "Epoch 530, train loss 0.0014610909838555855\n",
      "Epoch 530 val loss 0.0013841218244743784\n",
      "Epoch 540, train loss 0.0008464458229658755\n",
      "Epoch 540 val loss 0.0008010140574677754\n",
      "Epoch 550, train loss 0.00048527343538476864\n",
      "Epoch 550 val loss 0.00045875516584494583\n",
      "Epoch 560, train loss 0.0002752636639301316\n",
      "Epoch 560 val loss 0.000259914482921553\n",
      "Epoch 570, train loss 0.00015443852694061754\n",
      "Epoch 570 val loss 0.00014570071496888397\n",
      "Epoch 580, train loss 8.576855164733978e-05\n",
      "Epoch 580 val loss 8.079097267728772e-05\n",
      "Epoch 590, train loss 4.7082745938259946e-05\n",
      "Epoch 590 val loss 4.4298245138272815e-05\n",
      "Epoch 600, train loss 2.5557351118934664e-05\n",
      "Epoch 600 val loss 2.4037835770633934e-05\n",
      "Epoch 610, train loss 1.3727213000173732e-05\n",
      "Epoch 610 val loss 1.2905994633345818e-05\n",
      "Epoch 620, train loss 7.289206669055451e-06\n",
      "Epoch 620 val loss 6.84308685775311e-06\n",
      "Epoch 630, train loss 3.8184301431629254e-06\n",
      "Epoch 630 val loss 3.5836195396507624e-06\n",
      "Epoch 640, train loss 1.978726664834227e-06\n",
      "Epoch 640 val loss 1.85203740339039e-06\n",
      "Epoch 650, train loss 1.0122980250102664e-06\n",
      "Epoch 650 val loss 9.443916639293617e-07\n",
      "Epoch 660, train loss 5.129637398748813e-07\n",
      "Epoch 660 val loss 4.780614319663422e-07\n",
      "Epoch 670, train loss 2.5260106294956355e-07\n",
      "Epoch 670 val loss 2.3749690337278292e-07\n",
      "Epoch 680, train loss 1.2519196488590848e-07\n",
      "Epoch 680 val loss 1.1592325827692871e-07\n",
      "Epoch 690, train loss 6.101811283661752e-08\n",
      "Epoch 690 val loss 5.639888089999499e-08\n",
      "Epoch 700, train loss 2.9148783310280205e-08\n",
      "Epoch 700 val loss 2.722893010694e-08\n",
      "Epoch 710, train loss 1.3767425601053512e-08\n",
      "Epoch 710 val loss 1.2888131460337695e-08\n",
      "Epoch 720, train loss 6.273250330401877e-09\n",
      "Epoch 720 val loss 5.685017568512125e-09\n",
      "Epoch 730, train loss 2.5625431465731515e-09\n",
      "Epoch 730 val loss 2.19262484125471e-09\n",
      "Epoch 740, train loss 1.2528848644384963e-09\n",
      "Epoch 740 val loss 1.2540507693273925e-09\n",
      "Epoch 750, train loss 1.1218992540376975e-09\n",
      "Epoch 750 val loss 1.1230874421539308e-09\n",
      "Epoch 760, train loss 1.1219203335403971e-09\n",
      "Epoch 760 val loss 1.1230852906681012e-09\n",
      "Epoch 770, train loss 1.1220061142835945e-09\n",
      "Epoch 770 val loss 1.1230870600397601e-09\n",
      "Epoch 780, train loss 1.1218990518260406e-09\n",
      "Epoch 780 val loss 1.1230885915626679e-09\n",
      "Epoch 790, train loss 1.1220078074766654e-09\n",
      "Epoch 790 val loss 1.1230831874809509e-09\n"
     ]
    }
   ],
   "source": [
    "for epoch in range(800):\n",
    "    # train_pred = []\n",
    "    # target=[]\n",
    "    model.train(True)\n",
    "    train_loss =0\n",
    "    for i, data in enumerate(train_dl):\n",
    "        optimizer.zero_grad()\n",
    "        pred = model(data['input'], return_type='tensor', batch_indices=data['idx'])\n",
    "        # target.append(data['output'])\n",
    "        # train_pred.append(pred)\n",
    "        loss = loss_fn(pred, data['output'])\n",
    "        train_loss += loss.item()\n",
    "        loss.backward()\n",
    "        optimizer.step()\n",
    "    # train_loss = loss_fn(torch.cat(train_pred), torch.cat(target))\n",
    "    # print(train_loss - epoch_loss)\n",
    "    losses.append(train_loss)\n",
    "    # scheduler.step(train_loss)\n",
    "    model.train(False)\n",
    "\n",
    "    if epoch% val_interval == 0:\n",
    "        # val_pred = []\n",
    "        # val= []\n",
    "        val_loss = 0\n",
    "        for i, data in enumerate(val_dl):\n",
    "            pred = model(data['input'], return_type='tensor', batch_indices=data['idx'])\n",
    "            vloss = loss_fn(pred, data['output'])\n",
    "            val_loss += vloss.item()\n",
    "            # val.append(data['output'])\n",
    "            # val_pred.append(pred)\n",
    "        new_best = val_loss < best \n",
    "        if new_best:\n",
    "            best = val_loss\n",
    "            torch.save(model.state_dict(), 'best_model.pt')\n",
    "            early_stop_count = 0\n",
    "        else: \n",
    "            early_stop_count+=1\n",
    "        if early_stop_count > early_stop_criteria:\n",
    "            print(f'Early stopping at epoch {epoch}')\n",
    "            print(f'Epoch {epoch}, train loss {train_loss/len(ml_data.train_idx)}')\n",
    "\n",
    "            print(f'Epoch {epoch} val loss {val_loss/len(ml_data.val_idx)}')\n",
    "            # Save last best model\n",
    "            break\n",
    "\n",
    "        # val_loss = loss_fn(torch.cat(val_pred), torch.cat(val))\n",
    "    if epoch % 10 == 0:\n",
    "        print(f'Epoch {epoch}, train loss {train_loss/len(ml_data.train_idx)}')\n",
    "\n",
    "        print(f'Epoch {epoch} val loss {val_loss/len(ml_data.val_idx)}')\n",
    "    "
   ]
  },
  {
   "cell_type": "code",
   "execution_count": 11,
   "metadata": {},
   "outputs": [
    {
     "data": {
      "text/plain": [
       "[<matplotlib.lines.Line2D at 0x7f2e20c95910>]"
      ]
     },
     "execution_count": 11,
     "metadata": {},
     "output_type": "execute_result"
    },
    {
     "data": {
      "image/png": "[encoded data removed]",
      "text/plain": [
       "<Figure size 640x480 with 1 Axes>"
      ]
     },
     "metadata": {},
     "output_type": "display_data"
    }
   ],
   "source": [
    "import matplotlib.pyplot as plt\n",
    "plt.loglog(losses)"
   ]
  },
  {
   "cell_type": "markdown",
   "metadata": {},
   "source": [
    "### Input model prediction into pyscf to compute dipole moment "
   ]
  },
  {
   "cell_type": "code",
   "execution_count": null,
   "metadata": {},
   "outputs": [
    {
     "name": "stdout",
     "output_type": "stream",
     "text": [
      "Using PyTorch backend.\n"
     ]
    },
    {
     "name": "stderr",
     "output_type": "stream",
     "text": [
      "/home/nigam/miniconda3/lib/python3.11/site-packages/pyscf/dft/libxc.py:772: UserWarning: Since PySCF-2.3, B3LYP (and B3P86) are changed to the VWN-RPA variant, the same to the B3LYP functional in Gaussian and ORCA (issue 1480). To restore the VWN5 definition, you can put the setting \"B3LYP_WITH_VWN5 = True\" in pyscf_conf.py\n",
      "  warnings.warn('Since PySCF-2.3, B3LYP (and B3P86) are changed to the VWN-RPA variant, '\n"
     ]
    }
   ],
   "source": [
    "import os\n",
    "os.environ['PYSCFAD_BACKEND']='torch'\n",
    "\n",
    "import torch\n",
    "from pyscf import gto\n",
    "\n",
    "from pyscfad import numpy as pynp\n",
    "from pyscfad import ops\n",
    "from pyscfad.ml.scf import hf\n",
    "import pyscf.pbc.tools.pyscf_ase as pyscf_ase"
   ]
  },
  {
   "cell_type": "code",
   "execution_count": null,
   "metadata": {},
   "outputs": [],
   "source": [
    "from mlelec.data.pyscf_calculator import _instantiate_pyscf_mol\n",
    "from mlelec.utils.twocenter_utils import fix_orbital_order, unfix_orbital_order\n",
    "import mlelec.metrics as mlmetrics"
   ]
  },
  {
   "cell_type": "code",
   "execution_count": null,
   "metadata": {},
   "outputs": [],
   "source": [
    "import sys\n",
    "import os\n",
    "class HiddenPrints:\n",
    "    def __enter__(self):\n",
    "        self._original_stdout = sys.stdout\n",
    "        sys.stdout = open(os.devnull, 'w')\n",
    "        sys._jupyter_stdout = sys.stdout\n",
    "\n",
    "    def __exit__(self, exc_type, exc_val, exc_tb):\n",
    "        sys.stdout.close()\n",
    "        sys.stdout = self._original_stdout\n",
    "        sys._jupyter_stdout = sys.stdout"
   ]
  },
  {
   "cell_type": "code",
   "execution_count": null,
   "metadata": {},
   "outputs": [],
   "source": [
    "def compute_dipole_moment(frames, fock_predictions, overlaps):\n",
    "    assert len(frames) == len(fock_predictions) == len(overlaps), \"Length of frames, fock_predictions, and overlaps must be the same\"\n",
    "    dipoles  = []\n",
    "    for i, frame in enumerate(frames):\n",
    "        mol = _instantiate_pyscf_mol(frame)\n",
    "        mf = hf.SCF(mol)\n",
    "        fock = torch.autograd.Variable(fock_predictions[i].type(torch.float64), requires_grad=True)\n",
    "\n",
    "        mo_energy, mo_coeff = mf.eig(fock, overlaps[i])\n",
    "        mo_occ = mf.get_occ(mo_energy) # get_occ returns a numpy array\n",
    "        mo_occ = ops.convert_to_tensor(mo_occ)\n",
    "        dm1 = mf.make_rdm1(mo_coeff, mo_occ)\n",
    "        dip = mf.dip_moment(dm=dm1)\n",
    "        dipoles.append(dip)\n",
    "    return torch.stack(dipoles)"
   ]
  },
  {
   "cell_type": "code",
   "execution_count": null,
   "metadata": {},
   "outputs": [
    {
     "ename": "NameError",
     "evalue": "name 'model' is not defined",
     "output_type": "error",
     "traceback": [
      "\u001b[0;31m---------------------------------------------------------------------------\u001b[0m",
      "\u001b[0;31mNameError\u001b[0m                                 Traceback (most recent call last)",
      "\u001b[1;32m/home/nigam/scratch/MAC/my_mlelec/pyscfad_interface.ipynb Cell 17\u001b[0m line \u001b[0;36m6\n\u001b[1;32m      <a href='vscode-notebook-cell:/home/nigam/scratch/MAC/my_mlelec/pyscfad_interface.ipynb#Y125sZmlsZQ%3D%3D?line=2'>3</a>\u001b[0m \u001b[39m# with HiddenPrints():\u001b[39;00m\n\u001b[1;32m      <a href='vscode-notebook-cell:/home/nigam/scratch/MAC/my_mlelec/pyscfad_interface.ipynb#Y125sZmlsZQ%3D%3D?line=3'>4</a>\u001b[0m \u001b[39mwith\u001b[39;00m io\u001b[39m.\u001b[39mcapture_output() \u001b[39mas\u001b[39;00m captured:\n\u001b[0;32m----> <a href='vscode-notebook-cell:/home/nigam/scratch/MAC/my_mlelec/pyscfad_interface.ipynb#Y125sZmlsZQ%3D%3D?line=5'>6</a>\u001b[0m     fock_predictions \u001b[39m=\u001b[39m model\u001b[39m.\u001b[39mforward(ml_data\u001b[39m.\u001b[39mfeat_test, return_type\u001b[39m=\u001b[39m\u001b[39m'\u001b[39m\u001b[39mtensor\u001b[39m\u001b[39m'\u001b[39m)\n\u001b[1;32m      <a href='vscode-notebook-cell:/home/nigam/scratch/MAC/my_mlelec/pyscfad_interface.ipynb#Y125sZmlsZQ%3D%3D?line=6'>7</a>\u001b[0m     \u001b[39m# convert prediction back to pyscf order\u001b[39;00m\n\u001b[1;32m      <a href='vscode-notebook-cell:/home/nigam/scratch/MAC/my_mlelec/pyscfad_interface.ipynb#Y125sZmlsZQ%3D%3D?line=7'>8</a>\u001b[0m     test_structures \u001b[39m=\u001b[39m [ml_data\u001b[39m.\u001b[39mstructures[i] \u001b[39mfor\u001b[39;00m i \u001b[39min\u001b[39;00m ml_data\u001b[39m.\u001b[39mtest_idx] \n",
      "\u001b[0;31mNameError\u001b[0m: name 'model' is not defined"
     ]
    }
   ],
   "source": [
    "#TEST set \n",
    "\n",
    "# with HiddenPrints():\n",
    "with io.capture_output() as captured:\n",
    "\n",
    "    fock_predictions = model.forward(ml_data.feat_test, return_type='tensor')\n",
    "    # convert prediction back to pyscf order\n",
    "    fock_predictions = unfix_orbital_order(fock_predictions, ml_data.test_structures, ml_data.molecule_data.aux_data['orbitals'])\n",
    "    \n",
    "    dipole_predictions = compute_dipole_moment(ml_data.test_structures, fock_predictions,ml_data.molecule_data.aux_data['overlap'][ml_data.test_idx])\n",
    "    # very imp to pass the right overlap matrix\n",
    "\n",
    "\n",
    "error = mlmetrics.L2_loss(dipole_predictions, ml_data.molecule_data.target['dipole_moment'][ml_data.test_idx])\n",
    "print('(TEST) MSE on dipole', error/len(dipole_predictions)) "
   ]
  },
  {
   "cell_type": "code",
   "execution_count": null,
   "metadata": {},
   "outputs": [],
   "source": [
    "# Entire dataset \n",
    "with io.capture_output() as captured:\n",
    "\n",
    "    fock_predictions = model.forward(ml_data.features, return_type='tensor')\n",
    "    # convert prediction back to pyscf order \n",
    "    fock_predictions = unfix_orbital_order(fock_predictions, ml_data.structures, ml_data.molecule_data.aux_data['orbitals'])\n",
    "    dipole_predictions = compute_dipole_moment(ml_data.structures, fock_predictions,ml_data.molecule_data.aux_data['overlap']); "
   ]
  },
  {
   "cell_type": "code",
   "execution_count": null,
   "metadata": {},
   "outputs": [
    {
     "name": "stdout",
     "output_type": "stream",
     "text": [
      "MSE on dipole tensor(1.3298e-12, device='cuda:0', dtype=torch.float64,\n",
      "       grad_fn=<DivBackward0>)\n"
     ]
    }
   ],
   "source": [
    "error = mlmetrics.L2_loss(dipole_predictions, ml_data.molecule_data.target['dipole_moment'])\n",
    "print('MSE on dipole', error/len(dipole_predictions))"
   ]
  },
  {
   "cell_type": "markdown",
   "metadata": {},
   "source": [
    "## test equivariance of prediction/features "
   ]
  },
  {
   "cell_type": "code",
   "execution_count": null,
   "metadata": {},
   "outputs": [],
   "source": [
    "import hickle\n",
    "rotations = hickle.load('examples/data/water_rotated/rotations.hickle')\n",
    "r1 = model.forward(ml_data.features, return_type='coupled_blocks')"
   ]
  },
  {
   "cell_type": "code",
   "execution_count": null,
   "metadata": {},
   "outputs": [],
   "source": [
    "r1 = ml_data.features"
   ]
  },
  {
   "cell_type": "code",
   "execution_count": null,
   "metadata": {},
   "outputs": [],
   "source": [
    "from mlelec.utils.metatensor_utils import labels_where\n",
    "from mlelec.utils.symmetry import _wigner_d_real\n",
    "import numpy as np \n",
    "from metatensor import Labels\n",
    "for i, (k,b) in enumerate(r1.items()):\n",
    "    unrot_idx  = labels_where(b.samples, selection = Labels(['structure'], values = np.asarray([[0]]).reshape(-1,1)), \n",
    "    return_idx=True )[-1]\n",
    "    rot_idx = labels_where(b.samples, selection = Labels(['structure'], values = np.asarray([[ml_data.test_idx]]).reshape(-1,1)), return_idx=True)[-1]\n",
    "    # L = k['L']\n",
    "    L = k['spherical_harmonics_l']\n",
    "    wd = _wigner_d_real(L, *rotations[ml_data.test_idx-1]).to(b.values)\n",
    "    if torch.linalg.norm(wd@b.values[unrot_idx] - b.values[rot_idx])>1e-7:\n",
    "        print(torch.linalg.norm(wd@b.values[unrot_idx] - b.values[rot_idx]))"
   ]
  },
  {
   "cell_type": "markdown",
   "metadata": {},
   "source": [
    "## Indirect learning of dipole moment through pyscfad "
   ]
  },
  {
   "cell_type": "code",
   "execution_count": null,
   "metadata": {},
   "outputs": [],
   "source": [
    "import mlelec.metrics as mlmetrics"
   ]
  },
  {
   "cell_type": "code",
   "execution_count": null,
   "metadata": {},
   "outputs": [],
   "source": [
    "import warnings \n",
    "def instantiate_mf(ml_data: MLDataset, fock_predictions, batch_indices):\n",
    "    if len(batch_indices) != len(fock_predictions):\n",
    "        warnings.warn('Converting shapes')\n",
    "        fock_predictions = fock_predictions.reshape(1,*fock_predictions.shape)\n",
    "    mfs = []\n",
    "    fockvar = []\n",
    "    for i, idx in enumerate(batch_indices):\n",
    "        mol = _instantiate_pyscf_mol(ml_data.structures[idx])\n",
    "        mf = hf.SCF(mol)\n",
    "        fock = torch.autograd.Variable(fock_predictions[i].type(torch.float64), requires_grad=True)\n",
    "        mfs.append(mf)\n",
    "        fockvar.append(fock)\n",
    "    return mfs, torch.cat(fockvar)\n",
    "\n",
    "def compute_dipole_moment_frommf(mfs, fock_vars, overlaps):\n",
    "    print(fock_vars.dtype, overlaps.dtype)\n",
    "    dipoles  = []\n",
    "    for i in range(len(mfs)):\n",
    "        mf = mfs[i]\n",
    "        fock = fock_vars[i]\n",
    "        overlaps[i] = overlaps[i].to(fock)\n",
    "        mo_energy, mo_coeff = mf.eig(fock, overlaps[i])\n",
    "        mo_occ = mf.get_occ(mo_energy) # get_occ returns a numpy array\n",
    "        mo_occ = ops.convert_to_tensor(mo_occ)\n",
    "        dm1 = mf.make_rdm1(mo_coeff, mo_occ)\n",
    "        dip = mf.dip_moment(dm=dm1)\n",
    "        dipoles.append(dip)\n",
    "    return torch.stack(dipoles)"
   ]
  },
  {
   "cell_type": "code",
   "execution_count": null,
   "metadata": {},
   "outputs": [],
   "source": [
    "def compute_dipole_moment_from_batchidx(ml_data: MLDataset, batch_fockvars, batch_indices, mfs):\n",
    "    # Convert fock predictions back to pyscf order\n",
    "    # Compute dipole moment for each molecule in batch\n",
    "    batch_frames = [ml_data.structures[i] for i in batch_indices]\n",
    "    batch_fock = unfix_orbital_order(batch_fockvars, batch_frames, ml_data.molecule_data.aux_data['orbitals'])\n",
    "    batch_overlap = ml_data.molecule_data.aux_data['overlap'][batch_indices].to(batch_fock)\n",
    "    print(len(batch_frames), len(batch_fock), len(batch_overlap))\n",
    "    return compute_dipole_moment_frommf(mfs, batch_fock, batch_overlap)\n"
   ]
  },
  {
   "cell_type": "code",
   "execution_count": null,
   "metadata": {},
   "outputs": [],
   "source": [
    "from cmath import inf\n",
    "best = inf\n",
    "early_stop_criteria =  10 "
   ]
  },
  {
   "cell_type": "code",
   "execution_count": null,
   "metadata": {},
   "outputs": [],
   "source": [
    "model = LinearTargetModel(dataset = ml_data, nlayers = 1, nhidden = 16, bias = False, device = 'cuda')\n",
    "optimizer = torch.optim.Adam(model.parameters(), lr=1e-3)\n",
    "scheduler = torch.optim.lr_scheduler.ReduceLROnPlateau(optimizer, factor=0.5, patience=10, verbose=True)\n",
    "\n",
    "val_interval = 10"
   ]
  },
  {
   "cell_type": "code",
   "execution_count": null,
   "metadata": {},
   "outputs": [
    {
     "data": {
      "text/plain": [
       "torch.Size([7, 7])"
      ]
     },
     "execution_count": 36,
     "metadata": {},
     "output_type": "execute_result"
    }
   ],
   "source": [
    "train_focks.shape"
   ]
  },
  {
   "cell_type": "code",
   "execution_count": null,
   "metadata": {},
   "outputs": [
    {
     "name": "stdout",
     "output_type": "stream",
     "text": [
      "Epoch 0, train loss 23.890822617507865\n",
      "Epoch 0 val loss 23.890827610345298\n",
      "Epoch 10, train loss 0.25844257845675\n",
      "Epoch 10 val loss 0.2808343047151666\n",
      "Epoch 20, train loss 0.07868898373478944\n",
      "Epoch 20 val loss 0.056642496020292366\n",
      "Epoch 30, train loss 0.0030995529533909684\n",
      "Epoch 30 val loss 0.005510526882811492\n",
      "Epoch 40, train loss 0.014536936556569131\n",
      "Epoch 40 val loss 0.013285529380427562\n",
      "Epoch 50, train loss 0.0010134080183643297\n",
      "Epoch 50 val loss 0.0004910347735883092\n",
      "Epoch 60, train loss 0.00106229340354553\n",
      "Epoch 60 val loss 0.001180861165248113\n",
      "Epoch 70, train loss 0.0004542081681794029\n",
      "Epoch 70 val loss 0.0003260449352048469\n",
      "Epoch 80, train loss 4.7677173606573505e-05\n",
      "Epoch 80 val loss 7.065522318653241e-05\n",
      "Epoch 90, train loss 7.915291068666748e-05\n",
      "Epoch 90 val loss 6.283436181653282e-05\n",
      "Epoch 100, train loss 2.127319029450375e-06\n",
      "Epoch 100 val loss 4.63705931478635e-06\n",
      "Epoch 110, train loss 1.0708887809057119e-05\n",
      "Epoch 110 val loss 8.727589505492225e-06\n",
      "Epoch 120, train loss 2.403014203490348e-07\n",
      "Epoch 120 val loss 5.701865883884525e-07\n",
      "Epoch 130, train loss 1.3102374100861605e-06\n",
      "Epoch 130 val loss 1.0356571458630192e-06\n",
      "Epoch 140, train loss 7.216712145911522e-08\n",
      "Epoch 140 val loss 1.2692791141304945e-07\n",
      "Epoch 150, train loss 1.3779659434889915e-07\n",
      "Epoch 150 val loss 9.843194332139979e-08\n",
      "Epoch 160, train loss 2.4351050180029117e-08\n",
      "Epoch 160 val loss 3.194040208731063e-08\n",
      "Epoch 170, train loss 9.806474134499067e-09\n",
      "Epoch 170 val loss 5.395607161134187e-09\n",
      "Epoch 180, train loss 6.170391047569166e-09\n",
      "Epoch 180 val loss 6.466949815282122e-09\n",
      "Epoch 190, train loss 1.793740354206311e-10\n",
      "Epoch 190 val loss 1.5703071407531457e-11\n",
      "Epoch 200, train loss 9.97007724561119e-10\n",
      "Epoch 200 val loss 8.755541046240304e-10\n",
      "Epoch 210, train loss 3.765663423846066e-11\n",
      "Epoch 210 val loss 7.529584281605097e-11\n",
      "Epoch 220, train loss 9.404085720603172e-11\n",
      "Epoch 220 val loss 6.345609558895895e-11\n",
      "Epoch 230, train loss 2.5561345744374286e-11\n",
      "Epoch 230 val loss 3.081183157889612e-11\n",
      "Epoch 240, train loss 8.512056108605322e-12\n",
      "Epoch 240 val loss 6.887087700706133e-12\n",
      "Epoch 250, train loss 6.729639063688606e-12\n",
      "Epoch 250 val loss 7.536690746909916e-12\n",
      "Epoch 260, train loss 4.1475466444536875e-12\n",
      "Epoch 260 val loss 4.60197190620545e-12\n",
      "Epoch 270, train loss 4.058320346684626e-12\n",
      "Epoch 270 val loss 4.791822586722678e-12\n",
      "Epoch 280, train loss 4.0317516311540785e-12\n",
      "Epoch 280 val loss 4.8403112651203744e-12\n",
      "Epoch 290, train loss 3.7679114363345674e-12\n",
      "Epoch 290 val loss 4.788251473065859e-12\n"
     ]
    }
   ],
   "source": [
    "loss_fn = getattr(mlmetrics, 'L2_loss')\n",
    "losses=[]\n",
    "early_stop_count = 0\n",
    "for epoch in range(300):\n",
    "    model.train(True)\n",
    "    train_loss =0\n",
    "    for i, data in enumerate(train_dl):\n",
    "        optimizer.zero_grad()\n",
    "        batch_indices = data['idx']\n",
    "        # print(batch_indices)\n",
    "        train_focks = model(data['input'], return_type='tensor', batch_indices=batch_indices).type(torch.float64)\n",
    "        with io.capture_output() as captured:\n",
    "        # with HiddenPrints():\n",
    "            if epoch == 0:\n",
    "                train_mfs, train_focks = instantiate_mf(ml_data, train_focks, batch_indices )\n",
    "            train_dip_pred = compute_dipole_moment_from_batchidx(ml_data, train_focks, batch_indices=batch_indices, mfs=train_mfs)\n",
    "            loss = loss_fn(train_dip_pred, ml_data.molecule_data.target['dipole_moment'][batch_indices])\n",
    "            train_loss += loss.item()\n",
    "            loss.backward()\n",
    "            optimizer.step()\n",
    "    # train_loss = loss_fn(torch.cat(train_pred), torch.cat(target))\n",
    "    # print(train_loss - epoch_loss)\n",
    "    losses.append(train_loss)\n",
    "    # scheduler.step(train_loss)\n",
    "    model.train(False)\n",
    "\n",
    "    if epoch% val_interval == 0:\n",
    "        val_loss = 0\n",
    "        for i, data in enumerate(val_dl):\n",
    "            batch_indices = data['idx']\n",
    "            val_focks = model(data['input'], return_type='tensor', batch_indices=batch_indices).type(torch.float64)\n",
    "            with io.capture_output() as captured:\n",
    "            # with HiddenPrints():\n",
    "                if epoch == 0:\n",
    "                    val_mfs, train_focks = instantiate_mf(ml_data, val_focks, batch_indices )\n",
    "                val_dip_pred = compute_dipole_moment_from_batchidx(ml_data, val_focks, batch_indices=batch_indices, mfs=val_mfs)\n",
    "            vloss = loss_fn(val_dip_pred, ml_data.molecule_data.target['dipole_moment'][batch_indices])\n",
    "            val_loss += vloss.item()\n",
    "        new_best = val_loss < best \n",
    "        if new_best:\n",
    "            best = val_loss\n",
    "            # torch.save(model.state_dict(), 'best_model_dipole.pt')\n",
    "            early_stop_count = 0\n",
    "        else: \n",
    "            early_stop_count+=1\n",
    "        if early_stop_count > early_stop_criteria:\n",
    "            print(f'Early stopping at epoch {epoch}')\n",
    "            print(f'Epoch {epoch}, train loss {train_loss/len(ml_data.train_idx)}')\n",
    "\n",
    "            print(f'Epoch {epoch} val loss {val_loss/len(ml_data.val_idx)}')\n",
    "            # Save last best model\n",
    "            break\n",
    "\n",
    "        # val_loss = loss_fn(torch.cat(val_pred), torch.cat(val))\n",
    "    if epoch % 10 == 0:\n",
    "        print(f'Epoch {epoch}, train loss {train_loss/len(ml_data.train_idx)}')\n",
    "\n",
    "        print(f'Epoch {epoch} val loss {val_loss/len(ml_data.val_idx)}')\n",
    "    "
   ]
  },
  {
   "cell_type": "code",
   "execution_count": null,
   "metadata": {},
   "outputs": [
    {
     "name": "stdout",
     "output_type": "stream",
     "text": [
      "(TEST) MSE on dipole tensor(3.6236e-12, device='cuda:0', dtype=torch.float64,\n",
      "       grad_fn=<DivBackward0>)\n"
     ]
    }
   ],
   "source": [
    "with io.capture_output() as captured:\n",
    "    batch_indices = ml_data.test_idx\n",
    "    test_fock_predictions = model.forward(ml_data.feat_test, return_type='tensor').type(torch.float64)\n",
    "    # convert prediction back to pyscf order\n",
    "    test_mfs, test_focks = instantiate_mf(ml_data, test_fock_predictions, batch_indices )\n",
    "    test_dip_pred = compute_dipole_moment_from_batchidx(ml_data, test_fock_predictions, batch_indices=batch_indices, mfs=test_mfs)\n",
    "    # very imp to pass the right overlap matrix\n",
    "\n",
    "\n",
    "error = mlmetrics.L2_loss(test_dip_pred, ml_data.molecule_data.target['dipole_moment'][ml_data.test_idx])\n",
    "print('(TEST) MSE on dipole', error/len(test_dip_pred))"
   ]
  },
  {
   "cell_type": "markdown",
   "metadata": {},
   "source": [
    "## Calculate the target dipole moment of water molecule in case data not found"
   ]
  },
  {
   "cell_type": "code",
   "execution_count": null,
   "metadata": {},
   "outputs": [
    {
     "name": "stdout",
     "output_type": "stream",
     "text": [
      "Loading\n",
      "Number of frames:  1\n",
      "['0 O 1s    ', '0 O 2s    ', '0 O 2px   ', '0 O 2py   ', '0 O 2pz   ', '1 H 1s    ', '2 H 1s    ']\n",
      "converged: True\n",
      "Dipole moment(X, Y, Z, Debye):  1.50259,  1.24095,  0.00000\n"
     ]
    }
   ],
   "source": [
    "from mlelec.data.pyscf_calculator import calculator\n",
    "\n",
    "calc= calculator(\n",
    "        path=\"examples/data/water_1000/\",\n",
    "        mol_name=\"water_1000\",\n",
    "        frame_slice=\"0:1\",\n",
    "        target = ['fock', 'dipole_moment'],\n",
    "    )\n",
    "calc.calculate(   basis_set=\"sto-3g\", verbose = 1)"
   ]
  },
  {
   "cell_type": "code",
   "execution_count": null,
   "metadata": {},
   "outputs": [
    {
     "data": {
      "text/plain": [
       "defaultdict(list, {8: ['1s', '2s', '2px', '2py', '2pz'], 1: ['1s']})"
      ]
     },
     "execution_count": 10,
     "metadata": {},
     "output_type": "execute_result"
    }
   ],
   "source": [
    "calc.ao_labels"
   ]
  },
  {
   "cell_type": "code",
   "execution_count": null,
   "metadata": {},
   "outputs": [
    {
     "name": "stdout",
     "output_type": "stream",
     "text": [
      "1 s\n",
      "2 s\n",
      "2 px\n",
      "2 py\n",
      "2 pz\n",
      "1 s\n",
      "{8: [[1, 0, 0], [2, 0, 0], [2, 1, 1], [2, 1, -1], [2, 1, 0]], 1: [[1, 0, 0]]}\n",
      "All done, results saved at:  examples/data/water/\n"
     ]
    },
    {
     "name": "stderr",
     "output_type": "stream",
     "text": [
      "/home/nigam/miniconda3/lib/python3.11/site-packages/hickle/lookup.py:1491: SerializedWarning: 'Tensor' type not understood, data is serialized:\n",
      "  warnings.warn(\n"
     ]
    }
   ],
   "source": [
    "calc.save_results(path= 'examples/data/water/')"
   ]
  },
  {
   "cell_type": "markdown",
   "metadata": {},
   "source": [
    "## grad of dipole moment vector"
   ]
  },
  {
   "cell_type": "code",
   "execution_count": null,
   "metadata": {},
   "outputs": [],
   "source": [
    "https://stackoverflow.com/questions/62067400/understanding-accumulated-gradients-in-pytorch\n",
    "    "
   ]
  },
  {
   "cell_type": "code",
   "execution_count": null,
   "metadata": {},
   "outputs": [
    {
     "ename": "NameError",
     "evalue": "name 'predicted_xyz' is not defined",
     "output_type": "error",
     "traceback": [
      "\u001b[0;31m---------------------------------------------------------------------------\u001b[0m",
      "\u001b[0;31mNameError\u001b[0m                                 Traceback (most recent call last)",
      "\u001b[1;32m/home/nigam/scratch/MAC/my_mlelec/pyscfad_interface.ipynb Cell 33\u001b[0m line \u001b[0;36m4\n\u001b[1;32m      <a href='vscode-notebook-cell:/home/nigam/scratch/MAC/my_mlelec/pyscfad_interface.ipynb#X55sZmlsZQ%3D%3D?line=0'>1</a>\u001b[0m \u001b[39m# grad of dipole moment\u001b[39;00m\n\u001b[0;32m----> <a href='vscode-notebook-cell:/home/nigam/scratch/MAC/my_mlelec/pyscfad_interface.ipynb#X55sZmlsZQ%3D%3D?line=3'>4</a>\u001b[0m \u001b[39mfor\u001b[39;00m ifr, pred \u001b[39min\u001b[39;00m \u001b[39menumerate\u001b[39m(predicted_xyz[:]):\n\u001b[1;32m      <a href='vscode-notebook-cell:/home/nigam/scratch/MAC/my_mlelec/pyscfad_interface.ipynb#X55sZmlsZQ%3D%3D?line=4'>5</a>\u001b[0m     \u001b[39m#gradient of the x component of the p vector\u001b[39;00m\n\u001b[1;32m      <a href='vscode-notebook-cell:/home/nigam/scratch/MAC/my_mlelec/pyscfad_interface.ipynb#X55sZmlsZQ%3D%3D?line=5'>6</a>\u001b[0m     gradients[ifr][:, \u001b[39m0\u001b[39m,:] \u001b[39m=\u001b[39m torch\u001b[39m.\u001b[39mautograd\u001b[39m.\u001b[39mgrad(pred[\u001b[39m0\u001b[39m], systems[ifr]\u001b[39m.\u001b[39mpositions, retain_graph \u001b[39m=\u001b[39m \u001b[39mTrue\u001b[39;00m)[\u001b[39m0\u001b[39m]\n\u001b[1;32m      <a href='vscode-notebook-cell:/home/nigam/scratch/MAC/my_mlelec/pyscfad_interface.ipynb#X55sZmlsZQ%3D%3D?line=6'>7</a>\u001b[0m     \u001b[39m#gradient of the y component of the p vector\u001b[39;00m\n",
      "\u001b[0;31mNameError\u001b[0m: name 'predicted_xyz' is not defined"
     ]
    }
   ],
   "source": [
    "# grad of dipole moment\n",
    "\n",
    "\n",
    "for ifr, pred in enumerate(predicted_xyz[:]):\n",
    "    #gradient of the x component of the p vector\n",
    "    gradients[ifr][:, 0,:] = torch.autograd.grad(pred[0], systems[ifr].positions, retain_graph = True)[0]\n",
    "    #gradient of the y component of the p vector\n",
    "    gradients[ifr][:, 1,:] = torch.autograd.grad(pred[1], systems[ifr].positions, retain_graph = True)[0]\n",
    "    #gradient of the z component of the p vector\n",
    "    gradients[ifr][:, 2,:] = torch.autograd.grad(pred[2], systems[ifr].positions, retain_graph = True)[0]"
   ]
  }
 ],
 "metadata": {
  "kernelspec": {
   "display_name": "Python 3 (ipykernel)",
   "language": "python",
   "name": "python3"
  },
  "language_info": {
   "codemirror_mode": {
    "name": "ipython",
    "version": 3
   },
   "file_extension": ".py",
   "mimetype": "text/x-python",
   "name": "python",
   "nbconvert_exporter": "python",
   "pygments_lexer": "ipython3",
   "version": "3.11.5"
  },
  "toc": {
   "base_numbering": 1,
   "nav_menu": {},
   "number_sections": true,
   "sideBar": true,
   "skip_h1_title": false,
   "title_cell": "Table of Contents",
   "title_sidebar": "Contents",
   "toc_cell": false,
   "toc_position": {},
   "toc_section_display": true,
   "toc_window_display": false
  }
 },
 "nbformat": 4,
 "nbformat_minor": 2
}
