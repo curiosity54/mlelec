{
 "cells": [
  {
   "cell_type": "code",
   "execution_count": 1,
   "id": "e78f2d86-1a50-4563-a7e3-5030f90b9169",
   "metadata": {},
   "outputs": [],
   "source": [
    "%load_ext autoreload\n",
    "%autoreload 2\n",
    "%load_ext memory_profiler"
   ]
  },
  {
   "cell_type": "markdown",
   "id": "38bd9a57-7c8e-4d70-80c6-f817d35bb151",
   "metadata": {},
   "source": [
    "TESTS \n",
    "- hex hex22\n",
    "- benzene/ testJT\n",
    "- equiv\n",
    "  "
   ]
  },
  {
   "cell_type": "markdown",
   "id": "5ab92a44-4e57-4112-bcdf-7bdba9f8888f",
   "metadata": {},
   "source": [
    "Import modules"
   ]
  },
  {
   "cell_type": "code",
   "execution_count": 2,
   "id": "ff84274a-981b-4bb7-86f0-eadf1e6ae409",
   "metadata": {},
   "outputs": [
    {
     "name": "stderr",
     "output_type": "stream",
     "text": [
      "/home/nigam/miniconda3/envs/temp/lib/python3.11/site-packages/pyscf/dft/libxc.py:772: UserWarning: Since PySCF-2.3, B3LYP (and B3P86) are changed to the VWN-RPA variant, the same to the B3LYP functional in Gaussian and ORCA (issue 1480). To restore the VWN5 definition, you can put the setting \"B3LYP_WITH_VWN5 = True\" in pyscf_conf.py\n",
      "  warnings.warn('Since PySCF-2.3, B3LYP (and B3P86) are changed to the VWN-RPA variant, '\n"
     ]
    }
   ],
   "source": [
    "from ase.io import read\n",
    "from ase.visualize import view\n",
    "import numpy as np \n",
    "import torch \n",
    "import metatensor \n",
    "import matplotlib.pyplot as plt\n",
    "torch.set_default_dtype(torch.float64)\n",
    "\n",
    "from metatensor import Labels, TensorBlock, TensorMap\n",
    "from mlelec.data.dataset import PySCFPeriodicDataset\n",
    "\n",
    "from mlelec.utils.plot_utils import print_matrix, matrix_norm, block_matrix_norm\n",
    "\n",
    "from metatensor import load, sort\n",
    "from mlelec.utils.twocenter_utils import _to_coupled_basis\n",
    "from mlelec.utils.pbc_utils import matrix_to_blocks, kmatrix_to_blocks, TMap_bloch_sums, precompute_phase\n",
    "\n",
    "from mlelec.features.acdc import pair_features, single_center_features, twocenter_features_periodic_NH, twocenter_hermitian_features\n",
    "import rascaline\n",
    "from mlelec.utils.pbc_utils import kblocks_to_matrix, kmatrix_to_blocks, blocks_to_matrix, matrix_to_blocks\n",
    "def get_targets(dataset, device =\"cpu\", cutoff = None, target='fock', all_pairs= True, sort_orbs = False):\n",
    "    \n",
    "    blocks = matrix_to_blocks(dataset, device = device, cutoff = cutoff, all_pairs = all_pairs, target = target, sort_orbs = sort_orbs)\n",
    "    coupled_blocks = _to_coupled_basis(blocks, skip_symmetry = True, device = device, translations = True)\n",
    "\n",
    "    blocks = blocks.to(arrays='numpy')\n",
    "    blocks = sort(blocks)\n",
    "    blocks = blocks.to(arrays='torch')\n",
    "    \n",
    "    coupled_blocks = coupled_blocks.to(arrays='numpy')\n",
    "    coupled_blocks = sort(coupled_blocks)\n",
    "    coupled_blocks = coupled_blocks.to(arrays='torch')\n",
    "    \n",
    "    return blocks, coupled_blocks"
   ]
  },
  {
   "cell_type": "code",
   "execution_count": 3,
   "id": "aedad6a8-e3dc-491f-90e7-bb4b4c9198c0",
   "metadata": {},
   "outputs": [],
   "source": [
    "device = 'cpu'"
   ]
  },
  {
   "cell_type": "code",
   "execution_count": 4,
   "id": "48f1b77e-0109-411c-81d0-286f339638ee",
   "metadata": {},
   "outputs": [],
   "source": [
    "orbitals = {\n",
    "    'sto-3g': {5: [[1,0,0],[2,0,0],[2,1,-1], [2,1,0],[2,1,1]], \n",
    "               6: [[1,0,0],[2,0,0],[2,1,-1], [2,1,0],[2,1,1]], \n",
    "               7: [[1,0,0],[2,0,0],[2,1,-1], [2,1,0],[2,1,1]]}, \n",
    "    \n",
    "    'def2svp': {6: [[1,0,0],[2,0,0],[3,0,0],[2,1,1], [2,1,-1],[2,1,0], [3,1,1], [3,1,-1],[3,1,0], [3,2,-2], [3,2,-1],[3,2,0], [3,2,1],[3,2,2]]},\n",
    "    'benzene': {6: [[2,0,0],[2,1,-1], [2,1,0],[2,1,1]], 1:[[1,0,0]]},\n",
    "    'gthszvmolopt': {\n",
    "        6: [[2, 0, 0], [2, 1, -1], [2, 1, 0], [2, 1, 1]],\n",
    "        \n",
    "        16: [[3,0,0], \n",
    "             [3,1,-1], [3,1,0], [3,1,1]],\n",
    "\n",
    "        42: [[4,0,0], \n",
    "             [5,0,0], \n",
    "             [4,1,-1], [4,1,0], [4,1,1], \n",
    "             [4, 2, -2], [4, 2, -1], [4, 2, 0], [4, 2, 1], [4, 2, 2]]}\n",
    "}"
   ]
  },
  {
   "cell_type": "code",
   "execution_count": 5,
   "id": "1ed8f072-c4c7-4fac-aeed-cfc9e9b7c25c",
   "metadata": {},
   "outputs": [],
   "source": [
    "import rascaline\n",
    "max_radial  = 6\n",
    "max_angular = 4\n",
    "atomic_gaussian_width = 0.3\n",
    "cutoff=6\n",
    "spline_basis = False\n",
    "##---splined basis \n",
    "if spline_basis :\n",
    "    spliner = rascaline.utils.SoapSpliner(\n",
    "        cutoff=cutoff,\n",
    "        max_radial=max_radial,\n",
    "        max_angular=max_angular,\n",
    "        basis=rascaline.utils.SphericalBesselBasis(\n",
    "            cutoff=cutoff, max_radial=max_radial, max_angular=max_angular\n",
    "        ),\n",
    "        density=rascaline.utils.GaussianDensity(atomic_gaussian_width=atomic_gaussian_width),\n",
    "        accuracy=1e-5,\n",
    "    )\n",
    "    splined_basis = spliner.compute()\n",
    "##-------\n",
    "hypers_pair = {'cutoff': cutoff,\n",
    "               'max_radial': max_radial,\n",
    "               'max_angular': max_angular,\n",
    "               'atomic_gaussian_width': atomic_gaussian_width,\n",
    "               'center_atom_weight': 1,\n",
    "               \"radial_basis\": splined_basis if spline_basis else {\"Gto\": {}},\n",
    "               # \"radial_basis\": splined_basis,\n",
    "               \"cutoff_function\": {\"ShiftedCosine\": {\"width\": 0.1}}}\n",
    "\n",
    "hypers_atom = {'cutoff': 4,\n",
    "               'max_radial': max_radial,\n",
    "               'max_angular': max_angular,\n",
    "               'atomic_gaussian_width': 0.3,\n",
    "               'center_atom_weight': 1,\n",
    "               \"radial_basis\": {\"Gto\": {}},\n",
    "               \"cutoff_function\": {\"ShiftedCosine\": {\"width\": 0.1}}}\n",
    "\n",
    "return_rho0ij = False\n",
    "both_centers = False\n",
    "all_pairs = False\n",
    "LCUT = 3\n",
    "\n",
    "def compute_features(dataset, all_pairs=False):\n",
    "\n",
    "    rhoij = pair_features(dataset.structures, hypers_atom, hypers_pair, order_nu = 1, all_pairs = all_pairs, both_centers = both_centers,\n",
    "                          kmesh = dataset.kmesh, device = device, lcut = LCUT, return_rho0ij = return_rho0ij)  \n",
    "    \n",
    "    if both_centers and not return_rho0ij:\n",
    "        NU = 3\n",
    "    else:\n",
    "        NU = 2\n",
    "    rhonui = single_center_features(dataset.structures, hypers_atom, order_nu = NU, lcut = LCUT, device = device,\n",
    "                                    feature_names = rhoij.property_names)\n",
    "    \n",
    "    hfeat = twocenter_features_periodic_NH(single_center = rhonui, pair = rhoij, all_pairs = all_pairs)\n",
    "\n",
    "    return hfeat"
   ]
  },
  {
   "cell_type": "code",
   "execution_count": 6,
   "id": "ac352832-2c00-40a3-83d5-4adad14b142e",
   "metadata": {},
   "outputs": [],
   "source": [
    "from mlelec.models.linear import LinearModelPeriodic\n",
    "device='cpu'"
   ]
  },
  {
   "cell_type": "code",
   "execution_count": 7,
   "id": "c6f49a3e-9372-4c0f-a325-ce7f0f512b61",
   "metadata": {},
   "outputs": [],
   "source": [
    "def check_target(coupled_blocks, tol=1e-4):\n",
    "    \"\"\" Checks that the coupled blocks, when n1, l1 = n2, l2, satisfy \n",
    "            - block_type=1, lambda = ODD blocks are zero, \n",
    "            - block_type=-1, lambda = EVEN blocks are zero \n",
    "    \"\"\"\n",
    "    for k, b in coupled_blocks.items():\n",
    "        btype= k['block_type']\n",
    "        L = k['L']\n",
    "        l1 = k['l_i']\n",
    "        l2 = k['l_j']\n",
    "        n1 = k['n_i']\n",
    "        n2 = k['n_j']\n",
    "        if L%2==0 and btype==-1 and (n1==n2) and (l1==l2):\n",
    "            try:\n",
    "                 assert torch.norm(b.values)<=tol, f'btype {btype} L{L} failed - Block norm {torch.norm(b.values)}'\n",
    "            except AssertionError:\n",
    "                failidx = torch.where(b.values>tol)[0]\n",
    "                print(f'{k}, {torch.norm(b.values)} : {len(failidx)} failing samples - , {b.samples.values[failidx].tolist()}')#, values,{b.values[failidx]}' )\n",
    "\n",
    "        elif L%2==1 and btype==1 and (n1==n2) and (l1==l2):\n",
    "            try: \n",
    "                assert torch.norm(b.values)<=tol, f'btype {btype} L{L} failed - Block norm {torch.norm(b.values)}'\n",
    "            except AssertionError:\n",
    "                failidx = torch.where(b.values>tol)[0]\n",
    "                print(f'{len(failidx)} failing samples, {b.samples.values[failidx]}')#, values,{b.values[failidx]}' )\n",
    "  \n",
    "                # print(f'try minus bytpe, {torch.norm(newb.values[failidx])}')\n",
    "\n",
    "    print('TARGET PASSED')\n",
    "def check_gij(gij, tol = 1e-4):\n",
    "    \"\"\" Similar to the checks on the target above, we can check for gij that \n",
    "        - block_type = 1 < n| gij; lambda = ODD> = 0\n",
    "        - block_type = -1 <n | gij; lambda = EVEN> = 0\n",
    "    (inversion sigma = 1 for all of these blocks since they are directly the SPH components)\n",
    "    \"\"\" \n",
    "    for k, b in gij.items(): \n",
    "        btype= k['block_type']\n",
    "        L = k['spherical_harmonics_l']\n",
    "        if L%2==0 and btype==-1 : \n",
    "            try:\n",
    "                 assert torch.norm(b.values)<=tol, f'btype {btype} L{L} failed - Block norm {torch.norm(b.values)}'\n",
    "            except AssertionError:\n",
    "                failidx = torch.where(b.values>tol)[0]\n",
    "                print(f'{k}, {torch.norm(b.values)} : {len(failidx)} failing samples - , {b.samples.values[failidx].tolist()}')\n",
    "        elif L%2==1 and btype==1:\n",
    "            try: \n",
    "                assert torch.norm(b.values)<=tol, f'btype {btype} L{L} failed - Block norm {torch.norm(b.values)}'\n",
    "            except AssertionError:\n",
    "                failidx = torch.where(b.values>tol)[0]\n",
    "                print(f'{len(failidx)} failing samples, {b.samples.values[failidx]}')\n",
    "\n",
    "    print('gij PASSED')"
   ]
  },
  {
   "cell_type": "code",
   "execution_count": 8,
   "id": "587a81f4-afd6-4bed-af47-d470aa26f2a1",
   "metadata": {},
   "outputs": [],
   "source": [
    "def train_ridge(model, target_blocks, set_bias=False, alphas = None, kernel_ridge = False, alpha = None):\n",
    "    block_losses = {}\n",
    "    loss = 0\n",
    "    pred, ridges = model.fit_ridge_analytical(return_matrix = False, set_bias = set_bias, kernel_ridge = kernel_ridge, alphas = alphas, alpha = alpha)\n",
    "\n",
    "    for (key, block) in pred.items():\n",
    "        block_loss=torch.norm(block.values - target_blocks[key].values)**2\n",
    "        loss += block_loss\n",
    "        \n",
    "        block_losses[tuple(key.values)] = block_loss\n",
    "\n",
    "    # print(np.sum(list(block_losses.values())))\n",
    "    return loss, pred, ridges, block_losses#, kernels "
   ]
  },
  {
   "cell_type": "markdown",
   "id": "f5b14af9-dbfa-41cb-9859-9bd546a3e5bb",
   "metadata": {},
   "source": [
    "# TODO : CHECK WHATS happening in feats wrt sorting i,j, species "
   ]
  },
  {
   "cell_type": "markdown",
   "id": "f3a7f70e-fee0-45ce-b684-ae83a1ebcb4f",
   "metadata": {
    "jp-MarkdownHeadingCollapsed": true
   },
   "source": [
    "# BENZENE - test"
   ]
  },
  {
   "cell_type": "code",
   "execution_count": 9,
   "id": "f155f6e1-369a-4df0-9030-7c85629ea582",
   "metadata": {},
   "outputs": [],
   "source": [
    "import ase\n",
    "frame = ase.Atoms(\"C6H6\")\n",
    "rc = 1.384\n",
    "rh = 2.465\n",
    "for i in range(6):\n",
    "    frame.positions[i] = [np.cos(i*np.pi/3)*rc,np.sin(i*np.pi/3)*rc,0]\n",
    "    frame.positions[i+6] = [np.cos(i*np.pi/3)*rh,np.sin(i*np.pi/3)*rh,0]"
   ]
  },
  {
   "cell_type": "code",
   "execution_count": 10,
   "id": "2e95b596-7fa5-432b-8154-c3e0e0ef6243",
   "metadata": {},
   "outputs": [],
   "source": [
    "np.random.seed(321)\n",
    "fock = np.random.uniform(size=(30,30))\n",
    "fock = fock+fock.T\n",
    "ref_eva = np.linalg.eigvalsh(fock)"
   ]
  },
  {
   "cell_type": "code",
   "execution_count": 11,
   "id": "6b07ad3d-ef90-4575-b5c7-1d45067251dd",
   "metadata": {},
   "outputs": [
    {
     "name": "stderr",
     "output_type": "stream",
     "text": [
      "/media/nigam/b5749eb7-d3f1-4495-adeb-2c318fb7d0de/MAC/mlelec/src/mlelec/data/dataset.py:887: UserWarning: Overlap matrices not provided\n",
      "  warnings.warn(\"Overlap matrices not provided\")\n"
     ]
    }
   ],
   "source": [
    "dataset =PySCFPeriodicDataset(frames = [frame], \n",
    "                               kmesh = [1,1,1], \n",
    "                               fix_p_orbital_order=True,\n",
    "                               dimension = 2,\n",
    "                               # fock_kspace = kfock, \n",
    "                               # overlap_kspace = kover, \n",
    "                              fock_realspace=[fock],#[{tuple([0,0,0]):fock}],\n",
    "                               device = device, \n",
    "                               orbs = orbitals['benzene'], \n",
    "                               orbs_name = None\n",
    "                               )"
   ]
  },
  {
   "cell_type": "code",
   "execution_count": 12,
   "id": "6bde4722",
   "metadata": {},
   "outputs": [],
   "source": [
    "\n",
    "target_blocks, target_coupled_blocks = get_targets(dataset, cutoff = 6, device = device, all_pairs = False)"
   ]
  },
  {
   "cell_type": "code",
   "execution_count": 13,
   "id": "1470cd5c",
   "metadata": {},
   "outputs": [],
   "source": [
    "# plt.matshow((dataset.fock_realspace- fock)[0])"
   ]
  },
  {
   "cell_type": "code",
   "execution_count": 14,
   "id": "7e805cc1-a67f-49cf-8cc2-93a09f08b646",
   "metadata": {
    "scrolled": true
   },
   "outputs": [
    {
     "name": "stdout",
     "output_type": "stream",
     "text": [
      "cpu pair features\n",
      "cpu single center features\n",
      "cpu single center features\n",
      "off-site, different species\n",
      "off-site, different species\n",
      "off-site, different species\n",
      "off-site, different species\n",
      "off-site, different species\n",
      "off-site, different species\n",
      "off-site, different species\n",
      "off-site, different species\n",
      "off-site, different species\n",
      "off-site, different species\n",
      "off-site, different species\n",
      "off-site, different species\n",
      "off-site, different species\n",
      "off-site, different species\n"
     ]
    }
   ],
   "source": [
    "# %%timeit\n",
    "hfeat = compute_features(dataset)"
   ]
  },
  {
   "cell_type": "code",
   "execution_count": 15,
   "id": "bf868364-ba12-433c-a33a-ca32e4546494",
   "metadata": {},
   "outputs": [
    {
     "name": "stdout",
     "output_type": "stream",
     "text": [
      "tensor(658.5638)\n"
     ]
    }
   ],
   "source": [
    "model_ridge = LinearModelPeriodic(twocfeat = hfeat, \n",
    "                                  target_blocks = target_coupled_blocks,\n",
    "                                  frames = dataset.structures, orbitals = dataset.basis, \n",
    "                                  device = device)\n",
    "\n",
    "model_ridge = model_ridge.double()\n",
    "loss_ridge_bias, pred_ridge_bias, ridges_bias, loss_blocks = train_ridge(model_ridge, \n",
    "                                                                         target_coupled_blocks,\n",
    "                                                                         set_bias = True,\n",
    "                                                                         kernel_ridge = False,\n",
    "                                                                         alphas = np.logspace(-10, -1, 100),\n",
    "                                                                         # alphas = np.logspace(-30, -6, 100),\n",
    "                                                                         # alpha = 1e-4\n",
    "                                                                        )\n",
    "print(loss_ridge_bias)"
   ]
  },
  {
   "cell_type": "code",
   "execution_count": 16,
   "id": "29bc7307-05d3-4c2c-867d-a0f7af2b5c87",
   "metadata": {},
   "outputs": [],
   "source": [
    "fock_pred = blocks_to_matrix(pred_ridge_bias, dataset)\n",
    "fock_pred = next(iter(fock_pred[0].values()))"
   ]
  },
  {
   "cell_type": "code",
   "execution_count": 17,
   "id": "1254442c-7479-4bdb-bda7-b973b7c659b3",
   "metadata": {},
   "outputs": [
    {
     "data": {
      "text/plain": [
       "<matplotlib.colorbar.Colorbar at 0x7ff7ac43e050>"
      ]
     },
     "execution_count": 17,
     "metadata": {},
     "output_type": "execute_result"
    },
    {
     "data": {
      "image/png": "[encoded data removed]",
      "text/plain": [
       "<Figure size 600x300 with 3 Axes>"
      ]
     },
     "metadata": {},
     "output_type": "display_data"
    }
   ],
   "source": [
    "fig, ax = plt.subplots(1,2,figsize=(6,3), constrained_layout=True)\n",
    "ax[0].matshow(fock, vmin=0, vmax=1.7, interpolation='None')\n",
    "ms = ax[1].matshow(fock_pred, vmin=0, vmax=1.7, interpolation='None')\n",
    "ax[0].set_xticks([])\n",
    "ax[0].set_yticks([])\n",
    "ax[1].set_xticks([])\n",
    "ax[1].set_yticks([])\n",
    "fig.colorbar(ms, ax=ax.ravel().tolist(), label=r\"$H_{ij}\\,/$a.u.\")"
   ]
  },
  {
   "cell_type": "code",
   "execution_count": 18,
   "id": "755190e5-6bf4-4dfd-ac77-c5a7afa7d9e4",
   "metadata": {},
   "outputs": [
    {
     "name": "stdout",
     "output_type": "stream",
     "text": [
      "3.5865086555972887\n",
      "0.016273980152756308\n",
      "0.5076514124395723\n"
     ]
    },
    {
     "data": {
      "image/png": "[encoded data removed]",
      "text/plain": [
       "<Figure size 640x480 with 1 Axes>"
      ]
     },
     "metadata": {},
     "output_type": "display_data"
    }
   ],
   "source": [
    "eva_ref = np.linalg.eigvalsh(fock)\n",
    "eva_pred = np.linalg.eigvalsh(fock_pred)\n",
    "plt.plot(eva_ref, 'b.')\n",
    "plt.plot(eva_pred, 'r*') \n",
    "print(np.sqrt(np.mean((np.linalg.eigvalsh(fock)-np.linalg.eigvalsh(fock_pred))**2)))\n",
    "print(np.linalg.eigvalsh(fock)[14])\n",
    "print(np.linalg.eigvalsh(fock_pred)[14])"
   ]
  },
  {
   "cell_type": "markdown",
   "id": "34dbf601-7db3-4fbe-a945-8f54bd60f582",
   "metadata": {},
   "source": [
    "## displace"
   ]
  },
  {
   "cell_type": "code",
   "execution_count": 19,
   "id": "01809d01-99b7-4d7c-b3eb-c475405cc71b",
   "metadata": {},
   "outputs": [
    {
     "name": "stderr",
     "output_type": "stream",
     "text": [
      "/media/nigam/b5749eb7-d3f1-4495-adeb-2c318fb7d0de/MAC/mlelec/src/mlelec/data/dataset.py:887: UserWarning: Overlap matrices not provided\n",
      "  warnings.warn(\"Overlap matrices not provided\")\n"
     ]
    }
   ],
   "source": [
    "ld = np.linspace(-0.1,0.1,31)\n",
    "frames_displace = []\n",
    "fockdummy = []\n",
    "for i,d in enumerate(ld):\n",
    "    fd = frame.copy()    \n",
    "    cent = fd.positions.mean(axis=0)\n",
    "    fd.positions -= cent\n",
    "    # q3hat\n",
    "    # fd.positions[[-5,-3,-1]] *= 1+d\n",
    "    # fd.positions[[-6,-4,-2]] *= 1-d\n",
    "    # q2hat\n",
    "    fd.positions[[-5,-2]] *= 1+d\n",
    "    fd.positions[[-6,-3]] *= 1-d\n",
    "    fd.positions += cent\n",
    "    frames_displace.append(fd)\n",
    "    fockdummy.append(np.zeros_like(fock))\n",
    "    \n",
    "dataset_displaced = PySCFPeriodicDataset(frames = frames_displace, \n",
    "                               kmesh = [1,1,1], \n",
    "                               fix_p_orbital_order=True,\n",
    "                               dimension = 2,\n",
    "                               # fock_kspace = kfock, \n",
    "                               # overlap_kspace = kover, \n",
    "                              fock_realspace=fockdummy,\n",
    "                               device = device, \n",
    "                               orbs = orbitals['benzene'], \n",
    "                               orbs_name = None\n",
    "                               )\n"
   ]
  },
  {
   "cell_type": "code",
   "execution_count": 20,
   "id": "2bf629a7-1f52-4f80-9e3a-fa0919813727",
   "metadata": {},
   "outputs": [
    {
     "name": "stdout",
     "output_type": "stream",
     "text": [
      "cpu pair features\n",
      "cpu single center features\n",
      "cpu single center features\n",
      "off-site, different species\n",
      "off-site, different species\n",
      "off-site, different species\n",
      "off-site, different species\n",
      "off-site, different species\n",
      "off-site, different species\n",
      "off-site, different species\n",
      "off-site, different species\n",
      "off-site, different species\n",
      "off-site, different species\n",
      "off-site, different species\n",
      "off-site, different species\n",
      "off-site, different species\n",
      "off-site, different species\n"
     ]
    }
   ],
   "source": [
    "hfeat_d = compute_features(dataset_displaced)"
   ]
  },
  {
   "cell_type": "code",
   "execution_count": 21,
   "id": "573e759c-dfc3-4d0c-b716-bc9479c7e50a",
   "metadata": {},
   "outputs": [
    {
     "name": "stderr",
     "output_type": "stream",
     "text": [
      "/media/nigam/b5749eb7-d3f1-4495-adeb-2c318fb7d0de/MAC/mlelec/src/mlelec/models/linear.py:707: UserWarning: Using train target_blocks, otherwise provide test target_blocks\n",
      "  warnings.warn('Using train target_blocks, otherwise provide test target_blocks')\n"
     ]
    }
   ],
   "source": [
    "pred_disp = model_ridge.predict_ridge_analytical(ridges = ridges_bias, hfeat=hfeat_d)"
   ]
  },
  {
   "cell_type": "code",
   "execution_count": 22,
   "id": "332d8fbd-44d9-49a3-a6b0-c14b1ee64bd4",
   "metadata": {
    "scrolled": true
   },
   "outputs": [],
   "source": [
    "fockd = blocks_to_matrix(pred_disp, dataset_displaced)\n",
    "fock_disp=[] \n",
    "for i in range(len(frames_displace)):\n",
    "    fock_disp.append(fockd[i][0,0,0].numpy())\n",
    "    # print(fock_disp[-1].shape)"
   ]
  },
  {
   "cell_type": "code",
   "execution_count": 23,
   "id": "3a1bf06b-c1bf-41fd-8e0f-f4771ba6002f",
   "metadata": {
    "scrolled": true
   },
   "outputs": [],
   "source": [
    "for f in fock_disp:\n",
    "    assert np.linalg.norm(f - f.T)<1e-14"
   ]
  },
  {
   "cell_type": "code",
   "execution_count": 24,
   "id": "2a5fa34e-01d8-4632-ae66-f32c66430732",
   "metadata": {},
   "outputs": [],
   "source": [
    "fockd = blocks_to_matrix(pred_disp, dataset_displaced)\n",
    "evd = [np.linalg.eigh(f) for f in fock_disp]\n",
    "dd = np.asarray([np.sqrt(((frames_displace[i].positions-frames_displace[len(frames_displace)//2].positions)**2).mean())*np.sign(ld[i]) for i in range(len(frames_displace)) ])"
   ]
  },
  {
   "cell_type": "code",
   "execution_count": 25,
   "id": "d96c2651-a403-4d29-a431-742c686d66f9",
   "metadata": {},
   "outputs": [],
   "source": [
    "evd = [np.linalg.eigh(f) for f in fock_disp]\n",
    "dd = np.asarray([np.sqrt(((frames_displace[i].positions-frames_displace[len(frames_displace)//2].positions)**2).mean())*np.sign(ld[i]) for i in range(len(frames_displace)) ])"
   ]
  },
  {
   "cell_type": "code",
   "execution_count": 26,
   "id": "26e04ebd-0a88-4552-8121-484dc4749d47",
   "metadata": {},
   "outputs": [
    {
     "data": {
      "text/plain": [
       "Text(0, 0.5, '$\\\\epsilon_k$ / a.u.')"
      ]
     },
     "execution_count": 26,
     "metadata": {},
     "output_type": "execute_result"
    },
    {
     "data": {
      "image/png": "[encoded data removed]",
      "text/plain": [
       "<Figure size 640x480 with 1 Axes>"
      ]
     },
     "metadata": {},
     "output_type": "display_data"
    }
   ],
   "source": [
    "for k in range(0,6):\n",
    "    plt.plot(dd, [evd[i][0][k] for i in range(len(ld))])   \n",
    "plt.xlabel(\"RMSD / Å\")\n",
    "plt.ylabel(r\"$\\epsilon_k$ / a.u.\")\n",
    "# plt.savefig(\"../figures/benzene-deformations.svg\")"
   ]
  },
  {
   "cell_type": "code",
   "execution_count": null,
   "id": "51e3ab97-4373-4234-b4b9-400498317451",
   "metadata": {},
   "outputs": [],
   "source": []
  },
  {
   "cell_type": "code",
   "execution_count": null,
   "id": "45dc1dad-1729-47d7-a708-f3a96d56ed18",
   "metadata": {},
   "outputs": [],
   "source": []
  },
  {
   "cell_type": "code",
   "execution_count": 93,
   "id": "205580ef-bda3-4955-a1cf-97067966e031",
   "metadata": {},
   "outputs": [],
   "source": [
    "rad = {'C':0.25, 'H':0.15}\n",
    "col = {'C': 'gray', 'H': 'white'}\n",
    "def mo_plot(ax, mol, orbs, eve):\n",
    "    cent = mol.positions.mean(axis=0)\n",
    "    \n",
    "    mo_xy = mo_compute(gv_xy, mol, orbs, eve, project=(1,1,0), sigma=0.25).reshape(ngrid,ngrid)\n",
    "    ax.contourf(xgrid, ygrid, mo_xy, levels=[-0.01,0.01], \n",
    "                extend='both', colors=['blue','white','red'])\n",
    "    \n",
    "    for i in range(len(mol)):\n",
    "        ax.add_patch(plt.Circle((mol.positions[i]-cent)[:2], rad[mol.symbols[i]], fill=False, ec='black' ))"
   ]
  },
  {
   "cell_type": "code",
   "execution_count": 94,
   "id": "7182ac14-4bdc-4a3c-a245-4b217baeceaa",
   "metadata": {},
   "outputs": [
    {
     "data": {
      "text/plain": [
       "[]"
      ]
     },
     "execution_count": 94,
     "metadata": {},
     "output_type": "execute_result"
    },
    {
     "data": {
      "image/png": "[encoded data removed]",
      "text/plain": [
       "<Figure size 400x400 with 1 Axes>"
      ]
     },
     "metadata": {},
     "output_type": "display_data"
    }
   ],
   "source": [
    "fig, ax = plt.subplots(figsize=(4,4))\n",
    "mol = frames_displace[len(ld)//2]\n",
    "cent=mol.positions.mean(axis=0)\n",
    "for i in range(len(mol)):\n",
    "    ax.add_patch(plt.Circle((mol.positions[i]-cent)[:2], rad[mol.symbols[i]], fc=col[mol.symbols[i]], ec='black' ))\n",
    "ax.set_xlim(-3,3)\n",
    "ax.set_ylim(-3,3)\n",
    "ax.set_xticks([])\n",
    "ax.set_yticks([])"
   ]
  },
  {
   "cell_type": "code",
   "execution_count": null,
   "id": "75ddb23d-89fe-4594-a790-7cc41a78e520",
   "metadata": {},
   "outputs": [],
   "source": []
  },
  {
   "cell_type": "markdown",
   "id": "d67592ee-7119-44ff-a3cc-39f02338b2f9",
   "metadata": {},
   "source": [
    "# BN"
   ]
  },
  {
   "cell_type": "code",
   "execution_count": 9,
   "id": "897ef772-1878-486a-9fb9-51a315be8a6b",
   "metadata": {},
   "outputs": [],
   "source": [
    "workdir = '.'\n",
    "root = f'{workdir}/examples/data/periodic'\n",
    "ORBS = 'sto-3g'\n",
    "START = 0\n",
    "STOP = 1\n",
    "frames = read(f'{root}/BN/BN_unit_cell.xyz', slice(START, STOP))\n",
    "for f in frames:\n",
    "    f.pbc= True\n",
    "\n",
    "kmesh = [[8,8,1]]\n",
    "kfock = [np.load(f\"{root}/BN/fock.npy\", allow_pickle = True) for i in range(START, STOP)]\n",
    "kover = [np.load(f\"{root}/BN/over.npy\", allow_pickle = True) for i in range(START, STOP)]\n",
    "\n",
    "dataset = PySCFPeriodicDataset(frames = frames, \n",
    "                               kmesh = kmesh, \n",
    "                               fix_p_orbital_order=True,\n",
    "                               dimension = 2,\n",
    "                               # fock_kspace = kover, \n",
    "                               fock_kspace = kfock, \n",
    "                               overlap_kspace = kover, \n",
    "                               device = device, \n",
    "                               orbs = orbitals[ORBS], \n",
    "                               orbs_name = 'sto-3g')"
   ]
  },
  {
   "cell_type": "code",
   "execution_count": 10,
   "id": "20814e5d",
   "metadata": {},
   "outputs": [
    {
     "name": "stdout",
     "output_type": "stream",
     "text": [
      "True True passed\n",
      "True False passed\n",
      "False True passed\n",
      "False False passed\n"
     ]
    }
   ],
   "source": [
    "for ALL_PAIRS in [True, False]:\n",
    "    for SORT_ORBS in [True, False]:\n",
    "        cutoff = 3\n",
    "        kblocks = kmatrix_to_blocks(dataset, cutoff = cutoff, all_pairs = ALL_PAIRS, sort_orbs=SORT_ORBS)\n",
    "        rhk = kblocks_to_matrix(kblocks, dataset, all_pairs=ALL_PAIRS, sort_orbs=SORT_ORBS)        \n",
    "        for ifr in range(len(kfock)):\n",
    "            for ik in range(len(kfock[ifr])):\n",
    "                # print(np.linalg.norm(kfock[ifr][ik] -kfock[ifr][ik].conj().T))\n",
    "                # print(np.linalg.norm(kfock[ifr][ik]-rhk[ifr][ik].numpy()))\n",
    "                assert (np.linalg.norm(kfock[ifr][ik]-rhk[ifr][ik].numpy()))<1e-13, (ALL_PAIRS, SORT_ORBS)\n",
    "        print(ALL_PAIRS, SORT_ORBS, 'passed')"
   ]
  },
  {
   "cell_type": "code",
   "execution_count": 11,
   "id": "e46bfb5a",
   "metadata": {
    "scrolled": true
   },
   "outputs": [],
   "source": [
    "cutoff = 3\n",
    "kblocks = kmatrix_to_blocks(dataset, cutoff = cutoff, all_pairs = ALL_PAIRS, sort_orbs=SORT_ORBS)\n",
    "rhk = kblocks_to_matrix(kblocks, dataset, all_pairs=ALL_PAIRS, sort_orbs=SORT_ORBS)\n",
    "# torch.norm(rhk[0] - dataset.fock_kspace[0])\n",
    "# kblocks_o = kmatrix_to_blocks(dataset, cutoff = cutoff, all_pairs = ALL_PAIRS, target='overlap')\n",
    "# rSk = kblocks_to_matrix(kblocks_o, dataset, all_pairs=ALL_PAIRS)\n",
    "# "
   ]
  },
  {
   "cell_type": "code",
   "execution_count": 712,
   "id": "f027e87f-6f8b-4925-bc75-4b770a022d21",
   "metadata": {},
   "outputs": [],
   "source": [
    "from scipy.linalg import eigvalsh\n",
    "eigactual = []\n",
    "eigcut=[]\n",
    "for ik in range(64):\n",
    "    eigactual.append(eigvalsh(dataset.fock_kspace[0][ik].numpy(), dataset.overlap_kspace[0][ik].numpy()))\n",
    "    eigcut.append(eigvalsh(rhk[0][ik].numpy(), rSk[0][ik].numpy()))\n",
    "eigactual = np.concatenate(eigactual)\n",
    "eigcut = np.concatenate(eigcut)    "
   ]
  },
  {
   "cell_type": "code",
   "execution_count": 530,
   "id": "302fc3b1-ed73-4a46-b00c-349fd4d81c0b",
   "metadata": {},
   "outputs": [
    {
     "data": {
      "text/plain": [
       "(-2.0, 2.066092172255316)"
      ]
     },
     "execution_count": 530,
     "metadata": {},
     "output_type": "execute_result"
    },
    {
     "data": {
      "image/png": "[encoded data removed]",
      "text/plain": [
       "<Figure size 640x480 with 1 Axes>"
      ]
     },
     "metadata": {},
     "output_type": "display_data"
    }
   ],
   "source": [
    "plt.plot(eigactual, eigcut, 'o')\n",
    "plt.plot([np.min(eigactual), np.max(eigactual)],[np.min(eigactual), np.max(eigactual)])\n",
    "plt.ylim(-2,)\n",
    "plt.xlim(-2,)"
   ]
  },
  {
   "cell_type": "code",
   "execution_count": 14,
   "id": "174f1366",
   "metadata": {},
   "outputs": [],
   "source": [
    "# for ifr in range(len(kfock)):\n",
    "#     for ik in range(len(kfock[ifr])):\n",
    "#         # assert torch.norm(rhk[ifr][ik] - rhk[ifr][ik].conj().T)<1e-12\n",
    "#         # assert np.linalg.norm(kfock[ifr][ik] -kfock[ifr][ik].conj().T)<1e-12\n",
    "#         assert np.linalg.norm(kfock[ifr][ik] -rhk[ifr][ik].numpy())<1e-12\n"
   ]
  },
  {
   "cell_type": "code",
   "execution_count": 20,
   "id": "0767defa-ed10-4c51-acd5-ff12fc642793",
   "metadata": {
    "scrolled": true
   },
   "outputs": [],
   "source": [
    "cutoff = 10\n",
    "target_blocks, target_coupled_blocks = get_targets(dataset, cutoff = cutoff, device = device, all_pairs = ALL_PAIRS, sort_orbs=SORT_ORBS)"
   ]
  },
  {
   "cell_type": "code",
   "execution_count": 26,
   "id": "33b5ddea-41c4-4a51-90d0-0043b20eaec6",
   "metadata": {},
   "outputs": [
    {
     "data": {
      "text/plain": [
       "Labels(\n",
       "    structure  center  neighbor  cell_shift_a  cell_shift_b  cell_shift_c\n",
       "        0        0        0           -4            1             0\n",
       "        0        0        0           -4            2             0\n",
       "        0        0        0           -4            3             0\n",
       "        0        0        0           -3            -1            0\n",
       "        0        0        0           -3            0             0\n",
       "        0        0        0           -3            1             0\n",
       "        0        0        0           -3            2             0\n",
       "        0        0        0           -3            3             0\n",
       "        0        0        0           -3            4             0\n",
       "        0        0        0           -2            -2            0\n",
       "        0        0        0           -2            -1            0\n",
       "        0        0        0           -2            0             0\n",
       "        0        0        0           -2            1             0\n",
       "        0        0        0           -2            2             0\n",
       "        0        0        0           -2            3             0\n",
       "        0        0        0           -2            4             0\n",
       "        0        0        0           -1            -3            0\n",
       "        0        0        0           -1            -2            0\n",
       "        0        0        0           -1            -1            0\n",
       "        0        0        0           -1            0             0\n",
       "        0        0        0           -1            1             0\n",
       "        0        0        0           -1            2             0\n",
       "        0        0        0           -1            3             0\n",
       "        0        0        0           -1            4             0\n",
       "        0        0        0           0             -3            0\n",
       "        0        0        0           0             -2            0\n",
       "        0        0        0           0             -1            0\n",
       "        0        0        0           0             1             0\n",
       "        0        0        0           0             2             0\n",
       "        0        0        0           0             3             0\n",
       "        0        0        0           1             -4            0\n",
       "        0        0        0           1             -3            0\n",
       "        0        0        0           1             -2            0\n",
       "        0        0        0           1             -1            0\n",
       "        0        0        0           1             0             0\n",
       "        0        0        0           1             1             0\n",
       "        0        0        0           1             2             0\n",
       "        0        0        0           1             3             0\n",
       "        0        0        0           2             -4            0\n",
       "        0        0        0           2             -3            0\n",
       "        0        0        0           2             -2            0\n",
       "        0        0        0           2             -1            0\n",
       "        0        0        0           2             0             0\n",
       "        0        0        0           2             1             0\n",
       "        0        0        0           2             2             0\n",
       "        0        0        0           3             -4            0\n",
       "        0        0        0           3             -3            0\n",
       "        0        0        0           3             -2            0\n",
       "        0        0        0           3             -1            0\n",
       "        0        0        0           3             0             0\n",
       "        0        0        0           3             1             0\n",
       "        0        0        0           4             -3            0\n",
       "        0        0        0           4             -2            0\n",
       "        0        0        0           4             -1            0\n",
       ")"
      ]
     },
     "execution_count": 26,
     "metadata": {},
     "output_type": "execute_result"
    }
   ],
   "source": [
    "target_blocks[0].samples"
   ]
  },
  {
   "cell_type": "code",
   "execution_count": 23,
   "id": "17c9018e",
   "metadata": {},
   "outputs": [],
   "source": [
    "rht = blocks_to_matrix(target_coupled_blocks, dataset, all_pairs  =ALL_PAIRS, sort_orbs=SORT_ORBS)"
   ]
  },
  {
   "cell_type": "code",
   "execution_count": 24,
   "id": "08873afe",
   "metadata": {},
   "outputs": [],
   "source": [
    "for ifr in range(len(rht)):\n",
    "    for T in rht[ifr]:\n",
    "        mT = tuple(-t for t in T)\n",
    "        assert torch.norm(rht[ifr][T] - rht[ifr][mT].T)<1e-12, torch.norm(rht[ifr][T] - rht[ifr][mT].T)"
   ]
  },
  {
   "cell_type": "code",
   "execution_count": 25,
   "id": "c53a48d6-1dcc-4903-b02f-35f9c1190543",
   "metadata": {},
   "outputs": [
    {
     "name": "stdout",
     "output_type": "stream",
     "text": [
      "hello tensor([[-1.6793+2.0929e-17j]])\n"
     ]
    },
    {
     "data": {
      "text/plain": [
       "tensor(2.8095e-14)"
      ]
     },
     "execution_count": 25,
     "metadata": {},
     "output_type": "execute_result"
    }
   ],
   "source": [
    "from mlelec.utils.pbc_utils import kblocks_to_matrix\n",
    "kblocks = kmatrix_to_blocks(dataset, cutoff = 6, all_pairs = False)\n",
    "rhk = kblocks_to_matrix(kblocks, dataset)\n",
    "torch.norm(rhk[0] - dataset.fock_kspace[0])"
   ]
  },
  {
   "cell_type": "code",
   "execution_count": 580,
   "id": "bb946337-b946-41a9-9cdc-82287441c0a1",
   "metadata": {
    "scrolled": true
   },
   "outputs": [
    {
     "name": "stdout",
     "output_type": "stream",
     "text": [
      "cpu pair features\n",
      "cpu single center features\n"
     ]
    },
    {
     "name": "stderr",
     "output_type": "stream",
     "text": [
      "/media/nigam/b5749eb7-d3f1-4495-adeb-2c318fb7d0de/MAC/mlelec/src/mlelec/features/acdc.py:147: UserWarning: The selected cutoff is less than the maximum distance as repeated for kmesh (32.0) among atoms in the system!\n",
      "  warnings.warn(f\"The selected cutoff is less than the maximum distance as repeated for kmesh ({np.ceil(min_cutoff)}) among atoms in the system!\")\n"
     ]
    },
    {
     "name": "stdout",
     "output_type": "stream",
     "text": [
      "cpu single center features\n",
      "off-site, different species\n",
      "off-site, different species\n",
      "off-site, different species\n",
      "off-site, different species\n",
      "off-site, different species\n",
      "off-site, different species\n",
      "off-site, different species\n",
      "off-site, different species\n",
      "off-site, different species\n",
      "off-site, different species\n",
      "off-site, different species\n",
      "off-site, different species\n",
      "off-site, different species\n",
      "off-site, different species\n",
      "off-site, different species\n",
      "off-site, different species\n",
      "off-site, different species\n",
      "off-site, different species\n",
      "Corresponding swapped pair not found [[ 0  0  0 -4  1  0  1]\n",
      " [ 0  0  0 -4  2  0  1]\n",
      " [ 0  0  0 -4  3  0  1]\n",
      " [ 0  0  0 -3 -1  0  1]\n",
      " [ 0  0  0 -3  0  0  1]\n",
      " [ 0  0  0 -3  1  0  1]\n",
      " [ 0  0  0 -3  2  0  1]\n",
      " [ 0  0  0 -3  3  0  1]\n",
      " [ 0  0  0 -3  4  0  1]\n",
      " [ 0  0  0 -2 -2  0  1]\n",
      " [ 0  0  0 -2 -1  0  1]\n",
      " [ 0  0  0 -2  0  0  1]\n",
      " [ 0  0  0 -2  1  0  1]\n",
      " [ 0  0  0 -2  2  0  1]\n",
      " [ 0  0  0 -2  3  0  1]\n",
      " [ 0  0  0 -2  4  0  1]\n",
      " [ 0  0  0 -1 -3  0  1]\n",
      " [ 0  0  0 -1 -2  0  1]\n",
      " [ 0  0  0 -1 -1  0  1]\n",
      " [ 0  0  0 -1  0  0  1]\n",
      " [ 0  0  0 -1  1  0  1]\n",
      " [ 0  0  0 -1  2  0  1]\n",
      " [ 0  0  0 -1  3  0  1]\n",
      " [ 0  0  0 -1  4  0  1]\n",
      " [ 0  0  0  0 -3  0  1]\n",
      " [ 0  0  0  0 -2  0  1]\n",
      " [ 0  0  0  0 -1  0  1]\n",
      " [ 0  0  0  0  1  0  1]\n",
      " [ 0  0  0  0  2  0  1]\n",
      " [ 0  0  0  0  3  0  1]\n",
      " [ 0  0  0  1 -4  0  1]\n",
      " [ 0  0  0  1 -3  0  1]\n",
      " [ 0  0  0  1 -2  0  1]\n",
      " [ 0  0  0  1 -1  0  1]\n",
      " [ 0  0  0  1  0  0  1]\n",
      " [ 0  0  0  1  1  0  1]\n",
      " [ 0  0  0  1  2  0  1]\n",
      " [ 0  0  0  1  3  0  1]\n",
      " [ 0  0  0  2 -4  0  1]\n",
      " [ 0  0  0  2 -3  0  1]\n",
      " [ 0  0  0  2 -2  0  1]\n",
      " [ 0  0  0  2 -1  0  1]\n",
      " [ 0  0  0  2  0  0  1]\n",
      " [ 0  0  0  2  1  0  1]\n",
      " [ 0  0  0  2  2  0  1]\n",
      " [ 0  0  0  3 -4  0  1]\n",
      " [ 0  0  0  3 -3  0  1]\n",
      " [ 0  0  0  3 -2  0  1]\n",
      " [ 0  0  0  3 -1  0  1]\n",
      " [ 0  0  0  3  0  0  1]\n",
      " [ 0  0  0  3  1  0  1]\n",
      " [ 0  0  0  4 -3  0  1]\n",
      " [ 0  0  0  4 -2  0  1]\n",
      " [ 0  0  0  4 -1  0  1]]\n",
      "Corresponding swapped pair not found [[ 0  0  0 -4  1  0  1]\n",
      " [ 0  0  0 -4  2  0  1]\n",
      " [ 0  0  0 -4  3  0  1]\n",
      " [ 0  0  0 -3 -1  0  1]\n",
      " [ 0  0  0 -3  0  0  1]\n",
      " [ 0  0  0 -3  1  0  1]\n",
      " [ 0  0  0 -3  2  0  1]\n",
      " [ 0  0  0 -3  3  0  1]\n",
      " [ 0  0  0 -3  4  0  1]\n",
      " [ 0  0  0 -2 -2  0  1]\n",
      " [ 0  0  0 -2 -1  0  1]\n",
      " [ 0  0  0 -2  0  0  1]\n",
      " [ 0  0  0 -2  1  0  1]\n",
      " [ 0  0  0 -2  2  0  1]\n",
      " [ 0  0  0 -2  3  0  1]\n",
      " [ 0  0  0 -2  4  0  1]\n",
      " [ 0  0  0 -1 -3  0  1]\n",
      " [ 0  0  0 -1 -2  0  1]\n",
      " [ 0  0  0 -1 -1  0  1]\n",
      " [ 0  0  0 -1  0  0  1]\n",
      " [ 0  0  0 -1  1  0  1]\n",
      " [ 0  0  0 -1  2  0  1]\n",
      " [ 0  0  0 -1  3  0  1]\n",
      " [ 0  0  0 -1  4  0  1]\n",
      " [ 0  0  0  0 -3  0  1]\n",
      " [ 0  0  0  0 -2  0  1]\n",
      " [ 0  0  0  0 -1  0  1]\n",
      " [ 0  0  0  0  1  0  1]\n",
      " [ 0  0  0  0  2  0  1]\n",
      " [ 0  0  0  0  3  0  1]\n",
      " [ 0  0  0  1 -4  0  1]\n",
      " [ 0  0  0  1 -3  0  1]\n",
      " [ 0  0  0  1 -2  0  1]\n",
      " [ 0  0  0  1 -1  0  1]\n",
      " [ 0  0  0  1  0  0  1]\n",
      " [ 0  0  0  1  1  0  1]\n",
      " [ 0  0  0  1  2  0  1]\n",
      " [ 0  0  0  1  3  0  1]\n",
      " [ 0  0  0  2 -4  0  1]\n",
      " [ 0  0  0  2 -3  0  1]\n",
      " [ 0  0  0  2 -2  0  1]\n",
      " [ 0  0  0  2 -1  0  1]\n",
      " [ 0  0  0  2  0  0  1]\n",
      " [ 0  0  0  2  1  0  1]\n",
      " [ 0  0  0  2  2  0  1]\n",
      " [ 0  0  0  3 -4  0  1]\n",
      " [ 0  0  0  3 -3  0  1]\n",
      " [ 0  0  0  3 -2  0  1]\n",
      " [ 0  0  0  3 -1  0  1]\n",
      " [ 0  0  0  3  0  0  1]\n",
      " [ 0  0  0  3  1  0  1]\n",
      " [ 0  0  0  4 -3  0  1]\n",
      " [ 0  0  0  4 -2  0  1]\n",
      " [ 0  0  0  4 -1  0  1]]\n",
      "Corresponding swapped pair not found [[ 0  0  0 -4  1  0  1]\n",
      " [ 0  0  0 -4  2  0  1]\n",
      " [ 0  0  0 -4  3  0  1]\n",
      " [ 0  0  0 -3 -1  0  1]\n",
      " [ 0  0  0 -3  0  0  1]\n",
      " [ 0  0  0 -3  1  0  1]\n",
      " [ 0  0  0 -3  2  0  1]\n",
      " [ 0  0  0 -3  3  0  1]\n",
      " [ 0  0  0 -3  4  0  1]\n",
      " [ 0  0  0 -2 -2  0  1]\n",
      " [ 0  0  0 -2 -1  0  1]\n",
      " [ 0  0  0 -2  0  0  1]\n",
      " [ 0  0  0 -2  1  0  1]\n",
      " [ 0  0  0 -2  2  0  1]\n",
      " [ 0  0  0 -2  3  0  1]\n",
      " [ 0  0  0 -2  4  0  1]\n",
      " [ 0  0  0 -1 -3  0  1]\n",
      " [ 0  0  0 -1 -2  0  1]\n",
      " [ 0  0  0 -1 -1  0  1]\n",
      " [ 0  0  0 -1  0  0  1]\n",
      " [ 0  0  0 -1  1  0  1]\n",
      " [ 0  0  0 -1  2  0  1]\n",
      " [ 0  0  0 -1  3  0  1]\n",
      " [ 0  0  0 -1  4  0  1]\n",
      " [ 0  0  0  0 -3  0  1]\n",
      " [ 0  0  0  0 -2  0  1]\n",
      " [ 0  0  0  0 -1  0  1]\n",
      " [ 0  0  0  0  1  0  1]\n",
      " [ 0  0  0  0  2  0  1]\n",
      " [ 0  0  0  0  3  0  1]\n",
      " [ 0  0  0  1 -4  0  1]\n",
      " [ 0  0  0  1 -3  0  1]\n",
      " [ 0  0  0  1 -2  0  1]\n",
      " [ 0  0  0  1 -1  0  1]\n",
      " [ 0  0  0  1  0  0  1]\n",
      " [ 0  0  0  1  1  0  1]\n",
      " [ 0  0  0  1  2  0  1]\n",
      " [ 0  0  0  1  3  0  1]\n",
      " [ 0  0  0  2 -4  0  1]\n",
      " [ 0  0  0  2 -3  0  1]\n",
      " [ 0  0  0  2 -2  0  1]\n",
      " [ 0  0  0  2 -1  0  1]\n",
      " [ 0  0  0  2  0  0  1]\n",
      " [ 0  0  0  2  1  0  1]\n",
      " [ 0  0  0  2  2  0  1]\n",
      " [ 0  0  0  3 -4  0  1]\n",
      " [ 0  0  0  3 -3  0  1]\n",
      " [ 0  0  0  3 -2  0  1]\n",
      " [ 0  0  0  3 -1  0  1]\n",
      " [ 0  0  0  3  0  0  1]\n",
      " [ 0  0  0  3  1  0  1]\n",
      " [ 0  0  0  4 -3  0  1]\n",
      " [ 0  0  0  4 -2  0  1]\n",
      " [ 0  0  0  4 -1  0  1]]\n",
      "Corresponding swapped pair not found [[ 0  0  0 -4  1  0  1]\n",
      " [ 0  0  0 -4  2  0  1]\n",
      " [ 0  0  0 -4  3  0  1]\n",
      " [ 0  0  0 -3 -1  0  1]\n",
      " [ 0  0  0 -3  0  0  1]\n",
      " [ 0  0  0 -3  1  0  1]\n",
      " [ 0  0  0 -3  2  0  1]\n",
      " [ 0  0  0 -3  3  0  1]\n",
      " [ 0  0  0 -3  4  0  1]\n",
      " [ 0  0  0 -2 -2  0  1]\n",
      " [ 0  0  0 -2 -1  0  1]\n",
      " [ 0  0  0 -2  0  0  1]\n",
      " [ 0  0  0 -2  1  0  1]\n",
      " [ 0  0  0 -2  2  0  1]\n",
      " [ 0  0  0 -2  3  0  1]\n",
      " [ 0  0  0 -2  4  0  1]\n",
      " [ 0  0  0 -1 -3  0  1]\n",
      " [ 0  0  0 -1 -2  0  1]\n",
      " [ 0  0  0 -1 -1  0  1]\n",
      " [ 0  0  0 -1  0  0  1]\n",
      " [ 0  0  0 -1  1  0  1]\n",
      " [ 0  0  0 -1  2  0  1]\n",
      " [ 0  0  0 -1  3  0  1]\n",
      " [ 0  0  0 -1  4  0  1]\n",
      " [ 0  0  0  0 -3  0  1]\n",
      " [ 0  0  0  0 -2  0  1]\n",
      " [ 0  0  0  0 -1  0  1]\n",
      " [ 0  0  0  0  1  0  1]\n",
      " [ 0  0  0  0  2  0  1]\n",
      " [ 0  0  0  0  3  0  1]\n",
      " [ 0  0  0  1 -4  0  1]\n",
      " [ 0  0  0  1 -3  0  1]\n",
      " [ 0  0  0  1 -2  0  1]\n",
      " [ 0  0  0  1 -1  0  1]\n",
      " [ 0  0  0  1  0  0  1]\n",
      " [ 0  0  0  1  1  0  1]\n",
      " [ 0  0  0  1  2  0  1]\n",
      " [ 0  0  0  1  3  0  1]\n",
      " [ 0  0  0  2 -4  0  1]\n",
      " [ 0  0  0  2 -3  0  1]\n",
      " [ 0  0  0  2 -2  0  1]\n",
      " [ 0  0  0  2 -1  0  1]\n",
      " [ 0  0  0  2  0  0  1]\n",
      " [ 0  0  0  2  1  0  1]\n",
      " [ 0  0  0  2  2  0  1]\n",
      " [ 0  0  0  3 -4  0  1]\n",
      " [ 0  0  0  3 -3  0  1]\n",
      " [ 0  0  0  3 -2  0  1]\n",
      " [ 0  0  0  3 -1  0  1]\n",
      " [ 0  0  0  3  0  0  1]\n",
      " [ 0  0  0  3  1  0  1]\n",
      " [ 0  0  0  4 -3  0  1]\n",
      " [ 0  0  0  4 -2  0  1]\n",
      " [ 0  0  0  4 -1  0  1]]\n",
      "Corresponding swapped pair not found [[ 0  0  0 -4  1  0  1]\n",
      " [ 0  0  0 -4  2  0  1]\n",
      " [ 0  0  0 -4  3  0  1]\n",
      " [ 0  0  0 -3 -1  0  1]\n",
      " [ 0  0  0 -3  0  0  1]\n",
      " [ 0  0  0 -3  1  0  1]\n",
      " [ 0  0  0 -3  2  0  1]\n",
      " [ 0  0  0 -3  3  0  1]\n",
      " [ 0  0  0 -3  4  0  1]\n",
      " [ 0  0  0 -2 -2  0  1]\n",
      " [ 0  0  0 -2 -1  0  1]\n",
      " [ 0  0  0 -2  0  0  1]\n",
      " [ 0  0  0 -2  1  0  1]\n",
      " [ 0  0  0 -2  2  0  1]\n",
      " [ 0  0  0 -2  3  0  1]\n",
      " [ 0  0  0 -2  4  0  1]\n",
      " [ 0  0  0 -1 -3  0  1]\n",
      " [ 0  0  0 -1 -2  0  1]\n",
      " [ 0  0  0 -1 -1  0  1]\n",
      " [ 0  0  0 -1  0  0  1]\n",
      " [ 0  0  0 -1  1  0  1]\n",
      " [ 0  0  0 -1  2  0  1]\n",
      " [ 0  0  0 -1  3  0  1]\n",
      " [ 0  0  0 -1  4  0  1]\n",
      " [ 0  0  0  0 -3  0  1]\n",
      " [ 0  0  0  0 -2  0  1]\n",
      " [ 0  0  0  0 -1  0  1]\n",
      " [ 0  0  0  0  1  0  1]\n",
      " [ 0  0  0  0  2  0  1]\n",
      " [ 0  0  0  0  3  0  1]\n",
      " [ 0  0  0  1 -4  0  1]\n",
      " [ 0  0  0  1 -3  0  1]\n",
      " [ 0  0  0  1 -2  0  1]\n",
      " [ 0  0  0  1 -1  0  1]\n",
      " [ 0  0  0  1  0  0  1]\n",
      " [ 0  0  0  1  1  0  1]\n",
      " [ 0  0  0  1  2  0  1]\n",
      " [ 0  0  0  1  3  0  1]\n",
      " [ 0  0  0  2 -4  0  1]\n",
      " [ 0  0  0  2 -3  0  1]\n",
      " [ 0  0  0  2 -2  0  1]\n",
      " [ 0  0  0  2 -1  0  1]\n",
      " [ 0  0  0  2  0  0  1]\n",
      " [ 0  0  0  2  1  0  1]\n",
      " [ 0  0  0  2  2  0  1]\n",
      " [ 0  0  0  3 -4  0  1]\n",
      " [ 0  0  0  3 -3  0  1]\n",
      " [ 0  0  0  3 -2  0  1]\n",
      " [ 0  0  0  3 -1  0  1]\n",
      " [ 0  0  0  3  0  0  1]\n",
      " [ 0  0  0  3  1  0  1]\n",
      " [ 0  0  0  4 -3  0  1]\n",
      " [ 0  0  0  4 -2  0  1]\n",
      " [ 0  0  0  4 -1  0  1]]\n",
      "Corresponding swapped pair not found [[ 0  0  0 -4  1  0  1]\n",
      " [ 0  0  0 -4  2  0  1]\n",
      " [ 0  0  0 -4  3  0  1]\n",
      " [ 0  0  0 -3 -1  0  1]\n",
      " [ 0  0  0 -3  0  0  1]\n",
      " [ 0  0  0 -3  1  0  1]\n",
      " [ 0  0  0 -3  2  0  1]\n",
      " [ 0  0  0 -3  3  0  1]\n",
      " [ 0  0  0 -3  4  0  1]\n",
      " [ 0  0  0 -2 -2  0  1]\n",
      " [ 0  0  0 -2 -1  0  1]\n",
      " [ 0  0  0 -2  0  0  1]\n",
      " [ 0  0  0 -2  1  0  1]\n",
      " [ 0  0  0 -2  2  0  1]\n",
      " [ 0  0  0 -2  3  0  1]\n",
      " [ 0  0  0 -2  4  0  1]\n",
      " [ 0  0  0 -1 -3  0  1]\n",
      " [ 0  0  0 -1 -2  0  1]\n",
      " [ 0  0  0 -1 -1  0  1]\n",
      " [ 0  0  0 -1  0  0  1]\n",
      " [ 0  0  0 -1  1  0  1]\n",
      " [ 0  0  0 -1  2  0  1]\n",
      " [ 0  0  0 -1  3  0  1]\n",
      " [ 0  0  0 -1  4  0  1]\n",
      " [ 0  0  0  0 -3  0  1]\n",
      " [ 0  0  0  0 -2  0  1]\n",
      " [ 0  0  0  0 -1  0  1]\n",
      " [ 0  0  0  0  1  0  1]\n",
      " [ 0  0  0  0  2  0  1]\n",
      " [ 0  0  0  0  3  0  1]\n",
      " [ 0  0  0  1 -4  0  1]\n",
      " [ 0  0  0  1 -3  0  1]\n",
      " [ 0  0  0  1 -2  0  1]\n",
      " [ 0  0  0  1 -1  0  1]\n",
      " [ 0  0  0  1  0  0  1]\n",
      " [ 0  0  0  1  1  0  1]\n",
      " [ 0  0  0  1  2  0  1]\n",
      " [ 0  0  0  1  3  0  1]\n",
      " [ 0  0  0  2 -4  0  1]\n",
      " [ 0  0  0  2 -3  0  1]\n",
      " [ 0  0  0  2 -2  0  1]\n",
      " [ 0  0  0  2 -1  0  1]\n",
      " [ 0  0  0  2  0  0  1]\n",
      " [ 0  0  0  2  1  0  1]\n",
      " [ 0  0  0  2  2  0  1]\n",
      " [ 0  0  0  3 -4  0  1]\n",
      " [ 0  0  0  3 -3  0  1]\n",
      " [ 0  0  0  3 -2  0  1]\n",
      " [ 0  0  0  3 -1  0  1]\n",
      " [ 0  0  0  3  0  0  1]\n",
      " [ 0  0  0  3  1  0  1]\n",
      " [ 0  0  0  4 -3  0  1]\n",
      " [ 0  0  0  4 -2  0  1]\n",
      " [ 0  0  0  4 -1  0  1]]\n",
      "Corresponding swapped pair not found [[ 0  0  0 -4  1  0  1]\n",
      " [ 0  0  0 -4  2  0  1]\n",
      " [ 0  0  0 -4  3  0  1]\n",
      " [ 0  0  0 -3 -1  0  1]\n",
      " [ 0  0  0 -3  0  0  1]\n",
      " [ 0  0  0 -3  1  0  1]\n",
      " [ 0  0  0 -3  2  0  1]\n",
      " [ 0  0  0 -3  3  0  1]\n",
      " [ 0  0  0 -3  4  0  1]\n",
      " [ 0  0  0 -2 -2  0  1]\n",
      " [ 0  0  0 -2 -1  0  1]\n",
      " [ 0  0  0 -2  0  0  1]\n",
      " [ 0  0  0 -2  1  0  1]\n",
      " [ 0  0  0 -2  2  0  1]\n",
      " [ 0  0  0 -2  3  0  1]\n",
      " [ 0  0  0 -2  4  0  1]\n",
      " [ 0  0  0 -1 -3  0  1]\n",
      " [ 0  0  0 -1 -2  0  1]\n",
      " [ 0  0  0 -1 -1  0  1]\n",
      " [ 0  0  0 -1  0  0  1]\n",
      " [ 0  0  0 -1  1  0  1]\n",
      " [ 0  0  0 -1  2  0  1]\n",
      " [ 0  0  0 -1  3  0  1]\n",
      " [ 0  0  0 -1  4  0  1]\n",
      " [ 0  0  0  0 -3  0  1]\n",
      " [ 0  0  0  0 -2  0  1]\n",
      " [ 0  0  0  0 -1  0  1]\n",
      " [ 0  0  0  0  1  0  1]\n",
      " [ 0  0  0  0  2  0  1]\n",
      " [ 0  0  0  0  3  0  1]\n",
      " [ 0  0  0  1 -4  0  1]\n",
      " [ 0  0  0  1 -3  0  1]\n",
      " [ 0  0  0  1 -2  0  1]\n",
      " [ 0  0  0  1 -1  0  1]\n",
      " [ 0  0  0  1  0  0  1]\n",
      " [ 0  0  0  1  1  0  1]\n",
      " [ 0  0  0  1  2  0  1]\n",
      " [ 0  0  0  1  3  0  1]\n",
      " [ 0  0  0  2 -4  0  1]\n",
      " [ 0  0  0  2 -3  0  1]\n",
      " [ 0  0  0  2 -2  0  1]\n",
      " [ 0  0  0  2 -1  0  1]\n",
      " [ 0  0  0  2  0  0  1]\n",
      " [ 0  0  0  2  1  0  1]\n",
      " [ 0  0  0  2  2  0  1]\n",
      " [ 0  0  0  3 -4  0  1]\n",
      " [ 0  0  0  3 -3  0  1]\n",
      " [ 0  0  0  3 -2  0  1]\n",
      " [ 0  0  0  3 -1  0  1]\n",
      " [ 0  0  0  3  0  0  1]\n",
      " [ 0  0  0  3  1  0  1]\n",
      " [ 0  0  0  4 -3  0  1]\n",
      " [ 0  0  0  4 -2  0  1]\n",
      " [ 0  0  0  4 -1  0  1]]\n",
      "Corresponding swapped pair not found [[ 0  0  0 -4  1  0  1]\n",
      " [ 0  0  0 -4  2  0  1]\n",
      " [ 0  0  0 -4  3  0  1]\n",
      " [ 0  0  0 -3 -1  0  1]\n",
      " [ 0  0  0 -3  0  0  1]\n",
      " [ 0  0  0 -3  1  0  1]\n",
      " [ 0  0  0 -3  2  0  1]\n",
      " [ 0  0  0 -3  3  0  1]\n",
      " [ 0  0  0 -3  4  0  1]\n",
      " [ 0  0  0 -2 -2  0  1]\n",
      " [ 0  0  0 -2 -1  0  1]\n",
      " [ 0  0  0 -2  0  0  1]\n",
      " [ 0  0  0 -2  1  0  1]\n",
      " [ 0  0  0 -2  2  0  1]\n",
      " [ 0  0  0 -2  3  0  1]\n",
      " [ 0  0  0 -2  4  0  1]\n",
      " [ 0  0  0 -1 -3  0  1]\n",
      " [ 0  0  0 -1 -2  0  1]\n",
      " [ 0  0  0 -1 -1  0  1]\n",
      " [ 0  0  0 -1  0  0  1]\n",
      " [ 0  0  0 -1  1  0  1]\n",
      " [ 0  0  0 -1  2  0  1]\n",
      " [ 0  0  0 -1  3  0  1]\n",
      " [ 0  0  0 -1  4  0  1]\n",
      " [ 0  0  0  0 -3  0  1]\n",
      " [ 0  0  0  0 -2  0  1]\n",
      " [ 0  0  0  0 -1  0  1]\n",
      " [ 0  0  0  0  1  0  1]\n",
      " [ 0  0  0  0  2  0  1]\n",
      " [ 0  0  0  0  3  0  1]\n",
      " [ 0  0  0  1 -4  0  1]\n",
      " [ 0  0  0  1 -3  0  1]\n",
      " [ 0  0  0  1 -2  0  1]\n",
      " [ 0  0  0  1 -1  0  1]\n",
      " [ 0  0  0  1  0  0  1]\n",
      " [ 0  0  0  1  1  0  1]\n",
      " [ 0  0  0  1  2  0  1]\n",
      " [ 0  0  0  1  3  0  1]\n",
      " [ 0  0  0  2 -4  0  1]\n",
      " [ 0  0  0  2 -3  0  1]\n",
      " [ 0  0  0  2 -2  0  1]\n",
      " [ 0  0  0  2 -1  0  1]\n",
      " [ 0  0  0  2  0  0  1]\n",
      " [ 0  0  0  2  1  0  1]\n",
      " [ 0  0  0  2  2  0  1]\n",
      " [ 0  0  0  3 -4  0  1]\n",
      " [ 0  0  0  3 -3  0  1]\n",
      " [ 0  0  0  3 -2  0  1]\n",
      " [ 0  0  0  3 -1  0  1]\n",
      " [ 0  0  0  3  0  0  1]\n",
      " [ 0  0  0  3  1  0  1]\n",
      " [ 0  0  0  4 -3  0  1]\n",
      " [ 0  0  0  4 -2  0  1]\n",
      " [ 0  0  0  4 -1  0  1]]\n",
      "Corresponding swapped pair not found [[ 0  0  0 -4  1  0  1]\n",
      " [ 0  0  0 -4  2  0  1]\n",
      " [ 0  0  0 -4  3  0  1]\n",
      " [ 0  0  0 -3 -1  0  1]\n",
      " [ 0  0  0 -3  0  0  1]\n",
      " [ 0  0  0 -3  1  0  1]\n",
      " [ 0  0  0 -3  2  0  1]\n",
      " [ 0  0  0 -3  3  0  1]\n",
      " [ 0  0  0 -3  4  0  1]\n",
      " [ 0  0  0 -2 -2  0  1]\n",
      " [ 0  0  0 -2 -1  0  1]\n",
      " [ 0  0  0 -2  0  0  1]\n",
      " [ 0  0  0 -2  1  0  1]\n",
      " [ 0  0  0 -2  2  0  1]\n",
      " [ 0  0  0 -2  3  0  1]\n",
      " [ 0  0  0 -2  4  0  1]\n",
      " [ 0  0  0 -1 -3  0  1]\n",
      " [ 0  0  0 -1 -2  0  1]\n",
      " [ 0  0  0 -1 -1  0  1]\n",
      " [ 0  0  0 -1  0  0  1]\n",
      " [ 0  0  0 -1  1  0  1]\n",
      " [ 0  0  0 -1  2  0  1]\n",
      " [ 0  0  0 -1  3  0  1]\n",
      " [ 0  0  0 -1  4  0  1]\n",
      " [ 0  0  0  0 -3  0  1]\n",
      " [ 0  0  0  0 -2  0  1]\n",
      " [ 0  0  0  0 -1  0  1]\n",
      " [ 0  0  0  0  1  0  1]\n",
      " [ 0  0  0  0  2  0  1]\n",
      " [ 0  0  0  0  3  0  1]\n",
      " [ 0  0  0  1 -4  0  1]\n",
      " [ 0  0  0  1 -3  0  1]\n",
      " [ 0  0  0  1 -2  0  1]\n",
      " [ 0  0  0  1 -1  0  1]\n",
      " [ 0  0  0  1  0  0  1]\n",
      " [ 0  0  0  1  1  0  1]\n",
      " [ 0  0  0  1  2  0  1]\n",
      " [ 0  0  0  1  3  0  1]\n",
      " [ 0  0  0  2 -4  0  1]\n",
      " [ 0  0  0  2 -3  0  1]\n",
      " [ 0  0  0  2 -2  0  1]\n",
      " [ 0  0  0  2 -1  0  1]\n",
      " [ 0  0  0  2  0  0  1]\n",
      " [ 0  0  0  2  1  0  1]\n",
      " [ 0  0  0  2  2  0  1]\n",
      " [ 0  0  0  3 -4  0  1]\n",
      " [ 0  0  0  3 -3  0  1]\n",
      " [ 0  0  0  3 -2  0  1]\n",
      " [ 0  0  0  3 -1  0  1]\n",
      " [ 0  0  0  3  0  0  1]\n",
      " [ 0  0  0  3  1  0  1]\n",
      " [ 0  0  0  4 -3  0  1]\n",
      " [ 0  0  0  4 -2  0  1]\n",
      " [ 0  0  0  4 -1  0  1]]\n",
      "Corresponding swapped pair not found [[ 0  1  1 -4  1  0  1]\n",
      " [ 0  1  1 -4  2  0  1]\n",
      " [ 0  1  1 -4  3  0  1]\n",
      " [ 0  1  1 -3 -1  0  1]\n",
      " [ 0  1  1 -3  0  0  1]\n",
      " [ 0  1  1 -3  1  0  1]\n",
      " [ 0  1  1 -3  2  0  1]\n",
      " [ 0  1  1 -3  3  0  1]\n",
      " [ 0  1  1 -3  4  0  1]\n",
      " [ 0  1  1 -2 -2  0  1]\n",
      " [ 0  1  1 -2 -1  0  1]\n",
      " [ 0  1  1 -2  0  0  1]\n",
      " [ 0  1  1 -2  1  0  1]\n",
      " [ 0  1  1 -2  2  0  1]\n",
      " [ 0  1  1 -2  3  0  1]\n",
      " [ 0  1  1 -2  4  0  1]\n",
      " [ 0  1  1 -1 -3  0  1]\n",
      " [ 0  1  1 -1 -2  0  1]\n",
      " [ 0  1  1 -1 -1  0  1]\n",
      " [ 0  1  1 -1  0  0  1]\n",
      " [ 0  1  1 -1  1  0  1]\n",
      " [ 0  1  1 -1  2  0  1]\n",
      " [ 0  1  1 -1  3  0  1]\n",
      " [ 0  1  1 -1  4  0  1]\n",
      " [ 0  1  1  0 -3  0  1]\n",
      " [ 0  1  1  0 -2  0  1]\n",
      " [ 0  1  1  0 -1  0  1]\n",
      " [ 0  1  1  0  1  0  1]\n",
      " [ 0  1  1  0  2  0  1]\n",
      " [ 0  1  1  0  3  0  1]\n",
      " [ 0  1  1  1 -4  0  1]\n",
      " [ 0  1  1  1 -3  0  1]\n",
      " [ 0  1  1  1 -2  0  1]\n",
      " [ 0  1  1  1 -1  0  1]\n",
      " [ 0  1  1  1  0  0  1]\n",
      " [ 0  1  1  1  1  0  1]\n",
      " [ 0  1  1  1  2  0  1]\n",
      " [ 0  1  1  1  3  0  1]\n",
      " [ 0  1  1  2 -4  0  1]\n",
      " [ 0  1  1  2 -3  0  1]\n",
      " [ 0  1  1  2 -2  0  1]\n",
      " [ 0  1  1  2 -1  0  1]\n",
      " [ 0  1  1  2  0  0  1]\n",
      " [ 0  1  1  2  1  0  1]\n",
      " [ 0  1  1  2  2  0  1]\n",
      " [ 0  1  1  3 -4  0  1]\n",
      " [ 0  1  1  3 -3  0  1]\n",
      " [ 0  1  1  3 -2  0  1]\n",
      " [ 0  1  1  3 -1  0  1]\n",
      " [ 0  1  1  3  0  0  1]\n",
      " [ 0  1  1  3  1  0  1]\n",
      " [ 0  1  1  4 -3  0  1]\n",
      " [ 0  1  1  4 -2  0  1]\n",
      " [ 0  1  1  4 -1  0  1]]\n",
      "Corresponding swapped pair not found [[ 0  1  1 -4  1  0  1]\n",
      " [ 0  1  1 -4  2  0  1]\n",
      " [ 0  1  1 -4  3  0  1]\n",
      " [ 0  1  1 -3 -1  0  1]\n",
      " [ 0  1  1 -3  0  0  1]\n",
      " [ 0  1  1 -3  1  0  1]\n",
      " [ 0  1  1 -3  2  0  1]\n",
      " [ 0  1  1 -3  3  0  1]\n",
      " [ 0  1  1 -3  4  0  1]\n",
      " [ 0  1  1 -2 -2  0  1]\n",
      " [ 0  1  1 -2 -1  0  1]\n",
      " [ 0  1  1 -2  0  0  1]\n",
      " [ 0  1  1 -2  1  0  1]\n",
      " [ 0  1  1 -2  2  0  1]\n",
      " [ 0  1  1 -2  3  0  1]\n",
      " [ 0  1  1 -2  4  0  1]\n",
      " [ 0  1  1 -1 -3  0  1]\n",
      " [ 0  1  1 -1 -2  0  1]\n",
      " [ 0  1  1 -1 -1  0  1]\n",
      " [ 0  1  1 -1  0  0  1]\n",
      " [ 0  1  1 -1  1  0  1]\n",
      " [ 0  1  1 -1  2  0  1]\n",
      " [ 0  1  1 -1  3  0  1]\n",
      " [ 0  1  1 -1  4  0  1]\n",
      " [ 0  1  1  0 -3  0  1]\n",
      " [ 0  1  1  0 -2  0  1]\n",
      " [ 0  1  1  0 -1  0  1]\n",
      " [ 0  1  1  0  1  0  1]\n",
      " [ 0  1  1  0  2  0  1]\n",
      " [ 0  1  1  0  3  0  1]\n",
      " [ 0  1  1  1 -4  0  1]\n",
      " [ 0  1  1  1 -3  0  1]\n",
      " [ 0  1  1  1 -2  0  1]\n",
      " [ 0  1  1  1 -1  0  1]\n",
      " [ 0  1  1  1  0  0  1]\n",
      " [ 0  1  1  1  1  0  1]\n",
      " [ 0  1  1  1  2  0  1]\n",
      " [ 0  1  1  1  3  0  1]\n",
      " [ 0  1  1  2 -4  0  1]\n",
      " [ 0  1  1  2 -3  0  1]\n",
      " [ 0  1  1  2 -2  0  1]\n",
      " [ 0  1  1  2 -1  0  1]\n",
      " [ 0  1  1  2  0  0  1]\n",
      " [ 0  1  1  2  1  0  1]\n",
      " [ 0  1  1  2  2  0  1]\n",
      " [ 0  1  1  3 -4  0  1]\n",
      " [ 0  1  1  3 -3  0  1]\n",
      " [ 0  1  1  3 -2  0  1]\n",
      " [ 0  1  1  3 -1  0  1]\n",
      " [ 0  1  1  3  0  0  1]\n",
      " [ 0  1  1  3  1  0  1]\n",
      " [ 0  1  1  4 -3  0  1]\n",
      " [ 0  1  1  4 -2  0  1]\n",
      " [ 0  1  1  4 -1  0  1]]\n",
      "Corresponding swapped pair not found [[ 0  1  1 -4  1  0  1]\n",
      " [ 0  1  1 -4  2  0  1]\n",
      " [ 0  1  1 -4  3  0  1]\n",
      " [ 0  1  1 -3 -1  0  1]\n",
      " [ 0  1  1 -3  0  0  1]\n",
      " [ 0  1  1 -3  1  0  1]\n",
      " [ 0  1  1 -3  2  0  1]\n",
      " [ 0  1  1 -3  3  0  1]\n",
      " [ 0  1  1 -3  4  0  1]\n",
      " [ 0  1  1 -2 -2  0  1]\n",
      " [ 0  1  1 -2 -1  0  1]\n",
      " [ 0  1  1 -2  0  0  1]\n",
      " [ 0  1  1 -2  1  0  1]\n",
      " [ 0  1  1 -2  2  0  1]\n",
      " [ 0  1  1 -2  3  0  1]\n",
      " [ 0  1  1 -2  4  0  1]\n",
      " [ 0  1  1 -1 -3  0  1]\n",
      " [ 0  1  1 -1 -2  0  1]\n",
      " [ 0  1  1 -1 -1  0  1]\n",
      " [ 0  1  1 -1  0  0  1]\n",
      " [ 0  1  1 -1  1  0  1]\n",
      " [ 0  1  1 -1  2  0  1]\n",
      " [ 0  1  1 -1  3  0  1]\n",
      " [ 0  1  1 -1  4  0  1]\n",
      " [ 0  1  1  0 -3  0  1]\n",
      " [ 0  1  1  0 -2  0  1]\n",
      " [ 0  1  1  0 -1  0  1]\n",
      " [ 0  1  1  0  1  0  1]\n",
      " [ 0  1  1  0  2  0  1]\n",
      " [ 0  1  1  0  3  0  1]\n",
      " [ 0  1  1  1 -4  0  1]\n",
      " [ 0  1  1  1 -3  0  1]\n",
      " [ 0  1  1  1 -2  0  1]\n",
      " [ 0  1  1  1 -1  0  1]\n",
      " [ 0  1  1  1  0  0  1]\n",
      " [ 0  1  1  1  1  0  1]\n",
      " [ 0  1  1  1  2  0  1]\n",
      " [ 0  1  1  1  3  0  1]\n",
      " [ 0  1  1  2 -4  0  1]\n",
      " [ 0  1  1  2 -3  0  1]\n",
      " [ 0  1  1  2 -2  0  1]\n",
      " [ 0  1  1  2 -1  0  1]\n",
      " [ 0  1  1  2  0  0  1]\n",
      " [ 0  1  1  2  1  0  1]\n",
      " [ 0  1  1  2  2  0  1]\n",
      " [ 0  1  1  3 -4  0  1]\n",
      " [ 0  1  1  3 -3  0  1]\n",
      " [ 0  1  1  3 -2  0  1]\n",
      " [ 0  1  1  3 -1  0  1]\n",
      " [ 0  1  1  3  0  0  1]\n",
      " [ 0  1  1  3  1  0  1]\n",
      " [ 0  1  1  4 -3  0  1]\n",
      " [ 0  1  1  4 -2  0  1]\n",
      " [ 0  1  1  4 -1  0  1]]\n",
      "Corresponding swapped pair not found [[ 0  1  1 -4  1  0  1]\n",
      " [ 0  1  1 -4  2  0  1]\n",
      " [ 0  1  1 -4  3  0  1]\n",
      " [ 0  1  1 -3 -1  0  1]\n",
      " [ 0  1  1 -3  0  0  1]\n",
      " [ 0  1  1 -3  1  0  1]\n",
      " [ 0  1  1 -3  2  0  1]\n",
      " [ 0  1  1 -3  3  0  1]\n",
      " [ 0  1  1 -3  4  0  1]\n",
      " [ 0  1  1 -2 -2  0  1]\n",
      " [ 0  1  1 -2 -1  0  1]\n",
      " [ 0  1  1 -2  0  0  1]\n",
      " [ 0  1  1 -2  1  0  1]\n",
      " [ 0  1  1 -2  2  0  1]\n",
      " [ 0  1  1 -2  3  0  1]\n",
      " [ 0  1  1 -2  4  0  1]\n",
      " [ 0  1  1 -1 -3  0  1]\n",
      " [ 0  1  1 -1 -2  0  1]\n",
      " [ 0  1  1 -1 -1  0  1]\n",
      " [ 0  1  1 -1  0  0  1]\n",
      " [ 0  1  1 -1  1  0  1]\n",
      " [ 0  1  1 -1  2  0  1]\n",
      " [ 0  1  1 -1  3  0  1]\n",
      " [ 0  1  1 -1  4  0  1]\n",
      " [ 0  1  1  0 -3  0  1]\n",
      " [ 0  1  1  0 -2  0  1]\n",
      " [ 0  1  1  0 -1  0  1]\n",
      " [ 0  1  1  0  1  0  1]\n",
      " [ 0  1  1  0  2  0  1]\n",
      " [ 0  1  1  0  3  0  1]\n",
      " [ 0  1  1  1 -4  0  1]\n",
      " [ 0  1  1  1 -3  0  1]\n",
      " [ 0  1  1  1 -2  0  1]\n",
      " [ 0  1  1  1 -1  0  1]\n",
      " [ 0  1  1  1  0  0  1]\n",
      " [ 0  1  1  1  1  0  1]\n",
      " [ 0  1  1  1  2  0  1]\n",
      " [ 0  1  1  1  3  0  1]\n",
      " [ 0  1  1  2 -4  0  1]\n",
      " [ 0  1  1  2 -3  0  1]\n",
      " [ 0  1  1  2 -2  0  1]\n",
      " [ 0  1  1  2 -1  0  1]\n",
      " [ 0  1  1  2  0  0  1]\n",
      " [ 0  1  1  2  1  0  1]\n",
      " [ 0  1  1  2  2  0  1]\n",
      " [ 0  1  1  3 -4  0  1]\n",
      " [ 0  1  1  3 -3  0  1]\n",
      " [ 0  1  1  3 -2  0  1]\n",
      " [ 0  1  1  3 -1  0  1]\n",
      " [ 0  1  1  3  0  0  1]\n",
      " [ 0  1  1  3  1  0  1]\n",
      " [ 0  1  1  4 -3  0  1]\n",
      " [ 0  1  1  4 -2  0  1]\n",
      " [ 0  1  1  4 -1  0  1]]\n",
      "Corresponding swapped pair not found [[ 0  1  1 -4  1  0  1]\n",
      " [ 0  1  1 -4  2  0  1]\n",
      " [ 0  1  1 -4  3  0  1]\n",
      " [ 0  1  1 -3 -1  0  1]\n",
      " [ 0  1  1 -3  0  0  1]\n",
      " [ 0  1  1 -3  1  0  1]\n",
      " [ 0  1  1 -3  2  0  1]\n",
      " [ 0  1  1 -3  3  0  1]\n",
      " [ 0  1  1 -3  4  0  1]\n",
      " [ 0  1  1 -2 -2  0  1]\n",
      " [ 0  1  1 -2 -1  0  1]\n",
      " [ 0  1  1 -2  0  0  1]\n",
      " [ 0  1  1 -2  1  0  1]\n",
      " [ 0  1  1 -2  2  0  1]\n",
      " [ 0  1  1 -2  3  0  1]\n",
      " [ 0  1  1 -2  4  0  1]\n",
      " [ 0  1  1 -1 -3  0  1]\n",
      " [ 0  1  1 -1 -2  0  1]\n",
      " [ 0  1  1 -1 -1  0  1]\n",
      " [ 0  1  1 -1  0  0  1]\n",
      " [ 0  1  1 -1  1  0  1]\n",
      " [ 0  1  1 -1  2  0  1]\n",
      " [ 0  1  1 -1  3  0  1]\n",
      " [ 0  1  1 -1  4  0  1]\n",
      " [ 0  1  1  0 -3  0  1]\n",
      " [ 0  1  1  0 -2  0  1]\n",
      " [ 0  1  1  0 -1  0  1]\n",
      " [ 0  1  1  0  1  0  1]\n",
      " [ 0  1  1  0  2  0  1]\n",
      " [ 0  1  1  0  3  0  1]\n",
      " [ 0  1  1  1 -4  0  1]\n",
      " [ 0  1  1  1 -3  0  1]\n",
      " [ 0  1  1  1 -2  0  1]\n",
      " [ 0  1  1  1 -1  0  1]\n",
      " [ 0  1  1  1  0  0  1]\n",
      " [ 0  1  1  1  1  0  1]\n",
      " [ 0  1  1  1  2  0  1]\n",
      " [ 0  1  1  1  3  0  1]\n",
      " [ 0  1  1  2 -4  0  1]\n",
      " [ 0  1  1  2 -3  0  1]\n",
      " [ 0  1  1  2 -2  0  1]\n",
      " [ 0  1  1  2 -1  0  1]\n",
      " [ 0  1  1  2  0  0  1]\n",
      " [ 0  1  1  2  1  0  1]\n",
      " [ 0  1  1  2  2  0  1]\n",
      " [ 0  1  1  3 -4  0  1]\n",
      " [ 0  1  1  3 -3  0  1]\n",
      " [ 0  1  1  3 -2  0  1]\n",
      " [ 0  1  1  3 -1  0  1]\n",
      " [ 0  1  1  3  0  0  1]\n",
      " [ 0  1  1  3  1  0  1]\n",
      " [ 0  1  1  4 -3  0  1]\n",
      " [ 0  1  1  4 -2  0  1]\n",
      " [ 0  1  1  4 -1  0  1]]\n",
      "Corresponding swapped pair not found [[ 0  1  1 -4  1  0  1]\n",
      " [ 0  1  1 -4  2  0  1]\n",
      " [ 0  1  1 -4  3  0  1]\n",
      " [ 0  1  1 -3 -1  0  1]\n",
      " [ 0  1  1 -3  0  0  1]\n",
      " [ 0  1  1 -3  1  0  1]\n",
      " [ 0  1  1 -3  2  0  1]\n",
      " [ 0  1  1 -3  3  0  1]\n",
      " [ 0  1  1 -3  4  0  1]\n",
      " [ 0  1  1 -2 -2  0  1]\n",
      " [ 0  1  1 -2 -1  0  1]\n",
      " [ 0  1  1 -2  0  0  1]\n",
      " [ 0  1  1 -2  1  0  1]\n",
      " [ 0  1  1 -2  2  0  1]\n",
      " [ 0  1  1 -2  3  0  1]\n",
      " [ 0  1  1 -2  4  0  1]\n",
      " [ 0  1  1 -1 -3  0  1]\n",
      " [ 0  1  1 -1 -2  0  1]\n",
      " [ 0  1  1 -1 -1  0  1]\n",
      " [ 0  1  1 -1  0  0  1]\n",
      " [ 0  1  1 -1  1  0  1]\n",
      " [ 0  1  1 -1  2  0  1]\n",
      " [ 0  1  1 -1  3  0  1]\n",
      " [ 0  1  1 -1  4  0  1]\n",
      " [ 0  1  1  0 -3  0  1]\n",
      " [ 0  1  1  0 -2  0  1]\n",
      " [ 0  1  1  0 -1  0  1]\n",
      " [ 0  1  1  0  1  0  1]\n",
      " [ 0  1  1  0  2  0  1]\n",
      " [ 0  1  1  0  3  0  1]\n",
      " [ 0  1  1  1 -4  0  1]\n",
      " [ 0  1  1  1 -3  0  1]\n",
      " [ 0  1  1  1 -2  0  1]\n",
      " [ 0  1  1  1 -1  0  1]\n",
      " [ 0  1  1  1  0  0  1]\n",
      " [ 0  1  1  1  1  0  1]\n",
      " [ 0  1  1  1  2  0  1]\n",
      " [ 0  1  1  1  3  0  1]\n",
      " [ 0  1  1  2 -4  0  1]\n",
      " [ 0  1  1  2 -3  0  1]\n",
      " [ 0  1  1  2 -2  0  1]\n",
      " [ 0  1  1  2 -1  0  1]\n",
      " [ 0  1  1  2  0  0  1]\n",
      " [ 0  1  1  2  1  0  1]\n",
      " [ 0  1  1  2  2  0  1]\n",
      " [ 0  1  1  3 -4  0  1]\n",
      " [ 0  1  1  3 -3  0  1]\n",
      " [ 0  1  1  3 -2  0  1]\n",
      " [ 0  1  1  3 -1  0  1]\n",
      " [ 0  1  1  3  0  0  1]\n",
      " [ 0  1  1  3  1  0  1]\n",
      " [ 0  1  1  4 -3  0  1]\n",
      " [ 0  1  1  4 -2  0  1]\n",
      " [ 0  1  1  4 -1  0  1]]\n",
      "Corresponding swapped pair not found [[ 0  1  1 -4  1  0  1]\n",
      " [ 0  1  1 -4  2  0  1]\n",
      " [ 0  1  1 -4  3  0  1]\n",
      " [ 0  1  1 -3 -1  0  1]\n",
      " [ 0  1  1 -3  0  0  1]\n",
      " [ 0  1  1 -3  1  0  1]\n",
      " [ 0  1  1 -3  2  0  1]\n",
      " [ 0  1  1 -3  3  0  1]\n",
      " [ 0  1  1 -3  4  0  1]\n",
      " [ 0  1  1 -2 -2  0  1]\n",
      " [ 0  1  1 -2 -1  0  1]\n",
      " [ 0  1  1 -2  0  0  1]\n",
      " [ 0  1  1 -2  1  0  1]\n",
      " [ 0  1  1 -2  2  0  1]\n",
      " [ 0  1  1 -2  3  0  1]\n",
      " [ 0  1  1 -2  4  0  1]\n",
      " [ 0  1  1 -1 -3  0  1]\n",
      " [ 0  1  1 -1 -2  0  1]\n",
      " [ 0  1  1 -1 -1  0  1]\n",
      " [ 0  1  1 -1  0  0  1]\n",
      " [ 0  1  1 -1  1  0  1]\n",
      " [ 0  1  1 -1  2  0  1]\n",
      " [ 0  1  1 -1  3  0  1]\n",
      " [ 0  1  1 -1  4  0  1]\n",
      " [ 0  1  1  0 -3  0  1]\n",
      " [ 0  1  1  0 -2  0  1]\n",
      " [ 0  1  1  0 -1  0  1]\n",
      " [ 0  1  1  0  1  0  1]\n",
      " [ 0  1  1  0  2  0  1]\n",
      " [ 0  1  1  0  3  0  1]\n",
      " [ 0  1  1  1 -4  0  1]\n",
      " [ 0  1  1  1 -3  0  1]\n",
      " [ 0  1  1  1 -2  0  1]\n",
      " [ 0  1  1  1 -1  0  1]\n",
      " [ 0  1  1  1  0  0  1]\n",
      " [ 0  1  1  1  1  0  1]\n",
      " [ 0  1  1  1  2  0  1]\n",
      " [ 0  1  1  1  3  0  1]\n",
      " [ 0  1  1  2 -4  0  1]\n",
      " [ 0  1  1  2 -3  0  1]\n",
      " [ 0  1  1  2 -2  0  1]\n",
      " [ 0  1  1  2 -1  0  1]\n",
      " [ 0  1  1  2  0  0  1]\n",
      " [ 0  1  1  2  1  0  1]\n",
      " [ 0  1  1  2  2  0  1]\n",
      " [ 0  1  1  3 -4  0  1]\n",
      " [ 0  1  1  3 -3  0  1]\n",
      " [ 0  1  1  3 -2  0  1]\n",
      " [ 0  1  1  3 -1  0  1]\n",
      " [ 0  1  1  3  0  0  1]\n",
      " [ 0  1  1  3  1  0  1]\n",
      " [ 0  1  1  4 -3  0  1]\n",
      " [ 0  1  1  4 -2  0  1]\n",
      " [ 0  1  1  4 -1  0  1]]\n",
      "Corresponding swapped pair not found [[ 0  1  1 -4  1  0  1]\n",
      " [ 0  1  1 -4  2  0  1]\n",
      " [ 0  1  1 -4  3  0  1]\n",
      " [ 0  1  1 -3 -1  0  1]\n",
      " [ 0  1  1 -3  0  0  1]\n",
      " [ 0  1  1 -3  1  0  1]\n",
      " [ 0  1  1 -3  2  0  1]\n",
      " [ 0  1  1 -3  3  0  1]\n",
      " [ 0  1  1 -3  4  0  1]\n",
      " [ 0  1  1 -2 -2  0  1]\n",
      " [ 0  1  1 -2 -1  0  1]\n",
      " [ 0  1  1 -2  0  0  1]\n",
      " [ 0  1  1 -2  1  0  1]\n",
      " [ 0  1  1 -2  2  0  1]\n",
      " [ 0  1  1 -2  3  0  1]\n",
      " [ 0  1  1 -2  4  0  1]\n",
      " [ 0  1  1 -1 -3  0  1]\n",
      " [ 0  1  1 -1 -2  0  1]\n",
      " [ 0  1  1 -1 -1  0  1]\n",
      " [ 0  1  1 -1  0  0  1]\n",
      " [ 0  1  1 -1  1  0  1]\n",
      " [ 0  1  1 -1  2  0  1]\n",
      " [ 0  1  1 -1  3  0  1]\n",
      " [ 0  1  1 -1  4  0  1]\n",
      " [ 0  1  1  0 -3  0  1]\n",
      " [ 0  1  1  0 -2  0  1]\n",
      " [ 0  1  1  0 -1  0  1]\n",
      " [ 0  1  1  0  1  0  1]\n",
      " [ 0  1  1  0  2  0  1]\n",
      " [ 0  1  1  0  3  0  1]\n",
      " [ 0  1  1  1 -4  0  1]\n",
      " [ 0  1  1  1 -3  0  1]\n",
      " [ 0  1  1  1 -2  0  1]\n",
      " [ 0  1  1  1 -1  0  1]\n",
      " [ 0  1  1  1  0  0  1]\n",
      " [ 0  1  1  1  1  0  1]\n",
      " [ 0  1  1  1  2  0  1]\n",
      " [ 0  1  1  1  3  0  1]\n",
      " [ 0  1  1  2 -4  0  1]\n",
      " [ 0  1  1  2 -3  0  1]\n",
      " [ 0  1  1  2 -2  0  1]\n",
      " [ 0  1  1  2 -1  0  1]\n",
      " [ 0  1  1  2  0  0  1]\n",
      " [ 0  1  1  2  1  0  1]\n",
      " [ 0  1  1  2  2  0  1]\n",
      " [ 0  1  1  3 -4  0  1]\n",
      " [ 0  1  1  3 -3  0  1]\n",
      " [ 0  1  1  3 -2  0  1]\n",
      " [ 0  1  1  3 -1  0  1]\n",
      " [ 0  1  1  3  0  0  1]\n",
      " [ 0  1  1  3  1  0  1]\n",
      " [ 0  1  1  4 -3  0  1]\n",
      " [ 0  1  1  4 -2  0  1]\n",
      " [ 0  1  1  4 -1  0  1]]\n",
      "Corresponding swapped pair not found [[ 0  1  1 -4  1  0  1]\n",
      " [ 0  1  1 -4  2  0  1]\n",
      " [ 0  1  1 -4  3  0  1]\n",
      " [ 0  1  1 -3 -1  0  1]\n",
      " [ 0  1  1 -3  0  0  1]\n",
      " [ 0  1  1 -3  1  0  1]\n",
      " [ 0  1  1 -3  2  0  1]\n",
      " [ 0  1  1 -3  3  0  1]\n",
      " [ 0  1  1 -3  4  0  1]\n",
      " [ 0  1  1 -2 -2  0  1]\n",
      " [ 0  1  1 -2 -1  0  1]\n",
      " [ 0  1  1 -2  0  0  1]\n",
      " [ 0  1  1 -2  1  0  1]\n",
      " [ 0  1  1 -2  2  0  1]\n",
      " [ 0  1  1 -2  3  0  1]\n",
      " [ 0  1  1 -2  4  0  1]\n",
      " [ 0  1  1 -1 -3  0  1]\n",
      " [ 0  1  1 -1 -2  0  1]\n",
      " [ 0  1  1 -1 -1  0  1]\n",
      " [ 0  1  1 -1  0  0  1]\n",
      " [ 0  1  1 -1  1  0  1]\n",
      " [ 0  1  1 -1  2  0  1]\n",
      " [ 0  1  1 -1  3  0  1]\n",
      " [ 0  1  1 -1  4  0  1]\n",
      " [ 0  1  1  0 -3  0  1]\n",
      " [ 0  1  1  0 -2  0  1]\n",
      " [ 0  1  1  0 -1  0  1]\n",
      " [ 0  1  1  0  1  0  1]\n",
      " [ 0  1  1  0  2  0  1]\n",
      " [ 0  1  1  0  3  0  1]\n",
      " [ 0  1  1  1 -4  0  1]\n",
      " [ 0  1  1  1 -3  0  1]\n",
      " [ 0  1  1  1 -2  0  1]\n",
      " [ 0  1  1  1 -1  0  1]\n",
      " [ 0  1  1  1  0  0  1]\n",
      " [ 0  1  1  1  1  0  1]\n",
      " [ 0  1  1  1  2  0  1]\n",
      " [ 0  1  1  1  3  0  1]\n",
      " [ 0  1  1  2 -4  0  1]\n",
      " [ 0  1  1  2 -3  0  1]\n",
      " [ 0  1  1  2 -2  0  1]\n",
      " [ 0  1  1  2 -1  0  1]\n",
      " [ 0  1  1  2  0  0  1]\n",
      " [ 0  1  1  2  1  0  1]\n",
      " [ 0  1  1  2  2  0  1]\n",
      " [ 0  1  1  3 -4  0  1]\n",
      " [ 0  1  1  3 -3  0  1]\n",
      " [ 0  1  1  3 -2  0  1]\n",
      " [ 0  1  1  3 -1  0  1]\n",
      " [ 0  1  1  3  0  0  1]\n",
      " [ 0  1  1  3  1  0  1]\n",
      " [ 0  1  1  4 -3  0  1]\n",
      " [ 0  1  1  4 -2  0  1]\n",
      " [ 0  1  1  4 -1  0  1]]\n"
     ]
    }
   ],
   "source": [
    "max_radial  = 6\n",
    "max_angular = 4\n",
    "atomic_gaussian_width = 0.3\n",
    "cutoff=10\n",
    "spline_basis = False\n",
    "\n",
    "\n",
    "hypers_pair = {'cutoff': cutoff,\n",
    "               'max_radial': max_radial,\n",
    "               'max_angular': max_angular,\n",
    "               'atomic_gaussian_width': atomic_gaussian_width,\n",
    "               'center_atom_weight': 1,\n",
    "               \"radial_basis\": splined_basis if spline_basis else {\"Gto\": {}},\n",
    "               # \"radial_basis\": splined_basis,\n",
    "               \"cutoff_function\": {\"ShiftedCosine\": {\"width\": 0.1}}}\n",
    "LCUT=4\n",
    "hfeat = compute_features(dataset, ALL_PAIRS)"
   ]
  },
  {
   "cell_type": "code",
   "execution_count": 581,
   "id": "81c230b7-92c2-4010-ab87-c6af12b16dc2",
   "metadata": {},
   "outputs": [
    {
     "name": "stderr",
     "output_type": "stream",
     "text": [
      "/home/nigam/miniconda3/envs/temp/lib/python3.11/site-packages/sklearn/linear_model/_ridge.py:2057: RuntimeWarning: invalid value encountered in divide\n",
      "  squared_errors = (c / G_inverse_diag) ** 2\n",
      "/home/nigam/miniconda3/envs/temp/lib/python3.11/site-packages/sklearn/linear_model/_ridge.py:2057: RuntimeWarning: invalid value encountered in divide\n",
      "  squared_errors = (c / G_inverse_diag) ** 2\n",
      "/home/nigam/miniconda3/envs/temp/lib/python3.11/site-packages/sklearn/linear_model/_ridge.py:2057: RuntimeWarning: invalid value encountered in divide\n",
      "  squared_errors = (c / G_inverse_diag) ** 2\n",
      "/home/nigam/miniconda3/envs/temp/lib/python3.11/site-packages/sklearn/linear_model/_ridge.py:2057: RuntimeWarning: invalid value encountered in divide\n",
      "  squared_errors = (c / G_inverse_diag) ** 2\n",
      "/home/nigam/miniconda3/envs/temp/lib/python3.11/site-packages/sklearn/linear_model/_ridge.py:2057: RuntimeWarning: invalid value encountered in divide\n",
      "  squared_errors = (c / G_inverse_diag) ** 2\n",
      "/home/nigam/miniconda3/envs/temp/lib/python3.11/site-packages/sklearn/linear_model/_ridge.py:2057: RuntimeWarning: invalid value encountered in divide\n",
      "  squared_errors = (c / G_inverse_diag) ** 2\n",
      "/home/nigam/miniconda3/envs/temp/lib/python3.11/site-packages/sklearn/linear_model/_ridge.py:2057: RuntimeWarning: invalid value encountered in divide\n",
      "  squared_errors = (c / G_inverse_diag) ** 2\n",
      "/home/nigam/miniconda3/envs/temp/lib/python3.11/site-packages/sklearn/linear_model/_ridge.py:2057: RuntimeWarning: invalid value encountered in divide\n",
      "  squared_errors = (c / G_inverse_diag) ** 2\n",
      "/home/nigam/miniconda3/envs/temp/lib/python3.11/site-packages/sklearn/linear_model/_ridge.py:2057: RuntimeWarning: invalid value encountered in divide\n",
      "  squared_errors = (c / G_inverse_diag) ** 2\n",
      "/home/nigam/miniconda3/envs/temp/lib/python3.11/site-packages/sklearn/linear_model/_ridge.py:2057: RuntimeWarning: invalid value encountered in divide\n",
      "  squared_errors = (c / G_inverse_diag) ** 2\n"
     ]
    },
    {
     "name": "stdout",
     "output_type": "stream",
     "text": [
      "tensor(2.5692e-08)\n"
     ]
    }
   ],
   "source": [
    "model_ridge = LinearModelPeriodic(twocfeat = hfeat, \n",
    "                                  target_blocks = target_coupled_blocks,\n",
    "                                  frames = dataset.structures, orbitals = dataset.basis, \n",
    "                                  device = device)\n",
    "\n",
    "model_ridge = model_ridge.double()\n",
    "loss_ridge_bias, pred_ridge_bias, ridges_bias, loss_blocks = train_ridge(model_ridge, \n",
    "                                                                         target_coupled_blocks,\n",
    "                                                                         set_bias = True,\n",
    "                                                                         kernel_ridge = False,\n",
    "                                                                         alphas = np.logspace(-10, -2, 100),\n",
    "                                                                         # alpha = 1e-4\n",
    "                                                                        )\n",
    "print(loss_ridge_bias)"
   ]
  },
  {
   "cell_type": "code",
   "execution_count": 582,
   "id": "970100a3-15c8-46b5-beaa-41fd37604f9f",
   "metadata": {},
   "outputs": [
    {
     "data": {
      "image/png": "[encoded data removed]",
      "text/plain": [
       "<Figure size 1920x480 with 2 Axes>"
      ]
     },
     "metadata": {},
     "output_type": "display_data"
    }
   ],
   "source": [
    "from mlelec.utils.plot_utils import plot_block_errors\n",
    "fig,ax,ax_loss=plot_block_errors(target_coupled_blocks, pred_ridge_bias, plot_loss = True)\n",
    "ax_loss.set_ylim(1e-5,)\n",
    "ax.set_ylim(1e-5,)\n",
    "fig.tight_layout()"
   ]
  },
  {
   "cell_type": "code",
   "execution_count": 40,
   "id": "ff781e89",
   "metadata": {},
   "outputs": [],
   "source": [
    "rht_ridge = blocks_to_matrix(pred_ridge_bias, dataset)\n",
    "# rht_ridge1 = blocks_to_matrix(pred_ridge_bias, dataset, all_pairs= True)"
   ]
  },
  {
   "cell_type": "code",
   "execution_count": 41,
   "id": "abfcf8bc",
   "metadata": {},
   "outputs": [],
   "source": [
    "for ifr in range(len(rht_ridge)):\n",
    "    for T in rht[ifr]:\n",
    "        mT = tuple(-t for t in T)\n",
    "        assert torch.norm(rht_ridge[ifr][T] - rht_ridge[ifr][mT].T)<1e-12, torch.norm(rht_ridge[ifr][T] - rht_ridge[ifr][mT].T)"
   ]
  },
  {
   "cell_type": "code",
   "execution_count": 42,
   "id": "d1bcdb60",
   "metadata": {},
   "outputs": [],
   "source": [
    "from mlelec.utils.twocenter_utils import _to_uncoupled_basis\n",
    "unc_pred = _to_uncoupled_basis(pred_ridge_bias)\n",
    "phase, indices = precompute_phase(target_blocks, dataset, cutoff = cutoff)\n",
    "pred_kspace = TMap_bloch_sums(unc_pred, phase, indices, return_tensormap=True)"
   ]
  },
  {
   "cell_type": "code",
   "execution_count": 43,
   "id": "9de3bcbb",
   "metadata": {},
   "outputs": [
    {
     "name": "stdout",
     "output_type": "stream",
     "text": [
      "tensor(15.6268)\n"
     ]
    }
   ],
   "source": [
    "rhk = kblocks_to_matrix(pred_kspace, dataset,)\n",
    "print(torch.norm(rhk[0] - dataset.fock_kspace[0]))"
   ]
  },
  {
   "cell_type": "code",
   "execution_count": 583,
   "id": "4c9d9d5a",
   "metadata": {},
   "outputs": [],
   "source": [
    "seed = 10\n",
    "torch.manual_seed(seed)\n",
    "np.random.seed(seed)\n",
    "      \n",
    "model = LinearModelPeriodic(twocfeat = hfeat, \n",
    "                            target_blocks = target_coupled_blocks,\n",
    "                            frames = dataset.structures, orbitals = dataset.basis, \n",
    "                            device = device,\n",
    "                            bias = False, #True\n",
    "                            nhidden = 512, \n",
    "                            nlayers = 0,\n",
    "                            # activation = 'SiLU',\n",
    "                            # apply_norm = True\n",
    "                           )\n",
    "\n",
    "model = model.double()"
   ]
  },
  {
   "cell_type": "code",
   "execution_count": 584,
   "id": "90d0689f",
   "metadata": {},
   "outputs": [],
   "source": [
    "pred = model()"
   ]
  },
  {
   "cell_type": "code",
   "execution_count": 587,
   "id": "90995c1f-183c-4c79-9c4f-afa806c607fd",
   "metadata": {},
   "outputs": [],
   "source": [
    "from mlelec.utils.pbc_utils import TMap_bloch_sums\n",
    "from mlelec.utils.twocenter_utils import _to_uncoupled_basis"
   ]
  },
  {
   "cell_type": "code",
   "execution_count": 595,
   "id": "8d41e24e-9a75-4105-8a5f-ca2da8219412",
   "metadata": {},
   "outputs": [],
   "source": [
    "phase, indices = precompute_phase(_to_uncoupled_basis(pred), dataset, cutoff=cutoff)\n",
    "predk=TMap_bloch_sums(_to_uncoupled_basis(pred), phase, indices, return_tensormap=True)"
   ]
  },
  {
   "cell_type": "code",
   "execution_count": 599,
   "id": "69b318a5-14a4-45dc-8952-7babb6abd7af",
   "metadata": {},
   "outputs": [
    {
     "name": "stdout",
     "output_type": "stream",
     "text": [
      "hello tensor([[-0.0553+0.j]], grad_fn=<CloneBackward0>)\n"
     ]
    }
   ],
   "source": [
    "predk_mat = kblocks_to_matrix(predk, dataset)"
   ]
  },
  {
   "cell_type": "markdown",
   "id": "4c8a8d89-835a-433e-8732-365ef1508139",
   "metadata": {},
   "source": [
    "# MoS2"
   ]
  },
  {
   "cell_type": "code",
   "execution_count": 13,
   "id": "02f3c53f-6182-4cae-b162-909648ec3859",
   "metadata": {},
   "outputs": [
    {
     "name": "stderr",
     "output_type": "stream",
     "text": [
      "WARNING!\n",
      "  Very diffused basis functions are found in the basis set. They may lead to severe\n",
      "  linear dependence and numerical instability.  You can set  cell.exp_to_discard=0.1\n",
      "  to remove the diffused Gaussians whose exponents are less than 0.1.\n",
      "\n"
     ]
    }
   ],
   "source": [
    "workdir = '.'\n",
    "root = f'{workdir}/examples/data/periodic'\n",
    "ORBS = 'gthszvmolopt'\n",
    "START = 0\n",
    "STOP = 1\n",
    "frames = read(f'{root}/deepH_MoS2/deepH_MoS2.xyz', slice(START, STOP))\n",
    "for f in frames:\n",
    "    f.pbc= True\n",
    "\n",
    "kmesh = [[1,1,1]]\n",
    "rfock = [np.load(f\"{root}/deepH_MoS2/SVB/0/realfock_{i}.npy\", allow_pickle = True).item() for i in range(START, STOP)]\n",
    "rover = [np.load(f\"{root}/deepH_MoS2/SVB/0/realoverlap_{i}.npy\", allow_pickle = True).item() for i in range(START, STOP)]\n",
    "\n",
    "dataset = PySCFPeriodicDataset(frames = frames, \n",
    "                               kmesh = kmesh, \n",
    "                               fix_p_orbital_order=False,\n",
    "                               dimension = 2,\n",
    "                               fock_realspace = rfock, \n",
    "                               overlap_realspace = rover, \n",
    "                               device = device, \n",
    "                               orbs = orbitals[ORBS], \n",
    "                               orbs_name = 'gthszvmolopt'+'sr')"
   ]
  },
  {
   "cell_type": "code",
   "execution_count": 14,
   "id": "57ae5cf3-587f-46c2-abdf-f2b809613f25",
   "metadata": {
    "scrolled": true
   },
   "outputs": [],
   "source": [
    "cutoff = 50\n",
    "# target_blocks, target_coupled_blocks = get_targets(dataset, cutoff = cutoff, device = device, all_pairs = False, sort_orbs = SORT_ORBS)\n",
    "# target_blocks1, target_coupled_blocks1 = get_targets(dataset, cutoff = cutoff, device = device, all_pairs = True, sort_orbs = SORT_ORBS)"
   ]
  },
  {
   "cell_type": "code",
   "execution_count": 15,
   "id": "6ea4e542-d762-4214-bd31-2a0094c226b8",
   "metadata": {},
   "outputs": [
    {
     "name": "stdout",
     "output_type": "stream",
     "text": [
      "True True passed\n",
      "True False passed\n",
      "False True passed\n",
      "False False passed\n"
     ]
    }
   ],
   "source": [
    "for ALL_PAIRS in [True, False]:\n",
    "    for SORT_ORBS in [True, False]:\n",
    "        try:\n",
    "            kblocks = kmatrix_to_blocks(dataset, cutoff = cutoff, all_pairs = ALL_PAIRS, sort_orbs=SORT_ORBS)\n",
    "            rhk = kblocks_to_matrix(kblocks, dataset, all_pairs=ALL_PAIRS, sort_orbs=SORT_ORBS)        \n",
    "            for ifr in range(len(dataset.fock_kspace)):\n",
    "                for ik in range(len(dataset.fock_kspace[ifr])):\n",
    "                    # print(np.linalg.norm(kfock[ifr][ik] -kfock[ifr][ik].conj().T))\n",
    "                    # print(np.linalg.norm(kfock[ifr][ik]-rhk[ifr][ik].numpy()))\n",
    "                    assert (np.linalg.norm(dataset.fock_kspace[ifr][ik]-rhk[ifr][ik].numpy()))<1e-13, (ALL_PAIRS, SORT_ORBS,np.linalg.norm(dataset.fock_kspace[ifr][ik]-rhk[ifr][ik].numpy()))\n",
    "            print(ALL_PAIRS, SORT_ORBS, 'passed')\n",
    "        except Exception as e:\n",
    "            print(e)\n",
    "            print(ALL_PAIRS, SORT_ORBS, 'failed - moving on')\n",
    "            continue"
   ]
  },
  {
   "cell_type": "code",
   "execution_count": 16,
   "id": "56439228-be92-40e3-bbec-6cd1facd5d3a",
   "metadata": {},
   "outputs": [],
   "source": [
    "SORT_ORBS = True\n",
    "ALL_PAIRS = True"
   ]
  },
  {
   "cell_type": "code",
   "execution_count": 12,
   "id": "da9cd845",
   "metadata": {},
   "outputs": [],
   "source": [
    "kblocks = kmatrix_to_blocks(dataset, cutoff = cutoff, all_pairs= ALL_PAIRS, sort_orbs=SORT_ORBS)#, target='overlap')\n",
    "# kblocks_S = kmatrix_to_blocks(dataset, cutoff = cutoff, all_pairs= ALL_PAIRS, target='overlap', sort_orbs=SORT_ORBS)"
   ]
  },
  {
   "cell_type": "code",
   "execution_count": 13,
   "id": "7038508c-42e0-40d5-9f10-594dc5720ae2",
   "metadata": {},
   "outputs": [],
   "source": [
    "rhk = kblocks_to_matrix(kblocks, dataset, all_pairs=ALL_PAIRS, sort_orbs=SORT_ORBS)\n",
    "# rSk = kblocks_to_matrix(kblocks_S, dataset, all_pairs=ALL_PAIRS, sort_orbs=SORT_ORBS)"
   ]
  },
  {
   "cell_type": "code",
   "execution_count": 14,
   "id": "99e99306-6d5c-49c5-b243-0fb7a297200f",
   "metadata": {},
   "outputs": [
    {
     "name": "stdout",
     "output_type": "stream",
     "text": [
      "7.311771605807756e-14\n"
     ]
    }
   ],
   "source": [
    "kfock = dataset.fock_kspace\n",
    "for ifr in range(len(kfock)):\n",
    "    for ik in range(len(kfock[ifr])):\n",
    "        # print(np.linalg.norm(kfock[ifr][ik] -kfock[ifr][ik].conj().T))\n",
    "        print(np.linalg.norm(kfock[ifr][ik]-rhk[ifr][ik].numpy()))"
   ]
  },
  {
   "cell_type": "code",
   "execution_count": 29,
   "id": "04a21277-c341-4a1e-bcf8-c74dc06693f6",
   "metadata": {},
   "outputs": [
    {
     "data": {
      "text/plain": [
       "<matplotlib.colorbar.Colorbar at 0x7f5ad28e26d0>"
      ]
     },
     "execution_count": 29,
     "metadata": {},
     "output_type": "execute_result"
    },
    {
     "data": {
      "image/png": "[encoded data removed]",
      "text/plain": [
       "<Figure size 480x480 with 2 Axes>"
      ]
     },
     "metadata": {},
     "output_type": "display_data"
    }
   ],
   "source": [
    "plt.matshow((kfock[ifr][0] -rhk[ifr][0].numpy()).real)\n",
    "plt.colorbar()"
   ]
  },
  {
   "cell_type": "code",
   "execution_count": 444,
   "id": "e6bd5336-26d7-4b4a-ad21-74278166ecc6",
   "metadata": {},
   "outputs": [
    {
     "data": {
      "text/plain": [
       "(tensor(0.0570+0.j), (0.05144206335160119+0j))"
      ]
     },
     "execution_count": 444,
     "metadata": {},
     "output_type": "execute_result"
    }
   ],
   "source": [
    "kfock[ifr][ik][1,12],rhk[ifr][ik].numpy()[1,12]*200\n"
   ]
  },
  {
   "cell_type": "code",
   "execution_count": 559,
   "id": "04da777e-8e40-4214-bd6b-6414f0610044",
   "metadata": {},
   "outputs": [],
   "source": [
    "from scipy.linalg import eigvalsh\n",
    "eigactual = []\n",
    "eigcut=[]\n",
    "for ik in range(len(dataset.fock_kspace[0])):\n",
    "    eigactual.append(eigvalsh(dataset.fock_kspace[0][ik].numpy(), dataset.overlap_kspace[0][ik].numpy()))\n",
    "    eigcut.append(eigvalsh(rhk[0][ik].numpy(), rSk[0][ik].numpy()))\n",
    "eigactual = np.concatenate(eigactual)\n",
    "eigcut = np.concatenate(eigcut)    "
   ]
  },
  {
   "cell_type": "code",
   "execution_count": 560,
   "id": "52271b95-3321-4226-8f1a-ec296e7f4b70",
   "metadata": {},
   "outputs": [
    {
     "data": {
      "text/plain": [
       "(-2.0, 0.6524677627897296)"
      ]
     },
     "execution_count": 560,
     "metadata": {},
     "output_type": "execute_result"
    },
    {
     "data": {
      "image/png": "[encoded data removed]",
      "text/plain": [
       "<Figure size 640x480 with 1 Axes>"
      ]
     },
     "metadata": {},
     "output_type": "display_data"
    }
   ],
   "source": [
    "plt.plot(eigactual, eigcut, 'o')\n",
    "plt.plot([np.min(eigactual), np.max(eigactual)],[np.min(eigactual), np.max(eigactual)])\n",
    "plt.ylim(-2,)\n",
    "plt.xlim(-2,)"
   ]
  },
  {
   "cell_type": "code",
   "execution_count": 36,
   "id": "083884d1-c3b2-41b8-92a8-f0dacf91ba6d",
   "metadata": {},
   "outputs": [],
   "source": [
    "blocks = matrix_to_blocks(dataset, cutoff = cutoff, all_pairs= ALL_PAIRS, sort_orbs=SORT_ORBS)#, target='overlap')\n",
    "blocks_S = matrix_to_blocks(dataset, cutoff = cutoff, all_pairs= ALL_PAIRS, target='overlap', sort_orbs=SORT_ORBS)"
   ]
  },
  {
   "cell_type": "code",
   "execution_count": 37,
   "id": "525859ca-2d02-4d6c-86ba-d4318250abdc",
   "metadata": {},
   "outputs": [],
   "source": [
    "rh = blocks_to_matrix(blocks, dataset, all_pairs=ALL_PAIRS, sort_orbs=SORT_ORBS)\n",
    "rS = blocks_to_matrix(blocks_S, dataset, all_pairs=ALL_PAIRS, sort_orbs=SORT_ORBS)"
   ]
  },
  {
   "cell_type": "code",
   "execution_count": 39,
   "id": "fc83511a-7637-41e6-b3f6-48f9c48e0e76",
   "metadata": {},
   "outputs": [
    {
     "name": "stdout",
     "output_type": "stream",
     "text": [
      "7.307318575549316e-14\n",
      "2.2662945240885274e-16\n",
      "2.2662945240885274e-16\n",
      "2.270770015247583e-16\n",
      "2.270770015247583e-16\n",
      "6.81885129995414e-17\n",
      "7.496116907552587e-18\n",
      "7.496116907552588e-18\n",
      "6.81885129995414e-17\n"
     ]
    }
   ],
   "source": [
    "kfock = dataset.fock_realspace\n",
    "for ifr in range(len(kfock)):\n",
    "    for ik in kfock[ifr]:\n",
    "        # print(np.linalg.norm(kfock[ifr][ik] -kfock[ifr][ik].conj().T))\n",
    "        print(np.linalg.norm(kfock[ifr][ik]-rh[ifr][ik].numpy()))"
   ]
  },
  {
   "cell_type": "markdown",
   "id": "da54d055-1e45-47a1-8c06-766f7f2ac0ea",
   "metadata": {
    "jp-MarkdownHeadingCollapsed": true
   },
   "source": [
    "# Equivariance "
   ]
  },
  {
   "cell_type": "code",
   "execution_count": null,
   "id": "9ead3ca5-e136-4007-985e-d846446bc34f",
   "metadata": {},
   "outputs": [],
   "source": [
    "workdir = '.'\n",
    "root = f'{workdir}/examples/data/periodic'\n",
    "ORBS = 'sto-3g'\n",
    "START = 0\n",
    "STOP = 3\n",
    "frames = read(f'{root}/graphene_supercell_variety/graphene_variety.xyz', slice(START, STOP))\n",
    "for f in frames:\n",
    "    f.pbc= True\n",
    "\n",
    "kmesh = [[8,8,1], [4,4,1]]\n",
    "kfock = [np.load(f\"{root}/graphene_supercell_variety/fock_{i}.npy\", allow_pickle = True) for i in range(START, STOP)]\n",
    "kover = [np.load(f\"{root}/graphene_supercell_variety/over_{i}.npy\", allow_pickle = True) for i in range(START, STOP)]\n",
    "\n",
    "dataset = PySCFPeriodicDataset(frames = frames, \n",
    "                               kmesh = kmesh, \n",
    "                               fix_p_orbital_order=True,\n",
    "                               dimension = 2,\n",
    "                               fock_kspace = kfock, \n",
    "                               overlap_kspace = kover, \n",
    "                               device = device, \n",
    "                               orbs = orbitals[ORBS], \n",
    "                               orbs_name = 'sto-3g')"
   ]
  },
  {
   "cell_type": "markdown",
   "id": "e9b0644d-3ad7-4cf9-bcb1-787579ec6f65",
   "metadata": {},
   "source": [
    "# Graphene - UC"
   ]
  },
  {
   "cell_type": "code",
   "execution_count": 9,
   "id": "33d30bdd-95cf-46fb-8792-96a601bc1b66",
   "metadata": {},
   "outputs": [],
   "source": [
    "workdir = './'\n",
    "START = 0 \n",
    "STOP=1\n",
    "ORBS = 'sto-3g'\n",
    "root = f'{workdir}/examples/data/periodic/c2/cp2k/sto-3g'\n",
    "data_dir = root\n",
    "frames = read(f'{data_dir}/C2_174.extxyz', slice(START, STOP))\n",
    "rfock = [np.load(f\"{data_dir}/881/realfock_{i}.npy\", allow_pickle = True).item() for i in range(START, STOP)]\n",
    "rover = [np.load(f\"{data_dir}/881/realoverlap_{i}.npy\", allow_pickle = True).item() for i in range(START, STOP)]\n",
    "kmesh = [[12,12,1]]\n",
    "dataset = PySCFPeriodicDataset(frames = frames, \n",
    "                               kmesh = kmesh, \n",
    "                               dimension = 2,\n",
    "                               fock_realspace = rfock, \n",
    "                               overlap_realspace = rover, \n",
    "                               device = device, \n",
    "                               orbs = orbitals[ORBS], \n",
    "                               orbs_name = 'sto-3g')"
   ]
  },
  {
   "cell_type": "code",
   "execution_count": null,
   "id": "11a89e42-9c62-4491-a8a4-1b41cfc648b8",
   "metadata": {},
   "outputs": [],
   "source": [
    "cutoff = 8\n",
    "SORT_ORBS = True\n",
    "target_blocks, target_coupled_blocks = get_targets(dataset, cutoff = cutoff, device = device, all_pairs = False, sort_orbs=SORT_ORBS)\n",
    "target_blocks1, target_coupled_blocks1= get_targets(dataset, cutoff = cutoff, device = device, all_pairs = True, sort_orbs = SORT_ORBS)"
   ]
  },
  {
   "cell_type": "code",
   "execution_count": null,
   "id": "74c2aae7-25e3-4569-80bb-18a45ccfada2",
   "metadata": {},
   "outputs": [],
   "source": []
  },
  {
   "cell_type": "code",
   "execution_count": null,
   "id": "b1707b00-feef-4cf7-a5ee-98a94529fb9d",
   "metadata": {},
   "outputs": [],
   "source": []
  },
  {
   "cell_type": "markdown",
   "id": "f22c9fe4",
   "metadata": {},
   "source": [
    "# Graphene - deepH"
   ]
  },
  {
   "cell_type": "code",
   "execution_count": 17,
   "id": "d9456c99",
   "metadata": {},
   "outputs": [],
   "source": [
    "workdir = './'\n",
    "START = 0 \n",
    "STOP=1\n",
    "ORBS = 'sto-3g'\n",
    "root = f'{workdir}/examples/data/periodic/deepH_graphene/wrap/'\n",
    "data_dir = root\n",
    "frames = read(f'{data_dir}/wrapped_deepH_graphene.xyz', slice(START, STOP))\n",
    "rfock = [np.load(f\"{data_dir}/realfock_{i}.npy\", allow_pickle = True).item() for i in range(START, STOP)]\n",
    "rover = [np.load(f\"{data_dir}/realoverlap_{i}.npy\", allow_pickle = True).item() for i in range(START, STOP)]\n",
    "kmesh = [[1,1,1]]\n",
    "dataset = PySCFPeriodicDataset(frames = frames, \n",
    "                               kmesh = kmesh, \n",
    "                               dimension = 2,\n",
    "                               fock_realspace = rfock, \n",
    "                               overlap_realspace = rover, \n",
    "                               device = device, \n",
    "                               orbs = orbitals[ORBS], \n",
    "                               orbs_name = 'sto-3g')"
   ]
  },
  {
   "cell_type": "code",
   "execution_count": 18,
   "id": "2da9f159-74ff-4b2a-abac-5b311aef28a6",
   "metadata": {},
   "outputs": [],
   "source": [
    "kblocks = kmatrix_to_blocks(dataset, cutoff = cutoff, all_pairs= ALL_PAIRS, sort_orbs=SORT_ORBS)#, target='overlap')\n",
    "# kblocks_o = kmatrix_to_blocks(dataset, cutoff = cutoff, all_pairs= ALL_PAIRS, target='overlap', sort_orbs=SORT_ORBS)"
   ]
  },
  {
   "cell_type": "code",
   "execution_count": null,
   "id": "ff7afc61-644e-421b-821c-201462023e7a",
   "metadata": {},
   "outputs": [],
   "source": [
    "cutoff = 23"
   ]
  },
  {
   "cell_type": "code",
   "execution_count": null,
   "id": "0ec09fbe-2fce-4f4f-a324-86f80a3a2ad3",
   "metadata": {
    "scrolled": true
   },
   "outputs": [
    {
     "name": "stdout",
     "output_type": "stream",
     "text": [
      "True True passed\n"
     ]
    }
   ],
   "source": [
    "for ALL_PAIRS in [True, False]:\n",
    "    for SORT_ORBS in [True, False]:\n",
    "        try:\n",
    "            kblocks = kmatrix_to_blocks(dataset, cutoff = cutoff, all_pairs = ALL_PAIRS, sort_orbs=SORT_ORBS)\n",
    "            rhk = kblocks_to_matrix(kblocks, dataset, all_pairs=ALL_PAIRS, sort_orbs=SORT_ORBS)        \n",
    "            for ifr in range(len(dataset.fock_kspace)):\n",
    "                for ik in range(len(dataset.fock_kspace[ifr])):\n",
    "                    # print(np.linalg.norm(kfock[ifr][ik] -kfock[ifr][ik].conj().T))\n",
    "                    # print(np.linalg.norm(kfock[ifr][ik]-rhk[ifr][ik].numpy()))\n",
    "                    assert (np.linalg.norm(dataset.fock_kspace[ifr][ik]-rhk[ifr][ik].numpy()))<1e-13, (ALL_PAIRS, SORT_ORBS)\n",
    "            print(ALL_PAIRS, SORT_ORBS, 'passed')\n",
    "        except:\n",
    "            print(ALL_PAIRS, SORT_ORBS, 'failed - moving on')\n",
    "            continue"
   ]
  },
  {
   "cell_type": "code",
   "execution_count": null,
   "id": "3b7bbfd8",
   "metadata": {},
   "outputs": [],
   "source": [
    "cutoff = 23\n",
    "SORT_ORBS = False\n",
    "ALL_PAIRS = False\n",
    "\n",
    "# target_blocks, target_coupled_blocks = get_targets(dataset, cutoff = cutoff, device = device, all_pairs = False, sort_orbs=SORT_ORBS)\n",
    "# target_blocks1, target_coupled_blocks1= get_targets(dataset, cutoff = cutoff, device = device, all_pairs = True, sort_orbs = SORT_ORBS)"
   ]
  },
  {
   "cell_type": "code",
   "execution_count": 894,
   "id": "11215ff9-66dc-4df5-8e6e-f10cd2ab130e",
   "metadata": {
    "scrolled": true
   },
   "outputs": [],
   "source": [
    "rhk = kblocks_to_matrix(kblocks, dataset, all_pairs=ALL_PAIRS, sort_orbs=SORT_ORBS)\n",
    "# rSk = kblocks_to_matrix(kblocks_o, dataset, all_pairs=ALL_PAIRS, sort_orbs=SORT_ORBS)"
   ]
  },
  {
   "cell_type": "code",
   "execution_count": 869,
   "id": "07f94b32-c537-434e-aee8-a5e6d70369f8",
   "metadata": {},
   "outputs": [
    {
     "name": "stdout",
     "output_type": "stream",
     "text": [
      "1.286063447511136e-19\n"
     ]
    }
   ],
   "source": [
    "kfock = dataset.fock_kspace\n",
    "for ifr in range(len(kfock)):\n",
    "    for ik in range(len(kfock[ifr])):\n",
    "        # print(np.linalg.norm(kfock[ifr][ik] -kfock[ifr][ik].conj().T))\n",
    "        print(np.linalg.norm(kfock[ifr][ik]-rhk[ifr][ik].numpy())/np.prod(rhk[ifr][ik].numpy().shape))"
   ]
  },
  {
   "cell_type": "code",
   "execution_count": 871,
   "id": "7f895e33-0850-440d-a630-9a528f79c99e",
   "metadata": {},
   "outputs": [
    {
     "ename": "ValueError",
     "evalue": "wrong b dimensions (10, 10), should be (360, 360)",
     "output_type": "error",
     "traceback": [
      "\u001b[0;31m---------------------------------------------------------------------------\u001b[0m",
      "\u001b[0;31mValueError\u001b[0m                                Traceback (most recent call last)",
      "Cell \u001b[0;32mIn[871], line 6\u001b[0m\n\u001b[1;32m      4\u001b[0m \u001b[38;5;28;01mfor\u001b[39;00m ik \u001b[38;5;129;01min\u001b[39;00m \u001b[38;5;28mrange\u001b[39m(\u001b[38;5;28mlen\u001b[39m(dataset\u001b[38;5;241m.\u001b[39mfock_kspace[\u001b[38;5;241m0\u001b[39m])):\n\u001b[1;32m      5\u001b[0m     eigactual\u001b[38;5;241m.\u001b[39mappend(eigvalsh(dataset\u001b[38;5;241m.\u001b[39mfock_kspace[\u001b[38;5;241m0\u001b[39m][ik]\u001b[38;5;241m.\u001b[39mnumpy(), dataset\u001b[38;5;241m.\u001b[39moverlap_kspace[\u001b[38;5;241m0\u001b[39m][ik]\u001b[38;5;241m.\u001b[39mnumpy()))\n\u001b[0;32m----> 6\u001b[0m     eigcut\u001b[38;5;241m.\u001b[39mappend(\u001b[43meigvalsh\u001b[49m\u001b[43m(\u001b[49m\u001b[43mrhk\u001b[49m\u001b[43m[\u001b[49m\u001b[38;5;241;43m0\u001b[39;49m\u001b[43m]\u001b[49m\u001b[43m[\u001b[49m\u001b[43mik\u001b[49m\u001b[43m]\u001b[49m\u001b[38;5;241;43m.\u001b[39;49m\u001b[43mnumpy\u001b[49m\u001b[43m(\u001b[49m\u001b[43m)\u001b[49m\u001b[43m,\u001b[49m\u001b[43m \u001b[49m\u001b[43mrSk\u001b[49m\u001b[43m[\u001b[49m\u001b[38;5;241;43m0\u001b[39;49m\u001b[43m]\u001b[49m\u001b[43m[\u001b[49m\u001b[43mik\u001b[49m\u001b[43m]\u001b[49m\u001b[38;5;241;43m.\u001b[39;49m\u001b[43mnumpy\u001b[49m\u001b[43m(\u001b[49m\u001b[43m)\u001b[49m\u001b[43m)\u001b[49m)\n\u001b[1;32m      7\u001b[0m eigactual \u001b[38;5;241m=\u001b[39m np\u001b[38;5;241m.\u001b[39mconcatenate(eigactual)\n\u001b[1;32m      8\u001b[0m eigcut \u001b[38;5;241m=\u001b[39m np\u001b[38;5;241m.\u001b[39mconcatenate(eigcut)    \n",
      "File \u001b[0;32m~/miniconda3/envs/temp/lib/python3.11/site-packages/scipy/_lib/deprecation.py:213\u001b[0m, in \u001b[0;36m_deprecate_positional_args.<locals>._inner_deprecate_positional_args.<locals>.inner_f\u001b[0;34m(*args, **kwargs)\u001b[0m\n\u001b[1;32m    211\u001b[0m extra_args \u001b[38;5;241m=\u001b[39m \u001b[38;5;28mlen\u001b[39m(args) \u001b[38;5;241m-\u001b[39m \u001b[38;5;28mlen\u001b[39m(all_args)\n\u001b[1;32m    212\u001b[0m \u001b[38;5;28;01mif\u001b[39;00m extra_args \u001b[38;5;241m<\u001b[39m\u001b[38;5;241m=\u001b[39m \u001b[38;5;241m0\u001b[39m:\n\u001b[0;32m--> 213\u001b[0m     \u001b[38;5;28;01mreturn\u001b[39;00m \u001b[43mf\u001b[49m\u001b[43m(\u001b[49m\u001b[38;5;241;43m*\u001b[39;49m\u001b[43margs\u001b[49m\u001b[43m,\u001b[49m\u001b[43m \u001b[49m\u001b[38;5;241;43m*\u001b[39;49m\u001b[38;5;241;43m*\u001b[39;49m\u001b[43mkwargs\u001b[49m\u001b[43m)\u001b[49m\n\u001b[1;32m    215\u001b[0m \u001b[38;5;66;03m# extra_args > 0\u001b[39;00m\n\u001b[1;32m    216\u001b[0m args_msg \u001b[38;5;241m=\u001b[39m [\n\u001b[1;32m    217\u001b[0m     \u001b[38;5;124mf\u001b[39m\u001b[38;5;124m\"\u001b[39m\u001b[38;5;132;01m{\u001b[39;00mname\u001b[38;5;132;01m}\u001b[39;00m\u001b[38;5;124m=\u001b[39m\u001b[38;5;132;01m{\u001b[39;00marg\u001b[38;5;132;01m}\u001b[39;00m\u001b[38;5;124m\"\u001b[39m\n\u001b[1;32m    218\u001b[0m     \u001b[38;5;28;01mfor\u001b[39;00m name, arg \u001b[38;5;129;01min\u001b[39;00m \u001b[38;5;28mzip\u001b[39m(kwonly_args[:extra_args], args[\u001b[38;5;241m-\u001b[39mextra_args:])\n\u001b[1;32m    219\u001b[0m ]\n",
      "File \u001b[0;32m~/miniconda3/envs/temp/lib/python3.11/site-packages/scipy/linalg/_decomp.py:1024\u001b[0m, in \u001b[0;36meigvalsh\u001b[0;34m(a, b, lower, overwrite_a, overwrite_b, turbo, eigvals, type, check_finite, subset_by_index, subset_by_value, driver)\u001b[0m\n\u001b[1;32m    901\u001b[0m \u001b[38;5;129m@_deprecate_positional_args\u001b[39m(version\u001b[38;5;241m=\u001b[39m\u001b[38;5;124m\"\u001b[39m\u001b[38;5;124m1.14.0\u001b[39m\u001b[38;5;124m\"\u001b[39m)\n\u001b[1;32m    902\u001b[0m \u001b[38;5;28;01mdef\u001b[39;00m \u001b[38;5;21meigvalsh\u001b[39m(a, b\u001b[38;5;241m=\u001b[39m\u001b[38;5;28;01mNone\u001b[39;00m, \u001b[38;5;241m*\u001b[39m, lower\u001b[38;5;241m=\u001b[39m\u001b[38;5;28;01mTrue\u001b[39;00m, overwrite_a\u001b[38;5;241m=\u001b[39m\u001b[38;5;28;01mFalse\u001b[39;00m,\n\u001b[1;32m    903\u001b[0m              overwrite_b\u001b[38;5;241m=\u001b[39m\u001b[38;5;28;01mFalse\u001b[39;00m, turbo\u001b[38;5;241m=\u001b[39m_NoValue, eigvals\u001b[38;5;241m=\u001b[39m_NoValue, \u001b[38;5;28mtype\u001b[39m\u001b[38;5;241m=\u001b[39m\u001b[38;5;241m1\u001b[39m,\n\u001b[1;32m    904\u001b[0m              check_finite\u001b[38;5;241m=\u001b[39m\u001b[38;5;28;01mTrue\u001b[39;00m, subset_by_index\u001b[38;5;241m=\u001b[39m\u001b[38;5;28;01mNone\u001b[39;00m, subset_by_value\u001b[38;5;241m=\u001b[39m\u001b[38;5;28;01mNone\u001b[39;00m,\n\u001b[1;32m    905\u001b[0m              driver\u001b[38;5;241m=\u001b[39m\u001b[38;5;28;01mNone\u001b[39;00m):\n\u001b[1;32m    906\u001b[0m \u001b[38;5;250m    \u001b[39m\u001b[38;5;124;03m\"\"\"\u001b[39;00m\n\u001b[1;32m    907\u001b[0m \u001b[38;5;124;03m    Solves a standard or generalized eigenvalue problem for a complex\u001b[39;00m\n\u001b[1;32m    908\u001b[0m \u001b[38;5;124;03m    Hermitian or real symmetric matrix.\u001b[39;00m\n\u001b[0;32m   (...)\u001b[0m\n\u001b[1;32m   1022\u001b[0m \n\u001b[1;32m   1023\u001b[0m \u001b[38;5;124;03m    \"\"\"\u001b[39;00m\n\u001b[0;32m-> 1024\u001b[0m     \u001b[38;5;28;01mreturn\u001b[39;00m \u001b[43meigh\u001b[49m\u001b[43m(\u001b[49m\u001b[43ma\u001b[49m\u001b[43m,\u001b[49m\u001b[43m \u001b[49m\u001b[43mb\u001b[49m\u001b[38;5;241;43m=\u001b[39;49m\u001b[43mb\u001b[49m\u001b[43m,\u001b[49m\u001b[43m \u001b[49m\u001b[43mlower\u001b[49m\u001b[38;5;241;43m=\u001b[39;49m\u001b[43mlower\u001b[49m\u001b[43m,\u001b[49m\u001b[43m \u001b[49m\u001b[43meigvals_only\u001b[49m\u001b[38;5;241;43m=\u001b[39;49m\u001b[38;5;28;43;01mTrue\u001b[39;49;00m\u001b[43m,\u001b[49m\n\u001b[1;32m   1025\u001b[0m \u001b[43m                \u001b[49m\u001b[43moverwrite_a\u001b[49m\u001b[38;5;241;43m=\u001b[39;49m\u001b[43moverwrite_a\u001b[49m\u001b[43m,\u001b[49m\u001b[43m \u001b[49m\u001b[43moverwrite_b\u001b[49m\u001b[38;5;241;43m=\u001b[39;49m\u001b[43moverwrite_b\u001b[49m\u001b[43m,\u001b[49m\n\u001b[1;32m   1026\u001b[0m \u001b[43m                \u001b[49m\u001b[43mturbo\u001b[49m\u001b[38;5;241;43m=\u001b[39;49m\u001b[43mturbo\u001b[49m\u001b[43m,\u001b[49m\u001b[43m \u001b[49m\u001b[43meigvals\u001b[49m\u001b[38;5;241;43m=\u001b[39;49m\u001b[43meigvals\u001b[49m\u001b[43m,\u001b[49m\u001b[43m \u001b[49m\u001b[38;5;28;43mtype\u001b[39;49m\u001b[38;5;241;43m=\u001b[39;49m\u001b[38;5;28;43mtype\u001b[39;49m\u001b[43m,\u001b[49m\n\u001b[1;32m   1027\u001b[0m \u001b[43m                \u001b[49m\u001b[43mcheck_finite\u001b[49m\u001b[38;5;241;43m=\u001b[39;49m\u001b[43mcheck_finite\u001b[49m\u001b[43m,\u001b[49m\u001b[43m \u001b[49m\u001b[43msubset_by_index\u001b[49m\u001b[38;5;241;43m=\u001b[39;49m\u001b[43msubset_by_index\u001b[49m\u001b[43m,\u001b[49m\n\u001b[1;32m   1028\u001b[0m \u001b[43m                \u001b[49m\u001b[43msubset_by_value\u001b[49m\u001b[38;5;241;43m=\u001b[39;49m\u001b[43msubset_by_value\u001b[49m\u001b[43m,\u001b[49m\u001b[43m \u001b[49m\u001b[43mdriver\u001b[49m\u001b[38;5;241;43m=\u001b[39;49m\u001b[43mdriver\u001b[49m\u001b[43m)\u001b[49m\n",
      "File \u001b[0;32m~/miniconda3/envs/temp/lib/python3.11/site-packages/scipy/_lib/deprecation.py:213\u001b[0m, in \u001b[0;36m_deprecate_positional_args.<locals>._inner_deprecate_positional_args.<locals>.inner_f\u001b[0;34m(*args, **kwargs)\u001b[0m\n\u001b[1;32m    211\u001b[0m extra_args \u001b[38;5;241m=\u001b[39m \u001b[38;5;28mlen\u001b[39m(args) \u001b[38;5;241m-\u001b[39m \u001b[38;5;28mlen\u001b[39m(all_args)\n\u001b[1;32m    212\u001b[0m \u001b[38;5;28;01mif\u001b[39;00m extra_args \u001b[38;5;241m<\u001b[39m\u001b[38;5;241m=\u001b[39m \u001b[38;5;241m0\u001b[39m:\n\u001b[0;32m--> 213\u001b[0m     \u001b[38;5;28;01mreturn\u001b[39;00m \u001b[43mf\u001b[49m\u001b[43m(\u001b[49m\u001b[38;5;241;43m*\u001b[39;49m\u001b[43margs\u001b[49m\u001b[43m,\u001b[49m\u001b[43m \u001b[49m\u001b[38;5;241;43m*\u001b[39;49m\u001b[38;5;241;43m*\u001b[39;49m\u001b[43mkwargs\u001b[49m\u001b[43m)\u001b[49m\n\u001b[1;32m    215\u001b[0m \u001b[38;5;66;03m# extra_args > 0\u001b[39;00m\n\u001b[1;32m    216\u001b[0m args_msg \u001b[38;5;241m=\u001b[39m [\n\u001b[1;32m    217\u001b[0m     \u001b[38;5;124mf\u001b[39m\u001b[38;5;124m\"\u001b[39m\u001b[38;5;132;01m{\u001b[39;00mname\u001b[38;5;132;01m}\u001b[39;00m\u001b[38;5;124m=\u001b[39m\u001b[38;5;132;01m{\u001b[39;00marg\u001b[38;5;132;01m}\u001b[39;00m\u001b[38;5;124m\"\u001b[39m\n\u001b[1;32m    218\u001b[0m     \u001b[38;5;28;01mfor\u001b[39;00m name, arg \u001b[38;5;129;01min\u001b[39;00m \u001b[38;5;28mzip\u001b[39m(kwonly_args[:extra_args], args[\u001b[38;5;241m-\u001b[39mextra_args:])\n\u001b[1;32m    219\u001b[0m ]\n",
      "File \u001b[0;32m~/miniconda3/envs/temp/lib/python3.11/site-packages/scipy/linalg/_decomp.py:479\u001b[0m, in \u001b[0;36meigh\u001b[0;34m(a, b, lower, eigvals_only, overwrite_a, overwrite_b, turbo, eigvals, type, check_finite, subset_by_index, subset_by_value, driver)\u001b[0m\n\u001b[1;32m    476\u001b[0m     \u001b[38;5;28;01mraise\u001b[39;00m \u001b[38;5;167;01mValueError\u001b[39;00m(\u001b[38;5;124m'\u001b[39m\u001b[38;5;124mexpected square \u001b[39m\u001b[38;5;124m\"\u001b[39m\u001b[38;5;124mb\u001b[39m\u001b[38;5;124m\"\u001b[39m\u001b[38;5;124m matrix\u001b[39m\u001b[38;5;124m'\u001b[39m)\n\u001b[1;32m    478\u001b[0m \u001b[38;5;28;01mif\u001b[39;00m b1\u001b[38;5;241m.\u001b[39mshape \u001b[38;5;241m!=\u001b[39m a1\u001b[38;5;241m.\u001b[39mshape:\n\u001b[0;32m--> 479\u001b[0m     \u001b[38;5;28;01mraise\u001b[39;00m \u001b[38;5;167;01mValueError\u001b[39;00m(\u001b[38;5;124mf\u001b[39m\u001b[38;5;124m\"\u001b[39m\u001b[38;5;124mwrong b dimensions \u001b[39m\u001b[38;5;132;01m{\u001b[39;00mb1\u001b[38;5;241m.\u001b[39mshape\u001b[38;5;132;01m}\u001b[39;00m\u001b[38;5;124m, should be \u001b[39m\u001b[38;5;132;01m{\u001b[39;00ma1\u001b[38;5;241m.\u001b[39mshape\u001b[38;5;132;01m}\u001b[39;00m\u001b[38;5;124m\"\u001b[39m)\n\u001b[1;32m    481\u001b[0m \u001b[38;5;28;01mif\u001b[39;00m \u001b[38;5;28mtype\u001b[39m \u001b[38;5;129;01mnot\u001b[39;00m \u001b[38;5;129;01min\u001b[39;00m [\u001b[38;5;241m1\u001b[39m, \u001b[38;5;241m2\u001b[39m, \u001b[38;5;241m3\u001b[39m]:\n\u001b[1;32m    482\u001b[0m     \u001b[38;5;28;01mraise\u001b[39;00m \u001b[38;5;167;01mValueError\u001b[39;00m(\u001b[38;5;124m'\u001b[39m\u001b[38;5;124m\"\u001b[39m\u001b[38;5;124mtype\u001b[39m\u001b[38;5;124m\"\u001b[39m\u001b[38;5;124m keyword only accepts 1, 2, and 3.\u001b[39m\u001b[38;5;124m'\u001b[39m)\n",
      "\u001b[0;31mValueError\u001b[0m: wrong b dimensions (10, 10), should be (360, 360)"
     ]
    }
   ],
   "source": [
    "from scipy.linalg import eigvalsh\n",
    "eigactual = []\n",
    "eigcut=[]\n",
    "for ik in range(len(dataset.fock_kspace[0])):\n",
    "    eigactual.append(eigvalsh(dataset.fock_kspace[0][ik].numpy(), dataset.overlap_kspace[0][ik].numpy()))\n",
    "    eigcut.append(eigvalsh(rhk[0][ik].numpy(), rSk[0][ik].numpy()))\n",
    "eigactual = np.concatenate(eigactual)\n",
    "eigcut = np.concatenate(eigcut)    "
   ]
  },
  {
   "cell_type": "code",
   "execution_count": 872,
   "id": "3597df38-085d-4d4a-b7ca-6453099ff370",
   "metadata": {},
   "outputs": [
    {
     "ename": "ValueError",
     "evalue": "x and y must have same first dimension, but have shapes (1, 360) and (0,)",
     "output_type": "error",
     "traceback": [
      "\u001b[0;31m---------------------------------------------------------------------------\u001b[0m",
      "\u001b[0;31mValueError\u001b[0m                                Traceback (most recent call last)",
      "Cell \u001b[0;32mIn[872], line 1\u001b[0m\n\u001b[0;32m----> 1\u001b[0m \u001b[43mplt\u001b[49m\u001b[38;5;241;43m.\u001b[39;49m\u001b[43mplot\u001b[49m\u001b[43m(\u001b[49m\u001b[43meigactual\u001b[49m\u001b[43m,\u001b[49m\u001b[43m \u001b[49m\u001b[43meigcut\u001b[49m\u001b[43m,\u001b[49m\u001b[43m \u001b[49m\u001b[38;5;124;43m'\u001b[39;49m\u001b[38;5;124;43mo\u001b[39;49m\u001b[38;5;124;43m'\u001b[39;49m\u001b[43m)\u001b[49m\n\u001b[1;32m      2\u001b[0m plt\u001b[38;5;241m.\u001b[39mplot([np\u001b[38;5;241m.\u001b[39mmin(eigactual), np\u001b[38;5;241m.\u001b[39mmax(eigactual)],[np\u001b[38;5;241m.\u001b[39mmin(eigactual), np\u001b[38;5;241m.\u001b[39mmax(eigactual)])\n\u001b[1;32m      3\u001b[0m plt\u001b[38;5;241m.\u001b[39mylim(\u001b[38;5;241m-\u001b[39m\u001b[38;5;241m2\u001b[39m,)\n",
      "File \u001b[0;32m~/miniconda3/envs/temp/lib/python3.11/site-packages/matplotlib/pyplot.py:3590\u001b[0m, in \u001b[0;36mplot\u001b[0;34m(scalex, scaley, data, *args, **kwargs)\u001b[0m\n\u001b[1;32m   3582\u001b[0m \u001b[38;5;129m@_copy_docstring_and_deprecators\u001b[39m(Axes\u001b[38;5;241m.\u001b[39mplot)\n\u001b[1;32m   3583\u001b[0m \u001b[38;5;28;01mdef\u001b[39;00m \u001b[38;5;21mplot\u001b[39m(\n\u001b[1;32m   3584\u001b[0m     \u001b[38;5;241m*\u001b[39margs: \u001b[38;5;28mfloat\u001b[39m \u001b[38;5;241m|\u001b[39m ArrayLike \u001b[38;5;241m|\u001b[39m \u001b[38;5;28mstr\u001b[39m,\n\u001b[0;32m   (...)\u001b[0m\n\u001b[1;32m   3588\u001b[0m     \u001b[38;5;241m*\u001b[39m\u001b[38;5;241m*\u001b[39mkwargs,\n\u001b[1;32m   3589\u001b[0m ) \u001b[38;5;241m-\u001b[39m\u001b[38;5;241m>\u001b[39m \u001b[38;5;28mlist\u001b[39m[Line2D]:\n\u001b[0;32m-> 3590\u001b[0m     \u001b[38;5;28;01mreturn\u001b[39;00m \u001b[43mgca\u001b[49m\u001b[43m(\u001b[49m\u001b[43m)\u001b[49m\u001b[38;5;241;43m.\u001b[39;49m\u001b[43mplot\u001b[49m\u001b[43m(\u001b[49m\n\u001b[1;32m   3591\u001b[0m \u001b[43m        \u001b[49m\u001b[38;5;241;43m*\u001b[39;49m\u001b[43margs\u001b[49m\u001b[43m,\u001b[49m\n\u001b[1;32m   3592\u001b[0m \u001b[43m        \u001b[49m\u001b[43mscalex\u001b[49m\u001b[38;5;241;43m=\u001b[39;49m\u001b[43mscalex\u001b[49m\u001b[43m,\u001b[49m\n\u001b[1;32m   3593\u001b[0m \u001b[43m        \u001b[49m\u001b[43mscaley\u001b[49m\u001b[38;5;241;43m=\u001b[39;49m\u001b[43mscaley\u001b[49m\u001b[43m,\u001b[49m\n\u001b[1;32m   3594\u001b[0m \u001b[43m        \u001b[49m\u001b[38;5;241;43m*\u001b[39;49m\u001b[38;5;241;43m*\u001b[39;49m\u001b[43m(\u001b[49m\u001b[43m{\u001b[49m\u001b[38;5;124;43m\"\u001b[39;49m\u001b[38;5;124;43mdata\u001b[39;49m\u001b[38;5;124;43m\"\u001b[39;49m\u001b[43m:\u001b[49m\u001b[43m \u001b[49m\u001b[43mdata\u001b[49m\u001b[43m}\u001b[49m\u001b[43m \u001b[49m\u001b[38;5;28;43;01mif\u001b[39;49;00m\u001b[43m \u001b[49m\u001b[43mdata\u001b[49m\u001b[43m \u001b[49m\u001b[38;5;129;43;01mis\u001b[39;49;00m\u001b[43m \u001b[49m\u001b[38;5;129;43;01mnot\u001b[39;49;00m\u001b[43m \u001b[49m\u001b[38;5;28;43;01mNone\u001b[39;49;00m\u001b[43m \u001b[49m\u001b[38;5;28;43;01melse\u001b[39;49;00m\u001b[43m \u001b[49m\u001b[43m{\u001b[49m\u001b[43m}\u001b[49m\u001b[43m)\u001b[49m\u001b[43m,\u001b[49m\n\u001b[1;32m   3595\u001b[0m \u001b[43m        \u001b[49m\u001b[38;5;241;43m*\u001b[39;49m\u001b[38;5;241;43m*\u001b[39;49m\u001b[43mkwargs\u001b[49m\u001b[43m,\u001b[49m\n\u001b[1;32m   3596\u001b[0m \u001b[43m    \u001b[49m\u001b[43m)\u001b[49m\n",
      "File \u001b[0;32m~/miniconda3/envs/temp/lib/python3.11/site-packages/matplotlib/axes/_axes.py:1724\u001b[0m, in \u001b[0;36mAxes.plot\u001b[0;34m(self, scalex, scaley, data, *args, **kwargs)\u001b[0m\n\u001b[1;32m   1481\u001b[0m \u001b[38;5;250m\u001b[39m\u001b[38;5;124;03m\"\"\"\u001b[39;00m\n\u001b[1;32m   1482\u001b[0m \u001b[38;5;124;03mPlot y versus x as lines and/or markers.\u001b[39;00m\n\u001b[1;32m   1483\u001b[0m \n\u001b[0;32m   (...)\u001b[0m\n\u001b[1;32m   1721\u001b[0m \u001b[38;5;124;03m(``'green'``) or hex strings (``'#008000'``).\u001b[39;00m\n\u001b[1;32m   1722\u001b[0m \u001b[38;5;124;03m\"\"\"\u001b[39;00m\n\u001b[1;32m   1723\u001b[0m kwargs \u001b[38;5;241m=\u001b[39m cbook\u001b[38;5;241m.\u001b[39mnormalize_kwargs(kwargs, mlines\u001b[38;5;241m.\u001b[39mLine2D)\n\u001b[0;32m-> 1724\u001b[0m lines \u001b[38;5;241m=\u001b[39m [\u001b[38;5;241m*\u001b[39m\u001b[38;5;28mself\u001b[39m\u001b[38;5;241m.\u001b[39m_get_lines(\u001b[38;5;28mself\u001b[39m, \u001b[38;5;241m*\u001b[39margs, data\u001b[38;5;241m=\u001b[39mdata, \u001b[38;5;241m*\u001b[39m\u001b[38;5;241m*\u001b[39mkwargs)]\n\u001b[1;32m   1725\u001b[0m \u001b[38;5;28;01mfor\u001b[39;00m line \u001b[38;5;129;01min\u001b[39;00m lines:\n\u001b[1;32m   1726\u001b[0m     \u001b[38;5;28mself\u001b[39m\u001b[38;5;241m.\u001b[39madd_line(line)\n",
      "File \u001b[0;32m~/miniconda3/envs/temp/lib/python3.11/site-packages/matplotlib/axes/_base.py:303\u001b[0m, in \u001b[0;36m_process_plot_var_args.__call__\u001b[0;34m(self, axes, data, *args, **kwargs)\u001b[0m\n\u001b[1;32m    301\u001b[0m     this \u001b[38;5;241m+\u001b[39m\u001b[38;5;241m=\u001b[39m args[\u001b[38;5;241m0\u001b[39m],\n\u001b[1;32m    302\u001b[0m     args \u001b[38;5;241m=\u001b[39m args[\u001b[38;5;241m1\u001b[39m:]\n\u001b[0;32m--> 303\u001b[0m \u001b[38;5;28;01myield from\u001b[39;00m \u001b[38;5;28;43mself\u001b[39;49m\u001b[38;5;241;43m.\u001b[39;49m\u001b[43m_plot_args\u001b[49m\u001b[43m(\u001b[49m\n\u001b[1;32m    304\u001b[0m \u001b[43m    \u001b[49m\u001b[43maxes\u001b[49m\u001b[43m,\u001b[49m\u001b[43m \u001b[49m\u001b[43mthis\u001b[49m\u001b[43m,\u001b[49m\u001b[43m \u001b[49m\u001b[43mkwargs\u001b[49m\u001b[43m,\u001b[49m\u001b[43m \u001b[49m\u001b[43mambiguous_fmt_datakey\u001b[49m\u001b[38;5;241;43m=\u001b[39;49m\u001b[43mambiguous_fmt_datakey\u001b[49m\u001b[43m)\u001b[49m\n",
      "File \u001b[0;32m~/miniconda3/envs/temp/lib/python3.11/site-packages/matplotlib/axes/_base.py:499\u001b[0m, in \u001b[0;36m_process_plot_var_args._plot_args\u001b[0;34m(self, axes, tup, kwargs, return_kwargs, ambiguous_fmt_datakey)\u001b[0m\n\u001b[1;32m    496\u001b[0m     axes\u001b[38;5;241m.\u001b[39myaxis\u001b[38;5;241m.\u001b[39mupdate_units(y)\n\u001b[1;32m    498\u001b[0m \u001b[38;5;28;01mif\u001b[39;00m x\u001b[38;5;241m.\u001b[39mshape[\u001b[38;5;241m0\u001b[39m] \u001b[38;5;241m!=\u001b[39m y\u001b[38;5;241m.\u001b[39mshape[\u001b[38;5;241m0\u001b[39m]:\n\u001b[0;32m--> 499\u001b[0m     \u001b[38;5;28;01mraise\u001b[39;00m \u001b[38;5;167;01mValueError\u001b[39;00m(\u001b[38;5;124mf\u001b[39m\u001b[38;5;124m\"\u001b[39m\u001b[38;5;124mx and y must have same first dimension, but \u001b[39m\u001b[38;5;124m\"\u001b[39m\n\u001b[1;32m    500\u001b[0m                      \u001b[38;5;124mf\u001b[39m\u001b[38;5;124m\"\u001b[39m\u001b[38;5;124mhave shapes \u001b[39m\u001b[38;5;132;01m{\u001b[39;00mx\u001b[38;5;241m.\u001b[39mshape\u001b[38;5;132;01m}\u001b[39;00m\u001b[38;5;124m and \u001b[39m\u001b[38;5;132;01m{\u001b[39;00my\u001b[38;5;241m.\u001b[39mshape\u001b[38;5;132;01m}\u001b[39;00m\u001b[38;5;124m\"\u001b[39m)\n\u001b[1;32m    501\u001b[0m \u001b[38;5;28;01mif\u001b[39;00m x\u001b[38;5;241m.\u001b[39mndim \u001b[38;5;241m>\u001b[39m \u001b[38;5;241m2\u001b[39m \u001b[38;5;129;01mor\u001b[39;00m y\u001b[38;5;241m.\u001b[39mndim \u001b[38;5;241m>\u001b[39m \u001b[38;5;241m2\u001b[39m:\n\u001b[1;32m    502\u001b[0m     \u001b[38;5;28;01mraise\u001b[39;00m \u001b[38;5;167;01mValueError\u001b[39;00m(\u001b[38;5;124mf\u001b[39m\u001b[38;5;124m\"\u001b[39m\u001b[38;5;124mx and y can be no greater than 2D, but have \u001b[39m\u001b[38;5;124m\"\u001b[39m\n\u001b[1;32m    503\u001b[0m                      \u001b[38;5;124mf\u001b[39m\u001b[38;5;124m\"\u001b[39m\u001b[38;5;124mshapes \u001b[39m\u001b[38;5;132;01m{\u001b[39;00mx\u001b[38;5;241m.\u001b[39mshape\u001b[38;5;132;01m}\u001b[39;00m\u001b[38;5;124m and \u001b[39m\u001b[38;5;132;01m{\u001b[39;00my\u001b[38;5;241m.\u001b[39mshape\u001b[38;5;132;01m}\u001b[39;00m\u001b[38;5;124m\"\u001b[39m)\n",
      "\u001b[0;31mValueError\u001b[0m: x and y must have same first dimension, but have shapes (1, 360) and (0,)"
     ]
    },
    {
     "data": {
      "image/png": "[encoded data removed]",
      "text/plain": [
       "<Figure size 640x480 with 1 Axes>"
      ]
     },
     "metadata": {},
     "output_type": "display_data"
    }
   ],
   "source": [
    "plt.plot(eigactual, eigcut, 'o')\n",
    "plt.plot([np.min(eigactual), np.max(eigactual)],[np.min(eigactual), np.max(eigactual)])\n",
    "plt.ylim(-2,)\n",
    "plt.xlim(-2,)"
   ]
  },
  {
   "cell_type": "markdown",
   "id": "ae5448e8-8c2b-40b5-b1b7-ebf1a80fedc4",
   "metadata": {},
   "source": [
    "\n",
    "# HEX-HEX22 - WOHOOO0 works!"
   ]
  },
  {
   "cell_type": "code",
   "execution_count": 61,
   "id": "156e4dca-c4cf-4e24-b28c-11d42e5476a2",
   "metadata": {},
   "outputs": [],
   "source": [
    "workdir = '.'\n",
    "root = f'{workdir}/examples/data/periodic'\n",
    "ORBS = 'sto-3g'\n",
    "START = 1\n",
    "STOP = 3\n",
    "frames = read(f'{root}/graphene_supercell_variety/graphene_variety.xyz', slice(START, STOP))\n",
    "for f in frames:\n",
    "    f.pbc= True\n",
    "\n",
    "kmesh = [[8,8,1], [4,4,1]]\n",
    "kfock = [np.load(f\"{root}/graphene_supercell_variety/fock_{i}.npy\", allow_pickle = True) for i in range(START, STOP)]\n",
    "kover = [np.load(f\"{root}/graphene_supercell_variety/over_{i}.npy\", allow_pickle = True) for i in range(START, STOP)]\n",
    "\n",
    "dataset = PySCFPeriodicDataset(frames = frames, \n",
    "                               kmesh = kmesh, \n",
    "                               fix_p_orbital_order=True,\n",
    "                               dimension = 2,\n",
    "                               fock_kspace = kfock, \n",
    "                               overlap_kspace = kover, \n",
    "                               device = device, \n",
    "                               orbs = orbitals[ORBS], \n",
    "                               orbs_name = 'sto-3g')"
   ]
  },
  {
   "cell_type": "markdown",
   "id": "97646a42-ed95-47a6-aedf-df03b14aad5a",
   "metadata": {},
   "source": [
    "# Targets"
   ]
  },
  {
   "cell_type": "code",
   "execution_count": 62,
   "id": "254c2686-e4c1-48e8-b2f8-1d72b18b54f9",
   "metadata": {
    "scrolled": true
   },
   "outputs": [],
   "source": [
    "cutoff = 6\n",
    "target_blocks, target_coupled_blocks = get_targets(dataset, cutoff = cutoff, device = device, all_pairs = False)"
   ]
  },
  {
   "cell_type": "code",
   "execution_count": 63,
   "id": "da1204a4-bf68-421e-85a9-15cafdafde0a",
   "metadata": {
    "scrolled": true
   },
   "outputs": [],
   "source": [
    "k_target_blocks = kmatrix_to_blocks(dataset, cutoff = cutoff, all_pairs = False)"
   ]
  },
  {
   "cell_type": "code",
   "execution_count": 64,
   "id": "0d6192ad-5109-4450-b636-e5777f3696b4",
   "metadata": {},
   "outputs": [
    {
     "data": {
      "text/plain": [
       "tensor(2.3644e-14)"
      ]
     },
     "execution_count": 64,
     "metadata": {},
     "output_type": "execute_result"
    }
   ],
   "source": [
    "rhk =kblocks_to_matrix(k_target_blocks, dataset)\n",
    "torch.norm(rhk[0] - dataset.fock_kspace[0])"
   ]
  },
  {
   "cell_type": "code",
   "execution_count": 65,
   "id": "e645fac8-af50-41dd-8c2d-fb791def5a79",
   "metadata": {},
   "outputs": [],
   "source": [
    "from rascaline import SphericalExpansion\n",
    "from rascaline import SphericalExpansionByPair as PairExpansion"
   ]
  },
  {
   "cell_type": "code",
   "execution_count": 66,
   "id": "53bab620-cbf7-4645-a60c-6a0abea24f75",
   "metadata": {},
   "outputs": [],
   "source": [
    "rhoi = SphericalExpansion(**hypers_atom).compute(frames)\n",
    "gij = PairExpansion(**hypers_pair).compute(frames)"
   ]
  },
  {
   "cell_type": "code",
   "execution_count": null,
   "id": "3bd90257-f754-4efb-90da-b6136b67de6f",
   "metadata": {},
   "outputs": [],
   "source": []
  },
  {
   "cell_type": "code",
   "execution_count": null,
   "id": "65857a40-3bdf-42d4-ae61-cb1baaaf8875",
   "metadata": {},
   "outputs": [],
   "source": []
  },
  {
   "cell_type": "markdown",
   "id": "d39d934b-f83b-4970-b8dc-016f1cbd879b",
   "metadata": {},
   "source": [
    "# Features"
   ]
  },
  {
   "cell_type": "code",
   "execution_count": 68,
   "id": "9bf3a6b8-9b9e-4c98-8077-837eec42043e",
   "metadata": {},
   "outputs": [],
   "source": [
    "import rascaline\n",
    "max_radial  = 8\n",
    "max_angular = 5\n",
    "atomic_gaussian_width = 0.3\n",
    "spline_basis = False\n",
    "##---splined basis \n",
    "if spline_basis :\n",
    "    spliner = rascaline.utils.SoapSpliner(\n",
    "        cutoff=cutoff,\n",
    "        max_radial=max_radial,\n",
    "        max_angular=max_angular,\n",
    "        basis=rascaline.utils.SphericalBesselBasis(\n",
    "            cutoff=cutoff, max_radial=max_radial, max_angular=max_angular\n",
    "        ),\n",
    "        density=rascaline.utils.GaussianDensity(atomic_gaussian_width=atomic_gaussian_width),\n",
    "        accuracy=1e-5,\n",
    "    )\n",
    "    splined_basis = spliner.compute()\n",
    "##-------\n",
    "hypers_pair = {'cutoff': cutoff,\n",
    "               'max_radial': max_radial,\n",
    "               'max_angular': max_angular,\n",
    "               'atomic_gaussian_width': atomic_gaussian_width,\n",
    "               'center_atom_weight': 1,\n",
    "               \"radial_basis\": splined_basis if spline_basis else {\"Gto\": {}},\n",
    "               # \"radial_basis\": splined_basis,\n",
    "               \"cutoff_function\": {\"ShiftedCosine\": {\"width\": 0.1}}}\n",
    "\n",
    "hypers_atom = {'cutoff': 4,\n",
    "               'max_radial': max_radial,\n",
    "               'max_angular': max_angular,\n",
    "               'atomic_gaussian_width': 0.3,\n",
    "               'center_atom_weight': 1,\n",
    "               \"radial_basis\": {\"Gto\": {}},\n",
    "               \"cutoff_function\": {\"ShiftedCosine\": {\"width\": 0.1}}}\n",
    "\n",
    "return_rho0ij = False\n",
    "both_centers = False\n",
    "all_pairs = False\n",
    "LCUT = 3\n",
    "\n",
    "def compute_features(dataset):\n",
    "\n",
    "    rhoij = pair_features(dataset.structures, hypers_atom, hypers_pair, order_nu = 1, all_pairs = all_pairs, both_centers = both_centers, mic = False,\n",
    "                          kmesh = dataset.kmesh, device = device, lcut = LCUT, return_rho0ij = return_rho0ij)  \n",
    "    feature_names = rhoij.property_names\n",
    "    if both_centers and not return_rho0ij:\n",
    "        NU = 3\n",
    "    else:\n",
    "        NU = 2\n",
    "        \n",
    "    if return_rho0ij:\n",
    "        feature_names = None\n",
    "        NU=1\n",
    "    rhonui = single_center_features(dataset.structures, hypers_atom, order_nu = NU, lcut = LCUT, device = device,\n",
    "                                    feature_names = feature_names)\n",
    "\n",
    "    if return_rho0ij:\n",
    "        return rhoij, rhonui\n",
    "    hfeat = twocenter_features_periodic_NH(single_center = rhonui, pair = rhoij, all_pairs = all_pairs)\n",
    "\n",
    "    return hfeat"
   ]
  },
  {
   "cell_type": "code",
   "execution_count": 179,
   "id": "89f3bed0-6971-4007-8e34-add8ec3bd3d9",
   "metadata": {},
   "outputs": [
    {
     "name": "stdout",
     "output_type": "stream",
     "text": [
      "cpu pair features\n",
      "cpu single center features\n",
      "['species_neighbor', 'n_1'] ['species_neighbor_1', 'n_1']\n",
      "(8, 2)\n",
      "['species_neighbor', 'n_1'] ['species_neighbor_1', 'n_1']\n",
      "(8, 2)\n",
      "['species_neighbor', 'n_1'] ['species_neighbor_1', 'n_1']\n",
      "(8, 2)\n",
      "['species_neighbor', 'n_1'] ['species_neighbor_1', 'n_1']\n",
      "(8, 2)\n",
      "['species_neighbor', 'n_1'] ['species_neighbor_1', 'n_1']\n",
      "(8, 2)\n",
      "['species_neighbor', 'n_1'] ['species_neighbor_1', 'n_1']\n",
      "(8, 2)\n",
      "['species_neighbor', 'n_1'] ['species_neighbor_1', 'n_1']\n",
      "(8, 2)\n",
      "['species_neighbor', 'n_1'] ['species_neighbor_1', 'n_1']\n",
      "(8, 2)\n",
      "['species_neighbor', 'n_1'] ['species_neighbor_1', 'n_1']\n",
      "(8, 2)\n",
      "['species_neighbor', 'n_1'] ['species_neighbor_1', 'n_1']\n",
      "(8, 2)\n",
      "['species_neighbor', 'n_1'] ['species_neighbor_1', 'n_1']\n",
      "(8, 2)\n",
      "['species_neighbor', 'n_1'] ['species_neighbor_1', 'n_1']\n",
      "(8, 2)\n",
      "['species_neighbor', 'n_1'] ['species_neighbor_1', 'n_1']\n",
      "(8, 2)\n",
      "['species_neighbor', 'n_1'] ['species_neighbor_1', 'n_1']\n",
      "(8, 2)\n",
      "['species_neighbor', 'n_1'] ['species_neighbor_1', 'n_1']\n",
      "(8, 2)\n",
      "['species_neighbor', 'n_1'] ['species_neighbor_1', 'n_1']\n",
      "(8, 2)\n",
      "['species_neighbor', 'n_1'] ['species_neighbor_1', 'n_1']\n",
      "(8, 2)\n",
      "['species_neighbor', 'n_1'] ['species_neighbor_1', 'n_1']\n",
      "(8, 2)\n",
      "['species_neighbor', 'n_1'] ['species_neighbor_1', 'n_1']\n",
      "(8, 2)\n",
      "['species_neighbor', 'n_1'] ['species_neighbor_1', 'n_1']\n",
      "(8, 2)\n",
      "['species_neighbor', 'n_1'] ['species_neighbor_1', 'n_1']\n",
      "(8, 2)\n",
      "['species_neighbor', 'n_1'] ['species_neighbor_1', 'n_1']\n",
      "(8, 2)\n",
      "['species_neighbor', 'n_1'] ['species_neighbor_1', 'n_1']\n",
      "(8, 2)\n",
      "['species_neighbor', 'n_1'] ['species_neighbor_1', 'n_1']\n",
      "(8, 2)\n"
     ]
    }
   ],
   "source": [
    "rhoij = pair_features(dataset.structures, hypers_atom, hypers_pair, order_nu = 1, all_pairs = all_pairs, both_centers = both_centers, mic = False,\n",
    "                          kmesh = dataset.kmesh, device = device, lcut = LCUT, return_rho0ij = return_rho0ij)  "
   ]
  },
  {
   "cell_type": "code",
   "execution_count": 143,
   "id": "09ccbd33-9b40-40af-aef1-d6405440e6fe",
   "metadata": {},
   "outputs": [
    {
     "data": {
      "text/plain": [
       "['species_neighbor', 'n_1', 'k_2', 'species_neighbor_12', 'n_12', 'l_2']"
      ]
     },
     "execution_count": 143,
     "metadata": {},
     "output_type": "execute_result"
    }
   ],
   "source": [
    "rhoij.property_names"
   ]
  },
  {
   "cell_type": "code",
   "execution_count": 113,
   "id": "cc8ed7c1-02a5-40cd-bc9e-f835fa277859",
   "metadata": {
    "scrolled": true
   },
   "outputs": [
    {
     "name": "stdout",
     "output_type": "stream",
     "text": [
      "cpu single center features\n",
      "['species_neighbor', 'n_1'] ['species_neighbor', 'n_1']\n",
      "(8, 2)\n",
      "['species_neighbor', 'n_1'] ['species_neighbor', 'n_1']\n",
      "(8, 2)\n",
      "['species_neighbor', 'n_1'] ['species_neighbor', 'n_1']\n",
      "(8, 2)\n",
      "['species_neighbor', 'n_1'] ['species_neighbor', 'n_1']\n",
      "(8, 2)\n",
      "['species_neighbor', 'n_1'] ['species_neighbor', 'n_1']\n",
      "(8, 2)\n",
      "['species_neighbor', 'n_1'] ['species_neighbor', 'n_1']\n",
      "(8, 2)\n",
      "['species_neighbor', 'n_1'] ['species_neighbor', 'n_1']\n",
      "(8, 2)\n",
      "['species_neighbor', 'n_1'] ['species_neighbor', 'n_1']\n",
      "(8, 2)\n",
      "['species_neighbor', 'n_1'] ['species_neighbor', 'n_1']\n",
      "(8, 2)\n",
      "['species_neighbor', 'n_1'] ['species_neighbor', 'n_1']\n",
      "(8, 2)\n",
      "['species_neighbor', 'n_1'] ['species_neighbor', 'n_1']\n",
      "(8, 2)\n",
      "['species_neighbor', 'n_1'] ['species_neighbor', 'n_1']\n",
      "(8, 2)\n",
      "['species_neighbor', 'n_1'] ['species_neighbor', 'n_1']\n",
      "(8, 2)\n",
      "['species_neighbor', 'n_1'] ['species_neighbor', 'n_1']\n",
      "(8, 2)\n",
      "['species_neighbor', 'n_1'] ['species_neighbor', 'n_1']\n",
      "(8, 2)\n",
      "['species_neighbor', 'n_1'] ['species_neighbor', 'n_1']\n",
      "(8, 2)\n",
      "['species_neighbor', 'n_1'] ['species_neighbor', 'n_1']\n",
      "(8, 2)\n",
      "['species_neighbor', 'n_1'] ['species_neighbor', 'n_1']\n",
      "(8, 2)\n",
      "['species_neighbor', 'n_1'] ['species_neighbor', 'n_1']\n",
      "(8, 2)\n",
      "['species_neighbor', 'n_1'] ['species_neighbor', 'n_1']\n",
      "(8, 2)\n",
      "['species_neighbor', 'n_1'] ['species_neighbor', 'n_1']\n",
      "(8, 2)\n",
      "['species_neighbor', 'n_1'] ['species_neighbor', 'n_1']\n",
      "(8, 2)\n",
      "['species_neighbor', 'n_1'] ['species_neighbor', 'n_1']\n",
      "(8, 2)\n",
      "['species_neighbor', 'n_1'] ['species_neighbor', 'n_1']\n",
      "(8, 2)\n",
      "['species_neighbor', 'n_1'] ['species_neighbor', 'n_1']\n",
      "(8, 2)\n",
      "['species_neighbor', 'n_1'] ['species_neighbor', 'n_1']\n",
      "(8, 2)\n",
      "['species_neighbor', 'n_1'] ['species_neighbor', 'n_1']\n",
      "(8, 2)\n",
      "['species_neighbor', 'n_1'] ['species_neighbor', 'n_1']\n",
      "(8, 2)\n",
      "['species_neighbor', 'n_1'] ['species_neighbor', 'n_1']\n",
      "(8, 2)\n",
      "['species_neighbor', 'n_1'] ['species_neighbor', 'n_1']\n",
      "(8, 2)\n",
      "['species_neighbor', 'n_1'] ['species_neighbor', 'n_1']\n",
      "(8, 2)\n",
      "['species_neighbor', 'n_1'] ['species_neighbor', 'n_1']\n",
      "(8, 2)\n",
      "['species_neighbor', 'n_1'] ['species_neighbor', 'n_1']\n",
      "(8, 2)\n",
      "['species_neighbor', 'n_1'] ['species_neighbor', 'n_1']\n",
      "(8, 2)\n",
      "['species_neighbor', 'n_1'] ['species_neighbor', 'n_1']\n",
      "(8, 2)\n",
      "['species_neighbor', 'n_1'] ['species_neighbor', 'n_1']\n",
      "(8, 2)\n",
      "['species_neighbor_a', 'n_1_a', 'k_2', 'species_neighbor_b', 'n_1_b', 'l_2'] ['species_neighbor', 'n_1']\n",
      "(8, 2)\n",
      "['species_neighbor_a', 'n_1_a', 'k_2', 'species_neighbor_b', 'n_1_b', 'l_2'] ['species_neighbor', 'n_1']\n",
      "(8, 2)\n",
      "['species_neighbor_a', 'n_1_a', 'k_2', 'species_neighbor_b', 'n_1_b', 'l_2'] ['species_neighbor', 'n_1']\n",
      "(8, 2)\n",
      "['species_neighbor_a', 'n_1_a', 'k_2', 'species_neighbor_b', 'n_1_b', 'l_2'] ['species_neighbor', 'n_1']\n",
      "(8, 2)\n",
      "['species_neighbor_a', 'n_1_a', 'k_2', 'species_neighbor_b', 'n_1_b', 'l_2'] ['species_neighbor', 'n_1']\n",
      "(8, 2)\n",
      "['species_neighbor_a', 'n_1_a', 'k_2', 'species_neighbor_b', 'n_1_b', 'l_2'] ['species_neighbor', 'n_1']\n",
      "(8, 2)\n",
      "['species_neighbor_a', 'n_1_a', 'k_2', 'species_neighbor_b', 'n_1_b', 'l_2'] ['species_neighbor', 'n_1']\n",
      "(8, 2)\n",
      "['species_neighbor_a', 'n_1_a', 'k_2', 'species_neighbor_b', 'n_1_b', 'l_2'] ['species_neighbor', 'n_1']\n",
      "(8, 2)\n",
      "['species_neighbor_a', 'n_1_a', 'k_2', 'species_neighbor_b', 'n_1_b', 'l_2'] ['species_neighbor', 'n_1']\n",
      "(8, 2)\n",
      "['species_neighbor_a', 'n_1_a', 'k_2', 'species_neighbor_b', 'n_1_b', 'l_2'] ['species_neighbor', 'n_1']\n",
      "(8, 2)\n",
      "['species_neighbor_a', 'n_1_a', 'k_2', 'species_neighbor_b', 'n_1_b', 'l_2'] ['species_neighbor', 'n_1']\n",
      "(8, 2)\n",
      "['species_neighbor_a', 'n_1_a', 'k_2', 'species_neighbor_b', 'n_1_b', 'l_2'] ['species_neighbor', 'n_1']\n",
      "(8, 2)\n",
      "['species_neighbor_a', 'n_1_a', 'k_2', 'species_neighbor_b', 'n_1_b', 'l_2'] ['species_neighbor', 'n_1']\n",
      "(8, 2)\n",
      "['species_neighbor_a', 'n_1_a', 'k_2', 'species_neighbor_b', 'n_1_b', 'l_2'] ['species_neighbor', 'n_1']\n",
      "(8, 2)\n",
      "['species_neighbor_a', 'n_1_a', 'k_2', 'species_neighbor_b', 'n_1_b', 'l_2'] ['species_neighbor', 'n_1']\n",
      "(8, 2)\n",
      "['species_neighbor_a', 'n_1_a', 'k_2', 'species_neighbor_b', 'n_1_b', 'l_2'] ['species_neighbor', 'n_1']\n",
      "(8, 2)\n",
      "['species_neighbor_a', 'n_1_a', 'k_2', 'species_neighbor_b', 'n_1_b', 'l_2'] ['species_neighbor', 'n_1']\n",
      "(8, 2)\n",
      "['species_neighbor_a', 'n_1_a', 'k_2', 'species_neighbor_b', 'n_1_b', 'l_2'] ['species_neighbor', 'n_1']\n",
      "(8, 2)\n",
      "['species_neighbor_a', 'n_1_a', 'k_2', 'species_neighbor_b', 'n_1_b', 'l_2'] ['species_neighbor', 'n_1']\n",
      "(8, 2)\n",
      "['species_neighbor_a', 'n_1_a', 'k_2', 'species_neighbor_b', 'n_1_b', 'l_2'] ['species_neighbor', 'n_1']\n",
      "(8, 2)\n",
      "['species_neighbor_a', 'n_1_a', 'k_2', 'species_neighbor_b', 'n_1_b', 'l_2'] ['species_neighbor', 'n_1']\n",
      "(8, 2)\n",
      "['species_neighbor_a', 'n_1_a', 'k_2', 'species_neighbor_b', 'n_1_b', 'l_2'] ['species_neighbor', 'n_1']\n",
      "(8, 2)\n",
      "['species_neighbor_a', 'n_1_a', 'k_2', 'species_neighbor_b', 'n_1_b', 'l_2'] ['species_neighbor', 'n_1']\n",
      "(8, 2)\n",
      "['species_neighbor_a', 'n_1_a', 'k_2', 'species_neighbor_b', 'n_1_b', 'l_2'] ['species_neighbor', 'n_1']\n",
      "(8, 2)\n",
      "['species_neighbor_a', 'n_1_a', 'k_2', 'species_neighbor_b', 'n_1_b', 'l_2'] ['species_neighbor', 'n_1']\n",
      "(8, 2)\n",
      "['species_neighbor_a', 'n_1_a', 'k_2', 'species_neighbor_b', 'n_1_b', 'l_2'] ['species_neighbor', 'n_1']\n",
      "(8, 2)\n",
      "['species_neighbor_a', 'n_1_a', 'k_2', 'species_neighbor_b', 'n_1_b', 'l_2'] ['species_neighbor', 'n_1']\n",
      "(8, 2)\n",
      "['species_neighbor_a', 'n_1_a', 'k_2', 'species_neighbor_b', 'n_1_b', 'l_2'] ['species_neighbor', 'n_1']\n",
      "(8, 2)\n",
      "['species_neighbor_a', 'n_1_a', 'k_2', 'species_neighbor_b', 'n_1_b', 'l_2'] ['species_neighbor', 'n_1']\n",
      "(8, 2)\n",
      "['species_neighbor_a', 'n_1_a', 'k_2', 'species_neighbor_b', 'n_1_b', 'l_2'] ['species_neighbor', 'n_1']\n",
      "(8, 2)\n",
      "['species_neighbor_a', 'n_1_a', 'k_2', 'species_neighbor_b', 'n_1_b', 'l_2'] ['species_neighbor', 'n_1']\n",
      "(8, 2)\n",
      "['species_neighbor_a', 'n_1_a', 'k_2', 'species_neighbor_b', 'n_1_b', 'l_2'] ['species_neighbor', 'n_1']\n",
      "(8, 2)\n",
      "['species_neighbor_a', 'n_1_a', 'k_2', 'species_neighbor_b', 'n_1_b', 'l_2'] ['species_neighbor', 'n_1']\n",
      "(8, 2)\n",
      "['species_neighbor_a', 'n_1_a', 'k_2', 'species_neighbor_b', 'n_1_b', 'l_2'] ['species_neighbor', 'n_1']\n",
      "(8, 2)\n",
      "['species_neighbor_a', 'n_1_a', 'k_2', 'species_neighbor_b', 'n_1_b', 'l_2'] ['species_neighbor', 'n_1']\n",
      "(8, 2)\n",
      "['species_neighbor_a', 'n_1_a', 'k_2', 'species_neighbor_b', 'n_1_b', 'l_2'] ['species_neighbor', 'n_1']\n",
      "(8, 2)\n",
      "['species_neighbor_a', 'n_1_a', 'k_2', 'species_neighbor_b', 'n_1_b', 'l_2'] ['species_neighbor', 'n_1']\n",
      "(8, 2)\n",
      "['species_neighbor_a', 'n_1_a', 'k_2', 'species_neighbor_b', 'n_1_b', 'l_2'] ['species_neighbor', 'n_1']\n",
      "(8, 2)\n",
      "['species_neighbor_a', 'n_1_a', 'k_2', 'species_neighbor_b', 'n_1_b', 'l_2'] ['species_neighbor', 'n_1']\n",
      "(8, 2)\n",
      "['species_neighbor_a', 'n_1_a', 'k_2', 'species_neighbor_b', 'n_1_b', 'l_2'] ['species_neighbor', 'n_1']\n",
      "(8, 2)\n",
      "['species_neighbor_a', 'n_1_a', 'k_2', 'species_neighbor_b', 'n_1_b', 'l_2'] ['species_neighbor', 'n_1']\n",
      "(8, 2)\n",
      "['species_neighbor_a', 'n_1_a', 'k_2', 'species_neighbor_b', 'n_1_b', 'l_2'] ['species_neighbor', 'n_1']\n",
      "(8, 2)\n",
      "cpu single center features\n",
      "['species_neighbor', 'n_1'] ['species_neighbor', 'n_1']\n",
      "(8, 2)\n",
      "['species_neighbor', 'n_1'] ['species_neighbor', 'n_1']\n",
      "(8, 2)\n",
      "['species_neighbor', 'n_1'] ['species_neighbor', 'n_1']\n",
      "(8, 2)\n",
      "['species_neighbor', 'n_1'] ['species_neighbor', 'n_1']\n",
      "(8, 2)\n",
      "['species_neighbor', 'n_1'] ['species_neighbor', 'n_1']\n",
      "(8, 2)\n",
      "['species_neighbor', 'n_1'] ['species_neighbor', 'n_1']\n",
      "(8, 2)\n",
      "['species_neighbor', 'n_1'] ['species_neighbor', 'n_1']\n",
      "(8, 2)\n",
      "['species_neighbor', 'n_1'] ['species_neighbor', 'n_1']\n",
      "(8, 2)\n",
      "['species_neighbor', 'n_1'] ['species_neighbor', 'n_1']\n",
      "(8, 2)\n",
      "['species_neighbor', 'n_1'] ['species_neighbor', 'n_1']\n",
      "(8, 2)\n",
      "['species_neighbor', 'n_1'] ['species_neighbor', 'n_1']\n",
      "(8, 2)\n",
      "['species_neighbor', 'n_1'] ['species_neighbor', 'n_1']\n",
      "(8, 2)\n",
      "['species_neighbor', 'n_1'] ['species_neighbor', 'n_1']\n",
      "(8, 2)\n",
      "['species_neighbor', 'n_1'] ['species_neighbor', 'n_1']\n",
      "(8, 2)\n",
      "['species_neighbor', 'n_1'] ['species_neighbor', 'n_1']\n",
      "(8, 2)\n",
      "['species_neighbor', 'n_1'] ['species_neighbor', 'n_1']\n",
      "(8, 2)\n",
      "['species_neighbor', 'n_1'] ['species_neighbor', 'n_1']\n",
      "(8, 2)\n",
      "['species_neighbor', 'n_1'] ['species_neighbor', 'n_1']\n",
      "(8, 2)\n",
      "['species_neighbor', 'n_1'] ['species_neighbor', 'n_1']\n",
      "(8, 2)\n",
      "['species_neighbor', 'n_1'] ['species_neighbor', 'n_1']\n",
      "(8, 2)\n",
      "['species_neighbor', 'n_1'] ['species_neighbor', 'n_1']\n",
      "(8, 2)\n",
      "['species_neighbor', 'n_1'] ['species_neighbor', 'n_1']\n",
      "(8, 2)\n",
      "['species_neighbor', 'n_1'] ['species_neighbor', 'n_1']\n",
      "(8, 2)\n",
      "['species_neighbor', 'n_1'] ['species_neighbor', 'n_1']\n",
      "(8, 2)\n",
      "['species_neighbor', 'n_1'] ['species_neighbor', 'n_1']\n",
      "(8, 2)\n",
      "['species_neighbor', 'n_1'] ['species_neighbor', 'n_1']\n",
      "(8, 2)\n",
      "['species_neighbor', 'n_1'] ['species_neighbor', 'n_1']\n",
      "(8, 2)\n",
      "['species_neighbor', 'n_1'] ['species_neighbor', 'n_1']\n",
      "(8, 2)\n",
      "['species_neighbor', 'n_1'] ['species_neighbor', 'n_1']\n",
      "(8, 2)\n",
      "['species_neighbor', 'n_1'] ['species_neighbor', 'n_1']\n",
      "(8, 2)\n",
      "['species_neighbor', 'n_1'] ['species_neighbor', 'n_1']\n",
      "(8, 2)\n",
      "['species_neighbor', 'n_1'] ['species_neighbor', 'n_1']\n",
      "(8, 2)\n",
      "['species_neighbor', 'n_1'] ['species_neighbor', 'n_1']\n",
      "(8, 2)\n",
      "['species_neighbor', 'n_1'] ['species_neighbor', 'n_1']\n",
      "(8, 2)\n",
      "['species_neighbor', 'n_1'] ['species_neighbor', 'n_1']\n",
      "(8, 2)\n",
      "['species_neighbor', 'n_1'] ['species_neighbor', 'n_1']\n",
      "(8, 2)\n",
      "cpu single center features\n"
     ]
    }
   ],
   "source": [
    "rho3i = single_center_features(dataset.structures, hypers_atom, order_nu = 3, lcut = 3, device = device,)\n",
    "rho2i = single_center_features(dataset.structures, hypers_atom, order_nu = 2, lcut = 3, device = device,)\n",
    "rho1i = single_center_features(dataset.structures, hypers_atom, order_nu = 1, lcut = 3, device = device,)\n",
    "                                    "
   ]
  },
  {
   "cell_type": "code",
   "execution_count": 121,
   "id": "1fbb0a4a-edc1-41bc-942c-32066109cd68",
   "metadata": {},
   "outputs": [
    {
     "ename": "SyntaxError",
     "evalue": "expected 'else' after 'if' expression (586240782.py, line 1)",
     "output_type": "error",
     "traceback": [
      "\u001b[0;36m  Cell \u001b[0;32mIn[121], line 1\u001b[0;36m\u001b[0m\n\u001b[0;31m    xnuk if \"species_neighbor\" not in xnuk and \"n_1__\" not in xnuk for xnuk in rho2i.property_names\u001b[0m\n\u001b[0m    ^\u001b[0m\n\u001b[0;31mSyntaxError\u001b[0m\u001b[0;31m:\u001b[0m expected 'else' after 'if' expression\n"
     ]
    }
   ],
   "source": [
    "xnuk if \"species_neighbor\" not in xnuk and \"n_1__\" not in xnuk for xnuk in rho2i.property_names"
   ]
  },
  {
   "cell_type": "code",
   "execution_count": 119,
   "id": "7ed072ec-bd5b-4ceb-a11b-afa56dfd1f61",
   "metadata": {
    "scrolled": true
   },
   "outputs": [
    {
     "name": "stderr",
     "output_type": "stream",
     "text": [
      "[autoreload of mlelec.features.acdc_utils_diag failed: Traceback (most recent call last):\n",
      "  File \"/home/nigam/miniconda3/envs/temp/lib/python3.11/site-packages/IPython/extensions/autoreload.py\", line 276, in check\n",
      "    superreload(m, reload, self.old_objects)\n",
      "  File \"/home/nigam/miniconda3/envs/temp/lib/python3.11/site-packages/IPython/extensions/autoreload.py\", line 475, in superreload\n",
      "    module = reload(module)\n",
      "             ^^^^^^^^^^^^^^\n",
      "  File \"/home/nigam/miniconda3/envs/temp/lib/python3.11/importlib/__init__.py\", line 169, in reload\n",
      "    _bootstrap._exec(spec, module)\n",
      "  File \"<frozen importlib._bootstrap>\", line 621, in _exec\n",
      "  File \"<frozen importlib._bootstrap_external>\", line 936, in exec_module\n",
      "  File \"<frozen importlib._bootstrap_external>\", line 1074, in get_code\n",
      "  File \"<frozen importlib._bootstrap_external>\", line 1004, in source_to_code\n",
      "  File \"<frozen importlib._bootstrap>\", line 241, in _call_with_frames_removed\n",
      "  File \"/media/nigam/b5749eb7-d3f1-4495-adeb-2c318fb7d0de/MAC/mlelec/src/mlelec/features/acdc_utils_diag.py\", line 463\n",
      "    tuple(xnuk if \"species_neighbor\" not in xnuk and \"n_1__\" not in xnuk for xnuk in x_nu.block(0).properties.names )\n",
      "          ^^^^^^^^^^^^^^^^^^^^^^^^^^^^^^^^^^^^^^^^^^^^^^^^^^^^^^^^^^^^^^\n",
      "SyntaxError: expected 'else' after 'if' expression\n",
      "]\n"
     ]
    },
    {
     "name": "stdout",
     "output_type": "stream",
     "text": [
      "cpu single center features\n",
      "['species_neighbor', 'n_1'] ['species_neighbor', 'n_1']\n",
      "(8, 2)\n",
      "['species_neighbor', 'n_1'] ['species_neighbor', 'n_1']\n",
      "(8, 2)\n",
      "['species_neighbor', 'n_1'] ['species_neighbor', 'n_1']\n",
      "(8, 2)\n",
      "['species_neighbor', 'n_1'] ['species_neighbor', 'n_1']\n",
      "(8, 2)\n",
      "['species_neighbor', 'n_1'] ['species_neighbor', 'n_1']\n",
      "(8, 2)\n",
      "['species_neighbor', 'n_1'] ['species_neighbor', 'n_1']\n",
      "(8, 2)\n",
      "['species_neighbor', 'n_1'] ['species_neighbor', 'n_1']\n",
      "(8, 2)\n",
      "['species_neighbor', 'n_1'] ['species_neighbor', 'n_1']\n",
      "(8, 2)\n",
      "['species_neighbor', 'n_1'] ['species_neighbor', 'n_1']\n",
      "(8, 2)\n",
      "['species_neighbor', 'n_1'] ['species_neighbor', 'n_1']\n",
      "(8, 2)\n",
      "['species_neighbor', 'n_1'] ['species_neighbor', 'n_1']\n",
      "(8, 2)\n",
      "['species_neighbor', 'n_1'] ['species_neighbor', 'n_1']\n",
      "(8, 2)\n",
      "['species_neighbor', 'n_1'] ['species_neighbor', 'n_1']\n",
      "(8, 2)\n",
      "['species_neighbor', 'n_1'] ['species_neighbor', 'n_1']\n",
      "(8, 2)\n",
      "['species_neighbor', 'n_1'] ['species_neighbor', 'n_1']\n",
      "(8, 2)\n",
      "['species_neighbor', 'n_1'] ['species_neighbor', 'n_1']\n",
      "(8, 2)\n",
      "['species_neighbor', 'n_1'] ['species_neighbor', 'n_1']\n",
      "(8, 2)\n",
      "['species_neighbor', 'n_1'] ['species_neighbor', 'n_1']\n",
      "(8, 2)\n",
      "['species_neighbor', 'n_1'] ['species_neighbor', 'n_1']\n",
      "(8, 2)\n",
      "['species_neighbor', 'n_1'] ['species_neighbor', 'n_1']\n",
      "(8, 2)\n",
      "['species_neighbor', 'n_1'] ['species_neighbor', 'n_1']\n",
      "(8, 2)\n",
      "['species_neighbor', 'n_1'] ['species_neighbor', 'n_1']\n",
      "(8, 2)\n",
      "['species_neighbor', 'n_1'] ['species_neighbor', 'n_1']\n",
      "(8, 2)\n",
      "['species_neighbor', 'n_1'] ['species_neighbor', 'n_1']\n",
      "(8, 2)\n",
      "['species_neighbor', 'n_1'] ['species_neighbor', 'n_1']\n",
      "(8, 2)\n",
      "['species_neighbor', 'n_1'] ['species_neighbor', 'n_1']\n",
      "(8, 2)\n",
      "['species_neighbor', 'n_1'] ['species_neighbor', 'n_1']\n",
      "(8, 2)\n",
      "['species_neighbor', 'n_1'] ['species_neighbor', 'n_1']\n",
      "(8, 2)\n",
      "['species_neighbor', 'n_1'] ['species_neighbor', 'n_1']\n",
      "(8, 2)\n",
      "['species_neighbor', 'n_1'] ['species_neighbor', 'n_1']\n",
      "(8, 2)\n",
      "['species_neighbor', 'n_1'] ['species_neighbor', 'n_1']\n",
      "(8, 2)\n",
      "['species_neighbor', 'n_1'] ['species_neighbor', 'n_1']\n",
      "(8, 2)\n",
      "['species_neighbor', 'n_1'] ['species_neighbor', 'n_1']\n",
      "(8, 2)\n",
      "['species_neighbor', 'n_1'] ['species_neighbor', 'n_1']\n",
      "(8, 2)\n",
      "['species_neighbor', 'n_1'] ['species_neighbor', 'n_1']\n",
      "(8, 2)\n",
      "['species_neighbor', 'n_1'] ['species_neighbor', 'n_1']\n",
      "(8, 2)\n",
      "['species_neighbor_a', 'n_1_a', 'k_2', 'species_neighbor_b', 'n_1_b', 'l_2'] ['species_neighbor', 'n_1']\n",
      "(8, 2)\n",
      "['species_neighbor_a', 'n_1_a', 'k_2', 'species_neighbor_b', 'n_1_b', 'l_2'] ['species_neighbor', 'n_1']\n",
      "(8, 2)\n",
      "['species_neighbor_a', 'n_1_a', 'k_2', 'species_neighbor_b', 'n_1_b', 'l_2'] ['species_neighbor', 'n_1']\n",
      "(8, 2)\n",
      "['species_neighbor_a', 'n_1_a', 'k_2', 'species_neighbor_b', 'n_1_b', 'l_2'] ['species_neighbor', 'n_1']\n",
      "(8, 2)\n",
      "['species_neighbor_a', 'n_1_a', 'k_2', 'species_neighbor_b', 'n_1_b', 'l_2'] ['species_neighbor', 'n_1']\n",
      "(8, 2)\n",
      "['species_neighbor_a', 'n_1_a', 'k_2', 'species_neighbor_b', 'n_1_b', 'l_2'] ['species_neighbor', 'n_1']\n",
      "(8, 2)\n",
      "['species_neighbor_a', 'n_1_a', 'k_2', 'species_neighbor_b', 'n_1_b', 'l_2'] ['species_neighbor', 'n_1']\n",
      "(8, 2)\n",
      "['species_neighbor_a', 'n_1_a', 'k_2', 'species_neighbor_b', 'n_1_b', 'l_2'] ['species_neighbor', 'n_1']\n",
      "(8, 2)\n",
      "['species_neighbor_a', 'n_1_a', 'k_2', 'species_neighbor_b', 'n_1_b', 'l_2'] ['species_neighbor', 'n_1']\n",
      "(8, 2)\n",
      "['species_neighbor_a', 'n_1_a', 'k_2', 'species_neighbor_b', 'n_1_b', 'l_2'] ['species_neighbor', 'n_1']\n",
      "(8, 2)\n",
      "['species_neighbor_a', 'n_1_a', 'k_2', 'species_neighbor_b', 'n_1_b', 'l_2'] ['species_neighbor', 'n_1']\n",
      "(8, 2)\n",
      "['species_neighbor_a', 'n_1_a', 'k_2', 'species_neighbor_b', 'n_1_b', 'l_2'] ['species_neighbor', 'n_1']\n",
      "(8, 2)\n",
      "['species_neighbor_a', 'n_1_a', 'k_2', 'species_neighbor_b', 'n_1_b', 'l_2'] ['species_neighbor', 'n_1']\n",
      "(8, 2)\n",
      "['species_neighbor_a', 'n_1_a', 'k_2', 'species_neighbor_b', 'n_1_b', 'l_2'] ['species_neighbor', 'n_1']\n",
      "(8, 2)\n",
      "['species_neighbor_a', 'n_1_a', 'k_2', 'species_neighbor_b', 'n_1_b', 'l_2'] ['species_neighbor', 'n_1']\n",
      "(8, 2)\n",
      "['species_neighbor_a', 'n_1_a', 'k_2', 'species_neighbor_b', 'n_1_b', 'l_2'] ['species_neighbor', 'n_1']\n",
      "(8, 2)\n",
      "['species_neighbor_a', 'n_1_a', 'k_2', 'species_neighbor_b', 'n_1_b', 'l_2'] ['species_neighbor', 'n_1']\n",
      "(8, 2)\n",
      "['species_neighbor_a', 'n_1_a', 'k_2', 'species_neighbor_b', 'n_1_b', 'l_2'] ['species_neighbor', 'n_1']\n",
      "(8, 2)\n",
      "['species_neighbor_a', 'n_1_a', 'k_2', 'species_neighbor_b', 'n_1_b', 'l_2'] ['species_neighbor', 'n_1']\n",
      "(8, 2)\n",
      "['species_neighbor_a', 'n_1_a', 'k_2', 'species_neighbor_b', 'n_1_b', 'l_2'] ['species_neighbor', 'n_1']\n",
      "(8, 2)\n",
      "['species_neighbor_a', 'n_1_a', 'k_2', 'species_neighbor_b', 'n_1_b', 'l_2'] ['species_neighbor', 'n_1']\n",
      "(8, 2)\n",
      "['species_neighbor_a', 'n_1_a', 'k_2', 'species_neighbor_b', 'n_1_b', 'l_2'] ['species_neighbor', 'n_1']\n",
      "(8, 2)\n",
      "['species_neighbor_a', 'n_1_a', 'k_2', 'species_neighbor_b', 'n_1_b', 'l_2'] ['species_neighbor', 'n_1']\n",
      "(8, 2)\n",
      "['species_neighbor_a', 'n_1_a', 'k_2', 'species_neighbor_b', 'n_1_b', 'l_2'] ['species_neighbor', 'n_1']\n",
      "(8, 2)\n",
      "['species_neighbor_a', 'n_1_a', 'k_2', 'species_neighbor_b', 'n_1_b', 'l_2'] ['species_neighbor', 'n_1']\n",
      "(8, 2)\n",
      "['species_neighbor_a', 'n_1_a', 'k_2', 'species_neighbor_b', 'n_1_b', 'l_2'] ['species_neighbor', 'n_1']\n",
      "(8, 2)\n",
      "['species_neighbor_a', 'n_1_a', 'k_2', 'species_neighbor_b', 'n_1_b', 'l_2'] ['species_neighbor', 'n_1']\n",
      "(8, 2)\n",
      "['species_neighbor_a', 'n_1_a', 'k_2', 'species_neighbor_b', 'n_1_b', 'l_2'] ['species_neighbor', 'n_1']\n",
      "(8, 2)\n",
      "['species_neighbor_a', 'n_1_a', 'k_2', 'species_neighbor_b', 'n_1_b', 'l_2'] ['species_neighbor', 'n_1']\n",
      "(8, 2)\n",
      "['species_neighbor_a', 'n_1_a', 'k_2', 'species_neighbor_b', 'n_1_b', 'l_2'] ['species_neighbor', 'n_1']\n",
      "(8, 2)\n",
      "['species_neighbor_a', 'n_1_a', 'k_2', 'species_neighbor_b', 'n_1_b', 'l_2'] ['species_neighbor', 'n_1']\n",
      "(8, 2)\n",
      "['species_neighbor_a', 'n_1_a', 'k_2', 'species_neighbor_b', 'n_1_b', 'l_2'] ['species_neighbor', 'n_1']\n",
      "(8, 2)\n",
      "['species_neighbor_a', 'n_1_a', 'k_2', 'species_neighbor_b', 'n_1_b', 'l_2'] ['species_neighbor', 'n_1']\n",
      "(8, 2)\n",
      "['species_neighbor_a', 'n_1_a', 'k_2', 'species_neighbor_b', 'n_1_b', 'l_2'] ['species_neighbor', 'n_1']\n",
      "(8, 2)\n",
      "['species_neighbor_a', 'n_1_a', 'k_2', 'species_neighbor_b', 'n_1_b', 'l_2'] ['species_neighbor', 'n_1']\n",
      "(8, 2)\n",
      "['species_neighbor_a', 'n_1_a', 'k_2', 'species_neighbor_b', 'n_1_b', 'l_2'] ['species_neighbor', 'n_1']\n",
      "(8, 2)\n",
      "['species_neighbor_a', 'n_1_a', 'k_2', 'species_neighbor_b', 'n_1_b', 'l_2'] ['species_neighbor', 'n_1']\n",
      "(8, 2)\n",
      "['species_neighbor_a', 'n_1_a', 'k_2', 'species_neighbor_b', 'n_1_b', 'l_2'] ['species_neighbor', 'n_1']\n",
      "(8, 2)\n",
      "['species_neighbor_a', 'n_1_a', 'k_2', 'species_neighbor_b', 'n_1_b', 'l_2'] ['species_neighbor', 'n_1']\n",
      "(8, 2)\n",
      "['species_neighbor_a', 'n_1_a', 'k_2', 'species_neighbor_b', 'n_1_b', 'l_2'] ['species_neighbor', 'n_1']\n",
      "(8, 2)\n",
      "['species_neighbor_a', 'n_1_a', 'k_2', 'species_neighbor_b', 'n_1_b', 'l_2'] ['species_neighbor', 'n_1']\n",
      "(8, 2)\n",
      "['species_neighbor_a', 'n_1_a', 'k_2', 'species_neighbor_b', 'n_1_b', 'l_2'] ['species_neighbor', 'n_1']\n",
      "(8, 2)\n",
      "['species_neighbor_a_a', 'n_1_a_a', 'k_2_a', 'species_neighbor_b_a', 'n_1_b_a', 'l_2_a', 'k_3', 'species_neighbor_b', 'n_1_b', 'l_3'] ['species_neighbor', 'n_1']\n",
      "(8, 2)\n",
      "['species_neighbor_a_a', 'n_1_a_a', 'k_2_a', 'species_neighbor_b_a', 'n_1_b_a', 'l_2_a', 'k_3', 'species_neighbor_b', 'n_1_b', 'l_3'] ['species_neighbor', 'n_1']\n",
      "(8, 2)\n",
      "['species_neighbor_a_a', 'n_1_a_a', 'k_2_a', 'species_neighbor_b_a', 'n_1_b_a', 'l_2_a', 'k_3', 'species_neighbor_b', 'n_1_b', 'l_3'] ['species_neighbor', 'n_1']\n",
      "(8, 2)\n",
      "['species_neighbor_a_a', 'n_1_a_a', 'k_2_a', 'species_neighbor_b_a', 'n_1_b_a', 'l_2_a', 'k_3', 'species_neighbor_b', 'n_1_b', 'l_3'] ['species_neighbor', 'n_1']\n",
      "(8, 2)\n",
      "['species_neighbor_a_a', 'n_1_a_a', 'k_2_a', 'species_neighbor_b_a', 'n_1_b_a', 'l_2_a', 'k_3', 'species_neighbor_b', 'n_1_b', 'l_3'] ['species_neighbor', 'n_1']\n",
      "(8, 2)\n",
      "['species_neighbor_a_a', 'n_1_a_a', 'k_2_a', 'species_neighbor_b_a', 'n_1_b_a', 'l_2_a', 'k_3', 'species_neighbor_b', 'n_1_b', 'l_3'] ['species_neighbor', 'n_1']\n",
      "(8, 2)\n",
      "['species_neighbor_a_a', 'n_1_a_a', 'k_2_a', 'species_neighbor_b_a', 'n_1_b_a', 'l_2_a', 'k_3', 'species_neighbor_b', 'n_1_b', 'l_3'] ['species_neighbor', 'n_1']\n",
      "(8, 2)\n",
      "['species_neighbor_a_a', 'n_1_a_a', 'k_2_a', 'species_neighbor_b_a', 'n_1_b_a', 'l_2_a', 'k_3', 'species_neighbor_b', 'n_1_b', 'l_3'] ['species_neighbor', 'n_1']\n",
      "(8, 2)\n",
      "['species_neighbor_a_a', 'n_1_a_a', 'k_2_a', 'species_neighbor_b_a', 'n_1_b_a', 'l_2_a', 'k_3', 'species_neighbor_b', 'n_1_b', 'l_3'] ['species_neighbor', 'n_1']\n",
      "(8, 2)\n",
      "['species_neighbor_a_a', 'n_1_a_a', 'k_2_a', 'species_neighbor_b_a', 'n_1_b_a', 'l_2_a', 'k_3', 'species_neighbor_b', 'n_1_b', 'l_3'] ['species_neighbor', 'n_1']\n",
      "(8, 2)\n",
      "['species_neighbor_a_a', 'n_1_a_a', 'k_2_a', 'species_neighbor_b_a', 'n_1_b_a', 'l_2_a', 'k_3', 'species_neighbor_b', 'n_1_b', 'l_3'] ['species_neighbor', 'n_1']\n",
      "(8, 2)\n",
      "['species_neighbor_a_a', 'n_1_a_a', 'k_2_a', 'species_neighbor_b_a', 'n_1_b_a', 'l_2_a', 'k_3', 'species_neighbor_b', 'n_1_b', 'l_3'] ['species_neighbor', 'n_1']\n",
      "(8, 2)\n",
      "['species_neighbor_a_a', 'n_1_a_a', 'k_2_a', 'species_neighbor_b_a', 'n_1_b_a', 'l_2_a', 'k_3', 'species_neighbor_b', 'n_1_b', 'l_3'] ['species_neighbor', 'n_1']\n",
      "(8, 2)\n",
      "['species_neighbor_a_a', 'n_1_a_a', 'k_2_a', 'species_neighbor_b_a', 'n_1_b_a', 'l_2_a', 'k_3', 'species_neighbor_b', 'n_1_b', 'l_3'] ['species_neighbor', 'n_1']\n",
      "(8, 2)\n",
      "['species_neighbor_a_a', 'n_1_a_a', 'k_2_a', 'species_neighbor_b_a', 'n_1_b_a', 'l_2_a', 'k_3', 'species_neighbor_b', 'n_1_b', 'l_3'] ['species_neighbor', 'n_1']\n",
      "(8, 2)\n",
      "['species_neighbor_a_a', 'n_1_a_a', 'k_2_a', 'species_neighbor_b_a', 'n_1_b_a', 'l_2_a', 'k_3', 'species_neighbor_b', 'n_1_b', 'l_3'] ['species_neighbor', 'n_1']\n",
      "(8, 2)\n",
      "['species_neighbor_a_a', 'n_1_a_a', 'k_2_a', 'species_neighbor_b_a', 'n_1_b_a', 'l_2_a', 'k_3', 'species_neighbor_b', 'n_1_b', 'l_3'] ['species_neighbor', 'n_1']\n",
      "(8, 2)\n",
      "['species_neighbor_a_a', 'n_1_a_a', 'k_2_a', 'species_neighbor_b_a', 'n_1_b_a', 'l_2_a', 'k_3', 'species_neighbor_b', 'n_1_b', 'l_3'] ['species_neighbor', 'n_1']\n",
      "(8, 2)\n",
      "['species_neighbor_a_a', 'n_1_a_a', 'k_2_a', 'species_neighbor_b_a', 'n_1_b_a', 'l_2_a', 'k_3', 'species_neighbor_b', 'n_1_b', 'l_3'] ['species_neighbor', 'n_1']\n",
      "(8, 2)\n",
      "['species_neighbor_a_a', 'n_1_a_a', 'k_2_a', 'species_neighbor_b_a', 'n_1_b_a', 'l_2_a', 'k_3', 'species_neighbor_b', 'n_1_b', 'l_3'] ['species_neighbor', 'n_1']\n",
      "(8, 2)\n",
      "['species_neighbor_a_a', 'n_1_a_a', 'k_2_a', 'species_neighbor_b_a', 'n_1_b_a', 'l_2_a', 'k_3', 'species_neighbor_b', 'n_1_b', 'l_3'] ['species_neighbor', 'n_1']\n",
      "(8, 2)\n",
      "['species_neighbor_a_a', 'n_1_a_a', 'k_2_a', 'species_neighbor_b_a', 'n_1_b_a', 'l_2_a', 'k_3', 'species_neighbor_b', 'n_1_b', 'l_3'] ['species_neighbor', 'n_1']\n",
      "(8, 2)\n",
      "['species_neighbor_a_a', 'n_1_a_a', 'k_2_a', 'species_neighbor_b_a', 'n_1_b_a', 'l_2_a', 'k_3', 'species_neighbor_b', 'n_1_b', 'l_3'] ['species_neighbor', 'n_1']\n",
      "(8, 2)\n",
      "['species_neighbor_a_a', 'n_1_a_a', 'k_2_a', 'species_neighbor_b_a', 'n_1_b_a', 'l_2_a', 'k_3', 'species_neighbor_b', 'n_1_b', 'l_3'] ['species_neighbor', 'n_1']\n",
      "(8, 2)\n",
      "['species_neighbor_a_a', 'n_1_a_a', 'k_2_a', 'species_neighbor_b_a', 'n_1_b_a', 'l_2_a', 'k_3', 'species_neighbor_b', 'n_1_b', 'l_3'] ['species_neighbor', 'n_1']\n",
      "(8, 2)\n",
      "['species_neighbor_a_a', 'n_1_a_a', 'k_2_a', 'species_neighbor_b_a', 'n_1_b_a', 'l_2_a', 'k_3', 'species_neighbor_b', 'n_1_b', 'l_3'] ['species_neighbor', 'n_1']\n",
      "(8, 2)\n",
      "['species_neighbor_a_a', 'n_1_a_a', 'k_2_a', 'species_neighbor_b_a', 'n_1_b_a', 'l_2_a', 'k_3', 'species_neighbor_b', 'n_1_b', 'l_3'] ['species_neighbor', 'n_1']\n",
      "(8, 2)\n",
      "['species_neighbor_a_a', 'n_1_a_a', 'k_2_a', 'species_neighbor_b_a', 'n_1_b_a', 'l_2_a', 'k_3', 'species_neighbor_b', 'n_1_b', 'l_3'] ['species_neighbor', 'n_1']\n",
      "(8, 2)\n",
      "['species_neighbor_a_a', 'n_1_a_a', 'k_2_a', 'species_neighbor_b_a', 'n_1_b_a', 'l_2_a', 'k_3', 'species_neighbor_b', 'n_1_b', 'l_3'] ['species_neighbor', 'n_1']\n",
      "(8, 2)\n",
      "['species_neighbor_a_a', 'n_1_a_a', 'k_2_a', 'species_neighbor_b_a', 'n_1_b_a', 'l_2_a', 'k_3', 'species_neighbor_b', 'n_1_b', 'l_3'] ['species_neighbor', 'n_1']\n",
      "(8, 2)\n",
      "['species_neighbor_a_a', 'n_1_a_a', 'k_2_a', 'species_neighbor_b_a', 'n_1_b_a', 'l_2_a', 'k_3', 'species_neighbor_b', 'n_1_b', 'l_3'] ['species_neighbor', 'n_1']\n",
      "(8, 2)\n",
      "['species_neighbor_a_a', 'n_1_a_a', 'k_2_a', 'species_neighbor_b_a', 'n_1_b_a', 'l_2_a', 'k_3', 'species_neighbor_b', 'n_1_b', 'l_3'] ['species_neighbor', 'n_1']\n",
      "(8, 2)\n",
      "['species_neighbor_a_a', 'n_1_a_a', 'k_2_a', 'species_neighbor_b_a', 'n_1_b_a', 'l_2_a', 'k_3', 'species_neighbor_b', 'n_1_b', 'l_3'] ['species_neighbor', 'n_1']\n",
      "(8, 2)\n",
      "['species_neighbor_a_a', 'n_1_a_a', 'k_2_a', 'species_neighbor_b_a', 'n_1_b_a', 'l_2_a', 'k_3', 'species_neighbor_b', 'n_1_b', 'l_3'] ['species_neighbor', 'n_1']\n",
      "(8, 2)\n",
      "['species_neighbor_a_a', 'n_1_a_a', 'k_2_a', 'species_neighbor_b_a', 'n_1_b_a', 'l_2_a', 'k_3', 'species_neighbor_b', 'n_1_b', 'l_3'] ['species_neighbor', 'n_1']\n",
      "(8, 2)\n",
      "['species_neighbor_a_a', 'n_1_a_a', 'k_2_a', 'species_neighbor_b_a', 'n_1_b_a', 'l_2_a', 'k_3', 'species_neighbor_b', 'n_1_b', 'l_3'] ['species_neighbor', 'n_1']\n",
      "(8, 2)\n",
      "['species_neighbor_a_a', 'n_1_a_a', 'k_2_a', 'species_neighbor_b_a', 'n_1_b_a', 'l_2_a', 'k_3', 'species_neighbor_b', 'n_1_b', 'l_3'] ['species_neighbor', 'n_1']\n",
      "(8, 2)\n",
      "['species_neighbor_a_a', 'n_1_a_a', 'k_2_a', 'species_neighbor_b_a', 'n_1_b_a', 'l_2_a', 'k_3', 'species_neighbor_b', 'n_1_b', 'l_3'] ['species_neighbor', 'n_1']\n",
      "(8, 2)\n",
      "['species_neighbor_a_a', 'n_1_a_a', 'k_2_a', 'species_neighbor_b_a', 'n_1_b_a', 'l_2_a', 'k_3', 'species_neighbor_b', 'n_1_b', 'l_3'] ['species_neighbor', 'n_1']\n",
      "(8, 2)\n",
      "['species_neighbor_a_a', 'n_1_a_a', 'k_2_a', 'species_neighbor_b_a', 'n_1_b_a', 'l_2_a', 'k_3', 'species_neighbor_b', 'n_1_b', 'l_3'] ['species_neighbor', 'n_1']\n",
      "(8, 2)\n",
      "['species_neighbor_a_a', 'n_1_a_a', 'k_2_a', 'species_neighbor_b_a', 'n_1_b_a', 'l_2_a', 'k_3', 'species_neighbor_b', 'n_1_b', 'l_3'] ['species_neighbor', 'n_1']\n",
      "(8, 2)\n",
      "['species_neighbor_a_a', 'n_1_a_a', 'k_2_a', 'species_neighbor_b_a', 'n_1_b_a', 'l_2_a', 'k_3', 'species_neighbor_b', 'n_1_b', 'l_3'] ['species_neighbor', 'n_1']\n",
      "(8, 2)\n",
      "['species_neighbor_a_a', 'n_1_a_a', 'k_2_a', 'species_neighbor_b_a', 'n_1_b_a', 'l_2_a', 'k_3', 'species_neighbor_b', 'n_1_b', 'l_3'] ['species_neighbor', 'n_1']\n",
      "(8, 2)\n",
      "['species_neighbor_a_a', 'n_1_a_a', 'k_2_a', 'species_neighbor_b_a', 'n_1_b_a', 'l_2_a', 'k_3', 'species_neighbor_b', 'n_1_b', 'l_3'] ['species_neighbor', 'n_1']\n",
      "(8, 2)\n",
      "['species_neighbor_a_a', 'n_1_a_a', 'k_2_a', 'species_neighbor_b_a', 'n_1_b_a', 'l_2_a', 'k_3', 'species_neighbor_b', 'n_1_b', 'l_3'] ['species_neighbor', 'n_1']\n",
      "(8, 2)\n",
      "['species_neighbor_a_a', 'n_1_a_a', 'k_2_a', 'species_neighbor_b_a', 'n_1_b_a', 'l_2_a', 'k_3', 'species_neighbor_b', 'n_1_b', 'l_3'] ['species_neighbor', 'n_1']\n",
      "(8, 2)\n",
      "['species_neighbor_a_a', 'n_1_a_a', 'k_2_a', 'species_neighbor_b_a', 'n_1_b_a', 'l_2_a', 'k_3', 'species_neighbor_b', 'n_1_b', 'l_3'] ['species_neighbor', 'n_1']\n",
      "(8, 2)\n",
      "['species_neighbor_a_a', 'n_1_a_a', 'k_2_a', 'species_neighbor_b_a', 'n_1_b_a', 'l_2_a', 'k_3', 'species_neighbor_b', 'n_1_b', 'l_3'] ['species_neighbor', 'n_1']\n",
      "(8, 2)\n"
     ]
    }
   ],
   "source": [
    "rho4i = single_center_features(dataset.structures, hypers_atom, order_nu = 4, lcut = 3, device = device,)\n"
   ]
  },
  {
   "cell_type": "code",
   "execution_count": 126,
   "id": "bfd032f9-f030-4bd0-a110-3a6e39d76ab0",
   "metadata": {},
   "outputs": [
    {
     "data": {
      "text/plain": [
       "['species_neighbor', 'n_1']"
      ]
     },
     "execution_count": 126,
     "metadata": {},
     "output_type": "execute_result"
    }
   ],
   "source": [
    "rho1i.property_names"
   ]
  },
  {
   "cell_type": "code",
   "execution_count": 122,
   "id": "e0246d6b-f733-4604-bb6e-e150fdb8eb0c",
   "metadata": {},
   "outputs": [
    {
     "data": {
      "text/plain": [
       "['species_neighbor', 'n_1', 'k_2', 'species_neighbor_2', 'n_2', 'l_2']"
      ]
     },
     "execution_count": 122,
     "metadata": {},
     "output_type": "execute_result"
    }
   ],
   "source": [
    "rho2i.property_names"
   ]
  },
  {
   "cell_type": "code",
   "execution_count": 127,
   "id": "e2bd4c86-2716-474f-8bf9-c5039988c67c",
   "metadata": {},
   "outputs": [
    {
     "data": {
      "text/plain": [
       "['species_neighbor_a',\n",
       " 'n_1_a',\n",
       " 'k_2',\n",
       " 'species_neighbor_b',\n",
       " 'n_1_b',\n",
       " 'l_2',\n",
       " 'k_3',\n",
       " 'species_neighbor_3',\n",
       " 'n_3',\n",
       " 'l_3']"
      ]
     },
     "execution_count": 127,
     "metadata": {},
     "output_type": "execute_result"
    }
   ],
   "source": [
    "rho3i.property_names"
   ]
  },
  {
   "cell_type": "code",
   "execution_count": 160,
   "id": "8b6dd4bc-febf-4c85-8422-50d7da6d206b",
   "metadata": {},
   "outputs": [
    {
     "data": {
      "text/plain": [
       "14"
      ]
     },
     "execution_count": 160,
     "metadata": {},
     "output_type": "execute_result"
    }
   ],
   "source": [
    "len(rho4i.property_names)"
   ]
  },
  {
   "cell_type": "code",
   "execution_count": 136,
   "id": "c34ad7df-ce8c-422b-a61f-e011ecfa6844",
   "metadata": {},
   "outputs": [],
   "source": [
    "x_a = rho1i\n",
    "x_b = rho1i \n",
    "NU = x_a.keys[0][\"order_nu\"] + x_b.keys[0][\"order_nu\"]\n",
    "xbnames = tuple(f'{t}_{NU}' for t in x_b.property_names) \n",
    "feature_names = (tuple(x_a.property_names) + (\"k_\" + str(NU),) + xbnames + (\"l_\" + str(NU),))"
   ]
  },
  {
   "cell_type": "code",
   "execution_count": 178,
   "id": "5fa20c7c-7877-41e1-a631-02fba086c8c7",
   "metadata": {},
   "outputs": [],
   "source": [
    "pnames = ['species_neighbor_1', 'n_1']\n",
    "for i in range(2, 4+1):\n",
    "    pnames.extend([f'k_{i}', f'species_neighbor_{i}', f'n_{i}', f'l_{i}'])"
   ]
  },
  {
   "cell_type": "code",
   "execution_count": 176,
   "id": "34943dd5-16cf-495c-97fb-220421fe4395",
   "metadata": {},
   "outputs": [],
   "source": [
    "pnames = ('species_neighbor_1', 'n_1'])\n",
    "pnames += (f'k_{i}', f'species_neighbor_{i}', f'n_{i}', f'l_{i}'] for i in range(2, 4+1)]"
   ]
  },
  {
   "cell_type": "code",
   "execution_count": null,
   "id": "916d8a13-7cff-4dff-ac4c-f26c4daf0dda",
   "metadata": {},
   "outputs": [],
   "source": []
  },
  {
   "cell_type": "code",
   "execution_count": 177,
   "id": "52ee1e4f-c2f5-43f6-9d6c-1e980e6a9cc5",
   "metadata": {},
   "outputs": [
    {
     "data": {
      "text/plain": [
       "['species_neighbor_1',\n",
       " 'n_1',\n",
       " ['k_2', 'species_neighbor_2', 'n_2', 'l_2'],\n",
       " ['k_3', 'species_neighbor_3', 'n_3', 'l_3'],\n",
       " ['k_4', 'species_neighbor_4', 'n_4', 'l_4']]"
      ]
     },
     "execution_count": 177,
     "metadata": {},
     "output_type": "execute_result"
    }
   ],
   "source": [
    "pnames"
   ]
  },
  {
   "cell_type": "code",
   "execution_count": null,
   "id": "29b9d2d3-7b48-4a43-bf6b-2072c2c768c2",
   "metadata": {},
   "outputs": [],
   "source": [
    "class trial_encoder(nn.Module):\n",
    "    def __init__():\n",
    "        pass\n",
    "    def forward():\n",
    "        pass"
   ]
  },
  {
   "cell_type": "code",
   "execution_count": 69,
   "id": "cf1d16e3-c517-437a-8b80-e8d25fa7bfe7",
   "metadata": {},
   "outputs": [
    {
     "name": "stdout",
     "output_type": "stream",
     "text": [
      "cpu pair features\n",
      "cpu single center features\n",
      "cpu single center features\n"
     ]
    }
   ],
   "source": [
    "hfeat = compute_features(dataset)"
   ]
  },
  {
   "cell_type": "code",
   "execution_count": 70,
   "id": "8ee8dbdb-d4e1-4b37-887c-9bb23a8b9401",
   "metadata": {},
   "outputs": [
    {
     "data": {
      "text/plain": [
       "['n']"
      ]
     },
     "execution_count": 70,
     "metadata": {},
     "output_type": "execute_result"
    }
   ],
   "source": [
    "gij.property_names"
   ]
  },
  {
   "cell_type": "code",
   "execution_count": 71,
   "id": "b42a1deb-35e9-444b-af67-4ee61d2f406b",
   "metadata": {},
   "outputs": [
    {
     "ename": "ValueError",
     "evalue": "'spherical_harmonics_l' not found in the dimensions of these Labels",
     "output_type": "error",
     "traceback": [
      "\u001b[0;31m---------------------------------------------------------------------------\u001b[0m",
      "\u001b[0;31mValueError\u001b[0m                                Traceback (most recent call last)",
      "File \u001b[0;32m~/miniconda3/envs/temp/lib/python3.11/site-packages/metatensor/labels.py:131\u001b[0m, in \u001b[0;36mLabelsEntry.__getitem__\u001b[0;34m(self, dimension)\u001b[0m\n\u001b[1;32m    130\u001b[0m \u001b[38;5;28;01mtry\u001b[39;00m:\n\u001b[0;32m--> 131\u001b[0m     i \u001b[38;5;241m=\u001b[39m \u001b[38;5;28mself\u001b[39m\u001b[38;5;241m.\u001b[39m_names\u001b[38;5;241m.\u001b[39mindex(dimension)\n\u001b[1;32m    132\u001b[0m \u001b[38;5;28;01mexcept\u001b[39;00m \u001b[38;5;167;01mValueError\u001b[39;00m:\n",
      "\u001b[0;31mValueError\u001b[0m: 'spherical_harmonics_l' is not in list",
      "\nDuring handling of the above exception, another exception occurred:\n",
      "\u001b[0;31mValueError\u001b[0m                                Traceback (most recent call last)",
      "Cell \u001b[0;32mIn[71], line 2\u001b[0m\n\u001b[1;32m      1\u001b[0m \u001b[38;5;28;01mfor\u001b[39;00m k, b \u001b[38;5;129;01min\u001b[39;00m gij\u001b[38;5;241m.\u001b[39mitems():\n\u001b[0;32m----> 2\u001b[0m     rhoikey \u001b[38;5;241m=\u001b[39m Labels([\u001b[38;5;124m\"\u001b[39m\u001b[38;5;124mspherical_harmonics_l\u001b[39m\u001b[38;5;124m\"\u001b[39m, \u001b[38;5;124m\"\u001b[39m\u001b[38;5;124mspecies_center\u001b[39m\u001b[38;5;124m\"\u001b[39m, \u001b[38;5;124m\"\u001b[39m\u001b[38;5;124minversion_sigma\u001b[39m\u001b[38;5;124m\"\u001b[39m],[\u001b[43mk\u001b[49m\u001b[43m[\u001b[49m\u001b[38;5;124;43m'\u001b[39;49m\u001b[38;5;124;43mspherical_harmonics_l\u001b[39;49m\u001b[38;5;124;43m'\u001b[39;49m\u001b[43m]\u001b[49m, k[\u001b[38;5;124m'\u001b[39m\u001b[38;5;124mspecies_center\u001b[39m\u001b[38;5;124m'\u001b[39m], \u001b[38;5;241m1\u001b[39m\n\u001b[1;32m      3\u001b[0m                                                                                     ])\n\u001b[1;32m      4\u001b[0m     rhoblock \u001b[38;5;241m=\u001b[39m rhoi\u001b[38;5;241m.\u001b[39mblock(rhoikey)\n\u001b[1;32m      5\u001b[0m     rhoblock\u001b[38;5;241m.\u001b[39msamples\u001b[38;5;241m.\u001b[39mview([\u001b[38;5;124m\"\u001b[39m\u001b[38;5;124mcenter\u001b[39m\u001b[38;5;124m\"\u001b[39m], )\n",
      "File \u001b[0;32m~/miniconda3/envs/temp/lib/python3.11/site-packages/metatensor/labels.py:133\u001b[0m, in \u001b[0;36mLabelsEntry.__getitem__\u001b[0;34m(self, dimension)\u001b[0m\n\u001b[1;32m    131\u001b[0m         i \u001b[38;5;241m=\u001b[39m \u001b[38;5;28mself\u001b[39m\u001b[38;5;241m.\u001b[39m_names\u001b[38;5;241m.\u001b[39mindex(dimension)\n\u001b[1;32m    132\u001b[0m     \u001b[38;5;28;01mexcept\u001b[39;00m \u001b[38;5;167;01mValueError\u001b[39;00m:\n\u001b[0;32m--> 133\u001b[0m         \u001b[38;5;28;01mraise\u001b[39;00m \u001b[38;5;167;01mValueError\u001b[39;00m(\n\u001b[1;32m    134\u001b[0m             \u001b[38;5;124mf\u001b[39m\u001b[38;5;124m\"\u001b[39m\u001b[38;5;124m'\u001b[39m\u001b[38;5;132;01m{\u001b[39;00mdimension\u001b[38;5;132;01m}\u001b[39;00m\u001b[38;5;124m'\u001b[39m\u001b[38;5;124m not found in the dimensions of these Labels\u001b[39m\u001b[38;5;124m\"\u001b[39m\n\u001b[1;32m    135\u001b[0m         )\n\u001b[1;32m    137\u001b[0m     \u001b[38;5;28;01mreturn\u001b[39;00m \u001b[38;5;28mself\u001b[39m\u001b[38;5;241m.\u001b[39m_values[i]\n\u001b[1;32m    139\u001b[0m \u001b[38;5;28;01melse\u001b[39;00m:\n",
      "\u001b[0;31mValueError\u001b[0m: 'spherical_harmonics_l' not found in the dimensions of these Labels"
     ]
    }
   ],
   "source": [
    "for k, b in gij.items():\n",
    "    rhoikey = Labels([\"spherical_harmonics_l\", \"species_center\", \"inversion_sigma\"],[k['spherical_harmonics_l'], k['species_center'], 1\n",
    "                                                                                    ])\n",
    "    rhoblock = rhoi.block(rhoikey)\n",
    "    rhoblock.samples.view([\"center\"], )\n",
    "    for sample in b.samples:\n",
    "        ifr,i,_ = ssample[\"center\"]\n",
    "        np.where(rhoblock)"
   ]
  },
  {
   "cell_type": "code",
   "execution_count": 16,
   "id": "1ab8f766-88a6-4ef0-be83-544502d401fa",
   "metadata": {},
   "outputs": [
    {
     "name": "stdout",
     "output_type": "stream",
     "text": [
      "cpu pair features\n",
      "cpu single center features\n",
      "cpu single center features\n"
     ]
    }
   ],
   "source": [
    "# %%timeit\n",
    "hfeat = compute_features(dataset)"
   ]
  },
  {
   "cell_type": "markdown",
   "id": "e983ab9c-321e-49ab-beea-6ba58e86f63d",
   "metadata": {},
   "source": [
    "# Train"
   ]
  },
  {
   "cell_type": "markdown",
   "id": "0e9b55f6-8880-445c-9c44-794cda37ebc7",
   "metadata": {},
   "source": [
    "## Ridge regression"
   ]
  },
  {
   "cell_type": "code",
   "execution_count": 72,
   "id": "0bc464ec-c7a4-463b-8f8d-6b625aa25a9f",
   "metadata": {},
   "outputs": [],
   "source": [
    "from mlelec.models.linear import LinearModelPeriodic\n",
    "device='cpu'"
   ]
  },
  {
   "cell_type": "code",
   "execution_count": 73,
   "id": "493afa2c-6ba5-4c8f-a554-f9aeb50403b3",
   "metadata": {},
   "outputs": [],
   "source": [
    "def train_ridge(model, target_blocks, set_bias=False, alphas = None, kernel_ridge = False, alpha = None):\n",
    "    block_losses = {}\n",
    "    loss = 0\n",
    "    pred, ridges = model.fit_ridge_analytical(return_matrix = False, set_bias = set_bias, kernel_ridge = kernel_ridge, alphas = alphas, alpha = alpha)\n",
    "\n",
    "    for (key, block) in pred.items():\n",
    "        block_loss=torch.norm(block.values - target_blocks[key].values)**2\n",
    "        loss += block_loss\n",
    "        \n",
    "        block_losses[tuple(key.values)] = block_loss\n",
    "\n",
    "    # print(np.sum(list(block_losses.values())))\n",
    "    return loss, pred, ridges, block_losses#, kernels "
   ]
  },
  {
   "cell_type": "code",
   "execution_count": 74,
   "id": "900116f8-66a7-4efe-bd3c-44d4beeb31f4",
   "metadata": {},
   "outputs": [
    {
     "name": "stdout",
     "output_type": "stream",
     "text": [
      "tensor(2.2922e-08)\n"
     ]
    }
   ],
   "source": [
    "model_ridge = LinearModelPeriodic(twocfeat = hfeat, \n",
    "                                  target_blocks = target_coupled_blocks,\n",
    "                                  frames = dataset.structures, orbitals = dataset.basis, \n",
    "                                  device = device)\n",
    "\n",
    "model_ridge = model_ridge.double()\n",
    "loss_ridge_bias, pred_ridge_bias, ridges_bias, loss_blocks = train_ridge(model_ridge, \n",
    "                                                                         target_coupled_blocks,\n",
    "                                                                         set_bias = True,\n",
    "                                                                         kernel_ridge = False,\n",
    "                                                                         alphas = np.logspace(-10, -2, 100),\n",
    "                                                                         # alphas = np.logspace(-30, -6, 100),\n",
    "                                                                         # alpha = 1e-4\n",
    "                                                                        )\n",
    "print(loss_ridge_bias)"
   ]
  },
  {
   "cell_type": "code",
   "execution_count": 75,
   "id": "34596edd-fb64-48cf-8686-6c536abd5b5e",
   "metadata": {},
   "outputs": [
    {
     "data": {
      "image/png": "[encoded data removed]",
      "text/plain": [
       "<Figure size 1920x480 with 2 Axes>"
      ]
     },
     "metadata": {},
     "output_type": "display_data"
    }
   ],
   "source": [
    "from mlelec.utils.plot_utils import plot_block_errors\n",
    "fig,ax,ax_loss=plot_block_errors(target_coupled_blocks, pred_ridge_bias, plot_loss = True)\n",
    "ax_loss.set_ylim(1e-5,)\n",
    "ax.set_ylim(1e-5,)\n",
    "fig.tight_layout()"
   ]
  },
  {
   "cell_type": "markdown",
   "id": "486cb39c-aa20-451d-a1ad-e78291f6c419",
   "metadata": {},
   "source": [
    "Compute the feature covariance matrix and diagonalize it. Project the weights onto the covariance eigenstates at each training iteration (TODO)"
   ]
  },
  {
   "cell_type": "markdown",
   "id": "a0e3f59d-0717-4063-a73f-df08b980acdb",
   "metadata": {},
   "source": [
    "## Torch"
   ]
  },
  {
   "cell_type": "code",
   "execution_count": 76,
   "id": "756af992-e3a3-4104-8b53-bee3925a94da",
   "metadata": {},
   "outputs": [],
   "source": [
    "from mlelec.metrics import L2_loss, L2_kspace_loss"
   ]
  },
  {
   "cell_type": "code",
   "execution_count": 77,
   "id": "67409ac9-7aa9-4c84-bbd3-ac205b2528d9",
   "metadata": {},
   "outputs": [],
   "source": [
    "from mlelec.models.linear import LinearModelPeriodic"
   ]
  },
  {
   "cell_type": "code",
   "execution_count": 78,
   "id": "3d49a77a-ca50-446b-9e3a-3d72844eeb68",
   "metadata": {},
   "outputs": [],
   "source": [
    "from mlelec.utils.pbc_utils import blocks_to_matrix\n",
    "from mlelec.utils.symmetry import ClebschGordanReal\n",
    "CG = ClebschGordanReal(lmax = 3, device = device)"
   ]
  },
  {
   "cell_type": "code",
   "execution_count": 79,
   "id": "c6737eca-e2db-4c68-9302-8c11612cb010",
   "metadata": {},
   "outputs": [
    {
     "name": "stderr",
     "output_type": "stream",
     "text": [
      "/home/nigam/miniconda3/envs/temp/lib/python3.11/site-packages/torch/optim/lr_scheduler.py:28: UserWarning: The verbose parameter is deprecated. Please use get_last_lr() to access the learning rate.\n",
      "  warnings.warn(\"The verbose parameter is deprecated. Please use get_last_lr() \"\n"
     ]
    }
   ],
   "source": [
    "seed = 10\n",
    "torch.manual_seed(seed)\n",
    "np.random.seed(seed)\n",
    "\n",
    "model = LinearModelPeriodic(twocfeat = hfeat, \n",
    "                            target_blocks = target_coupled_blocks,\n",
    "                            frames = dataset.structures, orbitals = dataset.basis, \n",
    "                            device = device,\n",
    "                            bias = True,\n",
    "                            nhidden = 512, \n",
    "                            nlayers = 1,\n",
    "                            activation = 'SiLU',\n",
    "                            apply_norm = True\n",
    "                           )\n",
    "\n",
    "model = model.double()\n",
    "# for p, (_, b) in zip(model.parameters(), target_coupled_blocks.items()):\n",
    "#     p.data = torch.ones_like(p.data)\n",
    "\n",
    "losses = {}\n",
    "para = {}\n",
    "grad = {}\n",
    "learning_rates = {}\n",
    "last_layer_kernel = {}\n",
    "nepoch = 1000\n",
    "\n",
    "# optimizer = torch.optim.Adam(model.parameters(), lr = 1e-2)\n",
    "# scheduler = torch.optim.lr_scheduler.ReduceLROnPlateau(optimizer, factor=0.6, patience=50, verbose=True)\n",
    "# scheduler = torch.optim.lr_scheduler.MultiStepLR(optimizer, milestones=[200, 400, 600, 800], gamma=1e-1)\n",
    "optimizers = []\n",
    "schedulers = []\n",
    "for i, key in enumerate(model.model):\n",
    "    # optimizers.append(torch.optim.Adam(model.model[key].parameters(), lr = 1e-1)) #, betas = (0.8, 0.9)))\n",
    "    optimizers.append(torch.optim.AdamW(model.model[key].parameters(), lr = 1e-3, betas = (0.8, 0.9)))\n",
    "    schedulers.append(torch.optim.lr_scheduler.ReduceLROnPlateau(optimizers[-1], factor = 0.8, patience = 30, verbose=True))"
   ]
  },
  {
   "cell_type": "code",
   "execution_count": 80,
   "id": "70c6a274-ff97-47ff-bbf4-ea37f9327ab5",
   "metadata": {
    "scrolled": true
   },
   "outputs": [
    {
     "ename": "AssertionError",
     "evalue": "Target must be a dictionary",
     "output_type": "error",
     "traceback": [
      "\u001b[0;31m---------------------------------------------------------------------------\u001b[0m",
      "\u001b[0;31mAssertionError\u001b[0m                            Traceback (most recent call last)",
      "Cell \u001b[0;32mIn[80], line 32\u001b[0m\n\u001b[1;32m     29\u001b[0m epoch_loss \u001b[38;5;241m=\u001b[39m epoch_loss\u001b[38;5;241m.\u001b[39mitem()\n\u001b[1;32m     31\u001b[0m \u001b[38;5;66;03m# Append the values of the loss to a list\u001b[39;00m\n\u001b[0;32m---> 32\u001b[0m loss_k\u001b[38;5;241m.\u001b[39mappend(\u001b[43mL2_loss\u001b[49m\u001b[43m(\u001b[49m\u001b[43mpred_kspace\u001b[49m\u001b[43m,\u001b[49m\u001b[43m \u001b[49m\u001b[43mk_target_blocks\u001b[49m\u001b[43m,\u001b[49m\u001b[43m \u001b[49m\u001b[43mnorm\u001b[49m\u001b[43m \u001b[49m\u001b[38;5;241;43m=\u001b[39;49m\u001b[43m \u001b[49m\u001b[38;5;241;43m2\u001b[39;49m\u001b[43m)\u001b[49m\u001b[38;5;241m.\u001b[39mitem())\n\u001b[1;32m     33\u001b[0m loss_real\u001b[38;5;241m.\u001b[39mappend(epoch_loss)\n\u001b[1;32m     35\u001b[0m \u001b[38;5;66;03m# Loop through submodels and backpropagate\u001b[39;00m\n",
      "File \u001b[0;32m/media/nigam/b5749eb7-d3f1-4495-adeb-2c318fb7d0de/MAC/mlelec/src/mlelec/metrics.py:112\u001b[0m, in \u001b[0;36mL2_loss\u001b[0;34m(pred, target, loss_per_block, norm)\u001b[0m\n\u001b[1;32m    105\u001b[0m     \u001b[38;5;66;03m# losses_b = []\u001b[39;00m\n\u001b[1;32m    106\u001b[0m     \u001b[38;5;66;03m# for b in metatensor.pow(metatensor.subtract(pred, target), 2).blocks():\u001b[39;00m\n\u001b[1;32m    107\u001b[0m     \u001b[38;5;66;03m#     losses.append(torch.sum(b.values)/norm)\u001b[39;00m\n\u001b[1;32m    108\u001b[0m     \u001b[38;5;66;03m# return losses\u001b[39;00m\n\u001b[1;32m    111\u001b[0m \u001b[38;5;28;01melif\u001b[39;00m \u001b[38;5;28misinstance\u001b[39m(pred, \u001b[38;5;28mdict\u001b[39m):\n\u001b[0;32m--> 112\u001b[0m     \u001b[38;5;28;01massert\u001b[39;00m \u001b[38;5;28misinstance\u001b[39m(target, \u001b[38;5;28mdict\u001b[39m), \u001b[38;5;124m\"\u001b[39m\u001b[38;5;124mTarget must be a dictionary\u001b[39m\u001b[38;5;124m\"\u001b[39m\n\u001b[1;32m    113\u001b[0m     losses \u001b[38;5;241m=\u001b[39m []\n\u001b[1;32m    114\u001b[0m     \u001b[38;5;28;01mfor\u001b[39;00m key, values \u001b[38;5;129;01min\u001b[39;00m pred\u001b[38;5;241m.\u001b[39mitems():\n",
      "\u001b[0;31mAssertionError\u001b[0m: Target must be a dictionary"
     ]
    }
   ],
   "source": [
    "from mlelec.utils.twocenter_utils import _to_uncoupled_basis, map_targetkeys_to_featkeys\n",
    "from mlelec.utils.pbc_utils import precompute_phase, TMap_bloch_sums\n",
    "\n",
    "phase, indices = precompute_phase(target_blocks, dataset, cutoff = cutoff)\n",
    "\n",
    "loss_real = []\n",
    "loss_k = []\n",
    "\n",
    "new_sched = True\n",
    "for epoch in range(nepoch):\n",
    "\n",
    "    model.train(True)\n",
    "\n",
    "    for ik, key in enumerate(model.model):\n",
    "        optimizers[ik].zero_grad()\n",
    "    \n",
    "    pred = model()\n",
    "    unc_pred = _to_uncoupled_basis(pred, cg = CG)\n",
    "    pred_kspace = TMap_bloch_sums(unc_pred, phase, indices)\n",
    "    \n",
    "    n_predictions = sum([np.prod(b.values.shape) for _, b in pred.items()])\n",
    "\n",
    "    if epoch < 100:\n",
    "\n",
    "        # Compute the loss for each block\n",
    "        all_losses, epoch_loss = L2_loss(pred, target_coupled_blocks, loss_per_block = True)\n",
    "\n",
    "        # Total loss\n",
    "        epoch_loss = epoch_loss.item()\n",
    "        \n",
    "        # Append the values of the loss to a list\n",
    "        loss_k.append(L2_loss(pred_kspace, k_target_blocks, norm = 2).item())\n",
    "        loss_real.append(epoch_loss)\n",
    "\n",
    "        # Loop through submodels and backpropagate\n",
    "        for ik, (loss, key) in enumerate(zip(all_losses, model.model)):\n",
    "            loss.backward(retain_graph = False)\n",
    "            torch.nn.utils.clip_grad_norm_(model.model[key].parameters(), 1)\n",
    "            optimizers[ik].step()\n",
    "            schedulers[ik].step(loss)\n",
    "            \n",
    "            if key not in losses:\n",
    "                losses[key] = [loss.item()]\n",
    "                learning_rates[key] = [schedulers[ik].state_dict()['_last_lr'][0]]\n",
    "            else:\n",
    "                losses[key].append(loss.item())\n",
    "                learning_rates[key].append(schedulers[ik].state_dict()['_last_lr'][0])\n",
    "                \n",
    "    else:\n",
    "\n",
    "        # Compute the loss\n",
    "        loss = L2_loss(pred_kspace, k_target_blocks, norm = 2)\n",
    "\n",
    "        # Total loss \n",
    "        epoch_loss = loss.item()\n",
    "        \n",
    "        # Append the values of the loss to a list\n",
    "        all_losses, epoch_loss_real = L2_loss(pred, target_coupled_blocks, loss_per_block=True)\n",
    "        loss_real.append(epoch_loss_real.item())\n",
    "        loss_k.append(epoch_loss)\n",
    "\n",
    "               \n",
    "        loss.backward(retain_graph = True)\n",
    "        torch.nn.utils.clip_grad_norm_(model.parameters(), 1)\n",
    "\n",
    "        for ik, (loss_, key) in enumerate(zip(all_losses, model.model)):\n",
    "            optimizers[ik].step()\n",
    "            schedulers[ik].step(epoch_loss/len(model.model))\n",
    "            if key not in losses:\n",
    "                losses[key] = [loss_.item()]\n",
    "                learning_rates[key] = [schedulers[ik].state_dict()['_last_lr'][0]]\n",
    "            else:\n",
    "                losses[key].append(loss_.item())\n",
    "                learning_rates[key].append(schedulers[ik].state_dict()['_last_lr'][0])\n",
    "        \n",
    "    if epoch % 10 == 0:\n",
    "        # print(f\"Epoch {epoch:>7d}, train loss on all blocks {epoch_loss:>15.10f}, train loss per prediction {np.sqrt(epoch_loss)/n_predictions:>6.5e}\")\n",
    "        print(f\"Epoch {epoch:>7d}, train loss real {loss_real[-1]:>15.10f}, train loss k {loss_k[-1]:>15.10f}, train loss per prediction {np.sqrt(epoch_loss)/n_predictions:>6.5e}\")"
   ]
  },
  {
   "cell_type": "code",
   "execution_count": null,
   "id": "1cb6a4d6-c921-4d8a-9979-627036ab58a7",
   "metadata": {},
   "outputs": [
    {
     "data": {
      "text/plain": [
       "[<matplotlib.lines.Line2D at 0x7f8cf34abd10>]"
      ]
     },
     "execution_count": 102,
     "metadata": {},
     "output_type": "execute_result"
    },
    {
     "data": {
      "image/png": "[encoded data removed]",
      "text/plain": [
       "<Figure size 640x480 with 1 Axes>"
      ]
     },
     "metadata": {},
     "output_type": "display_data"
    }
   ],
   "source": [
    "for k in losses:\n",
    "    if k == '(0, 6, 1, 0, 6, 1, 0, 0)':\n",
    "        plt.loglog(losses[k], label = k)\n",
    "# plt.ylim(1e-10)\n",
    "plt.loglog(loss_real, 'k')\n",
    "plt.loglog(loss_k, 'r')"
   ]
  },
  {
   "cell_type": "code",
   "execution_count": 32,
   "id": "02c92d48-f74f-4842-b2b5-b690651d184f",
   "metadata": {},
   "outputs": [
    {
     "data": {
      "text/plain": [
       "[<matplotlib.lines.Line2D at 0x7f8d10f75a90>]"
      ]
     },
     "execution_count": 32,
     "metadata": {},
     "output_type": "execute_result"
    },
    {
     "data": {
      "image/png": "[encoded data removed]",
      "text/plain": [
       "<Figure size 640x480 with 1 Axes>"
      ]
     },
     "metadata": {},
     "output_type": "display_data"
    }
   ],
   "source": [
    "for k in losses:\n",
    "    plt.loglog(losses[k], label = k)\n",
    "plt.ylim(1e-10)\n",
    "plt.loglog(loss_real, 'k')"
   ]
  },
  {
   "cell_type": "markdown",
   "id": "3f5a2b91-ddcc-47fb-a14d-f56efb305649",
   "metadata": {},
   "source": [
    "# Bands"
   ]
  },
  {
   "cell_type": "code",
   "execution_count": 55,
   "id": "c9888ce5-7977-4be9-aff7-cf8dd372e9e7",
   "metadata": {},
   "outputs": [],
   "source": [
    "def reconstruct(pred, dataset, cutoff):\n",
    "    from mlelec.utils.pbc_utils import inverse_bloch_sum\n",
    "    reconstructed_H_ = blocks_to_matrix(pred, dataset)\n",
    "    reconstructed_H = []\n",
    "    reconstructed_S = []\n",
    "    S = [inverse_bloch_sum(dataset, dataset.overlap_kspace[ifr], ifr, cutoff) for ifr in range(len(dataset.structures))]\n",
    "    for ifr in range(len(reconstructed_H_)):\n",
    "        reconstructed_H.append({})\n",
    "        reconstructed_S.append({})\n",
    "        for T in reconstructed_H_[ifr]:\n",
    "            if T in S[ifr]:\n",
    "                reconstructed_S[ifr][T] = S[ifr][T]\n",
    "                reconstructed_H[ifr][T] = reconstructed_H_[ifr][T].cpu().detach().numpy()\n",
    "            elif tuple(-np.array(T)) in S[ifr]:\n",
    "                T = tuple(-np.array(T))\n",
    "                reconstructed_S[ifr][T] = S[ifr][T]\n",
    "                reconstructed_H[ifr][T] = reconstructed_H_[ifr][T].cpu().detach().numpy()\n",
    "            else:\n",
    "                print(T)\n",
    "                raise ValueError()\n",
    "    return reconstructed_H, reconstructed_S"
   ]
  },
  {
   "cell_type": "code",
   "execution_count": 56,
   "id": "fb45fb22-59e7-459a-a588-2ca8e15684cb",
   "metadata": {},
   "outputs": [],
   "source": [
    "rH_k, rS_k = reconstruct(pred, dataset, cutoff = cutoff)\n",
    "\n",
    "_, true_target_coupled_blocks = get_targets(dataset, cutoff = 8.35, device = device)\n",
    "rH_true, rS_true = reconstruct(true_target_coupled_blocks, dataset, cutoff = 8.35)"
   ]
  },
  {
   "cell_type": "code",
   "execution_count": 57,
   "id": "7908ddd6-256b-421e-8d51-81658106bc19",
   "metadata": {},
   "outputs": [
    {
     "name": "stdout",
     "output_type": "stream",
     "text": [
      "-0.007484087355638383\n",
      "-0.007498410787027821\n"
     ]
    },
    {
     "data": {
      "text/plain": [
       "<matplotlib.legend.Legend at 0x775c0d96dbd0>"
      ]
     },
     "execution_count": 57,
     "metadata": {},
     "output_type": "execute_result"
    },
    {
     "data": {
      "image/png": "[encoded data removed]",
      "text/plain": [
       "<Figure size 640x480 with 1 Axes>"
      ]
     },
     "metadata": {},
     "output_type": "display_data"
    }
   ],
   "source": [
    "fig, ax = plt.subplots()\n",
    "\n",
    "special_points = {'G': [0.0, 0.0, 0.0], 'K': [0.3333333333333333, 0.3333333333333333, 0.0], 'M': [0.5, 0.0, 0.0]}\n",
    "\n",
    "from mlelec.utils.plot_utils import plot_bands_frame_\n",
    "import matplotlib\n",
    "\n",
    "ifr = 2\n",
    "frame = dataset.structures[ifr]\n",
    "pyscf_cell = dataset.cells[ifr]\n",
    "kmesh = dataset.kmesh[ifr]\n",
    "kpath = frame.cell.bandpath('GMKG', 500, special_points = special_points, pbc = [True, True, False])\n",
    "realfock = np.asarray(list(rH_true[ifr].values())) #np.asarray(list(dataset.fock_realspace[0].values()))\n",
    "realover = np.asarray(list(rS_true[ifr].values())) #np.asarray(list(dataset.overlap_realspace[0].values()))\n",
    "R_vec_rel = [list(T) for T in rH_true[ifr]]\n",
    "\n",
    "handles = []\n",
    "labels = []\n",
    "\n",
    "ax, b, handle = plot_bands_frame_(frame, realfock, realover, pyscf_cell, kmesh, special_symm = 'hexagonal', \n",
    "                                  factor = 1,\n",
    "                                  kpath = kpath, ax = ax, color = 'k', R_vec_rel_in = R_vec_rel, lw = 3)\n",
    "handles.append(tuple(handle))\n",
    "labels.append('Ref.')\n",
    "\n",
    "for H, S, c, ls, factor, label in zip([rH_k], [rS_k], ['red'], ['--'], [1], ['after kspace']): #np.sqrt(np.prod(kmesh)/len(H[0]))]):\n",
    "    # if label == 'only real space':\n",
    "        # continue\n",
    "    realfock_cutoff = np.asarray(list(H[ifr].values()))\n",
    "    realover_cutoff = np.asarray(list(S[ifr].values()))\n",
    "    R_vec_rel = [list(T) for T in H[ifr]]\n",
    "    ax, b, handle = plot_bands_frame_(frame, realfock_cutoff, realover_cutoff, pyscf_cell, kmesh, \n",
    "                                      factor = factor,\n",
    "                                      lw = 2,\n",
    "                                      R_vec_rel_in = R_vec_rel, special_symm = 'hexagonal', kpath = kpath, ax = ax, color = c, ls = ls)\n",
    "    handles.append(tuple(handle))\n",
    "    labels.append(label)\n",
    "\n",
    "ax.legend(handles, labels)\n",
    "# ax.set_ylim(-35, 43)\n",
    "# nmax = 50\n",
    "# for ifr in range(0, nmax):\n",
    "#     frame = dataset.structures[ifr]\n",
    "#     pyscf_cell = dataset.cells[ifr]\n",
    "#     kmesh = dataset.kmesh[ifr]\n",
    "#     kpath = frame.cell.bandpath('GMKG', 500, special_points = special_points, pbc = [True, True, False])\n",
    "#     realfock = np.asarray(list(dataset.fock_realspace[ifr].values()))\n",
    "#     realover = np.asarray(list(dataset.overlap_realspace[ifr].values()))\n",
    "#     realfock_cutoff = np.asarray(list(reconstructed_H[ifr].values()))\n",
    "#     realover_cutoff = np.asarray(list(reconstructed_S[ifr].values()))\n",
    "#     fig, ax = plt.subplots()\n",
    "#     ax, b = plot_bands_frame_(frame, realfock, realover, pyscf_cell, kmesh = [8,8,1], special_symm = 'hexagonal' , \n",
    "#                               kpath = kpath, ax=ax,color = cmap((ifr+1)/nmax))\n",
    "#     ax, b = plot_bands_frame_(frame, realfock_cutoff, realover_cutoff, pyscf_cell, kmesh = [8,8,1], special_symm = 'hexagonal' , \n",
    "#                               kpath = kpath, ax = ax, color = 'k', ls = ':')\n",
    "\n"
   ]
  },
  {
   "cell_type": "code",
   "execution_count": 835,
   "id": "73177d16-25a9-47ea-9e5b-f3831dd63a5f",
   "metadata": {},
   "outputs": [
    {
     "data": {
      "image/png": "[encoded data removed]",
      "text/plain": [
       "<Figure size 1920x480 with 2 Axes>"
      ]
     },
     "metadata": {},
     "output_type": "display_data"
    }
   ],
   "source": []
  }
 ],
 "metadata": {
  "kernelspec": {
   "display_name": "Python 3 (ipykernel)",
   "language": "python",
   "name": "python3"
  },
  "language_info": {
   "codemirror_mode": {
    "name": "ipython",
    "version": 3
   },
   "file_extension": ".py",
   "mimetype": "text/x-python",
   "name": "python",
   "nbconvert_exporter": "python",
   "pygments_lexer": "ipython3",
   "version": "3.11.9"
  }
 },
 "nbformat": 4,
 "nbformat_minor": 5
}
