{
 "cells": [
  {
   "cell_type": "code",
   "execution_count": 1,
   "id": "e78f2d86-1a50-4563-a7e3-5030f90b9169",
   "metadata": {},
   "outputs": [],
   "source": [
    "%load_ext autoreload\n",
    "%autoreload 2\n",
    "%load_ext memory_profiler"
   ]
  },
  {
   "cell_type": "markdown",
   "id": "38bd9a57-7c8e-4d70-80c6-f817d35bb151",
   "metadata": {},
   "source": [
    "TESTS \n",
    "- hex hex22\n",
    "- benzene/ testJT\n",
    "- equiv\n",
    "  "
   ]
  },
  {
   "cell_type": "markdown",
   "id": "5ab92a44-4e57-4112-bcdf-7bdba9f8888f",
   "metadata": {},
   "source": [
    "Import modules"
   ]
  },
  {
   "cell_type": "code",
   "execution_count": 272,
   "id": "ff84274a-981b-4bb7-86f0-eadf1e6ae409",
   "metadata": {},
   "outputs": [],
   "source": [
    "from ase.io import read\n",
    "from ase.visualize import view\n",
    "import numpy as np \n",
    "import torch \n",
    "import metatensor \n",
    "import matplotlib.pyplot as plt\n",
    "torch.set_default_dtype(torch.float64)\n",
    "\n",
    "from metatensor import Labels, TensorBlock, TensorMap\n",
    "from mlelec.data.dataset import PySCFPeriodicDataset\n",
    "\n",
    "from mlelec.utils.plot_utils import print_matrix, matrix_norm, block_matrix_norm\n",
    "\n",
    "from metatensor import load, sort\n",
    "from mlelec.utils.twocenter_utils import _to_coupled_basis\n",
    "from mlelec.utils.pbc_utils import matrix_to_blocks, kmatrix_to_blocks, TMap_bloch_sums, precompute_phase\n",
    "\n",
    "from mlelec.features.acdc import pair_features, single_center_features, twocenter_features_periodic_NH, twocenter_hermitian_features\n",
    "import rascaline\n",
    "from mlelec.utils.pbc_utils import kblocks_to_matrix, kmatrix_to_blocks, blocks_to_matrix, matrix_to_blocks\n",
    "from mlelec.utils.plot_utils import plot_block_errors\n",
    "\n",
    "def get_targets(dataset, device =\"cpu\", cutoff = None, target='fock', all_pairs= True, sort_orbs = False):\n",
    "    \n",
    "    blocks = matrix_to_blocks(dataset, device = device, cutoff = cutoff, all_pairs = all_pairs, target = target, sort_orbs = sort_orbs)\n",
    "    coupled_blocks = _to_coupled_basis(blocks, skip_symmetry = True, device = device, translations = True)\n",
    "\n",
    "    blocks = blocks.to(arrays='numpy')\n",
    "    blocks = sort(blocks)\n",
    "    blocks = blocks.to(arrays='torch')\n",
    "    \n",
    "    coupled_blocks = coupled_blocks.to(arrays='numpy')\n",
    "    coupled_blocks = sort(coupled_blocks)\n",
    "    coupled_blocks = coupled_blocks.to(arrays='torch')\n",
    "    \n",
    "    return blocks, coupled_blocks"
   ]
  },
  {
   "cell_type": "code",
   "execution_count": 3,
   "id": "aedad6a8-e3dc-491f-90e7-bb4b4c9198c0",
   "metadata": {},
   "outputs": [],
   "source": [
    "device = 'cpu'"
   ]
  },
  {
   "cell_type": "code",
   "execution_count": 4,
   "id": "48f1b77e-0109-411c-81d0-286f339638ee",
   "metadata": {},
   "outputs": [],
   "source": [
    "orbitals = {\n",
    "    'sto-3g': {5: [[1,0,0],[2,0,0],[2,1,-1], [2,1,0],[2,1,1]], \n",
    "               6: [[1,0,0],[2,0,0],[2,1,-1], [2,1,0],[2,1,1]], \n",
    "               7: [[1,0,0],[2,0,0],[2,1,-1], [2,1,0],[2,1,1]]}, \n",
    "    \n",
    "    'def2svp': {6: [[1,0,0],[2,0,0],[3,0,0],[2,1,1], [2,1,-1],[2,1,0], [3,1,1], [3,1,-1],[3,1,0], [3,2,-2], [3,2,-1],[3,2,0], [3,2,1],[3,2,2]]},\n",
    "    'benzene': {6: [[2,0,0],[2,1,-1], [2,1,0],[2,1,1]], 1:[[1,0,0]]},\n",
    "    'gthszvmolopt': {\n",
    "        6: [[2, 0, 0], [2, 1, -1], [2, 1, 0], [2, 1, 1]],\n",
    "        \n",
    "        16: [[3,0,0], \n",
    "             [3,1,-1], [3,1,0], [3,1,1]],\n",
    "\n",
    "        42: [[4,0,0], \n",
    "             [5,0,0], \n",
    "             [4,1,-1], [4,1,0], [4,1,1], \n",
    "             [4, 2, -2], [4, 2, -1], [4, 2, 0], [4, 2, 1], [4, 2, 2]]}\n",
    "}"
   ]
  },
  {
   "cell_type": "code",
   "execution_count": 5,
   "id": "1ed8f072-c4c7-4fac-aeed-cfc9e9b7c25c",
   "metadata": {},
   "outputs": [],
   "source": [
    "import rascaline\n",
    "max_radial  = 6\n",
    "max_angular = 4\n",
    "atomic_gaussian_width = 0.3\n",
    "cutoff=6\n",
    "spline_basis = False\n",
    "##---splined basis \n",
    "if spline_basis :\n",
    "    spliner = rascaline.utils.SoapSpliner(\n",
    "        cutoff=cutoff,\n",
    "        max_radial=max_radial,\n",
    "        max_angular=max_angular,\n",
    "        basis=rascaline.utils.SphericalBesselBasis(\n",
    "            cutoff=cutoff, max_radial=max_radial, max_angular=max_angular\n",
    "        ),\n",
    "        density=rascaline.utils.GaussianDensity(atomic_gaussian_width=atomic_gaussian_width),\n",
    "        accuracy=1e-5,\n",
    "    )\n",
    "    splined_basis = spliner.compute()\n",
    "##-------\n",
    "hypers_pair = {'cutoff': cutoff,\n",
    "               'max_radial': max_radial,\n",
    "               'max_angular': max_angular,\n",
    "               'atomic_gaussian_width': atomic_gaussian_width,\n",
    "               'center_atom_weight': 1,\n",
    "               \"radial_basis\": splined_basis if spline_basis else {\"Gto\": {}},\n",
    "               # \"radial_basis\": splined_basis,\n",
    "               \"cutoff_function\": {\"ShiftedCosine\": {\"width\": 0.1}}}\n",
    "\n",
    "hypers_atom = {'cutoff': 4,\n",
    "               'max_radial': max_radial,\n",
    "               'max_angular': max_angular,\n",
    "               'atomic_gaussian_width': 0.3,\n",
    "               'center_atom_weight': 1,\n",
    "               \"radial_basis\": {\"Gto\": {}},\n",
    "               \"cutoff_function\": {\"ShiftedCosine\": {\"width\": 0.1}}}\n",
    "\n",
    "return_rho0ij = False\n",
    "both_centers = False\n",
    "all_pairs = False\n",
    "LCUT = 3\n",
    "\n",
    "def compute_features(dataset, all_pairs=False):\n",
    "\n",
    "    rhoij = pair_features(dataset.structures, hypers_atom, hypers_pair, order_nu = 1, all_pairs = all_pairs, both_centers = both_centers,\n",
    "                          kmesh = dataset.kmesh, device = device, lcut = LCUT, return_rho0ij = return_rho0ij)  \n",
    "    \n",
    "    if both_centers and not return_rho0ij:\n",
    "        NU = 3\n",
    "    else:\n",
    "        NU = 2\n",
    "    rhonui = single_center_features(dataset.structures, hypers_atom, order_nu = NU, lcut = LCUT, device = device,\n",
    "                                    feature_names = rhoij.property_names)\n",
    "    \n",
    "    hfeat = twocenter_features_periodic_NH(single_center = rhonui, pair = rhoij, all_pairs = all_pairs)\n",
    "\n",
    "    return hfeat"
   ]
  },
  {
   "cell_type": "code",
   "execution_count": 6,
   "id": "ac352832-2c00-40a3-83d5-4adad14b142e",
   "metadata": {},
   "outputs": [],
   "source": [
    "from mlelec.models.linear import LinearModelPeriodic\n",
    "device='cpu'"
   ]
  },
  {
   "cell_type": "code",
   "execution_count": 7,
   "id": "c6f49a3e-9372-4c0f-a325-ce7f0f512b61",
   "metadata": {},
   "outputs": [],
   "source": [
    "def check_target(coupled_blocks, tol=1e-4):\n",
    "    \"\"\" Checks that the coupled blocks, when n1, l1 = n2, l2, satisfy \n",
    "            - block_type=1, lambda = ODD blocks are zero, \n",
    "            - block_type=-1, lambda = EVEN blocks are zero \n",
    "    \"\"\"\n",
    "    for k, b in coupled_blocks.items():\n",
    "        btype= k['block_type']\n",
    "        L = k['L']\n",
    "        l1 = k['l_i']\n",
    "        l2 = k['l_j']\n",
    "        n1 = k['n_i']\n",
    "        n2 = k['n_j']\n",
    "        if L%2==0 and btype==-1 and (n1==n2) and (l1==l2):\n",
    "            try:\n",
    "                 assert torch.norm(b.values)<=tol, f'btype {btype} L{L} failed - Block norm {torch.norm(b.values)}'\n",
    "            except AssertionError:\n",
    "                failidx = torch.where(b.values>tol)[0]\n",
    "                print(f'{k}, {torch.norm(b.values)} : {len(failidx)} failing samples - , {b.samples.values[failidx].tolist()}')#, values,{b.values[failidx]}' )\n",
    "\n",
    "        elif L%2==1 and btype==1 and (n1==n2) and (l1==l2):\n",
    "            try: \n",
    "                assert torch.norm(b.values)<=tol, f'btype {btype} L{L} failed - Block norm {torch.norm(b.values)}'\n",
    "            except AssertionError:\n",
    "                failidx = torch.where(b.values>tol)[0]\n",
    "                print(f'{len(failidx)} failing samples, {b.samples.values[failidx]}')#, values,{b.values[failidx]}' )\n",
    "  \n",
    "                # print(f'try minus bytpe, {torch.norm(newb.values[failidx])}')\n",
    "\n",
    "    print('TARGET PASSED')\n",
    "def check_gij(gij, tol = 1e-4):\n",
    "    \"\"\" Similar to the checks on the target above, we can check for gij that \n",
    "        - block_type = 1 < n| gij; lambda = ODD> = 0\n",
    "        - block_type = -1 <n | gij; lambda = EVEN> = 0\n",
    "    (inversion sigma = 1 for all of these blocks since they are directly the SPH components)\n",
    "    \"\"\" \n",
    "    for k, b in gij.items(): \n",
    "        btype= k['block_type']\n",
    "        L = k['spherical_harmonics_l']\n",
    "        if L%2==0 and btype==-1 : \n",
    "            try:\n",
    "                 assert torch.norm(b.values)<=tol, f'btype {btype} L{L} failed - Block norm {torch.norm(b.values)}'\n",
    "            except AssertionError:\n",
    "                failidx = torch.where(b.values>tol)[0]\n",
    "                print(f'{k}, {torch.norm(b.values)} : {len(failidx)} failing samples - , {b.samples.values[failidx].tolist()}')\n",
    "        elif L%2==1 and btype==1:\n",
    "            try: \n",
    "                assert torch.norm(b.values)<=tol, f'btype {btype} L{L} failed - Block norm {torch.norm(b.values)}'\n",
    "            except AssertionError:\n",
    "                failidx = torch.where(b.values>tol)[0]\n",
    "                print(f'{len(failidx)} failing samples, {b.samples.values[failidx]}')\n",
    "\n",
    "    print('gij PASSED')"
   ]
  },
  {
   "cell_type": "code",
   "execution_count": 8,
   "id": "587a81f4-afd6-4bed-af47-d470aa26f2a1",
   "metadata": {},
   "outputs": [],
   "source": [
    "def train_ridge(model, target_blocks, set_bias=False, alphas = None, kernel_ridge = False, alpha = None):\n",
    "    block_losses = {}\n",
    "    loss = 0\n",
    "    pred, ridges = model.fit_ridge_analytical(return_matrix = False, set_bias = set_bias, kernel_ridge = kernel_ridge, alphas = alphas, alpha = alpha)\n",
    "\n",
    "    for (key, block) in pred.items():\n",
    "        block_loss=torch.norm(block.values - target_blocks[key].values)**2\n",
    "        loss += block_loss\n",
    "        \n",
    "        block_losses[tuple(key.values)] = block_loss\n",
    "\n",
    "    # print(np.sum(list(block_losses.values())))\n",
    "    return loss, pred, ridges, block_losses#, kernels "
   ]
  },
  {
   "cell_type": "markdown",
   "id": "f5b14af9-dbfa-41cb-9859-9bd546a3e5bb",
   "metadata": {},
   "source": [
    "# TODO : CHECK WHATS happening in feats wrt sorting i,j, species "
   ]
  },
  {
   "cell_type": "markdown",
   "id": "f3a7f70e-fee0-45ce-b684-ae83a1ebcb4f",
   "metadata": {
    "jp-MarkdownHeadingCollapsed": true
   },
   "source": [
    "# BENZENE - test"
   ]
  },
  {
   "cell_type": "code",
   "execution_count": 9,
   "id": "f155f6e1-369a-4df0-9030-7c85629ea582",
   "metadata": {},
   "outputs": [],
   "source": [
    "import ase\n",
    "frame = ase.Atoms(\"C6H6\")\n",
    "rc = 1.384\n",
    "rh = 2.465\n",
    "for i in range(6):\n",
    "    frame.positions[i] = [np.cos(i*np.pi/3)*rc,np.sin(i*np.pi/3)*rc,0]\n",
    "    frame.positions[i+6] = [np.cos(i*np.pi/3)*rh,np.sin(i*np.pi/3)*rh,0]"
   ]
  },
  {
   "cell_type": "code",
   "execution_count": 10,
   "id": "2e95b596-7fa5-432b-8154-c3e0e0ef6243",
   "metadata": {},
   "outputs": [],
   "source": [
    "np.random.seed(321)\n",
    "fock = np.random.uniform(size=(30,30))\n",
    "fock = fock+fock.T\n",
    "ref_eva = np.linalg.eigvalsh(fock)"
   ]
  },
  {
   "cell_type": "code",
   "execution_count": 11,
   "id": "6b07ad3d-ef90-4575-b5c7-1d45067251dd",
   "metadata": {},
   "outputs": [
    {
     "name": "stderr",
     "output_type": "stream",
     "text": [
      "/media/nigam/b5749eb7-d3f1-4495-adeb-2c318fb7d0de/MAC/mlelec/src/mlelec/data/dataset.py:887: UserWarning: Overlap matrices not provided\n",
      "  warnings.warn(\"Overlap matrices not provided\")\n"
     ]
    }
   ],
   "source": [
    "dataset =PySCFPeriodicDataset(frames = [frame], \n",
    "                               kmesh = [1,1,1], \n",
    "                               fix_p_orbital_order=True,\n",
    "                               dimension = 2,\n",
    "                               # fock_kspace = kfock, \n",
    "                               # overlap_kspace = kover, \n",
    "                              fock_realspace=[fock],#[{tuple([0,0,0]):fock}],\n",
    "                               device = device, \n",
    "                               orbs = orbitals['benzene'], \n",
    "                               orbs_name = None\n",
    "                               )"
   ]
  },
  {
   "cell_type": "code",
   "execution_count": 12,
   "id": "6bde4722",
   "metadata": {},
   "outputs": [],
   "source": [
    "\n",
    "target_blocks, target_coupled_blocks = get_targets(dataset, cutoff = 6, device = device, all_pairs = False)"
   ]
  },
  {
   "cell_type": "code",
   "execution_count": 13,
   "id": "1470cd5c",
   "metadata": {},
   "outputs": [],
   "source": [
    "# plt.matshow((dataset.fock_realspace- fock)[0])"
   ]
  },
  {
   "cell_type": "code",
   "execution_count": 14,
   "id": "7e805cc1-a67f-49cf-8cc2-93a09f08b646",
   "metadata": {
    "scrolled": true
   },
   "outputs": [
    {
     "name": "stdout",
     "output_type": "stream",
     "text": [
      "cpu pair features\n",
      "cpu single center features\n",
      "cpu single center features\n",
      "off-site, different species\n",
      "off-site, different species\n",
      "off-site, different species\n",
      "off-site, different species\n",
      "off-site, different species\n",
      "off-site, different species\n",
      "off-site, different species\n",
      "off-site, different species\n",
      "off-site, different species\n",
      "off-site, different species\n",
      "off-site, different species\n",
      "off-site, different species\n",
      "off-site, different species\n",
      "off-site, different species\n"
     ]
    }
   ],
   "source": [
    "# %%timeit\n",
    "hfeat = compute_features(dataset)"
   ]
  },
  {
   "cell_type": "code",
   "execution_count": 15,
   "id": "bf868364-ba12-433c-a33a-ca32e4546494",
   "metadata": {},
   "outputs": [
    {
     "name": "stdout",
     "output_type": "stream",
     "text": [
      "tensor(658.5638)\n"
     ]
    }
   ],
   "source": [
    "model_ridge = LinearModelPeriodic(twocfeat = hfeat, \n",
    "                                  target_blocks = target_coupled_blocks,\n",
    "                                  frames = dataset.structures, orbitals = dataset.basis, \n",
    "                                  device = device)\n",
    "\n",
    "model_ridge = model_ridge.double()\n",
    "loss_ridge_bias, pred_ridge_bias, ridges_bias, loss_blocks = train_ridge(model_ridge, \n",
    "                                                                         target_coupled_blocks,\n",
    "                                                                         set_bias = True,\n",
    "                                                                         kernel_ridge = False,\n",
    "                                                                         alphas = np.logspace(-10, -1, 100),\n",
    "                                                                         # alphas = np.logspace(-30, -6, 100),\n",
    "                                                                         # alpha = 1e-4\n",
    "                                                                        )\n",
    "print(loss_ridge_bias)"
   ]
  },
  {
   "cell_type": "code",
   "execution_count": 16,
   "id": "29bc7307-05d3-4c2c-867d-a0f7af2b5c87",
   "metadata": {},
   "outputs": [],
   "source": [
    "fock_pred = blocks_to_matrix(pred_ridge_bias, dataset)\n",
    "fock_pred = next(iter(fock_pred[0].values()))"
   ]
  },
  {
   "cell_type": "code",
   "execution_count": 17,
   "id": "1254442c-7479-4bdb-bda7-b973b7c659b3",
   "metadata": {},
   "outputs": [
    {
     "data": {
      "text/plain": [
       "<matplotlib.colorbar.Colorbar at 0x7ff7ac43e050>"
      ]
     },
     "execution_count": 17,
     "metadata": {},
     "output_type": "execute_result"
    },
    {
     "data": {
      "image/png": "[encoded data removed]",
      "text/plain": [
       "<Figure size 600x300 with 3 Axes>"
      ]
     },
     "metadata": {},
     "output_type": "display_data"
    }
   ],
   "source": [
    "fig, ax = plt.subplots(1,2,figsize=(6,3), constrained_layout=True)\n",
    "ax[0].matshow(fock, vmin=0, vmax=1.7, interpolation='None')\n",
    "ms = ax[1].matshow(fock_pred, vmin=0, vmax=1.7, interpolation='None')\n",
    "ax[0].set_xticks([])\n",
    "ax[0].set_yticks([])\n",
    "ax[1].set_xticks([])\n",
    "ax[1].set_yticks([])\n",
    "fig.colorbar(ms, ax=ax.ravel().tolist(), label=r\"$H_{ij}\\,/$a.u.\")"
   ]
  },
  {
   "cell_type": "code",
   "execution_count": 18,
   "id": "755190e5-6bf4-4dfd-ac77-c5a7afa7d9e4",
   "metadata": {},
   "outputs": [
    {
     "name": "stdout",
     "output_type": "stream",
     "text": [
      "3.5865086555972887\n",
      "0.016273980152756308\n",
      "0.5076514124395723\n"
     ]
    },
    {
     "data": {
      "image/png": "[encoded data removed]",
      "text/plain": [
       "<Figure size 640x480 with 1 Axes>"
      ]
     },
     "metadata": {},
     "output_type": "display_data"
    }
   ],
   "source": [
    "eva_ref = np.linalg.eigvalsh(fock)\n",
    "eva_pred = np.linalg.eigvalsh(fock_pred)\n",
    "plt.plot(eva_ref, 'b.')\n",
    "plt.plot(eva_pred, 'r*') \n",
    "print(np.sqrt(np.mean((np.linalg.eigvalsh(fock)-np.linalg.eigvalsh(fock_pred))**2)))\n",
    "print(np.linalg.eigvalsh(fock)[14])\n",
    "print(np.linalg.eigvalsh(fock_pred)[14])"
   ]
  },
  {
   "cell_type": "markdown",
   "id": "34dbf601-7db3-4fbe-a945-8f54bd60f582",
   "metadata": {},
   "source": [
    "## displace"
   ]
  },
  {
   "cell_type": "code",
   "execution_count": 19,
   "id": "01809d01-99b7-4d7c-b3eb-c475405cc71b",
   "metadata": {},
   "outputs": [
    {
     "name": "stderr",
     "output_type": "stream",
     "text": [
      "/media/nigam/b5749eb7-d3f1-4495-adeb-2c318fb7d0de/MAC/mlelec/src/mlelec/data/dataset.py:887: UserWarning: Overlap matrices not provided\n",
      "  warnings.warn(\"Overlap matrices not provided\")\n"
     ]
    }
   ],
   "source": [
    "ld = np.linspace(-0.1,0.1,31)\n",
    "frames_displace = []\n",
    "fockdummy = []\n",
    "for i,d in enumerate(ld):\n",
    "    fd = frame.copy()    \n",
    "    cent = fd.positions.mean(axis=0)\n",
    "    fd.positions -= cent\n",
    "    # q3hat\n",
    "    # fd.positions[[-5,-3,-1]] *= 1+d\n",
    "    # fd.positions[[-6,-4,-2]] *= 1-d\n",
    "    # q2hat\n",
    "    fd.positions[[-5,-2]] *= 1+d\n",
    "    fd.positions[[-6,-3]] *= 1-d\n",
    "    fd.positions += cent\n",
    "    frames_displace.append(fd)\n",
    "    fockdummy.append(np.zeros_like(fock))\n",
    "    \n",
    "dataset_displaced = PySCFPeriodicDataset(frames = frames_displace, \n",
    "                               kmesh = [1,1,1], \n",
    "                               fix_p_orbital_order=True,\n",
    "                               dimension = 2,\n",
    "                               # fock_kspace = kfock, \n",
    "                               # overlap_kspace = kover, \n",
    "                              fock_realspace=fockdummy,\n",
    "                               device = device, \n",
    "                               orbs = orbitals['benzene'], \n",
    "                               orbs_name = None\n",
    "                               )\n"
   ]
  },
  {
   "cell_type": "code",
   "execution_count": 20,
   "id": "2bf629a7-1f52-4f80-9e3a-fa0919813727",
   "metadata": {},
   "outputs": [
    {
     "name": "stdout",
     "output_type": "stream",
     "text": [
      "cpu pair features\n",
      "cpu single center features\n",
      "cpu single center features\n",
      "off-site, different species\n",
      "off-site, different species\n",
      "off-site, different species\n",
      "off-site, different species\n",
      "off-site, different species\n",
      "off-site, different species\n",
      "off-site, different species\n",
      "off-site, different species\n",
      "off-site, different species\n",
      "off-site, different species\n",
      "off-site, different species\n",
      "off-site, different species\n",
      "off-site, different species\n",
      "off-site, different species\n"
     ]
    }
   ],
   "source": [
    "hfeat_d = compute_features(dataset_displaced)"
   ]
  },
  {
   "cell_type": "code",
   "execution_count": 21,
   "id": "573e759c-dfc3-4d0c-b716-bc9479c7e50a",
   "metadata": {},
   "outputs": [
    {
     "name": "stderr",
     "output_type": "stream",
     "text": [
      "/media/nigam/b5749eb7-d3f1-4495-adeb-2c318fb7d0de/MAC/mlelec/src/mlelec/models/linear.py:707: UserWarning: Using train target_blocks, otherwise provide test target_blocks\n",
      "  warnings.warn('Using train target_blocks, otherwise provide test target_blocks')\n"
     ]
    }
   ],
   "source": [
    "pred_disp = model_ridge.predict_ridge_analytical(ridges = ridges_bias, hfeat=hfeat_d)"
   ]
  },
  {
   "cell_type": "code",
   "execution_count": 22,
   "id": "332d8fbd-44d9-49a3-a6b0-c14b1ee64bd4",
   "metadata": {
    "scrolled": true
   },
   "outputs": [],
   "source": [
    "fockd = blocks_to_matrix(pred_disp, dataset_displaced)\n",
    "fock_disp=[] \n",
    "for i in range(len(frames_displace)):\n",
    "    fock_disp.append(fockd[i][0,0,0].numpy())\n",
    "    # print(fock_disp[-1].shape)"
   ]
  },
  {
   "cell_type": "code",
   "execution_count": 23,
   "id": "3a1bf06b-c1bf-41fd-8e0f-f4771ba6002f",
   "metadata": {
    "scrolled": true
   },
   "outputs": [],
   "source": [
    "for f in fock_disp:\n",
    "    assert np.linalg.norm(f - f.T)<1e-14"
   ]
  },
  {
   "cell_type": "code",
   "execution_count": 24,
   "id": "2a5fa34e-01d8-4632-ae66-f32c66430732",
   "metadata": {},
   "outputs": [],
   "source": [
    "fockd = blocks_to_matrix(pred_disp, dataset_displaced)\n",
    "evd = [np.linalg.eigh(f) for f in fock_disp]\n",
    "dd = np.asarray([np.sqrt(((frames_displace[i].positions-frames_displace[len(frames_displace)//2].positions)**2).mean())*np.sign(ld[i]) for i in range(len(frames_displace)) ])"
   ]
  },
  {
   "cell_type": "code",
   "execution_count": 25,
   "id": "d96c2651-a403-4d29-a431-742c686d66f9",
   "metadata": {},
   "outputs": [],
   "source": [
    "evd = [np.linalg.eigh(f) for f in fock_disp]\n",
    "dd = np.asarray([np.sqrt(((frames_displace[i].positions-frames_displace[len(frames_displace)//2].positions)**2).mean())*np.sign(ld[i]) for i in range(len(frames_displace)) ])"
   ]
  },
  {
   "cell_type": "code",
   "execution_count": 26,
   "id": "26e04ebd-0a88-4552-8121-484dc4749d47",
   "metadata": {},
   "outputs": [
    {
     "data": {
      "text/plain": [
       "Text(0, 0.5, '$\\\\epsilon_k$ / a.u.')"
      ]
     },
     "execution_count": 26,
     "metadata": {},
     "output_type": "execute_result"
    },
    {
     "data": {
      "image/png": "[encoded data removed]",
      "text/plain": [
       "<Figure size 640x480 with 1 Axes>"
      ]
     },
     "metadata": {},
     "output_type": "display_data"
    }
   ],
   "source": [
    "for k in range(0,6):\n",
    "    plt.plot(dd, [evd[i][0][k] for i in range(len(ld))])   \n",
    "plt.xlabel(\"RMSD / Å\")\n",
    "plt.ylabel(r\"$\\epsilon_k$ / a.u.\")\n",
    "# plt.savefig(\"../figures/benzene-deformations.svg\")"
   ]
  },
  {
   "cell_type": "code",
   "execution_count": null,
   "id": "51e3ab97-4373-4234-b4b9-400498317451",
   "metadata": {},
   "outputs": [],
   "source": []
  },
  {
   "cell_type": "code",
   "execution_count": null,
   "id": "45dc1dad-1729-47d7-a708-f3a96d56ed18",
   "metadata": {},
   "outputs": [],
   "source": []
  },
  {
   "cell_type": "code",
   "execution_count": 93,
   "id": "205580ef-bda3-4955-a1cf-97067966e031",
   "metadata": {},
   "outputs": [],
   "source": [
    "rad = {'C':0.25, 'H':0.15}\n",
    "col = {'C': 'gray', 'H': 'white'}\n",
    "def mo_plot(ax, mol, orbs, eve):\n",
    "    cent = mol.positions.mean(axis=0)\n",
    "    \n",
    "    mo_xy = mo_compute(gv_xy, mol, orbs, eve, project=(1,1,0), sigma=0.25).reshape(ngrid,ngrid)\n",
    "    ax.contourf(xgrid, ygrid, mo_xy, levels=[-0.01,0.01], \n",
    "                extend='both', colors=['blue','white','red'])\n",
    "    \n",
    "    for i in range(len(mol)):\n",
    "        ax.add_patch(plt.Circle((mol.positions[i]-cent)[:2], rad[mol.symbols[i]], fill=False, ec='black' ))"
   ]
  },
  {
   "cell_type": "code",
   "execution_count": 94,
   "id": "7182ac14-4bdc-4a3c-a245-4b217baeceaa",
   "metadata": {},
   "outputs": [
    {
     "data": {
      "text/plain": [
       "[]"
      ]
     },
     "execution_count": 94,
     "metadata": {},
     "output_type": "execute_result"
    },
    {
     "data": {
      "image/png": "[encoded data removed]",
      "text/plain": [
       "<Figure size 400x400 with 1 Axes>"
      ]
     },
     "metadata": {},
     "output_type": "display_data"
    }
   ],
   "source": [
    "fig, ax = plt.subplots(figsize=(4,4))\n",
    "mol = frames_displace[len(ld)//2]\n",
    "cent=mol.positions.mean(axis=0)\n",
    "for i in range(len(mol)):\n",
    "    ax.add_patch(plt.Circle((mol.positions[i]-cent)[:2], rad[mol.symbols[i]], fc=col[mol.symbols[i]], ec='black' ))\n",
    "ax.set_xlim(-3,3)\n",
    "ax.set_ylim(-3,3)\n",
    "ax.set_xticks([])\n",
    "ax.set_yticks([])"
   ]
  },
  {
   "cell_type": "code",
   "execution_count": null,
   "id": "75ddb23d-89fe-4594-a790-7cc41a78e520",
   "metadata": {},
   "outputs": [],
   "source": []
  },
  {
   "cell_type": "markdown",
   "id": "d67592ee-7119-44ff-a3cc-39f02338b2f9",
   "metadata": {},
   "source": [
    "# BN"
   ]
  },
  {
   "cell_type": "code",
   "execution_count": 155,
   "id": "897ef772-1878-486a-9fb9-51a315be8a6b",
   "metadata": {},
   "outputs": [],
   "source": [
    "workdir = '.'\n",
    "root = f'{workdir}/examples/data/periodic'\n",
    "ORBS = 'sto-3g'\n",
    "START = 0\n",
    "STOP = 1\n",
    "frames = read(f'{root}/BN/BN_unit_cell.xyz', slice(START, STOP))\n",
    "for f in frames:\n",
    "    f.pbc= True\n",
    "\n",
    "kmesh = [[8,8,1]]\n",
    "kfock = [np.load(f\"{root}/BN/fock.npy\", allow_pickle = True) for i in range(START, STOP)]\n",
    "kover = [np.load(f\"{root}/BN/over.npy\", allow_pickle = True) for i in range(START, STOP)]\n",
    "\n",
    "dataset = PySCFPeriodicDataset(frames = frames, \n",
    "                               kmesh = kmesh, \n",
    "                               fix_p_orbital_order=True,\n",
    "                               dimension = 2,\n",
    "                               # fock_kspace = kover, \n",
    "                               fock_kspace = kfock, \n",
    "                               overlap_kspace = kover, \n",
    "                               device = device, \n",
    "                               orbs = orbitals[ORBS], \n",
    "                               orbs_name = 'sto-3g')"
   ]
  },
  {
   "cell_type": "code",
   "execution_count": 156,
   "id": "20814e5d",
   "metadata": {},
   "outputs": [],
   "source": [
    "# for ALL_PAIRS in [ False,True]:\n",
    "#     for SORT_ORBS in [False,True,]:\n",
    "#         cutoff = 3\n",
    "#         kblocks = kmatrix_to_blocks(dataset, cutoff = cutoff, all_pairs = ALL_PAIRS, sort_orbs=SORT_ORBS)\n",
    "#         rhk = kblocks_to_matrix(kblocks, dataset, all_pairs=ALL_PAIRS, sort_orbs=SORT_ORBS)        \n",
    "#         for ifr in range(len(kfock)):\n",
    "#             for ik in range(len(kfock[ifr])):\n",
    "#                 # print(np.linalg.norm(kfock[ifr][ik] -kfock[ifr][ik].conj().T))\n",
    "#                 # print(np.linalg.norm(kfock[ifr][ik]-rhk[ifr][ik].numpy()))\n",
    "#                 assert (np.linalg.norm(kfock[ifr][ik]-rhk[ifr][ik].numpy()))<1e-13, (ALL_PAIRS, SORT_ORBS)\n",
    "#         print(ALL_PAIRS, SORT_ORBS, 'passed')"
   ]
  },
  {
   "cell_type": "code",
   "execution_count": 157,
   "id": "e46bfb5a",
   "metadata": {
    "scrolled": true
   },
   "outputs": [
    {
     "name": "stderr",
     "output_type": "stream",
     "text": [
      "/media/nigam/b5749eb7-d3f1-4495-adeb-2c318fb7d0de/MAC/mlelec/src/mlelec/utils/pbc_utils.py:37: UserWarning: Structure 0 is not large enough for the selected cutoff. Real space target computed with cutoff of 7.25 Angstrom\n",
      "  phys_cutoff = np.min(lengths/2)\n"
     ]
    }
   ],
   "source": [
    "ALL_PAIRS=False\n",
    "SORT_ORBS=False\n",
    "cutoff = 20\n",
    "kblocks = kmatrix_to_blocks(dataset, cutoff = cutoff, all_pairs = ALL_PAIRS, sort_orbs=SORT_ORBS)\n",
    "rhk = kblocks_to_matrix(kblocks, dataset, all_pairs=ALL_PAIRS, sort_orbs=SORT_ORBS)\n",
    "# torch.norm(rhk[0] - dataset.fock_kspace[0])\n",
    "# kblocks_o = kmatrix_to_blocks(dataset, cutoff = cutoff, all_pairs = ALL_PAIRS, target='overlap')\n",
    "# rSk = kblocks_to_matrix(kblocks_o, dataset, all_pairs=ALL_PAIRS)\n",
    "target_blocks, target_coupled_blocks = get_targets(dataset, cutoff = cutoff, device = device, all_pairs = ALL_PAIRS, sort_orbs=SORT_ORBS)\n",
    "rht = blocks_to_matrix(target_coupled_blocks, dataset, all_pairs=ALL_PAIRS, sort_orbs=SORT_ORBS)"
   ]
  },
  {
   "cell_type": "code",
   "execution_count": 144,
   "id": "94f53384-0287-440d-acb1-c52a7eec9a6e",
   "metadata": {},
   "outputs": [
    {
     "data": {
      "text/plain": [
       "tensor(2.9164e-14)"
      ]
     },
     "execution_count": 144,
     "metadata": {},
     "output_type": "execute_result"
    }
   ],
   "source": [
    "torch.norm(rhk[0]-dataset.fock_kspace[0])"
   ]
  },
  {
   "cell_type": "code",
   "execution_count": 59,
   "id": "0d00def0-7506-4091-8ae1-3ca78be31ee1",
   "metadata": {},
   "outputs": [],
   "source": [
    "from mlelec.utils.pbc_utils import inverse_bloch_sum"
   ]
  },
  {
   "cell_type": "code",
   "execution_count": 60,
   "id": "7dab7aed-079f-4a39-bd3e-e2b08f5f0fe6",
   "metadata": {},
   "outputs": [
    {
     "ename": "ValueError",
     "evalue": "Unknown format code 'd' for object of type 'float'",
     "output_type": "error",
     "traceback": [
      "\u001b[0;31m---------------------------------------------------------------------------\u001b[0m",
      "\u001b[0;31mValueError\u001b[0m                                Traceback (most recent call last)",
      "Cell \u001b[0;32mIn[60], line 8\u001b[0m\n\u001b[1;32m      6\u001b[0m rH \u001b[38;5;241m=\u001b[39m inverse_bloch_sum(dataset, targ, \u001b[38;5;241m0\u001b[39m, cut)\n\u001b[1;32m      7\u001b[0m kH \u001b[38;5;241m=\u001b[39m dataset\u001b[38;5;241m.\u001b[39mbloch_sum([rH])\n\u001b[0;32m----> 8\u001b[0m \u001b[38;5;28mprint\u001b[39m(\u001b[38;5;124;43m'\u001b[39;49m\u001b[38;5;132;43;01m{:.2f}\u001b[39;49;00m\u001b[38;5;124;43m \u001b[39;49m\u001b[38;5;132;43;01m{:d}\u001b[39;49;00m\u001b[38;5;124;43m \u001b[39;49m\u001b[38;5;132;43;01m{:.2f}\u001b[39;49;00m\u001b[38;5;124;43m \u001b[39;49m\u001b[38;5;132;43;01m{:d}\u001b[39;49;00m\u001b[38;5;124;43m'\u001b[39;49m\u001b[38;5;241;43m.\u001b[39;49m\u001b[43mformat\u001b[49m\u001b[43m(\u001b[49m\u001b[43mcut\u001b[49m\u001b[43m,\u001b[49m\u001b[43m \u001b[49m\u001b[38;5;28;43mlen\u001b[39;49m\u001b[43m(\u001b[49m\u001b[43mrH\u001b[49m\u001b[43m)\u001b[49m\u001b[43m,\u001b[49m\u001b[43m \u001b[49m\u001b[43mtorch\u001b[49m\u001b[38;5;241;43m.\u001b[39;49m\u001b[43mnorm\u001b[49m\u001b[43m(\u001b[49m\u001b[43mkH\u001b[49m\u001b[43m[\u001b[49m\u001b[38;5;241;43m0\u001b[39;49m\u001b[43m]\u001b[49m\u001b[38;5;241;43m-\u001b[39;49m\u001b[43m \u001b[49m\u001b[43mtarg\u001b[49m\u001b[43m)\u001b[49m\u001b[43m,\u001b[49m\u001b[43m \u001b[49m\u001b[43mnp\u001b[49m\u001b[38;5;241;43m.\u001b[39;49m\u001b[43mmax\u001b[49m\u001b[43m(\u001b[49m\u001b[38;5;28;43mlist\u001b[39;49m\u001b[43m(\u001b[49m\u001b[43mrH\u001b[49m\u001b[38;5;241;43m.\u001b[39;49m\u001b[43mkeys\u001b[49m\u001b[43m(\u001b[49m\u001b[43m)\u001b[49m\u001b[43m)\u001b[49m\u001b[43m)\u001b[49m\u001b[43m)\u001b[49m)\n\u001b[1;32m      9\u001b[0m cuts\u001b[38;5;241m.\u001b[39mappend(cut)\n\u001b[1;32m     10\u001b[0m errs\u001b[38;5;241m.\u001b[39mappend(torch\u001b[38;5;241m.\u001b[39mnorm(kH[\u001b[38;5;241m0\u001b[39m]\u001b[38;5;241m-\u001b[39m targ))\n",
      "\u001b[0;31mValueError\u001b[0m: Unknown format code 'd' for object of type 'float'"
     ]
    }
   ],
   "source": [
    "cuts=[]\n",
    "errs=[]\n",
    "nt=[]\n",
    "targ = dataset.fock_kspace[0]\n",
    "for cut in np.linspace(3, 14):\n",
    "    rH = inverse_bloch_sum(dataset, targ, 0, cut)\n",
    "    kH = dataset.bloch_sum([rH])\n",
    "    print('{:.2f} {:d} {:.2f} {:d}'.format(cut, len(rH), torch.norm(kH[0]- targ), np.max(list(rH.keys()))))\n",
    "    cuts.append(cut)\n",
    "    errs.append(torch.norm(kH[0]- targ))\n",
    "    nt.append(len(rH))\n",
    "cuts = np.array(cuts)\n",
    "errs = np.array(errs)\n",
    "nt= np.array(nt)"
   ]
  },
  {
   "cell_type": "code",
   "execution_count": 17,
   "id": "fc629576-5c82-473a-b45f-484603103770",
   "metadata": {},
   "outputs": [
    {
     "data": {
      "text/plain": [
       "<matplotlib.lines.Line2D at 0x7fa09fd475d0>"
      ]
     },
     "execution_count": 17,
     "metadata": {},
     "output_type": "execute_result"
    },
    {
     "data": {
      "image/png": "[encoded data removed]",
      "text/plain": [
       "<Figure size 640x480 with 1 Axes>"
      ]
     },
     "metadata": {},
     "output_type": "display_data"
    }
   ],
   "source": [
    "plt.loglog(cuts, errs-errs[0]+1e-1, '-o')\n",
    "plt.loglog(cuts, nt-nt[0]+1e-1, '-v')\n",
    "plt.axvline(8.35)"
   ]
  },
  {
   "cell_type": "code",
   "execution_count": 28,
   "id": "f027e87f-6f8b-4925-bc75-4b770a022d21",
   "metadata": {},
   "outputs": [],
   "source": [
    "# from scipy.linalg import eigvalsh\n",
    "# eigactual = []\n",
    "# eigcut=[]\n",
    "# for ik in range(64):\n",
    "#     eigactual.append(eigvalsh(dataset.fock_kspace[0][ik].numpy(), dataset.overlap_kspace[0][ik].numpy()))\n",
    "#     eigcut.append(eigvalsh(rhk[0][ik].numpy(), rSk[0][ik].numpy()))\n",
    "# eigactual = np.concatenate(eigactual)\n",
    "# eigcut = np.concatenate(eigcut)    \n",
    "# plt.plot(eigactual, eigcut, 'o')\n",
    "# plt.plot([np.min(eigactual), np.max(eigactual)],[np.min(eigactual), np.max(eigactual)])\n",
    "# plt.ylim(-2,)\n",
    "# plt.xlim(-2,)"
   ]
  },
  {
   "cell_type": "code",
   "execution_count": 29,
   "id": "174f1366",
   "metadata": {},
   "outputs": [],
   "source": [
    "# for ifr in range(len(kfock)):\n",
    "#     for ik in range(len(kfock[ifr])):\n",
    "#         # assert torch.norm(rhk[ifr][ik] - rhk[ifr][ik].conj().T)<1e-12\n",
    "#         # assert np.linalg.norm(kfock[ifr][ik] -kfock[ifr][ik].conj().T)<1e-12\n",
    "#         assert np.linalg.norm(kfock[ifr][ik] -rhk[ifr][ik].numpy())<1e-12\n"
   ]
  },
  {
   "cell_type": "code",
   "execution_count": 158,
   "id": "0767defa-ed10-4c51-acd5-ff12fc642793",
   "metadata": {
    "scrolled": true
   },
   "outputs": [
    {
     "name": "stderr",
     "output_type": "stream",
     "text": [
      "/media/nigam/b5749eb7-d3f1-4495-adeb-2c318fb7d0de/MAC/mlelec/src/mlelec/utils/pbc_utils.py:37: UserWarning: Structure 0 is not large enough for the selected cutoff. Real space target computed with cutoff of 7.25 Angstrom\n",
      "  phys_cutoff = np.min(lengths/2)\n"
     ]
    }
   ],
   "source": [
    "target_blocks, target_coupled_blocks = get_targets(dataset, cutoff = cutoff, device = device, all_pairs = ALL_PAIRS, sort_orbs=SORT_ORBS)"
   ]
  },
  {
   "cell_type": "code",
   "execution_count": 159,
   "id": "17c9018e",
   "metadata": {},
   "outputs": [],
   "source": [
    "rht = blocks_to_matrix(target_coupled_blocks, dataset, all_pairs  =ALL_PAIRS, sort_orbs=SORT_ORBS)"
   ]
  },
  {
   "cell_type": "code",
   "execution_count": 160,
   "id": "08873afe",
   "metadata": {},
   "outputs": [],
   "source": [
    "# for ifr in range(len(rht)):\n",
    "#     for T in rht[ifr]:\n",
    "#         mT = tuple(-t for t in T)\n",
    "#         assert torch.norm(rht[ifr][T] - rht[ifr][mT].T)<1e-12, torch.norm(rht[ifr][T] - rht[ifr][mT].T)"
   ]
  },
  {
   "cell_type": "code",
   "execution_count": 161,
   "id": "bb946337-b946-41a9-9cdc-82287441c0a1",
   "metadata": {
    "scrolled": true
   },
   "outputs": [
    {
     "name": "stdout",
     "output_type": "stream",
     "text": [
      "cpu pair features\n",
      "cpu single center features\n",
      "cpu single center features\n"
     ]
    }
   ],
   "source": [
    "max_radial  = 6\n",
    "max_angular = 4\n",
    "atomic_gaussian_width = 0.6\n",
    "spline_basis = False\n",
    "\n",
    "hypers_pair = {'cutoff': cutoff,\n",
    "               \n",
    "               'max_radial': max_radial,\n",
    "               'max_angular': max_angular,\n",
    "               'atomic_gaussian_width': atomic_gaussian_width,\n",
    "               'center_atom_weight': 1,\n",
    "               \"radial_basis\": splined_basis if spline_basis else {\"Gto\": {}},\n",
    "               # \"radial_basis\": splined_basis,\n",
    "               \"cutoff_function\": {\"ShiftedCosine\": {\"width\": 0.1}}}\n",
    "LCUT=4\n",
    "hfeat = compute_features(dataset, ALL_PAIRS)"
   ]
  },
  {
   "cell_type": "code",
   "execution_count": null,
   "id": "ffa8d6c1-4f31-4f5d-9fc8-aa1e8c0672a6",
   "metadata": {},
   "outputs": [],
   "source": []
  },
  {
   "cell_type": "code",
   "execution_count": 171,
   "id": "81c230b7-92c2-4010-ab87-c6af12b16dc2",
   "metadata": {},
   "outputs": [
    {
     "name": "stderr",
     "output_type": "stream",
     "text": [
      "/home/nigam/miniconda3/envs/temp/lib/python3.11/site-packages/sklearn/linear_model/_ridge.py:2057: RuntimeWarning: invalid value encountered in divide\n",
      "  squared_errors = (c / G_inverse_diag) ** 2\n",
      "/home/nigam/miniconda3/envs/temp/lib/python3.11/site-packages/sklearn/linear_model/_ridge.py:2057: RuntimeWarning: invalid value encountered in divide\n",
      "  squared_errors = (c / G_inverse_diag) ** 2\n",
      "/home/nigam/miniconda3/envs/temp/lib/python3.11/site-packages/sklearn/linear_model/_ridge.py:2057: RuntimeWarning: invalid value encountered in divide\n",
      "  squared_errors = (c / G_inverse_diag) ** 2\n",
      "/home/nigam/miniconda3/envs/temp/lib/python3.11/site-packages/sklearn/linear_model/_ridge.py:2057: RuntimeWarning: invalid value encountered in divide\n",
      "  squared_errors = (c / G_inverse_diag) ** 2\n",
      "/home/nigam/miniconda3/envs/temp/lib/python3.11/site-packages/sklearn/linear_model/_ridge.py:2057: RuntimeWarning: invalid value encountered in divide\n",
      "  squared_errors = (c / G_inverse_diag) ** 2\n",
      "/home/nigam/miniconda3/envs/temp/lib/python3.11/site-packages/sklearn/linear_model/_ridge.py:2057: RuntimeWarning: invalid value encountered in divide\n",
      "  squared_errors = (c / G_inverse_diag) ** 2\n",
      "/home/nigam/miniconda3/envs/temp/lib/python3.11/site-packages/sklearn/linear_model/_ridge.py:2057: RuntimeWarning: invalid value encountered in divide\n",
      "  squared_errors = (c / G_inverse_diag) ** 2\n",
      "/home/nigam/miniconda3/envs/temp/lib/python3.11/site-packages/sklearn/linear_model/_ridge.py:2057: RuntimeWarning: invalid value encountered in divide\n",
      "  squared_errors = (c / G_inverse_diag) ** 2\n",
      "/home/nigam/miniconda3/envs/temp/lib/python3.11/site-packages/sklearn/linear_model/_ridge.py:2057: RuntimeWarning: invalid value encountered in divide\n",
      "  squared_errors = (c / G_inverse_diag) ** 2\n",
      "/home/nigam/miniconda3/envs/temp/lib/python3.11/site-packages/sklearn/linear_model/_ridge.py:2057: RuntimeWarning: invalid value encountered in divide\n",
      "  squared_errors = (c / G_inverse_diag) ** 2\n"
     ]
    },
    {
     "name": "stdout",
     "output_type": "stream",
     "text": [
      "tensor(0.0002)\n"
     ]
    }
   ],
   "source": [
    "model_ridge = LinearModelPeriodic(twocfeat = hfeat, \n",
    "                                  target_blocks = target_coupled_blocks,\n",
    "                                  frames = dataset.structures, orbitals = dataset.basis, \n",
    "                                  device = device)\n",
    "\n",
    "model_ridge = model_ridge.double()\n",
    "loss_ridge_bias, pred_ridge_bias, ridges_bias, loss_blocks = train_ridge(model_ridge, \n",
    "                                                                         target_coupled_blocks,\n",
    "                                                                         set_bias = True,\n",
    "                                                                         kernel_ridge = False,\n",
    "                                                                         alphas = np.logspace(-10, 0, 100),\n",
    "                                                                         # alpha = 1e-4\n",
    "                                                                        )\n",
    "print(loss_ridge_bias)"
   ]
  },
  {
   "cell_type": "code",
   "execution_count": 172,
   "id": "970100a3-15c8-46b5-beaa-41fd37604f9f",
   "metadata": {},
   "outputs": [
    {
     "data": {
      "image/png": "[encoded data removed]",
      "text/plain": [
       "<Figure size 1920x480 with 2 Axes>"
      ]
     },
     "metadata": {},
     "output_type": "display_data"
    }
   ],
   "source": [
    "from mlelec.utils.plot_utils import plot_block_errors\n",
    "fig,ax,ax_loss=plot_block_errors(target_coupled_blocks, pred_ridge_bias, plot_loss = True)\n",
    "ax_loss.set_ylim(1e-5,)\n",
    "ax.set_ylim(1e-5,)\n",
    "fig.tight_layout()"
   ]
  },
  {
   "cell_type": "code",
   "execution_count": 173,
   "id": "ff781e89",
   "metadata": {},
   "outputs": [],
   "source": [
    "rht_ridge = blocks_to_matrix(pred_ridge_bias, dataset,all_pairs  =ALL_PAIRS, sort_orbs=SORT_ORBS)\n",
    "# rht_ridge1 = blocks_to_matrix(pred_ridge_bias, dataset, all_pairs= True)"
   ]
  },
  {
   "cell_type": "code",
   "execution_count": 174,
   "id": "fb29237f-888b-4799-afd2-5acac7a1ade9",
   "metadata": {
    "scrolled": true
   },
   "outputs": [
    {
     "name": "stdout",
     "output_type": "stream",
     "text": [
      "tensor(0.0011)\n",
      "tensor(0.0011)\n",
      "tensor(0.0004)\n",
      "tensor(0.0004)\n",
      "tensor(0.0004)\n",
      "tensor(0.0004)\n",
      "tensor(0.0011)\n",
      "tensor(0.0011)\n",
      "tensor(0.0010)\n",
      "tensor(0.0010)\n",
      "tensor(0.0003)\n",
      "tensor(0.0003)\n",
      "tensor(0.0004)\n",
      "tensor(0.0004)\n",
      "tensor(8.9793e-05)\n",
      "tensor(8.9793e-05)\n",
      "tensor(0.0004)\n",
      "tensor(0.0004)\n",
      "tensor(0.0002)\n",
      "tensor(0.0002)\n",
      "tensor(0.0010)\n",
      "tensor(0.0010)\n",
      "tensor(0.0010)\n",
      "tensor(0.0010)\n",
      "tensor(0.0009)\n",
      "tensor(0.0009)\n",
      "tensor(0.0013)\n",
      "tensor(0.0013)\n",
      "tensor(0.0007)\n",
      "tensor(0.0007)\n",
      "tensor(0.0002)\n",
      "tensor(0.0002)\n",
      "tensor(0.0002)\n",
      "tensor(0.0002)\n",
      "tensor(0.0007)\n",
      "tensor(0.0007)\n",
      "tensor(0.0013)\n",
      "tensor(0.0013)\n",
      "tensor(0.0009)\n",
      "tensor(0.0009)\n",
      "tensor(0.0010)\n",
      "tensor(0.0010)\n",
      "tensor(0.0011)\n",
      "tensor(0.0011)\n",
      "tensor(0.0002)\n",
      "tensor(0.0002)\n",
      "tensor(0.0013)\n",
      "tensor(0.0013)\n",
      "tensor(0.0005)\n",
      "tensor(0.0005)\n",
      "tensor(0.0008)\n",
      "tensor(0.0008)\n",
      "tensor(0.0009)\n",
      "tensor(0.0009)\n",
      "tensor(0.0002)\n",
      "tensor(0.0002)\n",
      "tensor(0.0009)\n",
      "tensor(0.0009)\n",
      "tensor(0.0008)\n",
      "tensor(0.0008)\n",
      "tensor(0.0005)\n",
      "tensor(0.0005)\n",
      "tensor(0.0013)\n",
      "tensor(0.0013)\n",
      "tensor(0.0002)\n",
      "tensor(0.0002)\n",
      "tensor(0.0011)\n",
      "tensor(0.0011)\n",
      "tensor(0.0004)\n",
      "tensor(0.0004)\n",
      "tensor(0.0004)\n",
      "tensor(0.0004)\n",
      "tensor(0.0007)\n",
      "tensor(0.0007)\n",
      "tensor(0.0008)\n",
      "tensor(0.0008)\n",
      "tensor(0.0020)\n",
      "tensor(0.0020)\n",
      "tensor(0.0009)\n",
      "tensor(0.0009)\n",
      "tensor(0.0003)\n",
      "tensor(0.0003)\n",
      "tensor(0.0002)\n",
      "tensor(0.0002)\n",
      "tensor(0.0009)\n",
      "tensor(0.0009)\n",
      "tensor(0.0020)\n",
      "tensor(0.0020)\n",
      "tensor(0.0008)\n",
      "tensor(0.0008)\n",
      "tensor(0.0007)\n",
      "tensor(0.0007)\n",
      "tensor(0.0004)\n",
      "tensor(0.0004)\n",
      "tensor(0.0004)\n",
      "tensor(0.0004)\n",
      "tensor(0.0004)\n",
      "tensor(0.0004)\n",
      "tensor(0.0001)\n",
      "tensor(0.0001)\n",
      "tensor(0.0002)\n",
      "tensor(0.0002)\n",
      "tensor(0.0009)\n",
      "tensor(0.0009)\n",
      "tensor(0.0009)\n",
      "tensor(0.0009)\n",
      "tensor(0.0022)\n",
      "tensor(0.0022)\n",
      "tensor(0.0025)\n",
      "tensor(0.0025)\n",
      "tensor(0.0003)\n",
      "tensor(0.0003)\n",
      "tensor(0.0025)\n",
      "tensor(0.0025)\n",
      "tensor(0.0022)\n",
      "tensor(0.0022)\n",
      "tensor(0.0009)\n",
      "tensor(0.0009)\n",
      "tensor(0.0009)\n",
      "tensor(0.0009)\n",
      "tensor(0.0002)\n",
      "tensor(0.0002)\n",
      "tensor(8.9793e-05)\n",
      "tensor(8.9793e-05)\n",
      "tensor(0.0004)\n",
      "tensor(0.0004)\n",
      "tensor(0.0011)\n",
      "tensor(0.0011)\n",
      "tensor(0.0004)\n",
      "tensor(0.0004)\n",
      "tensor(0.0002)\n",
      "tensor(0.0002)\n",
      "tensor(0.0001)\n",
      "tensor(0.0001)\n",
      "tensor(0.0002)\n",
      "tensor(0.0002)\n",
      "tensor(0.0025)\n",
      "tensor(0.0025)\n",
      "tensor(0.0014)\n",
      "tensor(0.0014)\n",
      "tensor(0.0036)\n",
      "tensor(0.0036)\n",
      "tensor(0.0036)\n",
      "tensor(0.0036)\n",
      "tensor(0.0014)\n",
      "tensor(0.0014)\n",
      "tensor(0.0025)\n",
      "tensor(0.0025)\n",
      "tensor(0.0002)\n",
      "tensor(0.0002)\n",
      "tensor(0.0002)\n",
      "tensor(0.0002)\n",
      "tensor(0.0002)\n",
      "tensor(0.0002)\n",
      "tensor(0.0004)\n",
      "tensor(0.0004)\n",
      "tensor(0.0011)\n",
      "tensor(0.0011)\n",
      "tensor(0.0002)\n",
      "tensor(0.0002)\n",
      "tensor(0.0007)\n",
      "tensor(0.0007)\n",
      "tensor(0.0009)\n",
      "tensor(0.0009)\n",
      "tensor(0.0002)\n",
      "tensor(0.0002)\n",
      "tensor(0.0004)\n",
      "tensor(0.0004)\n",
      "tensor(0.0036)\n",
      "tensor(0.0036)\n",
      "tensor(0.0026)\n",
      "tensor(0.0026)\n",
      "tensor(0.0004)\n",
      "tensor(0.0004)\n",
      "tensor(0.0026)\n",
      "tensor(0.0026)\n",
      "tensor(0.0036)\n",
      "tensor(0.0036)\n",
      "tensor(0.0003)\n",
      "tensor(0.0003)\n",
      "tensor(0.0003)\n",
      "tensor(0.0003)\n",
      "tensor(0.0009)\n",
      "tensor(0.0009)\n",
      "tensor(0.0007)\n",
      "tensor(0.0007)\n",
      "tensor(0.0003)\n",
      "tensor(0.0003)\n",
      "tensor(0.0010)\n",
      "tensor(0.0010)\n",
      "tensor(0.0013)\n",
      "tensor(0.0013)\n",
      "tensor(0.0008)\n",
      "tensor(0.0008)\n",
      "tensor(0.0009)\n",
      "tensor(0.0009)\n",
      "tensor(0.0025)\n",
      "tensor(0.0025)\n",
      "tensor(0.0036)\n",
      "tensor(0.0036)\n",
      "tensor(0.0004)\n",
      "tensor(0.0004)\n",
      "tensor(0.0005)\n",
      "tensor(0.0005)\n",
      "tensor(0.0005)\n",
      "tensor(0.0005)\n",
      "tensor(0.0004)\n",
      "tensor(0.0004)\n",
      "tensor(0.0036)\n",
      "tensor(0.0036)\n",
      "tensor(0.0025)\n",
      "tensor(0.0025)\n",
      "tensor(0.0009)\n",
      "tensor(0.0009)\n",
      "tensor(0.0008)\n",
      "tensor(0.0008)\n",
      "tensor(0.0013)\n",
      "tensor(0.0013)\n",
      "tensor(0.0010)\n",
      "tensor(0.0010)\n",
      "tensor(0.0009)\n",
      "tensor(0.0009)\n",
      "tensor(0.0005)\n",
      "tensor(0.0005)\n",
      "tensor(0.0020)\n",
      "tensor(0.0020)\n",
      "tensor(0.0022)\n",
      "tensor(0.0022)\n",
      "tensor(0.0014)\n",
      "tensor(0.0014)\n",
      "tensor(0.0026)\n",
      "tensor(0.0026)\n",
      "tensor(0.0005)\n",
      "tensor(0.0005)\n",
      "tensor(9.9451e-06)\n",
      "tensor(5.4887e-05)\n",
      "tensor(5.4887e-05)\n",
      "tensor(2.1471e-05)\n",
      "tensor(2.1471e-05)\n",
      "tensor(0.0002)\n",
      "tensor(0.0002)\n",
      "tensor(0.0002)\n",
      "tensor(0.0002)\n",
      "tensor(2.1471e-05)\n",
      "tensor(2.1471e-05)\n",
      "tensor(5.4887e-05)\n",
      "tensor(5.4887e-05)\n"
     ]
    }
   ],
   "source": [
    "for ifr in range(len(dataset)):\n",
    "    for T in rht_ridge[ifr]:\n",
    "        print(torch.norm(rht_ridge[ifr][T] - rht[ifr][T]) )"
   ]
  },
  {
   "cell_type": "code",
   "execution_count": 184,
   "id": "d1bcdb60",
   "metadata": {},
   "outputs": [],
   "source": [
    "from mlelec.utils.twocenter_utils import _to_uncoupled_basis\n",
    "# unc_pred = _to_uncoupled_basis(pred_ridge_bias)\n",
    "unc_pred = _to_uncoupled_basis(target_coupled_blocks)\n",
    "phase, indices = precompute_phase(target_blocks, dataset, cutoff = cutoff)\n",
    "pred_kspace = TMap_bloch_sums(unc_pred, phase, indices, return_tensormap=True)"
   ]
  },
  {
   "cell_type": "code",
   "execution_count": 185,
   "id": "9de3bcbb",
   "metadata": {
    "scrolled": true
   },
   "outputs": [
    {
     "name": "stdout",
     "output_type": "stream",
     "text": [
      "tensor(0.0038)\n",
      "tensor(0.0026)\n",
      "tensor(0.0012)\n",
      "tensor(0.0011)\n",
      "tensor(0.0012)\n",
      "tensor(0.0011)\n",
      "tensor(0.0012)\n",
      "tensor(0.0026)\n",
      "tensor(0.0026)\n",
      "tensor(0.0035)\n",
      "tensor(0.0025)\n",
      "tensor(0.0023)\n",
      "tensor(0.0007)\n",
      "tensor(0.0019)\n",
      "tensor(0.0007)\n",
      "tensor(0.0009)\n",
      "tensor(0.0012)\n",
      "tensor(0.0025)\n",
      "tensor(0.0035)\n",
      "tensor(0.0031)\n",
      "tensor(0.0032)\n",
      "tensor(0.0013)\n",
      "tensor(0.0019)\n",
      "tensor(0.0007)\n",
      "tensor(0.0011)\n",
      "tensor(0.0023)\n",
      "tensor(0.0031)\n",
      "tensor(0.0024)\n",
      "tensor(0.0032)\n",
      "tensor(0.0040)\n",
      "tensor(0.0013)\n",
      "tensor(0.0019)\n",
      "tensor(0.0012)\n",
      "tensor(0.0007)\n",
      "tensor(0.0032)\n",
      "tensor(0.0032)\n",
      "tensor(0.0029)\n",
      "tensor(0.0032)\n",
      "tensor(0.0032)\n",
      "tensor(0.0007)\n",
      "tensor(0.0011)\n",
      "tensor(0.0019)\n",
      "tensor(0.0013)\n",
      "tensor(0.0040)\n",
      "tensor(0.0032)\n",
      "tensor(0.0024)\n",
      "tensor(0.0031)\n",
      "tensor(0.0023)\n",
      "tensor(0.0012)\n",
      "tensor(0.0007)\n",
      "tensor(0.0019)\n",
      "tensor(0.0013)\n",
      "tensor(0.0032)\n",
      "tensor(0.0031)\n",
      "tensor(0.0035)\n",
      "tensor(0.0025)\n",
      "tensor(0.0026)\n",
      "tensor(0.0009)\n",
      "tensor(0.0007)\n",
      "tensor(0.0019)\n",
      "tensor(0.0007)\n",
      "tensor(0.0023)\n",
      "tensor(0.0025)\n",
      "tensor(0.0035)\n"
     ]
    }
   ],
   "source": [
    "rhk_bloch = kblocks_to_matrix(pred_kspace, dataset,all_pairs  =ALL_PAIRS, sort_orbs=SORT_ORBS)\n",
    "for ifr in range(len(dataset)):\n",
    "    for ik in range(len(rhk_ridge_fourier[ifr])):#[ifr\n",
    "        print(torch.norm(rhk_bloch[ifr][ik] - dataset.fock_kspace[ifr][ik]))"
   ]
  },
  {
   "cell_type": "code",
   "execution_count": null,
   "id": "7946fd56-1ef1-42d7-a84f-198f7707eb61",
   "metadata": {},
   "outputs": [],
   "source": []
  },
  {
   "cell_type": "code",
   "execution_count": 175,
   "id": "f87e0a41",
   "metadata": {},
   "outputs": [],
   "source": [
    "from mlelec.utils.pbc_utils import inverse_fourier_transform\n",
    "rhk_ridge_fourier = dataset.bloch_sum(rht_ridge) # prediction from ridge\n",
    "rhk_fourier = dataset.bloch_sum(rht) #original data  i.,e, reconstructed matrix from target_coupled_blocks\n",
    "# kpts = torch.from_numpy(dataset.kpts_rel[0])\n",
    "# pred_H = torch.stack(list(rht_ridge[0].values()))\n",
    "# T = torch.from_numpy(np.array(list(rht_ridge[0].keys()), dtype = np.float64))\n",
    "# inverse_fourier_transform(pred_H, T_list = T, k=kpts, norm = 1/8)\n"
   ]
  },
  {
   "cell_type": "code",
   "execution_count": 183,
   "id": "f97303f6-3fc4-433a-8fd3-4c2dd5a127f8",
   "metadata": {},
   "outputs": [
    {
     "name": "stdout",
     "output_type": "stream",
     "text": [
      "0 tensor(1.3505)\n",
      "1 tensor(1.3527)\n",
      "2 tensor(1.2791)\n",
      "3 tensor(1.0710)\n",
      "4 tensor(0.9264)\n",
      "5 tensor(1.0710)\n",
      "6 tensor(1.2791)\n",
      "7 tensor(1.3527)\n",
      "8 tensor(1.3527)\n",
      "9 tensor(1.3527)\n",
      "10 tensor(1.3119)\n",
      "11 tensor(1.1407)\n",
      "12 tensor(0.9087)\n",
      "13 tensor(0.9087)\n",
      "14 tensor(1.1407)\n",
      "15 tensor(1.3119)\n",
      "16 tensor(1.2791)\n",
      "17 tensor(1.3119)\n",
      "18 tensor(1.2791)\n",
      "19 tensor(1.1407)\n",
      "20 tensor(0.8894)\n",
      "21 tensor(0.7121)\n",
      "22 tensor(0.8894)\n",
      "23 tensor(1.1407)\n",
      "24 tensor(1.0710)\n",
      "25 tensor(1.1407)\n",
      "26 tensor(1.1407)\n",
      "27 tensor(1.0710)\n",
      "28 tensor(0.9087)\n",
      "29 tensor(0.7121)\n",
      "30 tensor(0.7121)\n",
      "31 tensor(0.9087)\n",
      "32 tensor(0.9264)\n",
      "33 tensor(0.9087)\n",
      "34 tensor(0.8894)\n",
      "35 tensor(0.9087)\n",
      "36 tensor(0.9264)\n",
      "37 tensor(0.9087)\n",
      "38 tensor(0.8894)\n",
      "39 tensor(0.9087)\n",
      "40 tensor(1.0710)\n",
      "41 tensor(0.9087)\n",
      "42 tensor(0.7121)\n",
      "43 tensor(0.7121)\n",
      "44 tensor(0.9087)\n",
      "45 tensor(1.0710)\n",
      "46 tensor(1.1407)\n",
      "47 tensor(1.1407)\n",
      "48 tensor(1.2791)\n",
      "49 tensor(1.1407)\n",
      "50 tensor(0.8894)\n",
      "51 tensor(0.7121)\n",
      "52 tensor(0.8894)\n",
      "53 tensor(1.1407)\n",
      "54 tensor(1.2791)\n",
      "55 tensor(1.3119)\n",
      "56 tensor(1.3527)\n",
      "57 tensor(1.3119)\n",
      "58 tensor(1.1407)\n",
      "59 tensor(0.9087)\n",
      "60 tensor(0.9087)\n",
      "61 tensor(1.1407)\n",
      "62 tensor(1.3119)\n",
      "63 tensor(1.3527)\n"
     ]
    }
   ],
   "source": [
    "for ifr in range(len(dataset)):\n",
    "    for ik in range(len(rhk_fourier[ifr])):#[ifr]:\n",
    "        print(ik,torch.norm(rhk_ridge_fourier[ifr][ik] - dataset.fock_kspace[ifr][ik]))"
   ]
  },
  {
   "cell_type": "code",
   "execution_count": 177,
   "id": "b37c2b07",
   "metadata": {},
   "outputs": [
    {
     "name": "stdout",
     "output_type": "stream",
     "text": [
      "0 tensor(1.3504)\n",
      "1 tensor(1.3527)\n",
      "2 tensor(1.2793)\n",
      "3 tensor(1.0698)\n",
      "4 tensor(0.9251)\n",
      "5 tensor(1.0698)\n",
      "6 tensor(1.2793)\n",
      "7 tensor(1.3527)\n",
      "8 tensor(1.3527)\n",
      "9 tensor(1.3527)\n",
      "10 tensor(1.3118)\n",
      "11 tensor(1.1406)\n",
      "12 tensor(0.9070)\n",
      "13 tensor(0.9070)\n",
      "14 tensor(1.1406)\n",
      "15 tensor(1.3118)\n",
      "16 tensor(1.2793)\n",
      "17 tensor(1.3118)\n",
      "18 tensor(1.2793)\n",
      "19 tensor(1.1406)\n",
      "20 tensor(0.8889)\n",
      "21 tensor(0.7298)\n",
      "22 tensor(0.8889)\n",
      "23 tensor(1.1406)\n",
      "24 tensor(1.0698)\n",
      "25 tensor(1.1406)\n",
      "26 tensor(1.1406)\n",
      "27 tensor(1.0698)\n",
      "28 tensor(0.9070)\n",
      "29 tensor(0.7298)\n",
      "30 tensor(0.7298)\n",
      "31 tensor(0.9070)\n",
      "32 tensor(0.9251)\n",
      "33 tensor(0.9070)\n",
      "34 tensor(0.8889)\n",
      "35 tensor(0.9070)\n",
      "36 tensor(0.9251)\n",
      "37 tensor(0.9070)\n",
      "38 tensor(0.8889)\n",
      "39 tensor(0.9070)\n",
      "40 tensor(1.0698)\n",
      "41 tensor(0.9070)\n",
      "42 tensor(0.7298)\n",
      "43 tensor(0.7298)\n",
      "44 tensor(0.9070)\n",
      "45 tensor(1.0698)\n",
      "46 tensor(1.1406)\n",
      "47 tensor(1.1406)\n",
      "48 tensor(1.2793)\n",
      "49 tensor(1.1406)\n",
      "50 tensor(0.8889)\n",
      "51 tensor(0.7298)\n",
      "52 tensor(0.8889)\n",
      "53 tensor(1.1406)\n",
      "54 tensor(1.2793)\n",
      "55 tensor(1.3118)\n",
      "56 tensor(1.3527)\n",
      "57 tensor(1.3118)\n",
      "58 tensor(1.1406)\n",
      "59 tensor(0.9070)\n",
      "60 tensor(0.9070)\n",
      "61 tensor(1.1406)\n",
      "62 tensor(1.3118)\n",
      "63 tensor(1.3527)\n"
     ]
    }
   ],
   "source": [
    "for ifr in range(len(dataset)):\n",
    "    for ik in range(len(rhk_fourier[ifr])):#[ifr]:\n",
    "        print(ik,torch.norm(rhk_fourier[ifr][ik] - dataset.fock_kspace[ifr][ik]) )"
   ]
  },
  {
   "cell_type": "code",
   "execution_count": 168,
   "id": "ba4938d0-0e63-4f69-9c74-0e2ff2020d66",
   "metadata": {},
   "outputs": [],
   "source": [
    "A = 0\n",
    "from ase.units import Bohr\n",
    "T_list = np.linalg.solve(dataset.cells[A].lattice_vectors().T, dataset.cells[A].get_lattice_Ls(rcut = cutoff/Bohr, dimension = 2, discard = False).T).T\n",
    "assert np.linalg.norm(T_list - np.round(T_list)) < 1e-9, np.linalg.norm(Ts - np.round(Ts))\n",
    "Ts = torch.from_numpy(np.round(T_list))\n",
    "T_list = np.int32(np.round(T_list))"
   ]
  },
  {
   "cell_type": "code",
   "execution_count": 169,
   "id": "e61e96dd-985d-407c-b059-23728cca5a64",
   "metadata": {},
   "outputs": [
    {
     "data": {
      "text/plain": [
       "[<matplotlib.lines.Line2D at 0x7fd01ab49950>]"
      ]
     },
     "execution_count": 169,
     "metadata": {},
     "output_type": "execute_result"
    },
    {
     "data": {
      "image/png": "[encoded data removed]",
      "text/plain": [
       "<Figure size 640x480 with 1 Axes>"
      ]
     },
     "metadata": {},
     "output_type": "display_data"
    }
   ],
   "source": [
    "cell = dataset.structures[0].cell.array\n",
    "x, y, _ = np.einsum('ba,Tb->Ta', cell, T_list).T\n",
    "plt.plot(x, y, 'o')\n",
    "plt.plot([0, cell[0,0]], [0, cell[0,1]], 'k')\n",
    "plt.plot([0, cell[1,0]], [0, cell[1,1]], 'k')\n",
    "th = np.linspace(0, 2*np.pi)\n",
    "plt.plot(cutoff*np.cos(th), cutoff*np.sin(th))"
   ]
  },
  {
   "cell_type": "markdown",
   "id": "7e739a03",
   "metadata": {},
   "source": [
    "# HOW ARE WE MAKING THIS LARGE AN ERROR on KSPACE when HT is so good???"
   ]
  },
  {
   "cell_type": "markdown",
   "id": "571d82fe",
   "metadata": {},
   "source": [
    "but at least TMap bloch sum and inverse fourier are consistent"
   ]
  },
  {
   "cell_type": "code",
   "execution_count": 100,
   "id": "4c9d9d5a",
   "metadata": {},
   "outputs": [],
   "source": [
    "seed = 10\n",
    "torch.manual_seed(seed)\n",
    "np.random.seed(seed)\n",
    "      \n",
    "model = LinearModelPeriodic(twocfeat = hfeat, \n",
    "                            target_blocks = target_coupled_blocks,\n",
    "                            frames = dataset.structures, orbitals = dataset.basis, \n",
    "                            device = device,\n",
    "                            bias = False, #True\n",
    "                            nhidden = 512, \n",
    "                            nlayers = 0,\n",
    "                            # activation = 'SiLU',\n",
    "                            # apply_norm = True\n",
    "                           )\n",
    "\n",
    "model = model.double()"
   ]
  },
  {
   "cell_type": "code",
   "execution_count": 101,
   "id": "90d0689f",
   "metadata": {},
   "outputs": [],
   "source": [
    "pred = model()"
   ]
  },
  {
   "cell_type": "code",
   "execution_count": 102,
   "id": "90995c1f-183c-4c79-9c4f-afa806c607fd",
   "metadata": {},
   "outputs": [],
   "source": [
    "from mlelec.utils.pbc_utils import TMap_bloch_sums\n",
    "from mlelec.utils.twocenter_utils import _to_uncoupled_basis"
   ]
  },
  {
   "cell_type": "code",
   "execution_count": 103,
   "id": "8d41e24e-9a75-4105-8a5f-ca2da8219412",
   "metadata": {},
   "outputs": [],
   "source": [
    "phase, indices = precompute_phase(_to_uncoupled_basis(pred), dataset, cutoff=cutoff)\n",
    "predk=TMap_bloch_sums(_to_uncoupled_basis(pred), phase, indices, return_tensormap=True)"
   ]
  },
  {
   "cell_type": "code",
   "execution_count": 104,
   "id": "69b318a5-14a4-45dc-8952-7babb6abd7af",
   "metadata": {},
   "outputs": [],
   "source": [
    "predk_mat = kblocks_to_matrix(predk, dataset)"
   ]
  },
  {
   "cell_type": "markdown",
   "id": "4c8a8d89-835a-433e-8732-365ef1508139",
   "metadata": {},
   "source": [
    "# MoS2"
   ]
  },
  {
   "cell_type": "code",
   "execution_count": 258,
   "id": "02f3c53f-6182-4cae-b162-909648ec3859",
   "metadata": {},
   "outputs": [
    {
     "name": "stderr",
     "output_type": "stream",
     "text": [
      "WARNING!\n",
      "  Very diffused basis functions are found in the basis set. They may lead to severe\n",
      "  linear dependence and numerical instability.  You can set  cell.exp_to_discard=0.1\n",
      "  to remove the diffused Gaussians whose exponents are less than 0.1.\n",
      "\n"
     ]
    }
   ],
   "source": [
    "workdir = '.'\n",
    "root = f'{workdir}/examples/data/periodic'\n",
    "ORBS = 'gthszvmolopt'\n",
    "START = 0\n",
    "STOP = 1\n",
    "frames = read(f'{root}/deepH_MoS2/deepH_MoS2.xyz', slice(START, STOP))\n",
    "for f in frames:\n",
    "    f.pbc= True\n",
    "\n",
    "kmesh = [[1,1,1]]\n",
    "rfock = [np.load(f\"{root}/deepH_MoS2/SVB/0/realfock_{i}.npy\", allow_pickle = True).item() for i in range(START, STOP)]\n",
    "rover = [np.load(f\"{root}/deepH_MoS2/SVB/0/realoverlap_{i}.npy\", allow_pickle = True).item() for i in range(START, STOP)]\n",
    "\n",
    "dataset = PySCFPeriodicDataset(frames = frames, \n",
    "                               kmesh = kmesh, \n",
    "                               fix_p_orbital_order=False,\n",
    "                               dimension = 2,\n",
    "                               fock_realspace = rfock, \n",
    "                               overlap_realspace = rover, \n",
    "                               device = device, \n",
    "                               orbs = orbitals[ORBS], \n",
    "                               orbs_name = 'gthszvmolopt'+'sr')"
   ]
  },
  {
   "cell_type": "code",
   "execution_count": 62,
   "id": "57ae5cf3-587f-46c2-abdf-f2b809613f25",
   "metadata": {
    "scrolled": true
   },
   "outputs": [],
   "source": [
    "cutoff = 50\n",
    "# target_blocks, target_coupled_blocks = get_targets(dataset, cutoff = cutoff, device = device, all_pairs = False, sort_orbs = SORT_ORBS)\n",
    "# target_blocks1, target_coupled_blocks1 = get_targets(dataset, cutoff = cutoff, device = device, all_pairs = True, sort_orbs = SORT_ORBS)"
   ]
  },
  {
   "cell_type": "code",
   "execution_count": 67,
   "id": "6ea4e542-d762-4214-bd31-2a0094c226b8",
   "metadata": {},
   "outputs": [
    {
     "name": "stdout",
     "output_type": "stream",
     "text": [
      "True True passed\n",
      "True False passed\n",
      "False True passed\n",
      "False False passed\n"
     ]
    }
   ],
   "source": [
    "for ALL_PAIRS in [True, False]:\n",
    "    for SORT_ORBS in [True, False]:\n",
    "        try:\n",
    "            kblocks = kmatrix_to_blocks(dataset, cutoff = cutoff, all_pairs = ALL_PAIRS, sort_orbs=SORT_ORBS)\n",
    "            rhk = kblocks_to_matrix(kblocks, dataset, all_pairs=ALL_PAIRS, sort_orbs=SORT_ORBS)        \n",
    "            for ifr in range(len(dataset.fock_kspace)):\n",
    "                for ik in range(len(dataset.fock_kspace[ifr])):\n",
    "                    # print(np.linalg.norm(kfock[ifr][ik] -kfock[ifr][ik].conj().T))\n",
    "                    # print(np.linalg.norm(kfock[ifr][ik]-rhk[ifr][ik].numpy()))\n",
    "                    assert (np.linalg.norm(dataset.fock_kspace[ifr][ik]-rhk[ifr][ik].numpy()))<1e-13, (ALL_PAIRS, SORT_ORBS,np.linalg.norm(dataset.fock_kspace[ifr][ik]-rhk[ifr][ik].numpy()))\n",
    "            print(ALL_PAIRS, SORT_ORBS, 'passed')\n",
    "        except Exception as e:\n",
    "            print(e)\n",
    "            print(ALL_PAIRS, SORT_ORBS, 'failed - moving on')\n",
    "            continue"
   ]
  },
  {
   "cell_type": "code",
   "execution_count": 16,
   "id": "56439228-be92-40e3-bbec-6cd1facd5d3a",
   "metadata": {},
   "outputs": [],
   "source": [
    "SORT_ORBS = True\n",
    "ALL_PAIRS = True"
   ]
  },
  {
   "cell_type": "code",
   "execution_count": 12,
   "id": "da9cd845",
   "metadata": {},
   "outputs": [],
   "source": [
    "kblocks = kmatrix_to_blocks(dataset, cutoff = cutoff, all_pairs= ALL_PAIRS, sort_orbs=SORT_ORBS)#, target='overlap')\n",
    "# kblocks_S = kmatrix_to_blocks(dataset, cutoff = cutoff, all_pairs= ALL_PAIRS, target='overlap', sort_orbs=SORT_ORBS)"
   ]
  },
  {
   "cell_type": "code",
   "execution_count": 13,
   "id": "7038508c-42e0-40d5-9f10-594dc5720ae2",
   "metadata": {},
   "outputs": [],
   "source": [
    "rhk = kblocks_to_matrix(kblocks, dataset, all_pairs=ALL_PAIRS, sort_orbs=SORT_ORBS)\n",
    "# rSk = kblocks_to_matrix(kblocks_S, dataset, all_pairs=ALL_PAIRS, sort_orbs=SORT_ORBS)"
   ]
  },
  {
   "cell_type": "code",
   "execution_count": 14,
   "id": "99e99306-6d5c-49c5-b243-0fb7a297200f",
   "metadata": {},
   "outputs": [
    {
     "name": "stdout",
     "output_type": "stream",
     "text": [
      "7.311771605807756e-14\n"
     ]
    }
   ],
   "source": [
    "kfock = dataset.fock_kspace\n",
    "for ifr in range(len(kfock)):\n",
    "    for ik in range(len(kfock[ifr])):\n",
    "        # print(np.linalg.norm(kfock[ifr][ik] -kfock[ifr][ik].conj().T))\n",
    "        print(np.linalg.norm(kfock[ifr][ik]-rhk[ifr][ik].numpy()))"
   ]
  },
  {
   "cell_type": "code",
   "execution_count": 29,
   "id": "04a21277-c341-4a1e-bcf8-c74dc06693f6",
   "metadata": {},
   "outputs": [
    {
     "data": {
      "text/plain": [
       "<matplotlib.colorbar.Colorbar at 0x7f5ad28e26d0>"
      ]
     },
     "execution_count": 29,
     "metadata": {},
     "output_type": "execute_result"
    },
    {
     "data": {
      "image/png": "[encoded data removed]",
      "text/plain": [
       "<Figure size 480x480 with 2 Axes>"
      ]
     },
     "metadata": {},
     "output_type": "display_data"
    }
   ],
   "source": [
    "plt.matshow((kfock[ifr][0] -rhk[ifr][0].numpy()).real)\n",
    "plt.colorbar()"
   ]
  },
  {
   "cell_type": "code",
   "execution_count": 444,
   "id": "e6bd5336-26d7-4b4a-ad21-74278166ecc6",
   "metadata": {},
   "outputs": [
    {
     "data": {
      "text/plain": [
       "(tensor(0.0570+0.j), (0.05144206335160119+0j))"
      ]
     },
     "execution_count": 444,
     "metadata": {},
     "output_type": "execute_result"
    }
   ],
   "source": [
    "kfock[ifr][ik][1,12],rhk[ifr][ik].numpy()[1,12]*200\n"
   ]
  },
  {
   "cell_type": "code",
   "execution_count": 559,
   "id": "04da777e-8e40-4214-bd6b-6414f0610044",
   "metadata": {},
   "outputs": [],
   "source": [
    "from scipy.linalg import eigvalsh\n",
    "eigactual = []\n",
    "eigcut=[]\n",
    "for ik in range(len(dataset.fock_kspace[0])):\n",
    "    eigactual.append(eigvalsh(dataset.fock_kspace[0][ik].numpy(), dataset.overlap_kspace[0][ik].numpy()))\n",
    "    eigcut.append(eigvalsh(rhk[0][ik].numpy(), rSk[0][ik].numpy()))\n",
    "eigactual = np.concatenate(eigactual)\n",
    "eigcut = np.concatenate(eigcut)    "
   ]
  },
  {
   "cell_type": "code",
   "execution_count": 560,
   "id": "52271b95-3321-4226-8f1a-ec296e7f4b70",
   "metadata": {},
   "outputs": [
    {
     "data": {
      "text/plain": [
       "(-2.0, 0.6524677627897296)"
      ]
     },
     "execution_count": 560,
     "metadata": {},
     "output_type": "execute_result"
    },
    {
     "data": {
      "image/png": "[encoded data removed]",
      "text/plain": [
       "<Figure size 640x480 with 1 Axes>"
      ]
     },
     "metadata": {},
     "output_type": "display_data"
    }
   ],
   "source": [
    "plt.plot(eigactual, eigcut, 'o')\n",
    "plt.plot([np.min(eigactual), np.max(eigactual)],[np.min(eigactual), np.max(eigactual)])\n",
    "plt.ylim(-2,)\n",
    "plt.xlim(-2,)"
   ]
  },
  {
   "cell_type": "code",
   "execution_count": 36,
   "id": "083884d1-c3b2-41b8-92a8-f0dacf91ba6d",
   "metadata": {},
   "outputs": [],
   "source": [
    "blocks = matrix_to_blocks(dataset, cutoff = cutoff, all_pairs= ALL_PAIRS, sort_orbs=SORT_ORBS)#, target='overlap')\n",
    "blocks_S = matrix_to_blocks(dataset, cutoff = cutoff, all_pairs= ALL_PAIRS, target='overlap', sort_orbs=SORT_ORBS)"
   ]
  },
  {
   "cell_type": "code",
   "execution_count": 37,
   "id": "525859ca-2d02-4d6c-86ba-d4318250abdc",
   "metadata": {},
   "outputs": [],
   "source": [
    "rh = blocks_to_matrix(blocks, dataset, all_pairs=ALL_PAIRS, sort_orbs=SORT_ORBS)\n",
    "rS = blocks_to_matrix(blocks_S, dataset, all_pairs=ALL_PAIRS, sort_orbs=SORT_ORBS)"
   ]
  },
  {
   "cell_type": "code",
   "execution_count": 39,
   "id": "fc83511a-7637-41e6-b3f6-48f9c48e0e76",
   "metadata": {},
   "outputs": [
    {
     "name": "stdout",
     "output_type": "stream",
     "text": [
      "7.307318575549316e-14\n",
      "2.2662945240885274e-16\n",
      "2.2662945240885274e-16\n",
      "2.270770015247583e-16\n",
      "2.270770015247583e-16\n",
      "6.81885129995414e-17\n",
      "7.496116907552587e-18\n",
      "7.496116907552588e-18\n",
      "6.81885129995414e-17\n"
     ]
    }
   ],
   "source": [
    "kfock = dataset.fock_realspace\n",
    "for ifr in range(len(kfock)):\n",
    "    for ik in kfock[ifr]:\n",
    "        # print(np.linalg.norm(kfock[ifr][ik] -kfock[ifr][ik].conj().T))\n",
    "        print(np.linalg.norm(kfock[ifr][ik]-rh[ifr][ik].numpy()))"
   ]
  },
  {
   "cell_type": "markdown",
   "id": "da54d055-1e45-47a1-8c06-766f7f2ac0ea",
   "metadata": {
    "jp-MarkdownHeadingCollapsed": true
   },
   "source": [
    "# Equivariance "
   ]
  },
  {
   "cell_type": "code",
   "execution_count": null,
   "id": "9ead3ca5-e136-4007-985e-d846446bc34f",
   "metadata": {},
   "outputs": [],
   "source": [
    "workdir = '.'\n",
    "root = f'{workdir}/examples/data/periodic'\n",
    "ORBS = 'sto-3g'\n",
    "START = 0\n",
    "STOP = 3\n",
    "frames = read(f'{root}/graphene_supercell_variety/graphene_variety.xyz', slice(START, STOP))\n",
    "for f in frames:\n",
    "    f.pbc= True\n",
    "\n",
    "kmesh = [[8,8,1], [4,4,1]]\n",
    "kfock = [np.load(f\"{root}/graphene_supercell_variety/fock_{i}.npy\", allow_pickle = True) for i in range(START, STOP)]\n",
    "kover = [np.load(f\"{root}/graphene_supercell_variety/over_{i}.npy\", allow_pickle = True) for i in range(START, STOP)]\n",
    "\n",
    "dataset = PySCFPeriodicDataset(frames = frames, \n",
    "                               kmesh = kmesh, \n",
    "                               fix_p_orbital_order=True,\n",
    "                               dimension = 2,\n",
    "                               fock_kspace = kfock, \n",
    "                               overlap_kspace = kover, \n",
    "                               device = device, \n",
    "                               orbs = orbitals[ORBS], \n",
    "                               orbs_name = 'sto-3g')"
   ]
  },
  {
   "cell_type": "markdown",
   "id": "e9b0644d-3ad7-4cf9-bcb1-787579ec6f65",
   "metadata": {},
   "source": [
    "# Graphene - UC"
   ]
  },
  {
   "cell_type": "code",
   "execution_count": 9,
   "id": "33d30bdd-95cf-46fb-8792-96a601bc1b66",
   "metadata": {},
   "outputs": [],
   "source": [
    "workdir = './'\n",
    "START = 0 \n",
    "STOP=1\n",
    "ORBS = 'sto-3g'\n",
    "root = f'{workdir}/examples/data/periodic/c2/cp2k/sto-3g'\n",
    "data_dir = root\n",
    "frames = read(f'{data_dir}/C2_174.extxyz', slice(START, STOP))\n",
    "rfock = [np.load(f\"{data_dir}/881/realfock_{i}.npy\", allow_pickle = True).item() for i in range(START, STOP)]\n",
    "rover = [np.load(f\"{data_dir}/881/realoverlap_{i}.npy\", allow_pickle = True).item() for i in range(START, STOP)]\n",
    "kmesh = [[12,12,1]]\n",
    "dataset = PySCFPeriodicDataset(frames = frames, \n",
    "                               kmesh = kmesh, \n",
    "                               dimension = 2,\n",
    "                               fock_realspace = rfock, \n",
    "                               overlap_realspace = rover, \n",
    "                               device = device, \n",
    "                               orbs = orbitals[ORBS], \n",
    "                               orbs_name = 'sto-3g')"
   ]
  },
  {
   "cell_type": "code",
   "execution_count": null,
   "id": "11a89e42-9c62-4491-a8a4-1b41cfc648b8",
   "metadata": {},
   "outputs": [],
   "source": [
    "cutoff = 8\n",
    "SORT_ORBS = True\n",
    "target_blocks, target_coupled_blocks = get_targets(dataset, cutoff = cutoff, device = device, all_pairs = False, sort_orbs=SORT_ORBS)\n",
    "target_blocks1, target_coupled_blocks1= get_targets(dataset, cutoff = cutoff, device = device, all_pairs = True, sort_orbs = SORT_ORBS)"
   ]
  },
  {
   "cell_type": "code",
   "execution_count": null,
   "id": "74c2aae7-25e3-4569-80bb-18a45ccfada2",
   "metadata": {},
   "outputs": [],
   "source": []
  },
  {
   "cell_type": "code",
   "execution_count": null,
   "id": "b1707b00-feef-4cf7-a5ee-98a94529fb9d",
   "metadata": {},
   "outputs": [],
   "source": []
  },
  {
   "cell_type": "markdown",
   "id": "f22c9fe4",
   "metadata": {},
   "source": [
    "# Graphene - deepH"
   ]
  },
  {
   "cell_type": "code",
   "execution_count": 648,
   "id": "e13f37a0-ea28-4e6b-b357-8d49cb08f8d1",
   "metadata": {},
   "outputs": [],
   "source": [
    "kfock = deepcopy(dataset.fock_kspace)"
   ]
  },
  {
   "cell_type": "code",
   "execution_count": 649,
   "id": "d9456c99",
   "metadata": {},
   "outputs": [
    {
     "name": "stderr",
     "output_type": "stream",
     "text": [
      "/media/nigam/b5749eb7-d3f1-4495-adeb-2c318fb7d0de/MAC/mlelec/src/mlelec/data/dataset.py:887: UserWarning: Overlap matrices not provided\n",
      "  warnings.warn(\"Overlap matrices not provided\")\n"
     ]
    }
   ],
   "source": [
    "workdir = './'\n",
    "START = 0 \n",
    "STOP=1\n",
    "ORBS = 'sto-3g'\n",
    "root = f'{workdir}/examples/data/periodic/deepH_graphene/wrap/'\n",
    "data_dir = root\n",
    "frames = read(f'{data_dir}/wrapped_deepH_graphene.xyz', slice(START, STOP))\n",
    "rfock = [np.load(f\"{data_dir}/realfock_{i}.npy\", allow_pickle = True).item() for i in range(START, STOP)]\n",
    "rover = [np.load(f\"{data_dir}/realoverlap_{i}.npy\", allow_pickle = True).item() for i in range(START, STOP)]\n",
    "kmesh = [[1,1,1]]\n",
    "dataset = PySCFPeriodicDataset(frames = frames, \n",
    "                               kmesh = kmesh, \n",
    "                               dimension = 2,\n",
    "                               # fock_realspace = rfock, \n",
    "                               # overlap_realspace = rover, \n",
    "                               fock_kspace = kfock,\n",
    "                               device = device, \n",
    "                               orbs = orbitals[ORBS], \n",
    "                               orbs_name = 'sto-3g')"
   ]
  },
  {
   "cell_type": "code",
   "execution_count": 634,
   "id": "6174d8bc-62ea-4716-8d71-a5c59819e621",
   "metadata": {},
   "outputs": [],
   "source": [
    "target_blocks, target_coupled_blocks = get_targets(dataset, cutoff = 16, device = device, all_pairs = ALL_PAIRS, sort_orbs=SORT_ORBS)"
   ]
  },
  {
   "cell_type": "code",
   "execution_count": 442,
   "id": "89d217b1-28d3-463f-8096-e4b7a995f09b",
   "metadata": {},
   "outputs": [],
   "source": [
    "rHT = blocks_to_matrix(target_coupled_blocks, dataset, all_pairs=ALL_PAIRS, sort_orbs=SORT_ORBS)"
   ]
  },
  {
   "cell_type": "code",
   "execution_count": 21,
   "id": "d68ce4b6-5d96-452c-a942-94b8cf0c2e3b",
   "metadata": {},
   "outputs": [],
   "source": [
    "target_blocks, target_coupled_blocks = get_targets(dataset, cutoff = cutoff, device = device, all_pairs = ALL_PAIRS, sort_orbs=SORT_ORBS)"
   ]
  },
  {
   "cell_type": "code",
   "execution_count": 10,
   "id": "2da9f159-74ff-4b2a-abac-5b311aef28a6",
   "metadata": {},
   "outputs": [],
   "source": [
    "# kblocks = kmatrix_to_blocks(dataset, cutoff = cutoff, all_pairs= ALL_PAIRS, sort_orbs=SORT_ORBS)#, target='overlap')\n",
    "# kblocks_o = kmatrix_to_blocks(dataset, cutoff = cutoff, all_pairs= ALL_PAIRS, target='overlap', sort_orbs=SORT_ORBS)"
   ]
  },
  {
   "cell_type": "code",
   "execution_count": 650,
   "id": "0c92f0e5-0c44-4476-b1fe-62867308c0bb",
   "metadata": {},
   "outputs": [
    {
     "name": "stderr",
     "output_type": "stream",
     "text": [
      "/media/nigam/b5749eb7-d3f1-4495-adeb-2c318fb7d0de/MAC/mlelec/src/mlelec/utils/pbc_utils.py:37: UserWarning: Structure 0 is not large enough for the selected cutoff. Real space target computed with cutoff of 7.38 Angstrom\n",
      "  warnings.warn(f\"Structure {A} is not large enough for the selected cutoff. Real space target computed with cutoff of {phys_cutoff:.2f} Angstrom\")\n"
     ]
    },
    {
     "name": "stdout",
     "output_type": "stream",
     "text": [
      "False False failed - moving on\n",
      "True False failed - moving on\n"
     ]
    },
    {
     "ename": "KeyboardInterrupt",
     "evalue": "",
     "output_type": "error",
     "traceback": [
      "\u001b[0;31m---------------------------------------------------------------------------\u001b[0m",
      "\u001b[0;31mKeyboardInterrupt\u001b[0m                         Traceback (most recent call last)",
      "Cell \u001b[0;32mIn[650], line 15\u001b[0m\n\u001b[1;32m     13\u001b[0m \u001b[38;5;28;01mexcept\u001b[39;00m:\n\u001b[1;32m     14\u001b[0m     \u001b[38;5;28mprint\u001b[39m(ALL_PAIRS, SORT_ORBS, \u001b[38;5;124m'\u001b[39m\u001b[38;5;124mfailed - moving on\u001b[39m\u001b[38;5;124m'\u001b[39m)\n\u001b[0;32m---> 15\u001b[0m     \u001b[38;5;28;01mcontinue\u001b[39;00m\n",
      "\u001b[0;31mKeyboardInterrupt\u001b[0m: "
     ]
    }
   ],
   "source": [
    "cutoff = 23\n",
    "for ALL_PAIRS in [False,True]:\n",
    "    for SORT_ORBS in [False]: #[False, True]\n",
    "        try:\n",
    "            blocks = matrix_to_blocks(dataset, cutoff = cutoff, all_pairs = ALL_PAIRS, sort_orbs=SORT_ORBS)\n",
    "            rht = blocks_to_matrix(blocks, dataset, all_pairs=ALL_PAIRS, sort_orbs=SORT_ORBS)        \n",
    "            for ifr in range(len(dataset.fock_realspace)):\n",
    "                for ik in dataset.fock_realspace[ifr]:\n",
    "                    # print(np.linalg.norm(kfock[ifr][ik] -kfock[ifr][ik].conj().T))\n",
    "                    # print(np.linalg.norm(kfock[ifr][ik]-rhk[ifr][ik].numpy()))\n",
    "                    assert (np.linalg.norm(dataset.fock_realspace[ifr][ik]-rht[ifr][ik].numpy()))<1e-13, (ALL_PAIRS, SORT_ORBS)\n",
    "            print(ALL_PAIRS, SORT_ORBS, 'passed')\n",
    "        except:\n",
    "            print(ALL_PAIRS, SORT_ORBS, 'failed - moving on')\n",
    "            continue"
   ]
  },
  {
   "cell_type": "code",
   "execution_count": 635,
   "id": "0ec09fbe-2fce-4f4f-a324-86f80a3a2ad3",
   "metadata": {
    "scrolled": true
   },
   "outputs": [
    {
     "name": "stdout",
     "output_type": "stream",
     "text": [
      "False False passed\n",
      "False True passed\n",
      "True False passed\n",
      "True True passed\n"
     ]
    }
   ],
   "source": [
    "cutoff = 23\n",
    "for ALL_PAIRS in [False,True]:\n",
    "    for SORT_ORBS in [False,True,]:\n",
    "        try:\n",
    "            kblocks = kmatrix_to_blocks(dataset, cutoff = cutoff, all_pairs = ALL_PAIRS, sort_orbs=SORT_ORBS)\n",
    "            rhk = kblocks_to_matrix(kblocks, dataset, all_pairs=ALL_PAIRS, sort_orbs=SORT_ORBS)        \n",
    "            for ifr in range(len(dataset.fock_kspace)):\n",
    "                for ik in range(len(dataset.fock_kspace[ifr])):\n",
    "                    # print(np.linalg.norm(kfock[ifr][ik] -kfock[ifr][ik].conj().T))\n",
    "                    # print(np.linalg.norm(kfock[ifr][ik]-rhk[ifr][ik].numpy()))\n",
    "                    assert (np.linalg.norm(dataset.fock_kspace[ifr][ik]-rhk[ifr][ik].numpy()))<1e-13, (ALL_PAIRS, SORT_ORBS)\n",
    "            print(ALL_PAIRS, SORT_ORBS, 'passed')\n",
    "        except:\n",
    "            print(ALL_PAIRS, SORT_ORBS, 'failed - moving on')\n",
    "            continue"
   ]
  },
  {
   "cell_type": "code",
   "execution_count": 13,
   "id": "3b7bbfd8",
   "metadata": {},
   "outputs": [],
   "source": [
    "cutoff = 23\n",
    "SORT_ORBS = True\n",
    "ALL_PAIRS = False\n",
    "\n",
    "# target_blocks, target_coupled_blocks = get_targets(dataset, cutoff = cutoff, device = device, all_pairs = False, sort_orbs=SORT_ORBS)\n",
    "# target_blocks1, target_coupled_blocks1= get_targets(dataset, cutoff = cutoff, device = device, all_pairs = True, sort_orbs = SORT_ORBS)"
   ]
  },
  {
   "cell_type": "code",
   "execution_count": 14,
   "id": "a1d9770b",
   "metadata": {},
   "outputs": [],
   "source": [
    "kblocks = kmatrix_to_blocks(dataset, cutoff = cutoff, all_pairs= ALL_PAIRS, sort_orbs=SORT_ORBS)#, target='overlap')\n",
    "# kblocks_o = kmatrix_to_blocks(dataset, cutoff = cutoff, all_pairs= ALL_PAIRS, target='overlap', sort_orbs=SORT_ORBS)"
   ]
  },
  {
   "cell_type": "code",
   "execution_count": 15,
   "id": "11215ff9-66dc-4df5-8e6e-f10cd2ab130e",
   "metadata": {
    "scrolled": true
   },
   "outputs": [],
   "source": [
    "rhk = kblocks_to_matrix(kblocks, dataset, all_pairs=ALL_PAIRS, sort_orbs=SORT_ORBS)\n",
    "# rSk = kblocks_to_matrix(kblocks_o, dataset, all_pairs=ALL_PAIRS, sort_orbs=SORT_ORBS)"
   ]
  },
  {
   "cell_type": "code",
   "execution_count": 16,
   "id": "07f94b32-c537-434e-aee8-a5e6d70369f8",
   "metadata": {},
   "outputs": [
    {
     "name": "stdout",
     "output_type": "stream",
     "text": [
      "7.5042467204497645e-19\n"
     ]
    }
   ],
   "source": [
    "kfock = dataset.fock_kspace\n",
    "for ifr in range(len(kfock)):\n",
    "    for ik in range(len(kfock[ifr])):\n",
    "        # print(np.linalg.norm(kfock[ifr][ik] -kfock[ifr][ik].conj().T))\n",
    "        print(np.linalg.norm(kfock[ifr][ik]-rhk[ifr][ik].numpy())/np.prod(rhk[ifr][ik].numpy().shape))"
   ]
  },
  {
   "cell_type": "code",
   "execution_count": 19,
   "id": "5a534203-c289-4254-b2c3-17b3daaaf696",
   "metadata": {},
   "outputs": [
    {
     "name": "stdout",
     "output_type": "stream",
     "text": [
      "cpu pair features\n",
      "cpu single center features\n",
      "cpu single center features\n"
     ]
    }
   ],
   "source": [
    "max_radial  = 6\n",
    "max_angular = 4\n",
    "atomic_gaussian_width = 0.8\n",
    "# cutoff=\n",
    "spline_basis = False\n",
    "\n",
    "\n",
    "hypers_pair = {'cutoff': cutoff,\n",
    "               'max_radial': max_radial,\n",
    "               'max_angular': max_angular,\n",
    "               'atomic_gaussian_width': atomic_gaussian_width,\n",
    "               'center_atom_weight': 1,\n",
    "               \"radial_basis\": splined_basis if spline_basis else {\"Gto\": {}},\n",
    "               # \"radial_basis\": splined_basis,\n",
    "               \"cutoff_function\": {\"ShiftedCosine\": {\"width\": 0.1}}}\n",
    "LCUT=4\n",
    "hfeat = compute_features(dataset, ALL_PAIRS)"
   ]
  },
  {
   "cell_type": "code",
   "execution_count": 29,
   "id": "fe8e144f-046c-41ea-b987-cae9df9d1509",
   "metadata": {},
   "outputs": [
    {
     "name": "stdout",
     "output_type": "stream",
     "text": [
      "tensor(4.7433)\n"
     ]
    }
   ],
   "source": [
    "model_ridge = LinearModelPeriodic(twocfeat = hfeat, \n",
    "                                  target_blocks = target_coupled_blocks,\n",
    "                                  frames = dataset.structures, orbitals = dataset.basis, \n",
    "                                  device = device)\n",
    "\n",
    "model_ridge = model_ridge.double()\n",
    "loss_ridge_bias, pred_ridge_bias, ridges_bias, loss_blocks = train_ridge(model_ridge, \n",
    "                                                                         target_coupled_blocks,\n",
    "                                                                         set_bias = True,\n",
    "                                                                         kernel_ridge = False,\n",
    "                                                                         alphas = np.logspace(-12, -2, 100),\n",
    "                                                                         # alpha = 1e-4\n",
    "                                                                        )\n",
    "print(loss_ridge_bias)"
   ]
  },
  {
   "cell_type": "code",
   "execution_count": 30,
   "id": "c928486e-2399-4c8b-a92c-dc70b7347cb9",
   "metadata": {},
   "outputs": [
    {
     "data": {
      "image/png": "[encoded data removed]",
      "text/plain": [
       "<Figure size 1920x480 with 2 Axes>"
      ]
     },
     "metadata": {},
     "output_type": "display_data"
    }
   ],
   "source": [
    "fig,ax,ax_loss=plot_block_errors(target_coupled_blocks, pred_ridge_bias, plot_loss = True)\n",
    "ax_loss.set_ylim(1e-7,)\n",
    "ax.set_ylim(1e-5,)\n",
    "fig.tight_layout()"
   ]
  },
  {
   "cell_type": "code",
   "execution_count": 31,
   "id": "78907edf-12dd-4334-8d74-6d062ac34743",
   "metadata": {},
   "outputs": [],
   "source": [
    "rht_ridge = blocks_to_matrix(pred_ridge_bias, dataset,all_pairs  =ALL_PAIRS, sort_orbs=SORT_ORBS)\n"
   ]
  },
  {
   "cell_type": "code",
   "execution_count": 45,
   "id": "fb3fca3c-b0ab-4f78-a190-0e8154ef82d8",
   "metadata": {},
   "outputs": [],
   "source": [
    "for k,b in pred_ridge_bias.items():\n",
    "    assert np.linalg.norm(np.array(b.samples.values) - np.array(target_coupled_blocks.block(k).samples.values))<=1e-13"
   ]
  },
  {
   "cell_type": "code",
   "execution_count": 32,
   "id": "5869f394-7206-4e66-baa1-59bb4fbdb26b",
   "metadata": {},
   "outputs": [
    {
     "name": "stdout",
     "output_type": "stream",
     "text": [
      "tensor(0.5255)\n",
      "tensor(0.5255)\n",
      "tensor(0.8832)\n",
      "tensor(0.8832)\n",
      "tensor(0.3191)\n",
      "tensor(0.3191)\n",
      "tensor(0.8549)\n",
      "tensor(0.8549)\n",
      "tensor(2.3577)\n"
     ]
    }
   ],
   "source": [
    "for ifr in range(len(dataset)):\n",
    "    for T in rht_ridge[ifr]:\n",
    "        print(torch.norm(rht_ridge[ifr][T] - dataset.fock_realspace[ifr][T]) )"
   ]
  },
  {
   "cell_type": "code",
   "execution_count": 34,
   "id": "453d0c7c-1da3-45b5-938c-a843ca40af32",
   "metadata": {},
   "outputs": [],
   "source": [
    "rhk_ridge_fourier = dataset.bloch_sum(rht_ridge)"
   ]
  },
  {
   "cell_type": "code",
   "execution_count": 37,
   "id": "d4672cf5-a272-4a1d-81a5-9c5e2162879c",
   "metadata": {},
   "outputs": [
    {
     "name": "stdout",
     "output_type": "stream",
     "text": [
      "0 tensor(3.0631)\n"
     ]
    }
   ],
   "source": [
    "for ifr in range(len(dataset)):\n",
    "    for ik in range(len(rhk_ridge_fourier[ifr])):\n",
    "        print(ik, torch.norm(rhk_ridge_fourier[ifr][ik] - dataset.fock_kspace[ifr][ik]) )"
   ]
  },
  {
   "cell_type": "code",
   "execution_count": null,
   "id": "55f8768a-bd7b-490e-8168-ca1dd3ee1b15",
   "metadata": {},
   "outputs": [],
   "source": []
  },
  {
   "cell_type": "code",
   "execution_count": null,
   "id": "c0f5abba-918b-4db7-a219-c2360e5d997c",
   "metadata": {},
   "outputs": [],
   "source": []
  },
  {
   "cell_type": "code",
   "execution_count": 871,
   "id": "7f895e33-0850-440d-a630-9a528f79c99e",
   "metadata": {},
   "outputs": [
    {
     "ename": "ValueError",
     "evalue": "wrong b dimensions (10, 10), should be (360, 360)",
     "output_type": "error",
     "traceback": [
      "\u001b[0;31m---------------------------------------------------------------------------\u001b[0m",
      "\u001b[0;31mValueError\u001b[0m                                Traceback (most recent call last)",
      "Cell \u001b[0;32mIn[871], line 6\u001b[0m\n\u001b[1;32m      4\u001b[0m \u001b[38;5;28;01mfor\u001b[39;00m ik \u001b[38;5;129;01min\u001b[39;00m \u001b[38;5;28mrange\u001b[39m(\u001b[38;5;28mlen\u001b[39m(dataset\u001b[38;5;241m.\u001b[39mfock_kspace[\u001b[38;5;241m0\u001b[39m])):\n\u001b[1;32m      5\u001b[0m     eigactual\u001b[38;5;241m.\u001b[39mappend(eigvalsh(dataset\u001b[38;5;241m.\u001b[39mfock_kspace[\u001b[38;5;241m0\u001b[39m][ik]\u001b[38;5;241m.\u001b[39mnumpy(), dataset\u001b[38;5;241m.\u001b[39moverlap_kspace[\u001b[38;5;241m0\u001b[39m][ik]\u001b[38;5;241m.\u001b[39mnumpy()))\n\u001b[0;32m----> 6\u001b[0m     eigcut\u001b[38;5;241m.\u001b[39mappend(\u001b[43meigvalsh\u001b[49m\u001b[43m(\u001b[49m\u001b[43mrhk\u001b[49m\u001b[43m[\u001b[49m\u001b[38;5;241;43m0\u001b[39;49m\u001b[43m]\u001b[49m\u001b[43m[\u001b[49m\u001b[43mik\u001b[49m\u001b[43m]\u001b[49m\u001b[38;5;241;43m.\u001b[39;49m\u001b[43mnumpy\u001b[49m\u001b[43m(\u001b[49m\u001b[43m)\u001b[49m\u001b[43m,\u001b[49m\u001b[43m \u001b[49m\u001b[43mrSk\u001b[49m\u001b[43m[\u001b[49m\u001b[38;5;241;43m0\u001b[39;49m\u001b[43m]\u001b[49m\u001b[43m[\u001b[49m\u001b[43mik\u001b[49m\u001b[43m]\u001b[49m\u001b[38;5;241;43m.\u001b[39;49m\u001b[43mnumpy\u001b[49m\u001b[43m(\u001b[49m\u001b[43m)\u001b[49m\u001b[43m)\u001b[49m)\n\u001b[1;32m      7\u001b[0m eigactual \u001b[38;5;241m=\u001b[39m np\u001b[38;5;241m.\u001b[39mconcatenate(eigactual)\n\u001b[1;32m      8\u001b[0m eigcut \u001b[38;5;241m=\u001b[39m np\u001b[38;5;241m.\u001b[39mconcatenate(eigcut)    \n",
      "File \u001b[0;32m~/miniconda3/envs/temp/lib/python3.11/site-packages/scipy/_lib/deprecation.py:213\u001b[0m, in \u001b[0;36m_deprecate_positional_args.<locals>._inner_deprecate_positional_args.<locals>.inner_f\u001b[0;34m(*args, **kwargs)\u001b[0m\n\u001b[1;32m    211\u001b[0m extra_args \u001b[38;5;241m=\u001b[39m \u001b[38;5;28mlen\u001b[39m(args) \u001b[38;5;241m-\u001b[39m \u001b[38;5;28mlen\u001b[39m(all_args)\n\u001b[1;32m    212\u001b[0m \u001b[38;5;28;01mif\u001b[39;00m extra_args \u001b[38;5;241m<\u001b[39m\u001b[38;5;241m=\u001b[39m \u001b[38;5;241m0\u001b[39m:\n\u001b[0;32m--> 213\u001b[0m     \u001b[38;5;28;01mreturn\u001b[39;00m \u001b[43mf\u001b[49m\u001b[43m(\u001b[49m\u001b[38;5;241;43m*\u001b[39;49m\u001b[43margs\u001b[49m\u001b[43m,\u001b[49m\u001b[43m \u001b[49m\u001b[38;5;241;43m*\u001b[39;49m\u001b[38;5;241;43m*\u001b[39;49m\u001b[43mkwargs\u001b[49m\u001b[43m)\u001b[49m\n\u001b[1;32m    215\u001b[0m \u001b[38;5;66;03m# extra_args > 0\u001b[39;00m\n\u001b[1;32m    216\u001b[0m args_msg \u001b[38;5;241m=\u001b[39m [\n\u001b[1;32m    217\u001b[0m     \u001b[38;5;124mf\u001b[39m\u001b[38;5;124m\"\u001b[39m\u001b[38;5;132;01m{\u001b[39;00mname\u001b[38;5;132;01m}\u001b[39;00m\u001b[38;5;124m=\u001b[39m\u001b[38;5;132;01m{\u001b[39;00marg\u001b[38;5;132;01m}\u001b[39;00m\u001b[38;5;124m\"\u001b[39m\n\u001b[1;32m    218\u001b[0m     \u001b[38;5;28;01mfor\u001b[39;00m name, arg \u001b[38;5;129;01min\u001b[39;00m \u001b[38;5;28mzip\u001b[39m(kwonly_args[:extra_args], args[\u001b[38;5;241m-\u001b[39mextra_args:])\n\u001b[1;32m    219\u001b[0m ]\n",
      "File \u001b[0;32m~/miniconda3/envs/temp/lib/python3.11/site-packages/scipy/linalg/_decomp.py:1024\u001b[0m, in \u001b[0;36meigvalsh\u001b[0;34m(a, b, lower, overwrite_a, overwrite_b, turbo, eigvals, type, check_finite, subset_by_index, subset_by_value, driver)\u001b[0m\n\u001b[1;32m    901\u001b[0m \u001b[38;5;129m@_deprecate_positional_args\u001b[39m(version\u001b[38;5;241m=\u001b[39m\u001b[38;5;124m\"\u001b[39m\u001b[38;5;124m1.14.0\u001b[39m\u001b[38;5;124m\"\u001b[39m)\n\u001b[1;32m    902\u001b[0m \u001b[38;5;28;01mdef\u001b[39;00m \u001b[38;5;21meigvalsh\u001b[39m(a, b\u001b[38;5;241m=\u001b[39m\u001b[38;5;28;01mNone\u001b[39;00m, \u001b[38;5;241m*\u001b[39m, lower\u001b[38;5;241m=\u001b[39m\u001b[38;5;28;01mTrue\u001b[39;00m, overwrite_a\u001b[38;5;241m=\u001b[39m\u001b[38;5;28;01mFalse\u001b[39;00m,\n\u001b[1;32m    903\u001b[0m              overwrite_b\u001b[38;5;241m=\u001b[39m\u001b[38;5;28;01mFalse\u001b[39;00m, turbo\u001b[38;5;241m=\u001b[39m_NoValue, eigvals\u001b[38;5;241m=\u001b[39m_NoValue, \u001b[38;5;28mtype\u001b[39m\u001b[38;5;241m=\u001b[39m\u001b[38;5;241m1\u001b[39m,\n\u001b[1;32m    904\u001b[0m              check_finite\u001b[38;5;241m=\u001b[39m\u001b[38;5;28;01mTrue\u001b[39;00m, subset_by_index\u001b[38;5;241m=\u001b[39m\u001b[38;5;28;01mNone\u001b[39;00m, subset_by_value\u001b[38;5;241m=\u001b[39m\u001b[38;5;28;01mNone\u001b[39;00m,\n\u001b[1;32m    905\u001b[0m              driver\u001b[38;5;241m=\u001b[39m\u001b[38;5;28;01mNone\u001b[39;00m):\n\u001b[1;32m    906\u001b[0m \u001b[38;5;250m    \u001b[39m\u001b[38;5;124;03m\"\"\"\u001b[39;00m\n\u001b[1;32m    907\u001b[0m \u001b[38;5;124;03m    Solves a standard or generalized eigenvalue problem for a complex\u001b[39;00m\n\u001b[1;32m    908\u001b[0m \u001b[38;5;124;03m    Hermitian or real symmetric matrix.\u001b[39;00m\n\u001b[0;32m   (...)\u001b[0m\n\u001b[1;32m   1022\u001b[0m \n\u001b[1;32m   1023\u001b[0m \u001b[38;5;124;03m    \"\"\"\u001b[39;00m\n\u001b[0;32m-> 1024\u001b[0m     \u001b[38;5;28;01mreturn\u001b[39;00m \u001b[43meigh\u001b[49m\u001b[43m(\u001b[49m\u001b[43ma\u001b[49m\u001b[43m,\u001b[49m\u001b[43m \u001b[49m\u001b[43mb\u001b[49m\u001b[38;5;241;43m=\u001b[39;49m\u001b[43mb\u001b[49m\u001b[43m,\u001b[49m\u001b[43m \u001b[49m\u001b[43mlower\u001b[49m\u001b[38;5;241;43m=\u001b[39;49m\u001b[43mlower\u001b[49m\u001b[43m,\u001b[49m\u001b[43m \u001b[49m\u001b[43meigvals_only\u001b[49m\u001b[38;5;241;43m=\u001b[39;49m\u001b[38;5;28;43;01mTrue\u001b[39;49;00m\u001b[43m,\u001b[49m\n\u001b[1;32m   1025\u001b[0m \u001b[43m                \u001b[49m\u001b[43moverwrite_a\u001b[49m\u001b[38;5;241;43m=\u001b[39;49m\u001b[43moverwrite_a\u001b[49m\u001b[43m,\u001b[49m\u001b[43m \u001b[49m\u001b[43moverwrite_b\u001b[49m\u001b[38;5;241;43m=\u001b[39;49m\u001b[43moverwrite_b\u001b[49m\u001b[43m,\u001b[49m\n\u001b[1;32m   1026\u001b[0m \u001b[43m                \u001b[49m\u001b[43mturbo\u001b[49m\u001b[38;5;241;43m=\u001b[39;49m\u001b[43mturbo\u001b[49m\u001b[43m,\u001b[49m\u001b[43m \u001b[49m\u001b[43meigvals\u001b[49m\u001b[38;5;241;43m=\u001b[39;49m\u001b[43meigvals\u001b[49m\u001b[43m,\u001b[49m\u001b[43m \u001b[49m\u001b[38;5;28;43mtype\u001b[39;49m\u001b[38;5;241;43m=\u001b[39;49m\u001b[38;5;28;43mtype\u001b[39;49m\u001b[43m,\u001b[49m\n\u001b[1;32m   1027\u001b[0m \u001b[43m                \u001b[49m\u001b[43mcheck_finite\u001b[49m\u001b[38;5;241;43m=\u001b[39;49m\u001b[43mcheck_finite\u001b[49m\u001b[43m,\u001b[49m\u001b[43m \u001b[49m\u001b[43msubset_by_index\u001b[49m\u001b[38;5;241;43m=\u001b[39;49m\u001b[43msubset_by_index\u001b[49m\u001b[43m,\u001b[49m\n\u001b[1;32m   1028\u001b[0m \u001b[43m                \u001b[49m\u001b[43msubset_by_value\u001b[49m\u001b[38;5;241;43m=\u001b[39;49m\u001b[43msubset_by_value\u001b[49m\u001b[43m,\u001b[49m\u001b[43m \u001b[49m\u001b[43mdriver\u001b[49m\u001b[38;5;241;43m=\u001b[39;49m\u001b[43mdriver\u001b[49m\u001b[43m)\u001b[49m\n",
      "File \u001b[0;32m~/miniconda3/envs/temp/lib/python3.11/site-packages/scipy/_lib/deprecation.py:213\u001b[0m, in \u001b[0;36m_deprecate_positional_args.<locals>._inner_deprecate_positional_args.<locals>.inner_f\u001b[0;34m(*args, **kwargs)\u001b[0m\n\u001b[1;32m    211\u001b[0m extra_args \u001b[38;5;241m=\u001b[39m \u001b[38;5;28mlen\u001b[39m(args) \u001b[38;5;241m-\u001b[39m \u001b[38;5;28mlen\u001b[39m(all_args)\n\u001b[1;32m    212\u001b[0m \u001b[38;5;28;01mif\u001b[39;00m extra_args \u001b[38;5;241m<\u001b[39m\u001b[38;5;241m=\u001b[39m \u001b[38;5;241m0\u001b[39m:\n\u001b[0;32m--> 213\u001b[0m     \u001b[38;5;28;01mreturn\u001b[39;00m \u001b[43mf\u001b[49m\u001b[43m(\u001b[49m\u001b[38;5;241;43m*\u001b[39;49m\u001b[43margs\u001b[49m\u001b[43m,\u001b[49m\u001b[43m \u001b[49m\u001b[38;5;241;43m*\u001b[39;49m\u001b[38;5;241;43m*\u001b[39;49m\u001b[43mkwargs\u001b[49m\u001b[43m)\u001b[49m\n\u001b[1;32m    215\u001b[0m \u001b[38;5;66;03m# extra_args > 0\u001b[39;00m\n\u001b[1;32m    216\u001b[0m args_msg \u001b[38;5;241m=\u001b[39m [\n\u001b[1;32m    217\u001b[0m     \u001b[38;5;124mf\u001b[39m\u001b[38;5;124m\"\u001b[39m\u001b[38;5;132;01m{\u001b[39;00mname\u001b[38;5;132;01m}\u001b[39;00m\u001b[38;5;124m=\u001b[39m\u001b[38;5;132;01m{\u001b[39;00marg\u001b[38;5;132;01m}\u001b[39;00m\u001b[38;5;124m\"\u001b[39m\n\u001b[1;32m    218\u001b[0m     \u001b[38;5;28;01mfor\u001b[39;00m name, arg \u001b[38;5;129;01min\u001b[39;00m \u001b[38;5;28mzip\u001b[39m(kwonly_args[:extra_args], args[\u001b[38;5;241m-\u001b[39mextra_args:])\n\u001b[1;32m    219\u001b[0m ]\n",
      "File \u001b[0;32m~/miniconda3/envs/temp/lib/python3.11/site-packages/scipy/linalg/_decomp.py:479\u001b[0m, in \u001b[0;36meigh\u001b[0;34m(a, b, lower, eigvals_only, overwrite_a, overwrite_b, turbo, eigvals, type, check_finite, subset_by_index, subset_by_value, driver)\u001b[0m\n\u001b[1;32m    476\u001b[0m     \u001b[38;5;28;01mraise\u001b[39;00m \u001b[38;5;167;01mValueError\u001b[39;00m(\u001b[38;5;124m'\u001b[39m\u001b[38;5;124mexpected square \u001b[39m\u001b[38;5;124m\"\u001b[39m\u001b[38;5;124mb\u001b[39m\u001b[38;5;124m\"\u001b[39m\u001b[38;5;124m matrix\u001b[39m\u001b[38;5;124m'\u001b[39m)\n\u001b[1;32m    478\u001b[0m \u001b[38;5;28;01mif\u001b[39;00m b1\u001b[38;5;241m.\u001b[39mshape \u001b[38;5;241m!=\u001b[39m a1\u001b[38;5;241m.\u001b[39mshape:\n\u001b[0;32m--> 479\u001b[0m     \u001b[38;5;28;01mraise\u001b[39;00m \u001b[38;5;167;01mValueError\u001b[39;00m(\u001b[38;5;124mf\u001b[39m\u001b[38;5;124m\"\u001b[39m\u001b[38;5;124mwrong b dimensions \u001b[39m\u001b[38;5;132;01m{\u001b[39;00mb1\u001b[38;5;241m.\u001b[39mshape\u001b[38;5;132;01m}\u001b[39;00m\u001b[38;5;124m, should be \u001b[39m\u001b[38;5;132;01m{\u001b[39;00ma1\u001b[38;5;241m.\u001b[39mshape\u001b[38;5;132;01m}\u001b[39;00m\u001b[38;5;124m\"\u001b[39m)\n\u001b[1;32m    481\u001b[0m \u001b[38;5;28;01mif\u001b[39;00m \u001b[38;5;28mtype\u001b[39m \u001b[38;5;129;01mnot\u001b[39;00m \u001b[38;5;129;01min\u001b[39;00m [\u001b[38;5;241m1\u001b[39m, \u001b[38;5;241m2\u001b[39m, \u001b[38;5;241m3\u001b[39m]:\n\u001b[1;32m    482\u001b[0m     \u001b[38;5;28;01mraise\u001b[39;00m \u001b[38;5;167;01mValueError\u001b[39;00m(\u001b[38;5;124m'\u001b[39m\u001b[38;5;124m\"\u001b[39m\u001b[38;5;124mtype\u001b[39m\u001b[38;5;124m\"\u001b[39m\u001b[38;5;124m keyword only accepts 1, 2, and 3.\u001b[39m\u001b[38;5;124m'\u001b[39m)\n",
      "\u001b[0;31mValueError\u001b[0m: wrong b dimensions (10, 10), should be (360, 360)"
     ]
    }
   ],
   "source": [
    "from scipy.linalg import eigvalsh\n",
    "eigactual = []\n",
    "eigcut=[]\n",
    "for ik in range(len(dataset.fock_kspace[0])):\n",
    "    eigactual.append(eigvalsh(dataset.fock_kspace[0][ik].numpy(), dataset.overlap_kspace[0][ik].numpy()))\n",
    "    eigcut.append(eigvalsh(rhk[0][ik].numpy(), rSk[0][ik].numpy()))\n",
    "eigactual = np.concatenate(eigactual)\n",
    "eigcut = np.concatenate(eigcut)    "
   ]
  },
  {
   "cell_type": "code",
   "execution_count": 872,
   "id": "3597df38-085d-4d4a-b7ca-6453099ff370",
   "metadata": {},
   "outputs": [
    {
     "ename": "ValueError",
     "evalue": "x and y must have same first dimension, but have shapes (1, 360) and (0,)",
     "output_type": "error",
     "traceback": [
      "\u001b[0;31m---------------------------------------------------------------------------\u001b[0m",
      "\u001b[0;31mValueError\u001b[0m                                Traceback (most recent call last)",
      "Cell \u001b[0;32mIn[872], line 1\u001b[0m\n\u001b[0;32m----> 1\u001b[0m \u001b[43mplt\u001b[49m\u001b[38;5;241;43m.\u001b[39;49m\u001b[43mplot\u001b[49m\u001b[43m(\u001b[49m\u001b[43meigactual\u001b[49m\u001b[43m,\u001b[49m\u001b[43m \u001b[49m\u001b[43meigcut\u001b[49m\u001b[43m,\u001b[49m\u001b[43m \u001b[49m\u001b[38;5;124;43m'\u001b[39;49m\u001b[38;5;124;43mo\u001b[39;49m\u001b[38;5;124;43m'\u001b[39;49m\u001b[43m)\u001b[49m\n\u001b[1;32m      2\u001b[0m plt\u001b[38;5;241m.\u001b[39mplot([np\u001b[38;5;241m.\u001b[39mmin(eigactual), np\u001b[38;5;241m.\u001b[39mmax(eigactual)],[np\u001b[38;5;241m.\u001b[39mmin(eigactual), np\u001b[38;5;241m.\u001b[39mmax(eigactual)])\n\u001b[1;32m      3\u001b[0m plt\u001b[38;5;241m.\u001b[39mylim(\u001b[38;5;241m-\u001b[39m\u001b[38;5;241m2\u001b[39m,)\n",
      "File \u001b[0;32m~/miniconda3/envs/temp/lib/python3.11/site-packages/matplotlib/pyplot.py:3590\u001b[0m, in \u001b[0;36mplot\u001b[0;34m(scalex, scaley, data, *args, **kwargs)\u001b[0m\n\u001b[1;32m   3582\u001b[0m \u001b[38;5;129m@_copy_docstring_and_deprecators\u001b[39m(Axes\u001b[38;5;241m.\u001b[39mplot)\n\u001b[1;32m   3583\u001b[0m \u001b[38;5;28;01mdef\u001b[39;00m \u001b[38;5;21mplot\u001b[39m(\n\u001b[1;32m   3584\u001b[0m     \u001b[38;5;241m*\u001b[39margs: \u001b[38;5;28mfloat\u001b[39m \u001b[38;5;241m|\u001b[39m ArrayLike \u001b[38;5;241m|\u001b[39m \u001b[38;5;28mstr\u001b[39m,\n\u001b[0;32m   (...)\u001b[0m\n\u001b[1;32m   3588\u001b[0m     \u001b[38;5;241m*\u001b[39m\u001b[38;5;241m*\u001b[39mkwargs,\n\u001b[1;32m   3589\u001b[0m ) \u001b[38;5;241m-\u001b[39m\u001b[38;5;241m>\u001b[39m \u001b[38;5;28mlist\u001b[39m[Line2D]:\n\u001b[0;32m-> 3590\u001b[0m     \u001b[38;5;28;01mreturn\u001b[39;00m \u001b[43mgca\u001b[49m\u001b[43m(\u001b[49m\u001b[43m)\u001b[49m\u001b[38;5;241;43m.\u001b[39;49m\u001b[43mplot\u001b[49m\u001b[43m(\u001b[49m\n\u001b[1;32m   3591\u001b[0m \u001b[43m        \u001b[49m\u001b[38;5;241;43m*\u001b[39;49m\u001b[43margs\u001b[49m\u001b[43m,\u001b[49m\n\u001b[1;32m   3592\u001b[0m \u001b[43m        \u001b[49m\u001b[43mscalex\u001b[49m\u001b[38;5;241;43m=\u001b[39;49m\u001b[43mscalex\u001b[49m\u001b[43m,\u001b[49m\n\u001b[1;32m   3593\u001b[0m \u001b[43m        \u001b[49m\u001b[43mscaley\u001b[49m\u001b[38;5;241;43m=\u001b[39;49m\u001b[43mscaley\u001b[49m\u001b[43m,\u001b[49m\n\u001b[1;32m   3594\u001b[0m \u001b[43m        \u001b[49m\u001b[38;5;241;43m*\u001b[39;49m\u001b[38;5;241;43m*\u001b[39;49m\u001b[43m(\u001b[49m\u001b[43m{\u001b[49m\u001b[38;5;124;43m\"\u001b[39;49m\u001b[38;5;124;43mdata\u001b[39;49m\u001b[38;5;124;43m\"\u001b[39;49m\u001b[43m:\u001b[49m\u001b[43m \u001b[49m\u001b[43mdata\u001b[49m\u001b[43m}\u001b[49m\u001b[43m \u001b[49m\u001b[38;5;28;43;01mif\u001b[39;49;00m\u001b[43m \u001b[49m\u001b[43mdata\u001b[49m\u001b[43m \u001b[49m\u001b[38;5;129;43;01mis\u001b[39;49;00m\u001b[43m \u001b[49m\u001b[38;5;129;43;01mnot\u001b[39;49;00m\u001b[43m \u001b[49m\u001b[38;5;28;43;01mNone\u001b[39;49;00m\u001b[43m \u001b[49m\u001b[38;5;28;43;01melse\u001b[39;49;00m\u001b[43m \u001b[49m\u001b[43m{\u001b[49m\u001b[43m}\u001b[49m\u001b[43m)\u001b[49m\u001b[43m,\u001b[49m\n\u001b[1;32m   3595\u001b[0m \u001b[43m        \u001b[49m\u001b[38;5;241;43m*\u001b[39;49m\u001b[38;5;241;43m*\u001b[39;49m\u001b[43mkwargs\u001b[49m\u001b[43m,\u001b[49m\n\u001b[1;32m   3596\u001b[0m \u001b[43m    \u001b[49m\u001b[43m)\u001b[49m\n",
      "File \u001b[0;32m~/miniconda3/envs/temp/lib/python3.11/site-packages/matplotlib/axes/_axes.py:1724\u001b[0m, in \u001b[0;36mAxes.plot\u001b[0;34m(self, scalex, scaley, data, *args, **kwargs)\u001b[0m\n\u001b[1;32m   1481\u001b[0m \u001b[38;5;250m\u001b[39m\u001b[38;5;124;03m\"\"\"\u001b[39;00m\n\u001b[1;32m   1482\u001b[0m \u001b[38;5;124;03mPlot y versus x as lines and/or markers.\u001b[39;00m\n\u001b[1;32m   1483\u001b[0m \n\u001b[0;32m   (...)\u001b[0m\n\u001b[1;32m   1721\u001b[0m \u001b[38;5;124;03m(``'green'``) or hex strings (``'#008000'``).\u001b[39;00m\n\u001b[1;32m   1722\u001b[0m \u001b[38;5;124;03m\"\"\"\u001b[39;00m\n\u001b[1;32m   1723\u001b[0m kwargs \u001b[38;5;241m=\u001b[39m cbook\u001b[38;5;241m.\u001b[39mnormalize_kwargs(kwargs, mlines\u001b[38;5;241m.\u001b[39mLine2D)\n\u001b[0;32m-> 1724\u001b[0m lines \u001b[38;5;241m=\u001b[39m [\u001b[38;5;241m*\u001b[39m\u001b[38;5;28mself\u001b[39m\u001b[38;5;241m.\u001b[39m_get_lines(\u001b[38;5;28mself\u001b[39m, \u001b[38;5;241m*\u001b[39margs, data\u001b[38;5;241m=\u001b[39mdata, \u001b[38;5;241m*\u001b[39m\u001b[38;5;241m*\u001b[39mkwargs)]\n\u001b[1;32m   1725\u001b[0m \u001b[38;5;28;01mfor\u001b[39;00m line \u001b[38;5;129;01min\u001b[39;00m lines:\n\u001b[1;32m   1726\u001b[0m     \u001b[38;5;28mself\u001b[39m\u001b[38;5;241m.\u001b[39madd_line(line)\n",
      "File \u001b[0;32m~/miniconda3/envs/temp/lib/python3.11/site-packages/matplotlib/axes/_base.py:303\u001b[0m, in \u001b[0;36m_process_plot_var_args.__call__\u001b[0;34m(self, axes, data, *args, **kwargs)\u001b[0m\n\u001b[1;32m    301\u001b[0m     this \u001b[38;5;241m+\u001b[39m\u001b[38;5;241m=\u001b[39m args[\u001b[38;5;241m0\u001b[39m],\n\u001b[1;32m    302\u001b[0m     args \u001b[38;5;241m=\u001b[39m args[\u001b[38;5;241m1\u001b[39m:]\n\u001b[0;32m--> 303\u001b[0m \u001b[38;5;28;01myield from\u001b[39;00m \u001b[38;5;28;43mself\u001b[39;49m\u001b[38;5;241;43m.\u001b[39;49m\u001b[43m_plot_args\u001b[49m\u001b[43m(\u001b[49m\n\u001b[1;32m    304\u001b[0m \u001b[43m    \u001b[49m\u001b[43maxes\u001b[49m\u001b[43m,\u001b[49m\u001b[43m \u001b[49m\u001b[43mthis\u001b[49m\u001b[43m,\u001b[49m\u001b[43m \u001b[49m\u001b[43mkwargs\u001b[49m\u001b[43m,\u001b[49m\u001b[43m \u001b[49m\u001b[43mambiguous_fmt_datakey\u001b[49m\u001b[38;5;241;43m=\u001b[39;49m\u001b[43mambiguous_fmt_datakey\u001b[49m\u001b[43m)\u001b[49m\n",
      "File \u001b[0;32m~/miniconda3/envs/temp/lib/python3.11/site-packages/matplotlib/axes/_base.py:499\u001b[0m, in \u001b[0;36m_process_plot_var_args._plot_args\u001b[0;34m(self, axes, tup, kwargs, return_kwargs, ambiguous_fmt_datakey)\u001b[0m\n\u001b[1;32m    496\u001b[0m     axes\u001b[38;5;241m.\u001b[39myaxis\u001b[38;5;241m.\u001b[39mupdate_units(y)\n\u001b[1;32m    498\u001b[0m \u001b[38;5;28;01mif\u001b[39;00m x\u001b[38;5;241m.\u001b[39mshape[\u001b[38;5;241m0\u001b[39m] \u001b[38;5;241m!=\u001b[39m y\u001b[38;5;241m.\u001b[39mshape[\u001b[38;5;241m0\u001b[39m]:\n\u001b[0;32m--> 499\u001b[0m     \u001b[38;5;28;01mraise\u001b[39;00m \u001b[38;5;167;01mValueError\u001b[39;00m(\u001b[38;5;124mf\u001b[39m\u001b[38;5;124m\"\u001b[39m\u001b[38;5;124mx and y must have same first dimension, but \u001b[39m\u001b[38;5;124m\"\u001b[39m\n\u001b[1;32m    500\u001b[0m                      \u001b[38;5;124mf\u001b[39m\u001b[38;5;124m\"\u001b[39m\u001b[38;5;124mhave shapes \u001b[39m\u001b[38;5;132;01m{\u001b[39;00mx\u001b[38;5;241m.\u001b[39mshape\u001b[38;5;132;01m}\u001b[39;00m\u001b[38;5;124m and \u001b[39m\u001b[38;5;132;01m{\u001b[39;00my\u001b[38;5;241m.\u001b[39mshape\u001b[38;5;132;01m}\u001b[39;00m\u001b[38;5;124m\"\u001b[39m)\n\u001b[1;32m    501\u001b[0m \u001b[38;5;28;01mif\u001b[39;00m x\u001b[38;5;241m.\u001b[39mndim \u001b[38;5;241m>\u001b[39m \u001b[38;5;241m2\u001b[39m \u001b[38;5;129;01mor\u001b[39;00m y\u001b[38;5;241m.\u001b[39mndim \u001b[38;5;241m>\u001b[39m \u001b[38;5;241m2\u001b[39m:\n\u001b[1;32m    502\u001b[0m     \u001b[38;5;28;01mraise\u001b[39;00m \u001b[38;5;167;01mValueError\u001b[39;00m(\u001b[38;5;124mf\u001b[39m\u001b[38;5;124m\"\u001b[39m\u001b[38;5;124mx and y can be no greater than 2D, but have \u001b[39m\u001b[38;5;124m\"\u001b[39m\n\u001b[1;32m    503\u001b[0m                      \u001b[38;5;124mf\u001b[39m\u001b[38;5;124m\"\u001b[39m\u001b[38;5;124mshapes \u001b[39m\u001b[38;5;132;01m{\u001b[39;00mx\u001b[38;5;241m.\u001b[39mshape\u001b[38;5;132;01m}\u001b[39;00m\u001b[38;5;124m and \u001b[39m\u001b[38;5;132;01m{\u001b[39;00my\u001b[38;5;241m.\u001b[39mshape\u001b[38;5;132;01m}\u001b[39;00m\u001b[38;5;124m\"\u001b[39m)\n",
      "\u001b[0;31mValueError\u001b[0m: x and y must have same first dimension, but have shapes (1, 360) and (0,)"
     ]
    },
    {
     "data": {
      "image/png": "[encoded data removed]",
      "text/plain": [
       "<Figure size 640x480 with 1 Axes>"
      ]
     },
     "metadata": {},
     "output_type": "display_data"
    }
   ],
   "source": [
    "plt.plot(eigactual, eigcut, 'o')\n",
    "plt.plot([np.min(eigactual), np.max(eigactual)],[np.min(eigactual), np.max(eigactual)])\n",
    "plt.ylim(-2,)\n",
    "plt.xlim(-2,)"
   ]
  },
  {
   "cell_type": "markdown",
   "id": "ae5448e8-8c2b-40b5-b1b7-ebf1a80fedc4",
   "metadata": {},
   "source": [
    "\n",
    "# HEX-HEX22"
   ]
  },
  {
   "cell_type": "code",
   "execution_count": 636,
   "id": "156e4dca-c4cf-4e24-b28c-11d42e5476a2",
   "metadata": {},
   "outputs": [
    {
     "name": "stderr",
     "output_type": "stream",
     "text": [
      "/media/nigam/b5749eb7-d3f1-4495-adeb-2c318fb7d0de/MAC/mlelec/src/mlelec/data/dataset.py:887: UserWarning: Overlap matrices not provided\n",
      "  warnings.warn(\"Overlap matrices not provided\")\n"
     ]
    }
   ],
   "source": [
    "workdir = '.'\n",
    "root = f'{workdir}/examples/data/periodic'\n",
    "ORBS = 'sto-3g'\n",
    "START = 1\n",
    "STOP = 3\n",
    "frames = read(f'{root}/graphene_supercell_variety/graphene_variety.xyz', slice(START, STOP))\n",
    "# frames = read(f'{root}/graphene_supercell_variety/cp2k_tight/graphene_variety_wrapped.xyz', slice(START, STOP))\n",
    "for f in frames:\n",
    "    f.pbc= True\n",
    "\n",
    "kmesh = [[8,8,1], [4,4,1]]\n",
    "kfock = [np.load(f\"{root}/graphene_supercell_variety/fock_{i}.npy\", allow_pickle = True) for i in range(START, STOP)]\n",
    "kover = [np.load(f\"{root}/graphene_supercell_variety/over_{i}.npy\", allow_pickle = True) for i in range(START, STOP)]\n",
    "\n",
    "\n",
    "# kmesh = [[24,24,1]]#, [12,12,1]]#, [6,6,1]]\n",
    "# kfock = [np.load(f\"{root}/graphene_supercell_variety/cp2k_tight/fock_{i}.npy\", allow_pickle = True) for i in range(START, STOP)]\n",
    "# kover = [np.load(f\"{root}/graphene_supercell_variety/cp2k_tight/overlap_{i}.npy\", allow_pickle = True) for i in range(START, STOP)]\n",
    "# rfock = [np.load(f\"{root}/graphene_supercell_variety/cp2k_tight/realfock_{i}.npy\", allow_pickle = True).item() for i in range(START, STOP)]\n",
    "# rover = [np.load(f\"{root}/graphene_supercell_variety/cp2k_tight/realoverlap_{i}.npy\", allow_pickle = True).item() for i in range(START, STOP)]\n",
    "\n",
    "# kfock_o=[]\n",
    "# for ifr in range(len(dataset)):\n",
    "#     kifr=[]\n",
    "#     for ik in range(len(dataset.fock_kspace[ifr])):\n",
    "#         kifr.append(lowdin_orthogonalize(dataset.fock_kspace[ifr][ik],dataset.overlap_kspace[ifr][ik]))\n",
    "#     kfock_o.append(torch.stack(kifr))\n",
    "dataset = PySCFPeriodicDataset(frames = frames, \n",
    "                               kmesh = kmesh, \n",
    "                               fix_p_orbital_order=True,\n",
    "                               dimension = 2,\n",
    "                               fock_kspace = kfock, \n",
    "                               # fock_realspace = rfock, \n",
    "                               # overlap_kspace = kover, \n",
    "                               device = device, \n",
    "                               orbs = orbitals[ORBS], \n",
    "                               orbs_name = 'sto-3g')"
   ]
  },
  {
   "cell_type": "code",
   "execution_count": 637,
   "id": "17d1eb43-2877-4be9-8b35-dd3c588266f7",
   "metadata": {},
   "outputs": [
    {
     "name": "stdout",
     "output_type": "stream",
     "text": [
      "True tensor(6.7518e-14)\n",
      "False tensor(6.7518e-14)\n"
     ]
    }
   ],
   "source": [
    "for ALL_PAIRS in [True, False]:\n",
    "    kblocks = kmatrix_to_blocks(dataset, cutoff=cutoff,all_pairs =ALL_PAIRS, sort_orbs=SORT_ORBS )\n",
    "    rec = kblocks_to_matrix(kblocks, dataset, all_pairs =ALL_PAIRS, sort_orbs=SORT_ORBS)\n",
    "    print(ALL_PAIRS,torch.norm(rec[0]- dataset.fock_kspace[0]))"
   ]
  },
  {
   "cell_type": "code",
   "execution_count": 623,
   "id": "84f452ca-b1e2-4035-bf8a-c4fbfc7b6d0b",
   "metadata": {},
   "outputs": [],
   "source": [
    "ALL_PAIRS = True\n",
    "SORT_ORBS = False"
   ]
  },
  {
   "cell_type": "code",
   "execution_count": 641,
   "id": "d4c27026-5195-421e-be76-af1b6faf9cf0",
   "metadata": {},
   "outputs": [],
   "source": [
    "cutoff = 8\n",
    "target_blocks, target_coupled_blocks  = get_targets(dataset, cutoff = cutoff, device = device, all_pairs =ALL_PAIRS, sort_orbs=SORT_ORBS)"
   ]
  },
  {
   "cell_type": "code",
   "execution_count": 642,
   "id": "e6f16bf0-ae72-444c-9e32-04b0e784d43c",
   "metadata": {},
   "outputs": [],
   "source": [
    "rr ={}\n",
    "for ALL_PAIRS in [True, False]:\n",
    "    target_blocks, target_coupled_blocks  = get_targets(dataset, cutoff = cutoff, device = device, all_pairs =ALL_PAIRS, sort_orbs=SORT_ORBS)\n",
    "    rr[ALL_PAIRS] = blocks_to_matrix(target_coupled_blocks, dataset, all_pairs =ALL_PAIRS, sort_orbs=SORT_ORBS )"
   ]
  },
  {
   "cell_type": "code",
   "execution_count": 643,
   "id": "a900fb82-4e9c-4ca4-9a54-c24e231c06a7",
   "metadata": {},
   "outputs": [
    {
     "data": {
      "text/plain": [
       "(51, 51)"
      ]
     },
     "execution_count": 643,
     "metadata": {},
     "output_type": "execute_result"
    }
   ],
   "source": [
    "len(rr[True][0]) , len(rr[False][0])"
   ]
  },
  {
   "cell_type": "code",
   "execution_count": 644,
   "id": "3289ce4a-6fd0-4e72-950c-07f7a0fc962b",
   "metadata": {
    "scrolled": true
   },
   "outputs": [
    {
     "name": "stdout",
     "output_type": "stream",
     "text": [
      "(-4, 1, 0) tensor(1.4677e-21)\n",
      "(4, -1, 0) tensor(1.1986e-21)\n",
      "(-4, 2, 0) tensor(1.1985e-21)\n",
      "(4, -2, 0) tensor(2.0751e-21)\n",
      "(-3, -1, 0) tensor(3.1778e-22)\n",
      "(3, 1, 0) tensor(3.1778e-22)\n",
      "(-3, 0, 0) tensor(0.0002)\n",
      "(3, 0, 0) tensor(0.0002)\n",
      "(-3, 1, 0) tensor(0.0003)\n",
      "(3, -1, 0) tensor(0.0003)\n",
      "(-3, 2, 0) tensor(0.0003)\n",
      "(3, -2, 0) tensor(0.0003)\n",
      "(-3, 3, 0) tensor(0.0002)\n",
      "(3, -3, 0) tensor(0.0002)\n",
      "(-2, -2, 0) tensor(2.0816e-28)\n",
      "(2, 2, 0) tensor(2.0816e-28)\n",
      "(-2, -1, 0) tensor(0.0003)\n",
      "(2, 1, 0) tensor(0.0003)\n",
      "(-2, 0, 0) tensor(0.0011)\n",
      "(2, 0, 0) tensor(0.0011)\n",
      "(-2, 1, 0) tensor(0.0088)\n",
      "(2, -1, 0) tensor(0.0088)\n",
      "(-2, 2, 0) tensor(0.0011)\n",
      "(2, -2, 0) tensor(0.0011)\n",
      "(-2, 3, 0) tensor(0.0003)\n",
      "(2, -3, 0) tensor(0.0003)\n",
      "(-2, 4, 0) tensor(1.1985e-21)\n",
      "(2, -4, 0) tensor(1.1985e-21)\n",
      "(-1, -3, 0) tensor(2.9947e-22)\n",
      "(1, 3, 0) tensor(2.9947e-22)\n",
      "(-1, -2, 0) tensor(0.0003)\n",
      "(1, 2, 0) tensor(0.0003)\n",
      "(-1, -1, 0) tensor(0.0088)\n",
      "(1, 1, 0) tensor(0.0088)\n",
      "(-1, 0, 0) tensor(0.4619)\n",
      "(1, 0, 0) tensor(0.4619)\n",
      "(-1, 1, 0) tensor(0.4619)\n",
      "(1, -1, 0) tensor(0.4619)\n",
      "(-1, 2, 0) tensor(0.0088)\n",
      "(1, -2, 0) tensor(0.0088)\n",
      "(-1, 3, 0) tensor(0.0003)\n",
      "(1, -3, 0) tensor(0.0003)\n",
      "(-1, 4, 0) tensor(1.1985e-21)\n",
      "(1, -4, 0) tensor(1.1985e-21)\n",
      "(0, -3, 0) tensor(0.0002)\n",
      "(0, 3, 0) tensor(0.0002)\n",
      "(0, -2, 0) tensor(0.0011)\n",
      "(0, 2, 0) tensor(0.0011)\n",
      "(0, -1, 0) tensor(0.4619)\n",
      "(0, 1, 0) tensor(0.4619)\n",
      "(0, 0, 0) tensor(2.2848e-27)\n",
      "(-2, -1, 0) tensor(2.9990e-31)\n",
      "(2, 1, 0) tensor(2.9990e-31)\n",
      "(-2, 0, 0) tensor(1.1222e-20)\n",
      "(2, 0, 0) tensor(1.1220e-20)\n",
      "(-2, 1, 0) tensor(2.0384e-20)\n",
      "(2, -1, 0) tensor(2.0384e-20)\n",
      "(-2, 2, 0) tensor(2.2572e-20)\n",
      "(2, -2, 0) tensor(2.2508e-20)\n",
      "(-1, -2, 0) tensor(2.2049e-31)\n",
      "(1, 2, 0) tensor(4.8308e-31)\n",
      "(-1, -1, 0) tensor(6.1352e-19)\n",
      "(1, 1, 0) tensor(6.1352e-19)\n",
      "(-1, 0, 0) tensor(0.0023)\n",
      "(1, 0, 0) tensor(0.0023)\n",
      "(-1, 1, 0) tensor(0.0023)\n",
      "(1, -1, 0) tensor(0.0023)\n",
      "(-1, 2, 0) tensor(1.7874e-20)\n",
      "(1, -2, 0) tensor(1.7753e-20)\n",
      "(0, -2, 0) tensor(2.7715e-20)\n",
      "(0, 2, 0) tensor(2.7715e-20)\n",
      "(0, -1, 0) tensor(0.0023)\n",
      "(0, 1, 0) tensor(0.0023)\n",
      "(0, 0, 0) tensor(6.6937e-16)\n"
     ]
    }
   ],
   "source": [
    "for ifr in range(len(dataset)):\n",
    "    for T in rr[True][ifr]:\n",
    "        print(T, torch.norm(rr[True][ifr][T] - rr[False][ifr][T]))"
   ]
  },
  {
   "cell_type": "code",
   "execution_count": 625,
   "id": "3540d7c1-629b-4f46-93b8-876419018e87",
   "metadata": {},
   "outputs": [
    {
     "name": "stdout",
     "output_type": "stream",
     "text": [
      "tensor(0.0261)\n",
      "tensor(0.0261)\n"
     ]
    }
   ],
   "source": [
    "rHT = blocks_to_matrix(target_blocks, dataset, all_pairs =ALL_PAIRS, sort_orbs=SORT_ORBS )\n",
    "rHk = dataset.bloch_sum(rHT)\n",
    "for ifr in range(len(dataset)):\n",
    "    print(torch.norm(rHk[ifr]-dataset.fock_kspace[ifr]))"
   ]
  },
  {
   "cell_type": "markdown",
   "id": "97646a42-ed95-47a6-aedf-df03b14aad5a",
   "metadata": {},
   "source": [
    "# Targets"
   ]
  },
  {
   "cell_type": "code",
   "execution_count": 615,
   "id": "79e2b9b0-022b-4a04-afce-a3765c659f96",
   "metadata": {
    "scrolled": true
   },
   "outputs": [],
   "source": [
    "tk = {}\n",
    "k_target_blocks = {}\n",
    "for ALL_PAIRS in [True, False]:\n",
    "    cutoff = 8\n",
    "    target_blocks, target_coupled_blocks  = get_targets(dataset, cutoff = cutoff, device = device, all_pairs =ALL_PAIRS, sort_orbs=SORT_ORBS)\n",
    "    phase, indices, kpts_idx = precompute_phase(target_blocks, dataset, cutoff = cutoff)\n",
    "    tk[ALL_PAIRS] = TMap_bloch_sums(target_blocks, phase, indices, kpts_idx, return_tensormap = True)\n",
    "    \n",
    "    rec_HT = blocks_to_matrix(target_blocks, dataset, sort_orbs = SORT_ORBS, all_pairs = ALL_PAIRS)\n",
    "    rec_Hk = dataset.bloch_sum(rec_HT)\n",
    "    \n",
    "    k_target_blocks[ALL_PAIRS] = kmatrix_to_blocks(dataset, cutoff = cutoff, all_pairs =ALL_PAIRS, sort_orbs=SORT_ORBS, matrix=rec_Hk)\n",
    "    "
   ]
  },
  {
   "cell_type": "code",
   "execution_count": 617,
   "id": "fdb82c93-50f2-46a6-8cca-a89e1d37dd9a",
   "metadata": {},
   "outputs": [
    {
     "name": "stdout",
     "output_type": "stream",
     "text": [
      "tensor(0.0379)\n",
      "tensor(9.0532)\n"
     ]
    }
   ],
   "source": [
    "for ALL_PAIRS in [True, False]:\n",
    "    rec = kblocks_to_matrix(k_target_blocks[ALL_PAIRS], dataset, all_pairs =ALL_PAIRS, sort_orbs=SORT_ORBS)\n",
    "    print(torch.norm(rec[0]- ))#dataset.fock_kspace[0]))"
   ]
  },
  {
   "cell_type": "code",
   "execution_count": null,
   "id": "b73fabc4-fc03-48da-992d-45f0ea5c12ce",
   "metadata": {},
   "outputs": [],
   "source": []
  },
  {
   "cell_type": "code",
   "execution_count": 606,
   "id": "f1789e45-9ee9-4728-83a0-cdb7ca4e389c",
   "metadata": {},
   "outputs": [
    {
     "name": "stdout",
     "output_type": "stream",
     "text": [
      "tensor(6.8314e-16)\n",
      "tensor(9.4553e-05)\n",
      "tensor(1.8028)\n",
      "tensor(9.4553e-05)\n",
      "tensor(4.9871e-15)\n",
      "tensor(6.1788)\n",
      "tensor(1.8028)\n",
      "tensor(6.1788)\n",
      "tensor(1.4179)\n",
      "tensor(0.0001)\n",
      "tensor(0.7809)\n",
      "tensor(0.0015)\n",
      "tensor(0.7809)\n",
      "tensor(4.5884)\n",
      "tensor(0.6530)\n",
      "tensor(0.0015)\n",
      "tensor(0.6530)\n",
      "tensor(7.4785)\n"
     ]
    }
   ],
   "source": [
    "for (k1, b1), (k2, b2) in zip(tk[False].items(), k_target_blocks[False].items()):\n",
    "    _, i1, i2 = b1.samples.intersection_and_mapping(b2.samples)\n",
    "    i1=np.where(i1!=-1)\n",
    "    print(torch.norm(b1.values[i1] - b2.values))"
   ]
  },
  {
   "cell_type": "code",
   "execution_count": 603,
   "id": "9188b752-17d5-43a7-9c65-2d5d7618f1e7",
   "metadata": {},
   "outputs": [
    {
     "name": "stdout",
     "output_type": "stream",
     "text": [
      "tensor(0.)\n",
      "tensor(0.)\n",
      "tensor(0.)\n",
      "tensor(0.)\n",
      "tensor(0.)\n",
      "tensor(0.)\n",
      "tensor(0.)\n",
      "tensor(0.)\n",
      "tensor(0.)\n",
      "tensor(0.)\n",
      "tensor(0.)\n",
      "tensor(0.)\n",
      "tensor(0.)\n",
      "tensor(0.)\n",
      "tensor(0.)\n",
      "tensor(0.)\n",
      "tensor(0.)\n",
      "tensor(0.)\n"
     ]
    }
   ],
   "source": [
    "for (k1, b1), (k2, b2) in zip(tk[True].items(), tk[False].items()):\n",
    "    _, i1, i2 = b1.samples.intersection_and_mapping(b2.samples)\n",
    "    i1=np.where(i1!=-1)\n",
    "    print(torch.norm(b1.values[i1] - b2.values))"
   ]
  },
  {
   "cell_type": "code",
   "execution_count": 604,
   "id": "9a031b95-2f50-40b4-a181-10690a0463e9",
   "metadata": {},
   "outputs": [
    {
     "name": "stdout",
     "output_type": "stream",
     "text": [
      "tensor(1.5922e-19)\n",
      "tensor(9.4553e-05)\n",
      "tensor(1.8028)\n",
      "tensor(9.4553e-05)\n",
      "tensor(6.2288e-16)\n",
      "tensor(6.1788)\n",
      "tensor(1.8028)\n",
      "tensor(6.1788)\n",
      "tensor(1.4179)\n",
      "tensor(0.0001)\n",
      "tensor(0.7809)\n",
      "tensor(0.0015)\n",
      "tensor(0.7809)\n",
      "tensor(4.5884)\n",
      "tensor(0.6530)\n",
      "tensor(0.0015)\n",
      "tensor(0.6530)\n",
      "tensor(7.4785)\n"
     ]
    }
   ],
   "source": [
    "for (k1, b1), (k2, b2) in zip(k_target_blocks[True].items(), k_target_blocks[False].items()):\n",
    "    _, i1, i2 = b1.samples.intersection_and_mapping(b2.samples)\n",
    "    i1=np.where(i1!=-1)\n",
    "    print(torch.norm(b1.values[i1] - b2.values))"
   ]
  },
  {
   "cell_type": "code",
   "execution_count": null,
   "id": "56551ae5-b1b9-474b-8ba6-f915b6d3aed6",
   "metadata": {},
   "outputs": [],
   "source": []
  },
  {
   "cell_type": "code",
   "execution_count": null,
   "id": "ab1951c3-63da-4cc0-9548-c9bfe41cdaad",
   "metadata": {},
   "outputs": [],
   "source": []
  },
  {
   "cell_type": "code",
   "execution_count": 539,
   "id": "ab6645b1-f10c-4367-af2c-6df1707a9f60",
   "metadata": {},
   "outputs": [],
   "source": [
    "rec_HT = blocks_to_matrix(target_blocks, dataset, sort_orbs = SORT_ORBS, all_pairs = ALL_PAIRS)\n",
    "rec_Hk = dataset.bloch_sum(rec_HT)"
   ]
  },
  {
   "cell_type": "code",
   "execution_count": 541,
   "id": "e9169a46-5355-4721-a0ab-b296b124ae5c",
   "metadata": {},
   "outputs": [],
   "source": [
    "phase, indices, kpts_idx = precompute_phase(target_blocks, dataset, cutoff = cutoff)\n",
    "targ_kspace = TMap_bloch_sums(target_blocks, phase, indices, kpts_idx, return_tensormap = True)"
   ]
  },
  {
   "cell_type": "code",
   "execution_count": 536,
   "id": "59bdf1cb-c704-4258-9381-a05957b7e2f8",
   "metadata": {
    "scrolled": true
   },
   "outputs": [],
   "source": [
    "phase_true = deepcopy(phase)\n",
    "idx_true = deepcopy(indices)"
   ]
  },
  {
   "cell_type": "code",
   "execution_count": 550,
   "id": "32ff343e-5d7f-4a1b-aa21-cfc0482cb7a3",
   "metadata": {
    "scrolled": true
   },
   "outputs": [
    {
     "name": "stdout",
     "output_type": "stream",
     "text": [
      "1.0\n",
      "1.0\n",
      "1.0\n",
      "1.0\n",
      "1.0\n",
      "1.0\n",
      "1.0\n",
      "1.0\n",
      "1.0\n",
      "1.0\n",
      "1.0\n",
      "1.0\n",
      "1.0\n",
      "1.0\n",
      "1.0\n",
      "1.0\n",
      "1.0\n",
      "1.0\n",
      "1.0\n",
      "1.0\n",
      "1.0\n",
      "1.0\n",
      "1.0\n",
      "1.0\n",
      "1.0\n",
      "1.0\n",
      "1.0\n",
      "1.0\n",
      "1.0\n",
      "1.0\n",
      "1.0\n",
      "1.0\n",
      "1.0\n",
      "1.0\n",
      "1.0\n",
      "1.0\n",
      "1.0\n",
      "1.0\n",
      "1.0\n",
      "1.0\n",
      "1.0\n",
      "1.0\n",
      "1.0\n",
      "1.0\n",
      "1.0\n",
      "1.0\n",
      "1.0\n",
      "1.0\n",
      "1.0\n",
      "1.0\n",
      "1.0\n",
      "1.0\n",
      "1.0\n",
      "1.0\n",
      "1.0\n",
      "1.0\n",
      "1.0\n",
      "1.0\n",
      "1.0\n",
      "1.0\n",
      "1.0\n",
      "1.0\n",
      "1.0\n",
      "1.0\n",
      "1.0\n",
      "1.0\n",
      "1.0\n",
      "1.0\n",
      "1.0\n",
      "1.0\n",
      "1.0\n",
      "1.0\n",
      "1.0\n",
      "1.0\n",
      "1.0\n",
      "1.0\n",
      "1.0\n",
      "1.0\n",
      "1.0\n",
      "1.0\n",
      "1.0\n",
      "1.0\n",
      "1.0\n",
      "1.0\n",
      "1.0\n",
      "1.0\n",
      "1.0\n",
      "1.0\n",
      "1.0\n",
      "1.0\n",
      "1.0\n",
      "1.0\n",
      "1.0\n",
      "1.0\n",
      "1.0\n",
      "1.0\n",
      "1.0\n",
      "1.0\n",
      "1.0\n",
      "1.0\n",
      "1.0\n",
      "1.0\n",
      "1.0\n",
      "1.0\n",
      "1.0\n",
      "1.0\n",
      "1.0\n",
      "1.0\n",
      "1.0\n",
      "1.0\n",
      "1.0\n",
      "1.0\n",
      "1.0\n",
      "1.0\n",
      "1.0\n",
      "1.0\n",
      "1.0\n",
      "1.0\n",
      "1.0\n",
      "1.0\n",
      "1.0\n",
      "1.0\n",
      "1.0\n",
      "1.0\n",
      "1.0\n",
      "1.0\n",
      "1.0\n",
      "1.0\n",
      "1.0\n",
      "1.0\n",
      "1.0\n",
      "1.0\n",
      "1.0\n",
      "1.0\n",
      "1.0\n",
      "1.0\n",
      "1.0\n",
      "1.0\n",
      "1.0\n",
      "1.0\n",
      "1.0\n",
      "1.0\n",
      "1.0\n",
      "1.0\n",
      "1.0\n",
      "1.0\n",
      "1.0\n",
      "1.0\n",
      "1.0\n",
      "1.0\n",
      "1.0\n",
      "1.0\n",
      "1.0\n",
      "1.0\n",
      "1.0\n",
      "1.0\n",
      "1.0\n",
      "1.0\n",
      "1.0\n",
      "1.0\n",
      "1.0\n",
      "1.0\n",
      "1.0\n",
      "1.0\n",
      "1.0\n",
      "1.0\n",
      "1.0\n",
      "1.0\n",
      "1.0\n",
      "1.0\n",
      "1.0\n",
      "1.0\n",
      "1.0\n",
      "1.0\n",
      "1.0\n",
      "1.0\n",
      "1.0\n",
      "1.0\n",
      "1.0\n",
      "1.0\n",
      "1.0\n",
      "1.0\n",
      "1.0\n",
      "1.0\n",
      "1.0\n",
      "1.0\n",
      "1.0\n",
      "1.0\n",
      "1.0\n",
      "1.0\n",
      "1.0\n",
      "1.0\n",
      "1.0\n",
      "1.0\n",
      "1.0\n",
      "1.0\n",
      "1.0\n",
      "1.0\n",
      "1.0\n",
      "1.0\n",
      "1.0\n",
      "1.0\n",
      "1.0\n",
      "1.0\n",
      "1.0\n",
      "1.0\n",
      "1.0\n",
      "1.0\n",
      "1.0\n",
      "1.0\n",
      "1.0\n",
      "1.0\n",
      "1.0\n",
      "1.0\n",
      "1.0\n",
      "1.0\n",
      "1.0\n",
      "1.0\n",
      "1.0\n",
      "1.0\n",
      "1.0\n",
      "1.0\n",
      "1.0\n",
      "1.0\n",
      "1.0\n",
      "1.0\n",
      "1.0\n",
      "1.0\n",
      "1.0\n",
      "1.0\n",
      "1.0\n",
      "1.0\n",
      "1.0\n",
      "1.0\n",
      "1.0\n",
      "1.0\n",
      "1.0\n",
      "1.0\n",
      "1.0\n",
      "1.0\n",
      "1.0\n",
      "1.0\n",
      "1.0\n",
      "1.0\n",
      "1.0\n",
      "1.0\n",
      "1.0\n",
      "1.0\n",
      "1.0\n",
      "1.0\n",
      "1.0\n",
      "1.0\n",
      "1.0\n",
      "1.0\n",
      "1.0\n",
      "1.0\n",
      "1.0\n",
      "1.0\n",
      "1.0\n",
      "1.0\n",
      "1.0\n",
      "1.0\n",
      "1.0\n",
      "1.0\n",
      "1.0\n",
      "1.0\n",
      "1.0\n",
      "1.0\n",
      "1.0\n",
      "1.0\n",
      "1.0\n",
      "1.0\n",
      "1.0\n",
      "1.0\n",
      "1.0\n",
      "1.0\n",
      "1.0\n",
      "1.0\n",
      "1.0\n",
      "1.0\n",
      "1.0\n",
      "1.0\n",
      "1.0\n",
      "1.0\n",
      "1.0\n",
      "1.0\n",
      "1.0\n",
      "1.0\n",
      "1.0\n",
      "1.0\n",
      "1.0\n",
      "1.0\n",
      "1.0\n",
      "1.0\n",
      "1.0\n",
      "1.0\n",
      "1.0\n",
      "1.0\n",
      "1.0\n",
      "1.0\n",
      "1.0\n",
      "1.0\n",
      "1.0\n",
      "1.0\n",
      "1.0\n",
      "1.0\n",
      "1.0\n",
      "1.0\n",
      "1.0\n",
      "1.0\n",
      "1.0\n",
      "1.0\n",
      "1.0\n",
      "1.0\n",
      "1.0\n",
      "1.0\n",
      "1.0\n",
      "1.0\n",
      "1.0\n",
      "1.0\n",
      "1.0\n",
      "1.0\n",
      "1.0\n",
      "1.0\n",
      "1.0\n",
      "1.0\n",
      "1.0\n",
      "1.0\n",
      "1.0\n",
      "1.0\n",
      "1.0\n",
      "1.0\n",
      "1.0\n",
      "1.0\n",
      "1.0\n",
      "1.0\n",
      "1.0\n",
      "1.0\n",
      "1.0\n",
      "1.0\n",
      "1.0\n",
      "1.0\n",
      "1.0\n",
      "1.0\n",
      "1.0\n",
      "1.0\n",
      "1.0\n",
      "1.0\n",
      "1.0\n",
      "1.0\n",
      "1.0\n",
      "1.0\n",
      "1.0\n",
      "1.0\n",
      "1.0\n",
      "1.0\n",
      "1.0\n",
      "1.0\n",
      "1.0\n",
      "1.0\n",
      "1.0\n",
      "1.0\n",
      "1.0\n",
      "1.0\n",
      "1.0\n",
      "1.0\n",
      "1.0\n",
      "1.0\n",
      "1.0\n",
      "1.0\n",
      "1.0\n",
      "1.0\n",
      "1.0\n",
      "1.0\n",
      "1.0\n",
      "1.0\n",
      "1.0\n",
      "1.0\n",
      "1.0\n",
      "1.0\n",
      "1.0\n",
      "1.0\n",
      "1.0\n",
      "1.0\n",
      "1.0\n",
      "1.0\n",
      "1.0\n",
      "1.0\n",
      "1.0\n",
      "1.0\n",
      "1.0\n",
      "1.0\n",
      "1.0\n",
      "1.0\n",
      "1.0\n",
      "1.0\n",
      "1.0\n",
      "1.0\n",
      "1.0\n",
      "1.0\n",
      "1.0\n",
      "1.0\n",
      "1.0\n",
      "1.0\n",
      "1.0\n",
      "1.0\n",
      "1.0\n",
      "1.0\n",
      "1.0\n",
      "1.0\n",
      "1.0\n",
      "1.0\n",
      "1.0\n",
      "1.0\n",
      "1.0\n",
      "1.0\n",
      "1.0\n",
      "1.0\n",
      "1.0\n",
      "1.0\n",
      "1.0\n",
      "1.0\n",
      "1.0\n",
      "1.0\n",
      "1.0\n",
      "1.0\n",
      "1.0\n",
      "1.0\n",
      "1.0\n",
      "1.0\n",
      "1.0\n",
      "1.0\n",
      "1.0\n",
      "1.0\n",
      "1.0\n",
      "1.0\n",
      "1.0\n",
      "1.0\n",
      "1.0\n",
      "1.0\n",
      "1.0\n",
      "1.0\n",
      "1.0\n",
      "1.0\n",
      "1.0\n",
      "1.0\n",
      "1.0\n",
      "1.0\n",
      "1.0\n",
      "1.0\n",
      "1.0\n",
      "1.0\n",
      "1.0\n",
      "1.0\n",
      "1.0\n",
      "1.0\n",
      "1.0\n",
      "1.0\n",
      "1.0\n",
      "1.0\n",
      "1.0\n",
      "1.0\n",
      "1.0\n",
      "1.0\n",
      "1.0\n",
      "1.0\n",
      "1.0\n",
      "1.0\n",
      "1.0\n",
      "1.0\n",
      "1.0\n",
      "1.0\n",
      "1.0\n",
      "1.0\n",
      "1.0\n",
      "1.0\n",
      "1.0\n",
      "1.0\n",
      "1.0\n",
      "1.0\n",
      "1.0\n",
      "1.0\n",
      "1.0\n",
      "1.0\n",
      "1.0\n",
      "1.0\n",
      "1.0\n",
      "1.0\n",
      "1.0\n",
      "1.0\n",
      "1.0\n",
      "1.0\n",
      "1.0\n",
      "1.0\n",
      "1.0\n",
      "1.0\n",
      "1.0\n",
      "1.0\n",
      "1.0\n",
      "1.0\n",
      "1.0\n",
      "1.0\n",
      "1.0\n",
      "1.0\n",
      "1.0\n",
      "1.0\n",
      "1.0\n",
      "1.0\n",
      "1.0\n",
      "1.0\n",
      "1.0\n",
      "1.0\n",
      "1.0\n",
      "1.0\n",
      "1.0\n",
      "1.0\n",
      "1.0\n",
      "1.0\n",
      "1.0\n",
      "1.0\n",
      "1.0\n",
      "1.0\n",
      "1.0\n",
      "1.0\n",
      "1.0\n",
      "1.0\n",
      "1.0\n",
      "1.0\n",
      "1.0\n",
      "1.0\n",
      "1.0\n",
      "1.0\n",
      "1.0\n",
      "1.0\n",
      "1.0\n",
      "1.0\n",
      "1.0\n",
      "1.0\n",
      "1.0\n",
      "1.0\n",
      "1.0\n",
      "1.0\n",
      "1.0\n",
      "1.0\n",
      "1.0\n",
      "1.0\n",
      "1.0\n",
      "1.0\n",
      "1.0\n",
      "1.0\n",
      "1.0\n",
      "1.0\n",
      "1.0\n",
      "1.0\n",
      "1.0\n",
      "1.0\n",
      "1.0\n",
      "1.0\n",
      "1.0\n",
      "1.0\n",
      "1.0\n",
      "1.0\n",
      "1.0\n",
      "1.0\n",
      "1.0\n",
      "1.0\n",
      "1.0\n",
      "1.0\n",
      "1.0\n",
      "1.0\n",
      "1.0\n",
      "1.0\n",
      "1.0\n",
      "1.0\n",
      "1.0\n",
      "1.0\n",
      "1.0\n",
      "1.0\n",
      "1.0\n",
      "1.0\n",
      "1.0\n",
      "1.0\n",
      "1.0\n",
      "1.0\n",
      "1.0\n",
      "1.0\n",
      "1.0\n",
      "1.0\n",
      "1.0\n",
      "1.0\n",
      "1.0\n",
      "1.0\n",
      "1.0\n",
      "1.0\n",
      "1.0\n",
      "1.0\n",
      "1.0\n",
      "1.0\n",
      "1.0\n",
      "1.0\n",
      "1.0\n",
      "1.0\n",
      "1.0\n",
      "1.0\n",
      "1.0\n",
      "1.0\n",
      "1.0\n",
      "1.0\n",
      "1.0\n",
      "1.0\n",
      "1.0\n",
      "1.0\n",
      "1.0\n",
      "1.0\n",
      "1.0\n",
      "1.0\n",
      "1.0\n",
      "1.0\n",
      "1.0\n",
      "1.0\n",
      "1.0\n",
      "1.0\n",
      "1.0\n",
      "1.0\n",
      "1.0\n",
      "1.0\n",
      "1.0\n",
      "1.0\n",
      "1.0\n",
      "1.0\n",
      "1.0\n",
      "1.0\n",
      "1.0\n",
      "1.0\n",
      "1.0\n",
      "1.0\n",
      "1.0\n",
      "1.0\n",
      "1.0\n",
      "1.0\n",
      "1.0\n",
      "1.0\n",
      "1.0\n",
      "1.0\n",
      "1.0\n",
      "1.0\n",
      "1.0\n",
      "1.0\n",
      "1.0\n",
      "1.0\n",
      "1.0\n",
      "1.0\n",
      "1.0\n",
      "1.0\n",
      "1.0\n",
      "1.0\n",
      "1.0\n",
      "1.0\n",
      "1.0\n",
      "1.0\n",
      "1.0\n",
      "1.0\n",
      "1.0\n",
      "1.0\n",
      "1.0\n",
      "1.0\n",
      "1.0\n",
      "1.0\n",
      "1.0\n",
      "1.0\n",
      "1.0\n",
      "1.0\n",
      "1.0\n",
      "1.0\n",
      "1.0\n",
      "1.0\n",
      "1.0\n",
      "1.0\n",
      "1.0\n",
      "1.0\n",
      "1.0\n",
      "1.0\n",
      "1.0\n",
      "1.0\n",
      "1.0\n",
      "1.0\n",
      "1.0\n",
      "1.0\n",
      "1.0\n",
      "1.0\n",
      "1.0\n",
      "1.0\n",
      "1.0\n",
      "1.0\n",
      "1.0\n",
      "1.0\n",
      "1.0\n",
      "1.0\n",
      "1.0\n",
      "1.0\n",
      "1.0\n",
      "1.0\n",
      "1.0\n",
      "1.0\n",
      "1.0\n",
      "1.0\n",
      "1.0\n",
      "1.0\n",
      "1.0\n",
      "1.0\n",
      "1.0\n",
      "1.0\n",
      "1.0\n",
      "1.0\n",
      "1.0\n",
      "1.0\n",
      "1.0\n",
      "1.0\n",
      "1.0\n",
      "1.0\n",
      "1.0\n",
      "1.0\n",
      "1.0\n",
      "1.0\n",
      "1.0\n",
      "1.0\n",
      "1.0\n",
      "1.0\n",
      "1.0\n",
      "1.0\n",
      "1.0\n",
      "1.0\n",
      "1.0\n",
      "1.0\n",
      "1.0\n",
      "1.0\n",
      "1.0\n",
      "1.0\n",
      "1.0\n",
      "1.0\n",
      "1.0\n",
      "1.0\n",
      "1.0\n",
      "1.0\n",
      "1.0\n",
      "1.0\n",
      "1.0\n",
      "1.0\n",
      "1.0\n",
      "1.0\n",
      "1.0\n",
      "1.0\n",
      "1.0\n",
      "1.0\n",
      "1.0\n",
      "1.0\n",
      "1.0\n",
      "1.0\n",
      "1.0\n",
      "1.0\n",
      "1.0\n",
      "1.0\n",
      "1.0\n",
      "1.0\n",
      "1.0\n",
      "1.0\n",
      "1.0\n",
      "1.0\n",
      "1.0\n",
      "1.0\n",
      "1.0\n",
      "1.0\n",
      "1.0\n",
      "1.0\n",
      "1.0\n",
      "1.0\n",
      "1.0\n",
      "1.0\n",
      "1.0\n",
      "1.0\n",
      "1.0\n",
      "1.0\n",
      "1.0\n",
      "1.0\n",
      "1.0\n",
      "1.0\n",
      "1.0\n",
      "1.0\n",
      "1.0\n",
      "1.0\n",
      "1.0\n",
      "1.0\n"
     ]
    }
   ],
   "source": [
    "for k in indices:\n",
    "    for I in indices[k]:\n",
    "        print(len(idx_true[k][I]) / len(indices[k][I]))"
   ]
  },
  {
   "cell_type": "code",
   "execution_count": 551,
   "id": "d689285b-7067-4c3f-b939-11e7304f5f09",
   "metadata": {},
   "outputs": [
    {
     "name": "stderr",
     "output_type": "stream",
     "text": [
      "/media/nigam/b5749eb7-d3f1-4495-adeb-2c318fb7d0de/MAC/mlelec/src/mlelec/data/dataset.py:887: UserWarning: Overlap matrices not provided\n",
      "  warnings.warn(\"Overlap matrices not provided\")\n"
     ]
    }
   ],
   "source": [
    "workdir = '.'\n",
    "root = f'{workdir}/examples/data/periodic'\n",
    "ORBS = 'sto-3g'\n",
    "START = 1\n",
    "STOP = 3\n",
    "frames = read(f'{root}/graphene_supercell_variety/graphene_variety.xyz', slice(START, STOP))\n",
    "# frames = read(f'{root}/graphene_supercell_variety/cp2k_tight/graphene_variety_wrapped.xyz', slice(START, STOP))\n",
    "for f in frames:\n",
    "    f.pbc= True\n",
    "\n",
    "dataset_fake = PySCFPeriodicDataset(frames = frames, \n",
    "                               kmesh = kmesh, \n",
    "                               # fix_p_orbital_order=True,\n",
    "                               dimension = 2,\n",
    "                               fock_kspace = rec_Hk, \n",
    "                               device = device, \n",
    "                               orbs = orbitals[ORBS], \n",
    "                               orbs_name = 'sto-3g')"
   ]
  },
  {
   "cell_type": "code",
   "execution_count": 552,
   "id": "9bef6dcb-7d21-4fc8-9c49-c04562973cb8",
   "metadata": {},
   "outputs": [],
   "source": [
    "k_target_blocks = kmatrix_to_blocks(dataset_fake, cutoff = cutoff, all_pairs =ALL_PAIRS, sort_orbs=SORT_ORBS)"
   ]
  },
  {
   "cell_type": "code",
   "execution_count": 553,
   "id": "318ae80c-710b-4712-b76d-48ea40097bc7",
   "metadata": {},
   "outputs": [
    {
     "data": {
      "text/plain": [
       "False"
      ]
     },
     "execution_count": 553,
     "metadata": {},
     "output_type": "execute_result"
    }
   ],
   "source": [
    "metatensor.allclose(k_target_blocks, targ_kspace)"
   ]
  },
  {
   "cell_type": "code",
   "execution_count": 576,
   "id": "6f9eff66-6a10-4876-a1f0-edeb3f324e8c",
   "metadata": {},
   "outputs": [],
   "source": [
    "rec1 = kblocks_to_matrix(k_target_blocks, dataset_fake, all_pairs=ALL_PAIRS, sort_orbs=SORT_ORBS)\n",
    "rec2 = kblocks_to_matrix(targ_kspace, dataset_fake, all_pairs=ALL_PAIRS, sort_orbs=SORT_ORBS)"
   ]
  },
  {
   "cell_type": "code",
   "execution_count": 577,
   "id": "14d7c6dc-54e9-42ad-949a-4068871b153b",
   "metadata": {},
   "outputs": [
    {
     "data": {
      "text/plain": [
       "(tensor(2.4013e-14), tensor(9.0531))"
      ]
     },
     "execution_count": 577,
     "metadata": {},
     "output_type": "execute_result"
    }
   ],
   "source": [
    "torch.norm(rec_Hk[0] - rec1[0]), torch.norm(rec_Hk[0] - rec2[0])"
   ]
  },
  {
   "cell_type": "code",
   "execution_count": 578,
   "id": "0502a49f-3cb9-4641-b70f-e785bca32c4f",
   "metadata": {},
   "outputs": [
    {
     "data": {
      "text/plain": [
       "<matplotlib.colorbar.Colorbar at 0x7fea68173690>"
      ]
     },
     "execution_count": 578,
     "metadata": {},
     "output_type": "execute_result"
    },
    {
     "data": {
      "image/png": "[encoded data removed]",
      "text/plain": [
       "<Figure size 480x480 with 2 Axes>"
      ]
     },
     "metadata": {},
     "output_type": "display_data"
    }
   ],
   "source": [
    "plt.matshow((rec_Hk[0][1] - rec2[0][1]).real)\n",
    "plt.colorbar()"
   ]
  },
  {
   "cell_type": "code",
   "execution_count": 520,
   "id": "dc6b65b9-4b5d-4932-b822-e9384ef10602",
   "metadata": {},
   "outputs": [],
   "source": [
    "norms = np.linalg.norm(k_target_blocks[17].values.numpy(), axis=(1,2)) #-\n",
    "norms_t = np.linalg.norm(targ_kspace[17].values.numpy(), axis=(1,2)) #-\n",
    "# targ_kspace[17].values.numpy(), axis = (1,2))[:,0]"
   ]
  },
  {
   "cell_type": "code",
   "execution_count": 526,
   "id": "b1178c04-62d2-4250-911a-b440756a9c7d",
   "metadata": {},
   "outputs": [
    {
     "data": {
      "text/plain": [
       "(0.0, 200.0)"
      ]
     },
     "execution_count": 526,
     "metadata": {},
     "output_type": "execute_result"
    },
    {
     "data": {
      "image/png": "[encoded data removed]",
      "text/plain": [
       "<Figure size 640x480 with 1 Axes>"
      ]
     },
     "metadata": {},
     "output_type": "display_data"
    }
   ],
   "source": [
    "plt.plot(norms/norms_t)\n",
    "# plt.plot(norms_t)\n",
    "# plt.plot(norms_t*np.sqrt(2))\n",
    "# plt.ylim(0,0.01)\n",
    "plt.axhline(np.sqrt(2))\n",
    "plt.xlim(0,200)"
   ]
  },
  {
   "cell_type": "code",
   "execution_count": 511,
   "id": "91cb6f9d-5c53-44e5-b8bb-d33f56f9a04a",
   "metadata": {},
   "outputs": [
    {
     "data": {
      "image/png": "[encoded data removed]",
      "text/plain": [
       "<Figure size 1920x480 with 2 Axes>"
      ]
     },
     "metadata": {},
     "output_type": "display_data"
    }
   ],
   "source": [
    "fig,ax,ax_loss = plot_block_errors(k_target_blocks, targ_kspace, plot_loss = True)"
   ]
  },
  {
   "cell_type": "code",
   "execution_count": 276,
   "id": "2ce97779-9afc-4f86-aa33-963585aed8ea",
   "metadata": {},
   "outputs": [],
   "source": [
    "rht = blocks_to_matrix(target_coupled_blocks , dataset,all_pairs =ALL_PAIRS, sort_orbs=SORT_ORBS)"
   ]
  },
  {
   "cell_type": "code",
   "execution_count": 277,
   "id": "ce8d07be-e249-472f-b771-e929040d78dc",
   "metadata": {
    "scrolled": true
   },
   "outputs": [
    {
     "data": {
      "text/plain": [
       "tensor([[-5.0169e-08,  2.1299e-06, -2.7595e-07,  5.5779e-16, -3.6945e-06],\n",
       "        [ 2.1299e-06, -3.6888e-05,  2.0984e-05, -1.2474e-15,  8.7090e-05],\n",
       "        [ 2.7595e-07, -2.0984e-05, -1.4206e-06, -7.1276e-16,  4.2764e-05],\n",
       "        [-3.5554e-16,  9.4027e-16, -3.8401e-16,  1.0006e-03,  2.9344e-16],\n",
       "        [ 3.6945e-06, -8.7090e-05,  4.2764e-05,  6.7641e-16,  1.8504e-04]])"
      ]
     },
     "execution_count": 277,
     "metadata": {},
     "output_type": "execute_result"
    }
   ],
   "source": [
    "rht[0][2,0,0][0:5,5:10]"
   ]
  },
  {
   "cell_type": "code",
   "execution_count": 292,
   "id": "da1204a4-bf68-421e-85a9-15cafdafde0a",
   "metadata": {
    "scrolled": true
   },
   "outputs": [],
   "source": [
    "k_target_blocks = kmatrix_to_blocks(dataset, cutoff = cutoff, all_pairs =ALL_PAIRS, sort_orbs=SORT_ORBS)"
   ]
  },
  {
   "cell_type": "code",
   "execution_count": 37,
   "id": "0d6192ad-5109-4450-b636-e5777f3696b4",
   "metadata": {
    "scrolled": true
   },
   "outputs": [
    {
     "name": "stdout",
     "output_type": "stream",
     "text": [
      "tensor(6.6833e-14)\n",
      "tensor(1.0077e-12)\n"
     ]
    }
   ],
   "source": [
    "rhk =kblocks_to_matrix(k_target_blocks, dataset, all_pairs =ALL_PAIRS, sort_orbs=SORT_ORBS)\n",
    "for ifr in range(len(dataset)):\n",
    "    print(torch.norm(rhk[ifr]- dataset.fock_kspace[ifr]))\n",
    "    # for ik in range(len(dataset.fock_kspace[ifr])):\n",
    "    #     print(ifr, ik,torch.norm(rhk[ifr][ik] - dataset.fock_kspace[ifr][ik]))"
   ]
  },
  {
   "cell_type": "markdown",
   "id": "d39d934b-f83b-4970-b8dc-016f1cbd879b",
   "metadata": {},
   "source": [
    "# Features"
   ]
  },
  {
   "cell_type": "code",
   "execution_count": 279,
   "id": "e645fac8-af50-41dd-8c2d-fb791def5a79",
   "metadata": {},
   "outputs": [],
   "source": [
    "from rascaline import SphericalExpansion\n",
    "from rascaline import SphericalExpansionByPair as PairExpansion"
   ]
  },
  {
   "cell_type": "code",
   "execution_count": 280,
   "id": "53bab620-cbf7-4645-a60c-6a0abea24f75",
   "metadata": {},
   "outputs": [],
   "source": [
    "rhoi = SphericalExpansion(**hypers_atom).compute(frames)\n",
    "gij = PairExpansion(**hypers_pair).compute(frames)"
   ]
  },
  {
   "cell_type": "code",
   "execution_count": 281,
   "id": "9bf3a6b8-9b9e-4c98-8077-837eec42043e",
   "metadata": {},
   "outputs": [],
   "source": [
    "import rascaline\n",
    "max_radial  = 8\n",
    "max_angular = 6\n",
    "atomic_gaussian_width = 0.3\n",
    "spline_basis = False\n",
    "##---splined basis \n",
    "if spline_basis :\n",
    "    spliner = rascaline.utils.SoapSpliner(\n",
    "        cutoff=cutoff,\n",
    "        max_radial=max_radial,\n",
    "        max_angular=max_angular,\n",
    "        basis=rascaline.utils.SphericalBesselBasis(\n",
    "            cutoff=cutoff, max_radial=max_radial, max_angular=max_angular\n",
    "        ),\n",
    "        density=rascaline.utils.GaussianDensity(atomic_gaussian_width=atomic_gaussian_width),\n",
    "        accuracy=1e-5,\n",
    "    )\n",
    "    splined_basis = spliner.compute()\n",
    "##-------\n",
    "hypers_pair = {'cutoff': cutoff,\n",
    "               'max_radial': max_radial,\n",
    "               'max_angular': max_angular,\n",
    "               'atomic_gaussian_width': atomic_gaussian_width,\n",
    "               'center_atom_weight': 1,\n",
    "               \"radial_basis\": splined_basis if spline_basis else {\"Gto\": {}},\n",
    "               # \"radial_basis\": splined_basis,\n",
    "               \"cutoff_function\": {\"ShiftedCosine\": {\"width\": 0.1}}}\n",
    "\n",
    "hypers_atom = {'cutoff': 4,\n",
    "               'max_radial': max_radial,\n",
    "               'max_angular': max_angular,\n",
    "               'atomic_gaussian_width': 0.3,\n",
    "               'center_atom_weight': 1,\n",
    "               \"radial_basis\": {\"Gto\": {}},\n",
    "               \"cutoff_function\": {\"ShiftedCosine\": {\"width\": 0.1}}}\n",
    "\n",
    "return_rho0ij = False\n",
    "both_centers = False\n",
    "LCUT = 3\n",
    "\n",
    "def compute_features(dataset, all_pairs=ALL_PAIRS):\n",
    "\n",
    "    rhoij = pair_features(dataset.structures, hypers_atom, hypers_pair, order_nu = 1, all_pairs = all_pairs, both_centers = both_centers, mic = False,\n",
    "                          kmesh = dataset.kmesh, device = device, lcut = LCUT, return_rho0ij = return_rho0ij)  \n",
    "    feature_names = rhoij.property_names\n",
    "    if both_centers and not return_rho0ij:\n",
    "        NU = 3\n",
    "    else:\n",
    "        NU = 2\n",
    "        \n",
    "    if return_rho0ij:\n",
    "        feature_names = None\n",
    "        NU=1\n",
    "    rhonui = single_center_features(dataset.structures, hypers_atom, order_nu = NU, lcut = LCUT, device = device,\n",
    "                                    # features_names=None)\n",
    "                                    feature_names = feature_names)\n",
    "\n",
    "    if return_rho0ij:\n",
    "        return rhoij, rhonui\n",
    "    hfeat = twocenter_features_periodic_NH(single_center = rhonui, pair = rhoij, all_pairs = all_pairs)\n",
    "\n",
    "    return hfeat"
   ]
  },
  {
   "cell_type": "code",
   "execution_count": 282,
   "id": "1ab8f766-88a6-4ef0-be83-544502d401fa",
   "metadata": {
    "scrolled": true
   },
   "outputs": [
    {
     "name": "stdout",
     "output_type": "stream",
     "text": [
      "cpu pair features\n",
      "cpu single center features\n",
      "cpu single center features\n"
     ]
    }
   ],
   "source": [
    "# %%timeit\n",
    "hfeat = compute_features(dataset, all_pairs= ALL_PAIRS)"
   ]
  },
  {
   "cell_type": "markdown",
   "id": "e983ab9c-321e-49ab-beea-6ba58e86f63d",
   "metadata": {},
   "source": [
    "# Train"
   ]
  },
  {
   "cell_type": "markdown",
   "id": "0e9b55f6-8880-445c-9c44-794cda37ebc7",
   "metadata": {},
   "source": [
    "## Ridge regression"
   ]
  },
  {
   "cell_type": "code",
   "execution_count": 283,
   "id": "0bc464ec-c7a4-463b-8f8d-6b625aa25a9f",
   "metadata": {},
   "outputs": [],
   "source": [
    "from mlelec.models.linear import LinearModelPeriodic\n",
    "device='cpu'"
   ]
  },
  {
   "cell_type": "code",
   "execution_count": 284,
   "id": "493afa2c-6ba5-4c8f-a554-f9aeb50403b3",
   "metadata": {},
   "outputs": [],
   "source": [
    "def train_ridge(model, target_blocks, set_bias=False, alphas = None, kernel_ridge = False, alpha = None):\n",
    "    block_losses = {}\n",
    "    loss = 0\n",
    "    pred, ridges = model.fit_ridge_analytical(return_matrix = False, set_bias = set_bias, kernel_ridge = kernel_ridge, alphas = alphas, alpha = alpha)\n",
    "\n",
    "    for (key, block) in pred.items():\n",
    "        block_loss=torch.norm(block.values - target_blocks[key].values)**2\n",
    "        loss += block_loss\n",
    "        \n",
    "        block_losses[tuple(key.values)] = block_loss\n",
    "\n",
    "    # print(np.sum(list(block_losses.values())))\n",
    "    return loss, pred, ridges, block_losses#, kernels "
   ]
  },
  {
   "cell_type": "code",
   "execution_count": 285,
   "id": "900116f8-66a7-4efe-bd3c-44d4beeb31f4",
   "metadata": {},
   "outputs": [
    {
     "name": "stdout",
     "output_type": "stream",
     "text": [
      "tensor(1.3363e-05)\n"
     ]
    }
   ],
   "source": [
    "model_ridge = LinearModelPeriodic(twocfeat = hfeat, \n",
    "                                  target_blocks = target_coupled_blocks,\n",
    "                                  frames = dataset.structures, orbitals = dataset.basis, \n",
    "                                  device = device)\n",
    "\n",
    "model_ridge = model_ridge.double()\n",
    "loss_ridge_bias, pred_ridge_bias, ridges_bias, loss_blocks = train_ridge(model_ridge, \n",
    "                                                                         target_coupled_blocks,\n",
    "                                                                         set_bias = True,\n",
    "                                                                         kernel_ridge = False,\n",
    "                                                                         # alphas = np.logspace(-10, -2, 100),\n",
    "                                                                         alphas = np.logspace(-10, 1, 100),\n",
    "                                                                         # alpha = 1e-4\n",
    "                                                                        )\n",
    "print(loss_ridge_bias)"
   ]
  },
  {
   "cell_type": "code",
   "execution_count": 286,
   "id": "34596edd-fb64-48cf-8686-6c536abd5b5e",
   "metadata": {},
   "outputs": [
    {
     "data": {
      "image/png": "[encoded data removed]",
      "text/plain": [
       "<Figure size 1920x480 with 2 Axes>"
      ]
     },
     "metadata": {},
     "output_type": "display_data"
    }
   ],
   "source": [
    "from mlelec.utils.plot_utils import plot_block_errors\n",
    "fig,ax,ax_loss=plot_block_errors(target_coupled_blocks, pred_ridge_bias, plot_loss = True)\n",
    "ax_loss.set_ylim(1e-5,)\n",
    "ax.set_ylim(1e-5,)\n",
    "fig.tight_layout()"
   ]
  },
  {
   "cell_type": "code",
   "execution_count": 62,
   "id": "5ce91b45-90f0-417e-a28c-6e209eb1604d",
   "metadata": {},
   "outputs": [],
   "source": [
    "rht_ridge = blocks_to_matrix(pred_ridge_bias , dataset,all_pairs =ALL_PAIRS, sort_orbs=SORT_ORBS)"
   ]
  },
  {
   "cell_type": "code",
   "execution_count": 121,
   "id": "9c52488d-6597-4eac-bc16-fc7aa6d7896b",
   "metadata": {},
   "outputs": [
    {
     "data": {
      "text/plain": [
       "tensor([[ 2.4666e-05,  3.5481e-01, -5.1865e-01,  0.0000e+00,  3.9378e-01],\n",
       "        [ 3.5481e-01,  3.3555e-01, -2.5521e-01,  0.0000e+00,  4.1917e-01],\n",
       "        [ 5.1866e-01,  3.0606e-01, -8.9197e-02,  0.0000e+00,  2.5185e-01],\n",
       "        [ 0.0000e+00,  0.0000e+00,  0.0000e+00,  8.8336e-02,  0.0000e+00],\n",
       "        [-3.9378e-01, -4.4853e-01,  3.3887e-01,  0.0000e+00,  2.5185e-01]])"
      ]
     },
     "execution_count": 121,
     "metadata": {},
     "output_type": "execute_result"
    }
   ],
   "source": [
    "rht_ridge[0][0,1,0][:5,:5] - rht_ridge[1][0,0,0][0:5,25:30]"
   ]
  },
  {
   "cell_type": "markdown",
   "id": "486cb39c-aa20-451d-a1ad-e78291f6c419",
   "metadata": {},
   "source": [
    "Compute the feature covariance matrix and diagonalize it. Project the weights onto the covariance eigenstates at each training iteration (TODO)"
   ]
  },
  {
   "cell_type": "markdown",
   "id": "a0e3f59d-0717-4063-a73f-df08b980acdb",
   "metadata": {},
   "source": [
    "## Torch"
   ]
  },
  {
   "cell_type": "code",
   "execution_count": 287,
   "id": "756af992-e3a3-4104-8b53-bee3925a94da",
   "metadata": {},
   "outputs": [],
   "source": [
    "from mlelec.metrics import L2_loss, L2_kspace_loss"
   ]
  },
  {
   "cell_type": "code",
   "execution_count": 288,
   "id": "67409ac9-7aa9-4c84-bbd3-ac205b2528d9",
   "metadata": {},
   "outputs": [],
   "source": [
    "from mlelec.models.linear import LinearModelPeriodic"
   ]
  },
  {
   "cell_type": "code",
   "execution_count": 289,
   "id": "3d49a77a-ca50-446b-9e3a-3d72844eeb68",
   "metadata": {},
   "outputs": [],
   "source": [
    "from mlelec.utils.pbc_utils import blocks_to_matrix\n",
    "from mlelec.utils.symmetry import ClebschGordanReal\n",
    "CG = ClebschGordanReal(lmax = 3, device = device)"
   ]
  },
  {
   "cell_type": "code",
   "execution_count": 317,
   "id": "c6737eca-e2db-4c68-9302-8c11612cb010",
   "metadata": {},
   "outputs": [],
   "source": [
    "seed = 10\n",
    "torch.manual_seed(seed)\n",
    "np.random.seed(seed)\n",
    "\n",
    "model = LinearModelPeriodic(twocfeat = hfeat, \n",
    "                            target_blocks = target_coupled_blocks,\n",
    "                            frames = dataset.structures, orbitals = dataset.basis, \n",
    "                            device = device,\n",
    "                            bias = True,\n",
    "                            nhidden = 512, \n",
    "                            nlayers = 1,\n",
    "                            activation = 'SiLU',\n",
    "                            apply_norm = True\n",
    "                           )\n",
    "\n",
    "model = model.double()\n",
    "# for p, (_, b) in zip(model.parameters(), target_coupled_blocks.items()):\n",
    "#     p.data = torch.ones_like(p.data)\n",
    "\n",
    "losses = {}\n",
    "para = {}\n",
    "grad = {}\n",
    "learning_rates = {}\n",
    "last_layer_kernel = {}\n",
    "nepoch = 1000\n",
    "\n",
    "# optimizer = torch.optim.Adam(model.parameters(), lr = 1e-2)\n",
    "# scheduler = torch.optim.lr_scheduler.ReduceLROnPlateau(optimizer, factor=0.6, patience=50, verbose=True)\n",
    "# scheduler = torch.optim.lr_scheduler.MultiStepLR(optimizer, milestones=[200, 400, 600, 800], gamma=1e-1)\n",
    "optimizers = []\n",
    "schedulers = []\n",
    "for i, key in enumerate(model.model):\n",
    "    # optimizers.append(torch.optim.Adam(model.model[key].parameters(), lr = 1e-1)) #, betas = (0.8, 0.9)))\n",
    "    optimizers.append(torch.optim.AdamW(model.model[key].parameters(), lr = 1e-3, betas = (0.8, 0.9)))\n",
    "    schedulers.append(torch.optim.lr_scheduler.ReduceLROnPlateau(optimizers[-1], factor = 0.8, patience = 30, verbose=True))"
   ]
  },
  {
   "cell_type": "code",
   "execution_count": 318,
   "id": "70c6a274-ff97-47ff-bbf4-ea37f9327ab5",
   "metadata": {},
   "outputs": [
    {
     "name": "stdout",
     "output_type": "stream",
     "text": [
      "Epoch       0, train loss real 1520.3510093962, train loss k 75444.4610950554, train loss per prediction 1.71392e-03\n",
      "Epoch      10, train loss real  563.8272026572, train loss k 28815.6226332443, train loss per prediction 1.04374e-03\n",
      "Epoch      20, train loss real   48.8332076176, train loss k 2493.9629631275, train loss per prediction 3.07168e-04\n",
      "Epoch      30, train loss real    0.7638140615, train loss k   35.4507557702, train loss per prediction 3.84160e-05\n",
      "Epoch      40, train loss real    0.7997072954, train loss k   37.6564149104, train loss per prediction 3.93083e-05\n",
      "Epoch      50, train loss real    0.3371864903, train loss k   14.7304781176, train loss per prediction 2.55243e-05\n",
      "Epoch      60, train loss real    0.1257941498, train loss k    4.1005289034, train loss per prediction 1.55901e-05\n",
      "Epoch      70, train loss real    0.4112101475, train loss k   18.1246848154, train loss per prediction 2.81871e-05\n",
      "Epoch      80, train loss real    0.0897991901, train loss k    3.2643628904, train loss per prediction 1.31721e-05\n"
     ]
    },
    {
     "ename": "KeyboardInterrupt",
     "evalue": "",
     "output_type": "error",
     "traceback": [
      "\u001b[0;31m---------------------------------------------------------------------------\u001b[0m",
      "\u001b[0;31mKeyboardInterrupt\u001b[0m                         Traceback (most recent call last)",
      "Cell \u001b[0;32mIn[318], line 17\u001b[0m\n\u001b[1;32m     14\u001b[0m \u001b[38;5;28;01mfor\u001b[39;00m ik, key \u001b[38;5;129;01min\u001b[39;00m \u001b[38;5;28menumerate\u001b[39m(model\u001b[38;5;241m.\u001b[39mmodel):\n\u001b[1;32m     15\u001b[0m     optimizers[ik]\u001b[38;5;241m.\u001b[39mzero_grad()\n\u001b[0;32m---> 17\u001b[0m pred \u001b[38;5;241m=\u001b[39m \u001b[43mmodel\u001b[49m\u001b[43m(\u001b[49m\u001b[43m)\u001b[49m\n\u001b[1;32m     18\u001b[0m unc_pred \u001b[38;5;241m=\u001b[39m _to_uncoupled_basis(pred, cg \u001b[38;5;241m=\u001b[39m CG)\n\u001b[1;32m     19\u001b[0m pred_kspace \u001b[38;5;241m=\u001b[39m TMap_bloch_sums(unc_pred, phase, indices, kpts_idx, return_tensormap\u001b[38;5;241m=\u001b[39m\u001b[38;5;28;01mTrue\u001b[39;00m)\n",
      "File \u001b[0;32m~/miniconda3/envs/temp/lib/python3.11/site-packages/torch/nn/modules/module.py:1532\u001b[0m, in \u001b[0;36mModule._wrapped_call_impl\u001b[0;34m(self, *args, **kwargs)\u001b[0m\n\u001b[1;32m   1530\u001b[0m     \u001b[38;5;28;01mreturn\u001b[39;00m \u001b[38;5;28mself\u001b[39m\u001b[38;5;241m.\u001b[39m_compiled_call_impl(\u001b[38;5;241m*\u001b[39margs, \u001b[38;5;241m*\u001b[39m\u001b[38;5;241m*\u001b[39mkwargs)  \u001b[38;5;66;03m# type: ignore[misc]\u001b[39;00m\n\u001b[1;32m   1531\u001b[0m \u001b[38;5;28;01melse\u001b[39;00m:\n\u001b[0;32m-> 1532\u001b[0m     \u001b[38;5;28;01mreturn\u001b[39;00m \u001b[38;5;28;43mself\u001b[39;49m\u001b[38;5;241;43m.\u001b[39;49m\u001b[43m_call_impl\u001b[49m\u001b[43m(\u001b[49m\u001b[38;5;241;43m*\u001b[39;49m\u001b[43margs\u001b[49m\u001b[43m,\u001b[49m\u001b[43m \u001b[49m\u001b[38;5;241;43m*\u001b[39;49m\u001b[38;5;241;43m*\u001b[39;49m\u001b[43mkwargs\u001b[49m\u001b[43m)\u001b[49m\n",
      "File \u001b[0;32m~/miniconda3/envs/temp/lib/python3.11/site-packages/torch/nn/modules/module.py:1541\u001b[0m, in \u001b[0;36mModule._call_impl\u001b[0;34m(self, *args, **kwargs)\u001b[0m\n\u001b[1;32m   1536\u001b[0m \u001b[38;5;66;03m# If we don't have any hooks, we want to skip the rest of the logic in\u001b[39;00m\n\u001b[1;32m   1537\u001b[0m \u001b[38;5;66;03m# this function, and just call forward.\u001b[39;00m\n\u001b[1;32m   1538\u001b[0m \u001b[38;5;28;01mif\u001b[39;00m \u001b[38;5;129;01mnot\u001b[39;00m (\u001b[38;5;28mself\u001b[39m\u001b[38;5;241m.\u001b[39m_backward_hooks \u001b[38;5;129;01mor\u001b[39;00m \u001b[38;5;28mself\u001b[39m\u001b[38;5;241m.\u001b[39m_backward_pre_hooks \u001b[38;5;129;01mor\u001b[39;00m \u001b[38;5;28mself\u001b[39m\u001b[38;5;241m.\u001b[39m_forward_hooks \u001b[38;5;129;01mor\u001b[39;00m \u001b[38;5;28mself\u001b[39m\u001b[38;5;241m.\u001b[39m_forward_pre_hooks\n\u001b[1;32m   1539\u001b[0m         \u001b[38;5;129;01mor\u001b[39;00m _global_backward_pre_hooks \u001b[38;5;129;01mor\u001b[39;00m _global_backward_hooks\n\u001b[1;32m   1540\u001b[0m         \u001b[38;5;129;01mor\u001b[39;00m _global_forward_hooks \u001b[38;5;129;01mor\u001b[39;00m _global_forward_pre_hooks):\n\u001b[0;32m-> 1541\u001b[0m     \u001b[38;5;28;01mreturn\u001b[39;00m \u001b[43mforward_call\u001b[49m\u001b[43m(\u001b[49m\u001b[38;5;241;43m*\u001b[39;49m\u001b[43margs\u001b[49m\u001b[43m,\u001b[49m\u001b[43m \u001b[49m\u001b[38;5;241;43m*\u001b[39;49m\u001b[38;5;241;43m*\u001b[39;49m\u001b[43mkwargs\u001b[49m\u001b[43m)\u001b[49m\n\u001b[1;32m   1543\u001b[0m \u001b[38;5;28;01mtry\u001b[39;00m:\n\u001b[1;32m   1544\u001b[0m     result \u001b[38;5;241m=\u001b[39m \u001b[38;5;28;01mNone\u001b[39;00m\n",
      "File \u001b[0;32m/media/nigam/b5749eb7-d3f1-4495-adeb-2c318fb7d0de/MAC/mlelec/src/mlelec/models/linear.py:515\u001b[0m, in \u001b[0;36mLinearModelPeriodic.forward\u001b[0;34m(self, return_matrix)\u001b[0m\n\u001b[1;32m    510\u001b[0m     feat \u001b[38;5;241m=\u001b[39m map_targetkeys_to_featkeys(\u001b[38;5;28mself\u001b[39m\u001b[38;5;241m.\u001b[39mfeats, k)\n\u001b[1;32m    511\u001b[0m     \u001b[38;5;66;03m# feat = _match_feature_and_target_samples(block, map_targetkeys_to_featkeys(self.feats, k), return_idx=True)\u001b[39;00m\n\u001b[1;32m    512\u001b[0m \n\u001b[1;32m    513\u001b[0m     \u001b[38;5;66;03m# nsamples, ncomp, nprops = block.values.shape\u001b[39;00m\n\u001b[1;32m    514\u001b[0m     \u001b[38;5;66;03m# nsamples, ncomp, nprops = feat.values.shape\u001b[39;00m\n\u001b[0;32m--> 515\u001b[0m     pred \u001b[38;5;241m=\u001b[39m \u001b[38;5;28;43mself\u001b[39;49m\u001b[38;5;241;43m.\u001b[39;49m\u001b[43mblockmodels\u001b[49m\u001b[43m[\u001b[49m\u001b[38;5;28;43mstr\u001b[39;49m\u001b[43m(\u001b[49m\u001b[38;5;28;43mtuple\u001b[39;49m\u001b[43m(\u001b[49m\u001b[43mk\u001b[49m\u001b[43m)\u001b[49m\u001b[43m)\u001b[49m\u001b[43m]\u001b[49m\u001b[43m(\u001b[49m\u001b[43mfeat\u001b[49m\u001b[38;5;241;43m.\u001b[39;49m\u001b[43mvalues\u001b[49m\u001b[43m)\u001b[49m\n\u001b[1;32m    517\u001b[0m     pred_blocks\u001b[38;5;241m.\u001b[39mappend(\n\u001b[1;32m    518\u001b[0m         TensorBlock(\n\u001b[1;32m    519\u001b[0m             values\u001b[38;5;241m=\u001b[39mpred,\u001b[38;5;66;03m#.reshape((nsamples, ncomp, 1)),\u001b[39;00m\n\u001b[0;32m   (...)\u001b[0m\n\u001b[1;32m    523\u001b[0m         )\n\u001b[1;32m    524\u001b[0m     )\n\u001b[1;32m    525\u001b[0m \u001b[38;5;28;01melse\u001b[39;00m:\n",
      "File \u001b[0;32m~/miniconda3/envs/temp/lib/python3.11/site-packages/torch/nn/modules/module.py:1532\u001b[0m, in \u001b[0;36mModule._wrapped_call_impl\u001b[0;34m(self, *args, **kwargs)\u001b[0m\n\u001b[1;32m   1530\u001b[0m     \u001b[38;5;28;01mreturn\u001b[39;00m \u001b[38;5;28mself\u001b[39m\u001b[38;5;241m.\u001b[39m_compiled_call_impl(\u001b[38;5;241m*\u001b[39margs, \u001b[38;5;241m*\u001b[39m\u001b[38;5;241m*\u001b[39mkwargs)  \u001b[38;5;66;03m# type: ignore[misc]\u001b[39;00m\n\u001b[1;32m   1531\u001b[0m \u001b[38;5;28;01melse\u001b[39;00m:\n\u001b[0;32m-> 1532\u001b[0m     \u001b[38;5;28;01mreturn\u001b[39;00m \u001b[38;5;28;43mself\u001b[39;49m\u001b[38;5;241;43m.\u001b[39;49m\u001b[43m_call_impl\u001b[49m\u001b[43m(\u001b[49m\u001b[38;5;241;43m*\u001b[39;49m\u001b[43margs\u001b[49m\u001b[43m,\u001b[49m\u001b[43m \u001b[49m\u001b[38;5;241;43m*\u001b[39;49m\u001b[38;5;241;43m*\u001b[39;49m\u001b[43mkwargs\u001b[49m\u001b[43m)\u001b[49m\n",
      "File \u001b[0;32m~/miniconda3/envs/temp/lib/python3.11/site-packages/torch/nn/modules/module.py:1541\u001b[0m, in \u001b[0;36mModule._call_impl\u001b[0;34m(self, *args, **kwargs)\u001b[0m\n\u001b[1;32m   1536\u001b[0m \u001b[38;5;66;03m# If we don't have any hooks, we want to skip the rest of the logic in\u001b[39;00m\n\u001b[1;32m   1537\u001b[0m \u001b[38;5;66;03m# this function, and just call forward.\u001b[39;00m\n\u001b[1;32m   1538\u001b[0m \u001b[38;5;28;01mif\u001b[39;00m \u001b[38;5;129;01mnot\u001b[39;00m (\u001b[38;5;28mself\u001b[39m\u001b[38;5;241m.\u001b[39m_backward_hooks \u001b[38;5;129;01mor\u001b[39;00m \u001b[38;5;28mself\u001b[39m\u001b[38;5;241m.\u001b[39m_backward_pre_hooks \u001b[38;5;129;01mor\u001b[39;00m \u001b[38;5;28mself\u001b[39m\u001b[38;5;241m.\u001b[39m_forward_hooks \u001b[38;5;129;01mor\u001b[39;00m \u001b[38;5;28mself\u001b[39m\u001b[38;5;241m.\u001b[39m_forward_pre_hooks\n\u001b[1;32m   1539\u001b[0m         \u001b[38;5;129;01mor\u001b[39;00m _global_backward_pre_hooks \u001b[38;5;129;01mor\u001b[39;00m _global_backward_hooks\n\u001b[1;32m   1540\u001b[0m         \u001b[38;5;129;01mor\u001b[39;00m _global_forward_hooks \u001b[38;5;129;01mor\u001b[39;00m _global_forward_pre_hooks):\n\u001b[0;32m-> 1541\u001b[0m     \u001b[38;5;28;01mreturn\u001b[39;00m \u001b[43mforward_call\u001b[49m\u001b[43m(\u001b[49m\u001b[38;5;241;43m*\u001b[39;49m\u001b[43margs\u001b[49m\u001b[43m,\u001b[49m\u001b[43m \u001b[49m\u001b[38;5;241;43m*\u001b[39;49m\u001b[38;5;241;43m*\u001b[39;49m\u001b[43mkwargs\u001b[49m\u001b[43m)\u001b[49m\n\u001b[1;32m   1543\u001b[0m \u001b[38;5;28;01mtry\u001b[39;00m:\n\u001b[1;32m   1544\u001b[0m     result \u001b[38;5;241m=\u001b[39m \u001b[38;5;28;01mNone\u001b[39;00m\n",
      "File \u001b[0;32m/media/nigam/b5749eb7-d3f1-4495-adeb-2c318fb7d0de/MAC/mlelec/src/mlelec/models/linear.py:186\u001b[0m, in \u001b[0;36mMLP.forward\u001b[0;34m(self, x)\u001b[0m\n\u001b[1;32m    185\u001b[0m \u001b[38;5;28;01mdef\u001b[39;00m \u001b[38;5;21mforward\u001b[39m(\u001b[38;5;28mself\u001b[39m, x):\n\u001b[0;32m--> 186\u001b[0m     \u001b[38;5;28;01mreturn\u001b[39;00m \u001b[38;5;28;43mself\u001b[39;49m\u001b[38;5;241;43m.\u001b[39;49m\u001b[43mmlp\u001b[49m\u001b[43m(\u001b[49m\u001b[43mx\u001b[49m\u001b[43m)\u001b[49m\n",
      "File \u001b[0;32m~/miniconda3/envs/temp/lib/python3.11/site-packages/torch/nn/modules/module.py:1532\u001b[0m, in \u001b[0;36mModule._wrapped_call_impl\u001b[0;34m(self, *args, **kwargs)\u001b[0m\n\u001b[1;32m   1530\u001b[0m     \u001b[38;5;28;01mreturn\u001b[39;00m \u001b[38;5;28mself\u001b[39m\u001b[38;5;241m.\u001b[39m_compiled_call_impl(\u001b[38;5;241m*\u001b[39margs, \u001b[38;5;241m*\u001b[39m\u001b[38;5;241m*\u001b[39mkwargs)  \u001b[38;5;66;03m# type: ignore[misc]\u001b[39;00m\n\u001b[1;32m   1531\u001b[0m \u001b[38;5;28;01melse\u001b[39;00m:\n\u001b[0;32m-> 1532\u001b[0m     \u001b[38;5;28;01mreturn\u001b[39;00m \u001b[38;5;28;43mself\u001b[39;49m\u001b[38;5;241;43m.\u001b[39;49m\u001b[43m_call_impl\u001b[49m\u001b[43m(\u001b[49m\u001b[38;5;241;43m*\u001b[39;49m\u001b[43margs\u001b[49m\u001b[43m,\u001b[49m\u001b[43m \u001b[49m\u001b[38;5;241;43m*\u001b[39;49m\u001b[38;5;241;43m*\u001b[39;49m\u001b[43mkwargs\u001b[49m\u001b[43m)\u001b[49m\n",
      "File \u001b[0;32m~/miniconda3/envs/temp/lib/python3.11/site-packages/torch/nn/modules/module.py:1541\u001b[0m, in \u001b[0;36mModule._call_impl\u001b[0;34m(self, *args, **kwargs)\u001b[0m\n\u001b[1;32m   1536\u001b[0m \u001b[38;5;66;03m# If we don't have any hooks, we want to skip the rest of the logic in\u001b[39;00m\n\u001b[1;32m   1537\u001b[0m \u001b[38;5;66;03m# this function, and just call forward.\u001b[39;00m\n\u001b[1;32m   1538\u001b[0m \u001b[38;5;28;01mif\u001b[39;00m \u001b[38;5;129;01mnot\u001b[39;00m (\u001b[38;5;28mself\u001b[39m\u001b[38;5;241m.\u001b[39m_backward_hooks \u001b[38;5;129;01mor\u001b[39;00m \u001b[38;5;28mself\u001b[39m\u001b[38;5;241m.\u001b[39m_backward_pre_hooks \u001b[38;5;129;01mor\u001b[39;00m \u001b[38;5;28mself\u001b[39m\u001b[38;5;241m.\u001b[39m_forward_hooks \u001b[38;5;129;01mor\u001b[39;00m \u001b[38;5;28mself\u001b[39m\u001b[38;5;241m.\u001b[39m_forward_pre_hooks\n\u001b[1;32m   1539\u001b[0m         \u001b[38;5;129;01mor\u001b[39;00m _global_backward_pre_hooks \u001b[38;5;129;01mor\u001b[39;00m _global_backward_hooks\n\u001b[1;32m   1540\u001b[0m         \u001b[38;5;129;01mor\u001b[39;00m _global_forward_hooks \u001b[38;5;129;01mor\u001b[39;00m _global_forward_pre_hooks):\n\u001b[0;32m-> 1541\u001b[0m     \u001b[38;5;28;01mreturn\u001b[39;00m \u001b[43mforward_call\u001b[49m\u001b[43m(\u001b[49m\u001b[38;5;241;43m*\u001b[39;49m\u001b[43margs\u001b[49m\u001b[43m,\u001b[49m\u001b[43m \u001b[49m\u001b[38;5;241;43m*\u001b[39;49m\u001b[38;5;241;43m*\u001b[39;49m\u001b[43mkwargs\u001b[49m\u001b[43m)\u001b[49m\n\u001b[1;32m   1543\u001b[0m \u001b[38;5;28;01mtry\u001b[39;00m:\n\u001b[1;32m   1544\u001b[0m     result \u001b[38;5;241m=\u001b[39m \u001b[38;5;28;01mNone\u001b[39;00m\n",
      "File \u001b[0;32m~/miniconda3/envs/temp/lib/python3.11/site-packages/torch/nn/modules/container.py:217\u001b[0m, in \u001b[0;36mSequential.forward\u001b[0;34m(self, input)\u001b[0m\n\u001b[1;32m    215\u001b[0m \u001b[38;5;28;01mdef\u001b[39;00m \u001b[38;5;21mforward\u001b[39m(\u001b[38;5;28mself\u001b[39m, \u001b[38;5;28minput\u001b[39m):\n\u001b[1;32m    216\u001b[0m     \u001b[38;5;28;01mfor\u001b[39;00m module \u001b[38;5;129;01min\u001b[39;00m \u001b[38;5;28mself\u001b[39m:\n\u001b[0;32m--> 217\u001b[0m         \u001b[38;5;28minput\u001b[39m \u001b[38;5;241m=\u001b[39m \u001b[43mmodule\u001b[49m\u001b[43m(\u001b[49m\u001b[38;5;28;43minput\u001b[39;49m\u001b[43m)\u001b[49m\n\u001b[1;32m    218\u001b[0m     \u001b[38;5;28;01mreturn\u001b[39;00m \u001b[38;5;28minput\u001b[39m\n",
      "File \u001b[0;32m~/miniconda3/envs/temp/lib/python3.11/site-packages/torch/nn/modules/module.py:1532\u001b[0m, in \u001b[0;36mModule._wrapped_call_impl\u001b[0;34m(self, *args, **kwargs)\u001b[0m\n\u001b[1;32m   1530\u001b[0m     \u001b[38;5;28;01mreturn\u001b[39;00m \u001b[38;5;28mself\u001b[39m\u001b[38;5;241m.\u001b[39m_compiled_call_impl(\u001b[38;5;241m*\u001b[39margs, \u001b[38;5;241m*\u001b[39m\u001b[38;5;241m*\u001b[39mkwargs)  \u001b[38;5;66;03m# type: ignore[misc]\u001b[39;00m\n\u001b[1;32m   1531\u001b[0m \u001b[38;5;28;01melse\u001b[39;00m:\n\u001b[0;32m-> 1532\u001b[0m     \u001b[38;5;28;01mreturn\u001b[39;00m \u001b[38;5;28;43mself\u001b[39;49m\u001b[38;5;241;43m.\u001b[39;49m\u001b[43m_call_impl\u001b[49m\u001b[43m(\u001b[49m\u001b[38;5;241;43m*\u001b[39;49m\u001b[43margs\u001b[49m\u001b[43m,\u001b[49m\u001b[43m \u001b[49m\u001b[38;5;241;43m*\u001b[39;49m\u001b[38;5;241;43m*\u001b[39;49m\u001b[43mkwargs\u001b[49m\u001b[43m)\u001b[49m\n",
      "File \u001b[0;32m~/miniconda3/envs/temp/lib/python3.11/site-packages/torch/nn/modules/module.py:1541\u001b[0m, in \u001b[0;36mModule._call_impl\u001b[0;34m(self, *args, **kwargs)\u001b[0m\n\u001b[1;32m   1536\u001b[0m \u001b[38;5;66;03m# If we don't have any hooks, we want to skip the rest of the logic in\u001b[39;00m\n\u001b[1;32m   1537\u001b[0m \u001b[38;5;66;03m# this function, and just call forward.\u001b[39;00m\n\u001b[1;32m   1538\u001b[0m \u001b[38;5;28;01mif\u001b[39;00m \u001b[38;5;129;01mnot\u001b[39;00m (\u001b[38;5;28mself\u001b[39m\u001b[38;5;241m.\u001b[39m_backward_hooks \u001b[38;5;129;01mor\u001b[39;00m \u001b[38;5;28mself\u001b[39m\u001b[38;5;241m.\u001b[39m_backward_pre_hooks \u001b[38;5;129;01mor\u001b[39;00m \u001b[38;5;28mself\u001b[39m\u001b[38;5;241m.\u001b[39m_forward_hooks \u001b[38;5;129;01mor\u001b[39;00m \u001b[38;5;28mself\u001b[39m\u001b[38;5;241m.\u001b[39m_forward_pre_hooks\n\u001b[1;32m   1539\u001b[0m         \u001b[38;5;129;01mor\u001b[39;00m _global_backward_pre_hooks \u001b[38;5;129;01mor\u001b[39;00m _global_backward_hooks\n\u001b[1;32m   1540\u001b[0m         \u001b[38;5;129;01mor\u001b[39;00m _global_forward_hooks \u001b[38;5;129;01mor\u001b[39;00m _global_forward_pre_hooks):\n\u001b[0;32m-> 1541\u001b[0m     \u001b[38;5;28;01mreturn\u001b[39;00m \u001b[43mforward_call\u001b[49m\u001b[43m(\u001b[49m\u001b[38;5;241;43m*\u001b[39;49m\u001b[43margs\u001b[49m\u001b[43m,\u001b[49m\u001b[43m \u001b[49m\u001b[38;5;241;43m*\u001b[39;49m\u001b[38;5;241;43m*\u001b[39;49m\u001b[43mkwargs\u001b[49m\u001b[43m)\u001b[49m\n\u001b[1;32m   1543\u001b[0m \u001b[38;5;28;01mtry\u001b[39;00m:\n\u001b[1;32m   1544\u001b[0m     result \u001b[38;5;241m=\u001b[39m \u001b[38;5;28;01mNone\u001b[39;00m\n",
      "File \u001b[0;32m/media/nigam/b5749eb7-d3f1-4495-adeb-2c318fb7d0de/MAC/mlelec/src/mlelec/models/linear.py:84\u001b[0m, in \u001b[0;36mEquivariantNonLinearity.forward\u001b[0;34m(self, x)\u001b[0m\n\u001b[1;32m     82\u001b[0m x_inv \u001b[38;5;241m=\u001b[39m torch\u001b[38;5;241m.\u001b[39meinsum(\u001b[38;5;124m\"\u001b[39m\u001b[38;5;124mimf,imf->if\u001b[39m\u001b[38;5;124m\"\u001b[39m, x, x)\u001b[38;5;66;03m#.flatten()\u001b[39;00m\n\u001b[1;32m     83\u001b[0m x_inv \u001b[38;5;241m=\u001b[39m \u001b[38;5;28mself\u001b[39m\u001b[38;5;241m.\u001b[39mnn(x_inv)\n\u001b[0;32m---> 84\u001b[0m out \u001b[38;5;241m=\u001b[39m \u001b[43mtorch\u001b[49m\u001b[38;5;241;43m.\u001b[39;49m\u001b[43meinsum\u001b[49m\u001b[43m(\u001b[49m\u001b[38;5;124;43m\"\u001b[39;49m\u001b[38;5;124;43mif, imf->imf\u001b[39;49m\u001b[38;5;124;43m\"\u001b[39;49m\u001b[43m,\u001b[49m\u001b[43m \u001b[49m\u001b[43mx_inv\u001b[49m\u001b[43m,\u001b[49m\u001b[43m \u001b[49m\u001b[43mx\u001b[49m\u001b[43m)\u001b[49m \u001b[38;5;66;03m#/norm\u001b[39;00m\n\u001b[1;32m     86\u001b[0m \u001b[38;5;28;01mreturn\u001b[39;00m out\n",
      "File \u001b[0;32m~/miniconda3/envs/temp/lib/python3.11/site-packages/torch/functional.py:385\u001b[0m, in \u001b[0;36meinsum\u001b[0;34m(*args)\u001b[0m\n\u001b[1;32m    380\u001b[0m     \u001b[38;5;28;01mreturn\u001b[39;00m einsum(equation, \u001b[38;5;241m*\u001b[39m_operands)\n\u001b[1;32m    382\u001b[0m \u001b[38;5;28;01mif\u001b[39;00m \u001b[38;5;28mlen\u001b[39m(operands) \u001b[38;5;241m<\u001b[39m\u001b[38;5;241m=\u001b[39m \u001b[38;5;241m2\u001b[39m \u001b[38;5;129;01mor\u001b[39;00m \u001b[38;5;129;01mnot\u001b[39;00m opt_einsum\u001b[38;5;241m.\u001b[39menabled:\n\u001b[1;32m    383\u001b[0m     \u001b[38;5;66;03m# the path for contracting 0 or 1 time(s) is already optimized\u001b[39;00m\n\u001b[1;32m    384\u001b[0m     \u001b[38;5;66;03m# or the user has disabled using opt_einsum\u001b[39;00m\n\u001b[0;32m--> 385\u001b[0m     \u001b[38;5;28;01mreturn\u001b[39;00m \u001b[43m_VF\u001b[49m\u001b[38;5;241;43m.\u001b[39;49m\u001b[43meinsum\u001b[49m\u001b[43m(\u001b[49m\u001b[43mequation\u001b[49m\u001b[43m,\u001b[49m\u001b[43m \u001b[49m\u001b[43moperands\u001b[49m\u001b[43m)\u001b[49m  \u001b[38;5;66;03m# type: ignore[attr-defined]\u001b[39;00m\n\u001b[1;32m    387\u001b[0m path \u001b[38;5;241m=\u001b[39m \u001b[38;5;28;01mNone\u001b[39;00m\n\u001b[1;32m    388\u001b[0m \u001b[38;5;28;01mif\u001b[39;00m opt_einsum\u001b[38;5;241m.\u001b[39mis_available():\n",
      "\u001b[0;31mKeyboardInterrupt\u001b[0m: "
     ]
    }
   ],
   "source": [
    "from mlelec.utils.twocenter_utils import _to_uncoupled_basis, map_targetkeys_to_featkeys\n",
    "from mlelec.utils.pbc_utils import precompute_phase, TMap_bloch_sums\n",
    "\n",
    "phase, indices, kpts_idx = precompute_phase(target_blocks, dataset, cutoff = cutoff)\n",
    "\n",
    "loss_real = []\n",
    "loss_k = []\n",
    "\n",
    "new_sched = True\n",
    "for epoch in range(nepoch):\n",
    "\n",
    "    model.train(True)\n",
    "\n",
    "    for ik, key in enumerate(model.model):\n",
    "        optimizers[ik].zero_grad()\n",
    "    \n",
    "    pred = model()\n",
    "    unc_pred = _to_uncoupled_basis(pred, cg = CG)\n",
    "    pred_kspace = TMap_bloch_sums(unc_pred, phase, indices, kpts_idx, return_tensormap=True)\n",
    "    \n",
    "    n_predictions = sum([np.prod(b.values.shape) for _, b in pred.items()])\n",
    "\n",
    "    if epoch < 100:\n",
    "\n",
    "        # Compute the loss for each block\n",
    "        all_losses, epoch_loss = L2_loss(pred, target_coupled_blocks, loss_per_block = True)\n",
    "\n",
    "        # Total loss\n",
    "        epoch_loss = epoch_loss.item()\n",
    "        \n",
    "        # Append the values of the loss to a list\n",
    "        loss_k.append(L2_loss(pred_kspace, k_target_blocks, norm = 1).item())\n",
    "        loss_real.append(epoch_loss)\n",
    "\n",
    "        # Loop through submodels and backpropagate\n",
    "        for ik, (loss, key) in enumerate(zip(all_losses, model.model)):\n",
    "            loss.backward(retain_graph = False)\n",
    "            torch.nn.utils.clip_grad_norm_(model.model[key].parameters(), 1)\n",
    "            optimizers[ik].step()\n",
    "            schedulers[ik].step(loss)\n",
    "            \n",
    "            if key not in losses:\n",
    "                losses[key] = [loss.item()]\n",
    "                learning_rates[key] = [schedulers[ik].state_dict()['_last_lr'][0]]\n",
    "            else:\n",
    "                losses[key].append(loss.item())\n",
    "                learning_rates[key].append(schedulers[ik].state_dict()['_last_lr'][0])\n",
    "                \n",
    "    else:\n",
    "\n",
    "        # Compute the loss\n",
    "        loss = L2_loss(pred_kspace, k_target_blocks, norm = 2)\n",
    "\n",
    "        # Total loss \n",
    "        epoch_loss = loss.item()\n",
    "        \n",
    "        # Append the values of the loss to a list\n",
    "        all_losses, epoch_loss_real = L2_loss(pred, target_coupled_blocks, loss_per_block=True)\n",
    "        loss_real.append(epoch_loss_real.item())\n",
    "        loss_k.append(epoch_loss)\n",
    "\n",
    "               \n",
    "        loss.backward(retain_graph = True)\n",
    "        torch.nn.utils.clip_grad_norm_(model.parameters(), 1)\n",
    "\n",
    "        for ik, (loss_, key) in enumerate(zip(all_losses, model.model)):\n",
    "            optimizers[ik].step()\n",
    "            schedulers[ik].step(epoch_loss/len(model.model))\n",
    "            if key not in losses:\n",
    "                losses[key] = [loss_.item()]\n",
    "                learning_rates[key] = [schedulers[ik].state_dict()['_last_lr'][0]]\n",
    "            else:\n",
    "                losses[key].append(loss_.item())\n",
    "                learning_rates[key].append(schedulers[ik].state_dict()['_last_lr'][0])\n",
    "        \n",
    "    if epoch % 10 == 0:\n",
    "        # print(f\"Epoch {epoch:>7d}, train loss on all blocks {epoch_loss:>15.10f}, train loss per prediction {np.sqrt(epoch_loss)/n_predictions:>6.5e}\")\n",
    "        print(f\"Epoch {epoch:>7d}, train loss real {loss_real[-1]:>15.10f}, train loss k {loss_k[-1]:>15.10f}, train loss per prediction {np.sqrt(epoch_loss)/n_predictions:>6.5e}\")"
   ]
  },
  {
   "cell_type": "code",
   "execution_count": null,
   "id": "04b7c229-6eee-4c8f-ae4b-82158a9b4f20",
   "metadata": {},
   "outputs": [],
   "source": []
  },
  {
   "cell_type": "markdown",
   "id": "d3b111f4-c734-49b6-b4dd-509635b9bcb4",
   "metadata": {},
   "source": [
    "# WHY ARE THESE SAMPLES PRESENT IN BTYPE=-1 ???? features not correct then?"
   ]
  },
  {
   "cell_type": "code",
   "execution_count": 294,
   "id": "828fb963-49df-4bc2-b941-6812a79d075b",
   "metadata": {
    "scrolled": true
   },
   "outputs": [],
   "source": [
    "_,id1, id2 = pred_kspace[0].samples.intersection_and_mapping(k_target_blocks[0].samples)"
   ]
  },
  {
   "cell_type": "code",
   "execution_count": 302,
   "id": "b9f7c315-de39-4f07-9f89-b64e7fc582c3",
   "metadata": {},
   "outputs": [
    {
     "data": {
      "text/plain": [
       "tensor([[ 1.7534e-18,  1.2500e-01,  0.0000e+00],\n",
       "        [ 3.5067e-18,  2.5000e-01,  0.0000e+00],\n",
       "        [-1.9814e-17,  3.7500e-01,  0.0000e+00],\n",
       "        [ 7.0135e-18,  5.0000e-01,  0.0000e+00],\n",
       "        [-1.4989e-18,  6.2500e-01,  0.0000e+00],\n",
       "        [-3.9627e-17,  7.5000e-01,  0.0000e+00],\n",
       "        [-1.8523e-17,  8.7500e-01,  0.0000e+00],\n",
       "        [ 1.2500e-01,  1.2019e-17,  0.0000e+00],\n",
       "        [ 1.2500e-01,  1.2500e-01,  0.0000e+00],\n",
       "        [ 1.2500e-01,  2.5000e-01,  0.0000e+00],\n",
       "        [ 1.2500e-01,  3.7500e-01,  0.0000e+00],\n",
       "        [ 1.2500e-01,  5.0000e-01,  0.0000e+00],\n",
       "        [ 1.2500e-01,  6.2500e-01,  0.0000e+00],\n",
       "        [ 1.2500e-01,  7.5000e-01,  0.0000e+00],\n",
       "        [ 1.2500e-01,  8.7500e-01,  0.0000e+00],\n",
       "        [ 2.5000e-01,  2.4038e-17,  0.0000e+00],\n",
       "        [ 2.5000e-01,  1.2500e-01,  0.0000e+00],\n",
       "        [ 2.5000e-01,  2.5000e-01,  0.0000e+00],\n",
       "        [ 2.5000e-01,  3.7500e-01,  0.0000e+00],\n",
       "        [ 2.5000e-01,  5.0000e-01,  0.0000e+00],\n",
       "        [ 2.5000e-01,  6.2500e-01,  0.0000e+00],\n",
       "        [ 2.5000e-01,  7.5000e-01,  0.0000e+00],\n",
       "        [ 2.5000e-01,  8.7500e-01,  0.0000e+00],\n",
       "        [ 3.7500e-01, -1.9814e-17,  0.0000e+00],\n",
       "        [ 3.7500e-01,  1.2500e-01,  0.0000e+00],\n",
       "        [ 3.7500e-01,  2.5000e-01,  0.0000e+00],\n",
       "        [ 3.7500e-01,  3.7500e-01,  0.0000e+00],\n",
       "        [ 3.7500e-01,  5.0000e-01,  0.0000e+00],\n",
       "        [ 3.7500e-01,  6.2500e-01,  0.0000e+00],\n",
       "        [ 3.7500e-01,  7.5000e-01,  0.0000e+00],\n",
       "        [ 3.7500e-01,  8.7500e-01,  0.0000e+00],\n",
       "        [ 5.0000e-01,  4.8076e-17,  0.0000e+00],\n",
       "        [ 5.0000e-01,  1.2500e-01,  0.0000e+00],\n",
       "        [ 5.0000e-01,  2.5000e-01,  0.0000e+00],\n",
       "        [ 5.0000e-01,  3.7500e-01,  0.0000e+00],\n",
       "        [ 5.0000e-01,  5.0000e-01,  0.0000e+00],\n",
       "        [ 5.0000e-01,  6.2500e-01,  0.0000e+00],\n",
       "        [ 5.0000e-01,  7.5000e-01,  0.0000e+00],\n",
       "        [ 5.0000e-01,  8.7500e-01,  0.0000e+00],\n",
       "        [ 6.2500e-01,  8.0627e-17,  0.0000e+00],\n",
       "        [ 6.2500e-01,  1.2500e-01,  0.0000e+00],\n",
       "        [ 6.2500e-01,  2.5000e-01,  0.0000e+00],\n",
       "        [ 6.2500e-01,  3.7500e-01,  0.0000e+00],\n",
       "        [ 6.2500e-01,  5.0000e-01,  0.0000e+00],\n",
       "        [ 6.2500e-01,  6.2500e-01,  0.0000e+00],\n",
       "        [ 6.2500e-01,  7.5000e-01,  0.0000e+00],\n",
       "        [ 6.2500e-01,  8.7500e-01,  0.0000e+00],\n",
       "        [ 7.5000e-01, -3.9627e-17,  0.0000e+00],\n",
       "        [ 7.5000e-01,  1.2500e-01,  0.0000e+00],\n",
       "        [ 7.5000e-01,  2.5000e-01,  0.0000e+00],\n",
       "        [ 7.5000e-01,  3.7500e-01,  0.0000e+00],\n",
       "        [ 7.5000e-01,  5.0000e-01,  0.0000e+00],\n",
       "        [ 7.5000e-01,  6.2500e-01,  0.0000e+00],\n",
       "        [ 7.5000e-01,  7.5000e-01,  0.0000e+00],\n",
       "        [ 7.5000e-01,  8.7500e-01,  0.0000e+00],\n",
       "        [ 8.7500e-01,  6.3602e-17,  0.0000e+00],\n",
       "        [ 8.7500e-01,  1.2500e-01,  0.0000e+00],\n",
       "        [ 8.7500e-01,  2.5000e-01,  0.0000e+00],\n",
       "        [ 8.7500e-01,  3.7500e-01,  0.0000e+00],\n",
       "        [ 8.7500e-01,  5.0000e-01,  0.0000e+00],\n",
       "        [ 8.7500e-01,  6.2500e-01,  0.0000e+00],\n",
       "        [ 8.7500e-01,  7.5000e-01,  0.0000e+00],\n",
       "        [ 8.7500e-01,  8.7500e-01,  0.0000e+00]])"
      ]
     },
     "execution_count": 302,
     "metadata": {},
     "output_type": "execute_result"
    }
   ],
   "source": [
    "kpts = torch.from_numpy(dataset.kpts_rel[0])\n",
    "kpts[torch.where(kpts.norm(dim = -1) > 1e-30)[0].tolist()]"
   ]
  },
  {
   "cell_type": "code",
   "execution_count": 295,
   "id": "76264758-a5f2-46c2-8d87-e19bd2cbf963",
   "metadata": {},
   "outputs": [
    {
     "data": {
      "text/plain": [
       "(array([  0, 128, 192, 320, 432, 528, 608, 672, 720, 752]),)"
      ]
     },
     "execution_count": 295,
     "metadata": {},
     "output_type": "execute_result"
    }
   ],
   "source": [
    "np.where(id1==-1)#id2"
   ]
  },
  {
   "cell_type": "code",
   "execution_count": 296,
   "id": "e1cc241a-3e0f-415c-bb7a-55928e5fd7dd",
   "metadata": {},
   "outputs": [
    {
     "data": {
      "text/plain": [
       "LabelsValues([[0, 0, 0, 0],\n",
       "              [0, 1, 1, 0],\n",
       "              [1, 0, 0, 0],\n",
       "              [1, 1, 1, 0],\n",
       "              [1, 2, 2, 0],\n",
       "              [1, 3, 3, 0],\n",
       "              [1, 4, 4, 0],\n",
       "              [1, 5, 5, 0],\n",
       "              [1, 6, 6, 0],\n",
       "              [1, 7, 7, 0]], dtype=int32)"
      ]
     },
     "execution_count": 296,
     "metadata": {},
     "output_type": "execute_result"
    }
   ],
   "source": [
    "pred_kspace[0].samples.values[np.where(id1==-1)]"
   ]
  },
  {
   "cell_type": "code",
   "execution_count": 297,
   "id": "50c09761-6eae-4966-a13d-28bea5ad8872",
   "metadata": {},
   "outputs": [
    {
     "data": {
      "text/plain": [
       "tensor([[[[-0.8388+0.j]]],\n",
       "\n",
       "\n",
       "        [[[-0.8388+0.j]]],\n",
       "\n",
       "\n",
       "        [[[-0.1359+0.j]]],\n",
       "\n",
       "\n",
       "        [[[-0.1359+0.j]]],\n",
       "\n",
       "\n",
       "        [[[-0.1359+0.j]]],\n",
       "\n",
       "\n",
       "        [[[-0.1359+0.j]]],\n",
       "\n",
       "\n",
       "        [[[-0.1359+0.j]]],\n",
       "\n",
       "\n",
       "        [[[-0.1359+0.j]]],\n",
       "\n",
       "\n",
       "        [[[-0.1359+0.j]]],\n",
       "\n",
       "\n",
       "        [[[-0.1359+0.j]]]], grad_fn=<IndexBackward0>)"
      ]
     },
     "execution_count": 297,
     "metadata": {},
     "output_type": "execute_result"
    }
   ],
   "source": [
    "pred_kspace[0].values[np.where(id1==-1)]"
   ]
  },
  {
   "cell_type": "code",
   "execution_count": 364,
   "id": "6a177ed9-affa-4bcc-99b9-473069ae06c5",
   "metadata": {},
   "outputs": [
    {
     "data": {
      "text/plain": [
       "TensorMap with 18 blocks\n",
       "keys: block_type  species_i  n_i  l_i  species_j  n_j  l_j\n",
       "          -1          6       1    0       6       1    0\n",
       "          -1          6       1    0       6       2    0\n",
       "                              ...\n",
       "          1           6       2    1       6       2    0\n",
       "          1           6       2    1       6       2    1"
      ]
     },
     "execution_count": 364,
     "metadata": {},
     "output_type": "execute_result"
    }
   ],
   "source": [
    "pred_kspace"
   ]
  },
  {
   "cell_type": "code",
   "execution_count": 316,
   "id": "e9d1ed5c-47c9-4160-a42c-40a568d0fa69",
   "metadata": {},
   "outputs": [
    {
     "data": {
      "text/plain": [
       "['structure', 'center', 'neighbor', 'kpoint']"
      ]
     },
     "execution_count": 316,
     "metadata": {},
     "output_type": "execute_result"
    }
   ],
   "source": [
    "k_target_blocks[0].samples.names"
   ]
  },
  {
   "cell_type": "code",
   "execution_count": 315,
   "id": "e35a2246-ac05-452c-aa09-6d5902aafee7",
   "metadata": {},
   "outputs": [
    {
     "data": {
      "text/plain": [
       "LabelsValues([[ 0,  0,  0,  1],\n",
       "              [ 0,  0,  0,  2],\n",
       "              [ 0,  0,  0,  3],\n",
       "              ...,\n",
       "              [ 1,  7,  7, 13],\n",
       "              [ 1,  7,  7, 14],\n",
       "              [ 1,  7,  7, 15]], dtype=int32)"
      ]
     },
     "execution_count": 315,
     "metadata": {},
     "output_type": "execute_result"
    }
   ],
   "source": [
    "k_target_blocks[0].samples.values"
   ]
  },
  {
   "cell_type": "code",
   "execution_count": 282,
   "id": "bdae0734-ff3a-4df2-b0bc-94b4cfc06230",
   "metadata": {},
   "outputs": [
    {
     "data": {
      "text/plain": [
       "LabelsValues([[ 0,  0,  0,  0],\n",
       "              [ 0,  0,  0,  1],\n",
       "              [ 0,  0,  0,  2],\n",
       "              ...,\n",
       "              [ 1,  7,  7, 13],\n",
       "              [ 1,  7,  7, 14],\n",
       "              [ 1,  7,  7, 15]], dtype=int32)"
      ]
     },
     "execution_count": 282,
     "metadata": {},
     "output_type": "execute_result"
    }
   ],
   "source": [
    "pred_kspace[0].samples.values"
   ]
  },
  {
   "cell_type": "code",
   "execution_count": null,
   "id": "1cb6a4d6-c921-4d8a-9979-627036ab58a7",
   "metadata": {},
   "outputs": [
    {
     "data": {
      "text/plain": [
       "[<matplotlib.lines.Line2D at 0x7f8cf34abd10>]"
      ]
     },
     "execution_count": 102,
     "metadata": {},
     "output_type": "execute_result"
    },
    {
     "data": {
      "image/png": "[encoded data removed]",
      "text/plain": [
       "<Figure size 640x480 with 1 Axes>"
      ]
     },
     "metadata": {},
     "output_type": "display_data"
    }
   ],
   "source": [
    "for k in losses:\n",
    "    if k == '(0, 6, 1, 0, 6, 1, 0, 0)':\n",
    "        plt.loglog(losses[k], label = k)\n",
    "# plt.ylim(1e-10)\n",
    "plt.loglog(loss_real, 'k')\n",
    "plt.loglog(loss_k, 'r')"
   ]
  },
  {
   "cell_type": "code",
   "execution_count": 32,
   "id": "02c92d48-f74f-4842-b2b5-b690651d184f",
   "metadata": {},
   "outputs": [
    {
     "data": {
      "text/plain": [
       "[<matplotlib.lines.Line2D at 0x7f8d10f75a90>]"
      ]
     },
     "execution_count": 32,
     "metadata": {},
     "output_type": "execute_result"
    },
    {
     "data": {
      "image/png": "[encoded data removed]",
      "text/plain": [
       "<Figure size 640x480 with 1 Axes>"
      ]
     },
     "metadata": {},
     "output_type": "display_data"
    }
   ],
   "source": [
    "for k in losses:\n",
    "    plt.loglog(losses[k], label = k)\n",
    "plt.ylim(1e-10)\n",
    "plt.loglog(loss_real, 'k')"
   ]
  },
  {
   "cell_type": "markdown",
   "id": "3f5a2b91-ddcc-47fb-a14d-f56efb305649",
   "metadata": {},
   "source": [
    "# Bands"
   ]
  },
  {
   "cell_type": "code",
   "execution_count": 55,
   "id": "c9888ce5-7977-4be9-aff7-cf8dd372e9e7",
   "metadata": {},
   "outputs": [],
   "source": [
    "def reconstruct(pred, dataset, cutoff):\n",
    "    from mlelec.utils.pbc_utils import inverse_bloch_sum\n",
    "    reconstructed_H_ = blocks_to_matrix(pred, dataset)\n",
    "    reconstructed_H = []\n",
    "    reconstructed_S = []\n",
    "    S = [inverse_bloch_sum(dataset, dataset.overlap_kspace[ifr], ifr, cutoff) for ifr in range(len(dataset.structures))]\n",
    "    for ifr in range(len(reconstructed_H_)):\n",
    "        reconstructed_H.append({})\n",
    "        reconstructed_S.append({})\n",
    "        for T in reconstructed_H_[ifr]:\n",
    "            if T in S[ifr]:\n",
    "                reconstructed_S[ifr][T] = S[ifr][T]\n",
    "                reconstructed_H[ifr][T] = reconstructed_H_[ifr][T].cpu().detach().numpy()\n",
    "            elif tuple(-np.array(T)) in S[ifr]:\n",
    "                T = tuple(-np.array(T))\n",
    "                reconstructed_S[ifr][T] = S[ifr][T]\n",
    "                reconstructed_H[ifr][T] = reconstructed_H_[ifr][T].cpu().detach().numpy()\n",
    "            else:\n",
    "                print(T)\n",
    "                raise ValueError()\n",
    "    return reconstructed_H, reconstructed_S"
   ]
  },
  {
   "cell_type": "code",
   "execution_count": 56,
   "id": "fb45fb22-59e7-459a-a588-2ca8e15684cb",
   "metadata": {},
   "outputs": [],
   "source": [
    "rH_k, rS_k = reconstruct(pred, dataset, cutoff = cutoff)\n",
    "\n",
    "_, true_target_coupled_blocks = get_targets(dataset, cutoff = 8.35, device = device)\n",
    "rH_true, rS_true = reconstruct(true_target_coupled_blocks, dataset, cutoff = 8.35)"
   ]
  },
  {
   "cell_type": "code",
   "execution_count": 57,
   "id": "7908ddd6-256b-421e-8d51-81658106bc19",
   "metadata": {},
   "outputs": [
    {
     "name": "stdout",
     "output_type": "stream",
     "text": [
      "-0.007484087355638383\n",
      "-0.007498410787027821\n"
     ]
    },
    {
     "data": {
      "text/plain": [
       "<matplotlib.legend.Legend at 0x775c0d96dbd0>"
      ]
     },
     "execution_count": 57,
     "metadata": {},
     "output_type": "execute_result"
    },
    {
     "data": {
      "image/png": "[encoded data removed]",
      "text/plain": [
       "<Figure size 640x480 with 1 Axes>"
      ]
     },
     "metadata": {},
     "output_type": "display_data"
    }
   ],
   "source": [
    "fig, ax = plt.subplots()\n",
    "\n",
    "special_points = {'G': [0.0, 0.0, 0.0], 'K': [0.3333333333333333, 0.3333333333333333, 0.0], 'M': [0.5, 0.0, 0.0]}\n",
    "\n",
    "from mlelec.utils.plot_utils import plot_bands_frame_\n",
    "import matplotlib\n",
    "\n",
    "ifr = 2\n",
    "frame = dataset.structures[ifr]\n",
    "pyscf_cell = dataset.cells[ifr]\n",
    "kmesh = dataset.kmesh[ifr]\n",
    "kpath = frame.cell.bandpath('GMKG', 500, special_points = special_points, pbc = [True, True, False])\n",
    "realfock = np.asarray(list(rH_true[ifr].values())) #np.asarray(list(dataset.fock_realspace[0].values()))\n",
    "realover = np.asarray(list(rS_true[ifr].values())) #np.asarray(list(dataset.overlap_realspace[0].values()))\n",
    "R_vec_rel = [list(T) for T in rH_true[ifr]]\n",
    "\n",
    "handles = []\n",
    "labels = []\n",
    "\n",
    "ax, b, handle = plot_bands_frame_(frame, realfock, realover, pyscf_cell, kmesh, special_symm = 'hexagonal', \n",
    "                                  factor = 1,\n",
    "                                  kpath = kpath, ax = ax, color = 'k', R_vec_rel_in = R_vec_rel, lw = 3)\n",
    "handles.append(tuple(handle))\n",
    "labels.append('Ref.')\n",
    "\n",
    "for H, S, c, ls, factor, label in zip([rH_k], [rS_k], ['red'], ['--'], [1], ['after kspace']): #np.sqrt(np.prod(kmesh)/len(H[0]))]):\n",
    "    # if label == 'only real space':\n",
    "        # continue\n",
    "    realfock_cutoff = np.asarray(list(H[ifr].values()))\n",
    "    realover_cutoff = np.asarray(list(S[ifr].values()))\n",
    "    R_vec_rel = [list(T) for T in H[ifr]]\n",
    "    ax, b, handle = plot_bands_frame_(frame, realfock_cutoff, realover_cutoff, pyscf_cell, kmesh, \n",
    "                                      factor = factor,\n",
    "                                      lw = 2,\n",
    "                                      R_vec_rel_in = R_vec_rel, special_symm = 'hexagonal', kpath = kpath, ax = ax, color = c, ls = ls)\n",
    "    handles.append(tuple(handle))\n",
    "    labels.append(label)\n",
    "\n",
    "ax.legend(handles, labels)\n",
    "# ax.set_ylim(-35, 43)\n",
    "# nmax = 50\n",
    "# for ifr in range(0, nmax):\n",
    "#     frame = dataset.structures[ifr]\n",
    "#     pyscf_cell = dataset.cells[ifr]\n",
    "#     kmesh = dataset.kmesh[ifr]\n",
    "#     kpath = frame.cell.bandpath('GMKG', 500, special_points = special_points, pbc = [True, True, False])\n",
    "#     realfock = np.asarray(list(dataset.fock_realspace[ifr].values()))\n",
    "#     realover = np.asarray(list(dataset.overlap_realspace[ifr].values()))\n",
    "#     realfock_cutoff = np.asarray(list(reconstructed_H[ifr].values()))\n",
    "#     realover_cutoff = np.asarray(list(reconstructed_S[ifr].values()))\n",
    "#     fig, ax = plt.subplots()\n",
    "#     ax, b = plot_bands_frame_(frame, realfock, realover, pyscf_cell, kmesh = [8,8,1], special_symm = 'hexagonal' , \n",
    "#                               kpath = kpath, ax=ax,color = cmap((ifr+1)/nmax))\n",
    "#     ax, b = plot_bands_frame_(frame, realfock_cutoff, realover_cutoff, pyscf_cell, kmesh = [8,8,1], special_symm = 'hexagonal' , \n",
    "#                               kpath = kpath, ax = ax, color = 'k', ls = ':')\n",
    "\n"
   ]
  },
  {
   "cell_type": "code",
   "execution_count": 835,
   "id": "73177d16-25a9-47ea-9e5b-f3831dd63a5f",
   "metadata": {},
   "outputs": [
    {
     "data": {
      "image/png": "[encoded data removed]",
      "text/plain": [
       "<Figure size 1920x480 with 2 Axes>"
      ]
     },
     "metadata": {},
     "output_type": "display_data"
    }
   ],
   "source": []
  }
 ],
 "metadata": {
  "kernelspec": {
   "display_name": "Python 3 (ipykernel)",
   "language": "python",
   "name": "python3"
  },
  "language_info": {
   "codemirror_mode": {
    "name": "ipython",
    "version": 3
   },
   "file_extension": ".py",
   "mimetype": "text/x-python",
   "name": "python",
   "nbconvert_exporter": "python",
   "pygments_lexer": "ipython3",
   "version": "3.11.9"
  }
 },
 "nbformat": 4,
 "nbformat_minor": 5
}
