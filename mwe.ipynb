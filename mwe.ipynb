{
 "cells": [
  {
   "cell_type": "code",
   "execution_count": null,
   "id": "1b9bfb8c-31bf-475f-bdeb-6e47679eabce",
   "metadata": {},
   "outputs": [],
   "source": [
    "import numpy as np\n",
    "import torch\n",
    "import torch.nn as nn\n",
    "from metatensor import TensorMap, Labels, TensorBlock"
   ]
  },
  {
   "cell_type": "code",
   "execution_count": null,
   "id": "ad6fe29b-79a4-4ca3-874e-677e81728601",
   "metadata": {},
   "outputs": [],
   "source": [
    "class model(nn.Module):\n",
    "    def __init__(self,\n",
    "                 features,\n",
    "                 device=None,\n",
    "                 **kwargs):\n",
    "\n",
    "        super().__init__()\n",
    "        self.features = features \n",
    "        self.device = 'cpu'\n",
    "        self.bias = False\n",
    "        self.model = nn.Sequential(\n",
    "                nn.Linear(self.features[0].values.shape[-1],100, bias=self.bias),\n",
    "                nn.Linear(100,50, bias=self.bias),\n",
    "                nn.Linear(50,100, bias=self.bias),\n",
    "                nn.Linear(100,self.features[0].values.shape[-1],bias=self.bias)\n",
    "        ).to(self.device)\n",
    "\n",
    "    def forward(self, features = None):\n",
    "        pred_blocks = []\n",
    "        if features is None:\n",
    "            features = self.features\n",
    "        keys = features.keys\n",
    "        for k, feat in features.items():\n",
    "            pred = self.model(feat.values)\n",
    "            pred_blocks.append(\n",
    "                    TensorBlock(\n",
    "                        values = pred,\n",
    "                        samples = feat.samples,\n",
    "                        components = feat.components,\n",
    "                        properties = feat.properties,\n",
    "                    )\n",
    "                )\n",
    "            pred = None\n",
    "        \n",
    "        return TensorMap(keys, pred_blocks)\n",
    "\n",
    "    def forward_nomts(self, features = None):\n",
    "        pred_blocks = []\n",
    "        if features is None:\n",
    "            features = self.features\n",
    "        keys = features.keys\n",
    "        for k, feat in features.items():\n",
    "            pred = self.model(feat.values)\n",
    "            pred_blocks.append(pred)\n",
    "        return pred_blocks"
   ]
  },
  {
   "cell_type": "code",
   "execution_count": null,
   "id": "6e33d192-0d15-4277-b8e7-62193c612ce6",
   "metadata": {},
   "outputs": [],
   "source": [
    "keys = Labels(['order_nu','inversion_sigma', 'spherical_harmonics_l', 'species_center', 'species_neighbor', 'block_type'], np.array([[0,0,0,0,0,i] for i in range(10)]))\n",
    "\n",
    "n_s = 10000\n",
    "n_p = 600\n",
    "block = [TensorBlock(values = torch.randn(n_s,1,n_p), \n",
    "                   samples= Labels(['s'], values = np.arange(37, 37 + n_s).reshape(n_s,1)),\n",
    "                   components = [Labels(['c'], values=np.array([[0]]))],\n",
    "                   properties= Labels(['p'], values = np.arange(73, 73 + n_p).reshape(n_p,1))\n",
    ") for i in range(10)]\n",
    "dfeat = TensorMap(keys, block)"
   ]
  },
  {
   "cell_type": "code",
   "execution_count": null,
   "id": "be511f17-9410-422d-8261-0eff7172abba",
   "metadata": {},
   "outputs": [],
   "source": [
    "dmodel = model(dfeat)"
   ]
  },
  {
   "cell_type": "markdown",
   "id": "84b295b1-844e-4079-b5c3-fea039416541",
   "metadata": {},
   "source": [
    "This is fine (the memory stays ~constant)"
   ]
  },
  {
   "cell_type": "code",
   "execution_count": null,
   "id": "9dc35030-ec3c-4c49-a06a-419b8a0c5265",
   "metadata": {
    "scrolled": true
   },
   "outputs": [],
   "source": [
    "for epoch in range(1000):\n",
    "    print(epoch, end = ' ')\n",
    "    dmodel.forward_nomts()"
   ]
  },
  {
   "cell_type": "markdown",
   "id": "c2c07129-9826-45cc-bf43-85b40abb7385",
   "metadata": {},
   "source": [
    "This is not fine (the memory increases at every few epochs)"
   ]
  },
  {
   "cell_type": "code",
   "execution_count": null,
   "id": "73b5bccd-35eb-4f05-ac81-d187e8705669",
   "metadata": {
    "scrolled": true
   },
   "outputs": [],
   "source": [
    "for epoch in range(1000):\n",
    "    print(epoch, end = ' ')\n",
    "    dmodel.forward()"
   ]
  }
 ],
 "metadata": {
  "kernelspec": {
   "display_name": "Python 3 (ipykernel)",
   "language": "python",
   "name": "python3"
  },
  "language_info": {
   "codemirror_mode": {
    "name": "ipython",
    "version": 3
   },
   "file_extension": ".py",
   "mimetype": "text/x-python",
   "name": "python",
   "nbconvert_exporter": "python",
   "pygments_lexer": "ipython3",
   "version": "3.11.7"
  }
 },
 "nbformat": 4,
 "nbformat_minor": 5
}
