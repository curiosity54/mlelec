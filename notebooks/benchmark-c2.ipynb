{
 "cells": [
  {
   "cell_type": "code",
   "execution_count": 1,
   "id": "a3d8f12c-62ee-4d46-b766-c3b49d817fe2",
   "metadata": {},
   "outputs": [],
   "source": [
    "%load_ext autoreload\n",
    "%autoreload 2\n",
    "# %load_ext line_profiler"
   ]
  },
  {
   "cell_type": "code",
   "execution_count": 2,
   "id": "635a399b-c69b-4438-bac6-4ba0712d0d06",
   "metadata": {},
   "outputs": [
    {
     "name": "stderr",
     "output_type": "stream",
     "text": [
      "/media/nigam/b5749eb7-d3f1-4495-adeb-2c318fb7d0de/MAC/mlelec/src/mlelec/utils/symmetry.py:233: SyntaxWarning: invalid escape sequence '\\s'\n",
      "  \"\"\"\n",
      "/media/nigam/b5749eb7-d3f1-4495-adeb-2c318fb7d0de/MAC/mlelec/src/mlelec/utils/symmetry.py:343: SyntaxWarning: invalid escape sequence '\\s'\n",
      "  \"\"\"\n",
      "/media/nigam/b5749eb7-d3f1-4495-adeb-2c318fb7d0de/MAC/mlelec/src/mlelec/utils/symmetry.py:389: SyntaxWarning: invalid escape sequence '\\s'\n",
      "  \"\"\"\n",
      "/media/nigam/b5749eb7-d3f1-4495-adeb-2c318fb7d0de/MAC/mlelec/src/mlelec/utils/symmetry.py:483: SyntaxWarning: invalid escape sequence '\\s'\n",
      "  \"\"\"\n"
     ]
    }
   ],
   "source": [
    "import pathlib\n",
    "from ase.io import read\n",
    "from ase.visualize import view\n",
    "import matplotlib.pyplot as plt\n",
    "import numpy as np \n",
    "import torch \n",
    "torch.set_default_dtype(torch.float64)\n",
    "\n",
    "import rascaline.torch\n",
    "\n",
    "import metatensor.torch as mts\n",
    "\n",
    "from metatensor.torch import Labels, TensorBlock, TensorMap\n",
    "from metatensor.learn import IndexedDataset, DataLoader\n",
    "from metatensor.learn.data import group as mts_group, group_and_join as group_and_join_mts\n",
    "\n",
    "from mlelec.data.dataset import QMDataset, split_by_Aij_mts\n",
    "from mlelec.utils.twocenter_utils import _to_coupled_basis, lowdin_orthogonalize\n",
    "from mlelec.utils.pbc_utils import matrix_to_blocks, kmatrix_to_blocks, TMap_bloch_sums, precompute_phase, kblocks_to_matrix, kmatrix_to_blocks, blocks_to_matrix, matrix_to_blocks\n",
    "from mlelec.utils.plot_utils import print_matrix, matrix_norm, block_matrix_norm, plot_block_errors\n",
    "from mlelec.features.acdc import compute_features\n",
    "from mlelec.utils.target_utils import get_targets\n",
    "from mlelec.models.linear import LinearModelPeriodic\n",
    "# from mlelec.models.linear_integrated import LinearModelPeriodic\n",
    "from mlelec.metrics import L2_loss, L2_loss_meanzero"
   ]
  },
  {
   "cell_type": "code",
   "execution_count": 3,
   "id": "c92377fc",
   "metadata": {},
   "outputs": [],
   "source": [
    "from mlelec.utils.pbc_utils import move_orbitals_to_keys"
   ]
  },
  {
   "cell_type": "code",
   "execution_count": 4,
   "id": "f0131f6a-72a2-445e-9384-0ba95406c112",
   "metadata": {},
   "outputs": [],
   "source": [
    "device = 'cpu'\n",
    "\n",
    "orbitals = {\n",
    "    'sto-3g': {\n",
    "               6: [[1,0,0],[2,0,0],[2,1,-1], [2,1,0],[2,1,1]], \n",
    "              }, \n",
    "    \n",
    "}"
   ]
  },
  {
   "cell_type": "code",
   "execution_count": 5,
   "id": "4ae8a1eb-06d7-46dc-b254-cee1aded741e",
   "metadata": {},
   "outputs": [],
   "source": [
    "def count_parameters(model):\n",
    "    return sum(p.numel() for p in model.parameters() if p.requires_grad)"
   ]
  },
  {
   "cell_type": "markdown",
   "id": "4565e211-ccbd-4c4a-bda5-a19add51680a",
   "metadata": {},
   "source": [
    "# Dataset"
   ]
  },
  {
   "cell_type": "code",
   "execution_count": 6,
   "id": "22b4f6dc-ae7c-4574-a82c-7d4b16a52d5d",
   "metadata": {},
   "outputs": [],
   "source": [
    "# workdir = './examples/data/periodic/c2-cp2k-benchmarks'\n",
    "\n",
    "workdir = f'{pathlib.Path().resolve()}/examples/data/periodic/c2-cp2k-benchmarks'\n",
    "START = 0 \n",
    "STOP = 10\n",
    "SKIP = 1\n",
    "ORBS = 'sto-3g'\n",
    "root = f'{workdir}'#/examples/data/periodic/c2/cp2k/sto-3g'\n",
    "data_dir = root\n",
    "\n",
    "frames = read(f'{data_dir}/C2_174.extxyz', slice(START, SKIP*STOP, SKIP))\n",
    "rfock = [np.load(f\"{data_dir}/C2_174_881_{i}/realfock_{i}.npy\", allow_pickle = True).item() for i in range(START, SKIP*STOP, SKIP)]\n",
    "rfock0_target = [np.load(f\"{data_dir}/baseline/C2_174_881_{i}/realfock_{i}.npy\", allow_pickle = True).item() for i in range(START, SKIP*STOP, SKIP)]\n",
    "rover = [np.load(f\"{data_dir}/C2_174_881_{i}/realoverlap_{i}.npy\", allow_pickle = True).item() for i in range(START, SKIP*STOP, SKIP)]\n",
    "# rover0 = [np.load(f\"{data_dir}/baseline/C2_174_881_{i}/realoverlap_{i}.npy\", allow_pickle = True).item() for i in range(START, STOP)]\n",
    "kmesh = [8,8,1]\n",
    "\n",
    "for f in frames:\n",
    "    f.pbc = [True,True,False]\n",
    "    f.wrap(center = (0,0,0), eps = 1e-60)\n",
    "    f.pbc = True\n",
    "\n",
    "# for K, K0 in zip(rfock, rfock0):\n",
    "#     for T in K:\n",
    "#         K[T] = K[T] - K0[T]\n",
    "rfock_diff_target = []\n",
    "for K, K0 in zip(rfock, rfock0_target):\n",
    "    rfock_diff_target.append({})\n",
    "    for T in K:\n",
    "        rfock_diff_target[-1][T] = K[T] -K0[T]\n",
    "        \n",
    "dataset = QMDataset(frames = frames, \n",
    "                               kmesh = kmesh, \n",
    "                               dimension = 2,\n",
    "                               fock_realspace = rfock, \n",
    "                               overlap_realspace = rover, \n",
    "                               device = device, \n",
    "                               orbs = orbitals[ORBS], \n",
    "                               orbs_name = 'sto-3g')"
   ]
  },
  {
   "cell_type": "code",
   "execution_count": 7,
   "id": "7829545a-3757-4695-9e3e-63d2ca576a6d",
   "metadata": {},
   "outputs": [
    {
     "name": "stderr",
     "output_type": "stream",
     "text": [
      "/media/nigam/b5749eb7-d3f1-4495-adeb-2c318fb7d0de/MAC/mlelec/src/mlelec/utils/pbc_utils.py:1582: SyntaxWarning: invalid escape sequence '\\d'\n",
      "  assert np.isclose(torch.norm(matrixT - matrixmT.T).item(), 0.0), f\"Failed to check H({T}) = H({mT})^\\dagger\"\n"
     ]
    },
    {
     "ename": "KeyboardInterrupt",
     "evalue": "",
     "output_type": "error",
     "traceback": [
      "\u001b[0;31m---------------------------------------------------------------------------\u001b[0m",
      "\u001b[0;31mKeyboardInterrupt\u001b[0m                         Traceback (most recent call last)",
      "Cell \u001b[0;32mIn[7], line 5\u001b[0m\n\u001b[1;32m      3\u001b[0m \u001b[38;5;28;01mfor\u001b[39;00m SORT_ORBS \u001b[38;5;129;01min\u001b[39;00m [\u001b[38;5;28;01mFalse\u001b[39;00m, \u001b[38;5;28;01mTrue\u001b[39;00m]:\n\u001b[1;32m      4\u001b[0m     \u001b[38;5;28;01mtry\u001b[39;00m:\n\u001b[0;32m----> 5\u001b[0m         blocks \u001b[38;5;241m=\u001b[39m \u001b[43mmatrix_to_blocks\u001b[49m\u001b[43m(\u001b[49m\u001b[43mdataset\u001b[49m\u001b[43m,\u001b[49m\u001b[43m \u001b[49m\u001b[43mcutoff\u001b[49m\u001b[43m \u001b[49m\u001b[38;5;241;43m=\u001b[39;49m\u001b[43m \u001b[49m\u001b[43mcutoff\u001b[49m\u001b[43m,\u001b[49m\u001b[43m \u001b[49m\u001b[43mall_pairs\u001b[49m\u001b[43m \u001b[49m\u001b[38;5;241;43m=\u001b[39;49m\u001b[43m \u001b[49m\u001b[43mALL_PAIRS\u001b[49m\u001b[43m,\u001b[49m\u001b[43m \u001b[49m\u001b[43msort_orbs\u001b[49m\u001b[38;5;241;43m=\u001b[39;49m\u001b[43mSORT_ORBS\u001b[49m\u001b[43m)\u001b[49m\n\u001b[1;32m      6\u001b[0m         rht \u001b[38;5;241m=\u001b[39m blocks_to_matrix(blocks, dataset, all_pairs\u001b[38;5;241m=\u001b[39mALL_PAIRS, sort_orbs\u001b[38;5;241m=\u001b[39mSORT_ORBS)        \n\u001b[1;32m      7\u001b[0m         \u001b[38;5;28;01mfor\u001b[39;00m ifr \u001b[38;5;129;01min\u001b[39;00m \u001b[38;5;28mrange\u001b[39m(\u001b[38;5;28mlen\u001b[39m(dataset\u001b[38;5;241m.\u001b[39mfock_realspace)):\n",
      "File \u001b[0;32m/media/nigam/b5749eb7-d3f1-4495-adeb-2c318fb7d0de/MAC/mlelec/src/mlelec/utils/pbc_utils.py:186\u001b[0m, in \u001b[0;36mmatrix_to_blocks\u001b[0;34m(dataset, device, all_pairs, cutoff, target, matrix, sort_orbs)\u001b[0m\n\u001b[1;32m    183\u001b[0m \u001b[38;5;28;01mfor\u001b[39;00m iorbital, (ni, li, nj, lj) \u001b[38;5;129;01min\u001b[39;00m \u001b[38;5;28menumerate\u001b[39m(n1l1n2l2):\n\u001b[1;32m    184\u001b[0m     value \u001b[38;5;241m=\u001b[39m block_split[iorbital]\n\u001b[0;32m--> 186\u001b[0m     \u001b[38;5;28;01mif\u001b[39;00m i \u001b[38;5;241m==\u001b[39m j \u001b[38;5;129;01mand\u001b[39;00m \u001b[43mnp\u001b[49m\u001b[38;5;241;43m.\u001b[39;49m\u001b[43mlinalg\u001b[49m\u001b[38;5;241;43m.\u001b[39;49m\u001b[43mnorm\u001b[49m\u001b[43m(\u001b[49m\u001b[43mT\u001b[49m\u001b[43m)\u001b[49m \u001b[38;5;241m==\u001b[39m \u001b[38;5;241m0\u001b[39m:\n\u001b[1;32m    187\u001b[0m         \u001b[38;5;28;01mif\u001b[39;00m sort_orbs:\n\u001b[1;32m    188\u001b[0m             \u001b[38;5;28;01mif\u001b[39;00m ni \u001b[38;5;241m>\u001b[39m nj \u001b[38;5;129;01mor\u001b[39;00m (ni \u001b[38;5;241m==\u001b[39m nj \u001b[38;5;129;01mand\u001b[39;00m li \u001b[38;5;241m>\u001b[39m lj):\n",
      "File \u001b[0;32m~/miniconda3/envs/py312/lib/python3.12/site-packages/numpy/linalg/linalg.py:2536\u001b[0m, in \u001b[0;36mnorm\u001b[0;34m(x, ord, axis, keepdims)\u001b[0m\n\u001b[1;32m   2385\u001b[0m \u001b[38;5;250m\u001b[39m\u001b[38;5;124;03m\"\"\"\u001b[39;00m\n\u001b[1;32m   2386\u001b[0m \u001b[38;5;124;03mMatrix or vector norm.\u001b[39;00m\n\u001b[1;32m   2387\u001b[0m \n\u001b[0;32m   (...)\u001b[0m\n\u001b[1;32m   2532\u001b[0m \n\u001b[1;32m   2533\u001b[0m \u001b[38;5;124;03m\"\"\"\u001b[39;00m\n\u001b[1;32m   2534\u001b[0m x \u001b[38;5;241m=\u001b[39m asarray(x)\n\u001b[0;32m-> 2536\u001b[0m \u001b[38;5;28;01mif\u001b[39;00m \u001b[38;5;129;01mnot\u001b[39;00m \u001b[38;5;28;43missubclass\u001b[39;49m\u001b[43m(\u001b[49m\u001b[43mx\u001b[49m\u001b[38;5;241;43m.\u001b[39;49m\u001b[43mdtype\u001b[49m\u001b[38;5;241;43m.\u001b[39;49m\u001b[43mtype\u001b[49m\u001b[43m,\u001b[49m\u001b[43m \u001b[49m\u001b[43m(\u001b[49m\u001b[43minexact\u001b[49m\u001b[43m,\u001b[49m\u001b[43m \u001b[49m\u001b[43mobject_\u001b[49m\u001b[43m)\u001b[49m\u001b[43m)\u001b[49m:\n\u001b[1;32m   2537\u001b[0m     x \u001b[38;5;241m=\u001b[39m x\u001b[38;5;241m.\u001b[39mastype(\u001b[38;5;28mfloat\u001b[39m)\n\u001b[1;32m   2539\u001b[0m \u001b[38;5;66;03m# Immediately handle some default, simple, fast, and common cases.\u001b[39;00m\n",
      "\u001b[0;31mKeyboardInterrupt\u001b[0m: "
     ]
    }
   ],
   "source": [
    "cutoff = 20\n",
    "for ALL_PAIRS in [False,True]:\n",
    "    for SORT_ORBS in [False, True]:\n",
    "        try:\n",
    "            blocks = matrix_to_blocks(dataset, cutoff = cutoff, all_pairs = ALL_PAIRS, sort_orbs=SORT_ORBS)\n",
    "            rht = blocks_to_matrix(blocks, dataset, all_pairs=ALL_PAIRS, sort_orbs=SORT_ORBS)        \n",
    "            for ifr in range(len(dataset.fock_realspace)):\n",
    "                for T in dataset.fock_realspace[ifr]:\n",
    "                    # print(np.linalg.norm(kfock[ifr][ik] -kfock[ifr][ik].conj().T))\n",
    "                    # print(np.linalg.norm(kfock[ifr][ik]-rhk[ifr][ik].numpy()))\n",
    "                    assert (np.linalg.norm(dataset.fock_realspace[ifr][T]-rht[ifr][T].numpy()))<1e-10, (ALL_PAIRS, SORT_ORBS,np.linalg.norm(dataset.fock_realspace[ifr][T]-rht[ifr][T].numpy()))\n",
    "            print(ALL_PAIRS, SORT_ORBS, 'passed')\n",
    "        except Exception as e:\n",
    "            print(e)\n",
    "            print(ALL_PAIRS, SORT_ORBS, 'failed - moving on')\n",
    "            continue"
   ]
  },
  {
   "cell_type": "code",
   "execution_count": 8,
   "id": "41017e74-17c2-4f3d-80c3-31a3a387477d",
   "metadata": {},
   "outputs": [
    {
     "name": "stdout",
     "output_type": "stream",
     "text": [
      "True True passed\n",
      "True False passed\n",
      "False True passed\n",
      "False False passed\n"
     ]
    }
   ],
   "source": [
    "for ALL_PAIRS in [True, False]:\n",
    "    for SORT_ORBS in [True, False]:\n",
    "        try:\n",
    "            kblocks = kmatrix_to_blocks(dataset, cutoff = cutoff, all_pairs = ALL_PAIRS, sort_orbs=SORT_ORBS)\n",
    "            rhk = kblocks_to_matrix(kblocks, dataset, all_pairs=ALL_PAIRS, sort_orbs=SORT_ORBS)        \n",
    "            for ifr in range(len(dataset.fock_kspace)):\n",
    "                for ik in range(len(dataset.fock_kspace[ifr])):\n",
    "                    # print(np.linalg.norm(kfock[ifr][ik] -kfock[ifr][ik].conj().T))\n",
    "                    # print(np.linalg.norm(kfock[ifr][ik]-rhk[ifr][ik].numpy()))\n",
    "                    assert (np.linalg.norm(dataset.fock_kspace[ifr][ik]-rhk[ifr][ik].numpy()))<1e-13, (ALL_PAIRS, SORT_ORBS,np.linalg.norm(dataset.fock_kspace[ifr][ik]-rhk[ifr][ik].numpy()))\n",
    "            print(ALL_PAIRS, SORT_ORBS, 'passed')\n",
    "        except Exception as e:\n",
    "            print(e)\n",
    "            print(ALL_PAIRS, SORT_ORBS, 'failed - moving on')\n",
    "            continue"
   ]
  },
  {
   "cell_type": "code",
   "execution_count": 9,
   "id": "6749e858-0dd1-4c9a-bd67-1209f9f75769",
   "metadata": {
    "scrolled": true
   },
   "outputs": [],
   "source": [
    "# blocks = matrix_to_blocks(dataset, cutoff = cutoff, all_pairs = False, sort_orbs=True)\n",
    "kblocks = kmatrix_to_blocks(dataset, cutoff = cutoff, all_pairs = False, sort_orbs=True)\n",
    "rhk = kblocks_to_matrix(kblocks, dataset, all_pairs=False, sort_orbs=True)        "
   ]
  },
  {
   "cell_type": "markdown",
   "id": "19fb1dc1",
   "metadata": {},
   "source": [
    "## Testset"
   ]
  },
  {
   "cell_type": "code",
   "execution_count": 14,
   "id": "087b8201-1535-4f07-98d1-58e41d86e305",
   "metadata": {},
   "outputs": [],
   "source": [
    "# workdir = './'\n",
    "workdir = './examples/data/periodic/c2-cp2k-benchmarks'\n",
    "START = 120\n",
    "STOP = 125\n",
    "SKIP = 1\n",
    "ORBS = 'sto-3g'\n",
    "root = f'{workdir}'#/examples/data/periodic/c2/cp2k/sto-3g'\n",
    "data_dir = root\n",
    "frames = read(f'{data_dir}/C2_174.extxyz', slice(START, SKIP*STOP, SKIP))\n",
    "rfock = [np.load(f\"{data_dir}/C2_174_881_{i}/realfock_{i}.npy\", allow_pickle = True).item() for i in range(START, SKIP*STOP, SKIP)]\n",
    "rfock0_test = [np.load(f\"{data_dir}/baseline/C2_174_881_{i}/realfock_{i}.npy\", allow_pickle = True).item() for i in range(START, SKIP*STOP, SKIP)]\n",
    "rover = [np.load(f\"{data_dir}/C2_174_881_{i}/realoverlap_{i}.npy\", allow_pickle = True).item() for i in range(START, SKIP*STOP, SKIP)]\n",
    "# rover0 = [np.load(f\"{data_dir}/baseline/C2_174_881_{i}/realoverlap_{i}.npy\", allow_pickle = True).item() for i in range(START, STOP)]\n",
    "kmesh = [8,8,1]\n",
    "\n",
    "for f in frames:\n",
    "    f.pbc = [True,True,False]\n",
    "    f.wrap(center = (0,0,0), eps = 1e-60)\n",
    "    f.pbc = True\n",
    "\n",
    "# for K, K0 in zip(rfock, rfock0):\n",
    "#     for T in K:\n",
    "#         K[T] = K[T] - K0[T]\n",
    "rfock_diff_test= []\n",
    "for K, K0 in zip(rfock, rfock0_test):\n",
    "    rfock_diff_test.append({})\n",
    "    for T in K:\n",
    "        rfock_diff_test[-1][T] = K[T] -K0[T]\n",
    "        \n",
    "\n",
    "testset = QMDataset(frames = frames, \n",
    "                               kmesh = kmesh, \n",
    "                               dimension = 2,\n",
    "                               fock_realspace = rfock, \n",
    "                               overlap_realspace = rover, \n",
    "                               device = device, \n",
    "                               orbs = orbitals[ORBS], \n",
    "                               orbs_name = 'sto-3g')"
   ]
  },
  {
   "cell_type": "markdown",
   "id": "2516070c",
   "metadata": {},
   "source": [
    "## Compute target"
   ]
  },
  {
   "cell_type": "code",
   "execution_count": 8,
   "id": "db7ec4b2-4657-4c86-bd61-da05d274cbe5",
   "metadata": {},
   "outputs": [],
   "source": [
    "cutoff = 8\n",
    "SORT_ORBS = True\n",
    "target_blocks, target_coupled_blocks = get_targets(dataset, cutoff = cutoff, device = device, all_pairs = False, sort_orbs=SORT_ORBS)\n",
    "_, overlap_coupled_blocks = get_targets(dataset, cutoff = cutoff, device = device, target = 'overlap')\n",
    "target_blocks_base, target_coupled_blocks_base = get_targets(dataset, cutoff = cutoff, device = device, all_pairs = False, sort_orbs=SORT_ORBS, matrix=rfock_diff_target)\n",
    "_, target_coupled_blocks_fock0 = get_targets(dataset, cutoff = cutoff, device = device, all_pairs = False, sort_orbs=SORT_ORBS, matrix=rfock0_target)\n",
    "# target_kspace_base = dataset.bloch_sum(blocks_to_matrix(target_coupled_blocks_base, dataset))\n",
    "# overlap_kspace = dataset.bloch_sum(blocks_to_matrix(overlap_coupled_blocks, dataset))"
   ]
  },
  {
   "cell_type": "code",
   "execution_count": 9,
   "id": "851f300c-24ca-4f36-9660-7e875c9e0040",
   "metadata": {},
   "outputs": [],
   "source": [
    "target_coupled_blocks_copy = target_coupled_blocks"
   ]
  },
  {
   "cell_type": "code",
   "execution_count": 15,
   "id": "c29c04e1-c22f-4eb9-8e59-ecfe01658f41",
   "metadata": {},
   "outputs": [],
   "source": [
    "_, test_coupled_blocks = get_targets(testset, cutoff = cutoff, device = device, all_pairs = False, sort_orbs=SORT_ORBS)\n",
    "_, overlap_coupled_blocks_test = get_targets(dataset, cutoff = cutoff, device = device, target = 'overlap')\n",
    "test_blocks_base, test_coupled_blocks_base = get_targets(testset, cutoff = cutoff, device = device, all_pairs = False, sort_orbs=SORT_ORBS, matrix=rfock_diff_test)\n",
    "_, test_coupled_blocks_fock0 = get_targets(testset, cutoff = cutoff, device = device, all_pairs = False, sort_orbs=SORT_ORBS, matrix=rfock0_test )\n",
    "# test_kspace = testset.bloch_sum(blocks_to_matrix(test_coupled_blocks, testset))\n",
    "# test_kspace_base = testset.bloch_sum(blocks_to_matrix(test_coupled_blocks_base, testset))\n",
    "# overlap_kspace_test = dataset.bloch_sum(blocks_to_matrix(overlap_coupled_blocks_test, testset))"
   ]
  },
  {
   "cell_type": "code",
   "execution_count": 10,
   "id": "cb7a1ae6-961b-4517-83f5-b90ffab74157",
   "metadata": {},
   "outputs": [],
   "source": [
    "target_kspace = dataset.bloch_sum(blocks_to_matrix(target_coupled_blocks, dataset))"
   ]
  },
  {
   "cell_type": "code",
   "execution_count": 16,
   "id": "22a78152-c817-445c-8e5e-81f8d6a768e3",
   "metadata": {},
   "outputs": [],
   "source": [
    "test_kspace = dataset.bloch_sum(blocks_to_matrix(test_coupled_blocks, testset))"
   ]
  },
  {
   "cell_type": "markdown",
   "id": "abeb3115-a7da-47ac-b9a6-7c95eadadbe6",
   "metadata": {},
   "source": [
    "# Features "
   ]
  },
  {
   "cell_type": "code",
   "execution_count": 17,
   "id": "bc694fab-5561-4db4-8509-8258a97a6594",
   "metadata": {},
   "outputs": [
    {
     "name": "stdout",
     "output_type": "stream",
     "text": [
      "cpu pair features\n",
      "cpu single center features\n",
      "cpu single center features\n"
     ]
    }
   ],
   "source": [
    "max_radial  = 6\n",
    "max_angular = 4\n",
    "atomic_gaussian_width = 0.3\n",
    "spline_basis = False\n",
    "\n",
    "hypers_pair = {'cutoff': cutoff,\n",
    "               'max_radial': max_radial,\n",
    "               'max_angular': max_angular,\n",
    "               'atomic_gaussian_width': atomic_gaussian_width,\n",
    "               'center_atom_weight': 1,\n",
    "               \"radial_basis\": {\"Gto\": {}},\n",
    "               \"cutoff_function\": {\"ShiftedCosine\": {\"width\": 0.1}}}\n",
    "\n",
    "\n",
    "hypers_atom = {'cutoff': 4,\n",
    "               'max_radial': max_radial,\n",
    "               'max_angular': max_angular,\n",
    "               'atomic_gaussian_width': atomic_gaussian_width,\n",
    "               'center_atom_weight': 1,\n",
    "               \"radial_basis\": {\"Gto\": {}},\n",
    "               \"cutoff_function\": {\"ShiftedCosine\": {\"width\": 0.1}}}\n",
    "\n",
    "\n",
    "return_rho0ij = False\n",
    "both_centers = False\n",
    "LCUT = 3\n",
    "\n",
    "hfeat = compute_features(dataset, hypers_atom, hypers_pair=hypers_pair, lcut = LCUT, all_pairs=False)"
   ]
  },
  {
   "cell_type": "code",
   "execution_count": 18,
   "id": "2ab15bd9-33cf-4869-908d-3b3a64b69c93",
   "metadata": {},
   "outputs": [
    {
     "name": "stdout",
     "output_type": "stream",
     "text": [
      "cpu pair features\n",
      "cpu single center features\n",
      "cpu single center features\n"
     ]
    }
   ],
   "source": [
    "hfeat_test = compute_features(testset, hypers_atom, hypers_pair=hypers_pair, lcut = LCUT, all_pairs=False)"
   ]
  },
  {
   "cell_type": "markdown",
   "id": "31d25541-4cdc-40b7-b5ee-ee751ca7cafd",
   "metadata": {},
   "source": [
    "# Model"
   ]
  },
  {
   "cell_type": "markdown",
   "id": "03284892-0cc3-4d26-b0a0-e72f7795274f",
   "metadata": {},
   "source": [
    "## RIDGE models "
   ]
  },
  {
   "cell_type": "code",
   "execution_count": 13,
   "id": "c48696ec-8c5b-4d09-9bc6-de07553f972b",
   "metadata": {},
   "outputs": [],
   "source": [
    "def train_ridge(model, target_blocks, set_bias=False, alphas = None, kernel_ridge = False, alpha = None):\n",
    "    block_losses = {}\n",
    "    loss = 0\n",
    "    pred, ridges = model.fit_ridge_analytical(return_matrix = False, set_bias = set_bias, kernel_ridge = kernel_ridge, alphas = alphas, alpha = alpha)\n",
    "\n",
    "    for (key, block) in pred.items():\n",
    "        block_loss=torch.norm(block.values - target_blocks[key].values)**2\n",
    "        loss += block_loss\n",
    "        \n",
    "        block_losses[tuple(key.values)] = block_loss\n",
    "\n",
    "    # print(np.sum(list(block_losses.values())))\n",
    "    return loss, pred, ridges, block_losses#, kernels "
   ]
  },
  {
   "cell_type": "markdown",
   "id": "08a27a8e-9edc-4869-9dc5-443d9e6f04d7",
   "metadata": {},
   "source": [
    "### A - direct H(T)"
   ]
  },
  {
   "cell_type": "code",
   "execution_count": 14,
   "id": "36d603e5-c7ed-4df0-95ac-105f6bdd280c",
   "metadata": {},
   "outputs": [
    {
     "name": "stdout",
     "output_type": "stream",
     "text": [
      "tensor(3.1771e-06)\n"
     ]
    }
   ],
   "source": [
    "model_ridge = LinearModelPeriodic(twocfeat = hfeat, \n",
    "                                  target_blocks = target_coupled_blocks,\n",
    "                                  frames = dataset.structures, orbitals = dataset.basis, \n",
    "                                  device = device)\n",
    "\n",
    "model_ridge = model_ridge.double()\n",
    "loss_ridge_bias, pred_ridge_bias, ridges_bias, loss_blocks = train_ridge(model_ridge, \n",
    "                                                                         target_coupled_blocks,\n",
    "                                                                         set_bias = True,\n",
    "                                                                         kernel_ridge = False,\n",
    "                                                                         # alphas = np.logspace(-10, -2, 100),\n",
    "                                                                         alphas = np.logspace(-10, 1, 100),\n",
    "                                                                         # alpha = 1e-4\n",
    "                                                                        )\n",
    "print(loss_ridge_bias)"
   ]
  },
  {
   "cell_type": "code",
   "execution_count": 15,
   "id": "f6757ae9-3f6e-4659-b375-e15b2ca31913",
   "metadata": {},
   "outputs": [
    {
     "name": "stderr",
     "output_type": "stream",
     "text": [
      "/media/nigam/b5749eb7-d3f1-4495-adeb-2c318fb7d0de/MAC/mlelec/src/mlelec/models/linear.py:782: UserWarning: Using train target_blocks, otherwise provide test target_blocks\n",
      "  warnings.warn('Using train target_blocks, otherwise provide test target_blocks')\n"
     ]
    },
    {
     "data": {
      "text/plain": [
       "tensor(0.0033)"
      ]
     },
     "execution_count": 15,
     "metadata": {},
     "output_type": "execute_result"
    }
   ],
   "source": [
    "pred_test_ridge = model_ridge.predict_ridge_analytical(ridges_bias, hfeat_test)\n",
    "L2_loss(test_coupled_blocks, pred_test_ridge)"
   ]
  },
  {
   "cell_type": "markdown",
   "id": "fd6f021a-ce96-4c46-86c4-7a0ff2c7351b",
   "metadata": {},
   "source": [
    "### B. - baselined H(T)"
   ]
  },
  {
   "cell_type": "code",
   "execution_count": 16,
   "id": "74bf370f-7ef4-4b0f-a7c3-a9d0efe8772e",
   "metadata": {},
   "outputs": [
    {
     "name": "stdout",
     "output_type": "stream",
     "text": [
      "tensor(5.2701e-09)\n"
     ]
    },
    {
     "data": {
      "text/plain": [
       "tensor(5.2701e-09)"
      ]
     },
     "execution_count": 16,
     "metadata": {},
     "output_type": "execute_result"
    }
   ],
   "source": [
    "model_ridge = LinearModelPeriodic(twocfeat = hfeat, \n",
    "                                  target_blocks = target_coupled_blocks_base,\n",
    "                                  frames = dataset.structures, orbitals = dataset.basis, \n",
    "                                  device = device)\n",
    "\n",
    "model_ridge = model_ridge.double()\n",
    "loss_ridge_bias, pred_ridge_bias, ridges_bias, loss_blocks = train_ridge(model_ridge, \n",
    "                                                                         target_coupled_blocks_base,\n",
    "                                                                         set_bias = True,\n",
    "                                                                         kernel_ridge = False,\n",
    "                                                                         # alphas = np.logspace(-10, -2, 100),\n",
    "                                                                         alphas = np.logspace(-10, 1, 100),\n",
    "                                                                         # alpha = 1e-4\n",
    "                                                                        )\n",
    "print(loss_ridge_bias)\n",
    "pred_ht = mts.add(pred_ridge_bias, target_coupled_blocks_fock0)\n",
    "L2_loss(pred_ht, target_coupled_blocks)"
   ]
  },
  {
   "cell_type": "code",
   "execution_count": 17,
   "id": "c0fbe88b-8a83-46fc-a044-de7436b73086",
   "metadata": {},
   "outputs": [
    {
     "name": "stderr",
     "output_type": "stream",
     "text": [
      "/media/nigam/b5749eb7-d3f1-4495-adeb-2c318fb7d0de/MAC/mlelec/src/mlelec/models/linear.py:782: UserWarning: Using train target_blocks, otherwise provide test target_blocks\n",
      "  warnings.warn('Using train target_blocks, otherwise provide test target_blocks')\n"
     ]
    }
   ],
   "source": [
    "pred_test_ridge = model_ridge.predict_ridge_analytical(ridges_bias, hfeat_test)\n",
    "# pred_ht = mts.add(pred_test_ridge, test_coupled_blocks_fock0)\n",
    "# L2_loss(test_coupled_blocks, pred_ht)"
   ]
  },
  {
   "cell_type": "markdown",
   "id": "8960211b-8b56-47ae-917d-a1b20f358cd5",
   "metadata": {},
   "source": [
    "### D. -  H(k)"
   ]
  },
  {
   "cell_type": "code",
   "execution_count": 48,
   "id": "b3380273",
   "metadata": {},
   "outputs": [],
   "source": [
    "from mlelec.utils.pbc_utils import precompute_phase, TMap_bloch_sums, TMap_bloch_sums_feat\n",
    "phase, indices ,_= precompute_phase(hfeat, dataset)\n",
    "hfeat_kspace = TMap_bloch_sums_feat(hfeat, phase, indices, _, return_tensormap=True)"
   ]
  },
  {
   "cell_type": "code",
   "execution_count": 49,
   "id": "e77bbae2",
   "metadata": {},
   "outputs": [],
   "source": [
    "# (target_coupled_blocks[4].values[0]*np.sqrt(2)+torch.sum(target_coupled_blocks[11].values[:38], axis=0))\n",
    "# ((hfeat[0].values[0]*np.sqrt(2)+torch.sum(hfeat[7].values[:38], axis=0)) - hfeat_kspace[0].values[0]).norm()"
   ]
  },
  {
   "cell_type": "code",
   "execution_count": 50,
   "id": "623e2bba",
   "metadata": {},
   "outputs": [],
   "source": [
    "phase, indices ,_= precompute_phase(target_coupled_blocks, dataset)\n",
    "target_coupled_blocks_k = TMap_bloch_sums(target_coupled_blocks, phase, indices, _, return_tensormap=True)"
   ]
  },
  {
   "cell_type": "code",
   "execution_count": 51,
   "id": "fb02397b",
   "metadata": {},
   "outputs": [],
   "source": [
    "kblocks = _to_coupled_basis(kmatrix_to_blocks(dataset, cutoff=cutoff),skip_symmetry = False, device = device, translations = False)"
   ]
  },
  {
   "cell_type": "code",
   "execution_count": 88,
   "id": "f627dbe1",
   "metadata": {},
   "outputs": [
    {
     "name": "stdout",
     "output_type": "stream",
     "text": [
      "tensor([-1,  6,  1,  0,  6,  2,  0,  0], dtype=torch.int32) tensor(2.3452e-15)\n",
      "tensor([-1,  6,  1,  0,  6,  2,  1,  1], dtype=torch.int32) tensor(8.6941e-15)\n",
      "tensor([-1,  6,  2,  0,  6,  2,  1,  1], dtype=torch.int32) tensor(3.5022e-09)\n",
      "tensor([-1,  6,  2,  1,  6,  2,  1,  1], dtype=torch.int32) tensor(7.3161e-14)\n",
      "tensor([1, 6, 1, 0, 6, 1, 0, 0], dtype=torch.int32) tensor(8.5487e-14)\n",
      "tensor([1, 6, 1, 0, 6, 2, 0, 0], dtype=torch.int32) tensor(2.3656e-14)\n",
      "tensor([1, 6, 1, 0, 6, 2, 1, 1], dtype=torch.int32) tensor(3.7698e-15)\n",
      "tensor([1, 6, 2, 0, 6, 2, 0, 0], dtype=torch.int32) tensor(1.6346e-09)\n",
      "tensor([1, 6, 2, 0, 6, 2, 1, 1], dtype=torch.int32) tensor(2.5883e-11)\n",
      "tensor([1, 6, 2, 1, 6, 2, 1, 0], dtype=torch.int32) tensor(1.3456e-08)\n",
      "tensor([1, 6, 2, 1, 6, 2, 1, 2], dtype=torch.int32) tensor(2.0125e-08)\n"
     ]
    }
   ],
   "source": [
    "for (k1, b1)in target_coupled_blocks_k.items():\n",
    "    b2 = kblocks.block(k1)\n",
    "    b2 = mts.sort_block(b2)\n",
    "    # b2 = _match_feature_and_target_samples(b1, b2, return_idx=True)\n",
    "    _,m1,m2 = b1.samples.intersection_and_mapping(b2.samples)\n",
    "    b2val = b2.values[m2]\n",
    "    assert torch.all(b1.samples.values[m1] == b2.samples.values[m2]), (b1.samples.values[m1], b2.samples.values[m2])\n",
    "    # print(k1.values, b1.values.shape,b2.values.shape)\n",
    "    print(k1.values, (b1.values-b2val).norm())"
   ]
  },
  {
   "cell_type": "code",
   "execution_count": 89,
   "id": "334acb16",
   "metadata": {},
   "outputs": [],
   "source": [
    "kblocks = mts.sort(kblocks)"
   ]
  },
  {
   "cell_type": "code",
   "execution_count": null,
   "id": "f8aeb0c6",
   "metadata": {},
   "outputs": [],
   "source": []
  },
  {
   "cell_type": "code",
   "execution_count": 54,
   "id": "a35053ef",
   "metadata": {},
   "outputs": [
    {
     "name": "stdout",
     "output_type": "stream",
     "text": [
      "tensor(0.0004)\n"
     ]
    }
   ],
   "source": [
    "model_ridge = LinearModelPeriodic(twocfeat = hfeat_kspace, \n",
    "                                  target_blocks = target_coupled_blocks_k,\n",
    "                                  frames = dataset.structures, orbitals = dataset.basis, \n",
    "                                  device = device)\n",
    "\n",
    "model_ridge = model_ridge.double()\n",
    "loss_ridge_bias, pred_ridge_bias, ridges_bias, loss_blocks = train_ridge(model_ridge, \n",
    "                                                                         target_coupled_blocks_k,\n",
    "                                                                         set_bias = True,\n",
    "                                                                         kernel_ridge = False,\n",
    "                                                                         alphas = np.logspace(-7, 2, 100),\n",
    "                                                                        #  alphas = np.logspace(-6, 4, 100),\n",
    "                                                                        #  alpha = 1e-4\n",
    "                                                                        )\n",
    "print(loss_ridge_bias)"
   ]
  },
  {
   "cell_type": "code",
   "execution_count": 22,
   "id": "3de8fd20",
   "metadata": {},
   "outputs": [
    {
     "data": {
      "text/plain": [
       "(1e-10, 0.0005232541480597252)"
      ]
     },
     "execution_count": 22,
     "metadata": {},
     "output_type": "execute_result"
    },
    {
     "data": {
      "image/png": "[encoded data removed]",
      "text/plain": [
       "<Figure size 1920x480 with 2 Axes>"
      ]
     },
     "metadata": {},
     "output_type": "display_data"
    }
   ],
   "source": [
    "fig, ax, ax2 = plot_block_errors(target_coupled_blocks_k, pred_ridge_bias, plot_loss=True)\n",
    "ax.set_ylim(1e-10,)\n",
    "ax2.set_ylim(1e-10,)"
   ]
  },
  {
   "cell_type": "code",
   "execution_count": 92,
   "id": "70dd814c",
   "metadata": {},
   "outputs": [
    {
     "name": "stdout",
     "output_type": "stream",
     "text": [
      "tensor(0.0004)\n"
     ]
    }
   ],
   "source": [
    "model_ridge = LinearModelPeriodic(twocfeat = hfeat_kspace, \n",
    "                                  target_blocks = kblocks,\n",
    "                                  frames = dataset.structures, orbitals = dataset.basis, \n",
    "                                  device = device)\n",
    "\n",
    "model_ridge = model_ridge.double()\n",
    "loss_ridge_bias, pred_ridge_bias, ridges_bias, loss_blocks = train_ridge(model_ridge, \n",
    "                                                                         kblocks,\n",
    "                                                                         set_bias = True,\n",
    "                                                                         kernel_ridge = False,\n",
    "                                                                         alphas = np.logspace(-7, 2, 100),\n",
    "                                                                        #  alphas = np.logspace(-6, 4, 100),\n",
    "                                                                        #  alpha = 1e-4\n",
    "                                                                        )\n",
    "print(loss_ridge_bias)"
   ]
  },
  {
   "cell_type": "markdown",
   "id": "57cfebb1-b09a-4b5c-bfeb-68005c619d90",
   "metadata": {},
   "source": [
    "### E. - baselined H(k)"
   ]
  },
  {
   "cell_type": "code",
   "execution_count": 22,
   "id": "0e606bc8-b74a-46dc-9113-251c8d7830dd",
   "metadata": {},
   "outputs": [],
   "source": [
    "phase, indices ,_= precompute_phase(target_coupled_blocks_base, dataset)\n",
    "target_coupled_blocks_base_k = TMap_bloch_sums(target_coupled_blocks_base, phase, indices, _, return_tensormap=True)"
   ]
  },
  {
   "cell_type": "code",
   "execution_count": 23,
   "id": "3e45fa48",
   "metadata": {},
   "outputs": [
    {
     "name": "stdout",
     "output_type": "stream",
     "text": [
      "tensor(7.4700e-07)\n"
     ]
    }
   ],
   "source": [
    "model_ridge = LinearModelPeriodic(twocfeat = hfeat_kspace, \n",
    "                                  target_blocks = target_coupled_blocks_base_k,\n",
    "                                  frames = dataset.structures, orbitals = dataset.basis, \n",
    "                                  device = device)\n",
    "\n",
    "model_ridge = model_ridge.double()\n",
    "loss_ridge_bias, pred_ridge_bias, ridges_bias, loss_blocks = train_ridge(model_ridge, \n",
    "                                                                         target_coupled_blocks_base_k,\n",
    "                                                                         set_bias = True,\n",
    "                                                                         kernel_ridge = False,\n",
    "                                                                         alphas = np.logspace(-7, 2, 100),\n",
    "                                                                        #  alphas = np.logspace(-6, 4, 100),\n",
    "                                                                        #  alpha = 1e-4\n",
    "                                                                        )\n",
    "print(loss_ridge_bias)"
   ]
  },
  {
   "cell_type": "markdown",
   "id": "aebb3329-15f3-4cf2-8591-4c0708f1860f",
   "metadata": {},
   "source": [
    "### G. - orthogonalize H(k) "
   ]
  },
  {
   "cell_type": "code",
   "execution_count": 105,
   "id": "44c31230",
   "metadata": {},
   "outputs": [],
   "source": [
    "ortho_target_kspace =[]# torch.stack([lowdin_orthogonalize(h, s) for h, s in zip(ttarget_kspace, overlap_kspace)])\n",
    "for ifr in range(len(target_kspace)):\n",
    "    ot = torch.stack([lowdin_orthogonalize(h, s) for h, s in zip(target_kspace[ifr], overlap_kspace[ifr])])\n",
    "    ortho_target_kspace.append(ot)"
   ]
  },
  {
   "cell_type": "code",
   "execution_count": 106,
   "id": "9c8dde27",
   "metadata": {},
   "outputs": [],
   "source": [
    "e_ortho=[]\n",
    "for ifr in range(len(ortho_target_kspace)):\n",
    "   eifr=[]\n",
    "   for k in range(len(ortho_target_kspace[ifr])):\n",
    "      eifr.append(torch.linalg.eigvalsh(ortho_target_kspace[ifr][k]))\n",
    "   e_ortho.append(torch.stack(eifr))"
   ]
  },
  {
   "cell_type": "code",
   "execution_count": 107,
   "id": "aaa5201e",
   "metadata": {},
   "outputs": [],
   "source": [
    "import scipy\n",
    "e_nonorth=[]\n",
    "for ifr in range(len(target_kspace)):\n",
    "   eifr=[]\n",
    "   for k in range(len(target_kspace[ifr])):\n",
    "      eifr.append(torch.tensor(scipy.linalg.eigvalsh(target_kspace[ifr][k], overlap_kspace[ifr][k])))\n",
    "   e_nonorth.append(torch.stack(eifr))"
   ]
  },
  {
   "cell_type": "code",
   "execution_count": 108,
   "id": "199504d6",
   "metadata": {},
   "outputs": [
    {
     "name": "stdout",
     "output_type": "stream",
     "text": [
      "0 tensor(1.3181e-13)\n",
      "1 tensor(1.3615e-13)\n",
      "2 tensor(1.4274e-13)\n",
      "3 tensor(1.1559e-13)\n",
      "4 tensor(1.1993e-13)\n"
     ]
    }
   ],
   "source": [
    "for ifr in range(len(dataset)):\n",
    "    print(ifr, torch.norm(e_ortho[ifr]-e_nonorth[ifr]))"
   ]
  },
  {
   "cell_type": "code",
   "execution_count": 62,
   "id": "763e8e05",
   "metadata": {},
   "outputs": [],
   "source": [
    "# plt.plot(torch.cat(e_ortho).numpy(), torch.cat(e_nonorth).numpy(), 'o')"
   ]
  },
  {
   "cell_type": "code",
   "execution_count": 109,
   "id": "84cd31f6",
   "metadata": {},
   "outputs": [],
   "source": [
    "oblocks = _to_coupled_basis(kmatrix_to_blocks(dataset, cutoff=cutoff, matrix = ortho_target_kspace),skip_symmetry = False, device = device, translations = False)\n",
    "oblocks = mts.sort(oblocks)"
   ]
  },
  {
   "cell_type": "code",
   "execution_count": 114,
   "id": "ebffeb2a",
   "metadata": {},
   "outputs": [
    {
     "name": "stdout",
     "output_type": "stream",
     "text": [
      "tensor(10058.2337)\n"
     ]
    }
   ],
   "source": [
    "model_ridge = LinearModelPeriodic(twocfeat = hfeat_kspace, \n",
    "                                  target_blocks = oblocks,\n",
    "                                  frames = dataset.structures, orbitals = dataset.basis, \n",
    "                                  device = device)\n",
    "\n",
    "model_ridge = model_ridge.double()\n",
    "loss_ridge_bias, pred_ridge_bias, ridges_bias, loss_blocks = train_ridge(model_ridge, \n",
    "                                                                         oblocks,\n",
    "                                                                         set_bias = True,\n",
    "                                                                         kernel_ridge = False,\n",
    "                                                                         alphas = np.logspace(-20,4, 100),\n",
    "                                                                        #  alphas = np.logspace(-6, 4, 100),\n",
    "                                                                        #  alpha = 1e-4\n",
    "                                                                        )\n",
    "print(loss_ridge_bias)"
   ]
  },
  {
   "cell_type": "code",
   "execution_count": 115,
   "id": "d931d416",
   "metadata": {},
   "outputs": [
    {
     "data": {
      "text/plain": [
       "(1e-10, 5432.72529376023)"
      ]
     },
     "execution_count": 115,
     "metadata": {},
     "output_type": "execute_result"
    },
    {
     "data": {
      "image/png": "[encoded data removed]",
      "text/plain": [
       "<Figure size 1920x480 with 2 Axes>"
      ]
     },
     "metadata": {},
     "output_type": "display_data"
    }
   ],
   "source": [
    "fig, ax, ax2 = plot_block_errors(oblocks, pred_ridge_bias, plot_loss=True)\n",
    "ax.set_ylim(1e-10,)\n",
    "ax2.set_ylim(1e-10,)"
   ]
  },
  {
   "cell_type": "markdown",
   "id": "f461c162",
   "metadata": {},
   "source": [
    "### H. - orthogonalize baseline"
   ]
  },
  {
   "cell_type": "code",
   "execution_count": 100,
   "id": "fc9afb56",
   "metadata": {},
   "outputs": [],
   "source": [
    "ortho_target_kspace_base =[]# torch.stack([lowdin_orthogonalize(h, s) for h, s in zip(ttarget_kspace, overlap_kspace)])\n",
    "for ifr in range(len(target_kspace)):\n",
    "    ot = torch.stack([lowdin_orthogonalize(h, s) for h, s in zip(target_kspace_base[ifr], overlap_kspace[ifr])])\n",
    "    ortho_target_kspace_base.append(ot)"
   ]
  },
  {
   "cell_type": "code",
   "execution_count": 101,
   "id": "fa0b6453",
   "metadata": {},
   "outputs": [],
   "source": [
    "oblocks_base = _to_coupled_basis(kmatrix_to_blocks(dataset, cutoff=cutoff, matrix = ortho_target_kspace_base),skip_symmetry = False, device = device, translations = False)\n",
    "oblocks_base = mts.sort(oblocks_base)"
   ]
  },
  {
   "cell_type": "code",
   "execution_count": 104,
   "id": "cc3213a6",
   "metadata": {},
   "outputs": [
    {
     "name": "stdout",
     "output_type": "stream",
     "text": [
      "tensor(0.6547)\n"
     ]
    }
   ],
   "source": [
    "model_ridge = LinearModelPeriodic(twocfeat = hfeat_kspace, \n",
    "                                  target_blocks = oblocks_base,\n",
    "                                  frames = dataset.structures, orbitals = dataset.basis, \n",
    "                                  device = device)\n",
    "\n",
    "model_ridge = model_ridge.double()\n",
    "loss_ridge_bias, pred_ridge_bias, ridges_bias, loss_blocks = train_ridge(model_ridge, \n",
    "                                                                         oblocks_base,\n",
    "                                                                         set_bias = True,\n",
    "                                                                         kernel_ridge = False,\n",
    "                                                                         alphas = np.logspace(-7,2, 100),\n",
    "                                                                        #  alphas = np.logspace(-6, 4, 100),\n",
    "                                                                        #  alpha = 1e-4\n",
    "                                                                        )\n",
    "print(loss_ridge_bias)"
   ]
  },
  {
   "cell_type": "markdown",
   "id": "a4a4852d-758c-4755-8d47-959cd1b0fd51",
   "metadata": {},
   "source": [
    "## Torch"
   ]
  },
  {
   "cell_type": "code",
   "execution_count": 19,
   "id": "7f969926-8ef2-4f10-b3a6-646b71900985",
   "metadata": {},
   "outputs": [],
   "source": [
    "from mlelec.utils.pbc_utils import TMap_bloch_sums, precompute_phase\n",
    "from copy import deepcopy"
   ]
  },
  {
   "cell_type": "code",
   "execution_count": 20,
   "id": "4986bee1",
   "metadata": {},
   "outputs": [],
   "source": [
    "target_keynames = target_coupled_blocks.keys.names\n",
    "keys = []\n",
    "blocks= []\n",
    "for k,b in target_coupled_blocks.items(): \n",
    "    li, lj, L = k['l_i'], k['l_j'], k['L']\n",
    "    inversion_sigma = (-1) ** (li + lj + L)\n",
    "    keys.append(torch.cat((k.values, torch.tensor([inversion_sigma]))))\n",
    "    blocks.append(b.copy())\n",
    "target_coupled_blocks = TensorMap( Labels(k.names+['inversion_sigma'], torch.stack(keys)), blocks)\n",
    "                 \n",
    "target_coupled_blocks_copy = target_coupled_blocks.copy()\n",
    "target_coupled_blocks = target_coupled_blocks.keys_to_properties(['n_i', 'l_i',  'n_j','l_j'])"
   ]
  },
  {
   "cell_type": "code",
   "execution_count": 21,
   "id": "09059764-c854-464d-b4fd-deb30a50b965",
   "metadata": {},
   "outputs": [],
   "source": [
    "target_keynames = test_coupled_blocks.keys.names\n",
    "keys = []\n",
    "blocks= []\n",
    "for k,b in test_coupled_blocks.items(): \n",
    "    li,lj, L = k['l_i'], k['l_j'], k['L']\n",
    "    inversion_sigma = (-1) ** (li + lj + L)\n",
    "    keys.append(torch.cat((k.values, torch.tensor([inversion_sigma]))))\n",
    "    blocks.append(b.copy())\n",
    "test_coupled_blocks = TensorMap( Labels(k.names+['inversion_sigma'], torch.stack(keys)), blocks)\n",
    "                 \n",
    "test_coupled_blocks_copy = test_coupled_blocks.copy()\n",
    "test_coupled_blocks = test_coupled_blocks.keys_to_properties(['n_i', 'l_i',  'n_j','l_j'])"
   ]
  },
  {
   "cell_type": "code",
   "execution_count": 22,
   "id": "2dd5ab45-b27e-407b-bc95-0a25dcd343b4",
   "metadata": {},
   "outputs": [],
   "source": [
    "phase, _,_ = precompute_phase(target_coupled_blocks, dataset)\n",
    "target_k = TMap_bloch_sums(target_coupled_blocks, phase)\n",
    "\n",
    "test_phase, _,_ = precompute_phase(test_coupled_blocks, testset)\n",
    "test_k = TMap_bloch_sums(test_coupled_blocks, test_phase)"
   ]
  },
  {
   "cell_type": "markdown",
   "id": "9db8ebcd-199f-4a66-9aec-1f9566a3bbb6",
   "metadata": {},
   "source": [
    "## New model"
   ]
  },
  {
   "cell_type": "code",
   "execution_count": 75,
   "id": "4ce1595f",
   "metadata": {},
   "outputs": [],
   "source": [
    "from mlelec.models.linear_integrated import LinearModelPeriodic"
   ]
  },
  {
   "cell_type": "code",
   "execution_count": 112,
   "id": "b49e217b",
   "metadata": {},
   "outputs": [],
   "source": [
    "model = LinearModelPeriodic(twocfeat = hfeat,\n",
    "                            target_blocks = target_coupled_blocks,\n",
    "                            frames = dataset.structures, orbitals = dataset.basis, \n",
    "                            device = device,\n",
    "                            bias = True, #True\n",
    "                            nhidden = 16, \n",
    "                            nlayers = 1,\n",
    "                            activation = 'SiLU',\n",
    "                            apply_norm = True\n",
    "                           )"
   ]
  },
  {
   "cell_type": "code",
   "execution_count": 113,
   "id": "d75c367f",
   "metadata": {},
   "outputs": [
    {
     "data": {
      "text/plain": [
       "LinearModelPeriodic(\n",
       "  (model): ModuleDict(\n",
       "    ((-1, 6, 6, 0, 1)): MLP(\n",
       "      (mlp): Sequential(\n",
       "        (0): Linear(in_features=180, out_features=16, bias=True)\n",
       "        (1): EquivariantNonLinearity(\n",
       "          (nonlinearity): SiLU()\n",
       "          (nn): Sequential(\n",
       "            (0): SiLU()\n",
       "            (1): LayerNorm((16,), eps=1e-05, elementwise_affine=True)\n",
       "          )\n",
       "        )\n",
       "        (2): Linear(in_features=16, out_features=1, bias=True)\n",
       "      )\n",
       "    )\n",
       "    ((-1, 6, 6, 1, 1)): MLP(\n",
       "      (mlp): Sequential(\n",
       "        (0): Linear(in_features=288, out_features=16, bias=False)\n",
       "        (1): EquivariantNonLinearity(\n",
       "          (nonlinearity): SiLU()\n",
       "          (nn): Sequential(\n",
       "            (0): SiLU()\n",
       "            (1): LayerNorm((16,), eps=1e-05, elementwise_affine=True)\n",
       "          )\n",
       "        )\n",
       "        (2): Linear(in_features=16, out_features=2, bias=False)\n",
       "      )\n",
       "    )\n",
       "    ((-1, 6, 6, 1, -1)): MLP(\n",
       "      (mlp): Sequential(\n",
       "        (0): Linear(in_features=144, out_features=16, bias=False)\n",
       "        (1): EquivariantNonLinearity(\n",
       "          (nonlinearity): SiLU()\n",
       "          (nn): Sequential(\n",
       "            (0): SiLU()\n",
       "            (1): LayerNorm((16,), eps=1e-05, elementwise_affine=True)\n",
       "          )\n",
       "        )\n",
       "        (2): Linear(in_features=16, out_features=1, bias=False)\n",
       "      )\n",
       "    )\n",
       "    ((0, 6, 6, 0, 1)): MLP(\n",
       "      (mlp): Sequential(\n",
       "        (0): Linear(in_features=180, out_features=16, bias=True)\n",
       "        (1): EquivariantNonLinearity(\n",
       "          (nonlinearity): SiLU()\n",
       "          (nn): Sequential(\n",
       "            (0): SiLU()\n",
       "            (1): LayerNorm((16,), eps=1e-05, elementwise_affine=True)\n",
       "          )\n",
       "        )\n",
       "        (2): Linear(in_features=16, out_features=4, bias=True)\n",
       "      )\n",
       "    )\n",
       "    ((0, 6, 6, 1, 1)): MLP(\n",
       "      (mlp): Sequential(\n",
       "        (0): Linear(in_features=288, out_features=16, bias=False)\n",
       "        (1): EquivariantNonLinearity(\n",
       "          (nonlinearity): SiLU()\n",
       "          (nn): Sequential(\n",
       "            (0): SiLU()\n",
       "            (1): LayerNorm((16,), eps=1e-05, elementwise_affine=True)\n",
       "          )\n",
       "        )\n",
       "        (2): Linear(in_features=16, out_features=2, bias=False)\n",
       "      )\n",
       "    )\n",
       "    ((0, 6, 6, 2, 1)): MLP(\n",
       "      (mlp): Sequential(\n",
       "        (0): Linear(in_features=360, out_features=16, bias=False)\n",
       "        (1): EquivariantNonLinearity(\n",
       "          (nonlinearity): SiLU()\n",
       "          (nn): Sequential(\n",
       "            (0): SiLU()\n",
       "            (1): LayerNorm((16,), eps=1e-05, elementwise_affine=True)\n",
       "          )\n",
       "        )\n",
       "        (2): Linear(in_features=16, out_features=1, bias=False)\n",
       "      )\n",
       "    )\n",
       "    ((1, 6, 6, 0, 1)): MLP(\n",
       "      (mlp): Sequential(\n",
       "        (0): Linear(in_features=180, out_features=16, bias=True)\n",
       "        (1): EquivariantNonLinearity(\n",
       "          (nonlinearity): SiLU()\n",
       "          (nn): Sequential(\n",
       "            (0): SiLU()\n",
       "            (1): LayerNorm((16,), eps=1e-05, elementwise_affine=True)\n",
       "          )\n",
       "        )\n",
       "        (2): Linear(in_features=16, out_features=4, bias=True)\n",
       "      )\n",
       "    )\n",
       "    ((1, 6, 6, 1, 1)): MLP(\n",
       "      (mlp): Sequential(\n",
       "        (0): Linear(in_features=288, out_features=16, bias=False)\n",
       "        (1): EquivariantNonLinearity(\n",
       "          (nonlinearity): SiLU()\n",
       "          (nn): Sequential(\n",
       "            (0): SiLU()\n",
       "            (1): LayerNorm((16,), eps=1e-05, elementwise_affine=True)\n",
       "          )\n",
       "        )\n",
       "        (2): Linear(in_features=16, out_features=2, bias=False)\n",
       "      )\n",
       "    )\n",
       "    ((1, 6, 6, 2, 1)): MLP(\n",
       "      (mlp): Sequential(\n",
       "        (0): Linear(in_features=360, out_features=16, bias=False)\n",
       "        (1): EquivariantNonLinearity(\n",
       "          (nonlinearity): SiLU()\n",
       "          (nn): Sequential(\n",
       "            (0): SiLU()\n",
       "            (1): LayerNorm((16,), eps=1e-05, elementwise_affine=True)\n",
       "          )\n",
       "        )\n",
       "        (2): Linear(in_features=16, out_features=1, bias=False)\n",
       "      )\n",
       "    )\n",
       "  )\n",
       ")"
      ]
     },
     "execution_count": 113,
     "metadata": {},
     "output_type": "execute_result"
    }
   ],
   "source": [
    "model"
   ]
  },
  {
   "cell_type": "code",
   "execution_count": 114,
   "id": "18835986-49e0-44c2-b879-1d10b87e135d",
   "metadata": {},
   "outputs": [],
   "source": [
    "optim = torch.optim.Adam(model.parameters(), lr = 1e-3)\n",
    "eval_every = 100"
   ]
  },
  {
   "cell_type": "code",
   "execution_count": 115,
   "id": "c993a475",
   "metadata": {
    "scrolled": true
   },
   "outputs": [
    {
     "name": "stdout",
     "output_type": "stream",
     "text": [
      "0 2314.353142027465 1115.8707182933251\n",
      "100 11.292062624215566 23.20836231758084\n",
      "200 0.5996083439256 6.4302981942964\n",
      "300 0.21872087792438896 5.516882777522887\n",
      "400 0.12388290265773437 5.113361508765076\n",
      "500 0.07493049960091618 5.016468171933956\n",
      "600 0.09138452219456163 4.829563570731197\n",
      "700 0.032826671823172636 4.070769058571038\n",
      "800 0.02325757959128011 3.9787593952240856\n",
      "900 0.018163138174466888 3.596152579775004\n",
      "1000 0.5610039850208536 3.3762899122252197\n"
     ]
    }
   ],
   "source": [
    "losses = []\n",
    "test_losses = []\n",
    "BEST = 1e13\n",
    "for epoch in range(1001):\n",
    "    \n",
    "    optim.zero_grad()\n",
    "    \n",
    "    pred = model()\n",
    "    # predk = TMap_bloch_sums(pred, phase)\n",
    "    \n",
    "    loss = L2_loss(target_coupled_blocks, pred)\n",
    "    # loss = L2_loss(target_k, predk)\n",
    "    \n",
    "    loss.backward()\n",
    "    losses.append(loss.item())\n",
    "    \n",
    "    optim.step()    \n",
    "\n",
    "    if epoch%eval_every ==0:\n",
    "        model.train= False\n",
    "        test_pred = model.predict(hfeat_test, test_coupled_blocks)\n",
    "        test_loss = L2_loss(test_pred, test_coupled_blocks)\n",
    "        test_losses.append(test_loss.item())\n",
    "        # print(epoch, test_loss.item())\n",
    "        \n",
    "        if test_loss<BEST:\n",
    "            # print('new_best')\n",
    "            BEST = test_loss\n",
    "            checkpoint = {'model_statedict':model.state_dict, \n",
    "                          'optimizer_statedict':optim.state_dict,\n",
    "                          'train loss':loss,\n",
    "                          'test_loss': test_loss,\n",
    "                          'pred': model()\n",
    "                         }\n",
    "            # torch.save(checkpoint, 'checkpoint_2.pt')\n",
    "        model.train = True\n",
    "    # if epoch%100 == 0 :\n",
    "        print(epoch, loss.item(), test_loss.item()) #, L2_loss(target_coupled_blocks, pred).item())\n",
    "        "
   ]
  },
  {
   "cell_type": "code",
   "execution_count": 116,
   "id": "e3ebc50a",
   "metadata": {},
   "outputs": [
    {
     "data": {
      "text/plain": [
       "[<matplotlib.lines.Line2D at 0x7f5498e92ba0>]"
      ]
     },
     "execution_count": 116,
     "metadata": {},
     "output_type": "execute_result"
    },
    {
     "data": {
      "image/png": "[encoded data removed]",
      "text/plain": [
       "<Figure size 640x480 with 1 Axes>"
      ]
     },
     "metadata": {},
     "output_type": "display_data"
    }
   ],
   "source": [
    "plt.loglog(test_losses)"
   ]
  },
  {
   "cell_type": "code",
   "execution_count": 117,
   "id": "77b7e7db",
   "metadata": {},
   "outputs": [
    {
     "data": {
      "text/plain": [
       "<matplotlib.legend.Legend at 0x7f5499555550>"
      ]
     },
     "execution_count": 117,
     "metadata": {},
     "output_type": "execute_result"
    },
    {
     "data": {
      "image/png": "[encoded data removed]",
      "text/plain": [
       "<Figure size 640x480 with 1 Axes>"
      ]
     },
     "metadata": {},
     "output_type": "display_data"
    }
   ],
   "source": [
    "plt.plot(losses, label = 'LayerNorm 1 layer')\n",
    "# plt.plot(losses_norm_2e3layer, label = 'e3_2')\n",
    "# plt.plot(losses_norm_e3layer, label = 'e3_1')\n",
    "plt.plot(losses_norm_1layer, label = 'LayerNorm 1 layer')\n",
    "# plt.plot(losses_norm_2layer, label = 'LayerNorm 2 layer')\n",
    "plt.xscale('log')\n",
    "plt.yscale('log')\n",
    "plt.legend()"
   ]
  },
  {
   "cell_type": "code",
   "execution_count": 74,
   "id": "e557d476",
   "metadata": {},
   "outputs": [],
   "source": [
    "losses_norm_2e3layer = deepcopy(losses)\n",
    "model_norm_2e3layer = deepcopy(model)\n",
    "\n",
    "# losses_norm_e3layer = deepcopy(losses)\n",
    "# model_norm_e3layer = deepcopy(model)\n",
    "\n",
    "# losses_norm_2layer = deepcopy(losses)\n",
    "# model_norm_2layer = deepcopy(model)\n",
    "\n",
    "# losses_norm_1layer = deepcopy(losses)\n",
    "# model_norm_1layer = deepcopy(model)"
   ]
  },
  {
   "cell_type": "code",
   "execution_count": 129,
   "id": "59e22400-bdec-4254-a641-a78ea533cdf2",
   "metadata": {},
   "outputs": [
    {
     "data": {
      "text/plain": [
       "<matplotlib.legend.Legend at 0x7d45dfffea10>"
      ]
     },
     "execution_count": 129,
     "metadata": {},
     "output_type": "execute_result"
    },
    {
     "data": {
      "image/png": "[encoded data removed]",
      "text/plain": [
       "<Figure size 640x480 with 1 Axes>"
      ]
     },
     "metadata": {},
     "output_type": "display_data"
    }
   ],
   "source": [
    "# plt.plot(losses)\n",
    "x = np.array(losses)[100:]\n",
    "plt.loglog(x/x[0], label = 'new r')\n",
    "x = np.array(losses_k)[100:]\n",
    "plt.loglog(x/x[0], label = 'new k')\n",
    "x = np.array(usual_losses)[100:]\n",
    "plt.loglog(x/x[0], label = 'old r')\n",
    "x = np.array(usual_losses_k)[100:]\n",
    "plt.loglog(x/x[0], label = 'old k')\n",
    "\n",
    "plt.legend()"
   ]
  },
  {
   "cell_type": "code",
   "execution_count": 131,
   "id": "a807055b-666d-42d8-8329-029bbfb4730e",
   "metadata": {},
   "outputs": [
    {
     "data": {
      "text/plain": [
       "<matplotlib.legend.Legend at 0x7d45df514dd0>"
      ]
     },
     "execution_count": 131,
     "metadata": {},
     "output_type": "execute_result"
    },
    {
     "data": {
      "image/png": "[encoded data removed]",
      "text/plain": [
       "<Figure size 640x480 with 1 Axes>"
      ]
     },
     "metadata": {},
     "output_type": "display_data"
    }
   ],
   "source": [
    "x = np.array(losses)[100:]\n",
    "plt.loglog(x, label = 'new r')\n",
    "x = np.array(usual_losses)[100:]\n",
    "plt.loglog(x, label = 'old r')\n",
    "plt.legend()"
   ]
  },
  {
   "cell_type": "code",
   "execution_count": 130,
   "id": "678375cc-5543-45c7-bed8-0479de770301",
   "metadata": {},
   "outputs": [
    {
     "data": {
      "text/plain": [
       "<matplotlib.legend.Legend at 0x7d45df626a10>"
      ]
     },
     "execution_count": 130,
     "metadata": {},
     "output_type": "execute_result"
    },
    {
     "data": {
      "image/png": "[encoded data removed]",
      "text/plain": [
       "<Figure size 640x480 with 1 Axes>"
      ]
     },
     "metadata": {},
     "output_type": "display_data"
    }
   ],
   "source": [
    "x = np.array(losses_k)[100:]\n",
    "plt.loglog(x, label = 'new k')\n",
    "x = np.array(usual_losses_k)[100:]\n",
    "plt.loglog(x, label = 'old k')\n",
    "plt.legend()\n"
   ]
  },
  {
   "cell_type": "code",
   "execution_count": null,
   "id": "cd7a1f81-f37a-4604-a889-513e8bd551cc",
   "metadata": {},
   "outputs": [],
   "source": []
  },
  {
   "cell_type": "code",
   "execution_count": 477,
   "id": "27b64b91-d322-4d42-bb4c-71f0ead29fce",
   "metadata": {},
   "outputs": [],
   "source": [
    "predintk = move_orbitals_to_keys(predk, target_coupled_blocks_copy[0].properties)\n",
    "predintk = mts.remove_dimension(predintk, axis='keys', name = 'inversion_sigma')\n",
    "predintk = mts.permute_dimensions(predintk, axis='keys', dimensions_indexes = [0,1,4,5,2,6,7,3])\n",
    "predintk = _to_uncoupled_basis(predintk)\n",
    "newb=[]\n",
    "for k,b in predintk.items():\n",
    "    newb.append(\n",
    "        TensorBlock(\n",
    "            samples = b.samples,\n",
    "            components = b.components,\n",
    "            properties = b.properties,\n",
    "            values = b.values.detach()\n",
    "        )\n",
    "    )\n",
    "predintk = TensorMap(predintk.keys, newb)\n",
    "predintk = mts.sort(predintk)"
   ]
  },
  {
   "cell_type": "code",
   "execution_count": 478,
   "id": "5b3a7267-04bd-45ea-8506-250737941c64",
   "metadata": {},
   "outputs": [],
   "source": [
    "recon_Hk_from_ktarg = kblocks_to_matrix(predintk, dataset, detach = True)"
   ]
  },
  {
   "cell_type": "markdown",
   "id": "2dbb2c9d-6a27-4bfd-8c35-0a91c560a35a",
   "metadata": {},
   "source": [
    "Target matrices with cutoff"
   ]
  },
  {
   "cell_type": "code",
   "execution_count": 479,
   "id": "86018570-ef0e-4b7f-8c02-9b91585c5cb4",
   "metadata": {},
   "outputs": [],
   "source": [
    "cutoff_HT = blocks_to_matrix(target_coupled_blocks_copy_nosigma, dataset, detach=True)\n",
    "cutoff_Hk = dataset.bloch_sum(cutoff_HT)"
   ]
  },
  {
   "cell_type": "markdown",
   "id": "687057b0-a55a-404a-ac63-872445566613",
   "metadata": {},
   "source": [
    "MSE on H(T)"
   ]
  },
  {
   "cell_type": "code",
   "execution_count": 480,
   "id": "54be4d33-733b-41d3-a36e-a3b294fd5961",
   "metadata": {},
   "outputs": [
    {
     "name": "stdout",
     "output_type": "stream",
     "text": [
      "tensor(0.2908)\n"
     ]
    }
   ],
   "source": [
    "tot_mse = 0\n",
    "for ifr in range(len(recon_HT)):\n",
    "    for T in recon_HT[ifr]:\n",
    "        # print(torch.norm(recon_HT[ifr][T] - cutoff_HT[ifr][T]))\n",
    "        tot_mse += torch.norm(recon_HT[ifr][T] - cutoff_HT[ifr][T])**2\n",
    "print(tot_mse)"
   ]
  },
  {
   "cell_type": "markdown",
   "id": "d61c8e08-0f0c-4fd4-8a18-7a7dfe5d91d7",
   "metadata": {},
   "source": [
    "MSE on H(k) computed from H(T)"
   ]
  },
  {
   "cell_type": "code",
   "execution_count": 481,
   "id": "a738c62f-3a69-4e48-aa5f-473c4ceef30d",
   "metadata": {},
   "outputs": [
    {
     "name": "stdout",
     "output_type": "stream",
     "text": [
      "tensor(0.2908)\n"
     ]
    }
   ],
   "source": [
    "tot_mse = 0\n",
    "for ifr in range(len(recon_Hk)):\n",
    "    for ik in range(len(recon_Hk[ifr])):\n",
    "        # print(torch.norm(recon_Hk[ifr][ik] - cutoff_Hk[ifr][ik]))\n",
    "        tot_mse += torch.norm(recon_Hk[ifr][ik] - cutoff_Hk[ifr][ik])**2\n",
    "print(tot_mse/64)"
   ]
  },
  {
   "cell_type": "markdown",
   "id": "a25d86aa-3e66-4c46-82b6-43ef0990919c",
   "metadata": {},
   "source": [
    "MSE on H(k) computed from kspace blocks"
   ]
  },
  {
   "cell_type": "code",
   "execution_count": 482,
   "id": "415b474e-2820-4f0c-bab6-f221d20e1d1c",
   "metadata": {},
   "outputs": [
    {
     "name": "stdout",
     "output_type": "stream",
     "text": [
      "tensor(1.4198)\n"
     ]
    }
   ],
   "source": [
    "tot_mse = 0\n",
    "for ifr in range(len(recon_Hk_from_ktarg)):\n",
    "    for ik in range(len(recon_Hk_from_ktarg[ifr])):\n",
    "        # print(torch.norm(recon_Hk[ifr][ik] - cutoff_Hk[ifr][ik]))\n",
    "        tot_mse += torch.norm(recon_Hk_from_ktarg[ifr][ik] - cutoff_Hk[ifr][ik])**2\n",
    "print(tot_mse/64)"
   ]
  },
  {
   "cell_type": "code",
   "execution_count": 485,
   "id": "df03605e-12b8-4308-be14-37c6d85f57eb",
   "metadata": {},
   "outputs": [],
   "source": [
    "kblocks = kmatrix_to_blocks(dataset, cutoff = cutoff)\n",
    "kblocks = mts.sort(kblocks)"
   ]
  },
  {
   "cell_type": "code",
   "execution_count": 521,
   "id": "ba33f843-2782-4ce6-994c-ca5c33507cd8",
   "metadata": {},
   "outputs": [],
   "source": [
    "phase, _, _ = precompute_phase(target_coupled_blocks_copy_nosigma, dataset)\n",
    "kblocks = TMap_bloch_sums(target_coupled_blocks_copy_nosigma, phase)\n",
    "kblocks = mts.sort(kblocks)\n",
    "kblocks = _to_uncoupled_basis(kblocks)"
   ]
  },
  {
   "cell_type": "code",
   "execution_count": 522,
   "id": "113d4d39-286a-497a-a8fe-81eb795f9b32",
   "metadata": {},
   "outputs": [],
   "source": [
    "rHk = kblocks_to_matrix(kblocks, dataset)"
   ]
  },
  {
   "cell_type": "code",
   "execution_count": 523,
   "id": "758372d6-872d-4586-97e1-8859c27561f0",
   "metadata": {},
   "outputs": [
    {
     "name": "stdout",
     "output_type": "stream",
     "text": [
      "tensor(7.0550)\n",
      "tensor(6.4099)\n"
     ]
    }
   ],
   "source": [
    "for h1, h2 in zip(rHk, cutoff_Hk):\n",
    "    print(torch.norm(h1-h2))"
   ]
  },
  {
   "cell_type": "markdown",
   "id": "e0368681-2dbd-4a61-9e8d-a5324c111ae2",
   "metadata": {},
   "source": [
    "## Usual model"
   ]
  },
  {
   "cell_type": "code",
   "execution_count": 84,
   "id": "f74e22da-23de-44be-ba47-085f9a046eb0",
   "metadata": {},
   "outputs": [],
   "source": [
    "from mlelec.models.linear import LinearModelPeriodic"
   ]
  },
  {
   "cell_type": "code",
   "execution_count": 120,
   "id": "c4ea8d10-ba49-4bbb-917f-24c60ead069e",
   "metadata": {},
   "outputs": [],
   "source": [
    "model_ = LinearModelPeriodic(twocfeat = hfeat,\n",
    "                                  target_blocks = target_coupled_blocks_copy,\n",
    "                                  frames = dataset.structures, orbitals = dataset.basis, \n",
    "                            device = device,\n",
    "                            bias = True,\n",
    "                            nhidden = 9, \n",
    "                            nlayers = 1,\n",
    "                            activation = 'SiLU',\n",
    "                            apply_norm = True\n",
    "                           )"
   ]
  },
  {
   "cell_type": "code",
   "execution_count": 121,
   "id": "bad58d77-50ec-44b3-9ec8-035608a3660e",
   "metadata": {},
   "outputs": [
    {
     "data": {
      "text/plain": [
       "38808"
      ]
     },
     "execution_count": 121,
     "metadata": {},
     "output_type": "execute_result"
    }
   ],
   "source": [
    "count_parameters(model_)"
   ]
  },
  {
   "cell_type": "code",
   "execution_count": 122,
   "id": "5eb4e4bd-6f7e-452f-9e6b-9eb905618b95",
   "metadata": {},
   "outputs": [
    {
     "data": {
      "text/plain": [
       "37209"
      ]
     },
     "execution_count": 122,
     "metadata": {},
     "output_type": "execute_result"
    }
   ],
   "source": [
    "count_parameters(model)"
   ]
  },
  {
   "cell_type": "code",
   "execution_count": 123,
   "id": "471fa773-27f2-43de-b9ca-5c0dbe214480",
   "metadata": {},
   "outputs": [],
   "source": [
    "optim = torch.optim.Adam(model_.parameters(), lr = 1e-3)"
   ]
  },
  {
   "cell_type": "code",
   "execution_count": 124,
   "id": "a7fb53a4-85cb-4aee-8ba2-9583b1eba2b5",
   "metadata": {},
   "outputs": [],
   "source": [
    "# usual_losses = []\n",
    "usual_losses_k = []"
   ]
  },
  {
   "cell_type": "code",
   "execution_count": 125,
   "id": "33e390ee-c284-4f3a-ad50-983e6569574f",
   "metadata": {},
   "outputs": [],
   "source": [
    "phase,_,_=precompute_phase(target_coupled_blocks_copy, dataset)"
   ]
  },
  {
   "cell_type": "code",
   "execution_count": 126,
   "id": "281cd803-7e34-4bef-9ee2-8bbff8426242",
   "metadata": {},
   "outputs": [
    {
     "name": "stdout",
     "output_type": "stream",
     "text": [
      "0 55306.913052938864\n",
      "100 3764.0578729135627\n",
      "200 15.004067927284689\n",
      "300 1.9339279571662331\n",
      "400 1.5208913461804758\n",
      "500 1.12947069667624\n",
      "600 0.5750015060468137\n",
      "700 0.167415990013798\n",
      "800 0.059646992460259694\n",
      "900 0.040507468730350736\n"
     ]
    }
   ],
   "source": [
    "# losses = []\n",
    "for epoch in range(1000):\n",
    "    optim.zero_grad()\n",
    "    \n",
    "    pred = model_()\n",
    "    \n",
    "    # loss = L2_loss(target_coupled_blocks_copy, pred)\n",
    "    # usual_losses.append(loss.item())\n",
    "    \n",
    "    predk = TMap_bloch_sums(pred, phase)\n",
    "    loss = L2_loss(predk, target_k_copy)\n",
    "    usual_losses_k.append(loss.item())\n",
    "    \n",
    "    loss.backward()\n",
    "    optim.step()    \n",
    "    if epoch%100 == 0 :\n",
    "        print(epoch, loss.item())\n",
    "        "
   ]
  },
  {
   "cell_type": "code",
   "execution_count": 198,
   "id": "65d53a46-395c-4b73-8438-860863b22878",
   "metadata": {},
   "outputs": [
    {
     "data": {
      "text/plain": [
       "5792"
      ]
     },
     "execution_count": 198,
     "metadata": {},
     "output_type": "execute_result"
    }
   ],
   "source": [
    "count_parameters(model_.model['(-1, 6, 1, 0, 6, 2, 0, 0, 1)'])"
   ]
  },
  {
   "cell_type": "code",
   "execution_count": 201,
   "id": "3ca5c9bd-4f1b-4582-889e-86853dc6d814",
   "metadata": {},
   "outputs": [
    {
     "data": {
      "text/plain": [
       "135360"
      ]
     },
     "execution_count": 201,
     "metadata": {},
     "output_type": "execute_result"
    }
   ],
   "source": [
    "count_parameters(model_)"
   ]
  },
  {
   "cell_type": "code",
   "execution_count": 214,
   "id": "03a9d04f-f31a-493a-9755-b238d924f832",
   "metadata": {},
   "outputs": [
    {
     "data": {
      "text/plain": [
       "1.0808510638297872"
      ]
     },
     "execution_count": 214,
     "metadata": {},
     "output_type": "execute_result"
    }
   ],
   "source": [
    "count_parameters(model)/count_parameters(model_)"
   ]
  },
  {
   "cell_type": "code",
   "execution_count": 192,
   "id": "d670b2d3-02c4-4c8c-8ade-df17dd9aaad7",
   "metadata": {},
   "outputs": [
    {
     "data": {
      "text/plain": [
       "18496"
      ]
     },
     "execution_count": 192,
     "metadata": {},
     "output_type": "execute_result"
    }
   ],
   "source": [
    "(288*32+32)*2"
   ]
  },
  {
   "cell_type": "code",
   "execution_count": 187,
   "id": "7b7346c8-c600-4991-96c2-cc8c8d592855",
   "metadata": {},
   "outputs": [
    {
     "data": {
      "text/plain": [
       "[<matplotlib.lines.Line2D at 0x7fe05576e6f0>]"
      ]
     },
     "execution_count": 187,
     "metadata": {},
     "output_type": "execute_result"
    },
    {
     "data": {
      "image/png": "[encoded data removed]",
      "text/plain": [
       "<Figure size 640x480 with 1 Axes>"
      ]
     },
     "metadata": {},
     "output_type": "display_data"
    }
   ],
   "source": [
    "# plt.plot(losses)\n",
    "plt.loglog(losses)"
   ]
  },
  {
   "cell_type": "code",
   "execution_count": 189,
   "id": "19a89677-6c5f-413c-bb26-a5e6e74598d4",
   "metadata": {},
   "outputs": [
    {
     "name": "stdout",
     "output_type": "stream",
     "text": [
      "tensor(0.1991, grad_fn=<AddBackward0>)\n"
     ]
    }
   ],
   "source": [
    "pred_usual = model_()\n",
    "# pred_usual = move_orbitals_to_keys(pred_usual, target_coupled_blocks_copy[0].properties)\n",
    "print(L2_loss(pred_usual, target_coupled_blocks_copy))"
   ]
  },
  {
   "cell_type": "code",
   "execution_count": null,
   "id": "c6e18493-0bee-4605-b616-8bcc7e83d422",
   "metadata": {},
   "outputs": [],
   "source": []
  },
  {
   "cell_type": "markdown",
   "id": "4641e05f",
   "metadata": {},
   "source": [
    "### Batching"
   ]
  },
  {
   "cell_type": "code",
   "execution_count": 58,
   "id": "6e890ddb-0fa1-4aaa-a746-4d592b216432",
   "metadata": {},
   "outputs": [],
   "source": [
    "split_by_axis = \"samples\"\n",
    "split_by_dimension = \"structure\"\n",
    "\n",
    "split_by_axis = \"samples\"\n",
    "split_by_dimension = \"structure\"\n",
    "\n",
    "grouped_labels = [mts.Labels(names = split_by_dimension, values = torch.tensor([A])) for A in mts.unique_metadata(target_coupled_blocks,\n",
    "                                                                                                                  axis = split_by_axis,\n",
    "                                                                                                                  names = split_by_dimension)]\n",
    "split_target = mts.split(target_coupled_blocks, split_by_axis, grouped_labels)\n",
    "\n",
    "grouped_labels = [mts.Labels(names = split_by_dimension, values = torch.tensor([A])) for A in mts.unique_metadata(overlap_coupled_blocks,\n",
    "                                                                                                                  axis = split_by_axis,\n",
    "                                                                                                                  names = split_by_dimension)]\n",
    "#split_overlaps = mts.split(overlap_coupled_blocks, split_by_axis, grouped_labels)\n",
    "\n",
    "grouped_labels = [mts.Labels(names = split_by_dimension, values = torch.tensor([A])) for A in mts.unique_metadata(hfeat, axis = split_by_axis,\n",
    "                                                                                                                  names = split_by_dimension)]\n",
    "split_features = mts.split(hfeat, split_by_axis, grouped_labels)\n",
    "\n",
    "ml_data = IndexedDataset(descriptor = split_features,\n",
    "                         target = split_target,\n",
    "                         target_k = target_kspace,\n",
    "                         sample_id = [g.values.tolist()[0][0] for g in grouped_labels])\n",
    "\n",
    "batch_size = 1\n",
    "\n",
    "from metatensor.learn import DataLoader\n",
    "dataloader = DataLoader(ml_data,\n",
    "                        batch_size = batch_size,\n",
    "                        shuffle = True,\n",
    "                        collate_fn = lambda x: group_and_join_mts(x, join_kwargs = {'different_keys': 'union', 'remove_tensor_name': True}))\n"
   ]
  },
  {
   "cell_type": "code",
   "execution_count": null,
   "id": "9c22b6c8-6702-455f-a472-af5565ca1022",
   "metadata": {},
   "outputs": [],
   "source": []
  },
  {
   "cell_type": "markdown",
   "id": "797e7c7f-b498-4985-8cdc-f2de7817a26a",
   "metadata": {},
   "source": [
    "# Splitting dataset random seed on jed "
   ]
  },
  {
   "cell_type": "code",
   "execution_count": null,
   "id": "5e91f8c3",
   "metadata": {},
   "outputs": [],
   "source": [
    "f=[]\n",
    "for i in range(7):\n",
    "    f.append(mts.load(f'features_{i*20}_{(i+1)*20}'))\n",
    "f.append(mts.load('../test/features_140_172'))\n",
    "np.random.seed(73)\n",
    "indices = np.arange(172)\n",
    "np.random.shuffle(indices)\n",
    "np.savetxt('random_indices.txt', indices, header = 'seed = 73', fmt = '%d')\n",
    "batched = {}\n",
    "for i in range(0,7):\n",
    "    selid = indices[i*20:20*(i+1)]\n",
    "    batched[i]=[]\n",
    "    for iid in selid:\n",
    "        # batched[i].append(iid)\n",
    "        batched[i].append(split_features[iid])\n",
    "batched[8]=[]\n",
    "selid = indices[140:]\n",
    "for iid in selid:\n",
    "    # batched[i].append(iid)\n",
    "    batched[i].append(split_features[iid])\n",
    "\n",
    "\n",
    "for i in batched.keys(): \n",
    "    features = mts.join(batched[i], axis='samples')\n",
    "    blocks = []\n",
    "    for k, b in features.items():\n",
    "            sample_values = b.samples.values\n",
    "            sample_values[:, 0] = sample_values[:, 6]\n",
    "            samples = mts.Labels(b.samples.names[:-1], sample_values[:, :-1])\n",
    "            blocks.append(mts.TensorBlock(\n",
    "            values = b.values,\n",
    "            samples = samples,\n",
    "            properties = b.properties,\n",
    "            components = b.components\n",
    "            ))\n",
    "    features = mts.TensorMap(features.keys, blocks)\n",
    "    features.save(f'features_{i*20}_{(i+1)*20}_seed73')"
   ]
  },
  {
   "cell_type": "markdown",
   "id": "f3d260de-f799-4aab-8187-faee9f5169b9",
   "metadata": {},
   "source": [
    "# Equivariance"
   ]
  },
  {
   "cell_type": "code",
   "execution_count": 16,
   "id": "e0ad7ba0-ea38-4be3-8910-493065afdae6",
   "metadata": {},
   "outputs": [],
   "source": [
    "from mlelec.utils.symmetry import _wigner_d_real\n",
    "from mlelec.models.linear import E3LayerNorm"
   ]
  },
  {
   "cell_type": "code",
   "execution_count": 17,
   "id": "9852ef30-f48a-46a4-8e25-f761fadc2138",
   "metadata": {},
   "outputs": [],
   "source": [
    "workdir = '.'\n",
    "root = f'{workdir}/examples/data/periodic'\n",
    "ORBS = 'sto-3g'\n",
    "frames = read(f'{root}/c2/rotated/C2_rotated.xyz', ':')\n",
    "\n",
    "kmesh = [15,15,1]\n",
    "rfock = [np.load(f\"{root}/c2/rotated/{i}/realfock_{i}.npy\", allow_pickle = True).item() for i in range(len(frames))]\n",
    "rover = [np.load(f\"{root}/c2/rotated/{i}/realoverlap_{i}.npy\", allow_pickle = True).item() for i in range(len(frames))]\n",
    "\n",
    "rotations = np.load(f\"{root}/c2/rotated/rotations.npy\")\n",
    "\n",
    "dataset = QMDataset(frames = frames, \n",
    "                   kmesh = kmesh, \n",
    "                   dimension = 2,\n",
    "                   fock_realspace = rfock, \n",
    "                   overlap_realspace = rover, \n",
    "                   device = device, \n",
    "                   orbs = orbitals[ORBS], \n",
    "                   orbs_name = 'sto-3g')"
   ]
  },
  {
   "cell_type": "code",
   "execution_count": 18,
   "id": "3f2dfee5-e90b-4fba-9140-11dbea3246ab",
   "metadata": {},
   "outputs": [],
   "source": [
    "cutoff = 8\n",
    "_, target_coupled_blocks = get_targets(dataset, cutoff = cutoff, device = device)"
   ]
  },
  {
   "cell_type": "code",
   "execution_count": 19,
   "id": "7cc7c546-80c4-4fab-94f8-421b4d281ab5",
   "metadata": {
    "scrolled": true
   },
   "outputs": [],
   "source": [
    "atol = 1e-8\n",
    "rtol = 1e-7\n",
    "for k,b in target_coupled_blocks.items():\n",
    "    L = k['L']\n",
    "    b0 = mts.slice_block(b, axis='samples', labels=Labels([\"structure\"], torch.tensor([0]).reshape(1,1)))\n",
    "\n",
    "    for i, rot in enumerate(rotations):\n",
    "        b1 = mts.slice_block(b, axis='samples', labels=Labels([\"structure\"], torch.tensor([i+1]).reshape(1,1)))\n",
    "        wd = _wigner_d_real(L, *rot)    \n",
    "        assert torch.allclose(b1.values, torch.einsum('ab,sbp->sap', wd, b0.values), atol=atol, rtol = rtol), (f\"Rotation equivariance test failed for key {k.values.tolist()}\", \n",
    "                                                                                                             torch.norm(b1.values-torch.einsum('ab,sbp->sap', wd, b0.values)), \n",
    "                                                                                                             atol + rtol*torch.norm(torch.einsum('ab,sbp->sap', wd, b0.values))\n",
    "                                                                                                            )\n",
    "        # print(i+1, k.values.tolist(), torch.norm(b1.values-torch.einsum('ab,sbp->sap', wd, b0.values)))"
   ]
  },
  {
   "cell_type": "code",
   "execution_count": 20,
   "id": "38d1a8b9-6540-4e6c-b273-3361e60e3752",
   "metadata": {},
   "outputs": [
    {
     "name": "stdout",
     "output_type": "stream",
     "text": [
      "cpu pair features\n",
      "cpu single center features\n",
      "cpu single center features\n"
     ]
    }
   ],
   "source": [
    "import rascaline\n",
    "max_radial  = 8\n",
    "max_angular = 6\n",
    "atomic_gaussian_width = 0.3\n",
    "cutoff = 8\n",
    "hypers_pair = {'cutoff': cutoff,\n",
    "               'max_radial': max_radial,\n",
    "               'max_angular': max_angular,\n",
    "               'atomic_gaussian_width': atomic_gaussian_width,\n",
    "               'center_atom_weight': 1,\n",
    "               \"radial_basis\": {\"Gto\": {}},\n",
    "               \"cutoff_function\": {\"ShiftedCosine\": {\"width\": 0.1}}}\n",
    "\n",
    "\n",
    "hypers_atom = {'cutoff': 4,\n",
    "               'max_radial': max_radial,\n",
    "               'max_angular': max_angular,\n",
    "               'atomic_gaussian_width': 0.3,\n",
    "               'center_atom_weight': 1,\n",
    "               \"radial_basis\": {\"Gto\": {}},\n",
    "               \"cutoff_function\": {\"ShiftedCosine\": {\"width\": 0.1}}}\n",
    "\n",
    "\n",
    "return_rho0ij = False\n",
    "both_centers = False\n",
    "all_pairs = False\n",
    "LCUT = 3\n",
    "\n",
    "from mlelec.features.acdc import compute_features\n",
    "features = compute_features(dataset, hypers_atom, 3, hypers_pair = hypers_pair)"
   ]
  },
  {
   "cell_type": "code",
   "execution_count": 21,
   "id": "c754ad01-46c5-416a-898e-159586530248",
   "metadata": {},
   "outputs": [],
   "source": [
    "atol = 1e-8\n",
    "rtol = 1e-7\n",
    "for k,b in features.items():\n",
    "    L = k['spherical_harmonics_l']\n",
    "    b0 = mts.slice_block(b, axis='samples', labels=Labels([\"structure\"], torch.tensor([0]).reshape(1,1)))\n",
    "\n",
    "    for i, rot in enumerate(rotations):\n",
    "        b1 = mts.slice_block(b, axis='samples', labels=Labels([\"structure\"], torch.tensor([i+1]).reshape(1,1)))\n",
    "        wd = _wigner_d_real(L, *rot)    \n",
    "        assert torch.allclose(b1.values, torch.einsum('ab,sbp->sap', wd, b0.values), atol=atol, rtol = rtol), (f\"Rotation equivariance test failed for key {k.values.tolist()}\", \n",
    "                                                                                                             torch.norm(b1.values-torch.einsum('ab,sbp->sap', wd, b0.values)), \n",
    "                                                                                                             atol + rtol*torch.norm(torch.einsum('ab,sbp->sap', wd, b0.values))\n",
    "                                                                                                            )\n",
    "        # print(i+1, k.values.tolist(), torch.norm(b1.values-torch.einsum('ab,sbp->sap', wd, b0.values)))"
   ]
  },
  {
   "cell_type": "code",
   "execution_count": 22,
   "id": "b173229b-7b2a-45fc-8fb3-8fea51ca966f",
   "metadata": {},
   "outputs": [],
   "source": [
    "keyidx = 2\n",
    "b = features[keyidx]\n",
    "t = b.values*3\n",
    "k = features.keys[keyidx]\n",
    "L = k['spherical_harmonics_l']\n",
    "tensor = b.values\n",
    "# print(tensor.shape)\n",
    "e3lnorm = E3LayerNorm(layersize=b.values.shape[-1],bias = True)\n",
    "optim = torch.optim.Adam(e3lnorm.parameters(), lr = 1e-3)"
   ]
  },
  {
   "cell_type": "code",
   "execution_count": 23,
   "id": "aa43f168-4835-413c-92b5-fce0893582d2",
   "metadata": {},
   "outputs": [
    {
     "data": {
      "text/plain": [
       "[Parameter containing:\n",
       " tensor([-0.1672], requires_grad=True),\n",
       " Parameter containing:\n",
       " tensor([0.2538], requires_grad=True)]"
      ]
     },
     "execution_count": 23,
     "metadata": {},
     "output_type": "execute_result"
    }
   ],
   "source": [
    "list(e3lnorm.parameters())"
   ]
  },
  {
   "cell_type": "code",
   "execution_count": 24,
   "id": "c4fe67d6",
   "metadata": {},
   "outputs": [
    {
     "data": {
      "text/plain": [
       "[Parameter containing:\n",
       " tensor([-0.1672], requires_grad=True),\n",
       " Parameter containing:\n",
       " tensor([0.2538], requires_grad=True)]"
      ]
     },
     "execution_count": 24,
     "metadata": {},
     "output_type": "execute_result"
    }
   ],
   "source": [
    "list(e3lnorm.parameters())\n"
   ]
  },
  {
   "cell_type": "code",
   "execution_count": 26,
   "id": "64705726-de04-44f1-a846-7ae69af64ac8",
   "metadata": {
    "scrolled": true
   },
   "outputs": [
    {
     "name": "stdout",
     "output_type": "stream",
     "text": [
      "0 108.82554082348027\n",
      "1 105.17718742664975\n",
      "2 101.59428664638045\n",
      "3 98.07792157263597\n",
      "4 94.62911370126896\n",
      "5 91.24881845686178\n",
      "6 87.93792097139398\n",
      "7 84.69723215177513\n",
      "8 81.5274850669072\n",
      "9 78.42933168031148\n",
      "10 75.40333995212282\n",
      "11 72.44999132882403\n",
      "12 69.56967863604463\n",
      "13 66.76270438513002\n",
      "14 64.02927950005243\n",
      "15 61.36952246710201\n",
      "16 58.78345890604381\n",
      "17 56.27102155757282\n",
      "18 53.83205067839165\n",
      "19 51.46629483209699\n",
      "20 49.17341206133426\n",
      "21 46.952971423930215\n",
      "22 44.80445487372298\n",
      "23 42.72725946518825\n",
      "24 40.720699859109494\n",
      "25 38.78401110592977\n",
      "26 36.91635168226691\n",
      "27 35.11680675607518\n",
      "28 33.38439165509417\n",
      "29 31.718055514049492\n",
      "30 30.116685075791846\n",
      "31 28.57910862218892\n",
      "32 27.1041000113542\n",
      "33 25.690382798321636\n",
      "34 24.336634417223593\n",
      "35 23.041490404027112\n",
      "36 21.803548639655716\n",
      "37 20.621373594615925\n",
      "38 19.493500556939985\n",
      "39 18.418439826742258\n",
      "40 17.394680861204236\n",
      "41 16.420696355329714\n",
      "42 15.494946244470652\n",
      "43 14.615881615752315\n",
      "44 13.78194851662334\n",
      "45 12.99159164932783\n",
      "46 12.243257941558092\n",
      "47 11.535399983983579\n",
      "48 10.866479326452728\n",
      "49 10.234969625607462\n",
      "50 9.639359637323334\n",
      "51 9.078156048362919\n",
      "52 8.549886142456442\n",
      "53 8.053100296806532\n",
      "54 7.5863743058717\n",
      "55 7.148311530061647\n",
      "56 6.737544867847966\n",
      "57 6.352738550411375\n",
      "58 5.992589759019266\n",
      "59 5.655830065729202\n",
      "60 5.341226699098455\n",
      "61 5.047583637001921\n",
      "62 4.773742529643803\n",
      "63 4.518583456236374\n",
      "64 4.281025519695056\n",
      "65 4.060027284146781\n",
      "66 3.854587060659802\n",
      "67 3.6637430471448673\n",
      "68 3.486573328773835\n",
      "69 3.3221957457678712\n",
      "70 3.1697676357042677\n",
      "71 3.0284854578587392\n",
      "72 2.897584307295482\n",
      "73 2.7763373267010483\n",
      "74 2.6640550240155734\n",
      "75 2.560084504095237\n",
      "76 2.463808622567481\n",
      "77 2.374645070165919\n",
      "78 2.2920453955939704\n",
      "79 2.2154939750064715\n",
      "80 2.144506935919075\n",
      "81 2.0786310432180892\n",
      "82 2.0174425546648016\n",
      "83 1.960546053015835\n",
      "84 1.9075732615795589\n",
      "85 1.8581818496739613\n",
      "86 1.8120542341034163\n",
      "87 1.768896382386364\n",
      "88 1.7284366230704782\n",
      "89 1.690424468073451\n",
      "90 1.654629451569762\n",
      "91 1.6208399895335872\n",
      "92 1.5888622636344647\n",
      "93 1.558519132777566\n",
      "94 1.5296490751679073\n",
      "95 1.5021051633930407\n",
      "96 1.4757540746475342\n",
      "97 1.4504751378325937\n",
      "98 1.4261594189414635\n",
      "99 1.4027088457916017\n",
      "100 1.3800353728583004\n",
      "101 1.3580601866738182\n",
      "102 1.3367129519778713\n",
      "103 1.3159310985595525\n",
      "104 1.295659148500193\n",
      "105 1.27584808331503\n",
      "106 1.2564547503102572\n",
      "107 1.237441307301369\n",
      "108 1.2187747046957533\n",
      "109 1.2004262038154494\n",
      "110 1.1823709302294336\n",
      "111 1.1645874607761462\n",
      "112 1.1470574428851845\n",
      "113 1.1297652447515194\n",
      "114 1.1126976348756472\n",
      "115 1.0958434894561304\n",
      "116 1.0791935261081973\n",
      "117 1.0627400623796022\n",
      "118 1.0464767975451406\n",
      "119 1.0303986161774017\n",
      "120 1.0145014120217395\n",
      "121 0.9987819307347852\n",
      "122 0.9832376300881773\n",
      "123 0.9678665562860649\n",
      "124 0.9526672350938602\n",
      "125 0.9376385765334581\n",
      "126 0.9227797919534622\n",
      "127 0.9080903223481892\n",
      "128 0.8935697768538148\n",
      "129 0.8792178804191485\n",
      "130 0.865034429702979\n",
      "131 0.851019256320097\n",
      "132 0.8371721966124748\n",
      "133 0.8234930671858075\n",
      "134 0.8099816455105201\n",
      "135 0.7966376549400477\n",
      "136 0.7834607535591341\n",
      "137 0.7704505263214055\n",
      "138 0.7576064799913714\n",
      "139 0.7449280404502044\n",
      "140 0.7324145519699623\n",
      "141 0.7200652781049557\n",
      "142 0.7078794038874222\n",
      "143 0.6958560390505804\n",
      "144 0.6839942220390527\n",
      "145 0.6722929245951901\n",
      "146 0.6607510567411842\n",
      "147 0.6493674720018308\n",
      "148 0.6381409727370687\n",
      "149 0.6270703154764461\n",
      "150 0.6161542161641823\n",
      "151 0.6053913552453614\n",
      "152 0.5947803825340525\n",
      "153 0.5843199218220461\n",
      "154 0.5740085751966955\n",
      "155 0.5638449270466153\n",
      "156 0.5538275477434119\n",
      "157 0.5439549969951707\n",
      "158 0.5342258268727873\n",
      "159 0.524638584516447\n",
      "160 0.5151918145330294\n",
      "161 0.5058840610984812\n",
      "162 0.49671386978232146\n",
      "163 0.48767978911217297\n",
      "164 0.47878037189858674\n",
      "165 0.47001417634012294\n",
      "166 0.46137976692923166\n",
      "167 0.45287571517971054\n",
      "168 0.4445006001952529\n",
      "169 0.43625300909878284\n",
      "170 0.42813153734058756\n",
      "171 0.42013478890275374\n",
      "172 0.4122613764160158\n",
      "173 0.4045099212039018\n",
      "174 0.39687905326794487\n",
      "175 0.3893674112260934\n",
      "176 0.38197364221563185\n",
      "177 0.37469640177030367\n",
      "178 0.36753435368020543\n",
      "179 0.36048616984207343\n",
      "180 0.35355053010617\n",
      "181 0.34672612212514525\n",
      "182 0.3400116412093548\n",
      "183 0.3334057901920667\n",
      "184 0.32690727930740904\n",
      "185 0.3205148260829761\n",
      "186 0.3142271552486998\n",
      "187 0.30804299866273055\n",
      "188 0.30196109525475545\n",
      "189 0.29598019098682316\n",
      "190 0.2900990388312739\n",
      "191 0.28431639876515075\n",
      "192 0.2786310377803096\n",
      "193 0.2730417299081055\n",
      "194 0.26754725625762027\n",
      "195 0.2621464050660973\n",
      "196 0.2568379717603262\n",
      "197 0.2516207590275919\n",
      "198 0.2464935768950308\n",
      "199 0.2414552428158344\n",
      "200 0.2365045817612482\n",
      "201 0.2316404263171035\n",
      "202 0.22686161678367\n",
      "203 0.22216700127786862\n",
      "204 0.21755543583676937\n",
      "205 0.21302578452155965\n",
      "206 0.20857691952105367\n",
      "207 0.20420772125418626\n",
      "208 0.19991707847061788\n",
      "209 0.19570388834915717\n",
      "210 0.1915670565932073\n",
      "211 0.18750549752319645\n",
      "212 0.18351813416527768\n",
      "213 0.17960389833629903\n",
      "214 0.1757617307246861\n",
      "215 0.1719905809671374\n",
      "216 0.16828940772098455\n",
      "217 0.164657178732159\n",
      "218 0.16109287089869637\n",
      "219 0.15759547032986693\n",
      "220 0.15416397240085253\n",
      "221 0.15079738180301938\n",
      "222 0.1474947125899885\n",
      "223 0.14425498821940788\n",
      "224 0.14107724159060056\n",
      "225 0.13796051507824525\n",
      "226 0.13490386056207326\n",
      "227 0.13190633945282074\n",
      "228 0.12896702271442592\n",
      "229 0.12608499088271177\n",
      "230 0.12325933408056887\n",
      "231 0.12048915202978822\n",
      "232 0.11777355405965889\n",
      "233 0.11511165911243992\n",
      "234 0.11250259574577444\n",
      "235 0.10994550213215491\n",
      "236 0.1074395260555556\n",
      "237 0.10498382490532052\n",
      "238 0.10257756566731732\n",
      "239 0.10021992491254514\n",
      "240 0.0979100887831743\n",
      "241 0.09564725297615635\n",
      "242 0.09343062272443596\n",
      "243 0.09125941277582729\n",
      "244 0.0891328473696319\n",
      "245 0.08705016021105223\n",
      "246 0.08501059444345285\n",
      "247 0.08301340261849724\n",
      "248 0.08105784666428284\n",
      "249 0.07914319785145435\n",
      "250 0.07726873675735556\n",
      "251 0.07543375322830574\n",
      "252 0.07363754634003614\n",
      "253 0.07187942435628193\n",
      "254 0.07015870468565656\n",
      "255 0.06847471383679686\n",
      "256 0.06682678737185865\n",
      "257 0.06521426985836172\n",
      "258 0.0636365148195132\n",
      "259 0.06209288468296186\n",
      "260 0.060582750728103506\n",
      "261 0.059105493031940126\n",
      "262 0.05766050041354562\n",
      "263 0.05624717037721148\n",
      "264 0.05486490905428554\n",
      "265 0.05351313114376493\n",
      "266 0.05219125985169718\n",
      "267 0.050898726829411184\n",
      "268 0.049634972110656664\n",
      "269 0.04839944404766004\n",
      "270 0.04719159924619459\n",
      "271 0.04601090249964316\n",
      "272 0.044856826722159376\n",
      "273 0.0437288528809287\n",
      "274 0.04262646992761213\n",
      "275 0.041549174728973556\n",
      "276 0.040496471996770075\n",
      "277 0.03946787421692505\n",
      "278 0.03846290157804173\n",
      "279 0.037481081899284396\n",
      "280 0.036521950557684396\n",
      "281 0.03558505041488594\n",
      "282 0.03466993174341417\n",
      "283 0.03377615215244325\n",
      "284 0.03290327651317076\n",
      "285 0.03205087688378094\n",
      "286 0.03121853243406057\n",
      "287 0.03040582936969913\n",
      "288 0.029612360856310516\n",
      "289 0.028837726943206275\n",
      "290 0.028081534486949056\n",
      "291 0.027343397074742797\n",
      "292 0.026622934947657988\n",
      "293 0.025919774923758795\n",
      "294 0.025233550321134002\n",
      "295 0.0245639008808847\n",
      "296 0.02391047269007863\n",
      "297 0.023272918104718796\n",
      "298 0.022650895672743098\n",
      "299 0.022044070057081547\n",
      "300 0.021452111958811918\n",
      "301 0.020874698040414797\n",
      "302 0.020311510849187562\n",
      "303 0.019762238740799184\n",
      "304 0.019226575803070394\n",
      "305 0.018704221779924247\n",
      "306 0.01819488199559995\n",
      "307 0.01769826727912506\n",
      "308 0.017214093889044345\n",
      "309 0.01674208343847706\n",
      "310 0.01628196282047604\n",
      "311 0.01583346413372872\n",
      "312 0.015396324608626168\n",
      "313 0.014970286533697046\n",
      "314 0.0145550971824485\n",
      "315 0.014150508740605423\n",
      "316 0.01375627823379498\n",
      "317 0.013372167455655264\n",
      "318 0.01299794289642323\n",
      "319 0.012633375671977195\n",
      "320 0.01227824145338624\n",
      "321 0.011932320396945573\n",
      "322 0.011595397074735376\n",
      "323 0.011267260405702126\n",
      "324 0.010947703587281943\n",
      "325 0.010636524027567514\n",
      "326 0.010333523278042933\n",
      "327 0.010038506966882292\n",
      "328 0.009751284732831048\n",
      "329 0.00947167015967865\n",
      "330 0.009199480711327744\n",
      "331 0.00893453766746112\n",
      "332 0.008676666059840568\n",
      "333 0.008425694609203234\n",
      "334 0.008181455662803448\n",
      "335 0.007943785132580799\n",
      "336 0.007712522433964018\n",
      "337 0.007487510425326437\n",
      "338 0.007268595348082326\n",
      "339 0.007055626767446799\n",
      "340 0.006848457513841142\n",
      "341 0.006646943624971502\n",
      "342 0.0064509442885607605\n",
      "343 0.0062603217857565875\n",
      "344 0.006074941435200835\n",
      "345 0.00589467153777867\n",
      "346 0.005719383322033696\n",
      "347 0.005548950890261089\n",
      "348 0.005383251165276924\n",
      "349 0.005222163837858605\n",
      "350 0.0050655713148694435\n",
      "351 0.004913358668053625\n",
      "352 0.004765413583505889\n",
      "353 0.004621626311826408\n",
      "354 0.004481889618937651\n",
      "355 0.004346098737584722\n",
      "356 0.004214151319499877\n",
      "357 0.004085947388243194\n",
      "358 0.003961389292711287\n",
      "359 0.003840381661304858\n",
      "360 0.003722831356770447\n",
      "361 0.0036086474316954424\n",
      "362 0.0034977410846626167\n",
      "363 0.0033900256170625114\n",
      "364 0.0032854163905555287\n",
      "365 0.0031838307851805095\n",
      "366 0.0030851881581111535\n",
      "367 0.002989409803050519\n",
      "368 0.002896418910263608\n",
      "369 0.0028061405272392682\n",
      "370 0.0027185015199862935\n",
      "371 0.002633430534945066\n",
      "372 0.0025508579615243897\n",
      "373 0.002470715895247168\n",
      "374 0.0023929381015108738\n",
      "375 0.0023174599799454824\n",
      "376 0.0022442185293746067\n",
      "377 0.002173152313370113\n",
      "378 0.002104201426390884\n",
      "379 0.002037307460508558\n",
      "380 0.001972413472708227\n",
      "381 0.0019094639527606624\n",
      "382 0.0018484047916593836\n",
      "383 0.0017891832506185317\n",
      "384 0.001731747930625707\n",
      "385 0.0016760487425377024\n",
      "386 0.0016220368777256548\n",
      "387 0.0015696647792492835\n",
      "388 0.001518886113563185\n",
      "389 0.0014696557427488295\n",
      "390 0.0014219296972590942\n",
      "391 0.0013756651491789761\n",
      "392 0.001330820385986714\n",
      "393 0.0012873547848163145\n",
      "394 0.001245228787208798\n",
      "395 0.0012044038743552025\n",
      "396 0.0011648425428123013\n",
      "397 0.0011265082806947017\n",
      "398 0.0010893655443347302\n",
      "399 0.0010533797353999095\n",
      "400 0.0010185171784643792\n",
      "401 0.0009847450990329788\n",
      "402 0.000952031601998845\n",
      "403 0.0009203456505411636\n",
      "404 0.0008896570454505571\n",
      "405 0.0008599364048752302\n",
      "406 0.0008311551444836196\n",
      "407 0.000803285458038355\n",
      "408 0.0007763002983702877\n",
      "409 0.0007501733587529854\n",
      "410 0.0007248790546661321\n",
      "411 0.0007003925059434034\n",
      "412 0.0006766895193013523\n",
      "413 0.0006537465712383439\n",
      "414 0.0006315407913012372\n",
      "415 0.0006100499457121083\n",
      "416 0.0005892524213481795\n",
      "417 0.0005691272100755184\n",
      "418 0.0005496538934168033\n",
      "419 0.0005308126275641967\n",
      "420 0.0005125841287170426\n",
      "421 0.0004949496587502454\n",
      "422 0.00047789101119697714\n",
      "423 0.0004613904975490154\n",
      "424 0.0004454309338642718\n",
      "425 0.0004299956276769197\n",
      "426 0.00041506836520408983\n",
      "427 0.0004006333988475525\n",
      "428 0.00038667543497788553\n",
      "429 0.00037317962200225863\n",
      "430 0.00036013153870840923\n",
      "431 0.00034751718287796065\n",
      "432 0.0003353229601670641\n",
      "433 0.000323535673245937\n",
      "434 0.0003121425111956527\n",
      "435 0.0003011310391537672\n",
      "436 0.00029048918820783344\n",
      "437 0.0002802052455282347\n",
      "438 0.0002702678447377573\n",
      "439 0.000260665956511984\n",
      "440 0.00025138887940897783\n",
      "441 0.00024242623091694614\n",
      "442 0.0002337679387240465\n",
      "443 0.00022540423219913013\n",
      "444 0.00021732563408159255\n",
      "445 0.00020952295237650664\n",
      "446 0.0002019872724497399\n",
      "447 0.00019470994931947874\n",
      "448 0.00018768260013981184\n",
      "449 0.0001808970968714655\n",
      "450 0.00017434555913839478\n",
      "451 0.0001680203472624382\n",
      "452 0.00016191405547546502\n",
      "453 0.0001560195053032985\n",
      "454 0.0001503297391183894\n",
      "455 0.00014483801385771348\n",
      "456 0.00013953779490149092\n",
      "457 0.00013442275010984607\n",
      "458 0.0001294867440138795\n",
      "459 0.00012472383215721836\n",
      "460 0.00012012825558512511\n",
      "461 0.00011569443547772371\n",
      "462 0.00011141696792369887\n",
      "463 0.00010729061883209601\n",
      "464 0.00010331031897790531\n",
      "465 9.947115917978194e-05\n",
      "466 9.576838560514616e-05\n",
      "467 9.219739520130487e-05\n",
      "468 8.875373124845547e-05\n",
      "469 8.543307903249865e-05\n",
      "470 8.22312616347202e-05\n",
      "471 7.914423583451508e-05\n",
      "472 7.616808812440802e-05\n",
      "473 7.329903083269129e-05\n",
      "474 7.05333983526054e-05\n",
      "475 6.786764347498402e-05\n",
      "476 6.529833382068595e-05\n",
      "477 6.282214837291305e-05\n",
      "478 6.043587410442266e-05\n",
      "479 5.813640269907966e-05\n",
      "480 5.5920727364045195e-05\n",
      "481 5.378593973167529e-05\n",
      "482 5.1729226848324094e-05\n",
      "483 4.974786824676697e-05\n",
      "484 4.7839233102463046e-05\n",
      "485 4.6000777469793826e-05\n",
      "486 4.423004159634967e-05\n",
      "487 4.25246473144194e-05\n",
      "488 4.0882295506322956e-05\n",
      "489 3.930076364246198e-05\n",
      "490 3.777790339079843e-05\n",
      "491 3.631163829390254e-05\n",
      "492 3.489996151438834e-05\n",
      "493 3.354093364478289e-05\n",
      "494 3.2232680581944716e-05\n",
      "495 3.097339146247824e-05\n",
      "496 2.9761316659307827e-05\n",
      "497 2.8594765836651807e-05\n",
      "498 2.7472106062218884e-05\n",
      "499 2.6391759975169837e-05\n",
      "500 2.5352204008251167e-05\n",
      "501 2.4351966662642596e-05\n",
      "502 2.3389626834189097e-05\n",
      "503 2.2463812189507575e-05\n",
      "504 2.1573197590662976e-05\n",
      "505 2.071650356733101e-05\n",
      "506 1.9892494834486885e-05\n",
      "507 1.9099978855332837e-05\n",
      "508 1.8337804447395136e-05\n",
      "509 1.7604860430861417e-05\n",
      "510 1.690007431826895e-05\n",
      "511 1.6222411044111473e-05\n",
      "512 1.5570871733089006e-05\n",
      "513 1.4944492506357921e-05\n",
      "514 1.4342343324550776e-05\n",
      "515 1.3763526866182025e-05\n",
      "516 1.3207177441014346e-05\n",
      "517 1.2672459937011139e-05\n",
      "518 1.2158568799994255e-05\n",
      "519 1.1664727045214296e-05\n",
      "520 1.1190185299575994e-05\n",
      "521 1.0734220874227232e-05\n",
      "522 1.0296136865913398e-05\n",
      "523 9.875261286940375e-06\n",
      "524 9.470946222425426e-06\n",
      "525 9.082567014218507e-06\n",
      "526 8.709521471039932e-06\n",
      "527 8.351229103151693e-06\n",
      "528 8.007130382114215e-06\n",
      "529 7.676686023735678e-06\n",
      "530 7.359376294357749e-06\n",
      "531 7.054700339085928e-06\n",
      "532 6.762175532050115e-06\n",
      "533 6.481336847284629e-06\n",
      "534 6.211736250413782e-06\n",
      "535 5.95294210966378e-06\n",
      "536 5.704538626324017e-06\n",
      "537 5.466125283707415e-06\n",
      "538 5.237316314110409e-06\n",
      "539 5.017740183402254e-06\n",
      "540 4.807039092318768e-06\n",
      "541 4.6048684943520015e-06\n",
      "542 4.4108966295784514e-06\n",
      "543 4.224804073879041e-06\n",
      "544 4.046283303088154e-06\n",
      "545 3.8750382717316905e-06\n",
      "546 3.7107840057659833e-06\n",
      "547 3.5532462089050416e-06\n",
      "548 3.4021608822690693e-06\n",
      "549 3.257273956622803e-06\n",
      "550 3.1183409371969445e-06\n",
      "551 2.9851265603026603e-06\n",
      "552 2.857404461814586e-06\n",
      "553 2.7349568566088298e-06\n",
      "554 2.6175742291010186e-06\n",
      "555 2.5050550343309194e-06\n",
      "556 2.3972054090522396e-06\n",
      "557 2.2938388930073352e-06\n",
      "558 2.1947761595587285e-06\n",
      "559 2.0998447556203153e-06\n",
      "560 2.008878850629166e-06\n",
      "561 1.9217189940641376e-06\n",
      "562 1.8382118815645375e-06\n",
      "563 1.758210128908321e-06\n",
      "564 1.681572054083827e-06\n",
      "565 1.6081614668130986e-06\n",
      "566 1.537847465487209e-06\n",
      "567 1.4705042412327413e-06\n",
      "568 1.4060108888280106e-06\n",
      "569 1.3442512242634877e-06\n",
      "570 1.2851136087320493e-06\n",
      "571 1.2284907789420535e-06\n",
      "572 1.174279683252825e-06\n",
      "573 1.1223813237842707e-06\n",
      "574 1.0727006041305803e-06\n",
      "575 1.0251461823725617e-06\n",
      "576 9.796303295170477e-07\n",
      "577 9.360687928915588e-07\n",
      "578 8.943806644947723e-07\n",
      "579 8.544882540350487e-07\n",
      "580 8.163169666096685e-07\n",
      "581 7.79795184737463e-07\n",
      "582 7.44854154737095e-07\n",
      "583 7.114278771463358e-07\n",
      "584 6.794530011962706e-07\n",
      "585 6.48868723088966e-07\n",
      "586 6.196166879957283e-07\n",
      "587 5.916408956654227e-07\n",
      "588 5.64887609475373e-07\n",
      "589 5.393052688244584e-07\n",
      "590 5.148444047753209e-07\n",
      "591 4.914575587689471e-07\n",
      "592 4.6909920439341134e-07\n",
      "593 4.477256720062444e-07\n",
      "594 4.272950762241516e-07\n",
      "595 4.0776724602566094e-07\n",
      "596 3.8910365752823774e-07\n",
      "597 3.712673692574351e-07\n",
      "598 3.5422295982621525e-07\n",
      "599 3.379364679805785e-07\n",
      "600 3.2237533487602553e-07\n",
      "601 3.075083485533716e-07\n",
      "602 2.933055904888021e-07\n",
      "603 2.7973838419776245e-07\n",
      "604 2.6677924574091785e-07\n",
      "605 2.544018361711893e-07\n",
      "606 2.425809157186334e-07\n",
      "607 2.3129229982479688e-07\n",
      "608 2.2051281675208014e-07\n",
      "609 2.1022026687906572e-07\n",
      "610 2.003933835490698e-07\n",
      "611 1.9101179543052285e-07\n",
      "612 1.820559903073284e-07\n",
      "613 1.7350728027129709e-07\n",
      "614 1.6534776830859391e-07\n",
      "615 1.5756031609852054e-07\n",
      "616 1.5012851315324913e-07\n",
      "617 1.43036647081691e-07\n",
      "618 1.362696750879758e-07\n",
      "619 1.2981319651079061e-07\n",
      "620 1.2365342649359385e-07\n",
      "621 1.177771706641566e-07\n",
      "622 1.121718008197651e-07\n",
      "623 1.0682523156903715e-07\n",
      "624 1.0172589787419517e-07\n",
      "625 9.686273352997202e-08\n",
      "626 9.222515044901426e-08\n",
      "627 8.78030187971929e-08\n",
      "628 8.358664790909428e-08\n",
      "629 7.95667679684615e-08\n",
      "630 7.573451242602753e-08\n",
      "631 7.208140109647051e-08\n",
      "632 6.859932398003214e-08\n",
      "633 6.528052568855035e-08\n",
      "634 6.211759051890212e-08\n",
      "635 5.910342813535395e-08\n",
      "636 5.623125981680472e-08\n",
      "637 5.349460526751215e-08\n",
      "638 5.0887269973345605e-08\n",
      "639 4.840333304769295e-08\n",
      "640 4.6037135596021586e-08\n",
      "641 4.3783269544638663e-08\n",
      "642 4.163656693170059e-08\n",
      "643 3.959208963285577e-08\n",
      "644 3.7645119505864446e-08\n",
      "645 3.579114894915157e-08\n",
      "646 3.402587185151213e-08\n",
      "647 3.234517489472875e-08\n",
      "648 3.0745129249160234e-08\n",
      "649 2.9221982578755378e-08\n",
      "650 2.77721514102234e-08\n",
      "651 2.6392213789868984e-08\n",
      "652 2.5078902277176233e-08\n",
      "653 2.3829097204804774e-08\n",
      "654 2.2639820230912284e-08\n",
      "655 2.150822816962574e-08\n",
      "656 2.0431607068527154e-08\n",
      "657 1.9407366539184484e-08\n",
      "658 1.8433034335281288e-08\n",
      "659 1.750625114028603e-08\n",
      "660 1.6624765602341397e-08\n",
      "661 1.5786429554687798e-08\n",
      "662 1.4989193452338928e-08\n",
      "663 1.4231102005395075e-08\n",
      "664 1.3510289987792154e-08\n",
      "665 1.282497823714396e-08\n",
      "666 1.2173469812087805e-08\n",
      "667 1.1554146329356743e-08\n",
      "668 1.0965464449570613e-08\n",
      "669 1.0405952513483589e-08\n",
      "670 9.874207326828936e-09\n",
      "671 9.368891084984208e-09\n",
      "672 8.888728424863045e-09\n",
      "673 8.432503612224686e-09\n",
      "674 7.999057847003949e-09\n",
      "675 7.58728668234171e-09\n",
      "676 7.1961375667977085e-09\n",
      "677 6.8246074821717065e-09\n",
      "678 6.471740692097579e-09\n",
      "679 6.13662658881505e-09\n",
      "680 5.818397627319872e-09\n",
      "681 5.516227363395564e-09\n",
      "682 5.229328565860286e-09\n",
      "683 4.956951417176702e-09\n",
      "684 4.69838179737959e-09\n",
      "685 4.452939636618174e-09\n",
      "686 4.2199773448202315e-09\n",
      "687 3.998878314165476e-09\n",
      "688 3.78905548142636e-09\n",
      "689 3.5899499592828516e-09\n",
      "690 3.401029729926877e-09\n",
      "691 3.2217883919901283e-09\n",
      "692 3.05174396844165e-09\n",
      "693 2.890437766254975e-09\n",
      "694 2.7374332870805484e-09\n",
      "695 2.5923151883587284e-09\n",
      "696 2.4546882905286904e-09\n",
      "697 2.3241766297207176e-09\n",
      "698 2.200422551881416e-09\n",
      "699 2.0830858499553567e-09\n",
      "700 1.971842940228669e-09\n",
      "701 1.8663860759837855e-09\n",
      "702 1.7664225953606541e-09\n",
      "703 1.6716742059805081e-09\n",
      "704 1.581876301964426e-09\n",
      "705 1.4967773113628006e-09\n",
      "706 1.4161380743726543e-09\n",
      "707 1.3397312493487515e-09\n",
      "708 1.2673407479371291e-09\n",
      "709 1.19876119601956e-09\n",
      "710 1.133797416010714e-09\n",
      "711 1.072263938647654e-09\n",
      "712 1.013984535479505e-09\n",
      "713 9.587917699644858e-10\n",
      "714 9.065265752219076e-10\n",
      "715 8.570378459112732e-10\n",
      "716 8.101820538053208e-10\n",
      "717 7.658228790352051e-10\n",
      "718 7.238308583597201e-10\n",
      "719 6.84083050930934e-10\n",
      "720 6.464627207175572e-10\n",
      "721 6.108590314171677e-10\n",
      "722 5.771667579851821e-10\n",
      "723 5.452860112393019e-10\n",
      "724 5.151219750877737e-10\n",
      "725 4.865846567556858e-10\n",
      "726 4.595886486738014e-10\n",
      "727 4.340529020108899e-10\n",
      "728 4.0990051066234357e-10\n",
      "729 3.8705850554775147e-10\n",
      "730 3.6545766028906986e-10\n",
      "731 3.4503230305587366e-10\n",
      "732 3.2572014090963185e-10\n",
      "733 3.0746209050660076e-10\n",
      "734 2.9020211769014743e-10\n",
      "735 2.7388708470639603e-10\n",
      "736 2.5846660495869707e-10\n",
      "737 2.4389290470303796e-10\n",
      "738 2.30120691486491e-10\n",
      "739 2.1710702913331491e-10\n",
      "740 2.0481121862756007e-10\n",
      "741 1.931946847362485e-10\n",
      "742 1.8222086903062367e-10\n",
      "743 1.7185512677323914e-10\n",
      "744 1.6206463018723047e-10\n",
      "745 1.5281827548863843e-10\n",
      "746 1.4408659523182954e-10\n",
      "747 1.3584167457107988e-10\n",
      "748 1.280570719815184e-10\n",
      "749 1.2070774314329447e-10\n",
      "750 1.1376997042905956e-10\n",
      "751 1.0722129317352964e-10\n",
      "752 1.0104044383355029e-10\n",
      "753 9.520728632243141e-11\n",
      "754 8.970275740038759e-11\n",
      "755 8.450881091536573e-11\n",
      "756 7.960836558309682e-11\n",
      "757 7.498525448617522e-11\n",
      "758 7.062417742756677e-11\n",
      "759 6.651065614312599e-11\n",
      "760 6.263099099627676e-11\n",
      "761 5.897222056900964e-11\n",
      "762 5.5522082879770086e-11\n",
      "763 5.2268978686545086e-11\n",
      "764 4.92019365477361e-11\n",
      "765 4.63105799841254e-11\n",
      "766 4.358509600938804e-11\n",
      "767 4.101620552290003e-11\n",
      "768 3.8595134691827004e-11\n",
      "769 3.6313588780949803e-11\n",
      "770 3.4163726088249735e-11\n",
      "771 3.213813431951997e-11\n",
      "772 3.0229807476663494e-11\n",
      "773 2.843212441321219e-11\n",
      "774 2.673882806118308e-11\n",
      "775 2.5144006104822646e-11\n",
      "776 2.3642072411405124e-11\n",
      "777 2.2227749611321802e-11\n",
      "778 2.0896052351619003e-11\n",
      "779 1.9642271748634716e-11\n",
      "780 1.846196038785818e-11\n",
      "781 1.735091820414337e-11\n",
      "782 1.6305179087387995e-11\n",
      "783 1.5320998135703044e-11\n",
      "784 1.4394839909620256e-11\n",
      "785 1.3523366634452826e-11\n",
      "786 1.2703427805419948e-11\n",
      "787 1.1932049735304957e-11\n",
      "788 1.1206426047942567e-11\n",
      "789 1.0523908339202222e-11\n",
      "790 9.881997718078574e-12\n",
      "791 9.278336448712466e-12\n",
      "792 8.71070023119196e-12\n",
      "793 8.176990902351449e-12\n",
      "794 7.675229385516042e-12\n",
      "795 7.2035491542271016e-12\n",
      "796 6.760189991685428e-12\n",
      "797 6.3434921407007876e-12\n",
      "798 5.951890619286213e-12\n",
      "799 5.583910063782617e-12\n",
      "800 5.238159630027866e-12\n",
      "801 4.913328401137089e-12\n",
      "802 4.6081807886044036e-12\n",
      "803 4.321552360325767e-12\n",
      "804 4.05234588012598e-12\n",
      "805 3.799527528297531e-12\n",
      "806 3.5621232868001196e-12\n",
      "807 3.3392155887361147e-12\n",
      "808 3.1299401555052626e-12\n",
      "809 2.933482978224477e-12\n",
      "810 2.749077438979234e-12\n",
      "811 2.576001632597701e-12\n",
      "812 2.4135758554668047e-12\n",
      "813 2.2611601686321877e-12\n",
      "814 2.118152134018384e-12\n",
      "815 1.983984723463616e-12\n",
      "816 1.8581241890282026e-12\n",
      "817 1.7400682755346062e-12\n",
      "818 1.6293443070297117e-12\n",
      "819 1.525507595022328e-12\n",
      "820 1.4281397011473553e-12\n",
      "821 1.3368470416187163e-12\n",
      "822 1.251259365312676e-12\n",
      "823 1.171028464624086e-12\n",
      "824 1.0958268568196839e-12\n",
      "825 1.0253465992448594e-12\n",
      "826 9.59298142435153e-13\n",
      "827 8.974092633184949e-13\n",
      "828 8.394240782855296e-13\n",
      "829 7.851020508684622e-13\n",
      "830 7.342171040750704e-13\n",
      "831 6.865567836316683e-13\n",
      "832 6.419214530610195e-13\n",
      "833 6.001235406039858e-13\n",
      "834 5.609868232353632e-13\n",
      "835 5.243457774737428e-13\n",
      "836 4.900449034698629e-13\n",
      "837 4.579381664153437e-13\n",
      "838 4.2788844027154984e-13\n",
      "839 3.997669464116457e-13\n",
      "840 3.7345279626786815e-13\n",
      "841 3.488324877060496e-13\n",
      "842 3.257994684702634e-13\n",
      "843 3.042537543924998e-13\n",
      "844 2.8410149964848336e-13\n",
      "845 2.652546221330805e-13\n",
      "846 2.476305049085568e-13\n",
      "847 2.311516081243727e-13\n",
      "848 2.157452196964752e-13\n",
      "849 2.0134311972766434e-13\n",
      "850 1.8788132020695408e-13\n",
      "851 1.7529983666553198e-13\n",
      "852 1.6354239404662391e-13\n",
      "853 1.525562440927452e-13\n",
      "854 1.422919439923389e-13\n",
      "855 1.3270312434851327e-13\n",
      "856 1.2374635156586695e-13\n",
      "857 1.1538089301063768e-13\n",
      "858 1.0756859584101303e-13\n",
      "859 1.0027370683295766e-13\n",
      "860 9.346273166520521e-14\n",
      "861 8.71042935704905e-14\n",
      "862 8.116899551725363e-14\n",
      "863 7.562931831685798e-14\n",
      "864 7.04594786097805e-14\n",
      "865 6.563534544493022e-14\n",
      "866 6.113431612820535e-14\n",
      "867 5.693523680537905e-14\n",
      "868 5.301830545533314e-14\n",
      "869 4.9364988155646594e-14\n",
      "870 4.5957941034718783e-14\n",
      "871 4.278093513770876e-14\n",
      "872 3.981878263088761e-14\n",
      "873 3.7057280236138576e-14\n",
      "874 3.4483140828663145e-14\n",
      "875 3.2083933229721224e-14\n",
      "876 2.9848038182830594e-14\n",
      "877 2.7764584939148647e-14\n",
      "878 2.5823410092018724e-14\n",
      "879 2.4015017062251392e-14\n",
      "880 2.233052418033004e-14\n",
      "881 2.076163015386988e-14\n",
      "882 1.930057918097371e-14\n",
      "883 1.7940125376665794e-14\n",
      "884 1.6673493637866414e-14\n",
      "885 1.54943563010755e-14\n",
      "886 1.4396808449045266e-14\n",
      "887 1.3375323869253657e-14\n",
      "888 1.2424752413597359e-14\n",
      "889 1.1540279153586391e-14\n",
      "890 1.0717408716913678e-14\n",
      "891 9.951948106478503e-15\n",
      "892 9.23997692484805e-15\n",
      "893 8.577843341433166e-15\n",
      "894 7.96213501712914e-15\n",
      "895 7.38966799185848e-15\n",
      "896 6.857473845103307e-15\n",
      "897 6.362781421939093e-15\n",
      "898 5.90300625248206e-15\n",
      "899 5.475738971067167e-15\n",
      "900 5.078731026777125e-15\n",
      "901 4.709887465812371e-15\n",
      "902 4.367254137132767e-15\n",
      "903 4.04900898451757e-15\n",
      "904 3.753455562114766e-15\n",
      "905 3.4790106704889892e-15\n",
      "906 3.2242008453225467e-15\n",
      "907 2.9876510257705153e-15\n",
      "908 2.768082748612488e-15\n",
      "909 2.5643029649909243e-15\n",
      "910 2.375202418223182e-15\n",
      "911 2.19974635880192e-15\n",
      "912 2.036971589455857e-15\n",
      "913 1.8859818371048075e-15\n",
      "914 1.7459430929976444e-15\n",
      "915 1.6160787254699931e-15\n",
      "916 1.4956652420201335e-15\n",
      "917 1.3840305344204797e-15\n",
      "918 1.2805483601323515e-15\n",
      "919 1.1846362282612217e-15\n",
      "920 1.0957533000720815e-15\n",
      "921 1.013395137628878e-15\n",
      "922 9.370933706894561e-16\n",
      "923 8.664129019258773e-16\n",
      "924 8.009480817438999e-16\n",
      "925 7.403230451221403e-16\n",
      "926 6.8418766397570455e-16\n",
      "927 6.322166905556578e-16\n",
      "928 5.84108109450643e-16\n",
      "929 5.395811663332627e-16\n",
      "930 4.983753132015285e-16\n",
      "931 4.60247853865238e-16\n",
      "932 4.249741838420299e-16\n",
      "933 3.923455111592764e-16\n",
      "934 3.621674252791186e-16\n",
      "935 3.34260360875997e-16\n",
      "936 3.084570936813939e-16\n",
      "937 2.8460242228418554e-16\n",
      "938 2.6255236020301574e-16\n",
      "939 2.421737721896629e-16\n",
      "940 2.233424950565943e-16\n",
      "941 2.0594361649738603e-16\n",
      "942 1.8987069128944378e-16\n",
      "943 1.7502483788698444e-16\n",
      "944 1.6131452416725834e-16\n",
      "945 1.486546695413197e-16\n",
      "946 1.3696677287880827e-16\n",
      "947 1.2617764822287623e-16\n",
      "948 1.1621995144491415e-16\n",
      "949 1.0703079110767086e-16\n",
      "950 9.855235117231483e-17\n",
      "951 9.073084589160669e-17\n",
      "952 8.351636751416673e-17\n",
      "953 7.686312654955812e-17\n",
      "954 7.072820095204801e-17\n",
      "955 6.507208526769975e-17\n",
      "956 5.985850701493628e-17\n",
      "957 5.505337075208796e-17\n",
      "958 5.062536032379173e-17\n",
      "959 4.654578769283802e-17\n",
      "960 4.278763762157937e-17\n",
      "961 3.9326200020504704e-17\n",
      "962 3.6138605782784573e-17\n",
      "963 3.3203690844207753e-17\n",
      "964 3.050181488321036e-17\n",
      "965 2.801489326151951e-17\n",
      "966 2.5726234374277044e-17\n",
      "967 2.3620441912440888e-17\n",
      "968 2.1683151808889575e-17\n",
      "969 1.9901167457423368e-17\n",
      "970 1.8262364804152855e-17\n",
      "971 1.6755531224485167e-17\n",
      "972 1.5370211469728848e-17\n",
      "973 1.4096883346144525e-17\n",
      "974 1.2926669837972437e-17\n",
      "975 1.1851390064789143e-17\n",
      "976 1.0863532967582345e-17\n",
      "977 9.956188242297562e-18\n",
      "978 9.12287997255105e-18\n",
      "979 8.357770622640721e-18\n",
      "980 7.655370352020333e-18\n",
      "981 7.010667762991994e-18\n",
      "982 6.4189919561628704e-18\n",
      "983 5.876142733364763e-18\n",
      "984 5.3781487658135384e-18\n",
      "985 4.921378708328072e-18\n",
      "986 4.50252221616526e-18\n",
      "987 4.1184869286020964e-18\n",
      "988 3.766463910860478e-18\n",
      "989 3.4438401942682125e-18\n",
      "990 3.1482138791810856e-18\n",
      "991 2.877374032451957e-18\n",
      "992 2.6292969819595213e-18\n",
      "993 2.4020967175271773e-18\n",
      "994 2.194083419682632e-18\n",
      "995 2.003667494387507e-18\n",
      "996 1.829386527342791e-18\n",
      "997 1.6699010122302993e-18\n",
      "998 1.5239982118004994e-18\n",
      "999 1.3905467867482207e-18\n"
     ]
    }
   ],
   "source": [
    "for epoch in range(1000):\n",
    "    optim.zero_grad()\n",
    "    e3 = e3lnorm(tensor)\n",
    "    # print(e3.shape)\n",
    "    loss = torch.norm(e3 - t)**2\n",
    "    loss.backward()\n",
    "    optim.step()\n",
    "    print(epoch, loss.item())"
   ]
  },
  {
   "cell_type": "code",
   "execution_count": 27,
   "id": "bd1b1e7a-f6eb-4022-9556-d69be2e1ba70",
   "metadata": {},
   "outputs": [
    {
     "name": "stdout",
     "output_type": "stream",
     "text": [
      "1 [2, 1, 2, 6, 6, 0] tensor(5.5213e-08, grad_fn=<LinalgVectorNormBackward0>)\n",
      "2 [2, 1, 2, 6, 6, 0] tensor(1.1705e-07, grad_fn=<LinalgVectorNormBackward0>)\n"
     ]
    }
   ],
   "source": [
    "e3 = e3lnorm(tensor)\n",
    "e3b = TensorBlock(values = e3, samples = b.samples, components = b.components, properties = b.properties)\n",
    "    \n",
    "b0 = mts.slice_block(e3b, axis='samples', labels=Labels([\"structure\"], torch.tensor([0]).reshape(1,1)))\n",
    "for i, rot in enumerate(rotations):\n",
    "    b1 = mts.slice_block(e3b, axis='samples', labels=Labels([\"structure\"], torch.tensor([i+1]).reshape(1,1)))\n",
    "    wd = _wigner_d_real(L, *rot)    \n",
    "    assert torch.allclose(b1.values, torch.einsum('ab,sbp->sap', wd, b0.values), atol=atol, rtol = rtol), (f\"Rotation equivariance test failed for key {k.values.tolist()}\", \n",
    "                                                                                                         torch.norm(b1.values-torch.einsum('ab,sbp->sap', wd, b0.values)), \n",
    "                                                                                                         atol + rtol*torch.norm(torch.einsum('ab,sbp->sap', wd, b0.values))\n",
    "                                                                                                        )\n",
    "    print(i+1, k.values.tolist(), torch.norm(b1.values-torch.einsum('ab,sbp->sap', wd, b0.values)))\n"
   ]
  },
  {
   "cell_type": "code",
   "execution_count": 30,
   "id": "a60a013b-e2ff-449f-bef9-54cb611616cb",
   "metadata": {},
   "outputs": [],
   "source": [
    "aa = torch.randn(6,3,4)\n",
    "c = torch.randn(4)\n",
    "bb = aa+ c.view(1,1,4)"
   ]
  },
  {
   "cell_type": "code",
   "execution_count": 34,
   "id": "b8a7edc7",
   "metadata": {},
   "outputs": [
    {
     "data": {
      "text/plain": [
       "tensor([ 0.4127, -0.3959, -0.5555,  0.0543])"
      ]
     },
     "execution_count": 34,
     "metadata": {},
     "output_type": "execute_result"
    }
   ],
   "source": [
    "c"
   ]
  },
  {
   "cell_type": "code",
   "execution_count": 31,
   "id": "ab55b146",
   "metadata": {},
   "outputs": [
    {
     "data": {
      "text/plain": [
       "tensor([[ 1.3740,  0.1740, -0.4808, -0.8062],\n",
       "        [ 0.5752,  0.3189, -2.2159, -0.9918],\n",
       "        [-0.3546,  0.2316, -0.9255,  0.0672]])"
      ]
     },
     "execution_count": 31,
     "metadata": {},
     "output_type": "execute_result"
    }
   ],
   "source": [
    "bb[0]"
   ]
  },
  {
   "cell_type": "code",
   "execution_count": 33,
   "id": "d0a269cd",
   "metadata": {},
   "outputs": [
    {
     "data": {
      "text/plain": [
       "tensor([[ 0.9613,  0.5699,  0.0747, -0.8605],\n",
       "        [ 0.1625,  0.7148, -1.6604, -1.0461],\n",
       "        [-0.7673,  0.6275, -0.3700,  0.0129]])"
      ]
     },
     "execution_count": 33,
     "metadata": {},
     "output_type": "execute_result"
    }
   ],
   "source": [
    "aa[0]"
   ]
  },
  {
   "cell_type": "code",
   "execution_count": 28,
   "id": "a701840d-cc63-4752-85b4-6d9e5b31f4ee",
   "metadata": {},
   "outputs": [
    {
     "name": "stdout",
     "output_type": "stream",
     "text": [
      "1 [2, 1, 0, 6, 6, 0] tensor(1.2281e-09)\n",
      "2 [2, 1, 0, 6, 6, 0] tensor(5.2012e-10)\n",
      "1 [2, 1, 1, 6, 6, 0] tensor(1.4986e-08)\n",
      "2 [2, 1, 1, 6, 6, 0] tensor(3.2348e-08)\n",
      "1 [2, 1, 2, 6, 6, 0] tensor(1.8393e-08)\n",
      "2 [2, 1, 2, 6, 6, 0] tensor(3.8989e-08)\n",
      "1 [2, 1, 3, 6, 6, 0] tensor(1.8336e-08)\n",
      "2 [2, 1, 3, 6, 6, 0] tensor(3.9044e-08)\n",
      "1 [2, -1, 1, 6, 6, 0] tensor(1.1135e-09)\n",
      "2 [2, -1, 1, 6, 6, 0] tensor(3.8124e-09)\n",
      "1 [2, -1, 2, 6, 6, 0] tensor(9.5609e-09)\n",
      "2 [2, -1, 2, 6, 6, 0] tensor(2.0311e-08)\n",
      "1 [2, -1, 3, 6, 6, 0] tensor(1.6685e-08)\n",
      "2 [2, -1, 3, 6, 6, 0] tensor(3.4824e-08)\n",
      "1 [2, 1, 0, 6, 6, 1] tensor(7.5982e-09)\n",
      "2 [2, 1, 0, 6, 6, 1] tensor(1.5484e-08)\n",
      "1 [2, 1, 0, 6, 6, -1] tensor(2.8189e-09)\n",
      "2 [2, 1, 0, 6, 6, -1] tensor(6.1056e-09)\n",
      "1 [2, 1, 1, 6, 6, 1] tensor(7.2096e-09)\n",
      "2 [2, 1, 1, 6, 6, 1] tensor(1.5153e-08)\n",
      "1 [2, 1, 1, 6, 6, -1] tensor(1.6874e-08)\n",
      "2 [2, 1, 1, 6, 6, -1] tensor(3.4756e-08)\n",
      "1 [2, 1, 2, 6, 6, 1] tensor(2.4655e-08)\n",
      "2 [2, 1, 2, 6, 6, 1] tensor(5.0651e-08)\n",
      "1 [2, 1, 2, 6, 6, -1] tensor(9.1359e-09)\n",
      "2 [2, 1, 2, 6, 6, -1] tensor(1.9344e-08)\n",
      "1 [2, 1, 3, 6, 6, 1] tensor(1.2548e-08)\n",
      "2 [2, 1, 3, 6, 6, 1] tensor(2.6423e-08)\n",
      "1 [2, 1, 3, 6, 6, -1] tensor(3.0626e-08)\n",
      "2 [2, 1, 3, 6, 6, -1] tensor(6.2912e-08)\n",
      "1 [2, -1, 1, 6, 6, 1] tensor(1.0382e-08)\n",
      "2 [2, -1, 1, 6, 6, 1] tensor(2.1703e-08)\n",
      "1 [2, -1, 1, 6, 6, -1] tensor(5.3241e-09)\n",
      "2 [2, -1, 1, 6, 6, -1] tensor(1.0904e-08)\n",
      "1 [2, -1, 2, 6, 6, 1] tensor(7.6459e-09)\n",
      "2 [2, -1, 2, 6, 6, 1] tensor(1.5809e-08)\n",
      "1 [2, -1, 2, 6, 6, -1] tensor(1.6547e-08)\n",
      "2 [2, -1, 2, 6, 6, -1] tensor(3.4198e-08)\n",
      "1 [2, -1, 3, 6, 6, 1] tensor(2.2241e-08)\n",
      "2 [2, -1, 3, 6, 6, 1] tensor(4.6104e-08)\n",
      "1 [2, -1, 3, 6, 6, -1] tensor(1.0311e-08)\n",
      "2 [2, -1, 3, 6, 6, -1] tensor(2.1473e-08)\n"
     ]
    }
   ],
   "source": [
    "for keyidx  in range(len(features)):\n",
    "    k = features.keys[keyidx]\n",
    "    b = features[keyidx]\n",
    "    L = k['spherical_harmonics_l']\n",
    "    tensor = b.values\n",
    "    mean = tensor.mean(dim = (2), keepdim = True)\n",
    "    std = torch.sqrt(tensor.var(keepdim = True) + 1e-6)\n",
    "    e3 = (tensor-mean) #/ std\n",
    "    e3[...,0] \n",
    "    # dummy = target_coupled_blocks[0].properties\n",
    "    # e3b = TensorBlock(values = mean, samples = b.samples, components = b.components, properties = dummy)\n",
    "    e3b = TensorBlock(values = e3, samples = b.samples, components = b.components, properties = b.properties)\n",
    "    \n",
    "    b0 = mts.slice_block(e3b, axis='samples', labels=Labels([\"structure\"], torch.tensor([0]).reshape(1,1)))\n",
    "    # print(b0.values.shape)\n",
    "    for i, rot in enumerate(rotations):\n",
    "        b1 = mts.slice_block(e3b, axis='samples', labels=Labels([\"structure\"], torch.tensor([i+1]).reshape(1,1)))\n",
    "        wd = _wigner_d_real(L, *rot)    \n",
    "        assert torch.allclose(b1.values, torch.einsum('ab,sbp->sap', wd, b0.values), atol=atol, rtol = rtol), (f\"Rotation equivariance test failed for key {k.values.tolist()}\", \n",
    "                                                                                                             torch.norm(b1.values-torch.einsum('ab,sbp->sap', wd, b0.values)), \n",
    "                                                                                                             atol + rtol*torch.norm(torch.einsum('ab,sbp->sap', wd, b0.values))\n",
    "                                                                                                            )\n",
    "        print(i+1, k.values.tolist(), torch.norm(b1.values-torch.einsum('ab,sbp->sap', wd, b0.values)))"
   ]
  },
  {
   "cell_type": "code",
   "execution_count": 54,
   "id": "a7b130e5-3725-4685-8eeb-0a3a08256201",
   "metadata": {},
   "outputs": [
    {
     "data": {
      "text/plain": [
       "tensor([[ 0.0000e+00,  7.0122e-05,  0.0000e+00,  ...,  0.0000e+00,\n",
       "         -1.2700e-04,  0.0000e+00],\n",
       "        [ 0.0000e+00, -8.0773e-05,  0.0000e+00,  ...,  0.0000e+00,\n",
       "          6.7626e-05,  0.0000e+00],\n",
       "        [ 0.0000e+00, -5.3004e-05,  0.0000e+00,  ...,  0.0000e+00,\n",
       "         -2.1004e-04,  0.0000e+00],\n",
       "        ...,\n",
       "        [-1.0589e-04,  2.3576e-05, -1.3280e-04,  ...,  1.1408e-04,\n",
       "         -6.5246e-05,  5.2856e-05],\n",
       "        [ 8.0307e-05,  6.2730e-05, -7.4024e-05,  ..., -8.9345e-06,\n",
       "         -1.1389e-04,  8.7713e-05],\n",
       "        [-8.1998e-05, -1.2061e-05, -3.8075e-05,  ...,  1.9186e-05,\n",
       "          1.7077e-05, -4.8380e-05]])"
      ]
     },
     "execution_count": 54,
     "metadata": {},
     "output_type": "execute_result"
    }
   ],
   "source": [
    " e3[...,0]*2"
   ]
  },
  {
   "cell_type": "code",
   "execution_count": null,
   "id": "28d954cf-6ec5-4d04-8744-d08cf5b71632",
   "metadata": {},
   "outputs": [],
   "source": []
  },
  {
   "cell_type": "code",
   "execution_count": 47,
   "id": "a7513191-ac25-4479-8323-565cdcac4256",
   "metadata": {},
   "outputs": [
    {
     "data": {
      "text/plain": [
       "tensor([[[ 0.0137],\n",
       "         [ 0.0211],\n",
       "         [-0.0157],\n",
       "         [ 0.0027],\n",
       "         [ 0.0134]]])"
      ]
     },
     "execution_count": 47,
     "metadata": {},
     "output_type": "execute_result"
    }
   ],
   "source": [
    "mean"
   ]
  },
  {
   "cell_type": "code",
   "execution_count": 42,
   "id": "02e38194-f948-47a6-ad7b-6930af424f5f",
   "metadata": {},
   "outputs": [
    {
     "data": {
      "text/plain": [
       "tensor([[[0.0069]]])"
      ]
     },
     "execution_count": 42,
     "metadata": {},
     "output_type": "execute_result"
    }
   ],
   "source": [
    "std"
   ]
  },
  {
   "cell_type": "code",
   "execution_count": null,
   "id": "15e5b6ed-2620-41be-88bb-f011bd957aab",
   "metadata": {},
   "outputs": [],
   "source": []
  },
  {
   "cell_type": "markdown",
   "id": "0d57a0f1",
   "metadata": {},
   "source": [
    "# Tests on SPH scipy"
   ]
  },
  {
   "cell_type": "code",
   "execution_count": 8,
   "id": "49eee7b9",
   "metadata": {},
   "outputs": [],
   "source": [
    "from scipy.special import sph_harm\n",
    "from scipy.spatial.transform import * \n",
    "import numpy as np \n",
    "import torch\n",
    "def hermitian_adj(x):\n",
    "    return np.conjugate(x.T)\n",
    "\n",
    "def cart2sph(xyz):\n",
    "    x,y,z = xyz[0], xyz[1], xyz[2]\n",
    "    x2y2 = x**2 + y**2\n",
    "    r = np.sqrt(x2y2 + z**2)               # r\n",
    "    theta = np.arccos(z/r)     # theta\n",
    "    # theta = np.arctan2(x2y2,z)     # theta\n",
    "    # if z==0 and x*y!=0:\n",
    "    #     theta=np.pi/2\n",
    "        \n",
    "    phi = np.arctan2(y,x)                           # phi\n",
    "    return r, theta, phi\n",
    "\n",
    "def rotz(phi):\n",
    "    rotz = np.zeros((3,3)) \n",
    "    rotz[2][2] =1\n",
    "    rotz[0,0] = np.cos(phi)\n",
    "    rotz[1,1] = np.cos(phi)\n",
    "    rotz[0,1] = -np.sin(phi)\n",
    "    rotz[1,0] = np.sin(phi)\n",
    "    return rotz\n",
    "\n",
    "def roty(phi):\n",
    "    roty = np.zeros((3,3)) \n",
    "    roty[1,1] = 1\n",
    "    roty[0,0] = np.cos(phi)\n",
    "    roty[0,2] = np.sin(phi)\n",
    "    \n",
    "    roty[2,0] = -np.sin(phi)\n",
    "    roty[2,2] = np.cos(phi)\n",
    "    return roty"
   ]
  },
  {
   "cell_type": "code",
   "execution_count": 9,
   "id": "1d1a00b7",
   "metadata": {},
   "outputs": [],
   "source": [
    "L = 3\n",
    "alpha = -1\n",
    "theta,phi = np.random.uniform(0,np.pi),np.random.uniform(0,2*np.pi)\n",
    "Ylm = torch.tensor([sph_harm(m, L, phi,theta) for m in range(-L,L+1)])\n",
    "xyz = [np.sin(theta)*np.cos(phi),np.sin(theta)*np.sin(phi), np.cos(theta) ]\n",
    "\n",
    "theta,phi = np.random.uniform(0,np.pi),np.random.uniform(0,2*np.pi)\n",
    "Ylm1 = torch.tensor([sph_harm(m, L, phi,theta) for m in range(-L,L+1)])\n",
    "xyz1 = [np.sin(theta)*np.cos(phi),np.sin(theta)*np.sin(phi), np.cos(theta) ]"
   ]
  },
  {
   "cell_type": "code",
   "execution_count": 10,
   "id": "7f1968c9",
   "metadata": {},
   "outputs": [],
   "source": [
    "# Ylm = Ylm+Ylm1\n",
    "Ylm = Ylm+alpha*Ylm1"
   ]
  },
  {
   "cell_type": "code",
   "execution_count": 11,
   "id": "98685af1",
   "metadata": {},
   "outputs": [],
   "source": [
    "rotation_angles =[np.random.uniform(0, 2*np.pi), np.random.uniform(-np.pi/2, np.pi/2), np.random.uniform(0, 2*np.pi)]"
   ]
  },
  {
   "cell_type": "code",
   "execution_count": 12,
   "id": "5824275c",
   "metadata": {},
   "outputs": [],
   "source": [
    "# rot_xyz = Rotation.from_euler('zyz', rotation_angles).as_matrix() @xyz\n",
    "# rot_xyz1 = Rotation.from_euler('zyz', rotation_angles).as_matrix() @xyz1"
   ]
  },
  {
   "cell_type": "code",
   "execution_count": 13,
   "id": "40737e92",
   "metadata": {},
   "outputs": [
    {
     "name": "stdout",
     "output_type": "stream",
     "text": [
      "[ 0.26391891+0.30559036j -0.1235342 -0.07958168j -0.27355577-0.08048577j\n",
      "  0.15860537+0.j          0.27355577-0.08048577j -0.1235342 +0.07958168j\n",
      " -0.26391891+0.30559036j]\n"
     ]
    }
   ],
   "source": [
    "r, rot_theta, rot_phi = cart2sph(rotz(rotation_angles[0])@roty(rotation_angles[1])@(rotz(rotation_angles[2])@xyz))\n",
    "Ylm_rot = np.asarray([sph_harm(m, L, rot_phi,rot_theta) for m in range(-L,L+1)])\n",
    "print(np.asarray(Ylm_rot))"
   ]
  },
  {
   "cell_type": "code",
   "execution_count": 14,
   "id": "406bb507",
   "metadata": {},
   "outputs": [],
   "source": [
    "r, rot_theta, rot_phi = cart2sph(rotz(rotation_angles[0])@roty(rotation_angles[1])@(rotz(rotation_angles[2])@xyz1))\n",
    "Ylm_rot1 = np.asarray([sph_harm(m, L, rot_phi,rot_theta) for m in range(-L,L+1)])"
   ]
  },
  {
   "cell_type": "code",
   "execution_count": 15,
   "id": "c2ffaefc",
   "metadata": {},
   "outputs": [],
   "source": [
    "# Ylm_rot+= Ylm_rot1\n",
    "Ylm_rot+= alpha*Ylm_rot1"
   ]
  },
  {
   "cell_type": "code",
   "execution_count": 16,
   "id": "7881dc10",
   "metadata": {},
   "outputs": [],
   "source": [
    "from mlelec.utils.symmetry import _wigner_d\n",
    "wd = _wigner_d(L, *rotation_angles)#.numpy()"
   ]
  },
  {
   "cell_type": "code",
   "execution_count": 17,
   "id": "afcd1749",
   "metadata": {},
   "outputs": [],
   "source": [
    "rotate_sph = torch.einsum(\"q, qm->m\", Ylm, hermitian_adj(wd))\n",
    "# rotate_sph += torch.einsum(\"q, qm->m\", Ylm1, hermitian_adj(wd))\n",
    "rotate_sph += alpha*torch.einsum(\"q, qm->m\", Ylm1, hermitian_adj(wd))\n",
    "# print(r'diff between $\\mathbf{R}Y(\\hat{r}) and Y(\\mathbf{R}\\hat{r})', torch.norm(rotate_sph - Ylm_rot).item())"
   ]
  },
  {
   "cell_type": "code",
   "execution_count": 18,
   "id": "2609f3c6",
   "metadata": {},
   "outputs": [
    {
     "name": "stdout",
     "output_type": "stream",
     "text": [
      "diff between $\\mathbf{R}Y(\\hat{r}) and Y(\\mathbf{R}\\hat{r}) 3.849053922355312e-16\n"
     ]
    }
   ],
   "source": [
    "rotate_sph = torch.einsum(\"q, qm->m\", Ylm, hermitian_adj(wd))\n",
    "print(r'diff between $\\mathbf{R}Y(\\hat{r}) and Y(\\mathbf{R}\\hat{r})', torch.norm(rotate_sph - Ylm_rot).item())"
   ]
  },
  {
   "cell_type": "code",
   "execution_count": 19,
   "id": "489c0cf4",
   "metadata": {},
   "outputs": [],
   "source": [
    "# theta1,ph1i = np.random.uniform(size=(2))*np.pi\n"
   ]
  },
  {
   "cell_type": "markdown",
   "id": "9e981c9b-fbc8-48aa-b70b-94fcf64b1a7d",
   "metadata": {},
   "source": [
    "# stupidly simple test on initializing an nn parameter"
   ]
  },
  {
   "cell_type": "code",
   "execution_count": 87,
   "id": "db97347e",
   "metadata": {
    "scrolled": true
   },
   "outputs": [
    {
     "name": "stdout",
     "output_type": "stream",
     "text": [
      "0 tensor(3.7933, grad_fn=<PowBackward0>)\n",
      "1 tensor(3.7544, grad_fn=<PowBackward0>)\n",
      "2 tensor(3.7158, grad_fn=<PowBackward0>)\n",
      "3 tensor(3.6773, grad_fn=<PowBackward0>)\n",
      "4 tensor(3.6391, grad_fn=<PowBackward0>)\n",
      "5 tensor(3.6011, grad_fn=<PowBackward0>)\n",
      "6 tensor(3.5633, grad_fn=<PowBackward0>)\n",
      "7 tensor(3.5257, grad_fn=<PowBackward0>)\n",
      "8 tensor(3.4884, grad_fn=<PowBackward0>)\n",
      "9 tensor(3.4513, grad_fn=<PowBackward0>)\n",
      "10 tensor(3.4144, grad_fn=<PowBackward0>)\n",
      "11 tensor(3.3777, grad_fn=<PowBackward0>)\n",
      "12 tensor(3.3413, grad_fn=<PowBackward0>)\n",
      "13 tensor(3.3051, grad_fn=<PowBackward0>)\n",
      "14 tensor(3.2692, grad_fn=<PowBackward0>)\n",
      "15 tensor(3.2335, grad_fn=<PowBackward0>)\n",
      "16 tensor(3.1980, grad_fn=<PowBackward0>)\n",
      "17 tensor(3.1628, grad_fn=<PowBackward0>)\n",
      "18 tensor(3.1279, grad_fn=<PowBackward0>)\n",
      "19 tensor(3.0932, grad_fn=<PowBackward0>)\n",
      "20 tensor(3.0587, grad_fn=<PowBackward0>)\n",
      "21 tensor(3.0245, grad_fn=<PowBackward0>)\n",
      "22 tensor(2.9906, grad_fn=<PowBackward0>)\n",
      "23 tensor(2.9569, grad_fn=<PowBackward0>)\n",
      "24 tensor(2.9235, grad_fn=<PowBackward0>)\n",
      "25 tensor(2.8903, grad_fn=<PowBackward0>)\n",
      "26 tensor(2.8574, grad_fn=<PowBackward0>)\n",
      "27 tensor(2.8247, grad_fn=<PowBackward0>)\n",
      "28 tensor(2.7923, grad_fn=<PowBackward0>)\n",
      "29 tensor(2.7602, grad_fn=<PowBackward0>)\n",
      "30 tensor(2.7283, grad_fn=<PowBackward0>)\n",
      "31 tensor(2.6967, grad_fn=<PowBackward0>)\n",
      "32 tensor(2.6654, grad_fn=<PowBackward0>)\n",
      "33 tensor(2.6343, grad_fn=<PowBackward0>)\n",
      "34 tensor(2.6035, grad_fn=<PowBackward0>)\n",
      "35 tensor(2.5729, grad_fn=<PowBackward0>)\n",
      "36 tensor(2.5426, grad_fn=<PowBackward0>)\n",
      "37 tensor(2.5125, grad_fn=<PowBackward0>)\n",
      "38 tensor(2.4828, grad_fn=<PowBackward0>)\n",
      "39 tensor(2.4532, grad_fn=<PowBackward0>)\n",
      "40 tensor(2.4240, grad_fn=<PowBackward0>)\n",
      "41 tensor(2.3949, grad_fn=<PowBackward0>)\n",
      "42 tensor(2.3662, grad_fn=<PowBackward0>)\n",
      "43 tensor(2.3377, grad_fn=<PowBackward0>)\n",
      "44 tensor(2.3095, grad_fn=<PowBackward0>)\n",
      "45 tensor(2.2815, grad_fn=<PowBackward0>)\n",
      "46 tensor(2.2538, grad_fn=<PowBackward0>)\n",
      "47 tensor(2.2263, grad_fn=<PowBackward0>)\n",
      "48 tensor(2.1991, grad_fn=<PowBackward0>)\n",
      "49 tensor(2.1721, grad_fn=<PowBackward0>)\n",
      "50 tensor(2.1454, grad_fn=<PowBackward0>)\n",
      "51 tensor(2.1189, grad_fn=<PowBackward0>)\n",
      "52 tensor(2.0927, grad_fn=<PowBackward0>)\n",
      "53 tensor(2.0667, grad_fn=<PowBackward0>)\n",
      "54 tensor(2.0410, grad_fn=<PowBackward0>)\n",
      "55 tensor(2.0155, grad_fn=<PowBackward0>)\n",
      "56 tensor(1.9903, grad_fn=<PowBackward0>)\n",
      "57 tensor(1.9653, grad_fn=<PowBackward0>)\n",
      "58 tensor(1.9405, grad_fn=<PowBackward0>)\n",
      "59 tensor(1.9160, grad_fn=<PowBackward0>)\n",
      "60 tensor(1.8917, grad_fn=<PowBackward0>)\n",
      "61 tensor(1.8677, grad_fn=<PowBackward0>)\n",
      "62 tensor(1.8439, grad_fn=<PowBackward0>)\n",
      "63 tensor(1.8203, grad_fn=<PowBackward0>)\n",
      "64 tensor(1.7970, grad_fn=<PowBackward0>)\n",
      "65 tensor(1.7739, grad_fn=<PowBackward0>)\n",
      "66 tensor(1.7510, grad_fn=<PowBackward0>)\n",
      "67 tensor(1.7284, grad_fn=<PowBackward0>)\n",
      "68 tensor(1.7060, grad_fn=<PowBackward0>)\n",
      "69 tensor(1.6838, grad_fn=<PowBackward0>)\n",
      "70 tensor(1.6618, grad_fn=<PowBackward0>)\n",
      "71 tensor(1.6401, grad_fn=<PowBackward0>)\n",
      "72 tensor(1.6186, grad_fn=<PowBackward0>)\n",
      "73 tensor(1.5973, grad_fn=<PowBackward0>)\n",
      "74 tensor(1.5762, grad_fn=<PowBackward0>)\n",
      "75 tensor(1.5553, grad_fn=<PowBackward0>)\n",
      "76 tensor(1.5347, grad_fn=<PowBackward0>)\n",
      "77 tensor(1.5143, grad_fn=<PowBackward0>)\n",
      "78 tensor(1.4941, grad_fn=<PowBackward0>)\n",
      "79 tensor(1.4741, grad_fn=<PowBackward0>)\n",
      "80 tensor(1.4543, grad_fn=<PowBackward0>)\n",
      "81 tensor(1.4347, grad_fn=<PowBackward0>)\n",
      "82 tensor(1.4153, grad_fn=<PowBackward0>)\n",
      "83 tensor(1.3962, grad_fn=<PowBackward0>)\n",
      "84 tensor(1.3772, grad_fn=<PowBackward0>)\n",
      "85 tensor(1.3585, grad_fn=<PowBackward0>)\n",
      "86 tensor(1.3399, grad_fn=<PowBackward0>)\n",
      "87 tensor(1.3216, grad_fn=<PowBackward0>)\n",
      "88 tensor(1.3034, grad_fn=<PowBackward0>)\n",
      "89 tensor(1.2855, grad_fn=<PowBackward0>)\n",
      "90 tensor(1.2677, grad_fn=<PowBackward0>)\n",
      "91 tensor(1.2501, grad_fn=<PowBackward0>)\n",
      "92 tensor(1.2328, grad_fn=<PowBackward0>)\n",
      "93 tensor(1.2156, grad_fn=<PowBackward0>)\n",
      "94 tensor(1.1986, grad_fn=<PowBackward0>)\n",
      "95 tensor(1.1818, grad_fn=<PowBackward0>)\n",
      "96 tensor(1.1652, grad_fn=<PowBackward0>)\n",
      "97 tensor(1.1488, grad_fn=<PowBackward0>)\n",
      "98 tensor(1.1326, grad_fn=<PowBackward0>)\n",
      "99 tensor(1.1165, grad_fn=<PowBackward0>)\n",
      "100 tensor(1.1007, grad_fn=<PowBackward0>)\n",
      "101 tensor(1.0850, grad_fn=<PowBackward0>)\n",
      "102 tensor(1.0695, grad_fn=<PowBackward0>)\n",
      "103 tensor(1.0541, grad_fn=<PowBackward0>)\n",
      "104 tensor(1.0390, grad_fn=<PowBackward0>)\n",
      "105 tensor(1.0240, grad_fn=<PowBackward0>)\n",
      "106 tensor(1.0092, grad_fn=<PowBackward0>)\n",
      "107 tensor(0.9946, grad_fn=<PowBackward0>)\n",
      "108 tensor(0.9801, grad_fn=<PowBackward0>)\n",
      "109 tensor(0.9658, grad_fn=<PowBackward0>)\n",
      "110 tensor(0.9517, grad_fn=<PowBackward0>)\n",
      "111 tensor(0.9378, grad_fn=<PowBackward0>)\n",
      "112 tensor(0.9240, grad_fn=<PowBackward0>)\n",
      "113 tensor(0.9104, grad_fn=<PowBackward0>)\n",
      "114 tensor(0.8969, grad_fn=<PowBackward0>)\n",
      "115 tensor(0.8836, grad_fn=<PowBackward0>)\n",
      "116 tensor(0.8705, grad_fn=<PowBackward0>)\n",
      "117 tensor(0.8575, grad_fn=<PowBackward0>)\n",
      "118 tensor(0.8447, grad_fn=<PowBackward0>)\n",
      "119 tensor(0.8320, grad_fn=<PowBackward0>)\n",
      "120 tensor(0.8195, grad_fn=<PowBackward0>)\n",
      "121 tensor(0.8071, grad_fn=<PowBackward0>)\n",
      "122 tensor(0.7949, grad_fn=<PowBackward0>)\n",
      "123 tensor(0.7829, grad_fn=<PowBackward0>)\n",
      "124 tensor(0.7710, grad_fn=<PowBackward0>)\n",
      "125 tensor(0.7592, grad_fn=<PowBackward0>)\n",
      "126 tensor(0.7476, grad_fn=<PowBackward0>)\n",
      "127 tensor(0.7361, grad_fn=<PowBackward0>)\n",
      "128 tensor(0.7248, grad_fn=<PowBackward0>)\n",
      "129 tensor(0.7137, grad_fn=<PowBackward0>)\n",
      "130 tensor(0.7026, grad_fn=<PowBackward0>)\n",
      "131 tensor(0.6917, grad_fn=<PowBackward0>)\n",
      "132 tensor(0.6810, grad_fn=<PowBackward0>)\n",
      "133 tensor(0.6704, grad_fn=<PowBackward0>)\n",
      "134 tensor(0.6599, grad_fn=<PowBackward0>)\n",
      "135 tensor(0.6495, grad_fn=<PowBackward0>)\n",
      "136 tensor(0.6393, grad_fn=<PowBackward0>)\n",
      "137 tensor(0.6292, grad_fn=<PowBackward0>)\n",
      "138 tensor(0.6193, grad_fn=<PowBackward0>)\n",
      "139 tensor(0.6095, grad_fn=<PowBackward0>)\n",
      "140 tensor(0.5998, grad_fn=<PowBackward0>)\n",
      "141 tensor(0.5902, grad_fn=<PowBackward0>)\n",
      "142 tensor(0.5808, grad_fn=<PowBackward0>)\n",
      "143 tensor(0.5715, grad_fn=<PowBackward0>)\n",
      "144 tensor(0.5623, grad_fn=<PowBackward0>)\n",
      "145 tensor(0.5532, grad_fn=<PowBackward0>)\n",
      "146 tensor(0.5443, grad_fn=<PowBackward0>)\n",
      "147 tensor(0.5355, grad_fn=<PowBackward0>)\n",
      "148 tensor(0.5268, grad_fn=<PowBackward0>)\n",
      "149 tensor(0.5182, grad_fn=<PowBackward0>)\n",
      "150 tensor(0.5097, grad_fn=<PowBackward0>)\n",
      "151 tensor(0.5014, grad_fn=<PowBackward0>)\n",
      "152 tensor(0.4932, grad_fn=<PowBackward0>)\n",
      "153 tensor(0.4850, grad_fn=<PowBackward0>)\n",
      "154 tensor(0.4770, grad_fn=<PowBackward0>)\n",
      "155 tensor(0.4691, grad_fn=<PowBackward0>)\n",
      "156 tensor(0.4613, grad_fn=<PowBackward0>)\n",
      "157 tensor(0.4536, grad_fn=<PowBackward0>)\n",
      "158 tensor(0.4461, grad_fn=<PowBackward0>)\n",
      "159 tensor(0.4386, grad_fn=<PowBackward0>)\n",
      "160 tensor(0.4312, grad_fn=<PowBackward0>)\n",
      "161 tensor(0.4240, grad_fn=<PowBackward0>)\n",
      "162 tensor(0.4168, grad_fn=<PowBackward0>)\n",
      "163 tensor(0.4098, grad_fn=<PowBackward0>)\n",
      "164 tensor(0.4028, grad_fn=<PowBackward0>)\n",
      "165 tensor(0.3960, grad_fn=<PowBackward0>)\n",
      "166 tensor(0.3892, grad_fn=<PowBackward0>)\n",
      "167 tensor(0.3826, grad_fn=<PowBackward0>)\n",
      "168 tensor(0.3760, grad_fn=<PowBackward0>)\n",
      "169 tensor(0.3695, grad_fn=<PowBackward0>)\n",
      "170 tensor(0.3632, grad_fn=<PowBackward0>)\n",
      "171 tensor(0.3569, grad_fn=<PowBackward0>)\n",
      "172 tensor(0.3507, grad_fn=<PowBackward0>)\n",
      "173 tensor(0.3446, grad_fn=<PowBackward0>)\n",
      "174 tensor(0.3386, grad_fn=<PowBackward0>)\n",
      "175 tensor(0.3327, grad_fn=<PowBackward0>)\n",
      "176 tensor(0.3269, grad_fn=<PowBackward0>)\n",
      "177 tensor(0.3211, grad_fn=<PowBackward0>)\n",
      "178 tensor(0.3155, grad_fn=<PowBackward0>)\n",
      "179 tensor(0.3099, grad_fn=<PowBackward0>)\n",
      "180 tensor(0.3044, grad_fn=<PowBackward0>)\n",
      "181 tensor(0.2990, grad_fn=<PowBackward0>)\n",
      "182 tensor(0.2937, grad_fn=<PowBackward0>)\n",
      "183 tensor(0.2884, grad_fn=<PowBackward0>)\n",
      "184 tensor(0.2833, grad_fn=<PowBackward0>)\n",
      "185 tensor(0.2782, grad_fn=<PowBackward0>)\n",
      "186 tensor(0.2732, grad_fn=<PowBackward0>)\n",
      "187 tensor(0.2683, grad_fn=<PowBackward0>)\n",
      "188 tensor(0.2634, grad_fn=<PowBackward0>)\n",
      "189 tensor(0.2586, grad_fn=<PowBackward0>)\n",
      "190 tensor(0.2539, grad_fn=<PowBackward0>)\n",
      "191 tensor(0.2493, grad_fn=<PowBackward0>)\n",
      "192 tensor(0.2448, grad_fn=<PowBackward0>)\n",
      "193 tensor(0.2403, grad_fn=<PowBackward0>)\n",
      "194 tensor(0.2359, grad_fn=<PowBackward0>)\n",
      "195 tensor(0.2315, grad_fn=<PowBackward0>)\n",
      "196 tensor(0.2273, grad_fn=<PowBackward0>)\n",
      "197 tensor(0.2231, grad_fn=<PowBackward0>)\n",
      "198 tensor(0.2189, grad_fn=<PowBackward0>)\n",
      "199 tensor(0.2148, grad_fn=<PowBackward0>)\n",
      "200 tensor(0.2108, grad_fn=<PowBackward0>)\n",
      "201 tensor(0.2069, grad_fn=<PowBackward0>)\n",
      "202 tensor(0.2030, grad_fn=<PowBackward0>)\n",
      "203 tensor(0.1992, grad_fn=<PowBackward0>)\n",
      "204 tensor(0.1955, grad_fn=<PowBackward0>)\n",
      "205 tensor(0.1918, grad_fn=<PowBackward0>)\n",
      "206 tensor(0.1881, grad_fn=<PowBackward0>)\n",
      "207 tensor(0.1846, grad_fn=<PowBackward0>)\n",
      "208 tensor(0.1810, grad_fn=<PowBackward0>)\n",
      "209 tensor(0.1776, grad_fn=<PowBackward0>)\n",
      "210 tensor(0.1742, grad_fn=<PowBackward0>)\n",
      "211 tensor(0.1709, grad_fn=<PowBackward0>)\n",
      "212 tensor(0.1676, grad_fn=<PowBackward0>)\n",
      "213 tensor(0.1643, grad_fn=<PowBackward0>)\n",
      "214 tensor(0.1612, grad_fn=<PowBackward0>)\n",
      "215 tensor(0.1581, grad_fn=<PowBackward0>)\n",
      "216 tensor(0.1550, grad_fn=<PowBackward0>)\n",
      "217 tensor(0.1520, grad_fn=<PowBackward0>)\n",
      "218 tensor(0.1490, grad_fn=<PowBackward0>)\n",
      "219 tensor(0.1461, grad_fn=<PowBackward0>)\n",
      "220 tensor(0.1432, grad_fn=<PowBackward0>)\n",
      "221 tensor(0.1404, grad_fn=<PowBackward0>)\n",
      "222 tensor(0.1376, grad_fn=<PowBackward0>)\n",
      "223 tensor(0.1349, grad_fn=<PowBackward0>)\n",
      "224 tensor(0.1323, grad_fn=<PowBackward0>)\n",
      "225 tensor(0.1296, grad_fn=<PowBackward0>)\n",
      "226 tensor(0.1271, grad_fn=<PowBackward0>)\n",
      "227 tensor(0.1245, grad_fn=<PowBackward0>)\n",
      "228 tensor(0.1220, grad_fn=<PowBackward0>)\n",
      "229 tensor(0.1196, grad_fn=<PowBackward0>)\n",
      "230 tensor(0.1172, grad_fn=<PowBackward0>)\n",
      "231 tensor(0.1148, grad_fn=<PowBackward0>)\n",
      "232 tensor(0.1125, grad_fn=<PowBackward0>)\n",
      "233 tensor(0.1102, grad_fn=<PowBackward0>)\n",
      "234 tensor(0.1080, grad_fn=<PowBackward0>)\n",
      "235 tensor(0.1058, grad_fn=<PowBackward0>)\n",
      "236 tensor(0.1036, grad_fn=<PowBackward0>)\n",
      "237 tensor(0.1015, grad_fn=<PowBackward0>)\n",
      "238 tensor(0.0994, grad_fn=<PowBackward0>)\n",
      "239 tensor(0.0974, grad_fn=<PowBackward0>)\n",
      "240 tensor(0.0954, grad_fn=<PowBackward0>)\n",
      "241 tensor(0.0934, grad_fn=<PowBackward0>)\n",
      "242 tensor(0.0915, grad_fn=<PowBackward0>)\n",
      "243 tensor(0.0896, grad_fn=<PowBackward0>)\n",
      "244 tensor(0.0877, grad_fn=<PowBackward0>)\n",
      "245 tensor(0.0859, grad_fn=<PowBackward0>)\n",
      "246 tensor(0.0841, grad_fn=<PowBackward0>)\n",
      "247 tensor(0.0824, grad_fn=<PowBackward0>)\n",
      "248 tensor(0.0806, grad_fn=<PowBackward0>)\n",
      "249 tensor(0.0789, grad_fn=<PowBackward0>)\n",
      "250 tensor(0.0773, grad_fn=<PowBackward0>)\n",
      "251 tensor(0.0756, grad_fn=<PowBackward0>)\n",
      "252 tensor(0.0740, grad_fn=<PowBackward0>)\n",
      "253 tensor(0.0725, grad_fn=<PowBackward0>)\n",
      "254 tensor(0.0709, grad_fn=<PowBackward0>)\n",
      "255 tensor(0.0694, grad_fn=<PowBackward0>)\n",
      "256 tensor(0.0679, grad_fn=<PowBackward0>)\n",
      "257 tensor(0.0665, grad_fn=<PowBackward0>)\n",
      "258 tensor(0.0651, grad_fn=<PowBackward0>)\n",
      "259 tensor(0.0637, grad_fn=<PowBackward0>)\n",
      "260 tensor(0.0623, grad_fn=<PowBackward0>)\n",
      "261 tensor(0.0609, grad_fn=<PowBackward0>)\n",
      "262 tensor(0.0596, grad_fn=<PowBackward0>)\n",
      "263 tensor(0.0583, grad_fn=<PowBackward0>)\n",
      "264 tensor(0.0571, grad_fn=<PowBackward0>)\n",
      "265 tensor(0.0558, grad_fn=<PowBackward0>)\n",
      "266 tensor(0.0546, grad_fn=<PowBackward0>)\n",
      "267 tensor(0.0534, grad_fn=<PowBackward0>)\n",
      "268 tensor(0.0522, grad_fn=<PowBackward0>)\n",
      "269 tensor(0.0511, grad_fn=<PowBackward0>)\n",
      "270 tensor(0.0499, grad_fn=<PowBackward0>)\n",
      "271 tensor(0.0488, grad_fn=<PowBackward0>)\n",
      "272 tensor(0.0478, grad_fn=<PowBackward0>)\n",
      "273 tensor(0.0467, grad_fn=<PowBackward0>)\n",
      "274 tensor(0.0457, grad_fn=<PowBackward0>)\n",
      "275 tensor(0.0446, grad_fn=<PowBackward0>)\n",
      "276 tensor(0.0436, grad_fn=<PowBackward0>)\n",
      "277 tensor(0.0427, grad_fn=<PowBackward0>)\n",
      "278 tensor(0.0417, grad_fn=<PowBackward0>)\n",
      "279 tensor(0.0408, grad_fn=<PowBackward0>)\n",
      "280 tensor(0.0399, grad_fn=<PowBackward0>)\n",
      "281 tensor(0.0390, grad_fn=<PowBackward0>)\n",
      "282 tensor(0.0381, grad_fn=<PowBackward0>)\n",
      "283 tensor(0.0372, grad_fn=<PowBackward0>)\n",
      "284 tensor(0.0364, grad_fn=<PowBackward0>)\n",
      "285 tensor(0.0355, grad_fn=<PowBackward0>)\n",
      "286 tensor(0.0347, grad_fn=<PowBackward0>)\n",
      "287 tensor(0.0339, grad_fn=<PowBackward0>)\n",
      "288 tensor(0.0331, grad_fn=<PowBackward0>)\n",
      "289 tensor(0.0324, grad_fn=<PowBackward0>)\n",
      "290 tensor(0.0316, grad_fn=<PowBackward0>)\n",
      "291 tensor(0.0309, grad_fn=<PowBackward0>)\n",
      "292 tensor(0.0302, grad_fn=<PowBackward0>)\n",
      "293 tensor(0.0295, grad_fn=<PowBackward0>)\n",
      "294 tensor(0.0288, grad_fn=<PowBackward0>)\n",
      "295 tensor(0.0281, grad_fn=<PowBackward0>)\n",
      "296 tensor(0.0275, grad_fn=<PowBackward0>)\n",
      "297 tensor(0.0268, grad_fn=<PowBackward0>)\n",
      "298 tensor(0.0262, grad_fn=<PowBackward0>)\n",
      "299 tensor(0.0256, grad_fn=<PowBackward0>)\n",
      "300 tensor(0.0250, grad_fn=<PowBackward0>)\n",
      "301 tensor(0.0244, grad_fn=<PowBackward0>)\n",
      "302 tensor(0.0238, grad_fn=<PowBackward0>)\n",
      "303 tensor(0.0233, grad_fn=<PowBackward0>)\n",
      "304 tensor(0.0227, grad_fn=<PowBackward0>)\n",
      "305 tensor(0.0222, grad_fn=<PowBackward0>)\n",
      "306 tensor(0.0216, grad_fn=<PowBackward0>)\n",
      "307 tensor(0.0211, grad_fn=<PowBackward0>)\n",
      "308 tensor(0.0206, grad_fn=<PowBackward0>)\n",
      "309 tensor(0.0201, grad_fn=<PowBackward0>)\n",
      "310 tensor(0.0196, grad_fn=<PowBackward0>)\n",
      "311 tensor(0.0192, grad_fn=<PowBackward0>)\n",
      "312 tensor(0.0187, grad_fn=<PowBackward0>)\n",
      "313 tensor(0.0182, grad_fn=<PowBackward0>)\n",
      "314 tensor(0.0178, grad_fn=<PowBackward0>)\n",
      "315 tensor(0.0174, grad_fn=<PowBackward0>)\n",
      "316 tensor(0.0169, grad_fn=<PowBackward0>)\n",
      "317 tensor(0.0165, grad_fn=<PowBackward0>)\n",
      "318 tensor(0.0161, grad_fn=<PowBackward0>)\n",
      "319 tensor(0.0157, grad_fn=<PowBackward0>)\n",
      "320 tensor(0.0153, grad_fn=<PowBackward0>)\n",
      "321 tensor(0.0150, grad_fn=<PowBackward0>)\n",
      "322 tensor(0.0146, grad_fn=<PowBackward0>)\n",
      "323 tensor(0.0142, grad_fn=<PowBackward0>)\n",
      "324 tensor(0.0139, grad_fn=<PowBackward0>)\n",
      "325 tensor(0.0135, grad_fn=<PowBackward0>)\n",
      "326 tensor(0.0132, grad_fn=<PowBackward0>)\n",
      "327 tensor(0.0129, grad_fn=<PowBackward0>)\n",
      "328 tensor(0.0126, grad_fn=<PowBackward0>)\n",
      "329 tensor(0.0122, grad_fn=<PowBackward0>)\n",
      "330 tensor(0.0119, grad_fn=<PowBackward0>)\n",
      "331 tensor(0.0116, grad_fn=<PowBackward0>)\n",
      "332 tensor(0.0113, grad_fn=<PowBackward0>)\n",
      "333 tensor(0.0111, grad_fn=<PowBackward0>)\n",
      "334 tensor(0.0108, grad_fn=<PowBackward0>)\n",
      "335 tensor(0.0105, grad_fn=<PowBackward0>)\n",
      "336 tensor(0.0102, grad_fn=<PowBackward0>)\n",
      "337 tensor(0.0100, grad_fn=<PowBackward0>)\n",
      "338 tensor(0.0097, grad_fn=<PowBackward0>)\n",
      "339 tensor(0.0095, grad_fn=<PowBackward0>)\n",
      "340 tensor(0.0092, grad_fn=<PowBackward0>)\n",
      "341 tensor(0.0090, grad_fn=<PowBackward0>)\n",
      "342 tensor(0.0088, grad_fn=<PowBackward0>)\n",
      "343 tensor(0.0085, grad_fn=<PowBackward0>)\n",
      "344 tensor(0.0083, grad_fn=<PowBackward0>)\n",
      "345 tensor(0.0081, grad_fn=<PowBackward0>)\n",
      "346 tensor(0.0079, grad_fn=<PowBackward0>)\n",
      "347 tensor(0.0077, grad_fn=<PowBackward0>)\n",
      "348 tensor(0.0075, grad_fn=<PowBackward0>)\n",
      "349 tensor(0.0073, grad_fn=<PowBackward0>)\n",
      "350 tensor(0.0071, grad_fn=<PowBackward0>)\n",
      "351 tensor(0.0069, grad_fn=<PowBackward0>)\n",
      "352 tensor(0.0067, grad_fn=<PowBackward0>)\n",
      "353 tensor(0.0066, grad_fn=<PowBackward0>)\n",
      "354 tensor(0.0064, grad_fn=<PowBackward0>)\n",
      "355 tensor(0.0062, grad_fn=<PowBackward0>)\n",
      "356 tensor(0.0061, grad_fn=<PowBackward0>)\n",
      "357 tensor(0.0059, grad_fn=<PowBackward0>)\n",
      "358 tensor(0.0057, grad_fn=<PowBackward0>)\n",
      "359 tensor(0.0056, grad_fn=<PowBackward0>)\n",
      "360 tensor(0.0054, grad_fn=<PowBackward0>)\n",
      "361 tensor(0.0053, grad_fn=<PowBackward0>)\n",
      "362 tensor(0.0052, grad_fn=<PowBackward0>)\n",
      "363 tensor(0.0050, grad_fn=<PowBackward0>)\n",
      "364 tensor(0.0049, grad_fn=<PowBackward0>)\n",
      "365 tensor(0.0048, grad_fn=<PowBackward0>)\n",
      "366 tensor(0.0046, grad_fn=<PowBackward0>)\n",
      "367 tensor(0.0045, grad_fn=<PowBackward0>)\n",
      "368 tensor(0.0044, grad_fn=<PowBackward0>)\n",
      "369 tensor(0.0043, grad_fn=<PowBackward0>)\n",
      "370 tensor(0.0041, grad_fn=<PowBackward0>)\n",
      "371 tensor(0.0040, grad_fn=<PowBackward0>)\n",
      "372 tensor(0.0039, grad_fn=<PowBackward0>)\n",
      "373 tensor(0.0038, grad_fn=<PowBackward0>)\n",
      "374 tensor(0.0037, grad_fn=<PowBackward0>)\n",
      "375 tensor(0.0036, grad_fn=<PowBackward0>)\n",
      "376 tensor(0.0035, grad_fn=<PowBackward0>)\n",
      "377 tensor(0.0034, grad_fn=<PowBackward0>)\n",
      "378 tensor(0.0033, grad_fn=<PowBackward0>)\n",
      "379 tensor(0.0032, grad_fn=<PowBackward0>)\n",
      "380 tensor(0.0031, grad_fn=<PowBackward0>)\n",
      "381 tensor(0.0031, grad_fn=<PowBackward0>)\n",
      "382 tensor(0.0030, grad_fn=<PowBackward0>)\n",
      "383 tensor(0.0029, grad_fn=<PowBackward0>)\n",
      "384 tensor(0.0028, grad_fn=<PowBackward0>)\n",
      "385 tensor(0.0027, grad_fn=<PowBackward0>)\n",
      "386 tensor(0.0027, grad_fn=<PowBackward0>)\n",
      "387 tensor(0.0026, grad_fn=<PowBackward0>)\n",
      "388 tensor(0.0025, grad_fn=<PowBackward0>)\n",
      "389 tensor(0.0024, grad_fn=<PowBackward0>)\n",
      "390 tensor(0.0024, grad_fn=<PowBackward0>)\n",
      "391 tensor(0.0023, grad_fn=<PowBackward0>)\n",
      "392 tensor(0.0022, grad_fn=<PowBackward0>)\n",
      "393 tensor(0.0022, grad_fn=<PowBackward0>)\n",
      "394 tensor(0.0021, grad_fn=<PowBackward0>)\n",
      "395 tensor(0.0021, grad_fn=<PowBackward0>)\n",
      "396 tensor(0.0020, grad_fn=<PowBackward0>)\n",
      "397 tensor(0.0019, grad_fn=<PowBackward0>)\n",
      "398 tensor(0.0019, grad_fn=<PowBackward0>)\n",
      "399 tensor(0.0018, grad_fn=<PowBackward0>)\n",
      "400 tensor(0.0018, grad_fn=<PowBackward0>)\n",
      "401 tensor(0.0017, grad_fn=<PowBackward0>)\n",
      "402 tensor(0.0017, grad_fn=<PowBackward0>)\n",
      "403 tensor(0.0016, grad_fn=<PowBackward0>)\n",
      "404 tensor(0.0016, grad_fn=<PowBackward0>)\n",
      "405 tensor(0.0015, grad_fn=<PowBackward0>)\n",
      "406 tensor(0.0015, grad_fn=<PowBackward0>)\n",
      "407 tensor(0.0014, grad_fn=<PowBackward0>)\n",
      "408 tensor(0.0014, grad_fn=<PowBackward0>)\n",
      "409 tensor(0.0014, grad_fn=<PowBackward0>)\n",
      "410 tensor(0.0013, grad_fn=<PowBackward0>)\n",
      "411 tensor(0.0013, grad_fn=<PowBackward0>)\n",
      "412 tensor(0.0013, grad_fn=<PowBackward0>)\n",
      "413 tensor(0.0012, grad_fn=<PowBackward0>)\n",
      "414 tensor(0.0012, grad_fn=<PowBackward0>)\n",
      "415 tensor(0.0011, grad_fn=<PowBackward0>)\n",
      "416 tensor(0.0011, grad_fn=<PowBackward0>)\n",
      "417 tensor(0.0011, grad_fn=<PowBackward0>)\n",
      "418 tensor(0.0010, grad_fn=<PowBackward0>)\n",
      "419 tensor(0.0010, grad_fn=<PowBackward0>)\n",
      "420 tensor(0.0010, grad_fn=<PowBackward0>)\n",
      "421 tensor(0.0010, grad_fn=<PowBackward0>)\n",
      "422 tensor(0.0009, grad_fn=<PowBackward0>)\n",
      "423 tensor(0.0009, grad_fn=<PowBackward0>)\n",
      "424 tensor(0.0009, grad_fn=<PowBackward0>)\n",
      "425 tensor(0.0008, grad_fn=<PowBackward0>)\n",
      "426 tensor(0.0008, grad_fn=<PowBackward0>)\n",
      "427 tensor(0.0008, grad_fn=<PowBackward0>)\n",
      "428 tensor(0.0008, grad_fn=<PowBackward0>)\n",
      "429 tensor(0.0007, grad_fn=<PowBackward0>)\n",
      "430 tensor(0.0007, grad_fn=<PowBackward0>)\n",
      "431 tensor(0.0007, grad_fn=<PowBackward0>)\n",
      "432 tensor(0.0007, grad_fn=<PowBackward0>)\n",
      "433 tensor(0.0007, grad_fn=<PowBackward0>)\n",
      "434 tensor(0.0006, grad_fn=<PowBackward0>)\n",
      "435 tensor(0.0006, grad_fn=<PowBackward0>)\n",
      "436 tensor(0.0006, grad_fn=<PowBackward0>)\n",
      "437 tensor(0.0006, grad_fn=<PowBackward0>)\n",
      "438 tensor(0.0006, grad_fn=<PowBackward0>)\n",
      "439 tensor(0.0006, grad_fn=<PowBackward0>)\n",
      "440 tensor(0.0005, grad_fn=<PowBackward0>)\n",
      "441 tensor(0.0005, grad_fn=<PowBackward0>)\n",
      "442 tensor(0.0005, grad_fn=<PowBackward0>)\n",
      "443 tensor(0.0005, grad_fn=<PowBackward0>)\n",
      "444 tensor(0.0005, grad_fn=<PowBackward0>)\n",
      "445 tensor(0.0005, grad_fn=<PowBackward0>)\n",
      "446 tensor(0.0004, grad_fn=<PowBackward0>)\n",
      "447 tensor(0.0004, grad_fn=<PowBackward0>)\n",
      "448 tensor(0.0004, grad_fn=<PowBackward0>)\n",
      "449 tensor(0.0004, grad_fn=<PowBackward0>)\n",
      "450 tensor(0.0004, grad_fn=<PowBackward0>)\n",
      "451 tensor(0.0004, grad_fn=<PowBackward0>)\n",
      "452 tensor(0.0004, grad_fn=<PowBackward0>)\n",
      "453 tensor(0.0004, grad_fn=<PowBackward0>)\n",
      "454 tensor(0.0003, grad_fn=<PowBackward0>)\n",
      "455 tensor(0.0003, grad_fn=<PowBackward0>)\n",
      "456 tensor(0.0003, grad_fn=<PowBackward0>)\n",
      "457 tensor(0.0003, grad_fn=<PowBackward0>)\n",
      "458 tensor(0.0003, grad_fn=<PowBackward0>)\n",
      "459 tensor(0.0003, grad_fn=<PowBackward0>)\n",
      "460 tensor(0.0003, grad_fn=<PowBackward0>)\n",
      "461 tensor(0.0003, grad_fn=<PowBackward0>)\n",
      "462 tensor(0.0003, grad_fn=<PowBackward0>)\n",
      "463 tensor(0.0003, grad_fn=<PowBackward0>)\n",
      "464 tensor(0.0002, grad_fn=<PowBackward0>)\n",
      "465 tensor(0.0002, grad_fn=<PowBackward0>)\n",
      "466 tensor(0.0002, grad_fn=<PowBackward0>)\n",
      "467 tensor(0.0002, grad_fn=<PowBackward0>)\n",
      "468 tensor(0.0002, grad_fn=<PowBackward0>)\n",
      "469 tensor(0.0002, grad_fn=<PowBackward0>)\n",
      "470 tensor(0.0002, grad_fn=<PowBackward0>)\n",
      "471 tensor(0.0002, grad_fn=<PowBackward0>)\n",
      "472 tensor(0.0002, grad_fn=<PowBackward0>)\n",
      "473 tensor(0.0002, grad_fn=<PowBackward0>)\n",
      "474 tensor(0.0002, grad_fn=<PowBackward0>)\n",
      "475 tensor(0.0002, grad_fn=<PowBackward0>)\n",
      "476 tensor(0.0002, grad_fn=<PowBackward0>)\n",
      "477 tensor(0.0002, grad_fn=<PowBackward0>)\n",
      "478 tensor(0.0002, grad_fn=<PowBackward0>)\n",
      "479 tensor(0.0002, grad_fn=<PowBackward0>)\n",
      "480 tensor(0.0001, grad_fn=<PowBackward0>)\n",
      "481 tensor(0.0001, grad_fn=<PowBackward0>)\n",
      "482 tensor(0.0001, grad_fn=<PowBackward0>)\n",
      "483 tensor(0.0001, grad_fn=<PowBackward0>)\n",
      "484 tensor(0.0001, grad_fn=<PowBackward0>)\n",
      "485 tensor(0.0001, grad_fn=<PowBackward0>)\n",
      "486 tensor(0.0001, grad_fn=<PowBackward0>)\n",
      "487 tensor(0.0001, grad_fn=<PowBackward0>)\n",
      "488 tensor(0.0001, grad_fn=<PowBackward0>)\n",
      "489 tensor(0.0001, grad_fn=<PowBackward0>)\n",
      "490 tensor(0.0001, grad_fn=<PowBackward0>)\n",
      "491 tensor(0.0001, grad_fn=<PowBackward0>)\n",
      "492 tensor(9.8601e-05, grad_fn=<PowBackward0>)\n",
      "493 tensor(9.5315e-05, grad_fn=<PowBackward0>)\n",
      "494 tensor(9.2132e-05, grad_fn=<PowBackward0>)\n",
      "495 tensor(8.9051e-05, grad_fn=<PowBackward0>)\n",
      "496 tensor(8.6069e-05, grad_fn=<PowBackward0>)\n",
      "497 tensor(8.3182e-05, grad_fn=<PowBackward0>)\n",
      "498 tensor(8.0387e-05, grad_fn=<PowBackward0>)\n",
      "499 tensor(7.7683e-05, grad_fn=<PowBackward0>)\n",
      "500 tensor(7.5065e-05, grad_fn=<PowBackward0>)\n",
      "501 tensor(7.2531e-05, grad_fn=<PowBackward0>)\n",
      "502 tensor(7.0079e-05, grad_fn=<PowBackward0>)\n",
      "503 tensor(6.7707e-05, grad_fn=<PowBackward0>)\n",
      "504 tensor(6.5411e-05, grad_fn=<PowBackward0>)\n",
      "505 tensor(6.3189e-05, grad_fn=<PowBackward0>)\n",
      "506 tensor(6.1040e-05, grad_fn=<PowBackward0>)\n",
      "507 tensor(5.8961e-05, grad_fn=<PowBackward0>)\n",
      "508 tensor(5.6949e-05, grad_fn=<PowBackward0>)\n",
      "509 tensor(5.5003e-05, grad_fn=<PowBackward0>)\n",
      "510 tensor(5.3121e-05, grad_fn=<PowBackward0>)\n",
      "511 tensor(5.1300e-05, grad_fn=<PowBackward0>)\n",
      "512 tensor(4.9539e-05, grad_fn=<PowBackward0>)\n",
      "513 tensor(4.7836e-05, grad_fn=<PowBackward0>)\n",
      "514 tensor(4.6189e-05, grad_fn=<PowBackward0>)\n",
      "515 tensor(4.4596e-05, grad_fn=<PowBackward0>)\n",
      "516 tensor(4.3056e-05, grad_fn=<PowBackward0>)\n",
      "517 tensor(4.1567e-05, grad_fn=<PowBackward0>)\n",
      "518 tensor(4.0127e-05, grad_fn=<PowBackward0>)\n",
      "519 tensor(3.8735e-05, grad_fn=<PowBackward0>)\n",
      "520 tensor(3.7389e-05, grad_fn=<PowBackward0>)\n",
      "521 tensor(3.6088e-05, grad_fn=<PowBackward0>)\n",
      "522 tensor(3.4830e-05, grad_fn=<PowBackward0>)\n",
      "523 tensor(3.3615e-05, grad_fn=<PowBackward0>)\n",
      "524 tensor(3.2439e-05, grad_fn=<PowBackward0>)\n",
      "525 tensor(3.1304e-05, grad_fn=<PowBackward0>)\n",
      "526 tensor(3.0206e-05, grad_fn=<PowBackward0>)\n",
      "527 tensor(2.9146e-05, grad_fn=<PowBackward0>)\n",
      "528 tensor(2.8121e-05, grad_fn=<PowBackward0>)\n",
      "529 tensor(2.7130e-05, grad_fn=<PowBackward0>)\n",
      "530 tensor(2.6173e-05, grad_fn=<PowBackward0>)\n",
      "531 tensor(2.5249e-05, grad_fn=<PowBackward0>)\n",
      "532 tensor(2.4355e-05, grad_fn=<PowBackward0>)\n",
      "533 tensor(2.3492e-05, grad_fn=<PowBackward0>)\n",
      "534 tensor(2.2659e-05, grad_fn=<PowBackward0>)\n",
      "535 tensor(2.1854e-05, grad_fn=<PowBackward0>)\n",
      "536 tensor(2.1076e-05, grad_fn=<PowBackward0>)\n",
      "537 tensor(2.0325e-05, grad_fn=<PowBackward0>)\n",
      "538 tensor(1.9599e-05, grad_fn=<PowBackward0>)\n",
      "539 tensor(1.8898e-05, grad_fn=<PowBackward0>)\n",
      "540 tensor(1.8222e-05, grad_fn=<PowBackward0>)\n",
      "541 tensor(1.7568e-05, grad_fn=<PowBackward0>)\n",
      "542 tensor(1.6938e-05, grad_fn=<PowBackward0>)\n",
      "543 tensor(1.6328e-05, grad_fn=<PowBackward0>)\n",
      "544 tensor(1.5740e-05, grad_fn=<PowBackward0>)\n",
      "545 tensor(1.5173e-05, grad_fn=<PowBackward0>)\n",
      "546 tensor(1.4625e-05, grad_fn=<PowBackward0>)\n",
      "547 tensor(1.4095e-05, grad_fn=<PowBackward0>)\n",
      "548 tensor(1.3585e-05, grad_fn=<PowBackward0>)\n",
      "549 tensor(1.3092e-05, grad_fn=<PowBackward0>)\n",
      "550 tensor(1.2616e-05, grad_fn=<PowBackward0>)\n",
      "551 tensor(1.2157e-05, grad_fn=<PowBackward0>)\n",
      "552 tensor(1.1714e-05, grad_fn=<PowBackward0>)\n",
      "553 tensor(1.1287e-05, grad_fn=<PowBackward0>)\n",
      "554 tensor(1.0874e-05, grad_fn=<PowBackward0>)\n",
      "555 tensor(1.0476e-05, grad_fn=<PowBackward0>)\n",
      "556 tensor(1.0092e-05, grad_fn=<PowBackward0>)\n",
      "557 tensor(9.7216e-06, grad_fn=<PowBackward0>)\n",
      "558 tensor(9.3642e-06, grad_fn=<PowBackward0>)\n",
      "559 tensor(9.0194e-06, grad_fn=<PowBackward0>)\n",
      "560 tensor(8.6869e-06, grad_fn=<PowBackward0>)\n",
      "561 tensor(8.3661e-06, grad_fn=<PowBackward0>)\n",
      "562 tensor(8.0568e-06, grad_fn=<PowBackward0>)\n",
      "563 tensor(7.7584e-06, grad_fn=<PowBackward0>)\n",
      "564 tensor(7.4707e-06, grad_fn=<PowBackward0>)\n",
      "565 tensor(7.1932e-06, grad_fn=<PowBackward0>)\n",
      "566 tensor(6.9257e-06, grad_fn=<PowBackward0>)\n",
      "567 tensor(6.6677e-06, grad_fn=<PowBackward0>)\n",
      "568 tensor(6.4190e-06, grad_fn=<PowBackward0>)\n",
      "569 tensor(6.1792e-06, grad_fn=<PowBackward0>)\n",
      "570 tensor(5.9481e-06, grad_fn=<PowBackward0>)\n",
      "571 tensor(5.7252e-06, grad_fn=<PowBackward0>)\n",
      "572 tensor(5.5105e-06, grad_fn=<PowBackward0>)\n",
      "573 tensor(5.3034e-06, grad_fn=<PowBackward0>)\n",
      "574 tensor(5.1039e-06, grad_fn=<PowBackward0>)\n",
      "575 tensor(4.9116e-06, grad_fn=<PowBackward0>)\n",
      "576 tensor(4.7262e-06, grad_fn=<PowBackward0>)\n",
      "577 tensor(4.5476e-06, grad_fn=<PowBackward0>)\n",
      "578 tensor(4.3755e-06, grad_fn=<PowBackward0>)\n",
      "579 tensor(4.2097e-06, grad_fn=<PowBackward0>)\n",
      "580 tensor(4.0500e-06, grad_fn=<PowBackward0>)\n",
      "581 tensor(3.8961e-06, grad_fn=<PowBackward0>)\n",
      "582 tensor(3.7478e-06, grad_fn=<PowBackward0>)\n",
      "583 tensor(3.6049e-06, grad_fn=<PowBackward0>)\n",
      "584 tensor(3.4673e-06, grad_fn=<PowBackward0>)\n",
      "585 tensor(3.3348e-06, grad_fn=<PowBackward0>)\n",
      "586 tensor(3.2072e-06, grad_fn=<PowBackward0>)\n",
      "587 tensor(3.0842e-06, grad_fn=<PowBackward0>)\n",
      "588 tensor(2.9658e-06, grad_fn=<PowBackward0>)\n",
      "589 tensor(2.8518e-06, grad_fn=<PowBackward0>)\n",
      "590 tensor(2.7420e-06, grad_fn=<PowBackward0>)\n",
      "591 tensor(2.6363e-06, grad_fn=<PowBackward0>)\n",
      "592 tensor(2.5346e-06, grad_fn=<PowBackward0>)\n",
      "593 tensor(2.4366e-06, grad_fn=<PowBackward0>)\n",
      "594 tensor(2.3422e-06, grad_fn=<PowBackward0>)\n",
      "595 tensor(2.2514e-06, grad_fn=<PowBackward0>)\n",
      "596 tensor(2.1640e-06, grad_fn=<PowBackward0>)\n",
      "597 tensor(2.0799e-06, grad_fn=<PowBackward0>)\n",
      "598 tensor(1.9989e-06, grad_fn=<PowBackward0>)\n",
      "599 tensor(1.9210e-06, grad_fn=<PowBackward0>)\n",
      "600 tensor(1.8460e-06, grad_fn=<PowBackward0>)\n",
      "601 tensor(1.7738e-06, grad_fn=<PowBackward0>)\n",
      "602 tensor(1.7043e-06, grad_fn=<PowBackward0>)\n",
      "603 tensor(1.6375e-06, grad_fn=<PowBackward0>)\n",
      "604 tensor(1.5732e-06, grad_fn=<PowBackward0>)\n",
      "605 tensor(1.5114e-06, grad_fn=<PowBackward0>)\n",
      "606 tensor(1.4518e-06, grad_fn=<PowBackward0>)\n",
      "607 tensor(1.3946e-06, grad_fn=<PowBackward0>)\n",
      "608 tensor(1.3395e-06, grad_fn=<PowBackward0>)\n",
      "609 tensor(1.2866e-06, grad_fn=<PowBackward0>)\n",
      "610 tensor(1.2356e-06, grad_fn=<PowBackward0>)\n",
      "611 tensor(1.1866e-06, grad_fn=<PowBackward0>)\n",
      "612 tensor(1.1395e-06, grad_fn=<PowBackward0>)\n",
      "613 tensor(1.0942e-06, grad_fn=<PowBackward0>)\n",
      "614 tensor(1.0506e-06, grad_fn=<PowBackward0>)\n",
      "615 tensor(1.0087e-06, grad_fn=<PowBackward0>)\n",
      "616 tensor(9.6845e-07, grad_fn=<PowBackward0>)\n",
      "617 tensor(9.2973e-07, grad_fn=<PowBackward0>)\n",
      "618 tensor(8.9250e-07, grad_fn=<PowBackward0>)\n",
      "619 tensor(8.5671e-07, grad_fn=<PowBackward0>)\n",
      "620 tensor(8.2231e-07, grad_fn=<PowBackward0>)\n",
      "621 tensor(7.8925e-07, grad_fn=<PowBackward0>)\n",
      "622 tensor(7.5747e-07, grad_fn=<PowBackward0>)\n",
      "623 tensor(7.2693e-07, grad_fn=<PowBackward0>)\n",
      "624 tensor(6.9758e-07, grad_fn=<PowBackward0>)\n",
      "625 tensor(6.6937e-07, grad_fn=<PowBackward0>)\n",
      "626 tensor(6.4227e-07, grad_fn=<PowBackward0>)\n",
      "627 tensor(6.1623e-07, grad_fn=<PowBackward0>)\n",
      "628 tensor(5.9121e-07, grad_fn=<PowBackward0>)\n",
      "629 tensor(5.6717e-07, grad_fn=<PowBackward0>)\n",
      "630 tensor(5.4408e-07, grad_fn=<PowBackward0>)\n",
      "631 tensor(5.2190e-07, grad_fn=<PowBackward0>)\n",
      "632 tensor(5.0059e-07, grad_fn=<PowBackward0>)\n",
      "633 tensor(4.8013e-07, grad_fn=<PowBackward0>)\n",
      "634 tensor(4.6047e-07, grad_fn=<PowBackward0>)\n",
      "635 tensor(4.4159e-07, grad_fn=<PowBackward0>)\n",
      "636 tensor(4.2347e-07, grad_fn=<PowBackward0>)\n",
      "637 tensor(4.0606e-07, grad_fn=<PowBackward0>)\n",
      "638 tensor(3.8934e-07, grad_fn=<PowBackward0>)\n",
      "639 tensor(3.7329e-07, grad_fn=<PowBackward0>)\n",
      "640 tensor(3.5788e-07, grad_fn=<PowBackward0>)\n",
      "641 tensor(3.4309e-07, grad_fn=<PowBackward0>)\n",
      "642 tensor(3.2889e-07, grad_fn=<PowBackward0>)\n",
      "643 tensor(3.1526e-07, grad_fn=<PowBackward0>)\n",
      "644 tensor(3.0217e-07, grad_fn=<PowBackward0>)\n",
      "645 tensor(2.8961e-07, grad_fn=<PowBackward0>)\n",
      "646 tensor(2.7756e-07, grad_fn=<PowBackward0>)\n",
      "647 tensor(2.6599e-07, grad_fn=<PowBackward0>)\n",
      "648 tensor(2.5489e-07, grad_fn=<PowBackward0>)\n",
      "649 tensor(2.4424e-07, grad_fn=<PowBackward0>)\n",
      "650 tensor(2.3402e-07, grad_fn=<PowBackward0>)\n",
      "651 tensor(2.2421e-07, grad_fn=<PowBackward0>)\n",
      "652 tensor(2.1480e-07, grad_fn=<PowBackward0>)\n",
      "653 tensor(2.0578e-07, grad_fn=<PowBackward0>)\n",
      "654 tensor(1.9712e-07, grad_fn=<PowBackward0>)\n",
      "655 tensor(1.8881e-07, grad_fn=<PowBackward0>)\n",
      "656 tensor(1.8085e-07, grad_fn=<PowBackward0>)\n",
      "657 tensor(1.7321e-07, grad_fn=<PowBackward0>)\n",
      "658 tensor(1.6588e-07, grad_fn=<PowBackward0>)\n",
      "659 tensor(1.5885e-07, grad_fn=<PowBackward0>)\n",
      "660 tensor(1.5211e-07, grad_fn=<PowBackward0>)\n",
      "661 tensor(1.4565e-07, grad_fn=<PowBackward0>)\n",
      "662 tensor(1.3946e-07, grad_fn=<PowBackward0>)\n",
      "663 tensor(1.3352e-07, grad_fn=<PowBackward0>)\n",
      "664 tensor(1.2782e-07, grad_fn=<PowBackward0>)\n",
      "665 tensor(1.2236e-07, grad_fn=<PowBackward0>)\n",
      "666 tensor(1.1713e-07, grad_fn=<PowBackward0>)\n",
      "667 tensor(1.1211e-07, grad_fn=<PowBackward0>)\n",
      "668 tensor(1.0731e-07, grad_fn=<PowBackward0>)\n",
      "669 tensor(1.0270e-07, grad_fn=<PowBackward0>)\n",
      "670 tensor(9.8281e-08, grad_fn=<PowBackward0>)\n",
      "671 tensor(9.4049e-08, grad_fn=<PowBackward0>)\n",
      "672 tensor(8.9994e-08, grad_fn=<PowBackward0>)\n",
      "673 tensor(8.6109e-08, grad_fn=<PowBackward0>)\n",
      "674 tensor(8.2386e-08, grad_fn=<PowBackward0>)\n",
      "675 tensor(7.8820e-08, grad_fn=<PowBackward0>)\n",
      "676 tensor(7.5403e-08, grad_fn=<PowBackward0>)\n",
      "677 tensor(7.2130e-08, grad_fn=<PowBackward0>)\n",
      "678 tensor(6.8995e-08, grad_fn=<PowBackward0>)\n",
      "679 tensor(6.5992e-08, grad_fn=<PowBackward0>)\n",
      "680 tensor(6.3115e-08, grad_fn=<PowBackward0>)\n",
      "681 tensor(6.0361e-08, grad_fn=<PowBackward0>)\n",
      "682 tensor(5.7723e-08, grad_fn=<PowBackward0>)\n",
      "683 tensor(5.5197e-08, grad_fn=<PowBackward0>)\n",
      "684 tensor(5.2778e-08, grad_fn=<PowBackward0>)\n",
      "685 tensor(5.0463e-08, grad_fn=<PowBackward0>)\n",
      "686 tensor(4.8246e-08, grad_fn=<PowBackward0>)\n",
      "687 tensor(4.6123e-08, grad_fn=<PowBackward0>)\n",
      "688 tensor(4.4091e-08, grad_fn=<PowBackward0>)\n",
      "689 tensor(4.2146e-08, grad_fn=<PowBackward0>)\n",
      "690 tensor(4.0284e-08, grad_fn=<PowBackward0>)\n",
      "691 tensor(3.8503e-08, grad_fn=<PowBackward0>)\n",
      "692 tensor(3.6797e-08, grad_fn=<PowBackward0>)\n",
      "693 tensor(3.5165e-08, grad_fn=<PowBackward0>)\n",
      "694 tensor(3.3604e-08, grad_fn=<PowBackward0>)\n",
      "695 tensor(3.2109e-08, grad_fn=<PowBackward0>)\n",
      "696 tensor(3.0679e-08, grad_fn=<PowBackward0>)\n",
      "697 tensor(2.9312e-08, grad_fn=<PowBackward0>)\n",
      "698 tensor(2.8003e-08, grad_fn=<PowBackward0>)\n",
      "699 tensor(2.6751e-08, grad_fn=<PowBackward0>)\n",
      "700 tensor(2.5553e-08, grad_fn=<PowBackward0>)\n",
      "701 tensor(2.4408e-08, grad_fn=<PowBackward0>)\n",
      "702 tensor(2.3312e-08, grad_fn=<PowBackward0>)\n",
      "703 tensor(2.2265e-08, grad_fn=<PowBackward0>)\n",
      "704 tensor(2.1262e-08, grad_fn=<PowBackward0>)\n",
      "705 tensor(2.0304e-08, grad_fn=<PowBackward0>)\n",
      "706 tensor(1.9388e-08, grad_fn=<PowBackward0>)\n",
      "707 tensor(1.8512e-08, grad_fn=<PowBackward0>)\n",
      "708 tensor(1.7674e-08, grad_fn=<PowBackward0>)\n",
      "709 tensor(1.6874e-08, grad_fn=<PowBackward0>)\n",
      "710 tensor(1.6108e-08, grad_fn=<PowBackward0>)\n",
      "711 tensor(1.5376e-08, grad_fn=<PowBackward0>)\n",
      "712 tensor(1.4677e-08, grad_fn=<PowBackward0>)\n",
      "713 tensor(1.4008e-08, grad_fn=<PowBackward0>)\n",
      "714 tensor(1.3370e-08, grad_fn=<PowBackward0>)\n",
      "715 tensor(1.2759e-08, grad_fn=<PowBackward0>)\n",
      "716 tensor(1.2175e-08, grad_fn=<PowBackward0>)\n",
      "717 tensor(1.1618e-08, grad_fn=<PowBackward0>)\n",
      "718 tensor(1.1085e-08, grad_fn=<PowBackward0>)\n",
      "719 tensor(1.0576e-08, grad_fn=<PowBackward0>)\n",
      "720 tensor(1.0090e-08, grad_fn=<PowBackward0>)\n",
      "721 tensor(9.6256e-09, grad_fn=<PowBackward0>)\n",
      "722 tensor(9.1819e-09, grad_fn=<PowBackward0>)\n",
      "723 tensor(8.7581e-09, grad_fn=<PowBackward0>)\n",
      "724 tensor(8.3534e-09, grad_fn=<PowBackward0>)\n",
      "725 tensor(7.9668e-09, grad_fn=<PowBackward0>)\n",
      "726 tensor(7.5976e-09, grad_fn=<PowBackward0>)\n",
      "727 tensor(7.2451e-09, grad_fn=<PowBackward0>)\n",
      "728 tensor(6.9085e-09, grad_fn=<PowBackward0>)\n",
      "729 tensor(6.5871e-09, grad_fn=<PowBackward0>)\n",
      "730 tensor(6.2802e-09, grad_fn=<PowBackward0>)\n",
      "731 tensor(5.9873e-09, grad_fn=<PowBackward0>)\n",
      "732 tensor(5.7076e-09, grad_fn=<PowBackward0>)\n",
      "733 tensor(5.4407e-09, grad_fn=<PowBackward0>)\n",
      "734 tensor(5.1859e-09, grad_fn=<PowBackward0>)\n",
      "735 tensor(4.9427e-09, grad_fn=<PowBackward0>)\n",
      "736 tensor(4.7106e-09, grad_fn=<PowBackward0>)\n",
      "737 tensor(4.4891e-09, grad_fn=<PowBackward0>)\n",
      "738 tensor(4.2778e-09, grad_fn=<PowBackward0>)\n",
      "739 tensor(4.0761e-09, grad_fn=<PowBackward0>)\n",
      "740 tensor(3.8837e-09, grad_fn=<PowBackward0>)\n",
      "741 tensor(3.7002e-09, grad_fn=<PowBackward0>)\n",
      "742 tensor(3.5250e-09, grad_fn=<PowBackward0>)\n",
      "743 tensor(3.3580e-09, grad_fn=<PowBackward0>)\n",
      "744 tensor(3.1986e-09, grad_fn=<PowBackward0>)\n",
      "745 tensor(3.0467e-09, grad_fn=<PowBackward0>)\n",
      "746 tensor(2.9017e-09, grad_fn=<PowBackward0>)\n",
      "747 tensor(2.7635e-09, grad_fn=<PowBackward0>)\n",
      "748 tensor(2.6316e-09, grad_fn=<PowBackward0>)\n",
      "749 tensor(2.5059e-09, grad_fn=<PowBackward0>)\n",
      "750 tensor(2.3861e-09, grad_fn=<PowBackward0>)\n",
      "751 tensor(2.2718e-09, grad_fn=<PowBackward0>)\n",
      "752 tensor(2.1629e-09, grad_fn=<PowBackward0>)\n",
      "753 tensor(2.0590e-09, grad_fn=<PowBackward0>)\n",
      "754 tensor(1.9600e-09, grad_fn=<PowBackward0>)\n",
      "755 tensor(1.8657e-09, grad_fn=<PowBackward0>)\n",
      "756 tensor(1.7757e-09, grad_fn=<PowBackward0>)\n",
      "757 tensor(1.6900e-09, grad_fn=<PowBackward0>)\n",
      "758 tensor(1.6083e-09, grad_fn=<PowBackward0>)\n",
      "759 tensor(1.5305e-09, grad_fn=<PowBackward0>)\n",
      "760 tensor(1.4563e-09, grad_fn=<PowBackward0>)\n",
      "761 tensor(1.3857e-09, grad_fn=<PowBackward0>)\n",
      "762 tensor(1.3183e-09, grad_fn=<PowBackward0>)\n",
      "763 tensor(1.2542e-09, grad_fn=<PowBackward0>)\n",
      "764 tensor(1.1931e-09, grad_fn=<PowBackward0>)\n",
      "765 tensor(1.1349e-09, grad_fn=<PowBackward0>)\n",
      "766 tensor(1.0795e-09, grad_fn=<PowBackward0>)\n",
      "767 tensor(1.0267e-09, grad_fn=<PowBackward0>)\n",
      "768 tensor(9.7640e-10, grad_fn=<PowBackward0>)\n",
      "769 tensor(9.2852e-10, grad_fn=<PowBackward0>)\n",
      "770 tensor(8.8293e-10, grad_fn=<PowBackward0>)\n",
      "771 tensor(8.3952e-10, grad_fn=<PowBackward0>)\n",
      "772 tensor(7.9819e-10, grad_fn=<PowBackward0>)\n",
      "773 tensor(7.5885e-10, grad_fn=<PowBackward0>)\n",
      "774 tensor(7.2139e-10, grad_fn=<PowBackward0>)\n",
      "775 tensor(6.8574e-10, grad_fn=<PowBackward0>)\n",
      "776 tensor(6.5181e-10, grad_fn=<PowBackward0>)\n",
      "777 tensor(6.1951e-10, grad_fn=<PowBackward0>)\n",
      "778 tensor(5.8877e-10, grad_fn=<PowBackward0>)\n",
      "779 tensor(5.5952e-10, grad_fn=<PowBackward0>)\n",
      "780 tensor(5.3169e-10, grad_fn=<PowBackward0>)\n",
      "781 tensor(5.0520e-10, grad_fn=<PowBackward0>)\n",
      "782 tensor(4.8001e-10, grad_fn=<PowBackward0>)\n",
      "783 tensor(4.5603e-10, grad_fn=<PowBackward0>)\n",
      "784 tensor(4.3323e-10, grad_fn=<PowBackward0>)\n",
      "785 tensor(4.1154e-10, grad_fn=<PowBackward0>)\n",
      "786 tensor(3.9090e-10, grad_fn=<PowBackward0>)\n",
      "787 tensor(3.7128e-10, grad_fn=<PowBackward0>)\n",
      "788 tensor(3.5262e-10, grad_fn=<PowBackward0>)\n",
      "789 tensor(3.3487e-10, grad_fn=<PowBackward0>)\n",
      "790 tensor(3.1799e-10, grad_fn=<PowBackward0>)\n",
      "791 tensor(3.0194e-10, grad_fn=<PowBackward0>)\n",
      "792 tensor(2.8668e-10, grad_fn=<PowBackward0>)\n",
      "793 tensor(2.7218e-10, grad_fn=<PowBackward0>)\n",
      "794 tensor(2.5839e-10, grad_fn=<PowBackward0>)\n",
      "795 tensor(2.4528e-10, grad_fn=<PowBackward0>)\n",
      "796 tensor(2.3282e-10, grad_fn=<PowBackward0>)\n",
      "797 tensor(2.2098e-10, grad_fn=<PowBackward0>)\n",
      "798 tensor(2.0973e-10, grad_fn=<PowBackward0>)\n",
      "799 tensor(1.9903e-10, grad_fn=<PowBackward0>)\n",
      "800 tensor(1.8887e-10, grad_fn=<PowBackward0>)\n",
      "801 tensor(1.7921e-10, grad_fn=<PowBackward0>)\n",
      "802 tensor(1.7004e-10, grad_fn=<PowBackward0>)\n",
      "803 tensor(1.6132e-10, grad_fn=<PowBackward0>)\n",
      "804 tensor(1.5304e-10, grad_fn=<PowBackward0>)\n",
      "805 tensor(1.4517e-10, grad_fn=<PowBackward0>)\n",
      "806 tensor(1.3770e-10, grad_fn=<PowBackward0>)\n",
      "807 tensor(1.3061e-10, grad_fn=<PowBackward0>)\n",
      "808 tensor(1.2387e-10, grad_fn=<PowBackward0>)\n",
      "809 tensor(1.1747e-10, grad_fn=<PowBackward0>)\n",
      "810 tensor(1.1139e-10, grad_fn=<PowBackward0>)\n",
      "811 tensor(1.0562e-10, grad_fn=<PowBackward0>)\n",
      "812 tensor(1.0014e-10, grad_fn=<PowBackward0>)\n",
      "813 tensor(9.4940e-11, grad_fn=<PowBackward0>)\n",
      "814 tensor(9.0003e-11, grad_fn=<PowBackward0>)\n",
      "815 tensor(8.5317e-11, grad_fn=<PowBackward0>)\n",
      "816 tensor(8.0868e-11, grad_fn=<PowBackward0>)\n",
      "817 tensor(7.6646e-11, grad_fn=<PowBackward0>)\n",
      "818 tensor(7.2639e-11, grad_fn=<PowBackward0>)\n",
      "819 tensor(6.8837e-11, grad_fn=<PowBackward0>)\n",
      "820 tensor(6.5229e-11, grad_fn=<PowBackward0>)\n",
      "821 tensor(6.1806e-11, grad_fn=<PowBackward0>)\n",
      "822 tensor(5.8558e-11, grad_fn=<PowBackward0>)\n",
      "823 tensor(5.5477e-11, grad_fn=<PowBackward0>)\n",
      "824 tensor(5.2554e-11, grad_fn=<PowBackward0>)\n",
      "825 tensor(4.9781e-11, grad_fn=<PowBackward0>)\n",
      "826 tensor(4.7151e-11, grad_fn=<PowBackward0>)\n",
      "827 tensor(4.4657e-11, grad_fn=<PowBackward0>)\n",
      "828 tensor(4.2292e-11, grad_fn=<PowBackward0>)\n",
      "829 tensor(4.0049e-11, grad_fn=<PowBackward0>)\n",
      "830 tensor(3.7923e-11, grad_fn=<PowBackward0>)\n",
      "831 tensor(3.5906e-11, grad_fn=<PowBackward0>)\n",
      "832 tensor(3.3994e-11, grad_fn=<PowBackward0>)\n",
      "833 tensor(3.2182e-11, grad_fn=<PowBackward0>)\n",
      "834 tensor(3.0464e-11, grad_fn=<PowBackward0>)\n",
      "835 tensor(2.8836e-11, grad_fn=<PowBackward0>)\n",
      "836 tensor(2.7293e-11, grad_fn=<PowBackward0>)\n",
      "837 tensor(2.5830e-11, grad_fn=<PowBackward0>)\n",
      "838 tensor(2.4444e-11, grad_fn=<PowBackward0>)\n",
      "839 tensor(2.3131e-11, grad_fn=<PowBackward0>)\n",
      "840 tensor(2.1886e-11, grad_fn=<PowBackward0>)\n",
      "841 tensor(2.0707e-11, grad_fn=<PowBackward0>)\n",
      "842 tensor(1.9590e-11, grad_fn=<PowBackward0>)\n",
      "843 tensor(1.8532e-11, grad_fn=<PowBackward0>)\n",
      "844 tensor(1.7530e-11, grad_fn=<PowBackward0>)\n",
      "845 tensor(1.6580e-11, grad_fn=<PowBackward0>)\n",
      "846 tensor(1.5681e-11, grad_fn=<PowBackward0>)\n",
      "847 tensor(1.4830e-11, grad_fn=<PowBackward0>)\n",
      "848 tensor(1.4024e-11, grad_fn=<PowBackward0>)\n",
      "849 tensor(1.3260e-11, grad_fn=<PowBackward0>)\n",
      "850 tensor(1.2537e-11, grad_fn=<PowBackward0>)\n",
      "851 tensor(1.1853e-11, grad_fn=<PowBackward0>)\n",
      "852 tensor(1.1205e-11, grad_fn=<PowBackward0>)\n",
      "853 tensor(1.0592e-11, grad_fn=<PowBackward0>)\n",
      "854 tensor(1.0012e-11, grad_fn=<PowBackward0>)\n",
      "855 tensor(9.4624e-12, grad_fn=<PowBackward0>)\n",
      "856 tensor(8.9426e-12, grad_fn=<PowBackward0>)\n",
      "857 tensor(8.4506e-12, grad_fn=<PowBackward0>)\n",
      "858 tensor(7.9851e-12, grad_fn=<PowBackward0>)\n",
      "859 tensor(7.5447e-12, grad_fn=<PowBackward0>)\n",
      "860 tensor(7.1280e-12, grad_fn=<PowBackward0>)\n",
      "861 tensor(6.7338e-12, grad_fn=<PowBackward0>)\n",
      "862 tensor(6.3610e-12, grad_fn=<PowBackward0>)\n",
      "863 tensor(6.0083e-12, grad_fn=<PowBackward0>)\n",
      "864 tensor(5.6747e-12, grad_fn=<PowBackward0>)\n",
      "865 tensor(5.3592e-12, grad_fn=<PowBackward0>)\n",
      "866 tensor(5.0609e-12, grad_fn=<PowBackward0>)\n",
      "867 tensor(4.7788e-12, grad_fn=<PowBackward0>)\n",
      "868 tensor(4.5121e-12, grad_fn=<PowBackward0>)\n",
      "869 tensor(4.2599e-12, grad_fn=<PowBackward0>)\n",
      "870 tensor(4.0216e-12, grad_fn=<PowBackward0>)\n",
      "871 tensor(3.7962e-12, grad_fn=<PowBackward0>)\n",
      "872 tensor(3.5832e-12, grad_fn=<PowBackward0>)\n",
      "873 tensor(3.3819e-12, grad_fn=<PowBackward0>)\n",
      "874 tensor(3.1917e-12, grad_fn=<PowBackward0>)\n",
      "875 tensor(3.0119e-12, grad_fn=<PowBackward0>)\n",
      "876 tensor(2.8420e-12, grad_fn=<PowBackward0>)\n",
      "877 tensor(2.6815e-12, grad_fn=<PowBackward0>)\n",
      "878 tensor(2.5299e-12, grad_fn=<PowBackward0>)\n",
      "879 tensor(2.3866e-12, grad_fn=<PowBackward0>)\n",
      "880 tensor(2.2513e-12, grad_fn=<PowBackward0>)\n",
      "881 tensor(2.1235e-12, grad_fn=<PowBackward0>)\n",
      "882 tensor(2.0028e-12, grad_fn=<PowBackward0>)\n",
      "883 tensor(1.8888e-12, grad_fn=<PowBackward0>)\n",
      "884 tensor(1.7811e-12, grad_fn=<PowBackward0>)\n",
      "885 tensor(1.6794e-12, grad_fn=<PowBackward0>)\n",
      "886 tensor(1.5835e-12, grad_fn=<PowBackward0>)\n",
      "887 tensor(1.4928e-12, grad_fn=<PowBackward0>)\n",
      "888 tensor(1.4073e-12, grad_fn=<PowBackward0>)\n",
      "889 tensor(1.3266e-12, grad_fn=<PowBackward0>)\n",
      "890 tensor(1.2503e-12, grad_fn=<PowBackward0>)\n",
      "891 tensor(1.1784e-12, grad_fn=<PowBackward0>)\n",
      "892 tensor(1.1105e-12, grad_fn=<PowBackward0>)\n",
      "893 tensor(1.0465e-12, grad_fn=<PowBackward0>)\n",
      "894 tensor(9.8602e-13, grad_fn=<PowBackward0>)\n",
      "895 tensor(9.2899e-13, grad_fn=<PowBackward0>)\n",
      "896 tensor(8.7519e-13, grad_fn=<PowBackward0>)\n",
      "897 tensor(8.2444e-13, grad_fn=<PowBackward0>)\n",
      "898 tensor(7.7657e-13, grad_fn=<PowBackward0>)\n",
      "899 tensor(7.3142e-13, grad_fn=<PowBackward0>)\n",
      "900 tensor(6.8883e-13, grad_fn=<PowBackward0>)\n",
      "901 tensor(6.4868e-13, grad_fn=<PowBackward0>)\n",
      "902 tensor(6.1081e-13, grad_fn=<PowBackward0>)\n",
      "903 tensor(5.7511e-13, grad_fn=<PowBackward0>)\n",
      "904 tensor(5.4145e-13, grad_fn=<PowBackward0>)\n",
      "905 tensor(5.0971e-13, grad_fn=<PowBackward0>)\n",
      "906 tensor(4.7980e-13, grad_fn=<PowBackward0>)\n",
      "907 tensor(4.5160e-13, grad_fn=<PowBackward0>)\n",
      "908 tensor(4.2503e-13, grad_fn=<PowBackward0>)\n",
      "909 tensor(3.9999e-13, grad_fn=<PowBackward0>)\n",
      "910 tensor(3.7639e-13, grad_fn=<PowBackward0>)\n",
      "911 tensor(3.5415e-13, grad_fn=<PowBackward0>)\n",
      "912 tensor(3.3320e-13, grad_fn=<PowBackward0>)\n",
      "913 tensor(3.1346e-13, grad_fn=<PowBackward0>)\n",
      "914 tensor(2.9487e-13, grad_fn=<PowBackward0>)\n",
      "915 tensor(2.7736e-13, grad_fn=<PowBackward0>)\n",
      "916 tensor(2.6086e-13, grad_fn=<PowBackward0>)\n",
      "917 tensor(2.4533e-13, grad_fn=<PowBackward0>)\n",
      "918 tensor(2.3070e-13, grad_fn=<PowBackward0>)\n",
      "919 tensor(2.1692e-13, grad_fn=<PowBackward0>)\n",
      "920 tensor(2.0395e-13, grad_fn=<PowBackward0>)\n",
      "921 tensor(1.9174e-13, grad_fn=<PowBackward0>)\n",
      "922 tensor(1.8024e-13, grad_fn=<PowBackward0>)\n",
      "923 tensor(1.6942e-13, grad_fn=<PowBackward0>)\n",
      "924 tensor(1.5924e-13, grad_fn=<PowBackward0>)\n",
      "925 tensor(1.4965e-13, grad_fn=<PowBackward0>)\n",
      "926 tensor(1.4063e-13, grad_fn=<PowBackward0>)\n",
      "927 tensor(1.3214e-13, grad_fn=<PowBackward0>)\n",
      "928 tensor(1.2416e-13, grad_fn=<PowBackward0>)\n",
      "929 tensor(1.1664e-13, grad_fn=<PowBackward0>)\n",
      "930 tensor(1.0957e-13, grad_fn=<PowBackward0>)\n",
      "931 tensor(1.0292e-13, grad_fn=<PowBackward0>)\n",
      "932 tensor(9.6671e-14, grad_fn=<PowBackward0>)\n",
      "933 tensor(9.0789e-14, grad_fn=<PowBackward0>)\n",
      "934 tensor(8.5257e-14, grad_fn=<PowBackward0>)\n",
      "935 tensor(8.0055e-14, grad_fn=<PowBackward0>)\n",
      "936 tensor(7.5164e-14, grad_fn=<PowBackward0>)\n",
      "937 tensor(7.0566e-14, grad_fn=<PowBackward0>)\n",
      "938 tensor(6.6243e-14, grad_fn=<PowBackward0>)\n",
      "939 tensor(6.2180e-14, grad_fn=<PowBackward0>)\n",
      "940 tensor(5.8360e-14, grad_fn=<PowBackward0>)\n",
      "941 tensor(5.4771e-14, grad_fn=<PowBackward0>)\n",
      "942 tensor(5.1397e-14, grad_fn=<PowBackward0>)\n",
      "943 tensor(4.8227e-14, grad_fn=<PowBackward0>)\n",
      "944 tensor(4.5249e-14, grad_fn=<PowBackward0>)\n",
      "945 tensor(4.2450e-14, grad_fn=<PowBackward0>)\n",
      "946 tensor(3.9821e-14, grad_fn=<PowBackward0>)\n",
      "947 tensor(3.7352e-14, grad_fn=<PowBackward0>)\n",
      "948 tensor(3.5033e-14, grad_fn=<PowBackward0>)\n",
      "949 tensor(3.2854e-14, grad_fn=<PowBackward0>)\n",
      "950 tensor(3.0809e-14, grad_fn=<PowBackward0>)\n",
      "951 tensor(2.8888e-14, grad_fn=<PowBackward0>)\n",
      "952 tensor(2.7084e-14, grad_fn=<PowBackward0>)\n",
      "953 tensor(2.5391e-14, grad_fn=<PowBackward0>)\n",
      "954 tensor(2.3801e-14, grad_fn=<PowBackward0>)\n",
      "955 tensor(2.2309e-14, grad_fn=<PowBackward0>)\n",
      "956 tensor(2.0908e-14, grad_fn=<PowBackward0>)\n",
      "957 tensor(1.9594e-14, grad_fn=<PowBackward0>)\n",
      "958 tensor(1.8361e-14, grad_fn=<PowBackward0>)\n",
      "959 tensor(1.7203e-14, grad_fn=<PowBackward0>)\n",
      "960 tensor(1.6117e-14, grad_fn=<PowBackward0>)\n",
      "961 tensor(1.5098e-14, grad_fn=<PowBackward0>)\n",
      "962 tensor(1.4143e-14, grad_fn=<PowBackward0>)\n",
      "963 tensor(1.3246e-14, grad_fn=<PowBackward0>)\n",
      "964 tensor(1.2406e-14, grad_fn=<PowBackward0>)\n",
      "965 tensor(1.1617e-14, grad_fn=<PowBackward0>)\n",
      "966 tensor(1.0878e-14, grad_fn=<PowBackward0>)\n",
      "967 tensor(1.0184e-14, grad_fn=<PowBackward0>)\n",
      "968 tensor(9.5344e-15, grad_fn=<PowBackward0>)\n",
      "969 tensor(8.9250e-15, grad_fn=<PowBackward0>)\n",
      "970 tensor(8.3538e-15, grad_fn=<PowBackward0>)\n",
      "971 tensor(7.8185e-15, grad_fn=<PowBackward0>)\n",
      "972 tensor(7.3167e-15, grad_fn=<PowBackward0>)\n",
      "973 tensor(6.8465e-15, grad_fn=<PowBackward0>)\n",
      "974 tensor(6.4059e-15, grad_fn=<PowBackward0>)\n",
      "975 tensor(5.9930e-15, grad_fn=<PowBackward0>)\n",
      "976 tensor(5.6063e-15, grad_fn=<PowBackward0>)\n",
      "977 tensor(5.2440e-15, grad_fn=<PowBackward0>)\n",
      "978 tensor(4.9046e-15, grad_fn=<PowBackward0>)\n",
      "979 tensor(4.5868e-15, grad_fn=<PowBackward0>)\n",
      "980 tensor(4.2891e-15, grad_fn=<PowBackward0>)\n",
      "981 tensor(4.0104e-15, grad_fn=<PowBackward0>)\n",
      "982 tensor(3.7494e-15, grad_fn=<PowBackward0>)\n",
      "983 tensor(3.5051e-15, grad_fn=<PowBackward0>)\n",
      "984 tensor(3.2763e-15, grad_fn=<PowBackward0>)\n",
      "985 tensor(3.0622e-15, grad_fn=<PowBackward0>)\n",
      "986 tensor(2.8618e-15, grad_fn=<PowBackward0>)\n",
      "987 tensor(2.6743e-15, grad_fn=<PowBackward0>)\n",
      "988 tensor(2.4988e-15, grad_fn=<PowBackward0>)\n",
      "989 tensor(2.3345e-15, grad_fn=<PowBackward0>)\n",
      "990 tensor(2.1809e-15, grad_fn=<PowBackward0>)\n",
      "991 tensor(2.0372e-15, grad_fn=<PowBackward0>)\n",
      "992 tensor(1.9027e-15, grad_fn=<PowBackward0>)\n",
      "993 tensor(1.7770e-15, grad_fn=<PowBackward0>)\n",
      "994 tensor(1.6594e-15, grad_fn=<PowBackward0>)\n",
      "995 tensor(1.5494e-15, grad_fn=<PowBackward0>)\n",
      "996 tensor(1.4465e-15, grad_fn=<PowBackward0>)\n",
      "997 tensor(1.3504e-15, grad_fn=<PowBackward0>)\n",
      "998 tensor(1.2605e-15, grad_fn=<PowBackward0>)\n",
      "999 tensor(1.1765e-15, grad_fn=<PowBackward0>)\n"
     ]
    }
   ],
   "source": [
    "import torch.nn as nn \n",
    "class E3Lnorm(nn.Module):\n",
    "    def __init__(self):\n",
    "        super().__init__()\n",
    "        self.alpha = nn.Parameter(data=torch.randn(1), requires_grad=True)\n",
    "    def forward(self):\n",
    "        return self.alpha+3\n",
    "\n",
    "e3 = E3Lnorm()\n",
    "e3.forward()\n",
    "optim = torch.optim.Adam(e3.parameters(), lr = 1e-2)\n",
    "for epoch in range(500):\n",
    "    optim.zero_grad()\n",
    "    loss = torch.norm(e3()-1)**2\n",
    "    loss.backward()\n",
    "    # if loss.item()<1e-4:\n",
    "    #     break\n",
    "    optim.step()\n",
    "    print(epoch, loss)"
   ]
  },
  {
   "cell_type": "code",
   "execution_count": 88,
   "id": "d9f02726-6515-4712-baa0-1cca9bf01f10",
   "metadata": {},
   "outputs": [
    {
     "data": {
      "text/plain": [
       "Parameter containing:\n",
       "tensor([-2.0000], requires_grad=True)"
      ]
     },
     "execution_count": 88,
     "metadata": {},
     "output_type": "execute_result"
    }
   ],
   "source": [
    "\n",
    "e3.alpha"
   ]
  },
  {
   "cell_type": "code",
   "execution_count": null,
   "id": "d1c88c82-147d-4a05-a018-73753e71ea13",
   "metadata": {},
   "outputs": [],
   "source": []
  }
 ],
 "metadata": {
  "kernelspec": {
   "display_name": "Python 3 (ipykernel)",
   "language": "python",
   "name": "python3"
  },
  "language_info": {
   "codemirror_mode": {
    "name": "ipython",
    "version": 3
   },
   "file_extension": ".py",
   "mimetype": "text/x-python",
   "name": "python",
   "nbconvert_exporter": "python",
   "pygments_lexer": "ipython3",
   "version": "3.11.7"
  }
 },
 "nbformat": 4,
 "nbformat_minor": 5
}
