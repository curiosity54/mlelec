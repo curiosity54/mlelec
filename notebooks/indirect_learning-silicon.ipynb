{
 "cells": [
  {
   "cell_type": "code",
   "execution_count": 1,
   "id": "a3d8f12c-62ee-4d46-b766-c3b49d817fe2",
   "metadata": {},
   "outputs": [],
   "source": [
    "%load_ext autoreload\n",
    "%autoreload 2\n",
    "%load_ext line_profiler"
   ]
  },
  {
   "cell_type": "code",
   "execution_count": 2,
   "id": "635a399b-c69b-4438-bac6-4ba0712d0d06",
   "metadata": {},
   "outputs": [
    {
     "name": "stderr",
     "output_type": "stream",
     "text": [
      "/home/pegolo/micromamba/envs/sci/lib/python3.11/site-packages/pyscf/dft/libxc.py:771: UserWarning: Since PySCF-2.3, B3LYP (and B3P86) are changed to the VWN-RPA variant, corresponding to the original definition by Stephens et al. (issue 1480) and the same as the B3LYP functional in Gaussian. To restore the VWN5 definition, you can put the setting \"B3LYP_WITH_VWN5 = True\" in pyscf_conf.py\n",
      "  warnings.warn('Since PySCF-2.3, B3LYP (and B3P86) are changed to the VWN-RPA variant, '\n"
     ]
    }
   ],
   "source": [
    "from ase.io import read\n",
    "from ase.visualize import view\n",
    "import matplotlib.pyplot as plt\n",
    "import numpy as np \n",
    "import torch \n",
    "torch.set_default_dtype(torch.float64)\n",
    "\n",
    "import rascaline.torch\n",
    "\n",
    "import metatensor.torch as mts\n",
    "\n",
    "from metatensor.torch import Labels, TensorBlock, TensorMap\n",
    "from metatensor.learn import IndexedDataset, DataLoader\n",
    "from metatensor.learn.data import group as mts_group, group_and_join as group_and_join_mts\n",
    "\n",
    "from mlelec.data.dataset import QMDataset, split_by_Aij_mts\n",
    "from mlelec.utils.twocenter_utils import _to_coupled_basis\n",
    "# from mlelec.utils.pbc_utils import matrix_to_blocks, kmatrix_to_blocks, TMap_bloch_sums, precompute_phase, kblocks_to_matrix, kmatrix_to_blocks, blocks_to_matrix, blocks_to_matrix_OLD, blocks_to_matrix_working, blocks_to_matrix_try, matrix_to_blocks, blocks_to_matrix_v\n",
    "from mlelec.utils._utils import blocks_to_matrix_opt as blocks_to_matrix \n",
    "from mlelec.utils.plot_utils import print_matrix, matrix_norm, block_matrix_norm, plot_block_errors\n",
    "from mlelec.features.acdc import compute_features\n",
    "# from mlelec.utils.target_utils import get_targets\n",
    "from mlelec.models.linear_integrated import LinearModelPeriodic\n",
    "from mlelec.metrics import L2_loss, L2_loss_meanzero\n",
    "from mlelec.data.mldataset import MLDataset\n",
    "\n",
    "import xitorch\n",
    "from xitorch.linalg import symeig"
   ]
  },
  {
   "cell_type": "code",
   "execution_count": 3,
   "id": "f0131f6a-72a2-445e-9384-0ba95406c112",
   "metadata": {},
   "outputs": [],
   "source": [
    "device = 'cpu'\n",
    "\n",
    "orbitals = {\n",
    "    'sto-3g': {14: [[1,0,0], [2,0,0], [3,0,0], [2,1,-1], [2,1,0], [2,1,1], [3,1,-1], [3,1,0], [3,1,1]]}, \n",
    "    'def2svp': {6: [[1,0,0],[2,0,0],[3,0,0],[2,1,1], [2,1,-1],[2,1,0], [3,1,1], [3,1,-1],[3,1,0], [3,2,-2], [3,2,-1],[3,2,0], [3,2,1],[3,2,2]]},\n",
    "    'gthdzvp': {14: [[2,0,0], [3,0,0], [2,1,1], [2,1,-1], [2,1,0], [3,1,1], [3,1,-1], [3,1,0], [3,2,-2], [3,2,-1], [3,2,0], [3,2,1], [3,2,2]]},\n",
    "    'gthszv':  {14: [[3,0,0], [3,1,1], [3,1,-1], [3,1,0]]}\n",
    "}"
   ]
  },
  {
   "cell_type": "markdown",
   "id": "61756a8d-5fbe-4fd2-9521-4a4604762d6d",
   "metadata": {},
   "source": [
    "# QM dataset"
   ]
  },
  {
   "cell_type": "code",
   "execution_count": 4,
   "id": "6eb0a40d-b9f9-4cb6-b501-683d7d25b3bf",
   "metadata": {},
   "outputs": [],
   "source": [
    "# from ase.build import bulk\n",
    "# from ase import Atoms\n",
    "# frames = []\n",
    "# frames.append(bulk('NaCl', 'rocksalt', a = 5.7, cubic = True))\n",
    "# frames.append(bulk('Si', 'diamond', a = 6, cubic = True))\n",
    "# frames.append(bulk('MgO', 'zincblende', a = 4, cubic = True))\n",
    "# kfock = []\n",
    "# kover = []\n",
    "# kmesh = [[1,2,3],[4,5,6],[1,3,5]]\n",
    "# orbitals = {\n",
    "#                11: [[1,0,0],[2,0,0],[3,0,0],[2,1,-1], [2,1,0],[2,1,1]], \n",
    "#                17: [[1,0,0],[2,0,0],[3,0,0],[2,1,-1], [2,1,0],[2,1,1], [3,1,-1],[3,1,0],[3,1,1]], \n",
    "#                14: [[1,0,0],[2,0,0],[3,0,0],[2,1,-1], [2,1,0],[2,1,1], [3,1,-1],[3,1,0],[3,1,1]],\n",
    "#                12: [[1,0,0],[2,0,0],[3,0,0],[2,1,-1], [2,1,0],[2,1,1]],\n",
    "#                8: [[1,0,0],[2,0,0],[2,1,-1], [2,1,0],[2,1,1]],\n",
    "#                }\n",
    "# for ifr, f in enumerate(frames):\n",
    "#     nao = np.sum([len(orbitals[i]) for i in f.numbers])\n",
    "#     a = torch.randn(np.prod(kmesh[ifr]), nao,nao, dtype = torch.complex128)\n",
    "#     a = a+a.transpose(2,1).conj()\n",
    "#     kfock.append(a)\n",
    "#     b =torch.randn(np.prod(kmesh[ifr]), nao,nao, dtype = torch.complex128)\n",
    "#     b = b+b.transpose(2,1)\n",
    "#     kover.append(torch.einsum('aij, akj ->aik', b,b.conj()))\n",
    "\n"
   ]
  },
  {
   "cell_type": "code",
   "execution_count": 198,
   "id": "0cb8d851-377b-4bd5-a632-397f666731e1",
   "metadata": {},
   "outputs": [],
   "source": [
    "workdir = '/scratch/pegolo/silicon_deringer'\n",
    "START = 0\n",
    "STOP = 2\n",
    "ORBS = 'gthszv'\n",
    "baseline = True\n",
    "\n",
    "root = f'{workdir}/{ORBS}'\n",
    "data_dir = root\n",
    "\n",
    "indices = range(START,STOP)\n",
    "\n",
    "frames = [read(f'{data_dir}/{i}/cell_{i}.xyz') for i in indices]\n",
    "rfock = [np.load(f\"{data_dir}/{i}/realfock_{i}.npy\", allow_pickle = True).item() for i in indices]\n",
    "rfock0 = [np.load(f\"{data_dir}/{i}/realfock0_{i}.npy\", allow_pickle = True).item() for i in range(START, STOP)]\n",
    "rover = [np.load(f\"{data_dir}/{i}/realoverlap_{i}.npy\", allow_pickle = True).item() for i in indices]\n",
    "kmesh = [np.loadtxt(f'{data_dir}/{i}/kmesh_{i}.dat', dtype = np.int32).tolist() for i in indices]\n",
    "\n",
    "if baseline:\n",
    "    for H, H0 in zip(rfock, rfock0):\n",
    "        for T in H:\n",
    "            H[T] -= H0[T]\n",
    "\n",
    "qmdata = QMDataset(frames = frames, \n",
    "                   kmesh = kmesh, \n",
    "                   dimension = 3,\n",
    "                   fock_realspace = rfock, \n",
    "                   overlap_realspace = rover, \n",
    "                   device = device, \n",
    "                   orbs = orbitals[ORBS],\n",
    "                   orbs_name = ORBS)"
   ]
  },
  {
   "cell_type": "code",
   "execution_count": 199,
   "id": "e4d7fe85-f60f-47b3-a0c1-90b94b346309",
   "metadata": {},
   "outputs": [],
   "source": [
    "max_radial  = 2\n",
    "max_angular = 2\n",
    "atomic_gaussian_width = 0.3\n",
    "cutoff = 5\n",
    "\n",
    "hypers_pair = {'cutoff': cutoff,\n",
    "               'max_radial': max_radial,\n",
    "               'max_angular': max_angular,\n",
    "               'atomic_gaussian_width': atomic_gaussian_width,\n",
    "               'center_atom_weight': 1,\n",
    "               \"radial_basis\": {\"Gto\": {}},\n",
    "               \"cutoff_function\": {\"ShiftedCosine\": {\"width\": 0.5}}}\n",
    "\n",
    "hypers_atom = {'cutoff': 4,\n",
    "               'max_radial': max_radial,\n",
    "               'max_angular': max_angular,\n",
    "               'atomic_gaussian_width': 0.5,\n",
    "               'center_atom_weight': 1,\n",
    "               \"radial_basis\": {\"Gto\": {}},\n",
    "               \"cutoff_function\": {\"ShiftedCosine\": {\"width\": 0.5}}}\n",
    "\n",
    "\n",
    "return_rho0ij = False\n",
    "both_centers = False\n",
    "LCUT = 3"
   ]
  },
  {
   "cell_type": "code",
   "execution_count": 215,
   "id": "d6bf1939-37c5-4116-ba50-deb4e0b68b05",
   "metadata": {},
   "outputs": [
    {
     "name": "stdout",
     "output_type": "stream",
     "text": [
      "cpu pair features\n",
      "cpu single center features\n",
      "cpu single center features\n",
      "Features set\n",
      "Items set\n"
     ]
    }
   ],
   "source": [
    "mldata = MLDataset(qmdata, \n",
    "                   item_names = ['fock_blocks', 'fock_kspace', 'overlap_kspace', 'eigenvalues', 'atom_resolved_density'],\n",
    "                   # features = mldata.features,\n",
    "                   cutoff = hypers_pair['cutoff'],\n",
    "                   hypers_atom = hypers_atom,\n",
    "                   hypers_pair = hypers_pair,\n",
    "                   lcut = 3,\n",
    "                   orbitals_to_properties = True,\n",
    "                   train_frac = 0.5,\n",
    "                   # test_frac = 0.0,\n",
    "                   val_frac = 0.5\n",
    "                  )"
   ]
  },
  {
   "cell_type": "code",
   "execution_count": 216,
   "id": "7ca0d369-4eab-4c8f-9fcb-46ffc9881520",
   "metadata": {},
   "outputs": [],
   "source": [
    "mldata._split_indices(train_frac = 1.0)\n",
    "mldata._split_items(mldata.train_frac, mldata.val_frac, mldata.test_frac)"
   ]
  },
  {
   "cell_type": "code",
   "execution_count": 217,
   "id": "15009490-bc7a-4693-a437-13f0e3cbb908",
   "metadata": {},
   "outputs": [],
   "source": [
    "dl = DataLoader(mldata.train_dataset, batch_size = 2, collate_fn = mldata.group_and_join)"
   ]
  },
  {
   "cell_type": "code",
   "execution_count": 218,
   "id": "ada3d3f5-9e56-4411-8e8f-003be37f9c0b",
   "metadata": {},
   "outputs": [
    {
     "data": {
      "text/plain": [
       "(0, 1)"
      ]
     },
     "execution_count": 218,
     "metadata": {},
     "output_type": "execute_result"
    }
   ],
   "source": [
    "batch = next(iter(dl))\n",
    "batch.sample_id"
   ]
  },
  {
   "cell_type": "code",
   "execution_count": 187,
   "id": "1c6f88a4",
   "metadata": {},
   "outputs": [],
   "source": [
    "seed = 0\n",
    "torch.manual_seed(seed)\n",
    "np.random.seed(seed)\n",
    "\n",
    "model = LinearModelPeriodic(twocfeat = mldata.features, \n",
    "                            target_blocks = mldata.model_metadata,\n",
    "                            frames = qmdata.structures, \n",
    "                            orbitals = qmdata.basis, \n",
    "                            device = device,\n",
    "                            nhidden = 4, \n",
    "                            nlayers = 1,\n",
    "                            activation = 'SiLU',\n",
    "                            apply_norm = True\n",
    "                           )\n",
    "model = model.double()"
   ]
  },
  {
   "cell_type": "markdown",
   "id": "b1bc2393-765a-4953-bcab-4f3cd78af2b1",
   "metadata": {},
   "source": [
    "### Train k matrix "
   ]
  },
  {
   "cell_type": "code",
   "execution_count": 15,
   "id": "223428a9",
   "metadata": {},
   "outputs": [],
   "source": [
    "optimizer = torch.optim.Adam(model.parameters(), lr = 1e-2, weight_decay = 1e-4)\n",
    "scheduler = torch.optim.lr_scheduler.ReduceLROnPlateau(optimizer, factor = 0.8, patience = 20)"
   ]
  },
  {
   "cell_type": "code",
   "execution_count": 16,
   "id": "5513af72-413d-4a3b-8547-69ccf4b241de",
   "metadata": {},
   "outputs": [],
   "source": [
    "# phase, _, _ = precompute_phase(mts.join(mldata.items['fockblocks'], axis = 'samples', different_keys =  'union', remove_tensor_name = True), dataset, cutoff = 6)"
   ]
  },
  {
   "cell_type": "code",
   "execution_count": 33,
   "id": "4db227b8-a0b6-4871-b91f-c926f3ef7ccf",
   "metadata": {
    "scrolled": true
   },
   "outputs": [
    {
     "name": "stdout",
     "output_type": "stream",
     "text": [
      "Epoch       0, train loss   21.1593140546\n",
      "Epoch       1, train loss   15.4907596513\n",
      "Epoch       2, train loss   11.8409113383\n",
      "Epoch       3, train loss    9.1035558220\n",
      "Epoch       4, train loss    7.0211055902\n",
      "Epoch       5, train loss    5.1857152326\n",
      "Epoch       6, train loss    3.8190109889\n",
      "Epoch       7, train loss    2.7903189036\n",
      "Epoch       8, train loss    2.0294364062\n",
      "Epoch       9, train loss    1.5359307883\n",
      "Epoch      10, train loss    1.2329699183\n",
      "Epoch      11, train loss    1.0095995819\n",
      "Epoch      12, train loss    0.8160009873\n",
      "Epoch      13, train loss    0.6574690872\n",
      "Epoch      14, train loss    0.5435472162\n",
      "Epoch      15, train loss    0.4696351766\n",
      "Epoch      16, train loss    0.4215914152\n",
      "Epoch      17, train loss    0.3837780929\n",
      "Epoch      18, train loss    0.3444497170\n",
      "Epoch      19, train loss    0.2977713203\n",
      "Epoch      20, train loss    0.2448249826\n",
      "Epoch      21, train loss    0.1939532897\n",
      "Epoch      22, train loss    0.1561644824\n",
      "Epoch      23, train loss    0.1374512692\n",
      "Epoch      24, train loss    0.1348277441\n",
      "Epoch      25, train loss    0.1389814609\n",
      "Epoch      26, train loss    0.1405922997\n",
      "Epoch      27, train loss    0.1351991580\n",
      "Epoch      28, train loss    0.1239415912\n",
      "Epoch      29, train loss    0.1113745505\n",
      "Epoch      30, train loss    0.1025656836\n",
      "Epoch      31, train loss    0.0999530330\n",
      "Epoch      32, train loss    0.1005519876\n",
      "Epoch      33, train loss    0.0974857585\n",
      "Epoch      34, train loss    0.0872142755\n",
      "Epoch      35, train loss    0.0735944689\n",
      "Epoch      36, train loss    0.0632441632\n",
      "Epoch      37, train loss    0.0591122248\n",
      "Epoch      38, train loss    0.0590696214\n",
      "Epoch      39, train loss    0.0590111178\n",
      "Epoch      40, train loss    0.0564530098\n",
      "Epoch      41, train loss    0.0519409750\n",
      "Epoch      42, train loss    0.0479808659\n",
      "Epoch      43, train loss    0.0465692327\n",
      "Epoch      44, train loss    0.0471729834\n",
      "Epoch      45, train loss    0.0471238958\n",
      "Epoch      46, train loss    0.0444224516\n",
      "Epoch      47, train loss    0.0398500093\n",
      "Epoch      48, train loss    0.0359013423\n",
      "Epoch      49, train loss    0.0341412483\n",
      "Epoch      50, train loss    0.0340123701\n",
      "Epoch      51, train loss    0.0338468043\n",
      "Epoch      52, train loss    0.0326200345\n",
      "Epoch      53, train loss    0.0307684854\n",
      "Epoch      54, train loss    0.0294895805\n",
      "Epoch      55, train loss    0.0293046587\n",
      "Epoch      56, train loss    0.0294412574\n",
      "Epoch      57, train loss    0.0287926239\n",
      "Epoch      58, train loss    0.0272488823\n",
      "Epoch      59, train loss    0.0256977589\n",
      "Epoch      60, train loss    0.0248688316\n",
      "Epoch      61, train loss    0.0246035498\n",
      "Epoch      62, train loss    0.0242744185\n",
      "Epoch      63, train loss    0.0235988631\n",
      "Epoch      64, train loss    0.0228738977\n",
      "Epoch      65, train loss    0.0225129401\n",
      "Epoch      66, train loss    0.0225165426\n",
      "Epoch      67, train loss    0.0224879749\n",
      "Epoch      68, train loss    0.0221296145\n",
      "Epoch      69, train loss    0.0215738443\n",
      "Epoch      70, train loss    0.0211571149\n",
      "Epoch      71, train loss    0.0209889630\n",
      "Epoch      72, train loss    0.0208690358\n",
      "Epoch      73, train loss    0.0205932188\n",
      "Epoch      74, train loss    0.0202169783\n",
      "Epoch      75, train loss    0.0199559230\n",
      "Epoch      76, train loss    0.0198885410\n",
      "Epoch      77, train loss    0.0198637614\n",
      "Epoch      78, train loss    0.0197158827\n",
      "Epoch      79, train loss    0.0194733808\n",
      "Epoch      80, train loss    0.0192851920\n",
      "Epoch      81, train loss    0.0192039866\n",
      "Epoch      82, train loss    0.0191390039\n",
      "Epoch      83, train loss    0.0190013098\n",
      "Epoch      84, train loss    0.0188149354\n",
      "Epoch      85, train loss    0.0186649411\n",
      "Epoch      86, train loss    0.0185803490\n",
      "Epoch      87, train loss    0.0185071437\n",
      "Epoch      88, train loss    0.0183916796\n",
      "Epoch      89, train loss    0.0182517572\n",
      "Epoch      90, train loss    0.0181378036\n",
      "Epoch      91, train loss    0.0180570703\n",
      "Epoch      92, train loss    0.0179742746\n",
      "Epoch      93, train loss    0.0178689048\n",
      "Epoch      94, train loss    0.0177582731\n",
      "Epoch      95, train loss    0.0176657222\n",
      "Epoch      96, train loss    0.0175878779\n",
      "Epoch      97, train loss    0.0175032220\n",
      "Epoch      98, train loss    0.0174048424\n",
      "Epoch      99, train loss    0.0173082110\n",
      "Epoch     100, train loss    0.0172253784\n",
      "Epoch     101, train loss    0.0171487849\n",
      "Epoch     102, train loss    0.0170657081\n",
      "Epoch     103, train loss    0.0169762146\n",
      "Epoch     104, train loss    0.0168911367\n",
      "Epoch     105, train loss    0.0168167122\n",
      "Epoch     106, train loss    0.0167461719\n",
      "Epoch     107, train loss    0.0166700476\n",
      "Epoch     108, train loss    0.0165903331\n",
      "Epoch     109, train loss    0.0165157443\n",
      "Epoch     110, train loss    0.0164473316\n",
      "Epoch     111, train loss    0.0163785272\n",
      "Epoch     112, train loss    0.0163062319\n",
      "Epoch     113, train loss    0.0162346118\n",
      "Epoch     114, train loss    0.0161682145\n"
     ]
    },
    {
     "ename": "KeyboardInterrupt",
     "evalue": "",
     "output_type": "error",
     "traceback": [
      "\u001b[0;31m---------------------------------------------------------------------------\u001b[0m",
      "\u001b[0;31mKeyboardInterrupt\u001b[0m                         Traceback (most recent call last)",
      "Cell \u001b[0;32mIn[33], line 12\u001b[0m\n\u001b[1;32m      9\u001b[0m model\u001b[38;5;241m.\u001b[39mtrain(\u001b[38;5;28;01mTrue\u001b[39;00m)\n\u001b[1;32m     10\u001b[0m optimizer\u001b[38;5;241m.\u001b[39mzero_grad()\n\u001b[0;32m---> 12\u001b[0m pred \u001b[38;5;241m=\u001b[39m \u001b[43mmodel\u001b[49m\u001b[38;5;241;43m.\u001b[39;49m\u001b[43mforward\u001b[49m\u001b[43m(\u001b[49m\u001b[43mbatch\u001b[49m\u001b[38;5;241;43m.\u001b[39;49m\u001b[43mfeatures\u001b[49m\u001b[43m,\u001b[49m\u001b[43m \u001b[49m\u001b[43mmldata\u001b[49m\u001b[38;5;241;43m.\u001b[39;49m\u001b[43mmodel_metadata\u001b[49m\u001b[43m)\u001b[49m\n\u001b[1;32m     13\u001b[0m HT \u001b[38;5;241m=\u001b[39m blocks_to_matrix(pred, qmdata, detach \u001b[38;5;241m=\u001b[39m \u001b[38;5;28;01mFalse\u001b[39;00m)\n\u001b[1;32m     14\u001b[0m HK \u001b[38;5;241m=\u001b[39m [qmdata\u001b[38;5;241m.\u001b[39mbloch_sum(HT)[ifr] \u001b[38;5;28;01mfor\u001b[39;00m ifr \u001b[38;5;129;01min\u001b[39;00m batch\u001b[38;5;241m.\u001b[39msample_id]\n",
      "File \u001b[0;32m~/Software/mlelec/src/mlelec/models/linear_integrated.py:600\u001b[0m, in \u001b[0;36mLinearModelPeriodic.forward\u001b[0;34m(self, features, target_blocks, return_matrix)\u001b[0m\n\u001b[1;32m    598\u001b[0m     feat \u001b[38;5;241m=\u001b[39m map_targetkeys_to_featkeys_integrated(features, k)\n\u001b[1;32m    599\u001b[0m     nsamples, ncomp, _ \u001b[38;5;241m=\u001b[39m feat\u001b[38;5;241m.\u001b[39mvalues\u001b[38;5;241m.\u001b[39mshape\n\u001b[0;32m--> 600\u001b[0m     pred \u001b[38;5;241m=\u001b[39m \u001b[38;5;28mself\u001b[39m\u001b[38;5;241m.\u001b[39mblockmodels[\u001b[38;5;28mstr\u001b[39m(\u001b[38;5;28mtuple\u001b[39m(k))](feat\u001b[38;5;241m.\u001b[39mvalues)\n\u001b[1;32m    601\u001b[0m     pred_blocks\u001b[38;5;241m.\u001b[39mappend(\n\u001b[1;32m    602\u001b[0m         TensorBlock(\n\u001b[1;32m    603\u001b[0m             values\u001b[38;5;241m=\u001b[39mpred, \u001b[38;5;66;03m#.reshape((nsamples, ncomp, 1)),\u001b[39;00m\n\u001b[0;32m   (...)\u001b[0m\n\u001b[1;32m    607\u001b[0m         )\n\u001b[1;32m    608\u001b[0m     )\n\u001b[1;32m    609\u001b[0m \u001b[38;5;28;01melse\u001b[39;00m:\n",
      "\u001b[0;31mKeyboardInterrupt\u001b[0m: "
     ]
    }
   ],
   "source": [
    "nepoch = 5000\n",
    "for epoch in range(nepoch):\n",
    "\n",
    "    epoch_loss = 0\n",
    "\n",
    "    # Train against real space targets\n",
    "    for ib, batch in enumerate(dl):\n",
    "        \n",
    "        model.train(True)\n",
    "        optimizer.zero_grad()\n",
    "        \n",
    "        pred = model.forward(batch.features, mldata.model_metadata)\n",
    "        HT = blocks_to_matrix(pred, qmdata, detach = False)\n",
    "        HK = [qmdata.bloch_sum(HT)[ifr] for ifr in batch.sample_id]\n",
    "\n",
    "        loss = L2_loss(HK, batch.fock_kspace)\n",
    "        \n",
    "        loss.backward()\n",
    "        optimizer.step()\n",
    "        \n",
    "        epoch_loss += loss.item()\n",
    "    \n",
    "    scheduler.step(epoch_loss)\n",
    "    \n",
    "    if epoch >= 0: #% 10 == 0:\n",
    "        print(f\"Epoch {epoch:>7d}, train loss {epoch_loss:>15.10f}\")"
   ]
  },
  {
   "cell_type": "code",
   "execution_count": 21,
   "id": "689a7b49-6077-4a9d-a683-938839dfd357",
   "metadata": {},
   "outputs": [
    {
     "ename": "RuntimeError",
     "evalue": "Output 0 of UnbindBackward0 is a view and is being modified inplace. This view is the output of a function that returns multiple views. Such functions do not allow the output views to be modified inplace. You should replace the inplace operation by an out-of-place one.",
     "output_type": "error",
     "traceback": [
      "\u001b[0;31m---------------------------------------------------------------------------\u001b[0m",
      "\u001b[0;31mRuntimeError\u001b[0m                              Traceback (most recent call last)",
      "Cell \u001b[0;32mIn[21], line 1\u001b[0m\n\u001b[0;32m----> 1\u001b[0m HT \u001b[38;5;241m=\u001b[39m \u001b[43mblocks_to_matrix\u001b[49m\u001b[43m(\u001b[49m\u001b[43mpred\u001b[49m\u001b[43m,\u001b[49m\u001b[43m \u001b[49m\u001b[43mqmdata\u001b[49m\u001b[43m,\u001b[49m\u001b[43m \u001b[49m\u001b[43mdetach\u001b[49m\u001b[43m \u001b[49m\u001b[38;5;241;43m=\u001b[39;49m\u001b[43m \u001b[49m\u001b[38;5;28;43;01mFalse\u001b[39;49;00m\u001b[43m,\u001b[49m\u001b[43m \u001b[49m\u001b[43mstructure_ids\u001b[49m\u001b[38;5;241;43m=\u001b[39;49m\u001b[43mbatch\u001b[49m\u001b[38;5;241;43m.\u001b[39;49m\u001b[43msample_id\u001b[49m\u001b[43m)\u001b[49m\n",
      "File \u001b[0;32m~/Software/mlelec/src/mlelec/utils/_utils.py:220\u001b[0m, in \u001b[0;36mblocks_to_matrix_opt\u001b[0;34m(blocks, dataset, structure_ids, device, cg, all_pairs, sort_orbs, detach, slices_info)\u001b[0m\n\u001b[1;32m    218\u001b[0m     slices_info \u001b[38;5;241m=\u001b[39m _precompute_block_info(blocks, atom_blocks_idx, sort_orbs, all_pairs, orbs_offset, orbs_mult, detach)\n\u001b[1;32m    219\u001b[0m _initialize_matrices(reconstructed_matrices, slices_info, orbs_tot, dataset, device, structure_ids)\n\u001b[0;32m--> 220\u001b[0m \u001b[43m_update_matrices\u001b[49m\u001b[43m(\u001b[49m\u001b[43mreconstructed_matrices\u001b[49m\u001b[43m,\u001b[49m\u001b[43m \u001b[49m\u001b[43mslices_info\u001b[49m\u001b[43m,\u001b[49m\u001b[43m \u001b[49m\u001b[43mstructure_ids\u001b[49m\u001b[43m)\u001b[49m\n\u001b[1;32m    222\u001b[0m \u001b[38;5;28;01mfor\u001b[39;00m A, matrix \u001b[38;5;129;01min\u001b[39;00m \u001b[38;5;28menumerate\u001b[39m(reconstructed_matrices):\n\u001b[1;32m    223\u001b[0m     Ts \u001b[38;5;241m=\u001b[39m \u001b[38;5;28mlist\u001b[39m(matrix\u001b[38;5;241m.\u001b[39mkeys())\n",
      "File \u001b[0;32m~/Software/mlelec/src/mlelec/utils/_utils.py:162\u001b[0m, in \u001b[0;36m_update_matrices\u001b[0;34m(reconstructed_matrices, slices_info, structure_ids)\u001b[0m\n\u001b[1;32m    159\u001b[0m     \u001b[38;5;66;03m# matrix_mT[jpsi_iphi_slice].add_(blockval.T * bt2_factor_m)\u001b[39;00m\n\u001b[1;32m    161\u001b[0m \u001b[38;5;28;01melif\u001b[39;00m \u001b[38;5;28mabs\u001b[39m(block_type) \u001b[38;5;241m==\u001b[39m \u001b[38;5;241m1\u001b[39m:\n\u001b[0;32m--> 162\u001b[0m     \u001b[43mblockval\u001b[49m\u001b[38;5;241;43m.\u001b[39;49m\u001b[43mmul_\u001b[49m\u001b[43m(\u001b[49m\u001b[43mbt1_fact_fin\u001b[49m\u001b[43m)\u001b[49m\n\u001b[1;32m    164\u001b[0m     \u001b[38;5;28;01mif\u001b[39;00m block_type \u001b[38;5;241m==\u001b[39m \u001b[38;5;241m1\u001b[39m:\n\u001b[1;32m    165\u001b[0m         matrix_T[iphi_jpsi_slice]\u001b[38;5;241m.\u001b[39madd_(blockval)\n",
      "\u001b[0;31mRuntimeError\u001b[0m: Output 0 of UnbindBackward0 is a view and is being modified inplace. This view is the output of a function that returns multiple views. Such functions do not allow the output views to be modified inplace. You should replace the inplace operation by an out-of-place one."
     ]
    }
   ],
   "source": [
    "HT = blocks_to_matrix(pred, qmdata, detach = False, structure_ids=batch.sample_id)"
   ]
  },
  {
   "cell_type": "code",
   "execution_count": 24,
   "id": "5283cb5d-305c-439a-abc2-ec95772802dc",
   "metadata": {},
   "outputs": [
    {
     "ename": "RuntimeError",
     "evalue": "Output 0 of UnbindBackward0 is a view and is being modified inplace. This view is the output of a function that returns multiple views. Such functions do not allow the output views to be modified inplace. You should replace the inplace operation by an out-of-place one.",
     "output_type": "error",
     "traceback": [
      "\u001b[0;31m---------------------------------------------------------------------------\u001b[0m",
      "\u001b[0;31mRuntimeError\u001b[0m                              Traceback (most recent call last)",
      "Cell \u001b[0;32mIn[24], line 2\u001b[0m\n\u001b[1;32m      1\u001b[0m \u001b[38;5;66;03m# pred = model.forward(batch.features, mldata.model_metadata)\u001b[39;00m\n\u001b[0;32m----> 2\u001b[0m HT \u001b[38;5;241m=\u001b[39m \u001b[43mblocks_to_matrix\u001b[49m\u001b[43m(\u001b[49m\u001b[43mpred\u001b[49m\u001b[43m,\u001b[49m\u001b[43m \u001b[49m\u001b[43mqmdata\u001b[49m\u001b[43m,\u001b[49m\u001b[43m \u001b[49m\u001b[43mdetach\u001b[49m\u001b[43m \u001b[49m\u001b[38;5;241;43m=\u001b[39;49m\u001b[43m \u001b[49m\u001b[38;5;28;43;01mFalse\u001b[39;49;00m\u001b[43m)\u001b[49m\n",
      "File \u001b[0;32m~/Software/mlelec/src/mlelec/utils/_utils.py:220\u001b[0m, in \u001b[0;36mblocks_to_matrix_opt\u001b[0;34m(blocks, dataset, structure_ids, device, cg, all_pairs, sort_orbs, detach, slices_info)\u001b[0m\n\u001b[1;32m    218\u001b[0m     slices_info \u001b[38;5;241m=\u001b[39m _precompute_block_info(blocks, atom_blocks_idx, sort_orbs, all_pairs, orbs_offset, orbs_mult, detach)\n\u001b[1;32m    219\u001b[0m _initialize_matrices(reconstructed_matrices, slices_info, orbs_tot, dataset, device, structure_ids)\n\u001b[0;32m--> 220\u001b[0m \u001b[43m_update_matrices\u001b[49m\u001b[43m(\u001b[49m\u001b[43mreconstructed_matrices\u001b[49m\u001b[43m,\u001b[49m\u001b[43m \u001b[49m\u001b[43mslices_info\u001b[49m\u001b[43m,\u001b[49m\u001b[43m \u001b[49m\u001b[43mstructure_ids\u001b[49m\u001b[43m)\u001b[49m\n\u001b[1;32m    222\u001b[0m \u001b[38;5;28;01mfor\u001b[39;00m A, matrix \u001b[38;5;129;01min\u001b[39;00m \u001b[38;5;28menumerate\u001b[39m(reconstructed_matrices):\n\u001b[1;32m    223\u001b[0m     Ts \u001b[38;5;241m=\u001b[39m \u001b[38;5;28mlist\u001b[39m(matrix\u001b[38;5;241m.\u001b[39mkeys())\n",
      "File \u001b[0;32m~/Software/mlelec/src/mlelec/utils/_utils.py:162\u001b[0m, in \u001b[0;36m_update_matrices\u001b[0;34m(reconstructed_matrices, slices_info, structure_ids)\u001b[0m\n\u001b[1;32m    159\u001b[0m     \u001b[38;5;66;03m# matrix_mT[jpsi_iphi_slice].add_(blockval.T * bt2_factor_m)\u001b[39;00m\n\u001b[1;32m    161\u001b[0m \u001b[38;5;28;01melif\u001b[39;00m \u001b[38;5;28mabs\u001b[39m(block_type) \u001b[38;5;241m==\u001b[39m \u001b[38;5;241m1\u001b[39m:\n\u001b[0;32m--> 162\u001b[0m     \u001b[43mblockval\u001b[49m\u001b[38;5;241;43m.\u001b[39;49m\u001b[43mmul_\u001b[49m\u001b[43m(\u001b[49m\u001b[43mbt1_fact_fin\u001b[49m\u001b[43m)\u001b[49m\n\u001b[1;32m    164\u001b[0m     \u001b[38;5;28;01mif\u001b[39;00m block_type \u001b[38;5;241m==\u001b[39m \u001b[38;5;241m1\u001b[39m:\n\u001b[1;32m    165\u001b[0m         matrix_T[iphi_jpsi_slice]\u001b[38;5;241m.\u001b[39madd_(blockval)\n",
      "\u001b[0;31mRuntimeError\u001b[0m: Output 0 of UnbindBackward0 is a view and is being modified inplace. This view is the output of a function that returns multiple views. Such functions do not allow the output views to be modified inplace. You should replace the inplace operation by an out-of-place one."
     ]
    }
   ],
   "source": [
    "# pred = model.forward(batch.features, mldata.model_metadata)\n",
    "HT = blocks_to_matrix(pred, qmdata, detach = False)"
   ]
  },
  {
   "cell_type": "markdown",
   "id": "729c7a30-48ee-4e2a-9337-94b8ef9fd442",
   "metadata": {},
   "source": [
    "### Train eigvals"
   ]
  },
  {
   "cell_type": "code",
   "execution_count": 167,
   "id": "10c160ee-1f58-4529-bbcc-d1793fbfdd1a",
   "metadata": {},
   "outputs": [],
   "source": [
    "seed = 0\n",
    "torch.manual_seed(seed)\n",
    "np.random.seed(seed)\n",
    "\n",
    "model = LinearModelPeriodic(twocfeat = mldata.features, \n",
    "                            target_blocks = mldata.model_metadata,\n",
    "                            frames = qmdata.structures, \n",
    "                            orbitals = qmdata.basis, \n",
    "                            device = device,\n",
    "                            nhidden = 4, \n",
    "                            nlayers = 1,\n",
    "                            activation = 'SiLU',\n",
    "                            apply_norm = True\n",
    "                           )\n",
    "model = model.double()"
   ]
  },
  {
   "cell_type": "code",
   "execution_count": 168,
   "id": "d4a9444b-d674-4ec0-b7c2-c35bc5d002ce",
   "metadata": {},
   "outputs": [],
   "source": [
    "optimizer = torch.optim.Adam(model.parameters(), lr = 1e-2, weight_decay = 1e-4)\n",
    "scheduler = torch.optim.lr_scheduler.ReduceLROnPlateau(optimizer, factor = 0.8, patience = 20)"
   ]
  },
  {
   "cell_type": "code",
   "execution_count": 169,
   "id": "634298e4",
   "metadata": {},
   "outputs": [],
   "source": [
    "from mlelec.metrics import Eigval_loss, L2_loss_meanzero, L2_loss\n",
    "loss_fn = Eigval_loss #L2_loss #_meanzero"
   ]
  },
  {
   "cell_type": "code",
   "execution_count": 170,
   "id": "e02ff13e-0ca7-4783-966e-ce8533385704",
   "metadata": {},
   "outputs": [],
   "source": [
    "from mlelec.utils._utils import blocks_to_matrix_opt as blocks_to_matrix"
   ]
  },
  {
   "cell_type": "code",
   "execution_count": 171,
   "id": "23a3d87d",
   "metadata": {},
   "outputs": [],
   "source": [
    "def compute_eigval(A, M, return_eigenvectors = False):\n",
    "    Ax = xitorch.LinearOperator.m(A)\n",
    "    Mx = xitorch.LinearOperator.m(M) if M is not None else None\n",
    "\n",
    "    # Compute eigenvalues and eigenvectors\n",
    "    eigvals, eigvecs = symeig(Ax, M = Mx)\n",
    "    if return_eigenvectors:\n",
    "        return eigvals, eigvecs\n",
    "    else:\n",
    "        return eigvals\n",
    "\n",
    "\n",
    "from mlelec.data.mldataset import _sqrtm_newton_schulz\n",
    "def compute_ard(A, M, frame, basis):\n",
    "\n",
    "    natm = len(frame)\n",
    "    nelec = sum(frame.numbers)\n",
    "    split_idx = [len(basis[s]) for s in frame.numbers]\n",
    "    \n",
    "    eigvals, eigvecs = compute_eigval(A, M, return_eigenvectors = True)\n",
    "\n",
    "    T = []\n",
    "    for C, S in zip(eigvecs, M):\n",
    "        occ = torch.tensor([2.0+0.0j if i <= nelec//2 else 0.0+0.0j for i in range(C.shape[0])], dtype = torch.complex128, requires_grad = True)\n",
    "    \n",
    "        # Compute the one-particle density matrix\n",
    "        rho = torch.einsum('n,in,jn', occ, C, C.conj())\n",
    "    \n",
    "        if True:\n",
    "            # Compute the population matrix\n",
    "            sqrt_S, _ = _sqrtm_newton_schulz(S)\n",
    "    \n",
    "            P = sqrt_S @ rho @ sqrt_S\n",
    "        else:\n",
    "            # Use rho\n",
    "            P = rho\n",
    "    \n",
    "        # Compute the matrix elements of the atom resolved density matrix\n",
    "        blocks = [block for slice_ in torch.split(P, split_idx, dim = 0) for block in torch.split(slice_, split_idx, dim = 1)]\n",
    "        T.append(torch.tensor([torch.norm(b) for b in blocks], device = device, requires_grad = True).reshape(natm, natm))\n",
    "\n",
    "    return torch.stack(T), eigvals"
   ]
  },
  {
   "cell_type": "code",
   "execution_count": 65,
   "id": "bc34e92f",
   "metadata": {},
   "outputs": [
    {
     "name": "stdout",
     "output_type": "stream",
     "text": [
      "Epoch       0, train loss 17474.2723813820\n",
      "Epoch       1, train loss 8672.9033613870\n"
     ]
    },
    {
     "ename": "KeyboardInterrupt",
     "evalue": "",
     "output_type": "error",
     "traceback": [
      "\u001b[0;31m---------------------------------------------------------------------------\u001b[0m",
      "\u001b[0;31mKeyboardInterrupt\u001b[0m                         Traceback (most recent call last)",
      "Cell \u001b[0;32mIn[65], line 21\u001b[0m\n\u001b[1;32m     19\u001b[0m pred_ard \u001b[38;5;241m=\u001b[39m []\n\u001b[1;32m     20\u001b[0m \u001b[38;5;28;01mfor\u001b[39;00m ifr, hk, sk \u001b[38;5;129;01min\u001b[39;00m \u001b[38;5;28mzip\u001b[39m(batch\u001b[38;5;241m.\u001b[39msample_id, HK, batch\u001b[38;5;241m.\u001b[39moverlap_kspace):\n\u001b[0;32m---> 21\u001b[0m     ard, eig \u001b[38;5;241m=\u001b[39m \u001b[43mcompute_ard\u001b[49m\u001b[43m(\u001b[49m\u001b[43mhk\u001b[49m\u001b[43m,\u001b[49m\u001b[43m \u001b[49m\u001b[43msk\u001b[49m\u001b[43m,\u001b[49m\u001b[43m \u001b[49m\u001b[43mqmdata\u001b[49m\u001b[38;5;241;43m.\u001b[39;49m\u001b[43mstructures\u001b[49m\u001b[43m[\u001b[49m\u001b[43mifr\u001b[49m\u001b[43m]\u001b[49m\u001b[43m,\u001b[49m\u001b[43m \u001b[49m\u001b[43mqmdata\u001b[49m\u001b[38;5;241;43m.\u001b[39;49m\u001b[43mbasis\u001b[49m\u001b[43m)\u001b[49m\n\u001b[1;32m     22\u001b[0m     pred_ard\u001b[38;5;241m.\u001b[39mappend(ard)\n\u001b[1;32m     23\u001b[0m     pred_eigvals\u001b[38;5;241m.\u001b[39mappend(eig)\n",
      "Cell \u001b[0;32mIn[63], line 40\u001b[0m, in \u001b[0;36mcompute_ard\u001b[0;34m(A, M, frame, basis)\u001b[0m\n\u001b[1;32m     38\u001b[0m     \u001b[38;5;66;03m# Compute the matrix elements of the atom resolved density matrix\u001b[39;00m\n\u001b[1;32m     39\u001b[0m     blocks \u001b[38;5;241m=\u001b[39m [block \u001b[38;5;28;01mfor\u001b[39;00m slice_ \u001b[38;5;129;01min\u001b[39;00m torch\u001b[38;5;241m.\u001b[39msplit(P, split_idx, dim \u001b[38;5;241m=\u001b[39m \u001b[38;5;241m0\u001b[39m) \u001b[38;5;28;01mfor\u001b[39;00m block \u001b[38;5;129;01min\u001b[39;00m torch\u001b[38;5;241m.\u001b[39msplit(slice_, split_idx, dim \u001b[38;5;241m=\u001b[39m \u001b[38;5;241m1\u001b[39m)]\n\u001b[0;32m---> 40\u001b[0m     T\u001b[38;5;241m.\u001b[39mappend(torch\u001b[38;5;241m.\u001b[39mtensor(\u001b[43m[\u001b[49m\u001b[43mtorch\u001b[49m\u001b[38;5;241;43m.\u001b[39;49m\u001b[43mnorm\u001b[49m\u001b[43m(\u001b[49m\u001b[43mb\u001b[49m\u001b[43m)\u001b[49m\u001b[43m \u001b[49m\u001b[38;5;28;43;01mfor\u001b[39;49;00m\u001b[43m \u001b[49m\u001b[43mb\u001b[49m\u001b[43m \u001b[49m\u001b[38;5;129;43;01min\u001b[39;49;00m\u001b[43m \u001b[49m\u001b[43mblocks\u001b[49m\u001b[43m]\u001b[49m, device \u001b[38;5;241m=\u001b[39m device, requires_grad \u001b[38;5;241m=\u001b[39m \u001b[38;5;28;01mTrue\u001b[39;00m)\u001b[38;5;241m.\u001b[39mreshape(natm, natm))\n\u001b[1;32m     42\u001b[0m \u001b[38;5;28;01mreturn\u001b[39;00m torch\u001b[38;5;241m.\u001b[39mstack(T), eigvals\n",
      "Cell \u001b[0;32mIn[63], line 40\u001b[0m, in \u001b[0;36m<listcomp>\u001b[0;34m(.0)\u001b[0m\n\u001b[1;32m     38\u001b[0m     \u001b[38;5;66;03m# Compute the matrix elements of the atom resolved density matrix\u001b[39;00m\n\u001b[1;32m     39\u001b[0m     blocks \u001b[38;5;241m=\u001b[39m [block \u001b[38;5;28;01mfor\u001b[39;00m slice_ \u001b[38;5;129;01min\u001b[39;00m torch\u001b[38;5;241m.\u001b[39msplit(P, split_idx, dim \u001b[38;5;241m=\u001b[39m \u001b[38;5;241m0\u001b[39m) \u001b[38;5;28;01mfor\u001b[39;00m block \u001b[38;5;129;01min\u001b[39;00m torch\u001b[38;5;241m.\u001b[39msplit(slice_, split_idx, dim \u001b[38;5;241m=\u001b[39m \u001b[38;5;241m1\u001b[39m)]\n\u001b[0;32m---> 40\u001b[0m     T\u001b[38;5;241m.\u001b[39mappend(torch\u001b[38;5;241m.\u001b[39mtensor([\u001b[43mtorch\u001b[49m\u001b[38;5;241;43m.\u001b[39;49m\u001b[43mnorm\u001b[49m\u001b[43m(\u001b[49m\u001b[43mb\u001b[49m\u001b[43m)\u001b[49m \u001b[38;5;28;01mfor\u001b[39;00m b \u001b[38;5;129;01min\u001b[39;00m blocks], device \u001b[38;5;241m=\u001b[39m device, requires_grad \u001b[38;5;241m=\u001b[39m \u001b[38;5;28;01mTrue\u001b[39;00m)\u001b[38;5;241m.\u001b[39mreshape(natm, natm))\n\u001b[1;32m     42\u001b[0m \u001b[38;5;28;01mreturn\u001b[39;00m torch\u001b[38;5;241m.\u001b[39mstack(T), eigvals\n",
      "File \u001b[0;32m~/micromamba/envs/sci/lib/python3.11/site-packages/torch/functional.py:1615\u001b[0m, in \u001b[0;36mnorm\u001b[0;34m(input, p, dim, keepdim, out, dtype)\u001b[0m\n\u001b[1;32m   1613\u001b[0m \u001b[38;5;28;01mif\u001b[39;00m p \u001b[38;5;241m==\u001b[39m \u001b[38;5;124m\"\u001b[39m\u001b[38;5;124mfro\u001b[39m\u001b[38;5;124m\"\u001b[39m \u001b[38;5;129;01mand\u001b[39;00m (dim \u001b[38;5;129;01mis\u001b[39;00m \u001b[38;5;28;01mNone\u001b[39;00m \u001b[38;5;129;01mor\u001b[39;00m \u001b[38;5;28misinstance\u001b[39m(dim, (\u001b[38;5;28mint\u001b[39m, torch\u001b[38;5;241m.\u001b[39mSymInt)) \u001b[38;5;129;01mor\u001b[39;00m \u001b[38;5;28mlen\u001b[39m(dim) \u001b[38;5;241m<\u001b[39m\u001b[38;5;241m=\u001b[39m \u001b[38;5;241m2\u001b[39m):\n\u001b[1;32m   1614\u001b[0m     \u001b[38;5;28;01mif\u001b[39;00m out \u001b[38;5;129;01mis\u001b[39;00m \u001b[38;5;28;01mNone\u001b[39;00m:\n\u001b[0;32m-> 1615\u001b[0m         \u001b[38;5;28;01mreturn\u001b[39;00m \u001b[43mtorch\u001b[49m\u001b[38;5;241;43m.\u001b[39;49m\u001b[43mlinalg\u001b[49m\u001b[38;5;241;43m.\u001b[39;49m\u001b[43mvector_norm\u001b[49m\u001b[43m(\u001b[49m\u001b[38;5;28;43minput\u001b[39;49m\u001b[43m,\u001b[49m\u001b[43m \u001b[49m\u001b[38;5;241;43m2\u001b[39;49m\u001b[43m,\u001b[49m\u001b[43m \u001b[49m\u001b[43m_dim\u001b[49m\u001b[43m,\u001b[49m\u001b[43m \u001b[49m\u001b[43mkeepdim\u001b[49m\u001b[43m,\u001b[49m\u001b[43m \u001b[49m\u001b[43mdtype\u001b[49m\u001b[38;5;241;43m=\u001b[39;49m\u001b[43mdtype\u001b[49m\u001b[43m)\u001b[49m\n\u001b[1;32m   1616\u001b[0m     \u001b[38;5;28;01melse\u001b[39;00m:\n\u001b[1;32m   1617\u001b[0m         \u001b[38;5;28;01mreturn\u001b[39;00m torch\u001b[38;5;241m.\u001b[39mlinalg\u001b[38;5;241m.\u001b[39mvector_norm(\u001b[38;5;28minput\u001b[39m, \u001b[38;5;241m2\u001b[39m, _dim, keepdim, dtype\u001b[38;5;241m=\u001b[39mdtype, out\u001b[38;5;241m=\u001b[39mout)\n",
      "\u001b[0;31mKeyboardInterrupt\u001b[0m: "
     ]
    }
   ],
   "source": [
    "nepoch = 5000\n",
    "for epoch in range(nepoch):\n",
    "\n",
    "    epoch_loss = 0\n",
    "\n",
    "    # Train against real space targets\n",
    "    for ib, batch in enumerate(dl):\n",
    "        \n",
    "        model.train(True)\n",
    "        optimizer.zero_grad()\n",
    "        \n",
    "        pred = model.forward(batch.features, mldata.model_metadata)\n",
    "        HT = blocks_to_matrix(pred, qmdata, detach = False, structure_ids=batch.sample_id)\n",
    "        HK = qmdata.bloch_sum(HT, structure_ids=batch.sample_id)\n",
    "        # HK = [HK[ifr] for ifr in batch.sample_id]\n",
    "        \n",
    "        # pred_eigvals = [torch.stack([compute_eigval(h, s) for h, s in zip(hk, sk)]) for hk, sk in zip(HK, batch.overlap_kspace)]\n",
    "        pred_eigvals = []\n",
    "        pred_ard = []\n",
    "        for ifr, hk, sk in zip(batch.sample_id, HK, batch.overlap_kspace):\n",
    "            ard, eig = compute_ard(hk, sk, qmdata.structures[ifr], qmdata.basis)\n",
    "            pred_ard.append(ard)\n",
    "            pred_eigvals.append(eig)\n",
    "        \n",
    "        loss = loss_fn(pred_eigvals, batch.eigenvalues) + loss_fn(pred_ard, batch.atom_resolved_density)\n",
    "        \n",
    "        loss.backward()\n",
    "        optimizer.step()\n",
    "        \n",
    "        epoch_loss += loss.item()\n",
    "    \n",
    "    scheduler.step(epoch_loss)\n",
    "    \n",
    "    if epoch >= 0: #% 10 == 0:\n",
    "        print(f\"Epoch {epoch:>7d}, train loss {epoch_loss:>15.10f}\")"
   ]
  },
  {
   "cell_type": "markdown",
   "id": "eb18db7a-c223-4945-9f30-6f62cbed13fb",
   "metadata": {},
   "source": [
    "# Optimize blocks_to_matrix"
   ]
  },
  {
   "cell_type": "code",
   "execution_count": 25,
   "id": "fbe4b343-083a-4a05-add0-87f41027bea3",
   "metadata": {},
   "outputs": [],
   "source": [
    "from mlelec.utils._utils import blocks_to_matrix_opt\n",
    "from mlelec.utils.pbc_utils import blocks_to_matrix\n",
    "from mlelec.utils.pbc_utils import blocks_to_matrix_working\n",
    "from mlelec.utils.twocenter_utils import _to_uncoupled_basis\n",
    "from mlelec.utils.symmetry import ClebschGordanReal\n",
    "cg = ClebschGordanReal(3, device=device)"
   ]
  },
  {
   "cell_type": "code",
   "execution_count": 26,
   "id": "c908a017-9df5-42c8-bd69-1bfd7caa9ab2",
   "metadata": {},
   "outputs": [],
   "source": [
    "blocks = mldata.items['fock_blocks']\n",
    "unc_blocks = _to_uncoupled_basis(blocks, cg = cg)"
   ]
  },
  {
   "cell_type": "code",
   "execution_count": 27,
   "id": "384c3f2b-4db8-425f-950b-8879875488dd",
   "metadata": {},
   "outputs": [
    {
     "name": "stderr",
     "output_type": "stream",
     "text": [
      "/home/pegolo/Software/mlelec/src/mlelec/models/linear_integrated.py:589: UserWarning: Using train target_blocks, otherwise provide test target_blocks\n",
      "  warnings.warn('Using train target_blocks, otherwise provide test target_blocks')\n"
     ]
    }
   ],
   "source": [
    "bl = model.forward(mldata.features)\n",
    "unc_blocks = _to_uncoupled_basis(bl, cg = cg)"
   ]
  },
  {
   "cell_type": "code",
   "execution_count": 28,
   "id": "5d0675d3-ea8d-448f-b8dd-5c418e66a884",
   "metadata": {},
   "outputs": [],
   "source": [
    "b_orig = blocks_to_matrix(unc_blocks, qmdata, detach = True)"
   ]
  },
  {
   "cell_type": "code",
   "execution_count": 32,
   "id": "6fb9dad2-3dee-4dcf-91d4-ee779e725c41",
   "metadata": {},
   "outputs": [],
   "source": [
    "b_opt = blocks_to_matrix_opt(unc_blocks, qmdata, detach = False)"
   ]
  },
  {
   "cell_type": "code",
   "execution_count": 197,
   "id": "51382fef-4c15-4450-8cb5-8a3998c4c95a",
   "metadata": {},
   "outputs": [
    {
     "name": "stdout",
     "output_type": "stream",
     "text": [
      "tensor(0.)\n",
      "tensor(0.)\n",
      "tensor(0.)\n",
      "tensor(0.)\n",
      "tensor(0.)\n",
      "tensor(0.)\n",
      "tensor(0.)\n",
      "tensor(0.)\n",
      "tensor(0.)\n",
      "tensor(0.)\n",
      "tensor(0.)\n",
      "tensor(0.)\n",
      "tensor(0.)\n",
      "tensor(0.)\n",
      "tensor(0.)\n",
      "tensor(0.)\n",
      "tensor(0.)\n",
      "tensor(0.)\n",
      "tensor(0.)\n",
      "tensor(0.)\n",
      "tensor(0.)\n"
     ]
    }
   ],
   "source": [
    "for T in b_opt[0]:\n",
    "    mT = tuple(-t for t in T)\n",
    "    print(torch.norm((b_opt[0][T]) - b_orig[0][T]))\n",
    "    # print(torch.norm((b_opt[0][T] + b_opt[0][mT].T) - b_orig[0][T]))"
   ]
  },
  {
   "cell_type": "code",
   "execution_count": 68,
   "id": "af113c47-a560-43eb-a8e9-e6c1a90db5fc",
   "metadata": {},
   "outputs": [
    {
     "name": "stdout",
     "output_type": "stream",
     "text": [
      "516 ms ± 11 ms per loop (mean ± std. dev. of 7 runs, 1 loop each)\n"
     ]
    }
   ],
   "source": [
    "%%timeit\n",
    "b1 = blocks_to_matrix(blocks, qmdata, cg = cg, detach = True, check_hermiticity = False)"
   ]
  },
  {
   "cell_type": "code",
   "execution_count": 183,
   "id": "803ff953-b7bd-4ef8-81d7-425fd2a87033",
   "metadata": {},
   "outputs": [
    {
     "name": "stdout",
     "output_type": "stream",
     "text": [
      "227 ms ± 1.53 ms per loop (mean ± std. dev. of 7 runs, 1 loop each)\n"
     ]
    }
   ],
   "source": [
    "%%timeit\n",
    "b1 = blocks_to_matrix_opt(blocks, qmdata, cg = cg, detach = True, check_hermiticity = False)"
   ]
  },
  {
   "cell_type": "code",
   "execution_count": 12,
   "id": "dfa47079-0b1a-4f7c-9718-2a81547f058f",
   "metadata": {},
   "outputs": [],
   "source": [
    "from mlelec.utils.twocenter_utils import _to_uncoupled_basis"
   ]
  },
  {
   "cell_type": "code",
   "execution_count": 54,
   "id": "776a19f7-aa06-4356-ac69-c550f3427b26",
   "metadata": {
    "scrolled": true
   },
   "outputs": [],
   "source": [
    "batch = next(iter(dl))"
   ]
  },
  {
   "cell_type": "code",
   "execution_count": 59,
   "id": "4c84d796-20f3-4753-bfba-9293e52f156f",
   "metadata": {},
   "outputs": [],
   "source": [
    "inters, m1, m2 = blocks[0].samples.intersection_and_mapping(batch.fock_blocks[0].samples)"
   ]
  },
  {
   "cell_type": "code",
   "execution_count": 70,
   "id": "ed490e8e-bc93-420a-b99a-854e87eed5e9",
   "metadata": {},
   "outputs": [
    {
     "data": {
      "text/plain": [
       "(0,)"
      ]
     },
     "execution_count": 70,
     "metadata": {},
     "output_type": "execute_result"
    }
   ],
   "source": [
    "batch.sample_id"
   ]
  },
  {
   "cell_type": "code",
   "execution_count": 198,
   "id": "decf563e-99cc-4b02-8aab-2ea07c5e995b",
   "metadata": {},
   "outputs": [],
   "source": [
    "dataset = qmdata\n",
    "orbs_tot, orbs_offset = _orbs_offsets(dataset.basis)\n",
    "atom_blocks_idx = _atom_blocks_idx(dataset.structures, orbs_tot)\n",
    "orbs_mult = {\n",
    "    species: \n",
    "        {tuple(k): v\n",
    "        for k, v in zip(\n",
    "            *np.unique(\n",
    "                np.asarray(dataset.basis[species])[:, :2],\n",
    "                axis=0,\n",
    "                return_counts=True,\n",
    "            )\n",
    "        )\n",
    "    }\n",
    "    for species in dataset.basis\n",
    "}\n",
    "unc_blocks = _to_uncoupled_basis(blocks, cg)\n",
    "slices_info = _precompute_block_info(unc_blocks, atom_blocks_idx, True, False, orbs_offset, orbs_mult, True)"
   ]
  },
  {
   "cell_type": "code",
   "execution_count": 111,
   "id": "7642b687-543f-45f4-894c-fa0b28da96d4",
   "metadata": {},
   "outputs": [],
   "source": [
    "b0=blocks_to_matrix_opt(blocks, qmdata, cg = cg, detach = True, check_hermiticity = False, structure_ids=batch.sample_id, slices_info=slices_info)"
   ]
  },
  {
   "cell_type": "code",
   "execution_count": null,
   "id": "809de42a-183f-4877-996f-2f10dd9fc56a",
   "metadata": {},
   "outputs": [],
   "source": []
  },
  {
   "cell_type": "code",
   "execution_count": 117,
   "id": "6d7cfe9d-a170-4767-a828-29e1c9d8817b",
   "metadata": {},
   "outputs": [
    {
     "name": "stdout",
     "output_type": "stream",
     "text": [
      "202 ms ± 2.09 ms per loop (mean ± std. dev. of 10 runs, 1 loop each)\n"
     ]
    }
   ],
   "source": [
    "%%timeit -r 10 -n 1\n",
    "b0=blocks_to_matrix_opt(blocks, qmdata, cg = cg, detach = True, check_hermiticity = False, structure_ids=batch.sample_id, slices_info=slices_info)"
   ]
  },
  {
   "cell_type": "code",
   "execution_count": 104,
   "id": "887391a8-d207-4fc6-92ef-61550f589f41",
   "metadata": {},
   "outputs": [
    {
     "name": "stdout",
     "output_type": "stream",
     "text": [
      "255 ms ± 7.98 ms per loop (mean ± std. dev. of 7 runs, 1 loop each)\n"
     ]
    }
   ],
   "source": [
    "%%timeit\n",
    "b0=blocks_to_matrix_opt(blocks, qmdata, cg = cg, detach = True, check_hermiticity = False, structure_ids=batch.sample_id, slices_info=None)"
   ]
  },
  {
   "cell_type": "code",
   "execution_count": 200,
   "id": "185eb8ee-110d-49fc-9155-a5f6e8849007",
   "metadata": {},
   "outputs": [
    {
     "data": {
      "text/plain": [
       "Timer unit: 1e-09 s\n",
       "\n",
       "Total time: 0.171621 s\n",
       "File: /home/pegolo/Software/mlelec/src/mlelec/utils/_utils.py\n",
       "Function: blocks_to_matrix_opt at line 178\n",
       "\n",
       "Line #      Hits         Time  Per Hit   % Time  Line Contents\n",
       "==============================================================\n",
       "   178                                           def blocks_to_matrix_opt(blocks, \n",
       "   179                                                                    dataset, \n",
       "   180                                                                    structure_ids = None, \n",
       "   181                                                                    device=None, \n",
       "   182                                                                    cg=None, \n",
       "   183                                                                    all_pairs=False, \n",
       "   184                                                                    sort_orbs=True, \n",
       "   185                                                                    detach=False, \n",
       "   186                                                                   #  check_hermiticity=True,\n",
       "   187                                                                    slices_info = None):\n",
       "   188                                           \n",
       "   189         1        631.0    631.0      0.0      if device is None:\n",
       "   190         1       1503.0   1503.0      0.0          device = dataset.device\n",
       "   191                                           \n",
       "   192         1        141.0    141.0      0.0      if structure_ids is None:\n",
       "   193                                                   structure_ids = range(len(dataset))\n",
       "   194                                           \n",
       "   195         1     189378.0 189378.0      0.1      if \"L\" in blocks.keys.names:\n",
       "   196         1    2772597.0    3e+06      1.6          blocks = _to_uncoupled_basis(blocks, cg=cg, device=device)\n",
       "   197                                           \n",
       "   198         1      81033.0  81033.0      0.0      orbs_tot, orbs_offset = _orbs_offsets(dataset.basis)\n",
       "   199         1   13847056.0    1e+07      8.1      atom_blocks_idx = _atom_blocks_idx(dataset.structures, orbs_tot)\n",
       "   200                                           \n",
       "   201         2     271093.0 135546.5      0.2      orbs_mult = {\n",
       "   202                                                   species: \n",
       "   203                                                       {tuple(k): v\n",
       "   204                                                       for k, v in zip(\n",
       "   205                                                           *np.unique(\n",
       "   206                                                               np.asarray(dataset.basis[species])[:, :2],\n",
       "   207                                                               axis=0,\n",
       "   208                                                               return_counts=True,\n",
       "   209                                                           )\n",
       "   210                                                       )\n",
       "   211                                                   }\n",
       "   212         1        521.0    521.0      0.0          for species in dataset.basis\n",
       "   213                                               }\n",
       "   214                                           \n",
       "   215         1       2945.0   2945.0      0.0      reconstructed_matrices = [dict() for _ in structure_ids]\n",
       "   216                                           \n",
       "   217         1        381.0    381.0      0.0      if slices_info is None:\n",
       "   218                                                   slices_info = _precompute_block_info(blocks, atom_blocks_idx, sort_orbs, all_pairs, orbs_offset, orbs_mult, detach)\n",
       "   219         1   10115178.0    1e+07      5.9      _initialize_matrices(reconstructed_matrices, slices_info, orbs_tot, dataset, device, structure_ids)\n",
       "   220         1  140103472.0    1e+08     81.6      _update_matrices(reconstructed_matrices, slices_info, structure_ids)\n",
       "   221                                           \n",
       "   222         2       3156.0   1578.0      0.0      for A, matrix in enumerate(reconstructed_matrices):\n",
       "   223         1       3367.0   3367.0      0.0          Ts = list(matrix.keys())\n",
       "   224         1        621.0    621.0      0.0          done = []\n",
       "   225        22       5558.0    252.6      0.0          for T in Ts:\n",
       "   226        21       6784.0    323.0      0.0              if T in done:\n",
       "   227        10       2974.0    297.4      0.0                  continue\n",
       "   228        11      26110.0   2373.6      0.0              mT = tuple(-t for t in T)\n",
       "   229        11       5419.0    492.6      0.0              done.append(mT)\n",
       "   230        11    4151922.0 377447.5      2.4              reconstructed_matrices[A][T] = reconstructed_matrices[A][T] + reconstructed_matrices[A][mT].T\n",
       "   231        11      28582.0   2598.4      0.0              reconstructed_matrices[A][mT] = reconstructed_matrices[A][T].T\n",
       "   232                                           \n",
       "   233                                               # if check_hermiticity:\n",
       "   234                                               #     for A, matrix in enumerate(reconstructed_matrices):\n",
       "   235                                               #         Ts = list(matrix.keys())\n",
       "   236                                               #         for T in Ts:\n",
       "   237                                               #             mT = tuple(-t for t in T)\n",
       "   238                                               #             assert torch.all(torch.isclose(matrix[T] - reconstructed_matrices[A][mT].T, torch.zeros_like(matrix[T]))), torch.norm(matrix[T] - reconstructed_matrices[A][mT].T).item()\n",
       "   239                                           \n",
       "   240         1        110.0    110.0      0.0      return reconstructed_matrices"
      ]
     },
     "metadata": {},
     "output_type": "display_data"
    }
   ],
   "source": [
    "%lprun -f blocks_to_matrix_opt blocks_to_matrix_opt(blocks, qmdata, detach = True, cg = cg, structure_ids=batch.sample_id, slices_info=slices_info)"
   ]
  },
  {
   "cell_type": "code",
   "execution_count": 124,
   "id": "be0cd0c9-7185-4be2-8bbe-b09bb909c2fc",
   "metadata": {},
   "outputs": [],
   "source": [
    "from mlelec.utils._utils import _precompute_block_info, _atom_blocks_idx, _orbs_offsets, _update_matrices, _initialize_matrices"
   ]
  },
  {
   "cell_type": "code",
   "execution_count": 125,
   "id": "2b286c35-bbd6-4f93-96cf-0a023b020e3f",
   "metadata": {},
   "outputs": [],
   "source": [
    "reconstructed_matrices = [dict() for _ in batch.sample_id]\n",
    "_initialize_matrices(reconstructed_matrices, slices_info, orbs_tot, qmdata, 'cpu', batch.sample_id)"
   ]
  },
  {
   "cell_type": "code",
   "execution_count": 127,
   "id": "0d980552-5410-4fcf-98f9-2dd3693e6fee",
   "metadata": {
    "scrolled": true
   },
   "outputs": [
    {
     "data": {
      "text/plain": [
       "Timer unit: 1e-09 s\n",
       "\n",
       "Total time: 0.34134 s\n",
       "File: /home/pegolo/Software/mlelec/src/mlelec/utils/_utils.py\n",
       "Function: _update_matrices at line 132\n",
       "\n",
       "Line #      Hits         Time  Per Hit   % Time  Line Contents\n",
       "==============================================================\n",
       "   132                                           def _update_matrices(reconstructed_matrices, slices_info, structure_ids):\n",
       "   133         2       2455.0   1227.5      0.0      for iA, A in enumerate(structure_ids):\n",
       "   134     10258    2599119.0    253.4      0.8          for info in slices_info[A]:\n",
       "   135                                           \n",
       "   136     10257    2659871.0    259.3      0.8              T = info[\"T\"]\n",
       "   137     10257    1593915.0    155.4      0.5              mT = info[\"mT\"]\n",
       "   138     10257    1338686.0    130.5      0.4              block_type = info[\"block_type\"]\n",
       "   139     10257    1594486.0    155.5      0.5              blockval = info[\"blockval\"]\n",
       "   140     10257    2018112.0    196.8      0.6              iphi_jpsi_slice = info[\"iphi_jpsi_slice\"]\n",
       "   141     10257    2041707.0    199.1      0.6              ipsi_jphi_slice = info[\"ipsi_jphi_slice\"]\n",
       "   142     10257    1855302.0    180.9      0.5              jphi_ipsi_slice = info[\"jphi_ipsi_slice\"]\n",
       "   143     10257    1746382.0    170.3      0.5              jpsi_iphi_slice = info[\"jpsi_iphi_slice\"]\n",
       "   144     10257    1423154.0    138.7      0.4              bt0_factor_p = info[\"bt0_factor_p\"]\n",
       "   145     10257    1358935.0    132.5      0.4              bt0_factor_m = info[\"bt0_factor_m\"]\n",
       "   146     10257    1225885.0    119.5      0.4              bt2_factor_p = info[\"bt2_factor_p\"]\n",
       "   147     10257    1262484.0    123.1      0.4              bt2_factor_m = info[\"bt2_factor_m\"]\n",
       "   148     10257    1320773.0    128.8      0.4              bt1_fact_fin = info[\"bt1_fact_fin\"]\n",
       "   149                                           \n",
       "   150     10257    2856002.0    278.4      0.8              matrix_T = reconstructed_matrices[iA][T]\n",
       "   151     10257    1705123.0    166.2      0.5              matrix_mT = reconstructed_matrices[iA][mT]\n",
       "   152                                           \n",
       "   153     10257    1642966.0    160.2      0.5              if block_type == 0:\n",
       "   154       432    2921276.0   6762.2      0.9                  matrix_T[iphi_jpsi_slice].add_(blockval * bt0_factor_p)\n",
       "   155       432    3170213.0   7338.5      0.9                  matrix_mT[jpsi_iphi_slice].add_(blockval.T * bt0_factor_m)\n",
       "   156                                           \n",
       "   157      9825    1103345.0    112.3      0.3              elif block_type == 2:\n",
       "   158                                                           matrix_T[iphi_jpsi_slice].add_(blockval * bt2_factor_p)\n",
       "   159                                                           matrix_mT[jpsi_iphi_slice].add_(blockval.T * bt2_factor_m)\n",
       "   160                                           \n",
       "   161      9825    2514980.0    256.0      0.7              elif abs(block_type) == 1:\n",
       "   162                                                           # blockval.mul_(bt1_fact_fin)\n",
       "   163                                           \n",
       "   164      9825    1276331.0    129.9      0.4                  if block_type == 1:\n",
       "   165      5895   42386646.0   7190.3     12.4                      matrix_T[iphi_jpsi_slice].add_(blockval*bt1_fact_fin)\n",
       "   166      5895   40078532.0   6798.7     11.7                      matrix_mT[jphi_ipsi_slice].add_(blockval*bt1_fact_fin)\n",
       "   167      5895   47166308.0   8001.1     13.8                      matrix_mT[jpsi_iphi_slice].add_(blockval.T*bt1_fact_fin)\n",
       "   168      5895   46451711.0   7879.8     13.6                      matrix_T[ipsi_jphi_slice].add_(blockval.T*bt1_fact_fin)\n",
       "   169                                           \n",
       "   170                                                           else:\n",
       "   171      3930   30096571.0   7658.2      8.8                      matrix_T[iphi_jpsi_slice].add_(blockval*bt1_fact_fin)\n",
       "   172      3930   27864261.0   7090.1      8.2                      matrix_mT[jphi_ipsi_slice].sub_(blockval*bt1_fact_fin)\n",
       "   173      3930   33291919.0   8471.2      9.8                      matrix_mT[jpsi_iphi_slice].add_(blockval.T*bt1_fact_fin)\n",
       "   174      3930   32772946.0   8339.2      9.6                      matrix_T[ipsi_jphi_slice].sub_(blockval.T*bt1_fact_fin)"
      ]
     },
     "metadata": {},
     "output_type": "display_data"
    }
   ],
   "source": [
    "%lprun -f _update_matrices _update_matrices(reconstructed_matrices, slices_info, batch.sample_id)"
   ]
  },
  {
   "cell_type": "code",
   "execution_count": 123,
   "id": "8d487517-2de5-4ca2-aaa1-a3575da2ca54",
   "metadata": {},
   "outputs": [],
   "source": [
    "dataset = qmdata\n",
    "orbs_tot, orbs_offset = _orbs_offsets(dataset.basis)\n",
    "atom_blocks_idx = _atom_blocks_idx(dataset.structures, orbs_tot)\n",
    "orbs_mult = {\n",
    "    species: \n",
    "        {tuple(k): v\n",
    "        for k, v in zip(\n",
    "            *np.unique(\n",
    "                np.asarray(dataset.basis[species])[:, :2],\n",
    "                axis=0,\n",
    "                return_counts=True,\n",
    "            )\n",
    "        )\n",
    "    }\n",
    "    for species in dataset.basis\n",
    "}"
   ]
  },
  {
   "cell_type": "code",
   "execution_count": 35,
   "id": "9447023c-81ea-47f8-b647-af46a9d8536d",
   "metadata": {},
   "outputs": [
    {
     "name": "stdout",
     "output_type": "stream",
     "text": [
      "25.8 ms ± 412 µs per loop (mean ± std. dev. of 7 runs, 10 loops each)\n"
     ]
    }
   ],
   "source": [
    "%%timeit\n",
    "_precompute_block_info(unc_blocks, atom_blocks_idx, True, False, orbs_offset, orbs_mult, True)"
   ]
  },
  {
   "cell_type": "code",
   "execution_count": 42,
   "id": "30eaca66-719c-421e-96d6-29158e7a570b",
   "metadata": {
    "scrolled": true
   },
   "outputs": [
    {
     "data": {
      "text/plain": [
       "Timer unit: 1e-09 s\n",
       "\n",
       "Total time: 0.00114267 s\n",
       "File: /home/pegolo/Software/mlelec/src/mlelec/utils/_utils.py\n",
       "Function: _precompute_block_info at line 39\n",
       "\n",
       "Line #      Hits         Time  Per Hit   % Time  Line Contents\n",
       "==============================================================\n",
       "    39                                           def _precompute_block_info(blocks, atom_blocks_idx, sort_orbs, all_pairs, orbs_offset, orbs_mult, detach):\n",
       "    40         1       1042.0   1042.0      0.1      slices_info = []\n",
       "    41                                           \n",
       "    42         1        310.0    310.0      0.0      jjj = 0\n",
       "    43         9     250504.0  27833.8     21.9      for key, block in blocks.items():\n",
       "    44         8       3095.0    386.9      0.3          if jjj > 0:\n",
       "    45         7       1472.0    210.3      0.1              continue\n",
       "    46         1        682.0    682.0      0.1          jjj +=1 \n",
       "    47         1      44103.0  44103.0      3.9          block_type = key[\"block_type\"]\n",
       "    48         1      24015.0  24015.0      2.1          ai, ni, li = key[\"species_i\"], key[\"n_i\"], key[\"l_i\"]\n",
       "    49         1      20299.0  20299.0      1.8          aj, nj, lj = key[\"species_j\"], key[\"n_j\"], key[\"l_j\"]\n",
       "    50                                           \n",
       "    51         1        972.0    972.0      0.1          fac = 0.5 if (sort_orbs and ai == aj and ni == nj and li == lj) else 1\n",
       "    52                                                   # fac = 2\n",
       "    53                                           \n",
       "    54         1        982.0    982.0      0.1          orbs_i = orbs_mult[ai]\n",
       "    55         1        340.0    340.0      0.0          orbs_j = orbs_mult[aj]\n",
       "    56                                           \n",
       "    57         1      12343.0  12343.0      1.1          shapes = {(k1 + k2): (orbs_i[tuple(k1)], orbs_j[tuple(k2)]) for k1 in orbs_i for k2 in orbs_j}\n",
       "    58         1       1433.0   1433.0      0.1          phioffset = orbs_offset[(ai, ni, li)]\n",
       "    59         1        441.0    441.0      0.0          psioffset = orbs_offset[(aj, nj, lj)]\n",
       "    60                                           \n",
       "    61         1     576429.0 576429.0     50.4          samples = block.samples.values.tolist()\n",
       "    62         1     138912.0 138912.0     12.2          blockvalues = block.values[:,:,:,0].detach().clone() if detach else block.values[:,:,:,0]\n",
       "    63                                           \n",
       "    64         2      35518.0  17759.0      3.1          for sample, blockval in zip(samples[:1], blockvalues[:1]):\n",
       "    65                                                       \n",
       "    66         1       2285.0   2285.0      0.2              if blockval.numel() == 0:\n",
       "    67                                                           continue\n",
       "    68                                           \n",
       "    69         1        922.0    922.0      0.1              A, i, j, Tx, Ty, Tz = sample #[s.item() for s in sample]\n",
       "    70         1        400.0    400.0      0.0              T = (Tx, Ty, Tz)\n",
       "    71         1        651.0    651.0      0.1              mT = (-Tx, -Ty, -Tz)\n",
       "    72                                           \n",
       "    73         1        521.0    521.0      0.0              other_fac = 0.5 if (i == j and T != (0, 0, 0) and not all_pairs) else 1\n",
       "    74                                           \n",
       "    75         1        731.0    731.0      0.1              bt0_factor_p = 0.5 if not sort_orbs else (1 if not (ni == nj and li == lj) else 0.5)\n",
       "    76         1        731.0    731.0      0.1              bt0_factor_m = bt0_factor_p * other_fac\n",
       "    77         1        461.0    461.0      0.0              bt2_factor_p = 0.5 if not all_pairs else 1\n",
       "    78         1        321.0    321.0      0.0              bt2_factor_m = bt2_factor_p * other_fac\n",
       "    79         1       5770.0   5770.0      0.5              bt1_fact_fin = ISQRT_2 * fac * other_fac / (2 if all_pairs else 1)\n",
       "    80                                           \n",
       "    81         1       2174.0   2174.0      0.2              i_start, j_start = atom_blocks_idx[(A, i, j)]\n",
       "    82         1       2715.0   2715.0      0.2              phi_end = shapes[(ni, li, nj, lj)][0]\n",
       "    83         1        922.0    922.0      0.1              psi_end = shapes[(ni, li, nj, lj)][1]\n",
       "    84                                           \n",
       "    85         1        942.0    942.0      0.1              iphi = i_start + phioffset\n",
       "    86         1        290.0    290.0      0.0              ipsi = i_start + psioffset\n",
       "    87         1        301.0    301.0      0.0              jpsi = j_start + psioffset\n",
       "    88         1        491.0    491.0      0.0              jphi = j_start + phioffset\n",
       "    89                                           \n",
       "    90         1       1272.0   1272.0      0.1              slice_iphi = slice(iphi, iphi + phi_end)\n",
       "    91         1        691.0    691.0      0.1              slice_jpsi = slice(jpsi, jpsi + psi_end)\n",
       "    92         1        521.0    521.0      0.0              slice_ipsi = slice(ipsi, ipsi + psi_end)\n",
       "    93         1        511.0    511.0      0.0              slice_jphi = slice(jphi, jphi + phi_end)\n",
       "    94                                           \n",
       "    95         1        440.0    440.0      0.0              iphi_jpsi_slice = (slice_iphi, slice_jpsi)\n",
       "    96         1        331.0    331.0      0.0              ipsi_jphi_slice = (slice_ipsi, slice_jphi)\n",
       "    97         1        321.0    321.0      0.0              jphi_ipsi_slice = (slice_jphi, slice_ipsi)\n",
       "    98         1        301.0    301.0      0.0              jpsi_iphi_slice = (slice_jpsi, slice_iphi)\n",
       "    99                                           \n",
       "   100         2       3005.0   1502.5      0.3              slices_info.append({\n",
       "   101         1        301.0    301.0      0.0                  \"A\": A, \"T\": T, \"mT\": mT, \"block_type\": block_type, \"blockval\": blockval,\n",
       "   102         1        361.0    361.0      0.0                  \"iphi_jpsi_slice\": iphi_jpsi_slice, \"ipsi_jphi_slice\": ipsi_jphi_slice,\n",
       "   103         1        211.0    211.0      0.0                  \"jphi_ipsi_slice\": jphi_ipsi_slice, \"jpsi_iphi_slice\": jpsi_iphi_slice,\n",
       "   104         1        191.0    191.0      0.0                  \"bt0_factor_p\": bt0_factor_p, \"bt0_factor_m\": bt0_factor_m,\n",
       "   105         1        221.0    221.0      0.0                  \"bt2_factor_p\": bt2_factor_p, \"bt2_factor_m\": bt2_factor_m,\n",
       "   106         1        191.0    191.0      0.0                  \"bt1_fact_fin\": bt1_fact_fin\n",
       "   107                                                       })\n",
       "   108                                           \n",
       "   109         1        280.0    280.0      0.0      return slices_info"
      ]
     },
     "metadata": {},
     "output_type": "display_data"
    }
   ],
   "source": [
    "%lprun -f _precompute_block_info _precompute_block_info(unc_blocks, atom_blocks_idx, True, False, orbs_offset, orbs_mult, True)"
   ]
  },
  {
   "cell_type": "code",
   "execution_count": 38,
   "id": "de23772c-71bb-4302-8768-4ba9d5105f9c",
   "metadata": {},
   "outputs": [
    {
     "name": "stdout",
     "output_type": "stream",
     "text": [
      "4.09 ms ± 15.1 µs per loop (mean ± std. dev. of 7 runs, 100 loops each)\n"
     ]
    }
   ],
   "source": [
    "%%timeit \n",
    "blocks_to_matrix_try(blocks, qmdata, detach = True, cg = cg, check_hermiticity = True)"
   ]
  },
  {
   "cell_type": "code",
   "execution_count": 37,
   "id": "afa63e64-22d7-4383-b9d0-dffc2ae52d85",
   "metadata": {},
   "outputs": [
    {
     "name": "stdout",
     "output_type": "stream",
     "text": [
      "5.38 ms ± 31.3 µs per loop (mean ± std. dev. of 7 runs, 100 loops each)\n"
     ]
    }
   ],
   "source": [
    "%%timeit\n",
    "blocks_to_matrix_opt(blocks, qmdata, detach = True, cg = cg, check_hermiticity = True)"
   ]
  },
  {
   "cell_type": "code",
   "execution_count": 1,
   "id": "149d79e1-2e16-455a-8ab4-95f193082e62",
   "metadata": {},
   "outputs": [
    {
     "ename": "NameError",
     "evalue": "name 'blocks_to_matrix_opt' is not defined",
     "output_type": "error",
     "traceback": [
      "\u001b[0;31m---------------------------------------------------------------------------\u001b[0m",
      "\u001b[0;31mNameError\u001b[0m                                 Traceback (most recent call last)",
      "Cell \u001b[0;32mIn[1], line 1\u001b[0m\n\u001b[0;32m----> 1\u001b[0m \u001b[43mblocks_to_matrix_opt\u001b[49m(blocks, qmdata, detach \u001b[38;5;241m=\u001b[39m \u001b[38;5;28;01mTrue\u001b[39;00m, cg \u001b[38;5;241m=\u001b[39m cg)\n",
      "\u001b[0;31mNameError\u001b[0m: name 'blocks_to_matrix_opt' is not defined"
     ]
    }
   ],
   "source": [
    "blocks_to_matrix_opt(blocks, qmdata, detach = True, cg = cg)"
   ]
  },
  {
   "cell_type": "code",
   "execution_count": 174,
   "id": "dbb4e78f-585b-4c7a-8374-62d7bdf56796",
   "metadata": {},
   "outputs": [],
   "source": [
    "batch = next(iter(dl))"
   ]
  },
  {
   "cell_type": "code",
   "execution_count": 225,
   "id": "43f5e309-d2b5-4d0c-8033-a4e8875bedc4",
   "metadata": {},
   "outputs": [
    {
     "name": "stdout",
     "output_type": "stream",
     "text": [
      "751 ms ± 8.15 ms per loop (mean ± std. dev. of 7 runs, 1 loop each)\n"
     ]
    }
   ],
   "source": [
    "%%timeit\n",
    "pred = model.forward(batch.features, mldata.model_metadata)\n",
    "HT = blocks_to_matrix(pred, qmdata, detach = False)\n",
    "HK = qmdata.bloch_sum(HT)\n",
    "HK = [HK[ifr] for ifr in batch.sample_id]\n",
    "\n",
    "# pred_eigvals = []\n",
    "# pred_ard = []\n",
    "# for ifr, hk, sk in zip(batch.sample_id, HK, batch.overlap_kspace):\n",
    "#     ard, eig = compute_ard(hk, sk, qmdata.structures[ifr], qmdata.basis)\n",
    "#     pred_ard.append(ard)\n",
    "#     pred_eigvals.append(eig)"
   ]
  },
  {
   "cell_type": "code",
   "execution_count": null,
   "id": "67b75213-6c4b-4064-9151-bb86f63b868c",
   "metadata": {},
   "outputs": [],
   "source": [
    "torch.split(P, split_idx, dim = 0) for block in torch.split(slice_, split_idx, dim = 1)"
   ]
  },
  {
   "cell_type": "code",
   "execution_count": 279,
   "id": "b2e75455-2ff4-4ace-922c-85ba28338e5f",
   "metadata": {},
   "outputs": [
    {
     "data": {
      "text/plain": [
       "Timer unit: 1e-09 s\n",
       "\n",
       "Total time: 9.09968 s\n",
       "File: /tmp/ipykernel_932513/1501241485.py\n",
       "Function: compute_ard at line 14\n",
       "\n",
       "Line #      Hits         Time  Per Hit   % Time  Line Contents\n",
       "==============================================================\n",
       "    14                                           def compute_ard(A, M, frame, basis):\n",
       "    15                                           \n",
       "    16         1       6803.0   6803.0      0.0      natm = len(frame)\n",
       "    17         1      26860.0  26860.0      0.0      nelec = sum(frame.numbers)\n",
       "    18         1      70603.0  70603.0      0.0      split_idx = [len(basis[s]) for s in frame.numbers]\n",
       "    19                                               \n",
       "    20         1 2546718596.0    3e+09     28.0      eigvals, eigvecs = compute_eigval(A, M, return_eigenvectors = True)\n",
       "    21                                           \n",
       "    22         1        251.0    251.0      0.0      T = []\n",
       "    23        37     313792.0   8480.9      0.0      for C, S in zip(eigvecs, M):\n",
       "    24        36    5784576.0 160682.7      0.1          occ = torch.tensor([2.0+0.0j if i <= nelec//2 else 0.0+0.0j for i in range(C.shape[0])], dtype = torch.complex128, requires_grad = True)\n",
       "    25                                               \n",
       "    26                                                   # Compute the one-particle density matrix\n",
       "    27        36  185013178.0    5e+06      2.0          rho = torch.einsum('n,in,jn', occ, C, C.conj())\n",
       "    28                                               \n",
       "    29        36      15558.0    432.2      0.0          if False:\n",
       "    30                                                       # Compute the population matrix\n",
       "    31                                                       sqrt_S, _ = _sqrtm_newton_schulz(S)\n",
       "    32                                               \n",
       "    33                                                       P = sqrt_S @ rho @ sqrt_S\n",
       "    34                                                   else:\n",
       "    35                                                       # Use rho\n",
       "    36        36      44934.0   1248.2      0.0              P = rho\n",
       "    37                                               \n",
       "    38                                                   # Compute the matrix elements of the atom resolved density matrix\n",
       "    39                                                   # blocks = [block for slice_ in torch.split(P, split_idx, dim = 0) for block in torch.split(slice_, split_idx, dim = 1)]\n",
       "    40                                                   # T.append(torch.tensor([torch.norm(b) for b in blocks], device = device, requires_grad = True).reshape(natm, natm))\n",
       "    41                                                   # T.append(torch.stack([torch.stack([block.norm() for block in torch.split(slice_, split_idx, dim = 1)]) for slice_ in torch.split(P, split_idx, dim = 0)])) #, device = device, requires_grad = True))\n",
       "    42                                                   # T.append(torch.stack([block.norm() for slice_ in torch.split(P, split_idx, dim = 0) for block in torch.split(slice_, split_idx, dim = 1)]).reshape(natm, natm)) #, device = device, requires_grad = True))\n",
       "    43        36 5967962675.0    2e+08     65.6          T.append([[block.norm() for block in torch.split(slice_, split_idx, dim = 1)] for slice_ in torch.split(P, split_idx, dim = 0)]) #, device = device, requires_grad = True))\n",
       "    44                                           \n",
       "    45         1  393719111.0    4e+08      4.3      return torch.tensor(T, requires_grad = True, device = device), eigvals"
      ]
     },
     "metadata": {},
     "output_type": "display_data"
    }
   ],
   "source": [
    "%lprun -f compute_ard compute_ard(hk, sk, qmdata.structures[ifr], qmdata.basis)"
   ]
  },
  {
   "cell_type": "code",
   "execution_count": 216,
   "id": "0317a270-2364-4cda-a396-f4e04c49917a",
   "metadata": {},
   "outputs": [],
   "source": [
    "dataset = qmdata\n",
    "orbs_tot, orbs_offset = _orbs_offsets(dataset.basis)\n",
    "atom_blocks_idx = _atom_blocks_idx(dataset.structures, orbs_tot)\n",
    "orbs_mult = {\n",
    "    species: \n",
    "        {tuple(k): v\n",
    "        for k, v in zip(\n",
    "            *np.unique(\n",
    "                np.asarray(dataset.basis[species])[:, :2],\n",
    "                axis=0,\n",
    "                return_counts=True,\n",
    "            )\n",
    "        )\n",
    "    }\n",
    "    for species in dataset.basis\n",
    "}\n",
    "unc_blocks = _to_uncoupled_basis(blocks, cg)\n",
    "slices_info = _precompute_block_info(unc_blocks, atom_blocks_idx, True, False, orbs_offset, orbs_mult, True)"
   ]
  },
  {
   "cell_type": "code",
   "execution_count": 177,
   "id": "726020c0-29b1-4b87-8676-ca1532f5a659",
   "metadata": {},
   "outputs": [
    {
     "ename": "NameError",
     "evalue": "name 'cg' is not defined",
     "output_type": "error",
     "traceback": [
      "\u001b[0;31m---------------------------------------------------------------------------\u001b[0m",
      "\u001b[0;31mNameError\u001b[0m                                 Traceback (most recent call last)",
      "Cell \u001b[0;32mIn[177], line 3\u001b[0m\n\u001b[1;32m      1\u001b[0m \u001b[38;5;66;03m# %%timeit\u001b[39;00m\n\u001b[1;32m      2\u001b[0m pred \u001b[38;5;241m=\u001b[39m model\u001b[38;5;241m.\u001b[39mforward(batch\u001b[38;5;241m.\u001b[39mfeatures, mldata\u001b[38;5;241m.\u001b[39mmodel_metadata)\n\u001b[0;32m----> 3\u001b[0m HT \u001b[38;5;241m=\u001b[39m blocks_to_matrix(pred, qmdata, detach \u001b[38;5;241m=\u001b[39m \u001b[38;5;28;01mFalse\u001b[39;00m, cg \u001b[38;5;241m=\u001b[39m \u001b[43mcg\u001b[49m, structure_ids \u001b[38;5;241m=\u001b[39m batch\u001b[38;5;241m.\u001b[39msample_id, slices_info \u001b[38;5;241m=\u001b[39m slices_info)\n\u001b[1;32m      4\u001b[0m HK \u001b[38;5;241m=\u001b[39m qmdata\u001b[38;5;241m.\u001b[39mbloch_sum(HT)\n\u001b[1;32m      5\u001b[0m HK \u001b[38;5;241m=\u001b[39m [HK[ifr] \u001b[38;5;28;01mfor\u001b[39;00m ifr \u001b[38;5;129;01min\u001b[39;00m batch\u001b[38;5;241m.\u001b[39msample_id]\n",
      "\u001b[0;31mNameError\u001b[0m: name 'cg' is not defined"
     ]
    }
   ],
   "source": [
    "%%timeit\n",
    "pred = model.forward(batch.features, mldata.model_metadata)\n",
    "HT = blocks_to_matrix_opt(pred, qmdata, detach = False, cg = cg, structure_ids = batch.sample_id, slices_info = slices_info)\n",
    "HK = qmdata.bloch_sum(HT)\n",
    "HK = [HK[ifr] for ifr in batch.sample_id]\n",
    "\n",
    "# pred_eigvals = []\n",
    "# pred_ard = []\n",
    "# for ifr, hk, sk in zip(batch.sample_id, HK, batch.overlap_kspace):\n",
    "#     ard, eig = compute_ard(hk, sk, qmdata.structures[ifr], qmdata.basis)\n",
    "#     pred_ard.append(ard)\n",
    "#     pred_eigvals.append(eig)"
   ]
  },
  {
   "cell_type": "code",
   "execution_count": 16,
   "id": "11eff90b-71fe-40b2-a89f-0502f76c2e57",
   "metadata": {},
   "outputs": [
    {
     "name": "stdout",
     "output_type": "stream",
     "text": [
      "torch.Size([25, 25])\n",
      "torch.Size([25, 50])\n",
      "torch.Size([25, 25])\n",
      "torch.Size([50, 25])\n",
      "torch.Size([50, 50])\n",
      "torch.Size([50, 25])\n",
      "torch.Size([25, 25])\n",
      "torch.Size([25, 50])\n",
      "torch.Size([25, 25])\n"
     ]
    }
   ],
   "source": [
    "for block in blocks_flat:\n",
    "    print(block.shape)"
   ]
  },
  {
   "cell_type": "markdown",
   "id": "053d9794-1159-4729-b280-adbf98ece674",
   "metadata": {},
   "source": [
    "# Optimize ard"
   ]
  },
  {
   "cell_type": "code",
   "execution_count": 318,
   "id": "fa60366e-d03e-4046-b9e5-28624d41fce9",
   "metadata": {},
   "outputs": [],
   "source": [
    "def compute_eigval(A, M, return_eigenvectors = False):\n",
    "    Ax = xitorch.LinearOperator.m(A)\n",
    "    Mx = xitorch.LinearOperator.m(M) if M is not None else None\n",
    "\n",
    "    # Compute eigenvalues and eigenvectors\n",
    "    eigvals, eigvecs = symeig(Ax, M = Mx)\n",
    "    if return_eigenvectors:\n",
    "        return eigvals, eigvecs\n",
    "    else:\n",
    "        return eigvals\n",
    "\n",
    "\n",
    "from mlelec.data.mldataset import _sqrtm_newton_schulz\n",
    "# def compute_ard(A, M, frame, basis):\n",
    "\n",
    "#     natm = len(frame)\n",
    "#     nelec = sum(frame.numbers)\n",
    "#     split_idx = [len(basis[s]) for s in frame.numbers]\n",
    "    \n",
    "#     eigvals, eigvecs = compute_eigval(A, M, return_eigenvectors = True)\n",
    "#     max_dim = max(split_idx)\n",
    "#     print(max_dim)\n",
    "#     T = []\n",
    "#     for C, S in zip(eigvecs, M):\n",
    "#         occ = torch.tensor([2.0+0.0j if i <= nelec//2 else 0.0+0.0j for i in range(C.shape[0])], dtype = torch.complex128, requires_grad = True)\n",
    "    \n",
    "#         # Compute the one-particle density matrix\n",
    "#         rho = torch.einsum('n,in,jn', occ, C, C.conj())\n",
    "    \n",
    "#         if False:\n",
    "#             # Compute the population matrix\n",
    "#             sqrt_S, _ = _sqrtm_newton_schulz(S)\n",
    "    \n",
    "#             P = sqrt_S @ rho @ sqrt_S\n",
    "#         else:\n",
    "#             # Use rho\n",
    "#             P = rho\n",
    "    \n",
    "#         # Compute the matrix elements of the atom resolved density matrix\n",
    "#         slices = torch.split(P, split_idx, dim=0)\n",
    "#         blocks = [torch.split(slice_, split_idx, dim=1) for slice_ in slices]\n",
    "#         blocks_flat = [block for sublist in blocks for block in sublist]\n",
    "#         squared_blocks = []\n",
    "#         for block in blocks_flat:\n",
    "#             pad_size = (0, max_dim - block.size(1), 0, max_dim - block.size(0))  # (pad_right, pad_left, pad_bottom, pad_top)\n",
    "#             squared_block = torch.nn.functional.pad(block, pad_size, \"constant\", 0)\n",
    "#             squared_blocks.append(squared_block)\n",
    "#         stacked_blocks = torch.stack(squared_blocks)\n",
    "        \n",
    "#         # T.append([[block.norm() for block in torch.split(slice_, split_idx, dim = 1)] for slice_ in torch.split(P, split_idx, dim = 0)]) #, device = device, requires_grad = True))\n",
    "#     norms = stacked_blocks.norm(dim=1)\n",
    "#     return torch.tensor(T, requires_grad = True, device = device), eigvals\n",
    "def compute_ard(A, M, frame, basis, device): \n",
    "    natm = len(frame)\n",
    "    nelec = sum(frame.numbers)\n",
    "    split_idx = [len(basis[s]) for s in frame.numbers]\n",
    "  \n",
    "    eigvals, eigvecs = compute_eigval(A, M, return_eigenvectors = True)\n",
    "  \n",
    "    T = []\n",
    "    for C, S in zip(eigvecs, M):\n",
    "        occ = torch.tensor([2.0+0.0j if i <= nelec//2 else 0.0+0.0j for i in range(C.shape[0])], dtype = torch.complex128, requires_grad = True)\n",
    "  \n",
    "          # Compute the one-particle density matrix\n",
    "        rho = torch.einsum('n,in,jn', occ, C, C.conj())\n",
    "  \n",
    "        if False:\n",
    "              # Compute the population matrix\n",
    "            sqrt_S, _ = _sqrtm_newton_schulz(S)\n",
    "  \n",
    "            P = sqrt_S @ rho @ sqrt_S\n",
    "        else:\n",
    "              # Use rho\n",
    "            P = rho\n",
    "      \n",
    "          # Compute the matrix elements of the atom resolved density matrix\n",
    "        blocks = [block for slice_ in torch.split(P, split_idx, dim = 0) for block in torch.split(slice_, split_idx, dim = 1)]\n",
    "        T.append(torch.tensor([torch.norm(b) for b in blocks], device = device, requires_grad = True))#.reshape(natm, natm))\n",
    "  \n",
    "    return torch.stack(T), eigvals\n",
    "\n",
    "def compute_ard_vec(dataset, batch, Hk):\n",
    "    basis = dataset.basis\n",
    "    ard_ = []\n",
    "    # frames = [dataset.structures[A] for A in batch.sample_id] \n",
    "    # natm = []\n",
    "    # nelec = []\n",
    "    # split_idx = []\n",
    "    # for frame in frames:\n",
    "    #     natm.append(len(frame))\n",
    "    #     nelec.append(sum(frame.numbers))\n",
    "    #     split_idx.append([len(basis[s]) for s in frame.numbers])\n",
    "    # N = max(H.shape[-1] for H in Hk)\n",
    "    # ide = torch.eye(N)\n",
    "\n",
    "    \n",
    "    # padded_S = []\n",
    "    # padded_H = []\n",
    "    for A, H, S in zip(batch.sample_id, Hk, batch.overlap_kspace):\n",
    "        frame = dataset.structures[A]\n",
    "        natm = len(frame)\n",
    "        nelec = sum(frame.numbers)\n",
    "        split_idx = [len(basis[s]) for s in frame.numbers]\n",
    "        needed = True if len(np.unique(split_idx)) > 1 else False\n",
    "        \n",
    "        max_dim = np.max(split_idx)\n",
    "        \n",
    "        n = H.shape[-1]\n",
    "        pad_amount = (0, N - n, 0, N - n)\n",
    "        \n",
    "        # padded_S = torch.zeros(H.shape[:-2] + (N, N), dtype = torch.complex128)\n",
    "        # padded_S[..., :n, :n] = S\n",
    "        # padded_S[..., n:N, n:N] = ide[n:N, n:N]\n",
    "        # padded_S = xitorch.LinearOperator.m(padded_S)\n",
    "        \n",
    "        # padded_H = torch.nn.functional.pad(H, pad_amount, \"constant\", 0)\n",
    "        \n",
    "        # _H = xitorch.LinearOperator.m(padded_H)\n",
    "        # _S = xitorch.LinearOperator.m(padded_S)\n",
    "        # _H = xitorch.LinearOperator.m(H)\n",
    "        # _S = xitorch.LinearOperator.m(S)\n",
    "        \n",
    "        # eigvals, C = symeig(xitorch.LinearOperator.m(H), M=xitorch.LinearOperator.m(S), return_eigenvectors = True) # Has shape = (n_k, N, N)\n",
    "        eigvals, C = torch.linalg.eig(torch.linalg.inv(S)@H) # Has shape = (n_k, N, N)\n",
    "        eigvals = eigvals.real\n",
    "        \n",
    "        occ = torch.tensor([2.0+0.0j if i <= nelec//2 else 0.0+0.0j for i in range(C.shape[-1])], dtype = torch.complex128, requires_grad = True)\n",
    "        # P = torch.matmul((occ.unsqueeze(1) * C), C.conj().permute(0, 2, 1)) \n",
    "        P = torch.einsum('n,kin,kjn->ijk', occ, C, C.conj())\n",
    "\n",
    "        slices = torch.split(P, split_idx, dim=0)\n",
    "        blocks = [torch.split(slice_, split_idx, dim=1) for slice_ in slices]\n",
    "        blocks_flat = [block for sublist in blocks for block in sublist]\n",
    "        \n",
    "        if needed:\n",
    "            squared_blocks = []\n",
    "            for block in blocks_flat:\n",
    "                pad_size = (0, max_dim - block.size(1), 0, max_dim - block.size(0))  # (pad_right, pad_left, pad_bottom, pad_top)\n",
    "                squared_block = torch.nn.functional.pad(block, pad_size, \"constant\", 0)\n",
    "                squared_blocks.append(squared_block)\n",
    "            blocks_flat = squared_blocks\n",
    "        \n",
    "        ard_.append(torch.stack(blocks_flat).norm(dim=(1,2)))\n",
    "    \n",
    "    return ard_"
   ]
  },
  {
   "cell_type": "code",
   "execution_count": 281,
   "id": "a8fa0483-b35c-4042-9182-7b0ddfa9c0ed",
   "metadata": {},
   "outputs": [],
   "source": [
    "batch = next(iter(dl))\n",
    "HK = batch.fock_kspace"
   ]
  },
  {
   "cell_type": "code",
   "execution_count": 350,
   "id": "6e66865e-304c-4330-a877-5288f34efc59",
   "metadata": {},
   "outputs": [
    {
     "data": {
      "text/plain": [
       "Timer unit: 1e-09 s\n",
       "\n",
       "Total time: 11.1529 s\n",
       "File: /tmp/ipykernel_68969/3868252224.py\n",
       "Function: compute_ard_vec at line 82\n",
       "\n",
       "Line #      Hits         Time  Per Hit   % Time  Line Contents\n",
       "==============================================================\n",
       "    82                                           def compute_ard_vec(dataset, batch, Hk):\n",
       "    83         1       1973.0   1973.0      0.0      basis = dataset.basis\n",
       "    84         1        220.0    220.0      0.0      ard_ = []\n",
       "    85                                               # frames = [dataset.structures[A] for A in batch.sample_id] \n",
       "    86                                               # natm = []\n",
       "    87                                               # nelec = []\n",
       "    88                                               # split_idx = []\n",
       "    89                                               # for frame in frames:\n",
       "    90                                               #     natm.append(len(frame))\n",
       "    91                                               #     nelec.append(sum(frame.numbers))\n",
       "    92                                               #     split_idx.append([len(basis[s]) for s in frame.numbers])\n",
       "    93                                               # N = max(H.shape[-1] for H in Hk)\n",
       "    94                                               # ide = torch.eye(N)\n",
       "    95                                           \n",
       "    96                                               \n",
       "    97                                               # padded_S = []\n",
       "    98                                               # padded_H = []\n",
       "    99         3       7815.0   2605.0      0.0      for A, H, S in zip(batch.sample_id, Hk, batch.overlap_kspace):\n",
       "   100         2       2765.0   1382.5      0.0          frame = dataset.structures[A]\n",
       "   101         2      10389.0   5194.5      0.0          natm = len(frame)\n",
       "   102         2      27472.0  13736.0      0.0          nelec = sum(frame.numbers)\n",
       "   103         2      48211.0  24105.5      0.0          split_idx = [len(basis[s]) for s in frame.numbers]\n",
       "   104         2     109096.0  54548.0      0.0          needed = True if len(np.unique(split_idx)) > 1 else False\n",
       "   105                                                   \n",
       "   106         2      58099.0  29049.5      0.0          max_dim = np.max(split_idx)\n",
       "   107                                                   \n",
       "   108         2      10810.0   5405.0      0.0          n = H.shape[-1]\n",
       "   109         2       1463.0    731.5      0.0          pad_amount = (0, N - n, 0, N - n)\n",
       "   110                                                   \n",
       "   111                                                   # padded_S = torch.zeros(H.shape[:-2] + (N, N), dtype = torch.complex128)\n",
       "   112                                                   # padded_S[..., :n, :n] = S\n",
       "   113                                                   # padded_S[..., n:N, n:N] = ide[n:N, n:N]\n",
       "   114                                                   # padded_S = xitorch.LinearOperator.m(padded_S)\n",
       "   115                                                   \n",
       "   116                                                   # padded_H = torch.nn.functional.pad(H, pad_amount, \"constant\", 0)\n",
       "   117                                                   \n",
       "   118                                                   # _H = xitorch.LinearOperator.m(padded_H)\n",
       "   119                                                   # _S = xitorch.LinearOperator.m(padded_S)\n",
       "   120                                                   # _H = xitorch.LinearOperator.m(H)\n",
       "   121                                                   # _S = xitorch.LinearOperator.m(S)\n",
       "   122                                                   \n",
       "   123                                                   # eigvals, C = symeig(xitorch.LinearOperator.m(H), M=xitorch.LinearOperator.m(S), return_eigenvectors = True) # Has shape = (n_k, N, N)\n",
       "   124         2        1e+10    5e+09     96.9          eigvals, C = torch.linalg.eig(torch.linalg.inv(S)@H) # Has shape = (n_k, N, N)\n",
       "   125                                                   \n",
       "   126         2     248177.0 124088.5      0.0          occ = torch.tensor([2.0+0.0j if i <= nelec//2 else 0.0+0.0j for i in range(C.shape[-1])], dtype = torch.complex128, requires_grad = True)\n",
       "   127                                                   # P = torch.matmul((occ.unsqueeze(1) * C), C.conj().permute(0, 2, 1)) \n",
       "   128         2  148732483.0    7e+07      1.3          P = torch.einsum('n,kin,kjn->ijk', occ, C, C.conj())\n",
       "   129                                           \n",
       "   130         2     260530.0 130265.0      0.0          slices = torch.split(P, split_idx, dim=0)\n",
       "   131         2   13640302.0    7e+06      0.1          blocks = [torch.split(slice_, split_idx, dim=1) for slice_ in slices]\n",
       "   132         2    1120352.0 560176.0      0.0          blocks_flat = [block for sublist in blocks for block in sublist]\n",
       "   133                                                   \n",
       "   134         2       1172.0    586.0      0.0          if needed:\n",
       "   135                                                       squared_blocks = []\n",
       "   136                                                       for block in blocks_flat:\n",
       "   137                                                           pad_size = (0, max_dim - block.size(1), 0, max_dim - block.size(0))  # (pad_right, pad_left, pad_bottom, pad_top)\n",
       "   138                                                           squared_block = torch.nn.functional.pad(block, pad_size, \"constant\", 0)\n",
       "   139                                                           squared_blocks.append(squared_block)\n",
       "   140                                                       blocks_flat = squared_blocks\n",
       "   141                                                   \n",
       "   142         2  180173711.0    9e+07      1.6          ard_.append(torch.stack(blocks_flat).norm(dim=(1,2)))\n",
       "   143                                               \n",
       "   144         1        320.0    320.0      0.0      return ard_"
      ]
     },
     "metadata": {},
     "output_type": "display_data"
    }
   ],
   "source": [
    "%lprun -f compute_ard_vec compute_ard_vec(qmdata, batch, HK)"
   ]
  },
  {
   "cell_type": "code",
   "execution_count": 301,
   "id": "eeb8068c-0cd8-465f-990f-fe94c5037d28",
   "metadata": {},
   "outputs": [
    {
     "data": {
      "text/plain": [
       "Timer unit: 1e-09 s\n",
       "\n",
       "Total time: 9.0813 s\n",
       "File: /tmp/ipykernel_68969/2969483999.py\n",
       "Function: compute_ard at line 53\n",
       "\n",
       "Line #      Hits         Time  Per Hit   % Time  Line Contents\n",
       "==============================================================\n",
       "    53                                           def compute_ard(A, M, frame, basis, device): \n",
       "    54         1       3807.0   3807.0      0.0      natm = len(frame)\n",
       "    55         1      14307.0  14307.0      0.0      nelec = sum(frame.numbers)\n",
       "    56         1      30648.0  30648.0      0.0      split_idx = [len(basis[s]) for s in frame.numbers]\n",
       "    57                                             \n",
       "    58         1 2313505277.0    2e+09     25.5      eigvals, eigvecs = compute_eigval(A, M, return_eigenvectors = True)\n",
       "    59                                             \n",
       "    60         1        410.0    410.0      0.0      T = []\n",
       "    61        37     254374.0   6875.0      0.0      for C, S in zip(eigvecs, M):\n",
       "    62        36   13513981.0 375388.4      0.1          occ = torch.tensor([2.0+0.0j if i <= nelec//2 else 0.0+0.0j for i in range(C.shape[0])], dtype = torch.complex128, requires_grad = True)\n",
       "    63                                             \n",
       "    64                                                     # Compute the one-particle density matrix\n",
       "    65        36  164479042.0    5e+06      1.8          rho = torch.einsum('n,in,jn', occ, C, C.conj())\n",
       "    66                                             \n",
       "    67        36      16891.0    469.2      0.0          if False:\n",
       "    68                                                         # Compute the population matrix\n",
       "    69                                                       sqrt_S, _ = _sqrtm_newton_schulz(S)\n",
       "    70                                             \n",
       "    71                                                       P = sqrt_S @ rho @ sqrt_S\n",
       "    72                                                   else:\n",
       "    73                                                         # Use rho\n",
       "    74        36      40671.0   1129.8      0.0              P = rho\n",
       "    75                                                 \n",
       "    76                                                     # Compute the matrix elements of the atom resolved density matrix\n",
       "    77        36 1120846647.0    3e+07     12.3          blocks = [block for slice_ in torch.split(P, split_idx, dim = 0) for block in torch.split(slice_, split_idx, dim = 1)]\n",
       "    78        36 5467480233.0    2e+08     60.2          T.append(torch.tensor([torch.norm(b) for b in blocks], device = device, requires_grad = True))#.reshape(natm, natm))\n",
       "    79                                             \n",
       "    80         1    1110152.0    1e+06      0.0      return torch.stack(T), eigvals"
      ]
     },
     "metadata": {},
     "output_type": "display_data"
    }
   ],
   "source": [
    "%lprun -f compute_ard compute_ard(hk, sk, qmdata.structures[ifr], qmdata.basis, device)"
   ]
  },
  {
   "cell_type": "code",
   "execution_count": 297,
   "id": "b91ebc6a-932d-4885-8e1a-2a28f27df779",
   "metadata": {},
   "outputs": [
    {
     "name": "stdout",
     "output_type": "stream",
     "text": [
      "2.52 s ± 16 ms per loop (mean ± std. dev. of 7 runs, 1 loop each)\n"
     ]
    }
   ],
   "source": [
    "%%timeit\n",
    "ard_vec = compute_ard_vec(qmdata, batch, HK)"
   ]
  },
  {
   "cell_type": "code",
   "execution_count": 299,
   "id": "e87121f4-e625-4450-98c1-ab6d7a14fac8",
   "metadata": {},
   "outputs": [],
   "source": [
    "def compute_ard_orig(qmdata, batch, HK):\n",
    "    ard_orig = []\n",
    "    device = 'cpu'\n",
    "    for ifr, hk, sk in zip(batch.sample_id, HK, batch.overlap_kspace):\n",
    "        ard, eig = compute_ard(hk, sk, qmdata.structures[ifr], qmdata.basis, device)\n",
    "        ard_orig.append(ard)\n",
    "    return ard_orig"
   ]
  },
  {
   "cell_type": "code",
   "execution_count": 289,
   "id": "a0e78d74-efdc-420a-9d35-f11ef03cfff7",
   "metadata": {},
   "outputs": [
    {
     "name": "stdout",
     "output_type": "stream",
     "text": [
      "torch.Size([16, 125])\n",
      "torch.Size([20736, 36])\n"
     ]
    }
   ],
   "source": [
    "for a in ard_vec:\n",
    "    print(a.shape)"
   ]
  },
  {
   "cell_type": "code",
   "execution_count": 298,
   "id": "333ca012-73aa-4682-8d8f-3dc9465cd205",
   "metadata": {},
   "outputs": [
    {
     "name": "stdout",
     "output_type": "stream",
     "text": [
      "6.67 s ± 31.5 ms per loop (mean ± std. dev. of 7 runs, 1 loop each)\n"
     ]
    }
   ],
   "source": [
    "%%timeit\n",
    "ard_orig = []\n",
    "for ifr, hk, sk in zip(batch.sample_id, HK, batch.overlap_kspace):\n",
    "    ard, eig = compute_ard(hk, sk, qmdata.structures[ifr], qmdata.basis, device)\n",
    "    ard_orig.append(ard)\n"
   ]
  },
  {
   "cell_type": "code",
   "execution_count": 349,
   "id": "7ec6b78b-44b0-4327-bb59-72576afaf9fc",
   "metadata": {},
   "outputs": [
    {
     "data": {
      "text/plain": [
       "(array([-1.59871487,  2.16806363,  1.6403949 ,  0.08697684,  0.08697684,\n",
       "        -0.03106566, -0.03106566,  0.09655675,  0.09655675,  0.060163  ]),\n",
       " array([ 2.16806363+0.j        , -1.59871487+0.j        ,\n",
       "         1.6403949 +0.j        ,  0.08697684+0.34419864j,\n",
       "         0.08697684-0.34419864j,  0.09655675+0.05196621j,\n",
       "         0.09655675-0.05196621j, -0.03106566+0.06601705j,\n",
       "        -0.03106566-0.06601705j,  0.060163  +0.j        ]),\n",
       " False,\n",
       " False)"
      ]
     },
     "execution_count": 349,
     "metadata": {},
     "output_type": "execute_result"
    }
   ],
   "source": [
    "import torch\n",
    "import numpy as np\n",
    "from scipy.linalg import eig\n",
    "\n",
    "# Define larger matrices A and B\n",
    "A_large = torch.randn(10, 10, requires_grad=True)\n",
    "B_large = torch.randn(10, 10, requires_grad=True)\n",
    "\n",
    "# Make B positive definite to ensure it's invertible\n",
    "B_large = B_large @ B_large.T + torch.eye(10)\n",
    "\n",
    "# Compute the inverse of B\n",
    "B_inv_large = torch.inverse(B_large)\n",
    "\n",
    "# Transform the problem to a standard eigenproblem\n",
    "C_large = B_inv_large @ A_large\n",
    "\n",
    "# Compute eigenvalues and eigenvectors with PyTorch\n",
    "eigenvalues_torch_large, eigenvectors_torch_large = torch.linalg.eig(C_large)\n",
    "\n",
    "# Convert to numpy arrays for comparison\n",
    "A_large_np = A_large.detach().numpy()\n",
    "B_large_np = B_large.detach().numpy()\n",
    "\n",
    "# Compute eigenvalues and eigenvectors with SciPy\n",
    "eigenvalues_scipy_large, eigenvectors_scipy_large = eig(A_large_np, B_large_np)\n",
    "\n",
    "# To ensure consistency, work with real parts if the matrices are real\n",
    "eigenvalues_torch_large = eigenvalues_torch_large.real\n",
    "eigenvectors_torch_large = eigenvectors_torch_large.real\n",
    "\n",
    "# Check if eigenvalues and eigenvectors are close\n",
    "eigenvalues_close_large = np.allclose(eigenvalues_torch_large.detach().numpy(), eigenvalues_scipy_large)\n",
    "eigenvectors_close_large = np.allclose(eigenvectors_torch_large.detach().numpy(), eigenvectors_scipy_large)\n",
    "\n",
    "eigenvalues_torch_large.detach().numpy(), eigenvalues_scipy_large, eigenvalues_close_large, eigenvectors_close_large\n"
   ]
  },
  {
   "cell_type": "code",
   "execution_count": 320,
   "id": "eb2e3022-26b5-4c86-a57e-e78b1b61cdcb",
   "metadata": {},
   "outputs": [],
   "source": [
    "ard_orig = []\n",
    "for ifr, hk, sk in zip(batch.sample_id, HK, batch.overlap_kspace):\n",
    "    ard, eig = compute_ard(hk, sk, qmdata.structures[ifr], qmdata.basis, device)\n",
    "    ard_orig.append(ard)\n",
    "ard_vec = compute_ard_vec(qmdata, batch, HK)   "
   ]
  },
  {
   "cell_type": "code",
   "execution_count": 321,
   "id": "b5b79097-1a42-4a46-92f9-361eaaad2492",
   "metadata": {},
   "outputs": [
    {
     "name": "stdout",
     "output_type": "stream",
     "text": [
      "tensor(279.8362, grad_fn=<LinalgVectorNormBackward0>)\n",
      "tensor(742.2785, grad_fn=<LinalgVectorNormBackward0>)\n"
     ]
    }
   ],
   "source": [
    "for a, b in zip(ard_vec, ard_orig):\n",
    "    print(torch.norm(b.T - a))"
   ]
  },
  {
   "cell_type": "code",
   "execution_count": 345,
   "id": "a9cfc03a-5883-464b-871c-13e8a45e5e95",
   "metadata": {},
   "outputs": [],
   "source": [
    "S = batch.overlap_kspace[0][0]\n",
    "H = HK[0][0]\n",
    "eigvals, C = torch.linalg.eig(torch.linalg.inv(S)@H)\n",
    "assert torch.norm(eigvals.imag)<1e-10\n",
    "eigvals = eigvals.real\n",
    "\n",
    "eigvalsx, Cx = symeig(xitorch.LinearOperator.m(H), M=xitorch.LinearOperator.m(S))"
   ]
  },
  {
   "cell_type": "code",
   "execution_count": 346,
   "id": "7f9b596a-759b-47ba-a25c-c2be5c6162e0",
   "metadata": {},
   "outputs": [
    {
     "data": {
      "text/plain": [
       "tensor([-0.0404, -0.0373, -0.0119, -0.0337, -0.0137, -0.0153, -0.0161, -0.0181,\n",
       "        -0.0190, -0.0203, -0.0223, -0.0250, -0.0313, -0.0307, -0.0275, -0.0296])"
      ]
     },
     "execution_count": 346,
     "metadata": {},
     "output_type": "execute_result"
    }
   ],
   "source": [
    "eigvals"
   ]
  },
  {
   "cell_type": "code",
   "execution_count": 347,
   "id": "58807b3b-b5b6-4f6f-8251-f5ff41b1be93",
   "metadata": {},
   "outputs": [
    {
     "data": {
      "text/plain": [
       "tensor([-0.0404, -0.0373, -0.0337, -0.0313, -0.0307, -0.0296, -0.0275, -0.0250,\n",
       "        -0.0223, -0.0203, -0.0190, -0.0181, -0.0161, -0.0153, -0.0137, -0.0119])"
      ]
     },
     "execution_count": 347,
     "metadata": {},
     "output_type": "execute_result"
    }
   ],
   "source": [
    "eigvalsx"
   ]
  },
  {
   "cell_type": "code",
   "execution_count": 348,
   "id": "bf77ec8f-369e-49b2-b53f-aa3fb8d2900c",
   "metadata": {},
   "outputs": [
    {
     "data": {
      "image/png": "[encoded data removed]",
      "text/plain": [
       "<Figure size 640x480 with 1 Axes>"
      ]
     },
     "metadata": {},
     "output_type": "display_data"
    }
   ],
   "source": [
    "for e1, e2 in zip(eigvals, eigvalsx):\n",
    "    plt.plot(e1,e2,'.')"
   ]
  },
  {
   "cell_type": "code",
   "execution_count": 33,
   "id": "068e1547-2f73-4fa6-b88c-1dfcaba112f3",
   "metadata": {},
   "outputs": [],
   "source": [
    "H = HK[0]\n",
    "S = batch.overlap_kspace[0]"
   ]
  },
  {
   "cell_type": "code",
   "execution_count": 75,
   "id": "217e85ce-d2e2-42d1-8aff-1aab13780cd5",
   "metadata": {},
   "outputs": [
    {
     "name": "stdout",
     "output_type": "stream",
     "text": [
      "132 ms ± 2.67 ms per loop (mean ± std. dev. of 7 runs, 10 loops each)\n"
     ]
    }
   ],
   "source": [
    "%%timeit\n",
    "result_einsum = torch.einsum('kn,kin,kjn->kij', occ, C, C.conj())"
   ]
  },
  {
   "cell_type": "code",
   "execution_count": 76,
   "id": "2e806513-44fc-4149-b0ea-9d8b272ffba6",
   "metadata": {},
   "outputs": [
    {
     "name": "stdout",
     "output_type": "stream",
     "text": [
      "128 ms ± 1.3 ms per loop (mean ± std. dev. of 7 runs, 10 loops each)\n"
     ]
    }
   ],
   "source": [
    "%%timeit\n",
    "result_optimized = torch.matmul((occ.unsqueeze(1) * C), C.conj().permute(0, 2, 1))"
   ]
  },
  {
   "cell_type": "code",
   "execution_count": 295,
   "id": "6060d73a-43f8-4c90-8292-ec932a840742",
   "metadata": {},
   "outputs": [
    {
     "ename": "RuntimeError",
     "evalue": "The size of tensor a (125) must match the size of tensor b (500) at non-singleton dimension 2",
     "output_type": "error",
     "traceback": [
      "\u001b[0;31m---------------------------------------------------------------------------\u001b[0m",
      "\u001b[0;31mRuntimeError\u001b[0m                              Traceback (most recent call last)",
      "Cell \u001b[0;32mIn[295], line 22\u001b[0m\n\u001b[1;32m     19\u001b[0m optimized_time \u001b[38;5;241m=\u001b[39m time\u001b[38;5;241m.\u001b[39mtime() \u001b[38;5;241m-\u001b[39m start_time\n\u001b[1;32m     21\u001b[0m \u001b[38;5;66;03m# Verify results and times\u001b[39;00m\n\u001b[0;32m---> 22\u001b[0m \u001b[38;5;28mprint\u001b[39m(\u001b[38;5;124m\"\u001b[39m\u001b[38;5;124mAre the results close? \u001b[39m\u001b[38;5;124m\"\u001b[39m, \u001b[43mtorch\u001b[49m\u001b[38;5;241;43m.\u001b[39;49m\u001b[43mallclose\u001b[49m\u001b[43m(\u001b[49m\u001b[43mresult_einsum\u001b[49m\u001b[43m,\u001b[49m\u001b[43m \u001b[49m\u001b[43mresult_optimized\u001b[49m\u001b[43m,\u001b[49m\u001b[43m \u001b[49m\u001b[43matol\u001b[49m\u001b[38;5;241;43m=\u001b[39;49m\u001b[38;5;241;43m1e-6\u001b[39;49m\u001b[43m)\u001b[49m)\n\u001b[1;32m     23\u001b[0m \u001b[38;5;28mprint\u001b[39m(\u001b[38;5;124mf\u001b[39m\u001b[38;5;124m\"\u001b[39m\u001b[38;5;124mTime taken with torch.einsum: \u001b[39m\u001b[38;5;132;01m{\u001b[39;00meinsum_time\u001b[38;5;132;01m:\u001b[39;00m\u001b[38;5;124m.6f\u001b[39m\u001b[38;5;132;01m}\u001b[39;00m\u001b[38;5;124m seconds\u001b[39m\u001b[38;5;124m\"\u001b[39m)\n\u001b[1;32m     24\u001b[0m \u001b[38;5;28mprint\u001b[39m(\u001b[38;5;124mf\u001b[39m\u001b[38;5;124m\"\u001b[39m\u001b[38;5;124mTime taken with optimized approach: \u001b[39m\u001b[38;5;132;01m{\u001b[39;00moptimized_time\u001b[38;5;132;01m:\u001b[39;00m\u001b[38;5;124m.6f\u001b[39m\u001b[38;5;132;01m}\u001b[39;00m\u001b[38;5;124m seconds\u001b[39m\u001b[38;5;124m\"\u001b[39m)\n",
      "\u001b[0;31mRuntimeError\u001b[0m: The size of tensor a (125) must match the size of tensor b (500) at non-singleton dimension 2"
     ]
    }
   ],
   "source": [
    "import torch\n",
    "import time\n",
    "\n",
    "# Define dimensions\n",
    "k, i, j, n = 125, 500,500,500  # Example dimensions\n",
    "occ = torch.randn(n)\n",
    "C = torch.randn(k, i, n)\n",
    "\n",
    "# Using torch.einsum\n",
    "start_time = time.time()\n",
    "# result_einsum = torch.einsum('kn,kin,kjn->kij', occ, C, C.conj())\n",
    "result_einsum = torch.einsum('n,kin,kjn->ijk', occ, C, C.conj())\n",
    "einsum_time = time.time() - start_time\n",
    "\n",
    "# Optimized approach\n",
    "start_time = time.time()\n",
    "# result_optimized = torch.matmul((occ.unsqueeze(1) * C), C.conj().permute(0, 2, 1))\n",
    "result_optimized = torch.matmul(C.permute(2, 1, 0), (occ[:, None, None] * C.conj().permute(2, 0, 1))).permute(1, 2, 0)\n",
    "optimized_time = time.time() - start_time\n",
    "\n",
    "# Verify results and times\n",
    "print(\"Are the results close? \", torch.allclose(result_einsum, result_optimized, atol=1e-6))\n",
    "print(f\"Time taken with torch.einsum: {einsum_time:.6f} seconds\")\n",
    "print(f\"Time taken with optimized approach: {optimized_time:.6f} seconds\")\n"
   ]
  },
  {
   "cell_type": "code",
   "execution_count": 48,
   "id": "7cc55aab-e4ae-4c0c-abf3-0293c1904f88",
   "metadata": {},
   "outputs": [],
   "source": [
    "padded_H = xitorch.LinearOperator.m(torch.nn.functional.pad(H, (0, 4, 0, 4), \"constant\", 0))\n",
    "N = 20\n",
    "n = 16\n",
    "ide = torch.eye(N)\n",
    "padded_tensor = torch.zeros(H.shape[:-2] + (N, N), dtype = torch.complex128)\n",
    "padded_tensor[..., :n, :n] = S\n",
    "padded_tensor[..., n:N, n:N] = ide[n:N, n:N]\n",
    "padded_S = xitorch.LinearOperator.m(padded_tensor)\n",
    "a=symeig(xitorch.LinearOperator.m(H), M=xitorch.LinearOperator.m(S))\n",
    "b=symeig(padded_H, M=padded_S)"
   ]
  },
  {
   "cell_type": "code",
   "execution_count": 55,
   "id": "265a7cca-5a6a-4485-86b7-4b3f297a8d6b",
   "metadata": {},
   "outputs": [
    {
     "data": {
      "text/plain": [
       "tensor([ True,  True,  True,  True, False, False, False, False,  True,  True,\n",
       "         True,  True,  True,  True,  True,  True,  True,  True,  True,  True])"
      ]
     },
     "execution_count": 55,
     "metadata": {},
     "output_type": "execute_result"
    }
   ],
   "source": [
    "~x.isclose(torch.tensor(0.))"
   ]
  },
  {
   "cell_type": "code",
   "execution_count": 65,
   "id": "685209e3-cd26-48d3-a6e8-8dea0b3fa881",
   "metadata": {},
   "outputs": [
    {
     "data": {
      "text/plain": [
       "[<matplotlib.lines.Line2D at 0x7561ad6e7410>,\n",
       " <matplotlib.lines.Line2D at 0x7561ad75cb10>,\n",
       " <matplotlib.lines.Line2D at 0x7561ac50ed50>,\n",
       " <matplotlib.lines.Line2D at 0x7561ac50f250>,\n",
       " <matplotlib.lines.Line2D at 0x7561ad6a7610>,\n",
       " <matplotlib.lines.Line2D at 0x7561ac50f9d0>,\n",
       " <matplotlib.lines.Line2D at 0x7561ac50ff90>,\n",
       " <matplotlib.lines.Line2D at 0x7561ad638390>,\n",
       " <matplotlib.lines.Line2D at 0x7561ad6b0790>,\n",
       " <matplotlib.lines.Line2D at 0x7561ac50f950>,\n",
       " <matplotlib.lines.Line2D at 0x7561ac519010>,\n",
       " <matplotlib.lines.Line2D at 0x7561ad6c9410>,\n",
       " <matplotlib.lines.Line2D at 0x7561ac5198d0>,\n",
       " <matplotlib.lines.Line2D at 0x7561d9fe1c90>,\n",
       " <matplotlib.lines.Line2D at 0x7561ac51a150>,\n",
       " <matplotlib.lines.Line2D at 0x7561ac51a590>]"
      ]
     },
     "execution_count": 65,
     "metadata": {},
     "output_type": "execute_result"
    },
    {
     "data": {
      "image/png": "[encoded data removed]",
      "text/plain": [
       "<Figure size 640x480 with 1 Axes>"
      ]
     },
     "metadata": {},
     "output_type": "display_data"
    }
   ],
   "source": [
    "plt.plot(b[1][0][:16, ~x.isclose(torch.tensor(0.0))].real - a[1][0][:].real)\n",
    "# plt.plot(a[1][0][:].real)"
   ]
  },
  {
   "cell_type": "code",
   "execution_count": 54,
   "id": "ae732484-5f28-4fa2-9e11-af0b2d37afc0",
   "metadata": {},
   "outputs": [
    {
     "data": {
      "text/plain": [
       "[<matplotlib.lines.Line2D at 0x7561ae751250>]"
      ]
     },
     "execution_count": 54,
     "metadata": {},
     "output_type": "execute_result"
    },
    {
     "data": {
      "image/png": "[encoded data removed]",
      "text/plain": [
       "<Figure size 640x480 with 1 Axes>"
      ]
     },
     "metadata": {},
     "output_type": "display_data"
    }
   ],
   "source": [
    "x = a[0][0]\n",
    "plt.plot(x[~x.isclose(torch.tensor(0.))])\n",
    "x = b[0][0]\n",
    "plt.plot(x[~x.isclose(torch.tensor(0.))])"
   ]
  },
  {
   "cell_type": "code",
   "execution_count": 44,
   "id": "49c02cc0-7455-47bc-bada-529a51f2ee5c",
   "metadata": {},
   "outputs": [
    {
     "data": {
      "text/plain": [
       "tensor([-0.0993, -0.0913, -0.0672, -0.0639,  0.0157,  0.0253,  0.0593,  0.0605,\n",
       "         0.0796,  0.0893,  0.0950,  0.1002,  0.1190,  0.1280,  0.1371,  0.1449])"
      ]
     },
     "execution_count": 44,
     "metadata": {},
     "output_type": "execute_result"
    }
   ],
   "source": [
    "b[0][0]"
   ]
  },
  {
   "cell_type": "code",
   "execution_count": 25,
   "id": "00f7273a-05ac-4f21-bb2f-fcf776411679",
   "metadata": {},
   "outputs": [
    {
     "name": "stdout",
     "output_type": "stream",
     "text": [
      "3.36 ms ± 25.9 µs per loop (mean ± std. dev. of 7 runs, 100 loops each)\n"
     ]
    }
   ],
   "source": [
    "%%timeit\n",
    "symeig(xitorch.LinearOperator.m(torch.stack(HK)))"
   ]
  },
  {
   "cell_type": "code",
   "execution_count": 26,
   "id": "13dcc436-b8df-4356-a8a7-0a1eca00149a",
   "metadata": {},
   "outputs": [
    {
     "name": "stdout",
     "output_type": "stream",
     "text": [
      "15.3 ms ± 62.3 µs per loop (mean ± std. dev. of 7 runs, 100 loops each)\n"
     ]
    }
   ],
   "source": [
    "%%timeit\n",
    "for H in HK[0]:\n",
    "    symeig(xitorch.LinearOperator.m(H))"
   ]
  },
  {
   "cell_type": "code",
   "execution_count": 18,
   "id": "b0e625cf-b144-4457-81c6-4f38f46ce0c7",
   "metadata": {},
   "outputs": [
    {
     "name": "stdout",
     "output_type": "stream",
     "text": [
      "4\n"
     ]
    }
   ],
   "source": [
    "batch = next(iter(dl))\n",
    "pred = model.forward(batch.features, mldata.model_metadata)\n",
    "HT = blocks_to_matrix(pred, qmdata, detach = True, structure_ids=batch.sample_id)\n",
    "HK = qmdata.bloch_sum(HT, structure_ids=batch.sample_id)\n",
    "\n",
    "pred_eigvals = []\n",
    "pred_ard = []\n",
    "for ifr, hk, sk in zip(batch.sample_id, HK, batch.overlap_kspace):\n",
    "    ard, eig = compute_ard(hk, sk, qmdata.structures[ifr], qmdata.basis)\n",
    "    pred_ard.append(ard)\n",
    "    pred_eigvals.append(eig)"
   ]
  },
  {
   "cell_type": "code",
   "execution_count": 18,
   "id": "c7fe2a85-4b69-4bed-89c9-fdf2daeea671",
   "metadata": {},
   "outputs": [
    {
     "name": "stdout",
     "output_type": "stream",
     "text": [
      "50\n",
      "tensor([[5.0669, 5.0840, 5.0984, 4.6183, 5.8959, 4.0275, 4.5295, 5.3198, 4.8648,\n",
      "         5.6759, 4.3142, 5.1635, 4.7012, 5.2994, 4.8145, 5.3408, 4.5333, 5.1474,\n",
      "         4.7877, 6.3704, 4.4872, 5.4411, 5.2981, 5.1331, 4.5185, 0.0000, 0.0000,\n",
      "         0.0000, 0.0000, 0.0000, 0.0000, 0.0000, 0.0000, 0.0000, 0.0000, 0.0000,\n",
      "         0.0000, 0.0000, 0.0000, 0.0000, 0.0000, 0.0000, 0.0000, 0.0000, 0.0000,\n",
      "         0.0000, 0.0000, 0.0000, 0.0000, 0.0000],\n",
      "        [5.4193, 4.9630, 4.3443, 5.0788, 5.2226, 5.6729, 6.0060, 5.0155, 5.4075,\n",
      "         4.4575, 4.7199, 5.4476, 5.7015, 5.4005, 5.3028, 3.7539, 4.6535, 4.4055,\n",
      "         4.4005, 5.3336, 4.9806, 3.7950, 4.7740, 4.0894, 6.4416, 5.0568, 3.7296,\n",
      "         4.9240, 5.2378, 3.8556, 4.2981, 5.4593, 4.6536, 6.5636, 5.3485, 5.4439,\n",
      "         5.5033, 5.3027, 6.5082, 4.9334, 4.0275, 5.0124, 4.4845, 4.4275, 5.2035,\n",
      "         4.8450, 5.1038, 5.9783, 5.1897, 4.5480],\n",
      "        [5.7694, 4.3219, 4.3303, 3.8645, 5.0254, 5.1316, 5.2361, 6.1110, 5.1705,\n",
      "         4.2739, 3.3014, 4.6087, 5.8404, 4.3595, 4.7469, 4.7347, 3.6411, 5.7444,\n",
      "         6.8657, 5.2746, 5.0405, 3.8093, 4.9178, 5.4812, 4.1367, 0.0000, 0.0000,\n",
      "         0.0000, 0.0000, 0.0000, 0.0000, 0.0000, 0.0000, 0.0000, 0.0000, 0.0000,\n",
      "         0.0000, 0.0000, 0.0000, 0.0000, 0.0000, 0.0000, 0.0000, 0.0000, 0.0000,\n",
      "         0.0000, 0.0000, 0.0000, 0.0000, 0.0000],\n",
      "        [7.0864, 6.7023, 7.0060, 7.1236, 6.6386, 6.4953, 6.4226, 8.4808, 6.5701,\n",
      "         6.5513, 6.5090, 6.9657, 7.6467, 6.5251, 7.2915, 6.8639, 6.4313, 7.8373,\n",
      "         7.2794, 6.8866, 6.1066, 6.8696, 6.6303, 6.8036, 7.6073, 0.0000, 0.0000,\n",
      "         0.0000, 0.0000, 0.0000, 0.0000, 0.0000, 0.0000, 0.0000, 0.0000, 0.0000,\n",
      "         0.0000, 0.0000, 0.0000, 0.0000, 0.0000, 0.0000, 0.0000, 0.0000, 0.0000,\n",
      "         0.0000, 0.0000, 0.0000, 0.0000, 0.0000],\n",
      "        [6.6294, 7.1345, 7.2086, 5.8389, 7.6460, 6.3004, 7.0442, 7.5945, 7.9094,\n",
      "         5.9124, 6.7530, 6.4844, 8.1977, 5.9052, 8.5089, 7.6380, 6.7895, 7.0407,\n",
      "         6.3851, 8.5570, 6.5327, 6.8435, 6.3730, 7.7470, 6.6045, 7.2993, 6.8458,\n",
      "         8.7041, 6.2007, 6.9890, 6.3126, 6.1757, 5.9007, 6.6857, 8.0002, 7.6287,\n",
      "         6.7724, 7.4839, 6.5157, 6.6753, 5.0787, 7.2553, 6.8511, 7.1683, 6.7214,\n",
      "         7.5146, 6.5267, 7.6071, 7.6725, 6.6480],\n",
      "        [7.3277, 7.0531, 5.8593, 6.8435, 7.4777, 8.1563, 7.5306, 7.8142, 8.4243,\n",
      "         6.3845, 6.7920, 7.9063, 5.6145, 8.4028, 6.3983, 7.0145, 8.4110, 6.2987,\n",
      "         5.9671, 6.7659, 6.2501, 7.6979, 6.3454, 6.4751, 6.7494, 0.0000, 0.0000,\n",
      "         0.0000, 0.0000, 0.0000, 0.0000, 0.0000, 0.0000, 0.0000, 0.0000, 0.0000,\n",
      "         0.0000, 0.0000, 0.0000, 0.0000, 0.0000, 0.0000, 0.0000, 0.0000, 0.0000,\n",
      "         0.0000, 0.0000, 0.0000, 0.0000, 0.0000],\n",
      "        [5.2925, 5.4022, 4.7693, 4.8670, 4.7413, 4.3821, 4.9433, 3.7504, 5.9754,\n",
      "         4.3935, 3.3666, 4.6848, 4.3986, 4.3512, 4.8399, 4.9629, 3.6472, 4.6354,\n",
      "         3.2841, 6.3851, 4.2798, 5.4464, 4.8021, 5.9970, 4.7515, 0.0000, 0.0000,\n",
      "         0.0000, 0.0000, 0.0000, 0.0000, 0.0000, 0.0000, 0.0000, 0.0000, 0.0000,\n",
      "         0.0000, 0.0000, 0.0000, 0.0000, 0.0000, 0.0000, 0.0000, 0.0000, 0.0000,\n",
      "         0.0000, 0.0000, 0.0000, 0.0000, 0.0000],\n",
      "        [4.3536, 5.4065, 4.5169, 5.6298, 5.5776, 4.4316, 5.1582, 5.7522, 6.1986,\n",
      "         4.4738, 4.3772, 5.1719, 4.3572, 4.1931, 3.8701, 3.4264, 4.0530, 5.5132,\n",
      "         5.8572, 5.3239, 4.0233, 5.5622, 5.6620, 5.2307, 4.4479, 4.8267, 4.5060,\n",
      "         4.7000, 4.8047, 5.4088, 6.6893, 5.0701, 4.9561, 4.2979, 5.1663, 4.7206,\n",
      "         5.4490, 5.5414, 4.6288, 4.9859, 5.6472, 6.0120, 4.9759, 4.1685, 5.1775,\n",
      "         4.8446, 4.7744, 4.3759, 4.3200, 4.8781],\n",
      "        [4.3671, 4.1007, 3.9979, 5.3689, 5.0075, 5.0865, 6.1558, 4.9213, 6.3945,\n",
      "         5.7370, 4.1821, 5.1465, 3.7583, 3.8331, 5.7076, 5.5701, 3.8713, 4.0510,\n",
      "         5.4414, 5.0280, 4.7723, 5.0036, 5.4071, 3.9076, 3.7875, 0.0000, 0.0000,\n",
      "         0.0000, 0.0000, 0.0000, 0.0000, 0.0000, 0.0000, 0.0000, 0.0000, 0.0000,\n",
      "         0.0000, 0.0000, 0.0000, 0.0000, 0.0000, 0.0000, 0.0000, 0.0000, 0.0000,\n",
      "         0.0000, 0.0000, 0.0000, 0.0000, 0.0000]])\n"
     ]
    }
   ],
   "source": [
    "import torch\n",
    "\n",
    "# Example tensor P\n",
    "P = torch.randn(100, 100)  # Example tensor, adjust as needed\n",
    "split_idx = [25,50,25]  # Example split index, adjust as needed\n",
    "\n",
    "# First, split tensor P along dimension 0 and 1\n",
    "slices = torch.split(P, split_idx, dim=0)\n",
    "blocks = [torch.split(slice_, split_idx, dim=1) for slice_ in slices]\n",
    "\n",
    "# Flatten the list of lists\n",
    "blocks_flat = [block for sublist in blocks for block in sublist]\n",
    "\n",
    "# Determine the maximum size of the blocks to create NxN tensors\n",
    "max_dim = max([block.shape[0] for block in blocks_flat] + [block.shape[1] for block in blocks_flat])\n",
    "print(max_dim)\n",
    "\n",
    "# Pad each block to be NxN\n",
    "squared_blocks = []\n",
    "for block in blocks_flat:\n",
    "    pad_size = (0, max_dim - block.size(1), 0, max_dim - block.size(0))  # (pad_right, pad_left, pad_bottom, pad_top)\n",
    "    squared_block = torch.nn.functional.pad(block, pad_size, \"constant\", 0)\n",
    "    squared_blocks.append(squared_block)\n",
    "\n",
    "# Stack all squared blocks\n",
    "stacked_blocks = torch.stack(squared_blocks)\n",
    "\n",
    "# Compute the norm for each squared block along the correct axes\n",
    "# Example: Compute the norm along the first dimension for each block in the stack\n",
    "norms = stacked_blocks.norm(dim=1)\n",
    "\n",
    "print(norms)\n"
   ]
  },
  {
   "cell_type": "markdown",
   "id": "226b15e8-82d5-432a-a2fb-077dc7183e9f",
   "metadata": {},
   "source": [
    "# Density matrix"
   ]
  },
  {
   "cell_type": "code",
   "execution_count": 501,
   "id": "e0f50664-8e63-47ab-90e0-6117496d0b92",
   "metadata": {},
   "outputs": [],
   "source": [
    "def fermidirac(E, beta, mu):\n",
    "    s = len(E.shape)\n",
    "    dtype = E.dtype\n",
    "    if s == 0 or s == 1:\n",
    "        return 1/(torch.exp(beta*(E-mu)) + 1)\n",
    "    elif s == 2:\n",
    "        Id = torch.eye(E.shape[0])\n",
    "        return torch.linalg.inv(torch.matrix_exp(beta*(E - mu*Id)) + Id)"
   ]
  },
  {
   "cell_type": "code",
   "execution_count": 479,
   "id": "0ef04062-3abd-408d-ad25-c0a42cbddcda",
   "metadata": {},
   "outputs": [],
   "source": [
    "H = qmdata.fock_kspace[0][0]\n",
    "S = qmdata.overlap_kspace[0][0]\n",
    "\n",
    "E, C = symeig(xitorch.LinearOperator.m(H), M=xitorch.LinearOperator.m(S))\n",
    "E = torch.diag(E)\n",
    "\n",
    "Ef = torch.diag(E)[11].real + 1e-5*torch.diag(E).diff().mean()\n",
    "beta = 2000\n",
    "\n",
    "f = fermidirac(torch.diag(E), Ef, beta) #torch.tensor([2 if i <= 11 else 0 for i in range(H.shape[0])], dtype = torch.complex128)\n",
    "# assert sum(fermidirac(torch.diag(E), Ef, beta)) == 6*frames[0].get_global_number_of_atoms(), sum(fermidirac(torch.diag(E), Ef, beta))\n",
    "\n",
    "rho = torch.einsum('in,kn,n->ik', C, C, f)\n",
    "assert torch.allclose(rho.imag, torch.zeros_like(rho.imag))\n",
    "rho = rho.real"
   ]
  },
  {
   "cell_type": "code",
   "execution_count": 480,
   "id": "246b34c0-0780-44e8-bd74-d60683ffae66",
   "metadata": {},
   "outputs": [
    {
     "data": {
      "text/plain": [
       "<matplotlib.colorbar.Colorbar at 0x7d7db2ef1e10>"
      ]
     },
     "execution_count": 480,
     "metadata": {},
     "output_type": "execute_result"
    },
    {
     "data": {
      "image/png": "[encoded data removed]",
      "text/plain": [
       "<Figure size 480x480 with 2 Axes>"
      ]
     },
     "metadata": {},
     "output_type": "display_data"
    }
   ],
   "source": [
    "plt.matshow(rho)\n",
    "plt.colorbar()\n"
   ]
  },
  {
   "cell_type": "code",
   "execution_count": 481,
   "id": "6601ba28-8c7c-4f7d-9178-30a613d1d58d",
   "metadata": {},
   "outputs": [],
   "source": [
    "from scipy.linalg import sqrtm\n",
    "sqrtSinv = torch.from_numpy(np.linalg.inv(np.complex128(sqrtm(S.numpy()))))\n",
    "sqrtS = torch.from_numpy(np.complex128(sqrtm(S.numpy())))\n",
    "oH = sqrtSinv@H@sqrtSinv"
   ]
  },
  {
   "cell_type": "code",
   "execution_count": 482,
   "id": "d2d1c5f4-c4f1-4f73-a5f6-3cb25c4423e4",
   "metadata": {},
   "outputs": [
    {
     "data": {
      "text/plain": [
       "<matplotlib.colorbar.Colorbar at 0x7d7db2f54e10>"
      ]
     },
     "execution_count": 482,
     "metadata": {},
     "output_type": "execute_result"
    },
    {
     "data": {
      "image/png": "[encoded data removed]",
      "text/plain": [
       "<Figure size 480x480 with 2 Axes>"
      ]
     },
     "metadata": {},
     "output_type": "display_data"
    }
   ],
   "source": [
    "rho2 = sqrtS@fermidirac(oH, Ef, beta)@sqrtS\n",
    "plt.matshow(rho2.real)\n",
    "plt.colorbar()"
   ]
  },
  {
   "cell_type": "code",
   "execution_count": 478,
   "id": "5999b0f8-2a96-4e03-bea4-e38b17228c75",
   "metadata": {},
   "outputs": [
    {
     "data": {
      "text/plain": [
       "[<matplotlib.lines.Line2D at 0x7d7db2f32290>]"
      ]
     },
     "execution_count": 478,
     "metadata": {},
     "output_type": "execute_result"
    },
    {
     "data": {
      "image/png": "[encoded data removed]",
      "text/plain": [
       "<Figure size 640x480 with 1 Axes>"
      ]
     },
     "metadata": {},
     "output_type": "display_data"
    }
   ],
   "source": [
    "plt.plot((rho-rho2).real.flatten())"
   ]
  },
  {
   "cell_type": "code",
   "execution_count": 435,
   "id": "58f73e2d-3139-466e-ab66-363c5c761a84",
   "metadata": {},
   "outputs": [],
   "source": [
    "from scipy.special import factorial"
   ]
  },
  {
   "cell_type": "code",
   "execution_count": 488,
   "id": "a3d8f789-7dc0-47c4-b730-1fe7663d071e",
   "metadata": {},
   "outputs": [],
   "source": [
    "beta = 20\n",
    "nmax = 100"
   ]
  },
  {
   "cell_type": "code",
   "execution_count": 489,
   "id": "4a2f7418-501a-4f44-8449-02850c13b272",
   "metadata": {},
   "outputs": [],
   "source": [
    "m = beta*(H-Ef*torch.eye(H.shape[0]))\n",
    "# (torch.matrix_exp(m) - sum(torch.matrix_power(m, n)/factorial(n) for n in range(nmax))).norm()"
   ]
  },
  {
   "cell_type": "code",
   "execution_count": 493,
   "id": "6ac8369f-621f-40f0-b585-9304a5375933",
   "metadata": {},
   "outputs": [],
   "source": [
    "betas = np.linspace(1,10000)\n",
    "v = [torch.matrix_exp(beta*(H-Ef*torch.eye(H.shape[0]))).norm() for beta in betas]"
   ]
  },
  {
   "cell_type": "code",
   "execution_count": 495,
   "id": "6cbc8678-8490-4ab8-bad4-19e9723cdd64",
   "metadata": {},
   "outputs": [
    {
     "data": {
      "image/png": "[encoded data removed]",
      "text/plain": [
       "<Figure size 640x480 with 1 Axes>"
      ]
     },
     "metadata": {},
     "output_type": "display_data"
    }
   ],
   "source": [
    "plt.plot(betas, v)\n",
    "plt.yscale('log')"
   ]
  },
  {
   "cell_type": "code",
   "execution_count": 520,
   "id": "1d43a5e1-be35-4b9f-8c4d-a53939adb9e5",
   "metadata": {},
   "outputs": [
    {
     "name": "stdout",
     "output_type": "stream",
     "text": [
      "Directly Computed Density Matrix (rho):\n",
      "tensor([[ 6.2236e-01, -2.4457e-02,  2.4833e-04],\n",
      "        [-2.4457e-02,  3.7804e-01, -1.9490e-02],\n",
      "        [ 2.4833e-04, -1.9490e-02,  1.8288e-01]])\n",
      "\n",
      "Density Matrix from Diagonalization (rho_explicit):\n",
      "tensor([[ 6.2236e-01, -2.4457e-02,  2.4833e-04],\n",
      "        [-2.4457e-02,  3.7804e-01, -1.9490e-02],\n",
      "        [ 2.4833e-04, -1.9490e-02,  1.8288e-01]])\n",
      "\n",
      "Difference between the two methods: 1.4256002198713556e-16\n"
     ]
    }
   ],
   "source": [
    "import torch\n",
    "\n",
    "# Example Hamiltonian matrix (Hermitian matrix)\n",
    "H = torch.tensor([\n",
    "    [1.0, 0.1, 0.0],\n",
    "    [0.1, 2.0, 0.1],\n",
    "    [0.0, 0.1, 3.0]\n",
    "], dtype=torch.float64)\n",
    "\n",
    "# Parameters\n",
    "beta = 1.0  # inverse temperature\n",
    "mu = 1.5    # chemical potential\n",
    "\n",
    "# Compute the density matrix using the Fermi-Dirac distribution\n",
    "def compute_density_matrix(H, beta, mu):\n",
    "    exp_matrix = torch.linalg.matrix_exp(beta * (H - mu * torch.eye(H.size(0), dtype=H.dtype)))\n",
    "    rho = torch.inverse(exp_matrix + torch.eye(H.size(0), dtype=H.dtype))\n",
    "    return rho\n",
    "\n",
    "# Calculate the density matrix directly\n",
    "rho_direct = fermidirac(H, beta, mu)\n",
    "# rho_direct = compute_density_matrix(H, beta, mu)\n",
    "\n",
    "# Diagonalize the Hamiltonian\n",
    "eigenvalues, eigenvectors = torch.linalg.eigh(H)\n",
    "\n",
    "# Compute the density matrix in the eigenbasis\n",
    "fermi_dirac_eigenvalues = 1 / (torch.exp(beta * (eigenvalues - mu)) + 1)\n",
    "rho_eigenbasis = torch.diag(fermi_dirac_eigenvalues)\n",
    "\n",
    "# Transform rho back to the original basis\n",
    "rho_explicit = eigenvectors @ rho_eigenbasis @ eigenvectors.T\n",
    "\n",
    "# Check if both density matrices are equal\n",
    "print(\"Directly Computed Density Matrix (rho):\")\n",
    "print(rho_direct)\n",
    "\n",
    "print(\"\\nDensity Matrix from Diagonalization (rho_explicit):\")\n",
    "print(rho_explicit)\n",
    "\n",
    "# Check the difference\n",
    "difference = torch.norm(rho_direct - rho_explicit)\n",
    "print(f\"\\nDifference between the two methods: {difference.item()}\")\n"
   ]
  },
  {
   "cell_type": "code",
   "execution_count": 504,
   "id": "6e4700d5-f4f8-4666-8c47-af904c8fda0e",
   "metadata": {},
   "outputs": [
    {
     "name": "stdout",
     "output_type": "stream",
     "text": [
      "194 µs ± 5.86 µs per loop (mean ± std. dev. of 7 runs, 10,000 loops each)\n"
     ]
    }
   ],
   "source": [
    "%%timeit\n",
    "rho_direct = fermidirac(H, beta, mu)"
   ]
  },
  {
   "cell_type": "code",
   "execution_count": 505,
   "id": "4d4db7ba-90ee-41ee-83a1-19634a527652",
   "metadata": {},
   "outputs": [
    {
     "name": "stdout",
     "output_type": "stream",
     "text": [
      "206 µs ± 206 ns per loop (mean ± std. dev. of 7 runs, 10,000 loops each)\n"
     ]
    }
   ],
   "source": [
    "%%timeit\n",
    "rho_direct = compute_density_matrix(H, beta, mu)"
   ]
  },
  {
   "cell_type": "code",
   "execution_count": 517,
   "id": "a8b14836-92d0-4654-b3b2-0aae249242e6",
   "metadata": {},
   "outputs": [],
   "source": [
    "def compute_rho_explicit(H, beta, mu):\n",
    "    # Diagonalize the Hamiltonian\n",
    "    eigenvalues, eigenvectors = torch.linalg.eigh(H)\n",
    "    \n",
    "    # Compute the density matrix in the eigenbasis\n",
    "    fermi_dirac_eigenvalues = 1 / (torch.exp(beta * (eigenvalues - mu)) + 1)\n",
    "    rho_eigenbasis = torch.diag(fermi_dirac_eigenvalues)\n",
    "    \n",
    "    # Transform rho back to the original basis\n",
    "    return eigenvectors @ rho_eigenbasis @ eigenvectors.T"
   ]
  },
  {
   "cell_type": "code",
   "execution_count": 524,
   "id": "2e76c1ad-87a6-4212-90cf-e6b5864258f2",
   "metadata": {},
   "outputs": [
    {
     "name": "stdout",
     "output_type": "stream",
     "text": [
      "Density Matrix (rho):\n",
      "tensor([[ 0.2696,  0.0460, -0.0012],\n",
      "        [ 0.0460,  0.7287,  0.0221],\n",
      "        [-0.0012,  0.0221,  0.9513]])\n",
      "\n",
      "tensor([[ 6.2236e-01, -2.4457e-02,  2.4833e-04],\n",
      "        [-2.4457e-02,  3.7804e-01, -1.9490e-02],\n",
      "        [ 2.4833e-04, -1.9490e-02,  1.8288e-01]])\n"
     ]
    }
   ],
   "source": [
    "import torch\n",
    "\n",
    "def pade_approximation(A, m):\n",
    "    \"\"\" Compute the Padé approximation to the matrix exponential of A. \"\"\"\n",
    "    identity = torch.eye(A.size(0), dtype=A.dtype, device=A.device)\n",
    "    A2 = A @ A\n",
    "    A4 = A2 @ A2\n",
    "    A6 = A4 @ A2\n",
    "    \n",
    "    U = A @ (identity + A2 * (12.0 + A4))\n",
    "    V = identity + A2 * (6.0 + A4 * (60.0 + A6))\n",
    "    \n",
    "    return torch.linalg.solve(V - U, V + U)\n",
    "\n",
    "def scaling_and_squaring(A, beta):\n",
    "    \"\"\" Compute the matrix exponential exp(beta * A) using scaling and squaring. \"\"\"\n",
    "    n = torch.max(torch.zeros(1, dtype=torch.int32), torch.ceil(torch.log2(torch.linalg.norm(beta * A, ord=float('inf')))))\n",
    "    n = int(n.item())  # Convert to Python scalar\n",
    "    n = 50\n",
    "    A_scaled = beta * A / (2**n)\n",
    "    \n",
    "    exp_A_scaled = pade_approximation(A_scaled, m=6)  # Use Padé approximation with m=6\n",
    "    \n",
    "    exp_A = exp_A_scaled\n",
    "    for _ in range(n):\n",
    "        exp_A = exp_A @ exp_A\n",
    "    \n",
    "    return exp_A\n",
    "\n",
    "# Example Hamiltonian matrix (Hermitian matrix)\n",
    "H = torch.tensor([\n",
    "    [1.0, 0.1, 0.0],\n",
    "    [0.1, 2.0, 0.1],\n",
    "    [0.0, 0.1, 3.0]\n",
    "], dtype=torch.float64)\n",
    "\n",
    "# Parameters\n",
    "beta = 1.0  # inverse temperature (large value for low T regime)\n",
    "mu = 1.5      # chemical potential\n",
    "\n",
    "# Function to compute the density matrix using scaling and squaring\n",
    "def compute_density_matrix_stable(H, beta, mu):\n",
    "    # Identity matrix\n",
    "    I = torch.eye(H.size(0), dtype=H.dtype, device=H.device)\n",
    "    \n",
    "    # Shifted Hamiltonian\n",
    "    H_shifted = H - mu * I\n",
    "    \n",
    "    # Compute the matrix exponential using scaling and squaring\n",
    "    exp_neg_H_shifted = scaling_and_squaring(H_shifted, -beta)\n",
    "    \n",
    "    # Compute the density matrix using the stable formula\n",
    "    rho = torch.inverse(I + exp_neg_H_shifted)\n",
    "    \n",
    "    return rho\n",
    "\n",
    "# Calculate the density matrix using the stable method\n",
    "rho = compute_density_matrix_stable(H, beta, mu)\n",
    "\n",
    "print(\"Density Matrix (rho):\")\n",
    "print(rho)\n",
    "print()\n",
    "print(compute_rho_explicit(H, beta, mu))"
   ]
  },
  {
   "cell_type": "code",
   "execution_count": null,
   "id": "0a718de2-5c2a-4a37-bc1a-56810b5c3e41",
   "metadata": {},
   "outputs": [],
   "source": []
  },
  {
   "cell_type": "code",
   "execution_count": 699,
   "id": "55a1220d-8f04-4c69-802f-b449ab307138",
   "metadata": {},
   "outputs": [],
   "source": [
    "orbs_mult = {\n",
    "        species: \n",
    "            {tuple(k): v\n",
    "            for k, v in zip(\n",
    "                *np.unique(\n",
    "                    np.asarray(qmdata.basis[species])[:, :2],\n",
    "                    axis=0,\n",
    "                    return_counts=True,\n",
    "                )\n",
    "            )\n",
    "        }\n",
    "        for species in qmdata.basis\n",
    "    }"
   ]
  },
  {
   "cell_type": "code",
   "execution_count": 707,
   "id": "6ef1e1dc-c7cc-4026-9217-51b8235fcea6",
   "metadata": {},
   "outputs": [],
   "source": [
    "ai=aj=14\n",
    "orbs_i = orbs_mult[ai]\n",
    "orbs_j = orbs_mult[aj]\n",
    "shapes = {(k1 + k2): (orbs_i[tuple(k1)], orbs_j[tuple(k2)]) for k1 in orbs_i for k2 in orbs_j}"
   ]
  },
  {
   "cell_type": "code",
   "execution_count": 701,
   "id": "0f57f6c7-68ba-43e9-b87b-58d992bad6ef",
   "metadata": {},
   "outputs": [],
   "source": [
    "from mlelec.utils._utils import _orbs_offsets, _atom_blocks_idx\n",
    "dataset = qmdata\n",
    "orbs_tot, orbs_offset = _orbs_offsets(dataset.basis)\n",
    "atom_blocks_idx = _atom_blocks_idx(dataset.structures, orbs_tot)"
   ]
  },
  {
   "cell_type": "code",
   "execution_count": 714,
   "id": "2f352328-465d-4be1-90db-80ac14360f94",
   "metadata": {},
   "outputs": [],
   "source": []
  },
  {
   "cell_type": "code",
   "execution_count": 750,
   "id": "06b93d09-bca9-43c4-b89d-912b3d583226",
   "metadata": {},
   "outputs": [],
   "source": [
    "A,i,j=0,0,1\n",
    "ai=aj=14\n",
    "ni,li=3,0\n",
    "nj,lj=3,1"
   ]
  },
  {
   "cell_type": "code",
   "execution_count": 751,
   "id": "58c77b92-f839-4bed-8cd6-31578e1a0d46",
   "metadata": {},
   "outputs": [],
   "source": [
    "pos_ij = atom_blocks_idx[A,i,j]\n",
    "offsets = orbs_offset[(ai, ni, li)], orbs_offset[(aj, nj, lj)]\n",
    "dim = shapes[ni,li,nj,lj]"
   ]
  },
  {
   "cell_type": "code",
   "execution_count": 835,
   "id": "6749711c-11f4-41b8-8abb-d0f3cd5a8c2a",
   "metadata": {},
   "outputs": [],
   "source": [
    "nTs = [len(qmdata.fock_realspace[A]) for A in range(len(qmdata))]\n",
    "reconstructed_matrices = [torch.zeros((nT, nao, nao), dtype = torch.float64, device = device) for nT, nao in zip(nTs, qmdata.nao)]"
   ]
  },
  {
   "cell_type": "code",
   "execution_count": 836,
   "id": "f5e0c4d0-72f4-438a-844f-da0364013b1a",
   "metadata": {},
   "outputs": [],
   "source": [
    "T_dict = [{T: i for i, T in enumerate(H)} for H in qmdata.fock_realspace]"
   ]
  },
  {
   "cell_type": "code",
   "execution_count": 1011,
   "id": "b7746cea-d297-4a61-a19f-a1fe23b8778e",
   "metadata": {
    "scrolled": true
   },
   "outputs": [],
   "source": [
    "H_mask = {}\n",
    "B_mask = {}\n",
    "slices = {}\n",
    "factors = {}\n",
    "\n",
    "ISQRT_2 = 1/np.sqrt(2)\n",
    "sort_orbs = True\n",
    "all_pairs = False\n",
    "\n",
    "for k, b in unc_blocks.items():\n",
    "    kl = block_type, ai, ni, li, aj, nj, lj = tuple(k.values.tolist())\n",
    "    \n",
    "    bt1_factor = ISQRT_2 / (1 if (sort_orbs and ai == aj and ni == nj and li == lj) else 2) / (2 if all_pairs else 1)\n",
    "\n",
    "    orbs_i = orbs_mult[ai]\n",
    "    orbs_j = orbs_mult[aj]\n",
    "    \n",
    "    shapes = {(k1 + k2): (orbs_i[tuple(k1)], orbs_j[tuple(k2)]) for k1 in orbs_i for k2 in orbs_j}\n",
    "    offsets = orbs_offset[(ai, ni, li)], orbs_offset[(aj, nj, lj)]\n",
    "    dim = shapes[ni,li,nj,lj]\n",
    "\n",
    "    H_mask[kl] = {A: torch.zeros_like(H, dtype = torch.bool) for A, H in enumerate(reconstructed_matrices)}\n",
    "    B_mask[kl] = {A: torch.zeros_like(b.values, dtype = torch.bool) for A in range(len(reconstructed_matrices))}\n",
    "    slices[kl] = {}\n",
    "    factors[kl] = {}\n",
    "    \n",
    "    for i, ((A,i,j,Tx,Ty,Tz), val) in enumerate(zip(b.samples.values.tolist(), b.values)):\n",
    "\n",
    "        offsite_perm_fac = (0.5 if (i == j and Tx != 0 and Ty != 0 and Tz != 0 and not all_pairs) else 1)\n",
    "\n",
    "        bp, bm = _get_fac(block_type, sort_orbs, ni, nj, li, lj, offsite_perm_fac, bt1_factor)\n",
    "            \n",
    "        iT = T_dict[A][Tx,Ty,Tz]\n",
    "        \n",
    "        pos_ij = atom_blocks_idx[A,i,j]\n",
    "        slices_ = [slice(s+o, s+o+e) for s, (o,e) in itertools.product(pos_ij, zip(offsets, dim))]\n",
    "        slices_ = list(itertools.product(slices_[:2], slices_[2:]))\n",
    "        for s in slices_:\n",
    "            H_mask[kl][A][iT][s] = True\n",
    "\n",
    "        B_mask[kl][A][i] = True\n",
    "\n",
    "        if (A, iT) not in slices[kl]:\n",
    "            slices[kl][A,iT] = []\n",
    "            factors[kl][A,iT] = []\n",
    "        # for s in slices_:\n",
    "        slices[kl][A, iT].extend(slices_)\n",
    "        #     factors[kl][A, iT].append((bp, bm))\n",
    "        \n",
    "        # for s in slices_:\n",
    "        #     reconstructed_matrices[A][iT, s].add_(val*f)"
   ]
  },
  {
   "cell_type": "code",
   "execution_count": 1026,
   "id": "f4a9320c-8b1b-42b1-89df-54cd88ebf65e",
   "metadata": {},
   "outputs": [
    {
     "data": {
      "text/plain": [
       "TensorMap with 8 blocks\n",
       "keys: block_type  species_i  n_i  l_i  species_j  n_j  l_j\n",
       "          -1         14       3    1      14       3    1\n",
       "          -1         14       3    0      14       3    1\n",
       "          0          14       3    0      14       3    0\n",
       "          0          14       3    1      14       3    1\n",
       "          0          14       3    0      14       3    1\n",
       "          1          14       3    0      14       3    0\n",
       "          1          14       3    1      14       3    1\n",
       "          1          14       3    0      14       3    1"
      ]
     },
     "execution_count": 1026,
     "metadata": {},
     "output_type": "execute_result"
    }
   ],
   "source": [
    "unc_blocks"
   ]
  },
  {
   "cell_type": "code",
   "execution_count": 1028,
   "id": "5a09a187-170f-4b43-89bb-ba4f166bc66b",
   "metadata": {},
   "outputs": [
    {
     "data": {
      "text/plain": [
       "torch.Size([27])"
      ]
     },
     "execution_count": 1028,
     "metadata": {},
     "output_type": "execute_result"
    }
   ],
   "source": [
    "unc_blocks[0].values[B_mask[(-1,\n",
    "  14,\n",
    "  3,\n",
    "  1,\n",
    "  14,\n",
    "  3,\n",
    "  1)][0]].shape"
   ]
  },
  {
   "cell_type": "code",
   "execution_count": 1043,
   "id": "a824d48c-d405-4f7b-bf75-85fb26f8cc15",
   "metadata": {},
   "outputs": [
    {
     "ename": "IndexError",
     "evalue": "too many indices for tensor of dimension 1",
     "output_type": "error",
     "traceback": [
      "\u001b[0;31m---------------------------------------------------------------------------\u001b[0m",
      "\u001b[0;31mIndexError\u001b[0m                                Traceback (most recent call last)",
      "Cell \u001b[0;32mIn[1043], line 22\u001b[0m\n\u001b[1;32m     19\u001b[0m tensor \u001b[38;5;241m=\u001b[39m torch\u001b[38;5;241m.\u001b[39marange(\u001b[38;5;241m20\u001b[39m)\n\u001b[1;32m     20\u001b[0m indices \u001b[38;5;241m=\u001b[39m [[\u001b[38;5;241m2\u001b[39m, \u001b[38;5;241m5\u001b[39m], [\u001b[38;5;241m8\u001b[39m, \u001b[38;5;241m12\u001b[39m], [\u001b[38;5;241m15\u001b[39m, \u001b[38;5;241m18\u001b[39m]]\n\u001b[0;32m---> 22\u001b[0m result \u001b[38;5;241m=\u001b[39m \u001b[43mget_subblocks\u001b[49m\u001b[43m(\u001b[49m\u001b[43mtensor\u001b[49m\u001b[43m,\u001b[49m\u001b[43m \u001b[49m\u001b[43mindices\u001b[49m\u001b[43m)\u001b[49m\n\u001b[1;32m     23\u001b[0m \u001b[38;5;28mprint\u001b[39m(result)\n",
      "Cell \u001b[0;32mIn[1043], line 14\u001b[0m, in \u001b[0;36mget_subblocks\u001b[0;34m(tensor, indices)\u001b[0m\n\u001b[1;32m     11\u001b[0m mask \u001b[38;5;241m=\u001b[39m (range_tensor \u001b[38;5;241m>\u001b[39m\u001b[38;5;241m=\u001b[39m indices_tensor[:, \u001b[38;5;241m0\u001b[39m]\u001b[38;5;241m.\u001b[39munsqueeze(\u001b[38;5;241m1\u001b[39m)) \u001b[38;5;241m&\u001b[39m (range_tensor \u001b[38;5;241m<\u001b[39m indices_tensor[:, \u001b[38;5;241m1\u001b[39m]\u001b[38;5;241m.\u001b[39munsqueeze(\u001b[38;5;241m1\u001b[39m))\n\u001b[1;32m     13\u001b[0m \u001b[38;5;66;03m# Use the mask to select the subblocks\u001b[39;00m\n\u001b[0;32m---> 14\u001b[0m selected_subblocks \u001b[38;5;241m=\u001b[39m \u001b[43mtensor\u001b[49m\u001b[43m[\u001b[49m\u001b[43mmask\u001b[49m\u001b[43m]\u001b[49m\n\u001b[1;32m     16\u001b[0m \u001b[38;5;28;01mreturn\u001b[39;00m selected_subblocks\n",
      "\u001b[0;31mIndexError\u001b[0m: too many indices for tensor of dimension 1"
     ]
    }
   ],
   "source": [
    "import torch\n",
    "\n",
    "def get_subblocks(tensor, indices):\n",
    "    # Convert indices to tensor\n",
    "    indices_tensor = torch.tensor(indices, dtype=torch.long)\n",
    "    \n",
    "    # Create a range tensor\n",
    "    range_tensor = torch.arange(tensor.size(0), device=tensor.device).unsqueeze(0)\n",
    "    \n",
    "    # Create a mask for the desired subblocks\n",
    "    mask = (range_tensor >= indices_tensor[:, 0].unsqueeze(1)) & (range_tensor < indices_tensor[:, 1].unsqueeze(1))\n",
    "    \n",
    "    # Use the mask to select the subblocks\n",
    "    selected_subblocks = tensor[mask]\n",
    "    \n",
    "    return selected_subblocks\n",
    "\n",
    "# Example usage\n",
    "tensor = torch.arange(20)\n",
    "indices = [[2, 5], [8, 12], [15, 18]]\n",
    "\n",
    "result = get_subblocks(tensor, indices)\n",
    "print(result)"
   ]
  },
  {
   "cell_type": "code",
   "execution_count": 1042,
   "id": "ad4586aa-1dda-4d6d-a456-8751499bd36e",
   "metadata": {},
   "outputs": [
    {
     "data": {
      "text/plain": [
       "array([[-0.0851156 , -0.56430103,  0.96676801],\n",
       "       [ 0.20727075,  0.30773257,  0.15925047],\n",
       "       [-0.25595767, -0.34804638, -0.78236697]])"
      ]
     },
     "execution_count": 1042,
     "metadata": {},
     "output_type": "execute_result"
    }
   ],
   "source": [
    "a[0:3,0:3]"
   ]
  },
  {
   "cell_type": "code",
   "execution_count": 1033,
   "id": "76042375-4b7f-457b-abc1-61180a156623",
   "metadata": {},
   "outputs": [
    {
     "data": {
      "text/plain": [
       "torch.Size([63, 16, 16])"
      ]
     },
     "execution_count": 1033,
     "metadata": {},
     "output_type": "execute_result"
    }
   ],
   "source": [
    "H_mask[(-1,14,3,1,14,3,1)][0].shape"
   ]
  },
  {
   "cell_type": "code",
   "execution_count": 1034,
   "id": "ad4a1582-02fb-435f-84f1-355de3d0afa4",
   "metadata": {},
   "outputs": [
    {
     "data": {
      "text/plain": [
       "torch.Size([81])"
      ]
     },
     "execution_count": 1034,
     "metadata": {},
     "output_type": "execute_result"
    }
   ],
   "source": [
    "A = 0\n",
    "reconstructed_matrices[A][H_mask[(-1,14,3,1,14,3,1)][A]].shape"
   ]
  },
  {
   "cell_type": "code",
   "execution_count": null,
   "id": "d9094607-dbe9-44fb-82dd-aef8700bc4ab",
   "metadata": {},
   "outputs": [],
   "source": [
    "unc_blocks[0].samples.values[3:]"
   ]
  },
  {
   "cell_type": "code",
   "execution_count": 1016,
   "id": "0f5f4f64-74dd-49dd-b6b6-b0e357db7c62",
   "metadata": {},
   "outputs": [
    {
     "data": {
      "text/plain": [
       "tensor([[0., 0., 0.],\n",
       "        [0., 0., 0.],\n",
       "        [0., 0., 0.]])"
      ]
     },
     "execution_count": 1016,
     "metadata": {},
     "output_type": "execute_result"
    }
   ],
   "source": [
    "reconstructed_matrices[0][0][slices[(-1,\n",
    "  14,\n",
    "  3,\n",
    "  1,\n",
    "  14,\n",
    "  3,\n",
    "  1)][0,0][0]]"
   ]
  },
  {
   "cell_type": "code",
   "execution_count": 1002,
   "id": "77f332c7-a4d6-4a45-b30a-85f0614a0d7f",
   "metadata": {},
   "outputs": [
    {
     "ename": "IndexError",
     "evalue": "too many indices for tensor of dimension 2",
     "output_type": "error",
     "traceback": [
      "\u001b[0;31m---------------------------------------------------------------------------\u001b[0m",
      "\u001b[0;31mIndexError\u001b[0m                                Traceback (most recent call last)",
      "Cell \u001b[0;32mIn[1002], line 1\u001b[0m\n\u001b[0;32m----> 1\u001b[0m \u001b[43mreconstructed_matrices\u001b[49m\u001b[43m[\u001b[49m\u001b[38;5;241;43m0\u001b[39;49m\u001b[43m]\u001b[49m\u001b[43m[\u001b[49m\u001b[38;5;241;43m0\u001b[39;49m\u001b[43m]\u001b[49m\u001b[43m[\u001b[49m\u001b[43mslices\u001b[49m\u001b[43m[\u001b[49m\u001b[43m(\u001b[49m\u001b[38;5;241;43m-\u001b[39;49m\u001b[38;5;241;43m1\u001b[39;49m\u001b[43m,\u001b[49m\n\u001b[1;32m      2\u001b[0m \u001b[43m  \u001b[49m\u001b[38;5;241;43m14\u001b[39;49m\u001b[43m,\u001b[49m\n\u001b[1;32m      3\u001b[0m \u001b[43m  \u001b[49m\u001b[38;5;241;43m3\u001b[39;49m\u001b[43m,\u001b[49m\n\u001b[1;32m      4\u001b[0m \u001b[43m  \u001b[49m\u001b[38;5;241;43m1\u001b[39;49m\u001b[43m,\u001b[49m\n\u001b[1;32m      5\u001b[0m \u001b[43m  \u001b[49m\u001b[38;5;241;43m14\u001b[39;49m\u001b[43m,\u001b[49m\n\u001b[1;32m      6\u001b[0m \u001b[43m  \u001b[49m\u001b[38;5;241;43m3\u001b[39;49m\u001b[43m,\u001b[49m\n\u001b[1;32m      7\u001b[0m \u001b[43m  \u001b[49m\u001b[38;5;241;43m1\u001b[39;49m\u001b[43m)\u001b[49m\u001b[43m]\u001b[49m\u001b[43m[\u001b[49m\u001b[38;5;241;43m0\u001b[39;49m\u001b[43m,\u001b[49m\u001b[38;5;241;43m0\u001b[39;49m\u001b[43m]\u001b[49m\u001b[43m]\u001b[49m\n",
      "\u001b[0;31mIndexError\u001b[0m: too many indices for tensor of dimension 2"
     ]
    }
   ],
   "source": [
    "reconstructed_matrices[0][0][slices[(-1,\n",
    "  14,\n",
    "  3,\n",
    "  1,\n",
    "  14,\n",
    "  3,\n",
    "  1)][0,0]]"
   ]
  },
  {
   "cell_type": "code",
   "execution_count": 996,
   "id": "91564463-2e6e-4884-8e94-6226cc7edfd7",
   "metadata": {},
   "outputs": [
    {
     "data": {
      "text/plain": [
       "torch.Size([3, 1, 3])"
      ]
     },
     "execution_count": 996,
     "metadata": {},
     "output_type": "execute_result"
    }
   ],
   "source": [
    "reconstructed_matrices[0][0:3,3:4,3:6].shape"
   ]
  },
  {
   "cell_type": "code",
   "execution_count": 976,
   "id": "7388f12c-209d-4366-9112-dc274657f7ee",
   "metadata": {
    "scrolled": true
   },
   "outputs": [
    {
     "data": {
      "text/plain": [
       "{(-1,\n",
       "  14,\n",
       "  3,\n",
       "  1,\n",
       "  14,\n",
       "  3,\n",
       "  1): {(0, 0): [slice(1, 4, None),\n",
       "   slice(1, 4, None),\n",
       "   slice(5, 8, None),\n",
       "   slice(5, 8, None),\n",
       "   slice(1, 4, None),\n",
       "   slice(1, 4, None),\n",
       "   slice(9, 12, None),\n",
       "   slice(9, 12, None),\n",
       "   slice(1, 4, None),\n",
       "   slice(1, 4, None),\n",
       "   slice(13, 16, None),\n",
       "   slice(13, 16, None),\n",
       "   slice(5, 8, None),\n",
       "   slice(5, 8, None),\n",
       "   slice(9, 12, None),\n",
       "   slice(9, 12, None),\n",
       "   slice(5, 8, None),\n",
       "   slice(5, 8, None),\n",
       "   slice(13, 16, None),\n",
       "   slice(13, 16, None),\n",
       "   slice(9, 12, None),\n",
       "   slice(9, 12, None),\n",
       "   slice(13, 16, None),\n",
       "   slice(13, 16, None)], (0, 3): [slice(1, 4, None),\n",
       "   slice(1, 4, None),\n",
       "   slice(9, 12, None),\n",
       "   slice(9, 12, None)], (0, 4): [slice(5, 8, None),\n",
       "   slice(5, 8, None),\n",
       "   slice(13, 16, None),\n",
       "   slice(13, 16, None),\n",
       "   slice(9, 12, None),\n",
       "   slice(9, 12, None),\n",
       "   slice(13, 16, None),\n",
       "   slice(13, 16, None)]},\n",
       " (-1,\n",
       "  14,\n",
       "  3,\n",
       "  0,\n",
       "  14,\n",
       "  3,\n",
       "  1): {(0, 0): [slice(0, 1, None),\n",
       "   slice(1, 4, None),\n",
       "   slice(4, 5, None),\n",
       "   slice(5, 8, None),\n",
       "   slice(0, 1, None),\n",
       "   slice(1, 4, None),\n",
       "   slice(8, 9, None),\n",
       "   slice(9, 12, None),\n",
       "   slice(0, 1, None),\n",
       "   slice(1, 4, None),\n",
       "   slice(12, 13, None),\n",
       "   slice(13, 16, None),\n",
       "   slice(4, 5, None),\n",
       "   slice(5, 8, None),\n",
       "   slice(8, 9, None),\n",
       "   slice(9, 12, None),\n",
       "   slice(4, 5, None),\n",
       "   slice(5, 8, None),\n",
       "   slice(12, 13, None),\n",
       "   slice(13, 16, None),\n",
       "   slice(8, 9, None),\n",
       "   slice(9, 12, None),\n",
       "   slice(12, 13, None),\n",
       "   slice(13, 16, None)], (0, 3): [slice(0, 1, None),\n",
       "   slice(1, 4, None),\n",
       "   slice(8, 9, None),\n",
       "   slice(9, 12, None)], (0, 4): [slice(4, 5, None),\n",
       "   slice(5, 8, None),\n",
       "   slice(12, 13, None),\n",
       "   slice(13, 16, None),\n",
       "   slice(8, 9, None),\n",
       "   slice(9, 12, None),\n",
       "   slice(12, 13, None),\n",
       "   slice(13, 16, None)]},\n",
       " (0,\n",
       "  14,\n",
       "  3,\n",
       "  0,\n",
       "  14,\n",
       "  3,\n",
       "  0): {(0, 0): [slice(0, 1, None),\n",
       "   slice(0, 1, None),\n",
       "   slice(0, 1, None),\n",
       "   slice(0, 1, None),\n",
       "   slice(4, 5, None),\n",
       "   slice(4, 5, None),\n",
       "   slice(4, 5, None),\n",
       "   slice(4, 5, None),\n",
       "   slice(8, 9, None),\n",
       "   slice(8, 9, None),\n",
       "   slice(8, 9, None),\n",
       "   slice(8, 9, None),\n",
       "   slice(12, 13, None),\n",
       "   slice(12, 13, None),\n",
       "   slice(12, 13, None),\n",
       "   slice(12, 13, None)]},\n",
       " (0,\n",
       "  14,\n",
       "  3,\n",
       "  1,\n",
       "  14,\n",
       "  3,\n",
       "  1): {(0, 0): [slice(1, 4, None),\n",
       "   slice(1, 4, None),\n",
       "   slice(1, 4, None),\n",
       "   slice(1, 4, None),\n",
       "   slice(5, 8, None),\n",
       "   slice(5, 8, None),\n",
       "   slice(5, 8, None),\n",
       "   slice(5, 8, None),\n",
       "   slice(9, 12, None),\n",
       "   slice(9, 12, None),\n",
       "   slice(9, 12, None),\n",
       "   slice(9, 12, None),\n",
       "   slice(13, 16, None),\n",
       "   slice(13, 16, None),\n",
       "   slice(13, 16, None),\n",
       "   slice(13, 16, None)]},\n",
       " (0,\n",
       "  14,\n",
       "  3,\n",
       "  0,\n",
       "  14,\n",
       "  3,\n",
       "  1): {(0, 0): [slice(0, 1, None),\n",
       "   slice(1, 4, None),\n",
       "   slice(0, 1, None),\n",
       "   slice(1, 4, None),\n",
       "   slice(4, 5, None),\n",
       "   slice(5, 8, None),\n",
       "   slice(4, 5, None),\n",
       "   slice(5, 8, None),\n",
       "   slice(8, 9, None),\n",
       "   slice(9, 12, None),\n",
       "   slice(8, 9, None),\n",
       "   slice(9, 12, None),\n",
       "   slice(12, 13, None),\n",
       "   slice(13, 16, None),\n",
       "   slice(12, 13, None),\n",
       "   slice(13, 16, None)]},\n",
       " (1,\n",
       "  14,\n",
       "  3,\n",
       "  0,\n",
       "  14,\n",
       "  3,\n",
       "  0): {(0, 0): [slice(0, 1, None),\n",
       "   slice(0, 1, None),\n",
       "   slice(4, 5, None),\n",
       "   slice(4, 5, None),\n",
       "   slice(0, 1, None),\n",
       "   slice(0, 1, None),\n",
       "   slice(8, 9, None),\n",
       "   slice(8, 9, None),\n",
       "   slice(0, 1, None),\n",
       "   slice(0, 1, None),\n",
       "   slice(12, 13, None),\n",
       "   slice(12, 13, None),\n",
       "   slice(4, 5, None),\n",
       "   slice(4, 5, None),\n",
       "   slice(8, 9, None),\n",
       "   slice(8, 9, None),\n",
       "   slice(4, 5, None),\n",
       "   slice(4, 5, None),\n",
       "   slice(12, 13, None),\n",
       "   slice(12, 13, None),\n",
       "   slice(8, 9, None),\n",
       "   slice(8, 9, None),\n",
       "   slice(12, 13, None),\n",
       "   slice(12, 13, None)], (0, 3): [slice(0, 1, None),\n",
       "   slice(0, 1, None),\n",
       "   slice(8, 9, None),\n",
       "   slice(8, 9, None)], (0, 4): [slice(4, 5, None),\n",
       "   slice(4, 5, None),\n",
       "   slice(12, 13, None),\n",
       "   slice(12, 13, None),\n",
       "   slice(8, 9, None),\n",
       "   slice(8, 9, None),\n",
       "   slice(12, 13, None),\n",
       "   slice(12, 13, None)]},\n",
       " (1,\n",
       "  14,\n",
       "  3,\n",
       "  1,\n",
       "  14,\n",
       "  3,\n",
       "  1): {(0, 0): [slice(1, 4, None),\n",
       "   slice(1, 4, None),\n",
       "   slice(5, 8, None),\n",
       "   slice(5, 8, None),\n",
       "   slice(1, 4, None),\n",
       "   slice(1, 4, None),\n",
       "   slice(9, 12, None),\n",
       "   slice(9, 12, None),\n",
       "   slice(1, 4, None),\n",
       "   slice(1, 4, None),\n",
       "   slice(13, 16, None),\n",
       "   slice(13, 16, None),\n",
       "   slice(5, 8, None),\n",
       "   slice(5, 8, None),\n",
       "   slice(9, 12, None),\n",
       "   slice(9, 12, None),\n",
       "   slice(5, 8, None),\n",
       "   slice(5, 8, None),\n",
       "   slice(13, 16, None),\n",
       "   slice(13, 16, None),\n",
       "   slice(9, 12, None),\n",
       "   slice(9, 12, None),\n",
       "   slice(13, 16, None),\n",
       "   slice(13, 16, None)], (0, 3): [slice(1, 4, None),\n",
       "   slice(1, 4, None),\n",
       "   slice(9, 12, None),\n",
       "   slice(9, 12, None)], (0, 4): [slice(5, 8, None),\n",
       "   slice(5, 8, None),\n",
       "   slice(13, 16, None),\n",
       "   slice(13, 16, None),\n",
       "   slice(9, 12, None),\n",
       "   slice(9, 12, None),\n",
       "   slice(13, 16, None),\n",
       "   slice(13, 16, None)]},\n",
       " (1,\n",
       "  14,\n",
       "  3,\n",
       "  0,\n",
       "  14,\n",
       "  3,\n",
       "  1): {(0, 0): [slice(0, 1, None),\n",
       "   slice(1, 4, None),\n",
       "   slice(4, 5, None),\n",
       "   slice(5, 8, None),\n",
       "   slice(0, 1, None),\n",
       "   slice(1, 4, None),\n",
       "   slice(8, 9, None),\n",
       "   slice(9, 12, None),\n",
       "   slice(0, 1, None),\n",
       "   slice(1, 4, None),\n",
       "   slice(12, 13, None),\n",
       "   slice(13, 16, None),\n",
       "   slice(4, 5, None),\n",
       "   slice(5, 8, None),\n",
       "   slice(8, 9, None),\n",
       "   slice(9, 12, None),\n",
       "   slice(4, 5, None),\n",
       "   slice(5, 8, None),\n",
       "   slice(12, 13, None),\n",
       "   slice(13, 16, None),\n",
       "   slice(8, 9, None),\n",
       "   slice(9, 12, None),\n",
       "   slice(12, 13, None),\n",
       "   slice(13, 16, None)], (0, 3): [slice(0, 1, None),\n",
       "   slice(1, 4, None),\n",
       "   slice(8, 9, None),\n",
       "   slice(9, 12, None)], (0, 4): [slice(4, 5, None),\n",
       "   slice(5, 8, None),\n",
       "   slice(12, 13, None),\n",
       "   slice(13, 16, None),\n",
       "   slice(8, 9, None),\n",
       "   slice(9, 12, None),\n",
       "   slice(12, 13, None),\n",
       "   slice(13, 16, None)]}}"
      ]
     },
     "execution_count": 976,
     "metadata": {},
     "output_type": "execute_result"
    }
   ],
   "source": [
    "for k, b in unc_blocks.items():\n",
    "    kl = block_type, ai, ni, li, aj, nj, lj = tuple(k.values.tolist())\n",
    "    \n",
    "    for A,iT in slices[kl]:\n",
    "        slices_ = slices[kl][A,iT]\n",
    "        for s, bp, bm in zip(slices_, factors[kl][A,iT]):\n",
    "            reconstructed_matrices[A][iT] += "
   ]
  },
  {
   "cell_type": "code",
   "execution_count": 972,
   "id": "e41fee26-29a9-479a-b2e0-eb7bfc7cdaa7",
   "metadata": {},
   "outputs": [],
   "source": [
    "def _get_fac(block_type, sort_orbs, ni, nj, li, lj, offsite_perm_fac, bt1_factor):\n",
    "    if block_type == 0:\n",
    "        bp = 0.5 if not sort_orbs else (1 if not (ni == nj and li == lj) else 0.5)\n",
    "        bm = bp * offsite_perm_fac\n",
    "    elif block_type == 2:\n",
    "        bp = 0.5 if not all_pairs else 1\n",
    "        bm = bp * offsite_perm_fac\n",
    "    else:\n",
    "        bp = bt1_factor * offsite_perm_fac \n",
    "        bm = -bt1_factor * offsite_perm_fac \n",
    "    return bp, bm"
   ]
  },
  {
   "cell_type": "code",
   "execution_count": 969,
   "id": "84c95c79-845e-4ad8-8c58-9ae5d76217f1",
   "metadata": {},
   "outputs": [
    {
     "name": "stdout",
     "output_type": "stream",
     "text": [
      "torch.Size([432])\n",
      "torch.Size([27])\n"
     ]
    }
   ],
   "source": [
    "k = next(iter(H_mask))\n",
    "print(reconstructed_matrices[0][H_mask[k][0]].shape)\n",
    "print(unc_blocks[0].values[B_mask[k][0]].shape)"
   ]
  },
  {
   "cell_type": "code",
   "execution_count": 970,
   "id": "0341f80a-7f08-4c7c-8692-3dce5f6f33b1",
   "metadata": {},
   "outputs": [
    {
     "data": {
      "text/plain": [
       "16.0"
      ]
     },
     "execution_count": 970,
     "metadata": {},
     "output_type": "execute_result"
    }
   ],
   "source": [
    "432/27"
   ]
  },
  {
   "cell_type": "code",
   "execution_count": 933,
   "id": "95a736c1-abf0-4f74-9a65-917cd0028890",
   "metadata": {},
   "outputs": [],
   "source": [
    "block_type, ai, ni, li, aj, nj, lj = -1, 14, 3, 0, 14, 3, 1\n",
    "\n",
    "orbs_i = orbs_mult[ai]\n",
    "orbs_j = orbs_mult[aj]\n",
    "\n",
    "shapes = {(k1 + k2): (orbs_i[tuple(k1)], orbs_j[tuple(k2)]) for k1 in orbs_i for k2 in orbs_j}\n",
    "offsets = orbs_offset[(ai, ni, li)], orbs_offset[(aj, nj, lj)]\n",
    "dim = shapes[ni,li,nj,lj]\n",
    "\n",
    "A,i,j,Tx,Ty,Tz=0,0,1,0,0,0\n",
    "iT = T_dict[A][Tx,Ty,Tz]\n",
    "\n",
    "pos_ij = atom_blocks_idx[A,i,j]\n",
    "p = [slice(p+o, p+o+d) for p, o, d in zip(pos_ij, offsets, dim)]"
   ]
  },
  {
   "cell_type": "code",
   "execution_count": 934,
   "id": "e24a1bbf-0997-4c98-b94c-9c5acd6de385",
   "metadata": {},
   "outputs": [],
   "source": [
    "# start = ['i_start', 'j_start']\n",
    "# end = ['phi_end', 'psi_end']\n",
    "# off = ['phi_offset', 'psi_offset']\n",
    "# start = ['i ', 'j ']\n",
    "# end = ['ae ', 'be ']\n",
    "# off = ['ao ', 'bo ']\n",
    "start = pos_ij\n",
    "end = dim\n",
    "offset = offsets\n",
    "\n",
    "import itertools"
   ]
  },
  {
   "cell_type": "code",
   "execution_count": 935,
   "id": "8fc9b2b7-b4e6-4a6c-bf2a-0087e103cff8",
   "metadata": {},
   "outputs": [
    {
     "data": {
      "text/plain": [
       "[(slice(0, 1, None), slice(4, 5, None)),\n",
       " (slice(0, 1, None), slice(5, 8, None)),\n",
       " (slice(1, 4, None), slice(4, 5, None)),\n",
       " (slice(1, 4, None), slice(5, 8, None))]"
      ]
     },
     "execution_count": 935,
     "metadata": {},
     "output_type": "execute_result"
    }
   ],
   "source": [
    "all = [slice(s+o, s+o+e) for s, (o,e) in itertools.product(start, zip(offset, end))]\n",
    "list(itertools.product(all[:2], all[2:]))"
   ]
  },
  {
   "cell_type": "code",
   "execution_count": 914,
   "id": "60ecbee3-fdc0-4175-86b9-7e2d9157115a",
   "metadata": {},
   "outputs": [],
   "source": [
    "first = [((s,o), (s,o,e)) for s, (o,e) in itertools.product(start, zip(off, end))]"
   ]
  },
  {
   "cell_type": "code",
   "execution_count": 900,
   "id": "09349083-5622-4d3d-b995-95b1292e0ecb",
   "metadata": {
    "scrolled": true
   },
   "outputs": [
    {
     "data": {
      "text/plain": [
       "[(('i ao ', 'i ao ae '), ('i ao ', 'i ao ae ')),\n",
       " (('i ao ', 'i ao ae '), ('i ao ', 'i ao be ')),\n",
       " (('i ao ', 'i ao ae '), ('i bo ', 'i bo ae ')),\n",
       " (('i ao ', 'i ao ae '), ('i bo ', 'i bo be ')),\n",
       " (('i ao ', 'i ao ae '), ('j ao ', 'j ao ae ')),\n",
       " (('i ao ', 'i ao ae '), ('j ao ', 'j ao be ')),\n",
       " (('i ao ', 'i ao ae '), ('j bo ', 'j bo ae ')),\n",
       " (('i ao ', 'i ao ae '), ('j bo ', 'j bo be ')),\n",
       " (('i ao ', 'i ao be '), ('i ao ', 'i ao ae ')),\n",
       " (('i ao ', 'i ao be '), ('i ao ', 'i ao be ')),\n",
       " (('i ao ', 'i ao be '), ('i bo ', 'i bo ae ')),\n",
       " (('i ao ', 'i ao be '), ('i bo ', 'i bo be ')),\n",
       " (('i ao ', 'i ao be '), ('j ao ', 'j ao ae ')),\n",
       " (('i ao ', 'i ao be '), ('j ao ', 'j ao be ')),\n",
       " (('i ao ', 'i ao be '), ('j bo ', 'j bo ae ')),\n",
       " (('i ao ', 'i ao be '), ('j bo ', 'j bo be ')),\n",
       " (('i bo ', 'i bo ae '), ('i ao ', 'i ao ae ')),\n",
       " (('i bo ', 'i bo ae '), ('i ao ', 'i ao be ')),\n",
       " (('i bo ', 'i bo ae '), ('i bo ', 'i bo ae ')),\n",
       " (('i bo ', 'i bo ae '), ('i bo ', 'i bo be ')),\n",
       " (('i bo ', 'i bo ae '), ('j ao ', 'j ao ae ')),\n",
       " (('i bo ', 'i bo ae '), ('j ao ', 'j ao be ')),\n",
       " (('i bo ', 'i bo ae '), ('j bo ', 'j bo ae ')),\n",
       " (('i bo ', 'i bo ae '), ('j bo ', 'j bo be ')),\n",
       " (('i bo ', 'i bo be '), ('i ao ', 'i ao ae ')),\n",
       " (('i bo ', 'i bo be '), ('i ao ', 'i ao be ')),\n",
       " (('i bo ', 'i bo be '), ('i bo ', 'i bo ae ')),\n",
       " (('i bo ', 'i bo be '), ('i bo ', 'i bo be ')),\n",
       " (('i bo ', 'i bo be '), ('j ao ', 'j ao ae ')),\n",
       " (('i bo ', 'i bo be '), ('j ao ', 'j ao be ')),\n",
       " (('i bo ', 'i bo be '), ('j bo ', 'j bo ae ')),\n",
       " (('i bo ', 'i bo be '), ('j bo ', 'j bo be ')),\n",
       " (('j ao ', 'j ao ae '), ('i ao ', 'i ao ae ')),\n",
       " (('j ao ', 'j ao ae '), ('i ao ', 'i ao be ')),\n",
       " (('j ao ', 'j ao ae '), ('i bo ', 'i bo ae ')),\n",
       " (('j ao ', 'j ao ae '), ('i bo ', 'i bo be ')),\n",
       " (('j ao ', 'j ao ae '), ('j ao ', 'j ao ae ')),\n",
       " (('j ao ', 'j ao ae '), ('j ao ', 'j ao be ')),\n",
       " (('j ao ', 'j ao ae '), ('j bo ', 'j bo ae ')),\n",
       " (('j ao ', 'j ao ae '), ('j bo ', 'j bo be ')),\n",
       " (('j ao ', 'j ao be '), ('i ao ', 'i ao ae ')),\n",
       " (('j ao ', 'j ao be '), ('i ao ', 'i ao be ')),\n",
       " (('j ao ', 'j ao be '), ('i bo ', 'i bo ae ')),\n",
       " (('j ao ', 'j ao be '), ('i bo ', 'i bo be ')),\n",
       " (('j ao ', 'j ao be '), ('j ao ', 'j ao ae ')),\n",
       " (('j ao ', 'j ao be '), ('j ao ', 'j ao be ')),\n",
       " (('j ao ', 'j ao be '), ('j bo ', 'j bo ae ')),\n",
       " (('j ao ', 'j ao be '), ('j bo ', 'j bo be ')),\n",
       " (('j bo ', 'j bo ae '), ('i ao ', 'i ao ae ')),\n",
       " (('j bo ', 'j bo ae '), ('i ao ', 'i ao be ')),\n",
       " (('j bo ', 'j bo ae '), ('i bo ', 'i bo ae ')),\n",
       " (('j bo ', 'j bo ae '), ('i bo ', 'i bo be ')),\n",
       " (('j bo ', 'j bo ae '), ('j ao ', 'j ao ae ')),\n",
       " (('j bo ', 'j bo ae '), ('j ao ', 'j ao be ')),\n",
       " (('j bo ', 'j bo ae '), ('j bo ', 'j bo ae ')),\n",
       " (('j bo ', 'j bo ae '), ('j bo ', 'j bo be ')),\n",
       " (('j bo ', 'j bo be '), ('i ao ', 'i ao ae ')),\n",
       " (('j bo ', 'j bo be '), ('i ao ', 'i ao be ')),\n",
       " (('j bo ', 'j bo be '), ('i bo ', 'i bo ae ')),\n",
       " (('j bo ', 'j bo be '), ('i bo ', 'i bo be ')),\n",
       " (('j bo ', 'j bo be '), ('j ao ', 'j ao ae ')),\n",
       " (('j bo ', 'j bo be '), ('j ao ', 'j ao be ')),\n",
       " (('j bo ', 'j bo be '), ('j bo ', 'j bo ae ')),\n",
       " (('j bo ', 'j bo be '), ('j bo ', 'j bo be '))]"
      ]
     },
     "execution_count": 900,
     "metadata": {},
     "output_type": "execute_result"
    }
   ],
   "source": [
    "[((s1 + o1, s1 + o1 + e1), (s2 + o2, s2 + o2 + e2)) for (s1,o1,e1), (s2,o2,e2) in itertools.product(itertools.product(start, off, end), repeat = 2)]"
   ]
  },
  {
   "cell_type": "code",
   "execution_count": 949,
   "id": "ed375f22-cafa-46f2-8cb1-9537c94aca1f",
   "metadata": {},
   "outputs": [
    {
     "data": {
      "text/plain": [
       "<matplotlib.colorbar.Colorbar at 0x7d840f6ee4d0>"
      ]
     },
     "execution_count": 949,
     "metadata": {},
     "output_type": "execute_result"
    },
    {
     "data": {
      "image/png": "[encoded data removed]",
      "text/plain": [
       "<Figure size 480x480 with 2 Axes>"
      ]
     },
     "metadata": {},
     "output_type": "display_data"
    }
   ],
   "source": [
    "plt.matshow(sum(mask[kl][0][4] for k in mask))\n",
    "plt.colorbar()"
   ]
  },
  {
   "cell_type": "code",
   "execution_count": 867,
   "id": "a5c1e74c-9218-46b4-96ec-33c0612ee157",
   "metadata": {},
   "outputs": [
    {
     "data": {
      "text/plain": [
       "TensorBlock\n",
       "    samples (9): ['structure', 'center', 'neighbor', 'cell_shift_a', 'cell_shift_b', 'cell_shift_c']\n",
       "    components (3, 3): ['m_i', 'm_j']\n",
       "    properties (1): ['dummy']\n",
       "    gradients: None"
      ]
     },
     "execution_count": 867,
     "metadata": {},
     "output_type": "execute_result"
    }
   ],
   "source": [
    "iphi_jpsi_slice = (slice(i_start + phioffset, i_start + phioffset + phi_end),\n",
    "                   slice(j_start + psioffset, j_start + psioffset + psi_end))\n",
    "ipsi_jphi_slice = (slice(i_start + psioffset, i_start + psioffset + psi_end),\n",
    "                   slice(j_start + phioffset, j_start + phioffset + phi_end))\n",
    "jphi_ipsi_slice = (slice(j_start + phioffset, j_start + phioffset + phi_end),\n",
    "                   slice(i_start + psioffset, i_start + psioffset + psi_end))\n",
    "jpsi_iphi_slice = (slice(j_start + psioffset, j_start + psioffset + psi_end),\n",
    "                   slice(i_start + phioffset, i_start + phioffset + phi_end))"
   ]
  },
  {
   "cell_type": "code",
   "execution_count": 853,
   "id": "976f84e9-9e30-4cf7-91e3-4605f4b0d2ba",
   "metadata": {},
   "outputs": [
    {
     "data": {
      "text/plain": [
       "torch.Size([864])"
      ]
     },
     "execution_count": 853,
     "metadata": {},
     "output_type": "execute_result"
    }
   ],
   "source": [
    "reconstructed_matrices[0][mask[next(iter(mask))][0]].shape"
   ]
  },
  {
   "cell_type": "code",
   "execution_count": 838,
   "id": "7196f211-c894-47c6-acdf-7075e401123a",
   "metadata": {},
   "outputs": [],
   "source": [
    "reconstructed_matrices[0][mask[next(iter(mask))][0]] += torch.ones(864)"
   ]
  },
  {
   "cell_type": "code",
   "execution_count": 839,
   "id": "e41faa78-dee4-42a4-b61f-ea6624e9b1e5",
   "metadata": {},
   "outputs": [
    {
     "data": {
      "text/plain": [
       "tensor([[0., 0., 0., 0., 0., 0., 0., 0., 0., 0., 0., 0., 0., 0., 0., 0.],\n",
       "        [0., 0., 0., 0., 0., 0., 0., 0., 0., 0., 0., 0., 0., 0., 0., 0.],\n",
       "        [0., 0., 0., 0., 0., 0., 0., 0., 0., 0., 0., 0., 0., 0., 0., 0.],\n",
       "        [0., 0., 0., 0., 0., 0., 0., 0., 0., 0., 0., 0., 0., 0., 0., 0.],\n",
       "        [0., 0., 0., 0., 0., 0., 0., 0., 0., 0., 0., 0., 0., 0., 0., 0.],\n",
       "        [1., 1., 1., 1., 1., 1., 1., 1., 1., 1., 1., 1., 1., 1., 1., 1.],\n",
       "        [1., 1., 1., 1., 1., 1., 1., 1., 1., 1., 1., 1., 1., 1., 1., 1.],\n",
       "        [1., 1., 1., 1., 1., 1., 1., 1., 1., 1., 1., 1., 1., 1., 1., 1.],\n",
       "        [0., 0., 0., 0., 0., 0., 0., 0., 0., 0., 0., 0., 0., 0., 0., 0.],\n",
       "        [1., 1., 1., 1., 1., 1., 1., 1., 1., 1., 1., 1., 1., 1., 1., 1.],\n",
       "        [1., 1., 1., 1., 1., 1., 1., 1., 1., 1., 1., 1., 1., 1., 1., 1.],\n",
       "        [1., 1., 1., 1., 1., 1., 1., 1., 1., 1., 1., 1., 1., 1., 1., 1.],\n",
       "        [0., 0., 0., 0., 0., 0., 0., 0., 0., 0., 0., 0., 0., 0., 0., 0.],\n",
       "        [1., 1., 1., 1., 1., 1., 1., 1., 1., 1., 1., 1., 1., 1., 1., 1.],\n",
       "        [1., 1., 1., 1., 1., 1., 1., 1., 1., 1., 1., 1., 1., 1., 1., 1.],\n",
       "        [1., 1., 1., 1., 1., 1., 1., 1., 1., 1., 1., 1., 1., 1., 1., 1.]])"
      ]
     },
     "execution_count": 839,
     "metadata": {},
     "output_type": "execute_result"
    }
   ],
   "source": [
    "reconstructed_matrices[0][1]"
   ]
  },
  {
   "cell_type": "code",
   "execution_count": 772,
   "id": "ad8c029f-55d3-4bb1-a16a-24499e74a859",
   "metadata": {},
   "outputs": [
    {
     "name": "stdout",
     "output_type": "stream",
     "text": [
      "[slice(0, 1, None), slice(5, 8, None)]\n"
     ]
    }
   ],
   "source": [
    "p = [slice(p+o, p+o+d) for p, o, d in zip(pos_ij, offsets, dim)]\n",
    "print(p)"
   ]
  },
  {
   "cell_type": "code",
   "execution_count": 766,
   "id": "e71df678-a14f-4890-bbf3-ecf6e6f52766",
   "metadata": {},
   "outputs": [],
   "source": [
    "mat = torch.zeros(16,16)"
   ]
  },
  {
   "cell_type": "code",
   "execution_count": 779,
   "id": "407af7dc-f03f-4c0b-9771-66a0e42c52e7",
   "metadata": {},
   "outputs": [
    {
     "data": {
      "text/plain": [
       "tensor([[-1,  0,  0],\n",
       "        [-1,  1,  0],\n",
       "        [ 0, -1,  0],\n",
       "        [ 0,  0, -1],\n",
       "        [ 0,  0,  0],\n",
       "        [ 0,  0,  1],\n",
       "        [ 0,  1, -1],\n",
       "        [ 0,  1,  0],\n",
       "        [ 1, -1,  0],\n",
       "        [ 1,  0,  0],\n",
       "        [ 1,  1,  0]], dtype=torch.int32)"
      ]
     },
     "execution_count": 779,
     "metadata": {},
     "output_type": "execute_result"
    }
   ],
   "source": [
    "torch.unique(unc_blocks[0].samples.values[:, 3:], dim=0)"
   ]
  },
  {
   "cell_type": "code",
   "execution_count": 758,
   "id": "ee29c934-17b9-4912-8f1d-edce18367d11",
   "metadata": {},
   "outputs": [
    {
     "ename": "SyntaxError",
     "evalue": "illegal target for annotation (1109963675.py, line 1)",
     "output_type": "error",
     "traceback": [
      "\u001b[0;36m  Cell \u001b[0;32mIn[758], line 1\u001b[0;36m\u001b[0m\n\u001b[0;31m    0:1,5:8\u001b[0m\n\u001b[0m    ^\u001b[0m\n\u001b[0;31mSyntaxError\u001b[0m\u001b[0;31m:\u001b[0m illegal target for annotation\n"
     ]
    }
   ],
   "source": [
    "0:1,5:8"
   ]
  },
  {
   "cell_type": "code",
   "execution_count": 735,
   "id": "b11fc47b-ab0b-4fb3-992d-941c6dac9238",
   "metadata": {},
   "outputs": [
    {
     "data": {
      "text/plain": [
       "(0, 1)"
      ]
     },
     "execution_count": 735,
     "metadata": {},
     "output_type": "execute_result"
    }
   ],
   "source": [
    "offsets"
   ]
  },
  {
   "cell_type": "code",
   "execution_count": 716,
   "id": "e735235f-ad37-4928-9afd-40e49dddc28e",
   "metadata": {},
   "outputs": [
    {
     "data": {
      "text/plain": [
       "1"
      ]
     },
     "execution_count": 716,
     "metadata": {},
     "output_type": "execute_result"
    }
   ],
   "source": [
    "psioffset"
   ]
  },
  {
   "cell_type": "code",
   "execution_count": null,
   "id": "243d8eaf-001d-4f35-a2b2-f0968e061156",
   "metadata": {},
   "outputs": [],
   "source": []
  }
 ],
 "metadata": {
  "kernelspec": {
   "display_name": "Python 3 (ipykernel)",
   "language": "python",
   "name": "python3"
  },
  "language_info": {
   "codemirror_mode": {
    "name": "ipython",
    "version": 3
   },
   "file_extension": ".py",
   "mimetype": "text/x-python",
   "name": "python",
   "nbconvert_exporter": "python",
   "pygments_lexer": "ipython3",
   "version": "3.11.7"
  }
 },
 "nbformat": 4,
 "nbformat_minor": 5
}
