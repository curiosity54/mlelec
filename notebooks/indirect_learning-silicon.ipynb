{
 "cells": [
  {
   "cell_type": "code",
   "execution_count": 1,
   "id": "a3d8f12c-62ee-4d46-b766-c3b49d817fe2",
   "metadata": {},
   "outputs": [],
   "source": [
    "%load_ext autoreload\n",
    "%autoreload 2\n",
    "%load_ext line_profiler"
   ]
  },
  {
   "cell_type": "code",
   "execution_count": 3,
   "id": "635a399b-c69b-4438-bac6-4ba0712d0d06",
   "metadata": {},
   "outputs": [],
   "source": [
    "from ase.io import read\n",
    "from ase.visualize import view\n",
    "import matplotlib.pyplot as plt\n",
    "import numpy as np \n",
    "import torch \n",
    "torch.set_default_dtype(torch.float64)\n",
    "\n",
    "import rascaline.torch\n",
    "\n",
    "import metatensor.torch as mts\n",
    "\n",
    "from metatensor.torch import Labels, TensorBlock, TensorMap\n",
    "from metatensor.learn import IndexedDataset, DataLoader\n",
    "from metatensor.learn.data import group as mts_group, group_and_join as group_and_join_mts\n",
    "\n",
    "from mlelec.data.dataset import QMDataset, split_by_Aij_mts\n",
    "from mlelec.utils.twocenter_utils import _to_coupled_basis\n",
    "# from mlelec.utils.pbc_utils import matrix_to_blocks, kmatrix_to_blocks, TMap_bloch_sums, precompute_phase, kblocks_to_matrix, kmatrix_to_blocks, blocks_to_matrix, blocks_to_matrix_OLD, blocks_to_matrix_working, blocks_to_matrix_try, matrix_to_blocks, blocks_to_matrix_v\n",
    "# from mlelec.utils.pbc_utils import blocks_to_matrix_try, blocks_to_matrix\n",
    "from mlelec.utils.plot_utils import print_matrix, matrix_norm, block_matrix_norm, plot_block_errors\n",
    "from mlelec.features.acdc import compute_features\n",
    "# from mlelec.utils.target_utils import get_targets\n",
    "from mlelec.models.linear_integrated import LinearModelPeriodic\n",
    "from mlelec.metrics import L2_loss, L2_loss_meanzero\n",
    "from mlelec.data.mldataset import MLDataset\n",
    "\n",
    "import xitorch\n",
    "from xitorch.linalg import symeig"
   ]
  },
  {
   "cell_type": "code",
   "execution_count": 4,
   "id": "f0131f6a-72a2-445e-9384-0ba95406c112",
   "metadata": {},
   "outputs": [],
   "source": [
    "device = 'cpu'\n",
    "\n",
    "orbitals = {\n",
    "    'sto-3g': {14: [[1,0,0], [2,0,0], [3,0,0], [2,1,-1], [2,1,0], [2,1,1], [3,1,-1], [3,1,0], [3,1,1]]}, \n",
    "    'def2svp': {6: [[1,0,0],[2,0,0],[3,0,0],[2,1,1], [2,1,-1],[2,1,0], [3,1,1], [3,1,-1],[3,1,0], [3,2,-2], [3,2,-1],[3,2,0], [3,2,1],[3,2,2]]},\n",
    "    'gthdzvp': {14: [[2,0,0], [3,0,0], [2,1,1], [2,1,-1], [2,1,0], [3,1,1], [3,1,-1], [3,1,0], [3,2,-2], [3,2,-1], [3,2,0], [3,2,1], [3,2,2]]},\n",
    "    'gthszv':  {14: [[3,0,0], [3,1,1], [3,1,-1], [3,1,0]]}\n",
    "}"
   ]
  },
  {
   "cell_type": "markdown",
   "id": "61756a8d-5fbe-4fd2-9521-4a4604762d6d",
   "metadata": {},
   "source": [
    "# QM dataset"
   ]
  },
  {
   "cell_type": "code",
   "execution_count": 5,
   "id": "6eb0a40d-b9f9-4cb6-b501-683d7d25b3bf",
   "metadata": {},
   "outputs": [],
   "source": [
    "# from ase.build import bulk\n",
    "# from ase import Atoms\n",
    "# frames = []\n",
    "# frames.append(bulk('NaCl', 'rocksalt', a = 5.7, cubic = True))\n",
    "# frames.append(bulk('Si', 'diamond', a = 6, cubic = True))\n",
    "# frames.append(bulk('MgO', 'zincblende', a = 4, cubic = True))\n",
    "# kfock = []\n",
    "# kover = []\n",
    "# kmesh = [[1,2,3],[4,5,6],[1,3,5]]\n",
    "# orbitals = {\n",
    "#                11: [[1,0,0],[2,0,0],[3,0,0],[2,1,-1], [2,1,0],[2,1,1]], \n",
    "#                17: [[1,0,0],[2,0,0],[3,0,0],[2,1,-1], [2,1,0],[2,1,1], [3,1,-1],[3,1,0],[3,1,1]], \n",
    "#                14: [[1,0,0],[2,0,0],[3,0,0],[2,1,-1], [2,1,0],[2,1,1], [3,1,-1],[3,1,0],[3,1,1]],\n",
    "#                12: [[1,0,0],[2,0,0],[3,0,0],[2,1,-1], [2,1,0],[2,1,1]],\n",
    "#                8: [[1,0,0],[2,0,0],[2,1,-1], [2,1,0],[2,1,1]],\n",
    "#                }\n",
    "# for ifr, f in enumerate(frames):\n",
    "#     nao = np.sum([len(orbitals[i]) for i in f.numbers])\n",
    "#     a = torch.randn(np.prod(kmesh[ifr]), nao,nao, dtype = torch.complex128)\n",
    "#     a = a+a.transpose(2,1).conj()\n",
    "#     kfock.append(a)\n",
    "#     b =torch.randn(np.prod(kmesh[ifr]), nao,nao, dtype = torch.complex128)\n",
    "#     b = b+b.transpose(2,1)\n",
    "#     kover.append(torch.einsum('aij, akj ->aik', b,b.conj()))\n",
    "\n"
   ]
  },
  {
   "cell_type": "code",
   "execution_count": 6,
   "id": "2b6f07c6-4edd-4499-aff4-44802b24a77b",
   "metadata": {},
   "outputs": [],
   "source": [
    "import sys\n",
    "from pyscf import lib\n",
    "log = lib.logger.Logger(sys.stdout, 0)"
   ]
  },
  {
   "cell_type": "code",
   "execution_count": null,
   "id": "04f93f20-c40a-4f0f-a0dd-3a83b57025c9",
   "metadata": {},
   "outputs": [],
   "source": []
  },
  {
   "cell_type": "code",
   "execution_count": 204,
   "id": "0cb8d851-377b-4bd5-a632-397f666731e1",
   "metadata": {},
   "outputs": [
    {
     "name": "stderr",
     "output_type": "stream",
     "text": [
      "WARNING!\n",
      "  Very diffused basis functions are found in the basis set. They may lead to severe\n",
      "  linear dependence and numerical instability.  You can set  cell.exp_to_discard=0.1\n",
      "  to remove the diffused Gaussians whose exponents are less than 0.1.\n",
      "\n"
     ]
    }
   ],
   "source": [
    "workdir = '/scratch/pegolo/silicon_deringer'\n",
    "START = 1\n",
    "STOP = 2\n",
    "ORBS = 'gthszv'\n",
    "baseline = True\n",
    "\n",
    "root = f'{workdir}/{ORBS}'\n",
    "data_dir = root\n",
    "\n",
    "indices = range(START,STOP)\n",
    "\n",
    "frames = [read(f'{data_dir}/{i}/cell_{i}.xyz') for i in indices]\n",
    "rfock = [np.load(f\"{data_dir}/{i}/realfock_{i}.npy\", allow_pickle = True).item() for i in indices]\n",
    "rfock0 = [np.load(f\"{data_dir}/{i}/realfock0_{i}.npy\", allow_pickle = True).item() for i in range(START, STOP)]\n",
    "rover = [np.load(f\"{data_dir}/{i}/realoverlap_{i}.npy\", allow_pickle = True).item() for i in indices]\n",
    "kmesh = [np.loadtxt(f'{data_dir}/{i}/kmesh_{i}.dat', dtype = np.int32).tolist() for i in indices]\n",
    "\n",
    "if baseline:\n",
    "    for H, H0 in zip(rfock, rfock0):\n",
    "        for T in H:\n",
    "            H[T] -= H0[T]\n",
    "\n",
    "qmdata = QMDataset(frames = frames, \n",
    "                   kmesh = kmesh, \n",
    "                   dimension = 3,\n",
    "                   fock_realspace = rfock, \n",
    "                   overlap_realspace = rover, \n",
    "                   device = device, \n",
    "                   orbs = orbitals[ORBS],\n",
    "                   orbs_name = ORBS)"
   ]
  },
  {
   "cell_type": "code",
   "execution_count": 205,
   "id": "e4d7fe85-f60f-47b3-a0c1-90b94b346309",
   "metadata": {},
   "outputs": [],
   "source": [
    "max_radial  = 2\n",
    "max_angular = 2\n",
    "atomic_gaussian_width = 0.3\n",
    "cutoff = 5\n",
    "\n",
    "hypers_pair = {'cutoff': cutoff,\n",
    "               'max_radial': max_radial,\n",
    "               'max_angular': max_angular,\n",
    "               'atomic_gaussian_width': atomic_gaussian_width,\n",
    "               'center_atom_weight': 1,\n",
    "               \"radial_basis\": {\"Gto\": {}},\n",
    "               \"cutoff_function\": {\"ShiftedCosine\": {\"width\": 0.5}}}\n",
    "\n",
    "hypers_atom = {'cutoff': 4,\n",
    "               'max_radial': max_radial,\n",
    "               'max_angular': max_angular,\n",
    "               'atomic_gaussian_width': 0.5,\n",
    "               'center_atom_weight': 1,\n",
    "               \"radial_basis\": {\"Gto\": {}},\n",
    "               \"cutoff_function\": {\"ShiftedCosine\": {\"width\": 0.5}}}\n",
    "\n",
    "\n",
    "return_rho0ij = False\n",
    "both_centers = False\n",
    "LCUT = 3"
   ]
  },
  {
   "cell_type": "code",
   "execution_count": 206,
   "id": "d6bf1939-37c5-4116-ba50-deb4e0b68b05",
   "metadata": {},
   "outputs": [
    {
     "name": "stdout",
     "output_type": "stream",
     "text": [
      "cpu pair features\n",
      "cpu single center features\n",
      "cpu single center features\n",
      "Features set\n",
      "Items set\n"
     ]
    }
   ],
   "source": [
    "mldata = MLDataset(qmdata, \n",
    "                   item_names = ['fock_blocks', 'fock_kspace', 'overlap_kspace', 'eigenvalues', 'atom_resolved_density'],\n",
    "                   # features = mldata.features,\n",
    "                   cutoff = hypers_pair['cutoff'],\n",
    "                   hypers_atom = hypers_atom,\n",
    "                   hypers_pair = hypers_pair,\n",
    "                   lcut = 3,\n",
    "                   orbitals_to_properties = True,\n",
    "                   train_frac = 0.5,\n",
    "                   # test_frac = 0.0,\n",
    "                   val_frac = 0.5\n",
    "                  )"
   ]
  },
  {
   "cell_type": "code",
   "execution_count": 207,
   "id": "7ca0d369-4eab-4c8f-9fcb-46ffc9881520",
   "metadata": {},
   "outputs": [],
   "source": [
    "mldata._split_indices(train_frac = 1.0)\n",
    "mldata._split_items(mldata.train_frac, mldata.val_frac, mldata.test_frac)"
   ]
  },
  {
   "cell_type": "code",
   "execution_count": 208,
   "id": "15009490-bc7a-4693-a437-13f0e3cbb908",
   "metadata": {},
   "outputs": [],
   "source": [
    "dl = DataLoader(mldata.train_dataset, batch_size = 1, collate_fn = mldata.group_and_join)"
   ]
  },
  {
   "cell_type": "code",
   "execution_count": 209,
   "id": "1c6f88a4",
   "metadata": {},
   "outputs": [],
   "source": [
    "seed = 0\n",
    "torch.manual_seed(seed)\n",
    "np.random.seed(seed)\n",
    "\n",
    "model = LinearModelPeriodic(twocfeat = mldata.features, \n",
    "                            target_blocks = mldata.model_metadata,\n",
    "                            frames = qmdata.structures, \n",
    "                            orbitals = qmdata.basis, \n",
    "                            device = device,\n",
    "                            nhidden = 4, \n",
    "                            nlayers = 1,\n",
    "                            activation = 'SiLU',\n",
    "                            apply_norm = True\n",
    "                           )\n",
    "model = model.double()"
   ]
  },
  {
   "cell_type": "markdown",
   "id": "b1bc2393-765a-4953-bcab-4f3cd78af2b1",
   "metadata": {},
   "source": [
    "### Train k matrix "
   ]
  },
  {
   "cell_type": "code",
   "execution_count": 11,
   "id": "223428a9",
   "metadata": {},
   "outputs": [],
   "source": [
    "optimizer = torch.optim.Adam(model.parameters(), lr = 1e-2, weight_decay = 1e-4)\n",
    "scheduler = torch.optim.lr_scheduler.ReduceLROnPlateau(optimizer, factor = 0.8, patience = 20)"
   ]
  },
  {
   "cell_type": "code",
   "execution_count": 53,
   "id": "5513af72-413d-4a3b-8547-69ccf4b241de",
   "metadata": {},
   "outputs": [],
   "source": [
    "# phase, _, _ = precompute_phase(mts.join(mldata.items['fockblocks'], axis = 'samples', different_keys =  'union', remove_tensor_name = True), dataset, cutoff = 6)"
   ]
  },
  {
   "cell_type": "code",
   "execution_count": 18,
   "id": "4db227b8-a0b6-4871-b91f-c926f3ef7ccf",
   "metadata": {},
   "outputs": [
    {
     "name": "stdout",
     "output_type": "stream",
     "text": [
      "Epoch       0, train loss    0.5335819398\n",
      "Epoch       1, train loss    0.3916060491\n",
      "Epoch       2, train loss    0.5434382998\n",
      "Epoch       3, train loss    0.3726646074\n",
      "Epoch       4, train loss    0.2301739980\n",
      "Epoch       5, train loss    0.3412237047\n",
      "Epoch       6, train loss    0.2755573443\n",
      "Epoch       7, train loss    0.1416181781\n",
      "Epoch       8, train loss    0.2080088059\n",
      "Epoch       9, train loss    0.2174610598\n",
      "Epoch      10, train loss    0.1150081834\n",
      "Epoch      11, train loss    0.1419007925\n",
      "Epoch      12, train loss    0.1604470981\n",
      "Epoch      13, train loss    0.0978858416\n",
      "Epoch      14, train loss    0.1000841783\n",
      "Epoch      15, train loss    0.1321021479\n",
      "Epoch      16, train loss    0.0874082486\n",
      "Epoch      17, train loss    0.0683127567\n",
      "Epoch      18, train loss    0.0975076232\n",
      "Epoch      19, train loss    0.0800448686\n",
      "Epoch      20, train loss    0.0500280544\n",
      "Epoch      21, train loss    0.0671913389\n"
     ]
    },
    {
     "ename": "KeyboardInterrupt",
     "evalue": "",
     "output_type": "error",
     "traceback": [
      "\u001b[0;31m---------------------------------------------------------------------------\u001b[0m",
      "\u001b[0;31mKeyboardInterrupt\u001b[0m                         Traceback (most recent call last)",
      "Cell \u001b[0;32mIn[18], line 12\u001b[0m\n\u001b[1;32m      9\u001b[0m model\u001b[38;5;241m.\u001b[39mtrain(\u001b[38;5;28;01mTrue\u001b[39;00m)\n\u001b[1;32m     10\u001b[0m optimizer\u001b[38;5;241m.\u001b[39mzero_grad()\n\u001b[0;32m---> 12\u001b[0m pred \u001b[38;5;241m=\u001b[39m \u001b[43mmodel\u001b[49m\u001b[38;5;241;43m.\u001b[39;49m\u001b[43mforward\u001b[49m\u001b[43m(\u001b[49m\u001b[43mbatch\u001b[49m\u001b[38;5;241;43m.\u001b[39;49m\u001b[43mfeatures\u001b[49m\u001b[43m,\u001b[49m\u001b[43m \u001b[49m\u001b[43mmldata\u001b[49m\u001b[38;5;241;43m.\u001b[39;49m\u001b[43mmodel_metadata\u001b[49m\u001b[43m)\u001b[49m\n\u001b[1;32m     13\u001b[0m HT \u001b[38;5;241m=\u001b[39m blocks_to_matrix(pred, qmdata, detach \u001b[38;5;241m=\u001b[39m \u001b[38;5;28;01mFalse\u001b[39;00m)\n\u001b[1;32m     14\u001b[0m HK \u001b[38;5;241m=\u001b[39m [qmdata\u001b[38;5;241m.\u001b[39mbloch_sum(HT)[ifr] \u001b[38;5;28;01mfor\u001b[39;00m ifr \u001b[38;5;129;01min\u001b[39;00m batch\u001b[38;5;241m.\u001b[39msample_id]\n",
      "File \u001b[0;32m~/Software/mlelec/src/mlelec/models/linear_integrated.py:600\u001b[0m, in \u001b[0;36mLinearModelPeriodic.forward\u001b[0;34m(self, features, target_blocks, return_matrix)\u001b[0m\n\u001b[1;32m    598\u001b[0m     feat \u001b[38;5;241m=\u001b[39m map_targetkeys_to_featkeys_integrated(features, k)\n\u001b[1;32m    599\u001b[0m     nsamples, ncomp, _ \u001b[38;5;241m=\u001b[39m feat\u001b[38;5;241m.\u001b[39mvalues\u001b[38;5;241m.\u001b[39mshape\n\u001b[0;32m--> 600\u001b[0m     pred \u001b[38;5;241m=\u001b[39m \u001b[38;5;28mself\u001b[39m\u001b[38;5;241m.\u001b[39mblockmodels[\u001b[38;5;28mstr\u001b[39m(\u001b[38;5;28mtuple\u001b[39m(k))](feat\u001b[38;5;241m.\u001b[39mvalues)\n\u001b[1;32m    601\u001b[0m     pred_blocks\u001b[38;5;241m.\u001b[39mappend(\n\u001b[1;32m    602\u001b[0m         TensorBlock(\n\u001b[1;32m    603\u001b[0m             values\u001b[38;5;241m=\u001b[39mpred, \u001b[38;5;66;03m#.reshape((nsamples, ncomp, 1)),\u001b[39;00m\n\u001b[0;32m   (...)\u001b[0m\n\u001b[1;32m    607\u001b[0m         )\n\u001b[1;32m    608\u001b[0m     )\n\u001b[1;32m    609\u001b[0m \u001b[38;5;28;01melse\u001b[39;00m:\n",
      "\u001b[0;31mKeyboardInterrupt\u001b[0m: "
     ]
    }
   ],
   "source": [
    "nepoch = 5000\n",
    "for epoch in range(nepoch):\n",
    "\n",
    "    epoch_loss = 0\n",
    "\n",
    "    # Train against real space targets\n",
    "    for ib, batch in enumerate(dl):\n",
    "        \n",
    "        model.train(True)\n",
    "        optimizer.zero_grad()\n",
    "        \n",
    "        pred = model.forward(batch.features, mldata.model_metadata)\n",
    "        HT = blocks_to_matrix(pred, qmdata, detach = False)\n",
    "        HK = [qmdata.bloch_sum(HT)[ifr] for ifr in batch.sample_id]\n",
    "\n",
    "        loss = L2_loss(HK, batch.fock_kspace)\n",
    "        \n",
    "        loss.backward()\n",
    "        optimizer.step()\n",
    "        \n",
    "        epoch_loss += loss.item()\n",
    "    \n",
    "    scheduler.step(epoch_loss)\n",
    "    \n",
    "    if epoch >= 0: #% 10 == 0:\n",
    "        print(f\"Epoch {epoch:>7d}, train loss {epoch_loss:>15.10f}\")"
   ]
  },
  {
   "cell_type": "code",
   "execution_count": null,
   "id": "689a7b49-6077-4a9d-a683-938839dfd357",
   "metadata": {},
   "outputs": [],
   "source": []
  },
  {
   "cell_type": "code",
   "execution_count": null,
   "id": "5283cb5d-305c-439a-abc2-ec95772802dc",
   "metadata": {},
   "outputs": [],
   "source": []
  },
  {
   "cell_type": "markdown",
   "id": "729c7a30-48ee-4e2a-9337-94b8ef9fd442",
   "metadata": {},
   "source": [
    "### Train eigvals"
   ]
  },
  {
   "cell_type": "code",
   "execution_count": 35,
   "id": "10c160ee-1f58-4529-bbcc-d1793fbfdd1a",
   "metadata": {},
   "outputs": [],
   "source": [
    "seed = 0\n",
    "torch.manual_seed(seed)\n",
    "np.random.seed(seed)\n",
    "\n",
    "model = LinearModelPeriodic(twocfeat = mldata.features, \n",
    "                            target_blocks = mldata.model_metadata,\n",
    "                            frames = qmdata.structures, \n",
    "                            orbitals = qmdata.basis, \n",
    "                            device = device,\n",
    "                            nhidden = 4, \n",
    "                            nlayers = 1,\n",
    "                            activation = 'SiLU',\n",
    "                            apply_norm = True\n",
    "                           )\n",
    "model = model.double()"
   ]
  },
  {
   "cell_type": "code",
   "execution_count": 36,
   "id": "d4a9444b-d674-4ec0-b7c2-c35bc5d002ce",
   "metadata": {},
   "outputs": [],
   "source": [
    "optimizer = torch.optim.Adam(model.parameters(), lr = 1e-2, weight_decay = 1e-4)\n",
    "scheduler = torch.optim.lr_scheduler.ReduceLROnPlateau(optimizer, factor = 0.8, patience = 20)"
   ]
  },
  {
   "cell_type": "code",
   "execution_count": 37,
   "id": "634298e4",
   "metadata": {},
   "outputs": [],
   "source": [
    "from mlelec.metrics import Eigval_loss, L2_loss_meanzero, L2_loss\n",
    "loss_fn = Eigval_loss #L2_loss #_meanzero"
   ]
  },
  {
   "cell_type": "code",
   "execution_count": 38,
   "id": "e02ff13e-0ca7-4783-966e-ce8533385704",
   "metadata": {},
   "outputs": [],
   "source": [
    "from mlelec.utils.pbc_utils import blocks_to_matrix"
   ]
  },
  {
   "cell_type": "code",
   "execution_count": 213,
   "id": "23a3d87d",
   "metadata": {},
   "outputs": [],
   "source": [
    "def compute_eigval(A, M, return_eigenvectors = False):\n",
    "    Ax = xitorch.LinearOperator.m(A)\n",
    "    Mx = xitorch.LinearOperator.m(M) if M is not None else None\n",
    "\n",
    "    # Compute eigenvalues and eigenvectors\n",
    "    eigvals, eigvecs = symeig(Ax, M = Mx)\n",
    "    if return_eigenvectors:\n",
    "        return eigvals, eigvecs\n",
    "    else:\n",
    "        return eigvals\n",
    "\n",
    "\n",
    "from mlelec.data.mldataset import _sqrtm_newton_schulz\n",
    "def compute_ard(A, M, frame, basis):\n",
    "\n",
    "    natm = len(frame)\n",
    "    nelec = sum(frame.numbers)\n",
    "    split_idx = [len(basis[s]) for s in frame.numbers]\n",
    "    \n",
    "    eigvals, eigvecs = compute_eigval(A, M, return_eigenvectors = True)\n",
    "\n",
    "    T = []\n",
    "    for C, S in zip(eigvecs, M):\n",
    "        occ = torch.tensor([2.0+0.0j if i <= nelec//2 else 0.0+0.0j for i in range(C.shape[0])], dtype = torch.complex128, requires_grad = True)\n",
    "    \n",
    "        # Compute the one-particle density matrix\n",
    "        rho = torch.einsum('n,in,jn', occ, C, C.conj())\n",
    "    \n",
    "        if True:\n",
    "            # Compute the population matrix\n",
    "            sqrt_S, _ = _sqrtm_newton_schulz(S)\n",
    "    \n",
    "            P = sqrt_S @ rho @ sqrt_S\n",
    "        else:\n",
    "            # Use rho\n",
    "            P = rho\n",
    "    \n",
    "        # Compute the matrix elements of the atom resolved density matrix\n",
    "        blocks = [block for slice_ in torch.split(P, split_idx, dim = 0) for block in torch.split(slice_, split_idx, dim = 1)]\n",
    "        T.append(torch.tensor([torch.norm(b) for b in blocks], device = device, requires_grad = True).reshape(natm, natm))\n",
    "\n",
    "    return torch.stack(T), eigvals"
   ]
  },
  {
   "cell_type": "code",
   "execution_count": 40,
   "id": "bc34e92f",
   "metadata": {},
   "outputs": [
    {
     "name": "stdout",
     "output_type": "stream",
     "text": [
      "Epoch       0, train loss  963.1487859939\n",
      "Epoch       1, train loss 3162.1548635390\n",
      "Epoch       2, train loss  396.1590281759\n"
     ]
    },
    {
     "ename": "KeyboardInterrupt",
     "evalue": "",
     "output_type": "error",
     "traceback": [
      "\u001b[0;31m---------------------------------------------------------------------------\u001b[0m",
      "\u001b[0;31mKeyboardInterrupt\u001b[0m                         Traceback (most recent call last)",
      "Cell \u001b[0;32mIn[40], line 21\u001b[0m\n\u001b[1;32m     19\u001b[0m pred_ard \u001b[38;5;241m=\u001b[39m []\n\u001b[1;32m     20\u001b[0m \u001b[38;5;28;01mfor\u001b[39;00m ifr, hk, sk \u001b[38;5;129;01min\u001b[39;00m \u001b[38;5;28mzip\u001b[39m(batch\u001b[38;5;241m.\u001b[39msample_id, HK, batch\u001b[38;5;241m.\u001b[39moverlap_kspace):\n\u001b[0;32m---> 21\u001b[0m     ard, eig \u001b[38;5;241m=\u001b[39m \u001b[43mcompute_ard\u001b[49m\u001b[43m(\u001b[49m\u001b[43mhk\u001b[49m\u001b[43m,\u001b[49m\u001b[43m \u001b[49m\u001b[43msk\u001b[49m\u001b[43m,\u001b[49m\u001b[43m \u001b[49m\u001b[43mqmdata\u001b[49m\u001b[38;5;241;43m.\u001b[39;49m\u001b[43mstructures\u001b[49m\u001b[43m[\u001b[49m\u001b[43mifr\u001b[49m\u001b[43m]\u001b[49m\u001b[43m,\u001b[49m\u001b[43m \u001b[49m\u001b[43mqmdata\u001b[49m\u001b[38;5;241;43m.\u001b[39;49m\u001b[43mbasis\u001b[49m\u001b[43m)\u001b[49m\n\u001b[1;32m     22\u001b[0m     pred_ard\u001b[38;5;241m.\u001b[39mappend(ard)\n\u001b[1;32m     23\u001b[0m     pred_eigvals\u001b[38;5;241m.\u001b[39mappend(eig)\n",
      "Cell \u001b[0;32mIn[39], line 31\u001b[0m, in \u001b[0;36mcompute_ard\u001b[0;34m(A, M, frame, basis)\u001b[0m\n\u001b[1;32m     27\u001b[0m rho \u001b[38;5;241m=\u001b[39m torch\u001b[38;5;241m.\u001b[39meinsum(\u001b[38;5;124m'\u001b[39m\u001b[38;5;124mn,in,jn\u001b[39m\u001b[38;5;124m'\u001b[39m, occ, C, C\u001b[38;5;241m.\u001b[39mconj())\n\u001b[1;32m     29\u001b[0m \u001b[38;5;28;01mif\u001b[39;00m \u001b[38;5;28;01mTrue\u001b[39;00m:\n\u001b[1;32m     30\u001b[0m     \u001b[38;5;66;03m# Compute the population matrix\u001b[39;00m\n\u001b[0;32m---> 31\u001b[0m     sqrt_S, _ \u001b[38;5;241m=\u001b[39m \u001b[43m_sqrtm_newton_schulz\u001b[49m\u001b[43m(\u001b[49m\u001b[43mS\u001b[49m\u001b[43m)\u001b[49m\n\u001b[1;32m     33\u001b[0m     P \u001b[38;5;241m=\u001b[39m sqrt_S \u001b[38;5;241m@\u001b[39m rho \u001b[38;5;241m@\u001b[39m sqrt_S\n\u001b[1;32m     34\u001b[0m \u001b[38;5;28;01melse\u001b[39;00m:\n\u001b[1;32m     35\u001b[0m     \u001b[38;5;66;03m# Use rho\u001b[39;00m\n",
      "File \u001b[0;32m~/Software/mlelec/src/mlelec/data/mldataset.py:728\u001b[0m, in \u001b[0;36m_sqrtm_newton_schulz\u001b[0;34m(matrix, num_iters)\u001b[0m\n\u001b[1;32m    726\u001b[0m T \u001b[38;5;241m=\u001b[39m \u001b[38;5;241m0.5\u001b[39m \u001b[38;5;241m*\u001b[39m (\u001b[38;5;241m3.0\u001b[39m \u001b[38;5;241m*\u001b[39m I \u001b[38;5;241m-\u001b[39m Z\u001b[38;5;241m.\u001b[39mmm(Y))\n\u001b[1;32m    727\u001b[0m Y \u001b[38;5;241m=\u001b[39m Y\u001b[38;5;241m.\u001b[39mmm(T)\n\u001b[0;32m--> 728\u001b[0m Z \u001b[38;5;241m=\u001b[39m \u001b[43mT\u001b[49m\u001b[38;5;241;43m.\u001b[39;49m\u001b[43mmm\u001b[49m\u001b[43m(\u001b[49m\u001b[43mZ\u001b[49m\u001b[43m)\u001b[49m\n\u001b[1;32m    730\u001b[0m s_matrix \u001b[38;5;241m=\u001b[39m Y \u001b[38;5;241m*\u001b[39m torch\u001b[38;5;241m.\u001b[39msqrt(norm_of_matrix)\n\u001b[1;32m    731\u001b[0m error \u001b[38;5;241m=\u001b[39m _approximation_error(matrix, s_matrix)\n",
      "\u001b[0;31mKeyboardInterrupt\u001b[0m: "
     ]
    }
   ],
   "source": [
    "nepoch = 5000\n",
    "for epoch in range(nepoch):\n",
    "\n",
    "    epoch_loss = 0\n",
    "\n",
    "    # Train against real space targets\n",
    "    for ib, batch in enumerate(dl):\n",
    "        \n",
    "        model.train(True)\n",
    "        optimizer.zero_grad()\n",
    "        \n",
    "        pred = model.forward(batch.features, mldata.model_metadata)\n",
    "        HT = blocks_to_matrix(pred, qmdata, detach = False)\n",
    "        HK = qmdata.bloch_sum(HT)\n",
    "        HK = [HK[ifr] for ifr in batch.sample_id]\n",
    "        \n",
    "        # pred_eigvals = [torch.stack([compute_eigval(h, s) for h, s in zip(hk, sk)]) for hk, sk in zip(HK, batch.overlap_kspace)]\n",
    "        pred_eigvals = []\n",
    "        pred_ard = []\n",
    "        for ifr, hk, sk in zip(batch.sample_id, HK, batch.overlap_kspace):\n",
    "            ard, eig = compute_ard(hk, sk, qmdata.structures[ifr], qmdata.basis)\n",
    "            pred_ard.append(ard)\n",
    "            pred_eigvals.append(eig)\n",
    "        \n",
    "        loss = loss_fn(pred_eigvals, batch.eigenvalues) + loss_fn(pred_ard, batch.atom_resolved_density)\n",
    "        \n",
    "        loss.backward()\n",
    "        optimizer.step()\n",
    "        \n",
    "        epoch_loss += loss.item()\n",
    "    \n",
    "    scheduler.step(epoch_loss)\n",
    "    \n",
    "    if epoch >= 0: #% 10 == 0:\n",
    "        print(f\"Epoch {epoch:>7d}, train loss {epoch_loss:>15.10f}\")"
   ]
  },
  {
   "cell_type": "markdown",
   "id": "eb18db7a-c223-4945-9f30-6f62cbed13fb",
   "metadata": {},
   "source": [
    "# Optimize blocks_to_matrix"
   ]
  },
  {
   "cell_type": "code",
   "execution_count": 140,
   "id": "fbe4b343-083a-4a05-add0-87f41027bea3",
   "metadata": {},
   "outputs": [],
   "source": [
    "from mlelec.utils._utils import blocks_to_matrix_opt\n",
    "from mlelec.utils.pbc_utils import blocks_to_matrix\n",
    "from mlelec.utils.pbc_utils import blocks_to_matrix_working\n",
    "from mlelec.utils.twocenter_utils import _to_uncoupled_basis\n",
    "from mlelec.utils.symmetry import ClebschGordanReal\n",
    "cg = ClebschGordanReal(3, device=device)"
   ]
  },
  {
   "cell_type": "code",
   "execution_count": 165,
   "id": "c908a017-9df5-42c8-bd69-1bfd7caa9ab2",
   "metadata": {},
   "outputs": [],
   "source": [
    "blocks = mldata.items['fock_blocks']\n",
    "unc_blocks = _to_uncoupled_basis(blocks, cg = cg)"
   ]
  },
  {
   "cell_type": "code",
   "execution_count": 174,
   "id": "2bf411b9-bf07-4d71-92ce-c06b7fdb3f92",
   "metadata": {},
   "outputs": [],
   "source": [
    "a=torch.tensor(1)\n",
    "a+=a"
   ]
  },
  {
   "cell_type": "code",
   "execution_count": 189,
   "id": "384c3f2b-4db8-425f-950b-8879875488dd",
   "metadata": {},
   "outputs": [],
   "source": [
    "bl = model.forward(mldata.features)\n",
    "unc_blocks = _to_uncoupled_basis(bl, cg = cg)"
   ]
  },
  {
   "cell_type": "code",
   "execution_count": 193,
   "id": "5d0675d3-ea8d-448f-b8dd-5c418e66a884",
   "metadata": {},
   "outputs": [],
   "source": [
    "b_orig = blocks_to_matrix(unc_blocks, qmdata, detach = True)"
   ]
  },
  {
   "cell_type": "code",
   "execution_count": 196,
   "id": "6fb9dad2-3dee-4dcf-91d4-ee779e725c41",
   "metadata": {},
   "outputs": [],
   "source": [
    "b_opt = blocks_to_matrix_opt(unc_blocks, qmdata, detach = True, check_hermiticity =False)"
   ]
  },
  {
   "cell_type": "code",
   "execution_count": 197,
   "id": "51382fef-4c15-4450-8cb5-8a3998c4c95a",
   "metadata": {},
   "outputs": [
    {
     "name": "stdout",
     "output_type": "stream",
     "text": [
      "tensor(0.)\n",
      "tensor(0.)\n",
      "tensor(0.)\n",
      "tensor(0.)\n",
      "tensor(0.)\n",
      "tensor(0.)\n",
      "tensor(0.)\n",
      "tensor(0.)\n",
      "tensor(0.)\n",
      "tensor(0.)\n",
      "tensor(0.)\n",
      "tensor(0.)\n",
      "tensor(0.)\n",
      "tensor(0.)\n",
      "tensor(0.)\n",
      "tensor(0.)\n",
      "tensor(0.)\n",
      "tensor(0.)\n",
      "tensor(0.)\n",
      "tensor(0.)\n",
      "tensor(0.)\n"
     ]
    }
   ],
   "source": [
    "for T in b_opt[0]:\n",
    "    mT = tuple(-t for t in T)\n",
    "    print(torch.norm((b_opt[0][T]) - b_orig[0][T]))\n",
    "    # print(torch.norm((b_opt[0][T] + b_opt[0][mT].T) - b_orig[0][T]))"
   ]
  },
  {
   "cell_type": "code",
   "execution_count": 68,
   "id": "af113c47-a560-43eb-a8e9-e6c1a90db5fc",
   "metadata": {},
   "outputs": [
    {
     "name": "stdout",
     "output_type": "stream",
     "text": [
      "516 ms ± 11 ms per loop (mean ± std. dev. of 7 runs, 1 loop each)\n"
     ]
    }
   ],
   "source": [
    "%%timeit\n",
    "b1 = blocks_to_matrix(blocks, qmdata, cg = cg, detach = True, check_hermiticity = False)"
   ]
  },
  {
   "cell_type": "code",
   "execution_count": 183,
   "id": "803ff953-b7bd-4ef8-81d7-425fd2a87033",
   "metadata": {},
   "outputs": [
    {
     "name": "stdout",
     "output_type": "stream",
     "text": [
      "227 ms ± 1.53 ms per loop (mean ± std. dev. of 7 runs, 1 loop each)\n"
     ]
    }
   ],
   "source": [
    "%%timeit\n",
    "b1 = blocks_to_matrix_opt(blocks, qmdata, cg = cg, detach = True, check_hermiticity = False)"
   ]
  },
  {
   "cell_type": "code",
   "execution_count": 12,
   "id": "dfa47079-0b1a-4f7c-9718-2a81547f058f",
   "metadata": {},
   "outputs": [],
   "source": [
    "from mlelec.utils.twocenter_utils import _to_uncoupled_basis"
   ]
  },
  {
   "cell_type": "code",
   "execution_count": 54,
   "id": "776a19f7-aa06-4356-ac69-c550f3427b26",
   "metadata": {
    "scrolled": true
   },
   "outputs": [],
   "source": [
    "batch = next(iter(dl))"
   ]
  },
  {
   "cell_type": "code",
   "execution_count": 59,
   "id": "4c84d796-20f3-4753-bfba-9293e52f156f",
   "metadata": {},
   "outputs": [],
   "source": [
    "inters, m1, m2 = blocks[0].samples.intersection_and_mapping(batch.fock_blocks[0].samples)"
   ]
  },
  {
   "cell_type": "code",
   "execution_count": 70,
   "id": "ed490e8e-bc93-420a-b99a-854e87eed5e9",
   "metadata": {},
   "outputs": [
    {
     "data": {
      "text/plain": [
       "(0,)"
      ]
     },
     "execution_count": 70,
     "metadata": {},
     "output_type": "execute_result"
    }
   ],
   "source": [
    "batch.sample_id"
   ]
  },
  {
   "cell_type": "code",
   "execution_count": 198,
   "id": "decf563e-99cc-4b02-8aab-2ea07c5e995b",
   "metadata": {},
   "outputs": [],
   "source": [
    "dataset = qmdata\n",
    "orbs_tot, orbs_offset = _orbs_offsets(dataset.basis)\n",
    "atom_blocks_idx = _atom_blocks_idx(dataset.structures, orbs_tot)\n",
    "orbs_mult = {\n",
    "    species: \n",
    "        {tuple(k): v\n",
    "        for k, v in zip(\n",
    "            *np.unique(\n",
    "                np.asarray(dataset.basis[species])[:, :2],\n",
    "                axis=0,\n",
    "                return_counts=True,\n",
    "            )\n",
    "        )\n",
    "    }\n",
    "    for species in dataset.basis\n",
    "}\n",
    "unc_blocks = _to_uncoupled_basis(blocks, cg)\n",
    "slices_info = _precompute_block_info(unc_blocks, atom_blocks_idx, True, False, orbs_offset, orbs_mult, True)"
   ]
  },
  {
   "cell_type": "code",
   "execution_count": 111,
   "id": "7642b687-543f-45f4-894c-fa0b28da96d4",
   "metadata": {},
   "outputs": [],
   "source": [
    "b0=blocks_to_matrix_opt(blocks, qmdata, cg = cg, detach = True, check_hermiticity = False, structure_ids=batch.sample_id, slices_info=slices_info)"
   ]
  },
  {
   "cell_type": "code",
   "execution_count": null,
   "id": "809de42a-183f-4877-996f-2f10dd9fc56a",
   "metadata": {},
   "outputs": [],
   "source": []
  },
  {
   "cell_type": "code",
   "execution_count": 117,
   "id": "6d7cfe9d-a170-4767-a828-29e1c9d8817b",
   "metadata": {},
   "outputs": [
    {
     "name": "stdout",
     "output_type": "stream",
     "text": [
      "202 ms ± 2.09 ms per loop (mean ± std. dev. of 10 runs, 1 loop each)\n"
     ]
    }
   ],
   "source": [
    "%%timeit -r 10 -n 1\n",
    "b0=blocks_to_matrix_opt(blocks, qmdata, cg = cg, detach = True, check_hermiticity = False, structure_ids=batch.sample_id, slices_info=slices_info)"
   ]
  },
  {
   "cell_type": "code",
   "execution_count": 104,
   "id": "887391a8-d207-4fc6-92ef-61550f589f41",
   "metadata": {},
   "outputs": [
    {
     "name": "stdout",
     "output_type": "stream",
     "text": [
      "255 ms ± 7.98 ms per loop (mean ± std. dev. of 7 runs, 1 loop each)\n"
     ]
    }
   ],
   "source": [
    "%%timeit\n",
    "b0=blocks_to_matrix_opt(blocks, qmdata, cg = cg, detach = True, check_hermiticity = False, structure_ids=batch.sample_id, slices_info=None)"
   ]
  },
  {
   "cell_type": "code",
   "execution_count": 200,
   "id": "185eb8ee-110d-49fc-9155-a5f6e8849007",
   "metadata": {},
   "outputs": [
    {
     "data": {
      "text/plain": [
       "Timer unit: 1e-09 s\n",
       "\n",
       "Total time: 0.171621 s\n",
       "File: /home/pegolo/Software/mlelec/src/mlelec/utils/_utils.py\n",
       "Function: blocks_to_matrix_opt at line 178\n",
       "\n",
       "Line #      Hits         Time  Per Hit   % Time  Line Contents\n",
       "==============================================================\n",
       "   178                                           def blocks_to_matrix_opt(blocks, \n",
       "   179                                                                    dataset, \n",
       "   180                                                                    structure_ids = None, \n",
       "   181                                                                    device=None, \n",
       "   182                                                                    cg=None, \n",
       "   183                                                                    all_pairs=False, \n",
       "   184                                                                    sort_orbs=True, \n",
       "   185                                                                    detach=False, \n",
       "   186                                                                   #  check_hermiticity=True,\n",
       "   187                                                                    slices_info = None):\n",
       "   188                                           \n",
       "   189         1        631.0    631.0      0.0      if device is None:\n",
       "   190         1       1503.0   1503.0      0.0          device = dataset.device\n",
       "   191                                           \n",
       "   192         1        141.0    141.0      0.0      if structure_ids is None:\n",
       "   193                                                   structure_ids = range(len(dataset))\n",
       "   194                                           \n",
       "   195         1     189378.0 189378.0      0.1      if \"L\" in blocks.keys.names:\n",
       "   196         1    2772597.0    3e+06      1.6          blocks = _to_uncoupled_basis(blocks, cg=cg, device=device)\n",
       "   197                                           \n",
       "   198         1      81033.0  81033.0      0.0      orbs_tot, orbs_offset = _orbs_offsets(dataset.basis)\n",
       "   199         1   13847056.0    1e+07      8.1      atom_blocks_idx = _atom_blocks_idx(dataset.structures, orbs_tot)\n",
       "   200                                           \n",
       "   201         2     271093.0 135546.5      0.2      orbs_mult = {\n",
       "   202                                                   species: \n",
       "   203                                                       {tuple(k): v\n",
       "   204                                                       for k, v in zip(\n",
       "   205                                                           *np.unique(\n",
       "   206                                                               np.asarray(dataset.basis[species])[:, :2],\n",
       "   207                                                               axis=0,\n",
       "   208                                                               return_counts=True,\n",
       "   209                                                           )\n",
       "   210                                                       )\n",
       "   211                                                   }\n",
       "   212         1        521.0    521.0      0.0          for species in dataset.basis\n",
       "   213                                               }\n",
       "   214                                           \n",
       "   215         1       2945.0   2945.0      0.0      reconstructed_matrices = [dict() for _ in structure_ids]\n",
       "   216                                           \n",
       "   217         1        381.0    381.0      0.0      if slices_info is None:\n",
       "   218                                                   slices_info = _precompute_block_info(blocks, atom_blocks_idx, sort_orbs, all_pairs, orbs_offset, orbs_mult, detach)\n",
       "   219         1   10115178.0    1e+07      5.9      _initialize_matrices(reconstructed_matrices, slices_info, orbs_tot, dataset, device, structure_ids)\n",
       "   220         1  140103472.0    1e+08     81.6      _update_matrices(reconstructed_matrices, slices_info, structure_ids)\n",
       "   221                                           \n",
       "   222         2       3156.0   1578.0      0.0      for A, matrix in enumerate(reconstructed_matrices):\n",
       "   223         1       3367.0   3367.0      0.0          Ts = list(matrix.keys())\n",
       "   224         1        621.0    621.0      0.0          done = []\n",
       "   225        22       5558.0    252.6      0.0          for T in Ts:\n",
       "   226        21       6784.0    323.0      0.0              if T in done:\n",
       "   227        10       2974.0    297.4      0.0                  continue\n",
       "   228        11      26110.0   2373.6      0.0              mT = tuple(-t for t in T)\n",
       "   229        11       5419.0    492.6      0.0              done.append(mT)\n",
       "   230        11    4151922.0 377447.5      2.4              reconstructed_matrices[A][T] = reconstructed_matrices[A][T] + reconstructed_matrices[A][mT].T\n",
       "   231        11      28582.0   2598.4      0.0              reconstructed_matrices[A][mT] = reconstructed_matrices[A][T].T\n",
       "   232                                           \n",
       "   233                                               # if check_hermiticity:\n",
       "   234                                               #     for A, matrix in enumerate(reconstructed_matrices):\n",
       "   235                                               #         Ts = list(matrix.keys())\n",
       "   236                                               #         for T in Ts:\n",
       "   237                                               #             mT = tuple(-t for t in T)\n",
       "   238                                               #             assert torch.all(torch.isclose(matrix[T] - reconstructed_matrices[A][mT].T, torch.zeros_like(matrix[T]))), torch.norm(matrix[T] - reconstructed_matrices[A][mT].T).item()\n",
       "   239                                           \n",
       "   240         1        110.0    110.0      0.0      return reconstructed_matrices"
      ]
     },
     "metadata": {},
     "output_type": "display_data"
    }
   ],
   "source": [
    "%lprun -f blocks_to_matrix_opt blocks_to_matrix_opt(blocks, qmdata, detach = True, cg = cg, structure_ids=batch.sample_id, slices_info=slices_info)"
   ]
  },
  {
   "cell_type": "code",
   "execution_count": 124,
   "id": "be0cd0c9-7185-4be2-8bbe-b09bb909c2fc",
   "metadata": {},
   "outputs": [],
   "source": [
    "from mlelec.utils._utils import _precompute_block_info, _atom_blocks_idx, _orbs_offsets, _update_matrices, _initialize_matrices"
   ]
  },
  {
   "cell_type": "code",
   "execution_count": 125,
   "id": "2b286c35-bbd6-4f93-96cf-0a023b020e3f",
   "metadata": {},
   "outputs": [],
   "source": [
    "reconstructed_matrices = [dict() for _ in batch.sample_id]\n",
    "_initialize_matrices(reconstructed_matrices, slices_info, orbs_tot, qmdata, 'cpu', batch.sample_id)"
   ]
  },
  {
   "cell_type": "code",
   "execution_count": 127,
   "id": "0d980552-5410-4fcf-98f9-2dd3693e6fee",
   "metadata": {
    "scrolled": true
   },
   "outputs": [
    {
     "data": {
      "text/plain": [
       "Timer unit: 1e-09 s\n",
       "\n",
       "Total time: 0.34134 s\n",
       "File: /home/pegolo/Software/mlelec/src/mlelec/utils/_utils.py\n",
       "Function: _update_matrices at line 132\n",
       "\n",
       "Line #      Hits         Time  Per Hit   % Time  Line Contents\n",
       "==============================================================\n",
       "   132                                           def _update_matrices(reconstructed_matrices, slices_info, structure_ids):\n",
       "   133         2       2455.0   1227.5      0.0      for iA, A in enumerate(structure_ids):\n",
       "   134     10258    2599119.0    253.4      0.8          for info in slices_info[A]:\n",
       "   135                                           \n",
       "   136     10257    2659871.0    259.3      0.8              T = info[\"T\"]\n",
       "   137     10257    1593915.0    155.4      0.5              mT = info[\"mT\"]\n",
       "   138     10257    1338686.0    130.5      0.4              block_type = info[\"block_type\"]\n",
       "   139     10257    1594486.0    155.5      0.5              blockval = info[\"blockval\"]\n",
       "   140     10257    2018112.0    196.8      0.6              iphi_jpsi_slice = info[\"iphi_jpsi_slice\"]\n",
       "   141     10257    2041707.0    199.1      0.6              ipsi_jphi_slice = info[\"ipsi_jphi_slice\"]\n",
       "   142     10257    1855302.0    180.9      0.5              jphi_ipsi_slice = info[\"jphi_ipsi_slice\"]\n",
       "   143     10257    1746382.0    170.3      0.5              jpsi_iphi_slice = info[\"jpsi_iphi_slice\"]\n",
       "   144     10257    1423154.0    138.7      0.4              bt0_factor_p = info[\"bt0_factor_p\"]\n",
       "   145     10257    1358935.0    132.5      0.4              bt0_factor_m = info[\"bt0_factor_m\"]\n",
       "   146     10257    1225885.0    119.5      0.4              bt2_factor_p = info[\"bt2_factor_p\"]\n",
       "   147     10257    1262484.0    123.1      0.4              bt2_factor_m = info[\"bt2_factor_m\"]\n",
       "   148     10257    1320773.0    128.8      0.4              bt1_fact_fin = info[\"bt1_fact_fin\"]\n",
       "   149                                           \n",
       "   150     10257    2856002.0    278.4      0.8              matrix_T = reconstructed_matrices[iA][T]\n",
       "   151     10257    1705123.0    166.2      0.5              matrix_mT = reconstructed_matrices[iA][mT]\n",
       "   152                                           \n",
       "   153     10257    1642966.0    160.2      0.5              if block_type == 0:\n",
       "   154       432    2921276.0   6762.2      0.9                  matrix_T[iphi_jpsi_slice].add_(blockval * bt0_factor_p)\n",
       "   155       432    3170213.0   7338.5      0.9                  matrix_mT[jpsi_iphi_slice].add_(blockval.T * bt0_factor_m)\n",
       "   156                                           \n",
       "   157      9825    1103345.0    112.3      0.3              elif block_type == 2:\n",
       "   158                                                           matrix_T[iphi_jpsi_slice].add_(blockval * bt2_factor_p)\n",
       "   159                                                           matrix_mT[jpsi_iphi_slice].add_(blockval.T * bt2_factor_m)\n",
       "   160                                           \n",
       "   161      9825    2514980.0    256.0      0.7              elif abs(block_type) == 1:\n",
       "   162                                                           # blockval.mul_(bt1_fact_fin)\n",
       "   163                                           \n",
       "   164      9825    1276331.0    129.9      0.4                  if block_type == 1:\n",
       "   165      5895   42386646.0   7190.3     12.4                      matrix_T[iphi_jpsi_slice].add_(blockval*bt1_fact_fin)\n",
       "   166      5895   40078532.0   6798.7     11.7                      matrix_mT[jphi_ipsi_slice].add_(blockval*bt1_fact_fin)\n",
       "   167      5895   47166308.0   8001.1     13.8                      matrix_mT[jpsi_iphi_slice].add_(blockval.T*bt1_fact_fin)\n",
       "   168      5895   46451711.0   7879.8     13.6                      matrix_T[ipsi_jphi_slice].add_(blockval.T*bt1_fact_fin)\n",
       "   169                                           \n",
       "   170                                                           else:\n",
       "   171      3930   30096571.0   7658.2      8.8                      matrix_T[iphi_jpsi_slice].add_(blockval*bt1_fact_fin)\n",
       "   172      3930   27864261.0   7090.1      8.2                      matrix_mT[jphi_ipsi_slice].sub_(blockval*bt1_fact_fin)\n",
       "   173      3930   33291919.0   8471.2      9.8                      matrix_mT[jpsi_iphi_slice].add_(blockval.T*bt1_fact_fin)\n",
       "   174      3930   32772946.0   8339.2      9.6                      matrix_T[ipsi_jphi_slice].sub_(blockval.T*bt1_fact_fin)"
      ]
     },
     "metadata": {},
     "output_type": "display_data"
    }
   ],
   "source": [
    "%lprun -f _update_matrices _update_matrices(reconstructed_matrices, slices_info, batch.sample_id)"
   ]
  },
  {
   "cell_type": "code",
   "execution_count": 123,
   "id": "8d487517-2de5-4ca2-aaa1-a3575da2ca54",
   "metadata": {},
   "outputs": [],
   "source": [
    "dataset = qmdata\n",
    "orbs_tot, orbs_offset = _orbs_offsets(dataset.basis)\n",
    "atom_blocks_idx = _atom_blocks_idx(dataset.structures, orbs_tot)\n",
    "orbs_mult = {\n",
    "    species: \n",
    "        {tuple(k): v\n",
    "        for k, v in zip(\n",
    "            *np.unique(\n",
    "                np.asarray(dataset.basis[species])[:, :2],\n",
    "                axis=0,\n",
    "                return_counts=True,\n",
    "            )\n",
    "        )\n",
    "    }\n",
    "    for species in dataset.basis\n",
    "}"
   ]
  },
  {
   "cell_type": "code",
   "execution_count": 35,
   "id": "9447023c-81ea-47f8-b647-af46a9d8536d",
   "metadata": {},
   "outputs": [
    {
     "name": "stdout",
     "output_type": "stream",
     "text": [
      "25.8 ms ± 412 µs per loop (mean ± std. dev. of 7 runs, 10 loops each)\n"
     ]
    }
   ],
   "source": [
    "%%timeit\n",
    "_precompute_block_info(unc_blocks, atom_blocks_idx, True, False, orbs_offset, orbs_mult, True)"
   ]
  },
  {
   "cell_type": "code",
   "execution_count": 42,
   "id": "30eaca66-719c-421e-96d6-29158e7a570b",
   "metadata": {
    "scrolled": true
   },
   "outputs": [
    {
     "data": {
      "text/plain": [
       "Timer unit: 1e-09 s\n",
       "\n",
       "Total time: 0.00114267 s\n",
       "File: /home/pegolo/Software/mlelec/src/mlelec/utils/_utils.py\n",
       "Function: _precompute_block_info at line 39\n",
       "\n",
       "Line #      Hits         Time  Per Hit   % Time  Line Contents\n",
       "==============================================================\n",
       "    39                                           def _precompute_block_info(blocks, atom_blocks_idx, sort_orbs, all_pairs, orbs_offset, orbs_mult, detach):\n",
       "    40         1       1042.0   1042.0      0.1      slices_info = []\n",
       "    41                                           \n",
       "    42         1        310.0    310.0      0.0      jjj = 0\n",
       "    43         9     250504.0  27833.8     21.9      for key, block in blocks.items():\n",
       "    44         8       3095.0    386.9      0.3          if jjj > 0:\n",
       "    45         7       1472.0    210.3      0.1              continue\n",
       "    46         1        682.0    682.0      0.1          jjj +=1 \n",
       "    47         1      44103.0  44103.0      3.9          block_type = key[\"block_type\"]\n",
       "    48         1      24015.0  24015.0      2.1          ai, ni, li = key[\"species_i\"], key[\"n_i\"], key[\"l_i\"]\n",
       "    49         1      20299.0  20299.0      1.8          aj, nj, lj = key[\"species_j\"], key[\"n_j\"], key[\"l_j\"]\n",
       "    50                                           \n",
       "    51         1        972.0    972.0      0.1          fac = 0.5 if (sort_orbs and ai == aj and ni == nj and li == lj) else 1\n",
       "    52                                                   # fac = 2\n",
       "    53                                           \n",
       "    54         1        982.0    982.0      0.1          orbs_i = orbs_mult[ai]\n",
       "    55         1        340.0    340.0      0.0          orbs_j = orbs_mult[aj]\n",
       "    56                                           \n",
       "    57         1      12343.0  12343.0      1.1          shapes = {(k1 + k2): (orbs_i[tuple(k1)], orbs_j[tuple(k2)]) for k1 in orbs_i for k2 in orbs_j}\n",
       "    58         1       1433.0   1433.0      0.1          phioffset = orbs_offset[(ai, ni, li)]\n",
       "    59         1        441.0    441.0      0.0          psioffset = orbs_offset[(aj, nj, lj)]\n",
       "    60                                           \n",
       "    61         1     576429.0 576429.0     50.4          samples = block.samples.values.tolist()\n",
       "    62         1     138912.0 138912.0     12.2          blockvalues = block.values[:,:,:,0].detach().clone() if detach else block.values[:,:,:,0]\n",
       "    63                                           \n",
       "    64         2      35518.0  17759.0      3.1          for sample, blockval in zip(samples[:1], blockvalues[:1]):\n",
       "    65                                                       \n",
       "    66         1       2285.0   2285.0      0.2              if blockval.numel() == 0:\n",
       "    67                                                           continue\n",
       "    68                                           \n",
       "    69         1        922.0    922.0      0.1              A, i, j, Tx, Ty, Tz = sample #[s.item() for s in sample]\n",
       "    70         1        400.0    400.0      0.0              T = (Tx, Ty, Tz)\n",
       "    71         1        651.0    651.0      0.1              mT = (-Tx, -Ty, -Tz)\n",
       "    72                                           \n",
       "    73         1        521.0    521.0      0.0              other_fac = 0.5 if (i == j and T != (0, 0, 0) and not all_pairs) else 1\n",
       "    74                                           \n",
       "    75         1        731.0    731.0      0.1              bt0_factor_p = 0.5 if not sort_orbs else (1 if not (ni == nj and li == lj) else 0.5)\n",
       "    76         1        731.0    731.0      0.1              bt0_factor_m = bt0_factor_p * other_fac\n",
       "    77         1        461.0    461.0      0.0              bt2_factor_p = 0.5 if not all_pairs else 1\n",
       "    78         1        321.0    321.0      0.0              bt2_factor_m = bt2_factor_p * other_fac\n",
       "    79         1       5770.0   5770.0      0.5              bt1_fact_fin = ISQRT_2 * fac * other_fac / (2 if all_pairs else 1)\n",
       "    80                                           \n",
       "    81         1       2174.0   2174.0      0.2              i_start, j_start = atom_blocks_idx[(A, i, j)]\n",
       "    82         1       2715.0   2715.0      0.2              phi_end = shapes[(ni, li, nj, lj)][0]\n",
       "    83         1        922.0    922.0      0.1              psi_end = shapes[(ni, li, nj, lj)][1]\n",
       "    84                                           \n",
       "    85         1        942.0    942.0      0.1              iphi = i_start + phioffset\n",
       "    86         1        290.0    290.0      0.0              ipsi = i_start + psioffset\n",
       "    87         1        301.0    301.0      0.0              jpsi = j_start + psioffset\n",
       "    88         1        491.0    491.0      0.0              jphi = j_start + phioffset\n",
       "    89                                           \n",
       "    90         1       1272.0   1272.0      0.1              slice_iphi = slice(iphi, iphi + phi_end)\n",
       "    91         1        691.0    691.0      0.1              slice_jpsi = slice(jpsi, jpsi + psi_end)\n",
       "    92         1        521.0    521.0      0.0              slice_ipsi = slice(ipsi, ipsi + psi_end)\n",
       "    93         1        511.0    511.0      0.0              slice_jphi = slice(jphi, jphi + phi_end)\n",
       "    94                                           \n",
       "    95         1        440.0    440.0      0.0              iphi_jpsi_slice = (slice_iphi, slice_jpsi)\n",
       "    96         1        331.0    331.0      0.0              ipsi_jphi_slice = (slice_ipsi, slice_jphi)\n",
       "    97         1        321.0    321.0      0.0              jphi_ipsi_slice = (slice_jphi, slice_ipsi)\n",
       "    98         1        301.0    301.0      0.0              jpsi_iphi_slice = (slice_jpsi, slice_iphi)\n",
       "    99                                           \n",
       "   100         2       3005.0   1502.5      0.3              slices_info.append({\n",
       "   101         1        301.0    301.0      0.0                  \"A\": A, \"T\": T, \"mT\": mT, \"block_type\": block_type, \"blockval\": blockval,\n",
       "   102         1        361.0    361.0      0.0                  \"iphi_jpsi_slice\": iphi_jpsi_slice, \"ipsi_jphi_slice\": ipsi_jphi_slice,\n",
       "   103         1        211.0    211.0      0.0                  \"jphi_ipsi_slice\": jphi_ipsi_slice, \"jpsi_iphi_slice\": jpsi_iphi_slice,\n",
       "   104         1        191.0    191.0      0.0                  \"bt0_factor_p\": bt0_factor_p, \"bt0_factor_m\": bt0_factor_m,\n",
       "   105         1        221.0    221.0      0.0                  \"bt2_factor_p\": bt2_factor_p, \"bt2_factor_m\": bt2_factor_m,\n",
       "   106         1        191.0    191.0      0.0                  \"bt1_fact_fin\": bt1_fact_fin\n",
       "   107                                                       })\n",
       "   108                                           \n",
       "   109         1        280.0    280.0      0.0      return slices_info"
      ]
     },
     "metadata": {},
     "output_type": "display_data"
    }
   ],
   "source": [
    "%lprun -f _precompute_block_info _precompute_block_info(unc_blocks, atom_blocks_idx, True, False, orbs_offset, orbs_mult, True)"
   ]
  },
  {
   "cell_type": "code",
   "execution_count": 38,
   "id": "de23772c-71bb-4302-8768-4ba9d5105f9c",
   "metadata": {},
   "outputs": [
    {
     "name": "stdout",
     "output_type": "stream",
     "text": [
      "4.09 ms ± 15.1 µs per loop (mean ± std. dev. of 7 runs, 100 loops each)\n"
     ]
    }
   ],
   "source": [
    "%%timeit \n",
    "blocks_to_matrix_try(blocks, qmdata, detach = True, cg = cg, check_hermiticity = True)"
   ]
  },
  {
   "cell_type": "code",
   "execution_count": 37,
   "id": "afa63e64-22d7-4383-b9d0-dffc2ae52d85",
   "metadata": {},
   "outputs": [
    {
     "name": "stdout",
     "output_type": "stream",
     "text": [
      "5.38 ms ± 31.3 µs per loop (mean ± std. dev. of 7 runs, 100 loops each)\n"
     ]
    }
   ],
   "source": [
    "%%timeit\n",
    "blocks_to_matrix_opt(blocks, qmdata, detach = True, cg = cg, check_hermiticity = True)"
   ]
  },
  {
   "cell_type": "code",
   "execution_count": 42,
   "id": "149d79e1-2e16-455a-8ab4-95f193082e62",
   "metadata": {},
   "outputs": [
    {
     "data": {
      "text/plain": [
       "torch.Size([57, 16, 16])"
      ]
     },
     "execution_count": 42,
     "metadata": {},
     "output_type": "execute_result"
    }
   ],
   "source": [
    "blocks_to_matrix_opt(blocks, qmdata, detach = True, cg = cg, check_hermiticity = True)[0][1].shape\n"
   ]
  },
  {
   "cell_type": "code",
   "execution_count": 210,
   "id": "dbb4e78f-585b-4c7a-8374-62d7bdf56796",
   "metadata": {},
   "outputs": [],
   "source": [
    "batch = next(iter(dl))"
   ]
  },
  {
   "cell_type": "code",
   "execution_count": 225,
   "id": "43f5e309-d2b5-4d0c-8033-a4e8875bedc4",
   "metadata": {},
   "outputs": [
    {
     "name": "stdout",
     "output_type": "stream",
     "text": [
      "751 ms ± 8.15 ms per loop (mean ± std. dev. of 7 runs, 1 loop each)\n"
     ]
    }
   ],
   "source": [
    "%%timeit\n",
    "pred = model.forward(batch.features, mldata.model_metadata)\n",
    "HT = blocks_to_matrix(pred, qmdata, detach = False)\n",
    "HK = qmdata.bloch_sum(HT)\n",
    "HK = [HK[ifr] for ifr in batch.sample_id]\n",
    "\n",
    "# pred_eigvals = []\n",
    "# pred_ard = []\n",
    "# for ifr, hk, sk in zip(batch.sample_id, HK, batch.overlap_kspace):\n",
    "#     ard, eig = compute_ard(hk, sk, qmdata.structures[ifr], qmdata.basis)\n",
    "#     pred_ard.append(ard)\n",
    "#     pred_eigvals.append(eig)"
   ]
  },
  {
   "cell_type": "code",
   "execution_count": 278,
   "id": "fa60366e-d03e-4046-b9e5-28624d41fce9",
   "metadata": {},
   "outputs": [],
   "source": [
    "def compute_eigval(A, M, return_eigenvectors = False):\n",
    "    Ax = xitorch.LinearOperator.m(A)\n",
    "    Mx = xitorch.LinearOperator.m(M) if M is not None else None\n",
    "\n",
    "    # Compute eigenvalues and eigenvectors\n",
    "    eigvals, eigvecs = symeig(Ax, M = Mx)\n",
    "    if return_eigenvectors:\n",
    "        return eigvals, eigvecs\n",
    "    else:\n",
    "        return eigvals\n",
    "\n",
    "\n",
    "from mlelec.data.mldataset import _sqrtm_newton_schulz\n",
    "def compute_ard(A, M, frame, basis):\n",
    "\n",
    "    natm = len(frame)\n",
    "    nelec = sum(frame.numbers)\n",
    "    split_idx = [len(basis[s]) for s in frame.numbers]\n",
    "    \n",
    "    eigvals, eigvecs = compute_eigval(A, M, return_eigenvectors = True)\n",
    "\n",
    "    T = []\n",
    "    for C, S in zip(eigvecs, M):\n",
    "        occ = torch.tensor([2.0+0.0j if i <= nelec//2 else 0.0+0.0j for i in range(C.shape[0])], dtype = torch.complex128, requires_grad = True)\n",
    "    \n",
    "        # Compute the one-particle density matrix\n",
    "        rho = torch.einsum('n,in,jn', occ, C, C.conj())\n",
    "    \n",
    "        if False:\n",
    "            # Compute the population matrix\n",
    "            sqrt_S, _ = _sqrtm_newton_schulz(S)\n",
    "    \n",
    "            P = sqrt_S @ rho @ sqrt_S\n",
    "        else:\n",
    "            # Use rho\n",
    "            P = rho\n",
    "    \n",
    "        # Compute the matrix elements of the atom resolved density matrix\n",
    "        # blocks = [block for slice_ in torch.split(P, split_idx, dim = 0) for block in torch.split(slice_, split_idx, dim = 1)]\n",
    "        # T.append(torch.tensor([torch.norm(b) for b in blocks], device = device, requires_grad = True).reshape(natm, natm))\n",
    "        # T.append(torch.stack([torch.stack([block.norm() for block in torch.split(slice_, split_idx, dim = 1)]) for slice_ in torch.split(P, split_idx, dim = 0)])) #, device = device, requires_grad = True))\n",
    "        # T.append(torch.stack([block.norm() for slice_ in torch.split(P, split_idx, dim = 0) for block in torch.split(slice_, split_idx, dim = 1)]).reshape(natm, natm)) #, device = device, requires_grad = True))\n",
    "        T.append([[block.norm() for block in torch.split(slice_, split_idx, dim = 1)] for slice_ in torch.split(P, split_idx, dim = 0)]) #, device = device, requires_grad = True))\n",
    "\n",
    "    return torch.tensor(T, requires_grad = True, device = device), eigvals"
   ]
  },
  {
   "cell_type": "code",
   "execution_count": null,
   "id": "67b75213-6c4b-4064-9151-bb86f63b868c",
   "metadata": {},
   "outputs": [],
   "source": [
    "torch.split(P, split_idx, dim = 0) for block in torch.split(slice_, split_idx, dim = 1)"
   ]
  },
  {
   "cell_type": "code",
   "execution_count": 279,
   "id": "b2e75455-2ff4-4ace-922c-85ba28338e5f",
   "metadata": {},
   "outputs": [
    {
     "data": {
      "text/plain": [
       "Timer unit: 1e-09 s\n",
       "\n",
       "Total time: 9.09968 s\n",
       "File: /tmp/ipykernel_932513/1501241485.py\n",
       "Function: compute_ard at line 14\n",
       "\n",
       "Line #      Hits         Time  Per Hit   % Time  Line Contents\n",
       "==============================================================\n",
       "    14                                           def compute_ard(A, M, frame, basis):\n",
       "    15                                           \n",
       "    16         1       6803.0   6803.0      0.0      natm = len(frame)\n",
       "    17         1      26860.0  26860.0      0.0      nelec = sum(frame.numbers)\n",
       "    18         1      70603.0  70603.0      0.0      split_idx = [len(basis[s]) for s in frame.numbers]\n",
       "    19                                               \n",
       "    20         1 2546718596.0    3e+09     28.0      eigvals, eigvecs = compute_eigval(A, M, return_eigenvectors = True)\n",
       "    21                                           \n",
       "    22         1        251.0    251.0      0.0      T = []\n",
       "    23        37     313792.0   8480.9      0.0      for C, S in zip(eigvecs, M):\n",
       "    24        36    5784576.0 160682.7      0.1          occ = torch.tensor([2.0+0.0j if i <= nelec//2 else 0.0+0.0j for i in range(C.shape[0])], dtype = torch.complex128, requires_grad = True)\n",
       "    25                                               \n",
       "    26                                                   # Compute the one-particle density matrix\n",
       "    27        36  185013178.0    5e+06      2.0          rho = torch.einsum('n,in,jn', occ, C, C.conj())\n",
       "    28                                               \n",
       "    29        36      15558.0    432.2      0.0          if False:\n",
       "    30                                                       # Compute the population matrix\n",
       "    31                                                       sqrt_S, _ = _sqrtm_newton_schulz(S)\n",
       "    32                                               \n",
       "    33                                                       P = sqrt_S @ rho @ sqrt_S\n",
       "    34                                                   else:\n",
       "    35                                                       # Use rho\n",
       "    36        36      44934.0   1248.2      0.0              P = rho\n",
       "    37                                               \n",
       "    38                                                   # Compute the matrix elements of the atom resolved density matrix\n",
       "    39                                                   # blocks = [block for slice_ in torch.split(P, split_idx, dim = 0) for block in torch.split(slice_, split_idx, dim = 1)]\n",
       "    40                                                   # T.append(torch.tensor([torch.norm(b) for b in blocks], device = device, requires_grad = True).reshape(natm, natm))\n",
       "    41                                                   # T.append(torch.stack([torch.stack([block.norm() for block in torch.split(slice_, split_idx, dim = 1)]) for slice_ in torch.split(P, split_idx, dim = 0)])) #, device = device, requires_grad = True))\n",
       "    42                                                   # T.append(torch.stack([block.norm() for slice_ in torch.split(P, split_idx, dim = 0) for block in torch.split(slice_, split_idx, dim = 1)]).reshape(natm, natm)) #, device = device, requires_grad = True))\n",
       "    43        36 5967962675.0    2e+08     65.6          T.append([[block.norm() for block in torch.split(slice_, split_idx, dim = 1)] for slice_ in torch.split(P, split_idx, dim = 0)]) #, device = device, requires_grad = True))\n",
       "    44                                           \n",
       "    45         1  393719111.0    4e+08      4.3      return torch.tensor(T, requires_grad = True, device = device), eigvals"
      ]
     },
     "metadata": {},
     "output_type": "display_data"
    }
   ],
   "source": [
    "%lprun -f compute_ard compute_ard(hk, sk, qmdata.structures[ifr], qmdata.basis)"
   ]
  },
  {
   "cell_type": "code",
   "execution_count": 216,
   "id": "0317a270-2364-4cda-a396-f4e04c49917a",
   "metadata": {},
   "outputs": [],
   "source": [
    "dataset = qmdata\n",
    "orbs_tot, orbs_offset = _orbs_offsets(dataset.basis)\n",
    "atom_blocks_idx = _atom_blocks_idx(dataset.structures, orbs_tot)\n",
    "orbs_mult = {\n",
    "    species: \n",
    "        {tuple(k): v\n",
    "        for k, v in zip(\n",
    "            *np.unique(\n",
    "                np.asarray(dataset.basis[species])[:, :2],\n",
    "                axis=0,\n",
    "                return_counts=True,\n",
    "            )\n",
    "        )\n",
    "    }\n",
    "    for species in dataset.basis\n",
    "}\n",
    "unc_blocks = _to_uncoupled_basis(blocks, cg)\n",
    "slices_info = _precompute_block_info(unc_blocks, atom_blocks_idx, True, False, orbs_offset, orbs_mult, True)"
   ]
  },
  {
   "cell_type": "code",
   "execution_count": 224,
   "id": "726020c0-29b1-4b87-8676-ca1532f5a659",
   "metadata": {},
   "outputs": [
    {
     "name": "stdout",
     "output_type": "stream",
     "text": [
      "243 ms ± 979 µs per loop (mean ± std. dev. of 7 runs, 1 loop each)\n"
     ]
    }
   ],
   "source": [
    "%%timeit\n",
    "pred = model.forward(batch.features, mldata.model_metadata)\n",
    "HT = blocks_to_matrix_opt(pred, qmdata, detach = False, cg = cg, structure_ids = batch.sample_id, slices_info = slices_info)\n",
    "HK = qmdata.bloch_sum(HT)\n",
    "HK = [HK[ifr] for ifr in batch.sample_id]\n",
    "\n",
    "# pred_eigvals = []\n",
    "# pred_ard = []\n",
    "# for ifr, hk, sk in zip(batch.sample_id, HK, batch.overlap_kspace):\n",
    "#     ard, eig = compute_ard(hk, sk, qmdata.structures[ifr], qmdata.basis)\n",
    "#     pred_ard.append(ard)\n",
    "#     pred_eigvals.append(eig)"
   ]
  },
  {
   "cell_type": "code",
   "execution_count": 221,
   "id": "634a1c9f-e4e7-48b2-a556-a13b18c47f39",
   "metadata": {},
   "outputs": [],
   "source": [
    "def killme(model, batch, mldata, qmdata, cg, slices_info):\n",
    "    pred = model.forward(batch.features, mldata.model_metadata)\n",
    "    HT = blocks_to_matrix_opt(pred, qmdata, detach = False, cg = cg, structure_ids = batch.sample_id, slices_info = slices_info)\n",
    "    HK = qmdata.bloch_sum(HT)\n",
    "    HK = [HK[ifr] for ifr in batch.sample_id]\n",
    "    \n",
    "    pred_eigvals = []\n",
    "    pred_ard = []\n",
    "    # for ifr, hk, sk in zip(batch.sample_id, HK, batch.overlap_kspace):\n",
    "    #     ard, eig = compute_ard(hk, sk, qmdata.structures[ifr], qmdata.basis)\n",
    "    #     pred_ard.append(ard)\n",
    "    #     pred_eigvals.append(eig)"
   ]
  },
  {
   "cell_type": "code",
   "execution_count": 222,
   "id": "9556a6df-8aa2-468b-9f47-89eda2a22fca",
   "metadata": {},
   "outputs": [
    {
     "data": {
      "text/plain": [
       "Timer unit: 1e-09 s\n",
       "\n",
       "Total time: 0.282635 s\n",
       "File: /tmp/ipykernel_932513/175942738.py\n",
       "Function: killme at line 1\n",
       "\n",
       "Line #      Hits         Time  Per Hit   % Time  Line Contents\n",
       "==============================================================\n",
       "     1                                           def killme(model, batch, mldata, qmdata, cg, slices_info):\n",
       "     2         1   56775471.0    6e+07     20.1      pred = model.forward(batch.features, mldata.model_metadata)\n",
       "     3         1  156877232.0    2e+08     55.5      HT = blocks_to_matrix_opt(pred, qmdata, detach = False, cg = cg, structure_ids = batch.sample_id, slices_info = slices_info)\n",
       "     4         1   68972015.0    7e+07     24.4      HK = qmdata.bloch_sum(HT)\n",
       "     5         1       9398.0   9398.0      0.0      HK = [HK[ifr] for ifr in batch.sample_id]\n",
       "     6                                               \n",
       "     7         1        151.0    151.0      0.0      pred_eigvals = []\n",
       "     8         1        281.0    281.0      0.0      pred_ard = []\n",
       "     9                                               # for ifr, hk, sk in zip(batch.sample_id, HK, batch.overlap_kspace):\n",
       "    10                                               #     ard, eig = compute_ard(hk, sk, qmdata.structures[ifr], qmdata.basis)\n",
       "    11                                               #     pred_ard.append(ard)\n",
       "    12                                               #     pred_eigvals.append(eig)"
      ]
     },
     "metadata": {},
     "output_type": "display_data"
    }
   ],
   "source": [
    "%lprun -f killme killme(model, batch, mldata, qmdata, cg, slices_info)"
   ]
  },
  {
   "cell_type": "code",
   "execution_count": 285,
   "id": "c7fe2a85-4b69-4bed-89c9-fdf2daeea671",
   "metadata": {},
   "outputs": [
    {
     "ename": "AttributeError",
     "evalue": "'int' object has no attribute 'shape'",
     "output_type": "error",
     "traceback": [
      "\u001b[0;31m---------------------------------------------------------------------------\u001b[0m",
      "\u001b[0;31mAttributeError\u001b[0m                            Traceback (most recent call last)",
      "Cell \u001b[0;32mIn[285], line 15\u001b[0m\n\u001b[1;32m     12\u001b[0m blocks_flat \u001b[38;5;241m=\u001b[39m [block \u001b[38;5;28;01mfor\u001b[39;00m sublist \u001b[38;5;129;01min\u001b[39;00m blocks \u001b[38;5;28;01mfor\u001b[39;00m block \u001b[38;5;129;01min\u001b[39;00m sublist]\n\u001b[1;32m     14\u001b[0m \u001b[38;5;66;03m# Determine the maximum size of the blocks to create NxN tensors\u001b[39;00m\n\u001b[0;32m---> 15\u001b[0m max_dim \u001b[38;5;241m=\u001b[39m \u001b[38;5;28;43mmax\u001b[39;49m\u001b[43m(\u001b[49m\u001b[43mblock\u001b[49m\u001b[38;5;241;43m.\u001b[39;49m\u001b[43mshape\u001b[49m\u001b[43m[\u001b[49m\u001b[38;5;241;43m0\u001b[39;49m\u001b[43m]\u001b[49m\u001b[43m \u001b[49m\u001b[38;5;28;43;01mfor\u001b[39;49;00m\u001b[43m \u001b[49m\u001b[43mblock\u001b[49m\u001b[43m \u001b[49m\u001b[38;5;129;43;01min\u001b[39;49;00m\u001b[43m \u001b[49m\u001b[43mblocks_flat\u001b[49m\u001b[43m \u001b[49m\u001b[38;5;241;43m+\u001b[39;49m\u001b[43m \u001b[49m\u001b[43m[\u001b[49m\u001b[43mblock\u001b[49m\u001b[38;5;241;43m.\u001b[39;49m\u001b[43mshape\u001b[49m\u001b[43m[\u001b[49m\u001b[38;5;241;43m1\u001b[39;49m\u001b[43m]\u001b[49m\u001b[43m \u001b[49m\u001b[38;5;28;43;01mfor\u001b[39;49;00m\u001b[43m \u001b[49m\u001b[43mblock\u001b[49m\u001b[43m \u001b[49m\u001b[38;5;129;43;01min\u001b[39;49;00m\u001b[43m \u001b[49m\u001b[43mblocks_flat\u001b[49m\u001b[43m]\u001b[49m\u001b[43m)\u001b[49m\n\u001b[1;32m     17\u001b[0m \u001b[38;5;66;03m# Pad each block to be NxN\u001b[39;00m\n\u001b[1;32m     18\u001b[0m squared_blocks \u001b[38;5;241m=\u001b[39m []\n",
      "Cell \u001b[0;32mIn[285], line 15\u001b[0m, in \u001b[0;36m<genexpr>\u001b[0;34m(.0)\u001b[0m\n\u001b[1;32m     12\u001b[0m blocks_flat \u001b[38;5;241m=\u001b[39m [block \u001b[38;5;28;01mfor\u001b[39;00m sublist \u001b[38;5;129;01min\u001b[39;00m blocks \u001b[38;5;28;01mfor\u001b[39;00m block \u001b[38;5;129;01min\u001b[39;00m sublist]\n\u001b[1;32m     14\u001b[0m \u001b[38;5;66;03m# Determine the maximum size of the blocks to create NxN tensors\u001b[39;00m\n\u001b[0;32m---> 15\u001b[0m max_dim \u001b[38;5;241m=\u001b[39m \u001b[38;5;28mmax\u001b[39m(\u001b[43mblock\u001b[49m\u001b[38;5;241;43m.\u001b[39;49m\u001b[43mshape\u001b[49m[\u001b[38;5;241m0\u001b[39m] \u001b[38;5;28;01mfor\u001b[39;00m block \u001b[38;5;129;01min\u001b[39;00m blocks_flat \u001b[38;5;241m+\u001b[39m [block\u001b[38;5;241m.\u001b[39mshape[\u001b[38;5;241m1\u001b[39m] \u001b[38;5;28;01mfor\u001b[39;00m block \u001b[38;5;129;01min\u001b[39;00m blocks_flat])\n\u001b[1;32m     17\u001b[0m \u001b[38;5;66;03m# Pad each block to be NxN\u001b[39;00m\n\u001b[1;32m     18\u001b[0m squared_blocks \u001b[38;5;241m=\u001b[39m []\n",
      "\u001b[0;31mAttributeError\u001b[0m: 'int' object has no attribute 'shape'"
     ]
    }
   ],
   "source": [
    "import torch\n",
    "\n",
    "# Example tensor P\n",
    "P = torch.randn(100, 100)  # Example tensor, adjust as needed\n",
    "split_idx = [25,50,25]  # Example split index, adjust as needed\n",
    "\n",
    "# First, split tensor P along dimension 0 and 1\n",
    "slices = torch.split(P, split_idx, dim=0)\n",
    "blocks = [torch.split(slice_, split_idx, dim=1) for slice_ in slices]\n",
    "\n",
    "# Flatten the list of lists\n",
    "blocks_flat = [block for sublist in blocks for block in sublist]\n",
    "\n",
    "# Determine the maximum size of the blocks to create NxN tensors\n",
    "max_dim = max(block.shape[0] for block in blocks_flat + [block.shape[1] for block in blocks_flat])\n",
    "\n",
    "# Pad each block to be NxN\n",
    "squared_blocks = []\n",
    "for block in blocks_flat:\n",
    "    pad_size = (0, max_dim - block.size(1), 0, max_dim - block.size(0))  # (pad_right, pad_left, pad_bottom, pad_top)\n",
    "    squared_block = torch.nn.functional.pad(block, pad_size, \"constant\", 0)\n",
    "    squared_blocks.append(squared_block)\n",
    "\n",
    "# Stack all squared blocks\n",
    "stacked_blocks = torch.stack(squared_blocks)\n",
    "\n",
    "# Compute the norm for each squared block along the correct axes\n",
    "# Example: Compute the norm along the first dimension for each block in the stack\n",
    "norms = stacked_blocks.norm(dim=1)\n",
    "\n",
    "print(norms)\n"
   ]
  },
  {
   "cell_type": "code",
   "execution_count": 287,
   "id": "0d582ffc-1b3c-4377-ab33-1cc9909b81e8",
   "metadata": {},
   "outputs": [
    {
     "data": {
      "text/plain": [
       "tensor([[-0.7405,  0.3882,  0.5094,  0.9599, -0.8255, -0.2873,  1.0197, -3.2121,\n",
       "          0.1765,  0.8289, -1.3753,  0.5668,  1.4666, -0.1651,  1.0744, -0.8865,\n",
       "          1.1863, -0.5163,  0.3129, -1.3710,  0.2146, -0.4647,  1.7972,  0.8174,\n",
       "         -0.6953],\n",
       "        [-0.6688, -0.5234, -1.4791, -0.1751, -0.1263, -0.9075,  0.3983, -1.4858,\n",
       "         -0.7625, -0.7413, -0.7751, -0.8383, -0.0253,  0.3917, -1.3069,  0.6957,\n",
       "          0.1723,  1.0263, -0.0287, -0.1379, -0.3303, -1.3215,  0.7778,  1.2951,\n",
       "         -0.6937],\n",
       "        [-0.3801, -0.1856, -0.4922,  0.8254,  0.1710, -0.0204, -0.3483, -1.7399,\n",
       "          0.3544,  0.3829,  0.8176, -0.5150, -0.6560,  0.9200, -0.5575,  0.1514,\n",
       "         -0.1246, -0.9424,  1.8814, -0.2965, -0.1161,  0.6315,  0.3029,  1.6042,\n",
       "         -0.1682],\n",
       "        [-0.0101,  0.6323, -0.2332,  1.2109, -0.1020, -1.4723, -1.6220,  1.1770,\n",
       "         -1.2733, -0.1895, -0.8730,  1.3849,  2.1238, -0.7597, -0.4822, -0.0301,\n",
       "          0.6043, -0.3683,  1.3781, -0.2780, -1.3647,  0.3108, -0.0937,  0.8477,\n",
       "         -0.7022],\n",
       "        [ 0.4980,  1.2776,  0.1669,  0.1133,  0.5513, -1.6683,  1.4674, -0.8554,\n",
       "          0.5822, -0.8168,  0.8066, -0.6374,  1.6800, -1.8252,  0.4943, -1.6016,\n",
       "          0.8112,  1.2983,  0.1716,  1.0300, -0.5998, -0.1579,  0.5046,  1.9018,\n",
       "         -0.0133],\n",
       "        [ 0.3233,  2.3184,  1.3129,  0.1818, -0.1120,  1.5525,  0.0336, -0.4620,\n",
       "          0.9621,  1.2770, -0.9012,  1.1541,  1.0146,  1.0479, -2.0388,  0.6162,\n",
       "          0.6526,  0.1895, -0.3616,  1.0518, -1.6661, -0.3654,  0.3159,  1.5691,\n",
       "          1.6125],\n",
       "        [ 0.9598, -0.6559,  0.3052,  1.0147, -1.3598,  1.6418, -0.1043,  0.3770,\n",
       "         -1.5426, -0.6272, -0.2519,  0.2623, -0.0472, -0.8262, -0.5433, -0.3300,\n",
       "         -0.2716, -0.5659,  1.6304, -0.0314,  0.4564, -0.5374, -0.9591,  0.1638,\n",
       "         -1.6851],\n",
       "        [-0.5965,  1.1641, -1.2118, -2.2224, -0.2060, -0.1183,  0.3039,  1.6876,\n",
       "         -1.6081, -0.1114,  1.4702, -0.1016, -1.7413, -0.1961, -0.7125,  0.7448,\n",
       "          0.6026, -0.1774, -1.9063, -0.4044,  1.1731, -0.2378, -0.2255,  0.2683,\n",
       "         -1.6878],\n",
       "        [ 0.2068, -1.5718, -1.9825,  0.6456,  0.5730,  0.8828,  0.0324,  0.8584,\n",
       "         -1.1414,  1.2785,  0.3746,  0.5043,  0.0622, -3.3032,  0.2418, -1.4974,\n",
       "          0.4399,  0.1521,  0.7278,  1.6011,  0.1725, -0.5015,  1.1058, -1.1419,\n",
       "          1.0519],\n",
       "        [ 0.9164,  0.0580, -0.0473,  0.2396, -0.3317, -0.5574,  0.2714, -0.4339,\n",
       "          1.0204,  0.4401, -1.2381, -0.6472,  1.5962, -0.5255, -0.6638,  0.9250,\n",
       "          0.6777, -0.2728,  0.8670,  0.5475,  1.1231, -0.0814,  0.3829,  0.4208,\n",
       "          1.7733],\n",
       "        [-1.2260,  0.4050, -0.0473, -0.9714, -0.8581, -0.7983,  1.1733,  1.7253,\n",
       "          1.8407,  0.8663,  0.8240, -0.0430, -0.0156,  0.2336,  0.7627,  0.9117,\n",
       "         -0.1784,  0.6037, -0.4895, -0.0727, -0.3806,  0.6448,  1.4983,  0.0554,\n",
       "          1.7523],\n",
       "        [ 0.6566, -0.2689, -1.5618, -2.0330, -0.1532, -0.5715,  1.3058, -0.7302,\n",
       "         -0.0519, -1.1852, -0.0212,  0.4223, -1.1036,  1.8578, -1.4214,  0.1086,\n",
       "          0.3538, -0.4133, -1.2710, -0.1554, -0.2055,  0.6547,  2.1113, -0.4482,\n",
       "          0.3272],\n",
       "        [-0.9871,  0.7259, -0.5095,  1.2326,  0.6077,  0.0492,  1.1943, -0.0922,\n",
       "          0.2749, -0.1004,  0.9815,  1.2677,  1.8014,  0.3750,  0.9561, -0.6127,\n",
       "         -0.0240, -1.2870,  1.0189, -1.2312, -0.3626,  0.0277, -0.1617,  0.7996,\n",
       "          0.5256],\n",
       "        [ 0.4527, -0.2201, -0.2132,  0.7873, -0.1871, -1.4395,  0.3764, -0.3606,\n",
       "          0.0897, -0.8271,  0.6155, -0.9986, -1.6827,  0.6125,  0.5716, -1.2476,\n",
       "         -0.7868, -0.6378,  0.0217, -0.5507,  0.4007, -0.2813,  1.0181,  1.4688,\n",
       "          0.0563],\n",
       "        [-0.5995, -0.1286, -1.0736, -0.2797,  0.7168,  0.2710, -0.4183,  0.3185,\n",
       "          1.5930, -1.0979, -0.2190, -0.5311, -0.0583, -0.0482,  0.6747,  0.0412,\n",
       "         -0.3081,  0.2861,  0.1524,  1.6481,  0.8089,  2.1512,  0.9262, -1.2344,\n",
       "          0.4888],\n",
       "        [ 0.0142,  0.6520,  0.0613,  0.6133,  0.5723, -1.0295, -0.0281,  0.2570,\n",
       "         -1.0173, -0.8838,  0.0347, -0.7100, -0.4118, -1.2125,  0.0183, -1.5226,\n",
       "         -0.8624, -0.2599,  0.4551,  1.5344,  1.0928, -0.7289,  0.0151, -1.6891,\n",
       "         -0.5314],\n",
       "        [-0.2116, -0.6476, -0.8171,  0.7361, -0.7848, -0.8040,  0.6859, -0.0439,\n",
       "          0.6659,  0.2376, -2.2348,  0.9451, -1.0903, -0.0392, -0.8362,  1.4483,\n",
       "          1.6384, -0.2089, -0.8740,  0.2104,  0.1339, -0.3598, -1.3167,  0.7691,\n",
       "         -0.7743],\n",
       "        [-1.5164, -1.0256,  0.1719,  0.9029, -0.8625, -0.5095, -0.9271, -0.3958,\n",
       "          0.7311,  1.1058, -1.4810, -0.3874,  2.3275,  0.7911,  1.7487, -0.0726,\n",
       "          0.7494,  0.1128, -1.7263, -0.3767, -0.2509, -0.6187, -0.5749, -0.1026,\n",
       "          0.2121],\n",
       "        [-2.2574, -0.9247,  0.9769, -1.4668,  1.2196, -0.2099, -2.2702,  0.1471,\n",
       "         -0.0038, -1.0377,  0.0622, -1.2618, -0.9843,  1.8997,  0.0684, -0.8342,\n",
       "         -0.5595,  0.0969,  0.3034,  0.8713,  0.3740, -0.2177,  0.7495,  0.8964,\n",
       "          1.7314],\n",
       "        [ 0.8863,  1.5717, -0.7022, -0.1977,  1.5245,  0.2600,  0.1729,  0.1374,\n",
       "         -0.1749,  0.6926, -0.3772, -0.9002, -1.7433,  0.0174, -2.3478, -3.4964,\n",
       "          0.7905, -0.3034, -0.9099,  0.7041,  0.8370, -0.7993, -0.6750,  0.7060,\n",
       "         -0.1812],\n",
       "        [ 1.3361, -0.9603, -1.8035,  0.9161,  0.7758, -0.3155, -0.1860,  0.6036,\n",
       "         -0.4868, -0.6247,  0.1412, -0.5035, -0.9417, -0.2545,  1.0884,  0.2088,\n",
       "         -0.0942, -0.2954, -0.3376,  0.6845, -0.9986,  0.3967,  0.3228,  1.1690,\n",
       "         -0.5175],\n",
       "        [-0.3308,  0.1997, -0.8568, -0.9091,  0.1711, -0.0733, -0.5537, -1.6383,\n",
       "          0.4216, -0.0045, -0.2774, -0.1196, -1.8649, -0.3117,  1.8492, -2.1278,\n",
       "          0.9759, -0.0699, -0.2327,  0.4007, -0.1951, -0.5289, -0.0325, -0.6012,\n",
       "         -0.8964],\n",
       "        [ 0.7201, -0.0151,  1.2082, -0.6789, -0.6675, -1.4494,  0.8773, -2.3299,\n",
       "          2.5386, -2.3844, -2.1537, -0.0974,  0.1088,  0.7055, -0.3119, -0.1214,\n",
       "          0.0291,  1.1172, -0.6416,  0.1673, -1.1832,  0.4855, -1.2160, -0.3474,\n",
       "         -0.2456],\n",
       "        [ 0.9217,  0.1984, -0.5740, -0.3610,  0.4186,  1.0705,  0.4520,  0.0288,\n",
       "         -0.0634, -1.7558,  1.4937,  2.6792,  0.1569, -0.6525, -1.3031, -0.2992,\n",
       "         -0.5900, -0.2983,  0.3719,  0.1859,  0.0800, -0.2871,  2.3552, -0.4827,\n",
       "         -0.9584],\n",
       "        [ 0.8777,  0.7936,  0.6316,  0.0479,  0.6366,  0.2579,  0.5686,  2.4757,\n",
       "          0.9097,  0.0394,  0.2513,  0.6126,  0.5558, -1.2587, -0.5374,  0.2448,\n",
       "         -2.8796, -0.4488,  1.5621,  0.8717, -1.4707, -1.8204,  0.1537, -0.4884,\n",
       "          0.4616]])"
      ]
     },
     "execution_count": 287,
     "metadata": {},
     "output_type": "execute_result"
    }
   ],
   "source": [
    "blocks_flat[0].shape"
   ]
  },
  {
   "cell_type": "markdown",
   "id": "226b15e8-82d5-432a-a2fb-077dc7183e9f",
   "metadata": {},
   "source": [
    "# Density matrix"
   ]
  },
  {
   "cell_type": "code",
   "execution_count": 501,
   "id": "e0f50664-8e63-47ab-90e0-6117496d0b92",
   "metadata": {},
   "outputs": [],
   "source": [
    "def fermidirac(E, beta, mu):\n",
    "    s = len(E.shape)\n",
    "    dtype = E.dtype\n",
    "    if s == 0 or s == 1:\n",
    "        return 1/(torch.exp(beta*(E-mu)) + 1)\n",
    "    elif s == 2:\n",
    "        Id = torch.eye(E.shape[0])\n",
    "        return torch.linalg.inv(torch.matrix_exp(beta*(E - mu*Id)) + Id)"
   ]
  },
  {
   "cell_type": "code",
   "execution_count": 479,
   "id": "0ef04062-3abd-408d-ad25-c0a42cbddcda",
   "metadata": {},
   "outputs": [],
   "source": [
    "H = qmdata.fock_kspace[0][0]\n",
    "S = qmdata.overlap_kspace[0][0]\n",
    "\n",
    "E, C = symeig(xitorch.LinearOperator.m(H), M=xitorch.LinearOperator.m(S))\n",
    "E = torch.diag(E)\n",
    "\n",
    "Ef = torch.diag(E)[11].real + 1e-5*torch.diag(E).diff().mean()\n",
    "beta = 2000\n",
    "\n",
    "f = fermidirac(torch.diag(E), Ef, beta) #torch.tensor([2 if i <= 11 else 0 for i in range(H.shape[0])], dtype = torch.complex128)\n",
    "# assert sum(fermidirac(torch.diag(E), Ef, beta)) == 6*frames[0].get_global_number_of_atoms(), sum(fermidirac(torch.diag(E), Ef, beta))\n",
    "\n",
    "rho = torch.einsum('in,kn,n->ik', C, C, f)\n",
    "assert torch.allclose(rho.imag, torch.zeros_like(rho.imag))\n",
    "rho = rho.real"
   ]
  },
  {
   "cell_type": "code",
   "execution_count": 480,
   "id": "246b34c0-0780-44e8-bd74-d60683ffae66",
   "metadata": {},
   "outputs": [
    {
     "data": {
      "text/plain": [
       "<matplotlib.colorbar.Colorbar at 0x7d7db2ef1e10>"
      ]
     },
     "execution_count": 480,
     "metadata": {},
     "output_type": "execute_result"
    },
    {
     "data": {
      "image/png": "[encoded data removed]",
      "text/plain": [
       "<Figure size 480x480 with 2 Axes>"
      ]
     },
     "metadata": {},
     "output_type": "display_data"
    }
   ],
   "source": [
    "plt.matshow(rho)\n",
    "plt.colorbar()\n"
   ]
  },
  {
   "cell_type": "code",
   "execution_count": 481,
   "id": "6601ba28-8c7c-4f7d-9178-30a613d1d58d",
   "metadata": {},
   "outputs": [],
   "source": [
    "from scipy.linalg import sqrtm\n",
    "sqrtSinv = torch.from_numpy(np.linalg.inv(np.complex128(sqrtm(S.numpy()))))\n",
    "sqrtS = torch.from_numpy(np.complex128(sqrtm(S.numpy())))\n",
    "oH = sqrtSinv@H@sqrtSinv"
   ]
  },
  {
   "cell_type": "code",
   "execution_count": 482,
   "id": "d2d1c5f4-c4f1-4f73-a5f6-3cb25c4423e4",
   "metadata": {},
   "outputs": [
    {
     "data": {
      "text/plain": [
       "<matplotlib.colorbar.Colorbar at 0x7d7db2f54e10>"
      ]
     },
     "execution_count": 482,
     "metadata": {},
     "output_type": "execute_result"
    },
    {
     "data": {
      "image/png": "[encoded data removed]",
      "text/plain": [
       "<Figure size 480x480 with 2 Axes>"
      ]
     },
     "metadata": {},
     "output_type": "display_data"
    }
   ],
   "source": [
    "rho2 = sqrtS@fermidirac(oH, Ef, beta)@sqrtS\n",
    "plt.matshow(rho2.real)\n",
    "plt.colorbar()"
   ]
  },
  {
   "cell_type": "code",
   "execution_count": 478,
   "id": "5999b0f8-2a96-4e03-bea4-e38b17228c75",
   "metadata": {},
   "outputs": [
    {
     "data": {
      "text/plain": [
       "[<matplotlib.lines.Line2D at 0x7d7db2f32290>]"
      ]
     },
     "execution_count": 478,
     "metadata": {},
     "output_type": "execute_result"
    },
    {
     "data": {
      "image/png": "[encoded data removed]",
      "text/plain": [
       "<Figure size 640x480 with 1 Axes>"
      ]
     },
     "metadata": {},
     "output_type": "display_data"
    }
   ],
   "source": [
    "plt.plot((rho-rho2).real.flatten())"
   ]
  },
  {
   "cell_type": "code",
   "execution_count": 435,
   "id": "58f73e2d-3139-466e-ab66-363c5c761a84",
   "metadata": {},
   "outputs": [],
   "source": [
    "from scipy.special import factorial"
   ]
  },
  {
   "cell_type": "code",
   "execution_count": 488,
   "id": "a3d8f789-7dc0-47c4-b730-1fe7663d071e",
   "metadata": {},
   "outputs": [],
   "source": [
    "beta = 20\n",
    "nmax = 100"
   ]
  },
  {
   "cell_type": "code",
   "execution_count": 489,
   "id": "4a2f7418-501a-4f44-8449-02850c13b272",
   "metadata": {},
   "outputs": [],
   "source": [
    "m = beta*(H-Ef*torch.eye(H.shape[0]))\n",
    "# (torch.matrix_exp(m) - sum(torch.matrix_power(m, n)/factorial(n) for n in range(nmax))).norm()"
   ]
  },
  {
   "cell_type": "code",
   "execution_count": 493,
   "id": "6ac8369f-621f-40f0-b585-9304a5375933",
   "metadata": {},
   "outputs": [],
   "source": [
    "betas = np.linspace(1,10000)\n",
    "v = [torch.matrix_exp(beta*(H-Ef*torch.eye(H.shape[0]))).norm() for beta in betas]"
   ]
  },
  {
   "cell_type": "code",
   "execution_count": 495,
   "id": "6cbc8678-8490-4ab8-bad4-19e9723cdd64",
   "metadata": {},
   "outputs": [
    {
     "data": {
      "image/png": "[encoded data removed]",
      "text/plain": [
       "<Figure size 640x480 with 1 Axes>"
      ]
     },
     "metadata": {},
     "output_type": "display_data"
    }
   ],
   "source": [
    "plt.plot(betas, v)\n",
    "plt.yscale('log')"
   ]
  },
  {
   "cell_type": "code",
   "execution_count": 520,
   "id": "1d43a5e1-be35-4b9f-8c4d-a53939adb9e5",
   "metadata": {},
   "outputs": [
    {
     "name": "stdout",
     "output_type": "stream",
     "text": [
      "Directly Computed Density Matrix (rho):\n",
      "tensor([[ 6.2236e-01, -2.4457e-02,  2.4833e-04],\n",
      "        [-2.4457e-02,  3.7804e-01, -1.9490e-02],\n",
      "        [ 2.4833e-04, -1.9490e-02,  1.8288e-01]])\n",
      "\n",
      "Density Matrix from Diagonalization (rho_explicit):\n",
      "tensor([[ 6.2236e-01, -2.4457e-02,  2.4833e-04],\n",
      "        [-2.4457e-02,  3.7804e-01, -1.9490e-02],\n",
      "        [ 2.4833e-04, -1.9490e-02,  1.8288e-01]])\n",
      "\n",
      "Difference between the two methods: 1.4256002198713556e-16\n"
     ]
    }
   ],
   "source": [
    "import torch\n",
    "\n",
    "# Example Hamiltonian matrix (Hermitian matrix)\n",
    "H = torch.tensor([\n",
    "    [1.0, 0.1, 0.0],\n",
    "    [0.1, 2.0, 0.1],\n",
    "    [0.0, 0.1, 3.0]\n",
    "], dtype=torch.float64)\n",
    "\n",
    "# Parameters\n",
    "beta = 1.0  # inverse temperature\n",
    "mu = 1.5    # chemical potential\n",
    "\n",
    "# Compute the density matrix using the Fermi-Dirac distribution\n",
    "def compute_density_matrix(H, beta, mu):\n",
    "    exp_matrix = torch.linalg.matrix_exp(beta * (H - mu * torch.eye(H.size(0), dtype=H.dtype)))\n",
    "    rho = torch.inverse(exp_matrix + torch.eye(H.size(0), dtype=H.dtype))\n",
    "    return rho\n",
    "\n",
    "# Calculate the density matrix directly\n",
    "rho_direct = fermidirac(H, beta, mu)\n",
    "# rho_direct = compute_density_matrix(H, beta, mu)\n",
    "\n",
    "# Diagonalize the Hamiltonian\n",
    "eigenvalues, eigenvectors = torch.linalg.eigh(H)\n",
    "\n",
    "# Compute the density matrix in the eigenbasis\n",
    "fermi_dirac_eigenvalues = 1 / (torch.exp(beta * (eigenvalues - mu)) + 1)\n",
    "rho_eigenbasis = torch.diag(fermi_dirac_eigenvalues)\n",
    "\n",
    "# Transform rho back to the original basis\n",
    "rho_explicit = eigenvectors @ rho_eigenbasis @ eigenvectors.T\n",
    "\n",
    "# Check if both density matrices are equal\n",
    "print(\"Directly Computed Density Matrix (rho):\")\n",
    "print(rho_direct)\n",
    "\n",
    "print(\"\\nDensity Matrix from Diagonalization (rho_explicit):\")\n",
    "print(rho_explicit)\n",
    "\n",
    "# Check the difference\n",
    "difference = torch.norm(rho_direct - rho_explicit)\n",
    "print(f\"\\nDifference between the two methods: {difference.item()}\")\n"
   ]
  },
  {
   "cell_type": "code",
   "execution_count": 504,
   "id": "6e4700d5-f4f8-4666-8c47-af904c8fda0e",
   "metadata": {},
   "outputs": [
    {
     "name": "stdout",
     "output_type": "stream",
     "text": [
      "194 µs ± 5.86 µs per loop (mean ± std. dev. of 7 runs, 10,000 loops each)\n"
     ]
    }
   ],
   "source": [
    "%%timeit\n",
    "rho_direct = fermidirac(H, beta, mu)"
   ]
  },
  {
   "cell_type": "code",
   "execution_count": 505,
   "id": "4d4db7ba-90ee-41ee-83a1-19634a527652",
   "metadata": {},
   "outputs": [
    {
     "name": "stdout",
     "output_type": "stream",
     "text": [
      "206 µs ± 206 ns per loop (mean ± std. dev. of 7 runs, 10,000 loops each)\n"
     ]
    }
   ],
   "source": [
    "%%timeit\n",
    "rho_direct = compute_density_matrix(H, beta, mu)"
   ]
  },
  {
   "cell_type": "code",
   "execution_count": 517,
   "id": "a8b14836-92d0-4654-b3b2-0aae249242e6",
   "metadata": {},
   "outputs": [],
   "source": [
    "def compute_rho_explicit(H, beta, mu):\n",
    "    # Diagonalize the Hamiltonian\n",
    "    eigenvalues, eigenvectors = torch.linalg.eigh(H)\n",
    "    \n",
    "    # Compute the density matrix in the eigenbasis\n",
    "    fermi_dirac_eigenvalues = 1 / (torch.exp(beta * (eigenvalues - mu)) + 1)\n",
    "    rho_eigenbasis = torch.diag(fermi_dirac_eigenvalues)\n",
    "    \n",
    "    # Transform rho back to the original basis\n",
    "    return eigenvectors @ rho_eigenbasis @ eigenvectors.T"
   ]
  },
  {
   "cell_type": "code",
   "execution_count": 524,
   "id": "2e76c1ad-87a6-4212-90cf-e6b5864258f2",
   "metadata": {},
   "outputs": [
    {
     "name": "stdout",
     "output_type": "stream",
     "text": [
      "Density Matrix (rho):\n",
      "tensor([[ 0.2696,  0.0460, -0.0012],\n",
      "        [ 0.0460,  0.7287,  0.0221],\n",
      "        [-0.0012,  0.0221,  0.9513]])\n",
      "\n",
      "tensor([[ 6.2236e-01, -2.4457e-02,  2.4833e-04],\n",
      "        [-2.4457e-02,  3.7804e-01, -1.9490e-02],\n",
      "        [ 2.4833e-04, -1.9490e-02,  1.8288e-01]])\n"
     ]
    }
   ],
   "source": [
    "import torch\n",
    "\n",
    "def pade_approximation(A, m):\n",
    "    \"\"\" Compute the Padé approximation to the matrix exponential of A. \"\"\"\n",
    "    identity = torch.eye(A.size(0), dtype=A.dtype, device=A.device)\n",
    "    A2 = A @ A\n",
    "    A4 = A2 @ A2\n",
    "    A6 = A4 @ A2\n",
    "    \n",
    "    U = A @ (identity + A2 * (12.0 + A4))\n",
    "    V = identity + A2 * (6.0 + A4 * (60.0 + A6))\n",
    "    \n",
    "    return torch.linalg.solve(V - U, V + U)\n",
    "\n",
    "def scaling_and_squaring(A, beta):\n",
    "    \"\"\" Compute the matrix exponential exp(beta * A) using scaling and squaring. \"\"\"\n",
    "    n = torch.max(torch.zeros(1, dtype=torch.int32), torch.ceil(torch.log2(torch.linalg.norm(beta * A, ord=float('inf')))))\n",
    "    n = int(n.item())  # Convert to Python scalar\n",
    "    n = 50\n",
    "    A_scaled = beta * A / (2**n)\n",
    "    \n",
    "    exp_A_scaled = pade_approximation(A_scaled, m=6)  # Use Padé approximation with m=6\n",
    "    \n",
    "    exp_A = exp_A_scaled\n",
    "    for _ in range(n):\n",
    "        exp_A = exp_A @ exp_A\n",
    "    \n",
    "    return exp_A\n",
    "\n",
    "# Example Hamiltonian matrix (Hermitian matrix)\n",
    "H = torch.tensor([\n",
    "    [1.0, 0.1, 0.0],\n",
    "    [0.1, 2.0, 0.1],\n",
    "    [0.0, 0.1, 3.0]\n",
    "], dtype=torch.float64)\n",
    "\n",
    "# Parameters\n",
    "beta = 1.0  # inverse temperature (large value for low T regime)\n",
    "mu = 1.5      # chemical potential\n",
    "\n",
    "# Function to compute the density matrix using scaling and squaring\n",
    "def compute_density_matrix_stable(H, beta, mu):\n",
    "    # Identity matrix\n",
    "    I = torch.eye(H.size(0), dtype=H.dtype, device=H.device)\n",
    "    \n",
    "    # Shifted Hamiltonian\n",
    "    H_shifted = H - mu * I\n",
    "    \n",
    "    # Compute the matrix exponential using scaling and squaring\n",
    "    exp_neg_H_shifted = scaling_and_squaring(H_shifted, -beta)\n",
    "    \n",
    "    # Compute the density matrix using the stable formula\n",
    "    rho = torch.inverse(I + exp_neg_H_shifted)\n",
    "    \n",
    "    return rho\n",
    "\n",
    "# Calculate the density matrix using the stable method\n",
    "rho = compute_density_matrix_stable(H, beta, mu)\n",
    "\n",
    "print(\"Density Matrix (rho):\")\n",
    "print(rho)\n",
    "print()\n",
    "print(compute_rho_explicit(H, beta, mu))"
   ]
  },
  {
   "cell_type": "code",
   "execution_count": null,
   "id": "0a718de2-5c2a-4a37-bc1a-56810b5c3e41",
   "metadata": {},
   "outputs": [],
   "source": []
  },
  {
   "cell_type": "code",
   "execution_count": 699,
   "id": "55a1220d-8f04-4c69-802f-b449ab307138",
   "metadata": {},
   "outputs": [],
   "source": [
    "orbs_mult = {\n",
    "        species: \n",
    "            {tuple(k): v\n",
    "            for k, v in zip(\n",
    "                *np.unique(\n",
    "                    np.asarray(qmdata.basis[species])[:, :2],\n",
    "                    axis=0,\n",
    "                    return_counts=True,\n",
    "                )\n",
    "            )\n",
    "        }\n",
    "        for species in qmdata.basis\n",
    "    }"
   ]
  },
  {
   "cell_type": "code",
   "execution_count": 707,
   "id": "6ef1e1dc-c7cc-4026-9217-51b8235fcea6",
   "metadata": {},
   "outputs": [],
   "source": [
    "ai=aj=14\n",
    "orbs_i = orbs_mult[ai]\n",
    "orbs_j = orbs_mult[aj]\n",
    "shapes = {(k1 + k2): (orbs_i[tuple(k1)], orbs_j[tuple(k2)]) for k1 in orbs_i for k2 in orbs_j}"
   ]
  },
  {
   "cell_type": "code",
   "execution_count": 701,
   "id": "0f57f6c7-68ba-43e9-b87b-58d992bad6ef",
   "metadata": {},
   "outputs": [],
   "source": [
    "from mlelec.utils._utils import _orbs_offsets, _atom_blocks_idx\n",
    "dataset = qmdata\n",
    "orbs_tot, orbs_offset = _orbs_offsets(dataset.basis)\n",
    "atom_blocks_idx = _atom_blocks_idx(dataset.structures, orbs_tot)"
   ]
  },
  {
   "cell_type": "code",
   "execution_count": 714,
   "id": "2f352328-465d-4be1-90db-80ac14360f94",
   "metadata": {},
   "outputs": [],
   "source": []
  },
  {
   "cell_type": "code",
   "execution_count": 750,
   "id": "06b93d09-bca9-43c4-b89d-912b3d583226",
   "metadata": {},
   "outputs": [],
   "source": [
    "A,i,j=0,0,1\n",
    "ai=aj=14\n",
    "ni,li=3,0\n",
    "nj,lj=3,1"
   ]
  },
  {
   "cell_type": "code",
   "execution_count": 751,
   "id": "58c77b92-f839-4bed-8cd6-31578e1a0d46",
   "metadata": {},
   "outputs": [],
   "source": [
    "pos_ij = atom_blocks_idx[A,i,j]\n",
    "offsets = orbs_offset[(ai, ni, li)], orbs_offset[(aj, nj, lj)]\n",
    "dim = shapes[ni,li,nj,lj]"
   ]
  },
  {
   "cell_type": "code",
   "execution_count": 835,
   "id": "6749711c-11f4-41b8-8abb-d0f3cd5a8c2a",
   "metadata": {},
   "outputs": [],
   "source": [
    "nTs = [len(qmdata.fock_realspace[A]) for A in range(len(qmdata))]\n",
    "reconstructed_matrices = [torch.zeros((nT, nao, nao), dtype = torch.float64, device = device) for nT, nao in zip(nTs, qmdata.nao)]"
   ]
  },
  {
   "cell_type": "code",
   "execution_count": 836,
   "id": "f5e0c4d0-72f4-438a-844f-da0364013b1a",
   "metadata": {},
   "outputs": [],
   "source": [
    "T_dict = [{T: i for i, T in enumerate(H)} for H in qmdata.fock_realspace]"
   ]
  },
  {
   "cell_type": "code",
   "execution_count": 1011,
   "id": "b7746cea-d297-4a61-a19f-a1fe23b8778e",
   "metadata": {
    "scrolled": true
   },
   "outputs": [],
   "source": [
    "H_mask = {}\n",
    "B_mask = {}\n",
    "slices = {}\n",
    "factors = {}\n",
    "\n",
    "ISQRT_2 = 1/np.sqrt(2)\n",
    "sort_orbs = True\n",
    "all_pairs = False\n",
    "\n",
    "for k, b in unc_blocks.items():\n",
    "    kl = block_type, ai, ni, li, aj, nj, lj = tuple(k.values.tolist())\n",
    "    \n",
    "    bt1_factor = ISQRT_2 / (1 if (sort_orbs and ai == aj and ni == nj and li == lj) else 2) / (2 if all_pairs else 1)\n",
    "\n",
    "    orbs_i = orbs_mult[ai]\n",
    "    orbs_j = orbs_mult[aj]\n",
    "    \n",
    "    shapes = {(k1 + k2): (orbs_i[tuple(k1)], orbs_j[tuple(k2)]) for k1 in orbs_i for k2 in orbs_j}\n",
    "    offsets = orbs_offset[(ai, ni, li)], orbs_offset[(aj, nj, lj)]\n",
    "    dim = shapes[ni,li,nj,lj]\n",
    "\n",
    "    H_mask[kl] = {A: torch.zeros_like(H, dtype = torch.bool) for A, H in enumerate(reconstructed_matrices)}\n",
    "    B_mask[kl] = {A: torch.zeros_like(b.values, dtype = torch.bool) for A in range(len(reconstructed_matrices))}\n",
    "    slices[kl] = {}\n",
    "    factors[kl] = {}\n",
    "    \n",
    "    for i, ((A,i,j,Tx,Ty,Tz), val) in enumerate(zip(b.samples.values.tolist(), b.values)):\n",
    "\n",
    "        offsite_perm_fac = (0.5 if (i == j and Tx != 0 and Ty != 0 and Tz != 0 and not all_pairs) else 1)\n",
    "\n",
    "        bp, bm = _get_fac(block_type, sort_orbs, ni, nj, li, lj, offsite_perm_fac, bt1_factor)\n",
    "            \n",
    "        iT = T_dict[A][Tx,Ty,Tz]\n",
    "        \n",
    "        pos_ij = atom_blocks_idx[A,i,j]\n",
    "        slices_ = [slice(s+o, s+o+e) for s, (o,e) in itertools.product(pos_ij, zip(offsets, dim))]\n",
    "        slices_ = list(itertools.product(slices_[:2], slices_[2:]))\n",
    "        for s in slices_:\n",
    "            H_mask[kl][A][iT][s] = True\n",
    "\n",
    "        B_mask[kl][A][i] = True\n",
    "\n",
    "        if (A, iT) not in slices[kl]:\n",
    "            slices[kl][A,iT] = []\n",
    "            factors[kl][A,iT] = []\n",
    "        # for s in slices_:\n",
    "        slices[kl][A, iT].extend(slices_)\n",
    "        #     factors[kl][A, iT].append((bp, bm))\n",
    "        \n",
    "        # for s in slices_:\n",
    "        #     reconstructed_matrices[A][iT, s].add_(val*f)"
   ]
  },
  {
   "cell_type": "code",
   "execution_count": 1026,
   "id": "f4a9320c-8b1b-42b1-89df-54cd88ebf65e",
   "metadata": {},
   "outputs": [
    {
     "data": {
      "text/plain": [
       "TensorMap with 8 blocks\n",
       "keys: block_type  species_i  n_i  l_i  species_j  n_j  l_j\n",
       "          -1         14       3    1      14       3    1\n",
       "          -1         14       3    0      14       3    1\n",
       "          0          14       3    0      14       3    0\n",
       "          0          14       3    1      14       3    1\n",
       "          0          14       3    0      14       3    1\n",
       "          1          14       3    0      14       3    0\n",
       "          1          14       3    1      14       3    1\n",
       "          1          14       3    0      14       3    1"
      ]
     },
     "execution_count": 1026,
     "metadata": {},
     "output_type": "execute_result"
    }
   ],
   "source": [
    "unc_blocks"
   ]
  },
  {
   "cell_type": "code",
   "execution_count": 1028,
   "id": "5a09a187-170f-4b43-89bb-ba4f166bc66b",
   "metadata": {},
   "outputs": [
    {
     "data": {
      "text/plain": [
       "torch.Size([27])"
      ]
     },
     "execution_count": 1028,
     "metadata": {},
     "output_type": "execute_result"
    }
   ],
   "source": [
    "unc_blocks[0].values[B_mask[(-1,\n",
    "  14,\n",
    "  3,\n",
    "  1,\n",
    "  14,\n",
    "  3,\n",
    "  1)][0]].shape"
   ]
  },
  {
   "cell_type": "code",
   "execution_count": 1043,
   "id": "a824d48c-d405-4f7b-bf75-85fb26f8cc15",
   "metadata": {},
   "outputs": [
    {
     "ename": "IndexError",
     "evalue": "too many indices for tensor of dimension 1",
     "output_type": "error",
     "traceback": [
      "\u001b[0;31m---------------------------------------------------------------------------\u001b[0m",
      "\u001b[0;31mIndexError\u001b[0m                                Traceback (most recent call last)",
      "Cell \u001b[0;32mIn[1043], line 22\u001b[0m\n\u001b[1;32m     19\u001b[0m tensor \u001b[38;5;241m=\u001b[39m torch\u001b[38;5;241m.\u001b[39marange(\u001b[38;5;241m20\u001b[39m)\n\u001b[1;32m     20\u001b[0m indices \u001b[38;5;241m=\u001b[39m [[\u001b[38;5;241m2\u001b[39m, \u001b[38;5;241m5\u001b[39m], [\u001b[38;5;241m8\u001b[39m, \u001b[38;5;241m12\u001b[39m], [\u001b[38;5;241m15\u001b[39m, \u001b[38;5;241m18\u001b[39m]]\n\u001b[0;32m---> 22\u001b[0m result \u001b[38;5;241m=\u001b[39m \u001b[43mget_subblocks\u001b[49m\u001b[43m(\u001b[49m\u001b[43mtensor\u001b[49m\u001b[43m,\u001b[49m\u001b[43m \u001b[49m\u001b[43mindices\u001b[49m\u001b[43m)\u001b[49m\n\u001b[1;32m     23\u001b[0m \u001b[38;5;28mprint\u001b[39m(result)\n",
      "Cell \u001b[0;32mIn[1043], line 14\u001b[0m, in \u001b[0;36mget_subblocks\u001b[0;34m(tensor, indices)\u001b[0m\n\u001b[1;32m     11\u001b[0m mask \u001b[38;5;241m=\u001b[39m (range_tensor \u001b[38;5;241m>\u001b[39m\u001b[38;5;241m=\u001b[39m indices_tensor[:, \u001b[38;5;241m0\u001b[39m]\u001b[38;5;241m.\u001b[39munsqueeze(\u001b[38;5;241m1\u001b[39m)) \u001b[38;5;241m&\u001b[39m (range_tensor \u001b[38;5;241m<\u001b[39m indices_tensor[:, \u001b[38;5;241m1\u001b[39m]\u001b[38;5;241m.\u001b[39munsqueeze(\u001b[38;5;241m1\u001b[39m))\n\u001b[1;32m     13\u001b[0m \u001b[38;5;66;03m# Use the mask to select the subblocks\u001b[39;00m\n\u001b[0;32m---> 14\u001b[0m selected_subblocks \u001b[38;5;241m=\u001b[39m \u001b[43mtensor\u001b[49m\u001b[43m[\u001b[49m\u001b[43mmask\u001b[49m\u001b[43m]\u001b[49m\n\u001b[1;32m     16\u001b[0m \u001b[38;5;28;01mreturn\u001b[39;00m selected_subblocks\n",
      "\u001b[0;31mIndexError\u001b[0m: too many indices for tensor of dimension 1"
     ]
    }
   ],
   "source": [
    "import torch\n",
    "\n",
    "def get_subblocks(tensor, indices):\n",
    "    # Convert indices to tensor\n",
    "    indices_tensor = torch.tensor(indices, dtype=torch.long)\n",
    "    \n",
    "    # Create a range tensor\n",
    "    range_tensor = torch.arange(tensor.size(0), device=tensor.device).unsqueeze(0)\n",
    "    \n",
    "    # Create a mask for the desired subblocks\n",
    "    mask = (range_tensor >= indices_tensor[:, 0].unsqueeze(1)) & (range_tensor < indices_tensor[:, 1].unsqueeze(1))\n",
    "    \n",
    "    # Use the mask to select the subblocks\n",
    "    selected_subblocks = tensor[mask]\n",
    "    \n",
    "    return selected_subblocks\n",
    "\n",
    "# Example usage\n",
    "tensor = torch.arange(20)\n",
    "indices = [[2, 5], [8, 12], [15, 18]]\n",
    "\n",
    "result = get_subblocks(tensor, indices)\n",
    "print(result)"
   ]
  },
  {
   "cell_type": "code",
   "execution_count": 1042,
   "id": "ad4586aa-1dda-4d6d-a456-8751499bd36e",
   "metadata": {},
   "outputs": [
    {
     "data": {
      "text/plain": [
       "array([[-0.0851156 , -0.56430103,  0.96676801],\n",
       "       [ 0.20727075,  0.30773257,  0.15925047],\n",
       "       [-0.25595767, -0.34804638, -0.78236697]])"
      ]
     },
     "execution_count": 1042,
     "metadata": {},
     "output_type": "execute_result"
    }
   ],
   "source": [
    "a[0:3,0:3]"
   ]
  },
  {
   "cell_type": "code",
   "execution_count": 1033,
   "id": "76042375-4b7f-457b-abc1-61180a156623",
   "metadata": {},
   "outputs": [
    {
     "data": {
      "text/plain": [
       "torch.Size([63, 16, 16])"
      ]
     },
     "execution_count": 1033,
     "metadata": {},
     "output_type": "execute_result"
    }
   ],
   "source": [
    "H_mask[(-1,14,3,1,14,3,1)][0].shape"
   ]
  },
  {
   "cell_type": "code",
   "execution_count": 1034,
   "id": "ad4a1582-02fb-435f-84f1-355de3d0afa4",
   "metadata": {},
   "outputs": [
    {
     "data": {
      "text/plain": [
       "torch.Size([81])"
      ]
     },
     "execution_count": 1034,
     "metadata": {},
     "output_type": "execute_result"
    }
   ],
   "source": [
    "A = 0\n",
    "reconstructed_matrices[A][H_mask[(-1,14,3,1,14,3,1)][A]].shape"
   ]
  },
  {
   "cell_type": "code",
   "execution_count": null,
   "id": "d9094607-dbe9-44fb-82dd-aef8700bc4ab",
   "metadata": {},
   "outputs": [],
   "source": [
    "unc_blocks[0].samples.values[3:]"
   ]
  },
  {
   "cell_type": "code",
   "execution_count": 1016,
   "id": "0f5f4f64-74dd-49dd-b6b6-b0e357db7c62",
   "metadata": {},
   "outputs": [
    {
     "data": {
      "text/plain": [
       "tensor([[0., 0., 0.],\n",
       "        [0., 0., 0.],\n",
       "        [0., 0., 0.]])"
      ]
     },
     "execution_count": 1016,
     "metadata": {},
     "output_type": "execute_result"
    }
   ],
   "source": [
    "reconstructed_matrices[0][0][slices[(-1,\n",
    "  14,\n",
    "  3,\n",
    "  1,\n",
    "  14,\n",
    "  3,\n",
    "  1)][0,0][0]]"
   ]
  },
  {
   "cell_type": "code",
   "execution_count": 1002,
   "id": "77f332c7-a4d6-4a45-b30a-85f0614a0d7f",
   "metadata": {},
   "outputs": [
    {
     "ename": "IndexError",
     "evalue": "too many indices for tensor of dimension 2",
     "output_type": "error",
     "traceback": [
      "\u001b[0;31m---------------------------------------------------------------------------\u001b[0m",
      "\u001b[0;31mIndexError\u001b[0m                                Traceback (most recent call last)",
      "Cell \u001b[0;32mIn[1002], line 1\u001b[0m\n\u001b[0;32m----> 1\u001b[0m \u001b[43mreconstructed_matrices\u001b[49m\u001b[43m[\u001b[49m\u001b[38;5;241;43m0\u001b[39;49m\u001b[43m]\u001b[49m\u001b[43m[\u001b[49m\u001b[38;5;241;43m0\u001b[39;49m\u001b[43m]\u001b[49m\u001b[43m[\u001b[49m\u001b[43mslices\u001b[49m\u001b[43m[\u001b[49m\u001b[43m(\u001b[49m\u001b[38;5;241;43m-\u001b[39;49m\u001b[38;5;241;43m1\u001b[39;49m\u001b[43m,\u001b[49m\n\u001b[1;32m      2\u001b[0m \u001b[43m  \u001b[49m\u001b[38;5;241;43m14\u001b[39;49m\u001b[43m,\u001b[49m\n\u001b[1;32m      3\u001b[0m \u001b[43m  \u001b[49m\u001b[38;5;241;43m3\u001b[39;49m\u001b[43m,\u001b[49m\n\u001b[1;32m      4\u001b[0m \u001b[43m  \u001b[49m\u001b[38;5;241;43m1\u001b[39;49m\u001b[43m,\u001b[49m\n\u001b[1;32m      5\u001b[0m \u001b[43m  \u001b[49m\u001b[38;5;241;43m14\u001b[39;49m\u001b[43m,\u001b[49m\n\u001b[1;32m      6\u001b[0m \u001b[43m  \u001b[49m\u001b[38;5;241;43m3\u001b[39;49m\u001b[43m,\u001b[49m\n\u001b[1;32m      7\u001b[0m \u001b[43m  \u001b[49m\u001b[38;5;241;43m1\u001b[39;49m\u001b[43m)\u001b[49m\u001b[43m]\u001b[49m\u001b[43m[\u001b[49m\u001b[38;5;241;43m0\u001b[39;49m\u001b[43m,\u001b[49m\u001b[38;5;241;43m0\u001b[39;49m\u001b[43m]\u001b[49m\u001b[43m]\u001b[49m\n",
      "\u001b[0;31mIndexError\u001b[0m: too many indices for tensor of dimension 2"
     ]
    }
   ],
   "source": [
    "reconstructed_matrices[0][0][slices[(-1,\n",
    "  14,\n",
    "  3,\n",
    "  1,\n",
    "  14,\n",
    "  3,\n",
    "  1)][0,0]]"
   ]
  },
  {
   "cell_type": "code",
   "execution_count": 996,
   "id": "91564463-2e6e-4884-8e94-6226cc7edfd7",
   "metadata": {},
   "outputs": [
    {
     "data": {
      "text/plain": [
       "torch.Size([3, 1, 3])"
      ]
     },
     "execution_count": 996,
     "metadata": {},
     "output_type": "execute_result"
    }
   ],
   "source": [
    "reconstructed_matrices[0][0:3,3:4,3:6].shape"
   ]
  },
  {
   "cell_type": "code",
   "execution_count": 976,
   "id": "7388f12c-209d-4366-9112-dc274657f7ee",
   "metadata": {
    "scrolled": true
   },
   "outputs": [
    {
     "data": {
      "text/plain": [
       "{(-1,\n",
       "  14,\n",
       "  3,\n",
       "  1,\n",
       "  14,\n",
       "  3,\n",
       "  1): {(0, 0): [slice(1, 4, None),\n",
       "   slice(1, 4, None),\n",
       "   slice(5, 8, None),\n",
       "   slice(5, 8, None),\n",
       "   slice(1, 4, None),\n",
       "   slice(1, 4, None),\n",
       "   slice(9, 12, None),\n",
       "   slice(9, 12, None),\n",
       "   slice(1, 4, None),\n",
       "   slice(1, 4, None),\n",
       "   slice(13, 16, None),\n",
       "   slice(13, 16, None),\n",
       "   slice(5, 8, None),\n",
       "   slice(5, 8, None),\n",
       "   slice(9, 12, None),\n",
       "   slice(9, 12, None),\n",
       "   slice(5, 8, None),\n",
       "   slice(5, 8, None),\n",
       "   slice(13, 16, None),\n",
       "   slice(13, 16, None),\n",
       "   slice(9, 12, None),\n",
       "   slice(9, 12, None),\n",
       "   slice(13, 16, None),\n",
       "   slice(13, 16, None)], (0, 3): [slice(1, 4, None),\n",
       "   slice(1, 4, None),\n",
       "   slice(9, 12, None),\n",
       "   slice(9, 12, None)], (0, 4): [slice(5, 8, None),\n",
       "   slice(5, 8, None),\n",
       "   slice(13, 16, None),\n",
       "   slice(13, 16, None),\n",
       "   slice(9, 12, None),\n",
       "   slice(9, 12, None),\n",
       "   slice(13, 16, None),\n",
       "   slice(13, 16, None)]},\n",
       " (-1,\n",
       "  14,\n",
       "  3,\n",
       "  0,\n",
       "  14,\n",
       "  3,\n",
       "  1): {(0, 0): [slice(0, 1, None),\n",
       "   slice(1, 4, None),\n",
       "   slice(4, 5, None),\n",
       "   slice(5, 8, None),\n",
       "   slice(0, 1, None),\n",
       "   slice(1, 4, None),\n",
       "   slice(8, 9, None),\n",
       "   slice(9, 12, None),\n",
       "   slice(0, 1, None),\n",
       "   slice(1, 4, None),\n",
       "   slice(12, 13, None),\n",
       "   slice(13, 16, None),\n",
       "   slice(4, 5, None),\n",
       "   slice(5, 8, None),\n",
       "   slice(8, 9, None),\n",
       "   slice(9, 12, None),\n",
       "   slice(4, 5, None),\n",
       "   slice(5, 8, None),\n",
       "   slice(12, 13, None),\n",
       "   slice(13, 16, None),\n",
       "   slice(8, 9, None),\n",
       "   slice(9, 12, None),\n",
       "   slice(12, 13, None),\n",
       "   slice(13, 16, None)], (0, 3): [slice(0, 1, None),\n",
       "   slice(1, 4, None),\n",
       "   slice(8, 9, None),\n",
       "   slice(9, 12, None)], (0, 4): [slice(4, 5, None),\n",
       "   slice(5, 8, None),\n",
       "   slice(12, 13, None),\n",
       "   slice(13, 16, None),\n",
       "   slice(8, 9, None),\n",
       "   slice(9, 12, None),\n",
       "   slice(12, 13, None),\n",
       "   slice(13, 16, None)]},\n",
       " (0,\n",
       "  14,\n",
       "  3,\n",
       "  0,\n",
       "  14,\n",
       "  3,\n",
       "  0): {(0, 0): [slice(0, 1, None),\n",
       "   slice(0, 1, None),\n",
       "   slice(0, 1, None),\n",
       "   slice(0, 1, None),\n",
       "   slice(4, 5, None),\n",
       "   slice(4, 5, None),\n",
       "   slice(4, 5, None),\n",
       "   slice(4, 5, None),\n",
       "   slice(8, 9, None),\n",
       "   slice(8, 9, None),\n",
       "   slice(8, 9, None),\n",
       "   slice(8, 9, None),\n",
       "   slice(12, 13, None),\n",
       "   slice(12, 13, None),\n",
       "   slice(12, 13, None),\n",
       "   slice(12, 13, None)]},\n",
       " (0,\n",
       "  14,\n",
       "  3,\n",
       "  1,\n",
       "  14,\n",
       "  3,\n",
       "  1): {(0, 0): [slice(1, 4, None),\n",
       "   slice(1, 4, None),\n",
       "   slice(1, 4, None),\n",
       "   slice(1, 4, None),\n",
       "   slice(5, 8, None),\n",
       "   slice(5, 8, None),\n",
       "   slice(5, 8, None),\n",
       "   slice(5, 8, None),\n",
       "   slice(9, 12, None),\n",
       "   slice(9, 12, None),\n",
       "   slice(9, 12, None),\n",
       "   slice(9, 12, None),\n",
       "   slice(13, 16, None),\n",
       "   slice(13, 16, None),\n",
       "   slice(13, 16, None),\n",
       "   slice(13, 16, None)]},\n",
       " (0,\n",
       "  14,\n",
       "  3,\n",
       "  0,\n",
       "  14,\n",
       "  3,\n",
       "  1): {(0, 0): [slice(0, 1, None),\n",
       "   slice(1, 4, None),\n",
       "   slice(0, 1, None),\n",
       "   slice(1, 4, None),\n",
       "   slice(4, 5, None),\n",
       "   slice(5, 8, None),\n",
       "   slice(4, 5, None),\n",
       "   slice(5, 8, None),\n",
       "   slice(8, 9, None),\n",
       "   slice(9, 12, None),\n",
       "   slice(8, 9, None),\n",
       "   slice(9, 12, None),\n",
       "   slice(12, 13, None),\n",
       "   slice(13, 16, None),\n",
       "   slice(12, 13, None),\n",
       "   slice(13, 16, None)]},\n",
       " (1,\n",
       "  14,\n",
       "  3,\n",
       "  0,\n",
       "  14,\n",
       "  3,\n",
       "  0): {(0, 0): [slice(0, 1, None),\n",
       "   slice(0, 1, None),\n",
       "   slice(4, 5, None),\n",
       "   slice(4, 5, None),\n",
       "   slice(0, 1, None),\n",
       "   slice(0, 1, None),\n",
       "   slice(8, 9, None),\n",
       "   slice(8, 9, None),\n",
       "   slice(0, 1, None),\n",
       "   slice(0, 1, None),\n",
       "   slice(12, 13, None),\n",
       "   slice(12, 13, None),\n",
       "   slice(4, 5, None),\n",
       "   slice(4, 5, None),\n",
       "   slice(8, 9, None),\n",
       "   slice(8, 9, None),\n",
       "   slice(4, 5, None),\n",
       "   slice(4, 5, None),\n",
       "   slice(12, 13, None),\n",
       "   slice(12, 13, None),\n",
       "   slice(8, 9, None),\n",
       "   slice(8, 9, None),\n",
       "   slice(12, 13, None),\n",
       "   slice(12, 13, None)], (0, 3): [slice(0, 1, None),\n",
       "   slice(0, 1, None),\n",
       "   slice(8, 9, None),\n",
       "   slice(8, 9, None)], (0, 4): [slice(4, 5, None),\n",
       "   slice(4, 5, None),\n",
       "   slice(12, 13, None),\n",
       "   slice(12, 13, None),\n",
       "   slice(8, 9, None),\n",
       "   slice(8, 9, None),\n",
       "   slice(12, 13, None),\n",
       "   slice(12, 13, None)]},\n",
       " (1,\n",
       "  14,\n",
       "  3,\n",
       "  1,\n",
       "  14,\n",
       "  3,\n",
       "  1): {(0, 0): [slice(1, 4, None),\n",
       "   slice(1, 4, None),\n",
       "   slice(5, 8, None),\n",
       "   slice(5, 8, None),\n",
       "   slice(1, 4, None),\n",
       "   slice(1, 4, None),\n",
       "   slice(9, 12, None),\n",
       "   slice(9, 12, None),\n",
       "   slice(1, 4, None),\n",
       "   slice(1, 4, None),\n",
       "   slice(13, 16, None),\n",
       "   slice(13, 16, None),\n",
       "   slice(5, 8, None),\n",
       "   slice(5, 8, None),\n",
       "   slice(9, 12, None),\n",
       "   slice(9, 12, None),\n",
       "   slice(5, 8, None),\n",
       "   slice(5, 8, None),\n",
       "   slice(13, 16, None),\n",
       "   slice(13, 16, None),\n",
       "   slice(9, 12, None),\n",
       "   slice(9, 12, None),\n",
       "   slice(13, 16, None),\n",
       "   slice(13, 16, None)], (0, 3): [slice(1, 4, None),\n",
       "   slice(1, 4, None),\n",
       "   slice(9, 12, None),\n",
       "   slice(9, 12, None)], (0, 4): [slice(5, 8, None),\n",
       "   slice(5, 8, None),\n",
       "   slice(13, 16, None),\n",
       "   slice(13, 16, None),\n",
       "   slice(9, 12, None),\n",
       "   slice(9, 12, None),\n",
       "   slice(13, 16, None),\n",
       "   slice(13, 16, None)]},\n",
       " (1,\n",
       "  14,\n",
       "  3,\n",
       "  0,\n",
       "  14,\n",
       "  3,\n",
       "  1): {(0, 0): [slice(0, 1, None),\n",
       "   slice(1, 4, None),\n",
       "   slice(4, 5, None),\n",
       "   slice(5, 8, None),\n",
       "   slice(0, 1, None),\n",
       "   slice(1, 4, None),\n",
       "   slice(8, 9, None),\n",
       "   slice(9, 12, None),\n",
       "   slice(0, 1, None),\n",
       "   slice(1, 4, None),\n",
       "   slice(12, 13, None),\n",
       "   slice(13, 16, None),\n",
       "   slice(4, 5, None),\n",
       "   slice(5, 8, None),\n",
       "   slice(8, 9, None),\n",
       "   slice(9, 12, None),\n",
       "   slice(4, 5, None),\n",
       "   slice(5, 8, None),\n",
       "   slice(12, 13, None),\n",
       "   slice(13, 16, None),\n",
       "   slice(8, 9, None),\n",
       "   slice(9, 12, None),\n",
       "   slice(12, 13, None),\n",
       "   slice(13, 16, None)], (0, 3): [slice(0, 1, None),\n",
       "   slice(1, 4, None),\n",
       "   slice(8, 9, None),\n",
       "   slice(9, 12, None)], (0, 4): [slice(4, 5, None),\n",
       "   slice(5, 8, None),\n",
       "   slice(12, 13, None),\n",
       "   slice(13, 16, None),\n",
       "   slice(8, 9, None),\n",
       "   slice(9, 12, None),\n",
       "   slice(12, 13, None),\n",
       "   slice(13, 16, None)]}}"
      ]
     },
     "execution_count": 976,
     "metadata": {},
     "output_type": "execute_result"
    }
   ],
   "source": [
    "for k, b in unc_blocks.items():\n",
    "    kl = block_type, ai, ni, li, aj, nj, lj = tuple(k.values.tolist())\n",
    "    \n",
    "    for A,iT in slices[kl]:\n",
    "        slices_ = slices[kl][A,iT]\n",
    "        for s, bp, bm in zip(slices_, factors[kl][A,iT]):\n",
    "            reconstructed_matrices[A][iT] += "
   ]
  },
  {
   "cell_type": "code",
   "execution_count": 972,
   "id": "e41fee26-29a9-479a-b2e0-eb7bfc7cdaa7",
   "metadata": {},
   "outputs": [],
   "source": [
    "def _get_fac(block_type, sort_orbs, ni, nj, li, lj, offsite_perm_fac, bt1_factor):\n",
    "    if block_type == 0:\n",
    "        bp = 0.5 if not sort_orbs else (1 if not (ni == nj and li == lj) else 0.5)\n",
    "        bm = bp * offsite_perm_fac\n",
    "    elif block_type == 2:\n",
    "        bp = 0.5 if not all_pairs else 1\n",
    "        bm = bp * offsite_perm_fac\n",
    "    else:\n",
    "        bp = bt1_factor * offsite_perm_fac \n",
    "        bm = -bt1_factor * offsite_perm_fac \n",
    "    return bp, bm"
   ]
  },
  {
   "cell_type": "code",
   "execution_count": 969,
   "id": "84c95c79-845e-4ad8-8c58-9ae5d76217f1",
   "metadata": {},
   "outputs": [
    {
     "name": "stdout",
     "output_type": "stream",
     "text": [
      "torch.Size([432])\n",
      "torch.Size([27])\n"
     ]
    }
   ],
   "source": [
    "k = next(iter(H_mask))\n",
    "print(reconstructed_matrices[0][H_mask[k][0]].shape)\n",
    "print(unc_blocks[0].values[B_mask[k][0]].shape)"
   ]
  },
  {
   "cell_type": "code",
   "execution_count": 970,
   "id": "0341f80a-7f08-4c7c-8692-3dce5f6f33b1",
   "metadata": {},
   "outputs": [
    {
     "data": {
      "text/plain": [
       "16.0"
      ]
     },
     "execution_count": 970,
     "metadata": {},
     "output_type": "execute_result"
    }
   ],
   "source": [
    "432/27"
   ]
  },
  {
   "cell_type": "code",
   "execution_count": 933,
   "id": "95a736c1-abf0-4f74-9a65-917cd0028890",
   "metadata": {},
   "outputs": [],
   "source": [
    "block_type, ai, ni, li, aj, nj, lj = -1, 14, 3, 0, 14, 3, 1\n",
    "\n",
    "orbs_i = orbs_mult[ai]\n",
    "orbs_j = orbs_mult[aj]\n",
    "\n",
    "shapes = {(k1 + k2): (orbs_i[tuple(k1)], orbs_j[tuple(k2)]) for k1 in orbs_i for k2 in orbs_j}\n",
    "offsets = orbs_offset[(ai, ni, li)], orbs_offset[(aj, nj, lj)]\n",
    "dim = shapes[ni,li,nj,lj]\n",
    "\n",
    "A,i,j,Tx,Ty,Tz=0,0,1,0,0,0\n",
    "iT = T_dict[A][Tx,Ty,Tz]\n",
    "\n",
    "pos_ij = atom_blocks_idx[A,i,j]\n",
    "p = [slice(p+o, p+o+d) for p, o, d in zip(pos_ij, offsets, dim)]"
   ]
  },
  {
   "cell_type": "code",
   "execution_count": 934,
   "id": "e24a1bbf-0997-4c98-b94c-9c5acd6de385",
   "metadata": {},
   "outputs": [],
   "source": [
    "# start = ['i_start', 'j_start']\n",
    "# end = ['phi_end', 'psi_end']\n",
    "# off = ['phi_offset', 'psi_offset']\n",
    "# start = ['i ', 'j ']\n",
    "# end = ['ae ', 'be ']\n",
    "# off = ['ao ', 'bo ']\n",
    "start = pos_ij\n",
    "end = dim\n",
    "offset = offsets\n",
    "\n",
    "import itertools"
   ]
  },
  {
   "cell_type": "code",
   "execution_count": 935,
   "id": "8fc9b2b7-b4e6-4a6c-bf2a-0087e103cff8",
   "metadata": {},
   "outputs": [
    {
     "data": {
      "text/plain": [
       "[(slice(0, 1, None), slice(4, 5, None)),\n",
       " (slice(0, 1, None), slice(5, 8, None)),\n",
       " (slice(1, 4, None), slice(4, 5, None)),\n",
       " (slice(1, 4, None), slice(5, 8, None))]"
      ]
     },
     "execution_count": 935,
     "metadata": {},
     "output_type": "execute_result"
    }
   ],
   "source": [
    "all = [slice(s+o, s+o+e) for s, (o,e) in itertools.product(start, zip(offset, end))]\n",
    "list(itertools.product(all[:2], all[2:]))"
   ]
  },
  {
   "cell_type": "code",
   "execution_count": 914,
   "id": "60ecbee3-fdc0-4175-86b9-7e2d9157115a",
   "metadata": {},
   "outputs": [],
   "source": [
    "first = [((s,o), (s,o,e)) for s, (o,e) in itertools.product(start, zip(off, end))]"
   ]
  },
  {
   "cell_type": "code",
   "execution_count": 900,
   "id": "09349083-5622-4d3d-b995-95b1292e0ecb",
   "metadata": {
    "scrolled": true
   },
   "outputs": [
    {
     "data": {
      "text/plain": [
       "[(('i ao ', 'i ao ae '), ('i ao ', 'i ao ae ')),\n",
       " (('i ao ', 'i ao ae '), ('i ao ', 'i ao be ')),\n",
       " (('i ao ', 'i ao ae '), ('i bo ', 'i bo ae ')),\n",
       " (('i ao ', 'i ao ae '), ('i bo ', 'i bo be ')),\n",
       " (('i ao ', 'i ao ae '), ('j ao ', 'j ao ae ')),\n",
       " (('i ao ', 'i ao ae '), ('j ao ', 'j ao be ')),\n",
       " (('i ao ', 'i ao ae '), ('j bo ', 'j bo ae ')),\n",
       " (('i ao ', 'i ao ae '), ('j bo ', 'j bo be ')),\n",
       " (('i ao ', 'i ao be '), ('i ao ', 'i ao ae ')),\n",
       " (('i ao ', 'i ao be '), ('i ao ', 'i ao be ')),\n",
       " (('i ao ', 'i ao be '), ('i bo ', 'i bo ae ')),\n",
       " (('i ao ', 'i ao be '), ('i bo ', 'i bo be ')),\n",
       " (('i ao ', 'i ao be '), ('j ao ', 'j ao ae ')),\n",
       " (('i ao ', 'i ao be '), ('j ao ', 'j ao be ')),\n",
       " (('i ao ', 'i ao be '), ('j bo ', 'j bo ae ')),\n",
       " (('i ao ', 'i ao be '), ('j bo ', 'j bo be ')),\n",
       " (('i bo ', 'i bo ae '), ('i ao ', 'i ao ae ')),\n",
       " (('i bo ', 'i bo ae '), ('i ao ', 'i ao be ')),\n",
       " (('i bo ', 'i bo ae '), ('i bo ', 'i bo ae ')),\n",
       " (('i bo ', 'i bo ae '), ('i bo ', 'i bo be ')),\n",
       " (('i bo ', 'i bo ae '), ('j ao ', 'j ao ae ')),\n",
       " (('i bo ', 'i bo ae '), ('j ao ', 'j ao be ')),\n",
       " (('i bo ', 'i bo ae '), ('j bo ', 'j bo ae ')),\n",
       " (('i bo ', 'i bo ae '), ('j bo ', 'j bo be ')),\n",
       " (('i bo ', 'i bo be '), ('i ao ', 'i ao ae ')),\n",
       " (('i bo ', 'i bo be '), ('i ao ', 'i ao be ')),\n",
       " (('i bo ', 'i bo be '), ('i bo ', 'i bo ae ')),\n",
       " (('i bo ', 'i bo be '), ('i bo ', 'i bo be ')),\n",
       " (('i bo ', 'i bo be '), ('j ao ', 'j ao ae ')),\n",
       " (('i bo ', 'i bo be '), ('j ao ', 'j ao be ')),\n",
       " (('i bo ', 'i bo be '), ('j bo ', 'j bo ae ')),\n",
       " (('i bo ', 'i bo be '), ('j bo ', 'j bo be ')),\n",
       " (('j ao ', 'j ao ae '), ('i ao ', 'i ao ae ')),\n",
       " (('j ao ', 'j ao ae '), ('i ao ', 'i ao be ')),\n",
       " (('j ao ', 'j ao ae '), ('i bo ', 'i bo ae ')),\n",
       " (('j ao ', 'j ao ae '), ('i bo ', 'i bo be ')),\n",
       " (('j ao ', 'j ao ae '), ('j ao ', 'j ao ae ')),\n",
       " (('j ao ', 'j ao ae '), ('j ao ', 'j ao be ')),\n",
       " (('j ao ', 'j ao ae '), ('j bo ', 'j bo ae ')),\n",
       " (('j ao ', 'j ao ae '), ('j bo ', 'j bo be ')),\n",
       " (('j ao ', 'j ao be '), ('i ao ', 'i ao ae ')),\n",
       " (('j ao ', 'j ao be '), ('i ao ', 'i ao be ')),\n",
       " (('j ao ', 'j ao be '), ('i bo ', 'i bo ae ')),\n",
       " (('j ao ', 'j ao be '), ('i bo ', 'i bo be ')),\n",
       " (('j ao ', 'j ao be '), ('j ao ', 'j ao ae ')),\n",
       " (('j ao ', 'j ao be '), ('j ao ', 'j ao be ')),\n",
       " (('j ao ', 'j ao be '), ('j bo ', 'j bo ae ')),\n",
       " (('j ao ', 'j ao be '), ('j bo ', 'j bo be ')),\n",
       " (('j bo ', 'j bo ae '), ('i ao ', 'i ao ae ')),\n",
       " (('j bo ', 'j bo ae '), ('i ao ', 'i ao be ')),\n",
       " (('j bo ', 'j bo ae '), ('i bo ', 'i bo ae ')),\n",
       " (('j bo ', 'j bo ae '), ('i bo ', 'i bo be ')),\n",
       " (('j bo ', 'j bo ae '), ('j ao ', 'j ao ae ')),\n",
       " (('j bo ', 'j bo ae '), ('j ao ', 'j ao be ')),\n",
       " (('j bo ', 'j bo ae '), ('j bo ', 'j bo ae ')),\n",
       " (('j bo ', 'j bo ae '), ('j bo ', 'j bo be ')),\n",
       " (('j bo ', 'j bo be '), ('i ao ', 'i ao ae ')),\n",
       " (('j bo ', 'j bo be '), ('i ao ', 'i ao be ')),\n",
       " (('j bo ', 'j bo be '), ('i bo ', 'i bo ae ')),\n",
       " (('j bo ', 'j bo be '), ('i bo ', 'i bo be ')),\n",
       " (('j bo ', 'j bo be '), ('j ao ', 'j ao ae ')),\n",
       " (('j bo ', 'j bo be '), ('j ao ', 'j ao be ')),\n",
       " (('j bo ', 'j bo be '), ('j bo ', 'j bo ae ')),\n",
       " (('j bo ', 'j bo be '), ('j bo ', 'j bo be '))]"
      ]
     },
     "execution_count": 900,
     "metadata": {},
     "output_type": "execute_result"
    }
   ],
   "source": [
    "[((s1 + o1, s1 + o1 + e1), (s2 + o2, s2 + o2 + e2)) for (s1,o1,e1), (s2,o2,e2) in itertools.product(itertools.product(start, off, end), repeat = 2)]"
   ]
  },
  {
   "cell_type": "code",
   "execution_count": 949,
   "id": "ed375f22-cafa-46f2-8cb1-9537c94aca1f",
   "metadata": {},
   "outputs": [
    {
     "data": {
      "text/plain": [
       "<matplotlib.colorbar.Colorbar at 0x7d840f6ee4d0>"
      ]
     },
     "execution_count": 949,
     "metadata": {},
     "output_type": "execute_result"
    },
    {
     "data": {
      "image/png": "[encoded data removed]",
      "text/plain": [
       "<Figure size 480x480 with 2 Axes>"
      ]
     },
     "metadata": {},
     "output_type": "display_data"
    }
   ],
   "source": [
    "plt.matshow(sum(mask[kl][0][4] for k in mask))\n",
    "plt.colorbar()"
   ]
  },
  {
   "cell_type": "code",
   "execution_count": 867,
   "id": "a5c1e74c-9218-46b4-96ec-33c0612ee157",
   "metadata": {},
   "outputs": [
    {
     "data": {
      "text/plain": [
       "TensorBlock\n",
       "    samples (9): ['structure', 'center', 'neighbor', 'cell_shift_a', 'cell_shift_b', 'cell_shift_c']\n",
       "    components (3, 3): ['m_i', 'm_j']\n",
       "    properties (1): ['dummy']\n",
       "    gradients: None"
      ]
     },
     "execution_count": 867,
     "metadata": {},
     "output_type": "execute_result"
    }
   ],
   "source": [
    "iphi_jpsi_slice = (slice(i_start + phioffset, i_start + phioffset + phi_end),\n",
    "                   slice(j_start + psioffset, j_start + psioffset + psi_end))\n",
    "ipsi_jphi_slice = (slice(i_start + psioffset, i_start + psioffset + psi_end),\n",
    "                   slice(j_start + phioffset, j_start + phioffset + phi_end))\n",
    "jphi_ipsi_slice = (slice(j_start + phioffset, j_start + phioffset + phi_end),\n",
    "                   slice(i_start + psioffset, i_start + psioffset + psi_end))\n",
    "jpsi_iphi_slice = (slice(j_start + psioffset, j_start + psioffset + psi_end),\n",
    "                   slice(i_start + phioffset, i_start + phioffset + phi_end))"
   ]
  },
  {
   "cell_type": "code",
   "execution_count": 853,
   "id": "976f84e9-9e30-4cf7-91e3-4605f4b0d2ba",
   "metadata": {},
   "outputs": [
    {
     "data": {
      "text/plain": [
       "torch.Size([864])"
      ]
     },
     "execution_count": 853,
     "metadata": {},
     "output_type": "execute_result"
    }
   ],
   "source": [
    "reconstructed_matrices[0][mask[next(iter(mask))][0]].shape"
   ]
  },
  {
   "cell_type": "code",
   "execution_count": 838,
   "id": "7196f211-c894-47c6-acdf-7075e401123a",
   "metadata": {},
   "outputs": [],
   "source": [
    "reconstructed_matrices[0][mask[next(iter(mask))][0]] += torch.ones(864)"
   ]
  },
  {
   "cell_type": "code",
   "execution_count": 839,
   "id": "e41faa78-dee4-42a4-b61f-ea6624e9b1e5",
   "metadata": {},
   "outputs": [
    {
     "data": {
      "text/plain": [
       "tensor([[0., 0., 0., 0., 0., 0., 0., 0., 0., 0., 0., 0., 0., 0., 0., 0.],\n",
       "        [0., 0., 0., 0., 0., 0., 0., 0., 0., 0., 0., 0., 0., 0., 0., 0.],\n",
       "        [0., 0., 0., 0., 0., 0., 0., 0., 0., 0., 0., 0., 0., 0., 0., 0.],\n",
       "        [0., 0., 0., 0., 0., 0., 0., 0., 0., 0., 0., 0., 0., 0., 0., 0.],\n",
       "        [0., 0., 0., 0., 0., 0., 0., 0., 0., 0., 0., 0., 0., 0., 0., 0.],\n",
       "        [1., 1., 1., 1., 1., 1., 1., 1., 1., 1., 1., 1., 1., 1., 1., 1.],\n",
       "        [1., 1., 1., 1., 1., 1., 1., 1., 1., 1., 1., 1., 1., 1., 1., 1.],\n",
       "        [1., 1., 1., 1., 1., 1., 1., 1., 1., 1., 1., 1., 1., 1., 1., 1.],\n",
       "        [0., 0., 0., 0., 0., 0., 0., 0., 0., 0., 0., 0., 0., 0., 0., 0.],\n",
       "        [1., 1., 1., 1., 1., 1., 1., 1., 1., 1., 1., 1., 1., 1., 1., 1.],\n",
       "        [1., 1., 1., 1., 1., 1., 1., 1., 1., 1., 1., 1., 1., 1., 1., 1.],\n",
       "        [1., 1., 1., 1., 1., 1., 1., 1., 1., 1., 1., 1., 1., 1., 1., 1.],\n",
       "        [0., 0., 0., 0., 0., 0., 0., 0., 0., 0., 0., 0., 0., 0., 0., 0.],\n",
       "        [1., 1., 1., 1., 1., 1., 1., 1., 1., 1., 1., 1., 1., 1., 1., 1.],\n",
       "        [1., 1., 1., 1., 1., 1., 1., 1., 1., 1., 1., 1., 1., 1., 1., 1.],\n",
       "        [1., 1., 1., 1., 1., 1., 1., 1., 1., 1., 1., 1., 1., 1., 1., 1.]])"
      ]
     },
     "execution_count": 839,
     "metadata": {},
     "output_type": "execute_result"
    }
   ],
   "source": [
    "reconstructed_matrices[0][1]"
   ]
  },
  {
   "cell_type": "code",
   "execution_count": 772,
   "id": "ad8c029f-55d3-4bb1-a16a-24499e74a859",
   "metadata": {},
   "outputs": [
    {
     "name": "stdout",
     "output_type": "stream",
     "text": [
      "[slice(0, 1, None), slice(5, 8, None)]\n"
     ]
    }
   ],
   "source": [
    "p = [slice(p+o, p+o+d) for p, o, d in zip(pos_ij, offsets, dim)]\n",
    "print(p)"
   ]
  },
  {
   "cell_type": "code",
   "execution_count": 766,
   "id": "e71df678-a14f-4890-bbf3-ecf6e6f52766",
   "metadata": {},
   "outputs": [],
   "source": [
    "mat = torch.zeros(16,16)"
   ]
  },
  {
   "cell_type": "code",
   "execution_count": 779,
   "id": "407af7dc-f03f-4c0b-9771-66a0e42c52e7",
   "metadata": {},
   "outputs": [
    {
     "data": {
      "text/plain": [
       "tensor([[-1,  0,  0],\n",
       "        [-1,  1,  0],\n",
       "        [ 0, -1,  0],\n",
       "        [ 0,  0, -1],\n",
       "        [ 0,  0,  0],\n",
       "        [ 0,  0,  1],\n",
       "        [ 0,  1, -1],\n",
       "        [ 0,  1,  0],\n",
       "        [ 1, -1,  0],\n",
       "        [ 1,  0,  0],\n",
       "        [ 1,  1,  0]], dtype=torch.int32)"
      ]
     },
     "execution_count": 779,
     "metadata": {},
     "output_type": "execute_result"
    }
   ],
   "source": [
    "torch.unique(unc_blocks[0].samples.values[:, 3:], dim=0)"
   ]
  },
  {
   "cell_type": "code",
   "execution_count": 758,
   "id": "ee29c934-17b9-4912-8f1d-edce18367d11",
   "metadata": {},
   "outputs": [
    {
     "ename": "SyntaxError",
     "evalue": "illegal target for annotation (1109963675.py, line 1)",
     "output_type": "error",
     "traceback": [
      "\u001b[0;36m  Cell \u001b[0;32mIn[758], line 1\u001b[0;36m\u001b[0m\n\u001b[0;31m    0:1,5:8\u001b[0m\n\u001b[0m    ^\u001b[0m\n\u001b[0;31mSyntaxError\u001b[0m\u001b[0;31m:\u001b[0m illegal target for annotation\n"
     ]
    }
   ],
   "source": [
    "0:1,5:8"
   ]
  },
  {
   "cell_type": "code",
   "execution_count": 735,
   "id": "b11fc47b-ab0b-4fb3-992d-941c6dac9238",
   "metadata": {},
   "outputs": [
    {
     "data": {
      "text/plain": [
       "(0, 1)"
      ]
     },
     "execution_count": 735,
     "metadata": {},
     "output_type": "execute_result"
    }
   ],
   "source": [
    "offsets"
   ]
  },
  {
   "cell_type": "code",
   "execution_count": 716,
   "id": "e735235f-ad37-4928-9afd-40e49dddc28e",
   "metadata": {},
   "outputs": [
    {
     "data": {
      "text/plain": [
       "1"
      ]
     },
     "execution_count": 716,
     "metadata": {},
     "output_type": "execute_result"
    }
   ],
   "source": [
    "psioffset"
   ]
  },
  {
   "cell_type": "code",
   "execution_count": null,
   "id": "243d8eaf-001d-4f35-a2b2-f0968e061156",
   "metadata": {},
   "outputs": [],
   "source": []
  }
 ],
 "metadata": {
  "kernelspec": {
   "display_name": "Python 3 (ipykernel)",
   "language": "python",
   "name": "python3"
  },
  "language_info": {
   "codemirror_mode": {
    "name": "ipython",
    "version": 3
   },
   "file_extension": ".py",
   "mimetype": "text/x-python",
   "name": "python",
   "nbconvert_exporter": "python",
   "pygments_lexer": "ipython3",
   "version": "3.11.7"
  }
 },
 "nbformat": 4,
 "nbformat_minor": 5
}
