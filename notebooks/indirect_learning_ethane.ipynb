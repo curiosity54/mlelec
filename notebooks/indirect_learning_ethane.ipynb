{
 "cells": [
  {
   "cell_type": "code",
   "execution_count": 3,
   "id": "162d0473-d1cf-4306-9a2b-d03218bbfe49",
   "metadata": {},
   "outputs": [],
   "source": [
    "%load_ext autoreload\n",
    "%autoreload 2\n",
    "%load_ext line_profiler"
   ]
  },
  {
   "cell_type": "code",
   "execution_count": 4,
   "id": "05c52587-7c8f-4b08-8508-8d45b56d9250",
   "metadata": {},
   "outputs": [],
   "source": [
    "import hickle\n",
    "\n",
    "from ase.io import read\n",
    "\n",
    "import numpy as np\n",
    "\n",
    "import torch\n",
    "torch.set_default_dtype(torch.float64)\n",
    "\n",
    "from mlelec.data.qmdataset import QMDataset\n",
    "from mlelec.data.mldataset import MLDataset\n",
    "from mlelec.models.linear_integrated import LinearModelPeriodic\n",
    "from mlelec.utils.pbc_utils import blocks_to_matrix\n",
    "from mlelec.utils.twocenter_utils import _to_uncoupled_basis, unfix_orbital_order\n",
    "from mlelec.metrics import Eigval_loss, L2_loss_meanzero, L2_loss\n",
    "import metatensor.torch as mts\n",
    "from metatensor.learn import DataLoader\n",
    "\n",
    "import os\n",
    "os.environ[\"PYSCFAD_BACKEND\"] = \"torch\"\n",
    "from pyscf import gto\n",
    "from pyscfad import numpy as pynp\n",
    "from pyscfad import ops\n",
    "from pyscfad.ml.scf import hf\n",
    "import pyscf.pbc.tools.pyscf_ase as pyscf_ase\n",
    "from mlelec.data.pyscf_calculator import _instantiate_pyscf_mol\n",
    "\n",
    "import xitorch\n",
    "from xitorch.linalg import symeig\n",
    "\n",
    "from matplotlib import pyplot as plt\n",
    "\n",
    "from IPython.utils import io as ipy_io"
   ]
  },
  {
   "cell_type": "code",
   "execution_count": 5,
   "id": "40387ba1-2c62-4608-a6b8-9b48f1d697ee",
   "metadata": {},
   "outputs": [],
   "source": [
    "import os\n",
    "os.environ[\"PYSCFAD_BACKEND\"] = \"torch\""
   ]
  },
  {
   "cell_type": "code",
   "execution_count": 6,
   "id": "aca5877a-b220-47fa-989d-1ab391a8df46",
   "metadata": {},
   "outputs": [],
   "source": [
    "from pyscf import gto\n"
   ]
  },
  {
   "cell_type": "code",
   "execution_count": 7,
   "id": "d154d77b-a2af-4155-ab76-ce04550f7046",
   "metadata": {},
   "outputs": [],
   "source": [
    "from pyscfad import numpy as pynp\n"
   ]
  },
  {
   "cell_type": "code",
   "execution_count": 8,
   "id": "3e4e12d8-bd7c-4ef2-a249-fc39f66a08f0",
   "metadata": {},
   "outputs": [],
   "source": [
    "from pyscfad import ops\n"
   ]
  },
  {
   "cell_type": "code",
   "execution_count": 9,
   "id": "59fb5ae5-9dcf-4b03-95ab-da41e5fa30cd",
   "metadata": {},
   "outputs": [],
   "source": [
    "import os\n",
    "os.environ[\"PYSCFAD_BACKEND\"] = \"torch\"\n",
    "from pyscf import gto\n",
    "from pyscfad import numpy as pynp\n",
    "from pyscfad import ops\n",
    "from pyscfad.ml.scf import hf\n"
   ]
  },
  {
   "cell_type": "code",
   "execution_count": 10,
   "id": "06d52ddf-8bd5-4385-802a-c533ac4f1bb6",
   "metadata": {},
   "outputs": [],
   "source": [
    "orbitals = {\n",
    "    'sto-3g': {1: [[1,0,0]], \n",
    "               5: [[1,0,0],[2,0,0],[2,1,-1], [2,1,0],[2,1,1]], \n",
    "               6: [[1,0,0],[2,0,0],[2,1,-1], [2,1,0],[2,1,1]], \n",
    "               7: [[1,0,0],[2,0,0],[2,1,-1], [2,1,0],[2,1,1]],\n",
    "               8: [[1,0,0],[2,0,0],[2,1,-1], [2,1,0],[2,1,1]]\n",
    "               }, \n",
    "    \n",
    "    'def2svp': {1: [[1,0,0],[2,0,0],[2,1,-1], [2,1,0],[2,1,1]],\n",
    "                6: [[1,0,0],[2,0,0],[3,0,0],[2,1,1], [2,1,-1],[2,1,0], [3,1,1], [3,1,-1],[3,1,0], [3,2,-2], [3,2,-1],[3,2,0], [3,2,1],[3,2,2]],\n",
    "                8: [[1,0,0],[2,0,0],[3,0,0],[2,1,1], [2,1,-1],[2,1,0], [3,1,1], [3,1,-1],[3,1,0], [3,2,-2], [3,2,-1],[3,2,0], [3,2,1],[3,2,2]]\n",
    "                },\n",
    "    'def2tzvp': {\n",
    "    6: [\n",
    "        # 5S\n",
    "        [1, 0, 0],\n",
    "        [2, 0, 0],\n",
    "        [3, 0, 0],\n",
    "        [4, 0, 0],\n",
    "        [5, 0, 0],\n",
    "        # 3P\n",
    "        [2, 1, 1],\n",
    "        [2, 1, -1],\n",
    "        [2, 1, 0],\n",
    "        [3, 1, 1],\n",
    "        [3, 1, -1],\n",
    "        [3, 1, 0],\n",
    "        [4, 1, 1],\n",
    "        [4, 1, -1],\n",
    "        [4, 1, 0],\n",
    "        # 2D\n",
    "        [3, 2, -2],\n",
    "        [3, 2, -1],\n",
    "        [3, 2, 0],\n",
    "        [3, 2, 1],\n",
    "        [3, 2, 2],\n",
    "        [4, 2, -2],\n",
    "        [4, 2, -1],\n",
    "        [4, 2, 0],\n",
    "        [4, 2, 1],\n",
    "        [4, 2, 2],\n",
    "        # 1F\n",
    "        [4, 3, -3],\n",
    "        [4, 3, -2],\n",
    "        [4, 3, -1],\n",
    "        [4, 3, 0],\n",
    "        [4, 3, 1],\n",
    "        [4, 3, 2],\n",
    "        [4, 3, 3]\n",
    "    ],\n",
    "\n",
    "     1: [\n",
    "         # 3S\n",
    "         [1, 0, 0], \n",
    "         [2, 0, 0], \n",
    "         [3, 0, 0], \n",
    "         # 1P\n",
    "         [2, 1, -1], \n",
    "         [2, 1, 0], \n",
    "         [2, 1, 1]\n",
    "     ]\n",
    "}\n",
    "}\n",
    "\n",
    "device = 'cpu'"
   ]
  },
  {
   "cell_type": "code",
   "execution_count": 11,
   "id": "4998d7ce-9947-4561-8ed0-5e1aa203aff3",
   "metadata": {},
   "outputs": [],
   "source": [
    "max_radial  = 12\n",
    "max_angular = 6\n",
    "atomic_gaussian_width = 0.3\n",
    "cutoff = 3.5\n",
    "\n",
    "hypers_pair = {'cutoff': cutoff,\n",
    "               'max_radial': max_radial,\n",
    "               'max_angular': max_angular,\n",
    "               'atomic_gaussian_width': atomic_gaussian_width,\n",
    "               'center_atom_weight': 1,\n",
    "               \"radial_basis\": {\"Gto\": {}},\n",
    "               \"cutoff_function\": {\"ShiftedCosine\": {\"width\": 0.5}}}\n",
    "\n",
    "hypers_atom = {'cutoff': cutoff,\n",
    "               'max_radial': max_radial,\n",
    "               'max_angular': max_angular,\n",
    "               'atomic_gaussian_width': 0.5,\n",
    "               'center_atom_weight': 1,\n",
    "               \"radial_basis\": {\"Gto\": {}},\n",
    "               \"cutoff_function\": {\"ShiftedCosine\": {\"width\": 0.5}}}\n",
    "\n",
    "\n",
    "return_rho0ij = False\n",
    "both_centers = False\n",
    "LCUT = 4"
   ]
  },
  {
   "cell_type": "markdown",
   "id": "0ef5d36f-6fea-41d2-8b30-0e05e514b1f4",
   "metadata": {},
   "source": [
    "# QMD"
   ]
  },
  {
   "cell_type": "code",
   "execution_count": 12,
   "id": "61d5bfc3-c835-45de-b318-c96150bfafa6",
   "metadata": {},
   "outputs": [],
   "source": [
    "workdir = '/scratch/pegolo/ethane'\n",
    "every = 20"
   ]
  },
  {
   "cell_type": "markdown",
   "id": "53f6d217-5003-47a7-bfd8-73acd29687cc",
   "metadata": {},
   "source": [
    "For the moment, we need to create multiple QMDataset (analogous to MoleculeDataset), one for the large basis, one for the small one."
   ]
  },
  {
   "cell_type": "code",
   "execution_count": 13,
   "id": "7188d839-579f-4b16-bab2-e5f78cc033ab",
   "metadata": {},
   "outputs": [],
   "source": [
    "qmdata = QMDataset.from_file(\n",
    "    frames_path = f'{workdir}/ethane.xyz', \n",
    "    fock_realspace_path = f'{workdir}/b3lypg_def2tzvp/focks.npy', \n",
    "    overlap_realspace_path = f'{workdir}/b3lypg_def2tzvp/ovlps.npy',\n",
    "    dimension = 0, \n",
    "    device = 'cpu', \n",
    "    orbs_name='def2tzvp', \n",
    "    orbs=orbitals['def2tzvp'], \n",
    "    frame_slice = f'::{every}',\n",
    ")"
   ]
  },
  {
   "cell_type": "code",
   "execution_count": 14,
   "id": "be02c4fe-273e-46b5-9c04-7dae558b62ee",
   "metadata": {},
   "outputs": [],
   "source": [
    "qmdata_sto3G = QMDataset.from_file(\n",
    "    frames_path = f'{workdir}/ethane.xyz', \n",
    "    dimension = 0,\n",
    "    fock_realspace_path = f'{workdir}/b3lypg_sto3g/fock.hickle',\n",
    "    overlap_realspace_path = f'{workdir}/b3lypg_sto3g/ovlp_nscf.hickle',\n",
    "    device = device, \n",
    "    orbs = orbitals['sto-3g'], \n",
    "    orbs_name = 'sto-3g',\n",
    "    frame_slice = f'::{every}',\n",
    ")"
   ]
  },
  {
   "cell_type": "markdown",
   "id": "cfd27e2a-cb78-4dad-b2f2-70b6a42c68dc",
   "metadata": {},
   "source": [
    "# MLD"
   ]
  },
  {
   "cell_type": "code",
   "execution_count": 220,
   "id": "98cad2f9-fa9e-4435-9404-b0579c44aa5d",
   "metadata": {},
   "outputs": [
    {
     "name": "stdout",
     "output_type": "stream",
     "text": [
      "cpu pair features\n",
      "cpu single center features\n",
      "cpu single center features\n"
     ]
    }
   ],
   "source": [
    "from mlelec.data.mldataset import MLDataset\n",
    "mldata_sto3g = MLDataset(qmdata_sto3G, \n",
    "                   item_names = ['fock_blocks', 'fock_realspace', 'overlap_realspace', 'eigenvalues', 'atom_resolved_density', 'dipoles'],\n",
    "                   # features = mldata.features,\n",
    "                   cutoff = hypers_pair['cutoff'],\n",
    "                   hypers_atom = hypers_atom,\n",
    "                   hypers_pair = hypers_pair,\n",
    "                   lcut = 3,\n",
    "                   train_frac = 0.7,\n",
    "                   val_frac = 0.2,\n",
    "                   test_frac = 0.1,\n",
    "                   shuffle = False,\n",
    "                   model_basis = orbitals['sto-3g'],\n",
    "                   fix_p_orbital_order = True,\n",
    "                  )"
   ]
  },
  {
   "cell_type": "code",
   "execution_count": 209,
   "id": "af9ffb89-465f-44a3-806a-dd0b244aeba4",
   "metadata": {},
   "outputs": [],
   "source": [
    "from mlelec.data.mldataset import MLDataset\n",
    "mldata = MLDataset(qmdata, \n",
    "                   item_names = ['fock_blocks', 'fock_realspace', 'overlap_realspace', 'eigenvalues', 'atom_resolved_density', 'dipoles'],\n",
    "                   features = mldata.features,\n",
    "                   cutoff = hypers_pair['cutoff'],\n",
    "                   hypers_atom = hypers_atom,\n",
    "                   hypers_pair = hypers_pair,\n",
    "                   lcut = 3,\n",
    "                   train_frac = 0.7,\n",
    "                   val_frac = 0.2,\n",
    "                   test_frac = 0.1,\n",
    "                   shuffle = False,\n",
    "                   model_basis = orbitals['sto-3g'],\n",
    "                   model_basis_name = 'sto-3g',\n",
    "                   fix_p_orbital_order = True,\n",
    "                   aux_overlap_realspace = qmdata_sto3G.overlap_realspace\n",
    "                  )"
   ]
  },
  {
   "cell_type": "markdown",
   "id": "f2dca2cf-2183-4b8e-820e-5a10e9e5a8b5",
   "metadata": {},
   "source": [
    "# Model"
   ]
  },
  {
   "cell_type": "markdown",
   "id": "abada533-7c2b-423c-bd6c-46516fc8fe74",
   "metadata": {},
   "source": [
    "Initialize the model"
   ]
  },
  {
   "cell_type": "code",
   "execution_count": 211,
   "id": "002d5e14-e65d-488c-8155-2f9107ec2222",
   "metadata": {
    "scrolled": true
   },
   "outputs": [],
   "source": [
    "from mlelec.models.equivariant_nonlinear_lightning import LitEquivariantNonlinearModel, MSELoss\n",
    "from mlelec.models.equivariant_nonlinear_lightning import MLDatasetDataModule\n",
    "from mlelec.callbacks.logging import LoggingCallback\n",
    "from mlelec.callbacks.progress_bar import ProgressBar\n",
    "\n",
    "import lightning.pytorch as pl\n",
    "from lightning.pytorch.loggers import TensorBoardLogger\n",
    "from lightning.pytorch.callbacks import EarlyStopping\n",
    "\n",
    "# Assuming you have `train_dataset`, `val_dataset`, and `test_dataset`\n",
    "data_module = MLDatasetDataModule(mldata, batch_size=8, num_workers=0)\n",
    "\n",
    "# Initialize with custom loss function and keyword arguments for derived predictions\n",
    "\n",
    "model = LitEquivariantNonlinearModel(\n",
    "    mldata=mldata,\n",
    "    nhidden=16,\n",
    "    nlayers=1,\n",
    "    activation='SiLU',\n",
    "    apply_norm=True,\n",
    "    learning_rate=1e-3,\n",
    "    loss_fn=MSELoss(),\n",
    "    optimizer='adam',\n",
    "    is_indirect=True,\n",
    "    eigenvalues=True,\n",
    "    atom_resolved_density=True,\n",
    ")"
   ]
  },
  {
   "cell_type": "code",
   "execution_count": 212,
   "id": "199332cf-de07-46eb-b83d-ee2873546425",
   "metadata": {},
   "outputs": [],
   "source": [
    "logger = TensorBoardLogger(\"tb_logs\", name=\"ethane\")"
   ]
  },
  {
   "cell_type": "code",
   "execution_count": 213,
   "id": "8f8f5634-a98d-4e74-8951-830201e7b80a",
   "metadata": {},
   "outputs": [],
   "source": [
    "early_stopping = EarlyStopping(\n",
    "    monitor='val_loss',\n",
    "    min_delta=0.00,\n",
    "    patience=100,\n",
    "    verbose=False,\n",
    "    mode='min'\n",
    ")"
   ]
  },
  {
   "cell_type": "code",
   "execution_count": 214,
   "id": "62a8a4a1-432c-472d-a2c1-c869c1dc82c6",
   "metadata": {},
   "outputs": [],
   "source": [
    "progress_bar = ProgressBar()\n",
    "logger_callback = LoggingCallback(log_every_n_epochs = 5)"
   ]
  },
  {
   "cell_type": "code",
   "execution_count": 215,
   "id": "da403782-fee8-4f4b-a8eb-27a71f8b9ac7",
   "metadata": {},
   "outputs": [
    {
     "name": "stderr",
     "output_type": "stream",
     "text": [
      "GPU available: True (cuda), used: False\n",
      "TPU available: False, using: 0 TPU cores\n",
      "HPU available: False, using: 0 HPUs\n",
      "/home/pegolo/micromamba/envs/sci/lib/python3.11/site-packages/lightning/pytorch/trainer/setup.py:177: GPU available but not used. You can set it by doing `Trainer(accelerator='gpu')`.\n"
     ]
    }
   ],
   "source": [
    "trainer = pl.Trainer(max_epochs=500, \n",
    "                     accelerator='cpu', \n",
    "                     # logger = logger, \n",
    "                     # log_every_n_steps = 1, \n",
    "                     check_val_every_n_epoch=10,\n",
    "                     callbacks=[early_stopping, progress_bar]\n",
    "                     # callbacks=[early_stopping, logger_callback],\n",
    "                     # enable_progress_bar=False\n",
    "                    )"
   ]
  },
  {
   "cell_type": "code",
   "execution_count": 216,
   "id": "62d396bf-f399-4855-99cd-30dea65ddaa5",
   "metadata": {},
   "outputs": [
    {
     "name": "stderr",
     "output_type": "stream",
     "text": [
      "/home/pegolo/micromamba/envs/sci/lib/python3.11/site-packages/lightning/pytorch/core/optimizer.py:316: The lr scheduler dict contains the key(s) ['monitor'], but the keys will be ignored. You need to call `lr_scheduler.step()` manually in manual optimization.\n",
      "\n",
      "  | Name  | Type                      | Params | Mode \n",
      "------------------------------------------------------------\n",
      "0 | model | EquivariantNonlinearModel | 784 K  | train\n",
      "------------------------------------------------------------\n",
      "784 K     Trainable params\n",
      "0         Non-trainable params\n",
      "784 K     Total params\n",
      "3.137     Total estimated model params size (MB)\n"
     ]
    },
    {
     "data": {
      "application/vnd.jupyter.widget-view+json": {
       "model_id": "",
       "version_major": 2,
       "version_minor": 0
      },
      "text/plain": [
       "Sanity Checking: |                                                                                            …"
      ]
     },
     "metadata": {},
     "output_type": "display_data"
    },
    {
     "name": "stderr",
     "output_type": "stream",
     "text": [
      "/home/pegolo/micromamba/envs/sci/lib/python3.11/site-packages/lightning/pytorch/trainer/connectors/data_connector.py:424: The 'val_dataloader' does not have many workers which may be a bottleneck. Consider increasing the value of the `num_workers` argument` to `num_workers=23` in the `DataLoader` to improve performance.\n",
      "/home/pegolo/micromamba/envs/sci/lib/python3.11/site-packages/lightning/pytorch/trainer/connectors/data_connector.py:424: The 'train_dataloader' does not have many workers which may be a bottleneck. Consider increasing the value of the `num_workers` argument` to `num_workers=23` in the `DataLoader` to improve performance.\n",
      "/home/pegolo/micromamba/envs/sci/lib/python3.11/site-packages/lightning/pytorch/loops/fit_loop.py:298: The number of training batches (5) is smaller than the logging interval Trainer(log_every_n_steps=50). Set a lower value for log_every_n_steps if you want to see logs for the training epoch.\n"
     ]
    },
    {
     "data": {
      "application/vnd.jupyter.widget-view+json": {
       "model_id": "d53090969283418caf9bffefae48d44a",
       "version_major": 2,
       "version_minor": 0
      },
      "text/plain": [
       "Training:   0%|          | 0/500 [00:00<?, ?it/s]"
      ]
     },
     "metadata": {},
     "output_type": "display_data"
    },
    {
     "data": {
      "application/vnd.jupyter.widget-view+json": {
       "model_id": "",
       "version_major": 2,
       "version_minor": 0
      },
      "text/plain": [
       "Validation: |                                                                                                 …"
      ]
     },
     "metadata": {},
     "output_type": "display_data"
    },
    {
     "data": {
      "application/vnd.jupyter.widget-view+json": {
       "model_id": "",
       "version_major": 2,
       "version_minor": 0
      },
      "text/plain": [
       "Validation: |                                                                                                 …"
      ]
     },
     "metadata": {},
     "output_type": "display_data"
    },
    {
     "data": {
      "application/vnd.jupyter.widget-view+json": {
       "model_id": "",
       "version_major": 2,
       "version_minor": 0
      },
      "text/plain": [
       "Validation: |                                                                                                 …"
      ]
     },
     "metadata": {},
     "output_type": "display_data"
    },
    {
     "data": {
      "application/vnd.jupyter.widget-view+json": {
       "model_id": "",
       "version_major": 2,
       "version_minor": 0
      },
      "text/plain": [
       "Validation: |                                                                                                 …"
      ]
     },
     "metadata": {},
     "output_type": "display_data"
    },
    {
     "data": {
      "application/vnd.jupyter.widget-view+json": {
       "model_id": "",
       "version_major": 2,
       "version_minor": 0
      },
      "text/plain": [
       "Validation: |                                                                                                 …"
      ]
     },
     "metadata": {},
     "output_type": "display_data"
    },
    {
     "data": {
      "application/vnd.jupyter.widget-view+json": {
       "model_id": "",
       "version_major": 2,
       "version_minor": 0
      },
      "text/plain": [
       "Validation: |                                                                                                 …"
      ]
     },
     "metadata": {},
     "output_type": "display_data"
    },
    {
     "data": {
      "application/vnd.jupyter.widget-view+json": {
       "model_id": "",
       "version_major": 2,
       "version_minor": 0
      },
      "text/plain": [
       "Validation: |                                                                                                 …"
      ]
     },
     "metadata": {},
     "output_type": "display_data"
    },
    {
     "data": {
      "application/vnd.jupyter.widget-view+json": {
       "model_id": "",
       "version_major": 2,
       "version_minor": 0
      },
      "text/plain": [
       "Validation: |                                                                                                 …"
      ]
     },
     "metadata": {},
     "output_type": "display_data"
    },
    {
     "data": {
      "application/vnd.jupyter.widget-view+json": {
       "model_id": "",
       "version_major": 2,
       "version_minor": 0
      },
      "text/plain": [
       "Validation: |                                                                                                 …"
      ]
     },
     "metadata": {},
     "output_type": "display_data"
    },
    {
     "data": {
      "application/vnd.jupyter.widget-view+json": {
       "model_id": "",
       "version_major": 2,
       "version_minor": 0
      },
      "text/plain": [
       "Validation: |                                                                                                 …"
      ]
     },
     "metadata": {},
     "output_type": "display_data"
    },
    {
     "data": {
      "application/vnd.jupyter.widget-view+json": {
       "model_id": "",
       "version_major": 2,
       "version_minor": 0
      },
      "text/plain": [
       "Validation: |                                                                                                 …"
      ]
     },
     "metadata": {},
     "output_type": "display_data"
    },
    {
     "data": {
      "application/vnd.jupyter.widget-view+json": {
       "model_id": "",
       "version_major": 2,
       "version_minor": 0
      },
      "text/plain": [
       "Validation: |                                                                                                 …"
      ]
     },
     "metadata": {},
     "output_type": "display_data"
    },
    {
     "data": {
      "application/vnd.jupyter.widget-view+json": {
       "model_id": "",
       "version_major": 2,
       "version_minor": 0
      },
      "text/plain": [
       "Validation: |                                                                                                 …"
      ]
     },
     "metadata": {},
     "output_type": "display_data"
    },
    {
     "data": {
      "application/vnd.jupyter.widget-view+json": {
       "model_id": "",
       "version_major": 2,
       "version_minor": 0
      },
      "text/plain": [
       "Validation: |                                                                                                 …"
      ]
     },
     "metadata": {},
     "output_type": "display_data"
    },
    {
     "data": {
      "application/vnd.jupyter.widget-view+json": {
       "model_id": "",
       "version_major": 2,
       "version_minor": 0
      },
      "text/plain": [
       "Validation: |                                                                                                 …"
      ]
     },
     "metadata": {},
     "output_type": "display_data"
    },
    {
     "data": {
      "application/vnd.jupyter.widget-view+json": {
       "model_id": "",
       "version_major": 2,
       "version_minor": 0
      },
      "text/plain": [
       "Validation: |                                                                                                 …"
      ]
     },
     "metadata": {},
     "output_type": "display_data"
    },
    {
     "data": {
      "application/vnd.jupyter.widget-view+json": {
       "model_id": "",
       "version_major": 2,
       "version_minor": 0
      },
      "text/plain": [
       "Validation: |                                                                                                 …"
      ]
     },
     "metadata": {},
     "output_type": "display_data"
    },
    {
     "data": {
      "application/vnd.jupyter.widget-view+json": {
       "model_id": "",
       "version_major": 2,
       "version_minor": 0
      },
      "text/plain": [
       "Validation: |                                                                                                 …"
      ]
     },
     "metadata": {},
     "output_type": "display_data"
    },
    {
     "data": {
      "application/vnd.jupyter.widget-view+json": {
       "model_id": "",
       "version_major": 2,
       "version_minor": 0
      },
      "text/plain": [
       "Validation: |                                                                                                 …"
      ]
     },
     "metadata": {},
     "output_type": "display_data"
    },
    {
     "data": {
      "application/vnd.jupyter.widget-view+json": {
       "model_id": "",
       "version_major": 2,
       "version_minor": 0
      },
      "text/plain": [
       "Validation: |                                                                                                 …"
      ]
     },
     "metadata": {},
     "output_type": "display_data"
    },
    {
     "data": {
      "application/vnd.jupyter.widget-view+json": {
       "model_id": "",
       "version_major": 2,
       "version_minor": 0
      },
      "text/plain": [
       "Validation: |                                                                                                 …"
      ]
     },
     "metadata": {},
     "output_type": "display_data"
    },
    {
     "data": {
      "application/vnd.jupyter.widget-view+json": {
       "model_id": "",
       "version_major": 2,
       "version_minor": 0
      },
      "text/plain": [
       "Validation: |                                                                                                 …"
      ]
     },
     "metadata": {},
     "output_type": "display_data"
    },
    {
     "data": {
      "application/vnd.jupyter.widget-view+json": {
       "model_id": "",
       "version_major": 2,
       "version_minor": 0
      },
      "text/plain": [
       "Validation: |                                                                                                 …"
      ]
     },
     "metadata": {},
     "output_type": "display_data"
    },
    {
     "data": {
      "application/vnd.jupyter.widget-view+json": {
       "model_id": "",
       "version_major": 2,
       "version_minor": 0
      },
      "text/plain": [
       "Validation: |                                                                                                 …"
      ]
     },
     "metadata": {},
     "output_type": "display_data"
    },
    {
     "data": {
      "application/vnd.jupyter.widget-view+json": {
       "model_id": "",
       "version_major": 2,
       "version_minor": 0
      },
      "text/plain": [
       "Validation: |                                                                                                 …"
      ]
     },
     "metadata": {},
     "output_type": "display_data"
    },
    {
     "data": {
      "application/vnd.jupyter.widget-view+json": {
       "model_id": "",
       "version_major": 2,
       "version_minor": 0
      },
      "text/plain": [
       "Validation: |                                                                                                 …"
      ]
     },
     "metadata": {},
     "output_type": "display_data"
    },
    {
     "data": {
      "application/vnd.jupyter.widget-view+json": {
       "model_id": "",
       "version_major": 2,
       "version_minor": 0
      },
      "text/plain": [
       "Validation: |                                                                                                 …"
      ]
     },
     "metadata": {},
     "output_type": "display_data"
    },
    {
     "data": {
      "application/vnd.jupyter.widget-view+json": {
       "model_id": "",
       "version_major": 2,
       "version_minor": 0
      },
      "text/plain": [
       "Validation: |                                                                                                 …"
      ]
     },
     "metadata": {},
     "output_type": "display_data"
    },
    {
     "data": {
      "application/vnd.jupyter.widget-view+json": {
       "model_id": "",
       "version_major": 2,
       "version_minor": 0
      },
      "text/plain": [
       "Validation: |                                                                                                 …"
      ]
     },
     "metadata": {},
     "output_type": "display_data"
    },
    {
     "data": {
      "application/vnd.jupyter.widget-view+json": {
       "model_id": "",
       "version_major": 2,
       "version_minor": 0
      },
      "text/plain": [
       "Validation: |                                                                                                 …"
      ]
     },
     "metadata": {},
     "output_type": "display_data"
    },
    {
     "data": {
      "application/vnd.jupyter.widget-view+json": {
       "model_id": "",
       "version_major": 2,
       "version_minor": 0
      },
      "text/plain": [
       "Validation: |                                                                                                 …"
      ]
     },
     "metadata": {},
     "output_type": "display_data"
    },
    {
     "data": {
      "application/vnd.jupyter.widget-view+json": {
       "model_id": "",
       "version_major": 2,
       "version_minor": 0
      },
      "text/plain": [
       "Validation: |                                                                                                 …"
      ]
     },
     "metadata": {},
     "output_type": "display_data"
    },
    {
     "data": {
      "application/vnd.jupyter.widget-view+json": {
       "model_id": "",
       "version_major": 2,
       "version_minor": 0
      },
      "text/plain": [
       "Validation: |                                                                                                 …"
      ]
     },
     "metadata": {},
     "output_type": "display_data"
    },
    {
     "name": "stderr",
     "output_type": "stream",
     "text": [
      "/home/pegolo/micromamba/envs/sci/lib/python3.11/site-packages/lightning/pytorch/trainer/call.py:54: Detected KeyboardInterrupt, attempting graceful shutdown...\n"
     ]
    }
   ],
   "source": [
    "trainer.fit(model, data_module)"
   ]
  },
  {
   "cell_type": "code",
   "execution_count": 217,
   "id": "f14631e3",
   "metadata": {},
   "outputs": [
    {
     "name": "stderr",
     "output_type": "stream",
     "text": [
      "/home/pegolo/micromamba/envs/sci/lib/python3.11/site-packages/lightning/pytorch/trainer/connectors/data_connector.py:424: The 'test_dataloader' does not have many workers which may be a bottleneck. Consider increasing the value of the `num_workers` argument` to `num_workers=23` in the `DataLoader` to improve performance.\n"
     ]
    },
    {
     "data": {
      "application/vnd.jupyter.widget-view+json": {
       "model_id": "2e73b54bb4a1472ab39b6d51e82708c0",
       "version_major": 2,
       "version_minor": 0
      },
      "text/plain": [
       "Testing: |                                                                                                    …"
      ]
     },
     "metadata": {},
     "output_type": "display_data"
    },
    {
     "data": {
      "text/html": [
       "<pre style=\"white-space:pre;overflow-x:auto;line-height:normal;font-family:Menlo,'DejaVu Sans Mono',consolas,'Courier New',monospace\">┏━━━━━━━━━━━━━━━━━━━━━━━━━━━━┳━━━━━━━━━━━━━━━━━━━━━━━━━━━━┓\n",
       "┃<span style=\"font-weight: bold\">        Test metric         </span>┃<span style=\"font-weight: bold\">        DataLoader 0        </span>┃\n",
       "┡━━━━━━━━━━━━━━━━━━━━━━━━━━━━╇━━━━━━━━━━━━━━━━━━━━━━━━━━━━┩\n",
       "│<span style=\"color: #008080; text-decoration-color: #008080\"> rmse_atom_resolved_density </span>│<span style=\"color: #800080; text-decoration-color: #800080\">     0.1987265087223138     </span>│\n",
       "│<span style=\"color: #008080; text-decoration-color: #008080\">      rmse_eigenvalues      </span>│<span style=\"color: #800080; text-decoration-color: #800080\">    0.10508036902518607     </span>│\n",
       "│<span style=\"color: #008080; text-decoration-color: #008080\">         test_loss          </span>│<span style=\"color: #800080; text-decoration-color: #800080\">     13.520862802424698     </span>│\n",
       "└────────────────────────────┴────────────────────────────┘\n",
       "</pre>\n"
      ],
      "text/plain": [
       "┏━━━━━━━━━━━━━━━━━━━━━━━━━━━━┳━━━━━━━━━━━━━━━━━━━━━━━━━━━━┓\n",
       "┃\u001b[1m \u001b[0m\u001b[1m       Test metric        \u001b[0m\u001b[1m \u001b[0m┃\u001b[1m \u001b[0m\u001b[1m       DataLoader 0       \u001b[0m\u001b[1m \u001b[0m┃\n",
       "┡━━━━━━━━━━━━━━━━━━━━━━━━━━━━╇━━━━━━━━━━━━━━━━━━━━━━━━━━━━┩\n",
       "│\u001b[36m \u001b[0m\u001b[36mrmse_atom_resolved_density\u001b[0m\u001b[36m \u001b[0m│\u001b[35m \u001b[0m\u001b[35m    0.1987265087223138    \u001b[0m\u001b[35m \u001b[0m│\n",
       "│\u001b[36m \u001b[0m\u001b[36m     rmse_eigenvalues     \u001b[0m\u001b[36m \u001b[0m│\u001b[35m \u001b[0m\u001b[35m   0.10508036902518607    \u001b[0m\u001b[35m \u001b[0m│\n",
       "│\u001b[36m \u001b[0m\u001b[36m        test_loss         \u001b[0m\u001b[36m \u001b[0m│\u001b[35m \u001b[0m\u001b[35m    13.520862802424698    \u001b[0m\u001b[35m \u001b[0m│\n",
       "└────────────────────────────┴────────────────────────────┘\n"
      ]
     },
     "metadata": {},
     "output_type": "display_data"
    },
    {
     "data": {
      "text/plain": [
       "[{'test_loss': 13.520862802424698,\n",
       "  'rmse_eigenvalues': 0.10508036902518607,\n",
       "  'rmse_atom_resolved_density': 0.1987265087223138}]"
      ]
     },
     "execution_count": 217,
     "metadata": {},
     "output_type": "execute_result"
    }
   ],
   "source": [
    "trainer.test(model, data_module)"
   ]
  },
  {
   "cell_type": "code",
   "execution_count": 218,
   "id": "44557429-8d82-4d50-9205-540eaa1ab5e3",
   "metadata": {},
   "outputs": [],
   "source": [
    "pred = model.predict(mldata_sto3g.items.features, target_properties=['eigenvalues', 'atom_resolved_density', 'dipoles'])"
   ]
  },
  {
   "cell_type": "code",
   "execution_count": 223,
   "id": "4b4ce65f-79aa-48cf-9d10-c87da8870a04",
   "metadata": {
    "scrolled": true
   },
   "outputs": [
    {
     "data": {
      "text/plain": [
       "tensor([[-0.0101,  0.0796, -0.0323],\n",
       "        [-0.0507,  0.0078, -0.0505],\n",
       "        [ 0.0488,  0.0755, -0.0551],\n",
       "        [-0.0168,  0.2695,  0.1000],\n",
       "        [ 0.0194, -0.0122, -0.0399],\n",
       "        [ 0.0196, -0.0347,  0.0090],\n",
       "        [ 0.0653,  0.2127, -0.0669],\n",
       "        [-0.0444,  0.0508, -0.1086],\n",
       "        [ 0.0399,  0.0242, -0.0221],\n",
       "        [ 0.0186,  0.0856,  0.0475],\n",
       "        [ 0.0204,  0.0159,  0.0408],\n",
       "        [ 0.0262, -0.0088, -0.0107],\n",
       "        [-0.0004,  0.1124, -0.0355],\n",
       "        [ 0.0804, -0.0715,  0.0276],\n",
       "        [-0.0229, -0.0983, -0.1474],\n",
       "        [ 0.0618, -0.0275, -0.1246],\n",
       "        [-0.0723,  0.0091, -0.0628],\n",
       "        [-0.0371,  0.0082, -0.0221],\n",
       "        [-0.0107,  0.0647, -0.0648],\n",
       "        [-0.0209,  0.0374,  0.0599],\n",
       "        [-0.0390,  0.0648, -0.0530],\n",
       "        [ 0.0038,  0.0695, -0.0717],\n",
       "        [ 0.0209,  0.0124,  0.0771],\n",
       "        [-0.0214, -0.0005,  0.0614],\n",
       "        [ 0.0187, -0.0843, -0.0792],\n",
       "        [-0.0308,  0.0023,  0.0894],\n",
       "        [ 0.0168, -0.0526, -0.0390],\n",
       "        [-0.0462, -0.1732, -0.0299],\n",
       "        [-0.0463, -0.0840, -0.0349],\n",
       "        [-0.0091, -0.0365, -0.0248],\n",
       "        [ 0.0138, -0.0153,  0.0203],\n",
       "        [ 0.0006,  0.0482,  0.0271],\n",
       "        [-0.0758, -0.0573, -0.2314],\n",
       "        [ 0.0007,  0.0319,  0.0018],\n",
       "        [-0.0251,  0.0727, -0.1357],\n",
       "        [ 0.0596,  0.0454,  0.0246],\n",
       "        [-0.0526, -0.1599, -0.1786],\n",
       "        [-0.0074,  0.0335,  0.1549],\n",
       "        [-0.0234,  0.0330,  0.0743],\n",
       "        [-0.0907,  0.1179, -0.1062],\n",
       "        [ 0.0818,  0.0103,  0.1791],\n",
       "        [ 0.0264,  0.0764,  0.0696],\n",
       "        [ 0.0041,  0.0470,  0.0511],\n",
       "        [-0.0420,  0.1551,  0.0136],\n",
       "        [ 0.0363,  0.1274,  0.0015],\n",
       "        [-0.0153,  0.0467,  0.0031],\n",
       "        [-0.0042,  0.0046, -0.0115],\n",
       "        [ 0.0162,  0.1344,  0.0012],\n",
       "        [-0.0490,  0.0145, -0.1287],\n",
       "        [ 0.0497,  0.1622, -0.0526]])"
      ]
     },
     "execution_count": 223,
     "metadata": {},
     "output_type": "execute_result"
    }
   ],
   "source": [
    "mldata_sto3g.items.dipoles"
   ]
  },
  {
   "cell_type": "code",
   "execution_count": 227,
   "id": "4bee5df5-c81d-46c9-9269-5a82ba1a219d",
   "metadata": {},
   "outputs": [
    {
     "name": "stdout",
     "output_type": "stream",
     "text": [
      "16 torch.Size([98])\n",
      "64 torch.Size([64])\n",
      "3 torch.Size([3])\n",
      "16 torch.Size([98])\n",
      "64 torch.Size([64])\n",
      "3 torch.Size([3])\n"
     ]
    },
    {
     "data": {
      "image/png": "[encoded data removed]",
      "text/plain": [
       "<Figure size 640x480 with 1 Axes>"
      ]
     },
     "metadata": {},
     "output_type": "display_data"
    },
    {
     "data": {
      "image/png": "[encoded data removed]",
      "text/plain": [
       "<Figure size 640x480 with 1 Axes>"
      ]
     },
     "metadata": {},
     "output_type": "display_data"
    },
    {
     "data": {
      "image/png": "[encoded data removed]",
      "text/plain": [
       "<Figure size 640x480 with 1 Axes>"
      ]
     },
     "metadata": {},
     "output_type": "display_data"
    }
   ],
   "source": [
    "n_eig = pred.eigenvalues[0].shape[0]\n",
    "\n",
    "figs = {}\n",
    "axes = {}\n",
    "m = 'o'\n",
    "ms = 10\n",
    "mew = .7\n",
    "xtext = 0.55\n",
    "ytext = 0.1\n",
    "idxs = [mldata.train_idx, mldata.test_idx]\n",
    "lbls = ['train', 'test']\n",
    "dy = 0.055\n",
    "\n",
    "# ML\n",
    "for i, (idx, lbl) in enumerate(zip(idxs, lbls)):\n",
    "\n",
    "    for k, y in pred._asdict().items():\n",
    "        if k == 'fock_blocks':\n",
    "            continue\n",
    "\n",
    "        if k == 'dipoles':\n",
    "            f = 1/100\n",
    "        else:\n",
    "            f = 1\n",
    "\n",
    "        if k not in figs:\n",
    "            figs[k], axes[k] = plt.subplots()\n",
    "\n",
    "        sh = y[0].shape[0]\n",
    "        y = torch.stack([y[i] for i in idx]).flatten()\n",
    "        print(sh, mldata.items._asdict()[k][0].shape)\n",
    "        x = torch.stack([mldata.items._asdict()[k][i][:sh] for i in idx]).flatten()\n",
    "        axes[k].plot(x, y*f, m, label = f'ML ({lbl})', \n",
    "                     markeredgewidth = mew,\n",
    "                     markeredgecolor = 'k',\n",
    "                     markersize = ms, \n",
    "                     zorder = 1)\n",
    "\n",
    "        rmse = np.sqrt(np.mean((x.numpy()-y.numpy())**2))\n",
    "        axes[k].text(xtext, ytext + dy*i, fr'$\\mathrm{{RMSE_{{ML,{lbl}}}}}={rmse:.2f}\\,$a.u.', transform=ax.transAxes, ha = 'left', va = 'bottom')\n",
    "# STO-3G\n",
    "for k in axes:\n",
    "    try:\n",
    "        y = torch.stack(mldata_sto3g.items._asdict()[k]).flatten()\n",
    "    except:\n",
    "        y = mldata_sto3g.items._asdict()[k].flatten()\n",
    "        \n",
    "    sh = mldata_sto3g.items._asdict()[k][0].shape[0]\n",
    "    try:\n",
    "        x = torch.stack(mldata.items._asdict()[k])[:, :sh].flatten()\n",
    "    except:\n",
    "        x = mldata.items._asdict()[k][:, :sh].flatten()\n",
    "    axes[k].plot(x, y, m, label = 'STO-3G', zorder=0,\n",
    "                markeredgewidth = mew,\n",
    "                markeredgecolor = 'k',\n",
    "                markersize = ms, \n",
    "                )\n",
    "    \n",
    "    rmse = np.sqrt(np.mean((x.numpy()-y.numpy())**2))\n",
    "    axes[k].text(xtext, ytext+dy*len(lbls), fr'$\\mathrm{{RMSE_{{STO\\text{{-}}3G}}}}={rmse:.2f}\\,$a.u.', transform=ax.transAxes, ha = 'left', va = 'bottom')\n",
    "        \n",
    "for k, ax in axes.items():\n",
    "    \n",
    "    ax.legend()\n",
    "    ax.set_xlabel('Target (a.u.)')\n",
    "    ax.set_ylabel('Prediction (a.u.)')\n",
    "    xmin,xmax=ax.get_xlim()\n",
    "    ax.plot([xmin,xmax], [xmin,xmax], '--k')\n",
    "    ax.set_title(k)"
   ]
  },
  {
   "cell_type": "markdown",
   "id": "5afa7739-075f-4deb-bcd2-008ca62ef3bb",
   "metadata": {},
   "source": [
    "# TODO: check dipoles. The difference between STO-3G and def3-svf is bizarre"
   ]
  },
  {
   "cell_type": "code",
   "execution_count": 229,
   "id": "5e768bb7-6a3e-47f1-8977-757feb12c7eb",
   "metadata": {},
   "outputs": [
    {
     "data": {
      "text/plain": [
       "[<matplotlib.lines.Line2D at 0x735df4422890>]"
      ]
     },
     "execution_count": 229,
     "metadata": {},
     "output_type": "execute_result"
    },
    {
     "data": {
      "image/png": "[encoded data removed]",
      "text/plain": [
       "<Figure size 640x480 with 1 Axes>"
      ]
     },
     "metadata": {},
     "output_type": "display_data"
    }
   ],
   "source": [
    "plt.plot(mldata_sto3g.items.dipoles.flatten(), mldata.items.dipoles.flatten(), '.')"
   ]
  },
  {
   "cell_type": "code",
   "execution_count": 200,
   "id": "1617430a-3515-4204-aa44-c9b8d0029e5a",
   "metadata": {},
   "outputs": [
    {
     "name": "stdout",
     "output_type": "stream",
     "text": [
      "(45, 46, 47, 48, 49)\n"
     ]
    },
    {
     "ename": "NameError",
     "evalue": "name 'compute_dipole_moment' is not defined",
     "output_type": "error",
     "traceback": [
      "\u001b[0;31m---------------------------------------------------------------------------\u001b[0m",
      "\u001b[0;31mNameError\u001b[0m                                 Traceback (most recent call last)",
      "Cell \u001b[0;32mIn[200], line 31\u001b[0m\n\u001b[1;32m     28\u001b[0m over_sto3g \u001b[38;5;241m=\u001b[39m torch\u001b[38;5;241m.\u001b[39mstack([qmdata_sto3G\u001b[38;5;241m.\u001b[39moverlap_realspace[i] \u001b[38;5;28;01mfor\u001b[39;00m i \u001b[38;5;129;01min\u001b[39;00m batch\u001b[38;5;241m.\u001b[39msample_id])\n\u001b[1;32m     30\u001b[0m \u001b[38;5;28;01mwith\u001b[39;00m ipy_io\u001b[38;5;241m.\u001b[39mcapture_output():\n\u001b[0;32m---> 31\u001b[0m     dipole_targets \u001b[38;5;241m=\u001b[39m \u001b[43mcompute_dipole_moment\u001b[49m(\n\u001b[1;32m     32\u001b[0m         dl_frames,\n\u001b[1;32m     33\u001b[0m         fock_targets,\n\u001b[1;32m     34\u001b[0m         over_targets,\n\u001b[1;32m     35\u001b[0m         qmdata\u001b[38;5;241m.\u001b[39mbasis_name)\n\u001b[1;32m     37\u001b[0m \u001b[38;5;28;01mwith\u001b[39;00m ipy_io\u001b[38;5;241m.\u001b[39mcapture_output():\n\u001b[1;32m     38\u001b[0m     dipole_predictions \u001b[38;5;241m=\u001b[39m compute_dipole_moment(\n\u001b[1;32m     39\u001b[0m         dl_frames,\n\u001b[1;32m     40\u001b[0m         fock_predictions,\n\u001b[1;32m     41\u001b[0m         over_predictions,\n\u001b[1;32m     42\u001b[0m         qmdata_sto3G\u001b[38;5;241m.\u001b[39mbasis_name)\n",
      "\u001b[0;31mNameError\u001b[0m: name 'compute_dipole_moment' is not defined"
     ]
    }
   ],
   "source": [
    "batch = next(iter(test_dl))\n",
    "print(batch.sample_id)\n",
    "\n",
    "dl_frames = [qmdata.structures[A] for A in batch.sample_id]\n",
    "dl_frames_dict = {A: f for A, f in zip(batch.sample_id, dl_frames)}\n",
    "pred = model(batch.features, mldata.model_metadata)\n",
    "\n",
    "HT = blocks_to_matrix(pred, mldata.model_basis, dl_frames_dict, detach = True)\n",
    "HT = [h[0,0,0] for h in HT]\n",
    "\n",
    "# Predictions need fixing/unfixing the orbital order\n",
    "fock_predictions = unfix_orbital_order(\n",
    "    torch.stack(HT),\n",
    "    dl_frames,\n",
    "    qmdata_sto3G.basis\n",
    ")\n",
    "over_predictions = unfix_orbital_order(\n",
    "    batch.overlap_realspace,\n",
    "    dl_frames,\n",
    "    qmdata_sto3G.basis\n",
    ")\n",
    "\n",
    "# QMDataset does NOT need fixing/unfixing the orbital order\n",
    "fock_targets = torch.stack([qmdata.fock_realspace[i] for i in batch.sample_id])\n",
    "over_targets = torch.stack([qmdata.overlap_realspace[i] for i in batch.sample_id])\n",
    "\n",
    "fock_sto3g = torch.stack([qmdata_sto3G.fock_realspace[i] for i in batch.sample_id])\n",
    "over_sto3g = torch.stack([qmdata_sto3G.overlap_realspace[i] for i in batch.sample_id])\n",
    "\n",
    "with ipy_io.capture_output():\n",
    "    dipole_targets = compute_dipole_moment(\n",
    "        dl_frames,\n",
    "        fock_targets,\n",
    "        over_targets,\n",
    "        qmdata.basis_name)\n",
    "\n",
    "with ipy_io.capture_output():\n",
    "    dipole_predictions = compute_dipole_moment(\n",
    "        dl_frames,\n",
    "        fock_predictions,\n",
    "        over_predictions,\n",
    "        qmdata_sto3G.basis_name)\n",
    "\n",
    "with ipy_io.capture_output():\n",
    "    dipole_sto3g = compute_dipole_moment(\n",
    "        dl_frames,\n",
    "        fock_sto3g,\n",
    "        over_sto3g,\n",
    "        qmdata_sto3G.basis_name)"
   ]
  },
  {
   "cell_type": "code",
   "execution_count": 349,
   "id": "60168fff-f183-4a70-b20c-daa9987beee2",
   "metadata": {},
   "outputs": [
    {
     "data": {
      "text/plain": [
       "Text(0, 0.5, 'Predicted dipoles (D)')"
      ]
     },
     "execution_count": 349,
     "metadata": {},
     "output_type": "execute_result"
    },
    {
     "data": {
      "image/png": "[encoded data removed]",
      "text/plain": [
       "<Figure size 640x480 with 1 Axes>"
      ]
     },
     "metadata": {},
     "output_type": "display_data"
    }
   ],
   "source": [
    "from ase.units import Bohr, Debye\n",
    "au_to_debye = Bohr/Debye\n",
    "\n",
    "ms = 12\n",
    "mew = .7\n",
    "\n",
    "fig, ax = plt.subplots()\n",
    "\n",
    "x = dipole_targets.flatten().detach().cpu() * au_to_debye\n",
    "y_sto3g = dipole_sto3g.flatten().detach().cpu() * au_to_debye\n",
    "y_ml = dipole_predictions.flatten().detach().cpu() * au_to_debye\n",
    "\n",
    "rmse_sto3g = np.sqrt(torch.mean(y_sto3g - x)**2)\n",
    "rmse_ml = np.sqrt(torch.mean(y_ml - x)**2)\n",
    "\n",
    "ax.plot(x, y_sto3g, 'v', \n",
    "         markeredgewidth = mew,\n",
    "         markeredgecolor = 'k',\n",
    "         markersize = ms, \n",
    "         label = 'STO-3G', \n",
    "         alpha = 1)\n",
    "\n",
    "ax.plot(x, y_ml, 'o',\n",
    "         markeredgewidth = mew,\n",
    "         markeredgecolor = 'k',\n",
    "         markersize = ms, \n",
    "         label = 'ML', \n",
    "         alpha = 1)\n",
    "\n",
    "ax.legend()\n",
    "\n",
    "xm, xM = ax.get_xlim()\n",
    "ym, yM = ax.get_ylim()\n",
    "m = np.min([xm,ym])\n",
    "M = np.max([xM,yM])\n",
    "ax.plot([m,M], [m,M], '--k')\n",
    "ax.set_xlim(m, M)\n",
    "ax.set_ylim(m, M)\n",
    "\n",
    "# ax.text(0.6, 0.3, fr'$\\mathrm{{RMSE_{{\\text{{STO-3G}}}}}}={rmse_sto3g:.3f}\\,$D', transform = ax.transAxes, ha = 'left')\n",
    "# ax.text(0.6, 0.25, fr'$\\mathrm{{RMSE_{{ML}}}}={rmse_ml:.3f}\\,$D', transform = ax.transAxes, ha = 'left')\n",
    "\n",
    "ax.set_xlabel('Target dipoles (D)')\n",
    "ax.set_ylabel('Predicted dipoles (D)')\n",
    "\n",
    "# ax.set_title('Indirect training from def2-svp to a STO-3G-like model.\\nTargets: eigenvalues; ARD; eigenvector norms over AOs\\nTest set contains 50 water molecules')"
   ]
  }
 ],
 "metadata": {
  "kernelspec": {
   "display_name": "Python 3 (ipykernel)",
   "language": "python",
   "name": "python3"
  },
  "language_info": {
   "codemirror_mode": {
    "name": "ipython",
    "version": 3
   },
   "file_extension": ".py",
   "mimetype": "text/x-python",
   "name": "python",
   "nbconvert_exporter": "python",
   "pygments_lexer": "ipython3",
   "version": "3.11.7"
  }
 },
 "nbformat": 4,
 "nbformat_minor": 5
}
