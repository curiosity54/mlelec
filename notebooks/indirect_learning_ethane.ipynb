{
 "cells": [
  {
   "cell_type": "code",
   "execution_count": 253,
   "id": "162d0473-d1cf-4306-9a2b-d03218bbfe49",
   "metadata": {},
   "outputs": [
    {
     "name": "stderr",
     "output_type": "stream",
     "text": [
      "[autoreload of mlelec.data.dataset failed: Traceback (most recent call last):\n",
      "  File \"/home/pegolo/micromamba/envs/sci/lib/python3.11/site-packages/IPython/extensions/autoreload.py\", line 276, in check\n",
      "    superreload(m, reload, self.old_objects)\n",
      "  File \"/home/pegolo/micromamba/envs/sci/lib/python3.11/site-packages/IPython/extensions/autoreload.py\", line 500, in superreload\n",
      "    update_generic(old_obj, new_obj)\n",
      "  File \"/home/pegolo/micromamba/envs/sci/lib/python3.11/site-packages/IPython/extensions/autoreload.py\", line 397, in update_generic\n",
      "    update(a, b)\n",
      "  File \"/home/pegolo/micromamba/envs/sci/lib/python3.11/site-packages/IPython/extensions/autoreload.py\", line 365, in update_class\n",
      "    update_instances(old, new)\n",
      "  File \"/home/pegolo/micromamba/envs/sci/lib/python3.11/site-packages/IPython/extensions/autoreload.py\", line 323, in update_instances\n",
      "    object.__setattr__(ref, \"__class__\", new)\n",
      "TypeError: __class__ assignment: 'QMDataset' object layout differs from 'QMDataset'\n",
      "]\n"
     ]
    },
    {
     "name": "stdout",
     "output_type": "stream",
     "text": [
      "The autoreload extension is already loaded. To reload it, use:\n",
      "  %reload_ext autoreload\n",
      "The line_profiler extension is already loaded. To reload it, use:\n",
      "  %reload_ext line_profiler\n"
     ]
    }
   ],
   "source": [
    "%load_ext autoreload\n",
    "%autoreload 2\n",
    "%load_ext line_profiler"
   ]
  },
  {
   "cell_type": "code",
   "execution_count": 254,
   "id": "05c52587-7c8f-4b08-8508-8d45b56d9250",
   "metadata": {},
   "outputs": [],
   "source": [
    "import hickle\n",
    "\n",
    "from ase.io import read\n",
    "\n",
    "import numpy as np\n",
    "\n",
    "import torch\n",
    "torch.set_default_dtype(torch.float64)\n",
    "\n",
    "from mlelec.data.qmdataset import QMDataset\n",
    "from mlelec.data.mldataset import MLDataset\n",
    "from mlelec.models.linear_integrated import LinearModelPeriodic\n",
    "from mlelec.utils.pbc_utils import blocks_to_matrix\n",
    "from mlelec.utils.twocenter_utils import _to_uncoupled_basis, unfix_orbital_order\n",
    "from mlelec.metrics import Eigval_loss, L2_loss_meanzero, L2_loss\n",
    "import metatensor.torch as mts\n",
    "from metatensor.learn import DataLoader\n",
    "\n",
    "import os\n",
    "os.environ[\"PYSCFAD_BACKEND\"] = \"torch\"\n",
    "from pyscf import gto\n",
    "from pyscfad import numpy as pynp\n",
    "from pyscfad import ops\n",
    "from pyscfad.ml.scf import hf\n",
    "import pyscf.pbc.tools.pyscf_ase as pyscf_ase\n",
    "from mlelec.data.pyscf_calculator import _instantiate_pyscf_mol\n",
    "\n",
    "import xitorch\n",
    "from xitorch.linalg import symeig\n",
    "\n",
    "from matplotlib import pyplot as plt\n",
    "\n",
    "from IPython.utils import io as ipy_io"
   ]
  },
  {
   "cell_type": "code",
   "execution_count": 1,
   "id": "40387ba1-2c62-4608-a6b8-9b48f1d697ee",
   "metadata": {},
   "outputs": [],
   "source": [
    "import os\n",
    "os.environ[\"PYSCFAD_BACKEND\"] = \"torch\""
   ]
  },
  {
   "cell_type": "code",
   "execution_count": 1,
   "id": "aca5877a-b220-47fa-989d-1ab391a8df46",
   "metadata": {},
   "outputs": [],
   "source": [
    "from pyscf import gto\n"
   ]
  },
  {
   "cell_type": "code",
   "execution_count": 2,
   "id": "d154d77b-a2af-4155-ab76-ce04550f7046",
   "metadata": {},
   "outputs": [
    {
     "name": "stdout",
     "output_type": "stream",
     "text": [
      "Using PyTorch backend.\n"
     ]
    }
   ],
   "source": [
    "from pyscfad import numpy as pynp\n"
   ]
  },
  {
   "cell_type": "code",
   "execution_count": 1,
   "id": "3e4e12d8-bd7c-4ef2-a249-fc39f66a08f0",
   "metadata": {},
   "outputs": [
    {
     "name": "stdout",
     "output_type": "stream",
     "text": [
      "Using PyTorch backend.\n"
     ]
    }
   ],
   "source": [
    "from pyscfad import ops\n"
   ]
  },
  {
   "cell_type": "code",
   "execution_count": 2,
   "id": "59fb5ae5-9dcf-4b03-95ab-da41e5fa30cd",
   "metadata": {},
   "outputs": [
    {
     "name": "stdout",
     "output_type": "stream",
     "text": [
      "Using PyTorch backend.\n"
     ]
    }
   ],
   "source": [
    "import os\n",
    "os.environ[\"PYSCFAD_BACKEND\"] = \"torch\"\n",
    "from pyscf import gto\n",
    "from pyscfad import numpy as pynp\n",
    "from pyscfad import ops\n",
    "from pyscfad.ml.scf import hf\n"
   ]
  },
  {
   "cell_type": "code",
   "execution_count": 255,
   "id": "06d52ddf-8bd5-4385-802a-c533ac4f1bb6",
   "metadata": {},
   "outputs": [],
   "source": [
    "orbitals = {\n",
    "    'sto-3g': {1: [[1,0,0]], \n",
    "               5: [[1,0,0],[2,0,0],[2,1,-1], [2,1,0],[2,1,1]], \n",
    "               6: [[1,0,0],[2,0,0],[2,1,-1], [2,1,0],[2,1,1]], \n",
    "               7: [[1,0,0],[2,0,0],[2,1,-1], [2,1,0],[2,1,1]],\n",
    "               8: [[1,0,0],[2,0,0],[2,1,-1], [2,1,0],[2,1,1]]\n",
    "               }, \n",
    "    \n",
    "    'def2svp': {1: [[1,0,0],[2,0,0],[2,1,-1], [2,1,0],[2,1,1]],\n",
    "                6: [[1,0,0],[2,0,0],[3,0,0],[2,1,1], [2,1,-1],[2,1,0], [3,1,1], [3,1,-1],[3,1,0], [3,2,-2], [3,2,-1],[3,2,0], [3,2,1],[3,2,2]],\n",
    "                8: [[1,0,0],[2,0,0],[3,0,0],[2,1,1], [2,1,-1],[2,1,0], [3,1,1], [3,1,-1],[3,1,0], [3,2,-2], [3,2,-1],[3,2,0], [3,2,1],[3,2,2]]\n",
    "                },\n",
    "    'def2tzvp': {\n",
    "    6: [\n",
    "        # 5S\n",
    "        [1, 0, 0],\n",
    "        [2, 0, 0],\n",
    "        [3, 0, 0],\n",
    "        [4, 0, 0],\n",
    "        [5, 0, 0],\n",
    "        # 3P\n",
    "        [2, 1, 1],\n",
    "        [2, 1, -1],\n",
    "        [2, 1, 0],\n",
    "        [3, 1, 1],\n",
    "        [3, 1, -1],\n",
    "        [3, 1, 0],\n",
    "        [4, 1, 1],\n",
    "        [4, 1, -1],\n",
    "        [4, 1, 0],\n",
    "        # 2D\n",
    "        [3, 2, -2],\n",
    "        [3, 2, -1],\n",
    "        [3, 2, 0],\n",
    "        [3, 2, 1],\n",
    "        [3, 2, 2],\n",
    "        [4, 2, -2],\n",
    "        [4, 2, -1],\n",
    "        [4, 2, 0],\n",
    "        [4, 2, 1],\n",
    "        [4, 2, 2],\n",
    "        # 1F\n",
    "        [4, 3, -3],\n",
    "        [4, 3, -2],\n",
    "        [4, 3, -1],\n",
    "        [4, 3, 0],\n",
    "        [4, 3, 1],\n",
    "        [4, 3, 2],\n",
    "        [4, 3, 3]\n",
    "    ],\n",
    "\n",
    "     1: [\n",
    "         # 3S\n",
    "         [1, 0, 0], \n",
    "         [2, 0, 0], \n",
    "         [3, 0, 0], \n",
    "         # 1P\n",
    "         [2, 1, -1], \n",
    "         [2, 1, 0], \n",
    "         [2, 1, 1]\n",
    "     ]\n",
    "}\n",
    "}\n",
    "\n",
    "device = 'cpu'"
   ]
  },
  {
   "cell_type": "code",
   "execution_count": 4,
   "id": "4998d7ce-9947-4561-8ed0-5e1aa203aff3",
   "metadata": {},
   "outputs": [],
   "source": [
    "max_radial  = 12\n",
    "max_angular = 6\n",
    "atomic_gaussian_width = 0.3\n",
    "cutoff = 3.5\n",
    "\n",
    "hypers_pair = {'cutoff': cutoff,\n",
    "               'max_radial': max_radial,\n",
    "               'max_angular': max_angular,\n",
    "               'atomic_gaussian_width': atomic_gaussian_width,\n",
    "               'center_atom_weight': 1,\n",
    "               \"radial_basis\": {\"Gto\": {}},\n",
    "               \"cutoff_function\": {\"ShiftedCosine\": {\"width\": 0.5}}}\n",
    "\n",
    "hypers_atom = {'cutoff': cutoff,\n",
    "               'max_radial': max_radial,\n",
    "               'max_angular': max_angular,\n",
    "               'atomic_gaussian_width': 0.5,\n",
    "               'center_atom_weight': 1,\n",
    "               \"radial_basis\": {\"Gto\": {}},\n",
    "               \"cutoff_function\": {\"ShiftedCosine\": {\"width\": 0.5}}}\n",
    "\n",
    "\n",
    "return_rho0ij = False\n",
    "both_centers = False\n",
    "LCUT = 4"
   ]
  },
  {
   "cell_type": "markdown",
   "id": "0ef5d36f-6fea-41d2-8b30-0e05e514b1f4",
   "metadata": {},
   "source": [
    "# QMD"
   ]
  },
  {
   "cell_type": "code",
   "execution_count": 256,
   "id": "61d5bfc3-c835-45de-b318-c96150bfafa6",
   "metadata": {},
   "outputs": [],
   "source": [
    "workdir = '/scratch/pegolo/ethane'\n",
    "every = 20"
   ]
  },
  {
   "cell_type": "markdown",
   "id": "53f6d217-5003-47a7-bfd8-73acd29687cc",
   "metadata": {},
   "source": [
    "For the moment, we need to create multiple QMDataset (analogous to MoleculeDataset), one for the large basis, one for the small one."
   ]
  },
  {
   "cell_type": "code",
   "execution_count": 261,
   "id": "7188d839-579f-4b16-bab2-e5f78cc033ab",
   "metadata": {},
   "outputs": [],
   "source": [
    "qmdata = QMDataset.from_file(\n",
    "    frames_path = f'{workdir}/ethane.xyz', \n",
    "    fock_realspace_path = f'{workdir}/b3lypg_def2tzvp/focks.npy', \n",
    "    overlap_realspace_path = f'{workdir}/b3lypg_def2tzvp/ovlps.npy',\n",
    "    dimension = 0, \n",
    "    device = 'cpu', \n",
    "    orbs_name='def2tzvp', \n",
    "    orbs=orbitals['def2tzvp'], \n",
    "    frame_slice = f'::{every}',\n",
    ")"
   ]
  },
  {
   "cell_type": "code",
   "execution_count": 262,
   "id": "be02c4fe-273e-46b5-9c04-7dae558b62ee",
   "metadata": {},
   "outputs": [],
   "source": [
    "qmdata_sto3G = QMDataset.from_file(\n",
    "    frames_path = f'{workdir}/ethane.xyz', \n",
    "    dimension = 0,\n",
    "    fock_realspace_path = f'{workdir}/b3lypg_sto3g/fock.hickle',\n",
    "    overlap_realspace_path = f'{workdir}/b3lypg_sto3g/ovlp_nscf.hickle',\n",
    "    device = device, \n",
    "    orbs = orbitals['sto-3g'], \n",
    "    orbs_name = 'sto-3g',\n",
    "    frame_slice = f'::{every}',\n",
    ")"
   ]
  },
  {
   "cell_type": "markdown",
   "id": "cfd27e2a-cb78-4dad-b2f2-70b6a42c68dc",
   "metadata": {},
   "source": [
    "# MLD"
   ]
  },
  {
   "cell_type": "code",
   "execution_count": 272,
   "id": "af9ffb89-465f-44a3-806a-dd0b244aeba4",
   "metadata": {},
   "outputs": [
    {
     "name": "stdout",
     "output_type": "stream",
     "text": [
      "cpu pair features\n",
      "cpu single center features\n",
      "cpu single center features\n"
     ]
    }
   ],
   "source": [
    "from mlelec.data.mldataset import MLDataset\n",
    "mldata = MLDataset(qmdata, \n",
    "                   item_names = ['fock_blocks', 'fock_realspace', 'overlap_realspace', 'eigenvalues', 'atom_resolved_density'],\n",
    "                   # features = mldata.features,\n",
    "                   cutoff = hypers_pair['cutoff'],\n",
    "                   hypers_atom = hypers_atom,\n",
    "                   hypers_pair = hypers_pair,\n",
    "                   lcut = 3,\n",
    "                   train_frac = 0.7,\n",
    "                   val_frac = 0.2,\n",
    "                   test_frac = 0.1,\n",
    "                   shuffle = False,\n",
    "                   model_basis = orbitals['sto-3g'],\n",
    "                   fix_p_orbital_order = True,\n",
    "                   aux_overlap_realspace = qmdata_sto3G.overlap_realspace\n",
    "                  )"
   ]
  },
  {
   "cell_type": "markdown",
   "id": "f2dca2cf-2183-4b8e-820e-5a10e9e5a8b5",
   "metadata": {},
   "source": [
    "# Model"
   ]
  },
  {
   "cell_type": "markdown",
   "id": "abada533-7c2b-423c-bd6c-46516fc8fe74",
   "metadata": {},
   "source": [
    "Initialize the model"
   ]
  },
  {
   "cell_type": "code",
   "execution_count": null,
   "id": "db4873e8-95f2-4fe6-8524-a135e1f2d17c",
   "metadata": {},
   "outputs": [],
   "source": [
    "# def set_random_seed(seed):\n",
    "#     torch.manual_seed(seed)\n",
    "#     np.random.seed(seed)\n",
    "#     # random.seed(seed)\n",
    "#     if torch.cuda.is_available():\n",
    "#         torch.cuda.manual_seed(seed)\n",
    "#         torch.cuda.manual_seed_all(seed)"
   ]
  },
  {
   "cell_type": "code",
   "execution_count": null,
   "id": "092f9fed-8da2-4a2d-a300-6c9d54c0b2b1",
   "metadata": {},
   "outputs": [],
   "source": [
    "# from mlelec.models.equivariant_nonlinear_model import EquivariantNonlinearModel\n",
    "# seed = 0\n",
    "# set_random_seed(seed)\n",
    "\n",
    "# model = EquivariantNonlinearModel(mldata, device = device, nhidden = 4, nlayers = 1, activation = 'SiLU', apply_norm = True)\n",
    "# model = model.double()"
   ]
  },
  {
   "cell_type": "code",
   "execution_count": null,
   "id": "6ab9aa9e-f265-45b1-95c9-1c1b942c0eb5",
   "metadata": {},
   "outputs": [],
   "source": [
    "# seed = 0\n",
    "# set_random_seed(0)\n",
    "\n",
    "# model_old = LinearModelPeriodic(twocfeat = mldata.features, \n",
    "#                             target_blocks = mldata.model_metadata,\n",
    "#                             frames = mldata.structures, \n",
    "#                             orbitals = mldata.model_basis, \n",
    "#                             device = device,\n",
    "#                             nhidden = 4, \n",
    "#                             nlayers = 1,\n",
    "#                             activation = 'SiLU',\n",
    "#                            apply_norm = True\n",
    "#                            )\n",
    "# model_old = model_old.double()"
   ]
  },
  {
   "cell_type": "code",
   "execution_count": 372,
   "id": "002d5e14-e65d-488c-8155-2f9107ec2222",
   "metadata": {
    "scrolled": true
   },
   "outputs": [],
   "source": [
    "from mlelec.models.equivariant_nonlinear_lightning import LitEquivariantNonlinearModel, MSELoss\n",
    "from mlelec.models.equivariant_nonlinear_lightning import MLDatasetDataModule\n",
    "from mlelec.callbacks.logging import LoggingCallback\n",
    "from mlelec.callbacks.progress_bar import ProgressBar\n",
    "\n",
    "import lightning.pytorch as pl\n",
    "from lightning.pytorch.loggers import TensorBoardLogger\n",
    "from lightning.pytorch.callbacks import EarlyStopping\n",
    "\n",
    "# Assuming you have `train_dataset`, `val_dataset`, and `test_dataset`\n",
    "data_module = MLDatasetDataModule(mldata, batch_size=8, num_workers=0)\n",
    "\n",
    "# Initialize with custom loss function and keyword arguments for derived predictions\n",
    "\n",
    "model = LitEquivariantNonlinearModel(\n",
    "    mldata=mldata,\n",
    "    nhidden=16,\n",
    "    nlayers=1,\n",
    "    activation='SiLU',\n",
    "    apply_norm=True,\n",
    "    learning_rate=1e-3,\n",
    "    loss_fn=MSELoss(),\n",
    "    is_indirect=True,\n",
    "    eigenvalues=True,\n",
    "    atom_resolved_density=True\n",
    ")"
   ]
  },
  {
   "cell_type": "code",
   "execution_count": 373,
   "id": "199332cf-de07-46eb-b83d-ee2873546425",
   "metadata": {},
   "outputs": [],
   "source": [
    "logger = TensorBoardLogger(\"tb_logs\", name=\"ethane\")"
   ]
  },
  {
   "cell_type": "code",
   "execution_count": 374,
   "id": "8f8f5634-a98d-4e74-8951-830201e7b80a",
   "metadata": {},
   "outputs": [],
   "source": [
    "early_stopping = EarlyStopping(\n",
    "    monitor='val_loss',\n",
    "    min_delta=0.00,\n",
    "    patience=100,\n",
    "    verbose=False,\n",
    "    mode='min'\n",
    ")"
   ]
  },
  {
   "cell_type": "code",
   "execution_count": 375,
   "id": "62a8a4a1-432c-472d-a2c1-c869c1dc82c6",
   "metadata": {},
   "outputs": [],
   "source": [
    "progress_bar = ProgressBar()\n",
    "logger_callback = LoggingCallback(log_every_n_epochs = 5)"
   ]
  },
  {
   "cell_type": "code",
   "execution_count": 376,
   "id": "da403782-fee8-4f4b-a8eb-27a71f8b9ac7",
   "metadata": {},
   "outputs": [
    {
     "name": "stderr",
     "output_type": "stream",
     "text": [
      "GPU available: True (cuda), used: False\n",
      "TPU available: False, using: 0 TPU cores\n",
      "HPU available: False, using: 0 HPUs\n",
      "/home/pegolo/micromamba/envs/sci/lib/python3.11/site-packages/lightning/pytorch/trainer/setup.py:177: GPU available but not used. You can set it by doing `Trainer(accelerator='gpu')`.\n"
     ]
    }
   ],
   "source": [
    "trainer = pl.Trainer(max_epochs=100, \n",
    "                     accelerator='cpu', \n",
    "                     # logger = logger, \n",
    "                     # log_every_n_steps = 1, \n",
    "                     check_val_every_n_epoch=10,\n",
    "                     callbacks=[early_stopping, progress_bar]\n",
    "                     # callbacks=[early_stopping, logger_callback],\n",
    "                     # enable_progress_bar=False\n",
    "                    )"
   ]
  },
  {
   "cell_type": "code",
   "execution_count": 377,
   "id": "62d396bf-f399-4855-99cd-30dea65ddaa5",
   "metadata": {},
   "outputs": [
    {
     "name": "stderr",
     "output_type": "stream",
     "text": [
      "\n",
      "  | Name  | Type                      | Params | Mode \n",
      "------------------------------------------------------------\n",
      "0 | model | EquivariantNonlinearModel | 784 K  | train\n",
      "------------------------------------------------------------\n",
      "784 K     Trainable params\n",
      "0         Non-trainable params\n",
      "784 K     Total params\n",
      "3.137     Total estimated model params size (MB)\n"
     ]
    },
    {
     "data": {
      "application/vnd.jupyter.widget-view+json": {
       "model_id": "",
       "version_major": 2,
       "version_minor": 0
      },
      "text/plain": [
       "Sanity Checking: |                                                                                            …"
      ]
     },
     "metadata": {},
     "output_type": "display_data"
    },
    {
     "name": "stderr",
     "output_type": "stream",
     "text": [
      "/home/pegolo/micromamba/envs/sci/lib/python3.11/site-packages/lightning/pytorch/trainer/connectors/data_connector.py:424: The 'val_dataloader' does not have many workers which may be a bottleneck. Consider increasing the value of the `num_workers` argument` to `num_workers=23` in the `DataLoader` to improve performance.\n",
      "/home/pegolo/micromamba/envs/sci/lib/python3.11/site-packages/lightning/pytorch/trainer/connectors/data_connector.py:424: The 'train_dataloader' does not have many workers which may be a bottleneck. Consider increasing the value of the `num_workers` argument` to `num_workers=23` in the `DataLoader` to improve performance.\n",
      "/home/pegolo/micromamba/envs/sci/lib/python3.11/site-packages/lightning/pytorch/loops/fit_loop.py:298: The number of training batches (5) is smaller than the logging interval Trainer(log_every_n_steps=50). Set a lower value for log_every_n_steps if you want to see logs for the training epoch.\n"
     ]
    },
    {
     "data": {
      "application/vnd.jupyter.widget-view+json": {
       "model_id": "fc0a79e776ba4044a45e57110c4b35ef",
       "version_major": 2,
       "version_minor": 0
      },
      "text/plain": [
       "Training:   0%|          | 0/100 [00:00<?, ?it/s]"
      ]
     },
     "metadata": {},
     "output_type": "display_data"
    },
    {
     "data": {
      "application/vnd.jupyter.widget-view+json": {
       "model_id": "",
       "version_major": 2,
       "version_minor": 0
      },
      "text/plain": [
       "Validation: |                                                                                                 …"
      ]
     },
     "metadata": {},
     "output_type": "display_data"
    },
    {
     "data": {
      "application/vnd.jupyter.widget-view+json": {
       "model_id": "",
       "version_major": 2,
       "version_minor": 0
      },
      "text/plain": [
       "Validation: |                                                                                                 …"
      ]
     },
     "metadata": {},
     "output_type": "display_data"
    },
    {
     "data": {
      "application/vnd.jupyter.widget-view+json": {
       "model_id": "",
       "version_major": 2,
       "version_minor": 0
      },
      "text/plain": [
       "Validation: |                                                                                                 …"
      ]
     },
     "metadata": {},
     "output_type": "display_data"
    },
    {
     "data": {
      "application/vnd.jupyter.widget-view+json": {
       "model_id": "",
       "version_major": 2,
       "version_minor": 0
      },
      "text/plain": [
       "Validation: |                                                                                                 …"
      ]
     },
     "metadata": {},
     "output_type": "display_data"
    },
    {
     "data": {
      "application/vnd.jupyter.widget-view+json": {
       "model_id": "",
       "version_major": 2,
       "version_minor": 0
      },
      "text/plain": [
       "Validation: |                                                                                                 …"
      ]
     },
     "metadata": {},
     "output_type": "display_data"
    },
    {
     "data": {
      "application/vnd.jupyter.widget-view+json": {
       "model_id": "",
       "version_major": 2,
       "version_minor": 0
      },
      "text/plain": [
       "Validation: |                                                                                                 …"
      ]
     },
     "metadata": {},
     "output_type": "display_data"
    },
    {
     "data": {
      "application/vnd.jupyter.widget-view+json": {
       "model_id": "",
       "version_major": 2,
       "version_minor": 0
      },
      "text/plain": [
       "Validation: |                                                                                                 …"
      ]
     },
     "metadata": {},
     "output_type": "display_data"
    },
    {
     "data": {
      "application/vnd.jupyter.widget-view+json": {
       "model_id": "",
       "version_major": 2,
       "version_minor": 0
      },
      "text/plain": [
       "Validation: |                                                                                                 …"
      ]
     },
     "metadata": {},
     "output_type": "display_data"
    },
    {
     "data": {
      "application/vnd.jupyter.widget-view+json": {
       "model_id": "",
       "version_major": 2,
       "version_minor": 0
      },
      "text/plain": [
       "Validation: |                                                                                                 …"
      ]
     },
     "metadata": {},
     "output_type": "display_data"
    },
    {
     "data": {
      "application/vnd.jupyter.widget-view+json": {
       "model_id": "",
       "version_major": 2,
       "version_minor": 0
      },
      "text/plain": [
       "Validation: |                                                                                                 …"
      ]
     },
     "metadata": {},
     "output_type": "display_data"
    },
    {
     "name": "stderr",
     "output_type": "stream",
     "text": [
      "`Trainer.fit` stopped: `max_epochs=100` reached.\n"
     ]
    }
   ],
   "source": [
    "trainer.fit(model, data_module)"
   ]
  },
  {
   "cell_type": "code",
   "execution_count": 378,
   "id": "f14631e3",
   "metadata": {},
   "outputs": [
    {
     "name": "stderr",
     "output_type": "stream",
     "text": [
      "/home/pegolo/micromamba/envs/sci/lib/python3.11/site-packages/lightning/pytorch/trainer/connectors/data_connector.py:424: The 'test_dataloader' does not have many workers which may be a bottleneck. Consider increasing the value of the `num_workers` argument` to `num_workers=23` in the `DataLoader` to improve performance.\n"
     ]
    },
    {
     "data": {
      "application/vnd.jupyter.widget-view+json": {
       "model_id": "b497906e4d4e40568bbe4b982cd4ca08",
       "version_major": 2,
       "version_minor": 0
      },
      "text/plain": [
       "Testing: |                                                                                                    …"
      ]
     },
     "metadata": {},
     "output_type": "display_data"
    },
    {
     "data": {
      "text/html": [
       "<pre style=\"white-space:pre;overflow-x:auto;line-height:normal;font-family:Menlo,'DejaVu Sans Mono',consolas,'Courier New',monospace\">┏━━━━━━━━━━━━━━━━━━━━━━━━━━━━┳━━━━━━━━━━━━━━━━━━━━━━━━━━━━┓\n",
       "┃<span style=\"font-weight: bold\">        Test metric         </span>┃<span style=\"font-weight: bold\">        DataLoader 0        </span>┃\n",
       "┡━━━━━━━━━━━━━━━━━━━━━━━━━━━━╇━━━━━━━━━━━━━━━━━━━━━━━━━━━━┩\n",
       "│<span style=\"color: #008080; text-decoration-color: #008080\"> rmse_atom_resolved_density </span>│<span style=\"color: #800080; text-decoration-color: #800080\">    0.24260617104658455     </span>│\n",
       "│<span style=\"color: #008080; text-decoration-color: #008080\">      rmse_eigenvalues      </span>│<span style=\"color: #800080; text-decoration-color: #800080\">    0.05181459468415377     </span>│\n",
       "│<span style=\"color: #008080; text-decoration-color: #008080\">         test_loss          </span>│<span style=\"color: #800080; text-decoration-color: #800080\">     19.04926153134574      </span>│\n",
       "└────────────────────────────┴────────────────────────────┘\n",
       "</pre>\n"
      ],
      "text/plain": [
       "┏━━━━━━━━━━━━━━━━━━━━━━━━━━━━┳━━━━━━━━━━━━━━━━━━━━━━━━━━━━┓\n",
       "┃\u001b[1m \u001b[0m\u001b[1m       Test metric        \u001b[0m\u001b[1m \u001b[0m┃\u001b[1m \u001b[0m\u001b[1m       DataLoader 0       \u001b[0m\u001b[1m \u001b[0m┃\n",
       "┡━━━━━━━━━━━━━━━━━━━━━━━━━━━━╇━━━━━━━━━━━━━━━━━━━━━━━━━━━━┩\n",
       "│\u001b[36m \u001b[0m\u001b[36mrmse_atom_resolved_density\u001b[0m\u001b[36m \u001b[0m│\u001b[35m \u001b[0m\u001b[35m   0.24260617104658455    \u001b[0m\u001b[35m \u001b[0m│\n",
       "│\u001b[36m \u001b[0m\u001b[36m     rmse_eigenvalues     \u001b[0m\u001b[36m \u001b[0m│\u001b[35m \u001b[0m\u001b[35m   0.05181459468415377    \u001b[0m\u001b[35m \u001b[0m│\n",
       "│\u001b[36m \u001b[0m\u001b[36m        test_loss         \u001b[0m\u001b[36m \u001b[0m│\u001b[35m \u001b[0m\u001b[35m    19.04926153134574     \u001b[0m\u001b[35m \u001b[0m│\n",
       "└────────────────────────────┴────────────────────────────┘\n"
      ]
     },
     "metadata": {},
     "output_type": "display_data"
    },
    {
     "data": {
      "text/plain": [
       "[{'test_loss': 19.04926153134574,\n",
       "  'rmse_atom_resolved_density': 0.24260617104658455,\n",
       "  'rmse_eigenvalues': 0.05181459468415377}]"
      ]
     },
     "execution_count": 378,
     "metadata": {},
     "output_type": "execute_result"
    }
   ],
   "source": [
    "trainer.test(model, data_module)"
   ]
  },
  {
   "cell_type": "code",
   "execution_count": 363,
   "id": "e6874c6c-9288-4154-bea9-7ebdafb73e80",
   "metadata": {},
   "outputs": [],
   "source": [
    "from mlelec.data.derived_properties import compute_atom_resolved_density, compute_eigenvalues"
   ]
  },
  {
   "cell_type": "code",
   "execution_count": 371,
   "id": "764358ca-7482-4453-941c-aa5240156258",
   "metadata": {},
   "outputs": [
    {
     "data": {
      "image/png": "[encoded data removed]",
      "text/plain": [
       "<Figure size 640x480 with 1 Axes>"
      ]
     },
     "metadata": {},
     "output_type": "display_data"
    },
    {
     "data": {
      "image/png": "[encoded data removed]",
      "text/plain": [
       "<Figure size 640x480 with 1 Axes>"
      ]
     },
     "metadata": {},
     "output_type": "display_data"
    },
    {
     "data": {
      "image/png": "[encoded data removed]",
      "text/plain": [
       "<Figure size 640x480 with 1 Axes>"
      ]
     },
     "metadata": {},
     "output_type": "display_data"
    }
   ],
   "source": [
    "test_dl = DataLoader(mldata.test_dataset, batch_size = len(mldata.test_dataset), collate_fn=mldata.group_and_join)\n",
    "train_dl = DataLoader(mldata.train_dataset, batch_size = len(mldata.train_dataset), collate_fn=mldata.group_and_join)\n",
    "\n",
    "test_dl_frames_dict = {A.item(): f for A, f in zip(mldata.test_idx, mldata.test_frames)}\n",
    "train_dl_frames_dict = {A.item(): f for A, f in zip(mldata.train_idx, mldata.train_frames)}\n",
    "\n",
    "fig_e, ax_e = plt.subplots()\n",
    "fig_a, ax_a = plt.subplots()\n",
    "fig_evec, ax_evec = plt.subplots()\n",
    "\n",
    "data = {}\n",
    "for dl_, frames_dict, lbl in zip([train_dl, test_dl], [train_dl_frames_dict, test_dl_frames_dict], ['train', 'test']):\n",
    "    batch = next(iter(dl_))\n",
    "    pred = model(batch.features, mldata.model_metadata)\n",
    "\n",
    "    \n",
    "    HT = blocks_to_matrix(pred, mldata.model_basis, frames_dict, detach = True)\n",
    "    HT = [h[0,0,0] for h in HT]\n",
    "\n",
    "    pred_eigvals, pred_eigvec = compute_eigenvalues(HT, batch.overlap_realspace, return_eigenvectors=True)\n",
    "    pred_ard, _ = compute_atom_resolved_density(pred_eigvec, \n",
    "                                                [mldata.qmdata.structures[i] for i in batch.sample_id], \n",
    "                                                 mldata.model_basis, \n",
    "                                                 mldata.qmdata.ncore)\n",
    "    # pred_eigvals, pred_ard, pred_eigvec, pred_rho = compute_ard_vec(qmdata, batch, HT, device, overlap = [qmdata.overlap_realspace[i] for i in batch.sample_id])\n",
    "\n",
    "    small_shapes = [p.shape for p in pred_eigvals]\n",
    "    slices = [tuple(slice(0, dim) for dim in small_shape) for small_shape in small_shapes]\n",
    "    x = torch.cat([batch.eigenvalues[i][s].flatten() for i, s in enumerate(slices)])\n",
    "    y = torch.cat([p.flatten() for p in pred_eigvals])\n",
    "    ax_e.plot(x, y, '.', label = lbl)\n",
    "    ax_e.plot([-21, 2], [-21, 2], 'k')\n",
    "    ax_e.set_title('Eigenvalues')\n",
    "    ax_e.legend()\n",
    "\n",
    "    x = torch.cat([ard.flatten() for ard in batch.atom_resolved_density])\n",
    "    y = torch.cat([ard.flatten() for ard in pred_ard])\n",
    "    ax_a.plot(x, y, '.', label = lbl)\n",
    "    ax_a.plot([0,7], [0,7], 'k')\n",
    "    ax_a.set_title('Mayer bond charges')\n",
    "    ax_a.legend()\n",
    "\n",
    "    small_shapes = [p.shape for p in pred_eigvec]\n",
    "    slices = [tuple(slice(0, dim) for dim in small_shape) for small_shape in small_shapes]\n",
    "    x = torch.cat([torch.norm(batch.eigenvectors[i][s], dim = (0)).flatten() for i, s in enumerate(slices)])\n",
    "    y = torch.cat([torch.norm(p, dim = (0)).flatten() for p in pred_eigvec])\n",
    "    # pred_evn, targ_evn = torch.norm(pred_eigvec, dim = (1)), torch.norm(batch.eigenvectors[slices], dim = (1))\n",
    "    \n",
    "    ax_evec.plot(x, y, '.', label = lbl)\n",
    "    xmin, xmax = ax_evec.get_xlim()\n",
    "    ymin, ymax = ax_evec.get_ylim()\n",
    "    xmin = np.min([xmin,ymin])\n",
    "    xmax = np.max([xmax,ymax])\n",
    "    ax_evec.plot([xmin,xmax], [xmin,xmax], 'k')\n",
    "    ax_evec.set_title('evec')\n",
    "    ax_evec.legend()"
   ]
  },
  {
   "cell_type": "code",
   "execution_count": 347,
   "id": "1617430a-3515-4204-aa44-c9b8d0029e5a",
   "metadata": {},
   "outputs": [
    {
     "name": "stdout",
     "output_type": "stream",
     "text": [
      "(45, 46, 47, 48, 49)\n"
     ]
    }
   ],
   "source": [
    "batch = next(iter(test_dl))\n",
    "print(batch.sample_id)\n",
    "\n",
    "dl_frames = [qmdata.structures[A] for A in batch.sample_id]\n",
    "dl_frames_dict = {A: f for A, f in zip(batch.sample_id, dl_frames)}\n",
    "pred = model(batch.features, mldata.model_metadata)\n",
    "\n",
    "HT = blocks_to_matrix(pred, mldata.model_basis, dl_frames_dict, detach = True)\n",
    "HT = [h[0,0,0] for h in HT]\n",
    "\n",
    "# Predictions need fixing/unfixing the orbital order\n",
    "fock_predictions = unfix_orbital_order(\n",
    "    torch.stack(HT),\n",
    "    dl_frames,\n",
    "    qmdata_sto3G.basis\n",
    ")\n",
    "over_predictions = unfix_orbital_order(\n",
    "    batch.overlap_realspace,\n",
    "    dl_frames,\n",
    "    qmdata_sto3G.basis\n",
    ")\n",
    "\n",
    "# QMDataset does NOT need fixing/unfixing the orbital order\n",
    "fock_targets = torch.stack([qmdata.fock_realspace[i] for i in batch.sample_id])\n",
    "over_targets = torch.stack([qmdata.overlap_realspace[i] for i in batch.sample_id])\n",
    "\n",
    "fock_sto3g = torch.stack([qmdata_sto3G.fock_realspace[i] for i in batch.sample_id])\n",
    "over_sto3g = torch.stack([qmdata_sto3G.overlap_realspace[i] for i in batch.sample_id])\n",
    "\n",
    "with ipy_io.capture_output():\n",
    "    dipole_targets = compute_dipole_moment(\n",
    "        dl_frames,\n",
    "        fock_targets,\n",
    "        over_targets,\n",
    "        qmdata.basis_name)\n",
    "\n",
    "with ipy_io.capture_output():\n",
    "    dipole_predictions = compute_dipole_moment(\n",
    "        dl_frames,\n",
    "        fock_predictions,\n",
    "        over_predictions,\n",
    "        qmdata_sto3G.basis_name)\n",
    "\n",
    "with ipy_io.capture_output():\n",
    "    dipole_sto3g = compute_dipole_moment(\n",
    "        dl_frames,\n",
    "        fock_sto3g,\n",
    "        over_sto3g,\n",
    "        qmdata_sto3G.basis_name)"
   ]
  },
  {
   "cell_type": "code",
   "execution_count": 349,
   "id": "60168fff-f183-4a70-b20c-daa9987beee2",
   "metadata": {},
   "outputs": [
    {
     "data": {
      "text/plain": [
       "Text(0, 0.5, 'Predicted dipoles (D)')"
      ]
     },
     "execution_count": 349,
     "metadata": {},
     "output_type": "execute_result"
    },
    {
     "data": {
      "image/png": "[encoded data removed]",
      "text/plain": [
       "<Figure size 640x480 with 1 Axes>"
      ]
     },
     "metadata": {},
     "output_type": "display_data"
    }
   ],
   "source": [
    "from ase.units import Bohr, Debye\n",
    "au_to_debye = Bohr/Debye\n",
    "\n",
    "ms = 12\n",
    "mew = .7\n",
    "\n",
    "fig, ax = plt.subplots()\n",
    "\n",
    "x = dipole_targets.flatten().detach().cpu() * au_to_debye\n",
    "y_sto3g = dipole_sto3g.flatten().detach().cpu() * au_to_debye\n",
    "y_ml = dipole_predictions.flatten().detach().cpu() * au_to_debye\n",
    "\n",
    "rmse_sto3g = np.sqrt(torch.mean(y_sto3g - x)**2)\n",
    "rmse_ml = np.sqrt(torch.mean(y_ml - x)**2)\n",
    "\n",
    "ax.plot(x, y_sto3g, 'v', \n",
    "         markeredgewidth = mew,\n",
    "         markeredgecolor = 'k',\n",
    "         markersize = ms, \n",
    "         label = 'STO-3G', \n",
    "         alpha = 1)\n",
    "\n",
    "ax.plot(x, y_ml, 'o',\n",
    "         markeredgewidth = mew,\n",
    "         markeredgecolor = 'k',\n",
    "         markersize = ms, \n",
    "         label = 'ML', \n",
    "         alpha = 1)\n",
    "\n",
    "ax.legend()\n",
    "\n",
    "xm, xM = ax.get_xlim()\n",
    "ym, yM = ax.get_ylim()\n",
    "m = np.min([xm,ym])\n",
    "M = np.max([xM,yM])\n",
    "ax.plot([m,M], [m,M], '--k')\n",
    "ax.set_xlim(m, M)\n",
    "ax.set_ylim(m, M)\n",
    "\n",
    "# ax.text(0.6, 0.3, fr'$\\mathrm{{RMSE_{{\\text{{STO-3G}}}}}}={rmse_sto3g:.3f}\\,$D', transform = ax.transAxes, ha = 'left')\n",
    "# ax.text(0.6, 0.25, fr'$\\mathrm{{RMSE_{{ML}}}}={rmse_ml:.3f}\\,$D', transform = ax.transAxes, ha = 'left')\n",
    "\n",
    "ax.set_xlabel('Target dipoles (D)')\n",
    "ax.set_ylabel('Predicted dipoles (D)')\n",
    "\n",
    "# ax.set_title('Indirect training from def2-svp to a STO-3G-like model.\\nTargets: eigenvalues; ARD; eigenvector norms over AOs\\nTest set contains 50 water molecules')"
   ]
  }
 ],
 "metadata": {
  "kernelspec": {
   "display_name": "Python 3 (ipykernel)",
   "language": "python",
   "name": "python3"
  },
  "language_info": {
   "codemirror_mode": {
    "name": "ipython",
    "version": 3
   },
   "file_extension": ".py",
   "mimetype": "text/x-python",
   "name": "python",
   "nbconvert_exporter": "python",
   "pygments_lexer": "ipython3",
   "version": "3.11.7"
  }
 },
 "nbformat": 4,
 "nbformat_minor": 5
}
