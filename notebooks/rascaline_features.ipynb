{
 "cells": [
  {
   "cell_type": "code",
   "execution_count": null,
   "id": "715e2243-3536-4bab-acab-39b2129f038b",
   "metadata": {},
   "outputs": [],
   "source": [
    "import numpy as np\n",
    "\n",
    "import torch\n",
    "torch.set_default_dtype(torch.float64)\n",
    "\n",
    "from ase.io import read\n",
    "from ase.build import bulk\n",
    "\n",
    "from mlelec.data.dataset import QMDataset\n",
    "from mlelec.features.acdc import compute_features\n",
    "\n",
    "import metatensor.torch as mts\n",
    "\n",
    "import rascaline.torch\n",
    "from rascaline.torch.utils.clebsch_gordan import EquivariantPowerSpectrumByPair"
   ]
  },
  {
   "cell_type": "code",
   "execution_count": null,
   "id": "f0131f6a-72a2-445e-9384-0ba95406c112",
   "metadata": {},
   "outputs": [],
   "source": [
    "device = 'cpu'"
   ]
  },
  {
   "cell_type": "code",
   "execution_count": null,
   "id": "0cb8d851-377b-4bd5-a632-397f666731e1",
   "metadata": {},
   "outputs": [],
   "source": [
    "orbitals = {'gthszv':  {14: [[3,0,0], [3,1,1], [3,1,-1], [3,1,0]]}}\n",
    "ORBS = 'gthszv'\n",
    "frames = [bulk('Si', crystalstructure='diamond')]\n",
    "\n",
    "qmdata = QMDataset(frames = frames, \n",
    "                   kmesh = [1,1,1], \n",
    "                   dimension = 3,\n",
    "                   fock_kspace = [np.random.randn(1, 4, 4)], \n",
    "                   device = device, \n",
    "                   orbs = orbitals[ORBS],\n",
    "                   orbs_name = ORBS)"
   ]
  },
  {
   "cell_type": "code",
   "execution_count": null,
   "id": "e4d7fe85-f60f-47b3-a0c1-90b94b346309",
   "metadata": {},
   "outputs": [],
   "source": [
    "max_radial  = 3\n",
    "max_angular = 3\n",
    "atomic_gaussian_width = 0.3\n",
    "cutoff = 6\n",
    "\n",
    "hypers_pair = {'cutoff': cutoff,\n",
    "               'max_radial': max_radial,\n",
    "               'max_angular': max_angular,\n",
    "               'atomic_gaussian_width': atomic_gaussian_width,\n",
    "               'center_atom_weight': 1,\n",
    "               \"radial_basis\": {\"Gto\": {}},\n",
    "               \"cutoff_function\": {\"ShiftedCosine\": {\"width\": 0.5}}}\n",
    "\n",
    "\n",
    "hypers_atom = {'cutoff': 4,\n",
    "               'max_radial': max_radial,\n",
    "               'max_angular': max_angular,\n",
    "               'atomic_gaussian_width': 0.5,\n",
    "               'center_atom_weight': 1,\n",
    "               \"radial_basis\": {\"Gto\": {}},\n",
    "               \"cutoff_function\": {\"ShiftedCosine\": {\"width\": 0.5}}}\n",
    "\n",
    "\n",
    "return_rho0ij = False\n",
    "both_centers = False\n",
    "LCUT = 3"
   ]
  },
  {
   "cell_type": "code",
   "execution_count": null,
   "id": "32bd29f0-47c2-45dc-bbbd-51bafdd4521e",
   "metadata": {},
   "outputs": [],
   "source": [
    "desc1_ = compute_features(qmdata, \n",
    "                          hypers_atom, \n",
    "                          hypers_pair = hypers_pair, \n",
    "                          lcut = None,\n",
    "                          return_rhoij=True,\n",
    "                          device = 'cpu')\n",
    "desc1_ = mts.rename_dimension(mts.permute_dimensions(desc1_, axis = 'keys', dimensions_indexes = [0, 2, 1, 3, 4]), axis = 'keys', old = 'spherical_harmonics_l', new = 'o3_lambda')\n",
    "desc1_ = mts.rename_dimension(desc1_, axis = 'keys', old = 'inversion_sigma', new = 'o3_sigma')\n",
    "desc1_ = mts.rename_dimension(desc1_, axis = 'keys', old = 'species_center', new = 'first_atom_type')\n",
    "desc1 = mts.rename_dimension(desc1_, axis = 'keys', old = 'species_neighbor', new = 'second_atom_type')"
   ]
  },
  {
   "cell_type": "code",
   "execution_count": null,
   "id": "ba9a3108-f93f-4f63-8401-847847d31cbd",
   "metadata": {},
   "outputs": [],
   "source": [
    "global_atom_types = [14]\n",
    "\n",
    "calc = EquivariantPowerSpectrumByPair(\n",
    "    spherical_expansion_hypers=hypers_atom,\n",
    "    spherical_expansion_by_pair_hypers=hypers_pair,\n",
    "    atom_types=global_atom_types\n",
    ")\n",
    "\n",
    "desc2 = calc(rascaline.torch.systems_to_torch(frames))"
   ]
  },
  {
   "cell_type": "code",
   "execution_count": null,
   "id": "c5eaf685-07be-4f60-ab22-98c8c65bf9b2",
   "metadata": {},
   "outputs": [],
   "source": [
    "%%timeit -r 1 -n 1\n",
    "desc1_ = compute_features(qmdata, \n",
    "                         hypers_atom, \n",
    "                         hypers_pair = hypers_pair, \n",
    "                         lcut = None,\n",
    "                         device = 'cpu')"
   ]
  },
  {
   "cell_type": "code",
   "execution_count": null,
   "id": "953f33e7-c194-4b36-bc04-f33ac69a9f40",
   "metadata": {},
   "outputs": [],
   "source": [
    "%%timeit -r 1 -n 1\n",
    "\n",
    "calc = EquivariantPowerSpectrumByPair(\n",
    "    spherical_expansion_hypers=hypers_atom,\n",
    "    spherical_expansion_by_pair_hypers=hypers_pair,\n",
    "    atom_types=global_atom_types\n",
    ")\n",
    "desc2 = calc(rascaline.torch.systems_to_torch(frames))"
   ]
  }
 ],
 "metadata": {
  "kernelspec": {
   "display_name": "Python 3 (ipykernel)",
   "language": "python",
   "name": "python3"
  },
  "language_info": {
   "codemirror_mode": {
    "name": "ipython",
    "version": 3
   },
   "file_extension": ".py",
   "mimetype": "text/x-python",
   "name": "python",
   "nbconvert_exporter": "python",
   "pygments_lexer": "ipython3",
   "version": "3.11.7"
  }
 },
 "nbformat": 4,
 "nbformat_minor": 5
}
