{
 "cells": [
  {
   "cell_type": "code",
   "execution_count": 1,
   "metadata": {},
   "outputs": [],
   "source": [
    "%load_ext autoreload\n",
    "%autoreload 2\n",
    "\n",
    "# %load_ext memory_profiler"
   ]
  },
  {
   "cell_type": "code",
   "execution_count": 2,
   "metadata": {},
   "outputs": [],
   "source": [
    "from ase.io import read\n",
    "from ase.visualize import view\n",
    "import numpy as np \n",
    "import torch \n",
    "\n",
    "import matplotlib.pyplot as plt\n",
    "torch.set_default_dtype(torch.float64)\n",
    "\n",
    "\n",
    "\n",
    "# from mlelec.utils.plot_utils import print_matrix, matrix_norm, block_matrix_norm\n",
    "\n",
    "from mlelec.utils.twocenter_utils import _to_coupled_basis\n",
    "# from mlelec.utils.pbc_utils import matrix_to_blocks, kmatrix_to_blocks, TMap_bloch_sums, precompute_phase\n",
    "\n",
    "from mlelec.features.acdc import pair_features, single_center_features, twocenter_features_periodic_NH, twocenter_hermitian_features\n",
    "\n",
    "# from mlelec.utils.pbc_utils import kblocks_to_matrix, kmatrix_to_blocks, blocks_to_matrix, matrix_to_blocks\n",
    "# from mlelec.utils.plot_utils import plot_block_errors\n",
    "\n",
    "import metatensor as mts\n",
    "from metatensor import Labels, TensorBlock, TensorMap\n",
    "\n",
    "\n",
    "# from mlelec.utils.target_utils import get_targets\n",
    "\n",
    "\n",
    "\n",
    "\n",
    "# import metatensor.torch as mts\n",
    "# from metatensor.torch import Labels, TensorBlock, TensorMap\n",
    "# import rascaline.torch\n",
    "# from mlelec.data.dataset import QMDataset"
   ]
  },
  {
   "cell_type": "code",
   "execution_count": 3,
   "metadata": {},
   "outputs": [],
   "source": [
    "device = 'cpu'"
   ]
  },
  {
   "cell_type": "code",
   "execution_count": 4,
   "metadata": {},
   "outputs": [],
   "source": [
    "orbitals = {\n",
    "    \n",
    "    'sto-3g': {1: [[1,0,0]], \n",
    "               5: [[1,0,0],[2,0,0],[2,1,-1], [2,1,0],[2,1,1]], \n",
    "               6: [[1,0,0],[2,0,0],[2,1,-1], [2,1,0],[2,1,1]], \n",
    "               7: [[1,0,0],[2,0,0],[2,1,-1], [2,1,0],[2,1,1]],\n",
    "               8: [[1,0,0],[2,0,0],[2,1,-1], [2,1,0],[2,1,1]]\n",
    "               }, \n",
    "    \n",
    "    'def2svp': {1: [[1,0,0],[2,0,0],[2,1,-1], [2,1,0],[2,1,1]],\n",
    "                6: [[1,0,0],[2,0,0],[3,0,0],[2,1,1], [2,1,-1],[2,1,0], [3,1,1], [3,1,-1],[3,1,0], [3,2,-2], [3,2,-1],[3,2,0], [3,2,1],[3,2,2]],\n",
    "                8: [[1,0,0],[2,0,0],[3,0,0],[2,1,1], [2,1,-1],[2,1,0], [3,1,1], [3,1,-1],[3,1,0], [3,2,-2], [3,2,-1],[3,2,0], [3,2,1],[3,2,2]]\n",
    "                },\n",
    "    'benzene': {6: [[2,0,0],[2,1,-1], [2,1,0],[2,1,1]], 1:[[1,0,0]]},\n",
    "\n",
    "     'saph':{\n",
    "               8: [[2, 0, 0], [2, 1, 1], [2, 1, -1], [2, 1, 0]], \n",
    "               6: [[2, 0, 0], [2, 1, 1], [2, 1, -1], [2, 1, 0]], \n",
    "               1: [[1, 0, 0]]\n",
    "               }\n",
    "                                                                 \n",
    "                                                                 \n",
    "                                                                 \n",
    "}"
   ]
  },
  {
   "cell_type": "code",
   "execution_count": 5,
   "metadata": {},
   "outputs": [],
   "source": [
    "# import rascaline\n",
    "\n",
    "# from mlelec.features.acdc import compute_features"
   ]
  },
  {
   "cell_type": "code",
   "execution_count": 6,
   "metadata": {},
   "outputs": [],
   "source": [
    "from mlelec.models.linear import LinearModelPeriodic, LinearTargetModel\n",
    "device='cpu'"
   ]
  },
  {
   "cell_type": "code",
   "execution_count": 7,
   "metadata": {},
   "outputs": [],
   "source": [
    "def check_target(coupled_blocks, tol=1e-4):\n",
    "    \"\"\" Checks that the coupled blocks, when n1, l1 = n2, l2, satisfy \n",
    "            - block_type=1, lambda = ODD blocks are zero, \n",
    "            - block_type=-1, lambda = EVEN blocks are zero \n",
    "    \"\"\"\n",
    "    for k, b in coupled_blocks.items():\n",
    "        btype= k['block_type']\n",
    "        L = k['L']\n",
    "        l1 = k['l_i']\n",
    "        l2 = k['l_j']\n",
    "        n1 = k['n_i']\n",
    "        n2 = k['n_j']\n",
    "        if L%2==0 and btype==-1 and (n1==n2) and (l1==l2):\n",
    "            try:\n",
    "                 assert torch.norm(b.values)<=tol, f'btype {btype} L{L} failed - Block norm {torch.norm(b.values)}'\n",
    "            except AssertionError:\n",
    "                failidx = torch.where(b.values>tol)[0]\n",
    "                print(f'{k}, {torch.norm(b.values)} : {len(failidx)} failing samples - , {b.samples.values[failidx].tolist()}')#, values,{b.values[failidx]}' )\n",
    "\n",
    "        elif L%2==1 and btype==1 and (n1==n2) and (l1==l2):\n",
    "            try: \n",
    "                assert torch.norm(b.values)<=tol, f'btype {btype} L{L} failed - Block norm {torch.norm(b.values)}'\n",
    "            except AssertionError:\n",
    "                failidx = torch.where(b.values>tol)[0]\n",
    "                print(f'{len(failidx)} failing samples, {b.samples.values[failidx]}')#, values,{b.values[failidx]}' )\n",
    "  \n",
    "                # print(f'try minus bytpe, {torch.norm(newb.values[failidx])}')\n",
    "\n",
    "    print('TARGET PASSED')\n",
    "def check_gij(gij, tol = 1e-4):\n",
    "    \"\"\" Similar to the checks on the target above, we can check for gij that \n",
    "        - block_type = 1 < n| gij; lambda = ODD> = 0\n",
    "        - block_type = -1 <n | gij; lambda = EVEN> = 0\n",
    "    (inversion sigma = 1 for all of these blocks since they are directly the SPH components)\n",
    "    \"\"\" \n",
    "    for k, b in gij.items(): \n",
    "        btype= k['block_type']\n",
    "        L = k['spherical_harmonics_l']\n",
    "        if L%2==0 and btype==-1 : \n",
    "            try:\n",
    "                 assert torch.norm(b.values)<=tol, f'btype {btype} L{L} failed - Block norm {torch.norm(b.values)}'\n",
    "            except AssertionError:\n",
    "                failidx = torch.where(b.values>tol)[0]\n",
    "                print(f'{k}, {torch.norm(b.values)} : {len(failidx)} failing samples - , {b.samples.values[failidx].tolist()}')\n",
    "        elif L%2==1 and btype==1:\n",
    "            try: \n",
    "                assert torch.norm(b.values)<=tol, f'btype {btype} L{L} failed - Block norm {torch.norm(b.values)}'\n",
    "            except AssertionError:\n",
    "                failidx = torch.where(b.values>tol)[0]\n",
    "                print(f'{len(failidx)} failing samples, {b.samples.values[failidx]}')\n",
    "\n",
    "    print('gij PASSED')"
   ]
  },
  {
   "cell_type": "code",
   "execution_count": 8,
   "metadata": {},
   "outputs": [],
   "source": [
    "def train_ridge(model, target_blocks, set_bias=False, alphas = None, kernel_ridge = False, alpha = None):\n",
    "    block_losses = {}\n",
    "    loss = 0\n",
    "    pred, ridges = model.fit_ridge_analytical(return_matrix = False, set_bias = set_bias, kernel_ridge = kernel_ridge, alphas = alphas, alpha = alpha)\n",
    "\n",
    "    for (key, block) in pred.items():\n",
    "        block_loss=torch.norm(block.values - target_blocks[key].values)**2\n",
    "        loss += block_loss\n",
    "        \n",
    "        block_losses[tuple(key.values)] = block_loss\n",
    "\n",
    "    # print(np.sum(list(block_losses.values())))\n",
    "    return loss, pred, ridges, block_losses#, kernels "
   ]
  },
  {
   "cell_type": "markdown",
   "metadata": {},
   "source": [
    "# WATER "
   ]
  },
  {
   "cell_type": "code",
   "execution_count": 10,
   "metadata": {},
   "outputs": [],
   "source": [
    "import hickle\n",
    "N  = 500\n",
    "workdir = '../my_mlelec/examples/data/water_1000'\n",
    "frames = read(f'{workdir}/water_1000.xyz',slice(0,N))\n",
    "fock = hickle.load(f'{workdir}/sto-3g/fock.hickle')[:N]\n",
    "overlap = hickle.load(f'{workdir}/sto-3g/overlap.hickle')[:N]"
   ]
  },
  {
   "cell_type": "code",
   "execution_count": 11,
   "metadata": {},
   "outputs": [],
   "source": [
    "max_radial  = 12\n",
    "max_angular = 8\n",
    "atomic_gaussian_width = 0.3\n",
    "LCUT = 4\n",
    "\n",
    "hypers_atom = {'cutoff': 3,\n",
    "               'max_radial': max_radial,\n",
    "               'max_angular': max_angular,\n",
    "               'atomic_gaussian_width': 0.3,\n",
    "               'center_atom_weight': 1,\n",
    "               \"radial_basis\": {\"Gto\": {}},\n",
    "               \"cutoff_function\": {\"ShiftedCosine\": {\"width\": 0.1}}}\n",
    "\n",
    "\n",
    "return_rho0ij = False\n",
    "both_centers = False\n",
    "all_pairs = False\n",
    "\n",
    "\n",
    "cutoff = 4\n",
    "hypers_pair = {'cutoff': cutoff,\n",
    "               'max_radial': max_radial,\n",
    "               'max_angular': max_angular,\n",
    "               'atomic_gaussian_width': atomic_gaussian_width,\n",
    "               'center_atom_weight': 1,\n",
    "               \"radial_basis\":  {\"Gto\": {}},\n",
    "               # \"radial_basis\": splined_basis,\n",
    "               \"cutoff_function\": {\"ShiftedCosine\": {\"width\": 0.1}}}\n",
    "\n",
    "# hfeat = compute_features(dataset, hypers_atom=hypers_atom, hypers_pair=hypers_pair, lcut=LCUT)"
   ]
  },
  {
   "cell_type": "code",
   "execution_count": 12,
   "metadata": {},
   "outputs": [],
   "source": [
    "from mlelec.data.dataset import MoleculeDataset, MLDataset\n",
    "mol_data = MoleculeDataset(\n",
    "    mol_name=\"water\",\n",
    "    use_precomputed=False,\n",
    "    frames = frames,  # Uses precomputed data by this name \n",
    "    frame_slice=slice(0, N), # Loads 100 frames \n",
    "    device=\"cpu\",\n",
    "    target_data = {\"fock\": fock},\n",
    "    aux_data={\"overlap\": overlap, \"orbitals\": orbitals['sto-3g']},\n",
    "    aux=[\"overlap\", \"orbitals\"],\n",
    "    target=[\"fock\"],\n",
    ")"
   ]
  },
  {
   "cell_type": "code",
   "execution_count": 13,
   "metadata": {},
   "outputs": [],
   "source": [
    "ml_data = MLDataset(\n",
    "    molecule_data=mol_data,\n",
    "    device=\"cpu\",\n",
    "    model_strategy=\"coupled\", # We will be building models for coupled blocks \n",
    "    shuffle=False,\n",
    "    # shuffle_seed=None,\n",
    ")  \n",
    "\n",
    "ml_data._split_indices(0.8,0,0.2)"
   ]
  },
  {
   "cell_type": "code",
   "execution_count": 14,
   "metadata": {},
   "outputs": [
    {
     "name": "stdout",
     "output_type": "stream",
     "text": [
      "here, single center features\n"
     ]
    },
    {
     "name": "stderr",
     "output_type": "stream",
     "text": [
      "/home/nigam/miniconda3/envs/mlelec_molecule/lib/python3.12/site-packages/rascaline/systems/ase.py:57: UserWarning: periodic boundary conditions are disabled, but the cell matrix is not zero, we will set the cell to zero.\n",
      "  warnings.warn(\n"
     ]
    },
    {
     "name": "stdout",
     "output_type": "stream",
     "text": [
      "here, single center features\n"
     ]
    }
   ],
   "source": [
    "from mlelec.features.acdc import compute_features_for_target\n",
    "hfeat = compute_features_for_target(ml_data, hypers=hypers_atom, hypers_pair=hypers_pair, lcut=LCUT, device = 'cpu')"
   ]
  },
  {
   "cell_type": "code",
   "execution_count": null,
   "metadata": {},
   "outputs": [],
   "source": [
    "for k in [\"cell_shift_a\", \"cell_shift_b\", \"cell_shift_c\",\"cell_shift_a_MIC\",\"cell_shift_b_MIC\", \"cell_shift_c_MIC\"]:\n",
    "    hfeat = mts.remove_dimension(hfeat, \"keys\", k)"
   ]
  },
  {
   "cell_type": "code",
   "execution_count": null,
   "metadata": {},
   "outputs": [],
   "source": [
    "NTRAIN = len(ml_data.train_idx)#00\n",
    "trainidx = np.arange(0, NTRAIN)\n",
    "testidx = np.arange(NTRAIN, N)#len(dataset))"
   ]
  },
  {
   "cell_type": "code",
   "execution_count": null,
   "metadata": {},
   "outputs": [],
   "source": [
    "hfeat_train = mts.slice(hfeat, 'samples', Labels(['structure'], values = (trainidx).reshape(-1,1)))\n",
    "hfeat_test = mts.slice(hfeat, 'samples', Labels(['structure'], values = (testidx).reshape(-1,1)))"
   ]
  },
  {
   "cell_type": "code",
   "execution_count": null,
   "metadata": {},
   "outputs": [],
   "source": [
    "# hfeat.save(f'{savedir}/hfeat_500')\n",
    "# target_coupled_blocks.save(f'{savedir}/coupledblocks_500')"
   ]
  },
  {
   "cell_type": "code",
   "execution_count": null,
   "metadata": {},
   "outputs": [],
   "source": [
    "target_coupled_blocks = ml_data.target.blocks_coupled"
   ]
  },
  {
   "cell_type": "code",
   "execution_count": null,
   "metadata": {},
   "outputs": [],
   "source": [
    "ml_data._set_features(hfeat_train)"
   ]
  },
  {
   "cell_type": "code",
   "execution_count": null,
   "metadata": {},
   "outputs": [],
   "source": [
    "target_train = mts.slice(target_coupled_blocks, 'samples', Labels(['structure'], values = (trainidx).reshape(-1,1)))\n",
    "target_test = mts.slice(target_coupled_blocks, 'samples', Labels(['structure'], values = (testidx).reshape(-1,1)))"
   ]
  },
  {
   "cell_type": "code",
   "execution_count": null,
   "metadata": {},
   "outputs": [],
   "source": [
    "# model_ridge = LinearModelPeriodic(twocfeat = hfeat_train, \n",
    "#                                   target_blocks = target_train,\n",
    "#                                 #   frames = dataset.structures, \n",
    "#                                  frames = frames, \n",
    "#                                 #   orbitals = dataset.orbitals, \n",
    "#                                   orbitals = mol_data.aux_data[\"orbitals\"], \n",
    "#                                   device = device)\n",
    "model_ridge = LinearTargetModel(\n",
    "    dataset=ml_data, nlayers=1, nhidden=16, bias=False, device=\"cpu\"\n",
    ")\n",
    "\n",
    "model_ridge = model_ridge.double()\n",
    "# loss_ridge_bias, pred_ridge_bias, ridges_bias, loss_blocks = train_ridge(model_ridge, \n",
    "#                                                                          target_train,\n",
    "#                                                                          set_bias = True,\n",
    "#                                                                          kernel_ridge = False,\n",
    "#                                                                          alphas = np.logspace(-8, -7, 100),\n",
    "#                                                                          # alphas = np.logspace(-30, -6, 100),\n",
    "#                                                                          # alpha = 1e-4\n",
    "#                                                                         )\n",
    "pred_train, ridges = model_ridge.fit_ridge_analytical(set_bias=True,alphas = np.logspace(-8, -5, 100),)\n",
    "# print(loss_ridge_bias)\n"
   ]
  },
  {
   "cell_type": "code",
   "execution_count": null,
   "metadata": {},
   "outputs": [
    {
     "data": {
      "text/plain": [
       "3.4387481748169665e-07"
      ]
     },
     "execution_count": 51,
     "metadata": {},
     "output_type": "execute_result"
    }
   ],
   "source": [
    "from mlelec.metrics import L2_loss  \n",
    "L2_loss(pred_train, target_train).item()"
   ]
  },
  {
   "cell_type": "code",
   "execution_count": null,
   "metadata": {},
   "outputs": [],
   "source": [
    "pred_test = model_ridge.predict_ridge_analytical(hfeat = hfeat_test, target_blocks = target_test)"
   ]
  },
  {
   "cell_type": "code",
   "execution_count": null,
   "metadata": {},
   "outputs": [
    {
     "data": {
      "text/plain": [
       "0.00010769928531769318"
      ]
     },
     "execution_count": 53,
     "metadata": {},
     "output_type": "execute_result"
    }
   ],
   "source": [
    "# pred_test = pred_test.to(\"cpu\")\n",
    "L2_loss(pred_test, target_test).item()"
   ]
  },
  {
   "cell_type": "code",
   "execution_count": null,
   "metadata": {},
   "outputs": [],
   "source": [
    "from mlelec.utils.twocenter_utils import (\n",
    "    map_targetkeys_to_featkeys,\n",
    "    _to_uncoupled_basis,\n",
    "    _to_matrix,\n",
    ")\n",
    "            \n",
    "recon_H_train  = _to_matrix(\n",
    "    _to_uncoupled_basis(pred_train, device=\"cpu\" ),\n",
    "   ml_data.train_frames,\n",
    "    ml_data.target.orbitals,\n",
    "    device=\"cpu\",\n",
    ")"
   ]
  },
  {
   "cell_type": "code",
   "execution_count": null,
   "metadata": {},
   "outputs": [],
   "source": [
    "recon_H_test  = _to_matrix(\n",
    "    _to_uncoupled_basis(pred_test, device=\"cpu\" ),\n",
    "   ml_data.test_frames,\n",
    "    ml_data.target.orbitals,\n",
    "    device=\"cpu\",\n",
    ")"
   ]
  },
  {
   "cell_type": "code",
   "execution_count": null,
   "metadata": {},
   "outputs": [],
   "source": [
    "# recon_H_train = recon_H_train.reshape(1, *recon_H_train.shape)\n",
    "# recon_H_test = recon_H_test.reshape(1, *recon_H_test.shape)"
   ]
  },
  {
   "cell_type": "code",
   "execution_count": null,
   "metadata": {},
   "outputs": [
    {
     "data": {
      "text/plain": [
       "torch.Size([800, 7, 7])"
      ]
     },
     "execution_count": 28,
     "metadata": {},
     "output_type": "execute_result"
    }
   ],
   "source": [
    "ml_data.target.tensor[trainidx].shape"
   ]
  },
  {
   "cell_type": "code",
   "execution_count": null,
   "metadata": {},
   "outputs": [
    {
     "data": {
      "text/plain": [
       "0.0009163376814267051"
      ]
     },
     "execution_count": 29,
     "metadata": {},
     "output_type": "execute_result"
    }
   ],
   "source": [
    "L2_loss(recon_H_train, ml_data.target.tensor[trainidx]).item()"
   ]
  },
  {
   "cell_type": "code",
   "execution_count": null,
   "metadata": {},
   "outputs": [
    {
     "data": {
      "text/plain": [
       "0.00031184776579799877"
      ]
     },
     "execution_count": 30,
     "metadata": {},
     "output_type": "execute_result"
    }
   ],
   "source": [
    "L2_loss(recon_H_test, ml_data.target.tensor[testidx]).item()"
   ]
  },
  {
   "cell_type": "code",
   "execution_count": null,
   "metadata": {},
   "outputs": [],
   "source": [
    "# torch.sqrt(torch.sum((recon_H- ml_data.target.tensor[0])**2)/(72*72)) *27.211"
   ]
  },
  {
   "cell_type": "code",
   "execution_count": null,
   "metadata": {},
   "outputs": [],
   "source": []
  },
  {
   "cell_type": "code",
   "execution_count": null,
   "metadata": {},
   "outputs": [],
   "source": [
    "pred_focks = torch.vstack([recon_H_train, recon_H_test])\n",
    "from mlelec.utils.twocenter_utils import fix_orbital_order\n",
    "fixed_overlaps = fix_orbital_order(\n",
    "            overlap, frames=frames, orbital=mol_data.aux_data[\"orbitals\"]\n",
    "        )"
   ]
  },
  {
   "cell_type": "code",
   "execution_count": null,
   "metadata": {},
   "outputs": [],
   "source": [
    "import scipy\n",
    "eigs = [scipy.linalg.eigvalsh(pred_focks[i], fixed_overlaps[i]) for i in range(N)]\n",
    "eigs_actual = [scipy.linalg.eigvalsh(ml_data.target.tensor[i], fixed_overlaps[i]) for i in range(N)]\n",
    "\n",
    "# eigs = [scipy.linalg.eigvals(pred_focks[i]) for i in range(len(dataset))]\n",
    "# eigs_actual = [scipy.linalg.eigvals(fock[i]) for i in range(len(dataset))]"
   ]
  },
  {
   "cell_type": "code",
   "execution_count": null,
   "metadata": {},
   "outputs": [],
   "source": []
  },
  {
   "cell_type": "code",
   "execution_count": null,
   "metadata": {},
   "outputs": [],
   "source": [
    "eigs_train_occ = [scipy.linalg.eigvalsh(recon_H_train[i], fixed_overlaps[i])[1:5] for i in range(NTRAIN)]\n",
    "eigs_actual_train_occ= [scipy.linalg.eigvalsh(ml_data.target.tensor[i], fixed_overlaps[i])[1:5] for i in range(NTRAIN)]\n",
    "\n",
    "eigs_train_unocc = [scipy.linalg.eigvalsh(recon_H_train[i], fixed_overlaps[i])[5:] for i in range(NTRAIN)]\n",
    "eigs_actual_train_unocc= [scipy.linalg.eigvalsh(ml_data.target.tensor[i], fixed_overlaps[i])[5:] for i in range(NTRAIN)]"
   ]
  },
  {
   "cell_type": "code",
   "execution_count": null,
   "metadata": {},
   "outputs": [],
   "source": [
    "eigs_test_occ = [scipy.linalg.eigvalsh(recon_H_test[i], fixed_overlaps[i+NTRAIN])[1:4] for i in range(N-NTRAIN)]\n",
    "eigs_actual_test_occ = [scipy.linalg.eigvalsh(ml_data.target.tensor[i+NTRAIN], fixed_overlaps[i+NTRAIN])[1:4] for i in range(N-NTRAIN)]\n",
    "\n",
    "eigs_test_unocc = [scipy.linalg.eigvalsh(recon_H_test[i], fixed_overlaps[i+NTRAIN])[4:] for i in range(N-NTRAIN)]\n",
    "eigs_actual_test_unocc = [scipy.linalg.eigvalsh(ml_data.target.tensor[i+NTRAIN], fixed_overlaps[i+NTRAIN])[4:] for i in range(N-NTRAIN)]"
   ]
  },
  {
   "cell_type": "code",
   "execution_count": null,
   "metadata": {},
   "outputs": [],
   "source": []
  },
  {
   "cell_type": "code",
   "execution_count": null,
   "metadata": {},
   "outputs": [
    {
     "data": {
      "image/png": "[encoded data removed]",
      "text/plain": [
       "<Figure size 640x480 with 1 Axes>"
      ]
     },
     "metadata": {},
     "output_type": "display_data"
    }
   ],
   "source": [
    "from ase.units import Hartree\n",
    "ha2ev = Hartree\n",
    "alleva = np.concatenate(eigs_actual_train_occ)\n",
    "allpred = np.concatenate(eigs_train_occ)\n",
    "\n",
    "alleva_unocc = np.concatenate(eigs_actual_train_unocc)\n",
    "allpred_unocc = np.concatenate(eigs_train_unocc)\n",
    "                         \n",
    "plt.plot(allpred*ha2ev, (alleva-allpred)*ha2ev, color=(0,0,0.8,0.8), linestyle=\"\", \n",
    "         marker=\".\", markersize=5)\n",
    "\n",
    "plt.plot(allpred[0]*ha2ev, (alleva-allpred)[0]*ha2ev, color=(0,0,0.8,0.8), linestyle=\"\", \n",
    "         marker=\".\", markersize=5, label = 'occupied')\n",
    "\n",
    "plt.plot(allpred_unocc*ha2ev, (alleva_unocc-allpred_unocc)*ha2ev, color=(0.8,0,0,0.8), linestyle=\"\", \n",
    "         marker=\".\", markersize=5)\n",
    "\n",
    "plt.plot(allpred_unocc[0]*ha2ev, (alleva_unocc-allpred_unocc)[0]*ha2ev, color=(0.8,0,0,0.8), linestyle=\"\", \n",
    "         marker=\".\", markersize=5, label = 'virtual')\n",
    "\n",
    "# plt.xlim(-4,4)\n",
    "plt.ylabel(r'$\\epsilon_k - \\tilde{\\epsilon_k}$ (eV)')\n",
    "plt.xlabel(r'$\\epsilon_k$ (eV)')\n",
    "plt.legend(loc='upper left')\n",
    "# alleva = np.concatenate(eigs_actual_train_occ)\n",
    "# allpred = np.concatenate(eigs_train_occ)\n",
    "plt.savefig('water_1000_test_unoccupied.pdf', dpi=300, bbox_inches='tight')\n",
    "\n",
    "\n",
    "# plt.savefig('water_1000_test_occupied.pdf', dpi=300, bbox_inches='tight')"
   ]
  },
  {
   "cell_type": "code",
   "execution_count": 82,
   "metadata": {},
   "outputs": [
    {
     "name": "stdout",
     "output_type": "stream",
     "text": [
      "/media/nigam/b5749eb7-d3f1-4495-adeb-2c318fb7d0de/MAC/mlelec\n"
     ]
    }
   ],
   "source": [
    "! pwd"
   ]
  },
  {
   "cell_type": "code",
   "execution_count": 42,
   "metadata": {},
   "outputs": [
    {
     "data": {
      "text/plain": [
       "<matplotlib.image.AxesImage at 0x7f2d6feca330>"
      ]
     },
     "execution_count": 42,
     "metadata": {},
     "output_type": "execute_result"
    },
    {
     "data": {
      "image/png": "[encoded data removed]",
      "text/plain": [
       "<Figure size 1000x500 with 2 Axes>"
      ]
     },
     "metadata": {},
     "output_type": "display_data"
    }
   ],
   "source": [
    "fig, ax = plt.subplots(1,2, figsize=(10,5))\n",
    "ax[0].matshow(recon_H_test[0]-ml_data.target.tensor[testidx][0])\n",
    "ax[1].matshow(ml_data.target.tensor[testidx][0])"
   ]
  },
  {
   "cell_type": "code",
   "execution_count": 83,
   "metadata": {},
   "outputs": [
    {
     "data": {
      "text/plain": [
       "<Figure size 640x480 with 0 Axes>"
      ]
     },
     "metadata": {},
     "output_type": "display_data"
    },
    {
     "data": {
      "image/png": "[encoded data removed]",
      "text/plain": [
       "<Figure size 480x480 with 2 Axes>"
      ]
     },
     "metadata": {},
     "output_type": "display_data"
    }
   ],
   "source": [
    "plt.figure()\n",
    "plt.matshow((recon_H_test[0]-ml_data.target.tensor[testidx][0])*ha2ev)\n",
    "plt.colorbar(location = 'top', orientation = 'horizontal', format = '%.3f', label = r'$\\mathbf{H} - \\tilde{\\mathbf{H}}$ (eV)', shrink=0.8, pad=1e-2)\n",
    "plt.xticks([])\n",
    "plt.yticks([])\n",
    "plt.savefig('water_1000_test0_diff.pdf', dpi=300, bbox_inches='tight')"
   ]
  },
  {
   "cell_type": "code",
   "execution_count": 2,
   "metadata": {},
   "outputs": [],
   "source": [
    "# eigs_train = np.stack(pred_focks[:NTRAIN].flatten())\n",
    "# eigs_actual_train = np.stack(fock[:NTRAIN].flatten())\n",
    "\n",
    "\n",
    "# print(eigs_train.shape)\n",
    "\n",
    "# for i in range(NTRAIN):\n",
    "#     plt.plot(eigs_actual_train[i] -  eigs_train[i], 'o', alpha = 0.5)\n",
    "# plt.legend()\n",
    "# plt.plot(eigs_actual_train, eigs_actual_train, 'o', alpha = 0.5)\n",
    "# plt.plot([-1,0.4], [-1,0.4], 'k--')\n",
    "# plt.plot([-20,1], [-20,1], 'k--')\n",
    "# plt.figure()\n",
    "\n",
    "\n",
    "# eigs_test = np.stack(pred_focks[NTRAIN:].flatten())\n",
    "# eigs_actual_test = np.stack(fock[NTRAIN:].flatten())\n",
    "# for i in range(N-NTRAIN):\n",
    "    # plt.plot(eigs_actual_test[i]-eigs_test[i], 'o', alpha = 0.5)\n",
    "# plt.plot([-1,0.4], [-1,0.4], 'k--')\n",
    "# plt.plot([-22,1], [-22,1], 'k--')\n",
    "# plt.ylim(,-20)\n"
   ]
  },
  {
   "cell_type": "code",
   "execution_count": 154,
   "metadata": {},
   "outputs": [],
   "source": [
    "L2_loss(eigs_actual_test, eigs_test)"
   ]
  },
  {
   "cell_type": "code",
   "execution_count": 156,
   "metadata": {},
   "outputs": [
    {
     "data": {
      "text/plain": [
       "[array([-20.24312671,  -1.35313467,  -0.66698874,  -0.48750944,\n",
       "         -0.40961951,   0.73845092,   0.8715896 ])]"
      ]
     },
     "execution_count": 156,
     "metadata": {},
     "output_type": "execute_result"
    }
   ],
   "source": [
    "eigs_actual_test"
   ]
  },
  {
   "cell_type": "code",
   "execution_count": 158,
   "metadata": {},
   "outputs": [
    {
     "name": "stdout",
     "output_type": "stream",
     "text": [
      "test 0.07573563047937006\n",
      "train 7.589684288351176e-07\n"
     ]
    }
   ],
   "source": [
    "print('test', np.linalg.norm(eigs_actual_test[0] - eigs_test[0]))\n",
    "print('train', np.linalg.norm(eigs_actual_train[0] - eigs_train[0]))"
   ]
  },
  {
   "cell_type": "markdown",
   "metadata": {},
   "source": [
    "# WATER TORCH"
   ]
  },
  {
   "cell_type": "code",
   "execution_count": 30,
   "metadata": {},
   "outputs": [],
   "source": [
    "model = LinearTargetModel(\n",
    "    dataset=ml_data, nlayers=1, nhidden=16, bias=True, device=\"cpu\", activation = 'SiLU'\n",
    ")\n",
    "\n",
    "model = model.double()"
   ]
  },
  {
   "cell_type": "code",
   "execution_count": 31,
   "metadata": {},
   "outputs": [
    {
     "data": {
      "text/plain": [
       "LinearTargetModel(\n",
       "  (model): ModuleDict(\n",
       "    ((0, 8, 1, 0, 8, 1, 0, 0)): MLP(\n",
       "      (mlp): Sequential(\n",
       "        (0): Linear(in_features=720, out_features=16, bias=True)\n",
       "        (1): Linear(in_features=16, out_features=1, bias=True)\n",
       "      )\n",
       "    )\n",
       "    ((0, 8, 1, 0, 8, 2, 0, 0)): MLP(\n",
       "      (mlp): Sequential(\n",
       "        (0): Linear(in_features=720, out_features=16, bias=True)\n",
       "        (1): Linear(in_features=16, out_features=1, bias=True)\n",
       "      )\n",
       "    )\n",
       "    ((0, 8, 1, 0, 8, 2, 1, 1)): MLP(\n",
       "      (mlp): Sequential(\n",
       "        (0): Linear(in_features=1152, out_features=16, bias=False)\n",
       "        (1): Linear(in_features=16, out_features=1, bias=False)\n",
       "      )\n",
       "    )\n",
       "    ((0, 8, 2, 0, 8, 2, 0, 0)): MLP(\n",
       "      (mlp): Sequential(\n",
       "        (0): Linear(in_features=720, out_features=16, bias=True)\n",
       "        (1): Linear(in_features=16, out_features=1, bias=True)\n",
       "      )\n",
       "    )\n",
       "    ((0, 8, 2, 0, 8, 2, 1, 1)): MLP(\n",
       "      (mlp): Sequential(\n",
       "        (0): Linear(in_features=1152, out_features=16, bias=False)\n",
       "        (1): Linear(in_features=16, out_features=1, bias=False)\n",
       "      )\n",
       "    )\n",
       "    ((0, 8, 2, 1, 8, 2, 1, 0)): MLP(\n",
       "      (mlp): Sequential(\n",
       "        (0): Linear(in_features=720, out_features=16, bias=True)\n",
       "        (1): Linear(in_features=16, out_features=1, bias=True)\n",
       "      )\n",
       "    )\n",
       "    ((0, 8, 2, 1, 8, 2, 1, 2)): MLP(\n",
       "      (mlp): Sequential(\n",
       "        (0): Linear(in_features=1440, out_features=16, bias=False)\n",
       "        (1): Linear(in_features=16, out_features=1, bias=False)\n",
       "      )\n",
       "    )\n",
       "    ((2, 1, 1, 0, 8, 1, 0, 0)): MLP(\n",
       "      (mlp): Sequential(\n",
       "        (0): Linear(in_features=360, out_features=16, bias=True)\n",
       "        (1): Linear(in_features=16, out_features=1, bias=True)\n",
       "      )\n",
       "    )\n",
       "    ((2, 1, 1, 0, 8, 2, 0, 0)): MLP(\n",
       "      (mlp): Sequential(\n",
       "        (0): Linear(in_features=360, out_features=16, bias=True)\n",
       "        (1): Linear(in_features=16, out_features=1, bias=True)\n",
       "      )\n",
       "    )\n",
       "    ((2, 1, 1, 0, 8, 2, 1, 1)): MLP(\n",
       "      (mlp): Sequential(\n",
       "        (0): Linear(in_features=576, out_features=16, bias=False)\n",
       "        (1): Linear(in_features=16, out_features=1, bias=False)\n",
       "      )\n",
       "    )\n",
       "    ((0, 1, 1, 0, 1, 1, 0, 0)): MLP(\n",
       "      (mlp): Sequential(\n",
       "        (0): Linear(in_features=720, out_features=16, bias=True)\n",
       "        (1): Linear(in_features=16, out_features=1, bias=True)\n",
       "      )\n",
       "    )\n",
       "    ((1, 1, 1, 0, 1, 1, 0, 0)): MLP(\n",
       "      (mlp): Sequential(\n",
       "        (0): Linear(in_features=360, out_features=16, bias=True)\n",
       "        (1): Linear(in_features=16, out_features=1, bias=True)\n",
       "      )\n",
       "    )\n",
       "  )\n",
       ")"
      ]
     },
     "execution_count": 31,
     "metadata": {},
     "output_type": "execute_result"
    }
   ],
   "source": [
    "model"
   ]
  },
  {
   "cell_type": "code",
   "execution_count": null,
   "metadata": {},
   "outputs": [],
   "source": []
  },
  {
   "cell_type": "code",
   "execution_count": null,
   "metadata": {},
   "outputs": [],
   "source": []
  },
  {
   "cell_type": "markdown",
   "metadata": {},
   "source": [
    "# WATER -torch - periodic dataset"
   ]
  },
  {
   "cell_type": "code",
   "execution_count": null,
   "metadata": {},
   "outputs": [],
   "source": [
    "import hickle\n",
    "workdir = '../my_mlelec/examples/data/water_1000'\n",
    "frames = read(f'{workdir}/water_1000.xyz',':1')\n",
    "fock = hickle.load(f'{workdir}/sto-3g/fock.hickle')\n"
   ]
  },
  {
   "cell_type": "code",
   "execution_count": null,
   "metadata": {},
   "outputs": [],
   "source": [
    "dataset =QMDataset(frames = frames, \n",
    "                kmesh = [1,1,1], \n",
    "                fix_p_orbital_order=True,\n",
    "                dimension = 0,\n",
    "                # fock_kspace = kfock, \n",
    "                # overlap_kspace = kover, \n",
    "                fock_realspace=fock,#[{tuple([0,0,0]):fock}],\n",
    "                device = device, \n",
    "                orbs = orbitals['sto-3g'], \n",
    "                orbs_name = None\n",
    "                )"
   ]
  },
  {
   "cell_type": "code",
   "execution_count": null,
   "metadata": {},
   "outputs": [],
   "source": [
    "target_blocks, target_coupled_blocks = get_targets(dataset, cutoff = np.inf, device = device, all_pairs = False)"
   ]
  },
  {
   "cell_type": "code",
   "execution_count": null,
   "metadata": {},
   "outputs": [],
   "source": [
    "LCUT = 4\n",
    "hfeat = compute_features(dataset, hypers_atom=hypers_atom, hypers_pair=hypers_pair, lcut=LCUT)"
   ]
  },
  {
   "cell_type": "code",
   "execution_count": null,
   "metadata": {},
   "outputs": [],
   "source": [
    "trainidx = np.arange(0, 800)\n",
    "testidx = np.arange(800,1000)"
   ]
  },
  {
   "cell_type": "code",
   "execution_count": null,
   "metadata": {},
   "outputs": [],
   "source": [
    "hfeat_train = mts.slice(hfeat, 'samples', Labels(['structure'], values = torch.from_numpy(trainidx).reshape(-1,1)))\n",
    "hfeat_test = mts.slice(hfeat, 'samples', Labels(['structure'], values = torch.from_numpy(testidx).reshape(-1,1)))"
   ]
  },
  {
   "cell_type": "code",
   "execution_count": null,
   "metadata": {},
   "outputs": [],
   "source": [
    "target_train = mts.slice(target_coupled_blocks, 'samples', Labels(['structure'], values = torch.from_numpy(trainidx).reshape(-1,1)))\n",
    "target_test = mts.slice(target_coupled_blocks, 'samples', Labels(['structure'], values = torch.from_numpy(testidx).reshape(-1,1)))"
   ]
  },
  {
   "cell_type": "code",
   "execution_count": null,
   "metadata": {},
   "outputs": [],
   "source": [
    "model_ridge = LinearModelPeriodic(twocfeat = hfeat_train, \n",
    "                                  target_blocks = target_train,\n",
    "                                  frames = dataset.structures, orbitals = dataset.basis, \n",
    "                                  device = device)\n",
    "\n",
    "model_ridge = model_ridge.double()\n",
    "loss_ridge_bias, pred_ridge_bias, ridges_bias, loss_blocks = train_ridge(model_ridge, \n",
    "                                                                         target_train,\n",
    "                                                                         set_bias = True,\n",
    "                                                                         kernel_ridge = False,\n",
    "                                                                         alphas = np.logspace(-10, -1, 100),\n",
    "                                                                         # alphas = np.logspace(-30, -6, 100),\n",
    "                                                                         # alpha = 1e-4\n",
    "                                                                        )\n",
    "print(loss_ridge_bias)"
   ]
  },
  {
   "cell_type": "code",
   "execution_count": null,
   "metadata": {},
   "outputs": [],
   "source": [
    "pred_train = model_ridge.predict_ridge_analytical(ridges = ridges_bias, hfeat=hfeat_train)\n",
    "pred_test = model_ridge.predict_ridge_analytical(ridges = ridges_bias, hfeat=hfeat_test)\n"
   ]
  },
  {
   "cell_type": "code",
   "execution_count": null,
   "metadata": {},
   "outputs": [],
   "source": [
    "pred_all = mts.join([pred_train, pred_test], 'samples', remove_tensor_name = True)"
   ]
  },
  {
   "cell_type": "code",
   "execution_count": null,
   "metadata": {},
   "outputs": [],
   "source": [
    "recon_train = blocks_to_matrix(pred_all, dataset)\n",
    "# recon_test = blocks_to_matrix(pred_train, dataset)"
   ]
  },
  {
   "cell_type": "code",
   "execution_count": null,
   "metadata": {},
   "outputs": [],
   "source": [
    "pred_focks = torch.stack([recon_train[i][0,0,0].detach() for i in range(len(dataset))])\n",
    "from mlelec.metrics import L2_loss\n",
    "print('train loss', L2_loss(pred_focks[:800], fock[:800]))\n",
    "print('test loss', L2_loss(pred_focks[800:], fock[800:]))\n",
    "# np.linalg.norm(np.array(pred_focks) -fock.numpy())**2"
   ]
  },
  {
   "cell_type": "code",
   "execution_count": null,
   "metadata": {},
   "outputs": [],
   "source": [
    "eigs = [torch.linalg.eigvalsh(pred_focks[i]) for i in range(len(dataset))]\n",
    "eigs_actual = [torch.linalg.eigvalsh(fock[i]) for i in range(len(dataset))]"
   ]
  },
  {
   "cell_type": "code",
   "execution_count": null,
   "metadata": {},
   "outputs": [],
   "source": [
    "eigs_train = torch.cat(eigs[:800])\n",
    "eigs_actual_train = torch.cat(eigs_actual[:800])\n",
    "print(eigs_train.shape)\n",
    "plt.plot(eigs_actual_train, eigs_train, 'o', alpha = 0.05)\n",
    "plt.plot([-22,1], [-22,1], 'k--')\n",
    "\n",
    "eigs_test = torch.cat(eigs[800:])\n",
    "eigs_actual_test = torch.cat(eigs_actual[800:])\n",
    "plt.plot(eigs_actual_test, eigs_test, 'o', alpha = 0.05)\n",
    "plt.plot([-22,1], [-22,1], 'k--')"
   ]
  },
  {
   "cell_type": "code",
   "execution_count": null,
   "metadata": {},
   "outputs": [],
   "source": [
    "print(L2_loss(eigs_train, eigs_actual_train))\n",
    "print(L2_loss(eigs_test, eigs_actual_test))"
   ]
  },
  {
   "cell_type": "markdown",
   "metadata": {},
   "source": [
    "# ETHANOL"
   ]
  },
  {
   "cell_type": "code",
   "execution_count": null,
   "metadata": {},
   "outputs": [],
   "source": [
    "# workdir = '/Users/jigyasa/scratch/data_papers/hamiltonian/ethanol/dataset'\n",
    "N = 1\n",
    "workdir = '/home/nigam/scratch/MAC/data/hamiltonian/molecule/ethanol/dataset'\n",
    "savedir = '/home/nigam/scratch/MAC/mlelec/jtests/ethanol'\n",
    "frames = read(f'{workdir}/ethanol_4500.xyz',slice(0,N))\n",
    "fock = np.load(f'{workdir}/ethanol_fock.npy')[:N].astype(np.float64)\n",
    "\n",
    "# fock = np.load(f'{workdir}/ethanol_saph_orthogonal.npy')[:10].astype(np.float64)\n",
    "fock_ = fock.copy()\n",
    "overlap = np.load(f'{workdir}/ethanol_overlap.npy')[:N].astype(np.float64)\n",
    "overlap_ = overlap.copy()\n",
    "# fock = torch.from_numpy(fock)\n",
    "\n",
    "for i in range(len(fock)):\n",
    "    fock[i] = 0.5*(fock[i] + fock[i].T)\n",
    "    overlap[i] = 0.5*(overlap[i] + overlap[i].T)\n",
    "\n",
    "fock = torch.from_numpy(fock)\n",
    "overlap = torch.from_numpy(overlap)"
   ]
  },
  {
   "cell_type": "code",
   "execution_count": null,
   "metadata": {},
   "outputs": [],
   "source": [
    "# print(np.linalg.norm(dataset.overlap_realspace[0] - overlap_[0]))\n",
    "# plt.matshow(dataset.fock_realspace[1] - fock_[1])"
   ]
  },
  {
   "cell_type": "code",
   "execution_count": null,
   "metadata": {},
   "outputs": [],
   "source": [
    "dataset =QMDataset(frames = frames, \n",
    "                kmesh = [1,1,1], \n",
    "                fix_p_orbital_order=False,\n",
    "                dimension = 0,\n",
    "                overlap_realspace=overlap,\n",
    "                fock_realspace=fock,#[{tuple([0,0,0]):fock}],\n",
    "                device = device, \n",
    "                orbs = orbitals['def2svp'], \n",
    "                # orbs = orbitals['saph'], \n",
    "                orbs_name = None\n",
    "                )"
   ]
  },
  {
   "cell_type": "code",
   "execution_count": null,
   "metadata": {},
   "outputs": [],
   "source": [
    "target_blocks, target_coupled_blocks = get_targets(dataset, cutoff = 8, device = device, all_pairs = False)"
   ]
  },
  {
   "cell_type": "code",
   "execution_count": null,
   "metadata": {},
   "outputs": [],
   "source": [
    "cutoff=8\n",
    "max_radial  = 6\n",
    "max_angular = 4\n",
    "atomic_gaussian_width = 0.3\n",
    "LCUT = 4\n",
    "\n",
    "hypers_atom = {'cutoff': 4,\n",
    "               'max_radial': max_radial,\n",
    "               'max_angular': max_angular,\n",
    "               'atomic_gaussian_width': 0.3,\n",
    "               'center_atom_weight': 1,\n",
    "               \"radial_basis\": {\"Gto\": {}},\n",
    "               \"cutoff_function\": {\"ShiftedCosine\": {\"width\": 0.1}}}\n",
    "\n",
    "\n",
    "return_rho0ij = False\n",
    "both_centers = False\n",
    "all_pairs = False\n",
    "\n",
    "\n",
    "cutoff = 4\n",
    "hypers_pair = {'cutoff': cutoff,\n",
    "               'max_radial': max_radial,\n",
    "               'max_angular': max_angular,\n",
    "               'atomic_gaussian_width': atomic_gaussian_width,\n",
    "               'center_atom_weight': 1,\n",
    "               \"radial_basis\":  {\"Gto\": {}},\n",
    "               # \"radial_basis\": splined_basis,\n",
    "               \"cutoff_function\": {\"ShiftedCosine\": {\"width\": 0.1}}}\n",
    "\n",
    "# hfeat = compute_features(dataset, hypers_atom=hypers_atom, hypers_pair=hypers_pair, lcut=LCUT)"
   ]
  },
  {
   "cell_type": "code",
   "execution_count": null,
   "metadata": {},
   "outputs": [],
   "source": [
    "frames[0].get_all_distances().max()"
   ]
  },
  {
   "cell_type": "code",
   "execution_count": null,
   "metadata": {},
   "outputs": [],
   "source": [
    "from mlelec.data.dataset import MoleculeDataset, MLDataset\n",
    "mol_data = MoleculeDataset(\n",
    "    mol_name=\"ethanol\",\n",
    "    use_precomputed=False,\n",
    "    frames = frames,  # Uses precomputed data by this name \n",
    "    frame_slice=slice(0, N), # Loads 100 frames \n",
    "    device=\"cpu\",\n",
    "    target_data = {\"fock\": fock},\n",
    "    aux_data={\"overlap\": overlap, \"orbitals\": orbitals['def2svp']},\n",
    "    aux=[\"overlap\", \"orbitals\"],\n",
    "    target=[\"fock\"],\n",
    ")"
   ]
  },
  {
   "cell_type": "code",
   "execution_count": null,
   "metadata": {},
   "outputs": [],
   "source": [
    "L2_loss(ml_data.target.tensor , fock)"
   ]
  },
  {
   "cell_type": "code",
   "execution_count": null,
   "metadata": {},
   "outputs": [],
   "source": [
    "ml_data = MLDataset(\n",
    "    molecule_data=mol_data,\n",
    "    device=\"cpu\",\n",
    "    model_strategy=\"coupled\", # We will be building models for coupled blocks \n",
    "    shuffle=False,\n",
    "    # shuffle_seed=None,\n",
    ")  \n",
    "\n",
    "ml_data._split_indices(1,0,0)"
   ]
  },
  {
   "cell_type": "code",
   "execution_count": null,
   "metadata": {},
   "outputs": [],
   "source": [
    "from mlelec.features.acdc import compute_features_for_target\n",
    "hfeat = compute_features_for_target(ml_data, hypers=hypers_atom, hypers_pair=hypers_pair, lcut=LCUT)"
   ]
  },
  {
   "cell_type": "code",
   "execution_count": null,
   "metadata": {},
   "outputs": [],
   "source": [
    "for k in [\"cell_shift_a\", \"cell_shift_b\", \"cell_shift_c\",\"cell_shift_a_MIC\",\"cell_shift_b_MIC\", \"cell_shift_c_MIC\"]:\n",
    "    hfeat = mts.remove_dimension(hfeat, \"keys\", k)"
   ]
  },
  {
   "cell_type": "code",
   "execution_count": null,
   "metadata": {},
   "outputs": [],
   "source": [
    "NTRAIN = 1\n",
    "trainidx = np.arange(0, NTRAIN)\n",
    "testidx = np.arange(NTRAIN, N)#len(dataset))"
   ]
  },
  {
   "cell_type": "code",
   "execution_count": null,
   "metadata": {},
   "outputs": [],
   "source": [
    "hfeat_train = mts.slice(hfeat, 'samples', Labels(['structure'], values = (trainidx).reshape(-1,1)))\n",
    "hfeat_test = mts.slice(hfeat, 'samples', Labels(['structure'], values = (testidx).reshape(-1,1)))"
   ]
  },
  {
   "cell_type": "code",
   "execution_count": null,
   "metadata": {},
   "outputs": [],
   "source": [
    "# hfeat.save(f'{savedir}/hfeat_500')\n",
    "# target_coupled_blocks.save(f'{savedir}/coupledblocks_500')"
   ]
  },
  {
   "cell_type": "code",
   "execution_count": null,
   "metadata": {},
   "outputs": [],
   "source": [
    "target_coupled_blocks = ml_data.target.blocks_coupled"
   ]
  },
  {
   "cell_type": "code",
   "execution_count": null,
   "metadata": {},
   "outputs": [],
   "source": [
    "ml_data._set_features(hfeat_train)"
   ]
  },
  {
   "cell_type": "code",
   "execution_count": null,
   "metadata": {},
   "outputs": [],
   "source": [
    "target_train = mts.slice(target_coupled_blocks, 'samples', Labels(['structure'], values = (trainidx).reshape(-1,1)))\n",
    "target_test = mts.slice(target_coupled_blocks, 'samples', Labels(['structure'], values = (testidx).reshape(-1,1)))"
   ]
  },
  {
   "cell_type": "code",
   "execution_count": null,
   "metadata": {},
   "outputs": [],
   "source": [
    "ml_data.test_idx"
   ]
  },
  {
   "cell_type": "code",
   "execution_count": null,
   "metadata": {},
   "outputs": [],
   "source": [
    "# model_ridge = LinearModelPeriodic(twocfeat = hfeat_train, \n",
    "#                                   target_blocks = target_train,\n",
    "#                                 #   frames = dataset.structures, \n",
    "#                                  frames = frames, \n",
    "#                                 #   orbitals = dataset.orbitals, \n",
    "#                                   orbitals = mol_data.aux_data[\"orbitals\"], \n",
    "#                                   device = device)\n",
    "model_ridge = LinearTargetModel(\n",
    "    dataset=ml_data, nlayers=1, nhidden=16, bias=False, device=\"cuda\"\n",
    ")\n",
    "\n",
    "model_ridge = model_ridge.double()\n",
    "# loss_ridge_bias, pred_ridge_bias, ridges_bias, loss_blocks = train_ridge(model_ridge, \n",
    "#                                                                          target_train,\n",
    "#                                                                          set_bias = True,\n",
    "#                                                                          kernel_ridge = False,\n",
    "#                                                                          alphas = np.logspace(-8, -7, 100),\n",
    "#                                                                          # alphas = np.logspace(-30, -6, 100),\n",
    "#                                                                          # alpha = 1e-4\n",
    "#                                                                         )\n",
    "pred_train, ridges = model_ridge.fit_ridge_analytical(set_bias=True,alphas = np.logspace(-8, -6, 100),)\n",
    "# print(loss_ridge_bias)\n"
   ]
  },
  {
   "cell_type": "code",
   "execution_count": null,
   "metadata": {},
   "outputs": [],
   "source": [
    "pred_train = pred_train.to(\"cpu\")"
   ]
  },
  {
   "cell_type": "code",
   "execution_count": null,
   "metadata": {},
   "outputs": [],
   "source": [
    "from mlelec.metrics import L2_loss  \n",
    "L2_loss(pred_train, target_train)"
   ]
  },
  {
   "cell_type": "code",
   "execution_count": null,
   "metadata": {},
   "outputs": [],
   "source": [
    "from mlelec.utils.twocenter_utils import (\n",
    "    map_targetkeys_to_featkeys,\n",
    "    _to_uncoupled_basis,\n",
    "    _to_matrix,\n",
    ")\n",
    "            \n",
    "recon_H  = _to_matrix(\n",
    "    _to_uncoupled_basis(pred_train, device=\"cpu\" ),\n",
    "   frames[0],\n",
    "    ml_data.target.orbitals,\n",
    "    device=\"cpu\",\n",
    ")"
   ]
  },
  {
   "cell_type": "code",
   "execution_count": null,
   "metadata": {},
   "outputs": [],
   "source": [
    "recon_H"
   ]
  },
  {
   "cell_type": "code",
   "execution_count": null,
   "metadata": {},
   "outputs": [],
   "source": [
    "ml_data.target.tensor.shape"
   ]
  },
  {
   "cell_type": "code",
   "execution_count": null,
   "metadata": {},
   "outputs": [],
   "source": [
    "torch.sqrt(torch.sum((recon_H- ml_data.target.tensor[0])**2)/(72*72)) *27.211"
   ]
  },
  {
   "cell_type": "code",
   "execution_count": null,
   "metadata": {},
   "outputs": [],
   "source": []
  },
  {
   "cell_type": "code",
   "execution_count": null,
   "metadata": {},
   "outputs": [],
   "source": [
    "# plot_block_errors(target_train, pred_ridge_bias, plot_loss=True)"
   ]
  },
  {
   "cell_type": "code",
   "execution_count": null,
   "metadata": {},
   "outputs": [],
   "source": [
    "pred_train = model_ridge.predict_ridge_analytical(ridges = ridges_bias, hfeat=hfeat_train)\n",
    "pred_test = model_ridge.predict_ridge_analytical(ridges = ridges_bias, hfeat=hfeat_test)\n"
   ]
  },
  {
   "cell_type": "code",
   "execution_count": null,
   "metadata": {},
   "outputs": [],
   "source": [
    "pred_all = pred_train #mts.join([pred_train, pred_test], 'samples', remove_tensor_name = True)"
   ]
  },
  {
   "cell_type": "code",
   "execution_count": null,
   "metadata": {},
   "outputs": [],
   "source": [
    "recon_train = blocks_to_matrix(pred_all, dataset)\n",
    "# recon_test = blocks_to_matrix(pred_train, dataset)"
   ]
  },
  {
   "cell_type": "code",
   "execution_count": null,
   "metadata": {},
   "outputs": [],
   "source": [
    "pred_focks = torch.stack([recon_train[i][0,0,0].detach() for i in range(len(dataset))])\n",
    "from mlelec.metrics import L2_loss\n",
    "\n",
    "print('train loss', L2_loss(pred_focks[:NTRAIN], fock[:NTRAIN]))\n",
    "print('test loss', L2_loss(pred_focks[NTRAIN:], fock[NTRAIN:]))\n",
    "# np.linalg.norm(np.array(pred_focks) -fock.numpy())**2"
   ]
  },
  {
   "cell_type": "code",
   "execution_count": null,
   "metadata": {},
   "outputs": [],
   "source": [
    "# pred_focks.shape\n",
    "fock.shape"
   ]
  },
  {
   "cell_type": "code",
   "execution_count": null,
   "metadata": {},
   "outputs": [],
   "source": [
    "for i in range(len(dataset)):\n",
    "    print(i, torch.norm(dataset.fock_realspace[i] - dataset.fock_realspace[i].T))\n",
    "    # print(i, np.linalg.norm(dataset.overlap_realspace[i] - dataset.overlap_realspace[i].T))"
   ]
  },
  {
   "cell_type": "code",
   "execution_count": null,
   "metadata": {},
   "outputs": [],
   "source": [
    "import scipy\n",
    "eigs = [scipy.linalg.eigvals(pred_focks[i], dataset.overlap_realspace[i]) for i in range(len(dataset))]\n",
    "eigs_actual = [scipy.linalg.eigvals(fock[i], overlap[i]) for i in range(len(dataset))]\n",
    "\n",
    "# eigs = [scipy.linalg.eigvals(pred_focks[i]) for i in range(len(dataset))]\n",
    "# eigs_actual = [scipy.linalg.eigvals(fock[i]) for i in range(len(dataset))]"
   ]
  },
  {
   "cell_type": "code",
   "execution_count": null,
   "metadata": {},
   "outputs": [],
   "source": [
    "eigs_train = np.stack(pred_focks[:NTRAIN].flatten())\n",
    "eigs_actual_train = np.stack(fock[:NTRAIN].flatten())\n",
    "print(eigs_train.shape)\n",
    "plt.plot(eigs_actual_train, eigs_train, 'o', alpha = 0.5)\n",
    "# plt.plot(eigs_actual_train, eigs_actual_train, 'o', alpha = 0.5)\n",
    "# plt.plot([-1,0.4], [-1,0.4], 'k--')\n",
    "plt.plot([-20,4], [-20,4], 'k--')\n",
    "plt.figure()\n",
    "eigs_test = np.stack(pred_focks[NTRAIN:].flatten())\n",
    "eigs_actual_test = np.stack(fock[NTRAIN:].flatten())\n",
    "plt.plot(eigs_actual_test, eigs_test, 'o', alpha = 0.5)\n",
    "# plt.plot([-1,0.4], [-1,0.4], 'k--')\n",
    "plt.plot([-20,4], [-20,4], 'k--')\n"
   ]
  },
  {
   "cell_type": "code",
   "execution_count": null,
   "metadata": {},
   "outputs": [],
   "source": [
    "eigs = [scipy.linalg.eigvalsh(pred_focks[i]) for i in range(len(dataset))]\n",
    "eigs_actual = [scipy.linalg.eigvalsh(fock[i]) for i in range(len(dataset))]"
   ]
  },
  {
   "cell_type": "code",
   "execution_count": null,
   "metadata": {},
   "outputs": [],
   "source": [
    "eigs_train = np.stack(eigs[:NTRAIN])\n",
    "eigs_actual_train = np.stack(eigs_actual[:NTRAIN])\n",
    "print(eigs_train.shape)\n",
    "plt.plot(eigs_actual_train, eigs_train, 'o', alpha = 0.5)\n",
    "# plt.plot(eigs_actual_train, eigs_actual_train, 'o', alpha = 0.5)\n",
    "# plt.plot([-22,5], [-22,5], 'k--')\n",
    "plt.figure()\n",
    "eigs_test = np.stack(eigs[NTRAIN:])\n",
    "eigs_actual_test = np.stack(eigs_actual[NTRAIN:])\n",
    "plt.plot(eigs_actual_test, eigs_test, 'o', alpha = 0.5)\n",
    "# plt.plot([-22,5], [-22,5], 'k--')"
   ]
  },
  {
   "cell_type": "code",
   "execution_count": null,
   "metadata": {},
   "outputs": [],
   "source": [
    "print(L2_loss(eigs_train, eigs_actual_train))\n",
    "print(L2_loss(eigs_test, eigs_actual_test))"
   ]
  },
  {
   "cell_type": "code",
   "execution_count": null,
   "metadata": {},
   "outputs": [],
   "source": []
  }
 ],
 "metadata": {
  "kernelspec": {
   "display_name": "py312",
   "language": "python",
   "name": "python3"
  },
  "language_info": {
   "codemirror_mode": {
    "name": "ipython",
    "version": 3
   },
   "file_extension": ".py",
   "mimetype": "text/x-python",
   "name": "python",
   "nbconvert_exporter": "python",
   "pygments_lexer": "ipython3",
   "version": "3.1.undefined"
  }
 },
 "nbformat": 4,
 "nbformat_minor": 2
}
