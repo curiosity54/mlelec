{
 "cells": [
  {
   "cell_type": "code",
   "execution_count": 1,
   "id": "162d0473-d1cf-4306-9a2b-d03218bbfe49",
   "metadata": {},
   "outputs": [],
   "source": [
    "%load_ext autoreload\n",
    "%autoreload 2\n",
    "%load_ext line_profiler"
   ]
  },
  {
   "cell_type": "code",
   "execution_count": 144,
   "id": "05c52587-7c8f-4b08-8508-8d45b56d9250",
   "metadata": {},
   "outputs": [],
   "source": [
    "import hickle\n",
    "\n",
    "from ase.io import read\n",
    "\n",
    "import torch\n",
    "torch.set_default_dtype(torch.float64)\n",
    "import numpy as np\n",
    "\n",
    "from mlelec.data.dataset import QMDataset\n",
    "from mlelec.data.mldataset import MLDataset\n",
    "from mlelec.models.linear_integrated import LinearModelPeriodic\n",
    "from mlelec.utils._utils import blocks_to_matrix_opt as blocks_to_matrix\n",
    "\n",
    "import metatensor.torch as mts\n",
    "from metatensor.learn import DataLoader\n",
    "\n",
    "import xitorch\n",
    "from xitorch.linalg import symeig\n",
    "\n",
    "from matplotlib import pyplot as plt"
   ]
  },
  {
   "cell_type": "code",
   "execution_count": 23,
   "id": "06d52ddf-8bd5-4385-802a-c533ac4f1bb6",
   "metadata": {},
   "outputs": [],
   "source": [
    "orbitals = {\n",
    "    'sto-3g': {1: [[1,0,0]], \n",
    "               5: [[1,0,0],[2,0,0],[2,1,-1], [2,1,0],[2,1,1]], \n",
    "               6: [[1,0,0],[2,0,0],[2,1,-1], [2,1,0],[2,1,1]], \n",
    "               7: [[1,0,0],[2,0,0],[2,1,-1], [2,1,0],[2,1,1]],\n",
    "               8: [[1,0,0],[2,0,0],[2,1,-1], [2,1,0],[2,1,1]]\n",
    "               }, \n",
    "    \n",
    "    'def2svp': {1: [[1,0,0],[2,0,0],[2,1,-1], [2,1,0],[2,1,1]],\n",
    "                6: [[1,0,0],[2,0,0],[3,0,0],[2,1,1], [2,1,-1],[2,1,0], [3,1,1], [3,1,-1],[3,1,0], [3,2,-2], [3,2,-1],[3,2,0], [3,2,1],[3,2,2]],\n",
    "                8: [[1,0,0],[2,0,0],[3,0,0],[2,1,1], [2,1,-1],[2,1,0], [3,1,1], [3,1,-1],[3,1,0], [3,2,-2], [3,2,-1],[3,2,0], [3,2,1],[3,2,2]]\n",
    "                },\n",
    "}\n",
    "\n",
    "device = 'cpu'"
   ]
  },
  {
   "cell_type": "code",
   "execution_count": 148,
   "id": "61d5bfc3-c835-45de-b318-c96150bfafa6",
   "metadata": {},
   "outputs": [],
   "source": [
    "workdir = '../examples/data/water_1000'\n",
    "frames = read(f'{workdir}/water_1000.xyz',':200')\n",
    "fock = hickle.load(f'{workdir}/sto-3g/fock.hickle')[:200]\n",
    "over = hickle.load(f'{workdir}/sto-3g/overlap.hickle')[:200]"
   ]
  },
  {
   "cell_type": "code",
   "execution_count": 149,
   "id": "be02c4fe-273e-46b5-9c04-7dae558b62ee",
   "metadata": {},
   "outputs": [],
   "source": [
    "qmdata = QMDataset(frames = frames, \n",
    "                   kmesh = [1,1,1], \n",
    "                   fix_p_orbital_order=True,\n",
    "                   dimension = 0,\n",
    "                   fock_realspace=fock,\n",
    "                   overlap_realspace=list(over),\n",
    "                   device = device, \n",
    "                   orbs = orbitals['sto-3g'], \n",
    "                   orbs_name = 'sto-3g'\n",
    "                )"
   ]
  },
  {
   "cell_type": "code",
   "execution_count": 150,
   "id": "4998d7ce-9947-4561-8ed0-5e1aa203aff3",
   "metadata": {},
   "outputs": [],
   "source": [
    "max_radial  = 8\n",
    "max_angular = 4\n",
    "atomic_gaussian_width = 0.3\n",
    "cutoff = 3.5\n",
    "\n",
    "hypers_pair = {'cutoff': cutoff,\n",
    "               'max_radial': max_radial,\n",
    "               'max_angular': max_angular,\n",
    "               'atomic_gaussian_width': atomic_gaussian_width,\n",
    "               'center_atom_weight': 1,\n",
    "               \"radial_basis\": {\"Gto\": {}},\n",
    "               \"cutoff_function\": {\"ShiftedCosine\": {\"width\": 0.5}}}\n",
    "\n",
    "hypers_atom = {'cutoff': 4,\n",
    "               'max_radial': max_radial,\n",
    "               'max_angular': max_angular,\n",
    "               'atomic_gaussian_width': 0.5,\n",
    "               'center_atom_weight': 1,\n",
    "               \"radial_basis\": {\"Gto\": {}},\n",
    "               \"cutoff_function\": {\"ShiftedCosine\": {\"width\": 0.5}}}\n",
    "\n",
    "\n",
    "return_rho0ij = False\n",
    "both_centers = False\n",
    "LCUT = 3"
   ]
  },
  {
   "cell_type": "code",
   "execution_count": 151,
   "id": "af9ffb89-465f-44a3-806a-dd0b244aeba4",
   "metadata": {},
   "outputs": [
    {
     "name": "stdout",
     "output_type": "stream",
     "text": [
      "Features set\n",
      "Items set\n"
     ]
    }
   ],
   "source": [
    "mldata = MLDataset(qmdata, \n",
    "                   item_names = ['fock_realspace', 'overlap_realspace', 'eigenvalues', 'atom_resolved_density'],\n",
    "                   features = mldata.features,\n",
    "                   cutoff = hypers_pair['cutoff'],\n",
    "                   hypers_atom = hypers_atom,\n",
    "                   hypers_pair = hypers_pair,\n",
    "                   lcut = 3,\n",
    "                   orbitals_to_properties = True,\n",
    "                  )"
   ]
  },
  {
   "cell_type": "code",
   "execution_count": 152,
   "id": "fb3c17bc-a37e-4a74-a6ae-5df06f891d1f",
   "metadata": {},
   "outputs": [],
   "source": [
    "mldata._split_indices(train_frac = 0.8, val_frac = 0.2)\n",
    "mldata._split_items(mldata.train_frac, mldata.val_frac, mldata.test_frac)"
   ]
  },
  {
   "cell_type": "code",
   "execution_count": 176,
   "id": "0391ccbe-8be6-4084-991f-e1ab64a0f2ee",
   "metadata": {},
   "outputs": [],
   "source": [
    "dl = DataLoader(mldata.train_dataset, batch_size = 40, collate_fn = mldata.group_and_join)"
   ]
  },
  {
   "cell_type": "code",
   "execution_count": 177,
   "id": "d9f2dcfa-567e-4946-99d8-c8466b22b56d",
   "metadata": {},
   "outputs": [],
   "source": [
    "def rnd_herm(n, N):\n",
    "    ''' n: number of matrices \n",
    "    N xN : dims of each matrix\n",
    "    k = num k points \n",
    "    '''\n",
    "\n",
    "    num_samples = (n, N, N)\n",
    "    \n",
    "    a = torch.normal(0, 1, num_samples, dtype = torch.complex128)\n",
    "    final_samples = a + a.transpose(1,2).conj()\n",
    "    \n",
    "    return final_samples"
   ]
  },
  {
   "cell_type": "code",
   "execution_count": 195,
   "id": "0d3c893c-dbdc-41bf-a4f9-eb8bc03c91ba",
   "metadata": {},
   "outputs": [],
   "source": [
    "seed = 0\n",
    "torch.manual_seed(seed)\n",
    "np.random.seed(seed)\n",
    "\n",
    "model = LinearModelPeriodic(twocfeat = mldata.features, \n",
    "                            target_blocks = mldata.model_metadata,\n",
    "                            frames = qmdata.structures, \n",
    "                            orbitals = qmdata.basis, \n",
    "                            device = device,\n",
    "                            nhidden = 8, \n",
    "                            nlayers = 1,\n",
    "                            activation = 'SiLU',\n",
    "                            apply_norm = True\n",
    "                           )\n",
    "model = model.double()"
   ]
  },
  {
   "cell_type": "code",
   "execution_count": 196,
   "id": "6fa591b4-9639-43e8-8fed-53f8c270b25f",
   "metadata": {},
   "outputs": [],
   "source": [
    "optimizer = torch.optim.Adam(model.parameters(), lr = 5e-3, weight_decay = 1e-4)\n",
    "scheduler = torch.optim.lr_scheduler.ReduceLROnPlateau(optimizer, factor = 0.8, patience = 20)"
   ]
  },
  {
   "cell_type": "code",
   "execution_count": 197,
   "id": "465f375d-0c11-488f-ae5a-6576439a3895",
   "metadata": {},
   "outputs": [],
   "source": [
    "from mlelec.metrics import Eigval_loss, L2_loss_meanzero, L2_loss\n",
    "loss_fn = Eigval_loss #L2_loss #_meanzero"
   ]
  },
  {
   "cell_type": "code",
   "execution_count": 198,
   "id": "7725eb70-d353-43d5-b284-a8e7933248cf",
   "metadata": {},
   "outputs": [],
   "source": [
    "n = 100\n",
    "targets = [rnd_herm(n, f.shape[0]) for f in mldata.items['fock_realspace']] "
   ]
  },
  {
   "cell_type": "code",
   "execution_count": 199,
   "id": "514feed0-910f-41ad-9b3b-ea658487220e",
   "metadata": {},
   "outputs": [],
   "source": [
    "eig_var = torch.cat([m.flatten() for m in mldata.items['eigenvalues']]).norm()**2\n",
    "tar_var = torch.cat([torch.einsum('nij,ji->n', targets[A], mldata.items['density_matrix'][A]).real.flatten() for A in range(len(qmdata))]).norm()**2"
   ]
  },
  {
   "cell_type": "code",
   "execution_count": 200,
   "id": "1aaccef1-cad2-4284-9537-af28fa5b67ee",
   "metadata": {},
   "outputs": [],
   "source": [
    "def compute_eigval_vec(dataset, batch, Hk, return_rho = False):\n",
    "    eig = []\n",
    "    rho = []\n",
    "    for A, H, S in zip(batch.sample_id, Hk, batch.overlap_realspace):\n",
    "        # Compute eigenvalues and eigenvectors\n",
    "        # eigvals, eigvecs = symeig(Ax, M = Mx)\n",
    "        eigvals, C = symeig(xitorch.LinearOperator.m(H), M = xitorch.LinearOperator.m(S))\n",
    "        if return_rho:\n",
    "            frame = dataset.structures[A]\n",
    "            natm = len(frame)\n",
    "            ncore = sum(dataset.ncore[s] for s in frame.numbers)\n",
    "            nelec = sum(frame.numbers) - ncore\n",
    "            occ = torch.tensor([2.0 if i <= nelec//2 else 0.0 for i in range(C.shape[-1])], dtype = torch.float64, requires_grad = True, device = device)\n",
    "            rho.append(torch.einsum('n,...in,...jn->ij...', occ, C, C.conj()))\n",
    "        eig.append(eigvals)\n",
    "    if return_rho:\n",
    "        return eig, rho\n",
    "    else:\n",
    "        return eig"
   ]
  },
  {
   "cell_type": "code",
   "execution_count": null,
   "id": "f1210d8a-4fae-4a7a-a9c2-72fb6cfefd17",
   "metadata": {},
   "outputs": [
    {
     "name": "stdout",
     "output_type": "stream",
     "text": [
      "Epoch       0, train loss    1.0338658363    0.8886791673    0.5283255671\n",
      "Epoch       1, train loss    0.9070824751    0.8684483382    0.2619085729\n",
      "Epoch       2, train loss    0.8890512302    0.8498223441    0.2611782407\n",
      "Epoch       3, train loss    0.8715027750    0.8362801152    0.2452603835\n",
      "Epoch       4, train loss    0.8528999785    0.8206920493    0.2321700531\n",
      "Epoch       5, train loss    0.8307551292    0.8008626376    0.2208463731\n",
      "Epoch       6, train loss    0.8059084679    0.7783205554    0.2090587755\n",
      "Epoch       7, train loss    0.7763266738    0.7510943635    0.1963169925\n",
      "Epoch       8, train loss    0.7428068405    0.7193850143    0.1850599998\n",
      "Epoch       9, train loss    0.7081437159    0.6815898844    0.1921008899\n",
      "Epoch      10, train loss    0.6646235306    0.6389751141    0.1828530586\n",
      "Epoch      11, train loss    0.6186061111    0.5896392389    0.1870804335\n"
     ]
    }
   ],
   "source": [
    "alpha = 1\n",
    "nepoch = 5000\n",
    "losses = []\n",
    "for epoch in range(nepoch):\n",
    "\n",
    "    epoch_loss = 0\n",
    "    epoch_loss_e = 0\n",
    "    epoch_loss_t = 0\n",
    "\n",
    "    # Train against real space targets\n",
    "    for ib, batch in enumerate(dl):\n",
    "        \n",
    "        model.train(True)\n",
    "        optimizer.zero_grad()\n",
    "        \n",
    "        pred = model.forward(batch.features, mldata.model_metadata)\n",
    "        HT = blocks_to_matrix(pred, qmdata, detach = False, structure_ids=batch.sample_id)\n",
    "        HT = [h[0,0,0] for h in HT]\n",
    "        \n",
    "        # pred_eigvals = compute_eigval_vec(qmdata, batch, HT, return_rho=False)\n",
    "        pred_eigvals, pred_rho = compute_eigval_vec(qmdata, batch, HT, return_rho=True)\n",
    "        trace_loss = sum((torch.einsum('nij...,ji...->n...', targets[A], pred_rho[Ab] - batch.density_matrix[Ab]).real**2).sum() for Ab, A in enumerate(batch.sample_id))/tar_var\n",
    "        loss_e = loss_fn(pred_eigvals, batch.eigenvalues)/eig_var\n",
    "        loss = alpha*loss_e + trace_loss  #+ loss_fn(pred_ard, batch.atom_resolved_density)\n",
    "        \n",
    "        loss.backward()\n",
    "        optimizer.step()\n",
    "        \n",
    "        epoch_loss += loss.item()\n",
    "        epoch_loss_e += loss_e.item()\n",
    "        epoch_loss_t += trace_loss.item()\n",
    "    \n",
    "    scheduler.step(epoch_loss)\n",
    "    losses.append(epoch_loss)\n",
    "    \n",
    "    if epoch >= 0: #% 10 == 0:\n",
    "        print(f\"Epoch {epoch:>7d}, train loss {np.sqrt(epoch_loss):>15.10f} {np.sqrt(epoch_loss_e):>15.10f} {np.sqrt(epoch_loss_t):>15.10f}\")"
   ]
  },
  {
   "cell_type": "code",
   "execution_count": null,
   "id": "4144f043-6729-442f-949a-a26a57c708ff",
   "metadata": {},
   "outputs": [],
   "source": []
  }
 ],
 "metadata": {
  "kernelspec": {
   "display_name": "Python 3 (ipykernel)",
   "language": "python",
   "name": "python3"
  },
  "language_info": {
   "codemirror_mode": {
    "name": "ipython",
    "version": 3
   },
   "file_extension": ".py",
   "mimetype": "text/x-python",
   "name": "python",
   "nbconvert_exporter": "python",
   "pygments_lexer": "ipython3",
   "version": "3.11.7"
  }
 },
 "nbformat": 4,
 "nbformat_minor": 5
}
