{
 "cells": [
  {
   "cell_type": "code",
   "execution_count": 1,
   "id": "162d0473-d1cf-4306-9a2b-d03218bbfe49",
   "metadata": {},
   "outputs": [],
   "source": [
    "%load_ext autoreload\n",
    "%autoreload 2\n",
    "%load_ext line_profiler"
   ]
  },
  {
   "cell_type": "code",
   "execution_count": 2,
   "id": "05c52587-7c8f-4b08-8508-8d45b56d9250",
   "metadata": {},
   "outputs": [],
   "source": [
    "import hickle\n",
    "\n",
    "from ase.io import read\n",
    "\n",
    "import torch\n",
    "torch.set_default_dtype(torch.float64)\n",
    "import numpy as np\n",
    "\n",
    "from mlelec.data.dataset import QMDataset\n",
    "from mlelec.data.mldataset import MLDataset\n",
    "from mlelec.models.linear_integrated import LinearModelPeriodic\n",
    "from mlelec.utils._utils import blocks_to_matrix_opt as blocks_to_matrix\n",
    "\n",
    "import metatensor.torch as mts\n",
    "from metatensor.learn import DataLoader\n",
    "\n",
    "import xitorch\n",
    "from xitorch.linalg import symeig\n",
    "\n",
    "from matplotlib import pyplot as plt"
   ]
  },
  {
   "cell_type": "code",
   "execution_count": 3,
   "id": "06d52ddf-8bd5-4385-802a-c533ac4f1bb6",
   "metadata": {},
   "outputs": [],
   "source": [
    "orbitals = {\n",
    "    'sto-3g': {1: [[1,0,0]], \n",
    "               5: [[1,0,0],[2,0,0],[2,1,-1], [2,1,0],[2,1,1]], \n",
    "               6: [[1,0,0],[2,0,0],[2,1,-1], [2,1,0],[2,1,1]], \n",
    "               7: [[1,0,0],[2,0,0],[2,1,-1], [2,1,0],[2,1,1]],\n",
    "               8: [[1,0,0],[2,0,0],[2,1,-1], [2,1,0],[2,1,1]]\n",
    "               }, \n",
    "    \n",
    "    'def2svp': {1: [[1,0,0],[2,0,0],[2,1,-1], [2,1,0],[2,1,1]],\n",
    "                6: [[1,0,0],[2,0,0],[3,0,0],[2,1,1], [2,1,-1],[2,1,0], [3,1,1], [3,1,-1],[3,1,0], [3,2,-2], [3,2,-1],[3,2,0], [3,2,1],[3,2,2]],\n",
    "                8: [[1,0,0],[2,0,0],[3,0,0],[2,1,1], [2,1,-1],[2,1,0], [3,1,1], [3,1,-1],[3,1,0], [3,2,-2], [3,2,-1],[3,2,0], [3,2,1],[3,2,2]]\n",
    "                },\n",
    "}\n",
    "\n",
    "device = 'cpu'"
   ]
  },
  {
   "cell_type": "code",
   "execution_count": 4,
   "id": "61d5bfc3-c835-45de-b318-c96150bfafa6",
   "metadata": {},
   "outputs": [],
   "source": [
    "workdir = '../examples/data/water_1000'\n",
    "frames = read(f'{workdir}/water_1000.xyz',':200')\n",
    "fock = hickle.load(f'{workdir}/sto-3g/fock.hickle')[:200]\n",
    "over = hickle.load(f'{workdir}/sto-3g/overlap.hickle')[:200]"
   ]
  },
  {
   "cell_type": "code",
   "execution_count": 5,
   "id": "be02c4fe-273e-46b5-9c04-7dae558b62ee",
   "metadata": {},
   "outputs": [],
   "source": [
    "qmdata = QMDataset(frames = frames, \n",
    "                   kmesh = [1,1,1], \n",
    "                   fix_p_orbital_order=True,\n",
    "                   dimension = 0,\n",
    "                   fock_realspace=fock,\n",
    "                   overlap_realspace=list(over),\n",
    "                   device = device, \n",
    "                   orbs = orbitals['sto-3g'], \n",
    "                   orbs_name = 'sto-3g'\n",
    "                )"
   ]
  },
  {
   "cell_type": "code",
   "execution_count": 6,
   "id": "4998d7ce-9947-4561-8ed0-5e1aa203aff3",
   "metadata": {},
   "outputs": [],
   "source": [
    "max_radial  = 8\n",
    "max_angular = 4\n",
    "atomic_gaussian_width = 0.3\n",
    "cutoff = 3.5\n",
    "\n",
    "hypers_pair = {'cutoff': cutoff,\n",
    "               'max_radial': max_radial,\n",
    "               'max_angular': max_angular,\n",
    "               'atomic_gaussian_width': atomic_gaussian_width,\n",
    "               'center_atom_weight': 1,\n",
    "               \"radial_basis\": {\"Gto\": {}},\n",
    "               \"cutoff_function\": {\"ShiftedCosine\": {\"width\": 0.5}}}\n",
    "\n",
    "hypers_atom = {'cutoff': 4,\n",
    "               'max_radial': max_radial,\n",
    "               'max_angular': max_angular,\n",
    "               'atomic_gaussian_width': 0.5,\n",
    "               'center_atom_weight': 1,\n",
    "               \"radial_basis\": {\"Gto\": {}},\n",
    "               \"cutoff_function\": {\"ShiftedCosine\": {\"width\": 0.5}}}\n",
    "\n",
    "\n",
    "return_rho0ij = False\n",
    "both_centers = False\n",
    "LCUT = 3"
   ]
  },
  {
   "cell_type": "code",
   "execution_count": 7,
   "id": "af9ffb89-465f-44a3-806a-dd0b244aeba4",
   "metadata": {},
   "outputs": [
    {
     "name": "stdout",
     "output_type": "stream",
     "text": [
      "cpu pair features\n",
      "cpu single center features\n",
      "cpu single center features\n",
      "Features set\n",
      "Items set\n"
     ]
    }
   ],
   "source": [
    "mldata = MLDataset(qmdata, \n",
    "                   item_names = ['fock_realspace', 'overlap_realspace', 'eigenvalues', 'atom_resolved_density'],\n",
    "                   features = None,#mldata.features,\n",
    "                   cutoff = hypers_pair['cutoff'],\n",
    "                   hypers_atom = hypers_atom,\n",
    "                   hypers_pair = hypers_pair,\n",
    "                   lcut = 3,\n",
    "                   orbitals_to_properties = True,\n",
    "                  )"
   ]
  },
  {
   "cell_type": "code",
   "execution_count": 8,
   "id": "fb3c17bc-a37e-4a74-a6ae-5df06f891d1f",
   "metadata": {},
   "outputs": [],
   "source": [
    "mldata._split_indices(train_frac = 0.8, val_frac = 0.2)\n",
    "mldata._split_items(mldata.train_frac, mldata.val_frac, mldata.test_frac)"
   ]
  },
  {
   "cell_type": "code",
   "execution_count": 9,
   "id": "0391ccbe-8be6-4084-991f-e1ab64a0f2ee",
   "metadata": {},
   "outputs": [],
   "source": [
    "dl = DataLoader(mldata.train_dataset, batch_size = 40, collate_fn = mldata.group_and_join)"
   ]
  },
  {
   "cell_type": "code",
   "execution_count": 10,
   "id": "d9f2dcfa-567e-4946-99d8-c8466b22b56d",
   "metadata": {},
   "outputs": [],
   "source": [
    "def rnd_herm(n, N):\n",
    "    ''' n: number of matrices \n",
    "    N xN : dims of each matrix\n",
    "    k = num k points \n",
    "    '''\n",
    "\n",
    "    num_samples = (n, N, N)\n",
    "    \n",
    "    a = torch.normal(0, 1, num_samples, dtype = torch.float64)\n",
    "    final_samples = a + a.transpose(1,2).conj()\n",
    "    \n",
    "    return final_samples"
   ]
  },
  {
   "cell_type": "code",
   "execution_count": 11,
   "id": "0d3c893c-dbdc-41bf-a4f9-eb8bc03c91ba",
   "metadata": {},
   "outputs": [],
   "source": [
    "seed = 0\n",
    "torch.manual_seed(seed)\n",
    "np.random.seed(seed)\n",
    "\n",
    "model = LinearModelPeriodic(twocfeat = mldata.features, \n",
    "                            target_blocks = mldata.model_metadata,\n",
    "                            frames = qmdata.structures, \n",
    "                            orbitals = qmdata.basis, \n",
    "                            device = device,\n",
    "                            nhidden = 8, \n",
    "                            nlayers = 1,\n",
    "                            activation = 'SiLU',\n",
    "                            apply_norm = True\n",
    "                           )\n",
    "model = model.double()\n",
    "NEPOCHS = 0"
   ]
  },
  {
   "cell_type": "code",
   "execution_count": 12,
   "id": "6fa591b4-9639-43e8-8fed-53f8c270b25f",
   "metadata": {},
   "outputs": [],
   "source": [
    "optimizer = torch.optim.Adam(model.parameters(), lr = 5e-3, weight_decay = 1e-4)\n",
    "scheduler = torch.optim.lr_scheduler.ReduceLROnPlateau(optimizer, factor = 0.8, patience = 20)"
   ]
  },
  {
   "cell_type": "code",
   "execution_count": 13,
   "id": "a08a2e3f-6f53-4645-806f-319e6706af59",
   "metadata": {},
   "outputs": [
    {
     "name": "stdout",
     "output_type": "stream",
     "text": [
      "loaded $$$$$\n"
     ]
    }
   ],
   "source": [
    "checkpoint = torch.load('../examples/data/water_rnd_eigvals.ckpt')\n",
    "print('loaded $$$$$')"
   ]
  },
  {
   "cell_type": "code",
   "execution_count": 14,
   "id": "d5d61582-fc6b-4bae-8b6f-847bc18dfca2",
   "metadata": {},
   "outputs": [],
   "source": [
    "NEPOCHS = checkpoint['epoch']"
   ]
  },
  {
   "cell_type": "code",
   "execution_count": 15,
   "id": "ae570661-fbe2-48db-9271-e7f67d5cf8b3",
   "metadata": {},
   "outputs": [
    {
     "data": {
      "text/plain": [
       "999"
      ]
     },
     "execution_count": 15,
     "metadata": {},
     "output_type": "execute_result"
    }
   ],
   "source": [
    "NEPOCHS"
   ]
  },
  {
   "cell_type": "code",
   "execution_count": 16,
   "id": "08732702-c3a8-4e87-8d77-01cc8219cbd1",
   "metadata": {},
   "outputs": [],
   "source": [
    "model.load_state_dict(checkpoint['model_state_dict'])\n",
    "optimizer.load_state_dict(checkpoint['optimizer_state_dict'])\n",
    "scheduler.load_state_dict(checkpoint['scheduler_state_dict'])"
   ]
  },
  {
   "cell_type": "code",
   "execution_count": 17,
   "id": "465f375d-0c11-488f-ae5a-6576439a3895",
   "metadata": {},
   "outputs": [],
   "source": [
    "from mlelec.metrics import Eigval_loss, L2_loss_meanzero, L2_loss\n",
    "loss_fn = Eigval_loss #L2_loss #_meanzero"
   ]
  },
  {
   "cell_type": "code",
   "execution_count": 18,
   "id": "7725eb70-d353-43d5-b284-a8e7933248cf",
   "metadata": {},
   "outputs": [],
   "source": [
    "n = 100\n",
    "targets = [rnd_herm(n, f.shape[0]) for f in mldata.items['fock_realspace']] "
   ]
  },
  {
   "cell_type": "code",
   "execution_count": 19,
   "id": "514feed0-910f-41ad-9b3b-ea658487220e",
   "metadata": {},
   "outputs": [],
   "source": [
    "eig_var = torch.cat([m.flatten() for m in mldata.items['eigenvalues']]).norm()**2\n",
    "tar_var = torch.cat([torch.einsum('nij,ji->n', targets[A], mldata.items['density_matrix'][A].real).flatten() for A in range(len(qmdata))]).norm()**2"
   ]
  },
  {
   "cell_type": "code",
   "execution_count": 20,
   "id": "1aaccef1-cad2-4284-9537-af28fa5b67ee",
   "metadata": {},
   "outputs": [],
   "source": [
    "def compute_eigval_vec(dataset, batch, Hk, return_rho = False):\n",
    "    eig = []\n",
    "    rho = []\n",
    "    for A, H, S in zip(batch.sample_id, Hk, batch.overlap_realspace):\n",
    "        # Compute eigenvalues and eigenvectors\n",
    "        # eigvals, eigvecs = symeig(Ax, M = Mx)\n",
    "        eigvals, C = symeig(xitorch.LinearOperator.m(H), M = xitorch.LinearOperator.m(S))\n",
    "        if return_rho:\n",
    "            frame = dataset.structures[A]\n",
    "            natm = len(frame)\n",
    "            ncore = sum(dataset.ncore[s] for s in frame.numbers)\n",
    "            nelec = sum(frame.numbers) - ncore\n",
    "            occ = torch.tensor([2.0 if i <= nelec//2 else 0.0 for i in range(C.shape[-1])], dtype = torch.float64, requires_grad = True, device = device)\n",
    "            rho.append(torch.einsum('n,...in,...jn->ij...', occ, C, C.conj()))\n",
    "        eig.append(eigvals)\n",
    "    if return_rho:\n",
    "        return eig, rho\n",
    "    else:\n",
    "        return eig\n",
    "\n",
    "def compute_ard_vec(dataset, batch, HT, device):\n",
    "    basis = dataset.basis\n",
    "    ard_ = []\n",
    "    eig = []\n",
    "    \n",
    "    for A, H, S in zip(batch.sample_id, HT, batch.overlap_realspace):\n",
    "        frame = dataset.structures[A]\n",
    "        natm = len(frame)\n",
    "        ncore = sum(dataset.ncore[s] for s in frame.numbers)\n",
    "        nelec = sum(frame.numbers) - ncore\n",
    "        split_idx = [len(basis[s]) for s in frame.numbers]\n",
    "        needed = True if len(np.unique(split_idx)) > 1 else False\n",
    "        \n",
    "        max_dim = np.max(split_idx)\n",
    "        \n",
    "        eigvals, C = symeig(xitorch.LinearOperator.m(H), M=xitorch.LinearOperator.m(S), return_eigenvectors = True) # Has shape = (n_k, N, N)\n",
    "        \n",
    "        occ = torch.tensor([2.0 if i <= nelec//2 else 0.0 for i in range(C.shape[-1])], dtype = torch.float64, requires_grad = True, device = device)\n",
    "        P = torch.einsum('n,...in,...jn->ij...', occ, C, C.conj())\n",
    "\n",
    "        slices = torch.split(P, split_idx, dim=0)\n",
    "        blocks = [torch.split(slice_, split_idx, dim=1) for slice_ in slices]\n",
    "        blocks_flat = [block for sublist in blocks for block in sublist]\n",
    "        \n",
    "        if needed:\n",
    "            squared_blocks = []\n",
    "            for block in blocks_flat:\n",
    "                pad_size = (0, max_dim - block.size(1), 0, max_dim - block.size(0))\n",
    "                squared_block = torch.nn.functional.pad(block, pad_size, \"constant\", 0)\n",
    "                squared_blocks.append(squared_block)\n",
    "            blocks_flat = squared_blocks\n",
    "\n",
    "\n",
    "        ard_.append(torch.stack(blocks_flat).norm(dim=(1,2)))\n",
    "        eig.append(eigvals)\n",
    "    \n",
    "    return eig, ard_"
   ]
  },
  {
   "cell_type": "markdown",
   "id": "f2dca2cf-2183-4b8e-820e-5a10e9e5a8b5",
   "metadata": {
    "jp-MarkdownHeadingCollapsed": true
   },
   "source": [
    "# TRAIN (if neeeeeeded)"
   ]
  },
  {
   "cell_type": "code",
   "execution_count": 21,
   "id": "f1210d8a-4fae-4a7a-a9c2-72fb6cfefd17",
   "metadata": {
    "scrolled": true
   },
   "outputs": [
    {
     "ename": "NameError",
     "evalue": "name 'trace_loss' is not defined",
     "output_type": "error",
     "traceback": [
      "\u001b[0;31m---------------------------------------------------------------------------\u001b[0m",
      "\u001b[0;31mNameError\u001b[0m                                 Traceback (most recent call last)",
      "Cell \u001b[0;32mIn[21], line 24\u001b[0m\n\u001b[1;32m     21\u001b[0m \u001b[38;5;66;03m# pred_eigvals, pred_rho = compute_eigval_vec(qmdata, batch, HT, return_rho=True)\u001b[39;00m\n\u001b[1;32m     22\u001b[0m \u001b[38;5;66;03m# trace_loss = sum((torch.einsum('nij...,ji...->n...', targets[A], pred_rho[Ab] - batch.density_matrix[Ab]).real**2).sum() for Ab, A in enumerate(batch.sample_id))/tar_var\u001b[39;00m\n\u001b[1;32m     23\u001b[0m loss_e \u001b[38;5;241m=\u001b[39m loss_fn(pred_eigvals, batch\u001b[38;5;241m.\u001b[39meigenvalues)\u001b[38;5;241m/\u001b[39meig_var\n\u001b[0;32m---> 24\u001b[0m loss \u001b[38;5;241m=\u001b[39m alpha\u001b[38;5;241m*\u001b[39mloss_e \u001b[38;5;241m+\u001b[39m \u001b[43mtrace_loss\u001b[49m  \u001b[38;5;66;03m#+ loss_fn(pred_ard, batch.atom_resolved_density)\u001b[39;00m\n\u001b[1;32m     26\u001b[0m loss\u001b[38;5;241m.\u001b[39mbackward()\n\u001b[1;32m     27\u001b[0m optimizer\u001b[38;5;241m.\u001b[39mstep()\n",
      "\u001b[0;31mNameError\u001b[0m: name 'trace_loss' is not defined"
     ]
    }
   ],
   "source": [
    "alpha = 1\n",
    "nepoch = 1000\n",
    "losses = []\n",
    "for epoch in range(NEPOCHS,NEPOCHS+nepoch):\n",
    "\n",
    "    epoch_loss = 0\n",
    "    epoch_loss_e = 0\n",
    "    epoch_loss_t = 0\n",
    "\n",
    "    # Train against real space targets\n",
    "    for ib, batch in enumerate(dl):\n",
    "        \n",
    "        model.train(True)\n",
    "        optimizer.zero_grad()\n",
    "        \n",
    "        pred = model.forward(batch.features, mldata.model_metadata)\n",
    "        HT = blocks_to_matrix(pred, qmdata, detach = False, structure_ids=batch.sample_id)\n",
    "        HT = [h[0,0,0] for h in HT]\n",
    "        \n",
    "        pred_eigvals = compute_eigval_vec(qmdata, batch, HT, return_rho=False)\n",
    "        # pred_eigvals, pred_rho = compute_eigval_vec(qmdata, batch, HT, return_rho=True)\n",
    "        # trace_loss = sum((torch.einsum('nij...,ji...->n...', targets[A], pred_rho[Ab] - batch.density_matrix[Ab]).real**2).sum() for Ab, A in enumerate(batch.sample_id))/tar_var\n",
    "        loss_e = loss_fn(pred_eigvals, batch.eigenvalues)/eig_var\n",
    "        loss = alpha*loss_e + trace_loss  #+ loss_fn(pred_ard, batch.atom_resolved_density)\n",
    "        \n",
    "        loss.backward()\n",
    "        optimizer.step()\n",
    "        \n",
    "        epoch_loss += loss.item()\n",
    "        epoch_loss_e += loss_e.item()\n",
    "        epoch_loss_t += trace_loss.item()\n",
    "    \n",
    "    scheduler.step(epoch_loss)\n",
    "    losses.append(epoch_loss)\n",
    "    \n",
    "    if epoch >= 0: #% 10 == 0:\n",
    "        print(f\"Epoch {epoch:>7d}, train loss {np.sqrt(epoch_loss):>15.10f} {np.sqrt(epoch_loss_e):>15.10f} {np.sqrt(epoch_loss_t):>15.10f}\")"
   ]
  },
  {
   "cell_type": "code",
   "execution_count": null,
   "id": "4144f043-6729-442f-949a-a26a57c708ff",
   "metadata": {},
   "outputs": [],
   "source": [
    "plt.loglog(losses)"
   ]
  },
  {
   "cell_type": "markdown",
   "id": "4ef0a885-1ef1-4aa6-bbf2-c6c6bae2a872",
   "metadata": {},
   "source": [
    "# Validate"
   ]
  },
  {
   "cell_type": "code",
   "execution_count": 22,
   "id": "c8da7377-cde5-4db4-8d0e-09e8b6fb8a86",
   "metadata": {},
   "outputs": [],
   "source": [
    "val_dl = DataLoader(mldata.val_dataset, batch_size = len(mldata.val_dataset), collate_fn=mldata.group_and_join)"
   ]
  },
  {
   "cell_type": "code",
   "execution_count": 23,
   "id": "2f6e1def-a51a-431f-a5d1-618ec3f0840a",
   "metadata": {},
   "outputs": [],
   "source": [
    "# batch = next(iter(val_dl))\n",
    "batch = next(iter(dl))\n",
    "pred = model(batch.features, mldata.model_metadata)"
   ]
  },
  {
   "cell_type": "code",
   "execution_count": 24,
   "id": "bbeb8b83-590d-43f5-8aea-d31f1d7c79b2",
   "metadata": {},
   "outputs": [],
   "source": [
    "HT = blocks_to_matrix(pred, qmdata, detach = True, structure_ids=batch.sample_id)\n",
    "HT = [h[0,0,0] for h in HT]\n",
    "\n",
    "# pred_eigvals = compute_eigval_vec(qmdata, batch, HT, return_rho=False)\n",
    "pred_eigvals, pred_rho = compute_eigval_vec(qmdata, batch, HT, return_rho=True)"
   ]
  },
  {
   "cell_type": "code",
   "execution_count": 25,
   "id": "7c56c71c-8b64-4400-ab1f-db7766aeb299",
   "metadata": {},
   "outputs": [],
   "source": [
    "n = 100\n",
    "targets = [rnd_herm(n, f.shape[0]) for f in mldata.items['fock_realspace']] "
   ]
  },
  {
   "cell_type": "code",
   "execution_count": 26,
   "id": "59e67f7a-5bc3-414c-8180-a1ac92c1ff21",
   "metadata": {},
   "outputs": [],
   "source": [
    "pred_trace = torch.cat([torch.einsum('nij...,ji...->n...', targets[A], pred_rho[Ab].detach()) for Ab, A in enumerate(batch.sample_id)])\n",
    "true_trace = torch.cat([torch.einsum('nij...,ji...->n...', targets[A], batch.density_matrix[Ab].detach().real) for Ab, A in enumerate(batch.sample_id)])"
   ]
  },
  {
   "cell_type": "code",
   "execution_count": 27,
   "id": "1ce513e1-39aa-479f-8e2f-6bc8b153f081",
   "metadata": {},
   "outputs": [
    {
     "data": {
      "text/plain": [
       "Text(0.5, 1.0, 'Random hermitian targets')"
      ]
     },
     "execution_count": 27,
     "metadata": {},
     "output_type": "execute_result"
    },
    {
     "data": {
      "image/png": "[encoded data removed]",
      "text/plain": [
       "<Figure size 640x480 with 1 Axes>"
      ]
     },
     "metadata": {},
     "output_type": "display_data"
    }
   ],
   "source": [
    "plt.plot(true_trace, pred_trace, '.')\n",
    "plt.plot([-50, 50], [-50, 50])\n",
    "plt.title('Random hermitian targets')"
   ]
  },
  {
   "cell_type": "code",
   "execution_count": 28,
   "id": "c169dcd7-917b-4887-bc96-8464d84dbc6f",
   "metadata": {},
   "outputs": [
    {
     "data": {
      "text/plain": [
       "Text(0.5, 1.0, 'Eigenvalues')"
      ]
     },
     "execution_count": 28,
     "metadata": {},
     "output_type": "execute_result"
    },
    {
     "data": {
      "image/png": "[encoded data removed]",
      "text/plain": [
       "<Figure size 640x480 with 1 Axes>"
      ]
     },
     "metadata": {},
     "output_type": "display_data"
    }
   ],
   "source": [
    "plt.plot(torch.cat(pred_eigvals).detach(), batch.eigenvalues.flatten(), '.')\n",
    "# plt.plot([-21, 2], [-21, 2])\n",
    "# plt.xlim(-2,2)\n",
    "# plt.ylim(-2,2)\n",
    "plt.title('Eigenvalues')\n"
   ]
  },
  {
   "cell_type": "code",
   "execution_count": 29,
   "id": "aa898e71-de1b-4a2d-b38a-9f6e33d9f966",
   "metadata": {},
   "outputs": [],
   "source": [
    "pred_eig, pred_ard = compute_ard_vec(qmdata, batch, HT, device)"
   ]
  },
  {
   "cell_type": "code",
   "execution_count": 30,
   "id": "a110198b-ba3c-478f-acc0-7ee8ca007884",
   "metadata": {},
   "outputs": [
    {
     "data": {
      "text/plain": [
       "Text(0.5, 1.0, 'Mayer bond charges')"
      ]
     },
     "execution_count": 30,
     "metadata": {},
     "output_type": "execute_result"
    },
    {
     "data": {
      "image/png": "[encoded data removed]",
      "text/plain": [
       "<Figure size 640x480 with 1 Axes>"
      ]
     },
     "metadata": {},
     "output_type": "display_data"
    }
   ],
   "source": [
    "plt.plot(batch.atom_resolved_density.flatten(), torch.stack(pred_ard).detach().flatten(), '.')\n",
    "plt.plot([0,7], [0,7])\n",
    "plt.title('Mayer bond charges')"
   ]
  },
  {
   "cell_type": "code",
   "execution_count": 31,
   "id": "1ce59db4-58fd-4173-a28d-2d58dce4794c",
   "metadata": {},
   "outputs": [
    {
     "data": {
      "text/plain": [
       "Text(0.5, 1.0, 'Eigenvalues')"
      ]
     },
     "execution_count": 31,
     "metadata": {},
     "output_type": "execute_result"
    },
    {
     "data": {
      "image/png": "[encoded data removed]",
      "text/plain": [
       "<Figure size 640x480 with 1 Axes>"
      ]
     },
     "metadata": {},
     "output_type": "display_data"
    }
   ],
   "source": [
    "plt.plot(torch.cat(pred_eig).detach(), batch.eigenvalues.flatten(), '.')\n",
    "plt.plot([-21, 2], [-21, 2])\n",
    "plt.xlim(-2,2)\n",
    "plt.ylim(-2,2)\n",
    "plt.title('Eigenvalues')\n"
   ]
  },
  {
   "cell_type": "markdown",
   "id": "9419c7a8-df26-409b-8827-9e78c0c99e55",
   "metadata": {},
   "source": [
    "# Dipole "
   ]
  },
  {
   "cell_type": "code",
   "execution_count": 32,
   "id": "ab3a6e2b-3a4c-4381-8353-771b4a060ea4",
   "metadata": {},
   "outputs": [
    {
     "ename": "ModuleNotFoundError",
     "evalue": "No module named 'pyscfad'",
     "output_type": "error",
     "traceback": [
      "\u001b[0;31m---------------------------------------------------------------------------\u001b[0m",
      "\u001b[0;31mModuleNotFoundError\u001b[0m                       Traceback (most recent call last)",
      "Cell \u001b[0;32mIn[32], line 8\u001b[0m\n\u001b[1;32m      5\u001b[0m \u001b[38;5;28;01mimport\u001b[39;00m \u001b[38;5;21;01mtorch\u001b[39;00m\n\u001b[1;32m      6\u001b[0m \u001b[38;5;28;01mfrom\u001b[39;00m \u001b[38;5;21;01mpyscf\u001b[39;00m \u001b[38;5;28;01mimport\u001b[39;00m gto\n\u001b[0;32m----> 8\u001b[0m \u001b[38;5;28;01mfrom\u001b[39;00m \u001b[38;5;21;01mpyscfad\u001b[39;00m \u001b[38;5;28;01mimport\u001b[39;00m numpy \u001b[38;5;28;01mas\u001b[39;00m pynp\n\u001b[1;32m      9\u001b[0m \u001b[38;5;28;01mfrom\u001b[39;00m \u001b[38;5;21;01mpyscfad\u001b[39;00m \u001b[38;5;28;01mimport\u001b[39;00m ops\n\u001b[1;32m     10\u001b[0m \u001b[38;5;28;01mfrom\u001b[39;00m \u001b[38;5;21;01mpyscfad\u001b[39;00m\u001b[38;5;21;01m.\u001b[39;00m\u001b[38;5;21;01mml\u001b[39;00m\u001b[38;5;21;01m.\u001b[39;00m\u001b[38;5;21;01mscf\u001b[39;00m \u001b[38;5;28;01mimport\u001b[39;00m hf\n",
      "\u001b[0;31mModuleNotFoundError\u001b[0m: No module named 'pyscfad'"
     ]
    }
   ],
   "source": [
    "import os\n",
    "\n",
    "os.environ[\"PYSCFAD_BACKEND\"] = \"torch\"\n",
    "\n",
    "import torch\n",
    "from pyscf import gto\n",
    "\n",
    "from pyscfad import numpy as pynp\n",
    "from pyscfad import ops\n",
    "from pyscfad.ml.scf import hf\n",
    "import pyscf.pbc.tools.pyscf_ase as pyscf_ase\n",
    "from mlelec.data.pyscf_calculator import _instantiate_pyscf_mol\n",
    "from mlelec.utils.twocenter_utils import fix_orbital_order, unfix_orbital_order"
   ]
  },
  {
   "cell_type": "code",
   "execution_count": null,
   "id": "b6c907f1-5f68-45ea-a3cf-3ea4cbac538d",
   "metadata": {},
   "outputs": [
    {
     "ename": "ModuleNotFoundError",
     "evalue": "No module named 'pyscfad'",
     "output_type": "error",
     "traceback": [
      "\u001b[0;31m---------------------------------------------------------------------------\u001b[0m",
      "\u001b[0;31mModuleNotFoundError\u001b[0m                       Traceback (most recent call last)",
      "Cell \u001b[0;32mIn[33], line 8\u001b[0m\n\u001b[1;32m      5\u001b[0m \u001b[38;5;28;01mimport\u001b[39;00m \u001b[38;5;21;01mtorch\u001b[39;00m\n\u001b[1;32m      6\u001b[0m \u001b[38;5;28;01mfrom\u001b[39;00m \u001b[38;5;21;01mpyscf\u001b[39;00m \u001b[38;5;28;01mimport\u001b[39;00m gto\n\u001b[0;32m----> 8\u001b[0m \u001b[38;5;28;01mfrom\u001b[39;00m \u001b[38;5;21;01mpyscfad\u001b[39;00m \u001b[38;5;28;01mimport\u001b[39;00m numpy \u001b[38;5;28;01mas\u001b[39;00m pynp\n\u001b[1;32m      9\u001b[0m \u001b[38;5;28;01mfrom\u001b[39;00m \u001b[38;5;21;01mpyscfad\u001b[39;00m \u001b[38;5;28;01mimport\u001b[39;00m ops\n\u001b[1;32m     10\u001b[0m \u001b[38;5;28;01mfrom\u001b[39;00m \u001b[38;5;21;01mpyscfad\u001b[39;00m\u001b[38;5;21;01m.\u001b[39;00m\u001b[38;5;21;01mml\u001b[39;00m\u001b[38;5;21;01m.\u001b[39;00m\u001b[38;5;21;01mscf\u001b[39;00m \u001b[38;5;28;01mimport\u001b[39;00m hf\n",
      "\u001b[0;31mModuleNotFoundError\u001b[0m: No module named 'pyscfad'"
     ]
    }
   ],
   "source": [
    "def compute_dipole_moment(frames, fock_predictions, overlaps):\n",
    "    assert (\n",
    "        len(frames) == len(fock_predictions) == len(overlaps)\n",
    "    ), \"Length of frames, fock_predictions, and overlaps must be the same\"\n",
    "    dipoles = []\n",
    "    for i, frame in enumerate(frames):\n",
    "        mol = _instantiate_pyscf_mol(frame)\n",
    "        mf = hf.SCF(mol)\n",
    "        fock = torch.autograd.Variable(\n",
    "            fock_predictions[i].type(torch.float64), requires_grad=True\n",
    "        )\n",
    "\n",
    "        mo_energy, mo_coeff = mf.eig(fock, overlaps[i])\n",
    "        mo_occ = mf.get_occ(mo_energy)  # get_occ returns a numpy array\n",
    "        mo_occ = ops.convert_to_tensor(mo_occ)\n",
    "        dm1 = mf.make_rdm1(mo_coeff, mo_occ)\n",
    "        dip = mf.dip_moment(dm=dm1)\n",
    "        dipoles.append(dip)\n",
    "    return torch.stack(dipoles)"
   ]
  },
  {
   "cell_type": "code",
   "execution_count": null,
   "id": "235ae804-a3bd-4189-a80d-790544860638",
   "metadata": {},
   "outputs": [
    {
     "name": "stdout",
     "output_type": "stream",
     "text": [
      "Collecting pyscfad\n",
      "  Cloning https://github.com/fishjojo/pyscfad.git (to revision ml) to /tmp/pip-install-hb1epygi/pyscfad_b9f4557e5764455785ffe396af92751d\n",
      "  Running command git clone --filter=blob:none --quiet https://github.com/fishjojo/pyscfad.git /tmp/pip-install-hb1epygi/pyscfad_b9f4557e5764455785ffe396af92751d\n",
      "  Running command git checkout -b ml --track origin/ml\n",
      "  Switched to a new branch 'ml'\n",
      "  Branch 'ml' set up to track remote branch 'ml' from 'origin'.\n",
      "  Resolved https://github.com/fishjojo/pyscfad.git to commit 8890c1a77cda8145409a105315f921ccb96fefc6\n",
      "  Preparing metadata (setup.py) ... \u001b[?25ldone\n",
      "\u001b[?25hRequirement already satisfied: numpy>=1.17 in /home/nigam/miniconda3/envs/py312/lib/python3.12/site-packages (from pyscfad) (1.26.4)\n",
      "Collecting scipy<1.12 (from pyscfad)\n",
      "  Using cached scipy-1.11.4-cp312-cp312-manylinux_2_17_x86_64.manylinux2014_x86_64.whl.metadata (60 kB)\n",
      "Requirement already satisfied: h5py in /home/nigam/miniconda3/envs/py312/lib/python3.12/site-packages (from pyscfad) (3.11.0)\n",
      "Collecting jax>=0.3.25 (from pyscfad)\n",
      "  Using cached jax-0.4.30-py3-none-any.whl.metadata (22 kB)\n",
      "Collecting jaxlib>=0.3.25 (from pyscfad)\n",
      "  Using cached jaxlib-0.4.30-cp312-cp312-manylinux2014_x86_64.whl.metadata (1.0 kB)\n",
      "Collecting pyscf==2.3.0 (from pyscfad)\n",
      "  Using cached pyscf-2.3.0.tar.gz (8.7 MB)\n",
      "  Preparing metadata (setup.py) ... \u001b[?25ldone\n",
      "\u001b[?25hCollecting pyscfadlib==0.1.4 (from pyscfad)\n",
      "  Using cached pyscfadlib-0.1.4-py3-none-manylinux_2_17_x86_64.manylinux2014_x86_64.whl.metadata (720 bytes)\n",
      "Collecting ml-dtypes>=0.2.0 (from jax>=0.3.25->pyscfad)\n",
      "  Using cached ml_dtypes-0.4.0-cp312-cp312-manylinux_2_17_x86_64.manylinux2014_x86_64.whl.metadata (20 kB)\n",
      "Collecting opt-einsum (from jax>=0.3.25->pyscfad)\n",
      "  Using cached opt_einsum-3.3.0-py3-none-any.whl.metadata (6.5 kB)\n",
      "Using cached pyscfadlib-0.1.4-py3-none-manylinux_2_17_x86_64.manylinux2014_x86_64.whl (40.7 MB)\n",
      "Using cached jax-0.4.30-py3-none-any.whl (2.0 MB)\n",
      "Using cached jaxlib-0.4.30-cp312-cp312-manylinux2014_x86_64.whl (79.7 MB)\n",
      "Using cached scipy-1.11.4-cp312-cp312-manylinux_2_17_x86_64.manylinux2014_x86_64.whl (35.8 MB)\n",
      "Using cached ml_dtypes-0.4.0-cp312-cp312-manylinux_2_17_x86_64.manylinux2014_x86_64.whl (2.2 MB)\n",
      "Using cached opt_einsum-3.3.0-py3-none-any.whl (65 kB)\n",
      "Building wheels for collected packages: pyscfad, pyscf\n",
      "  Building wheel for pyscfad (setup.py) ... \u001b[?25ldone\n",
      "\u001b[?25h  Created wheel for pyscfad: filename=pyscfad-0.1.4-py3-none-any.whl size=158379 sha256=9394c580e30f5329ce3bc742a777dc24ee7f974080f1ef9806dc60d99121821f\n",
      "  Stored in directory: /tmp/pip-ephem-wheel-cache-s44q63ex/wheels/b9/ca/43/df1764a2bcf0b3262e1ce65a8e26ea403e97c7f243a844c1df\n",
      "  Building wheel for pyscf (setup.py) ... \u001b[?25l|"
     ]
    }
   ],
   "source": [
    "! pip install git+https://github.com/fishjojo/pyscfad.git@ml#egg=pyscfad"
   ]
  },
  {
   "cell_type": "code",
   "execution_count": null,
   "id": "2e33ea88-b27f-4eb8-b611-43a8b7761bac",
   "metadata": {},
   "outputs": [],
   "source": [
    "fock_predictions = unfix_orbital_order(\n",
    "    fock_predictions,\n",
    "    ml_data.,\n",
    "    ml_data.molecule_data.aux_data[\"orbitals\"],\n",
    ")\n",
    "\n",
    "dipole_predictions = compute_dipole_moment(\n",
    "    ml_data.test_frames,\n",
    "    fock_predictions,\n",
    "    ml_data.molecule_data.aux_data[\"overlap\"][ml_data.test_idx],\n",
    ")"
   ]
  },
  {
   "cell_type": "code",
   "execution_count": null,
   "id": "6fea5528-94ff-415f-8b11-b07740288055",
   "metadata": {},
   "outputs": [],
   "source": [
    "test"
   ]
  }
 ],
 "metadata": {
  "kernelspec": {
   "display_name": "Python 3 (ipykernel)",
   "language": "python",
   "name": "python3"
  },
  "language_info": {
   "codemirror_mode": {
    "name": "ipython",
    "version": 3
   },
   "file_extension": ".py",
   "mimetype": "text/x-python",
   "name": "python",
   "nbconvert_exporter": "python",
   "pygments_lexer": "ipython3",
   "version": "3.12.3"
  }
 },
 "nbformat": 4,
 "nbformat_minor": 5
}
