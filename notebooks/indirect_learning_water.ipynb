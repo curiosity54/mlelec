{
 "cells": [
  {
   "cell_type": "code",
   "execution_count": 1,
   "id": "162d0473-d1cf-4306-9a2b-d03218bbfe49",
   "metadata": {},
   "outputs": [],
   "source": [
    "%load_ext autoreload\n",
    "%autoreload 2\n",
    "%load_ext line_profiler"
   ]
  },
  {
   "cell_type": "code",
   "execution_count": 2,
   "id": "05c52587-7c8f-4b08-8508-8d45b56d9250",
   "metadata": {},
   "outputs": [
    {
     "name": "stdout",
     "output_type": "stream",
     "text": [
      "Using PyTorch backend.\n"
     ]
    },
    {
     "name": "stderr",
     "output_type": "stream",
     "text": [
      "/home/nigam/miniconda3/envs/py312/lib/python3.12/site-packages/pyscf/dft/libxc.py:772: UserWarning: Since PySCF-2.3, B3LYP (and B3P86) are changed to the VWN-RPA variant, the same to the B3LYP functional in Gaussian and ORCA (issue 1480). To restore the VWN5 definition, you can put the setting \"B3LYP_WITH_VWN5 = True\" in pyscf_conf.py\n",
      "  warnings.warn('Since PySCF-2.3, B3LYP (and B3P86) are changed to the VWN-RPA variant, '\n"
     ]
    }
   ],
   "source": [
    "import hickle\n",
    "\n",
    "from ase.io import read\n",
    "\n",
    "import numpy as np\n",
    "\n",
    "import torch\n",
    "torch.set_default_dtype(torch.float64)\n",
    "\n",
    "from mlelec.data.qmdataset import QMDataset\n",
    "from mlelec.data.mldataset import MLDataset\n",
    "from mlelec.models.linear_integrated import LinearModelPeriodic\n",
    "from mlelec.utils.pbc_utils import blocks_to_matrix\n",
    "from mlelec.utils.twocenter_utils import _to_uncoupled_basis, unfix_orbital_order\n",
    "from mlelec.metrics import Eigval_loss, L2_loss_meanzero, L2_loss\n",
    "import metatensor.torch as mts\n",
    "from metatensor.learn import DataLoader\n",
    "\n",
    "import os\n",
    "os.environ[\"PYSCFAD_BACKEND\"] = \"torch\"\n",
    "from pyscf import gto\n",
    "from pyscfad import numpy as pynp\n",
    "from pyscfad import ops\n",
    "from pyscfad.ml.scf import hf\n",
    "import pyscf.pbc.tools.pyscf_ase as pyscf_ase\n",
    "from mlelec.data.pyscf_calculator import _instantiate_pyscf_mol\n",
    "\n",
    "import xitorch\n",
    "from xitorch.linalg import symeig\n",
    "\n",
    "from matplotlib import pyplot as plt\n",
    "\n",
    "from IPython.utils import io as ipy_io"
   ]
  },
  {
   "cell_type": "code",
   "execution_count": 3,
   "id": "06d52ddf-8bd5-4385-802a-c533ac4f1bb6",
   "metadata": {},
   "outputs": [],
   "source": [
    "orbitals = {\n",
    "    'sto-3g': {1: [[1,0,0]], \n",
    "               5: [[1,0,0],[2,0,0],[2,1,-1], [2,1,0],[2,1,1]], \n",
    "               6: [[1,0,0],[2,0,0],[2,1,-1], [2,1,0],[2,1,1]], \n",
    "               7: [[1,0,0],[2,0,0],[2,1,-1], [2,1,0],[2,1,1]],\n",
    "               8: [[1,0,0],[2,0,0],[2,1,-1], [2,1,0],[2,1,1]]\n",
    "               }, \n",
    "    \n",
    "    'def2svp': {1: [[1,0,0],[2,0,0],[2,1,-1], [2,1,0],[2,1,1]],\n",
    "                6: [[1,0,0],[2,0,0],[3,0,0],[2,1,1], [2,1,-1],[2,1,0], [3,1,1], [3,1,-1],[3,1,0], [3,2,-2], [3,2,-1],[3,2,0], [3,2,1],[3,2,2]],\n",
    "                8: [[1,0,0],[2,0,0],[3,0,0],[2,1,1], [2,1,-1],[2,1,0], [3,1,1], [3,1,-1],[3,1,0], [3,2,-2], [3,2,-1],[3,2,0], [3,2,1],[3,2,2]]\n",
    "                },\n",
    "}\n",
    "\n",
    "device = 'cpu'"
   ]
  },
  {
   "cell_type": "code",
   "execution_count": 4,
   "id": "4998d7ce-9947-4561-8ed0-5e1aa203aff3",
   "metadata": {},
   "outputs": [],
   "source": [
    "max_radial  = 12\n",
    "max_angular = 6\n",
    "atomic_gaussian_width = 0.3\n",
    "cutoff = 3.5\n",
    "\n",
    "hypers_pair = {'cutoff': cutoff,\n",
    "               'max_radial': max_radial,\n",
    "               'max_angular': max_angular,\n",
    "               'atomic_gaussian_width': atomic_gaussian_width,\n",
    "               'center_atom_weight': 1,\n",
    "               \"radial_basis\": {\"Gto\": {}},\n",
    "               \"cutoff_function\": {\"ShiftedCosine\": {\"width\": 0.5}}}\n",
    "\n",
    "hypers_atom = {'cutoff': cutoff,\n",
    "               'max_radial': max_radial,\n",
    "               'max_angular': max_angular,\n",
    "               'atomic_gaussian_width': 0.5,\n",
    "               'center_atom_weight': 1,\n",
    "               \"radial_basis\": {\"Gto\": {}},\n",
    "               \"cutoff_function\": {\"ShiftedCosine\": {\"width\": 0.5}}}\n",
    "\n",
    "\n",
    "return_rho0ij = False\n",
    "both_centers = False\n",
    "LCUT = 4"
   ]
  },
  {
   "cell_type": "markdown",
   "id": "0ef5d36f-6fea-41d2-8b30-0e05e514b1f4",
   "metadata": {},
   "source": [
    "# QMD"
   ]
  },
  {
   "cell_type": "code",
   "execution_count": 5,
   "id": "61d5bfc3-c835-45de-b318-c96150bfafa6",
   "metadata": {},
   "outputs": [],
   "source": [
    "workdir = '../../my_mlelec/examples/data/water_1000'\n",
    "every = 20"
   ]
  },
  {
   "cell_type": "markdown",
   "id": "53f6d217-5003-47a7-bfd8-73acd29687cc",
   "metadata": {},
   "source": [
    "For the moment, we need to create multiple QMDataset (analogous to MoleculeDataset), one for the large basis, one for the small one."
   ]
  },
  {
   "cell_type": "code",
   "execution_count": 6,
   "id": "7188d839-579f-4b16-bab2-e5f78cc033ab",
   "metadata": {},
   "outputs": [
    {
     "name": "stderr",
     "output_type": "stream",
     "text": [
      "/media/nigam/b5749eb7-d3f1-4495-adeb-2c318fb7d0de/MAC/mlelec/src/mlelec/data/qmdataset.py:169: UserWarning: Creating a tensor from a list of numpy.ndarrays is extremely slow. Please consider converting the list to a single numpy.ndarray with numpy.array() before converting to a tensor. (Triggered internally at ../torch/csrc/utils/tensor_new.cpp:274.)\n",
      "  return torch.tensor(item, dtype=torch.complex128 if any(isinstance(subitem, complex) for subitem in item) else torch.float64)\n"
     ]
    }
   ],
   "source": [
    "qmdata = QMDataset.from_file(frames_path = f'{workdir}/water_1000.xyz', \n",
    "                             fock_realspace_path = f'{workdir}/def2svp/focks.npy', \n",
    "                             overlap_realspace_path = f'{workdir}/def2svp/overlaps.npy',\n",
    "                             dimension = 0, \n",
    "                             device = 'cpu', \n",
    "                             orbs_name='def2svp', \n",
    "                             orbs=orbitals['def2svp'], \n",
    "                             frame_slice = f'::{every}')"
   ]
  },
  {
   "cell_type": "code",
   "execution_count": 7,
   "id": "be02c4fe-273e-46b5-9c04-7dae558b62ee",
   "metadata": {},
   "outputs": [],
   "source": [
    "qmdata_sto3G = QMDataset.from_file(frames_path = f'{workdir}/water_1000.xyz', \n",
    "                         dimension = 0,\n",
    "                         fock_realspace_path = f'{workdir}/sto-3g/fock.hickle',\n",
    "                         overlap_realspace_path = f'{workdir}/sto-3g/overlap.hickle',\n",
    "                         device = device, \n",
    "                         orbs = orbitals['sto-3g'], \n",
    "                         orbs_name = 'sto-3g',\n",
    "                         frame_slice = f'::{every}'\n",
    "                        )"
   ]
  },
  {
   "cell_type": "code",
   "execution_count": 8,
   "id": "8b701cde-ee07-43c5-ae39-570b63ab6aef",
   "metadata": {},
   "outputs": [
    {
     "data": {
      "text/plain": [
       "QMDataset(\n",
       "  device: cpu,\n",
       "  basis_name: sto-3g,\n",
       "  dimension: 0,\n",
       "  nstructs: 50,\n",
       "  kmesh: None,\n",
       "  nao: [7, 7, 7, 7, 7, 7, 7, 7, 7, 7, 7, 7, 7, 7, 7, 7, 7, 7, 7, 7, 7, 7, 7, 7, 7, 7, 7, 7, 7, 7, 7, 7, 7, 7, 7, 7, 7, 7, 7, 7, 7, 7, 7, 7, 7, 7, 7, 7, 7, 7],\n",
       "  ncore: {1: 0, 5: 0, 6: 0, 7: 0, 8: 0},\n",
       "  is_molecule: True,\n",
       "  fock_realspace: True,\n",
       "  fock_kspace: False,\n",
       "  overlap_realspace: True,\n",
       "  overlap_kspace: False\n",
       ")"
      ]
     },
     "execution_count": 8,
     "metadata": {},
     "output_type": "execute_result"
    }
   ],
   "source": [
    "qmdata_sto3G"
   ]
  },
  {
   "cell_type": "markdown",
   "id": "cfd27e2a-cb78-4dad-b2f2-70b6a42c68dc",
   "metadata": {},
   "source": [
    "# MLD"
   ]
  },
  {
   "cell_type": "code",
   "execution_count": 9,
   "id": "af9ffb89-465f-44a3-806a-dd0b244aeba4",
   "metadata": {
    "scrolled": true
   },
   "outputs": [
    {
     "name": "stdout",
     "output_type": "stream",
     "text": [
      "cpu pair features\n",
      "cpu single center features\n",
      "cpu single center features\n"
     ]
    }
   ],
   "source": [
    "from mlelec.data.mldataset import MLDataset\n",
    "mldata = MLDataset(\n",
    "                   # qmdata_sto3G, \n",
    "                   qmdata,\n",
    "                   item_names = ['fock_blocks', 'fock_realspace', 'overlap_realspace', 'eigenvalues', 'atom_resolved_density', 'dipoles'],\n",
    "                   # features = mldata.features,\n",
    "                   cutoff = hypers_pair['cutoff'],\n",
    "                   hypers_atom = hypers_atom,\n",
    "                   hypers_pair = hypers_pair,\n",
    "                   lcut = LCUT,\n",
    "                   train_frac = 0.5,\n",
    "                   val_frac = 0.4,\n",
    "                   test_frac = 0.1,\n",
    "                   shuffle = False,\n",
    "                   model_basis = orbitals['sto-3g'],\n",
    "                   model_basis_name = 'sto-3g',\n",
    "                   fix_p_orbital_order = True,\n",
    "                   aux_overlap_realspace = qmdata_sto3G.overlap_realspace\n",
    "                  )"
   ]
  },
  {
   "cell_type": "markdown",
   "id": "f2dca2cf-2183-4b8e-820e-5a10e9e5a8b5",
   "metadata": {},
   "source": [
    "# Model"
   ]
  },
  {
   "cell_type": "markdown",
   "id": "abada533-7c2b-423c-bd6c-46516fc8fe74",
   "metadata": {},
   "source": [
    "Initialize the model"
   ]
  },
  {
   "cell_type": "code",
   "execution_count": 10,
   "id": "002d5e14-e65d-488c-8155-2f9107ec2222",
   "metadata": {
    "scrolled": true
   },
   "outputs": [],
   "source": [
    "from mlelec.models.equivariant_nonlinear_lightning import LitEquivariantNonlinearModel, MSELoss\n",
    "from mlelec.models.equivariant_nonlinear_lightning import MLDatasetDataModule\n",
    "from mlelec.callbacks.logging import LoggingCallback\n",
    "from mlelec.callbacks.progress_bar import ProgressBar\n",
    "\n",
    "import lightning.pytorch as pl\n",
    "from lightning.pytorch.loggers import TensorBoardLogger\n",
    "from lightning.pytorch.callbacks import EarlyStopping\n",
    "\n",
    "# Assuming you have `train_dataset`, `val_dataset`, and `test_dataset`\n",
    "data_module = MLDatasetDataModule(mldata, batch_size=16)\n",
    "\n",
    "# Initialize with custom loss function and keyword arguments for derived predictions\n",
    "\n",
    "model = LitEquivariantNonlinearModel(\n",
    "    mldata=mldata,\n",
    "    nhidden=4,\n",
    "    nlayers=1,\n",
    "    activation='SiLU',\n",
    "    apply_norm=True,\n",
    "    optimizer =  'adam',\n",
    "    learning_rate=1e-3,\n",
    "    lr_scheduler_patience=20,\n",
    "    lr_scheduler_factor=0.8,\n",
    "    lr_scheduler_min_lr=1e-6,\n",
    "    loss_fn=MSELoss(),\n",
    "    is_indirect = True,\n",
    "    adaptive_loss_weights=False,\n",
    "    # target_properties = {'eigenvalues', 'atom_resolved_density', 'dipoles'}\n",
    "    target_properties = {'dipoles'}\n",
    "    # eigenvalues = True,\n",
    "    # atom_resolved_density = True\n",
    ")"
   ]
  },
  {
   "cell_type": "code",
   "execution_count": 11,
   "id": "14b2e0f4-ab69-45bc-8567-a7069df05ac8",
   "metadata": {},
   "outputs": [],
   "source": [
    "import os\n",
    "os.environ[\"PYSCFAD_BACKEND\"] = \"torch\""
   ]
  },
  {
   "cell_type": "code",
   "execution_count": 12,
   "id": "199332cf-de07-46eb-b83d-ee2873546425",
   "metadata": {},
   "outputs": [],
   "source": [
    "logger = TensorBoardLogger(\"tb_logs\", name=\"water\")"
   ]
  },
  {
   "cell_type": "code",
   "execution_count": 13,
   "id": "8f8f5634-a98d-4e74-8951-830201e7b80a",
   "metadata": {},
   "outputs": [],
   "source": [
    "early_stopping = EarlyStopping(\n",
    "    monitor='val_loss',\n",
    "    min_delta=0.00,\n",
    "    patience=100,\n",
    "    verbose=False,\n",
    "    mode='min'\n",
    ")"
   ]
  },
  {
   "cell_type": "code",
   "execution_count": 14,
   "id": "62a8a4a1-432c-472d-a2c1-c869c1dc82c6",
   "metadata": {},
   "outputs": [],
   "source": [
    "progress_bar = ProgressBar()\n",
    "logger_callback = LoggingCallback(log_every_n_epochs = 5)"
   ]
  },
  {
   "cell_type": "code",
   "execution_count": 15,
   "id": "da403782-fee8-4f4b-a8eb-27a71f8b9ac7",
   "metadata": {},
   "outputs": [
    {
     "name": "stderr",
     "output_type": "stream",
     "text": [
      "GPU available: True (cuda), used: False\n",
      "TPU available: False, using: 0 TPU cores\n",
      "HPU available: False, using: 0 HPUs\n",
      "/home/nigam/miniconda3/envs/py312/lib/python3.12/site-packages/lightning/pytorch/trainer/setup.py:177: GPU available but not used. You can set it by doing `Trainer(accelerator='gpu')`.\n"
     ]
    }
   ],
   "source": [
    "trainer = pl.Trainer(max_epochs=10000, \n",
    "                     accelerator='cpu', \n",
    "                     # logger = logger, \n",
    "                     # log_every_n_steps = 1, \n",
    "                     check_val_every_n_epoch=10,\n",
    "                     # callbacks=[early_stopping, progress_bar]\n",
    "                     callbacks=[early_stopping, logger_callback],\n",
    "                     # enable_progress_bar=False\n",
    "                     # accelerator = 'gpu'\n",
    "                    )"
   ]
  },
  {
   "cell_type": "code",
   "execution_count": 16,
   "id": "62d396bf-f399-4855-99cd-30dea65ddaa5",
   "metadata": {
    "scrolled": true
   },
   "outputs": [
    {
     "name": "stderr",
     "output_type": "stream",
     "text": [
      "/home/nigam/miniconda3/envs/py312/lib/python3.12/site-packages/lightning/pytorch/core/optimizer.py:316: The lr scheduler dict contains the key(s) ['monitor'], but the keys will be ignored. You need to call `lr_scheduler.step()` manually in manual optimization.\n",
      "\n",
      "  | Name  | Type                      | Params | Mode \n",
      "------------------------------------------------------------\n",
      "0 | model | EquivariantNonlinearModel | 126 K  | train\n",
      "------------------------------------------------------------\n",
      "126 K     Trainable params\n",
      "0         Non-trainable params\n",
      "126 K     Total params\n",
      "0.507     Total estimated model params size (MB)\n",
      "58        Modules in train mode\n",
      "0         Modules in eval mode\n"
     ]
    },
    {
     "data": {
      "application/vnd.jupyter.widget-view+json": {
       "model_id": "",
       "version_major": 2,
       "version_minor": 0
      },
      "text/plain": [
       "Sanity Checking: |                                                                                            …"
      ]
     },
     "metadata": {},
     "output_type": "display_data"
    },
    {
     "name": "stderr",
     "output_type": "stream",
     "text": [
      "/home/nigam/miniconda3/envs/py312/lib/python3.12/site-packages/lightning/pytorch/trainer/connectors/data_connector.py:424: The 'val_dataloader' does not have many workers which may be a bottleneck. Consider increasing the value of the `num_workers` argument` to `num_workers=7` in the `DataLoader` to improve performance.\n",
      "/home/nigam/miniconda3/envs/py312/lib/python3.12/site-packages/lightning/pytorch/utilities/data.py:78: Trying to infer the `batch_size` from an ambiguous collection. The batch size we found is 16. To avoid any miscalculations, use `self.log(..., batch_size=batch_size)`.\n",
      "/home/nigam/miniconda3/envs/py312/lib/python3.12/site-packages/lightning/pytorch/utilities/data.py:78: Trying to infer the `batch_size` from an ambiguous collection. The batch size we found is 4. To avoid any miscalculations, use `self.log(..., batch_size=batch_size)`.\n",
      "/home/nigam/miniconda3/envs/py312/lib/python3.12/site-packages/lightning/pytorch/trainer/connectors/data_connector.py:424: The 'train_dataloader' does not have many workers which may be a bottleneck. Consider increasing the value of the `num_workers` argument` to `num_workers=7` in the `DataLoader` to improve performance.\n",
      "/home/nigam/miniconda3/envs/py312/lib/python3.12/site-packages/lightning/pytorch/loops/fit_loop.py:298: The number of training batches (2) is smaller than the logging interval Trainer(log_every_n_steps=50). Set a lower value for log_every_n_steps if you want to see logs for the training epoch.\n"
     ]
    },
    {
     "data": {
      "application/vnd.jupyter.widget-view+json": {
       "model_id": "d28ce2c8a4234644851cc52918ae7f1e",
       "version_major": 2,
       "version_minor": 0
      },
      "text/plain": [
       "Training: |                                                                                                   …"
      ]
     },
     "metadata": {},
     "output_type": "display_data"
    },
    {
     "name": "stderr",
     "output_type": "stream",
     "text": [
      "/home/nigam/miniconda3/envs/py312/lib/python3.12/site-packages/lightning/pytorch/utilities/data.py:78: Trying to infer the `batch_size` from an ambiguous collection. The batch size we found is 9. To avoid any miscalculations, use `self.log(..., batch_size=batch_size)`.\n"
     ]
    },
    {
     "name": "stdout",
     "output_type": "stream",
     "text": [
      "Epoch 1, Train Loss: 520.6855236197986\n",
      "Epoch 5, Train Loss: 91.95004221401406\n"
     ]
    },
    {
     "data": {
      "application/vnd.jupyter.widget-view+json": {
       "model_id": "",
       "version_major": 2,
       "version_minor": 0
      },
      "text/plain": [
       "Validation: |                                                                                                 …"
      ]
     },
     "metadata": {},
     "output_type": "display_data"
    },
    {
     "name": "stdout",
     "output_type": "stream",
     "text": [
      "Epoch 10, Train Loss: 66.36944629454091, Validation Loss: 71.43152142565195, RMSE Eigenvalues: None, RMSE ARD: None, , RMSE Dipoles: 1.2951482157948546\n",
      "Epoch 15, Train Loss: 56.29549839421987\n"
     ]
    },
    {
     "data": {
      "application/vnd.jupyter.widget-view+json": {
       "model_id": "",
       "version_major": 2,
       "version_minor": 0
      },
      "text/plain": [
       "Validation: |                                                                                                 …"
      ]
     },
     "metadata": {},
     "output_type": "display_data"
    },
    {
     "name": "stdout",
     "output_type": "stream",
     "text": [
      "Epoch 20, Train Loss: 52.52138991744057, Validation Loss: 60.139317771028836, RMSE Eigenvalues: None, RMSE ARD: None, , RMSE Dipoles: 1.1747643826232916\n",
      "Epoch 25, Train Loss: 49.663009325453075\n"
     ]
    },
    {
     "data": {
      "application/vnd.jupyter.widget-view+json": {
       "model_id": "",
       "version_major": 2,
       "version_minor": 0
      },
      "text/plain": [
       "Validation: |                                                                                                 …"
      ]
     },
     "metadata": {},
     "output_type": "display_data"
    },
    {
     "name": "stdout",
     "output_type": "stream",
     "text": [
      "Epoch 30, Train Loss: 46.25959647669535, Validation Loss: 52.17967807010791, RMSE Eigenvalues: None, RMSE ARD: None, , RMSE Dipoles: 1.0925700001629661\n"
     ]
    },
    {
     "name": "stderr",
     "output_type": "stream",
     "text": [
      "\n",
      "Detected KeyboardInterrupt, attempting graceful shutdown ...\n",
      "/media/nigam/b5749eb7-d3f1-4495-adeb-2c318fb7d0de/MAC/mlelec/src/mlelec/data/pyscf_calculator.py:493: SyntaxWarning: invalid escape sequence '\\s'\n",
      "  \"\"\"Combine each relative translation vector with the corresponding phase difference to obtain the kpoint matrix. H(K) = \\sum_R e^{ik.R} H(R)}\n",
      "/media/nigam/b5749eb7-d3f1-4495-adeb-2c318fb7d0de/MAC/mlelec/src/mlelec/data/pyscf_calculator.py:521: SyntaxWarning: invalid escape sequence '\\s'\n",
      "  \"\"\"\n",
      "\n",
      "KeyboardInterrupt\n",
      "\n"
     ]
    }
   ],
   "source": [
    "trainer.fit(model, data_module)"
   ]
  },
  {
   "cell_type": "code",
   "execution_count": null,
   "id": "c82a9df4-f8e9-469e-845d-94ebc2c322e3",
   "metadata": {},
   "outputs": [],
   "source": []
  },
  {
   "cell_type": "code",
   "execution_count": null,
   "id": "b7b05662-0f65-4745-8fa4-574c83a95591",
   "metadata": {},
   "outputs": [],
   "source": [
    "H=qmdata.fock_realspace[0]\n",
    "S=qmdata.overlap_realspace[0]\n",
    "symeig(xitorch.LinearOperator.m(H), M=xitorch.LinearOperator.m(S))"
   ]
  },
  {
   "cell_type": "code",
   "execution_count": 639,
   "id": "50cbd5be-3781-477d-be02-6edc836013f2",
   "metadata": {},
   "outputs": [],
   "source": [
    "def _ard(frame, C, nelec, basis, S = None):\n",
    "    split_idx = [len(basis[s]) for s in frame.numbers]\n",
    "    needed = len(np.unique(split_idx)) > 1\n",
    "    max_dim = np.max(split_idx)\n",
    "\n",
    "    occ = torch.tensor([2 if i < nelec // 2 else 0 for i in range(C.shape[-1])]).to(dtype = C.dtype)\n",
    "    rho = torch.einsum('n,...in,...jn->ij...', occ, C, C.conj())\n",
    "    if S is not None:\n",
    "        rho = rho@S\n",
    "\n",
    "    slices = torch.split(rho, split_idx, dim=0)\n",
    "    blocks = [torch.split(slice_, split_idx, dim=1) for slice_ in slices]\n",
    "    blocks_flat = [block for sublist in blocks for block in sublist]\n",
    "\n",
    "    if needed:\n",
    "        squared_blocks = []\n",
    "        for block in blocks_flat:\n",
    "            pad_size = (0, max_dim - block.size(1), 0, max_dim - block.size(0))\n",
    "            squared_block = torch.nn.functional.pad(block, pad_size, \"constant\", 0)\n",
    "            squared_blocks.append(squared_block)\n",
    "        blocks_flat = squared_blocks\n",
    "\n",
    "    return torch.einsum('i...->...i', (torch.stack(blocks_flat)**2).sum(dim=(1,2))), blocks_flat\n",
    "    # return torch.einsum('i...->...i', torch.stack(blocks_flat).norm(dim=(1,2))), blocks_flat"
   ]
  },
  {
   "cell_type": "code",
   "execution_count": 230,
   "id": "40a7cddf-5077-4176-920f-e32cd417b79c",
   "metadata": {},
   "outputs": [],
   "source": [
    "def naive_MayerBond(blocks):\n",
    "    natm = np.sqrt(len(blocks))\n",
    "    assert int(natm)-natm==0\n",
    "    natm = int(natm)\n",
    "    MB = np.zeros((natm,natm))\n",
    "    ii = 0\n",
    "    for i in range(natm):\n",
    "        for j in range(natm):\n",
    "            b = blocks[ii]\n",
    "            for s in range(b.shape[0]):\n",
    "                for t in range(b.shape[1]):\n",
    "                    MB[i,j] += b[s,t]*b[s,t]\n",
    "            ii += 1\n",
    "    return MB"
   ]
  },
  {
   "cell_type": "code",
   "execution_count": 193,
   "id": "ad492c2c-7ef1-4748-b5d2-40e26e4242f4",
   "metadata": {},
   "outputs": [
    {
     "name": "stdout",
     "output_type": "stream",
     "text": [
      "6.873148718119957 10.000000000000009\n"
     ]
    }
   ],
   "source": [
    "ds = qmdata#_sto3G\n",
    "\n",
    "frame = ds.structures[0]\n",
    "ncore = sum(ds.ncore[s] for s in frame.numbers)\n",
    "nelec = sum(frame.numbers) - ncore \n",
    "H = ds.fock_realspace[0].numpy()\n",
    "S = ds.overlap_realspace[0].numpy()\n",
    "\n",
    "from scipy.linalg import eigh\n",
    "e, C = eigh(H,S)\n",
    "E = np.diag(e)\n",
    "assert np.linalg.norm(H@C-S@C@E) < 1e-12\n",
    "\n",
    "occ = np.zeros_like(e)\n",
    "occ[:nelec//2] = 2\n",
    "rho = np.einsum('m,im,jm->ij',occ,C,C.conj())\n",
    "\n",
    "print(np.trace(rho), np.trace(rho@S))"
   ]
  },
  {
   "cell_type": "code",
   "execution_count": 178,
   "id": "0a966a34-3e5a-4168-8aec-982c2198b72f",
   "metadata": {},
   "outputs": [
    {
     "data": {
      "text/plain": [
       "(24, 24)"
      ]
     },
     "execution_count": 178,
     "metadata": {},
     "output_type": "execute_result"
    }
   ],
   "source": []
  },
  {
   "cell_type": "code",
   "execution_count": 18,
   "id": "f14631e3",
   "metadata": {},
   "outputs": [
    {
     "name": "stderr",
     "output_type": "stream",
     "text": [
      "/home/nigam/miniconda3/envs/py312/lib/python3.12/site-packages/lightning/pytorch/trainer/connectors/data_connector.py:424: The 'test_dataloader' does not have many workers which may be a bottleneck. Consider increasing the value of the `num_workers` argument` to `num_workers=7` in the `DataLoader` to improve performance.\n"
     ]
    },
    {
     "data": {
      "application/vnd.jupyter.widget-view+json": {
       "model_id": "c2e21aa2d84f43adaa3859ed4a081b46",
       "version_major": 2,
       "version_minor": 0
      },
      "text/plain": [
       "Testing: |                                                                                                    …"
      ]
     },
     "metadata": {},
     "output_type": "display_data"
    },
    {
     "name": "stderr",
     "output_type": "stream",
     "text": [
      "/home/nigam/miniconda3/envs/py312/lib/python3.12/site-packages/lightning/pytorch/utilities/data.py:78: Trying to infer the `batch_size` from an ambiguous collection. The batch size we found is 5. To avoid any miscalculations, use `self.log(..., batch_size=batch_size)`.\n"
     ]
    },
    {
     "data": {
      "text/html": [
       "<pre style=\"white-space:pre;overflow-x:auto;line-height:normal;font-family:Menlo,'DejaVu Sans Mono',consolas,'Courier New',monospace\">┏━━━━━━━━━━━━━━━━━━━━━━━━━━━┳━━━━━━━━━━━━━━━━━━━━━━━━━━━┓\n",
       "┃<span style=\"font-weight: bold\">        Test metric        </span>┃<span style=\"font-weight: bold\">       DataLoader 0        </span>┃\n",
       "┡━━━━━━━━━━━━━━━━━━━━━━━━━━━╇━━━━━━━━━━━━━━━━━━━━━━━━━━━┩\n",
       "│<span style=\"color: #008080; text-decoration-color: #008080\">       rmse_dipoles        </span>│<span style=\"color: #800080; text-decoration-color: #800080\">     7.887536799630146     </span>│\n",
       "│<span style=\"color: #008080; text-decoration-color: #008080\">         test_loss         </span>│<span style=\"color: #800080; text-decoration-color: #800080\">     933.1985514827963     </span>│\n",
       "└───────────────────────────┴───────────────────────────┘\n",
       "</pre>\n"
      ],
      "text/plain": [
       "┏━━━━━━━━━━━━━━━━━━━━━━━━━━━┳━━━━━━━━━━━━━━━━━━━━━━━━━━━┓\n",
       "┃\u001b[1m \u001b[0m\u001b[1m       Test metric       \u001b[0m\u001b[1m \u001b[0m┃\u001b[1m \u001b[0m\u001b[1m      DataLoader 0       \u001b[0m\u001b[1m \u001b[0m┃\n",
       "┡━━━━━━━━━━━━━━━━━━━━━━━━━━━╇━━━━━━━━━━━━━━━━━━━━━━━━━━━┩\n",
       "│\u001b[36m \u001b[0m\u001b[36m      rmse_dipoles       \u001b[0m\u001b[36m \u001b[0m│\u001b[35m \u001b[0m\u001b[35m    7.887536799630146    \u001b[0m\u001b[35m \u001b[0m│\n",
       "│\u001b[36m \u001b[0m\u001b[36m        test_loss        \u001b[0m\u001b[36m \u001b[0m│\u001b[35m \u001b[0m\u001b[35m    933.1985514827963    \u001b[0m\u001b[35m \u001b[0m│\n",
       "└───────────────────────────┴───────────────────────────┘\n"
      ]
     },
     "metadata": {},
     "output_type": "display_data"
    },
    {
     "data": {
      "text/plain": [
       "[{'test_loss': 933.1985514827963, 'rmse_dipoles': 7.887536799630146}]"
      ]
     },
     "execution_count": 18,
     "metadata": {},
     "output_type": "execute_result"
    }
   ],
   "source": [
    "trainer.test(model, data_module)"
   ]
  },
  {
   "cell_type": "code",
   "execution_count": 138,
   "id": "e6874c6c-9288-4154-bea9-7ebdafb73e80",
   "metadata": {},
   "outputs": [],
   "source": [
    "from mlelec.data.derived_properties import compute_atom_resolved_density, compute_eigenvalues"
   ]
  },
  {
   "cell_type": "code",
   "execution_count": 681,
   "id": "939a6972-a924-4691-93bf-eaca2a0f2222",
   "metadata": {},
   "outputs": [
    {
     "data": {
      "image/png": "[encoded data removed]",
      "text/plain": [
       "<Figure size 640x480 with 1 Axes>"
      ]
     },
     "metadata": {},
     "output_type": "display_data"
    },
    {
     "data": {
      "image/png": "[encoded data removed]",
      "text/plain": [
       "<Figure size 640x480 with 1 Axes>"
      ]
     },
     "metadata": {},
     "output_type": "display_data"
    },
    {
     "data": {
      "image/png": "[encoded data removed]",
      "text/plain": [
       "<Figure size 640x480 with 1 Axes>"
      ]
     },
     "metadata": {},
     "output_type": "display_data"
    }
   ],
   "source": [
    "test_dl = DataLoader(mldata.test_dataset, batch_size = len(mldata.test_dataset), collate_fn=mldata.group_and_join)\n",
    "train_dl = DataLoader(mldata.train_dataset, batch_size = len(mldata.train_dataset), collate_fn=mldata.group_and_join)\n",
    "\n",
    "test_dl_frames_dict = {A.item(): f for A, f in zip(mldata.test_idx, mldata.test_frames)}\n",
    "train_dl_frames_dict = {A.item(): f for A, f in zip(mldata.train_idx, mldata.train_frames)}\n",
    "\n",
    "fig_e, ax_e = plt.subplots()\n",
    "fig_a, ax_a = plt.subplots()\n",
    "fig_evec, ax_evec = plt.subplots()\n",
    "\n",
    "data = {}\n",
    "for dl_, frames_dict, lbl in zip([train_dl, test_dl], [train_dl_frames_dict, test_dl_frames_dict], ['train', 'test']):\n",
    "    batch = next(iter(dl_))\n",
    "    pred = model(batch.features, mldata.model_metadata)\n",
    "\n",
    "    \n",
    "    HT = blocks_to_matrix(pred, mldata.model_basis, frames_dict, detach = True)\n",
    "    HT = [h[0,0,0] for h in HT]\n",
    "\n",
    "    pred_eigvals, pred_eigvec = compute_eigenvalues(HT, batch.overlap_realspace, return_eigenvectors=True)\n",
    "    pred_ard, _ = compute_atom_resolved_density(pred_eigvec, \n",
    "                                                [mldata.qmdata.structures[i] for i in batch.sample_id], \n",
    "                                                 mldata.model_basis, \n",
    "                                                 mldata.qmdata.ncore)\n",
    "    # pred_eigvals, pred_ard, pred_eigvec, pred_rho = compute_ard_vec(qmdata, batch, HT, device, overlap = [qmdata.overlap_realspace[i] for i in batch.sample_id])\n",
    "\n",
    "    small_shapes = [p.shape for p in pred_eigvals]\n",
    "    slices = [tuple(slice(0, dim) for dim in small_shape) for small_shape in small_shapes]\n",
    "    x = torch.cat([batch.eigenvalues[i][s].flatten() for i, s in enumerate(slices)])\n",
    "    y = torch.cat([p.flatten() for p in pred_eigvals])\n",
    "    ax_e.plot(x, y, '.', label = lbl)\n",
    "    ax_e.plot([-21, 2], [-21, 2], 'k')\n",
    "    ax_e.set_title('Eigenvalues')\n",
    "    ax_e.legend()\n",
    "\n",
    "    x = torch.cat([ard.flatten() for ard in batch.atom_resolved_density])\n",
    "    y = torch.cat([ard.flatten() for ard in pred_ard])\n",
    "    ax_a.plot(x, y, '.', label = lbl)\n",
    "    ax_a.plot([0,7], [0,7], 'k')\n",
    "    ax_a.set_title('Mayer bond orders')\n",
    "    ax_a.legend()\n",
    "\n",
    "    small_shapes = [p.shape for p in pred_eigvec]\n",
    "    slices = [tuple(slice(0, dim) for dim in small_shape) for small_shape in small_shapes]\n",
    "    x = torch.cat([torch.norm(batch.eigenvectors[i][s], dim = (0)).flatten() for i, s in enumerate(slices)])\n",
    "    y = torch.cat([torch.norm(p, dim = (0)).flatten() for p in pred_eigvec])\n",
    "    # pred_evn, targ_evn = torch.norm(pred_eigvec, dim = (1)), torch.norm(batch.eigenvectors[slices], dim = (1))\n",
    "    \n",
    "    ax_evec.plot(x, y, '.', label = lbl)\n",
    "    xmin, xmax = ax_evec.get_xlim()\n",
    "    ymin, ymax = ax_evec.get_ylim()\n",
    "    xmin = np.min([xmin,ymin])\n",
    "    xmax = np.max([xmax,ymax])\n",
    "    ax_evec.plot([xmin,xmax], [xmin,xmax], 'k')\n",
    "    ax_evec.set_title('evec')\n",
    "    ax_evec.legend()"
   ]
  },
  {
   "cell_type": "code",
   "execution_count": 98,
   "id": "002c4829-b512-4a24-aefd-8b9040b682c0",
   "metadata": {},
   "outputs": [],
   "source": [
    "def compute_dipole_moment(frames, fock_predictions, overlaps, basis = 'sto-3g'):\n",
    "    assert (\n",
    "        len(frames) == len(fock_predictions) == len(overlaps)\n",
    "    ), \"Length of frames, fock_predictions, and overlaps must be the same\"\n",
    "    dipoles = []\n",
    "    for i, frame in enumerate(frames):\n",
    "        mol = _instantiate_pyscf_mol(frame, basis = basis)\n",
    "        mf = hf.SCF(mol)\n",
    "        fock = torch.autograd.Variable(\n",
    "            fock_predictions[i].type(torch.float64), requires_grad=True\n",
    "        )\n",
    "\n",
    "        mo_energy, mo_coeff = mf.eig(fock, overlaps[i])\n",
    "        mo_occ = mf.get_occ(mo_energy)  # get_occ returns a numpy array\n",
    "        mo_occ = ops.convert_to_tensor(mo_occ)\n",
    "        dm1 = mf.make_rdm1(mo_coeff, mo_occ)\n",
    "        dip = mf.dip_moment(dm=dm1)\n",
    "        dipoles.append(dip)\n",
    "    return torch.stack(dipoles)"
   ]
  },
  {
   "cell_type": "code",
   "execution_count": 99,
   "id": "f93e2fc5-3bf9-415b-b313-a4439c9d9ec4",
   "metadata": {},
   "outputs": [
    {
     "name": "stdout",
     "output_type": "stream",
     "text": [
      "(180, 181, 182, 183, 184, 185, 186, 187, 188, 189, 190, 191, 192, 193, 194, 195, 196, 197, 198, 199)\n"
     ]
    }
   ],
   "source": [
    "batch = next(iter(test_dl))\n",
    "print(batch.sample_id)\n",
    "\n",
    "dl_frames = [qmdata.structures[A] for A in batch.sample_id]\n",
    "dl_frames_dict = {A: f for A, f in zip(batch.sample_id, dl_frames)}\n",
    "pred = model(batch.features, mldata.model_metadata)\n",
    "\n",
    "HT = blocks_to_matrix(pred, mldata.model_basis, dl_frames_dict, detach = True)\n",
    "HT = [h[0,0,0] for h in HT]\n",
    "\n",
    "# Predictions need fixing/unfixing the orbital order\n",
    "fock_predictions = unfix_orbital_order(\n",
    "    torch.stack(HT),\n",
    "    dl_frames,\n",
    "    qmdata_sto3G.basis\n",
    ")\n",
    "over_predictions = unfix_orbital_order(\n",
    "    batch.overlap_realspace,\n",
    "    dl_frames,\n",
    "    qmdata_sto3G.basis\n",
    ")\n",
    "\n",
    "# QMDataset does NOT need fixing/unfixing the orbital order\n",
    "fock_targets = torch.stack([qmdata.fock_realspace[i] for i in batch.sample_id])\n",
    "over_targets = torch.stack([qmdata.overlap_realspace[i] for i in batch.sample_id])\n",
    "\n",
    "fock_sto3g = torch.stack([qmdata_sto3G.fock_realspace[i] for i in batch.sample_id])\n",
    "over_sto3g = torch.stack([qmdata_sto3G.overlap_realspace[i] for i in batch.sample_id])\n",
    "\n",
    "with ipy_io.capture_output():\n",
    "    dipole_targets = compute_dipole_moment(\n",
    "        dl_frames,\n",
    "        fock_targets,\n",
    "        over_targets,\n",
    "        qmdata.basis_name)\n",
    "\n",
    "with ipy_io.capture_output():\n",
    "    dipole_predictions = compute_dipole_moment(\n",
    "        dl_frames,\n",
    "        fock_predictions,\n",
    "        over_predictions,\n",
    "        qmdata_sto3G.basis_name)\n",
    "\n",
    "with ipy_io.capture_output():\n",
    "    dipole_sto3g = compute_dipole_moment(\n",
    "        dl_frames,\n",
    "        fock_sto3g,\n",
    "        over_sto3g,\n",
    "        qmdata_sto3G.basis_name)"
   ]
  },
  {
   "cell_type": "code",
   "execution_count": 123,
   "id": "f46e5ccc-0080-41c2-b311-509d4a53c4b8",
   "metadata": {},
   "outputs": [
    {
     "data": {
      "image/png": "[encoded data removed]",
      "text/plain": [
       "<Figure size 640x480 with 1 Axes>"
      ]
     },
     "metadata": {},
     "output_type": "display_data"
    }
   ],
   "source": [
    "from ase.units import Bohr, Debye\n",
    "au_to_debye = Bohr/Debye\n",
    "\n",
    "ms = 12\n",
    "mew = .7\n",
    "\n",
    "fig, ax = plt.subplots()\n",
    "\n",
    "x = dipole_targets.flatten().detach().cpu() * au_to_debye\n",
    "y_sto3g = dipole_sto3g.flatten().detach().cpu() * au_to_debye\n",
    "y_ml = dipole_predictions.flatten().detach().cpu() * au_to_debye\n",
    "\n",
    "rmse_sto3g = np.sqrt(torch.mean(y_sto3g - x)**2)\n",
    "rmse_ml = np.sqrt(torch.mean(y_ml - x)**2)\n",
    "mae_sto3g = torch.mean(torch.abs(y_sto3g - x))\n",
    "mae_ml = torch.mean(torch.abs(y_ml - x))\n",
    "\n",
    "ax.plot(x, y_sto3g, 'v', \n",
    "         markeredgewidth = mew,\n",
    "         markeredgecolor = 'k',\n",
    "         markersize = ms, \n",
    "         label = 'STO-3G', \n",
    "         alpha = 1)\n",
    "\n",
    "ax.plot(x, y_ml, 'o',\n",
    "         markeredgewidth = mew,\n",
    "         markeredgecolor = 'k',\n",
    "         markersize = ms, \n",
    "         label = 'ML', \n",
    "         alpha = 1)\n",
    "\n",
    "ax.legend()\n",
    "\n",
    "xm, xM = ax.get_xlim()\n",
    "ym, yM = ax.get_ylim()\n",
    "m = np.min([xm,ym])\n",
    "M = np.max([xM,yM])\n",
    "ax.plot([m,M], [m,M], '--k')\n",
    "ax.set_xlim(m, M)\n",
    "ax.set_ylim(m, M)\n",
    "\n",
    "# ax.text(0.6, 0.3, fr'$\\mathrm{{RMSE_{{\\text{{STO-3G}}}}}}={rmse_sto3g:.3f}\\,$D', transform = ax.transAxes, ha = 'left')\n",
    "# ax.text(0.6, 0.25, fr'$\\mathrm{{RMSE_{{ML}}}}={rmse_ml:.3f}\\,$D', transform = ax.transAxes, ha = 'left')\n",
    "\n",
    "ax.set_xlabel('Target dipoles (D)')\n",
    "ax.set_ylabel('Predicted dipoles (D)')\n",
    "\n",
    "# Adding a table with RMSE and MAE for STO-3G and ML\n",
    "table_data = [\n",
    "    [f'{rmse_sto3g:.3f}', f'{mae_sto3g:.3f}'],\n",
    "    [f'{rmse_ml:.3f}', f'{mae_ml:.3f}']\n",
    "]\n",
    "# table = ax.table(cellText=table_data, colLabels=['RMSE', 'MAE'], rowLabels=['STO-3G', 'ML'],\n",
    "#                  edges = 'closed',\n",
    "#                  loc='bottom', cellLoc = 'center', rowLoc = 'center', colWidths = [0.3, 0.3])\n",
    "\n",
    "# Create the table inside the plot area\n",
    "table = ax.table(cellText=table_data, colLabels=['RMSE (D)', 'MAE (D)'], rowLabels=['STO-3G', 'ML'],\n",
    "                 loc='lower right', cellLoc = 'center', rowLoc = 'center', colWidths = [0.12, 0.12])\n",
    "\n",
    "table.auto_set_font_size(False)\n",
    "table.set_fontsize(12)\n",
    "table.scale(1.5, 1.5)\n",
    "\n",
    "# ax.set_title('Indirect training from def2-svp to a STO-3G-like model.\\nTargets: eigenvalues; ARD; eigenvector norms over AOs\\nTest set contains 50 water molecules')"
   ]
  }
 ],
 "metadata": {
  "kernelspec": {
   "display_name": "Python 3 (ipykernel)",
   "language": "python",
   "name": "python3"
  },
  "language_info": {
   "codemirror_mode": {
    "name": "ipython",
    "version": 3
   },
   "file_extension": ".py",
   "mimetype": "text/x-python",
   "name": "python",
   "nbconvert_exporter": "python",
   "pygments_lexer": "ipython3",
   "version": "3.12.3"
  }
 },
 "nbformat": 4,
 "nbformat_minor": 5
}
