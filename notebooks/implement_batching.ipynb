{
 "cells": [
  {
   "cell_type": "code",
   "execution_count": 1,
   "id": "a3d8f12c-62ee-4d46-b766-c3b49d817fe2",
   "metadata": {},
   "outputs": [],
   "source": [
    "%load_ext autoreload\n",
    "%autoreload 2"
   ]
  },
  {
   "cell_type": "code",
   "execution_count": 2,
   "id": "635a399b-c69b-4438-bac6-4ba0712d0d06",
   "metadata": {},
   "outputs": [
    {
     "name": "stderr",
     "output_type": "stream",
     "text": [
      "/home/pegolo/micromamba/envs/sci/lib/python3.11/site-packages/pyscf/dft/libxc.py:771: UserWarning: Since PySCF-2.3, B3LYP (and B3P86) are changed to the VWN-RPA variant, corresponding to the original definition by Stephens et al. (issue 1480) and the same as the B3LYP functional in Gaussian. To restore the VWN5 definition, you can put the setting \"B3LYP_WITH_VWN5 = True\" in pyscf_conf.py\n",
      "  warnings.warn('Since PySCF-2.3, B3LYP (and B3P86) are changed to the VWN-RPA variant, '\n"
     ]
    }
   ],
   "source": [
    "from ase.io import read\n",
    "from ase.visualize import view\n",
    "import matplotlib.pyplot as plt\n",
    "import numpy as np \n",
    "import torch \n",
    "torch.set_default_dtype(torch.float64)\n",
    "\n",
    "import rascaline\n",
    "\n",
    "import metatensor \n",
    "from metatensor import Labels, TensorBlock, TensorMap\n",
    "from metatensor import load, sort\n",
    "\n",
    "from mlelec.data.dataset import QMDataset, split_by_Aij_mts\n",
    "from mlelec.utils.twocenter_utils import _to_coupled_basis\n",
    "from mlelec.utils.pbc_utils import matrix_to_blocks, kmatrix_to_blocks, TMap_bloch_sums, precompute_phase, kblocks_to_matrix, kmatrix_to_blocks, blocks_to_matrix, matrix_to_blocks\n",
    "from mlelec.utils.plot_utils import print_matrix, matrix_norm, block_matrix_norm, plot_block_errors\n",
    "from mlelec.features.acdc import compute_features\n",
    "from mlelec.utils.target_utils import get_targets\n",
    "from mlelec.models.linear import LinearModelPeriodic"
   ]
  },
  {
   "cell_type": "code",
   "execution_count": 3,
   "id": "f0131f6a-72a2-445e-9384-0ba95406c112",
   "metadata": {},
   "outputs": [],
   "source": [
    "device = 'cpu'\n",
    "\n",
    "orbitals = {\n",
    "    'sto-3g': {5: [[1,0,0],[2,0,0],[2,1,-1], [2,1,0],[2,1,1]], \n",
    "               6: [[1,0,0],[2,0,0],[2,1,-1], [2,1,0],[2,1,1]], \n",
    "               7: [[1,0,0],[2,0,0],[2,1,-1], [2,1,0],[2,1,1]]}, \n",
    "    \n",
    "    'def2svp': {6: [[1,0,0],[2,0,0],[3,0,0],[2,1,1], [2,1,-1],[2,1,0], [3,1,1], [3,1,-1],[3,1,0], [3,2,-2], [3,2,-1],[3,2,0], [3,2,1],[3,2,2]]},\n",
    "    'benzene': {6: [[2,0,0],[2,1,-1], [2,1,0],[2,1,1]], 1:[[1,0,0]]},\n",
    "    'gthszvmolopt': {\n",
    "        6: [[2, 0, 0], [2, 1, -1], [2, 1, 0], [2, 1, 1]],\n",
    "        \n",
    "        16: [[3,0,0], \n",
    "             [3,1,-1], [3,1,0], [3,1,1]],\n",
    "\n",
    "        42: [[4,0,0], \n",
    "             [5,0,0], \n",
    "             [4,1,-1], [4,1,0], [4,1,1], \n",
    "             [4, 2, -2], [4, 2, -1], [4, 2, 0], [4, 2, 1], [4, 2, 2]]}\n",
    "}"
   ]
  },
  {
   "cell_type": "markdown",
   "id": "61756a8d-5fbe-4fd2-9521-4a4604762d6d",
   "metadata": {},
   "source": [
    "# QC dataset"
   ]
  },
  {
   "cell_type": "code",
   "execution_count": 5,
   "id": "0cb8d851-377b-4bd5-a632-397f666731e1",
   "metadata": {},
   "outputs": [],
   "source": [
    "workdir = './'\n",
    "START = 0 \n",
    "STOP = 10\n",
    "ORBS = 'sto-3g'\n",
    "root = f'{workdir}/examples/data/periodic/deepH_graphene/wrap/'\n",
    "data_dir = root\n",
    "frames = read(f'{data_dir}/wrapped_deepH_graphene.xyz', slice(START, STOP))\n",
    "rfock = [np.load(f\"{data_dir}/realfock_{i}.npy\", allow_pickle = True).item() for i in range(START, STOP)]\n",
    "rover = [np.load(f\"{data_dir}/realoverlap_{i}.npy\", allow_pickle = True).item() for i in range(START, STOP)]\n",
    "kmesh = [1,1,1]\n",
    "dataset = QMDataset(frames = frames, \n",
    "                               kmesh = kmesh, \n",
    "                               dimension = 2,\n",
    "                               fock_realspace = rfock, \n",
    "                               overlap_realspace = rover, \n",
    "                               device = device, \n",
    "                               orbs = orbitals[ORBS], \n",
    "                               orbs_name = 'sto-3g')"
   ]
  },
  {
   "cell_type": "code",
   "execution_count": 9,
   "id": "7bea8a50-276b-4225-840c-583f64913125",
   "metadata": {},
   "outputs": [],
   "source": [
    "workdir = './'\n",
    "root = f'{workdir}/examples/data/periodic/carbon_allotropes'\n",
    "ORBS = 'sto-3g'\n",
    "kmesh = np.loadtxt(f'{root}/kmesh.dat', dtype=int)\n",
    "START = 20\n",
    "STOP = 25\n",
    "\n",
    "indices = kmesh[:,0][START:STOP]\n",
    "kmesh = kmesh[:,1:][START:STOP].tolist()\n",
    "\n",
    "frames = [read(f'{root}/{i}/cell_{i}.xyz') for i in indices]\n",
    "\n",
    "for f in frames:\n",
    "    f.wrap(center = (0,0,0), eps = 1e-30)\n",
    "    # f.wrap(pretty_translation=True,eps=1e-20)\n",
    "\n",
    "rfock=[np.load(f'{root}/{i}/realfock_{i}.npy', allow_pickle=True).item() for i in indices ]\n",
    "rover=[np.load(f'{root}/{i}/realoverlap_{i}.npy', allow_pickle=True).item() for i in indices ]"
   ]
  },
  {
   "cell_type": "code",
   "execution_count": 10,
   "id": "6907a5e6-83bf-453e-aca2-fd8fc2af4f44",
   "metadata": {},
   "outputs": [],
   "source": [
    "dataset = QMDataset(frames = frames, \n",
    "                               kmesh = kmesh, \n",
    "                               fix_p_orbital_order=False,\n",
    "                               dimension = 3,\n",
    "                               fock_realspace = rfock, \n",
    "                               overlap_realspace = rover, \n",
    "                               device = device, \n",
    "                               orbs = orbitals[ORBS], \n",
    "                               orbs_name = 'sto-3g')"
   ]
  },
  {
   "cell_type": "markdown",
   "id": "e3873bac-ec05-4a55-aeb6-abc711ebe1b2",
   "metadata": {},
   "source": [
    "# Targets"
   ]
  },
  {
   "cell_type": "code",
   "execution_count": 11,
   "id": "a4ac2b01-c2a3-47e2-9296-323a5eddd158",
   "metadata": {},
   "outputs": [],
   "source": [
    "cutoff = 8"
   ]
  },
  {
   "cell_type": "code",
   "execution_count": 13,
   "id": "567ec238-ff88-4497-930f-fcb0551861ba",
   "metadata": {},
   "outputs": [],
   "source": [
    "target_blocks, target_coupled_blocks = get_targets(dataset, cutoff = cutoff, device = device)"
   ]
  },
  {
   "cell_type": "code",
   "execution_count": null,
   "id": "e3a00107-cc50-42fe-8439-1e9ff83af7e8",
   "metadata": {},
   "outputs": [],
   "source": [
    "phase, indices, kpts_idx = precompute_phase(target_coupled_blocks, dataset, cutoff = cutoff)\n",
    "k_target_coupled_blocks = TMap_bloch_sums(target_coupled_blocks, phase, indices, kpts_idx, return_tensormap = True)"
   ]
  },
  {
   "cell_type": "markdown",
   "id": "eaa78cad-0988-4be9-812a-2209fdc5a9bf",
   "metadata": {},
   "source": [
    "# Features"
   ]
  },
  {
   "cell_type": "code",
   "execution_count": 14,
   "id": "db41bfa2-936d-4d9f-8f3c-22580d7959a4",
   "metadata": {},
   "outputs": [],
   "source": [
    "max_radial  = 8\n",
    "max_angular = 6\n",
    "atomic_gaussian_width = 0.3\n",
    "\n",
    "hypers_pair = {'cutoff': cutoff,\n",
    "               'max_radial': max_radial,\n",
    "               'max_angular': max_angular,\n",
    "               'atomic_gaussian_width': atomic_gaussian_width,\n",
    "               'center_atom_weight': 1,\n",
    "               \"radial_basis\": {\"Gto\": {}},\n",
    "               \"cutoff_function\": {\"ShiftedCosine\": {\"width\": 0.1}}}\n",
    "\n",
    "\n",
    "hypers_atom = {'cutoff': 4,\n",
    "               'max_radial': max_radial,\n",
    "               'max_angular': max_angular,\n",
    "               'atomic_gaussian_width': 0.3,\n",
    "               'center_atom_weight': 1,\n",
    "               \"radial_basis\": {\"Gto\": {}},\n",
    "               \"cutoff_function\": {\"ShiftedCosine\": {\"width\": 0.1}}}\n",
    "\n",
    "\n",
    "return_rho0ij = False\n",
    "both_centers = False\n",
    "LCUT = 3"
   ]
  },
  {
   "cell_type": "code",
   "execution_count": 15,
   "id": "7e89ccaa-95c0-44d2-938c-3189761c58c0",
   "metadata": {},
   "outputs": [
    {
     "name": "stdout",
     "output_type": "stream",
     "text": [
      "cpu pair features\n",
      "cpu single center features\n",
      "cpu single center features\n"
     ]
    }
   ],
   "source": [
    "features = compute_features(dataset, hypers_atom, hypers_pair = hypers_pair, lcut = 3)"
   ]
  },
  {
   "cell_type": "markdown",
   "id": "b2566f8d-43e1-4404-bf31-e80c1e2e7e57",
   "metadata": {},
   "source": [
    "# ML Dataset/Dataloader"
   ]
  },
  {
   "cell_type": "code",
   "execution_count": 563,
   "id": "a61b2ec7-8647-4c4c-a843-e38141d5b9fd",
   "metadata": {},
   "outputs": [],
   "source": [
    "from metatensor.learn import Dataset, DataLoader, IndexedDataset\n",
    "from metatensor.learn.data import group as mts_group, group_and_join as group_and_join_mts\n",
    "import metatensor as mts\n",
    "from mlelec.data.dataset import split_by_Aij, split_by_Aij_mts"
   ]
  },
  {
   "cell_type": "code",
   "execution_count": 565,
   "id": "21690431-1659-4b36-abe3-bfda1759eb80",
   "metadata": {
    "scrolled": true
   },
   "outputs": [
    {
     "ename": "RuntimeError",
     "evalue": "__init__() Expected a value of type 'List[__torch__.torch.classes.metatensor.Labels]' for argument 'components' but instead found type 'list'.\nPosition: 3\nValue: [Labels(\n    M\n    0\n)]\nDeclaration: __init__(__torch__.torch.classes.metatensor.TensorBlock _0, Tensor values, __torch__.torch.classes.metatensor.Labels samples, __torch__.torch.classes.metatensor.Labels[] components, __torch__.torch.classes.metatensor.Labels properties) -> NoneType _0\nCast error details: Tried to cast object to type __torch__.torch.classes.metatensor.Labels (of Python compilation unit at: 0) but object was missing attribute capsule",
     "output_type": "error",
     "traceback": [
      "\u001b[0;31m---------------------------------------------------------------------------\u001b[0m",
      "\u001b[0;31mRuntimeError\u001b[0m                              Traceback (most recent call last)",
      "Cell \u001b[0;32mIn[565], line 1\u001b[0m\n\u001b[0;32m----> 1\u001b[0m \u001b[43msplit_by_Aij_mts\u001b[49m\u001b[43m(\u001b[49m\u001b[43mtarget_coupled_blocks\u001b[49m\u001b[43m)\u001b[49m\n",
      "File \u001b[0;32m~/Software/mlelec/src/mlelec/data/dataset.py:1125\u001b[0m, in \u001b[0;36msplit_by_Aij_mts\u001b[0;34m(tensor, features)\u001b[0m\n\u001b[1;32m   1123\u001b[0m keys \u001b[38;5;241m=\u001b[39m {}\n\u001b[1;32m   1124\u001b[0m \u001b[38;5;28;01mfor\u001b[39;00m k, b \u001b[38;5;129;01min\u001b[39;00m tensor\u001b[38;5;241m.\u001b[39mitems():\n\u001b[0;32m-> 1125\u001b[0m     block \u001b[38;5;241m=\u001b[39m \u001b[43msplit_block_by_Aij_mts\u001b[49m\u001b[43m(\u001b[49m\u001b[43mb\u001b[49m\u001b[43m)\u001b[49m\n\u001b[1;32m   1127\u001b[0m     \u001b[38;5;28;01mfor\u001b[39;00m Aij \u001b[38;5;129;01min\u001b[39;00m block:\n\u001b[1;32m   1128\u001b[0m         \u001b[38;5;28;01mif\u001b[39;00m Aij \u001b[38;5;129;01mnot\u001b[39;00m \u001b[38;5;129;01min\u001b[39;00m blocks:\n",
      "File \u001b[0;32m~/Software/mlelec/src/mlelec/data/dataset.py:1058\u001b[0m, in \u001b[0;36msplit_block_by_Aij_mts\u001b[0;34m(block)\u001b[0m\n\u001b[1;32m   1056\u001b[0m \u001b[38;5;28;01mfor\u001b[39;00m I, (A, i, j) \u001b[38;5;129;01min\u001b[39;00m \u001b[38;5;28menumerate\u001b[39m(Aij):\n\u001b[1;32m   1057\u001b[0m     idx \u001b[38;5;241m=\u001b[39m np\u001b[38;5;241m.\u001b[39mwhere(where_inv \u001b[38;5;241m==\u001b[39m I)[\u001b[38;5;241m0\u001b[39m]\n\u001b[0;32m-> 1058\u001b[0m     new_blocks[A, i, j] \u001b[38;5;241m=\u001b[39m \u001b[43mTensorBlock\u001b[49m\u001b[43m(\u001b[49m\u001b[43msamples\u001b[49m\u001b[43m \u001b[49m\u001b[38;5;241;43m=\u001b[39;49m\u001b[43m \u001b[49m\u001b[43mLabels\u001b[49m\u001b[43m(\u001b[49m\u001b[43mb_samples\u001b[49m\u001b[38;5;241;43m.\u001b[39;49m\u001b[43mnames\u001b[49m\u001b[43m,\u001b[49m\u001b[43m \u001b[49m\u001b[43mtorch\u001b[49m\u001b[38;5;241;43m.\u001b[39;49m\u001b[43mtensor\u001b[49m\u001b[43m(\u001b[49m\u001b[43mb_samples\u001b[49m\u001b[38;5;241;43m.\u001b[39;49m\u001b[43mvalues\u001b[49m\u001b[43m[\u001b[49m\u001b[43midx\u001b[49m\u001b[43m]\u001b[49m\u001b[38;5;241;43m.\u001b[39;49m\u001b[43mtolist\u001b[49m\u001b[43m(\u001b[49m\u001b[43m)\u001b[49m\u001b[43m)\u001b[49m\u001b[43m)\u001b[49m\u001b[43m,\u001b[49m\n\u001b[1;32m   1059\u001b[0m \u001b[43m                                      \u001b[49m\u001b[43mcomponents\u001b[49m\u001b[43m \u001b[49m\u001b[38;5;241;43m=\u001b[39;49m\u001b[43m \u001b[49m\u001b[43mb_components\u001b[49m\u001b[43m,\u001b[49m\n\u001b[1;32m   1060\u001b[0m \u001b[43m                                      \u001b[49m\u001b[43mproperties\u001b[49m\u001b[43m \u001b[49m\u001b[38;5;241;43m=\u001b[39;49m\u001b[43m \u001b[49m\u001b[43mb_properties\u001b[49m\u001b[43m,\u001b[49m\n\u001b[1;32m   1061\u001b[0m \u001b[43m                                      \u001b[49m\u001b[43mvalues\u001b[49m\u001b[43m \u001b[49m\u001b[38;5;241;43m=\u001b[39;49m\u001b[43m \u001b[49m\u001b[43mb_values\u001b[49m\u001b[43m[\u001b[49m\u001b[43midx\u001b[49m\u001b[43m]\u001b[49m\u001b[43m)\u001b[49m\n\u001b[1;32m   1063\u001b[0m \u001b[38;5;28;01mreturn\u001b[39;00m new_blocks\n",
      "\u001b[0;31mRuntimeError\u001b[0m: __init__() Expected a value of type 'List[__torch__.torch.classes.metatensor.Labels]' for argument 'components' but instead found type 'list'.\nPosition: 3\nValue: [Labels(\n    M\n    0\n)]\nDeclaration: __init__(__torch__.torch.classes.metatensor.TensorBlock _0, Tensor values, __torch__.torch.classes.metatensor.Labels samples, __torch__.torch.classes.metatensor.Labels[] components, __torch__.torch.classes.metatensor.Labels properties) -> NoneType _0\nCast error details: Tried to cast object to type __torch__.torch.classes.metatensor.Labels (of Python compilation unit at: 0) but object was missing attribute capsule"
     ]
    }
   ],
   "source": [
    "split_by_Aij_mts(target_coupled_blocks)"
   ]
  },
  {
   "cell_type": "code",
   "execution_count": 560,
   "id": "d5444484-9a93-4bde-9d7c-513f339ecb0d",
   "metadata": {
    "scrolled": true
   },
   "outputs": [
    {
     "ename": "KeyboardInterrupt",
     "evalue": "",
     "output_type": "error",
     "traceback": [
      "\u001b[0;31m---------------------------------------------------------------------------\u001b[0m",
      "\u001b[0;31mKeyboardInterrupt\u001b[0m                         Traceback (most recent call last)",
      "Cell \u001b[0;32mIn[560], line 8\u001b[0m\n\u001b[1;32m      5\u001b[0m split_target \u001b[38;5;241m=\u001b[39m mts\u001b[38;5;241m.\u001b[39msplit(target_coupled_blocks, split_by_axis, grouped_labels)\n\u001b[1;32m      7\u001b[0m grouped_labels \u001b[38;5;241m=\u001b[39m [mts\u001b[38;5;241m.\u001b[39mLabels(names \u001b[38;5;241m=\u001b[39m split_by_dimension, values \u001b[38;5;241m=\u001b[39m np\u001b[38;5;241m.\u001b[39marray([A])) \u001b[38;5;28;01mfor\u001b[39;00m A \u001b[38;5;129;01min\u001b[39;00m mts\u001b[38;5;241m.\u001b[39munique_metadata(features, axis \u001b[38;5;241m=\u001b[39m split_by_axis, names \u001b[38;5;241m=\u001b[39m split_by_dimension)]\n\u001b[0;32m----> 8\u001b[0m split_features \u001b[38;5;241m=\u001b[39m \u001b[43mmts\u001b[49m\u001b[38;5;241;43m.\u001b[39;49m\u001b[43msplit\u001b[49m\u001b[43m(\u001b[49m\u001b[43mfeatures\u001b[49m\u001b[43m,\u001b[49m\u001b[43m \u001b[49m\u001b[43msplit_by_axis\u001b[49m\u001b[43m,\u001b[49m\u001b[43m \u001b[49m\u001b[43mgrouped_labels\u001b[49m\u001b[43m)\u001b[49m\n",
      "File \u001b[0;32m~/micromamba/envs/sci/lib/python3.11/site-packages/metatensor/operations/split.py:181\u001b[0m, in \u001b[0;36msplit\u001b[0;34m(tensor, axis, grouped_labels)\u001b[0m\n\u001b[1;32m    179\u001b[0m \u001b[38;5;28;01mfor\u001b[39;00m key_index \u001b[38;5;129;01min\u001b[39;00m \u001b[38;5;28mrange\u001b[39m(\u001b[38;5;28mlen\u001b[39m(tensor\u001b[38;5;241m.\u001b[39mkeys)):\n\u001b[1;32m    180\u001b[0m     key \u001b[38;5;241m=\u001b[39m tensor\u001b[38;5;241m.\u001b[39mkeys\u001b[38;5;241m.\u001b[39mentry(key_index)\n\u001b[0;32m--> 181\u001b[0m     new_blocks \u001b[38;5;241m=\u001b[39m \u001b[43m_split_block\u001b[49m\u001b[43m(\u001b[49m\u001b[43mtensor\u001b[49m\u001b[43m[\u001b[49m\u001b[43mkey\u001b[49m\u001b[43m]\u001b[49m\u001b[43m,\u001b[49m\u001b[43m \u001b[49m\u001b[43maxis\u001b[49m\u001b[43m,\u001b[49m\u001b[43m \u001b[49m\u001b[43mgrouped_labels\u001b[49m\u001b[43m)\u001b[49m\n\u001b[1;32m    183\u001b[0m     \u001b[38;5;28;01mfor\u001b[39;00m group_i, new_block \u001b[38;5;129;01min\u001b[39;00m \u001b[38;5;28menumerate\u001b[39m(new_blocks):\n\u001b[1;32m    184\u001b[0m         all_new_blocks[group_i]\u001b[38;5;241m.\u001b[39mappend(new_block)\n",
      "File \u001b[0;32m~/micromamba/envs/sci/lib/python3.11/site-packages/metatensor/operations/split.py:28\u001b[0m, in \u001b[0;36m_split_block\u001b[0;34m(block, axis, grouped_labels)\u001b[0m\n\u001b[1;32m     25\u001b[0m new_blocks: List[TensorBlock] \u001b[38;5;241m=\u001b[39m []\n\u001b[1;32m     26\u001b[0m \u001b[38;5;28;01mfor\u001b[39;00m indices \u001b[38;5;129;01min\u001b[39;00m grouped_labels:\n\u001b[1;32m     27\u001b[0m     \u001b[38;5;66;03m# perform the slice either along the samples or properties axis\u001b[39;00m\n\u001b[0;32m---> 28\u001b[0m     new_block \u001b[38;5;241m=\u001b[39m \u001b[43m_slice_block\u001b[49m\u001b[43m(\u001b[49m\u001b[43mblock\u001b[49m\u001b[43m,\u001b[49m\u001b[43m \u001b[49m\u001b[43maxis\u001b[49m\u001b[38;5;241;43m=\u001b[39;49m\u001b[43maxis\u001b[49m\u001b[43m,\u001b[49m\u001b[43m \u001b[49m\u001b[43mlabels\u001b[49m\u001b[38;5;241;43m=\u001b[39;49m\u001b[43mindices\u001b[49m\u001b[43m)\u001b[49m\n\u001b[1;32m     29\u001b[0m     new_blocks\u001b[38;5;241m.\u001b[39mappend(new_block)\n\u001b[1;32m     31\u001b[0m \u001b[38;5;28;01mreturn\u001b[39;00m new_blocks\n",
      "File \u001b[0;32m~/micromamba/envs/sci/lib/python3.11/site-packages/metatensor/operations/slice.py:19\u001b[0m, in \u001b[0;36m_slice_block\u001b[0;34m(block, axis, labels)\u001b[0m\n\u001b[1;32m     16\u001b[0m all_samples \u001b[38;5;241m=\u001b[39m block\u001b[38;5;241m.\u001b[39msamples\u001b[38;5;241m.\u001b[39mview(labels\u001b[38;5;241m.\u001b[39mnames)\n\u001b[1;32m     17\u001b[0m \u001b[38;5;66;03m# create an arrays of bools indicating which samples indices to keep\u001b[39;00m\n\u001b[1;32m     18\u001b[0m samples_mask \u001b[38;5;241m=\u001b[39m _dispatch\u001b[38;5;241m.\u001b[39mbool_array_like(\n\u001b[0;32m---> 19\u001b[0m     \u001b[43m[\u001b[49m\u001b[43mall_samples\u001b[49m\u001b[38;5;241;43m.\u001b[39;49m\u001b[43mentry\u001b[49m\u001b[43m(\u001b[49m\u001b[43mi\u001b[49m\u001b[43m)\u001b[49m\u001b[43m \u001b[49m\u001b[38;5;129;43;01min\u001b[39;49;00m\u001b[43m \u001b[49m\u001b[43mlabels\u001b[49m\u001b[43m \u001b[49m\u001b[38;5;28;43;01mfor\u001b[39;49;00m\u001b[43m \u001b[49m\u001b[43mi\u001b[49m\u001b[43m \u001b[49m\u001b[38;5;129;43;01min\u001b[39;49;00m\u001b[43m \u001b[49m\u001b[38;5;28;43mrange\u001b[39;49m\u001b[43m(\u001b[49m\u001b[38;5;28;43mlen\u001b[39;49m\u001b[43m(\u001b[49m\u001b[43mall_samples\u001b[49m\u001b[43m)\u001b[49m\u001b[43m)\u001b[49m\u001b[43m]\u001b[49m,\n\u001b[1;32m     20\u001b[0m     block\u001b[38;5;241m.\u001b[39mvalues,\n\u001b[1;32m     21\u001b[0m )\n\u001b[1;32m     22\u001b[0m new_values \u001b[38;5;241m=\u001b[39m _dispatch\u001b[38;5;241m.\u001b[39mmask(block\u001b[38;5;241m.\u001b[39mvalues, \u001b[38;5;241m0\u001b[39m, samples_mask)\n\u001b[1;32m     23\u001b[0m new_samples \u001b[38;5;241m=\u001b[39m Labels(\n\u001b[1;32m     24\u001b[0m     block\u001b[38;5;241m.\u001b[39msamples\u001b[38;5;241m.\u001b[39mnames,\n\u001b[1;32m     25\u001b[0m     _dispatch\u001b[38;5;241m.\u001b[39mmask(block\u001b[38;5;241m.\u001b[39msamples\u001b[38;5;241m.\u001b[39mvalues, \u001b[38;5;241m0\u001b[39m, samples_mask),\n\u001b[1;32m     26\u001b[0m )\n",
      "File \u001b[0;32m~/micromamba/envs/sci/lib/python3.11/site-packages/metatensor/operations/slice.py:19\u001b[0m, in \u001b[0;36m<listcomp>\u001b[0;34m(.0)\u001b[0m\n\u001b[1;32m     16\u001b[0m all_samples \u001b[38;5;241m=\u001b[39m block\u001b[38;5;241m.\u001b[39msamples\u001b[38;5;241m.\u001b[39mview(labels\u001b[38;5;241m.\u001b[39mnames)\n\u001b[1;32m     17\u001b[0m \u001b[38;5;66;03m# create an arrays of bools indicating which samples indices to keep\u001b[39;00m\n\u001b[1;32m     18\u001b[0m samples_mask \u001b[38;5;241m=\u001b[39m _dispatch\u001b[38;5;241m.\u001b[39mbool_array_like(\n\u001b[0;32m---> 19\u001b[0m     [\u001b[43mall_samples\u001b[49m\u001b[38;5;241;43m.\u001b[39;49m\u001b[43mentry\u001b[49m\u001b[43m(\u001b[49m\u001b[43mi\u001b[49m\u001b[43m)\u001b[49m\u001b[43m \u001b[49m\u001b[38;5;129;43;01min\u001b[39;49;00m\u001b[43m \u001b[49m\u001b[43mlabels\u001b[49m \u001b[38;5;28;01mfor\u001b[39;00m i \u001b[38;5;129;01min\u001b[39;00m \u001b[38;5;28mrange\u001b[39m(\u001b[38;5;28mlen\u001b[39m(all_samples))],\n\u001b[1;32m     20\u001b[0m     block\u001b[38;5;241m.\u001b[39mvalues,\n\u001b[1;32m     21\u001b[0m )\n\u001b[1;32m     22\u001b[0m new_values \u001b[38;5;241m=\u001b[39m _dispatch\u001b[38;5;241m.\u001b[39mmask(block\u001b[38;5;241m.\u001b[39mvalues, \u001b[38;5;241m0\u001b[39m, samples_mask)\n\u001b[1;32m     23\u001b[0m new_samples \u001b[38;5;241m=\u001b[39m Labels(\n\u001b[1;32m     24\u001b[0m     block\u001b[38;5;241m.\u001b[39msamples\u001b[38;5;241m.\u001b[39mnames,\n\u001b[1;32m     25\u001b[0m     _dispatch\u001b[38;5;241m.\u001b[39mmask(block\u001b[38;5;241m.\u001b[39msamples\u001b[38;5;241m.\u001b[39mvalues, \u001b[38;5;241m0\u001b[39m, samples_mask),\n\u001b[1;32m     26\u001b[0m )\n",
      "File \u001b[0;32m~/micromamba/envs/sci/lib/python3.11/site-packages/metatensor/labels.py:449\u001b[0m, in \u001b[0;36mLabels.__contains__\u001b[0;34m(self, entry)\u001b[0m\n\u001b[1;32m    444\u001b[0m \u001b[38;5;28;01mif\u001b[39;00m \u001b[38;5;28mself\u001b[39m\u001b[38;5;241m.\u001b[39mis_view():\n\u001b[1;32m    445\u001b[0m     \u001b[38;5;28;01mraise\u001b[39;00m \u001b[38;5;167;01mValueError\u001b[39;00m(\n\u001b[1;32m    446\u001b[0m         \u001b[38;5;124m\"\u001b[39m\u001b[38;5;124mcan not call `__contains__` on a Labels view, call `to_owned` before\u001b[39m\u001b[38;5;124m\"\u001b[39m\n\u001b[1;32m    447\u001b[0m     )\n\u001b[0;32m--> 449\u001b[0m \u001b[38;5;28;01mreturn\u001b[39;00m \u001b[38;5;28;43mself\u001b[39;49m\u001b[38;5;241;43m.\u001b[39;49m\u001b[43mposition\u001b[49m\u001b[43m(\u001b[49m\u001b[43mentry\u001b[49m\u001b[43m)\u001b[49m \u001b[38;5;129;01mis\u001b[39;00m \u001b[38;5;129;01mnot\u001b[39;00m \u001b[38;5;28;01mNone\u001b[39;00m\n",
      "File \u001b[0;32m~/micromamba/envs/sci/lib/python3.11/site-packages/metatensor/labels.py:778\u001b[0m, in \u001b[0;36mLabels.position\u001b[0;34m(self, entry)\u001b[0m\n\u001b[1;32m    775\u001b[0m \u001b[38;5;28;01mfor\u001b[39;00m i, v \u001b[38;5;129;01min\u001b[39;00m \u001b[38;5;28menumerate\u001b[39m(entry):\n\u001b[1;32m    776\u001b[0m     c_entry[i] \u001b[38;5;241m=\u001b[39m ctypes\u001b[38;5;241m.\u001b[39mc_int32(v)\n\u001b[0;32m--> 778\u001b[0m \u001b[38;5;28;43mself\u001b[39;49m\u001b[38;5;241;43m.\u001b[39;49m\u001b[43m_lib\u001b[49m\u001b[38;5;241;43m.\u001b[39;49m\u001b[43mmts_labels_position\u001b[49m\u001b[43m(\u001b[49m\n\u001b[1;32m    779\u001b[0m \u001b[43m    \u001b[49m\u001b[38;5;28;43mself\u001b[39;49m\u001b[38;5;241;43m.\u001b[39;49m\u001b[43m_labels\u001b[49m\u001b[43m,\u001b[49m\n\u001b[1;32m    780\u001b[0m \u001b[43m    \u001b[49m\u001b[43mc_entry\u001b[49m\u001b[43m,\u001b[49m\n\u001b[1;32m    781\u001b[0m \u001b[43m    \u001b[49m\u001b[43mc_entry\u001b[49m\u001b[38;5;241;43m.\u001b[39;49m\u001b[43m_length_\u001b[49m\u001b[43m,\u001b[49m\n\u001b[1;32m    782\u001b[0m \u001b[43m    \u001b[49m\u001b[43mresult\u001b[49m\u001b[43m,\u001b[49m\n\u001b[1;32m    783\u001b[0m \u001b[43m\u001b[49m\u001b[43m)\u001b[49m\n\u001b[1;32m    785\u001b[0m \u001b[38;5;28;01mif\u001b[39;00m result\u001b[38;5;241m.\u001b[39mvalue \u001b[38;5;241m>\u001b[39m\u001b[38;5;241m=\u001b[39m \u001b[38;5;241m0\u001b[39m:\n\u001b[1;32m    786\u001b[0m     \u001b[38;5;28;01mreturn\u001b[39;00m result\u001b[38;5;241m.\u001b[39mvalue\n",
      "File \u001b[0;32m~/micromamba/envs/sci/lib/python3.11/site-packages/metatensor/status.py:28\u001b[0m, in \u001b[0;36m_check_status\u001b[0;34m(status)\u001b[0m\n\u001b[1;32m     24\u001b[0m     \u001b[38;5;28;01mglobal\u001b[39;00m LAST_EXCEPTION\n\u001b[1;32m     25\u001b[0m     LAST_EXCEPTION \u001b[38;5;241m=\u001b[39m e\n\u001b[0;32m---> 28\u001b[0m \u001b[38;5;28;01mdef\u001b[39;00m \u001b[38;5;21m_check_status\u001b[39m(status):\n\u001b[1;32m     29\u001b[0m     \u001b[38;5;28;01mif\u001b[39;00m status \u001b[38;5;241m==\u001b[39m MTS_SUCCESS:\n\u001b[1;32m     30\u001b[0m         \u001b[38;5;28;01mreturn\u001b[39;00m\n",
      "\u001b[0;31mKeyboardInterrupt\u001b[0m: "
     ]
    }
   ],
   "source": [
    "split_by_axis = \"samples\"\n",
    "split_by_dimension = \"structure\"\n",
    "\n",
    "grouped_labels = [mts.Labels(names = split_by_dimension, values = np.array([A])) for A in mts.unique_metadata(target_coupled_blocks, axis = split_by_axis, names = split_by_dimension)]\n",
    "split_target = mts.split(target_coupled_blocks, split_by_axis, grouped_labels)\n",
    "\n",
    "grouped_labels = [mts.Labels(names = split_by_dimension, values = np.array([A])) for A in mts.unique_metadata(features, axis = split_by_axis, names = split_by_dimension)]\n",
    "split_features = mts.split(features, split_by_axis, grouped_labels)"
   ]
  },
  {
   "cell_type": "code",
   "execution_count": 545,
   "id": "ce082aef-50f9-4974-8501-d077de90419e",
   "metadata": {},
   "outputs": [],
   "source": [
    "ml_data = IndexedDataset(descriptor = split_features, target = split_target, sample_id = [g.values.tolist()[0][0] for g in grouped_labels])"
   ]
  },
  {
   "cell_type": "markdown",
   "id": "dc808f17-7880-4242-9109-bad6638e7f81",
   "metadata": {},
   "source": [
    "Split kspace targets"
   ]
  },
  {
   "cell_type": "code",
   "execution_count": 546,
   "id": "a9e95cde-928d-4d13-935b-02013a2798de",
   "metadata": {},
   "outputs": [],
   "source": [
    "split_by_axis = \"samples\"\n",
    "split_by_dimension = \"structure\"\n",
    "\n",
    "grouped_labels = [mts.Labels(names = split_by_dimension, values = np.array([A])) for A in mts.unique_metadata(k_target_coupled_blocks, axis = split_by_axis, names = split_by_dimension)]\n",
    "split_target_k = mts.split(k_target_coupled_blocks, split_by_axis, grouped_labels)\n",
    "\n",
    "grouped_labels = [mts.Labels(names = split_by_dimension, values = np.array([A])) for A in mts.unique_metadata(features, axis = split_by_axis, names = split_by_dimension)]\n",
    "split_features_k = mts.split(features, split_by_axis, grouped_labels)"
   ]
  },
  {
   "cell_type": "code",
   "execution_count": 547,
   "id": "ee77aac7-6adb-4ffa-8f66-5b4a02e372dc",
   "metadata": {},
   "outputs": [],
   "source": [
    "ml_data_k = IndexedDataset(descriptor = split_features_k, target = split_target_k, sample_id = [g.values.tolist()[0][0] for g in grouped_labels])"
   ]
  },
  {
   "cell_type": "markdown",
   "id": "b01a2e61-609c-42ab-8dda-2f11ebe50a59",
   "metadata": {},
   "source": [
    "# Train"
   ]
  },
  {
   "cell_type": "code",
   "execution_count": 548,
   "id": "292e1e88-8d09-4e78-972e-055688f42012",
   "metadata": {},
   "outputs": [],
   "source": [
    "from mlelec.metrics import L2_loss, L2_kspace_loss\n",
    "from mlelec.utils.twocenter_utils import _to_uncoupled_basis, map_targetkeys_to_featkeys\n",
    "from mlelec.utils.pbc_utils import precompute_phase, TMap_bloch_sums"
   ]
  },
  {
   "cell_type": "code",
   "execution_count": 553,
   "id": "8ec08c42-7548-4d7d-b243-5ff30b668e67",
   "metadata": {},
   "outputs": [],
   "source": [
    "seed = 10\n",
    "torch.manual_seed(seed)\n",
    "np.random.seed(seed)\n",
    "\n",
    "model = LinearModelPeriodic(twocfeat = features, \n",
    "                            target_blocks = target_coupled_blocks,\n",
    "                            frames = dataset.structures, orbitals = dataset.basis, \n",
    "                            device = device,\n",
    "                            bias = True,\n",
    "                            nhidden = 128, \n",
    "                            nlayers = 2,\n",
    "                            activation = 'SiLU',\n",
    "                            apply_norm = True\n",
    "                           )\n",
    "model = model.double()\n",
    "\n",
    "nepoch = 1000\n",
    "\n",
    "optimizers = []\n",
    "schedulers = []\n",
    "for i, key in enumerate(model.model):\n",
    "    optimizers.append(torch.optim.Adam(model.model[key].parameters(), lr = 1e-3)) #, betas = (0.8, 0.9)))\n",
    "    schedulers.append(torch.optim.lr_scheduler.ReduceLROnPlateau(optimizers[-1], factor = 0.5, patience = 100, verbose=True))"
   ]
  },
  {
   "cell_type": "code",
   "execution_count": 554,
   "id": "254ddf17-6837-4c81-823c-7ed539682a57",
   "metadata": {},
   "outputs": [],
   "source": [
    "phase, indices, kpts_idx = precompute_phase(target_coupled_blocks, dataset, cutoff = cutoff)"
   ]
  },
  {
   "cell_type": "code",
   "execution_count": 555,
   "id": "3c96517d-d601-4587-a1b4-7e39c536ce5a",
   "metadata": {},
   "outputs": [],
   "source": [
    "batch_size = 1\n",
    "dataloader = DataLoader(ml_data, batch_size = batch_size, shuffle = False, collate_fn = lambda x: group_and_join_mts(x, join_kwargs = {'different_keys': 'union', 'remove_tensor_name': True}))\n",
    "dataloader_k = DataLoader(ml_data_k, batch_size = batch_size, shuffle = False, collate_fn = lambda x: group_and_join_mts(x, join_kwargs = {'different_keys': 'union', 'remove_tensor_name': True}))"
   ]
  },
  {
   "cell_type": "code",
   "execution_count": 557,
   "id": "3ec39802-9c20-4cb2-9d96-7a26bde27a47",
   "metadata": {},
   "outputs": [
    {
     "data": {
      "text/plain": [
       "17166.492"
      ]
     },
     "execution_count": 557,
     "metadata": {},
     "output_type": "execute_result"
    }
   ],
   "source": [
    "16/3*1.45**2/(1e-5*100)*5.67e-8*300**3"
   ]
  },
  {
   "cell_type": "code",
   "execution_count": 556,
   "id": "e11ca466-6978-4acc-8ab0-378136947d24",
   "metadata": {},
   "outputs": [
    {
     "name": "stdout",
     "output_type": "stream",
     "text": [
      "Epoch       0, train loss 11530.2510092855, avg lr = 0.0010000000000000002\n",
      "Epoch       1, train loss 7580.3090475239, avg lr = 0.0010000000000000002\n",
      "Epoch       2, train loss 5552.4979475927, avg lr = 0.0010000000000000002\n",
      "Epoch       3, train loss 3763.3769321438, avg lr = 0.0010000000000000002\n",
      "Epoch       4, train loss 2448.4908343881, avg lr = 0.0010000000000000002\n",
      "Epoch       5, train loss 1987.8065645943, avg lr = 0.0010000000000000002\n",
      "Epoch       6, train loss 1666.8587666231, avg lr = 0.0010000000000000002\n",
      "Epoch       7, train loss 1612.8572440769, avg lr = 0.0010000000000000002\n",
      "Epoch       8, train loss 1000.0819467077, avg lr = 0.0010000000000000002\n",
      "Epoch       9, train loss  112.8189782143, avg lr = 0.0010000000000000002\n",
      "Epoch      10, train loss  504.5451281099, avg lr = 0.0010000000000000002\n",
      "Epoch      11, train loss   62.7767195192, avg lr = 0.0010000000000000002\n",
      "Epoch      12, train loss  231.5838399113, avg lr = 0.0010000000000000002\n",
      "Epoch      13, train loss  208.7827691055, avg lr = 0.0010000000000000002\n",
      "Epoch      14, train loss   66.1028748556, avg lr = 0.0010000000000000002\n",
      "Epoch      15, train loss  146.5594487771, avg lr = 0.0010000000000000002\n",
      "Epoch      16, train loss   21.2873228320, avg lr = 0.0010000000000000002\n",
      "Epoch      17, train loss   79.8901746234, avg lr = 0.0010000000000000002\n",
      "Epoch      18, train loss   91.7270694396, avg lr = 0.0010000000000000002\n",
      "Epoch      19, train loss   48.2706127985, avg lr = 0.0010000000000000002\n",
      "Epoch      20, train loss   27.3270665314, avg lr = 0.0010000000000000002\n",
      "Epoch      21, train loss   28.8878299836, avg lr = 0.0010000000000000002\n",
      "Epoch      22, train loss   12.0737698998, avg lr = 0.0010000000000000002\n",
      "Epoch      23, train loss   11.5429487976, avg lr = 0.0010000000000000002\n",
      "Epoch      24, train loss   18.1060729246, avg lr = 0.0009944444444444447\n",
      "Epoch      25, train loss   23.2455217528, avg lr = 0.0009722222222222225\n",
      "Epoch      26, train loss   29.0633572222, avg lr = 0.0009722222222222225\n",
      "Epoch      27, train loss   66.0542988845, avg lr = 0.0009722222222222225\n",
      "Epoch      28, train loss   50.5415298821, avg lr = 0.0009722222222222225\n",
      "Epoch      29, train loss   36.6743070602, avg lr = 0.0009722222222222225\n",
      "Epoch      30, train loss   22.9594518094, avg lr = 0.0009722222222222225\n",
      "Epoch      31, train loss   27.6669165674, avg lr = 0.0009722222222222225\n",
      "Epoch      32, train loss   13.9702417499, avg lr = 0.0009722222222222225\n",
      "Epoch      33, train loss   10.5669495285, avg lr = 0.0009722222222222225\n",
      "Epoch      34, train loss   12.2289910190, avg lr = 0.0009722222222222225\n",
      "Epoch      35, train loss   20.0746790194, avg lr = 0.0009722222222222225\n",
      "Epoch      36, train loss   10.1579420049, avg lr = 0.0009722222222222225\n",
      "Epoch      37, train loss   18.2124675143, avg lr = 0.0009722222222222225\n",
      "Epoch      38, train loss   25.2289275348, avg lr = 0.0009722222222222225\n",
      "Epoch      39, train loss   26.2677258088, avg lr = 0.0009722222222222225\n",
      "Epoch      40, train loss   23.4387628529, avg lr = 0.0009666666666666669\n",
      "Epoch      41, train loss   26.8111295538, avg lr = 0.0009444444444444447\n",
      "Epoch      42, train loss    9.9620304544, avg lr = 0.0009444444444444447\n",
      "Epoch      43, train loss    6.0909006726, avg lr = 0.0009444444444444447\n",
      "Epoch      44, train loss    5.4535137798, avg lr = 0.0009444444444444447\n",
      "Epoch      45, train loss   10.4779407012, avg lr = 0.0009333333333333335\n",
      "Epoch      46, train loss    7.2380710409, avg lr = 0.000888888888888889\n",
      "Epoch      47, train loss  120.9008026868, avg lr = 0.000888888888888889\n",
      "Epoch      48, train loss   51.1127702994, avg lr = 0.000888888888888889\n",
      "Epoch      49, train loss   79.1436868150, avg lr = 0.0008833333333333335\n",
      "Epoch      50, train loss   16.2306609997, avg lr = 0.0008555555555555557\n",
      "Epoch      51, train loss   25.1032199161, avg lr = 0.0008277777777777779\n",
      "Epoch      52, train loss    8.0262491673, avg lr = 0.0008055555555555557\n",
      "Epoch      53, train loss   14.2238454446, avg lr = 0.0008000000000000001\n",
      "Epoch      54, train loss   14.2522639138, avg lr = 0.0007777777777777778\n",
      "Epoch      55, train loss    6.2534928804, avg lr = 0.0007722222222222223\n",
      "Epoch      56, train loss   32.3145862392, avg lr = 0.00075\n",
      "Epoch      57, train loss   16.0766170728, avg lr = 0.00075\n",
      "Epoch      58, train loss   14.9217427540, avg lr = 0.00075\n",
      "Epoch      59, train loss    4.0045997703, avg lr = 0.0007472222222222223\n",
      "Epoch      60, train loss   15.6154011678, avg lr = 0.0007361111111111111\n",
      "Epoch      61, train loss    4.8659248668, avg lr = 0.0007361111111111111\n",
      "Epoch      62, train loss   24.0930101639, avg lr = 0.0007361111111111111\n",
      "Epoch      63, train loss   12.1166562744, avg lr = 0.0007027777777777778\n",
      "Epoch      64, train loss    8.4233333550, avg lr = 0.000652777777777778\n",
      "Epoch      65, train loss   11.9876612331, avg lr = 0.000652777777777778\n",
      "Epoch      66, train loss   25.5334350963, avg lr = 0.000652777777777778\n",
      "Epoch      67, train loss   28.9169535323, avg lr = 0.000652777777777778\n",
      "Epoch      68, train loss    5.4670694341, avg lr = 0.000652777777777778\n",
      "Epoch      69, train loss    4.5058041156, avg lr = 0.0006472222222222223\n",
      "Epoch      70, train loss    4.2344012280, avg lr = 0.0006250000000000001\n",
      "Epoch      71, train loss    5.8231829194, avg lr = 0.0006111111111111112\n",
      "Epoch      72, train loss    6.2483348065, avg lr = 0.0006111111111111112\n",
      "Epoch      73, train loss   18.5642265939, avg lr = 0.0006027777777777778\n",
      "Epoch      74, train loss   16.3659500288, avg lr = 0.0005555555555555558\n",
      "Epoch      75, train loss   15.2414468988, avg lr = 0.0005555555555555558\n",
      "Epoch      76, train loss    9.7948164883, avg lr = 0.0005555555555555558\n",
      "Epoch      77, train loss    4.6384802094, avg lr = 0.0005555555555555558\n",
      "Epoch      78, train loss    1.8124145391, avg lr = 0.000552777777777778\n",
      "Epoch      79, train loss    2.4868939879, avg lr = 0.0005416666666666669\n",
      "Epoch      80, train loss    3.9111247717, avg lr = 0.000513888888888889\n",
      "Epoch      81, train loss    5.2648704999, avg lr = 0.000513888888888889\n",
      "Epoch      82, train loss    6.0861425040, avg lr = 0.000513888888888889\n",
      "Epoch      83, train loss    3.1610544697, avg lr = 0.0005111111111111113\n",
      "Epoch      84, train loss    2.8302716008, avg lr = 0.0005000000000000001\n",
      "Epoch      85, train loss    4.6921264175, avg lr = 0.0005000000000000001\n",
      "Epoch      86, train loss    4.7597403563, avg lr = 0.0005000000000000001\n",
      "Epoch      87, train loss    7.5050715401, avg lr = 0.0005000000000000001\n",
      "Epoch      88, train loss    5.6309754054, avg lr = 0.0004944444444444446\n",
      "Epoch      89, train loss   14.2287847508, avg lr = 0.0004750000000000001\n",
      "Epoch      90, train loss    4.5621691104, avg lr = 0.0004305555555555556\n",
      "Epoch      91, train loss    3.7566058366, avg lr = 0.00042777777777777785\n",
      "Epoch      92, train loss    5.6893657305, avg lr = 0.00041666666666666675\n",
      "Epoch      93, train loss    0.9593155128, avg lr = 0.0004152777777777778\n",
      "Epoch      94, train loss    1.0668882592, avg lr = 0.0004097222222222223\n",
      "Epoch      95, train loss    1.1353869183, avg lr = 0.0004097222222222223\n",
      "Epoch      96, train loss    0.8489118771, avg lr = 0.0004097222222222223\n",
      "Epoch      97, train loss    0.6825000048, avg lr = 0.0004097222222222223\n",
      "Epoch      98, train loss    0.9132076719, avg lr = 0.0004097222222222223\n",
      "Epoch      99, train loss    2.4218215384, avg lr = 0.0004097222222222223\n"
     ]
    }
   ],
   "source": [
    "# %%timeit -n 1 -r 1\n",
    "\n",
    "train_kspace = False\n",
    "LOSS_LIST = []\n",
    "\n",
    "nepoch = 100\n",
    "for epoch in range(nepoch):\n",
    "\n",
    "    if epoch >= 1000:\n",
    "        train_kspace = True\n",
    "\n",
    "    if not train_kspace:\n",
    "        # Train against real space targets\n",
    "        LOSS = 0\n",
    "        lr = []\n",
    "        for ib, batch in enumerate(dataloader):\n",
    "            \n",
    "            model.train(True)\n",
    "            \n",
    "            for ik, key in enumerate(model.model):\n",
    "                optimizers[ik].zero_grad()\n",
    "            \n",
    "            pred = model.predict_batch(batch.descriptor, batch.target)\n",
    "            \n",
    "            # Compute the loss for each block\n",
    "            all_losses, epoch_loss = L2_loss(pred, batch.target, loss_per_block = True)\n",
    "    \n",
    "            # Total loss\n",
    "            epoch_loss = epoch_loss.item()\n",
    "            LOSS += epoch_loss\n",
    "    \n",
    "            # Loop through submodels and backpropagate\n",
    "            for ik, (loss, key) in enumerate(zip(all_losses, model.model)):\n",
    "                loss.backward(retain_graph = False)\n",
    "                torch.nn.utils.clip_grad_norm_(model.model[key].parameters(), 1)\n",
    "                optimizers[ik].step()\n",
    "                schedulers[ik].step(loss)\n",
    "                lr.append(schedulers[ik].get_last_lr())\n",
    "    else:\n",
    "        # Train against k-space targets\n",
    "    \n",
    "        LOSS = 0\n",
    "        lr = []\n",
    "        for ib, batch in enumerate(dataloader_k):\n",
    "\n",
    "            model.train(True)\n",
    "    \n",
    "            for ik, key in enumerate(model.model):\n",
    "                optimizers[ik].zero_grad()\n",
    "            \n",
    "            pred = model.predict_batch(batch.descriptor)\n",
    "            pred_kspace = TMap_bloch_sums(pred, phase, indices, kpts_idx, return_tensormap = True)\n",
    "            \n",
    "            # Compute the loss\n",
    "            loss = L2_loss(pred_kspace, batch.target, norm = 2*np.prod(dataset.kmesh[0]))\n",
    "    \n",
    "            # Total loss \n",
    "            epoch_loss = loss.item()\n",
    "            LOSS += epoch_loss\n",
    "                   \n",
    "            loss.backward(retain_graph = True)\n",
    "            torch.nn.utils.clip_grad_norm_(model.parameters(), 1)\n",
    "            for ik, key in enumerate(model.model):\n",
    "                optimizers[ik].step()\n",
    "                schedulers[ik].step(epoch_loss/len(model.model))\n",
    "                lr.append(schedulers[ik].get_last_lr())\n",
    "\n",
    "    if epoch >= 0: #% 10 == 0:\n",
    "        # print(f\"Epoch {epoch:>7d}, train loss on all blocks {epoch_loss:>15.10f}, train loss per prediction {np.sqrt(epoch_loss)/n_predictions:>6.5e}\")\n",
    "        # print(f\"Epoch {epoch:>7d}, train loss real {loss_real[-1]:>15.10f}\") #, train loss k {loss_k[-1]:>15.10f}, train loss per prediction {np.sqrt(epoch_loss)/n_predictions:>6.5e}\")\n",
    "        LOSS_LIST.append(LOSS)\n",
    "        print(f\"Epoch {epoch:>7d}, train loss {LOSS:>15.10f}, avg lr = {np.mean(lr)}\") #, train loss k {loss_k[-1]:>15.10f}, train loss per prediction {np.sqrt(epoch_loss)/n_predictions:>6.5e}\")"
   ]
  },
  {
   "cell_type": "code",
   "execution_count": 248,
   "id": "79239f4d-6feb-47ca-8927-80607762e976",
   "metadata": {},
   "outputs": [
    {
     "name": "stdout",
     "output_type": "stream",
     "text": [
      "[-1  6  1  0  6  2  0  0] 0.004239009844360395 3.225461508421634\n",
      "[-1  6  1  0  6  2  1  1] 2.763699504639493 0.26476040298980924\n",
      "[-1  6  2  0  6  2  1  1] 1.4648108965980395 0.23896006432465194\n",
      "[-1  6  2  1  6  2  1  1] 0.2745105154690156 0.3362838534700777\n",
      "[0 6 1 0 6 1 0 0] 0.8413568715903756 0.008646469818762026\n",
      "[0 6 1 0 6 2 0 0] 0.2816123032638789 0.010519238054456596\n",
      "[0 6 1 0 6 2 1 1] 0.016164074612878908 1.107596709653799\n",
      "[0 6 2 0 6 2 0 0] 0.32056433344185253 0.032386121413119404\n",
      "[0 6 2 0 6 2 1 1] 0.0763899349732039 0.19424094401894412\n",
      "[0 6 2 1 6 2 1 0] 0.08502651688401347 0.028419030371375827\n",
      "[0 6 2 1 6 2 1 2] 0.07573189074466695 0.051794911637676765\n",
      "[1 6 1 0 6 1 0 0] 0.014840724051500378 39.16303015559414\n",
      "[1 6 1 0 6 2 0 0] 1.4676744834863051 0.23451526535405412\n",
      "[1 6 1 0 6 2 1 1] 0.00957162960281307 4.214663288393323\n",
      "[1 6 2 0 6 2 0 0] 1.7432176523285356 0.25341590328439134\n",
      "[1 6 2 0 6 2 1 1] 0.1239250889870734 0.30178068267267727\n",
      "[1 6 2 1 6 2 1 0] 0.29109619142961185 0.28523897732744574\n",
      "[1 6 2 1 6 2 1 2] 0.8273324155203383 0.2437407677415573\n"
     ]
    }
   ],
   "source": [
    "for (k, b1), b2 in zip(model().items(), target_coupled_blocks.blocks()):\n",
    "    \n",
    "    # print(k.values,torch.abs((b1.values-b2.values)/b2.values.std()).mean().item(), b2.values.norm().item(), b1.values.norm().item(), b2.values.std().item())\n",
    "    print(k.values,torch.norm(b1.values-b2.values).item(), (torch.norm(b1.values-b2.values)/torch.norm(b2.values)).item())"
   ]
  },
  {
   "cell_type": "code",
   "execution_count": 245,
   "id": "658c02a0-2d87-437a-a14c-a237539ac7c4",
   "metadata": {},
   "outputs": [
    {
     "name": "stdout",
     "output_type": "stream",
     "text": [
      "tensor(2.2933e-05, grad_fn=<MeanBackward0>)\n",
      "tensor(0.0010, grad_fn=<MeanBackward0>)\n",
      "tensor(0.0010, grad_fn=<MeanBackward0>)\n",
      "tensor(0.0003, grad_fn=<MeanBackward0>)\n",
      "tensor(0.0400, grad_fn=<MeanBackward0>)\n",
      "tensor(0.0151, grad_fn=<MeanBackward0>)\n",
      "tensor(0.0006, grad_fn=<MeanBackward0>)\n",
      "tensor(0.0237, grad_fn=<MeanBackward0>)\n",
      "tensor(0.0022, grad_fn=<MeanBackward0>)\n",
      "tensor(0.0055, grad_fn=<MeanBackward0>)\n",
      "tensor(0.0025, grad_fn=<MeanBackward0>)\n",
      "tensor(9.4167e-05, grad_fn=<MeanBackward0>)\n",
      "tensor(0.0014, grad_fn=<MeanBackward0>)\n",
      "tensor(1.7644e-05, grad_fn=<MeanBackward0>)\n",
      "tensor(0.0031, grad_fn=<MeanBackward0>)\n",
      "tensor(0.0001, grad_fn=<MeanBackward0>)\n",
      "tensor(0.0008, grad_fn=<MeanBackward0>)\n",
      "tensor(0.0006, grad_fn=<MeanBackward0>)\n"
     ]
    }
   ],
   "source": [
    "for b in mts.subtract(model(), target_coupled_blocks).blocks():\n",
    "    print(torch.abs(b.values).mean())"
   ]
  },
  {
   "cell_type": "code",
   "execution_count": 49,
   "id": "d1de51fa-a7f9-46d0-848a-2c53a8766968",
   "metadata": {},
   "outputs": [
    {
     "data": {
      "text/plain": [
       "[<matplotlib.lines.Line2D at 0x79903c284a90>]"
      ]
     },
     "execution_count": 49,
     "metadata": {},
     "output_type": "execute_result"
    },
    {
     "data": {
      "image/png": "[encoded data removed]",
      "text/plain": [
       "<Figure size 640x480 with 1 Axes>"
      ]
     },
     "metadata": {},
     "output_type": "display_data"
    }
   ],
   "source": [
    "plt.loglog(LOSS_LIST)"
   ]
  },
  {
   "cell_type": "code",
   "execution_count": 86,
   "id": "a1f6f322-1694-4a76-96a1-c6b7151c4b72",
   "metadata": {},
   "outputs": [
    {
     "name": "stdout",
     "output_type": "stream",
     "text": [
      "Epoch       0, train loss 5496.0295864783, avg lr = 0.001\n",
      "Epoch       1, train loss 4717.5638229153, avg lr = 0.001\n",
      "Epoch       2, train loss 4331.9782585512, avg lr = 0.001\n",
      "Epoch       3, train loss 4051.0466575342, avg lr = 0.001\n",
      "Epoch       4, train loss 3812.3163783132, avg lr = 0.001\n",
      "Epoch       5, train loss 3591.1969913513, avg lr = 0.001\n",
      "Epoch       6, train loss 3384.1479565959, avg lr = 0.001\n",
      "Epoch       7, train loss 3186.6593445958, avg lr = 0.001\n",
      "Epoch       8, train loss 2993.8159987875, avg lr = 0.001\n",
      "Epoch       9, train loss 2801.4397752083, avg lr = 0.001\n",
      "Epoch      10, train loss 2606.4725344421, avg lr = 0.001\n",
      "Epoch      11, train loss 2410.6770568707, avg lr = 0.001\n",
      "Epoch      12, train loss 2214.6587748237, avg lr = 0.001\n",
      "Epoch      13, train loss 2017.9251521149, avg lr = 0.001\n",
      "Epoch      14, train loss 1820.0987684940, avg lr = 0.001\n",
      "Epoch      15, train loss 1621.0406197192, avg lr = 0.001\n",
      "Epoch      16, train loss 1420.6902653086, avg lr = 0.001\n",
      "Epoch      17, train loss 1219.3441260079, avg lr = 0.001\n",
      "Epoch      18, train loss 1018.1978997645, avg lr = 0.001\n",
      "Epoch      19, train loss  820.1444041154, avg lr = 0.001\n",
      "Epoch      20, train loss  629.8965684515, avg lr = 0.001\n",
      "Epoch      21, train loss  454.4351755469, avg lr = 0.001\n",
      "Epoch      22, train loss  303.0426643494, avg lr = 0.001\n",
      "Epoch      23, train loss  178.2918526285, avg lr = 0.001\n",
      "Epoch      24, train loss   80.7689065689, avg lr = 0.001\n",
      "Epoch      25, train loss   24.4457153703, avg lr = 0.001\n",
      "Epoch      26, train loss   21.7386082831, avg lr = 0.001\n",
      "Epoch      27, train loss   57.3959069229, avg lr = 0.001\n",
      "Epoch      28, train loss  103.9588079248, avg lr = 0.001\n",
      "Epoch      29, train loss  139.5180911458, avg lr = 0.0008\n",
      "Epoch      30, train loss  150.1663731938, avg lr = 0.0008\n",
      "Epoch      31, train loss  135.1857292650, avg lr = 0.0008\n",
      "Epoch      32, train loss  100.2700583353, avg lr = 0.00064\n",
      "Epoch      33, train loss   54.8036767930, avg lr = 0.00064\n",
      "Epoch      34, train loss   21.4370274117, avg lr = 0.00064\n",
      "Epoch      35, train loss    6.0632402675, avg lr = 0.00064\n",
      "Epoch      36, train loss   17.2873386691, avg lr = 0.00064\n",
      "Epoch      37, train loss   30.7836086618, avg lr = 0.00064\n",
      "Epoch      38, train loss   30.9318740491, avg lr = 0.0005120000000000001\n",
      "Epoch      39, train loss   20.1316482605, avg lr = 0.0005120000000000001\n",
      "Epoch      40, train loss    9.6619251330, avg lr = 0.0005120000000000001\n",
      "Epoch      41, train loss    3.7666952778, avg lr = 0.0005120000000000001\n",
      "Epoch      42, train loss    5.3189067176, avg lr = 0.0005120000000000001\n",
      "Epoch      43, train loss    9.4566778551, avg lr = 0.0005120000000000001\n",
      "Epoch      44, train loss   10.8862682526, avg lr = 0.00040960000000000014\n",
      "Epoch      45, train loss    8.8379983721, avg lr = 0.00040960000000000014\n",
      "Epoch      46, train loss    5.8831520242, avg lr = 0.00040960000000000014\n",
      "Epoch      47, train loss    4.0665780908, avg lr = 0.0003276800000000001\n",
      "Epoch      48, train loss    4.0571528549, avg lr = 0.0003276800000000001\n",
      "Epoch      49, train loss    3.7350941244, avg lr = 0.0003276800000000001\n",
      "Epoch      50, train loss    2.4961239016, avg lr = 0.0003276800000000001\n",
      "Epoch      51, train loss    1.1383358110, avg lr = 0.0003276800000000001\n",
      "Epoch      52, train loss    1.0352851135, avg lr = 0.0003276800000000001\n",
      "Epoch      53, train loss    1.7205474602, avg lr = 0.0003276800000000001\n",
      "Epoch      54, train loss    1.8393518436, avg lr = 0.0003276800000000001\n",
      "Epoch      55, train loss    1.2407354713, avg lr = 0.0002621440000000001\n",
      "Epoch      56, train loss    0.6674993114, avg lr = 0.0002621440000000001\n",
      "Epoch      57, train loss    0.5481784618, avg lr = 0.0002621440000000001\n",
      "Epoch      58, train loss    0.4704003540, avg lr = 0.0002621440000000001\n",
      "Epoch      59, train loss    0.2974924793, avg lr = 0.0002621440000000001\n",
      "Epoch      60, train loss    0.4102868280, avg lr = 0.0002621440000000001\n",
      "Epoch      61, train loss    0.6253495866, avg lr = 0.0002621440000000001\n",
      "Epoch      62, train loss    0.5018216254, avg lr = 0.00020971520000000012\n",
      "Epoch      63, train loss    0.2611063858, avg lr = 0.00020971520000000012\n",
      "Unexpected exception formatting exception. Falling back to standard exception\n"
     ]
    },
    {
     "name": "stderr",
     "output_type": "stream",
     "text": [
      "Traceback (most recent call last):\n",
      "  File \"/home/pegolo/micromamba/envs/sci/lib/python3.11/site-packages/IPython/core/interactiveshell.py\", line 3553, in run_code\n",
      "    exec(code_obj, self.user_global_ns, self.user_ns)\n",
      "  File \"/tmp/ipykernel_382400/640400133.py\", line 25, in <module>\n",
      "    targ_kspace = TMap_bloch_sums(batch.target, phase, indices, kpts_idx, return_tensormap = True)\n",
      "                  ^^^^^^^^^^^^^^^^^^^^^^^^^^^^^^^^^^^^^^^^^^^^^^^^^^^^^^^^^^^^^^^^^^^^^^^^^^^^^^^^\n",
      "  File \"/home/pegolo/Software/mlelec/src/mlelec/utils/pbc_utils.py\", line None, in TMap_bloch_sums\n",
      "KeyboardInterrupt\n",
      "\n",
      "During handling of the above exception, another exception occurred:\n",
      "\n",
      "Traceback (most recent call last):\n",
      "  File \"/home/pegolo/micromamba/envs/sci/lib/python3.11/site-packages/IPython/core/interactiveshell.py\", line 2144, in showtraceback\n",
      "    stb = self.InteractiveTB.structured_traceback(\n",
      "          ^^^^^^^^^^^^^^^^^^^^^^^^^^^^^^^^^^^^^^^^\n",
      "  File \"/home/pegolo/micromamba/envs/sci/lib/python3.11/site-packages/IPython/core/ultratb.py\", line 1435, in structured_traceback\n",
      "    return FormattedTB.structured_traceback(\n",
      "           ^^^^^^^^^^^^^^^^^^^^^^^^^^^^^^^^^\n",
      "  File \"/home/pegolo/micromamba/envs/sci/lib/python3.11/site-packages/IPython/core/ultratb.py\", line 1326, in structured_traceback\n",
      "    return VerboseTB.structured_traceback(\n",
      "           ^^^^^^^^^^^^^^^^^^^^^^^^^^^^^^^\n",
      "  File \"/home/pegolo/micromamba/envs/sci/lib/python3.11/site-packages/IPython/core/ultratb.py\", line 1173, in structured_traceback\n",
      "    formatted_exception = self.format_exception_as_a_whole(etype, evalue, etb, number_of_lines_of_context,\n",
      "                          ^^^^^^^^^^^^^^^^^^^^^^^^^^^^^^^^^^^^^^^^^^^^^^^^^^^^^^^^^^^^^^^^^^^^^^^^^^^^^^^^\n",
      "  File \"/home/pegolo/micromamba/envs/sci/lib/python3.11/site-packages/IPython/core/ultratb.py\", line 1088, in format_exception_as_a_whole\n",
      "    frames.append(self.format_record(record))\n",
      "                  ^^^^^^^^^^^^^^^^^^^^^^^^^^\n",
      "  File \"/home/pegolo/micromamba/envs/sci/lib/python3.11/site-packages/IPython/core/ultratb.py\", line 970, in format_record\n",
      "    frame_info.lines, Colors, self.has_colors, lvals\n",
      "    ^^^^^^^^^^^^^^^^\n",
      "  File \"/home/pegolo/micromamba/envs/sci/lib/python3.11/site-packages/IPython/core/ultratb.py\", line 792, in lines\n",
      "    return self._sd.lines\n",
      "           ^^^^^^^^^^^^^^\n",
      "  File \"/home/pegolo/micromamba/envs/sci/lib/python3.11/site-packages/stack_data/utils.py\", line 144, in cached_property_wrapper\n",
      "    value = obj.__dict__[self.func.__name__] = self.func(obj)\n",
      "                                               ^^^^^^^^^^^^^^\n",
      "  File \"/home/pegolo/micromamba/envs/sci/lib/python3.11/site-packages/stack_data/core.py\", line 734, in lines\n",
      "    pieces = self.included_pieces\n",
      "             ^^^^^^^^^^^^^^^^^^^^\n",
      "  File \"/home/pegolo/micromamba/envs/sci/lib/python3.11/site-packages/stack_data/utils.py\", line 144, in cached_property_wrapper\n",
      "    value = obj.__dict__[self.func.__name__] = self.func(obj)\n",
      "                                               ^^^^^^^^^^^^^^\n",
      "  File \"/home/pegolo/micromamba/envs/sci/lib/python3.11/site-packages/stack_data/core.py\", line 681, in included_pieces\n",
      "    pos = scope_pieces.index(self.executing_piece)\n",
      "                             ^^^^^^^^^^^^^^^^^^^^\n",
      "  File \"/home/pegolo/micromamba/envs/sci/lib/python3.11/site-packages/stack_data/utils.py\", line 144, in cached_property_wrapper\n",
      "    value = obj.__dict__[self.func.__name__] = self.func(obj)\n",
      "                                               ^^^^^^^^^^^^^^\n",
      "  File \"/home/pegolo/micromamba/envs/sci/lib/python3.11/site-packages/stack_data/core.py\", line 660, in executing_piece\n",
      "    return only(\n",
      "           ^^^^^\n",
      "  File \"/home/pegolo/micromamba/envs/sci/lib/python3.11/site-packages/executing/executing.py\", line 116, in only\n",
      "    raise NotOneValueFound('Expected one value, found 0')\n",
      "executing.executing.NotOneValueFound: Expected one value, found 0\n"
     ]
    }
   ],
   "source": [
    "# %%timeit -n 1 -r 1\n",
    "\n",
    "train_kspace = False\n",
    "LOSS_LIST = []\n",
    "\n",
    "nepoch = 100\n",
    "for epoch in range(nepoch):\n",
    "\n",
    "    if epoch >= 100:\n",
    "        train_kspace = True\n",
    "\n",
    "    if not train_kspace:\n",
    "        # Train against real space targets\n",
    "        LOSS = 0\n",
    "        lr = []\n",
    "        for ib, batch in enumerate(dataloader):\n",
    "            \n",
    "            model.train(True)\n",
    "            \n",
    "            for ik, key in enumerate(model.model):\n",
    "                optimizers[ik].zero_grad()\n",
    "            \n",
    "            pred = model.predict_batch(batch.descriptor, batch.target)\n",
    "            pred_kspace = TMap_bloch_sums(pred, phase, indices, kpts_idx, return_tensormap = True)\n",
    "            targ_kspace = TMap_bloch_sums(batch.target, phase, indices, kpts_idx, return_tensormap = True)\n",
    "            # Compute the loss\n",
    "            loss = L2_loss(pred_kspace, targ_kspace, norm = 2*np.prod(dataset.kmesh[0]))\n",
    "    \n",
    "            # Total loss \n",
    "            epoch_loss = loss.item()\n",
    "            LOSS += epoch_loss\n",
    "                   \n",
    "            loss.backward(retain_graph = True)\n",
    "            torch.nn.utils.clip_grad_norm_(model.parameters(), 1)\n",
    "            for ik, key in enumerate(model.model):\n",
    "                optimizers[ik].step()\n",
    "                schedulers[ik].step(epoch_loss/len(model.model))\n",
    "                lr.append(schedulers[ik].get_last_lr())\n",
    "\n",
    "    if epoch >= 0: #% 10 == 0:\n",
    "        # print(f\"Epoch {epoch:>7d}, train loss on all blocks {epoch_loss:>15.10f}, train loss per prediction {np.sqrt(epoch_loss)/n_predictions:>6.5e}\")\n",
    "        # print(f\"Epoch {epoch:>7d}, train loss real {loss_real[-1]:>15.10f}\") #, train loss k {loss_k[-1]:>15.10f}, train loss per prediction {np.sqrt(epoch_loss)/n_predictions:>6.5e}\")\n",
    "        LOSS_LIST.append(LOSS)\n",
    "        print(f\"Epoch {epoch:>7d}, train loss {LOSS:>15.10f}, avg lr = {np.mean(lr)}\") #, train loss k {loss_k[-1]:>15.10f}, train loss per prediction {np.sqrt(epoch_loss)/n_predictions:>6.5e}\")"
   ]
  },
  {
   "cell_type": "code",
   "execution_count": 16,
   "id": "7cece61d-bd13-4771-8f9e-c05b3418f93f",
   "metadata": {},
   "outputs": [],
   "source": [
    "checkpoint = torch.load('/home/pegolo/Software/mlelec/examples/data/periodic/carbon_allotropes/model_6700epochs_10structures.ckpt')"
   ]
  },
  {
   "cell_type": "code",
   "execution_count": 17,
   "id": "30df24b3-db4c-497c-9368-24a98ad57c29",
   "metadata": {},
   "outputs": [],
   "source": [
    "from mlelec.models.linear import LinearModelPeriodic\n",
    "allo_model = LinearModelPeriodic(twocfeat = features, \n",
    "                                     target_blocks = target_coupled_blocks,\n",
    "                                     frames = dataset.structures, orbitals = dataset.basis, \n",
    "                                     device = device,\n",
    "                                     bias = True,\n",
    "                                     nhidden = 128, \n",
    "                                     nlayers = 2,\n",
    "                                     activation = 'SiLU',\n",
    "                                     apply_norm = True)\n",
    "allo_model = allo_model.double()"
   ]
  },
  {
   "cell_type": "code",
   "execution_count": 18,
   "id": "19277aa9-1d78-448c-9724-797502452c11",
   "metadata": {},
   "outputs": [
    {
     "data": {
      "text/plain": [
       "<All keys matched successfully>"
      ]
     },
     "execution_count": 18,
     "metadata": {},
     "output_type": "execute_result"
    }
   ],
   "source": [
    "allo_model.load_state_dict(checkpoint['model_state_dict'])"
   ]
  },
  {
   "cell_type": "code",
   "execution_count": 19,
   "id": "fe4279d5-0394-4676-857b-8448a21970f0",
   "metadata": {},
   "outputs": [],
   "source": [
    "pred_from_allo = allo_model.predict(features, target_coupled_blocks)"
   ]
  },
  {
   "cell_type": "code",
   "execution_count": 21,
   "id": "1e5ea0fb-cce5-4e35-bc20-50c16caee32f",
   "metadata": {},
   "outputs": [
    {
     "data": {
      "text/plain": [
       "tensor(44.3026, grad_fn=<AddBackward0>)"
      ]
     },
     "execution_count": 21,
     "metadata": {},
     "output_type": "execute_result"
    }
   ],
   "source": [
    "from mlelec.metrics import L2_loss\n",
    "L2_loss(pred_from_allo, target_coupled_blocks)"
   ]
  },
  {
   "cell_type": "code",
   "execution_count": 23,
   "id": "26325b7e-040f-4d35-a2ff-eef2c79c8c30",
   "metadata": {},
   "outputs": [
    {
     "data": {
      "text/plain": [
       "(<Figure size 1920x480 with 2 Axes>,\n",
       " <Axes: ylabel='|H| (a.u.)'>,\n",
       " <Axes: ylabel='$|H-\\\\tilde{H}|^2$  (a.u.)'>)"
      ]
     },
     "execution_count": 23,
     "metadata": {},
     "output_type": "execute_result"
    },
    {
     "data": {
      "image/png": "[encoded data removed]",
      "text/plain": [
       "<Figure size 1920x480 with 2 Axes>"
      ]
     },
     "metadata": {},
     "output_type": "display_data"
    }
   ],
   "source": [
    "# pred = allo_model()\n",
    "plot_block_errors(target_coupled_blocks, pred_from_allo, plot_loss=True)"
   ]
  },
  {
   "cell_type": "code",
   "execution_count": 24,
   "id": "6f08fcfc-1f14-45f6-9d5e-43e943d8794e",
   "metadata": {
    "scrolled": true
   },
   "outputs": [],
   "source": [
    "recon_HT = blocks_to_matrix(pred_from_allo, dataset)"
   ]
  },
  {
   "cell_type": "code",
   "execution_count": 25,
   "id": "2b02c88c-8ff0-43c2-a92d-4ae842dc7b79",
   "metadata": {},
   "outputs": [],
   "source": [
    "recon_Hk = dataset.bloch_sum(recon_HT)"
   ]
  },
  {
   "cell_type": "code",
   "execution_count": 26,
   "id": "b903ab4e-4647-4475-8709-fe190f71591e",
   "metadata": {},
   "outputs": [],
   "source": [
    "cutoff_overlaps = blocks_to_matrix(matrix_to_blocks(dataset, cutoff = cutoff, target='overlap'), dataset)"
   ]
  },
  {
   "cell_type": "code",
   "execution_count": 28,
   "id": "beec522e-1800-4ea5-9def-6283e011cdd2",
   "metadata": {},
   "outputs": [],
   "source": [
    "cutoff_target = blocks_to_matrix(matrix_to_blocks(dataset, cutoff = cutoff), dataset)"
   ]
  },
  {
   "cell_type": "code",
   "execution_count": 27,
   "id": "be94493a-f321-4838-833e-2d80a337152a",
   "metadata": {},
   "outputs": [],
   "source": [
    "recon_Sk = dataset.bloch_sum(cutoff_overlaps)"
   ]
  },
  {
   "cell_type": "code",
   "execution_count": 29,
   "id": "29f71b0e-44c5-4b04-b98f-d449ec534934",
   "metadata": {},
   "outputs": [],
   "source": [
    "cutoff_Hk = dataset.bloch_sum(cutoff_target)"
   ]
  },
  {
   "cell_type": "code",
   "execution_count": 30,
   "id": "435cd672-fc91-47fe-b484-9370fd4a1ed4",
   "metadata": {},
   "outputs": [],
   "source": [
    "from scipy.linalg import eigvalsh\n",
    "eigvals_target = {}\n",
    "eigvals_pred = {}\n",
    "for A in range(len(dataset)):\n",
    "    eigvals_target[A] = []\n",
    "    eigvals_pred[A] = []\n",
    "    for ik in range(len(dataset.fock_kspace[A])):\n",
    "        # eigvals_target[A].append(eigvalsh(dataset.fock_kspace[A][ik].numpy(), dataset.overlap_kspace[A][ik].numpy()))\n",
    "        eigvals_target[A].append(eigvalsh(cutoff_Hk[A][ik].detach().numpy(), recon_Sk[A][ik].detach().numpy()))\n",
    "        eigvals_pred[A].append(eigvalsh(recon_Hk[A][ik].detach().numpy(), recon_Sk[A][ik].detach().numpy()))"
   ]
  },
  {
   "cell_type": "code",
   "execution_count": 294,
   "id": "10d10d9d-cd92-4824-beaa-2190413efd92",
   "metadata": {},
   "outputs": [
    {
     "data": {
      "text/plain": [
       "<Popen: returncode: None args: ['/home/pegolo/micromamba/envs/sci/bin/python...>"
      ]
     },
     "execution_count": 294,
     "metadata": {},
     "output_type": "execute_result"
    }
   ],
   "source": [
    "view(dataset.structures)"
   ]
  },
  {
   "cell_type": "code",
   "execution_count": 38,
   "id": "0004f3ff-bd81-4d45-87d4-8dbb6813cc28",
   "metadata": {},
   "outputs": [
    {
     "data": {
      "text/plain": [
       "Text(0, 0.5, 'Predict. eigval (a.u.)')"
      ]
     },
     "execution_count": 38,
     "metadata": {},
     "output_type": "execute_result"
    },
    {
     "data": {
      "image/png": "[encoded data removed]",
      "text/plain": [
       "<Figure size 640x480 with 1 Axes>"
      ]
     },
     "metadata": {},
     "output_type": "display_data"
    }
   ],
   "source": [
    "for A in eigvals_target:\n",
    "    # if A != 2:\n",
    "        plt.plot(np.concatenate(eigvals_target[A]), np.concatenate(eigvals_pred[A]), '.', alpha = 0.2, label = A)\n",
    "plt.plot([-11,2], [-11,2])\n",
    "# plt.plot([-1,2], [-1,2])\n",
    "plt.legend()\n",
    "# plt.xlim(-9.78,-9.7)\n",
    "# plt.ylim(-9.78,-9.7)\n",
    "plt.xlim(-0.6,1.2)\n",
    "plt.ylim(-1,1.6)\n",
    "plt.xlabel('Traget eigval (a.u.)')\n",
    "plt.ylabel('Predict. eigval (a.u.)')"
   ]
  },
  {
   "cell_type": "code",
   "execution_count": 161,
   "id": "db07e158-4188-4995-b85a-09ab9e102563",
   "metadata": {},
   "outputs": [
    {
     "data": {
      "text/plain": [
       "720"
      ]
     },
     "execution_count": 161,
     "metadata": {},
     "output_type": "execute_result"
    }
   ],
   "source": [
    "sum(np.concatenate(eigvals_target)<-8)"
   ]
  },
  {
   "cell_type": "code",
   "execution_count": 162,
   "id": "1872ee76-b6f0-44b0-9145-833bb1f3999b",
   "metadata": {},
   "outputs": [
    {
     "data": {
      "text/plain": [
       "[]"
      ]
     },
     "execution_count": 162,
     "metadata": {},
     "output_type": "execute_result"
    },
    {
     "data": {
      "image/png": "[encoded data removed]",
      "text/plain": [
       "<Figure size 640x480 with 1 Axes>"
      ]
     },
     "metadata": {},
     "output_type": "display_data"
    }
   ],
   "source": [
    "plt.plot(np.concatenate(eigvals_target) - np.concatenate(eigvals_pred))\n",
    "plt.plot()"
   ]
  },
  {
   "cell_type": "code",
   "execution_count": 147,
   "id": "4ee0f013-21e3-4500-9fd4-fcab6491621f",
   "metadata": {},
   "outputs": [
    {
     "data": {
      "text/plain": [
       "<Popen: returncode: None args: ['/home/pegolo/micromamba/envs/sci/bin/python...>"
      ]
     },
     "execution_count": 147,
     "metadata": {},
     "output_type": "execute_result"
    }
   ],
   "source": [
    "view(frames)"
   ]
  },
  {
   "cell_type": "code",
   "execution_count": null,
   "id": "892612a9-7da1-4c64-a049-c8a9838b4308",
   "metadata": {},
   "outputs": [],
   "source": []
  },
  {
   "cell_type": "markdown",
   "id": "c949bc40-f9c1-428e-a240-787b8ac8e17a",
   "metadata": {},
   "source": [
    "# Meh"
   ]
  },
  {
   "cell_type": "code",
   "execution_count": 59,
   "id": "b53aaef2-7c6b-420e-9938-ceb474a9c8aa",
   "metadata": {},
   "outputs": [],
   "source": [
    "split_features, split_target = split_by_Aij(target_coupled_blocks, features = features)"
   ]
  },
  {
   "cell_type": "markdown",
   "id": "d6b33a7a-f2b6-424b-a974-2e3b73184b63",
   "metadata": {},
   "source": [
    "## Using tensormaps"
   ]
  },
  {
   "cell_type": "code",
   "execution_count": 65,
   "id": "eda452c7-f3ce-4699-a801-435a51cb0efa",
   "metadata": {},
   "outputs": [],
   "source": [
    "split_features, split_target = split_by_Aij_mts(target_coupled_blocks, features = features)"
   ]
  },
  {
   "cell_type": "code",
   "execution_count": 66,
   "id": "38900ab1-8d11-47b6-89d5-f184da2aae4c",
   "metadata": {},
   "outputs": [],
   "source": [
    "ml_data = IndexedDataset(descriptor = list(split_features.values()), target = list(split_target.values()), sample_id = list(split_target.keys()))"
   ]
  },
  {
   "cell_type": "code",
   "execution_count": 111,
   "id": "401203e3-4809-415a-a8d4-b89347c2e6a3",
   "metadata": {},
   "outputs": [],
   "source": [
    "batch_size = 20\n",
    "dataloader = DataLoader(ml_data, batch_size = batch_size, shuffle = True, collate_fn = lambda x: group_and_join_mts(x, join_kwargs = {'different_keys': 'union', 'remove_tensor_name': True}))"
   ]
  },
  {
   "cell_type": "code",
   "execution_count": 92,
   "id": "59794982-77a8-4ae4-b6cd-0176753165f3",
   "metadata": {},
   "outputs": [],
   "source": [
    "phase, indices, kpts_idx = precompute_phase(target_coupled_blocks, dataset, cutoff = cutoff)"
   ]
  },
  {
   "cell_type": "code",
   "execution_count": 112,
   "id": "37b9e355-1d5b-49f9-8c74-ac4a061b1c4a",
   "metadata": {},
   "outputs": [],
   "source": [
    "kmap = []\n",
    "for batch in dataloader:\n",
    "    kmap.append(TMap_bloch_sums(batch.target, phase, indices, kpts_idx, return_tensormap = True))"
   ]
  },
  {
   "cell_type": "markdown",
   "id": "0de63fb5-4aff-44fe-94ab-884ebf23bc72",
   "metadata": {},
   "source": [
    "## Debug"
   ]
  },
  {
   "cell_type": "code",
   "execution_count": 487,
   "id": "e00f07a9-d21d-4ed1-a446-cfb72bfe0787",
   "metadata": {},
   "outputs": [],
   "source": [
    "from mlelec.utils.plot_utils import block_matrix_norm, matrix_norm"
   ]
  },
  {
   "cell_type": "code",
   "execution_count": 498,
   "id": "1ac8b7b6-1c50-4f96-89f4-1c79444b9ccf",
   "metadata": {},
   "outputs": [],
   "source": [
    "rij, Hij = block_matrix_norm(target_coupled_blocks, dataset)"
   ]
  },
  {
   "cell_type": "code",
   "execution_count": 499,
   "id": "92ab01ef-365c-471c-ab10-a089c8557e16",
   "metadata": {},
   "outputs": [
    {
     "data": {
      "text/plain": [
       "<matplotlib.legend.Legend at 0x77339b3a2750>"
      ]
     },
     "execution_count": 499,
     "metadata": {},
     "output_type": "execute_result"
    },
    {
     "data": {
      "image/png": "[encoded data removed]",
      "text/plain": [
       "<Figure size 640x480 with 1 Axes>"
      ]
     },
     "metadata": {},
     "output_type": "display_data"
    }
   ],
   "source": [
    "for k in rij:\n",
    "    if k[0] == 1:\n",
    "        x = np.array(rij[k])\n",
    "        y = np.array(Hij[k])\n",
    "        plt.plot(x[x.argsort()], y[x.argsort()], '-', label = k)\n",
    "plt.legend(loc = 'center left', bbox_to_anchor = (1,0.5))"
   ]
  },
  {
   "cell_type": "code",
   "execution_count": null,
   "id": "ecbaa17b-a71d-4a81-b314-58d6bee64e32",
   "metadata": {},
   "outputs": [],
   "source": []
  },
  {
   "cell_type": "code",
   "execution_count": null,
   "id": "ffced8bb-440b-49d8-929e-d1b54f633fae",
   "metadata": {},
   "outputs": [],
   "source": []
  }
 ],
 "metadata": {
  "kernelspec": {
   "display_name": "Python 3 (ipykernel)",
   "language": "python",
   "name": "python3"
  },
  "language_info": {
   "codemirror_mode": {
    "name": "ipython",
    "version": 3
   },
   "file_extension": ".py",
   "mimetype": "text/x-python",
   "name": "python",
   "nbconvert_exporter": "python",
   "pygments_lexer": "ipython3",
   "version": "3.11.7"
  }
 },
 "nbformat": 4,
 "nbformat_minor": 5
}
