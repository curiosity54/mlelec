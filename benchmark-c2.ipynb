{
 "cells": [
  {
   "cell_type": "code",
   "execution_count": 1,
   "id": "a3d8f12c-62ee-4d46-b766-c3b49d817fe2",
   "metadata": {},
   "outputs": [],
   "source": [
    "%load_ext autoreload\n",
    "%autoreload 2\n",
    "%load_ext line_profiler"
   ]
  },
  {
   "cell_type": "code",
   "execution_count": 2,
   "id": "635a399b-c69b-4438-bac6-4ba0712d0d06",
   "metadata": {},
   "outputs": [
    {
     "name": "stderr",
     "output_type": "stream",
     "text": [
      "/home/pegolo/micromamba/envs/sci/lib/python3.11/site-packages/pyscf/dft/libxc.py:771: UserWarning: Since PySCF-2.3, B3LYP (and B3P86) are changed to the VWN-RPA variant, corresponding to the original definition by Stephens et al. (issue 1480) and the same as the B3LYP functional in Gaussian. To restore the VWN5 definition, you can put the setting \"B3LYP_WITH_VWN5 = True\" in pyscf_conf.py\n",
      "  warnings.warn('Since PySCF-2.3, B3LYP (and B3P86) are changed to the VWN-RPA variant, '\n"
     ]
    }
   ],
   "source": [
    "from ase.io import read\n",
    "from ase.visualize import view\n",
    "import matplotlib.pyplot as plt\n",
    "import numpy as np \n",
    "import torch \n",
    "torch.set_default_dtype(torch.float64)\n",
    "\n",
    "import rascaline.torch\n",
    "\n",
    "import metatensor.torch as mts\n",
    "\n",
    "from metatensor.torch import Labels, TensorBlock, TensorMap\n",
    "from metatensor.learn import IndexedDataset, DataLoader\n",
    "from metatensor.learn.data import group as mts_group, group_and_join as group_and_join_mts\n",
    "\n",
    "from mlelec.data.dataset import PySCFPeriodicDataset, split_by_Aij_mts\n",
    "from mlelec.utils.twocenter_utils import _to_coupled_basis, lowdin_orthogonalize\n",
    "from mlelec.utils.pbc_utils import matrix_to_blocks, kmatrix_to_blocks, TMap_bloch_sums, precompute_phase, kblocks_to_matrix, kmatrix_to_blocks, blocks_to_matrix, matrix_to_blocks\n",
    "from mlelec.utils.plot_utils import print_matrix, matrix_norm, block_matrix_norm, plot_block_errors\n",
    "from mlelec.features.acdc import compute_features\n",
    "from mlelec.utils.target_utils import get_targets\n",
    "from mlelec.models.linear import LinearModelPeriodic\n",
    "from mlelec.metrics import L2_loss, L2_loss_meanzero"
   ]
  },
  {
   "cell_type": "code",
   "execution_count": 3,
   "id": "f0131f6a-72a2-445e-9384-0ba95406c112",
   "metadata": {},
   "outputs": [],
   "source": [
    "device = 'cpu'\n",
    "\n",
    "orbitals = {\n",
    "    'sto-3g': {\n",
    "               6: [[1,0,0],[2,0,0],[2,1,-1], [2,1,0],[2,1,1]], \n",
    "              }, \n",
    "    \n",
    "}"
   ]
  },
  {
   "cell_type": "markdown",
   "id": "4565e211-ccbd-4c4a-bda5-a19add51680a",
   "metadata": {},
   "source": [
    "# Dataset"
   ]
  },
  {
   "cell_type": "code",
   "execution_count": null,
   "id": "e310df7d-b418-4296-a9f4-a8a41618b8d0",
   "metadata": {},
   "outputs": [],
   "source": []
  },
  {
   "cell_type": "code",
   "execution_count": 121,
   "id": "22b4f6dc-ae7c-4574-a82c-7d4b16a52d5d",
   "metadata": {},
   "outputs": [],
   "source": [
    "# workdir = './'\n",
    "workdir = '/home/pegolo/Software/mlelec/examples/data/periodic/c2-cp2k-benchmarks'\n",
    "START = 0 \n",
    "STOP = 5\n",
    "SKIP = 10\n",
    "ORBS = 'sto-3g'\n",
    "root = f'{workdir}'#/examples/data/periodic/c2/cp2k/sto-3g'\n",
    "data_dir = root\n",
    "\n",
    "frames = read(f'{data_dir}/C2_174.extxyz', slice(START, SKIP*STOP, SKIP))\n",
    "rfock = [np.load(f\"{data_dir}/C2_174_881_{i}/realfock_{i}.npy\", allow_pickle = True).item() for i in range(START, SKIP*STOP, SKIP)]\n",
    "rfock0 = [np.load(f\"{data_dir}/baseline/C2_174_881_{i}/realfock_{i}.npy\", allow_pickle = True).item() for i in range(START, SKIP*STOP, SKIP)]\n",
    "rover = [np.load(f\"{data_dir}/C2_174_881_{i}/realoverlap_{i}.npy\", allow_pickle = True).item() for i in range(START, SKIP*STOP, SKIP)]\n",
    "# rover0 = [np.load(f\"{data_dir}/baseline/C2_174_881_{i}/realoverlap_{i}.npy\", allow_pickle = True).item() for i in range(START, STOP)]\n",
    "kmesh = [8,8,1]\n",
    "\n",
    "for f in frames:\n",
    "    f.pbc = [True,True,False]\n",
    "    f.wrap(center = (0,0,0), eps = 1e-60)\n",
    "    f.pbc = True\n",
    "\n",
    "# for K, K0 in zip(rfock, rfock0):\n",
    "#     for T in K:\n",
    "#         K[T] = K[T] - K0[T]\n",
    "\n",
    "dataset = PySCFPeriodicDataset(frames = frames, \n",
    "                               kmesh = kmesh, \n",
    "                               dimension = 2,\n",
    "                               fock_realspace = rfock, \n",
    "                               overlap_realspace = rover, \n",
    "                               device = device, \n",
    "                               orbs = orbitals[ORBS], \n",
    "                               orbs_name = 'sto-3g')"
   ]
  },
  {
   "cell_type": "code",
   "execution_count": 122,
   "id": "087b8201-1535-4f07-98d1-58e41d86e305",
   "metadata": {},
   "outputs": [],
   "source": [
    "# workdir = './'\n",
    "workdir = '/home/pegolo/Software/mlelec/examples/data/periodic/c2-cp2k-benchmarks'\n",
    "START = 3\n",
    "STOP = 8\n",
    "SKIP = 10\n",
    "ORBS = 'sto-3g'\n",
    "root = f'{workdir}'#/examples/data/periodic/c2/cp2k/sto-3g'\n",
    "data_dir = root\n",
    "frames = read(f'{data_dir}/C2_174.extxyz', slice(START, SKIP*STOP, SKIP))\n",
    "rfock = [np.load(f\"{data_dir}/C2_174_881_{i}/realfock_{i}.npy\", allow_pickle = True).item() for i in range(START, SKIP*STOP, SKIP)]\n",
    "rfock0 = [np.load(f\"{data_dir}/baseline/C2_174_881_{i}/realfock_{i}.npy\", allow_pickle = True).item() for i in range(START, SKIP*STOP, SKIP)]\n",
    "rover = [np.load(f\"{data_dir}/C2_174_881_{i}/realoverlap_{i}.npy\", allow_pickle = True).item() for i in range(START, SKIP*STOP, SKIP)]\n",
    "# rover0 = [np.load(f\"{data_dir}/baseline/C2_174_881_{i}/realoverlap_{i}.npy\", allow_pickle = True).item() for i in range(START, STOP)]\n",
    "kmesh = [8,8,1]\n",
    "\n",
    "for f in frames:\n",
    "    f.pbc = [True,True,False]\n",
    "    f.wrap(center = (0,0,0), eps = 1e-60)\n",
    "    f.pbc = True\n",
    "\n",
    "# for K, K0 in zip(rfock, rfock0):\n",
    "#     for T in K:\n",
    "#         K[T] = K[T] - K0[T]\n",
    "\n",
    "testset = PySCFPeriodicDataset(frames = frames, \n",
    "                               kmesh = kmesh, \n",
    "                               dimension = 2,\n",
    "                               fock_realspace = rfock, \n",
    "                               overlap_realspace = rover, \n",
    "                               device = device, \n",
    "                               orbs = orbitals[ORBS], \n",
    "                               orbs_name = 'sto-3g')"
   ]
  },
  {
   "cell_type": "code",
   "execution_count": 76,
   "id": "4d6752ea-2772-4f13-94dc-478db7405fa0",
   "metadata": {},
   "outputs": [],
   "source": [
    "aaa = np.array([rfock0[i][0,0,0][0,0] - rfock[i][0,0,0][0,0] for i in range(174)])\n",
    "# np.random.shuffle(aaa)"
   ]
  },
  {
   "cell_type": "code",
   "execution_count": 77,
   "id": "6e265d75-438c-4029-918b-fd76685a071b",
   "metadata": {},
   "outputs": [
    {
     "data": {
      "image/png": "[encoded data removed]",
      "text/plain": [
       "<Figure size 640x480 with 1 Axes>"
      ]
     },
     "metadata": {},
     "output_type": "display_data"
    }
   ],
   "source": [
    "for i in range(174//40):\n",
    "    plt.hist(aaa[40*i:40*(i+1)], alpha = 0.5)"
   ]
  },
  {
   "cell_type": "code",
   "execution_count": 44,
   "id": "c7e353ee-eacc-4f16-a598-2c2d6538f083",
   "metadata": {},
   "outputs": [
    {
     "name": "stdout",
     "output_type": "stream",
     "text": [
      "[0, 20, 40, 60, 80]\n"
     ]
    },
    {
     "data": {
      "text/plain": [
       "slice(0, 100, 20)"
      ]
     },
     "execution_count": 44,
     "metadata": {},
     "output_type": "execute_result"
    }
   ],
   "source": [
    "print(list(range(START, SKIP*STOP, SKIP)))\n",
    "slice(START, SKIP*STOP, SKIP)"
   ]
  },
  {
   "cell_type": "code",
   "execution_count": 26,
   "id": "8da42564-e0ef-4ec8-8fb7-dc56b4a28156",
   "metadata": {},
   "outputs": [],
   "source": [
    "# for ifr in range(len(rover)):\n",
    "#     for T in rover[ifr]:\n",
    "#         print(ifr, T, np.linalg.norm(rover[ifr][T]- rover0[ifr][T]))"
   ]
  },
  {
   "cell_type": "code",
   "execution_count": 45,
   "id": "27ebf454-9c68-4a2f-b6b7-3815ad7f2823",
   "metadata": {},
   "outputs": [],
   "source": []
  },
  {
   "cell_type": "code",
   "execution_count": 123,
   "id": "db7ec4b2-4657-4c86-bd61-da05d274cbe5",
   "metadata": {},
   "outputs": [],
   "source": [
    "cutoff = 8\n",
    "SORT_ORBS = True\n",
    "target_blocks, target_coupled_blocks = get_targets(dataset, cutoff = cutoff, device = device, all_pairs = False, sort_orbs=SORT_ORBS)\n",
    "_, overlap_coupled_blocks = get_targets(dataset, cutoff = cutoff, device = device, target = 'overlap')\n"
   ]
  },
  {
   "cell_type": "code",
   "execution_count": 124,
   "id": "c29c04e1-c22f-4eb9-8e59-ecfe01658f41",
   "metadata": {},
   "outputs": [],
   "source": [
    "_, test_coupled_blocks = get_targets(testset, cutoff = cutoff, device = device, all_pairs = False, sort_orbs=SORT_ORBS)"
   ]
  },
  {
   "cell_type": "code",
   "execution_count": 125,
   "id": "15894e9e-7544-4cb5-8b10-c1a6e60b9f85",
   "metadata": {},
   "outputs": [],
   "source": [
    "rfock_diff = []\n",
    "for K, K0 in zip(rfock, rfock0):\n",
    "    rfock_diff.append({})\n",
    "    for T in K:\n",
    "        rfock_diff[-1][T] = K[T] -K0[T]\n"
   ]
  },
  {
   "cell_type": "code",
   "execution_count": 48,
   "id": "bdf6d8e4-5c4f-4196-962a-d0e200ea9fbf",
   "metadata": {},
   "outputs": [],
   "source": [
    "_, fock0_coupled_blocks = get_targets(dataset, cutoff = cutoff, device = device, all_pairs = False, sort_orbs=SORT_ORBS, matrix=rfock0 )\n"
   ]
  },
  {
   "cell_type": "code",
   "execution_count": 49,
   "id": "3e3d9e38-97fa-444f-b2b4-2a9aeb68e337",
   "metadata": {},
   "outputs": [],
   "source": [
    "target_blocks_base, target_coupled_blocks_base = get_targets(dataset, cutoff = cutoff, device = device, all_pairs = False, sort_orbs=SORT_ORBS, matrix=rfock_diff )"
   ]
  },
  {
   "cell_type": "code",
   "execution_count": 50,
   "id": "cb7a1ae6-961b-4517-83f5-b90ffab74157",
   "metadata": {},
   "outputs": [],
   "source": [
    "target_kspace = dataset.bloch_sum(blocks_to_matrix(target_coupled_blocks, dataset))\n",
    "target_kspace_base = dataset.bloch_sum(blocks_to_matrix(target_coupled_blocks_base, dataset))\n"
   ]
  },
  {
   "cell_type": "markdown",
   "id": "abeb3115-a7da-47ac-b9a6-7c95eadadbe6",
   "metadata": {},
   "source": [
    "# Features "
   ]
  },
  {
   "cell_type": "code",
   "execution_count": 126,
   "id": "bc694fab-5561-4db4-8509-8258a97a6594",
   "metadata": {},
   "outputs": [
    {
     "name": "stdout",
     "output_type": "stream",
     "text": [
      "cpu pair features\n",
      "cpu single center features\n",
      "cpu single center features\n"
     ]
    }
   ],
   "source": [
    "max_radial  = 6\n",
    "max_angular = 4\n",
    "atomic_gaussian_width = 0.3\n",
    "spline_basis = False\n",
    "\n",
    "hypers_pair = {'cutoff': cutoff,\n",
    "               'max_radial': max_radial,\n",
    "               'max_angular': max_angular,\n",
    "               'atomic_gaussian_width': atomic_gaussian_width,\n",
    "               'center_atom_weight': 1,\n",
    "               \"radial_basis\": {\"Gto\": {}},\n",
    "               \"cutoff_function\": {\"ShiftedCosine\": {\"width\": 0.1}}}\n",
    "\n",
    "\n",
    "hypers_atom = {'cutoff': 4,\n",
    "               'max_radial': max_radial,\n",
    "               'max_angular': max_angular,\n",
    "               'atomic_gaussian_width': atomic_gaussian_width,\n",
    "               'center_atom_weight': 1,\n",
    "               \"radial_basis\": {\"Gto\": {}},\n",
    "               \"cutoff_function\": {\"ShiftedCosine\": {\"width\": 0.1}}}\n",
    "\n",
    "\n",
    "return_rho0ij = False\n",
    "both_centers = False\n",
    "LCUT = 3\n",
    "\n",
    "hfeat = compute_features(dataset, hypers_atom, hypers_pair=hypers_pair, lcut = LCUT, all_pairs=False)"
   ]
  },
  {
   "cell_type": "code",
   "execution_count": 127,
   "id": "2ab15bd9-33cf-4869-908d-3b3a64b69c93",
   "metadata": {},
   "outputs": [
    {
     "name": "stdout",
     "output_type": "stream",
     "text": [
      "cpu pair features\n",
      "cpu single center features\n",
      "cpu single center features\n"
     ]
    }
   ],
   "source": [
    "hfeat_test = compute_features(testset, hypers_atom, hypers_pair=hypers_pair, lcut = LCUT, all_pairs=False)"
   ]
  },
  {
   "cell_type": "markdown",
   "id": "31d25541-4cdc-40b7-b5ee-ee751ca7cafd",
   "metadata": {},
   "source": [
    "# Model"
   ]
  },
  {
   "cell_type": "code",
   "execution_count": 52,
   "id": "d4983fb7-673e-451e-832a-6be5a25d62a6",
   "metadata": {},
   "outputs": [],
   "source": [
    "seed = 10\n",
    "torch.manual_seed(seed)\n",
    "np.random.seed(seed)\n",
    "      \n",
    "model = LinearModelPeriodic(twocfeat = hfeat, \n",
    "                            target_blocks = target_coupled_blocks,\n",
    "                            frames = dataset.structures, orbitals = dataset.basis, \n",
    "                            device = device,\n",
    "                            bias = False, #True\n",
    "                            nhidden = 32, \n",
    "                            nlayers = 1,\n",
    "                            # activation = 'SiLU',\n",
    "                            # apply_norm = True\n",
    "                           )\n",
    "\n",
    "model = model.double()"
   ]
  },
  {
   "cell_type": "markdown",
   "id": "03284892-0cc3-4d26-b0a0-e72f7795274f",
   "metadata": {},
   "source": [
    "## RIDGE models "
   ]
  },
  {
   "cell_type": "code",
   "execution_count": 117,
   "id": "c48696ec-8c5b-4d09-9bc6-de07553f972b",
   "metadata": {},
   "outputs": [],
   "source": [
    "def train_ridge(model, target_blocks, set_bias=False, alphas = None, kernel_ridge = False, alpha = None):\n",
    "    block_losses = {}\n",
    "    loss = 0\n",
    "    pred, ridges = model.fit_ridge_analytical(return_matrix = False, set_bias = set_bias, kernel_ridge = kernel_ridge, alphas = alphas, alpha = alpha)\n",
    "\n",
    "    for (key, block) in pred.items():\n",
    "        block_loss=torch.norm(block.values - target_blocks[key].values)**2\n",
    "        loss += block_loss\n",
    "        \n",
    "        block_losses[tuple(key.values)] = block_loss\n",
    "\n",
    "    # print(np.sum(list(block_losses.values())))\n",
    "    return loss, pred, ridges, block_losses#, kernels "
   ]
  },
  {
   "cell_type": "markdown",
   "id": "08a27a8e-9edc-4869-9dc5-443d9e6f04d7",
   "metadata": {},
   "source": [
    "### A - direct H(T)"
   ]
  },
  {
   "cell_type": "code",
   "execution_count": 128,
   "id": "36d603e5-c7ed-4df0-95ac-105f6bdd280c",
   "metadata": {},
   "outputs": [
    {
     "name": "stdout",
     "output_type": "stream",
     "text": [
      "tensor(4.2190e-05)\n"
     ]
    }
   ],
   "source": [
    "model_ridge = LinearModelPeriodic(twocfeat = hfeat, \n",
    "                                  target_blocks = target_coupled_blocks,\n",
    "                                  frames = dataset.structures, orbitals = dataset.basis, \n",
    "                                  device = device)\n",
    "\n",
    "model_ridge = model_ridge.double()\n",
    "loss_ridge_bias, pred_ridge_bias, ridges_bias, loss_blocks = train_ridge(model_ridge, \n",
    "                                                                         target_coupled_blocks,\n",
    "                                                                         set_bias = True,\n",
    "                                                                         kernel_ridge = False,\n",
    "                                                                         # alphas = np.logspace(-10, -2, 100),\n",
    "                                                                         alphas = np.logspace(-10, 1, 100),\n",
    "                                                                         # alpha = 1e-4\n",
    "                                                                        )\n",
    "print(loss_ridge_bias)"
   ]
  },
  {
   "cell_type": "code",
   "execution_count": 129,
   "id": "f6757ae9-3f6e-4659-b375-e15b2ca31913",
   "metadata": {},
   "outputs": [
    {
     "name": "stderr",
     "output_type": "stream",
     "text": [
      "/home/pegolo/Software/mlelec/src/mlelec/models/linear.py:757: UserWarning: Using train target_blocks, otherwise provide test target_blocks\n",
      "  warnings.warn('Using train target_blocks, otherwise provide test target_blocks')\n"
     ]
    }
   ],
   "source": [
    "pred_test_ridge = model_ridge.predict_ridge_analytical(ridges_bias, hfeat_test)"
   ]
  },
  {
   "cell_type": "code",
   "execution_count": 130,
   "id": "03520beb-5db7-4b3d-a0a7-7bd696f1f2f6",
   "metadata": {},
   "outputs": [
    {
     "data": {
      "text/plain": [
       "tensor(0.0037)"
      ]
     },
     "execution_count": 130,
     "metadata": {},
     "output_type": "execute_result"
    }
   ],
   "source": [
    "L2_loss(test_coupled_blocks, pred_test_ridge)"
   ]
  },
  {
   "cell_type": "markdown",
   "id": "fd6f021a-ce96-4c46-86c4-7a0ff2c7351b",
   "metadata": {},
   "source": [
    "### B. - baselined H(T)"
   ]
  },
  {
   "cell_type": "code",
   "execution_count": 55,
   "id": "74bf370f-7ef4-4b0f-a7c3-a9d0efe8772e",
   "metadata": {},
   "outputs": [
    {
     "name": "stdout",
     "output_type": "stream",
     "text": [
      "tensor(8.6237e-09)\n"
     ]
    },
    {
     "data": {
      "text/plain": [
       "tensor(8.6237e-09)"
      ]
     },
     "execution_count": 55,
     "metadata": {},
     "output_type": "execute_result"
    }
   ],
   "source": [
    "model_ridge = LinearModelPeriodic(twocfeat = hfeat, \n",
    "                                  target_blocks = target_coupled_blocks_base,\n",
    "                                  frames = dataset.structures, orbitals = dataset.basis, \n",
    "                                  device = device)\n",
    "\n",
    "model_ridge = model_ridge.double()\n",
    "loss_ridge_bias, pred_ridge_bias, ridges_bias, loss_blocks = train_ridge(model_ridge, \n",
    "                                                                         target_coupled_blocks_base,\n",
    "                                                                         set_bias = True,\n",
    "                                                                         kernel_ridge = False,\n",
    "                                                                         # alphas = np.logspace(-10, -2, 100),\n",
    "                                                                         alphas = np.logspace(-10, 1, 100),\n",
    "                                                                         # alpha = 1e-4\n",
    "                                                                        )\n",
    "print(loss_ridge_bias)\n",
    "pred_ht = mts.add(pred_ridge_bias, fock0_coupled_blocks)\n",
    "L2_loss(pred_ht, target_coupled_blocks)"
   ]
  },
  {
   "cell_type": "code",
   "execution_count": 131,
   "id": "c0fbe88b-8a83-46fc-a044-de7436b73086",
   "metadata": {},
   "outputs": [],
   "source": [
    "f=[]\n",
    "for i in range(7):\n",
    "    f.append(mts.load(f'features_{i*20}_{(i+1)*20}'))\n",
    "f.append(mts.load('../test/features_140_172'))\n",
    "np.random.seed(73)\n",
    "indices = np.arange(172)\n",
    "np.random.shuffle(indices)\n",
    "np.savetxt('random_indices.txt', indices, header = 'seed = 73', fmt = '%d')\n",
    "batched = {}\n",
    "for i in range(0,7):\n",
    "    selid = indices[i*20:20*(i+1)]\n",
    "    batched[i]=[]\n",
    "    for iid in selid:\n",
    "        # batched[i].append(iid)\n",
    "        batched[i].append(split_features[iid])\n",
    "batched[8]=[]\n",
    "selid = indices[140:]\n",
    "for iid in selid:\n",
    "    # batched[i].append(iid)\n",
    "    batched[i].append(split_features[iid])\n",
    "\n",
    "\n",
    "for i in batched.keys(): \n",
    "    features = mts.join(batched[i], axis='samples')\n",
    "    blocks = []\n",
    "    for k, b in features.items():\n",
    "            sample_values = b.samples.values\n",
    "            sample_values[:, 0] = sample_values[:, 6]\n",
    "            samples = mts.Labels(b.samples.names[:-1], sample_values[:, :-1])\n",
    "            blocks.append(mts.TensorBlock(\n",
    "            values = b.values,\n",
    "            samples = samples,\n",
    "            properties = b.properties,\n",
    "            components = b.components\n",
    "            ))\n",
    "    features = mts.TensorMap(features.keys, blocks)\n",
    "    features.save(f'features_{i*20}_{(i+1)*20}_seed73')"
   ]
  },
  {
   "cell_type": "code",
   "execution_count": null,
   "id": "ad70811b-2878-4c73-b373-6432f86dbb78",
   "metadata": {},
   "outputs": [],
   "source": []
  },
  {
   "cell_type": "code",
   "execution_count": 134,
   "id": "be570d19-f36f-4f86-aba5-25e760b995f4",
   "metadata": {},
   "outputs": [
    {
     "data": {
      "text/plain": [
       "\u001b[0;31mSignature:\u001b[0m   \u001b[0msave\u001b[0m\u001b[0;34m(\u001b[0m\u001b[0;34m*\u001b[0m\u001b[0margs\u001b[0m\u001b[0;34m,\u001b[0m \u001b[0;34m**\u001b[0m\u001b[0mkwargs\u001b[0m\u001b[0;34m)\u001b[0m\u001b[0;34m\u001b[0m\u001b[0;34m\u001b[0m\u001b[0m\n",
       "\u001b[0;31mType:\u001b[0m        OpOverloadPacket\n",
       "\u001b[0;31mString form:\u001b[0m metatensor.save\n",
       "\u001b[0;31mFile:\u001b[0m        ~/micromamba/envs/sci/lib/python3.11/site-packages/torch/_ops.py\n",
       "\u001b[0;31mDocstring:\u001b[0m   <no docstring>"
      ]
     },
     "metadata": {},
     "output_type": "display_data"
    }
   ],
   "source": [
    "from metatensor.torch import save\n",
    "save?"
   ]
  },
  {
   "cell_type": "markdown",
   "id": "8960211b-8b56-47ae-917d-a1b20f358cd5",
   "metadata": {},
   "source": [
    "### D. -  H(k)"
   ]
  },
  {
   "cell_type": "code",
   "execution_count": null,
   "id": "ea9411d3-698e-4d6a-939f-fae93d2979eb",
   "metadata": {},
   "outputs": [],
   "source": []
  },
  {
   "cell_type": "code",
   "execution_count": null,
   "id": "1649685c-b14d-450a-8a7b-b08210d12f62",
   "metadata": {},
   "outputs": [],
   "source": []
  },
  {
   "cell_type": "markdown",
   "id": "57cfebb1-b09a-4b5c-bfeb-68005c619d90",
   "metadata": {},
   "source": [
    "### E. - baselined H(k)"
   ]
  },
  {
   "cell_type": "code",
   "execution_count": null,
   "id": "0e606bc8-b74a-46dc-9113-251c8d7830dd",
   "metadata": {},
   "outputs": [],
   "source": []
  },
  {
   "cell_type": "code",
   "execution_count": null,
   "id": "aebb3329-15f3-4cf2-8591-4c0708f1860f",
   "metadata": {},
   "outputs": [],
   "source": []
  },
  {
   "cell_type": "markdown",
   "id": "a4a4852d-758c-4755-8d47-959cd1b0fd51",
   "metadata": {},
   "source": [
    "## Torch"
   ]
  },
  {
   "cell_type": "code",
   "execution_count": 58,
   "id": "6e890ddb-0fa1-4aaa-a746-4d592b216432",
   "metadata": {},
   "outputs": [],
   "source": [
    "split_by_axis = \"samples\"\n",
    "split_by_dimension = \"structure\"\n",
    "\n",
    "split_by_axis = \"samples\"\n",
    "split_by_dimension = \"structure\"\n",
    "\n",
    "grouped_labels = [mts.Labels(names = split_by_dimension, values = torch.tensor([A])) for A in mts.unique_metadata(target_coupled_blocks,\n",
    "                                                                                                                  axis = split_by_axis,\n",
    "                                                                                                                  names = split_by_dimension)]\n",
    "split_target = mts.split(target_coupled_blocks, split_by_axis, grouped_labels)\n",
    "\n",
    "grouped_labels = [mts.Labels(names = split_by_dimension, values = torch.tensor([A])) for A in mts.unique_metadata(overlap_coupled_blocks,\n",
    "                                                                                                                  axis = split_by_axis,\n",
    "                                                                                                                  names = split_by_dimension)]\n",
    "#split_overlaps = mts.split(overlap_coupled_blocks, split_by_axis, grouped_labels)\n",
    "\n",
    "grouped_labels = [mts.Labels(names = split_by_dimension, values = torch.tensor([A])) for A in mts.unique_metadata(hfeat, axis = split_by_axis,\n",
    "                                                                                                                  names = split_by_dimension)]\n",
    "split_features = mts.split(hfeat, split_by_axis, grouped_labels)\n",
    "\n",
    "ml_data = IndexedDataset(descriptor = split_features,\n",
    "                         target = split_target,\n",
    "                         target_k = target_kspace,\n",
    "                         sample_id = [g.values.tolist()[0][0] for g in grouped_labels])\n",
    "\n",
    "batch_size = 1\n",
    "\n",
    "from metatensor.learn import DataLoader\n",
    "dataloader = DataLoader(ml_data,\n",
    "                        batch_size = batch_size,\n",
    "                        shuffle = True,\n",
    "                        collate_fn = lambda x: group_and_join_mts(x, join_kwargs = {'different_keys': 'union', 'remove_tensor_name': True}))\n"
   ]
  },
  {
   "cell_type": "code",
   "execution_count": 133,
   "id": "9c22b6c8-6702-455f-a472-af5565ca1022",
   "metadata": {},
   "outputs": [
    {
     "data": {
      "text/plain": [
       "\u001b[0;31mSignature:\u001b[0m\n",
       "\u001b[0mgroup_and_join_mts\u001b[0m\u001b[0;34m(\u001b[0m\u001b[0;34m\u001b[0m\n",
       "\u001b[0;34m\u001b[0m    \u001b[0mbatch\u001b[0m\u001b[0;34m:\u001b[0m \u001b[0mList\u001b[0m\u001b[0;34m[\u001b[0m\u001b[0mNamedTuple\u001b[0m\u001b[0;34m]\u001b[0m\u001b[0;34m,\u001b[0m\u001b[0;34m\u001b[0m\n",
       "\u001b[0;34m\u001b[0m    \u001b[0mfields_to_join\u001b[0m\u001b[0;34m:\u001b[0m \u001b[0mOptional\u001b[0m\u001b[0;34m[\u001b[0m\u001b[0mList\u001b[0m\u001b[0;34m[\u001b[0m\u001b[0mstr\u001b[0m\u001b[0;34m]\u001b[0m\u001b[0;34m]\u001b[0m \u001b[0;34m=\u001b[0m \u001b[0;32mNone\u001b[0m\u001b[0;34m,\u001b[0m\u001b[0;34m\u001b[0m\n",
       "\u001b[0;34m\u001b[0m    \u001b[0mjoin_kwargs\u001b[0m\u001b[0;34m:\u001b[0m \u001b[0mOptional\u001b[0m\u001b[0;34m[\u001b[0m\u001b[0mdict\u001b[0m\u001b[0;34m]\u001b[0m \u001b[0;34m=\u001b[0m \u001b[0;32mNone\u001b[0m\u001b[0;34m,\u001b[0m\u001b[0;34m\u001b[0m\n",
       "\u001b[0;34m\u001b[0m\u001b[0;34m)\u001b[0m \u001b[0;34m->\u001b[0m \u001b[0;34m<\u001b[0m\u001b[0mfunction\u001b[0m \u001b[0mNamedTuple\u001b[0m \u001b[0mat\u001b[0m \u001b[0;36m0x7ecca872efc0\u001b[0m\u001b[0;34m>\u001b[0m\u001b[0;34m\u001b[0m\u001b[0;34m\u001b[0m\u001b[0m\n",
       "\u001b[0;31mDocstring:\u001b[0m\n",
       "Collates a minibatch by grouping the data for each fields, joining tensors\n",
       "along the samples axis, and returning a named tuple.\n",
       "\n",
       "Similar in functionality to the generic :py:func:`group`, but instead data\n",
       "fields that are :py:class:`torch.Tensor` objects are vertically stacked, and\n",
       ":py:class:`TensorMap` objects are joined along the samples axis.\n",
       "\n",
       "`batch` is a list of named tuples. Each has a number of fields that\n",
       "correspond to different named data fields. These data fields can be\n",
       "arbitrary objects, such as :py:class:`torch.Tensor`,\n",
       ":py:class:`atomistic.Systems`, or :py:class:`TensorMap`.\n",
       "\n",
       "For each data field, the data object from each sample in the batch is\n",
       "collated into a list, except where the data field is a list of\n",
       ":py:class:`torch.Tensor` or :py:class:`TensorMap` objects. In this case, the\n",
       "tensors are joined along the samples axis. If torch tensors, all must be of\n",
       "the same size. In the case of TensorMaps, the union of sparse keys are\n",
       "taken.\n",
       "\n",
       "Returned is a new named tuple with the same fields as the each sample in the\n",
       "`batch`, but with the sample data collated for each respective field. The\n",
       "sample indices in the minibatch are in the first field of the named tuple\n",
       "under \"sample_indices\".\n",
       "\n",
       ":param batch: list of named tuples for each sample in the batch.\n",
       ":param fields_to_join: list of data field names to join. If None, all fields\n",
       "    that can be joined are joined, i.e. those comprised of\n",
       "    :py:class:`torch.Tensor` or :py:class:`TensorMap` objects. Any names\n",
       "    passed that are either invalid or are names of fields that aren't these\n",
       "    types will be silently ignored.\n",
       ":param join_kwargs: keyword arguments passed to the\n",
       "    :py:func:`metatensor.join` function, to be used when joining data fields\n",
       "    comprised of :py:class:`TensorMap` objects. If none, the defaults are\n",
       "    used - see the function documentation for details. The `axis=\"samples\"`\n",
       "    arg is set by default.\n",
       "\n",
       ":return: a named tuple, with the named fields the same as in the original\n",
       "    samples in the batch, but with the samples collated for each respective\n",
       "    field. If the data fields are :py:class:`torch.Tensor` or\n",
       "    :py:class:`TensorMap` objects, they are joined along the samples axis.\n",
       "\u001b[0;31mFile:\u001b[0m      ~/micromamba/envs/sci/lib/python3.11/site-packages/metatensor/learn/data/collate.py\n",
       "\u001b[0;31mType:\u001b[0m      function"
      ]
     },
     "metadata": {},
     "output_type": "display_data"
    }
   ],
   "source": []
  },
  {
   "cell_type": "code",
   "execution_count": null,
   "id": "797e7c7f-b498-4985-8cdc-f2de7817a26a",
   "metadata": {},
   "outputs": [],
   "source": []
  }
 ],
 "metadata": {
  "kernelspec": {
   "display_name": "Python 3 (ipykernel)",
   "language": "python",
   "name": "python3"
  },
  "language_info": {
   "codemirror_mode": {
    "name": "ipython",
    "version": 3
   },
   "file_extension": ".py",
   "mimetype": "text/x-python",
   "name": "python",
   "nbconvert_exporter": "python",
   "pygments_lexer": "ipython3",
   "version": "3.11.7"
  }
 },
 "nbformat": 4,
 "nbformat_minor": 5
}
