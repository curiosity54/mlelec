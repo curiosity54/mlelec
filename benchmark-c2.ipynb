{
 "cells": [
  {
   "cell_type": "code",
   "execution_count": 1,
   "id": "a3d8f12c-62ee-4d46-b766-c3b49d817fe2",
   "metadata": {},
   "outputs": [],
   "source": [
    "%load_ext autoreload\n",
    "%autoreload 2\n",
    "# %load_ext line_profiler"
   ]
  },
  {
   "cell_type": "code",
   "execution_count": 2,
   "id": "635a399b-c69b-4438-bac6-4ba0712d0d06",
   "metadata": {},
   "outputs": [],
   "source": [
    "import pathlib\n",
    "from ase.io import read\n",
    "from ase.visualize import view\n",
    "import matplotlib.pyplot as plt\n",
    "import numpy as np \n",
    "import torch \n",
    "torch.set_default_dtype(torch.float64)\n",
    "\n",
    "import rascaline.torch\n",
    "\n",
    "import metatensor.torch as mts\n",
    "\n",
    "from metatensor.torch import Labels, TensorBlock, TensorMap\n",
    "from metatensor.learn import IndexedDataset, DataLoader\n",
    "from metatensor.learn.data import group as mts_group, group_and_join as group_and_join_mts\n",
    "\n",
    "from mlelec.data.dataset import QMDataset, split_by_Aij_mts\n",
    "from mlelec.utils.twocenter_utils import _to_coupled_basis, lowdin_orthogonalize\n",
    "from mlelec.utils.pbc_utils import matrix_to_blocks, kmatrix_to_blocks, TMap_bloch_sums, precompute_phase, kblocks_to_matrix, kmatrix_to_blocks, blocks_to_matrix, matrix_to_blocks\n",
    "from mlelec.utils.plot_utils import print_matrix, matrix_norm, block_matrix_norm, plot_block_errors\n",
    "from mlelec.features.acdc import compute_features\n",
    "from mlelec.utils.target_utils import get_targets\n",
    "from mlelec.models.linear import LinearModelPeriodic\n",
    "# from mlelec.models.linear_integrated import LinearModelPeriodic\n",
    "from mlelec.metrics import L2_loss, L2_loss_meanzero"
   ]
  },
  {
   "cell_type": "code",
   "execution_count": null,
   "id": "c92377fc",
   "metadata": {},
   "outputs": [],
   "source": [
    "from mlelec.utils.metatensor_utils import sort_block_hack, sort_hack\n",
    "from mlelec.utils.pbc_utils import move_orbitals_to_keys"
   ]
  },
  {
   "cell_type": "code",
   "execution_count": 3,
   "id": "f0131f6a-72a2-445e-9384-0ba95406c112",
   "metadata": {},
   "outputs": [],
   "source": [
    "device = 'cpu'\n",
    "\n",
    "orbitals = {\n",
    "    'sto-3g': {\n",
    "               6: [[1,0,0],[2,0,0],[2,1,-1], [2,1,0],[2,1,1]], \n",
    "              }, \n",
    "    \n",
    "}"
   ]
  },
  {
   "cell_type": "markdown",
   "id": "4565e211-ccbd-4c4a-bda5-a19add51680a",
   "metadata": {},
   "source": [
    "# Dataset"
   ]
  },
  {
   "cell_type": "code",
   "execution_count": 144,
   "id": "22b4f6dc-ae7c-4574-a82c-7d4b16a52d5d",
   "metadata": {},
   "outputs": [],
   "source": [
    "# workdir = './\n",
    "\n",
    "workdir = f'{pathlib.Path().resolve()}/examples/data/periodic/c2-cp2k-benchmarks'\n",
    "START = 0 \n",
    "STOP = 2\n",
    "SKIP = 1\n",
    "ORBS = 'sto-3g'\n",
    "root = f'{workdir}'#/examples/data/periodic/c2/cp2k/sto-3g'\n",
    "data_dir = root\n",
    "\n",
    "frames = read(f'{data_dir}/C2_174.extxyz', slice(START, SKIP*STOP, SKIP))\n",
    "rfock = [np.load(f\"{data_dir}/C2_174_881_{i}/realfock_{i}.npy\", allow_pickle = True).item() for i in range(START, SKIP*STOP, SKIP)]\n",
    "rfock0_target = [np.load(f\"{data_dir}/baseline/C2_174_881_{i}/realfock_{i}.npy\", allow_pickle = True).item() for i in range(START, SKIP*STOP, SKIP)]\n",
    "rover = [np.load(f\"{data_dir}/C2_174_881_{i}/realoverlap_{i}.npy\", allow_pickle = True).item() for i in range(START, SKIP*STOP, SKIP)]\n",
    "# rover0 = [np.load(f\"{data_dir}/baseline/C2_174_881_{i}/realoverlap_{i}.npy\", allow_pickle = True).item() for i in range(START, STOP)]\n",
    "kmesh = [8,8,1]\n",
    "\n",
    "for f in frames:\n",
    "    f.pbc = [True,True,False]\n",
    "    f.wrap(center = (0,0,0), eps = 1e-60)\n",
    "    f.pbc = True\n",
    "\n",
    "# for K, K0 in zip(rfock, rfock0):\n",
    "#     for T in K:\n",
    "#         K[T] = K[T] - K0[T]\n",
    "rfock_diff_target = []\n",
    "for K, K0 in zip(rfock, rfock0_target):\n",
    "    rfock_diff_target.append({})\n",
    "    for T in K:\n",
    "        rfock_diff_target[-1][T] = K[T] -K0[T]\n",
    "        \n",
    "dataset = QMDataset(frames = frames, \n",
    "                               kmesh = kmesh, \n",
    "                               dimension = 2,\n",
    "                               fock_realspace = rfock, \n",
    "                               overlap_realspace = rover, \n",
    "                               device = device, \n",
    "                               orbs = orbitals[ORBS], \n",
    "                               orbs_name = 'sto-3g')"
   ]
  },
  {
   "cell_type": "code",
   "execution_count": 149,
   "id": "7829545a-3757-4695-9e3e-63d2ca576a6d",
   "metadata": {},
   "outputs": [
    {
     "name": "stdout",
     "output_type": "stream",
     "text": [
      "False False passed\n",
      "False True passed\n",
      "True False passed\n",
      "True True passed\n"
     ]
    }
   ],
   "source": [
    "cutoff = 20\n",
    "for ALL_PAIRS in [False,True]:\n",
    "    for SORT_ORBS in [False, True]:\n",
    "        try:\n",
    "            blocks = matrix_to_blocks(dataset, cutoff = cutoff, all_pairs = ALL_PAIRS, sort_orbs=SORT_ORBS)\n",
    "            rht = blocks_to_matrix(blocks, dataset, all_pairs=ALL_PAIRS, sort_orbs=SORT_ORBS)        \n",
    "            for ifr in range(len(dataset.fock_realspace)):\n",
    "                for T in dataset.fock_realspace[ifr]:\n",
    "                    # print(np.linalg.norm(kfock[ifr][ik] -kfock[ifr][ik].conj().T))\n",
    "                    # print(np.linalg.norm(kfock[ifr][ik]-rhk[ifr][ik].numpy()))\n",
    "                    assert (np.linalg.norm(dataset.fock_realspace[ifr][T]-rht[ifr][T].numpy()))<1e-10, (ALL_PAIRS, SORT_ORBS,np.linalg.norm(dataset.fock_realspace[ifr][T]-rht[ifr][T].numpy()))\n",
    "            print(ALL_PAIRS, SORT_ORBS, 'passed')\n",
    "        except Exception as e:\n",
    "            print(e)\n",
    "            print(ALL_PAIRS, SORT_ORBS, 'failed - moving on')\n",
    "            continue"
   ]
  },
  {
   "cell_type": "code",
   "execution_count": 346,
   "id": "41017e74-17c2-4f3d-80c3-31a3a387477d",
   "metadata": {},
   "outputs": [
    {
     "name": "stdout",
     "output_type": "stream",
     "text": [
      "True True passed\n",
      "True False passed\n",
      "False True passed\n",
      "False False passed\n"
     ]
    }
   ],
   "source": [
    "for ALL_PAIRS in [True, False]:\n",
    "    for SORT_ORBS in [True, False]:\n",
    "        try:\n",
    "            kblocks = kmatrix_to_blocks(dataset, cutoff = cutoff, all_pairs = ALL_PAIRS, sort_orbs=SORT_ORBS)\n",
    "            rhk = kblocks_to_matrix(kblocks, dataset, all_pairs=ALL_PAIRS, sort_orbs=SORT_ORBS)        \n",
    "            for ifr in range(len(dataset.fock_kspace)):\n",
    "                for ik in range(len(dataset.fock_kspace[ifr])):\n",
    "                    # print(np.linalg.norm(kfock[ifr][ik] -kfock[ifr][ik].conj().T))\n",
    "                    # print(np.linalg.norm(kfock[ifr][ik]-rhk[ifr][ik].numpy()))\n",
    "                    assert (np.linalg.norm(dataset.fock_kspace[ifr][ik]-rhk[ifr][ik].numpy()))<1e-13, (ALL_PAIRS, SORT_ORBS,np.linalg.norm(dataset.fock_kspace[ifr][ik]-rhk[ifr][ik].numpy()))\n",
    "            print(ALL_PAIRS, SORT_ORBS, 'passed')\n",
    "        except Exception as e:\n",
    "            print(e)\n",
    "            print(ALL_PAIRS, SORT_ORBS, 'failed - moving on')\n",
    "            continue"
   ]
  },
  {
   "cell_type": "code",
   "execution_count": null,
   "id": "6b28a34e-a9bb-4609-844a-2b6556b760a2",
   "metadata": {},
   "outputs": [],
   "source": []
  },
  {
   "cell_type": "code",
   "execution_count": 347,
   "id": "6749e858-0dd1-4c9a-bd67-1209f9f75769",
   "metadata": {
    "scrolled": true
   },
   "outputs": [
    {
     "name": "stderr",
     "output_type": "stream",
     "text": [
      "/media/nigam/b5749eb7-d3f1-4495-adeb-2c318fb7d0de/MAC/mlelec/src/mlelec/utils/pbc_utils.py:1582: SyntaxWarning: invalid escape sequence '\\d'\n",
      "  \n"
     ]
    }
   ],
   "source": [
    "# blocks = matrix_to_blocks(dataset, cutoff = cutoff, all_pairs = False, sort_orbs=True)\n",
    "kblocks = kmatrix_to_blocks(dataset, cutoff = cutoff, all_pairs = False, sort_orbs=True)\n",
    "rhk = kblocks_to_matrix(kblocks, dataset, all_pairs=False, sort_orbs=True)        "
   ]
  },
  {
   "cell_type": "code",
   "execution_count": 340,
   "id": "b220c2dd-4c37-4f7c-b6bc-12a29db62aac",
   "metadata": {},
   "outputs": [
    {
     "name": "stdout",
     "output_type": "stream",
     "text": [
      "LabelsEntry(block_type=1, species_i=6, n_i=1, l_i=0, species_j=6, n_j=2, l_j=0)\n",
      "LabelsEntry(structure=0, center=0, neighbor=0, kpoint=1)\n"
     ]
    },
    {
     "data": {
      "text/plain": [
       "tensor([[[-2.8136+0.j]]])"
      ]
     },
     "execution_count": 340,
     "metadata": {},
     "output_type": "execute_result"
    }
   ],
   "source": [
    "print(kblocks.keys[2])\n",
    "print(kblocks[2].samples[3])\n",
    "kblocks[2].values[3]/(np.sqrt(2))"
   ]
  },
  {
   "cell_type": "code",
   "execution_count": null,
   "id": "75650aef-1579-4f9c-b713-1504fdc07292",
   "metadata": {},
   "outputs": [],
   "source": []
  },
  {
   "cell_type": "code",
   "execution_count": 337,
   "id": "708690ab-f5db-4f63-b6a4-e2ae9c98c3aa",
   "metadata": {
    "scrolled": true
   },
   "outputs": [
    {
     "data": {
      "text/plain": [
       "Labels(\n",
       "    structure  center  neighbor  kpoint\n",
       "        0        0        1        0\n",
       "        0        0        1        1\n",
       "        0        0        1        2\n",
       "        0        0        1        3\n",
       "        0        0        1        4\n",
       "        0        0        1        5\n",
       "        0        0        1        6\n",
       "        0        0        1        7\n",
       "        0        0        1        8\n",
       "        0        0        1        9\n",
       "        0        0        1        10\n",
       "        0        0        1        11\n",
       "        0        0        1        12\n",
       "        0        0        1        13\n",
       "        0        0        1        14\n",
       "        0        0        1        15\n",
       "        0        0        1        16\n",
       "        0        0        1        17\n",
       "        0        0        1        18\n",
       "        0        0        1        19\n",
       "        0        0        1        20\n",
       "        0        0        1        21\n",
       "        0        0        1        22\n",
       "        0        0        1        23\n",
       "        0        0        1        24\n",
       "        0        0        1        25\n",
       "        0        0        1        26\n",
       "        0        0        1        27\n",
       "        0        0        1        28\n",
       "        0        0        1        29\n",
       "        0        0        1        30\n",
       "        0        0        1        31\n",
       "        0        0        1        32\n",
       "        0        0        1        33\n",
       "        0        0        1        34\n",
       "        0        0        1        35\n",
       "        0        0        1        36\n",
       "        0        0        1        37\n",
       "        0        0        1        38\n",
       "        0        0        1        39\n",
       "        0        0        1        40\n",
       "        0        0        1        41\n",
       "        0        0        1        42\n",
       "        0        0        1        43\n",
       "        0        0        1        44\n",
       "        0        0        1        45\n",
       "        0        0        1        46\n",
       "        0        0        1        47\n",
       "        0        0        1        48\n",
       "        0        0        1        49\n",
       "        0        0        1        50\n",
       "        0        0        1        51\n",
       "        0        0        1        52\n",
       "        0        0        1        53\n",
       "        0        0        1        54\n",
       "        0        0        1        55\n",
       "        0        0        1        56\n",
       "        0        0        1        57\n",
       "        0        0        1        58\n",
       "        0        0        1        59\n",
       "        0        0        1        60\n",
       "        0        0        1        61\n",
       "        0        0        1        62\n",
       "        0        0        1        63\n",
       "        1        0        1        0\n",
       "        1        0        1        1\n",
       "        1        0        1        2\n",
       "        1        0        1        3\n",
       "        1        0        1        4\n",
       "        1        0        1        5\n",
       "        1        0        1        6\n",
       "        1        0        1        7\n",
       "        1        0        1        8\n",
       "        1        0        1        9\n",
       "        1        0        1        10\n",
       "        1        0        1        11\n",
       "        1        0        1        12\n",
       "        1        0        1        13\n",
       "        1        0        1        14\n",
       "        1        0        1        15\n",
       "        1        0        1        16\n",
       "        1        0        1        17\n",
       "        1        0        1        18\n",
       "        1        0        1        19\n",
       "        1        0        1        20\n",
       "        1        0        1        21\n",
       "        1        0        1        22\n",
       "        1        0        1        23\n",
       "        1        0        1        24\n",
       "        1        0        1        25\n",
       "        1        0        1        26\n",
       "        1        0        1        27\n",
       "        1        0        1        28\n",
       "        1        0        1        29\n",
       "        1        0        1        30\n",
       "        1        0        1        31\n",
       "        1        0        1        32\n",
       "        1        0        1        33\n",
       "        1        0        1        34\n",
       "        1        0        1        35\n",
       "        1        0        1        36\n",
       "        1        0        1        37\n",
       "        1        0        1        38\n",
       "        1        0        1        39\n",
       "        1        0        1        40\n",
       "        1        0        1        41\n",
       "        1        0        1        42\n",
       "        1        0        1        43\n",
       "        1        0        1        44\n",
       "        1        0        1        45\n",
       "        1        0        1        46\n",
       "        1        0        1        47\n",
       "        1        0        1        48\n",
       "        1        0        1        49\n",
       "        1        0        1        50\n",
       "        1        0        1        51\n",
       "        1        0        1        52\n",
       "        1        0        1        53\n",
       "        1        0        1        54\n",
       "        1        0        1        55\n",
       "        1        0        1        56\n",
       "        1        0        1        57\n",
       "        1        0        1        58\n",
       "        1        0        1        59\n",
       "        1        0        1        60\n",
       "        1        0        1        61\n",
       "        1        0        1        62\n",
       "        1        0        1        63\n",
       ")"
      ]
     },
     "execution_count": 337,
     "metadata": {},
     "output_type": "execute_result"
    }
   ],
   "source": [
    "kblocks[3].samples"
   ]
  },
  {
   "cell_type": "code",
   "execution_count": 321,
   "id": "888e9d6b-c637-492a-b379-593b7fac6602",
   "metadata": {},
   "outputs": [
    {
     "name": "stdout",
     "output_type": "stream",
     "text": [
      "LabelsEntry(block_type=-1, species_i=6, n_i=1, l_i=0, species_j=6, n_j=2, l_j=0)\n",
      "LabelsEntry(structure=0, center=0, neighbor=1, kpoint=1)\n",
      "LabelsEntry(structure=0, center=0, neighbor=1, kpoint=1)\n"
     ]
    }
   ],
   "source": [
    "print(kblocks.keys[3])\n",
    "print(kblocks[2].samples[4])\n",
    "print(kblocks[3].samples[1])"
   ]
  },
  {
   "cell_type": "code",
   "execution_count": 322,
   "id": "cb89c8c5-bad0-4cb4-9e30-2416c45c4c04",
   "metadata": {},
   "outputs": [
    {
     "data": {
      "text/plain": [
       "tensor([[[-1.3214-0.3358j]]])"
      ]
     },
     "execution_count": 322,
     "metadata": {},
     "output_type": "execute_result"
    }
   ],
   "source": [
    "(kblocks[2].values[4]+kblocks[3].values[1])/np.sqrt(2)"
   ]
  },
  {
   "cell_type": "code",
   "execution_count": 289,
   "id": "d79e2322-4572-4906-8c67-be7baf3bf7a0",
   "metadata": {},
   "outputs": [
    {
     "data": {
      "text/plain": [
       "1.4142024452658515"
      ]
     },
     "execution_count": 289,
     "metadata": {},
     "output_type": "execute_result"
    }
   ],
   "source": [
    "-3.9790/-2.8136"
   ]
  },
  {
   "cell_type": "code",
   "execution_count": 323,
   "id": "cc98e53b-0f04-4c92-b38f-bae067204355",
   "metadata": {},
   "outputs": [
    {
     "data": {
      "text/plain": [
       "tensor([[-2.8127e-04+6.0011e-05j, -1.3214e+00+3.3575e-01j,\n",
       "          2.3594e-01+5.7916e-01j,  3.6552e-02-9.2045e-03j,\n",
       "          4.4180e-02+8.2801e-03j, -9.7211e+00-1.2325e-28j,\n",
       "         -2.8136e+00-6.7215e-06j, -3.0131e-04+1.6527e-01j,\n",
       "         -3.2777e-04-2.6077e-08j, -5.8584e-04-3.9679e-04j],\n",
       "        [-1.3214e+00+3.3575e-01j, -1.7955e+00+4.6096e-01j,\n",
       "          1.7704e-01+5.2647e-01j,  2.6800e-02-6.8444e-03j,\n",
       "          1.7653e-02+3.6206e-03j, -2.8136e+00+6.7215e-06j,\n",
       "         -2.0071e+00+4.3363e-19j, -1.4061e-02+4.2207e-01j,\n",
       "         -1.1867e-02+8.2402e-06j, -1.1165e-02+2.6120e-03j],\n",
       "        [-2.3594e-01-5.7916e-01j, -1.7704e-01-5.2647e-01j,\n",
       "          3.1301e-03-1.0017e-01j,  2.3383e-03+6.9638e-03j,\n",
       "          9.7969e-03-1.6098e-03j, -3.0131e-04-1.6527e-01j,\n",
       "         -1.4061e-02-4.2207e-01j, -1.8269e-01-8.6739e-18j,\n",
       "         -2.9962e-04-3.4052e-03j, -7.7452e-03-1.8875e-03j],\n",
       "        [-3.6552e-02+9.2045e-03j, -2.6800e-02+6.8445e-03j,\n",
       "          2.3383e-03+6.9639e-03j, -4.4754e-01+1.1481e-01j,\n",
       "          2.3382e-04+4.6745e-05j, -3.2777e-04+2.6077e-08j,\n",
       "         -1.1867e-02-8.2402e-06j, -2.9962e-04+3.4052e-03j,\n",
       "         -2.8393e-01-1.4095e-18j, -2.6742e-04+5.6999e-05j],\n",
       "        [-4.4180e-02-8.2801e-03j, -1.7653e-02-3.6205e-03j,\n",
       "          9.7970e-03-1.6097e-03j,  2.3382e-04+4.6743e-05j,\n",
       "          1.8666e-01+5.0791e-02j, -5.8584e-04+3.9679e-04j,\n",
       "         -1.1165e-02-2.6120e-03j, -7.7452e-03+1.8875e-03j,\n",
       "         -2.6742e-04-5.6999e-05j, -4.6961e-02-4.3376e-19j]])"
      ]
     },
     "execution_count": 323,
     "metadata": {},
     "output_type": "execute_result"
    }
   ],
   "source": [
    "dataset.fock_kspace[0][1][5:]"
   ]
  },
  {
   "cell_type": "code",
   "execution_count": 212,
   "id": "6db3f478-f6d9-4aa5-a0e3-ede46b4d4613",
   "metadata": {},
   "outputs": [],
   "source": [
    "phase,_,_= precompute_phase(blocks, dataset)\n",
    "kblocks_blochsum = TMap_bloch_sums(blocks, phase)"
   ]
  },
  {
   "cell_type": "code",
   "execution_count": 219,
   "id": "bf127041-ce59-4437-968b-1e6ba5197e5a",
   "metadata": {
    "scrolled": true
   },
   "outputs": [
    {
     "data": {
      "text/plain": [
       "tensor([[[-3.9790+0.j]]])"
      ]
     },
     "execution_count": 219,
     "metadata": {},
     "output_type": "execute_result"
    }
   ],
   "source": [
    "kblocks_blochsum[1].values[1]"
   ]
  },
  {
   "cell_type": "code",
   "execution_count": 229,
   "id": "168c487b-c928-4769-a125-d14af21274d8",
   "metadata": {},
   "outputs": [
    {
     "data": {
      "text/plain": [
       "TensorMap with 12 blocks\n",
       "keys: block_type  species_i  n_i  l_i  species_j  n_j  l_j\n",
       "          1           6       1    0       6       1    0\n",
       "          1           6       1    0       6       2    0\n",
       "          1           6       1    0       6       2    1\n",
       "          1           6       2    0       6       2    0\n",
       "          1           6       2    0       6       2    1\n",
       "          1           6       2    1       6       2    1\n",
       "          -1          6       1    0       6       1    0\n",
       "          -1          6       1    0       6       2    0\n",
       "          -1          6       1    0       6       2    1\n",
       "          -1          6       2    0       6       2    0\n",
       "          -1          6       2    0       6       2    1\n",
       "          -1          6       2    1       6       2    1"
      ]
     },
     "execution_count": 229,
     "metadata": {},
     "output_type": "execute_result"
    }
   ],
   "source": [
    "kblocks_blochsum"
   ]
  },
  {
   "cell_type": "code",
   "execution_count": 341,
   "id": "69d77091-e35c-48d6-8f54-65b9501b9895",
   "metadata": {},
   "outputs": [
    {
     "name": "stdout",
     "output_type": "stream",
     "text": [
      "LabelsEntry(block_type=1, species_i=6, n_i=1, l_i=0, species_j=6, n_j=2, l_j=0)\n",
      "LabelsEntry(structure=0, center=0, neighbor=0, kpoint=1)\n"
     ]
    },
    {
     "data": {
      "text/plain": [
       "(-2.8135971660358425+0j)"
      ]
     },
     "execution_count": 341,
     "metadata": {},
     "output_type": "execute_result"
    }
   ],
   "source": [
    "ki = 2\n",
    "kb = kblocks #kblocks_blochsum\n",
    "print(kb.keys[ki])\n",
    "print(kb[ki].samples[3])\n",
    "kb[ki].values[3][0,0].item()/np.sqrt(2)"
   ]
  },
  {
   "cell_type": "code",
   "execution_count": 342,
   "id": "bf5cf172-3942-4f44-9901-c128559f1476",
   "metadata": {},
   "outputs": [
    {
     "data": {
      "text/plain": [
       "-3.9790312790929407"
      ]
     },
     "execution_count": 342,
     "metadata": {},
     "output_type": "execute_result"
    }
   ],
   "source": [
    "-2.8136*np.sqrt(2)"
   ]
  },
  {
   "cell_type": "code",
   "execution_count": 343,
   "id": "22b44c55-a5bc-499c-bdf3-73c56061fa24",
   "metadata": {},
   "outputs": [
    {
     "data": {
      "text/plain": [
       "<matplotlib.colorbar.Colorbar at 0x7f7533e45310>"
      ]
     },
     "execution_count": 343,
     "metadata": {},
     "output_type": "execute_result"
    },
    {
     "data": {
      "image/png": "[encoded data removed]",
      "text/plain": [
       "<Figure size 480x480 with 2 Axes>"
      ]
     },
     "metadata": {},
     "output_type": "display_data"
    },
    {
     "data": {
      "image/png": "[encoded data removed]",
      "text/plain": [
       "<Figure size 480x480 with 2 Axes>"
      ]
     },
     "metadata": {},
     "output_type": "display_data"
    }
   ],
   "source": [
    "plt.matshow(target_kspace[0][1].imag)\n",
    "plt.colorbar()\n",
    "\n",
    "plt.matshow(rhk[0][1].imag)\n",
    "plt.colorbar()"
   ]
  },
  {
   "cell_type": "code",
   "execution_count": 345,
   "id": "68c81884-dcab-45a7-b06a-42fea23ef401",
   "metadata": {},
   "outputs": [
    {
     "name": "stdout",
     "output_type": "stream",
     "text": [
      "tensor(2.4266e-09)\n",
      "tensor(1.2507e-09)\n",
      "tensor(2.2219e-09)\n",
      "tensor(1.0268e-09)\n",
      "tensor(1.9962e-09)\n",
      "tensor(1.0268e-09)\n",
      "tensor(2.2219e-09)\n",
      "tensor(1.2507e-09)\n",
      "tensor(1.6813e-09)\n",
      "tensor(1.6615e-09)\n",
      "tensor(1.5121e-09)\n",
      "tensor(1.5023e-09)\n",
      "tensor(1.3995e-09)\n",
      "tensor(1.5906e-09)\n",
      "tensor(1.5808e-09)\n",
      "tensor(1.7418e-09)\n",
      "tensor(1.9459e-09)\n",
      "tensor(1.2410e-09)\n",
      "tensor(1.6837e-09)\n",
      "tensor(1.1258e-09)\n",
      "tensor(1.6541e-09)\n",
      "tensor(1.2266e-09)\n",
      "tensor(1.9203e-09)\n",
      "tensor(1.3332e-09)\n",
      "tensor(1.6245e-09)\n",
      "tensor(1.5872e-09)\n",
      "tensor(1.5203e-09)\n",
      "tensor(1.6005e-09)\n",
      "tensor(1.4819e-09)\n",
      "tensor(1.6837e-09)\n",
      "tensor(1.5887e-09)\n",
      "tensor(1.6711e-09)\n",
      "tensor(2.0947e-09)\n",
      "tensor(9.6951e-10)\n",
      "tensor(2.0710e-09)\n",
      "tensor(9.5101e-10)\n",
      "tensor(2.0469e-09)\n",
      "tensor(9.5101e-10)\n",
      "tensor(2.0710e-09)\n",
      "tensor(9.6951e-10)\n",
      "tensor(1.6245e-09)\n",
      "tensor(1.6711e-09)\n",
      "tensor(1.5887e-09)\n",
      "tensor(1.6837e-09)\n",
      "tensor(1.4819e-09)\n",
      "tensor(1.6005e-09)\n",
      "tensor(1.5203e-09)\n",
      "tensor(1.5872e-09)\n",
      "tensor(1.9459e-09)\n",
      "tensor(1.3332e-09)\n",
      "tensor(1.9203e-09)\n",
      "tensor(1.2266e-09)\n",
      "tensor(1.6541e-09)\n",
      "tensor(1.1258e-09)\n",
      "tensor(1.6837e-09)\n",
      "tensor(1.2410e-09)\n",
      "tensor(1.6813e-09)\n",
      "tensor(1.7418e-09)\n",
      "tensor(1.5808e-09)\n",
      "tensor(1.5906e-09)\n",
      "tensor(1.3995e-09)\n",
      "tensor(1.5023e-09)\n",
      "tensor(1.5121e-09)\n",
      "tensor(1.6615e-09)\n"
     ]
    }
   ],
   "source": [
    "ifr = 0\n",
    "for ik in range(len(rhk[ifr])):\n",
    "    # print(torch.norm((rhk[ifr] - dataset.fock_kspace[ifr])[ik].imag))\n",
    "    print(torch.norm((rhk[ifr] - target_kspace[ifr])[ik]))"
   ]
  },
  {
   "cell_type": "code",
   "execution_count": 331,
   "id": "16be73fa-b395-4a73-8766-d6d7744fda81",
   "metadata": {},
   "outputs": [
    {
     "data": {
      "text/plain": [
       "<matplotlib.colorbar.Colorbar at 0x7f7533e2b7a0>"
      ]
     },
     "execution_count": 331,
     "metadata": {},
     "output_type": "execute_result"
    },
    {
     "data": {
      "image/png": "[encoded data removed]",
      "text/plain": [
       "<Figure size 480x480 with 2 Axes>"
      ]
     },
     "metadata": {},
     "output_type": "display_data"
    }
   ],
   "source": [
    "ifr = 0 \n",
    "ik = 20\n",
    "plt.matshow((rhk[ifr] - target_kspace[ifr])[ik].imag)\n",
    "plt.colorbar()\n",
    "# plt.matshow((rhk[ifr] - target_kspace[ifr])[ik].real)\n",
    "# plt.colorbar()\n"
   ]
  },
  {
   "cell_type": "code",
   "execution_count": null,
   "id": "90441a5d-3845-4f7e-a6b4-2553c49aa862",
   "metadata": {},
   "outputs": [],
   "source": []
  },
  {
   "cell_type": "code",
   "execution_count": 272,
   "id": "6da94086-ef18-4cab-aa47-1a2f76e6fe15",
   "metadata": {},
   "outputs": [],
   "source": [
    "ik = 1"
   ]
  },
  {
   "cell_type": "code",
   "execution_count": 325,
   "id": "8ecf5ba0-963c-4180-ae97-7dbc0ffaacf1",
   "metadata": {},
   "outputs": [
    {
     "name": "stdout",
     "output_type": "stream",
     "text": [
      "  -0.0000000000    0.0000172583    0.1991315719   -0.0000000722    0.1092567318    0.0000000000    0.0000000000   -0.0000000000    0.0000000000   -0.0000000000\n",
      "  -0.0000172583    0.0000000000    0.4997162974    0.0000226156    0.2880915690    0.0000000000   -0.0000000000    0.0000000000   -0.0000000000    0.0000000001\n",
      "  -0.1991315719   -0.4997162974    0.0000000000    0.0040790561   -0.0218255793    0.0000000000   -0.0000000000    0.0000000001   -0.0000000000   -0.0000000001\n",
      "   0.0000000722   -0.0000226156   -0.0040790561   -0.0000000000   -0.0024442886   -0.0000000000    0.0000000000   -0.0000000000   -0.0000000000   -0.0000000000\n",
      "  -0.1092567318   -0.2880915690    0.0218255793    0.0024442886    0.0000000000    0.0000000000   -0.0000000001   -0.0000000001   -0.0000000000   -0.0000000001\n",
      "   0.0000000000    0.0000000000   -0.0000000000    0.0000000000   -0.0000000000   -0.0000000000   -0.0000173052    0.1991316124   -0.0000000721    0.1092567819\n",
      "  -0.0000000000    0.0000000000    0.0000000000   -0.0000000000    0.0000000001    0.0000173052    0.0000000000    0.4997162441    0.0000226156    0.2880916082\n",
      "   0.0000000000   -0.0000000000   -0.0000000001    0.0000000000    0.0000000001   -0.1991316124   -0.4997162441    0.0000000000   -0.0040791588    0.0218255447\n",
      "  -0.0000000000    0.0000000000    0.0000000000    0.0000000000    0.0000000000    0.0000000721   -0.0000226156    0.0040791588   -0.0000000000    0.0024443455\n",
      "   0.0000000000   -0.0000000001    0.0000000001    0.0000000000    0.0000000001   -0.1092567819   -0.2880916082   -0.0218255447   -0.0024443455   -0.0000000000\n"
     ]
    }
   ],
   "source": [
    "print_matrix((rhk[ifr] - target_kspace[ifr])[ik].imag)"
   ]
  },
  {
   "cell_type": "code",
   "execution_count": 326,
   "id": "4641520c-49ff-4138-b6b6-df58dc50d9b8",
   "metadata": {},
   "outputs": [
    {
     "name": "stdout",
     "output_type": "stream",
     "text": [
      "   0.0000000000    0.0000000000    0.0000000000    0.0000000000    0.0000000000   -0.0000387139   -0.0286830299   -0.8720636303   -0.0010255835   -0.5414952376\n",
      "   0.0000000000    0.0000000000    0.0000000000    0.0000000000    0.0000000000   -0.0286833311   -0.0319508846   -0.7193634764   -0.0005615539   -0.4295526863\n",
      "   0.0000000000    0.0000000000    0.0000000000    0.0000000000    0.0000000000    0.8720638879    0.7193636015   -0.1436214695    0.0095335180    0.0804301284\n",
      "   0.0000000000    0.0000000000    0.0000000000    0.0000000000    0.0000000000    0.0010255989    0.0005615474    0.0095333489   -0.0083192600    0.0056798751\n",
      "   0.0000000000    0.0000000000    0.0000000000    0.0000000000    0.0000000000    0.5414957077    0.4295524838    0.0804298742    0.0056799635    0.1454973177\n",
      "   0.0000387139    0.0286833311   -0.8720638879   -0.0010255989   -0.5414957077    0.0000000000    0.0000000000    0.0000000000    0.0000000000    0.0000000000\n",
      "   0.0286830299    0.0319508846   -0.7193636015   -0.0005615474   -0.4295524838    0.0000000000    0.0000000000    0.0000000000    0.0000000000    0.0000000000\n",
      "   0.8720636303    0.7193634764    0.1436214695   -0.0095333489   -0.0804298742    0.0000000000    0.0000000000    0.0000000000    0.0000000000    0.0000000000\n",
      "   0.0010255835    0.0005615539   -0.0095335180    0.0083192600   -0.0056799635    0.0000000000    0.0000000000    0.0000000000    0.0000000000    0.0000000000\n",
      "   0.5414952376    0.4295526863   -0.0804301284   -0.0056798751   -0.1454973177    0.0000000000    0.0000000000    0.0000000000    0.0000000000    0.0000000000\n"
     ]
    }
   ],
   "source": [
    "print_matrix((rhk[ifr][ik]).imag)# - target_kspace[ifr])[ik].imag)"
   ]
  },
  {
   "cell_type": "code",
   "execution_count": 327,
   "id": "d079aced-a294-4cf2-8870-3229b3284ea9",
   "metadata": {},
   "outputs": [
    {
     "name": "stdout",
     "output_type": "stream",
     "text": [
      "   0.0000000000   -0.0000172583   -0.1991315719    0.0000000722   -0.1092567318   -0.0000387139   -0.0286830299   -0.8720636303   -0.0010255835   -0.5414952376\n",
      "   0.0000172583   -0.0000000000   -0.4997162974   -0.0000226156   -0.2880915690   -0.0286833311   -0.0319508846   -0.7193634764   -0.0005615539   -0.4295526864\n",
      "   0.1991315719    0.4997162974   -0.0000000000   -0.0040790561    0.0218255793    0.8720638879    0.7193636015   -0.1436214696    0.0095335180    0.0804301286\n",
      "  -0.0000000722    0.0000226156    0.0040790561    0.0000000000    0.0024442886    0.0010255989    0.0005615474    0.0095333489   -0.0083192600    0.0056798751\n",
      "   0.1092567318    0.2880915690   -0.0218255793   -0.0024442886   -0.0000000000    0.5414957077    0.4295524838    0.0804298743    0.0056799635    0.1454973178\n",
      "   0.0000387139    0.0286833311   -0.8720638879   -0.0010255989   -0.5414957077    0.0000000000    0.0000173052   -0.1991316124    0.0000000721   -0.1092567819\n",
      "   0.0286830299    0.0319508846   -0.7193636015   -0.0005615474   -0.4295524838   -0.0000173052   -0.0000000000   -0.4997162441   -0.0000226156   -0.2880916082\n",
      "   0.8720636303    0.7193634764    0.1436214696   -0.0095333489   -0.0804298743    0.1991316124    0.4997162441   -0.0000000000    0.0040791588   -0.0218255447\n",
      "   0.0010255835    0.0005615539   -0.0095335180    0.0083192600   -0.0056799635   -0.0000000721    0.0000226156   -0.0040791588    0.0000000000   -0.0024443455\n",
      "   0.5414952376    0.4295526864   -0.0804301286   -0.0056798751   -0.1454973178    0.1092567819    0.2880916082    0.0218255447    0.0024443455    0.0000000000\n"
     ]
    }
   ],
   "source": [
    "print_matrix((target_kspace[ifr])[ik].imag)"
   ]
  },
  {
   "cell_type": "code",
   "execution_count": 200,
   "id": "2ae80c11-e3b7-43f9-b2f6-df9d0e56172c",
   "metadata": {},
   "outputs": [
    {
     "name": "stdout",
     "output_type": "stream",
     "text": [
      "   0.0000000000    0.0000000000    0.0000000000    0.0000000000    0.0000000000    0.0000000000    0.0000000000   -0.0000000000   -0.0000000000    0.0000000000\n",
      "   0.0000000000    0.0000000000    0.0000000000    0.0000000000   -0.0000000000    0.0000000000    0.0000000000   -0.0000000000    0.0000000000   -0.0000000000\n",
      "   0.0000000000    0.0000000000    0.0000000000    0.0000000000   -0.0000000000    0.0000000000    0.0000000000   -0.0000000007    0.0000000000    0.0000000000\n",
      "   0.0000000000    0.0000000000    0.0000000000    0.0000000000    0.0000000000    0.0000000000   -0.0000000000    0.0000000000    0.0000000000    0.0000000000\n",
      "   0.0000000000   -0.0000000000   -0.0000000000    0.0000000000    0.0000000000   -0.0000000000    0.0000000000    0.0000000000    0.0000000000    0.0000000001\n",
      "   0.0000000000   -0.0000000000    0.0000000000    0.0000000000   -0.0000000000    0.0000000000    0.0000000000   -0.0000000000   -0.0000000000    0.0000000000\n",
      "   0.0000000000    0.0000000000    0.0000000000   -0.0000000000    0.0000000000    0.0000000000   -0.0000000000   -0.0000000000    0.0000000000    0.0000000000\n",
      "  -0.0000000000   -0.0000000000   -0.0000000007    0.0000000000    0.0000000000   -0.0000000000   -0.0000000000   -0.0000000000   -0.0000000000   -0.0000000000\n",
      "  -0.0000000000    0.0000000000    0.0000000000    0.0000000000    0.0000000000   -0.0000000000    0.0000000000   -0.0000000000    0.0000000000    0.0000000000\n",
      "   0.0000000000   -0.0000000000    0.0000000000    0.0000000000    0.0000000001    0.0000000000    0.0000000000   -0.0000000000    0.0000000000   -0.0000000000\n"
     ]
    }
   ],
   "source": [
    "print_matrix((rhk[ifr] - target_kspace[ifr])[ik].real)"
   ]
  },
  {
   "cell_type": "code",
   "execution_count": 191,
   "id": "7d18b91f-b4f9-4746-a68d-5a00e0264ea5",
   "metadata": {},
   "outputs": [
    {
     "name": "stdout",
     "output_type": "stream",
     "text": [
      "            nan             nan             nan             nan             nan             nan             nan             nan             nan             nan\n",
      "            nan             nan             nan             nan             nan             nan             nan             nan             nan             nan\n",
      "            nan             nan             nan             nan             nan             nan             nan             nan             nan             nan\n",
      "            nan             nan             nan             nan             nan             nan             nan             nan             nan             nan\n",
      "            nan             nan             nan             nan             nan             nan             nan             nan             nan             nan\n",
      "            nan             nan             nan             nan             nan             nan             nan             nan             nan             nan\n",
      "            nan             nan             nan             nan             nan             nan             nan             nan             nan             nan\n",
      "            nan             nan             nan             nan             nan             nan             nan             nan             nan             nan\n",
      "            nan             nan             nan             nan             nan             nan             nan             nan             nan             nan\n",
      "            nan             nan             nan             nan             nan             nan             nan             nan             nan             nan\n"
     ]
    }
   ],
   "source": [
    "print_matrix((rhk[ifr][ik].imag/ target_kspace[ifr][ik].imag))"
   ]
  },
  {
   "cell_type": "markdown",
   "id": "19fb1dc1",
   "metadata": {
    "jp-MarkdownHeadingCollapsed": true
   },
   "source": [
    "## Testset"
   ]
  },
  {
   "cell_type": "code",
   "execution_count": 5,
   "id": "087b8201-1535-4f07-98d1-58e41d86e305",
   "metadata": {},
   "outputs": [
    {
     "ename": "FileNotFoundError",
     "evalue": "[Errno 2] No such file or directory: './examples/data/periodic/c2-cp2k-benchmarks/baseline/C2_174_881_3/realfock_3.npy'",
     "output_type": "error",
     "traceback": [
      "\u001b[0;31m---------------------------------------------------------------------------\u001b[0m",
      "\u001b[0;31mFileNotFoundError\u001b[0m                         Traceback (most recent call last)",
      "Cell \u001b[0;32mIn[5], line 11\u001b[0m\n\u001b[1;32m      9\u001b[0m frames \u001b[38;5;241m=\u001b[39m read(\u001b[38;5;124mf\u001b[39m\u001b[38;5;124m'\u001b[39m\u001b[38;5;132;01m{\u001b[39;00mdata_dir\u001b[38;5;132;01m}\u001b[39;00m\u001b[38;5;124m/C2_174.extxyz\u001b[39m\u001b[38;5;124m'\u001b[39m, \u001b[38;5;28mslice\u001b[39m(START, SKIP\u001b[38;5;241m*\u001b[39mSTOP, SKIP))\n\u001b[1;32m     10\u001b[0m rfock \u001b[38;5;241m=\u001b[39m [np\u001b[38;5;241m.\u001b[39mload(\u001b[38;5;124mf\u001b[39m\u001b[38;5;124m\"\u001b[39m\u001b[38;5;132;01m{\u001b[39;00mdata_dir\u001b[38;5;132;01m}\u001b[39;00m\u001b[38;5;124m/C2_174_881_\u001b[39m\u001b[38;5;132;01m{\u001b[39;00mi\u001b[38;5;132;01m}\u001b[39;00m\u001b[38;5;124m/realfock_\u001b[39m\u001b[38;5;132;01m{\u001b[39;00mi\u001b[38;5;132;01m}\u001b[39;00m\u001b[38;5;124m.npy\u001b[39m\u001b[38;5;124m\"\u001b[39m, allow_pickle \u001b[38;5;241m=\u001b[39m \u001b[38;5;28;01mTrue\u001b[39;00m)\u001b[38;5;241m.\u001b[39mitem() \u001b[38;5;28;01mfor\u001b[39;00m i \u001b[38;5;129;01min\u001b[39;00m \u001b[38;5;28mrange\u001b[39m(START, SKIP\u001b[38;5;241m*\u001b[39mSTOP, SKIP)]\n\u001b[0;32m---> 11\u001b[0m rfock0_test \u001b[38;5;241m=\u001b[39m [\u001b[43mnp\u001b[49m\u001b[38;5;241;43m.\u001b[39;49m\u001b[43mload\u001b[49m\u001b[43m(\u001b[49m\u001b[38;5;124;43mf\u001b[39;49m\u001b[38;5;124;43m\"\u001b[39;49m\u001b[38;5;132;43;01m{\u001b[39;49;00m\u001b[43mdata_dir\u001b[49m\u001b[38;5;132;43;01m}\u001b[39;49;00m\u001b[38;5;124;43m/baseline/C2_174_881_\u001b[39;49m\u001b[38;5;132;43;01m{\u001b[39;49;00m\u001b[43mi\u001b[49m\u001b[38;5;132;43;01m}\u001b[39;49;00m\u001b[38;5;124;43m/realfock_\u001b[39;49m\u001b[38;5;132;43;01m{\u001b[39;49;00m\u001b[43mi\u001b[49m\u001b[38;5;132;43;01m}\u001b[39;49;00m\u001b[38;5;124;43m.npy\u001b[39;49m\u001b[38;5;124;43m\"\u001b[39;49m\u001b[43m,\u001b[49m\u001b[43m \u001b[49m\u001b[43mallow_pickle\u001b[49m\u001b[43m \u001b[49m\u001b[38;5;241;43m=\u001b[39;49m\u001b[43m \u001b[49m\u001b[38;5;28;43;01mTrue\u001b[39;49;00m\u001b[43m)\u001b[49m\u001b[38;5;241m.\u001b[39mitem() \u001b[38;5;28;01mfor\u001b[39;00m i \u001b[38;5;129;01min\u001b[39;00m \u001b[38;5;28mrange\u001b[39m(START, SKIP\u001b[38;5;241m*\u001b[39mSTOP, SKIP)]\n\u001b[1;32m     12\u001b[0m rover \u001b[38;5;241m=\u001b[39m [np\u001b[38;5;241m.\u001b[39mload(\u001b[38;5;124mf\u001b[39m\u001b[38;5;124m\"\u001b[39m\u001b[38;5;132;01m{\u001b[39;00mdata_dir\u001b[38;5;132;01m}\u001b[39;00m\u001b[38;5;124m/C2_174_881_\u001b[39m\u001b[38;5;132;01m{\u001b[39;00mi\u001b[38;5;132;01m}\u001b[39;00m\u001b[38;5;124m/realoverlap_\u001b[39m\u001b[38;5;132;01m{\u001b[39;00mi\u001b[38;5;132;01m}\u001b[39;00m\u001b[38;5;124m.npy\u001b[39m\u001b[38;5;124m\"\u001b[39m, allow_pickle \u001b[38;5;241m=\u001b[39m \u001b[38;5;28;01mTrue\u001b[39;00m)\u001b[38;5;241m.\u001b[39mitem() \u001b[38;5;28;01mfor\u001b[39;00m i \u001b[38;5;129;01min\u001b[39;00m \u001b[38;5;28mrange\u001b[39m(START, SKIP\u001b[38;5;241m*\u001b[39mSTOP, SKIP)]\n\u001b[1;32m     13\u001b[0m \u001b[38;5;66;03m# rover0 = [np.load(f\"{data_dir}/baseline/C2_174_881_{i}/realoverlap_{i}.npy\", allow_pickle = True).item() for i in range(START, STOP)]\u001b[39;00m\n",
      "File \u001b[0;32m~/miniconda3/lib/python3.12/site-packages/numpy/lib/npyio.py:427\u001b[0m, in \u001b[0;36mload\u001b[0;34m(file, mmap_mode, allow_pickle, fix_imports, encoding, max_header_size)\u001b[0m\n\u001b[1;32m    425\u001b[0m     own_fid \u001b[38;5;241m=\u001b[39m \u001b[38;5;28;01mFalse\u001b[39;00m\n\u001b[1;32m    426\u001b[0m \u001b[38;5;28;01melse\u001b[39;00m:\n\u001b[0;32m--> 427\u001b[0m     fid \u001b[38;5;241m=\u001b[39m stack\u001b[38;5;241m.\u001b[39menter_context(\u001b[38;5;28;43mopen\u001b[39;49m\u001b[43m(\u001b[49m\u001b[43mos_fspath\u001b[49m\u001b[43m(\u001b[49m\u001b[43mfile\u001b[49m\u001b[43m)\u001b[49m\u001b[43m,\u001b[49m\u001b[43m \u001b[49m\u001b[38;5;124;43m\"\u001b[39;49m\u001b[38;5;124;43mrb\u001b[39;49m\u001b[38;5;124;43m\"\u001b[39;49m\u001b[43m)\u001b[49m)\n\u001b[1;32m    428\u001b[0m     own_fid \u001b[38;5;241m=\u001b[39m \u001b[38;5;28;01mTrue\u001b[39;00m\n\u001b[1;32m    430\u001b[0m \u001b[38;5;66;03m# Code to distinguish from NumPy binary files and pickles.\u001b[39;00m\n",
      "\u001b[0;31mFileNotFoundError\u001b[0m: [Errno 2] No such file or directory: './examples/data/periodic/c2-cp2k-benchmarks/baseline/C2_174_881_3/realfock_3.npy'"
     ]
    }
   ],
   "source": [
    "# workdir = './'\n",
    "workdir = './examples/data/periodic/c2-cp2k-benchmarks'\n",
    "START = 3\n",
    "STOP = 8\n",
    "SKIP = 1\n",
    "ORBS = 'sto-3g'\n",
    "root = f'{workdir}'#/examples/data/periodic/c2/cp2k/sto-3g'\n",
    "data_dir = root\n",
    "frames = read(f'{data_dir}/C2_174.extxyz', slice(START, SKIP*STOP, SKIP))\n",
    "rfock = [np.load(f\"{data_dir}/C2_174_881_{i}/realfock_{i}.npy\", allow_pickle = True).item() for i in range(START, SKIP*STOP, SKIP)]\n",
    "rfock0_test = [np.load(f\"{data_dir}/baseline/C2_174_881_{i}/realfock_{i}.npy\", allow_pickle = True).item() for i in range(START, SKIP*STOP, SKIP)]\n",
    "rover = [np.load(f\"{data_dir}/C2_174_881_{i}/realoverlap_{i}.npy\", allow_pickle = True).item() for i in range(START, SKIP*STOP, SKIP)]\n",
    "# rover0 = [np.load(f\"{data_dir}/baseline/C2_174_881_{i}/realoverlap_{i}.npy\", allow_pickle = True).item() for i in range(START, STOP)]\n",
    "kmesh = [8,8,1]\n",
    "\n",
    "for f in frames:\n",
    "    f.pbc = [True,True,False]\n",
    "    f.wrap(center = (0,0,0), eps = 1e-60)\n",
    "    f.pbc = True\n",
    "\n",
    "# for K, K0 in zip(rfock, rfock0):\n",
    "#     for T in K:\n",
    "#         K[T] = K[T] - K0[T]\n",
    "rfock_diff_test= []\n",
    "for K, K0 in zip(rfock, rfock0_test):\n",
    "    rfock_diff_test.append({})\n",
    "    for T in K:\n",
    "        rfock_diff_test[-1][T] = K[T] -K0[T]\n",
    "        \n",
    "\n",
    "testset = QMDataset(frames = frames, \n",
    "                               kmesh = kmesh, \n",
    "                               dimension = 2,\n",
    "                               fock_realspace = rfock, \n",
    "                               overlap_realspace = rover, \n",
    "                               device = device, \n",
    "                               orbs = orbitals[ORBS], \n",
    "                               orbs_name = 'sto-3g')"
   ]
  },
  {
   "cell_type": "code",
   "execution_count": null,
   "id": "8da42564-e0ef-4ec8-8fb7-dc56b4a28156",
   "metadata": {},
   "outputs": [],
   "source": [
    "# for ifr in range(len(rover)):\n",
    "#     for T in rover[ifr]:\n",
    "#         print(ifr, T, np.linalg.norm(rover[ifr][T]- rover0[ifr][T]))"
   ]
  },
  {
   "cell_type": "markdown",
   "id": "2516070c",
   "metadata": {},
   "source": [
    "## Compute target"
   ]
  },
  {
   "cell_type": "code",
   "execution_count": 358,
   "id": "db7ec4b2-4657-4c86-bd61-da05d274cbe5",
   "metadata": {},
   "outputs": [],
   "source": [
    "cutoff = 8\n",
    "SORT_ORBS = True\n",
    "target_blocks, target_coupled_blocks = get_targets(dataset, cutoff = cutoff, device = device, all_pairs = False, sort_orbs=SORT_ORBS)\n",
    "_, overlap_coupled_blocks = get_targets(dataset, cutoff = cutoff, device = device, target = 'overlap')\n",
    "target_blocks_base, target_coupled_blocks_base = get_targets(dataset, cutoff = cutoff, device = device, all_pairs = False, sort_orbs=SORT_ORBS, matrix=rfock_diff_target)\n",
    "_, target_coupled_blocks_fock0 = get_targets(dataset, cutoff = cutoff, device = device, all_pairs = False, sort_orbs=SORT_ORBS, matrix=rfock0_target)\n",
    "# target_kspace_base = dataset.bloch_sum(blocks_to_matrix(target_coupled_blocks_base, dataset))\n",
    "# overlap_kspace = dataset.bloch_sum(blocks_to_matrix(overlap_coupled_blocks, dataset))"
   ]
  },
  {
   "cell_type": "code",
   "execution_count": 360,
   "id": "851f300c-24ca-4f36-9660-7e875c9e0040",
   "metadata": {},
   "outputs": [],
   "source": [
    "target_coupled_blocks_copy = target_coupled_blocks"
   ]
  },
  {
   "cell_type": "code",
   "execution_count": 8,
   "id": "c29c04e1-c22f-4eb9-8e59-ecfe01658f41",
   "metadata": {},
   "outputs": [],
   "source": [
    "_, test_coupled_blocks = get_targets(testset, cutoff = cutoff, device = device, all_pairs = False, sort_orbs=SORT_ORBS)\n",
    "_, overlap_coupled_blocks_test = get_targets(dataset, cutoff = cutoff, device = device, target = 'overlap')\n",
    "test_blocks_base, test_coupled_blocks_base = get_targets(testset, cutoff = cutoff, device = device, all_pairs = False, sort_orbs=SORT_ORBS, matrix=rfock_diff_test)\n",
    "_, test_coupled_blocks_fock0 = get_targets(testset, cutoff = cutoff, device = device, all_pairs = False, sort_orbs=SORT_ORBS, matrix=rfock0_test )\n",
    "# test_kspace = testset.bloch_sum(blocks_to_matrix(test_coupled_blocks, testset))\n",
    "# test_kspace_base = testset.bloch_sum(blocks_to_matrix(test_coupled_blocks_base, testset))\n",
    "# overlap_kspace_test = dataset.bloch_sum(blocks_to_matrix(overlap_coupled_blocks_test, testset))"
   ]
  },
  {
   "cell_type": "code",
   "execution_count": 349,
   "id": "cb7a1ae6-961b-4517-83f5-b90ffab74157",
   "metadata": {},
   "outputs": [],
   "source": [
    "target_kspace = dataset.bloch_sum(blocks_to_matrix(target_coupled_blocks, dataset))"
   ]
  },
  {
   "cell_type": "code",
   "execution_count": 350,
   "id": "1a61cc89-9752-4813-a69a-994121f7cc02",
   "metadata": {},
   "outputs": [],
   "source": [
    "target_kspace_copy = dataset.bloch_sum(blocks_to_matrix(target_coupled_blocks_copy, dataset))"
   ]
  },
  {
   "cell_type": "code",
   "execution_count": 351,
   "id": "9ae0a6ff-9510-4542-ad2f-efececb5e16d",
   "metadata": {},
   "outputs": [
    {
     "name": "stdout",
     "output_type": "stream",
     "text": [
      "0 tensor(1.2851e-08)\n",
      "1 tensor(6.1799e-09)\n"
     ]
    }
   ],
   "source": [
    "for ifr in range(len(target_kspace)):\n",
    "    # print(ifr, torch.norm(target_kspace[ifr] - target_kspace_copy[ifr]))\n",
    "    print(ifr, torch.norm(target_kspace[ifr] - dataset.fock_kspace[ifr]))"
   ]
  },
  {
   "cell_type": "code",
   "execution_count": 371,
   "id": "a49629a3-25c1-4d99-9826-c2b9e7ffc837",
   "metadata": {},
   "outputs": [
    {
     "name": "stderr",
     "output_type": "stream",
     "text": [
      "/media/nigam/b5749eb7-d3f1-4495-adeb-2c318fb7d0de/MAC/mlelec/src/mlelec/utils/pbc_utils.py:1582: SyntaxWarning: invalid escape sequence '\\d'\n",
      "  \n"
     ]
    }
   ],
   "source": [
    "kblocks_from_kmta2blo = _to_coupled_basis(kmatrix_to_blocks(dataset, cutoff = cutoff), translations = False)\n",
    "phase, _,_=precompute_phase(target_coupled_blocks_copy, dataset)\n",
    "kblocks_from_blochsum = TMap_bloch_sums(target_coupled_blocks_copy, phase)"
   ]
  },
  {
   "cell_type": "code",
   "execution_count": 372,
   "id": "74e83393-6aa5-430c-9815-21ca3fc70733",
   "metadata": {
    "scrolled": true
   },
   "outputs": [],
   "source": [
    "inter, m1, m2 = b1.samples.intersection_and_mapping(b.samples)"
   ]
  },
  {
   "cell_type": "code",
   "execution_count": 373,
   "id": "348cedc9-5547-483a-8819-747389c575a0",
   "metadata": {},
   "outputs": [
    {
     "data": {
      "text/plain": [
       "tensor([[ 0,  0,  0,  0],\n",
       "        [ 0,  1,  1,  0],\n",
       "        [ 0,  0,  0,  1],\n",
       "        ...,\n",
       "        [ 1,  1,  1, 62],\n",
       "        [ 1,  0,  0, 63],\n",
       "        [ 1,  1,  1, 63]], dtype=torch.int32)"
      ]
     },
     "execution_count": 373,
     "metadata": {},
     "output_type": "execute_result"
    }
   ],
   "source": [
    "b1.samples.values[m1==-1]"
   ]
  },
  {
   "cell_type": "code",
   "execution_count": 379,
   "id": "22a113bd-bc60-4c49-9507-3025ebaecfd7",
   "metadata": {},
   "outputs": [
    {
     "name": "stdout",
     "output_type": "stream",
     "text": [
      "tensor(1.4424e-15)\n",
      "tensor(5.4670e-15)\n",
      "tensor(4.3992e-09)\n",
      "tensor(9.0633e-12)\n",
      "tensor(4.9196e-14)\n",
      "tensor(1.4159e-14)\n",
      "tensor(2.4258e-15)\n",
      "tensor(1.1339e-09)\n",
      "tensor(1.8158e-12)\n",
      "tensor(9.3038e-09)\n",
      "tensor(1.3905e-08)\n"
     ]
    }
   ],
   "source": [
    "for k, b in sort_hack(kblocks_from_blochsum).items():\n",
    "    b1 = sort_hack(kblocks_from_kmta2blo).block(k)\n",
    "    assert b1.samples==b.samples\n",
    "    print(torch.norm(b1.values - b.values))"
   ]
  },
  {
   "cell_type": "code",
   "execution_count": 381,
   "id": "9c29ec0e-fe7d-4fc3-bf09-7415e5721f6a",
   "metadata": {},
   "outputs": [
    {
     "data": {
      "text/plain": [
       "tensor(3.0054e-16)"
      ]
     },
     "execution_count": 381,
     "metadata": {},
     "output_type": "execute_result"
    }
   ],
   "source": [
    "L2_loss(sort_hack(kblocks_from_blochsum), sort_hack(kblocks_from_kmta2blo))"
   ]
  },
  {
   "cell_type": "code",
   "execution_count": 115,
   "id": "1441af0b-af03-4485-9769-41700eacfecc",
   "metadata": {},
   "outputs": [],
   "source": [
    "kmatrix_from_kblocks = kblocks_to_matrix(kblocks_from_blochsum, dataset)"
   ]
  },
  {
   "cell_type": "code",
   "execution_count": 128,
   "id": "9142cba1-661d-4b01-8e02-975f800cc815",
   "metadata": {},
   "outputs": [
    {
     "data": {
      "text/plain": [
       "<matplotlib.colorbar.Colorbar at 0x7f753691f890>"
      ]
     },
     "execution_count": 128,
     "metadata": {},
     "output_type": "execute_result"
    },
    {
     "data": {
      "image/png": "[encoded data removed]",
      "text/plain": [
       "<Figure size 480x480 with 2 Axes>"
      ]
     },
     "metadata": {},
     "output_type": "display_data"
    }
   ],
   "source": [
    "plt.matshow((kmatrix_from_kblocks[ifr][1] - target_kspace[1]).real[0])\n",
    "plt.colorbar()"
   ]
  },
  {
   "cell_type": "code",
   "execution_count": 121,
   "id": "82660043-ce88-4a94-b3a6-1c6069117a1f",
   "metadata": {},
   "outputs": [
    {
     "name": "stdout",
     "output_type": "stream",
     "text": [
      "0 0 tensor(2.4266e-09)\n",
      "0 1 tensor(0.9066)\n",
      "0 2 tensor(1.2507)\n",
      "0 3 tensor(0.8624)\n",
      "0 4 tensor(1.9962e-09)\n",
      "0 5 tensor(0.8624)\n",
      "0 6 tensor(1.2507)\n",
      "0 7 tensor(0.9066)\n",
      "0 8 tensor(0.9026)\n",
      "0 9 tensor(1.2406)\n",
      "0 10 tensor(1.1200)\n",
      "0 11 tensor(0.5057)\n",
      "0 12 tensor(0.5062)\n",
      "0 13 tensor(1.1167)\n",
      "0 14 tensor(1.2329)\n",
      "0 15 tensor(0.8963)\n",
      "0 16 tensor(1.2483)\n",
      "0 17 tensor(1.1182)\n",
      "0 18 tensor(0.7152)\n",
      "0 19 tensor(0.3316)\n",
      "0 20 tensor(0.7156)\n",
      "0 21 tensor(1.1109)\n",
      "0 22 tensor(1.2386)\n",
      "0 23 tensor(1.2330)\n",
      "0 24 tensor(0.8628)\n",
      "0 25 tensor(0.5060)\n",
      "0 26 tensor(0.3464)\n",
      "0 27 tensor(0.3515)\n",
      "0 28 tensor(0.5061)\n",
      "0 29 tensor(0.8555)\n",
      "0 30 tensor(1.1206)\n",
      "0 31 tensor(1.1247)\n",
      "0 32 tensor(2.0947e-09)\n",
      "0 33 tensor(0.5205)\n",
      "0 34 tensor(0.7356)\n",
      "0 35 tensor(0.5202)\n",
      "0 36 tensor(2.0469e-09)\n",
      "0 37 tensor(0.5202)\n",
      "0 38 tensor(0.7356)\n",
      "0 39 tensor(0.5205)\n",
      "0 40 tensor(0.8628)\n",
      "0 41 tensor(1.1247)\n",
      "0 42 tensor(1.1206)\n",
      "0 43 tensor(0.8555)\n",
      "0 44 tensor(0.5061)\n",
      "0 45 tensor(0.3515)\n",
      "0 46 tensor(0.3464)\n",
      "0 47 tensor(0.5060)\n",
      "0 48 tensor(1.2483)\n",
      "0 49 tensor(1.2330)\n",
      "0 50 tensor(1.2386)\n",
      "0 51 tensor(1.1109)\n",
      "0 52 tensor(0.7156)\n",
      "0 53 tensor(0.3316)\n",
      "0 54 tensor(0.7152)\n",
      "0 55 tensor(1.1182)\n",
      "0 56 tensor(0.9026)\n",
      "0 57 tensor(0.8963)\n",
      "0 58 tensor(1.2329)\n",
      "0 59 tensor(1.1167)\n",
      "0 60 tensor(0.5062)\n",
      "0 61 tensor(0.5057)\n",
      "0 62 tensor(1.1200)\n",
      "0 63 tensor(1.2406)\n",
      "1 0 tensor(1.0158e-09)\n",
      "1 1 tensor(0.8456)\n",
      "1 2 tensor(1.1667)\n",
      "1 3 tensor(0.8045)\n",
      "1 4 tensor(6.5162e-10)\n",
      "1 5 tensor(0.8045)\n",
      "1 6 tensor(1.1667)\n",
      "1 7 tensor(0.8456)\n",
      "1 8 tensor(0.7780)\n",
      "1 9 tensor(1.1153)\n",
      "1 10 tensor(1.0357)\n",
      "1 11 tensor(0.4732)\n",
      "1 12 tensor(0.4263)\n",
      "1 13 tensor(1.0189)\n",
      "1 14 tensor(1.1459)\n",
      "1 15 tensor(0.8166)\n",
      "1 16 tensor(1.0821)\n",
      "1 17 tensor(0.9956)\n",
      "1 18 tensor(0.6685)\n",
      "1 19 tensor(0.2749)\n",
      "1 20 tensor(0.6025)\n",
      "1 21 tensor(1.0021)\n",
      "1 22 tensor(1.1315)\n",
      "1 23 tensor(1.0903)\n",
      "1 24 tensor(0.7523)\n",
      "1 25 tensor(0.4723)\n",
      "1 26 tensor(0.3878)\n",
      "1 27 tensor(0.3288)\n",
      "1 28 tensor(0.4259)\n",
      "1 29 tensor(0.7836)\n",
      "1 30 tensor(1.0322)\n",
      "1 31 tensor(1.0089)\n",
      "1 32 tensor(1.0158e-09)\n",
      "1 33 tensor(0.5066)\n",
      "1 34 tensor(0.7166)\n",
      "1 35 tensor(0.5072)\n",
      "1 36 tensor(6.5162e-10)\n",
      "1 37 tensor(0.5072)\n",
      "1 38 tensor(0.7166)\n",
      "1 39 tensor(0.5066)\n",
      "1 40 tensor(0.7523)\n",
      "1 41 tensor(1.0089)\n",
      "1 42 tensor(1.0322)\n",
      "1 43 tensor(0.7836)\n",
      "1 44 tensor(0.4259)\n",
      "1 45 tensor(0.3288)\n",
      "1 46 tensor(0.3878)\n",
      "1 47 tensor(0.4723)\n",
      "1 48 tensor(1.0821)\n",
      "1 49 tensor(1.0903)\n",
      "1 50 tensor(1.1315)\n",
      "1 51 tensor(1.0021)\n",
      "1 52 tensor(0.6025)\n",
      "1 53 tensor(0.2749)\n",
      "1 54 tensor(0.6685)\n",
      "1 55 tensor(0.9956)\n",
      "1 56 tensor(0.7780)\n",
      "1 57 tensor(0.8166)\n",
      "1 58 tensor(1.1459)\n",
      "1 59 tensor(1.0189)\n",
      "1 60 tensor(0.4263)\n",
      "1 61 tensor(0.4732)\n",
      "1 62 tensor(1.0357)\n",
      "1 63 tensor(1.1153)\n"
     ]
    }
   ],
   "source": [
    "for ifr in range(len(kmatrix_from_kblocks)):\n",
    "    for ik in range(len(kmatrix_from_kblocks[ifr])):\n",
    "        # print(ifr, ik, torch.norm(kmatrix_from_kblocks[ifr][ik] - dataset.fock_kspace[ifr][ik]))\n",
    "        print(ifr, ik, torch.norm(kmatrix_from_kblocks[ifr][ik] - target_kspace[ifr][ik]))\n",
    "        # print(ifr, ik, torch.norm(kmatrix_from_kblocks[ifr] - target_kspace[ifr]))\n",
    "        "
   ]
  },
  {
   "cell_type": "markdown",
   "id": "abeb3115-a7da-47ac-b9a6-7c95eadadbe6",
   "metadata": {},
   "source": [
    "# Features "
   ]
  },
  {
   "cell_type": "code",
   "execution_count": 6,
   "id": "bc694fab-5561-4db4-8509-8258a97a6594",
   "metadata": {},
   "outputs": [
    {
     "name": "stdout",
     "output_type": "stream",
     "text": [
      "cpu pair features\n",
      "cpu single center features\n",
      "cpu single center features\n"
     ]
    }
   ],
   "source": [
    "max_radial  = 6\n",
    "max_angular = 4\n",
    "atomic_gaussian_width = 0.3\n",
    "spline_basis = False\n",
    "\n",
    "hypers_pair = {'cutoff': cutoff,\n",
    "               'max_radial': max_radial,\n",
    "               'max_angular': max_angular,\n",
    "               'atomic_gaussian_width': atomic_gaussian_width,\n",
    "               'center_atom_weight': 1,\n",
    "               \"radial_basis\": {\"Gto\": {}},\n",
    "               \"cutoff_function\": {\"ShiftedCosine\": {\"width\": 0.1}}}\n",
    "\n",
    "\n",
    "hypers_atom = {'cutoff': 4,\n",
    "               'max_radial': max_radial,\n",
    "               'max_angular': max_angular,\n",
    "               'atomic_gaussian_width': atomic_gaussian_width,\n",
    "               'center_atom_weight': 1,\n",
    "               \"radial_basis\": {\"Gto\": {}},\n",
    "               \"cutoff_function\": {\"ShiftedCosine\": {\"width\": 0.1}}}\n",
    "\n",
    "\n",
    "return_rho0ij = False\n",
    "both_centers = False\n",
    "LCUT = 3\n",
    "\n",
    "hfeat = compute_features(dataset, hypers_atom, hypers_pair=hypers_pair, lcut = LCUT, all_pairs=False)"
   ]
  },
  {
   "cell_type": "code",
   "execution_count": 11,
   "id": "2ab15bd9-33cf-4869-908d-3b3a64b69c93",
   "metadata": {},
   "outputs": [
    {
     "name": "stdout",
     "output_type": "stream",
     "text": [
      "cpu pair features\n"
     ]
    },
    {
     "name": "stdout",
     "output_type": "stream",
     "text": [
      "cpu single center features\n",
      "cpu single center features\n"
     ]
    }
   ],
   "source": [
    "hfeat_test = compute_features(testset, hypers_atom, hypers_pair=hypers_pair, lcut = LCUT, all_pairs=False)"
   ]
  },
  {
   "cell_type": "markdown",
   "id": "31d25541-4cdc-40b7-b5ee-ee751ca7cafd",
   "metadata": {},
   "source": [
    "# Model"
   ]
  },
  {
   "cell_type": "code",
   "execution_count": 7,
   "id": "d4983fb7-673e-451e-832a-6be5a25d62a6",
   "metadata": {},
   "outputs": [],
   "source": [
    "seed = 10\n",
    "torch.manual_seed(seed)\n",
    "np.random.seed(seed)\n",
    "from mlelec.models.linear import LinearModelPeriodic\n",
    "model = LinearModelPeriodic(twocfeat = hfeat, \n",
    "                            target_blocks = target_coupled_blocks,\n",
    "                            frames = dataset.structures, orbitals = dataset.basis, \n",
    "                            device = device,\n",
    "                            bias = False, #True\n",
    "                            nhidden = 32, \n",
    "                            nlayers = 1,\n",
    "                            # activation = 'SiLU',\n",
    "                            # apply_norm = True\n",
    "                           )\n",
    "\n",
    "model = model.double()"
   ]
  },
  {
   "cell_type": "markdown",
   "id": "03284892-0cc3-4d26-b0a0-e72f7795274f",
   "metadata": {
    "jp-MarkdownHeadingCollapsed": true
   },
   "source": [
    "## RIDGE models "
   ]
  },
  {
   "cell_type": "code",
   "execution_count": 13,
   "id": "c48696ec-8c5b-4d09-9bc6-de07553f972b",
   "metadata": {},
   "outputs": [],
   "source": [
    "def train_ridge(model, target_blocks, set_bias=False, alphas = None, kernel_ridge = False, alpha = None):\n",
    "    block_losses = {}\n",
    "    loss = 0\n",
    "    pred, ridges = model.fit_ridge_analytical(return_matrix = False, set_bias = set_bias, kernel_ridge = kernel_ridge, alphas = alphas, alpha = alpha)\n",
    "\n",
    "    for (key, block) in pred.items():\n",
    "        block_loss=torch.norm(block.values - target_blocks[key].values)**2\n",
    "        loss += block_loss\n",
    "        \n",
    "        block_losses[tuple(key.values)] = block_loss\n",
    "\n",
    "    # print(np.sum(list(block_losses.values())))\n",
    "    return loss, pred, ridges, block_losses#, kernels "
   ]
  },
  {
   "cell_type": "markdown",
   "id": "08a27a8e-9edc-4869-9dc5-443d9e6f04d7",
   "metadata": {},
   "source": [
    "### A - direct H(T)"
   ]
  },
  {
   "cell_type": "code",
   "execution_count": 14,
   "id": "36d603e5-c7ed-4df0-95ac-105f6bdd280c",
   "metadata": {},
   "outputs": [
    {
     "name": "stdout",
     "output_type": "stream",
     "text": [
      "tensor(3.1771e-06)\n"
     ]
    }
   ],
   "source": [
    "model_ridge = LinearModelPeriodic(twocfeat = hfeat, \n",
    "                                  target_blocks = target_coupled_blocks,\n",
    "                                  frames = dataset.structures, orbitals = dataset.basis, \n",
    "                                  device = device)\n",
    "\n",
    "model_ridge = model_ridge.double()\n",
    "loss_ridge_bias, pred_ridge_bias, ridges_bias, loss_blocks = train_ridge(model_ridge, \n",
    "                                                                         target_coupled_blocks,\n",
    "                                                                         set_bias = True,\n",
    "                                                                         kernel_ridge = False,\n",
    "                                                                         # alphas = np.logspace(-10, -2, 100),\n",
    "                                                                         alphas = np.logspace(-10, 1, 100),\n",
    "                                                                         # alpha = 1e-4\n",
    "                                                                        )\n",
    "print(loss_ridge_bias)"
   ]
  },
  {
   "cell_type": "code",
   "execution_count": 15,
   "id": "f6757ae9-3f6e-4659-b375-e15b2ca31913",
   "metadata": {},
   "outputs": [
    {
     "name": "stderr",
     "output_type": "stream",
     "text": [
      "/media/nigam/b5749eb7-d3f1-4495-adeb-2c318fb7d0de/MAC/mlelec/src/mlelec/models/linear.py:782: UserWarning: Using train target_blocks, otherwise provide test target_blocks\n",
      "  warnings.warn('Using train target_blocks, otherwise provide test target_blocks')\n"
     ]
    },
    {
     "data": {
      "text/plain": [
       "tensor(0.0033)"
      ]
     },
     "execution_count": 15,
     "metadata": {},
     "output_type": "execute_result"
    }
   ],
   "source": [
    "pred_test_ridge = model_ridge.predict_ridge_analytical(ridges_bias, hfeat_test)\n",
    "L2_loss(test_coupled_blocks, pred_test_ridge)"
   ]
  },
  {
   "cell_type": "markdown",
   "id": "fd6f021a-ce96-4c46-86c4-7a0ff2c7351b",
   "metadata": {},
   "source": [
    "### B. - baselined H(T)"
   ]
  },
  {
   "cell_type": "code",
   "execution_count": 16,
   "id": "74bf370f-7ef4-4b0f-a7c3-a9d0efe8772e",
   "metadata": {},
   "outputs": [
    {
     "name": "stdout",
     "output_type": "stream",
     "text": [
      "tensor(5.2701e-09)\n"
     ]
    },
    {
     "data": {
      "text/plain": [
       "tensor(5.2701e-09)"
      ]
     },
     "execution_count": 16,
     "metadata": {},
     "output_type": "execute_result"
    }
   ],
   "source": [
    "model_ridge = LinearModelPeriodic(twocfeat = hfeat, \n",
    "                                  target_blocks = target_coupled_blocks_base,\n",
    "                                  frames = dataset.structures, orbitals = dataset.basis, \n",
    "                                  device = device)\n",
    "\n",
    "model_ridge = model_ridge.double()\n",
    "loss_ridge_bias, pred_ridge_bias, ridges_bias, loss_blocks = train_ridge(model_ridge, \n",
    "                                                                         target_coupled_blocks_base,\n",
    "                                                                         set_bias = True,\n",
    "                                                                         kernel_ridge = False,\n",
    "                                                                         # alphas = np.logspace(-10, -2, 100),\n",
    "                                                                         alphas = np.logspace(-10, 1, 100),\n",
    "                                                                         # alpha = 1e-4\n",
    "                                                                        )\n",
    "print(loss_ridge_bias)\n",
    "pred_ht = mts.add(pred_ridge_bias, target_coupled_blocks_fock0)\n",
    "L2_loss(pred_ht, target_coupled_blocks)"
   ]
  },
  {
   "cell_type": "code",
   "execution_count": 17,
   "id": "c0fbe88b-8a83-46fc-a044-de7436b73086",
   "metadata": {},
   "outputs": [
    {
     "name": "stderr",
     "output_type": "stream",
     "text": [
      "/media/nigam/b5749eb7-d3f1-4495-adeb-2c318fb7d0de/MAC/mlelec/src/mlelec/models/linear.py:782: UserWarning: Using train target_blocks, otherwise provide test target_blocks\n",
      "  warnings.warn('Using train target_blocks, otherwise provide test target_blocks')\n"
     ]
    }
   ],
   "source": [
    "pred_test_ridge = model_ridge.predict_ridge_analytical(ridges_bias, hfeat_test)\n",
    "# pred_ht = mts.add(pred_test_ridge, test_coupled_blocks_fock0)\n",
    "# L2_loss(test_coupled_blocks, pred_ht)"
   ]
  },
  {
   "cell_type": "markdown",
   "id": "8960211b-8b56-47ae-917d-a1b20f358cd5",
   "metadata": {},
   "source": [
    "### D. -  H(k)"
   ]
  },
  {
   "cell_type": "code",
   "execution_count": 48,
   "id": "b3380273",
   "metadata": {},
   "outputs": [],
   "source": [
    "from mlelec.utils.pbc_utils import precompute_phase, TMap_bloch_sums, TMap_bloch_sums_feat\n",
    "phase, indices ,_= precompute_phase(hfeat, dataset)\n",
    "hfeat_kspace = TMap_bloch_sums_feat(hfeat, phase, indices, _, return_tensormap=True)"
   ]
  },
  {
   "cell_type": "code",
   "execution_count": 49,
   "id": "e77bbae2",
   "metadata": {},
   "outputs": [],
   "source": [
    "# (target_coupled_blocks[4].values[0]*np.sqrt(2)+torch.sum(target_coupled_blocks[11].values[:38], axis=0))\n",
    "# ((hfeat[0].values[0]*np.sqrt(2)+torch.sum(hfeat[7].values[:38], axis=0)) - hfeat_kspace[0].values[0]).norm()"
   ]
  },
  {
   "cell_type": "code",
   "execution_count": 50,
   "id": "623e2bba",
   "metadata": {},
   "outputs": [],
   "source": [
    "phase, indices ,_= precompute_phase(target_coupled_blocks, dataset)\n",
    "target_coupled_blocks_k = TMap_bloch_sums(target_coupled_blocks, phase, indices, _, return_tensormap=True)"
   ]
  },
  {
   "cell_type": "code",
   "execution_count": 51,
   "id": "fb02397b",
   "metadata": {},
   "outputs": [],
   "source": [
    "kblocks = _to_coupled_basis(kmatrix_to_blocks(dataset, cutoff=cutoff),skip_symmetry = False, device = device, translations = False)"
   ]
  },
  {
   "cell_type": "code",
   "execution_count": 88,
   "id": "f627dbe1",
   "metadata": {},
   "outputs": [
    {
     "name": "stdout",
     "output_type": "stream",
     "text": [
      "tensor([-1,  6,  1,  0,  6,  2,  0,  0], dtype=torch.int32) tensor(2.3452e-15)\n",
      "tensor([-1,  6,  1,  0,  6,  2,  1,  1], dtype=torch.int32) tensor(8.6941e-15)\n",
      "tensor([-1,  6,  2,  0,  6,  2,  1,  1], dtype=torch.int32) tensor(3.5022e-09)\n",
      "tensor([-1,  6,  2,  1,  6,  2,  1,  1], dtype=torch.int32) tensor(7.3161e-14)\n",
      "tensor([1, 6, 1, 0, 6, 1, 0, 0], dtype=torch.int32) tensor(8.5487e-14)\n",
      "tensor([1, 6, 1, 0, 6, 2, 0, 0], dtype=torch.int32) tensor(2.3656e-14)\n",
      "tensor([1, 6, 1, 0, 6, 2, 1, 1], dtype=torch.int32) tensor(3.7698e-15)\n",
      "tensor([1, 6, 2, 0, 6, 2, 0, 0], dtype=torch.int32) tensor(1.6346e-09)\n",
      "tensor([1, 6, 2, 0, 6, 2, 1, 1], dtype=torch.int32) tensor(2.5883e-11)\n",
      "tensor([1, 6, 2, 1, 6, 2, 1, 0], dtype=torch.int32) tensor(1.3456e-08)\n",
      "tensor([1, 6, 2, 1, 6, 2, 1, 2], dtype=torch.int32) tensor(2.0125e-08)\n"
     ]
    }
   ],
   "source": [
    "from mlelec.utils.metatensor_utils import sort_block_hack, sort_hack\n",
    "for (k1, b1)in target_coupled_blocks_k.items():\n",
    "    # b1 = sort_block_hack(b1)\n",
    "    b2 = kblocks.block(k1)\n",
    "    b2 = sort_block_hack(b2)\n",
    "    # b2 = _match_feature_and_target_samples(b1, b2, return_idx=True)\n",
    "    _,m1,m2 = b1.samples.intersection_and_mapping(b2.samples)\n",
    "    b2val = b2.values[m2]\n",
    "    assert torch.all(b1.samples.values[m1] == b2.samples.values[m2]), (b1.samples.values[m1], b2.samples.values[m2])\n",
    "    # print(k1.values, b1.values.shape,b2.values.shape)\n",
    "    print(k1.values, (b1.values-b2val).norm())"
   ]
  },
  {
   "cell_type": "code",
   "execution_count": 89,
   "id": "334acb16",
   "metadata": {},
   "outputs": [],
   "source": [
    "kblocks = sort_hack(kblocks)"
   ]
  },
  {
   "cell_type": "code",
   "execution_count": null,
   "id": "f8aeb0c6",
   "metadata": {},
   "outputs": [],
   "source": []
  },
  {
   "cell_type": "code",
   "execution_count": 54,
   "id": "a35053ef",
   "metadata": {},
   "outputs": [
    {
     "name": "stdout",
     "output_type": "stream",
     "text": [
      "tensor(0.0004)\n"
     ]
    }
   ],
   "source": [
    "model_ridge = LinearModelPeriodic(twocfeat = hfeat_kspace, \n",
    "                                  target_blocks = target_coupled_blocks_k,\n",
    "                                  frames = dataset.structures, orbitals = dataset.basis, \n",
    "                                  device = device)\n",
    "\n",
    "model_ridge = model_ridge.double()\n",
    "loss_ridge_bias, pred_ridge_bias, ridges_bias, loss_blocks = train_ridge(model_ridge, \n",
    "                                                                         target_coupled_blocks_k,\n",
    "                                                                         set_bias = True,\n",
    "                                                                         kernel_ridge = False,\n",
    "                                                                         alphas = np.logspace(-7, 2, 100),\n",
    "                                                                        #  alphas = np.logspace(-6, 4, 100),\n",
    "                                                                        #  alpha = 1e-4\n",
    "                                                                        )\n",
    "print(loss_ridge_bias)"
   ]
  },
  {
   "cell_type": "code",
   "execution_count": 22,
   "id": "3de8fd20",
   "metadata": {},
   "outputs": [
    {
     "data": {
      "text/plain": [
       "(1e-10, 0.0005232541480597252)"
      ]
     },
     "execution_count": 22,
     "metadata": {},
     "output_type": "execute_result"
    },
    {
     "data": {
      "image/png": "[encoded data removed]",
      "text/plain": [
       "<Figure size 1920x480 with 2 Axes>"
      ]
     },
     "metadata": {},
     "output_type": "display_data"
    }
   ],
   "source": [
    "fig, ax, ax2 = plot_block_errors(target_coupled_blocks_k, pred_ridge_bias, plot_loss=True)\n",
    "ax.set_ylim(1e-10,)\n",
    "ax2.set_ylim(1e-10,)"
   ]
  },
  {
   "cell_type": "code",
   "execution_count": 92,
   "id": "70dd814c",
   "metadata": {},
   "outputs": [
    {
     "name": "stdout",
     "output_type": "stream",
     "text": [
      "tensor(0.0004)\n"
     ]
    }
   ],
   "source": [
    "model_ridge = LinearModelPeriodic(twocfeat = hfeat_kspace, \n",
    "                                  target_blocks = kblocks,\n",
    "                                  frames = dataset.structures, orbitals = dataset.basis, \n",
    "                                  device = device)\n",
    "\n",
    "model_ridge = model_ridge.double()\n",
    "loss_ridge_bias, pred_ridge_bias, ridges_bias, loss_blocks = train_ridge(model_ridge, \n",
    "                                                                         kblocks,\n",
    "                                                                         set_bias = True,\n",
    "                                                                         kernel_ridge = False,\n",
    "                                                                         alphas = np.logspace(-7, 2, 100),\n",
    "                                                                        #  alphas = np.logspace(-6, 4, 100),\n",
    "                                                                        #  alpha = 1e-4\n",
    "                                                                        )\n",
    "print(loss_ridge_bias)"
   ]
  },
  {
   "cell_type": "markdown",
   "id": "57cfebb1-b09a-4b5c-bfeb-68005c619d90",
   "metadata": {},
   "source": [
    "### E. - baselined H(k)"
   ]
  },
  {
   "cell_type": "code",
   "execution_count": 22,
   "id": "0e606bc8-b74a-46dc-9113-251c8d7830dd",
   "metadata": {},
   "outputs": [],
   "source": [
    "phase, indices ,_= precompute_phase(target_coupled_blocks_base, dataset)\n",
    "target_coupled_blocks_base_k = TMap_bloch_sums(target_coupled_blocks_base, phase, indices, _, return_tensormap=True)"
   ]
  },
  {
   "cell_type": "code",
   "execution_count": 23,
   "id": "3e45fa48",
   "metadata": {},
   "outputs": [
    {
     "name": "stdout",
     "output_type": "stream",
     "text": [
      "tensor(7.4700e-07)\n"
     ]
    }
   ],
   "source": [
    "model_ridge = LinearModelPeriodic(twocfeat = hfeat_kspace, \n",
    "                                  target_blocks = target_coupled_blocks_base_k,\n",
    "                                  frames = dataset.structures, orbitals = dataset.basis, \n",
    "                                  device = device)\n",
    "\n",
    "model_ridge = model_ridge.double()\n",
    "loss_ridge_bias, pred_ridge_bias, ridges_bias, loss_blocks = train_ridge(model_ridge, \n",
    "                                                                         target_coupled_blocks_base_k,\n",
    "                                                                         set_bias = True,\n",
    "                                                                         kernel_ridge = False,\n",
    "                                                                         alphas = np.logspace(-7, 2, 100),\n",
    "                                                                        #  alphas = np.logspace(-6, 4, 100),\n",
    "                                                                        #  alpha = 1e-4\n",
    "                                                                        )\n",
    "print(loss_ridge_bias)"
   ]
  },
  {
   "cell_type": "markdown",
   "id": "aebb3329-15f3-4cf2-8591-4c0708f1860f",
   "metadata": {},
   "source": [
    "### G. - orthogonalize H(k) "
   ]
  },
  {
   "cell_type": "code",
   "execution_count": 105,
   "id": "44c31230",
   "metadata": {},
   "outputs": [],
   "source": [
    "ortho_target_kspace =[]# torch.stack([lowdin_orthogonalize(h, s) for h, s in zip(ttarget_kspace, overlap_kspace)])\n",
    "for ifr in range(len(target_kspace)):\n",
    "    ot = torch.stack([lowdin_orthogonalize(h, s) for h, s in zip(target_kspace[ifr], overlap_kspace[ifr])])\n",
    "    ortho_target_kspace.append(ot)"
   ]
  },
  {
   "cell_type": "code",
   "execution_count": 106,
   "id": "9c8dde27",
   "metadata": {},
   "outputs": [],
   "source": [
    "e_ortho=[]\n",
    "for ifr in range(len(ortho_target_kspace)):\n",
    "   eifr=[]\n",
    "   for k in range(len(ortho_target_kspace[ifr])):\n",
    "      eifr.append(torch.linalg.eigvalsh(ortho_target_kspace[ifr][k]))\n",
    "   e_ortho.append(torch.stack(eifr))"
   ]
  },
  {
   "cell_type": "code",
   "execution_count": 107,
   "id": "aaa5201e",
   "metadata": {},
   "outputs": [],
   "source": [
    "import scipy\n",
    "e_nonorth=[]\n",
    "for ifr in range(len(target_kspace)):\n",
    "   eifr=[]\n",
    "   for k in range(len(target_kspace[ifr])):\n",
    "      eifr.append(torch.tensor(scipy.linalg.eigvalsh(target_kspace[ifr][k], overlap_kspace[ifr][k])))\n",
    "   e_nonorth.append(torch.stack(eifr))"
   ]
  },
  {
   "cell_type": "code",
   "execution_count": 108,
   "id": "199504d6",
   "metadata": {},
   "outputs": [
    {
     "name": "stdout",
     "output_type": "stream",
     "text": [
      "0 tensor(1.3181e-13)\n",
      "1 tensor(1.3615e-13)\n",
      "2 tensor(1.4274e-13)\n",
      "3 tensor(1.1559e-13)\n",
      "4 tensor(1.1993e-13)\n"
     ]
    }
   ],
   "source": [
    "for ifr in range(len(dataset)):\n",
    "    print(ifr, torch.norm(e_ortho[ifr]-e_nonorth[ifr]))"
   ]
  },
  {
   "cell_type": "code",
   "execution_count": 62,
   "id": "763e8e05",
   "metadata": {},
   "outputs": [],
   "source": [
    "# plt.plot(torch.cat(e_ortho).numpy(), torch.cat(e_nonorth).numpy(), 'o')"
   ]
  },
  {
   "cell_type": "code",
   "execution_count": 109,
   "id": "84cd31f6",
   "metadata": {},
   "outputs": [],
   "source": [
    "oblocks = _to_coupled_basis(kmatrix_to_blocks(dataset, cutoff=cutoff, matrix = ortho_target_kspace),skip_symmetry = False, device = device, translations = False)\n",
    "oblocks = sort_hack(oblocks)"
   ]
  },
  {
   "cell_type": "code",
   "execution_count": 114,
   "id": "ebffeb2a",
   "metadata": {},
   "outputs": [
    {
     "name": "stdout",
     "output_type": "stream",
     "text": [
      "tensor(10058.2337)\n"
     ]
    }
   ],
   "source": [
    "model_ridge = LinearModelPeriodic(twocfeat = hfeat_kspace, \n",
    "                                  target_blocks = oblocks,\n",
    "                                  frames = dataset.structures, orbitals = dataset.basis, \n",
    "                                  device = device)\n",
    "\n",
    "model_ridge = model_ridge.double()\n",
    "loss_ridge_bias, pred_ridge_bias, ridges_bias, loss_blocks = train_ridge(model_ridge, \n",
    "                                                                         oblocks,\n",
    "                                                                         set_bias = True,\n",
    "                                                                         kernel_ridge = False,\n",
    "                                                                         alphas = np.logspace(-20,4, 100),\n",
    "                                                                        #  alphas = np.logspace(-6, 4, 100),\n",
    "                                                                        #  alpha = 1e-4\n",
    "                                                                        )\n",
    "print(loss_ridge_bias)"
   ]
  },
  {
   "cell_type": "code",
   "execution_count": 115,
   "id": "d931d416",
   "metadata": {},
   "outputs": [
    {
     "data": {
      "text/plain": [
       "(1e-10, 5432.72529376023)"
      ]
     },
     "execution_count": 115,
     "metadata": {},
     "output_type": "execute_result"
    },
    {
     "data": {
      "image/png": "[encoded data removed]",
      "text/plain": [
       "<Figure size 1920x480 with 2 Axes>"
      ]
     },
     "metadata": {},
     "output_type": "display_data"
    }
   ],
   "source": [
    "fig, ax, ax2 = plot_block_errors(oblocks, pred_ridge_bias, plot_loss=True)\n",
    "ax.set_ylim(1e-10,)\n",
    "ax2.set_ylim(1e-10,)"
   ]
  },
  {
   "cell_type": "markdown",
   "id": "f461c162",
   "metadata": {},
   "source": [
    "### H. - orthogonalize baseline"
   ]
  },
  {
   "cell_type": "code",
   "execution_count": 100,
   "id": "fc9afb56",
   "metadata": {},
   "outputs": [],
   "source": [
    "ortho_target_kspace_base =[]# torch.stack([lowdin_orthogonalize(h, s) for h, s in zip(ttarget_kspace, overlap_kspace)])\n",
    "for ifr in range(len(target_kspace)):\n",
    "    ot = torch.stack([lowdin_orthogonalize(h, s) for h, s in zip(target_kspace_base[ifr], overlap_kspace[ifr])])\n",
    "    ortho_target_kspace_base.append(ot)"
   ]
  },
  {
   "cell_type": "code",
   "execution_count": 101,
   "id": "fa0b6453",
   "metadata": {},
   "outputs": [],
   "source": [
    "oblocks_base = _to_coupled_basis(kmatrix_to_blocks(dataset, cutoff=cutoff, matrix = ortho_target_kspace_base),skip_symmetry = False, device = device, translations = False)\n",
    "oblocks_base = sort_hack(oblocks_base)"
   ]
  },
  {
   "cell_type": "code",
   "execution_count": 104,
   "id": "cc3213a6",
   "metadata": {},
   "outputs": [
    {
     "name": "stdout",
     "output_type": "stream",
     "text": [
      "tensor(0.6547)\n"
     ]
    }
   ],
   "source": [
    "model_ridge = LinearModelPeriodic(twocfeat = hfeat_kspace, \n",
    "                                  target_blocks = oblocks_base,\n",
    "                                  frames = dataset.structures, orbitals = dataset.basis, \n",
    "                                  device = device)\n",
    "\n",
    "model_ridge = model_ridge.double()\n",
    "loss_ridge_bias, pred_ridge_bias, ridges_bias, loss_blocks = train_ridge(model_ridge, \n",
    "                                                                         oblocks_base,\n",
    "                                                                         set_bias = True,\n",
    "                                                                         kernel_ridge = False,\n",
    "                                                                         alphas = np.logspace(-7,2, 100),\n",
    "                                                                        #  alphas = np.logspace(-6, 4, 100),\n",
    "                                                                        #  alpha = 1e-4\n",
    "                                                                        )\n",
    "print(loss_ridge_bias)"
   ]
  },
  {
   "cell_type": "markdown",
   "id": "a4a4852d-758c-4755-8d47-959cd1b0fd51",
   "metadata": {},
   "source": [
    "## Torch"
   ]
  },
  {
   "cell_type": "code",
   "execution_count": 11,
   "id": "7f969926-8ef2-4f10-b3a6-646b71900985",
   "metadata": {},
   "outputs": [],
   "source": [
    "from mlelec.utils.pbc_utils import TMap_bloch_sums, precompute_phase\n",
    "from copy import deepcopy"
   ]
  },
  {
   "cell_type": "code",
   "execution_count": 8,
   "id": "4986bee1",
   "metadata": {},
   "outputs": [],
   "source": [
    "target_keynames = target_coupled_blocks.keys.names\n",
    "keys = []\n",
    "blocks= []\n",
    "for k,b in target_coupled_blocks.items(): \n",
    "    li,lj, L = k['l_i'], k['l_j'], k['L']\n",
    "    inversion_sigma = (-1) ** (li + lj + L)\n",
    "    keys.append(torch.cat((k.values, torch.tensor([inversion_sigma]))))\n",
    "    blocks.append(b.copy())\n",
    "target_coupled_blocks = TensorMap( Labels(k.names+['inversion_sigma'], torch.stack(keys)), blocks)\n",
    "                 \n",
    "target_coupled_blocks_copy = target_coupled_blocks.copy()\n",
    "target_coupled_blocks = target_coupled_blocks.keys_to_properties(['n_i', 'l_i',  'n_j','l_j'])"
   ]
  },
  {
   "cell_type": "code",
   "execution_count": 74,
   "id": "2dd5ab45-b27e-407b-bc95-0a25dcd343b4",
   "metadata": {},
   "outputs": [],
   "source": [
    "phase, _,_ = precompute_phase(target_coupled_blocks, dataset)\n",
    "target_k = TMap_bloch_sums(target_coupled_blocks, phase)\n",
    "phase, _,_ = precompute_phase(target_coupled_blocks_copy, dataset)\n",
    "target_k_copy = TMap_bloch_sums(target_coupled_blocks_copy, phase)"
   ]
  },
  {
   "cell_type": "code",
   "execution_count": 136,
   "id": "b9faff9f-5345-4941-9492-fab8f060aac7",
   "metadata": {},
   "outputs": [],
   "source": []
  },
  {
   "cell_type": "code",
   "execution_count": 68,
   "id": "1b12efbc-c626-4973-86ec-e429029f3cbc",
   "metadata": {},
   "outputs": [
    {
     "name": "stdout",
     "output_type": "stream",
     "text": [
      "tensor(1.4420e-15)\n",
      "tensor(5.9375e-15)\n",
      "tensor(2.2834e-09)\n",
      "tensor(5.7608e-14)\n",
      "tensor(4.9196e-14)\n",
      "tensor(1.4256e-14)\n",
      "tensor(1.1339e-09)\n",
      "tensor(9.3038e-09)\n",
      "tensor(2.4258e-15)\n",
      "tensor(1.8158e-12)\n",
      "tensor(1.3905e-08)\n"
     ]
    },
    {
     "name": "stderr",
     "output_type": "stream",
     "text": [
      "/media/nigam/b5749eb7-d3f1-4495-adeb-2c318fb7d0de/MAC/mlelec/src/mlelec/utils/pbc_utils.py:289: UserWarning: To copy construct from a tensor, it is recommended to use sourceTensor.clone().detach() or sourceTensor.clone().detach().requires_grad_(True), rather than torch.tensor(sourceTensor).\n",
      "  keys.append(torch.hstack((k.values, torch.tensor(nlinlj))))\n"
     ]
    }
   ],
   "source": [
    "# for k,b in target_k_copy.items():\n",
    "for k,b in move_orbitals_to_keys(target_k).items():\n",
    "    k1 = Labels(k.names[:-1], k.values[:-1].reshape(1,-1))\n",
    "    b1 = kblocks_from_blochsum.block(k1)\n",
    "    b = sort_block_hack(b)\n",
    "    b1 = sort_block_hack(b1)\n",
    "    assert torch.all(b.samples.values == b1.samples.values)\n",
    "    print( torch.norm(b.values- b1.values))"
   ]
  },
  {
   "cell_type": "code",
   "execution_count": 69,
   "id": "4ce1595f",
   "metadata": {},
   "outputs": [],
   "source": [
    "from mlelec.models.linear_integrated import LinearModelPeriodic"
   ]
  },
  {
   "cell_type": "code",
   "execution_count": 76,
   "id": "b49e217b",
   "metadata": {},
   "outputs": [],
   "source": [
    "model = LinearModelPeriodic(twocfeat = hfeat,\n",
    "                            target_blocks = target_coupled_blocks,\n",
    "                            frames = dataset.structures, orbitals = dataset.basis, \n",
    "                            device = device,\n",
    "                            bias = False, #True\n",
    "                            nhidden = 64, \n",
    "                            nlayers = 1,\n",
    "                            # activation = 'SiLU',\n",
    "                            # apply_norm = True\n",
    "                           )"
   ]
  },
  {
   "cell_type": "code",
   "execution_count": 77,
   "id": "18835986-49e0-44c2-b879-1d10b87e135d",
   "metadata": {},
   "outputs": [],
   "source": [
    "optim = torch.optim.Adam(model.parameters(), lr = 1e-3)"
   ]
  },
  {
   "cell_type": "code",
   "execution_count": 78,
   "id": "871233ee-0d5b-4500-9109-c4d03dd9b12d",
   "metadata": {},
   "outputs": [],
   "source": [
    "losses = []"
   ]
  },
  {
   "cell_type": "code",
   "execution_count": 87,
   "id": "c993a475",
   "metadata": {
    "scrolled": true
   },
   "outputs": [
    {
     "name": "stdout",
     "output_type": "stream",
     "text": [
      "Labels(\n",
      "    block_type  species_i  species_j  L  inversion_sigma\n",
      "        -1          6          6      0         1\n",
      "        -1          6          6      1         1\n",
      "                            ...\n",
      "        1           6          6      1         1\n",
      "        1           6          6      2         1\n",
      ") dict_keys([(-1, 6, 6, 0, 1), (-1, 6, 6, 1, 1), (-1, 6, 6, 1, -1), (0, 6, 6, 0, 1), (0, 6, 6, 1, 1), (0, 6, 6, 2, 1), (1, 6, 6, 0, 1), (1, 6, 6, 1, 1), (1, 6, 6, 2, 1)])\n",
      "0 0.009071787352785333 0.43237556019041307\n",
      "Labels(\n",
      "    block_type  species_i  species_j  L  inversion_sigma\n",
      "        -1          6          6      0         1\n",
      "        -1          6          6      1         1\n",
      "                            ...\n",
      "        1           6          6      1         1\n",
      "        1           6          6      2         1\n",
      ") dict_keys([(-1, 6, 6, 0, 1), (-1, 6, 6, 1, 1), (-1, 6, 6, 1, -1), (0, 6, 6, 0, 1), (0, 6, 6, 1, 1), (0, 6, 6, 2, 1), (1, 6, 6, 0, 1), (1, 6, 6, 1, 1), (1, 6, 6, 2, 1)])\n",
      "Labels(\n",
      "    block_type  species_i  species_j  L  inversion_sigma\n",
      "        -1          6          6      0         1\n",
      "        -1          6          6      1         1\n",
      "                            ...\n",
      "        1           6          6      1         1\n",
      "        1           6          6      2         1\n",
      ") dict_keys([(-1, 6, 6, 0, 1), (-1, 6, 6, 1, 1), (-1, 6, 6, 1, -1), (0, 6, 6, 0, 1), (0, 6, 6, 1, 1), (0, 6, 6, 2, 1), (1, 6, 6, 0, 1), (1, 6, 6, 1, 1), (1, 6, 6, 2, 1)])\n",
      "Labels(\n",
      "    block_type  species_i  species_j  L  inversion_sigma\n",
      "        -1          6          6      0         1\n",
      "        -1          6          6      1         1\n",
      "                            ...\n",
      "        1           6          6      1         1\n",
      "        1           6          6      2         1\n",
      ") dict_keys([(-1, 6, 6, 0, 1), (-1, 6, 6, 1, 1), (-1, 6, 6, 1, -1), (0, 6, 6, 0, 1), (0, 6, 6, 1, 1), (0, 6, 6, 2, 1), (1, 6, 6, 0, 1), (1, 6, 6, 1, 1), (1, 6, 6, 2, 1)])\n",
      "Labels(\n",
      "    block_type  species_i  species_j  L  inversion_sigma\n",
      "        -1          6          6      0         1\n",
      "        -1          6          6      1         1\n",
      "                            ...\n",
      "        1           6          6      1         1\n",
      "        1           6          6      2         1\n",
      ") dict_keys([(-1, 6, 6, 0, 1), (-1, 6, 6, 1, 1), (-1, 6, 6, 1, -1), (0, 6, 6, 0, 1), (0, 6, 6, 1, 1), (0, 6, 6, 2, 1), (1, 6, 6, 0, 1), (1, 6, 6, 1, 1), (1, 6, 6, 2, 1)])\n",
      "Labels(\n",
      "    block_type  species_i  species_j  L  inversion_sigma\n",
      "        -1          6          6      0         1\n",
      "        -1          6          6      1         1\n",
      "                            ...\n",
      "        1           6          6      1         1\n",
      "        1           6          6      2         1\n",
      ") dict_keys([(-1, 6, 6, 0, 1), (-1, 6, 6, 1, 1), (-1, 6, 6, 1, -1), (0, 6, 6, 0, 1), (0, 6, 6, 1, 1), (0, 6, 6, 2, 1), (1, 6, 6, 0, 1), (1, 6, 6, 1, 1), (1, 6, 6, 2, 1)])\n",
      "Labels(\n",
      "    block_type  species_i  species_j  L  inversion_sigma\n",
      "        -1          6          6      0         1\n",
      "        -1          6          6      1         1\n",
      "                            ...\n",
      "        1           6          6      1         1\n",
      "        1           6          6      2         1\n",
      ") dict_keys([(-1, 6, 6, 0, 1), (-1, 6, 6, 1, 1), (-1, 6, 6, 1, -1), (0, 6, 6, 0, 1), (0, 6, 6, 1, 1), (0, 6, 6, 2, 1), (1, 6, 6, 0, 1), (1, 6, 6, 1, 1), (1, 6, 6, 2, 1)])\n",
      "Labels(\n",
      "    block_type  species_i  species_j  L  inversion_sigma\n",
      "        -1          6          6      0         1\n",
      "        -1          6          6      1         1\n",
      "                            ...\n",
      "        1           6          6      1         1\n",
      "        1           6          6      2         1\n",
      ") dict_keys([(-1, 6, 6, 0, 1), (-1, 6, 6, 1, 1), (-1, 6, 6, 1, -1), (0, 6, 6, 0, 1), (0, 6, 6, 1, 1), (0, 6, 6, 2, 1), (1, 6, 6, 0, 1), (1, 6, 6, 1, 1), (1, 6, 6, 2, 1)])\n",
      "Labels(\n",
      "    block_type  species_i  species_j  L  inversion_sigma\n",
      "        -1          6          6      0         1\n",
      "        -1          6          6      1         1\n",
      "                            ...\n",
      "        1           6          6      1         1\n",
      "        1           6          6      2         1\n",
      ") dict_keys([(-1, 6, 6, 0, 1), (-1, 6, 6, 1, 1), (-1, 6, 6, 1, -1), (0, 6, 6, 0, 1), (0, 6, 6, 1, 1), (0, 6, 6, 2, 1), (1, 6, 6, 0, 1), (1, 6, 6, 1, 1), (1, 6, 6, 2, 1)])\n",
      "Labels(\n",
      "    block_type  species_i  species_j  L  inversion_sigma\n",
      "        -1          6          6      0         1\n",
      "        -1          6          6      1         1\n",
      "                            ...\n",
      "        1           6          6      1         1\n",
      "        1           6          6      2         1\n",
      ") dict_keys([(-1, 6, 6, 0, 1), (-1, 6, 6, 1, 1), (-1, 6, 6, 1, -1), (0, 6, 6, 0, 1), (0, 6, 6, 1, 1), (0, 6, 6, 2, 1), (1, 6, 6, 0, 1), (1, 6, 6, 1, 1), (1, 6, 6, 2, 1)])\n",
      "Labels(\n",
      "    block_type  species_i  species_j  L  inversion_sigma\n",
      "        -1          6          6      0         1\n",
      "        -1          6          6      1         1\n",
      "                            ...\n",
      "        1           6          6      1         1\n",
      "        1           6          6      2         1\n",
      ") dict_keys([(-1, 6, 6, 0, 1), (-1, 6, 6, 1, 1), (-1, 6, 6, 1, -1), (0, 6, 6, 0, 1), (0, 6, 6, 1, 1), (0, 6, 6, 2, 1), (1, 6, 6, 0, 1), (1, 6, 6, 1, 1), (1, 6, 6, 2, 1)])\n",
      "Labels(\n",
      "    block_type  species_i  species_j  L  inversion_sigma\n",
      "        -1          6          6      0         1\n",
      "        -1          6          6      1         1\n",
      "                            ...\n",
      "        1           6          6      1         1\n",
      "        1           6          6      2         1\n",
      ") dict_keys([(-1, 6, 6, 0, 1), (-1, 6, 6, 1, 1), (-1, 6, 6, 1, -1), (0, 6, 6, 0, 1), (0, 6, 6, 1, 1), (0, 6, 6, 2, 1), (1, 6, 6, 0, 1), (1, 6, 6, 1, 1), (1, 6, 6, 2, 1)])\n",
      "Labels(\n",
      "    block_type  species_i  species_j  L  inversion_sigma\n",
      "        -1          6          6      0         1\n",
      "        -1          6          6      1         1\n",
      "                            ...\n",
      "        1           6          6      1         1\n",
      "        1           6          6      2         1\n",
      ") dict_keys([(-1, 6, 6, 0, 1), (-1, 6, 6, 1, 1), (-1, 6, 6, 1, -1), (0, 6, 6, 0, 1), (0, 6, 6, 1, 1), (0, 6, 6, 2, 1), (1, 6, 6, 0, 1), (1, 6, 6, 1, 1), (1, 6, 6, 2, 1)])\n",
      "Labels(\n",
      "    block_type  species_i  species_j  L  inversion_sigma\n",
      "        -1          6          6      0         1\n",
      "        -1          6          6      1         1\n",
      "                            ...\n",
      "        1           6          6      1         1\n",
      "        1           6          6      2         1\n",
      ") dict_keys([(-1, 6, 6, 0, 1), (-1, 6, 6, 1, 1), (-1, 6, 6, 1, -1), (0, 6, 6, 0, 1), (0, 6, 6, 1, 1), (0, 6, 6, 2, 1), (1, 6, 6, 0, 1), (1, 6, 6, 1, 1), (1, 6, 6, 2, 1)])\n",
      "Labels(\n",
      "    block_type  species_i  species_j  L  inversion_sigma\n",
      "        -1          6          6      0         1\n",
      "        -1          6          6      1         1\n",
      "                            ...\n",
      "        1           6          6      1         1\n",
      "        1           6          6      2         1\n",
      ") dict_keys([(-1, 6, 6, 0, 1), (-1, 6, 6, 1, 1), (-1, 6, 6, 1, -1), (0, 6, 6, 0, 1), (0, 6, 6, 1, 1), (0, 6, 6, 2, 1), (1, 6, 6, 0, 1), (1, 6, 6, 1, 1), (1, 6, 6, 2, 1)])\n",
      "Labels(\n",
      "    block_type  species_i  species_j  L  inversion_sigma\n",
      "        -1          6          6      0         1\n",
      "        -1          6          6      1         1\n",
      "                            ...\n",
      "        1           6          6      1         1\n",
      "        1           6          6      2         1\n",
      ") dict_keys([(-1, 6, 6, 0, 1), (-1, 6, 6, 1, 1), (-1, 6, 6, 1, -1), (0, 6, 6, 0, 1), (0, 6, 6, 1, 1), (0, 6, 6, 2, 1), (1, 6, 6, 0, 1), (1, 6, 6, 1, 1), (1, 6, 6, 2, 1)])\n",
      "Labels(\n",
      "    block_type  species_i  species_j  L  inversion_sigma\n",
      "        -1          6          6      0         1\n",
      "        -1          6          6      1         1\n",
      "                            ...\n",
      "        1           6          6      1         1\n",
      "        1           6          6      2         1\n",
      ") dict_keys([(-1, 6, 6, 0, 1), (-1, 6, 6, 1, 1), (-1, 6, 6, 1, -1), (0, 6, 6, 0, 1), (0, 6, 6, 1, 1), (0, 6, 6, 2, 1), (1, 6, 6, 0, 1), (1, 6, 6, 1, 1), (1, 6, 6, 2, 1)])\n",
      "Labels(\n",
      "    block_type  species_i  species_j  L  inversion_sigma\n",
      "        -1          6          6      0         1\n",
      "        -1          6          6      1         1\n",
      "                            ...\n",
      "        1           6          6      1         1\n",
      "        1           6          6      2         1\n",
      ") dict_keys([(-1, 6, 6, 0, 1), (-1, 6, 6, 1, 1), (-1, 6, 6, 1, -1), (0, 6, 6, 0, 1), (0, 6, 6, 1, 1), (0, 6, 6, 2, 1), (1, 6, 6, 0, 1), (1, 6, 6, 1, 1), (1, 6, 6, 2, 1)])\n",
      "Labels(\n",
      "    block_type  species_i  species_j  L  inversion_sigma\n",
      "        -1          6          6      0         1\n",
      "        -1          6          6      1         1\n",
      "                            ...\n",
      "        1           6          6      1         1\n",
      "        1           6          6      2         1\n",
      ") dict_keys([(-1, 6, 6, 0, 1), (-1, 6, 6, 1, 1), (-1, 6, 6, 1, -1), (0, 6, 6, 0, 1), (0, 6, 6, 1, 1), (0, 6, 6, 2, 1), (1, 6, 6, 0, 1), (1, 6, 6, 1, 1), (1, 6, 6, 2, 1)])\n"
     ]
    },
    {
     "ename": "KeyboardInterrupt",
     "evalue": "",
     "output_type": "error",
     "traceback": [
      "\u001b[0;31m---------------------------------------------------------------------------\u001b[0m",
      "\u001b[0;31mKeyboardInterrupt\u001b[0m                         Traceback (most recent call last)",
      "Cell \u001b[0;32mIn[87], line 4\u001b[0m\n\u001b[1;32m      2\u001b[0m \u001b[38;5;28;01mfor\u001b[39;00m epoch \u001b[38;5;129;01min\u001b[39;00m \u001b[38;5;28mrange\u001b[39m(\u001b[38;5;241m5000\u001b[39m):\n\u001b[1;32m      3\u001b[0m     optim\u001b[38;5;241m.\u001b[39mzero_grad()\n\u001b[0;32m----> 4\u001b[0m     pred \u001b[38;5;241m=\u001b[39m \u001b[43mmodel\u001b[49m\u001b[43m(\u001b[49m\u001b[43m)\u001b[49m\n\u001b[1;32m      5\u001b[0m     \u001b[38;5;28mprint\u001b[39m(pred\u001b[38;5;241m.\u001b[39mkeys, phase\u001b[38;5;241m.\u001b[39mkeys())\n\u001b[1;32m      6\u001b[0m     predk \u001b[38;5;241m=\u001b[39m TMap_bloch_sums(pred, phase)\n",
      "File \u001b[0;32m~/miniconda3/envs/py312/lib/python3.12/site-packages/torch/nn/modules/module.py:1532\u001b[0m, in \u001b[0;36mModule._wrapped_call_impl\u001b[0;34m(self, *args, **kwargs)\u001b[0m\n\u001b[1;32m   1530\u001b[0m     \u001b[38;5;28;01mreturn\u001b[39;00m \u001b[38;5;28mself\u001b[39m\u001b[38;5;241m.\u001b[39m_compiled_call_impl(\u001b[38;5;241m*\u001b[39margs, \u001b[38;5;241m*\u001b[39m\u001b[38;5;241m*\u001b[39mkwargs)  \u001b[38;5;66;03m# type: ignore[misc]\u001b[39;00m\n\u001b[1;32m   1531\u001b[0m \u001b[38;5;28;01melse\u001b[39;00m:\n\u001b[0;32m-> 1532\u001b[0m     \u001b[38;5;28;01mreturn\u001b[39;00m \u001b[38;5;28;43mself\u001b[39;49m\u001b[38;5;241;43m.\u001b[39;49m\u001b[43m_call_impl\u001b[49m\u001b[43m(\u001b[49m\u001b[38;5;241;43m*\u001b[39;49m\u001b[43margs\u001b[49m\u001b[43m,\u001b[49m\u001b[43m \u001b[49m\u001b[38;5;241;43m*\u001b[39;49m\u001b[38;5;241;43m*\u001b[39;49m\u001b[43mkwargs\u001b[49m\u001b[43m)\u001b[49m\n",
      "File \u001b[0;32m~/miniconda3/envs/py312/lib/python3.12/site-packages/torch/nn/modules/module.py:1541\u001b[0m, in \u001b[0;36mModule._call_impl\u001b[0;34m(self, *args, **kwargs)\u001b[0m\n\u001b[1;32m   1536\u001b[0m \u001b[38;5;66;03m# If we don't have any hooks, we want to skip the rest of the logic in\u001b[39;00m\n\u001b[1;32m   1537\u001b[0m \u001b[38;5;66;03m# this function, and just call forward.\u001b[39;00m\n\u001b[1;32m   1538\u001b[0m \u001b[38;5;28;01mif\u001b[39;00m \u001b[38;5;129;01mnot\u001b[39;00m (\u001b[38;5;28mself\u001b[39m\u001b[38;5;241m.\u001b[39m_backward_hooks \u001b[38;5;129;01mor\u001b[39;00m \u001b[38;5;28mself\u001b[39m\u001b[38;5;241m.\u001b[39m_backward_pre_hooks \u001b[38;5;129;01mor\u001b[39;00m \u001b[38;5;28mself\u001b[39m\u001b[38;5;241m.\u001b[39m_forward_hooks \u001b[38;5;129;01mor\u001b[39;00m \u001b[38;5;28mself\u001b[39m\u001b[38;5;241m.\u001b[39m_forward_pre_hooks\n\u001b[1;32m   1539\u001b[0m         \u001b[38;5;129;01mor\u001b[39;00m _global_backward_pre_hooks \u001b[38;5;129;01mor\u001b[39;00m _global_backward_hooks\n\u001b[1;32m   1540\u001b[0m         \u001b[38;5;129;01mor\u001b[39;00m _global_forward_hooks \u001b[38;5;129;01mor\u001b[39;00m _global_forward_pre_hooks):\n\u001b[0;32m-> 1541\u001b[0m     \u001b[38;5;28;01mreturn\u001b[39;00m \u001b[43mforward_call\u001b[49m\u001b[43m(\u001b[49m\u001b[38;5;241;43m*\u001b[39;49m\u001b[43margs\u001b[49m\u001b[43m,\u001b[49m\u001b[43m \u001b[49m\u001b[38;5;241;43m*\u001b[39;49m\u001b[38;5;241;43m*\u001b[39;49m\u001b[43mkwargs\u001b[49m\u001b[43m)\u001b[49m\n\u001b[1;32m   1543\u001b[0m \u001b[38;5;28;01mtry\u001b[39;00m:\n\u001b[1;32m   1544\u001b[0m     result \u001b[38;5;241m=\u001b[39m \u001b[38;5;28;01mNone\u001b[39;00m\n",
      "File \u001b[0;32m/media/nigam/b5749eb7-d3f1-4495-adeb-2c318fb7d0de/MAC/mlelec/src/mlelec/models/linear_integrated.py:526\u001b[0m, in \u001b[0;36mLinearModelPeriodic.forward\u001b[0;34m(self, return_matrix)\u001b[0m\n\u001b[1;32m    522\u001b[0m     feat \u001b[38;5;241m=\u001b[39m _match_feature_and_target_samples(block, feat, return_idx\u001b[38;5;241m=\u001b[39m\u001b[38;5;28;01mTrue\u001b[39;00m)\n\u001b[1;32m    524\u001b[0m     \u001b[38;5;66;03m# nsamples, ncomp, nprops = block.values.shape\u001b[39;00m\n\u001b[1;32m    525\u001b[0m     \u001b[38;5;66;03m# nsamples, ncomp, nprops = feat.values.shape\u001b[39;00m\n\u001b[0;32m--> 526\u001b[0m     pred \u001b[38;5;241m=\u001b[39m \u001b[38;5;28mself\u001b[39m\u001b[38;5;241m.\u001b[39mblockmodels[\u001b[38;5;28mstr\u001b[39m(\u001b[38;5;28;43mtuple\u001b[39;49m\u001b[43m(\u001b[49m\u001b[43mk\u001b[49m\u001b[43m)\u001b[49m)](feat\u001b[38;5;241m.\u001b[39mvalues)\n\u001b[1;32m    528\u001b[0m     pred_blocks\u001b[38;5;241m.\u001b[39mappend(\n\u001b[1;32m    529\u001b[0m         TensorBlock(\n\u001b[1;32m    530\u001b[0m             values\u001b[38;5;241m=\u001b[39mpred,\u001b[38;5;66;03m#.reshape((nsamples, ncomp, 1)),\u001b[39;00m\n\u001b[0;32m   (...)\u001b[0m\n\u001b[1;32m    534\u001b[0m         )\n\u001b[1;32m    535\u001b[0m     )\n\u001b[1;32m    536\u001b[0m \u001b[38;5;28;01melse\u001b[39;00m:\n",
      "\u001b[0;31mKeyboardInterrupt\u001b[0m: "
     ]
    }
   ],
   "source": [
    "# losses = []\n",
    "for epoch in range(5000):\n",
    "    optim.zero_grad()\n",
    "    pred = model()\n",
    "    # print(pred.keys, phase.keys())\n",
    "    predk = TMap_bloch_sums(pred, phase)\n",
    "    # loss = L2_loss(target_coupled_blocks, pred)\n",
    "    loss = L2_loss(target_k, predk)\n",
    "    loss.backward()\n",
    "    losses.append(loss.item())\n",
    "    optim.step()    \n",
    "    if epoch%100 == 0 :\n",
    "        print(epoch, loss.item(), L2_loss(target_coupled_blocks, pred).item())\n",
    "        "
   ]
  },
  {
   "cell_type": "code",
   "execution_count": null,
   "id": "59e22400-bdec-4254-a641-a78ea533cdf2",
   "metadata": {},
   "outputs": [],
   "source": [
    "# plt.plot(losses)\n",
    "plt.loglog(losses)"
   ]
  },
  {
   "cell_type": "code",
   "execution_count": 81,
   "id": "6fffa837-f56b-4f7a-9f5a-52b30f7ed429",
   "metadata": {},
   "outputs": [],
   "source": [
    "from mlelec.utils.pbc_utils import move_orbitals_to_keys"
   ]
  },
  {
   "cell_type": "code",
   "execution_count": 88,
   "id": "44ad644d-3e30-4e45-bd7d-b46cf5d2603c",
   "metadata": {},
   "outputs": [
    {
     "name": "stdout",
     "output_type": "stream",
     "text": [
      "tensor(0.4321, grad_fn=<AddBackward0>)\n",
      "tensor(0.4321, grad_fn=<AddBackward0>)\n"
     ]
    },
    {
     "name": "stderr",
     "output_type": "stream",
     "text": [
      "/media/nigam/b5749eb7-d3f1-4495-adeb-2c318fb7d0de/MAC/mlelec/src/mlelec/utils/pbc_utils.py:289: UserWarning: To copy construct from a tensor, it is recommended to use sourceTensor.clone().detach() or sourceTensor.clone().detach().requires_grad_(True), rather than torch.tensor(sourceTensor).\n",
      "  keys.append(torch.hstack((k.values, torch.tensor(nlinlj))))\n"
     ]
    }
   ],
   "source": [
    "pred_int = model()\n",
    "# pred_int = move_orbitals_to_keys(pred_int, target_coupled_blocks_copy[0].properties)\n",
    "print(L2_loss(pred_int, target_coupled_blocks))\n",
    "aa = move_orbitals_to_keys(pred_int, target_coupled_blocks_copy[0].properties)\n",
    "print(L2_loss(aa,target_coupled_blocks_copy))"
   ]
  },
  {
   "cell_type": "code",
   "execution_count": 90,
   "id": "7da3514d-624c-4a9c-9b35-933844069c5c",
   "metadata": {},
   "outputs": [
    {
     "name": "stdout",
     "output_type": "stream",
     "text": [
      "loss_real = 0.43221, loss_k = 0.01222\n"
     ]
    }
   ],
   "source": [
    "# pred_int = model()\n",
    "predk = TMap_bloch_sums(pred_int, phase)\n",
    "# pred_int = move_orbitals_to_keys(pred_int, target_coupled_blocks_copy[0].properties)\n",
    "print(f'loss_real = {L2_loss(pred, target_coupled_blocks).item():.5f}, loss_k = {L2_loss(predk, target_k).item():.5f}')"
   ]
  },
  {
   "cell_type": "markdown",
   "id": "268b71bc-0ddc-48a4-880d-8110bf913cad",
   "metadata": {},
   "source": [
    "Reconstruct matrices from real space blocks"
   ]
  },
  {
   "cell_type": "code",
   "execution_count": 112,
   "id": "3083fa98-9d3e-4e46-aa87-05f5c4b3a194",
   "metadata": {},
   "outputs": [],
   "source": [
    "# recon_Hk = kblocks_to_matrix(predk, dataset, detach = True)\n",
    "recon_Hk = kblocks_to_matrix(target_k, dataset, detach = True)\n",
    "# recon_HT = blocks_to_matrix(pred_int, dataset, detach=True)"
   ]
  },
  {
   "cell_type": "code",
   "execution_count": 113,
   "id": "081c0183-5eb8-4133-989d-9619380bef8a",
   "metadata": {},
   "outputs": [
    {
     "name": "stdout",
     "output_type": "stream",
     "text": [
      "kspace\n",
      "0 tensor(7.0550)\n",
      "1 tensor(6.4099)\n",
      "tensor(0.)\n"
     ]
    }
   ],
   "source": [
    "print('kspace')\n",
    "for ifr in range(len(recon_Hk)):\n",
    "    print(ifr, torch.norm(recon_Hk[ifr] - target_kspace[ifr]))\n",
    "\n",
    "# print(L2_loss(predk, target_k))"
   ]
  },
  {
   "cell_type": "code",
   "execution_count": 109,
   "id": "52992cbb-c7dc-448a-b04f-a1334582bfc5",
   "metadata": {},
   "outputs": [
    {
     "name": "stdout",
     "output_type": "stream",
     "text": [
      "kspace 0 tensor(7.0550)\n",
      "kspace 1 tensor(6.4099)\n",
      "tensor(0.0122, grad_fn=<AddBackward0>)\n",
      "realspace\n",
      "0 (-3, -3, 0) tensor(0.0021)\n",
      "0 (3, 3, 0) tensor(0.0021)\n",
      "0 (-3, -2, 0) tensor(0.0033)\n",
      "0 (3, 2, 0) tensor(0.0033)\n",
      "0 (-3, -1, 0) tensor(0.0036)\n",
      "0 (3, 1, 0) tensor(0.0036)\n",
      "0 (-3, 0, 0) tensor(0.0020)\n",
      "0 (3, 0, 0) tensor(0.0020)\n",
      "0 (-2, -4, 0) tensor(0.0015)\n",
      "0 (2, 4, 0) tensor(0.0015)\n",
      "0 (-2, -3, 0) tensor(0.0032)\n",
      "0 (2, 3, 0) tensor(0.0032)\n",
      "0 (-2, -2, 0) tensor(0.0076)\n",
      "0 (2, 2, 0) tensor(0.0076)\n",
      "0 (-2, -1, 0) tensor(0.0084)\n",
      "0 (2, 1, 0) tensor(0.0084)\n",
      "0 (-2, 0, 0) tensor(0.0069)\n",
      "0 (2, 0, 0) tensor(0.0069)\n",
      "0 (-2, 1, 0) tensor(0.0033)\n",
      "0 (2, -1, 0) tensor(0.0033)\n",
      "0 (-1, -3, 0) tensor(0.0034)\n",
      "0 (1, 3, 0) tensor(0.0034)\n",
      "0 (-1, -2, 0) tensor(0.0086)\n",
      "0 (1, 2, 0) tensor(0.0086)\n",
      "0 (-1, -1, 0) tensor(0.1913)\n",
      "0 (1, 1, 0) tensor(0.1913)\n",
      "0 (-1, 0, 0) tensor(0.1898)\n",
      "0 (1, 0, 0) tensor(0.1898)\n",
      "0 (-1, 1, 0) tensor(0.0095)\n",
      "0 (1, -1, 0) tensor(0.0095)\n",
      "0 (-1, 2, 0) tensor(0.0033)\n",
      "0 (1, -2, 0) tensor(0.0033)\n",
      "0 (0, -3, 0) tensor(0.0021)\n",
      "0 (0, 3, 0) tensor(0.0021)\n",
      "0 (0, -2, 0) tensor(0.0074)\n",
      "0 (0, 2, 0) tensor(0.0074)\n",
      "0 (0, -1, 0) tensor(0.1837)\n",
      "0 (0, 1, 0) tensor(0.1837)\n",
      "0 (-4, -2, 0) tensor(0.0006)\n",
      "0 (4, 2, 0) tensor(0.0006)\n",
      "0 (-4, -1, 0) tensor(0.0006)\n",
      "0 (4, 1, 0) tensor(0.0006)\n",
      "0 (-3, 1, 0) tensor(0.0004)\n",
      "0 (3, -1, 0) tensor(0.0004)\n",
      "0 (-2, 2, 0) tensor(0.0010)\n",
      "0 (2, -2, 0) tensor(0.0010)\n",
      "0 (-1, 3, 0) tensor(0.0005)\n",
      "0 (1, -3, 0) tensor(0.0005)\n",
      "0 (0, 0, 0) tensor(0.0035)\n",
      "0 (1, 4, 0) tensor(0.0004)\n",
      "0 (-1, -4, 0) tensor(0.0004)\n",
      "1 (-3, -3, 0) tensor(0.0017)\n",
      "1 (3, 3, 0) tensor(0.0017)\n",
      "1 (-3, -2, 0) tensor(0.0026)\n",
      "1 (3, 2, 0) tensor(0.0026)\n",
      "1 (-3, -1, 0) tensor(0.0032)\n",
      "1 (3, 1, 0) tensor(0.0032)\n",
      "1 (-3, 0, 0) tensor(0.0014)\n",
      "1 (3, 0, 0) tensor(0.0014)\n",
      "1 (-2, -4, 0) tensor(0.0011)\n",
      "1 (2, 4, 0) tensor(0.0011)\n",
      "1 (-2, -3, 0) tensor(0.0034)\n",
      "1 (2, 3, 0) tensor(0.0034)\n",
      "1 (-2, -2, 0) tensor(0.0069)\n",
      "1 (2, 2, 0) tensor(0.0069)\n",
      "1 (-2, -1, 0) tensor(0.0075)\n",
      "1 (2, 1, 0) tensor(0.0075)\n",
      "1 (-2, 0, 0) tensor(0.0069)\n",
      "1 (2, 0, 0) tensor(0.0069)\n",
      "1 (-2, 1, 0) tensor(0.0030)\n",
      "1 (2, -1, 0) tensor(0.0030)\n",
      "1 (-1, -3, 0) tensor(0.0031)\n",
      "1 (1, 3, 0) tensor(0.0031)\n",
      "1 (-1, -2, 0) tensor(0.0073)\n",
      "1 (1, 2, 0) tensor(0.0073)\n",
      "1 (-1, -1, 0) tensor(0.1700)\n",
      "1 (1, 1, 0) tensor(0.1700)\n",
      "1 (-1, 0, 0) tensor(0.1618)\n",
      "1 (1, 0, 0) tensor(0.1618)\n",
      "1 (-1, 1, 0) tensor(0.0080)\n",
      "1 (1, -1, 0) tensor(0.0080)\n",
      "1 (-1, 2, 0) tensor(0.0028)\n",
      "1 (1, -2, 0) tensor(0.0028)\n",
      "1 (0, -3, 0) tensor(0.0022)\n",
      "1 (0, 3, 0) tensor(0.0022)\n",
      "1 (0, -2, 0) tensor(0.0073)\n",
      "1 (0, 2, 0) tensor(0.0073)\n",
      "1 (0, -1, 0) tensor(0.1793)\n",
      "1 (0, 1, 0) tensor(0.1793)\n",
      "1 (-4, -2, 0) tensor(0.0007)\n",
      "1 (4, 2, 0) tensor(0.0007)\n",
      "1 (-4, -1, 0) tensor(0.0008)\n",
      "1 (4, 1, 0) tensor(0.0008)\n",
      "1 (-3, 1, 0) tensor(0.0003)\n",
      "1 (3, -1, 0) tensor(0.0003)\n",
      "1 (-2, 2, 0) tensor(0.0014)\n",
      "1 (2, -2, 0) tensor(0.0014)\n",
      "1 (-1, 3, 0) tensor(0.0007)\n",
      "1 (1, -3, 0) tensor(0.0007)\n",
      "1 (0, 0, 0) tensor(0.0034)\n",
      "1 (1, 4, 0) tensor(0.0003)\n",
      "1 (-1, -4, 0) tensor(0.0003)\n"
     ]
    }
   ],
   "source": [
    "print('realspace')\n",
    "for ifr in range(len(recon_HT)):\n",
    "    for T in recon_HT[ifr]:\n",
    "        print(ifr, T, torch.norm(recon_HT[ifr][T] - dataset.fock_realspace[ifr][T]))\n",
    "# L2_loss(pred, target_coupled_blocks)"
   ]
  },
  {
   "cell_type": "markdown",
   "id": "ff01211f-45b8-47a7-85c3-13b6cfc62769",
   "metadata": {},
   "source": [
    "Reconstruct matrices from kspace blocks"
   ]
  },
  {
   "cell_type": "code",
   "execution_count": 477,
   "id": "27b64b91-d322-4d42-bb4c-71f0ead29fce",
   "metadata": {},
   "outputs": [],
   "source": [
    "predintk = move_orbitals_to_keys(predk, target_coupled_blocks_copy[0].properties)\n",
    "predintk = mts.remove_dimension(predintk, axis='keys', name = 'inversion_sigma')\n",
    "predintk = mts.permute_dimensions(predintk, axis='keys', dimensions_indexes = [0,1,4,5,2,6,7,3])\n",
    "predintk = _to_uncoupled_basis(predintk)\n",
    "newb=[]\n",
    "for k,b in predintk.items():\n",
    "    newb.append(\n",
    "        TensorBlock(\n",
    "            samples = b.samples,\n",
    "            components = b.components,\n",
    "            properties = b.properties,\n",
    "            values = b.values.detach()\n",
    "        )\n",
    "    )\n",
    "predintk = TensorMap(predintk.keys, newb)\n",
    "predintk = sort_hack(predintk)"
   ]
  },
  {
   "cell_type": "code",
   "execution_count": 478,
   "id": "5b3a7267-04bd-45ea-8506-250737941c64",
   "metadata": {},
   "outputs": [],
   "source": [
    "recon_Hk_from_ktarg = kblocks_to_matrix(predintk, dataset, detach = True)"
   ]
  },
  {
   "cell_type": "markdown",
   "id": "2dbb2c9d-6a27-4bfd-8c35-0a91c560a35a",
   "metadata": {},
   "source": [
    "Target matrices with cutoff"
   ]
  },
  {
   "cell_type": "code",
   "execution_count": 479,
   "id": "86018570-ef0e-4b7f-8c02-9b91585c5cb4",
   "metadata": {},
   "outputs": [],
   "source": [
    "cutoff_HT = blocks_to_matrix(target_coupled_blocks_copy_nosigma, dataset, detach=True)\n",
    "cutoff_Hk = dataset.bloch_sum(cutoff_HT)"
   ]
  },
  {
   "cell_type": "markdown",
   "id": "687057b0-a55a-404a-ac63-872445566613",
   "metadata": {},
   "source": [
    "MSE on H(T)"
   ]
  },
  {
   "cell_type": "code",
   "execution_count": 480,
   "id": "54be4d33-733b-41d3-a36e-a3b294fd5961",
   "metadata": {},
   "outputs": [
    {
     "name": "stdout",
     "output_type": "stream",
     "text": [
      "tensor(0.2908)\n"
     ]
    }
   ],
   "source": [
    "tot_mse = 0\n",
    "for ifr in range(len(recon_HT)):\n",
    "    for T in recon_HT[ifr]:\n",
    "        # print(torch.norm(recon_HT[ifr][T] - cutoff_HT[ifr][T]))\n",
    "        tot_mse += torch.norm(recon_HT[ifr][T] - cutoff_HT[ifr][T])**2\n",
    "print(tot_mse)"
   ]
  },
  {
   "cell_type": "markdown",
   "id": "d61c8e08-0f0c-4fd4-8a18-7a7dfe5d91d7",
   "metadata": {},
   "source": [
    "MSE on H(k) computed from H(T)"
   ]
  },
  {
   "cell_type": "code",
   "execution_count": 481,
   "id": "a738c62f-3a69-4e48-aa5f-473c4ceef30d",
   "metadata": {},
   "outputs": [
    {
     "name": "stdout",
     "output_type": "stream",
     "text": [
      "tensor(0.2908)\n"
     ]
    }
   ],
   "source": [
    "tot_mse = 0\n",
    "for ifr in range(len(recon_Hk)):\n",
    "    for ik in range(len(recon_Hk[ifr])):\n",
    "        # print(torch.norm(recon_Hk[ifr][ik] - cutoff_Hk[ifr][ik]))\n",
    "        tot_mse += torch.norm(recon_Hk[ifr][ik] - cutoff_Hk[ifr][ik])**2\n",
    "print(tot_mse/64)"
   ]
  },
  {
   "cell_type": "markdown",
   "id": "a25d86aa-3e66-4c46-82b6-43ef0990919c",
   "metadata": {},
   "source": [
    "MSE on H(k) computed from kspace blocks"
   ]
  },
  {
   "cell_type": "code",
   "execution_count": 482,
   "id": "415b474e-2820-4f0c-bab6-f221d20e1d1c",
   "metadata": {},
   "outputs": [
    {
     "name": "stdout",
     "output_type": "stream",
     "text": [
      "tensor(1.4198)\n"
     ]
    }
   ],
   "source": [
    "tot_mse = 0\n",
    "for ifr in range(len(recon_Hk_from_ktarg)):\n",
    "    for ik in range(len(recon_Hk_from_ktarg[ifr])):\n",
    "        # print(torch.norm(recon_Hk[ifr][ik] - cutoff_Hk[ifr][ik]))\n",
    "        tot_mse += torch.norm(recon_Hk_from_ktarg[ifr][ik] - cutoff_Hk[ifr][ik])**2\n",
    "print(tot_mse/64)"
   ]
  },
  {
   "cell_type": "code",
   "execution_count": 485,
   "id": "df03605e-12b8-4308-be14-37c6d85f57eb",
   "metadata": {},
   "outputs": [],
   "source": [
    "kblocks = kmatrix_to_blocks(dataset, cutoff = cutoff)\n",
    "kblocks = sort_hack(kblocks)"
   ]
  },
  {
   "cell_type": "code",
   "execution_count": 521,
   "id": "ba33f843-2782-4ce6-994c-ca5c33507cd8",
   "metadata": {},
   "outputs": [],
   "source": [
    "phase, _, _ = precompute_phase(target_coupled_blocks_copy_nosigma, dataset)\n",
    "kblocks = TMap_bloch_sums(target_coupled_blocks_copy_nosigma, phase)\n",
    "kblocks = sort_hack(kblocks)\n",
    "kblocks = _to_uncoupled_basis(kblocks)"
   ]
  },
  {
   "cell_type": "code",
   "execution_count": 522,
   "id": "113d4d39-286a-497a-a8fe-81eb795f9b32",
   "metadata": {},
   "outputs": [],
   "source": [
    "rHk = kblocks_to_matrix(kblocks, dataset)"
   ]
  },
  {
   "cell_type": "code",
   "execution_count": 523,
   "id": "758372d6-872d-4586-97e1-8859c27561f0",
   "metadata": {},
   "outputs": [
    {
     "name": "stdout",
     "output_type": "stream",
     "text": [
      "tensor(7.0550)\n",
      "tensor(6.4099)\n"
     ]
    }
   ],
   "source": [
    "for h1, h2 in zip(rHk, cutoff_Hk):\n",
    "    print(torch.norm(h1-h2))"
   ]
  },
  {
   "cell_type": "markdown",
   "id": "d1137d5e-2865-478e-a50c-8f618b06e58c",
   "metadata": {},
   "source": [
    "# Is there an issue with kblocks_to_matrix?"
   ]
  },
  {
   "cell_type": "code",
   "execution_count": 509,
   "id": "e61d7cfa-d70d-489b-8ded-b610e6031c01",
   "metadata": {},
   "outputs": [
    {
     "data": {
      "text/plain": [
       "[<matplotlib.lines.Line2D at 0x7fdfee05e1b0>]"
      ]
     },
     "execution_count": 509,
     "metadata": {},
     "output_type": "execute_result"
    },
    {
     "data": {
      "image/png": "[encoded data removed]",
      "text/plain": [
       "<Figure size 640x480 with 1 Axes>"
      ]
     },
     "metadata": {},
     "output_type": "display_data"
    }
   ],
   "source": [
    "plt.plot(torch.norm(rHk[1] - cutoff_Hk[1], dim=(1,2)), '-o')"
   ]
  },
  {
   "cell_type": "code",
   "execution_count": 499,
   "id": "42264e0d-a105-4f18-9b0b-16519ab0eeed",
   "metadata": {},
   "outputs": [
    {
     "data": {
      "text/plain": [
       "<matplotlib.colorbar.Colorbar at 0x7fdfee3f2f00>"
      ]
     },
     "execution_count": 499,
     "metadata": {},
     "output_type": "execute_result"
    },
    {
     "data": {
      "image/png": "[encoded data removed]",
      "text/plain": [
       "<Figure size 480x480 with 2 Axes>"
      ]
     },
     "metadata": {},
     "output_type": "display_data"
    }
   ],
   "source": [
    "plt.matshow((rHk[0] - cutoff_Hk[0]).real[6])\n",
    "plt.colorbar()"
   ]
  },
  {
   "cell_type": "code",
   "execution_count": 401,
   "id": "26149c76-550b-4a8e-8c07-cd778d9e5347",
   "metadata": {},
   "outputs": [
    {
     "data": {
      "text/plain": [
       "tensor(0.3217, grad_fn=<AddBackward0>)"
      ]
     },
     "execution_count": 401,
     "metadata": {},
     "output_type": "execute_result"
    }
   ],
   "source": [
    "L2_loss(predint, target_blocks)"
   ]
  },
  {
   "cell_type": "code",
   "execution_count": 465,
   "id": "11607108-4f18-4ac6-a780-89646403f173",
   "metadata": {},
   "outputs": [
    {
     "data": {
      "text/plain": [
       "tensor(0.0136)"
      ]
     },
     "execution_count": 465,
     "metadata": {},
     "output_type": "execute_result"
    }
   ],
   "source": [
    "L2_loss(predintk, target_k)"
   ]
  },
  {
   "cell_type": "code",
   "execution_count": 299,
   "id": "04f0474f-05bb-4308-8e39-40fbded5e98b",
   "metadata": {},
   "outputs": [],
   "source": [
    "from mlelec.utils.twocenter_utils import _to_uncoupled_basis"
   ]
  },
  {
   "cell_type": "code",
   "execution_count": 326,
   "id": "845e49aa-4769-4fa6-b1c8-d9b9e93f5828",
   "metadata": {},
   "outputs": [
    {
     "name": "stderr",
     "output_type": "stream",
     "text": [
      "/media/nigam/b5749eb7-d3f1-4495-adeb-2c318fb7d0de/MAC/mlelec/src/mlelec/utils/pbc_utils.py:1578: SyntaxWarning: invalid escape sequence '\\d'\n",
      "  assert np.isclose(torch.norm(matrixT - matrixmT.T).item(), 0.0), f\"Failed to check H({T}) = H({mT})^\\dagger\"\n"
     ]
    }
   ],
   "source": [
    "# target_coupled_blocks_copy= mts.remove_dimension(target_coupled_blocks_copy, axis='keys', name = 'inversion_sigma')\n",
    "phase,_,_ = precompute_phase(target_coupled_blocks_copy, dataset, cutoff = cutoff)\n",
    "target_k_copy = TMap_bloch_sums(target_coupled_blocks_copy, phase)\n",
    "# target_k_copy= _to_uncoupled_basis(target_k_copy)"
   ]
  },
  {
   "cell_type": "code",
   "execution_count": 304,
   "id": "48f9a4cb-9c29-4d95-940a-5580dd4451b7",
   "metadata": {},
   "outputs": [],
   "source": [
    "Hk = dataset.bloch_sum( blocks_to_matrix(target_coupled_blocks_copy, dataset))\n",
    "Hkblocks = kmatrix_to_blocks(dataset, matrix= Hk, cutoff = cutoff)"
   ]
  },
  {
   "cell_type": "code",
   "execution_count": 317,
   "id": "d7c5e68d-9ff4-45b5-be90-c9e6a57921d1",
   "metadata": {},
   "outputs": [],
   "source": [
    "Hkblocks = _to_coupled_basis(Hkblocks,skip_symmetry = False, device = device, translations = False)"
   ]
  },
  {
   "cell_type": "code",
   "execution_count": 327,
   "id": "aed60515-935d-41a3-a6d2-a4196546ab94",
   "metadata": {},
   "outputs": [],
   "source": [
    "Hkblocks = sort_hack(Hkblocks)\n",
    "target_k_copy = sort_hack(target_k_copy)"
   ]
  },
  {
   "cell_type": "code",
   "execution_count": 329,
   "id": "22f2d7ff-f6cf-4c44-89d0-993b371cf278",
   "metadata": {},
   "outputs": [
    {
     "data": {
      "text/plain": [
       "tensor(2.3506e-27)"
      ]
     },
     "execution_count": 329,
     "metadata": {},
     "output_type": "execute_result"
    }
   ],
   "source": [
    "L2_loss(Hkblocks, target_k_copy)"
   ]
  },
  {
   "cell_type": "code",
   "execution_count": 254,
   "id": "f2227dee-3c49-490f-bdf8-34a4a2b6ba07",
   "metadata": {},
   "outputs": [
    {
     "name": "stderr",
     "output_type": "stream",
     "text": [
      "/media/nigam/b5749eb7-d3f1-4495-adeb-2c318fb7d0de/MAC/mlelec/src/mlelec/utils/pbc_utils.py:288: UserWarning: To copy construct from a tensor, it is recommended to use sourceTensor.clone().detach() or sourceTensor.clone().detach().requires_grad_(True), rather than torch.tensor(sourceTensor).\n",
      "  keys.append(torch.hstack((k.values, torch.tensor(nlinlj))))\n",
      "/media/nigam/b5749eb7-d3f1-4495-adeb-2c318fb7d0de/MAC/mlelec/src/mlelec/utils/pbc_utils.py:864: UserWarning: The use of `x.T` on tensors of dimension other than 2 to reverse their shape is deprecated and it will throw an error in a future release. Consider `x.mT` to transpose batches of matrices or `x.permute(*torch.arange(x.ndim - 1, -1, -1))` to reverse the dimensions of a tensor. (Triggered internally at ../aten/src/ATen/native/TensorShape.cpp:3675.)\n",
      "  recon_Hk[A][ik][ipsi_jphi] -= blockval.T\n"
     ]
    },
    {
     "ename": "RuntimeError",
     "evalue": "output with shape [3, 1] doesn't match the broadcast shape [3, 3]",
     "output_type": "error",
     "traceback": [
      "\u001b[0;31m---------------------------------------------------------------------------\u001b[0m",
      "\u001b[0;31mRuntimeError\u001b[0m                              Traceback (most recent call last)",
      "Cell \u001b[0;32mIn[254], line 12\u001b[0m\n\u001b[1;32m      3\u001b[0m     newb\u001b[38;5;241m.\u001b[39mappend(\n\u001b[1;32m      4\u001b[0m         TensorBlock(\n\u001b[1;32m      5\u001b[0m             values \u001b[38;5;241m=\u001b[39m b\u001b[38;5;241m.\u001b[39mvalues\u001b[38;5;241m.\u001b[39mdetach(),\n\u001b[0;32m   (...)\u001b[0m\n\u001b[1;32m      9\u001b[0m         )\n\u001b[1;32m     10\u001b[0m     )\n\u001b[1;32m     11\u001b[0m predk \u001b[38;5;241m=\u001b[39m TensorMap(predk\u001b[38;5;241m.\u001b[39mkeys, newb)\n\u001b[0;32m---> 12\u001b[0m \u001b[43mkblocks_to_matrix\u001b[49m\u001b[43m(\u001b[49m\u001b[43mmove_orbitals_to_keys\u001b[49m\u001b[43m(\u001b[49m\u001b[43mpredk\u001b[49m\u001b[43m)\u001b[49m\u001b[43m,\u001b[49m\u001b[43m \u001b[49m\u001b[43mdataset\u001b[49m\u001b[43m)\u001b[49m\n",
      "File \u001b[0;32m/media/nigam/b5749eb7-d3f1-4495-adeb-2c318fb7d0de/MAC/mlelec/src/mlelec/utils/pbc_utils.py:864\u001b[0m, in \u001b[0;36mkblocks_to_matrix\u001b[0;34m(k_target_blocks, dataset, all_pairs, sort_orbs)\u001b[0m\n\u001b[1;32m    861\u001b[0m         recon_Hk[A][ik][jphi_ipsi] \u001b[38;5;241m-\u001b[39m\u001b[38;5;241m=\u001b[39m blockval\u001b[38;5;241m.\u001b[39mconj()\n\u001b[1;32m    862\u001b[0m         \u001b[38;5;66;03m# if not same_species or (sort_orbs and different_orbitals):\u001b[39;00m\n\u001b[1;32m    863\u001b[0m         \u001b[38;5;66;03m# if sort_orbs and different_orbitals:\u001b[39;00m\n\u001b[0;32m--> 864\u001b[0m         \u001b[43mrecon_Hk\u001b[49m\u001b[43m[\u001b[49m\u001b[43mA\u001b[49m\u001b[43m]\u001b[49m\u001b[43m[\u001b[49m\u001b[43mik\u001b[49m\u001b[43m]\u001b[49m\u001b[43m[\u001b[49m\u001b[43mipsi_jphi\u001b[49m\u001b[43m]\u001b[49m\u001b[43m \u001b[49m\u001b[38;5;241;43m-\u001b[39;49m\u001b[38;5;241;43m=\u001b[39;49m\u001b[43m \u001b[49m\u001b[43mblockval\u001b[49m\u001b[38;5;241;43m.\u001b[39;49m\u001b[43mT\u001b[49m\n\u001b[1;32m    865\u001b[0m         recon_Hk[A][ik][jpsi_iphi] \u001b[38;5;241m+\u001b[39m\u001b[38;5;241m=\u001b[39m blockval\u001b[38;5;241m.\u001b[39mconj()\u001b[38;5;241m.\u001b[39mT\n\u001b[1;32m    867\u001b[0m \u001b[38;5;28;01melif\u001b[39;00m bt \u001b[38;5;241m==\u001b[39m \u001b[38;5;241m2\u001b[39m:\n",
      "\u001b[0;31mRuntimeError\u001b[0m: output with shape [3, 1] doesn't match the broadcast shape [3, 3]"
     ]
    }
   ],
   "source": [
    "newb = []\n",
    "for k, b in predk.items():\n",
    "    newb.append(\n",
    "        TensorBlock(\n",
    "            values = b.values.detach(),\n",
    "            samples = b.samples,\n",
    "            properties = b.properties,\n",
    "            components = b.components\n",
    "        )\n",
    "    )\n",
    "predk = TensorMap(predk.keys, newb)\n",
    "kblocks_to_matrix(move_orbitals_to_keys(predk), dataset)"
   ]
  },
  {
   "cell_type": "code",
   "execution_count": 215,
   "id": "031e0d34-03d5-4fc3-a6e1-1be56e9c20d3",
   "metadata": {},
   "outputs": [
    {
     "name": "stdout",
     "output_type": "stream",
     "text": [
      "tensor(0.1688, grad_fn=<AddBackward0>)\n"
     ]
    }
   ],
   "source": [
    "pred_int = model()\n",
    "print(L2_loss(pred_int, target_coupled_blocks))\n"
   ]
  },
  {
   "cell_type": "code",
   "execution_count": 182,
   "id": "f74e22da-23de-44be-ba47-085f9a046eb0",
   "metadata": {},
   "outputs": [],
   "source": [
    "from mlelec.models.linear import LinearModelPeriodic"
   ]
  },
  {
   "cell_type": "code",
   "execution_count": 183,
   "id": "c4ea8d10-ba49-4bbb-917f-24c60ead069e",
   "metadata": {},
   "outputs": [],
   "source": [
    "model_ = LinearModelPeriodic(twocfeat = hfeat,\n",
    "                            target_blocks = target_coupled_blocks_copy,\n",
    "                            frames = dataset.structures, orbitals = dataset.basis, \n",
    "                            device = device,\n",
    "                            bias = False, #True\n",
    "                            nhidden = 32, \n",
    "                            nlayers = 1,\n",
    "                            # activation = 'SiLU',\n",
    "                            # apply_norm = True\n",
    "                           )"
   ]
  },
  {
   "cell_type": "code",
   "execution_count": 184,
   "id": "471fa773-27f2-43de-b9ca-5c0dbe214480",
   "metadata": {},
   "outputs": [],
   "source": [
    "optim = torch.optim.Adam(model_.parameters(), lr = 1e-3)"
   ]
  },
  {
   "cell_type": "code",
   "execution_count": 185,
   "id": "a7fb53a4-85cb-4aee-8ba2-9583b1eba2b5",
   "metadata": {},
   "outputs": [],
   "source": [
    "losses = []"
   ]
  },
  {
   "cell_type": "code",
   "execution_count": 220,
   "id": "09ceede3-9752-4993-98f5-038f1b657307",
   "metadata": {},
   "outputs": [
    {
     "name": "stderr",
     "output_type": "stream",
     "text": [
      "/media/nigam/b5749eb7-d3f1-4495-adeb-2c318fb7d0de/MAC/mlelec/src/mlelec/utils/pbc_utils.py:1578: SyntaxWarning: invalid escape sequence '\\d'\n",
      "  \n"
     ]
    }
   ],
   "source": [
    "\n",
    "aa = TMap_bloch_sums(target_coupled_blocks, phase)"
   ]
  },
  {
   "cell_type": "code",
   "execution_count": 222,
   "id": "92623aa0-d5ec-43ca-8a98-42ea6c7ac55c",
   "metadata": {},
   "outputs": [],
   "source": [
    "phase, _,_ = precompute_phase(target_coupled_blocks_copy, dataset)\n",
    "bb = TMap_bloch_sums(target_coupled_blocks_copy, phase)"
   ]
  },
  {
   "cell_type": "code",
   "execution_count": 224,
   "id": "0f07778c-7e1f-441e-800a-5cd90f376571",
   "metadata": {},
   "outputs": [],
   "source": [
    "bb = bb.keys_to_properties(['n_i', 'l_i', 'n_j', 'l_j'])"
   ]
  },
  {
   "cell_type": "code",
   "execution_count": 229,
   "id": "694b55b3-1ab3-42e2-8bec-6fff95d5725a",
   "metadata": {},
   "outputs": [
    {
     "name": "stdout",
     "output_type": "stream",
     "text": [
      "tensor([-1,  6,  6,  0,  1], dtype=torch.int32) tensor(0.)\n",
      "tensor([-1,  6,  6,  1,  1], dtype=torch.int32) tensor(4.2911e-15)\n",
      "tensor([-1,  6,  6,  1, -1], dtype=torch.int32) tensor(0.)\n",
      "tensor([1, 6, 6, 0, 1], dtype=torch.int32) tensor(4.9512e-15)\n",
      "tensor([1, 6, 6, 1, 1], dtype=torch.int32) tensor(2.4876e-16)\n",
      "tensor([1, 6, 6, 2, 1], dtype=torch.int32) tensor(0.)\n"
     ]
    }
   ],
   "source": [
    "for k,b in aa.items():\n",
    "    b1 = bb.block(k)\n",
    "    print(k.values, torch.norm(b.values -b1.values))"
   ]
  },
  {
   "cell_type": "code",
   "execution_count": 186,
   "id": "281cd803-7e34-4bef-9ee2-8bbff8426242",
   "metadata": {},
   "outputs": [
    {
     "name": "stdout",
     "output_type": "stream",
     "text": [
      "0 439.3994054418858\n",
      "100 0.4414633975697585\n",
      "200 0.2822832034394895\n",
      "300 0.266793472882711\n",
      "400 0.2574123133521787\n",
      "500 0.2480742882327524\n",
      "600 0.23856387664073453\n",
      "700 0.22887443760194875\n",
      "800 0.21904249604680132\n",
      "900 0.20911100070352784\n"
     ]
    }
   ],
   "source": [
    "# losses = []\n",
    "for epoch in range(1000):\n",
    "    optim.zero_grad()\n",
    "    pred = model_()\n",
    "    predk = TMap_bloch_sum()\n",
    "    loss = L2_loss(target_coupled_blocks_copy, pred)\n",
    "    loss.backward()\n",
    "    losses.append(loss.item())\n",
    "    optim.step()    \n",
    "    if epoch%100 == 0 :\n",
    "        print(epoch, loss.item())\n",
    "        "
   ]
  },
  {
   "cell_type": "code",
   "execution_count": 198,
   "id": "65d53a46-395c-4b73-8438-860863b22878",
   "metadata": {},
   "outputs": [
    {
     "data": {
      "text/plain": [
       "5792"
      ]
     },
     "execution_count": 198,
     "metadata": {},
     "output_type": "execute_result"
    }
   ],
   "source": [
    "count_parameters(model_.model['(-1, 6, 1, 0, 6, 2, 0, 0, 1)'])"
   ]
  },
  {
   "cell_type": "code",
   "execution_count": 201,
   "id": "3ca5c9bd-4f1b-4582-889e-86853dc6d814",
   "metadata": {},
   "outputs": [
    {
     "data": {
      "text/plain": [
       "135360"
      ]
     },
     "execution_count": 201,
     "metadata": {},
     "output_type": "execute_result"
    }
   ],
   "source": [
    "count_parameters(model_)"
   ]
  },
  {
   "cell_type": "code",
   "execution_count": 214,
   "id": "03a9d04f-f31a-493a-9755-b238d924f832",
   "metadata": {},
   "outputs": [
    {
     "data": {
      "text/plain": [
       "1.0808510638297872"
      ]
     },
     "execution_count": 214,
     "metadata": {},
     "output_type": "execute_result"
    }
   ],
   "source": [
    "count_parameters(model)/count_parameters(model_)"
   ]
  },
  {
   "cell_type": "code",
   "execution_count": 192,
   "id": "d670b2d3-02c4-4c8c-8ade-df17dd9aaad7",
   "metadata": {},
   "outputs": [
    {
     "data": {
      "text/plain": [
       "18496"
      ]
     },
     "execution_count": 192,
     "metadata": {},
     "output_type": "execute_result"
    }
   ],
   "source": [
    "(288*32+32)*2"
   ]
  },
  {
   "cell_type": "code",
   "execution_count": 194,
   "id": "4ae8a1eb-06d7-46dc-b254-cee1aded741e",
   "metadata": {},
   "outputs": [],
   "source": [
    "def count_parameters(model):\n",
    "    return sum(p.numel() for p in model.parameters() if p.requires_grad)"
   ]
  },
  {
   "cell_type": "code",
   "execution_count": 195,
   "id": "510f4172-253b-4104-aa31-a7252864f569",
   "metadata": {},
   "outputs": [
    {
     "data": {
      "text/plain": [
       "73152"
      ]
     },
     "execution_count": 195,
     "metadata": {},
     "output_type": "execute_result"
    }
   ],
   "source": [
    "count_parameters(model.model[])"
   ]
  },
  {
   "cell_type": "code",
   "execution_count": 187,
   "id": "7b7346c8-c600-4991-96c2-cc8c8d592855",
   "metadata": {},
   "outputs": [
    {
     "data": {
      "text/plain": [
       "[<matplotlib.lines.Line2D at 0x7fe05576e6f0>]"
      ]
     },
     "execution_count": 187,
     "metadata": {},
     "output_type": "execute_result"
    },
    {
     "data": {
      "image/png": "[encoded data removed]",
      "text/plain": [
       "<Figure size 640x480 with 1 Axes>"
      ]
     },
     "metadata": {},
     "output_type": "display_data"
    }
   ],
   "source": [
    "# plt.plot(losses)\n",
    "plt.loglog(losses)"
   ]
  },
  {
   "cell_type": "code",
   "execution_count": 189,
   "id": "19a89677-6c5f-413c-bb26-a5e6e74598d4",
   "metadata": {},
   "outputs": [
    {
     "name": "stdout",
     "output_type": "stream",
     "text": [
      "tensor(0.1991, grad_fn=<AddBackward0>)\n"
     ]
    }
   ],
   "source": [
    "pred_usual = model_()\n",
    "# pred_usual = move_orbitals_to_keys(pred_usual, target_coupled_blocks_copy[0].properties)\n",
    "print(L2_loss(pred_usual, target_coupled_blocks_copy))"
   ]
  },
  {
   "cell_type": "code",
   "execution_count": null,
   "id": "c6e18493-0bee-4605-b616-8bcc7e83d422",
   "metadata": {},
   "outputs": [],
   "source": []
  },
  {
   "cell_type": "code",
   "execution_count": 87,
   "id": "97b0a2bd-0cbc-457d-a686-fcc6ac99634b",
   "metadata": {},
   "outputs": [],
   "source": [
    "from mlelec.utils.metatensor_utils import sort_block_hack, sort_hack"
   ]
  },
  {
   "cell_type": "markdown",
   "id": "4641e05f",
   "metadata": {},
   "source": [
    "### Batching"
   ]
  },
  {
   "cell_type": "code",
   "execution_count": 58,
   "id": "6e890ddb-0fa1-4aaa-a746-4d592b216432",
   "metadata": {},
   "outputs": [],
   "source": [
    "split_by_axis = \"samples\"\n",
    "split_by_dimension = \"structure\"\n",
    "\n",
    "split_by_axis = \"samples\"\n",
    "split_by_dimension = \"structure\"\n",
    "\n",
    "grouped_labels = [mts.Labels(names = split_by_dimension, values = torch.tensor([A])) for A in mts.unique_metadata(target_coupled_blocks,\n",
    "                                                                                                                  axis = split_by_axis,\n",
    "                                                                                                                  names = split_by_dimension)]\n",
    "split_target = mts.split(target_coupled_blocks, split_by_axis, grouped_labels)\n",
    "\n",
    "grouped_labels = [mts.Labels(names = split_by_dimension, values = torch.tensor([A])) for A in mts.unique_metadata(overlap_coupled_blocks,\n",
    "                                                                                                                  axis = split_by_axis,\n",
    "                                                                                                                  names = split_by_dimension)]\n",
    "#split_overlaps = mts.split(overlap_coupled_blocks, split_by_axis, grouped_labels)\n",
    "\n",
    "grouped_labels = [mts.Labels(names = split_by_dimension, values = torch.tensor([A])) for A in mts.unique_metadata(hfeat, axis = split_by_axis,\n",
    "                                                                                                                  names = split_by_dimension)]\n",
    "split_features = mts.split(hfeat, split_by_axis, grouped_labels)\n",
    "\n",
    "ml_data = IndexedDataset(descriptor = split_features,\n",
    "                         target = split_target,\n",
    "                         target_k = target_kspace,\n",
    "                         sample_id = [g.values.tolist()[0][0] for g in grouped_labels])\n",
    "\n",
    "batch_size = 1\n",
    "\n",
    "from metatensor.learn import DataLoader\n",
    "dataloader = DataLoader(ml_data,\n",
    "                        batch_size = batch_size,\n",
    "                        shuffle = True,\n",
    "                        collate_fn = lambda x: group_and_join_mts(x, join_kwargs = {'different_keys': 'union', 'remove_tensor_name': True}))\n"
   ]
  },
  {
   "cell_type": "code",
   "execution_count": null,
   "id": "9c22b6c8-6702-455f-a472-af5565ca1022",
   "metadata": {},
   "outputs": [],
   "source": []
  },
  {
   "cell_type": "markdown",
   "id": "797e7c7f-b498-4985-8cdc-f2de7817a26a",
   "metadata": {},
   "source": [
    "# Splitting dataset random seed on jed "
   ]
  },
  {
   "cell_type": "code",
   "execution_count": null,
   "id": "5e91f8c3",
   "metadata": {},
   "outputs": [],
   "source": [
    "f=[]\n",
    "for i in range(7):\n",
    "    f.append(mts.load(f'features_{i*20}_{(i+1)*20}'))\n",
    "f.append(mts.load('../test/features_140_172'))\n",
    "np.random.seed(73)\n",
    "indices = np.arange(172)\n",
    "np.random.shuffle(indices)\n",
    "np.savetxt('random_indices.txt', indices, header = 'seed = 73', fmt = '%d')\n",
    "batched = {}\n",
    "for i in range(0,7):\n",
    "    selid = indices[i*20:20*(i+1)]\n",
    "    batched[i]=[]\n",
    "    for iid in selid:\n",
    "        # batched[i].append(iid)\n",
    "        batched[i].append(split_features[iid])\n",
    "batched[8]=[]\n",
    "selid = indices[140:]\n",
    "for iid in selid:\n",
    "    # batched[i].append(iid)\n",
    "    batched[i].append(split_features[iid])\n",
    "\n",
    "\n",
    "for i in batched.keys(): \n",
    "    features = mts.join(batched[i], axis='samples')\n",
    "    blocks = []\n",
    "    for k, b in features.items():\n",
    "            sample_values = b.samples.values\n",
    "            sample_values[:, 0] = sample_values[:, 6]\n",
    "            samples = mts.Labels(b.samples.names[:-1], sample_values[:, :-1])\n",
    "            blocks.append(mts.TensorBlock(\n",
    "            values = b.values,\n",
    "            samples = samples,\n",
    "            properties = b.properties,\n",
    "            components = b.components\n",
    "            ))\n",
    "    features = mts.TensorMap(features.keys, blocks)\n",
    "    features.save(f'features_{i*20}_{(i+1)*20}_seed73')"
   ]
  }
 ],
 "metadata": {
  "kernelspec": {
   "display_name": "Python 3 (ipykernel)",
   "language": "python",
   "name": "python3"
  },
  "language_info": {
   "codemirror_mode": {
    "name": "ipython",
    "version": 3
   },
   "file_extension": ".py",
   "mimetype": "text/x-python",
   "name": "python",
   "nbconvert_exporter": "python",
   "pygments_lexer": "ipython3",
   "version": "3.12.3"
  }
 },
 "nbformat": 4,
 "nbformat_minor": 5
}
