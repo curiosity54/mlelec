{
 "cells": [
  {
   "cell_type": "code",
   "execution_count": 1,
   "id": "a3d8f12c-62ee-4d46-b766-c3b49d817fe2",
   "metadata": {},
   "outputs": [],
   "source": [
    "%load_ext autoreload\n",
    "%autoreload 2\n",
    "# %load_ext line_profiler"
   ]
  },
  {
   "cell_type": "code",
   "execution_count": 2,
   "id": "635a399b-c69b-4438-bac6-4ba0712d0d06",
   "metadata": {},
   "outputs": [
    {
     "name": "stderr",
     "output_type": "stream",
     "text": [
      "/Users/jigyasa/miniconda3/lib/python3.12/site-packages/pyscf/dft/libxc.py:771: UserWarning: Since PySCF-2.3, B3LYP (and B3P86) are changed to the VWN-RPA variant, corresponding to the original definition by Stephens et al. (issue 1480) and the same as the B3LYP functional in Gaussian. To restore the VWN5 definition, you can put the setting \"B3LYP_WITH_VWN5 = True\" in pyscf_conf.py\n",
      "  warnings.warn('Since PySCF-2.3, B3LYP (and B3P86) are changed to the VWN-RPA variant, '\n"
     ]
    }
   ],
   "source": [
    "import pathlib\n",
    "from ase.io import read\n",
    "from ase.visualize import view\n",
    "import matplotlib.pyplot as plt\n",
    "import numpy as np \n",
    "import torch \n",
    "torch.set_default_dtype(torch.float64)\n",
    "\n",
    "import rascaline.torch\n",
    "\n",
    "import metatensor.torch as mts\n",
    "\n",
    "from metatensor.torch import Labels, TensorBlock, TensorMap\n",
    "from metatensor.learn import IndexedDataset, DataLoader\n",
    "from metatensor.learn.data import group as mts_group, group_and_join as group_and_join_mts\n",
    "\n",
    "from mlelec.data.dataset import QMDataset, split_by_Aij_mts\n",
    "from mlelec.utils.twocenter_utils import _to_coupled_basis, lowdin_orthogonalize\n",
    "from mlelec.utils.pbc_utils import matrix_to_blocks, kmatrix_to_blocks, TMap_bloch_sums, precompute_phase, kblocks_to_matrix, kmatrix_to_blocks, blocks_to_matrix, matrix_to_blocks\n",
    "from mlelec.utils.plot_utils import print_matrix, matrix_norm, block_matrix_norm, plot_block_errors\n",
    "from mlelec.features.acdc import compute_features\n",
    "from mlelec.utils.target_utils import get_targets\n",
    "# from mlelec.models.linear import LinearModelPeriodic\n",
    "from mlelec.models.linear_symmetry import LinearModelPeriodic\n",
    "from mlelec.metrics import L2_loss, L2_loss_meanzero"
   ]
  },
  {
   "cell_type": "code",
   "execution_count": null,
   "id": "c92377fc",
   "metadata": {},
   "outputs": [],
   "source": []
  },
  {
   "cell_type": "code",
   "execution_count": 3,
   "id": "f0131f6a-72a2-445e-9384-0ba95406c112",
   "metadata": {},
   "outputs": [],
   "source": [
    "device = 'cpu'\n",
    "\n",
    "orbitals = {\n",
    "    'sto-3g': {\n",
    "               6: [[1,0,0],[2,0,0],[2,1,-1], [2,1,0],[2,1,1]], \n",
    "              }, \n",
    "    \n",
    "}"
   ]
  },
  {
   "cell_type": "markdown",
   "id": "4565e211-ccbd-4c4a-bda5-a19add51680a",
   "metadata": {},
   "source": [
    "# Dataset"
   ]
  },
  {
   "cell_type": "code",
   "execution_count": 4,
   "id": "22b4f6dc-ae7c-4574-a82c-7d4b16a52d5d",
   "metadata": {},
   "outputs": [],
   "source": [
    "# workdir = './\n",
    "\n",
    "workdir = f'{pathlib.Path().resolve()}/examples/data/periodic/c2-cp2k-benchmarks'\n",
    "START = 0 \n",
    "STOP = 2\n",
    "SKIP = 1\n",
    "ORBS = 'sto-3g'\n",
    "root = f'{workdir}'#/examples/data/periodic/c2/cp2k/sto-3g'\n",
    "data_dir = root\n",
    "\n",
    "frames = read(f'{data_dir}/C2_174.extxyz', slice(START, SKIP*STOP, SKIP))\n",
    "rfock = [np.load(f\"{data_dir}/C2_174_881_{i}/realfock_{i}.npy\", allow_pickle = True).item() for i in range(START, SKIP*STOP, SKIP)]\n",
    "rfock0_target = [np.load(f\"{data_dir}/baseline/C2_174_881_{i}/realfock_{i}.npy\", allow_pickle = True).item() for i in range(START, SKIP*STOP, SKIP)]\n",
    "rover = [np.load(f\"{data_dir}/C2_174_881_{i}/realoverlap_{i}.npy\", allow_pickle = True).item() for i in range(START, SKIP*STOP, SKIP)]\n",
    "# rover0 = [np.load(f\"{data_dir}/baseline/C2_174_881_{i}/realoverlap_{i}.npy\", allow_pickle = True).item() for i in range(START, STOP)]\n",
    "kmesh = [8,8,1]\n",
    "\n",
    "for f in frames:\n",
    "    f.pbc = [True,True,False]\n",
    "    f.wrap(center = (0,0,0), eps = 1e-60)\n",
    "    f.pbc = True\n",
    "\n",
    "# for K, K0 in zip(rfock, rfock0):\n",
    "#     for T in K:\n",
    "#         K[T] = K[T] - K0[T]\n",
    "rfock_diff_target = []\n",
    "for K, K0 in zip(rfock, rfock0_target):\n",
    "    rfock_diff_target.append({})\n",
    "    for T in K:\n",
    "        rfock_diff_target[-1][T] = K[T] -K0[T]\n",
    "        \n",
    "dataset = QMDataset(frames = frames, \n",
    "                               kmesh = kmesh, \n",
    "                               dimension = 2,\n",
    "                               fock_realspace = rfock, \n",
    "                               overlap_realspace = rover, \n",
    "                               device = device, \n",
    "                               orbs = orbitals[ORBS], \n",
    "                               orbs_name = 'sto-3g')"
   ]
  },
  {
   "cell_type": "markdown",
   "id": "19fb1dc1",
   "metadata": {},
   "source": [
    "## Testset"
   ]
  },
  {
   "cell_type": "code",
   "execution_count": 5,
   "id": "087b8201-1535-4f07-98d1-58e41d86e305",
   "metadata": {},
   "outputs": [
    {
     "ename": "FileNotFoundError",
     "evalue": "[Errno 2] No such file or directory: './examples/data/periodic/c2-cp2k-benchmarks/baseline/C2_174_881_3/realfock_3.npy'",
     "output_type": "error",
     "traceback": [
      "\u001b[0;31m---------------------------------------------------------------------------\u001b[0m",
      "\u001b[0;31mFileNotFoundError\u001b[0m                         Traceback (most recent call last)",
      "Cell \u001b[0;32mIn[5], line 11\u001b[0m\n\u001b[1;32m      9\u001b[0m frames \u001b[38;5;241m=\u001b[39m read(\u001b[38;5;124mf\u001b[39m\u001b[38;5;124m'\u001b[39m\u001b[38;5;132;01m{\u001b[39;00mdata_dir\u001b[38;5;132;01m}\u001b[39;00m\u001b[38;5;124m/C2_174.extxyz\u001b[39m\u001b[38;5;124m'\u001b[39m, \u001b[38;5;28mslice\u001b[39m(START, SKIP\u001b[38;5;241m*\u001b[39mSTOP, SKIP))\n\u001b[1;32m     10\u001b[0m rfock \u001b[38;5;241m=\u001b[39m [np\u001b[38;5;241m.\u001b[39mload(\u001b[38;5;124mf\u001b[39m\u001b[38;5;124m\"\u001b[39m\u001b[38;5;132;01m{\u001b[39;00mdata_dir\u001b[38;5;132;01m}\u001b[39;00m\u001b[38;5;124m/C2_174_881_\u001b[39m\u001b[38;5;132;01m{\u001b[39;00mi\u001b[38;5;132;01m}\u001b[39;00m\u001b[38;5;124m/realfock_\u001b[39m\u001b[38;5;132;01m{\u001b[39;00mi\u001b[38;5;132;01m}\u001b[39;00m\u001b[38;5;124m.npy\u001b[39m\u001b[38;5;124m\"\u001b[39m, allow_pickle \u001b[38;5;241m=\u001b[39m \u001b[38;5;28;01mTrue\u001b[39;00m)\u001b[38;5;241m.\u001b[39mitem() \u001b[38;5;28;01mfor\u001b[39;00m i \u001b[38;5;129;01min\u001b[39;00m \u001b[38;5;28mrange\u001b[39m(START, SKIP\u001b[38;5;241m*\u001b[39mSTOP, SKIP)]\n\u001b[0;32m---> 11\u001b[0m rfock0_test \u001b[38;5;241m=\u001b[39m [\u001b[43mnp\u001b[49m\u001b[38;5;241;43m.\u001b[39;49m\u001b[43mload\u001b[49m\u001b[43m(\u001b[49m\u001b[38;5;124;43mf\u001b[39;49m\u001b[38;5;124;43m\"\u001b[39;49m\u001b[38;5;132;43;01m{\u001b[39;49;00m\u001b[43mdata_dir\u001b[49m\u001b[38;5;132;43;01m}\u001b[39;49;00m\u001b[38;5;124;43m/baseline/C2_174_881_\u001b[39;49m\u001b[38;5;132;43;01m{\u001b[39;49;00m\u001b[43mi\u001b[49m\u001b[38;5;132;43;01m}\u001b[39;49;00m\u001b[38;5;124;43m/realfock_\u001b[39;49m\u001b[38;5;132;43;01m{\u001b[39;49;00m\u001b[43mi\u001b[49m\u001b[38;5;132;43;01m}\u001b[39;49;00m\u001b[38;5;124;43m.npy\u001b[39;49m\u001b[38;5;124;43m\"\u001b[39;49m\u001b[43m,\u001b[49m\u001b[43m \u001b[49m\u001b[43mallow_pickle\u001b[49m\u001b[43m \u001b[49m\u001b[38;5;241;43m=\u001b[39;49m\u001b[43m \u001b[49m\u001b[38;5;28;43;01mTrue\u001b[39;49;00m\u001b[43m)\u001b[49m\u001b[38;5;241m.\u001b[39mitem() \u001b[38;5;28;01mfor\u001b[39;00m i \u001b[38;5;129;01min\u001b[39;00m \u001b[38;5;28mrange\u001b[39m(START, SKIP\u001b[38;5;241m*\u001b[39mSTOP, SKIP)]\n\u001b[1;32m     12\u001b[0m rover \u001b[38;5;241m=\u001b[39m [np\u001b[38;5;241m.\u001b[39mload(\u001b[38;5;124mf\u001b[39m\u001b[38;5;124m\"\u001b[39m\u001b[38;5;132;01m{\u001b[39;00mdata_dir\u001b[38;5;132;01m}\u001b[39;00m\u001b[38;5;124m/C2_174_881_\u001b[39m\u001b[38;5;132;01m{\u001b[39;00mi\u001b[38;5;132;01m}\u001b[39;00m\u001b[38;5;124m/realoverlap_\u001b[39m\u001b[38;5;132;01m{\u001b[39;00mi\u001b[38;5;132;01m}\u001b[39;00m\u001b[38;5;124m.npy\u001b[39m\u001b[38;5;124m\"\u001b[39m, allow_pickle \u001b[38;5;241m=\u001b[39m \u001b[38;5;28;01mTrue\u001b[39;00m)\u001b[38;5;241m.\u001b[39mitem() \u001b[38;5;28;01mfor\u001b[39;00m i \u001b[38;5;129;01min\u001b[39;00m \u001b[38;5;28mrange\u001b[39m(START, SKIP\u001b[38;5;241m*\u001b[39mSTOP, SKIP)]\n\u001b[1;32m     13\u001b[0m \u001b[38;5;66;03m# rover0 = [np.load(f\"{data_dir}/baseline/C2_174_881_{i}/realoverlap_{i}.npy\", allow_pickle = True).item() for i in range(START, STOP)]\u001b[39;00m\n",
      "File \u001b[0;32m~/miniconda3/lib/python3.12/site-packages/numpy/lib/npyio.py:427\u001b[0m, in \u001b[0;36mload\u001b[0;34m(file, mmap_mode, allow_pickle, fix_imports, encoding, max_header_size)\u001b[0m\n\u001b[1;32m    425\u001b[0m     own_fid \u001b[38;5;241m=\u001b[39m \u001b[38;5;28;01mFalse\u001b[39;00m\n\u001b[1;32m    426\u001b[0m \u001b[38;5;28;01melse\u001b[39;00m:\n\u001b[0;32m--> 427\u001b[0m     fid \u001b[38;5;241m=\u001b[39m stack\u001b[38;5;241m.\u001b[39menter_context(\u001b[38;5;28;43mopen\u001b[39;49m\u001b[43m(\u001b[49m\u001b[43mos_fspath\u001b[49m\u001b[43m(\u001b[49m\u001b[43mfile\u001b[49m\u001b[43m)\u001b[49m\u001b[43m,\u001b[49m\u001b[43m \u001b[49m\u001b[38;5;124;43m\"\u001b[39;49m\u001b[38;5;124;43mrb\u001b[39;49m\u001b[38;5;124;43m\"\u001b[39;49m\u001b[43m)\u001b[49m)\n\u001b[1;32m    428\u001b[0m     own_fid \u001b[38;5;241m=\u001b[39m \u001b[38;5;28;01mTrue\u001b[39;00m\n\u001b[1;32m    430\u001b[0m \u001b[38;5;66;03m# Code to distinguish from NumPy binary files and pickles.\u001b[39;00m\n",
      "\u001b[0;31mFileNotFoundError\u001b[0m: [Errno 2] No such file or directory: './examples/data/periodic/c2-cp2k-benchmarks/baseline/C2_174_881_3/realfock_3.npy'"
     ]
    }
   ],
   "source": [
    "# workdir = './'\n",
    "workdir = './examples/data/periodic/c2-cp2k-benchmarks'\n",
    "START = 3\n",
    "STOP = 8\n",
    "SKIP = 1\n",
    "ORBS = 'sto-3g'\n",
    "root = f'{workdir}'#/examples/data/periodic/c2/cp2k/sto-3g'\n",
    "data_dir = root\n",
    "frames = read(f'{data_dir}/C2_174.extxyz', slice(START, SKIP*STOP, SKIP))\n",
    "rfock = [np.load(f\"{data_dir}/C2_174_881_{i}/realfock_{i}.npy\", allow_pickle = True).item() for i in range(START, SKIP*STOP, SKIP)]\n",
    "rfock0_test = [np.load(f\"{data_dir}/baseline/C2_174_881_{i}/realfock_{i}.npy\", allow_pickle = True).item() for i in range(START, SKIP*STOP, SKIP)]\n",
    "rover = [np.load(f\"{data_dir}/C2_174_881_{i}/realoverlap_{i}.npy\", allow_pickle = True).item() for i in range(START, SKIP*STOP, SKIP)]\n",
    "# rover0 = [np.load(f\"{data_dir}/baseline/C2_174_881_{i}/realoverlap_{i}.npy\", allow_pickle = True).item() for i in range(START, STOP)]\n",
    "kmesh = [8,8,1]\n",
    "\n",
    "for f in frames:\n",
    "    f.pbc = [True,True,False]\n",
    "    f.wrap(center = (0,0,0), eps = 1e-60)\n",
    "    f.pbc = True\n",
    "\n",
    "# for K, K0 in zip(rfock, rfock0):\n",
    "#     for T in K:\n",
    "#         K[T] = K[T] - K0[T]\n",
    "rfock_diff_test= []\n",
    "for K, K0 in zip(rfock, rfock0_test):\n",
    "    rfock_diff_test.append({})\n",
    "    for T in K:\n",
    "        rfock_diff_test[-1][T] = K[T] -K0[T]\n",
    "        \n",
    "\n",
    "testset = QMDataset(frames = frames, \n",
    "                               kmesh = kmesh, \n",
    "                               dimension = 2,\n",
    "                               fock_realspace = rfock, \n",
    "                               overlap_realspace = rover, \n",
    "                               device = device, \n",
    "                               orbs = orbitals[ORBS], \n",
    "                               orbs_name = 'sto-3g')"
   ]
  },
  {
   "cell_type": "code",
   "execution_count": null,
   "id": "8da42564-e0ef-4ec8-8fb7-dc56b4a28156",
   "metadata": {},
   "outputs": [],
   "source": [
    "# for ifr in range(len(rover)):\n",
    "#     for T in rover[ifr]:\n",
    "#         print(ifr, T, np.linalg.norm(rover[ifr][T]- rover0[ifr][T]))"
   ]
  },
  {
   "cell_type": "markdown",
   "id": "2516070c",
   "metadata": {},
   "source": [
    "## Compute target"
   ]
  },
  {
   "cell_type": "code",
   "execution_count": 25,
   "id": "db7ec4b2-4657-4c86-bd61-da05d274cbe5",
   "metadata": {},
   "outputs": [],
   "source": [
    "cutoff = 8\n",
    "SORT_ORBS = True\n",
    "target_blocks, target_coupled_blocks = get_targets(dataset, cutoff = cutoff, device = device, all_pairs = False, sort_orbs=SORT_ORBS)\n",
    "_, overlap_coupled_blocks = get_targets(dataset, cutoff = cutoff, device = device, target = 'overlap')\n",
    "target_blocks_base, target_coupled_blocks_base = get_targets(dataset, cutoff = cutoff, device = device, all_pairs = False, sort_orbs=SORT_ORBS, matrix=rfock_diff_target)\n",
    "_, target_coupled_blocks_fock0 = get_targets(dataset, cutoff = cutoff, device = device, all_pairs = False, sort_orbs=SORT_ORBS, matrix=rfock0_target)\n"
   ]
  },
  {
   "cell_type": "code",
   "execution_count": null,
   "id": "9da57e54",
   "metadata": {},
   "outputs": [],
   "source": []
  },
  {
   "cell_type": "code",
   "execution_count": 8,
   "id": "c29c04e1-c22f-4eb9-8e59-ecfe01658f41",
   "metadata": {},
   "outputs": [],
   "source": [
    "_, test_coupled_blocks = get_targets(testset, cutoff = cutoff, device = device, all_pairs = False, sort_orbs=SORT_ORBS)\n",
    "_, overlap_coupled_blocks_test = get_targets(dataset, cutoff = cutoff, device = device, target = 'overlap')\n",
    "test_blocks_base, test_coupled_blocks_base = get_targets(testset, cutoff = cutoff, device = device, all_pairs = False, sort_orbs=SORT_ORBS, matrix=rfock_diff_test)\n",
    "_, test_coupled_blocks_fock0 = get_targets(testset, cutoff = cutoff, device = device, all_pairs = False, sort_orbs=SORT_ORBS, matrix=rfock0_test )\n"
   ]
  },
  {
   "cell_type": "code",
   "execution_count": 8,
   "id": "cb7a1ae6-961b-4517-83f5-b90ffab74157",
   "metadata": {},
   "outputs": [],
   "source": [
    "target_kspace = dataset.bloch_sum(blocks_to_matrix(target_coupled_blocks, dataset))\n",
    "target_kspace_base = dataset.bloch_sum(blocks_to_matrix(target_coupled_blocks_base, dataset))\n",
    "overlap_kspace = dataset.bloch_sum(blocks_to_matrix(overlap_coupled_blocks, dataset))\n",
    "\n",
    "# test_kspace = testset.bloch_sum(blocks_to_matrix(test_coupled_blocks, testset))\n",
    "# test_kspace_base = testset.bloch_sum(blocks_to_matrix(test_coupled_blocks_base, testset))\n",
    "# overlap_kspace_test = dataset.bloch_sum(blocks_to_matrix(overlap_coupled_blocks_test, testset))"
   ]
  },
  {
   "cell_type": "markdown",
   "id": "abeb3115-a7da-47ac-b9a6-7c95eadadbe6",
   "metadata": {},
   "source": [
    "# Features "
   ]
  },
  {
   "cell_type": "code",
   "execution_count": 7,
   "id": "bc694fab-5561-4db4-8509-8258a97a6594",
   "metadata": {},
   "outputs": [
    {
     "name": "stdout",
     "output_type": "stream",
     "text": [
      "cpu pair features\n",
      "cpu single center features\n",
      "cpu single center features\n"
     ]
    }
   ],
   "source": [
    "max_radial  = 6\n",
    "max_angular = 4\n",
    "atomic_gaussian_width = 0.3\n",
    "spline_basis = False\n",
    "\n",
    "hypers_pair = {'cutoff': cutoff,\n",
    "               'max_radial': max_radial,\n",
    "               'max_angular': max_angular,\n",
    "               'atomic_gaussian_width': atomic_gaussian_width,\n",
    "               'center_atom_weight': 1,\n",
    "               \"radial_basis\": {\"Gto\": {}},\n",
    "               \"cutoff_function\": {\"ShiftedCosine\": {\"width\": 0.1}}}\n",
    "\n",
    "\n",
    "hypers_atom = {'cutoff': 4,\n",
    "               'max_radial': max_radial,\n",
    "               'max_angular': max_angular,\n",
    "               'atomic_gaussian_width': atomic_gaussian_width,\n",
    "               'center_atom_weight': 1,\n",
    "               \"radial_basis\": {\"Gto\": {}},\n",
    "               \"cutoff_function\": {\"ShiftedCosine\": {\"width\": 0.1}}}\n",
    "\n",
    "\n",
    "return_rho0ij = False\n",
    "both_centers = False\n",
    "LCUT = 3\n",
    "\n",
    "hfeat = compute_features(dataset, hypers_atom, hypers_pair=hypers_pair, lcut = LCUT, all_pairs=False)"
   ]
  },
  {
   "cell_type": "code",
   "execution_count": 47,
   "id": "a444fda7",
   "metadata": {},
   "outputs": [
    {
     "data": {
      "text/plain": [
       "(torch.Size([4, 3, 288]), torch.Size([4, 3, 144]))"
      ]
     },
     "execution_count": 47,
     "metadata": {},
     "output_type": "execute_result"
    }
   ],
   "source": [
    "hfeat[1].values.shape, hfeat[4].values.shape"
   ]
  },
  {
   "cell_type": "code",
   "execution_count": 11,
   "id": "2ab15bd9-33cf-4869-908d-3b3a64b69c93",
   "metadata": {},
   "outputs": [
    {
     "name": "stdout",
     "output_type": "stream",
     "text": [
      "cpu pair features\n"
     ]
    },
    {
     "name": "stdout",
     "output_type": "stream",
     "text": [
      "cpu single center features\n",
      "cpu single center features\n"
     ]
    }
   ],
   "source": [
    "hfeat_test = compute_features(testset, hypers_atom, hypers_pair=hypers_pair, lcut = LCUT, all_pairs=False)"
   ]
  },
  {
   "cell_type": "markdown",
   "id": "31d25541-4cdc-40b7-b5ee-ee751ca7cafd",
   "metadata": {},
   "source": [
    "# Model"
   ]
  },
  {
   "cell_type": "code",
   "execution_count": 9,
   "id": "d4983fb7-673e-451e-832a-6be5a25d62a6",
   "metadata": {},
   "outputs": [],
   "source": [
    "seed = 10\n",
    "torch.manual_seed(seed)\n",
    "np.random.seed(seed)\n",
    "from mlelec.models.linear import LinearModelPeriodic\n",
    "model = LinearModelPeriodic(twocfeat = hfeat, \n",
    "                            target_blocks = target_coupled_blocks,\n",
    "                            frames = dataset.structures, orbitals = dataset.basis, \n",
    "                            device = device,\n",
    "                            bias = False, #True\n",
    "                            nhidden = 32, \n",
    "                            nlayers = 1,\n",
    "                            # activation = 'SiLU',\n",
    "                            # apply_norm = True\n",
    "                           )\n",
    "\n",
    "model = model.double()"
   ]
  },
  {
   "cell_type": "markdown",
   "id": "03284892-0cc3-4d26-b0a0-e72f7795274f",
   "metadata": {},
   "source": [
    "## RIDGE models "
   ]
  },
  {
   "cell_type": "code",
   "execution_count": 13,
   "id": "c48696ec-8c5b-4d09-9bc6-de07553f972b",
   "metadata": {},
   "outputs": [],
   "source": [
    "def train_ridge(model, target_blocks, set_bias=False, alphas = None, kernel_ridge = False, alpha = None):\n",
    "    block_losses = {}\n",
    "    loss = 0\n",
    "    pred, ridges = model.fit_ridge_analytical(return_matrix = False, set_bias = set_bias, kernel_ridge = kernel_ridge, alphas = alphas, alpha = alpha)\n",
    "\n",
    "    for (key, block) in pred.items():\n",
    "        block_loss=torch.norm(block.values - target_blocks[key].values)**2\n",
    "        loss += block_loss\n",
    "        \n",
    "        block_losses[tuple(key.values)] = block_loss\n",
    "\n",
    "    # print(np.sum(list(block_losses.values())))\n",
    "    return loss, pred, ridges, block_losses#, kernels "
   ]
  },
  {
   "cell_type": "markdown",
   "id": "08a27a8e-9edc-4869-9dc5-443d9e6f04d7",
   "metadata": {},
   "source": [
    "### A - direct H(T)"
   ]
  },
  {
   "cell_type": "code",
   "execution_count": 14,
   "id": "36d603e5-c7ed-4df0-95ac-105f6bdd280c",
   "metadata": {},
   "outputs": [
    {
     "name": "stdout",
     "output_type": "stream",
     "text": [
      "tensor(3.1771e-06)\n"
     ]
    }
   ],
   "source": [
    "model_ridge = LinearModelPeriodic(twocfeat = hfeat, \n",
    "                                  target_blocks = target_coupled_blocks,\n",
    "                                  frames = dataset.structures, orbitals = dataset.basis, \n",
    "                                  device = device)\n",
    "\n",
    "model_ridge = model_ridge.double()\n",
    "loss_ridge_bias, pred_ridge_bias, ridges_bias, loss_blocks = train_ridge(model_ridge, \n",
    "                                                                         target_coupled_blocks,\n",
    "                                                                         set_bias = True,\n",
    "                                                                         kernel_ridge = False,\n",
    "                                                                         # alphas = np.logspace(-10, -2, 100),\n",
    "                                                                         alphas = np.logspace(-10, 1, 100),\n",
    "                                                                         # alpha = 1e-4\n",
    "                                                                        )\n",
    "print(loss_ridge_bias)"
   ]
  },
  {
   "cell_type": "code",
   "execution_count": 15,
   "id": "f6757ae9-3f6e-4659-b375-e15b2ca31913",
   "metadata": {},
   "outputs": [
    {
     "name": "stderr",
     "output_type": "stream",
     "text": [
      "/media/nigam/b5749eb7-d3f1-4495-adeb-2c318fb7d0de/MAC/mlelec/src/mlelec/models/linear.py:782: UserWarning: Using train target_blocks, otherwise provide test target_blocks\n",
      "  warnings.warn('Using train target_blocks, otherwise provide test target_blocks')\n"
     ]
    },
    {
     "data": {
      "text/plain": [
       "tensor(0.0033)"
      ]
     },
     "execution_count": 15,
     "metadata": {},
     "output_type": "execute_result"
    }
   ],
   "source": [
    "pred_test_ridge = model_ridge.predict_ridge_analytical(ridges_bias, hfeat_test)\n",
    "L2_loss(test_coupled_blocks, pred_test_ridge)"
   ]
  },
  {
   "cell_type": "markdown",
   "id": "fd6f021a-ce96-4c46-86c4-7a0ff2c7351b",
   "metadata": {},
   "source": [
    "### B. - baselined H(T)"
   ]
  },
  {
   "cell_type": "code",
   "execution_count": 16,
   "id": "74bf370f-7ef4-4b0f-a7c3-a9d0efe8772e",
   "metadata": {},
   "outputs": [
    {
     "name": "stdout",
     "output_type": "stream",
     "text": [
      "tensor(5.2701e-09)\n"
     ]
    },
    {
     "data": {
      "text/plain": [
       "tensor(5.2701e-09)"
      ]
     },
     "execution_count": 16,
     "metadata": {},
     "output_type": "execute_result"
    }
   ],
   "source": [
    "model_ridge = LinearModelPeriodic(twocfeat = hfeat, \n",
    "                                  target_blocks = target_coupled_blocks_base,\n",
    "                                  frames = dataset.structures, orbitals = dataset.basis, \n",
    "                                  device = device)\n",
    "\n",
    "model_ridge = model_ridge.double()\n",
    "loss_ridge_bias, pred_ridge_bias, ridges_bias, loss_blocks = train_ridge(model_ridge, \n",
    "                                                                         target_coupled_blocks_base,\n",
    "                                                                         set_bias = True,\n",
    "                                                                         kernel_ridge = False,\n",
    "                                                                         # alphas = np.logspace(-10, -2, 100),\n",
    "                                                                         alphas = np.logspace(-10, 1, 100),\n",
    "                                                                         # alpha = 1e-4\n",
    "                                                                        )\n",
    "print(loss_ridge_bias)\n",
    "pred_ht = mts.add(pred_ridge_bias, target_coupled_blocks_fock0)\n",
    "L2_loss(pred_ht, target_coupled_blocks)"
   ]
  },
  {
   "cell_type": "code",
   "execution_count": 17,
   "id": "c0fbe88b-8a83-46fc-a044-de7436b73086",
   "metadata": {},
   "outputs": [
    {
     "name": "stderr",
     "output_type": "stream",
     "text": [
      "/media/nigam/b5749eb7-d3f1-4495-adeb-2c318fb7d0de/MAC/mlelec/src/mlelec/models/linear.py:782: UserWarning: Using train target_blocks, otherwise provide test target_blocks\n",
      "  warnings.warn('Using train target_blocks, otherwise provide test target_blocks')\n"
     ]
    }
   ],
   "source": [
    "pred_test_ridge = model_ridge.predict_ridge_analytical(ridges_bias, hfeat_test)\n",
    "# pred_ht = mts.add(pred_test_ridge, test_coupled_blocks_fock0)\n",
    "# L2_loss(test_coupled_blocks, pred_ht)"
   ]
  },
  {
   "cell_type": "markdown",
   "id": "8960211b-8b56-47ae-917d-a1b20f358cd5",
   "metadata": {},
   "source": [
    "### D. -  H(k)"
   ]
  },
  {
   "cell_type": "code",
   "execution_count": 48,
   "id": "b3380273",
   "metadata": {},
   "outputs": [],
   "source": [
    "from mlelec.utils.pbc_utils import precompute_phase, TMap_bloch_sums, TMap_bloch_sums_feat\n",
    "phase, indices ,_= precompute_phase(hfeat, dataset)\n",
    "hfeat_kspace = TMap_bloch_sums_feat(hfeat, phase, indices, _, return_tensormap=True)"
   ]
  },
  {
   "cell_type": "code",
   "execution_count": 49,
   "id": "e77bbae2",
   "metadata": {},
   "outputs": [],
   "source": [
    "# (target_coupled_blocks[4].values[0]*np.sqrt(2)+torch.sum(target_coupled_blocks[11].values[:38], axis=0))\n",
    "# ((hfeat[0].values[0]*np.sqrt(2)+torch.sum(hfeat[7].values[:38], axis=0)) - hfeat_kspace[0].values[0]).norm()"
   ]
  },
  {
   "cell_type": "code",
   "execution_count": 50,
   "id": "623e2bba",
   "metadata": {},
   "outputs": [],
   "source": [
    "phase, indices ,_= precompute_phase(target_coupled_blocks, dataset)\n",
    "target_coupled_blocks_k = TMap_bloch_sums(target_coupled_blocks, phase, indices, _, return_tensormap=True)"
   ]
  },
  {
   "cell_type": "code",
   "execution_count": 51,
   "id": "fb02397b",
   "metadata": {},
   "outputs": [],
   "source": [
    "kblocks = _to_coupled_basis(kmatrix_to_blocks(dataset, cutoff=cutoff),skip_symmetry = False, device = device, translations = False)"
   ]
  },
  {
   "cell_type": "code",
   "execution_count": 88,
   "id": "f627dbe1",
   "metadata": {},
   "outputs": [
    {
     "name": "stdout",
     "output_type": "stream",
     "text": [
      "tensor([-1,  6,  1,  0,  6,  2,  0,  0], dtype=torch.int32) tensor(2.3452e-15)\n",
      "tensor([-1,  6,  1,  0,  6,  2,  1,  1], dtype=torch.int32) tensor(8.6941e-15)\n",
      "tensor([-1,  6,  2,  0,  6,  2,  1,  1], dtype=torch.int32) tensor(3.5022e-09)\n",
      "tensor([-1,  6,  2,  1,  6,  2,  1,  1], dtype=torch.int32) tensor(7.3161e-14)\n",
      "tensor([1, 6, 1, 0, 6, 1, 0, 0], dtype=torch.int32) tensor(8.5487e-14)\n",
      "tensor([1, 6, 1, 0, 6, 2, 0, 0], dtype=torch.int32) tensor(2.3656e-14)\n",
      "tensor([1, 6, 1, 0, 6, 2, 1, 1], dtype=torch.int32) tensor(3.7698e-15)\n",
      "tensor([1, 6, 2, 0, 6, 2, 0, 0], dtype=torch.int32) tensor(1.6346e-09)\n",
      "tensor([1, 6, 2, 0, 6, 2, 1, 1], dtype=torch.int32) tensor(2.5883e-11)\n",
      "tensor([1, 6, 2, 1, 6, 2, 1, 0], dtype=torch.int32) tensor(1.3456e-08)\n",
      "tensor([1, 6, 2, 1, 6, 2, 1, 2], dtype=torch.int32) tensor(2.0125e-08)\n"
     ]
    }
   ],
   "source": [
    "from mlelec.utils.metatensor_utils import sort_block_hack, sort_hack\n",
    "for (k1, b1)in target_coupled_blocks_k.items():\n",
    "    # b1 = sort_block_hack(b1)\n",
    "    b2 = kblocks.block(k1)\n",
    "    b2 = sort_block_hack(b2)\n",
    "    # b2 = _match_feature_and_target_samples(b1, b2, return_idx=True)\n",
    "    _,m1,m2 = b1.samples.intersection_and_mapping(b2.samples)\n",
    "    b2val = b2.values[m2]\n",
    "    assert torch.all(b1.samples.values[m1] == b2.samples.values[m2]), (b1.samples.values[m1], b2.samples.values[m2])\n",
    "    # print(k1.values, b1.values.shape,b2.values.shape)\n",
    "    print(k1.values, (b1.values-b2val).norm())"
   ]
  },
  {
   "cell_type": "code",
   "execution_count": 89,
   "id": "334acb16",
   "metadata": {},
   "outputs": [],
   "source": [
    "kblocks = sort_hack(kblocks)"
   ]
  },
  {
   "cell_type": "code",
   "execution_count": null,
   "id": "f8aeb0c6",
   "metadata": {},
   "outputs": [],
   "source": []
  },
  {
   "cell_type": "code",
   "execution_count": 54,
   "id": "a35053ef",
   "metadata": {},
   "outputs": [
    {
     "name": "stdout",
     "output_type": "stream",
     "text": [
      "tensor(0.0004)\n"
     ]
    }
   ],
   "source": [
    "model_ridge = LinearModelPeriodic(twocfeat = hfeat_kspace, \n",
    "                                  target_blocks = target_coupled_blocks_k,\n",
    "                                  frames = dataset.structures, orbitals = dataset.basis, \n",
    "                                  device = device)\n",
    "\n",
    "model_ridge = model_ridge.double()\n",
    "loss_ridge_bias, pred_ridge_bias, ridges_bias, loss_blocks = train_ridge(model_ridge, \n",
    "                                                                         target_coupled_blocks_k,\n",
    "                                                                         set_bias = True,\n",
    "                                                                         kernel_ridge = False,\n",
    "                                                                         alphas = np.logspace(-7, 2, 100),\n",
    "                                                                        #  alphas = np.logspace(-6, 4, 100),\n",
    "                                                                        #  alpha = 1e-4\n",
    "                                                                        )\n",
    "print(loss_ridge_bias)"
   ]
  },
  {
   "cell_type": "code",
   "execution_count": 22,
   "id": "3de8fd20",
   "metadata": {},
   "outputs": [
    {
     "data": {
      "text/plain": [
       "(1e-10, 0.0005232541480597252)"
      ]
     },
     "execution_count": 22,
     "metadata": {},
     "output_type": "execute_result"
    },
    {
     "data": {
      "image/png": "[encoded data removed]",
      "text/plain": [
       "<Figure size 1920x480 with 2 Axes>"
      ]
     },
     "metadata": {},
     "output_type": "display_data"
    }
   ],
   "source": [
    "fig, ax, ax2 = plot_block_errors(target_coupled_blocks_k, pred_ridge_bias, plot_loss=True)\n",
    "ax.set_ylim(1e-10,)\n",
    "ax2.set_ylim(1e-10,)"
   ]
  },
  {
   "cell_type": "code",
   "execution_count": 92,
   "id": "70dd814c",
   "metadata": {},
   "outputs": [
    {
     "name": "stdout",
     "output_type": "stream",
     "text": [
      "tensor(0.0004)\n"
     ]
    }
   ],
   "source": [
    "model_ridge = LinearModelPeriodic(twocfeat = hfeat_kspace, \n",
    "                                  target_blocks = kblocks,\n",
    "                                  frames = dataset.structures, orbitals = dataset.basis, \n",
    "                                  device = device)\n",
    "\n",
    "model_ridge = model_ridge.double()\n",
    "loss_ridge_bias, pred_ridge_bias, ridges_bias, loss_blocks = train_ridge(model_ridge, \n",
    "                                                                         kblocks,\n",
    "                                                                         set_bias = True,\n",
    "                                                                         kernel_ridge = False,\n",
    "                                                                         alphas = np.logspace(-7, 2, 100),\n",
    "                                                                        #  alphas = np.logspace(-6, 4, 100),\n",
    "                                                                        #  alpha = 1e-4\n",
    "                                                                        )\n",
    "print(loss_ridge_bias)"
   ]
  },
  {
   "cell_type": "markdown",
   "id": "57cfebb1-b09a-4b5c-bfeb-68005c619d90",
   "metadata": {},
   "source": [
    "### E. - baselined H(k)"
   ]
  },
  {
   "cell_type": "code",
   "execution_count": 22,
   "id": "0e606bc8-b74a-46dc-9113-251c8d7830dd",
   "metadata": {},
   "outputs": [],
   "source": [
    "phase, indices ,_= precompute_phase(target_coupled_blocks_base, dataset)\n",
    "target_coupled_blocks_base_k = TMap_bloch_sums(target_coupled_blocks_base, phase, indices, _, return_tensormap=True)"
   ]
  },
  {
   "cell_type": "code",
   "execution_count": 23,
   "id": "3e45fa48",
   "metadata": {},
   "outputs": [
    {
     "name": "stdout",
     "output_type": "stream",
     "text": [
      "tensor(7.4700e-07)\n"
     ]
    }
   ],
   "source": [
    "model_ridge = LinearModelPeriodic(twocfeat = hfeat_kspace, \n",
    "                                  target_blocks = target_coupled_blocks_base_k,\n",
    "                                  frames = dataset.structures, orbitals = dataset.basis, \n",
    "                                  device = device)\n",
    "\n",
    "model_ridge = model_ridge.double()\n",
    "loss_ridge_bias, pred_ridge_bias, ridges_bias, loss_blocks = train_ridge(model_ridge, \n",
    "                                                                         target_coupled_blocks_base_k,\n",
    "                                                                         set_bias = True,\n",
    "                                                                         kernel_ridge = False,\n",
    "                                                                         alphas = np.logspace(-7, 2, 100),\n",
    "                                                                        #  alphas = np.logspace(-6, 4, 100),\n",
    "                                                                        #  alpha = 1e-4\n",
    "                                                                        )\n",
    "print(loss_ridge_bias)"
   ]
  },
  {
   "cell_type": "markdown",
   "id": "aebb3329-15f3-4cf2-8591-4c0708f1860f",
   "metadata": {},
   "source": [
    "### G. - orthogonalize H(k) "
   ]
  },
  {
   "cell_type": "code",
   "execution_count": 105,
   "id": "44c31230",
   "metadata": {},
   "outputs": [],
   "source": [
    "ortho_target_kspace =[]# torch.stack([lowdin_orthogonalize(h, s) for h, s in zip(ttarget_kspace, overlap_kspace)])\n",
    "for ifr in range(len(target_kspace)):\n",
    "    ot = torch.stack([lowdin_orthogonalize(h, s) for h, s in zip(target_kspace[ifr], overlap_kspace[ifr])])\n",
    "    ortho_target_kspace.append(ot)"
   ]
  },
  {
   "cell_type": "code",
   "execution_count": 106,
   "id": "9c8dde27",
   "metadata": {},
   "outputs": [],
   "source": [
    "e_ortho=[]\n",
    "for ifr in range(len(ortho_target_kspace)):\n",
    "   eifr=[]\n",
    "   for k in range(len(ortho_target_kspace[ifr])):\n",
    "      eifr.append(torch.linalg.eigvalsh(ortho_target_kspace[ifr][k]))\n",
    "   e_ortho.append(torch.stack(eifr))"
   ]
  },
  {
   "cell_type": "code",
   "execution_count": 107,
   "id": "aaa5201e",
   "metadata": {},
   "outputs": [],
   "source": [
    "import scipy\n",
    "e_nonorth=[]\n",
    "for ifr in range(len(target_kspace)):\n",
    "   eifr=[]\n",
    "   for k in range(len(target_kspace[ifr])):\n",
    "      eifr.append(torch.tensor(scipy.linalg.eigvalsh(target_kspace[ifr][k], overlap_kspace[ifr][k])))\n",
    "   e_nonorth.append(torch.stack(eifr))"
   ]
  },
  {
   "cell_type": "code",
   "execution_count": 108,
   "id": "199504d6",
   "metadata": {},
   "outputs": [
    {
     "name": "stdout",
     "output_type": "stream",
     "text": [
      "0 tensor(1.3181e-13)\n",
      "1 tensor(1.3615e-13)\n",
      "2 tensor(1.4274e-13)\n",
      "3 tensor(1.1559e-13)\n",
      "4 tensor(1.1993e-13)\n"
     ]
    }
   ],
   "source": [
    "for ifr in range(len(dataset)):\n",
    "    print(ifr, torch.norm(e_ortho[ifr]-e_nonorth[ifr]))"
   ]
  },
  {
   "cell_type": "code",
   "execution_count": 62,
   "id": "763e8e05",
   "metadata": {},
   "outputs": [],
   "source": [
    "# plt.plot(torch.cat(e_ortho).numpy(), torch.cat(e_nonorth).numpy(), 'o')"
   ]
  },
  {
   "cell_type": "code",
   "execution_count": 109,
   "id": "84cd31f6",
   "metadata": {},
   "outputs": [],
   "source": [
    "oblocks = _to_coupled_basis(kmatrix_to_blocks(dataset, cutoff=cutoff, matrix = ortho_target_kspace),skip_symmetry = False, device = device, translations = False)\n",
    "oblocks = sort_hack(oblocks)"
   ]
  },
  {
   "cell_type": "code",
   "execution_count": 114,
   "id": "ebffeb2a",
   "metadata": {},
   "outputs": [
    {
     "name": "stdout",
     "output_type": "stream",
     "text": [
      "tensor(10058.2337)\n"
     ]
    }
   ],
   "source": [
    "model_ridge = LinearModelPeriodic(twocfeat = hfeat_kspace, \n",
    "                                  target_blocks = oblocks,\n",
    "                                  frames = dataset.structures, orbitals = dataset.basis, \n",
    "                                  device = device)\n",
    "\n",
    "model_ridge = model_ridge.double()\n",
    "loss_ridge_bias, pred_ridge_bias, ridges_bias, loss_blocks = train_ridge(model_ridge, \n",
    "                                                                         oblocks,\n",
    "                                                                         set_bias = True,\n",
    "                                                                         kernel_ridge = False,\n",
    "                                                                         alphas = np.logspace(-20,4, 100),\n",
    "                                                                        #  alphas = np.logspace(-6, 4, 100),\n",
    "                                                                        #  alpha = 1e-4\n",
    "                                                                        )\n",
    "print(loss_ridge_bias)"
   ]
  },
  {
   "cell_type": "code",
   "execution_count": 115,
   "id": "d931d416",
   "metadata": {},
   "outputs": [
    {
     "data": {
      "text/plain": [
       "(1e-10, 5432.72529376023)"
      ]
     },
     "execution_count": 115,
     "metadata": {},
     "output_type": "execute_result"
    },
    {
     "data": {
      "image/png": "[encoded data removed]",
      "text/plain": [
       "<Figure size 1920x480 with 2 Axes>"
      ]
     },
     "metadata": {},
     "output_type": "display_data"
    }
   ],
   "source": [
    "fig, ax, ax2 = plot_block_errors(oblocks, pred_ridge_bias, plot_loss=True)\n",
    "ax.set_ylim(1e-10,)\n",
    "ax2.set_ylim(1e-10,)"
   ]
  },
  {
   "cell_type": "markdown",
   "id": "f461c162",
   "metadata": {},
   "source": [
    "### H. - orthogonalize baseline"
   ]
  },
  {
   "cell_type": "code",
   "execution_count": 100,
   "id": "fc9afb56",
   "metadata": {},
   "outputs": [],
   "source": [
    "ortho_target_kspace_base =[]# torch.stack([lowdin_orthogonalize(h, s) for h, s in zip(ttarget_kspace, overlap_kspace)])\n",
    "for ifr in range(len(target_kspace)):\n",
    "    ot = torch.stack([lowdin_orthogonalize(h, s) for h, s in zip(target_kspace_base[ifr], overlap_kspace[ifr])])\n",
    "    ortho_target_kspace_base.append(ot)"
   ]
  },
  {
   "cell_type": "code",
   "execution_count": 101,
   "id": "fa0b6453",
   "metadata": {},
   "outputs": [],
   "source": [
    "oblocks_base = _to_coupled_basis(kmatrix_to_blocks(dataset, cutoff=cutoff, matrix = ortho_target_kspace_base),skip_symmetry = False, device = device, translations = False)\n",
    "oblocks_base = sort_hack(oblocks_base)"
   ]
  },
  {
   "cell_type": "code",
   "execution_count": 104,
   "id": "cc3213a6",
   "metadata": {},
   "outputs": [
    {
     "name": "stdout",
     "output_type": "stream",
     "text": [
      "tensor(0.6547)\n"
     ]
    }
   ],
   "source": [
    "model_ridge = LinearModelPeriodic(twocfeat = hfeat_kspace, \n",
    "                                  target_blocks = oblocks_base,\n",
    "                                  frames = dataset.structures, orbitals = dataset.basis, \n",
    "                                  device = device)\n",
    "\n",
    "model_ridge = model_ridge.double()\n",
    "loss_ridge_bias, pred_ridge_bias, ridges_bias, loss_blocks = train_ridge(model_ridge, \n",
    "                                                                         oblocks_base,\n",
    "                                                                         set_bias = True,\n",
    "                                                                         kernel_ridge = False,\n",
    "                                                                         alphas = np.logspace(-7,2, 100),\n",
    "                                                                        #  alphas = np.logspace(-6, 4, 100),\n",
    "                                                                        #  alpha = 1e-4\n",
    "                                                                        )\n",
    "print(loss_ridge_bias)"
   ]
  },
  {
   "cell_type": "markdown",
   "id": "a4a4852d-758c-4755-8d47-959cd1b0fd51",
   "metadata": {},
   "source": [
    "## Torch"
   ]
  },
  {
   "cell_type": "code",
   "execution_count": 26,
   "id": "4986bee1",
   "metadata": {},
   "outputs": [],
   "source": [
    "\n",
    "target_keynames = target_coupled_blocks.keys.names\n",
    "keys = []\n",
    "blocks= []\n",
    "for k,b in target_coupled_blocks.items(): \n",
    "    li,lj, L = k['l_i'], k['l_j'], k['L']\n",
    "    inversion_sigma = (-1) ** (li + lj + L)\n",
    "    keys.append(torch.cat((k.values, torch.tensor([inversion_sigma]))))\n",
    "    blocks.append(b.copy())\n",
    "target_coupled_blocks = TensorMap( Labels(k.names+['inversion_sigma'], torch.stack(keys)), blocks)\n",
    "                 \n",
    "target_coupled_blocks_copy = target_coupled_blocks.copy()\n",
    "target_coupled_blocks = target_coupled_blocks.keys_to_properties(['n_i', 'l_i',  'n_j','l_j'])"
   ]
  },
  {
   "cell_type": "code",
   "execution_count": 21,
   "id": "4ce1595f",
   "metadata": {},
   "outputs": [],
   "source": [
    "from mlelec.models.linear_integrated import LinearModelPeriodic"
   ]
  },
  {
   "cell_type": "code",
   "execution_count": 30,
   "id": "b49e217b",
   "metadata": {},
   "outputs": [],
   "source": [
    "model = LinearModelPeriodic(twocfeat = hfeat,\n",
    "                            target_blocks = target_coupled_blocks,\n",
    "                            frames = dataset.structures, orbitals = dataset.basis, \n",
    "                            device = device,\n",
    "                            bias = False, #True\n",
    "                            nhidden = 32, \n",
    "                            nlayers = 1,\n",
    "                            # activation = 'SiLU',\n",
    "                            # apply_norm = True\n",
    "                           )"
   ]
  },
  {
   "cell_type": "code",
   "execution_count": 32,
   "id": "c993a475",
   "metadata": {},
   "outputs": [
    {
     "ename": "KeyError",
     "evalue": "tensor([-1,  6,  6,  0,  1], dtype=torch.int32)",
     "output_type": "error",
     "traceback": [
      "\u001b[0;31m---------------------------------------------------------------------------\u001b[0m",
      "\u001b[0;31mKeyError\u001b[0m                                  Traceback (most recent call last)",
      "Cell \u001b[0;32mIn[32], line 1\u001b[0m\n\u001b[0;32m----> 1\u001b[0m \u001b[43mmodel\u001b[49m\u001b[43m(\u001b[49m\u001b[43m)\u001b[49m\n",
      "File \u001b[0;32m~/miniconda3/lib/python3.12/site-packages/torch/nn/modules/module.py:1532\u001b[0m, in \u001b[0;36mModule._wrapped_call_impl\u001b[0;34m(self, *args, **kwargs)\u001b[0m\n\u001b[1;32m   1530\u001b[0m     \u001b[38;5;28;01mreturn\u001b[39;00m \u001b[38;5;28mself\u001b[39m\u001b[38;5;241m.\u001b[39m_compiled_call_impl(\u001b[38;5;241m*\u001b[39margs, \u001b[38;5;241m*\u001b[39m\u001b[38;5;241m*\u001b[39mkwargs)  \u001b[38;5;66;03m# type: ignore[misc]\u001b[39;00m\n\u001b[1;32m   1531\u001b[0m \u001b[38;5;28;01melse\u001b[39;00m:\n\u001b[0;32m-> 1532\u001b[0m     \u001b[38;5;28;01mreturn\u001b[39;00m \u001b[38;5;28;43mself\u001b[39;49m\u001b[38;5;241;43m.\u001b[39;49m\u001b[43m_call_impl\u001b[49m\u001b[43m(\u001b[49m\u001b[38;5;241;43m*\u001b[39;49m\u001b[43margs\u001b[49m\u001b[43m,\u001b[49m\u001b[43m \u001b[49m\u001b[38;5;241;43m*\u001b[39;49m\u001b[38;5;241;43m*\u001b[39;49m\u001b[43mkwargs\u001b[49m\u001b[43m)\u001b[49m\n",
      "File \u001b[0;32m~/miniconda3/lib/python3.12/site-packages/torch/nn/modules/module.py:1541\u001b[0m, in \u001b[0;36mModule._call_impl\u001b[0;34m(self, *args, **kwargs)\u001b[0m\n\u001b[1;32m   1536\u001b[0m \u001b[38;5;66;03m# If we don't have any hooks, we want to skip the rest of the logic in\u001b[39;00m\n\u001b[1;32m   1537\u001b[0m \u001b[38;5;66;03m# this function, and just call forward.\u001b[39;00m\n\u001b[1;32m   1538\u001b[0m \u001b[38;5;28;01mif\u001b[39;00m \u001b[38;5;129;01mnot\u001b[39;00m (\u001b[38;5;28mself\u001b[39m\u001b[38;5;241m.\u001b[39m_backward_hooks \u001b[38;5;129;01mor\u001b[39;00m \u001b[38;5;28mself\u001b[39m\u001b[38;5;241m.\u001b[39m_backward_pre_hooks \u001b[38;5;129;01mor\u001b[39;00m \u001b[38;5;28mself\u001b[39m\u001b[38;5;241m.\u001b[39m_forward_hooks \u001b[38;5;129;01mor\u001b[39;00m \u001b[38;5;28mself\u001b[39m\u001b[38;5;241m.\u001b[39m_forward_pre_hooks\n\u001b[1;32m   1539\u001b[0m         \u001b[38;5;129;01mor\u001b[39;00m _global_backward_pre_hooks \u001b[38;5;129;01mor\u001b[39;00m _global_backward_hooks\n\u001b[1;32m   1540\u001b[0m         \u001b[38;5;129;01mor\u001b[39;00m _global_forward_hooks \u001b[38;5;129;01mor\u001b[39;00m _global_forward_pre_hooks):\n\u001b[0;32m-> 1541\u001b[0m     \u001b[38;5;28;01mreturn\u001b[39;00m \u001b[43mforward_call\u001b[49m\u001b[43m(\u001b[49m\u001b[38;5;241;43m*\u001b[39;49m\u001b[43margs\u001b[49m\u001b[43m,\u001b[49m\u001b[43m \u001b[49m\u001b[38;5;241;43m*\u001b[39;49m\u001b[38;5;241;43m*\u001b[39;49m\u001b[43mkwargs\u001b[49m\u001b[43m)\u001b[49m\n\u001b[1;32m   1543\u001b[0m \u001b[38;5;28;01mtry\u001b[39;00m:\n\u001b[1;32m   1544\u001b[0m     result \u001b[38;5;241m=\u001b[39m \u001b[38;5;28;01mNone\u001b[39;00m\n",
      "File \u001b[0;32m~/scratch/mlelec/src/mlelec/models/linear_integrated.py:533\u001b[0m, in \u001b[0;36mLinearModelPeriodic.forward\u001b[0;34m(self, return_matrix)\u001b[0m\n\u001b[1;32m    524\u001b[0m     \u001b[38;5;66;03m# nsamples, ncomp, nprops = block.values.shape\u001b[39;00m\n\u001b[1;32m    525\u001b[0m     \u001b[38;5;66;03m# nsamples, ncomp, nprops = feat.values.shape\u001b[39;00m\n\u001b[1;32m    526\u001b[0m     pred \u001b[38;5;241m=\u001b[39m \u001b[38;5;28mself\u001b[39m\u001b[38;5;241m.\u001b[39mblockmodels[\u001b[38;5;28mstr\u001b[39m(\u001b[38;5;28mtuple\u001b[39m(k))](feat\u001b[38;5;241m.\u001b[39mvalues)\n\u001b[1;32m    528\u001b[0m     pred_blocks\u001b[38;5;241m.\u001b[39mappend(\n\u001b[1;32m    529\u001b[0m         TensorBlock(\n\u001b[1;32m    530\u001b[0m             values\u001b[38;5;241m=\u001b[39mpred,\u001b[38;5;66;03m#.reshape((nsamples, ncomp, 1)),\u001b[39;00m\n\u001b[1;32m    531\u001b[0m             samples\u001b[38;5;241m=\u001b[39mfeat\u001b[38;5;241m.\u001b[39msamples,\n\u001b[1;32m    532\u001b[0m             components\u001b[38;5;241m=\u001b[39m block\u001b[38;5;241m.\u001b[39mcomponents,\n\u001b[0;32m--> 533\u001b[0m             properties\u001b[38;5;241m=\u001b[39m\u001b[38;5;28;43mself\u001b[39;49m\u001b[38;5;241;43m.\u001b[39;49m\u001b[43mblock_properties\u001b[49m\u001b[43m[\u001b[49m\u001b[43mk\u001b[49m\u001b[38;5;241;43m.\u001b[39;49m\u001b[43mvalues\u001b[49m\u001b[43m]\u001b[49m\u001b[38;5;66;03m#self.dummy_property,\u001b[39;00m\n\u001b[1;32m    534\u001b[0m         )\n\u001b[1;32m    535\u001b[0m     )\n\u001b[1;32m    536\u001b[0m \u001b[38;5;28;01melse\u001b[39;00m:\n\u001b[1;32m    537\u001b[0m     pred_blocks\u001b[38;5;241m.\u001b[39mappend(block\u001b[38;5;241m.\u001b[39mcopy())\n",
      "\u001b[0;31mKeyError\u001b[0m: tensor([-1,  6,  6,  0,  1], dtype=torch.int32)"
     ]
    }
   ],
   "source": [
    "model()"
   ]
  },
  {
   "cell_type": "markdown",
   "id": "4641e05f",
   "metadata": {},
   "source": [
    "### Batching"
   ]
  },
  {
   "cell_type": "code",
   "execution_count": 58,
   "id": "6e890ddb-0fa1-4aaa-a746-4d592b216432",
   "metadata": {},
   "outputs": [],
   "source": [
    "split_by_axis = \"samples\"\n",
    "split_by_dimension = \"structure\"\n",
    "\n",
    "split_by_axis = \"samples\"\n",
    "split_by_dimension = \"structure\"\n",
    "\n",
    "grouped_labels = [mts.Labels(names = split_by_dimension, values = torch.tensor([A])) for A in mts.unique_metadata(target_coupled_blocks,\n",
    "                                                                                                                  axis = split_by_axis,\n",
    "                                                                                                                  names = split_by_dimension)]\n",
    "split_target = mts.split(target_coupled_blocks, split_by_axis, grouped_labels)\n",
    "\n",
    "grouped_labels = [mts.Labels(names = split_by_dimension, values = torch.tensor([A])) for A in mts.unique_metadata(overlap_coupled_blocks,\n",
    "                                                                                                                  axis = split_by_axis,\n",
    "                                                                                                                  names = split_by_dimension)]\n",
    "#split_overlaps = mts.split(overlap_coupled_blocks, split_by_axis, grouped_labels)\n",
    "\n",
    "grouped_labels = [mts.Labels(names = split_by_dimension, values = torch.tensor([A])) for A in mts.unique_metadata(hfeat, axis = split_by_axis,\n",
    "                                                                                                                  names = split_by_dimension)]\n",
    "split_features = mts.split(hfeat, split_by_axis, grouped_labels)\n",
    "\n",
    "ml_data = IndexedDataset(descriptor = split_features,\n",
    "                         target = split_target,\n",
    "                         target_k = target_kspace,\n",
    "                         sample_id = [g.values.tolist()[0][0] for g in grouped_labels])\n",
    "\n",
    "batch_size = 1\n",
    "\n",
    "from metatensor.learn import DataLoader\n",
    "dataloader = DataLoader(ml_data,\n",
    "                        batch_size = batch_size,\n",
    "                        shuffle = True,\n",
    "                        collate_fn = lambda x: group_and_join_mts(x, join_kwargs = {'different_keys': 'union', 'remove_tensor_name': True}))\n"
   ]
  },
  {
   "cell_type": "code",
   "execution_count": null,
   "id": "9c22b6c8-6702-455f-a472-af5565ca1022",
   "metadata": {},
   "outputs": [],
   "source": []
  },
  {
   "cell_type": "markdown",
   "id": "797e7c7f-b498-4985-8cdc-f2de7817a26a",
   "metadata": {},
   "source": [
    "# Splitting dataset random seed on jed "
   ]
  },
  {
   "cell_type": "code",
   "execution_count": null,
   "id": "5e91f8c3",
   "metadata": {},
   "outputs": [],
   "source": [
    "f=[]\n",
    "for i in range(7):\n",
    "    f.append(mts.load(f'features_{i*20}_{(i+1)*20}'))\n",
    "f.append(mts.load('../test/features_140_172'))\n",
    "np.random.seed(73)\n",
    "indices = np.arange(172)\n",
    "np.random.shuffle(indices)\n",
    "np.savetxt('random_indices.txt', indices, header = 'seed = 73', fmt = '%d')\n",
    "batched = {}\n",
    "for i in range(0,7):\n",
    "    selid = indices[i*20:20*(i+1)]\n",
    "    batched[i]=[]\n",
    "    for iid in selid:\n",
    "        # batched[i].append(iid)\n",
    "        batched[i].append(split_features[iid])\n",
    "batched[8]=[]\n",
    "selid = indices[140:]\n",
    "for iid in selid:\n",
    "    # batched[i].append(iid)\n",
    "    batched[i].append(split_features[iid])\n",
    "\n",
    "\n",
    "for i in batched.keys(): \n",
    "    features = mts.join(batched[i], axis='samples')\n",
    "    blocks = []\n",
    "    for k, b in features.items():\n",
    "            sample_values = b.samples.values\n",
    "            sample_values[:, 0] = sample_values[:, 6]\n",
    "            samples = mts.Labels(b.samples.names[:-1], sample_values[:, :-1])\n",
    "            blocks.append(mts.TensorBlock(\n",
    "            values = b.values,\n",
    "            samples = samples,\n",
    "            properties = b.properties,\n",
    "            components = b.components\n",
    "            ))\n",
    "    features = mts.TensorMap(features.keys, blocks)\n",
    "    features.save(f'features_{i*20}_{(i+1)*20}_seed73')"
   ]
  }
 ],
 "metadata": {
  "kernelspec": {
   "display_name": "Python 3 (ipykernel)",
   "language": "python",
   "name": "python3"
  },
  "language_info": {
   "codemirror_mode": {
    "name": "ipython",
    "version": 3
   },
   "file_extension": ".py",
   "mimetype": "text/x-python",
   "name": "python",
   "nbconvert_exporter": "python",
   "pygments_lexer": "ipython3",
   "version": "3.12.3"
  }
 },
 "nbformat": 4,
 "nbformat_minor": 5
}
