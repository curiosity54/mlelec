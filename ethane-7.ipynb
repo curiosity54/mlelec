{
 "cells": [
  {
   "cell_type": "code",
   "execution_count": 1,
   "id": "5372d494",
   "metadata": {},
   "outputs": [],
   "source": [
    "%load_ext autoreload\n",
    "%autoreload 2"
   ]
  },
  {
   "cell_type": "code",
   "execution_count": 2,
   "id": "9ffeb27f",
   "metadata": {},
   "outputs": [],
   "source": [
    "import torch \n",
    "import numpy as np\n",
    "import ase \n",
    "from ase.io import read\n",
    "import json  \n",
    "from ase.units import Hartree"
   ]
  },
  {
   "cell_type": "code",
   "execution_count": 3,
   "id": "361c1865-da3d-42a8-b631-ca73cba03f6f",
   "metadata": {},
   "outputs": [],
   "source": [
    "torch.set_default_dtype(torch.float64) # set default dtype of torch to avoid numerical errors "
   ]
  },
  {
   "cell_type": "markdown",
   "id": "d2677c4e",
   "metadata": {},
   "source": [
    "# Instantiate the Molecule Dataset "
   ]
  },
  {
   "cell_type": "code",
   "execution_count": 4,
   "id": "3fa73f75",
   "metadata": {},
   "outputs": [],
   "source": [
    "device = \"cpu\""
   ]
  },
  {
   "cell_type": "code",
   "execution_count": 5,
   "id": "a3dd8724",
   "metadata": {},
   "outputs": [],
   "source": [
    "from mlelec.data.dataset import MoleculeDataset"
   ]
  },
  {
   "cell_type": "code",
   "execution_count": 6,
   "id": "18b9ad2c",
   "metadata": {},
   "outputs": [
    {
     "name": "stdout",
     "output_type": "stream",
     "text": [
      "Loading structures\n",
      "examples/data/ethane/sto-3g/fock.hickle\n",
      "examples/data/ethane/sto-3g/dipole_moment.hickle\n"
     ]
    }
   ],
   "source": [
    "molecule_data = MoleculeDataset(\n",
    "    mol_name = \"ethane\",\n",
    "    use_precomputed=True,\n",
    "    path= \"examples/data/ethane\",\n",
    "    aux_path=\"examples/data/ethane/sto-3g\",\n",
    "    frame_slice=slice(0, 200),\n",
    "    device=device,\n",
    "    aux=[\"overlap\", \"orbitals\"],\n",
    "    target=[\"fock\", \"dipole_moment\"],\n",
    ")\n"
   ]
  },
  {
   "cell_type": "code",
   "execution_count": 7,
   "id": "f29dee6c-dedf-48a4-a869-5a35afccab14",
   "metadata": {},
   "outputs": [
    {
     "name": "stdout",
     "output_type": "stream",
     "text": [
      "Using PyTorch backend.\n"
     ]
    }
   ],
   "source": [
    "from src.mlelec.utils.learning_utils import compute_batch_dipole_moment, compute_dipole_moment_from_mf, instantiate_mf, compute_dipole_moment"
   ]
  },
  {
   "cell_type": "markdown",
   "id": "38f2ccbf",
   "metadata": {},
   "source": [
    "### Create the ML dataset from the molecular data "
   ]
  },
  {
   "cell_type": "code",
   "execution_count": 8,
   "id": "36d796a0",
   "metadata": {},
   "outputs": [],
   "source": [
    "from mlelec.data.dataset import MLDataset"
   ]
  },
  {
   "cell_type": "code",
   "execution_count": 9,
   "id": "8a726f5b-64a0-412c-b973-72270a98ed0f",
   "metadata": {},
   "outputs": [],
   "source": [
    "ml_data = MLDataset(\n",
    "    molecule_data=molecule_data,\n",
    "    device=device,\n",
    "    model_strategy=\"coupled\",\n",
    "    shuffle=True, \n",
    "    shuffle_seed=5380,\n",
    ")  "
   ]
  },
  {
   "cell_type": "code",
   "execution_count": 10,
   "id": "1761c455-071d-4e1c-8ddf-e51c33bb717a",
   "metadata": {},
   "outputs": [],
   "source": [
    "ml_data._split_indices(train_frac=0.7, val_frac=0.2, test_frac=0.1)"
   ]
  },
  {
   "cell_type": "code",
   "execution_count": 11,
   "id": "bafffdfc-b489-487c-818b-5a6808915b58",
   "metadata": {},
   "outputs": [],
   "source": [
    "all_mfs, fockvars = instantiate_mf(\n",
    "        ml_data,\n",
    "        fock_predictions = molecule_data.target['fock'],\n",
    "        batch_indices = list(range(len(ml_data.structures))),\n",
    "    )\n"
   ]
  },
  {
   "cell_type": "code",
   "execution_count": 12,
   "id": "e8d8bbb5",
   "metadata": {},
   "outputs": [],
   "source": [
    "from mlelec.features.acdc import compute_features_for_target\n",
    "from mlelec.data.dataset import get_dataloader"
   ]
  },
  {
   "cell_type": "code",
   "execution_count": 13,
   "id": "8c053f82-3b5e-4537-ab98-a819c3bbbc56",
   "metadata": {},
   "outputs": [],
   "source": [
    "hypers = {\n",
    "            \"cutoff\": 5.0,\n",
    "            \"max_radial\" : 6,\n",
    "            \"max_angular\": 4,\n",
    "            \"atomic_gaussian_width\": 0.3,\n",
    "            \"center_atom_weight\": 1,\n",
    "            \"radial_basis\": {\"Gto\": {}},\n",
    "            \"cutoff_function\": {\"ShiftedCosine\": {\"width\": 0.1}},\n",
    "        }\n",
    "\n",
    "ml_data._set_features(compute_features_for_target(ml_data, device = device, hypers = hypers))"
   ]
  },
  {
   "cell_type": "code",
   "execution_count": 14,
   "id": "dc0f3bda-6185-4ca5-893c-2f527d71d4a2",
   "metadata": {},
   "outputs": [],
   "source": [
    "train_dl, val_dl, test_dl = get_dataloader(ml_data, model_return=\"tensor\", batch_size=10)"
   ]
  },
  {
   "cell_type": "markdown",
   "id": "fe2e6f60",
   "metadata": {},
   "source": [
    "# RidgeCV Model"
   ]
  },
  {
   "cell_type": "code",
   "execution_count": 15,
   "id": "c89857ba",
   "metadata": {},
   "outputs": [],
   "source": [
    "from src.mlelec.models.linear import LinearTargetModel"
   ]
  },
  {
   "cell_type": "markdown",
   "id": "f00c21b6-4c95-4902-b0f7-4d99ce8006f5",
   "metadata": {},
   "source": [
    "### Fitting a RidgeCV model"
   ]
  },
  {
   "cell_type": "code",
   "execution_count": 16,
   "id": "57243f3c",
   "metadata": {},
   "outputs": [],
   "source": [
    "model = LinearTargetModel(dataset = ml_data, nlayers = 1, nhidden = 16, bias = False, device = device)"
   ]
  },
  {
   "cell_type": "code",
   "execution_count": 17,
   "id": "d9a235c3-3faa-44bc-9887-b2444bf4359c",
   "metadata": {},
   "outputs": [],
   "source": [
    "pred_ridges, ridges = model.fit_ridge_analytical(alpha = np.logspace(-8, -1, 12), cv=3, set_bias=False)"
   ]
  },
  {
   "cell_type": "markdown",
   "id": "2336fb9e-fa91-4fc7-ab3d-b9cafa1fbd82",
   "metadata": {},
   "source": [
    "### Calculating train and test errors for MO energies and dipoles"
   ]
  },
  {
   "cell_type": "code",
   "execution_count": 18,
   "id": "228d6515",
   "metadata": {},
   "outputs": [],
   "source": [
    "from mlelec.utils.twocenter_utils import _to_uncoupled_basis, _to_matrix, unfix_orbital_order\n",
    "    \n",
    "uncoupled = _to_uncoupled_basis(pred_ridges,  device=model.device) # Convert the coupled blocks to uncoupled\n",
    "\n",
    "# Recover the predicted matrices for the training set \n",
    "fock_predictions_train = _to_matrix(\n",
    "    uncoupled,\n",
    "    ml_data.train_frames,\n",
    "    ml_data.aux_data['orbitals'],\n",
    "    device=model.device,\n",
    ")"
   ]
  },
  {
   "cell_type": "code",
   "execution_count": 19,
   "id": "4fa98317",
   "metadata": {},
   "outputs": [],
   "source": [
    "from typing import Optional, List, Union, Tuple, Dict\n",
    "\n",
    "def isqrtm(A: torch.Tensor) -> torch.Tensor:\n",
    "    eva, eve = torch.linalg.eigh(A)\n",
    "    idx = eva > 1e-15\n",
    "    return eve[:, idx] @ torch.diag(eva[idx] ** (-0.5)) @ eve[:, idx].T\n",
    "\n",
    "def isqrtp(A: torch.Tensor) -> torch.Tensor:\n",
    "    eva, eve = torch.linalg.eigh(A)\n",
    "    idx = eva > 1e-15\n",
    "    return eve[:, idx] @ torch.diag(eva[idx] ** (0.5)) @ eve[:, idx].T\n",
    "\n",
    "\n",
    "def _lowdin_orthogonalize(\n",
    "    fock: torch.Tensor, ovlp: torch.Tensor\n",
    ") -> Tuple[torch.Tensor, torch.Tensor]:\n",
    "    ovlp_i12 = isqrtm(ovlp)\n",
    "    return torch.einsum(\"ij,jk,kl->il\", ovlp_i12, fock, ovlp_i12)"
   ]
  },
  {
   "cell_type": "code",
   "execution_count": 20,
   "id": "a6a0b581",
   "metadata": {},
   "outputs": [],
   "source": [
    "# from mlelec.utils.twocenter_utils import _lowdin_orthogonalize\n",
    "\n",
    "def compute_eigvals(ml_data, focks, indices):\n",
    "    batch_frames = [ml_data.structures[i] for i in indices]\n",
    "    batch_fock = unfix_orbital_order(\n",
    "        focks, batch_frames, ml_data.molecule_data.aux_data[\"orbitals\"]\n",
    "    )\n",
    "    batch_overlap = ml_data.molecule_data.aux_data[\"overlap\"][indices]\n",
    "    ortho_focks = [_lowdin_orthogonalize(f, o) for f, o in zip(batch_fock, batch_overlap)]\n",
    "    eva = []\n",
    "    for i in range(len(focks)):\n",
    "        eva.append(torch.linalg.eigvalsh(ortho_focks[i]))\n",
    "    return torch.stack(eva)"
   ]
  },
  {
   "cell_type": "code",
   "execution_count": 21,
   "id": "9f894acf-b9b0-497f-9304-3d8b2a84452e",
   "metadata": {},
   "outputs": [],
   "source": [
    "H = ml_data.molecule_data.target[\"fock\"][0]\n",
    "S = ml_data.molecule_data.aux_data[\"overlap\"][0]"
   ]
  },
  {
   "cell_type": "code",
   "execution_count": 22,
   "id": "380e05a4-aa96-4dee-acbb-d9e8cf5c0b3b",
   "metadata": {},
   "outputs": [],
   "source": [
    "from xitorch.linalg import symeig\n",
    "import xitorch\n",
    "Hx = xitorch.LinearOperator.m(H)\n",
    "Sx = xitorch.LinearOperator.m(S)\n",
    "eval, mo_coeff = symeig(Hx, M = Sx)"
   ]
  },
  {
   "cell_type": "code",
   "execution_count": 23,
   "id": "b507f0da-dc76-48a2-bc6d-ab4b1856cb1a",
   "metadata": {},
   "outputs": [],
   "source": [
    "from scipy.linalg import sqrtm"
   ]
  },
  {
   "cell_type": "code",
   "execution_count": 24,
   "id": "44ae5b83-9a76-446f-a468-ecbcb61f6296",
   "metadata": {},
   "outputs": [],
   "source": [
    "def compute_mulliken(ml_data, focks, indices):\n",
    "    # We access the basis written as a dictionary from ml_data\n",
    "    basis = ml_data.molecule_data.aux_data['orbitals']\n",
    "    # We access the ase frames for each structure in the batch\n",
    "    batch_frames = [ml_data.structures[i] for i in indices]\n",
    "    # We access the Fock matrices for each structure in the batch\n",
    "    batch_fock = unfix_orbital_order(\n",
    "        focks, batch_frames, ml_data.molecule_data.aux_data[\"orbitals\"]\n",
    "    )\n",
    "    # We access the overlap matrices for each structure in the batch\n",
    "    batch_overlap = ml_data.molecule_data.aux_data[\"overlap\"][indices] \n",
    "    \n",
    "    #ortho_focks = [_lowdin_orthogonalize(f, o) for f, o in zip(batch_fock, batch_overlap)]\n",
    "    # S_sqrt = []\n",
    "    eva = []\n",
    "    rho_list = []\n",
    "    pop = []\n",
    "    density_matrices = []\n",
    "    for a in range(len(focks)):\n",
    "        \n",
    "        Hx = xitorch.LinearOperator.m(batch_fock[a])\n",
    "        Sx = xitorch.LinearOperator.m(batch_overlap[a])\n",
    "        eval, mo_coeff = symeig(Hx, M = Sx)\n",
    "        #eval, mo_coeff = torch.linalg.eigh(ortho_focks[a])\n",
    "        \n",
    "        eva.append(eval)\n",
    "        frame = batch_frames[a]\n",
    "        S_sqrt = isqrtp(batch_overlap[a])\n",
    "        # Define the single particle density matrix\n",
    "        half_nelec = frame.numbers.sum() // 2\n",
    "        mo_occ = torch.zeros(mo_coeff.shape[1])\n",
    "        mo_occ[:half_nelec] = 2\n",
    "        mocc = mo_coeff[:,mo_occ>0]\n",
    "        dm = (mocc*mo_occ[mo_occ>0]) @ (mocc.conj().T)\n",
    "        \n",
    "        natm = len(frame)\n",
    "        # rho = torch.zeros((len(indices), natm, natm))\n",
    "        # for i in range(len(indices)):\n",
    "        rho = S_sqrt @ dm @ S_sqrt\n",
    "        rho_list.append(rho)\n",
    "        density_matrices.append(dm)\n",
    "        P = []\n",
    "        d = torch.zeros((natm, natm))\n",
    "        for i in range(natm):\n",
    "            i_start = int(np.sum([len(basis[s]) for s in frame.numbers[0:i]]))\n",
    "            i_end = i_start + len(basis[frame.numbers[i]])\n",
    "            for j in range(natm):\n",
    "                j_start = int(np.sum([len(basis[s]) for s in frame.numbers[0:j]]))\n",
    "                j_end = j_start + len(basis[frame.numbers[j]])\n",
    "                d[i, j] = torch.sum(dm[i_start:i_end, j_start:j_end])\n",
    "            #x = rho[i_start:i_end, i_start:i_end]\n",
    "            #P_uu = torch.trace(x)\n",
    "            #P.append(P_uu)\n",
    "        #pop.append(P)\n",
    "        P.append(d)\n",
    "                # rho[i,j] = torch.sum(S_sqrt[a] @ dm[i_start:i_end, j_start:j_end] @ S_sqrt[a])\n",
    "        \n",
    "    return torch.stack(eva), torch.stack(rho_list), torch.stack(P), torch.stack(density_matrices)"
   ]
  },
  {
   "cell_type": "code",
   "execution_count": 25,
   "id": "70093bd4-7aee-4e1d-8b90-350984290b38",
   "metadata": {},
   "outputs": [],
   "source": [
    "# f = ml_data.molecule_data.target['fock'][0]\n",
    "# s = ml_data.aux_data['overlap'][0]\n",
    "# orbs = ml_data.aux_data['orbitals']\n",
    "# frame = ml_data.structures[0]"
   ]
  },
  {
   "cell_type": "code",
   "execution_count": 26,
   "id": "5eab4e80-9cf1-485d-9eef-bb908b0de4c1",
   "metadata": {},
   "outputs": [],
   "source": [
    "# Hx = xitorch.LinearOperator.m(f)\n",
    "# Sx = xitorch.LinearOperator.m(s)\n",
    "# eval, mo_coeff = symeig(Hx, M = Sx)\n",
    "# #eval, mo_coeff = torch.linalg.eigh(ortho_focks[a])\n",
    "\n",
    "# # Define the single particle density matrix\n",
    "# half_nelec = frame.numbers.sum() // 2\n",
    "# mo_occ = torch.zeros(mo_coeff.shape[1])\n",
    "# mo_occ[:half_nelec] = 2\n",
    "# mocc = mo_coeff[:,mo_occ>0]\n",
    "# dm = (mocc*mo_occ[mo_occ>0]) @ (mocc.conj().T)\n",
    "# rho = isqrtp(s) @ dm @ isqrtp(s)\n",
    "\n",
    "# P = []\n",
    "# for i in range(8):\n",
    "#     i_start = int(np.sum([len(orbs[s]) for s in frame.numbers[0:i]]))\n",
    "#     i_end = i_start + len(orbs[frame.numbers[i]])\n",
    "#     x = rho[i_start:i_end, i_start:i_end]\n",
    "#     P_uu = torch.trace(x)\n",
    "#     P.append(P_uu)"
   ]
  },
  {
   "cell_type": "code",
   "execution_count": 27,
   "id": "f6065bb8-b231-4890-8ae9-facab618a9c0",
   "metadata": {},
   "outputs": [],
   "source": [
    "# fock_tilde = _lowdin_orthogonalize(f, s)\n",
    "# eps, c_tilde = torch.linalg.eigh(fock_tilde)\n",
    "\n",
    "# nmo = f.shape[-1]\n",
    "# n_elec = frame.numbers.sum()\n",
    "\n",
    "# mo_occ = _get_mo_occ(nmo, n_elec)\n",
    "# occidx = _get_occidx(mo_occ)\n",
    "# dm = 2*c_tilde[:, occidx] @ c_tilde[:, occidx].conj().T\n",
    "\n",
    "# pop = 2 * torch.einsum(\"ia,ia->i\", c_tilde[:, occidx], c_tilde[:, occidx].conj())"
   ]
  },
  {
   "cell_type": "code",
   "execution_count": 25,
   "id": "0f2eba91-bbf2-4d88-b2f7-af6610d61f7e",
   "metadata": {},
   "outputs": [],
   "source": [
    "def lowdin(frames, dm):\n",
    "    charges = []\n",
    "    for i, f in enumerate(frames):\n",
    "        z = f.get_atomic_numbers()\n",
    "        chg = z - dm[i]\n",
    "        charges.append(chg)\n",
    "    return np.array(charges)"
   ]
  },
  {
   "cell_type": "code",
   "execution_count": 29,
   "id": "f3c12627-2d28-4524-bbd3-f2feb0b010cf",
   "metadata": {},
   "outputs": [],
   "source": [
    "# P , [sum([1.9853, 1.0098, 1.0094, 1.0331, 1.0431]), sum([1.9852, 1.0145, 1.0048, 1.0325, 1.0353]), 0.9740, 0.9727, 0.9717, 0.9751, 0.9759, 0.9776]"
   ]
  },
  {
   "cell_type": "code",
   "execution_count": 30,
   "id": "47b04876-3584-446d-a135-9b02875130c8",
   "metadata": {},
   "outputs": [],
   "source": [
    "# lowdin_population(ml_data.molecule_data.target['fock'][0], ml_data.aux_data['overlap'][0], {'C':6, 'H':1}, ml_data.aux_data['orbitals'])\n"
   ]
  },
  {
   "cell_type": "code",
   "execution_count": 26,
   "id": "fa3c6bc6-31f4-42ae-be34-bd70203cec52",
   "metadata": {},
   "outputs": [],
   "source": [
    "pred_eva, ortho_pred_dm, pred_P, pred_dm= compute_mulliken(ml_data, fock_predictions_train, ml_data.train_idx)\n",
    "eva, ortho_dm, P, dm = compute_mulliken(ml_data, ml_data.target.tensor[ml_data.train_idx], ml_data.train_idx)"
   ]
  },
  {
   "cell_type": "code",
   "execution_count": 27,
   "id": "15cdf05b",
   "metadata": {},
   "outputs": [
    {
     "name": "stdout",
     "output_type": "stream",
     "text": [
      "Train RMSE for MO_energies in eV:  tensor(0.0208)\n",
      "Train RMSE for Mulliken in eV:  tensor(0.0018)\n"
     ]
    }
   ],
   "source": [
    "import mlelec.metrics as mlmetrics\n",
    "\n",
    "loss_fn = getattr(mlmetrics, \"L2_loss\")\n",
    "print(\"Train RMSE for MO_energies in eV: \", torch.sqrt(loss_fn(pred_eva, eva) / len(ml_data.train_idx) /16) *Hartree)\n",
    "print(\"Train RMSE for Mulliken in eV: \", torch.sqrt(loss_fn(pred_P, P) / len(ml_data.train_idx) /16) *Hartree)"
   ]
  },
  {
   "cell_type": "code",
   "execution_count": 29,
   "id": "ffca79a9-8366-46d7-81df-40e04614f951",
   "metadata": {},
   "outputs": [
    {
     "data": {
      "text/plain": [
       "(tensor(0.0013), tensor(9.2786e-06))"
      ]
     },
     "execution_count": 29,
     "metadata": {},
     "output_type": "execute_result"
    }
   ],
   "source": [
    "loss_fn(pred_eva, eva), loss_fn(pred_P, P)"
   ]
  },
  {
   "cell_type": "code",
   "execution_count": 30,
   "id": "092b3955-38a7-4b64-bb07-1d4c6940e748",
   "metadata": {},
   "outputs": [],
   "source": [
    "# test_pred_ridges = model.predict_ridge_analytical(ml_data.target_test, ml_data.feat_test)\n",
    "fock_predictions_test = model.forward(ml_data.feat_test, return_type=\"tensor\", batch_indices=ml_data.test_idx, ridge_fit=True)"
   ]
  },
  {
   "cell_type": "code",
   "execution_count": 35,
   "id": "04f6f002-3555-463f-a989-908c7a9029f9",
   "metadata": {},
   "outputs": [],
   "source": [
    "# uncoupled_test = _to_uncoupled_basis(test_pred_ridges,  device=model.device) # Convert the coupled blocks to uncoupled\n",
    "\n",
    "# # Recover the predicted matrices for the training set \n",
    "# fock_predictions_test = _to_matrix(\n",
    "#     uncoupled_test,\n",
    "#     ml_data.test_frames,\n",
    "#     ml_data.aux_data['orbitals'],\n",
    "#     device=model.device,\n",
    "# )"
   ]
  },
  {
   "cell_type": "code",
   "execution_count": 31,
   "id": "3a6621e3-7010-4502-8f41-ef6a95d7c5c2",
   "metadata": {},
   "outputs": [],
   "source": [
    "test_pred_eva, test_ortho_pred_dm, test_pred_P, test_pred_dm= compute_mulliken(ml_data, fock_predictions_test, ml_data.test_idx)\n",
    "test_eva, test_ortho_dm, test_P, test_dm = compute_mulliken(ml_data, ml_data.target.tensor[ml_data.test_idx], ml_data.test_idx)"
   ]
  },
  {
   "cell_type": "code",
   "execution_count": 32,
   "id": "0ae9611f-1ae0-4279-bf4c-2622e7f10c46",
   "metadata": {},
   "outputs": [
    {
     "name": "stdout",
     "output_type": "stream",
     "text": [
      "Test RMSE for MO_energies in eV:  tensor(0.0239, grad_fn=<MulBackward0>)\n",
      "Test RMSE for Mulliken in eV:  tensor(0.0065, grad_fn=<MulBackward0>)\n"
     ]
    }
   ],
   "source": [
    "print(\"Test RMSE for MO_energies in eV: \", torch.sqrt(loss_fn(test_pred_eva, test_eva) / len(ml_data.test_idx) /16) *Hartree)\n",
    "print(\"Test RMSE for Mulliken in eV: \", torch.sqrt(loss_fn(test_pred_P, test_P) / len(ml_data.test_idx) /16) *Hartree)"
   ]
  },
  {
   "cell_type": "code",
   "execution_count": 33,
   "id": "3ba8cf44-ca65-43ea-b70c-a7ba2c5c04e7",
   "metadata": {},
   "outputs": [],
   "source": [
    "import matplotlib.pyplot as plt"
   ]
  },
  {
   "cell_type": "code",
   "execution_count": 35,
   "id": "96670175-7820-4c37-ab30-503658218293",
   "metadata": {},
   "outputs": [
    {
     "ename": "KeyError",
     "evalue": "0",
     "output_type": "error",
     "traceback": [
      "\u001b[0;31m---------------------------------------------------------------------------\u001b[0m",
      "\u001b[0;31mKeyError\u001b[0m                                  Traceback (most recent call last)",
      "Cell \u001b[0;32mIn[35], line 1\u001b[0m\n\u001b[0;32m----> 1\u001b[0m pred_test \u001b[38;5;241m=\u001b[39m model\u001b[38;5;241m.\u001b[39mpredict_ridge_analytical(ml_data\u001b[38;5;241m.\u001b[39mtarget_test, ml_data\u001b[38;5;241m.\u001b[39mfeat_test)\n",
      "File \u001b[0;32m~/mlelec/src/mlelec/models/linear.py:440\u001b[0m, in \u001b[0;36mLinearTargetModel.predict_ridge_analytical\u001b[0;34m(self, test_target, test_features, return_matrix)\u001b[0m\n\u001b[1;32m    429\u001b[0m     feat \u001b[38;5;241m=\u001b[39m map_targetkeys_to_featkeys(test_features, tkey)\n\u001b[1;32m    430\u001b[0m     x \u001b[38;5;241m=\u001b[39m (\n\u001b[1;32m    431\u001b[0m         (\n\u001b[1;32m    432\u001b[0m             feat\u001b[38;5;241m.\u001b[39mvalues\u001b[38;5;241m.\u001b[39mreshape(\n\u001b[0;32m   (...)\u001b[0m\n\u001b[1;32m    438\u001b[0m         \u001b[38;5;241m.\u001b[39mnumpy()\n\u001b[1;32m    439\u001b[0m     )\n\u001b[0;32m--> 440\u001b[0m     pred \u001b[38;5;241m=\u001b[39m \u001b[38;5;28mself\u001b[39m\u001b[38;5;241m.\u001b[39mridges[imdl]\u001b[38;5;241m.\u001b[39mpredict(x)\n\u001b[1;32m    441\u001b[0m     pred_blocks_test\u001b[38;5;241m.\u001b[39mappend(\n\u001b[1;32m    442\u001b[0m         TensorBlock(\n\u001b[1;32m    443\u001b[0m             values\u001b[38;5;241m=\u001b[39mtorch\u001b[38;5;241m.\u001b[39mfrom_numpy(pred\u001b[38;5;241m.\u001b[39mreshape((nsamples, ncomp, \u001b[38;5;241m1\u001b[39m)))\n\u001b[0;32m   (...)\u001b[0m\n\u001b[1;32m    449\u001b[0m         )\n\u001b[1;32m    450\u001b[0m     )\n\u001b[1;32m    452\u001b[0m pred_tmap_test \u001b[38;5;241m=\u001b[39m TensorMap(test_target\u001b[38;5;241m.\u001b[39mkeys, pred_blocks_test)\n",
      "\u001b[0;31mKeyError\u001b[0m: 0"
     ]
    }
   ],
   "source": [
    "pred_test = model.predict_ridge_analytical(ml_data.target_test, ml_data.feat_test)"
   ]
  },
  {
   "cell_type": "code",
   "execution_count": 36,
   "id": "0f482964-5a2a-42e9-b413-e3c84c09730a",
   "metadata": {},
   "outputs": [
    {
     "ename": "NameError",
     "evalue": "name 'pred_test' is not defined",
     "output_type": "error",
     "traceback": [
      "\u001b[0;31m---------------------------------------------------------------------------\u001b[0m",
      "\u001b[0;31mNameError\u001b[0m                                 Traceback (most recent call last)",
      "Cell \u001b[0;32mIn[36], line 1\u001b[0m\n\u001b[0;32m----> 1\u001b[0m test_uncoupled \u001b[38;5;241m=\u001b[39m _to_uncoupled_basis(pred_test,  device\u001b[38;5;241m=\u001b[39mmodel\u001b[38;5;241m.\u001b[39mdevice) \u001b[38;5;66;03m# Convert the coupled blocks to uncoupled\u001b[39;00m\n\u001b[1;32m      2\u001b[0m fock_predictions_test \u001b[38;5;241m=\u001b[39m _to_matrix(\n\u001b[1;32m      3\u001b[0m test_uncoupled,\n\u001b[1;32m      4\u001b[0m     ml_data\u001b[38;5;241m.\u001b[39mtest_frames,\n\u001b[1;32m      5\u001b[0m     ml_data\u001b[38;5;241m.\u001b[39maux_data[\u001b[38;5;124m'\u001b[39m\u001b[38;5;124morbitals\u001b[39m\u001b[38;5;124m'\u001b[39m],\n\u001b[1;32m      6\u001b[0m     device\u001b[38;5;241m=\u001b[39mmodel\u001b[38;5;241m.\u001b[39mdevice,\n\u001b[1;32m      7\u001b[0m )\n",
      "\u001b[0;31mNameError\u001b[0m: name 'pred_test' is not defined"
     ]
    }
   ],
   "source": [
    "test_uncoupled = _to_uncoupled_basis(pred_test,  device=model.device) # Convert the coupled blocks to uncoupled\n",
    "fock_predictions_test = _to_matrix(\n",
    "test_uncoupled,\n",
    "    ml_data.test_frames,\n",
    "    ml_data.aux_data['orbitals'],\n",
    "    device=model.device,\n",
    ")"
   ]
  },
  {
   "cell_type": "code",
   "execution_count": 37,
   "id": "b265f6c8",
   "metadata": {},
   "outputs": [
    {
     "ename": "ValueError",
     "evalue": "too many values to unpack (expected 2)",
     "output_type": "error",
     "traceback": [
      "\u001b[0;31m---------------------------------------------------------------------------\u001b[0m",
      "\u001b[0;31mValueError\u001b[0m                                Traceback (most recent call last)",
      "Cell \u001b[0;32mIn[37], line 1\u001b[0m\n\u001b[0;32m----> 1\u001b[0m test_pred_eva, test_pred_mull \u001b[38;5;241m=\u001b[39m compute_mulliken(ml_data, fock_predictions_test, ml_data\u001b[38;5;241m.\u001b[39mtest_idx)\n\u001b[1;32m      2\u001b[0m test_eva, test_mull \u001b[38;5;241m=\u001b[39m compute_mulliken(ml_data, ml_data\u001b[38;5;241m.\u001b[39mtarget\u001b[38;5;241m.\u001b[39mtensor[ml_data\u001b[38;5;241m.\u001b[39mtest_idx], ml_data\u001b[38;5;241m.\u001b[39mtest_idx)\n\u001b[1;32m      4\u001b[0m \u001b[38;5;28mprint\u001b[39m(\u001b[38;5;124m\"\u001b[39m\u001b[38;5;124mTest RMSE for MO_energies in eV: \u001b[39m\u001b[38;5;124m\"\u001b[39m, torch\u001b[38;5;241m.\u001b[39msqrt(loss_fn(test_pred_eva, test_eva) \u001b[38;5;241m/\u001b[39m \u001b[38;5;28mlen\u001b[39m(ml_data\u001b[38;5;241m.\u001b[39mtest_idx) \u001b[38;5;241m/\u001b[39m\u001b[38;5;241m16\u001b[39m) \u001b[38;5;241m*\u001b[39mHartree)\n",
      "\u001b[0;31mValueError\u001b[0m: too many values to unpack (expected 2)"
     ]
    }
   ],
   "source": [
    "test_pred_eva, test_pred_mull = compute_mulliken(ml_data, fock_predictions_test, ml_data.test_idx)\n",
    "test_eva, test_mull = compute_mulliken(ml_data, ml_data.target.tensor[ml_data.test_idx], ml_data.test_idx)\n",
    "\n",
    "print(\"Test RMSE for MO_energies in eV: \", torch.sqrt(loss_fn(test_pred_eva, test_eva) / len(ml_data.test_idx) /16) *Hartree)\n",
    "print(\"Test RMSE for Mulliken in eV: \", torch.sqrt(loss_fn(test_pred_mull, test_mull) / len(ml_data.test_idx) /16) *Hartree)"
   ]
  },
  {
   "cell_type": "code",
   "execution_count": 38,
   "id": "a42a5791-babd-4d02-bb92-0f502ac60f7f",
   "metadata": {},
   "outputs": [
    {
     "ename": "RuntimeError",
     "evalue": "Can't call numpy() on Tensor that requires grad. Use tensor.detach().numpy() instead.",
     "output_type": "error",
     "traceback": [
      "\u001b[0;31m---------------------------------------------------------------------------\u001b[0m",
      "\u001b[0;31mRuntimeError\u001b[0m                              Traceback (most recent call last)",
      "Cell \u001b[0;32mIn[38], line 8\u001b[0m\n\u001b[1;32m      6\u001b[0m x \u001b[38;5;241m=\u001b[39m x[x\u001b[38;5;241m>\u001b[39m\u001b[38;5;241m-\u001b[39m\u001b[38;5;241m50\u001b[39m]\n\u001b[1;32m      7\u001b[0m y \u001b[38;5;241m=\u001b[39m y[y\u001b[38;5;241m>\u001b[39m\u001b[38;5;241m-\u001b[39m\u001b[38;5;241m50\u001b[39m]\n\u001b[0;32m----> 8\u001b[0m plt\u001b[38;5;241m.\u001b[39mscatter(x,y)\n\u001b[1;32m     10\u001b[0m plt\u001b[38;5;241m.\u001b[39mplot([\u001b[38;5;241m-\u001b[39m\u001b[38;5;241m35\u001b[39m,\u001b[38;5;241m35\u001b[39m], [\u001b[38;5;241m-\u001b[39m\u001b[38;5;241m35\u001b[39m,\u001b[38;5;241m35\u001b[39m], linestyle\u001b[38;5;241m=\u001b[39m\u001b[38;5;124m'\u001b[39m\u001b[38;5;124m--\u001b[39m\u001b[38;5;124m'\u001b[39m, color\u001b[38;5;241m=\u001b[39m\u001b[38;5;124m'\u001b[39m\u001b[38;5;124mblack\u001b[39m\u001b[38;5;124m'\u001b[39m, linewidth\u001b[38;5;241m=\u001b[39m\u001b[38;5;241m0.5\u001b[39m)\n\u001b[1;32m     11\u001b[0m plt\u001b[38;5;241m.\u001b[39mxlabel(\u001b[38;5;124m'\u001b[39m\u001b[38;5;124mTarget MO Energies (eV)\u001b[39m\u001b[38;5;124m'\u001b[39m)\n",
      "File \u001b[0;32m~/miniconda3/lib/python3.11/site-packages/matplotlib/pyplot.py:3684\u001b[0m, in \u001b[0;36mscatter\u001b[0;34m(x, y, s, c, marker, cmap, norm, vmin, vmax, alpha, linewidths, edgecolors, plotnonfinite, data, **kwargs)\u001b[0m\n\u001b[1;32m   3665\u001b[0m \u001b[38;5;129m@_copy_docstring_and_deprecators\u001b[39m(Axes\u001b[38;5;241m.\u001b[39mscatter)\n\u001b[1;32m   3666\u001b[0m \u001b[38;5;28;01mdef\u001b[39;00m \u001b[38;5;21mscatter\u001b[39m(\n\u001b[1;32m   3667\u001b[0m     x: \u001b[38;5;28mfloat\u001b[39m \u001b[38;5;241m|\u001b[39m ArrayLike,\n\u001b[0;32m   (...)\u001b[0m\n\u001b[1;32m   3682\u001b[0m     \u001b[38;5;241m*\u001b[39m\u001b[38;5;241m*\u001b[39mkwargs,\n\u001b[1;32m   3683\u001b[0m ) \u001b[38;5;241m-\u001b[39m\u001b[38;5;241m>\u001b[39m PathCollection:\n\u001b[0;32m-> 3684\u001b[0m     __ret \u001b[38;5;241m=\u001b[39m gca()\u001b[38;5;241m.\u001b[39mscatter(\n\u001b[1;32m   3685\u001b[0m         x,\n\u001b[1;32m   3686\u001b[0m         y,\n\u001b[1;32m   3687\u001b[0m         s\u001b[38;5;241m=\u001b[39ms,\n\u001b[1;32m   3688\u001b[0m         c\u001b[38;5;241m=\u001b[39mc,\n\u001b[1;32m   3689\u001b[0m         marker\u001b[38;5;241m=\u001b[39mmarker,\n\u001b[1;32m   3690\u001b[0m         cmap\u001b[38;5;241m=\u001b[39mcmap,\n\u001b[1;32m   3691\u001b[0m         norm\u001b[38;5;241m=\u001b[39mnorm,\n\u001b[1;32m   3692\u001b[0m         vmin\u001b[38;5;241m=\u001b[39mvmin,\n\u001b[1;32m   3693\u001b[0m         vmax\u001b[38;5;241m=\u001b[39mvmax,\n\u001b[1;32m   3694\u001b[0m         alpha\u001b[38;5;241m=\u001b[39malpha,\n\u001b[1;32m   3695\u001b[0m         linewidths\u001b[38;5;241m=\u001b[39mlinewidths,\n\u001b[1;32m   3696\u001b[0m         edgecolors\u001b[38;5;241m=\u001b[39medgecolors,\n\u001b[1;32m   3697\u001b[0m         plotnonfinite\u001b[38;5;241m=\u001b[39mplotnonfinite,\n\u001b[1;32m   3698\u001b[0m         \u001b[38;5;241m*\u001b[39m\u001b[38;5;241m*\u001b[39m({\u001b[38;5;124m\"\u001b[39m\u001b[38;5;124mdata\u001b[39m\u001b[38;5;124m\"\u001b[39m: data} \u001b[38;5;28;01mif\u001b[39;00m data \u001b[38;5;129;01mis\u001b[39;00m \u001b[38;5;129;01mnot\u001b[39;00m \u001b[38;5;28;01mNone\u001b[39;00m \u001b[38;5;28;01melse\u001b[39;00m {}),\n\u001b[1;32m   3699\u001b[0m         \u001b[38;5;241m*\u001b[39m\u001b[38;5;241m*\u001b[39mkwargs,\n\u001b[1;32m   3700\u001b[0m     )\n\u001b[1;32m   3701\u001b[0m     sci(__ret)\n\u001b[1;32m   3702\u001b[0m     \u001b[38;5;28;01mreturn\u001b[39;00m __ret\n",
      "File \u001b[0;32m~/miniconda3/lib/python3.11/site-packages/matplotlib/__init__.py:1465\u001b[0m, in \u001b[0;36m_preprocess_data.<locals>.inner\u001b[0;34m(ax, data, *args, **kwargs)\u001b[0m\n\u001b[1;32m   1462\u001b[0m \u001b[38;5;129m@functools\u001b[39m\u001b[38;5;241m.\u001b[39mwraps(func)\n\u001b[1;32m   1463\u001b[0m \u001b[38;5;28;01mdef\u001b[39;00m \u001b[38;5;21minner\u001b[39m(ax, \u001b[38;5;241m*\u001b[39margs, data\u001b[38;5;241m=\u001b[39m\u001b[38;5;28;01mNone\u001b[39;00m, \u001b[38;5;241m*\u001b[39m\u001b[38;5;241m*\u001b[39mkwargs):\n\u001b[1;32m   1464\u001b[0m     \u001b[38;5;28;01mif\u001b[39;00m data \u001b[38;5;129;01mis\u001b[39;00m \u001b[38;5;28;01mNone\u001b[39;00m:\n\u001b[0;32m-> 1465\u001b[0m         \u001b[38;5;28;01mreturn\u001b[39;00m func(ax, \u001b[38;5;241m*\u001b[39m\u001b[38;5;28mmap\u001b[39m(sanitize_sequence, args), \u001b[38;5;241m*\u001b[39m\u001b[38;5;241m*\u001b[39mkwargs)\n\u001b[1;32m   1467\u001b[0m     bound \u001b[38;5;241m=\u001b[39m new_sig\u001b[38;5;241m.\u001b[39mbind(ax, \u001b[38;5;241m*\u001b[39margs, \u001b[38;5;241m*\u001b[39m\u001b[38;5;241m*\u001b[39mkwargs)\n\u001b[1;32m   1468\u001b[0m     auto_label \u001b[38;5;241m=\u001b[39m (bound\u001b[38;5;241m.\u001b[39marguments\u001b[38;5;241m.\u001b[39mget(label_namer)\n\u001b[1;32m   1469\u001b[0m                   \u001b[38;5;129;01mor\u001b[39;00m bound\u001b[38;5;241m.\u001b[39mkwargs\u001b[38;5;241m.\u001b[39mget(label_namer))\n",
      "File \u001b[0;32m~/miniconda3/lib/python3.11/site-packages/matplotlib/axes/_axes.py:4650\u001b[0m, in \u001b[0;36mAxes.scatter\u001b[0;34m(self, x, y, s, c, marker, cmap, norm, vmin, vmax, alpha, linewidths, edgecolors, plotnonfinite, **kwargs)\u001b[0m\n\u001b[1;32m   4647\u001b[0m \u001b[38;5;66;03m# np.ma.ravel yields an ndarray, not a masked array,\u001b[39;00m\n\u001b[1;32m   4648\u001b[0m \u001b[38;5;66;03m# unless its argument is a masked array.\u001b[39;00m\n\u001b[1;32m   4649\u001b[0m x \u001b[38;5;241m=\u001b[39m np\u001b[38;5;241m.\u001b[39mma\u001b[38;5;241m.\u001b[39mravel(x)\n\u001b[0;32m-> 4650\u001b[0m y \u001b[38;5;241m=\u001b[39m np\u001b[38;5;241m.\u001b[39mma\u001b[38;5;241m.\u001b[39mravel(y)\n\u001b[1;32m   4651\u001b[0m \u001b[38;5;28;01mif\u001b[39;00m x\u001b[38;5;241m.\u001b[39msize \u001b[38;5;241m!=\u001b[39m y\u001b[38;5;241m.\u001b[39msize:\n\u001b[1;32m   4652\u001b[0m     \u001b[38;5;28;01mraise\u001b[39;00m \u001b[38;5;167;01mValueError\u001b[39;00m(\u001b[38;5;124m\"\u001b[39m\u001b[38;5;124mx and y must be the same size\u001b[39m\u001b[38;5;124m\"\u001b[39m)\n",
      "File \u001b[0;32m~/miniconda3/lib/python3.11/site-packages/numpy/ma/core.py:6875\u001b[0m, in \u001b[0;36m_frommethod.__call__\u001b[0;34m(self, a, *args, **params)\u001b[0m\n\u001b[1;32m   6872\u001b[0m     args \u001b[38;5;241m=\u001b[39m \u001b[38;5;28mlist\u001b[39m(args)\n\u001b[1;32m   6873\u001b[0m     a, args[\u001b[38;5;241m0\u001b[39m] \u001b[38;5;241m=\u001b[39m args[\u001b[38;5;241m0\u001b[39m], a\n\u001b[0;32m-> 6875\u001b[0m marr \u001b[38;5;241m=\u001b[39m asanyarray(a)\n\u001b[1;32m   6876\u001b[0m method_name \u001b[38;5;241m=\u001b[39m \u001b[38;5;28mself\u001b[39m\u001b[38;5;241m.\u001b[39m\u001b[38;5;18m__name__\u001b[39m\n\u001b[1;32m   6877\u001b[0m method \u001b[38;5;241m=\u001b[39m \u001b[38;5;28mgetattr\u001b[39m(\u001b[38;5;28mtype\u001b[39m(marr), method_name, \u001b[38;5;28;01mNone\u001b[39;00m)\n",
      "File \u001b[0;32m~/miniconda3/lib/python3.11/site-packages/numpy/ma/core.py:8299\u001b[0m, in \u001b[0;36masanyarray\u001b[0;34m(a, dtype)\u001b[0m\n\u001b[1;32m   8297\u001b[0m \u001b[38;5;28;01mif\u001b[39;00m \u001b[38;5;28misinstance\u001b[39m(a, MaskedArray) \u001b[38;5;129;01mand\u001b[39;00m (dtype \u001b[38;5;129;01mis\u001b[39;00m \u001b[38;5;28;01mNone\u001b[39;00m \u001b[38;5;129;01mor\u001b[39;00m dtype \u001b[38;5;241m==\u001b[39m a\u001b[38;5;241m.\u001b[39mdtype):\n\u001b[1;32m   8298\u001b[0m     \u001b[38;5;28;01mreturn\u001b[39;00m a\n\u001b[0;32m-> 8299\u001b[0m \u001b[38;5;28;01mreturn\u001b[39;00m masked_array(a, dtype\u001b[38;5;241m=\u001b[39mdtype, copy\u001b[38;5;241m=\u001b[39m\u001b[38;5;28;01mFalse\u001b[39;00m, keep_mask\u001b[38;5;241m=\u001b[39m\u001b[38;5;28;01mTrue\u001b[39;00m, subok\u001b[38;5;241m=\u001b[39m\u001b[38;5;28;01mTrue\u001b[39;00m)\n",
      "File \u001b[0;32m~/miniconda3/lib/python3.11/site-packages/numpy/ma/core.py:2820\u001b[0m, in \u001b[0;36mMaskedArray.__new__\u001b[0;34m(cls, data, mask, dtype, copy, subok, ndmin, fill_value, keep_mask, hard_mask, shrink, order)\u001b[0m\n\u001b[1;32m   2811\u001b[0m \u001b[38;5;250m\u001b[39m\u001b[38;5;124;03m\"\"\"\u001b[39;00m\n\u001b[1;32m   2812\u001b[0m \u001b[38;5;124;03mCreate a new masked array from scratch.\u001b[39;00m\n\u001b[1;32m   2813\u001b[0m \n\u001b[0;32m   (...)\u001b[0m\n\u001b[1;32m   2817\u001b[0m \n\u001b[1;32m   2818\u001b[0m \u001b[38;5;124;03m\"\"\"\u001b[39;00m\n\u001b[1;32m   2819\u001b[0m \u001b[38;5;66;03m# Process data.\u001b[39;00m\n\u001b[0;32m-> 2820\u001b[0m _data \u001b[38;5;241m=\u001b[39m np\u001b[38;5;241m.\u001b[39marray(data, dtype\u001b[38;5;241m=\u001b[39mdtype, copy\u001b[38;5;241m=\u001b[39mcopy,\n\u001b[1;32m   2821\u001b[0m                  order\u001b[38;5;241m=\u001b[39morder, subok\u001b[38;5;241m=\u001b[39m\u001b[38;5;28;01mTrue\u001b[39;00m, ndmin\u001b[38;5;241m=\u001b[39mndmin)\n\u001b[1;32m   2822\u001b[0m _baseclass \u001b[38;5;241m=\u001b[39m \u001b[38;5;28mgetattr\u001b[39m(data, \u001b[38;5;124m'\u001b[39m\u001b[38;5;124m_baseclass\u001b[39m\u001b[38;5;124m'\u001b[39m, \u001b[38;5;28mtype\u001b[39m(_data))\n\u001b[1;32m   2823\u001b[0m \u001b[38;5;66;03m# Check that we're not erasing the mask.\u001b[39;00m\n",
      "File \u001b[0;32m~/miniconda3/lib/python3.11/site-packages/torch/_tensor.py:1062\u001b[0m, in \u001b[0;36mTensor.__array__\u001b[0;34m(self, dtype)\u001b[0m\n\u001b[1;32m   1060\u001b[0m     \u001b[38;5;28;01mreturn\u001b[39;00m handle_torch_function(Tensor\u001b[38;5;241m.\u001b[39m__array__, (\u001b[38;5;28mself\u001b[39m,), \u001b[38;5;28mself\u001b[39m, dtype\u001b[38;5;241m=\u001b[39mdtype)\n\u001b[1;32m   1061\u001b[0m \u001b[38;5;28;01mif\u001b[39;00m dtype \u001b[38;5;129;01mis\u001b[39;00m \u001b[38;5;28;01mNone\u001b[39;00m:\n\u001b[0;32m-> 1062\u001b[0m     \u001b[38;5;28;01mreturn\u001b[39;00m \u001b[38;5;28mself\u001b[39m\u001b[38;5;241m.\u001b[39mnumpy()\n\u001b[1;32m   1063\u001b[0m \u001b[38;5;28;01melse\u001b[39;00m:\n\u001b[1;32m   1064\u001b[0m     \u001b[38;5;28;01mreturn\u001b[39;00m \u001b[38;5;28mself\u001b[39m\u001b[38;5;241m.\u001b[39mnumpy()\u001b[38;5;241m.\u001b[39mastype(dtype, copy\u001b[38;5;241m=\u001b[39m\u001b[38;5;28;01mFalse\u001b[39;00m)\n",
      "\u001b[0;31mRuntimeError\u001b[0m: Can't call numpy() on Tensor that requires grad. Use tensor.detach().numpy() instead."
     ]
    },
    {
     "data": {
      "image/png": "[encoded data removed]",
      "text/plain": [
       "<Figure size 640x480 with 1 Axes>"
      ]
     },
     "metadata": {},
     "output_type": "display_data"
    }
   ],
   "source": [
    "import matplotlib.pyplot as plt\n",
    "\n",
    "x = test_eva * Hartree\n",
    "y = test_pred_eva * Hartree\n",
    "\n",
    "x = x[x>-50]\n",
    "y = y[y>-50]\n",
    "plt.scatter(x,y)\n",
    "\n",
    "plt.plot([-35,35], [-35,35], linestyle='--', color='black', linewidth=0.5)\n",
    "plt.xlabel('Target MO Energies (eV)')\n",
    "plt.ylabel('Predicted MO Energies (eV)')\n",
    "plt.show()"
   ]
  },
  {
   "cell_type": "code",
   "execution_count": 39,
   "id": "5cbcbd4f-74b5-400f-a21c-35c63754fef2",
   "metadata": {},
   "outputs": [
    {
     "ename": "NameError",
     "evalue": "name 'test_mull' is not defined",
     "output_type": "error",
     "traceback": [
      "\u001b[0;31m---------------------------------------------------------------------------\u001b[0m",
      "\u001b[0;31mNameError\u001b[0m                                 Traceback (most recent call last)",
      "Cell \u001b[0;32mIn[39], line 3\u001b[0m\n\u001b[1;32m      1\u001b[0m \u001b[38;5;28;01mimport\u001b[39;00m \u001b[38;5;21;01mmatplotlib\u001b[39;00m\u001b[38;5;21;01m.\u001b[39;00m\u001b[38;5;21;01mpyplot\u001b[39;00m \u001b[38;5;28;01mas\u001b[39;00m \u001b[38;5;21;01mplt\u001b[39;00m\n\u001b[0;32m----> 3\u001b[0m x \u001b[38;5;241m=\u001b[39m test_mull \u001b[38;5;241m*\u001b[39m Hartree\n\u001b[1;32m      4\u001b[0m y \u001b[38;5;241m=\u001b[39m test_pred_mull \u001b[38;5;241m*\u001b[39m Hartree\n\u001b[1;32m      6\u001b[0m x \u001b[38;5;241m=\u001b[39m x[x\u001b[38;5;241m>\u001b[39m\u001b[38;5;241m-\u001b[39m\u001b[38;5;241m50\u001b[39m]\n",
      "\u001b[0;31mNameError\u001b[0m: name 'test_mull' is not defined"
     ]
    }
   ],
   "source": [
    "import matplotlib.pyplot as plt\n",
    "\n",
    "x = test_mull * Hartree\n",
    "y = test_pred_mull * Hartree\n",
    "\n",
    "x = x[x>-50]\n",
    "y = y[y>-50]\n",
    "plt.scatter(x,y)\n",
    "\n",
    "plt.plot([-35,35], [-35,35], linestyle='--', color='black', linewidth=0.5)\n",
    "plt.xlabel('Target Mulliken (eV)')\n",
    "plt.ylabel('Predicted Mulliken (eV)')\n",
    "plt.show()"
   ]
  },
  {
   "cell_type": "markdown",
   "id": "8ddca012-fbd7-470c-8293-e4cbaf39d84f",
   "metadata": {},
   "source": [
    "## Indirect learning of eigenvalues via bacprop"
   ]
  },
  {
   "cell_type": "code",
   "execution_count": 39,
   "id": "ccf16835-d6dd-46a0-a253-0e1ae3b2274e",
   "metadata": {},
   "outputs": [],
   "source": [
    "import os\n",
    "os.environ[\"PYSCFAD_BACKEND\"] = \"torch\"\n",
    "import torch\n",
    "from torch.autograd.functional import jacobian\n",
    "from pyscf import gto\n",
    "from pyscfad import numpy as pynp\n",
    "from pyscfad import ops\n",
    "from pyscfad.ml.scf import hf\n",
    "import pyscf.pbc.tools.pyscf_ase as pyscf_ase\n",
    "from mlelec.data.pyscf_calculator import _instantiate_pyscf_mol\n",
    "from mlelec.utils.twocenter_utils import fix_orbital_order, unfix_orbital_order\n",
    "from tqdm import tqdm"
   ]
  },
  {
   "cell_type": "code",
   "execution_count": 40,
   "id": "6fba7e05",
   "metadata": {},
   "outputs": [],
   "source": [
    "from cmath import inf\n",
    "best = inf\n",
    "early_stop_criteria = 50"
   ]
  },
  {
   "cell_type": "code",
   "execution_count": 41,
   "id": "234d5fde-9893-4780-874d-0d664c9d778e",
   "metadata": {},
   "outputs": [],
   "source": [
    "# Do this only if you want to start your indirect training from the Ridge fitted weights\n",
    "pred_train = model.forward(ml_data.feat_train, return_type=\"tensor\", batch_indices=ml_data.train_idx, ridge_fit=True)"
   ]
  },
  {
   "cell_type": "code",
   "execution_count": 42,
   "id": "97352890-9c9e-47b6-b36e-406d19a39f6b",
   "metadata": {},
   "outputs": [],
   "source": [
    "pred_evals, _, pred_P, _ = compute_mulliken(ml_data, pred_train, ml_data.train_idx)\n",
    "targ_evals, _, targ_P, _ = compute_mulliken(ml_data, ml_data.target.tensor[ml_data.train_idx], ml_data.train_idx)"
   ]
  },
  {
   "cell_type": "code",
   "execution_count": 43,
   "id": "3053daf7-e818-47ca-a0a1-76b961948163",
   "metadata": {},
   "outputs": [
    {
     "data": {
      "text/plain": [
       "(tensor(0.0013, grad_fn=<SumBackward0>),\n",
       " tensor(9.2786e-06, grad_fn=<SumBackward0>))"
      ]
     },
     "execution_count": 43,
     "metadata": {},
     "output_type": "execute_result"
    }
   ],
   "source": [
    "loss_fn(pred_evals, targ_evals), loss_fn(pred_P, targ_P)"
   ]
  },
  {
   "cell_type": "code",
   "execution_count": 47,
   "id": "ac2c41ff",
   "metadata": {},
   "outputs": [],
   "source": [
    "optimizer = torch.optim.Adam(model.parameters(), lr=1e-5)\n",
    "scheduler = torch.optim.lr_scheduler.ReduceLROnPlateau(\n",
    "    optimizer, factor=0.5, patience=20, verbose=True\n",
    ")\n",
    "\n",
    "val_interval = 10\n",
    "loss_fn = getattr(mlmetrics, \"L2_loss\") \n",
    "losses = []\n",
    "losses_eval = []\n",
    "losses_P = []\n",
    "early_stop_count = 0\n",
    "nepochs = 800"
   ]
  },
  {
   "cell_type": "code",
   "execution_count": null,
   "id": "7f5cffb6-e29b-4f10-8d9a-fae0a84a973c",
   "metadata": {},
   "outputs": [
    {
     "name": "stderr",
     "output_type": "stream",
     "text": [
      " 51%|█████████████████████████████████████████████▋                                            | 406/800 [1:22:31<1:32:41, 14.12s/it, P_loss=5.89e-5, Val_loss=1.51e-5, eval_loss=3.72e-5, train_loss=0.158]"
     ]
    }
   ],
   "source": [
    "iterator = tqdm(range(nepochs))\n",
    "\n",
    "for epoch in iterator:\n",
    "    model.train(True)\n",
    "    train_loss = 0\n",
    "    loss_eval_epoch = 0\n",
    "    loss_P_epoch = 0\n",
    "    for data in train_dl:\n",
    "        optimizer.zero_grad()\n",
    "        idx = data[\"idx\"]\n",
    "\n",
    "        #forward pass\n",
    "        pred = model(data[\"input\"], return_type=\"tensor\", batch_indices=idx)\n",
    "        #pred_evals = compute_eigvals(ml_data, pred, data[\"idx\"])\n",
    "        #targ_evals = compute_eigvals(ml_data, ml_data.target.tensor[idx], data[\"idx\"])\n",
    "        pred_evals, _, pred_P, _ = compute_mulliken(ml_data, pred, idx)\n",
    "        targ_evals, _, targ_P, _ = compute_mulliken(ml_data, ml_data.target.tensor[idx], idx)\n",
    "        \n",
    "        loss_eval = loss_fn(pred_evals, targ_evals) \n",
    "        loss_P = loss_fn(pred_P, targ_P)\n",
    "        loss = (3 * loss_eval + loss_P) * 1e4\n",
    "        \n",
    "        loss_eval_epoch += loss_eval.item()\n",
    "        loss_P_epoch += loss_P.item()\n",
    "        train_loss += loss.item()\n",
    "        \n",
    "        # backward pass\n",
    "        loss.backward(retain_graph = True)\n",
    "        optimizer.step()\n",
    "        \n",
    "    losses_eval.append(loss_eval_epoch)\n",
    "    losses_P.append(loss_P_epoch)\n",
    "    losses.append(train_loss)\n",
    "    scheduler.step(train_loss)\n",
    "    \n",
    "    model.train(False)\n",
    "\n",
    "    if epoch % val_interval == 0:\n",
    "        val_loss = 0\n",
    "        for i, data in enumerate(val_dl):\n",
    "            idx = data[\"idx\"]\n",
    "            val_pred = model(data[\"input\"], return_type=\"tensor\", batch_indices=idx)\n",
    "            #val_pred_eval = compute_eigvals(ml_data, pred, data[\"idx\"])\n",
    "            #val_targ_eval = compute_eigvals(ml_data, ml_data.target.tensor[idx], data[\"idx\"])\n",
    "            val_pred_eval, _, val_pred_P, _ = compute_mulliken(ml_data, val_pred, data[\"idx\"])\n",
    "            val_targ_eval, _, val_targ_P, _ = compute_mulliken(ml_data, ml_data.target.tensor[idx], data[\"idx\"])\n",
    "            vloss = 3 * loss_fn(val_pred_eval, val_targ_eval) + loss_fn(val_pred_P, val_targ_P)\n",
    "            val_loss += vloss.item()\n",
    "            \n",
    "        new_best = val_loss < best\n",
    "        if new_best:\n",
    "            best = val_loss\n",
    "            # torch.save(model.state_dict(), 'best_model_dipole.pt')\n",
    "            early_stop_count = 0\n",
    "        else:\n",
    "            early_stop_count += 1\n",
    "        if early_stop_count > early_stop_criteria:\n",
    "            print(f\"Early stopping at epoch {epoch}\")\n",
    "            print(f\"Epoch {epoch}, train loss {train_loss/len(ml_data.train_idx)}\")\n",
    "\n",
    "            print(f\"Epoch {epoch} val loss {val_loss/len(ml_data.val_idx)}\")\n",
    "            # Save last best model\n",
    "            break\n",
    "\n",
    "    if epoch % 1 == 0:\n",
    "        iterator.set_postfix(train_loss = train_loss/len(ml_data.train_idx), \n",
    "                             Val_loss = val_loss/len(ml_data.val_idx),\n",
    "                            eval_loss = loss_eval.item(), P_loss = loss_P.item())\n",
    "        # print('loss_eval = ', loss_eval, 'loss_mull', loss_mull)\n",
    "        "
   ]
  },
  {
   "cell_type": "code",
   "execution_count": 1,
   "id": "8c498b16",
   "metadata": {},
   "outputs": [
    {
     "ename": "NameError",
     "evalue": "name 'losses' is not defined",
     "output_type": "error",
     "traceback": [
      "\u001b[0;31m---------------------------------------------------------------------------\u001b[0m",
      "\u001b[0;31mNameError\u001b[0m                                 Traceback (most recent call last)",
      "Cell \u001b[0;32mIn[1], line 2\u001b[0m\n\u001b[1;32m      1\u001b[0m \u001b[38;5;28;01mfrom\u001b[39;00m \u001b[38;5;21;01mmatplotlib\u001b[39;00m \u001b[38;5;28;01mimport\u001b[39;00m pyplot \u001b[38;5;28;01mas\u001b[39;00m plt\n\u001b[0;32m----> 2\u001b[0m plt\u001b[38;5;241m.\u001b[39mloglog(losses, label \u001b[38;5;241m=\u001b[39m \u001b[38;5;124m\"\u001b[39m\u001b[38;5;124mcombined\u001b[39m\u001b[38;5;124m\"\u001b[39m)\n\u001b[1;32m      3\u001b[0m plt\u001b[38;5;241m.\u001b[39mloglog(losses_eval, label \u001b[38;5;241m=\u001b[39m \u001b[38;5;124m\"\u001b[39m\u001b[38;5;124meva\u001b[39m\u001b[38;5;124m\"\u001b[39m)\n\u001b[1;32m      4\u001b[0m plt\u001b[38;5;241m.\u001b[39mloglog(losses_dm, label \u001b[38;5;241m=\u001b[39m\u001b[38;5;124m'\u001b[39m\u001b[38;5;124mdm\u001b[39m\u001b[38;5;124m'\u001b[39m)\n",
      "\u001b[0;31mNameError\u001b[0m: name 'losses' is not defined"
     ]
    }
   ],
   "source": [
    "from matplotlib import pyplot as plt\n",
    "plt.loglog(losses, label = \"combined\")\n",
    "plt.loglog(losses_eval, label = \"eva\")\n",
    "plt.loglog(losses_dm, label ='dm')\n",
    "plt.legend()"
   ]
  },
  {
   "cell_type": "code",
   "execution_count": 47,
   "id": "92d7506a-e71d-4dcf-82b1-fa03e6676942",
   "metadata": {},
   "outputs": [],
   "source": [
    "from IPython.utils import io"
   ]
  },
  {
   "cell_type": "code",
   "execution_count": 48,
   "id": "23dc049c",
   "metadata": {},
   "outputs": [],
   "source": [
    "with io.capture_output() as captured:\n",
    "    test_fock_predictions = model.forward(\n",
    "        ml_data.feat_test, return_type=\"tensor\", batch_indices=ml_data.test_idx,\n",
    "    )"
   ]
  },
  {
   "cell_type": "code",
   "execution_count": 49,
   "id": "e6b14783",
   "metadata": {},
   "outputs": [],
   "source": [
    "test_eva_pred_ind, test_mull_pred_ind = compute_mulliken(ml_data, test_fock_predictions, ml_data.test_idx)\n",
    "test_eva_ref, test_mull_ref = compute_mulliken(ml_data, ml_data.target.tensor[ml_data.test_idx], ml_data.test_idx)"
   ]
  },
  {
   "cell_type": "code",
   "execution_count": null,
   "id": "329b929f-95a2-45f3-80fc-44a21bf2b24e",
   "metadata": {},
   "outputs": [],
   "source": [
    "error1 = loss_fn(test_eva_pred_ind, test_eva_ref) / len(ml_data.test_idx)\n",
    "error1"
   ]
  },
  {
   "cell_type": "code",
   "execution_count": 51,
   "id": "a2c94ae6-4826-42a3-822f-e22b4b1cfe31",
   "metadata": {},
   "outputs": [
    {
     "name": "stdout",
     "output_type": "stream",
     "text": [
      "Test RMSE on MO energies after indirect learning on eigenvalues 8.65129 eV \n"
     ]
    }
   ],
   "source": [
    "print(\"Test RMSE on MO energies after indirect learning on eigenvalues {:.5f} eV \".format(torch.sqrt(error1/16)*Hartree))"
   ]
  },
  {
   "cell_type": "code",
   "execution_count": null,
   "id": "420bb5f9-a5dd-44a1-ab39-bd2e33a99cc1",
   "metadata": {},
   "outputs": [],
   "source": [
    "error2 = loss_fn(test_mull_pred_ind, test_mull_ref) / len(ml_data.test_idx)\n",
    "error2"
   ]
  },
  {
   "cell_type": "code",
   "execution_count": null,
   "id": "a6623f67-899f-4d13-9142-0da89280ec19",
   "metadata": {},
   "outputs": [],
   "source": [
    "print(\"Test RMSE on MO energies after indirect learning on Mulliken {:.5f} eV \".format(torch.sqrt(error2/16)*Hartree))"
   ]
  },
  {
   "cell_type": "code",
   "execution_count": 52,
   "id": "99bf9c32-3c62-4a5c-a44f-cb52108ef94e",
   "metadata": {},
   "outputs": [
    {
     "data": {
      "image/png": "[encoded data removed]",
      "text/plain": [
       "<Figure size 640x480 with 1 Axes>"
      ]
     },
     "metadata": {},
     "output_type": "display_data"
    }
   ],
   "source": [
    "x = test_eva_ref.detach().numpy()  * Hartree\n",
    "y = test_eva_pred_ind.detach().numpy()  * Hartree\n",
    "\n",
    "x = x[x>-50]\n",
    "y = y[y>-50]\n",
    "plt.scatter(x,y)\n",
    "    \n",
    "plt.plot([-35,35], [-35,35], linestyle='--', color='black', linewidth=0.5)\n",
    "plt.xlabel('Target MO Energies (eV)')\n",
    "plt.ylabel('Predicted MO Energies (eV)')\n",
    "plt.show()"
   ]
  },
  {
   "cell_type": "code",
   "execution_count": 54,
   "id": "ec1ff668-060d-4fc6-8fa8-20ef574e31ee",
   "metadata": {},
   "outputs": [
    {
     "data": {
      "text/plain": [
       "tensor(0.3676, grad_fn=<SumBackward0>)"
      ]
     },
     "execution_count": 54,
     "metadata": {},
     "output_type": "execute_result"
    }
   ],
   "source": [
    "loss_fn(test_mull_ref, test_mull_pred_ind)"
   ]
  },
  {
   "cell_type": "code",
   "execution_count": 55,
   "id": "dedb4455-68f2-408f-9678-3bb397324771",
   "metadata": {},
   "outputs": [
    {
     "data": {
      "text/plain": [
       "tensor(33.9625, grad_fn=<SumBackward0>)"
      ]
     },
     "execution_count": 55,
     "metadata": {},
     "output_type": "execute_result"
    }
   ],
   "source": [
    "loss_fn(test_eva_ref, test_eva_pred_ind)"
   ]
  },
  {
   "cell_type": "code",
   "execution_count": 56,
   "id": "1090310b-5e54-45dc-a13a-a52ae3d5e455",
   "metadata": {},
   "outputs": [
    {
     "data": {
      "image/png": "[encoded data removed]",
      "text/plain": [
       "<Figure size 640x480 with 1 Axes>"
      ]
     },
     "metadata": {},
     "output_type": "display_data"
    }
   ],
   "source": [
    "x = test_mull_ref.detach().numpy().flatten() # * Hartree\n",
    "y = test_mull_pred_ind.detach().numpy().flatten() # * Hartree\n",
    "\n",
    "# x = x[x>-50]\n",
    "# y = y[y>-50]\n",
    "plt.scatter(x,y)\n",
    "    \n",
    "# plt.plot([-35,35], [-35,35], linestyle='--', color='black', linewidth=0.5)\n",
    "plt.xlabel('Target MO Energies (eV)')\n",
    "plt.ylabel('Predicted MO Energies (eV)')\n",
    "plt.show()"
   ]
  },
  {
   "cell_type": "code",
   "execution_count": null,
   "id": "2d223086-69d2-43e0-a3c8-ff6013ffe60b",
   "metadata": {},
   "outputs": [],
   "source": []
  }
 ],
 "metadata": {
  "kernelspec": {
   "display_name": "Python 3 (ipykernel)",
   "language": "python",
   "name": "python3"
  },
  "language_info": {
   "codemirror_mode": {
    "name": "ipython",
    "version": 3
   },
   "file_extension": ".py",
   "mimetype": "text/x-python",
   "name": "python",
   "nbconvert_exporter": "python",
   "pygments_lexer": "ipython3",
   "version": "3.11.8"
  },
  "toc": {
   "base_numbering": 1,
   "nav_menu": {},
   "number_sections": true,
   "sideBar": true,
   "skip_h1_title": false,
   "title_cell": "Table of Contents",
   "title_sidebar": "Contents",
   "toc_cell": false,
   "toc_position": {},
   "toc_section_display": true,
   "toc_window_display": false
  }
 },
 "nbformat": 4,
 "nbformat_minor": 5
}
