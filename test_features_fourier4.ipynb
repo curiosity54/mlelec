{
 "cells": [
  {
   "cell_type": "code",
   "execution_count": 1,
   "metadata": {},
   "outputs": [],
   "source": [
    "%load_ext autoreload \n",
    "%autoreload 2"
   ]
  },
  {
   "cell_type": "markdown",
   "metadata": {},
   "source": [
    "# TODO"
   ]
  },
  {
   "cell_type": "markdown",
   "metadata": {},
   "source": [
    "- Take a unit cell\n",
    "- Compute the supercell according to kmesh\n",
    "- Choose a pair of atoms in the supercell\n",
    "- Map their distance to [any (?)] periodic replica fulfilling the MIC\n",
    "- Use mic_T as the argument of the Fourier Transform of $H_{ij\\psi\\phi}(k)$ to compute $H_{ij\\psi\\phi}(T)$\n",
    "- Use the same mic_T to access the rascaline features computed in real space without PBCs"
   ]
  },
  {
   "cell_type": "code",
   "execution_count": 2,
   "metadata": {},
   "outputs": [],
   "source": [
    "from ase.io import read\n",
    "from ase.visualize import view\n",
    "import numpy as np \n",
    "import torch \n",
    "import metatensor \n",
    "torch.set_default_dtype(torch.float64)"
   ]
  },
  {
   "cell_type": "code",
   "execution_count": 3,
   "metadata": {},
   "outputs": [],
   "source": [
    "def check_target(coupled_blocks, tol=1e-4):\n",
    "    \"\"\" Checks that the coupled blocks, when n1, l1 = n2, l2, satisfy \n",
    "            - block_type=1, lambda = ODD blocks are zero, \n",
    "            - block_type=-1, lambda = EVEN blocks are zero \n",
    "    \"\"\"\n",
    "    for k, b in coupled_blocks.items():\n",
    "        btype= k['block_type']\n",
    "        L = k['L']\n",
    "        l1 = k['l_i']\n",
    "        l2 = k['l_j']\n",
    "        n1 = k['n_i']\n",
    "        n2 = k['n_j']\n",
    "        if L%2==0 and btype==-1 and (n1==n2) and (l1==l2):\n",
    "            try:\n",
    "                 assert torch.norm(b.values)<=tol, f'btype {btype} L{L} failed - Block norm {torch.norm(b.values)}'\n",
    "            except AssertionError:\n",
    "                failidx = torch.where(b.values>tol)[0]\n",
    "                print(f'{k}, {torch.norm(b.values)} : {len(failidx)} failing samples - , {b.samples.values[failidx].tolist()}')#, values,{b.values[failidx]}' )\n",
    "\n",
    "        elif L%2==1 and btype==1 and (n1==n2) and (l1==l2):\n",
    "            try: \n",
    "                assert torch.norm(b.values)<=tol, f'btype {btype} L{L} failed - Block norm {torch.norm(b.values)}'\n",
    "            except AssertionError:\n",
    "                failidx = torch.where(b.values>tol)[0]\n",
    "                print(f'{len(failidx)} failing samples, {b.samples.values[failidx]}')#, values,{b.values[failidx]}' )\n",
    "  \n",
    "                # print(f'try minus bytpe, {torch.norm(newb.values[failidx])}')\n",
    "\n",
    "    print('TARGET PASSED')\n",
    "def check_gij(gij, tol = 1e-4):\n",
    "    \"\"\" Similar to the checks on the target above, we can check for gij that \n",
    "        - block_type = 1 < n| gij; lambda = ODD> = 0\n",
    "        - block_type = -1 <n | gij; lambda = EVEN> = 0\n",
    "    (inversion sigma = 1 for all of these blocks since they are directly the SPH components)\n",
    "    \"\"\" \n",
    "    for k, b in gij.items(): \n",
    "        btype= k['block_type']\n",
    "        L = k['spherical_harmonics_l']\n",
    "        if L%2==0 and btype==-1 : \n",
    "            try:\n",
    "                 assert torch.norm(b.values)<=tol, f'btype {btype} L{L} failed - Block norm {torch.norm(b.values)}'\n",
    "            except AssertionError:\n",
    "                failidx = torch.where(b.values>tol)[0]\n",
    "                print(f'{k}, {torch.norm(b.values)} : {len(failidx)} failing samples - , {b.samples.values[failidx].tolist()}')\n",
    "        elif L%2==1 and btype==1:\n",
    "            try: \n",
    "                assert torch.norm(b.values)<=tol, f'btype {btype} L{L} failed - Block norm {torch.norm(b.values)}'\n",
    "            except AssertionError:\n",
    "                failidx = torch.where(b.values>tol)[0]\n",
    "                print(f'{len(failidx)} failing samples, {b.samples.values[failidx]}')\n",
    "\n",
    "    print('gij PASSED')"
   ]
  },
  {
   "cell_type": "markdown",
   "metadata": {},
   "source": [
    "# Check that the Fourier Transform is invertible"
   ]
  },
  {
   "cell_type": "code",
   "execution_count": 4,
   "metadata": {},
   "outputs": [
    {
     "name": "stderr",
     "output_type": "stream",
     "text": [
      "/home/pegolo/micromamba/envs/sci/lib/python3.11/site-packages/pyscf/dft/libxc.py:771: UserWarning: Since PySCF-2.3, B3LYP (and B3P86) are changed to the VWN-RPA variant, corresponding to the original definition by Stephens et al. (issue 1480) and the same as the B3LYP functional in Gaussian. To restore the VWN5 definition, you can put the setting \"B3LYP_WITH_VWN5 = True\" in pyscf_conf.py\n",
      "  warnings.warn('Since PySCF-2.3, B3LYP (and B3P86) are changed to the VWN-RPA variant, '\n"
     ]
    }
   ],
   "source": [
    "from metatensor import Labels, TensorBlock, TensorMap\n",
    "from mlelec.data.dataset import PySCFPeriodicDataset\n",
    "from mlelec.utils.twocenter_utils import fix_orbital_order"
   ]
  },
  {
   "cell_type": "code",
   "execution_count": 5,
   "metadata": {},
   "outputs": [],
   "source": [
    "def fourier_transform(H_k, kpts, T):\n",
    "    return 1/np.sqrt(np.shape(kpts)[0])*np.sum([np.exp(2j*np.pi * np.dot(ki, T)) * H_ki for ki, H_ki in zip(kpts, H_k)], axis = 0)\n",
    "    \n",
    "def inverse_fourier_transform(H_T, T_list, k):\n",
    "    return 1/np.sqrt(np.shape(T_list)[0])*np.sum([np.exp(-2j*np.pi * np.dot(k, Ti)) * H_Ti for Ti, H_Ti in zip(T_list, H_T)], axis = 0)"
   ]
  },
  {
   "cell_type": "code",
   "execution_count": 6,
   "metadata": {},
   "outputs": [],
   "source": [
    "from mlelec.utils.pbc_utils import scidx_from_unitcell\n",
    "import warnings \n",
    "def get_T_from_pair(frame, supercell, i, j, dummy_T, kmesh):\n",
    "                       \n",
    "    assert np.all(np.sign(dummy_T) >= 0) or np.all(np.sign(dummy_T) <= 0), \"The translation indices must either be all positive or all negative (or zero)\"\n",
    "    sign = np.sum(dummy_T)\n",
    "    if sign != 0:\n",
    "        sign = sign/np.abs(sign)\n",
    "    dummy_T = np.abs(dummy_T)\n",
    "    supercell = frame.repeat(kmesh)\n",
    "    I = i\n",
    "    J = scidx_from_unitcell(frame, j = j, T = dummy_T, kmesh = kmesh)\n",
    "    d = supercell.get_distance(I, J, mic = True, vector = True) - frame.positions[j] + frame.positions[i]\n",
    "    mic_T = np.int32(np.round(np.linalg.inv(frame.cell.array).T@d))\n",
    "    # mic_T, _ = fix_translation_sign(frame, np.int32(sign*mic_T), j, I)\n",
    "    return I, J, np.int32(sign*mic_T)"
   ]
  },
  {
   "cell_type": "code",
   "execution_count": 7,
   "metadata": {},
   "outputs": [],
   "source": [
    "orbitals = {'sto-3g': {6: [[1,0,0],[2,0,0],[2,1,1], [2,1,-1],[2,1,0]]}, \n",
    "            'def2svp': {6: [[1,0,0],[2,0,0],[3,0,0],[2,1,1], [2,1,-1],[2,1,0], [3,1,1], [3,1,-1],[3,1,0], [3,2,-2], [3,2,-1],[3,2,0], [3,2,1],[3,2,2]]}\n",
    "           }"
   ]
  },
  {
   "cell_type": "code",
   "execution_count": 8,
   "metadata": {},
   "outputs": [],
   "source": [
    "root = 'examples/data/periodic/graphene_supercell_variety'\n",
    "\n",
    "names = ['hex'] #, 'hex22']\n",
    "ORBS = 'sto-3g'\n",
    "frames = read(f'{root}/graphene_variety.xyz', '1:2')\n",
    "\n",
    "for frame in frames:\n",
    "    frame.pbc = True\n",
    "\n",
    "kmesh = [[8,8,1], [4,4,1]]\n",
    "# kmesh = [[4,4,1]]\n",
    "kfock = {name: np.transpose(np.load(f\"{root}/fock_{name}22_{''.join(map(str, kmesh[i]))}.npy\"), axes = (0, 2, 1)) for i, name in enumerate(names)}\n",
    "kover = {name: np.load(f\"{root}/over_{name}22_{''.join(map(str, kmesh[i]))}.npy\") for i, name in enumerate(names)}\n",
    "\n",
    "dataset = {name: PySCFPeriodicDataset(frames = [frames[i]], kgrid=kmesh[i], matrices_kpoint = kfock[name].reshape(1, *kfock[name].shape), \n",
    "                                      overlap_kpoint = kover[name].reshape(1, *kfock[name].shape), target=[\"real_translation\"],\n",
    "                                      device = \"cpu\", orbs = orbitals[ORBS], orbs_name = ORBS) for i,name in enumerate(names)}\n",
    "\n",
    "\n",
    "# root = 'examples/data/periodic/c2/'\n",
    "# names = ['hex']\n",
    "# ORBS = 'sto-3g'\n",
    "# START = 3\n",
    "# STOP = 4\n",
    "\n",
    "# frames = read(f'{root}/C2_174.extxyz', slice(START, STOP))\n",
    "# fock_range = range(START,STOP)\n",
    "# for frame in frames:\n",
    "#     frame.pbc = True\n",
    "#     frame.positions[[0,1]] = frame.positions[[1,0]]\n",
    "\n",
    "# kmesh = [8,8,1]\n",
    "# for f in frames:\n",
    "#     f.pbc = [True, True, True]\n",
    "# kfock = {name: np.array([np.load(f\"examples/data/periodic/c2/fock_{ifock}_{''.join(map(str, kmesh))}.npy\") \n",
    "#                          for ifock in fock_range]\n",
    "#                        ) for name in names \n",
    "#         }\n",
    "# kover = {name: np.array([np.load(f\"examples/data/periodic/c2/over_{ifock}_{''.join(map(str, kmesh))}.npy\") \n",
    "#                          for ifock in fock_range]\n",
    "#                        ) for name in names \n",
    "#         }\n",
    "\n",
    "# dataset ={name: PySCFPeriodicDataset(frames = frames, kgrid=kmesh, matrices_kpoint = kfock[name], overlap_kpoint=kover[name], \n",
    "#                                      target=[\"real_translation\"] ,device = \"cpu\", orbs = orbitals[ORBS]) for name in names}"
   ]
  },
  {
   "cell_type": "code",
   "execution_count": 9,
   "metadata": {},
   "outputs": [],
   "source": [
    "name = 'hex'\n",
    "# assert np.linalg.norm(kfock[name] - np.transpose(kfock[name], (0,2,1)).conj()) # Hk is hermitian\n",
    "# assert np.linalg.norm(kfock[name][0] - np.transpose(kfock[name][0], (0,2,1)).conj()) # Hk is hermitian\n",
    "frame = dataset[name].structures[0].copy()\n",
    "kmesh = dataset[name].kmesh[0]"
   ]
  },
  {
   "cell_type": "code",
   "execution_count": 10,
   "metadata": {},
   "outputs": [],
   "source": [
    "supercell = frame.repeat(kmesh)\n",
    "kpts = dataset[name].cells[0].get_scaled_kpts(dataset[name].cells[0].make_kpts(kmesh))\n",
    "H_k = dataset[name].matrices_kpoint[0]"
   ]
  },
  {
   "cell_type": "markdown",
   "metadata": {},
   "source": [
    "### Dictionary structure"
   ]
  },
  {
   "cell_type": "code",
   "execution_count": 11,
   "metadata": {},
   "outputs": [],
   "source": [
    "counter_T = {}\n",
    "natm = frame.get_global_number_of_atoms()\n",
    "nao = 5\n",
    "for dummy_T in dataset[name].desired_shifts:\n",
    "    for i in range(frame.get_global_number_of_atoms()):\n",
    "        for j in range(frame.get_global_number_of_atoms()):\n",
    "            I, J, mic_T = get_T_from_pair(frame, supercell, i, j, dummy_T, kmesh)\n",
    "            mic_T = tuple(mic_T)\n",
    "            if mic_T not in counter_T:\n",
    "                counter_T[mic_T] = np.zeros((natm, natm))\n",
    "            counter_T[mic_T][i,j] += 1"
   ]
  },
  {
   "cell_type": "code",
   "execution_count": 12,
   "metadata": {},
   "outputs": [],
   "source": [
    "T_dict = {}\n",
    "full_T_list = list(counter_T.keys())\n",
    "i0 = 0\n",
    "i_skip = 0\n",
    "for i in range(len(full_T_list)):\n",
    "    \n",
    "    if i < i0 + i_skip:\n",
    "        continue\n",
    "    \n",
    "    summa = 0\n",
    "    counter_list = []\n",
    "    T_list = []\n",
    "    i_skip = 0\n",
    "    while summa != natm**2:\n",
    "        counter_list.append(counter_T[full_T_list[i+i_skip]])\n",
    "        T_list.append(full_T_list[i+i_skip])\n",
    "        summa = np.sum(counter_list)\n",
    "        i_skip += 1\n",
    "    i0 = i\n",
    "    T_dict[full_T_list[i]] = T_list"
   ]
  },
  {
   "cell_type": "code",
   "execution_count": 13,
   "metadata": {},
   "outputs": [],
   "source": [
    "H_T_fix = {}\n",
    "H_minus_T_fix = {}\n",
    "\n",
    "nao = 5\n",
    "natm = frame.get_global_number_of_atoms()\n",
    "\n",
    "for T_dummy in T_dict:\n",
    "    H_T_fix[T_dummy] = np.zeros((natm*nao, natm*nao), dtype = np.complex128)\n",
    "    H_minus_T_fix[T_dummy] = np.zeros((natm*nao, natm*nao), dtype = np.complex128)\n",
    "    for T in T_dict[T_dummy]:\n",
    "        pairs = np.where(counter_T[T])\n",
    "        for i, j in zip(*pairs):\n",
    "            H_T_fix[T_dummy][nao*i:nao*(i+1), nao*j:nao*(j+1)] = fourier_transform(H_k, kpts, T)[nao*i:nao*(i+1), nao*j:nao*(j+1)]\n",
    "            H_minus_T_fix[T_dummy][nao*j:nao*(j+1), nao*i:nao*(i+1)] = fourier_transform(H_k, kpts, -np.array(T))[nao*j:nao*(j+1), nao*i:nao*(i+1)]            \n",
    "            \n",
    "for mic_T in H_T_fix:\n",
    "    assert np.allclose(H_T_fix[mic_T], H_T_fix[mic_T].real), np.allclose(H_T_fix[mic_T], H_T_fix[mic_T].real)\n",
    "    H_T_fix[mic_T] = torch.from_numpy(H_T_fix[mic_T].real)\n",
    "    assert np.allclose(H_minus_T_fix[mic_T], H_minus_T_fix[mic_T].real), np.allclose(H_minus_T_fix[mic_T], H_minus_T_fix[mic_T].real)\n",
    "    H_minus_T_fix[mic_T] = torch.from_numpy(H_minus_T_fix[mic_T].real)"
   ]
  },
  {
   "cell_type": "code",
   "execution_count": 14,
   "metadata": {},
   "outputs": [],
   "source": [
    "# ASSERT H(T) = H(-T)\\dagger\n",
    "for T in H_T_fix:\n",
    "    # print(H_T_fix[T].shape, H_minus_T_fix[T].shape)\n",
    "    assert np.isclose(torch.norm(H_T_fix[T]-H_minus_T_fix[T].T).item(), 0), (T, torch.norm(H_T_fix[T]-H_minus_T_fix[T].T).item())"
   ]
  },
  {
   "cell_type": "code",
   "execution_count": 15,
   "metadata": {},
   "outputs": [],
   "source": [
    "reconstructed_H_k = []\n",
    "for k in kpts:\n",
    "    reconstructed_H_k.append(inverse_fourier_transform(np.array(list(H_T_fix.values())), np.array(list(H_T_fix.keys())), k))\n",
    "    # reconstructed_H_k.append(inverse_fourier_transform(np.array(list(H_minus_T_fix.values())), -np.array(list(H_minus_T_fix.keys())), k))\n",
    "    \n",
    "    # reconstructed_H_k.append(inverse_fourier_transform(np.array(list(H_Tvalues())), np.array(list(H_T.keys())), k))\n",
    "reconstructed_H_k = torch.from_numpy(np.array(reconstructed_H_k))\n",
    "assert reconstructed_H_k.shape == H_k.shape"
   ]
  },
  {
   "cell_type": "code",
   "execution_count": 16,
   "metadata": {},
   "outputs": [
    {
     "name": "stdout",
     "output_type": "stream",
     "text": [
      "tensor(7.6990e-12)\n"
     ]
    }
   ],
   "source": [
    "print(torch.norm(reconstructed_H_k-H_k))"
   ]
  },
  {
   "cell_type": "code",
   "execution_count": 17,
   "metadata": {},
   "outputs": [],
   "source": [
    "# SET matrices translation of the dataset \n",
    "\n",
    "# REMEMBER TO fix orbital order \n",
    "for name in ['hex']: \n",
    "    for ifr in range(len(dataset[name].structures)):\n",
    "        # MUST BE A BETTER WAY TO DO THIS!\n",
    "        for T in H_T_fix:\n",
    "        # for T in dataset[name].matrices_translation[ifr]: \n",
    "            # dataset[name].matrices_translation[ifr][T] = fix_orbital_order(dataset[name].matrices_translation[ifr][T], dataset[name].structures[ifr], dataset[name].basis)\n",
    "            H_T_fix[T] = fix_orbital_order(H_T_fix[T], dataset[name].structures[ifr], dataset[name].basis) # DONT FORGET to symm the matrix to symm\n",
    "            H_minus_T_fix[T] = fix_orbital_order(H_minus_T_fix[T], dataset[name].structures[ifr], dataset[name].basis) # DONT FORGET to symm the matrix to symm\n",
    "\n",
    "dataset[name].set_matrices_translation([H_T_fix])"
   ]
  },
  {
   "cell_type": "markdown",
   "metadata": {},
   "source": [
    "# Compute targets"
   ]
  },
  {
   "cell_type": "code",
   "execution_count": 18,
   "metadata": {},
   "outputs": [],
   "source": [
    "from metatensor import load \n",
    "from mlelec.utils.twocenter_utils import _to_coupled_basis\n",
    "from mlelec.utils.pbc_utils import matrix_to_blocks \n",
    "\n",
    "def get_targets(dataset, negative_shift_matrices, device =\"cpu\"):\n",
    "    blocks = matrix_to_blocks(dataset, negative_shift_matrices, device = 'cpu')\n",
    "    coupled_blocks = _to_coupled_basis(blocks, skip_symmetry = True, device = device, translations = True)\n",
    "    \n",
    "\n",
    "    blocks = blocks.keys_to_samples('cell_shift_a')\n",
    "    blocks = blocks.keys_to_samples('cell_shift_b')\n",
    "    blocks = blocks.keys_to_samples('cell_shift_c')\n",
    "\n",
    "    coupled_blocks = coupled_blocks.keys_to_samples('cell_shift_a')\n",
    "    coupled_blocks = coupled_blocks.keys_to_samples('cell_shift_b')\n",
    "    coupled_blocks = coupled_blocks.keys_to_samples('cell_shift_c')\n",
    "    return blocks , coupled_blocks"
   ]
  },
  {
   "cell_type": "code",
   "execution_count": 19,
   "metadata": {
    "scrolled": true
   },
   "outputs": [
    {
     "name": "stdout",
     "output_type": "stream",
     "text": [
      "TARGET PASSED\n"
     ]
    }
   ],
   "source": [
    "target_blocks = {name: get_targets(dataset[name], [H_minus_T_fix])[0] for name in ['hex']}\n",
    "target_coupled_blocks = {name: get_targets(dataset[name], [H_minus_T_fix])[1] for name in ['hex']}\n",
    "\n",
    "# MUST PASS \n",
    "check_target(target_coupled_blocks[name])"
   ]
  },
  {
   "cell_type": "code",
   "execution_count": 20,
   "metadata": {},
   "outputs": [],
   "source": [
    "# nb = 21\n",
    "# print(target_coupled_blocks['hex'].keys[nb])\n",
    "# print(target_coupled_blocks['hex'][nb].samples.values[95])\n",
    "# print(target_coupled_blocks['hex'][nb].values[95])\n",
    "# print(target_coupled_blocks['hex'][nb].samples.values[159])\n",
    "# print(target_coupled_blocks['hex'][nb].values[159])\n",
    "\n",
    "# nb = 22\n",
    "# print(target_coupled_blocks['hex'].keys[nb])\n",
    "# print(target_coupled_blocks['hex'][nb].samples.values[95])\n",
    "# print(target_coupled_blocks['hex'][nb].values[95])\n",
    "# print(target_coupled_blocks['hex'][nb].samples.values[159])\n",
    "# print(target_coupled_blocks['hex'][nb].values[159])\n",
    "\n",
    "# nb = 25\n",
    "# print(target_coupled_blocks['hex'].keys[nb])\n",
    "# print(target_coupled_blocks['hex'][nb].samples.values[95])\n",
    "# print(target_coupled_blocks['hex'][nb].values[95])\n",
    "# print(target_coupled_blocks['hex'][nb].samples.values[159])\n",
    "# print(target_coupled_blocks['hex'][nb].values[159])\n",
    "\n",
    "# nb = 26\n",
    "# print(target_coupled_blocks['hex'].keys[nb])\n",
    "# print(target_coupled_blocks['hex'][nb].samples.values[95])\n",
    "# print(target_coupled_blocks['hex'][nb].values[95])\n",
    "# print(target_coupled_blocks['hex'][nb].samples.values[159])\n",
    "# print(target_coupled_blocks['hex'][nb].values[159])"
   ]
  },
  {
   "cell_type": "code",
   "execution_count": 36,
   "metadata": {},
   "outputs": [],
   "source": [
    "# for k, b in target_coupled_blocks[name].items():\n",
    "#     print(k, torch.norm(b.values))"
   ]
  },
  {
   "cell_type": "code",
   "execution_count": 37,
   "metadata": {},
   "outputs": [
    {
     "name": "stdout",
     "output_type": "stream",
     "text": [
      "(0, 2, 0) no\n",
      "(2, 0, 0) no\n",
      "(-2, 2, 0) no\n"
     ]
    }
   ],
   "source": [
    "for T in H_T_fix:\n",
    "    if tuple(np.int32(-np.array(T))) not in H_T_fix:\n",
    "        print(T, 'no')\n",
    "    # else:\n",
    "        # print(T, 'yes')"
   ]
  },
  {
   "cell_type": "code",
   "execution_count": 38,
   "metadata": {},
   "outputs": [
    {
     "data": {
      "text/plain": [
       "(16, 3)"
      ]
     },
     "execution_count": 38,
     "metadata": {},
     "output_type": "execute_result"
    }
   ],
   "source": [
    "np.unique(np.array(target_coupled_blocks['hex'][12].samples.view(['cell_shift_a','cell_shift_b','cell_shift_c']).values.tolist()),axis=0).shape"
   ]
  },
  {
   "cell_type": "markdown",
   "metadata": {},
   "source": [
    "## Reconstruct H_T, H_T_minus from the blocks "
   ]
  },
  {
   "cell_type": "code",
   "execution_count": 39,
   "metadata": {
    "scrolled": true
   },
   "outputs": [],
   "source": [
    "from mlelec.utils.twocenter_utils import _to_matrix, _to_uncoupled_basis\n",
    "from mlelec.utils.pbc_utils import blocks_to_matrix\n",
    "predblocks = target_coupled_blocks['hex']\n",
    "predblocks_un = _to_uncoupled_basis(predblocks)\n",
    "recon_blocks = {}\n",
    "tblocks = []\n",
    "tblock_keys = []\n",
    "for translation in dataset['hex'].desired_shifts[0]:\n",
    "    block_keys = []\n",
    "    blocks = []\n",
    "    for key, block in predblocks_un.items():\n",
    "            # TODO: replace labels_where\n",
    "            # try:\n",
    "            if True:\n",
    "                lbl =Labels(\n",
    "                        [\"cell_shift_a\", \"cell_shift_b\", \"cell_shift_c\"],\n",
    "                        values=np.asarray(\n",
    "                            [translation[0], translation[1], translation[2]]\n",
    "                        ).reshape(1, -1),\n",
    "                    )\n",
    "                xx = block.samples.view([\"cell_shift_a\", \"cell_shift_b\", \"cell_shift_c\"]).values\n",
    "                idx = np.where(np.all(np.isclose(np.array(xx),np.array([translation[0], translation[1], translation[2]])), \n",
    "                                      axis = 1))[0]\n",
    "\n",
    "\n",
    "            # except:\n",
    "            #     print(\"{} not found in {}\".format(translation, key))\n",
    "            #     continue\n",
    "\n",
    "            if len(idx):\n",
    "                tblock_keys.append(list(key.values)+[translation[0], translation[1], translation[2]])\n",
    "    \n",
    "                tblocks.append( TensorBlock(\n",
    "                        samples=Labels(\n",
    "                            predblocks.sample_names[:-3],\n",
    "                            values=np.asarray(block.samples.values[idx])[:, :-3],\n",
    "                        ),\n",
    "                        values=block.values[idx],\n",
    "                        components=block.components,\n",
    "                        properties=block.properties,\n",
    "                    ))\n",
    "                \n",
    "\n",
    "tmap = TensorMap(Labels(predblocks_un.keys.names+[\"cell_shift_a\", \"cell_shift_b\", \"cell_shift_c\"],np.asarray(tblock_keys)), tblocks)\n",
    "predfocks, predfocks_m = blocks_to_matrix(tmap, dataset['hex'])\n"
   ]
  },
  {
   "cell_type": "code",
   "execution_count": 26,
   "metadata": {
    "scrolled": true
   },
   "outputs": [],
   "source": [
    "# for T in predfocks[0]: \n",
    "#     for i in range(2):\n",
    "#         for j in range(2):\n",
    "#             m1 = predfocks[0][T].clone()[i*5:(i+1)*5, j*5:(j+1)*5]\n",
    "#             m2 = dataset['hex'].matrices_translation[0][T].clone()[i*5:(i+1)*5, j*5:(j+1)*5]\n",
    "#             mask = torch.abs(m2)<1e-11\n",
    "#             m2[mask]=0\n",
    "#             m1[mask]=1\n",
    "#             for row in m2/m1:\n",
    "#                 for v in row:\n",
    "#                     print(f'{v:>15.5f}', end = ' ')\n",
    "#                 print()"
   ]
  },
  {
   "cell_type": "code",
   "execution_count": 27,
   "metadata": {},
   "outputs": [],
   "source": [
    "# tmap = tmap.keys_to_samples('cell_shift_a')\n",
    "# tmap = tmap.keys_to_samples('cell_shift_b')\n",
    "# tmap = tmap.keys_to_samples('cell_shift_c')\n",
    "# for k, b in target_blocks['hex'].items():\n",
    "    # print(torch.linalg.norm(tmap.block(k).values - b.values))"
   ]
  },
  {
   "cell_type": "code",
   "execution_count": null,
   "metadata": {},
   "outputs": [],
   "source": [
    "# Error on reconstructed fock matrices from blocks \n",
    "i=1\n",
    "j=0\n",
    "for T in predfocks[0]:\n",
    "    # idx1=slice(i*5,(i+1)*5)\n",
    "    # idx2=slice(j*5,(j+1)*5)\n",
    "    sum1 = predfocks[0][T]#[idx1, idx2]# + predfocks_m[T][0][idx2, idx1]\n",
    "    sum2 = dataset[name].matrices_translation[0][T]#[idx1, idx2] #+ H_minus_T_fix[T][idx2, idx1]\n",
    "    try: \n",
    "        assert torch.norm(sum1 - sum2)<1e-10\n",
    "    except AssertionError: \n",
    "        print(T, torch.norm(sum1 - sum2), torch.norm(sum1), torch.norm(sum2)) #, torch.norm(predfocks[T][0][idx1, idx2]), torch(predfocks_m[T][0][idx2, idx1]), H_minus_T_fix[T][idx2, idx1], )"
   ]
  },
  {
   "cell_type": "markdown",
   "metadata": {},
   "source": [
    "# Features"
   ]
  },
  {
   "cell_type": "code",
   "execution_count": 21,
   "metadata": {},
   "outputs": [],
   "source": [
    "from mlelec.features.acdc import pair_features, single_center_features, twocenter_features_periodic_NH\n",
    "\n",
    "def get_pair_features(frames, hypers_atoms, hypers_pair, order_nu, all_pairs, both_centers, max_shift,  desired_shifts, mic, kmesh, device, lcut,return_rho0ij,counter,T_dict):\n",
    "    return pair_features(frames, hypers_atoms, hypers_pair, order_nu=order_nu, all_pairs=all_pairs, both_centers=both_centers, max_shift=max_shift,\n",
    "            desired_shifts=desired_shifts, mic=mic, kmesh=kmesh, device=device, lcut=lcut,return_rho0ij=return_rho0ij, counter = counter, T_dict = T_dict)\n",
    "\n",
    "def rascaline_gij(dataset):\n",
    "    from mlelec.features.acdc_utils import fix_gij, acdc_standardize_keys\n",
    "    hypers_pair = {'cutoff': 12,\n",
    "            'max_radial':10,\n",
    "            'max_angular':4,\n",
    "            'atomic_gaussian_width':0.6,\n",
    "            'center_atom_weight':1,\n",
    "            \"radial_basis\": {\"Gto\": {}},\n",
    "            \"cutoff_function\": {\"ShiftedCosine\": {\"width\": 0.1}},\n",
    "    }\n",
    "    from rascaline import SphericalExpansionByPair \n",
    "    calculator = SphericalExpansionByPair(**hypers_pair)\n",
    "    gij= calculator.compute(dataset.structures)\n",
    "    gij = fix_gij(gij)\n",
    "    gij = acdc_standardize_keys(gij)\n",
    "    return gij\n",
    "\n",
    "def compute_features(dataset, counter = None, T_dict = None, return_rho0ij = False, both_centers=True):\n",
    "# +\n",
    "    hypers_pair = {'cutoff': 4,\n",
    "            'max_radial':10,\n",
    "            'max_angular':4,\n",
    "            'atomic_gaussian_width':0.6,\n",
    "            'center_atom_weight':1,\n",
    "            \"radial_basis\": {\"Gto\": {}},\n",
    "            \"cutoff_function\": {\"ShiftedCosine\": {\"width\": 0.1}},\n",
    "    }\n",
    "\n",
    "    hypers_atom = {'cutoff': 4,\n",
    "            'max_radial':10,\n",
    "            'max_angular':4,\n",
    "            'atomic_gaussian_width':0.3,\n",
    "            'center_atom_weight':1,\n",
    "            \"radial_basis\": {\"Gto\": {}},\n",
    "            \"cutoff_function\": {\"ShiftedCosine\": {\"width\": 0.1}},\n",
    "    }\n",
    "    device = \"cpu\"\n",
    "    # -\n",
    "\n",
    "    LCUT = 3 #2*np.max([np.max( np.asarray(orbitals[ORBS][k])[:,1]) for k in orbitals[ORBS]])\n",
    "    print(\"LCUT\", LCUT)\n",
    "\n",
    "    if both_centers and not return_rho0ij:\n",
    "        NU = 3\n",
    "    else:\n",
    "        NU = 2\n",
    "\n",
    "    print(return_rho0ij)\n",
    "\n",
    "    rhoij = get_pair_features(dataset.structures, hypers_atom, hypers_pair, order_nu = 1, all_pairs = True, both_centers = both_centers,\n",
    "                                max_shift = dataset.kmesh[0] ,  desired_shifts = dataset.desired_shifts, mic = True,\n",
    "                                kmesh = dataset.kmesh[0], device=\"cpu\", lcut = LCUT, return_rho0ij = return_rho0ij, counter = counter, T_dict = T_dict)\n",
    "\n",
    "    print('rhoij computed')\n",
    "    if return_rho0ij:\n",
    "        # return rhoij\n",
    "        NU = 1 \n",
    "    rhonui = single_center_features(dataset.structures, hypers_atom, order_nu = NU, lcut=LCUT, device = device,\n",
    "                                    feature_names = rhoij.property_names)\n",
    "    # save('rhonui', rhonui, use_numpy = True)\n",
    "    # print(\"rhonui saved\", flush = True)\n",
    "    return rhonui, rhoij\n",
    "\n",
    "def compute_hfeat(rhonui, rhoij):\n",
    "    hfeat = twocenter_features_periodic_NH(single_center=rhonui, pair= rhoij)\n",
    "    return hfeat"
   ]
  },
  {
   "cell_type": "code",
   "execution_count": 22,
   "metadata": {},
   "outputs": [
    {
     "name": "stdout",
     "output_type": "stream",
     "text": [
      "LCUT 3\n",
      "True\n",
      "hypers_pair {'cutoff': 12.0, 'max_radial': 10, 'max_angular': 4, 'atomic_gaussian_width': 0.6, 'center_atom_weight': 1, 'radial_basis': {'Gto': {}}, 'cutoff_function': {'ShiftedCosine': {'width': 0.1}}}\n"
     ]
    },
    {
     "name": "stderr",
     "output_type": "stream",
     "text": [
      "/home/pegolo/Software/my_mlelec/src/mlelec/features/acdc.py:145: UserWarning: Using cutoff 12.0 for all pairs feature\n",
      "  warnings.warn(\n",
      "/home/pegolo/Software/my_mlelec/src/mlelec/features/acdc.py:167: UserWarning: Using kmesh [4, 4, 1] for MIC mapping\n",
      "  warnings.warn(f\"Using kmesh {kmesh} for MIC mapping\")\n"
     ]
    },
    {
     "name": "stdout",
     "output_type": "stream",
     "text": [
      "rhoij computed\n",
      "3\n",
      "l 0\n",
      "k [1 1 0 6 6]\n",
      "values tensor(0.) tensor(0.) tensor(7.7697) tensor(3.8849) tensor(3.8849) stupid tensor([], dtype=torch.int64)\n",
      "3\n",
      "l 1\n",
      "k [1 1 1 6 6]\n",
      "values tensor(0.) tensor(12.4903) tensor(0.) tensor(6.2451) tensor(6.2451) stupid tensor([], dtype=torch.int64)\n",
      "3\n",
      "l 2\n",
      "k [1 1 2 6 6]\n",
      "values tensor(0.) tensor(0.) tensor(14.4789) tensor(7.2394) tensor(7.2394) stupid tensor([], dtype=torch.int64)\n",
      "3\n",
      "l 3\n",
      "k [1 1 3 6 6]\n",
      "values tensor(0.) tensor(15.3405) tensor(0.) tensor(7.6702) tensor(7.6702) stupid tensor([], dtype=torch.int64)\n",
      "3\n",
      "l 4\n",
      "k [1 1 4 6 6]\n",
      "values tensor(0.) tensor(0.) tensor(15.6820) tensor(7.8410) tensor(7.8410) stupid tensor([], dtype=torch.int64)\n",
      "gij PASSED\n"
     ]
    }
   ],
   "source": [
    "# CHECK GIJ \n",
    "return_gij = True\n",
    "both_centers = True\n",
    "rhonui, rhoij = compute_features(dataset[name], return_rho0ij=return_gij, counter = [counter_T], T_dict = [T_dict], both_centers = both_centers)\n",
    "hfeat = compute_hfeat(rhonui, rhoij)\n",
    "check_gij(hfeat)\n"
   ]
  },
  {
   "cell_type": "code",
   "execution_count": 23,
   "metadata": {
    "scrolled": true
   },
   "outputs": [
    {
     "name": "stdout",
     "output_type": "stream",
     "text": [
      "LCUT 3\n",
      "False\n",
      "hypers_pair {'cutoff': 12.0, 'max_radial': 10, 'max_angular': 4, 'atomic_gaussian_width': 0.6, 'center_atom_weight': 1, 'radial_basis': {'Gto': {}}, 'cutoff_function': {'ShiftedCosine': {'width': 0.1}}}\n"
     ]
    },
    {
     "name": "stderr",
     "output_type": "stream",
     "text": [
      "/home/pegolo/Software/my_mlelec/src/mlelec/features/acdc.py:269: UserWarning: nu_j not defined, using nu_i for nu_j as well\n",
      "  warnings.warn(\"nu_j not defined, using nu_i for nu_j as well\")\n"
     ]
    },
    {
     "name": "stdout",
     "output_type": "stream",
     "text": [
      "rhoij computed\n",
      "3\n",
      "l 0\n",
      "k [3 1 0 6 6]\n",
      "values tensor(6.6019) tensor(6.6019) tensor(25.9454) tensor(13.3861) tensor(13.3861) stupid tensor([   0,    2,    5,    9,   12,   13,   31,   32,   33,   34,   35,   36,\n",
      "          41,   42,   43,   44,   45,   46,   63,   64,   65,   67,   68,   69,\n",
      "          71,   72,   73,   74,   76,   77,   96,   97,   99,  100,  102,  103,\n",
      "         104,  106,  107,  108,  109,  110,  143,  145,  148,  152,  155,  156,\n",
      "         174,  175,  176,  177,  178,  179,  184,  185,  186,  187,  188,  189,\n",
      "         206,  207,  208,  210,  211,  212,  214,  215,  216,  217,  219,  220,\n",
      "         239,  240,  242,  243,  245,  246,  247,  249,  250,  251,  252,  253,\n",
      "         254,  255,  256,  257,  258,  259,  264,  265,  266,  267,  268,  269,\n",
      "         286,  288,  291,  295,  298,  299,  317,  319,  320,  322,  323,  325,\n",
      "         326,  327,  329,  330,  331,  332,  349,  350,  351,  353,  354,  355,\n",
      "         357,  358,  359,  360,  362,  363,  397,  398,  399,  400,  401,  402,\n",
      "         407,  408,  409,  410,  411,  412,  429,  431,  434,  438,  441,  442,\n",
      "         460,  462,  463,  465,  466,  468,  469,  470,  472,  473,  474,  475,\n",
      "         492,  493,  494,  496,  497,  498,  500,  501,  502,  503,  505,  506,\n",
      "         508,  509,  510,  512,  513,  514,  516,  517,  518,  519,  521,  522,\n",
      "         540,  542,  543,  545,  546,  548,  549,  550,  552,  553,  554,  555,\n",
      "         572,  574,  577,  581,  584,  585,  603,  604,  605,  606,  607,  608,\n",
      "         613,  614,  615,  616,  617,  618,  651,  652,  653,  655,  656,  657,\n",
      "         659,  660,  661,  662,  664,  665,  683,  685,  686,  688,  689,  691,\n",
      "         692,  693,  695,  696,  697,  698,  715,  717,  720,  724,  727,  728,\n",
      "         746,  747,  748,  749,  750,  751,  756,  757,  758,  759,  760,  761,\n",
      "         762,  763,  764,  765,  766,  768,  769,  771,  772,  773,  775,  777,\n",
      "         794,  795,  796,  798,  799,  800,  802,  803,  804,  805,  807,  808,\n",
      "         826,  827,  828,  829,  830,  831,  836,  837,  838,  839,  840,  841,\n",
      "         858,  860,  863,  867,  870,  871,  905,  906,  907,  908,  909,  911,\n",
      "         912,  914,  915,  916,  918,  920,  937,  938,  939,  941,  942,  943,\n",
      "         945,  946,  947,  948,  950,  951,  969,  970,  971,  972,  973,  974,\n",
      "         979,  980,  981,  982,  983,  984, 1001, 1003, 1006, 1010, 1013, 1014])\n",
      "3\n",
      "l 1\n",
      "k [3 1 1 6 6]\n",
      "values tensor(15.6109) tensor(42.6311) tensor(15.6109) tensor(22.6997) tensor(22.6997) stupid tensor([   0,    1,    2,    3,    4,    5,    6,    7,    8,    9,   10,   11,\n",
      "          12,   13,   14,   31,   32,   33,   34,   35,   36,   37,   38,   39,\n",
      "          40,   41,   42,   43,   44,   45,   46,   63,   64,   65,   66,   67,\n",
      "          68,   69,   70,   71,   72,   73,   74,   75,   76,   77,   78,   95,\n",
      "          96,   97,   98,   99,  100,  101,  102,  103,  104,  105,  106,  107,\n",
      "         108,  109,  110,  143,  144,  145,  146,  147,  148,  149,  150,  151,\n",
      "         152,  153,  154,  155,  156,  157,  174,  175,  176,  177,  178,  179,\n",
      "         180,  181,  182,  183,  184,  185,  186,  187,  188,  189,  206,  207,\n",
      "         208,  209,  210,  211,  212,  213,  214,  215,  216,  217,  218,  219,\n",
      "         220,  221,  238,  239,  240,  241,  242,  243,  244,  245,  246,  247,\n",
      "         248,  249,  250,  251,  252,  253,  254,  255,  256,  257,  258,  259,\n",
      "         260,  261,  262,  263,  264,  265,  266,  267,  268,  269,  286,  287,\n",
      "         288,  289,  290,  291,  292,  293,  294,  295,  296,  297,  298,  299,\n",
      "         300,  317,  318,  319,  320,  321,  322,  323,  324,  325,  326,  327,\n",
      "         328,  329,  330,  331,  332,  349,  350,  351,  352,  353,  354,  355,\n",
      "         356,  357,  358,  359,  360,  361,  362,  363,  364,  397,  398,  399,\n",
      "         400,  401,  402,  403,  404,  405,  406,  407,  408,  409,  410,  411,\n",
      "         412,  429,  430,  431,  432,  433,  434,  435,  436,  437,  438,  439,\n",
      "         440,  441,  442,  443,  460,  461,  462,  463,  464,  465,  466,  467,\n",
      "         468,  469,  470,  471,  472,  473,  474,  475,  492,  493,  494,  495,\n",
      "         496,  497,  498,  499,  500,  501,  502,  503,  504,  505,  506,  507,\n",
      "         508,  509,  510,  511,  512,  513,  514,  515,  516,  517,  518,  519,\n",
      "         520,  521,  522,  523,  540,  541,  542,  543,  544,  545,  546,  547,\n",
      "         548,  549,  550,  551,  552,  553,  554,  555,  572,  573,  574,  575,\n",
      "         576,  577,  578,  579,  580,  581,  582,  583,  584,  585,  586,  603,\n",
      "         604,  605,  606,  607,  608,  609,  610,  611,  612,  613,  614,  615,\n",
      "         616,  617,  618,  651,  652,  653,  654,  655,  656,  657,  658,  659,\n",
      "         660,  661,  662,  663,  664,  665,  666,  683,  684,  685,  686,  687,\n",
      "         688,  689,  690,  691,  692,  693,  694,  695,  696,  697,  698,  715,\n",
      "         716,  717,  718,  719,  720,  721,  722,  723,  724,  725,  726,  727,\n",
      "         728,  729,  746,  747,  748,  749,  750,  751,  752,  753,  754,  755,\n",
      "         756,  757,  758,  759,  760,  761,  762,  763,  764,  765,  766,  767,\n",
      "         768,  769,  770,  771,  772,  773,  774,  775,  776,  777,  794,  795,\n",
      "         796,  797,  798,  799,  800,  801,  802,  803,  804,  805,  806,  807,\n",
      "         808,  809,  826,  827,  828,  829,  830,  831,  832,  833,  834,  835,\n",
      "         836,  837,  838,  839,  840,  841,  858,  859,  860,  861,  862,  863,\n",
      "         864,  865,  866,  867,  868,  869,  870,  871,  872,  905,  906,  907,\n",
      "         908,  909,  910,  911,  912,  913,  914,  915,  916,  917,  918,  919,\n",
      "         920,  937,  938,  939,  940,  941,  942,  943,  944,  945,  946,  947,\n",
      "         948,  949,  950,  951,  952,  969,  970,  971,  972,  973,  974,  975,\n",
      "         976,  977,  978,  979,  980,  981,  982,  983,  984, 1001, 1002, 1003,\n",
      "        1004, 1005, 1006, 1007, 1008, 1009, 1010, 1011, 1012, 1013, 1014, 1015])\n",
      "3\n",
      "l 2\n",
      "k [3 1 2 6 6]\n",
      "values tensor(20.0911) tensor(20.0911) tensor(60.3297) tensor(31.7936) tensor(31.7936) stupid tensor([   0,    1,    2,    3,    4,    5,    6,    7,    8,    9,   10,   11,\n",
      "          12,   13,   14,   31,   32,   33,   34,   35,   36,   37,   38,   39,\n",
      "          40,   41,   42,   43,   44,   45,   46,   63,   64,   65,   66,   67,\n",
      "          68,   69,   70,   71,   72,   73,   74,   75,   76,   77,   78,   95,\n",
      "          96,   97,   98,   99,  100,  101,  102,  103,  104,  105,  106,  107,\n",
      "         108,  109,  110,  143,  144,  145,  146,  147,  148,  149,  150,  151,\n",
      "         152,  153,  154,  155,  156,  157,  174,  175,  176,  177,  178,  179,\n",
      "         180,  181,  182,  183,  184,  185,  186,  187,  188,  189,  206,  207,\n",
      "         208,  209,  210,  211,  212,  213,  214,  215,  216,  217,  218,  219,\n",
      "         220,  221,  238,  239,  240,  241,  242,  243,  244,  245,  246,  247,\n",
      "         248,  249,  250,  251,  252,  253,  254,  255,  256,  257,  258,  259,\n",
      "         260,  261,  262,  263,  264,  265,  266,  267,  268,  269,  286,  287,\n",
      "         288,  289,  290,  291,  292,  293,  294,  295,  296,  297,  298,  299,\n",
      "         300,  317,  318,  319,  320,  321,  322,  323,  324,  325,  326,  327,\n",
      "         328,  329,  330,  331,  332,  349,  350,  351,  352,  353,  354,  355,\n",
      "         356,  357,  358,  359,  360,  361,  362,  363,  364,  397,  398,  399,\n",
      "         400,  401,  402,  403,  404,  405,  406,  407,  408,  409,  410,  411,\n",
      "         412,  429,  430,  431,  432,  433,  434,  435,  436,  437,  438,  439,\n",
      "         440,  441,  442,  443,  460,  461,  462,  463,  464,  465,  466,  467,\n",
      "         468,  469,  470,  471,  472,  473,  474,  475,  492,  493,  494,  495,\n",
      "         496,  497,  498,  499,  500,  501,  502,  503,  504,  505,  506,  507,\n",
      "         508,  509,  510,  511,  512,  513,  514,  515,  516,  517,  518,  519,\n",
      "         520,  521,  522,  523,  540,  541,  542,  543,  544,  545,  546,  547,\n",
      "         548,  549,  550,  551,  552,  553,  554,  555,  572,  573,  574,  575,\n",
      "         576,  577,  578,  579,  580,  581,  582,  583,  584,  585,  586,  603,\n",
      "         604,  605,  606,  607,  608,  609,  610,  611,  612,  613,  614,  615,\n",
      "         616,  617,  618,  651,  652,  653,  654,  655,  656,  657,  658,  659,\n",
      "         660,  661,  662,  663,  664,  665,  666,  683,  684,  685,  686,  687,\n",
      "         688,  689,  690,  691,  692,  693,  694,  695,  696,  697,  698,  715,\n",
      "         716,  717,  718,  719,  720,  721,  722,  723,  724,  725,  726,  727,\n",
      "         728,  729,  746,  747,  748,  749,  750,  751,  752,  753,  754,  755,\n",
      "         756,  757,  758,  759,  760,  761,  762,  763,  764,  765,  766,  767,\n",
      "         768,  769,  770,  771,  772,  773,  774,  775,  776,  777,  794,  795,\n",
      "         796,  797,  798,  799,  800,  801,  802,  803,  804,  805,  806,  807,\n",
      "         808,  809,  826,  827,  828,  829,  830,  831,  832,  833,  834,  835,\n",
      "         836,  837,  838,  839,  840,  841,  858,  859,  860,  861,  862,  863,\n",
      "         864,  865,  866,  867,  868,  869,  870,  871,  872,  905,  906,  907,\n",
      "         908,  909,  910,  911,  912,  913,  914,  915,  916,  917,  918,  919,\n",
      "         920,  937,  938,  939,  940,  941,  942,  943,  944,  945,  946,  947,\n",
      "         948,  949,  950,  951,  952,  969,  970,  971,  972,  973,  974,  975,\n",
      "         976,  977,  978,  979,  980,  981,  982,  983,  984, 1001, 1002, 1003,\n",
      "        1004, 1005, 1006, 1007, 1008, 1009, 1010, 1011, 1012, 1013, 1014, 1015])\n",
      "3\n",
      "l 3\n",
      "k [3 1 3 6 6]\n",
      "values tensor(23.9404) tensor(63.3072) tensor(23.9404) tensor(33.8413) tensor(33.8413) stupid tensor([   0,    1,    2,    3,    4,    5,    6,    7,    8,    9,   10,   11,\n",
      "          12,   13,   14,   31,   32,   33,   34,   35,   36,   37,   38,   39,\n",
      "          40,   41,   42,   43,   44,   45,   46,   63,   64,   65,   66,   67,\n",
      "          68,   69,   70,   71,   72,   73,   74,   75,   76,   77,   78,   95,\n",
      "          96,   97,   98,   99,  100,  101,  102,  103,  104,  105,  106,  107,\n",
      "         108,  109,  110,  143,  144,  145,  146,  147,  148,  149,  150,  151,\n",
      "         152,  153,  154,  155,  156,  157,  174,  175,  176,  177,  178,  179,\n",
      "         180,  181,  182,  183,  184,  185,  186,  187,  188,  189,  206,  207,\n",
      "         208,  209,  210,  211,  212,  213,  214,  215,  216,  217,  218,  219,\n",
      "         220,  221,  238,  239,  240,  241,  242,  243,  244,  245,  246,  247,\n",
      "         248,  249,  250,  251,  252,  253,  254,  255,  256,  257,  258,  259,\n",
      "         260,  261,  262,  263,  264,  265,  266,  267,  268,  269,  286,  287,\n",
      "         288,  289,  290,  291,  292,  293,  294,  295,  296,  297,  298,  299,\n",
      "         300,  317,  318,  319,  320,  321,  322,  323,  324,  325,  326,  327,\n",
      "         328,  329,  330,  331,  332,  349,  350,  351,  352,  353,  354,  355,\n",
      "         356,  357,  358,  359,  360,  361,  362,  363,  364,  397,  398,  399,\n",
      "         400,  401,  402,  403,  404,  405,  406,  407,  408,  409,  410,  411,\n",
      "         412,  429,  430,  431,  432,  433,  434,  435,  436,  437,  438,  439,\n",
      "         440,  441,  442,  443,  460,  461,  462,  463,  464,  465,  466,  467,\n",
      "         468,  469,  470,  471,  472,  473,  474,  475,  492,  493,  494,  495,\n",
      "         496,  497,  498,  499,  500,  501,  502,  503,  504,  505,  506,  507,\n",
      "         508,  509,  510,  511,  512,  513,  514,  515,  516,  517,  518,  519,\n",
      "         520,  521,  522,  523,  540,  541,  542,  543,  544,  545,  546,  547,\n",
      "         548,  549,  550,  551,  552,  553,  554,  555,  572,  573,  574,  575,\n",
      "         576,  577,  578,  579,  580,  581,  582,  583,  584,  585,  586,  603,\n",
      "         604,  605,  606,  607,  608,  609,  610,  611,  612,  613,  614,  615,\n",
      "         616,  617,  618,  651,  652,  653,  654,  655,  656,  657,  658,  659,\n",
      "         660,  661,  662,  663,  664,  665,  666,  683,  684,  685,  686,  687,\n",
      "         688,  689,  690,  691,  692,  693,  694,  695,  696,  697,  698,  715,\n",
      "         716,  717,  718,  719,  720,  721,  722,  723,  724,  725,  726,  727,\n",
      "         728,  729,  746,  747,  748,  749,  750,  751,  752,  753,  754,  755,\n",
      "         756,  757,  758,  759,  760,  761,  762,  763,  764,  765,  766,  767,\n",
      "         768,  769,  770,  771,  772,  773,  774,  775,  776,  777,  794,  795,\n",
      "         796,  797,  798,  799,  800,  801,  802,  803,  804,  805,  806,  807,\n",
      "         808,  809,  826,  827,  828,  829,  830,  831,  832,  833,  834,  835,\n",
      "         836,  837,  838,  839,  840,  841,  858,  859,  860,  861,  862,  863,\n",
      "         864,  865,  866,  867,  868,  869,  870,  871,  872,  905,  906,  907,\n",
      "         908,  909,  910,  911,  912,  913,  914,  915,  916,  917,  918,  919,\n",
      "         920,  937,  938,  939,  940,  941,  942,  943,  944,  945,  946,  947,\n",
      "         948,  949,  950,  951,  952,  969,  970,  971,  972,  973,  974,  975,\n",
      "         976,  977,  978,  979,  980,  981,  982,  983,  984, 1001, 1002, 1003,\n",
      "        1004, 1005, 1006, 1007, 1008, 1009, 1010, 1011, 1012, 1013, 1014, 1015])\n",
      "3\n",
      "l 1\n",
      "k [ 3 -1  1  6  6]\n",
      "values tensor(10.1208) tensor(12.6629) tensor(10.1208) tensor(8.1052) tensor(8.1052) stupid tensor([  15,   16,   18,   19,   20,   21,   23,   24,   25,   26,   27,   29,\n",
      "          30,   47,   48,   49,   50,   52,   54,   55,   56,   57,   58,   59,\n",
      "          61,   62,   79,   80,   81,   83,   84,   85,   86,   87,   88,   89,\n",
      "          91,   93,   94,  111,  115,  116,  119,  121,  122,  123,  124,  125,\n",
      "         127,  128,  130,  131,  132,  133,  135,  136,  137,  138,  139,  141,\n",
      "         142,  158,  159,  160,  161,  162,  164,  166,  167,  169,  170,  171,\n",
      "         172,  173,  191,  192,  193,  194,  195,  196,  198,  199,  200,  201,\n",
      "         202,  203,  205,  222,  223,  227,  230,  231,  232,  234,  236,  237,\n",
      "         270,  271,  272,  273,  274,  276,  278,  279,  281,  282,  283,  284,\n",
      "         285,  301,  302,  304,  305,  306,  307,  309,  310,  311,  312,  313,\n",
      "         315,  316,  334,  335,  338,  342,  343,  344,  345,  346,  348,  365,\n",
      "         366,  367,  369,  370,  371,  372,  373,  374,  375,  377,  379,  380,\n",
      "         381,  382,  384,  385,  386,  387,  388,  390,  391,  393,  394,  395,\n",
      "         396,  413,  414,  416,  417,  418,  419,  421,  422,  423,  424,  425,\n",
      "         427,  428,  444,  445,  446,  450,  453,  455,  457,  458,  459,  477,\n",
      "         478,  479,  480,  481,  482,  484,  485,  486,  487,  488,  489,  491,\n",
      "         525,  526,  527,  528,  529,  530,  532,  533,  534,  535,  536,  537,\n",
      "         539,  556,  557,  558,  560,  564,  565,  569,  570,  571,  587,  588,\n",
      "         590,  591,  592,  593,  595,  596,  597,  598,  599,  601,  602,  619,\n",
      "         620,  621,  622,  624,  626,  627,  628,  629,  630,  631,  633,  634,\n",
      "         635,  636,  638,  640,  641,  642,  643,  644,  645,  646,  648,  649,\n",
      "         650,  668,  669,  670,  671,  672,  676,  677,  680,  682,  699,  700,\n",
      "         702,  703,  704,  705,  707,  708,  709,  710,  711,  713,  714,  730,\n",
      "         731,  732,  733,  734,  736,  738,  739,  741,  742,  743,  744,  745,\n",
      "         778,  779,  781,  783,  784,  787,  788,  792,  793,  811,  812,  813,\n",
      "         814,  815,  816,  818,  819,  820,  821,  822,  823,  825,  842,  843,\n",
      "         844,  845,  846,  848,  850,  851,  853,  854,  855,  856,  857,  873,\n",
      "         874,  876,  877,  878,  879,  881,  882,  883,  884,  885,  887,  888,\n",
      "         889,  891,  892,  893,  894,  895,  899,  900,  903,  921,  922,  924,\n",
      "         926,  927,  928,  929,  930,  931,  932,  934,  935,  936,  953,  954,\n",
      "         956,  957,  958,  959,  960,  962,  963,  965,  966,  967,  968,  985,\n",
      "         986,  988,  989,  990,  991,  993,  994,  995,  996,  997,  999, 1000])\n",
      "3\n",
      "l 2\n",
      "k [ 3 -1  2  6  6]\n",
      "values tensor(35.5348) tensor(35.5348) tensor(16.0733) tensor(19.5005) tensor(19.5005) stupid tensor([   0,    1,    2,  ..., 1013, 1014, 1015])\n",
      "3\n",
      "l 3\n",
      "k [ 3 -1  3  6  6]\n",
      "values tensor(36.1635) tensor(17.8364) tensor(36.1635) tensor(20.1614) tensor(20.1614) stupid tensor([   0,    1,    2,  ..., 1013, 1014, 1015])\n",
      "3\n",
      "l 0\n",
      "k [ 3 -1  0  6  6]\n",
      "values tensor(0.) tensor(0.) tensor(0.) tensor(0.) tensor(0.) stupid tensor([], dtype=torch.int64)\n"
     ]
    }
   ],
   "source": [
    "return_gij = False\n",
    "both_centers = True\n",
    "rhonui, rhoij = compute_features(dataset[name], return_rho0ij=return_gij, counter = [counter_T], T_dict=[T_dict], both_centers = both_centers)\n",
    "hfeat = compute_hfeat(rhonui, rhoij)"
   ]
  },
  {
   "cell_type": "code",
   "execution_count": null,
   "metadata": {
    "scrolled": true
   },
   "outputs": [],
   "source": [
    "# Missing keys in targets vs feats\n",
    "# flabel=Labels(hfeat.sample_names[:-1], hfeat[12].samples.values[:,:-1])\n",
    "# first = target_coupled_blocks['hex'][12].samples\n",
    "# intersection, mapping_1, mapping_2 = first.intersection_and_mapping(flabel)\n",
    "# print(flabel.values[mapping_2==-1])"
   ]
  },
  {
   "cell_type": "code",
   "execution_count": null,
   "metadata": {},
   "outputs": [],
   "source": [
    "for k, b in hfeat.items():\n",
    "    print(k, torch.norm(b.values))"
   ]
  },
  {
   "cell_type": "code",
   "execution_count": 24,
   "metadata": {},
   "outputs": [],
   "source": [
    "from mlelec.models.linear import LinearModelPeriodic\n",
    "device='cpu'"
   ]
  },
  {
   "cell_type": "code",
   "execution_count": 25,
   "metadata": {},
   "outputs": [],
   "source": [
    "def train_ridge(model, target_blocks, set_bias=False):\n",
    "    block_losses = {}\n",
    "    loss = 0\n",
    "    pred, ridges, kernels = model.fit_ridge_analytical(return_matrix = False, set_bias = set_bias)\n",
    "\n",
    "    for (key, block) in pred.items():\n",
    "        block_loss=torch.norm(block.values - target_blocks[key].values)**2\n",
    "        loss += block_loss\n",
    "        \n",
    "        block_losses[tuple(key.values)] = block_loss\n",
    "\n",
    "    # print(np.sum(list(block_losses.values())))\n",
    "    return loss, pred, ridges, block_losses#, kernels "
   ]
  },
  {
   "cell_type": "code",
   "execution_count": 26,
   "metadata": {},
   "outputs": [],
   "source": [
    "model_ridge = LinearModelPeriodic(twocfeat=hfeat, target_blocks=target_coupled_blocks['hex'], frames = dataset['hex'].structures, orbitals= dataset['hex'].basis, \n",
    "                                  cell_shifts=dataset['hex'].desired_shifts[:], device = device)"
   ]
  },
  {
   "cell_type": "code",
   "execution_count": 27,
   "metadata": {},
   "outputs": [
    {
     "name": "stdout",
     "output_type": "stream",
     "text": [
      "tensor(9.0044e-07)\n"
     ]
    }
   ],
   "source": [
    "loss_ridge_bias, pred_ridge_bias, ridges_bias, loss_blocks = train_ridge(model_ridge, target_coupled_blocks['hex'], set_bias = True)\n",
    "print(loss_ridge_bias)"
   ]
  },
  {
   "cell_type": "code",
   "execution_count": 28,
   "metadata": {},
   "outputs": [
    {
     "data": {
      "image/png": "[encoded data removed]",
      "text/plain": [
       "<Figure size 3200x480 with 2 Axes>"
      ]
     },
     "metadata": {},
     "output_type": "display_data"
    }
   ],
   "source": [
    "from mlelec.utils.plot_utils import plot_block_errors\n",
    "plot_block_errors(pred_ridge_bias, target_coupled_blocks['hex'], plot_loss=True)"
   ]
  },
  {
   "cell_type": "code",
   "execution_count": 29,
   "metadata": {},
   "outputs": [
    {
     "data": {
      "text/plain": [
       "\u001b[0;31mSignature:\u001b[0m \u001b[0mplot_block_errors\u001b[0m\u001b[0;34m(\u001b[0m\u001b[0mtarget_blocks\u001b[0m\u001b[0;34m,\u001b[0m \u001b[0mpred_blocks\u001b[0m\u001b[0;34m,\u001b[0m \u001b[0mplot_loss\u001b[0m\u001b[0;34m=\u001b[0m\u001b[0;32mFalse\u001b[0m\u001b[0;34m)\u001b[0m\u001b[0;34m\u001b[0m\u001b[0;34m\u001b[0m\u001b[0m\n",
       "\u001b[0;31mDocstring:\u001b[0m <no docstring>\n",
       "\u001b[0;31mSource:\u001b[0m   \n",
       "\u001b[0;32mdef\u001b[0m \u001b[0mplot_block_errors\u001b[0m\u001b[0;34m(\u001b[0m\u001b[0mtarget_blocks\u001b[0m\u001b[0;34m,\u001b[0m \u001b[0mpred_blocks\u001b[0m\u001b[0;34m,\u001b[0m \u001b[0mplot_loss\u001b[0m\u001b[0;34m=\u001b[0m\u001b[0;32mFalse\u001b[0m\u001b[0;34m)\u001b[0m\u001b[0;34m:\u001b[0m\u001b[0;34m\u001b[0m\n",
       "\u001b[0;34m\u001b[0m    \u001b[0;32mtry\u001b[0m\u001b[0;34m:\u001b[0m\u001b[0;34m\u001b[0m\n",
       "\u001b[0;34m\u001b[0m        \u001b[0;31m# coupled block\u001b[0m\u001b[0;34m\u001b[0m\n",
       "\u001b[0;34m\u001b[0m        \u001b[0mx\u001b[0m \u001b[0;34m=\u001b[0m \u001b[0;34m[\u001b[0m\u001b[0;34m\u001b[0m\n",
       "\u001b[0;34m\u001b[0m            \u001b[0;34m\",\"\u001b[0m\u001b[0;34m.\u001b[0m\u001b[0mjoin\u001b[0m\u001b[0;34m(\u001b[0m\u001b[0;34m[\u001b[0m\u001b[0mstr\u001b[0m\u001b[0;34m(\u001b[0m\u001b[0mlbl\u001b[0m\u001b[0;34m[\u001b[0m\u001b[0mi\u001b[0m\u001b[0;34m]\u001b[0m\u001b[0;34m)\u001b[0m \u001b[0;32mfor\u001b[0m \u001b[0mi\u001b[0m \u001b[0;32min\u001b[0m \u001b[0;34m[\u001b[0m\u001b[0;36m0\u001b[0m\u001b[0;34m,\u001b[0m \u001b[0;36m2\u001b[0m\u001b[0;34m,\u001b[0m \u001b[0;36m3\u001b[0m\u001b[0;34m,\u001b[0m \u001b[0;36m5\u001b[0m\u001b[0;34m,\u001b[0m \u001b[0;36m6\u001b[0m\u001b[0;34m,\u001b[0m \u001b[0;36m7\u001b[0m\u001b[0;34m]\u001b[0m\u001b[0;34m]\u001b[0m\u001b[0;34m)\u001b[0m\u001b[0;34m\u001b[0m\n",
       "\u001b[0;34m\u001b[0m            \u001b[0;32mfor\u001b[0m \u001b[0mlbl\u001b[0m \u001b[0;32min\u001b[0m \u001b[0mtarget_blocks\u001b[0m\u001b[0;34m.\u001b[0m\u001b[0mkeys\u001b[0m\u001b[0;34m.\u001b[0m\u001b[0mvalues\u001b[0m\u001b[0;34m.\u001b[0m\u001b[0mtolist\u001b[0m\u001b[0;34m(\u001b[0m\u001b[0;34m)\u001b[0m\u001b[0;34m\u001b[0m\n",
       "\u001b[0;34m\u001b[0m        \u001b[0;34m]\u001b[0m\u001b[0;34m\u001b[0m\n",
       "\u001b[0;34m\u001b[0m    \u001b[0;32mexcept\u001b[0m\u001b[0;34m:\u001b[0m\u001b[0;34m\u001b[0m\n",
       "\u001b[0;34m\u001b[0m        \u001b[0;31m# uncouoled block\u001b[0m\u001b[0;34m\u001b[0m\n",
       "\u001b[0;34m\u001b[0m        \u001b[0mx\u001b[0m \u001b[0;34m=\u001b[0m \u001b[0;34m[\u001b[0m\u001b[0;34m\u001b[0m\n",
       "\u001b[0;34m\u001b[0m            \u001b[0;34m\",\"\u001b[0m\u001b[0;34m.\u001b[0m\u001b[0mjoin\u001b[0m\u001b[0;34m(\u001b[0m\u001b[0;34m[\u001b[0m\u001b[0mstr\u001b[0m\u001b[0;34m(\u001b[0m\u001b[0mlbl\u001b[0m\u001b[0;34m[\u001b[0m\u001b[0mi\u001b[0m\u001b[0;34m]\u001b[0m\u001b[0;34m)\u001b[0m \u001b[0;32mfor\u001b[0m \u001b[0mi\u001b[0m \u001b[0;32min\u001b[0m \u001b[0;34m[\u001b[0m\u001b[0;36m0\u001b[0m\u001b[0;34m,\u001b[0m \u001b[0;36m2\u001b[0m\u001b[0;34m,\u001b[0m \u001b[0;36m3\u001b[0m\u001b[0;34m,\u001b[0m \u001b[0;36m5\u001b[0m\u001b[0;34m,\u001b[0m \u001b[0;36m6\u001b[0m\u001b[0;34m]\u001b[0m\u001b[0;34m]\u001b[0m\u001b[0;34m)\u001b[0m\u001b[0;34m\u001b[0m\n",
       "\u001b[0;34m\u001b[0m            \u001b[0;32mfor\u001b[0m \u001b[0mlbl\u001b[0m \u001b[0;32min\u001b[0m \u001b[0mtarget_blocks\u001b[0m\u001b[0;34m.\u001b[0m\u001b[0mkeys\u001b[0m\u001b[0;34m(\u001b[0m\u001b[0;34m)\u001b[0m\u001b[0;34m\u001b[0m\n",
       "\u001b[0;34m\u001b[0m        \u001b[0;34m]\u001b[0m\u001b[0;34m\u001b[0m\n",
       "\u001b[0;34m\u001b[0m    \u001b[0mfs\u001b[0m \u001b[0;34m=\u001b[0m \u001b[0mplt\u001b[0m\u001b[0;34m.\u001b[0m\u001b[0mrcParams\u001b[0m\u001b[0;34m[\u001b[0m\u001b[0;34m\"figure.figsize\"\u001b[0m\u001b[0;34m]\u001b[0m\u001b[0;34m\u001b[0m\n",
       "\u001b[0;34m\u001b[0m    \u001b[0mfig\u001b[0m\u001b[0;34m,\u001b[0m \u001b[0max\u001b[0m \u001b[0;34m=\u001b[0m \u001b[0mplt\u001b[0m\u001b[0;34m.\u001b[0m\u001b[0msubplots\u001b[0m\u001b[0;34m(\u001b[0m\u001b[0mfigsize\u001b[0m\u001b[0;34m=\u001b[0m\u001b[0;34m(\u001b[0m\u001b[0mfs\u001b[0m\u001b[0;34m[\u001b[0m\u001b[0;36m0\u001b[0m\u001b[0;34m]\u001b[0m \u001b[0;34m*\u001b[0m \u001b[0;36m5\u001b[0m\u001b[0;34m,\u001b[0m \u001b[0mfs\u001b[0m\u001b[0;34m[\u001b[0m\u001b[0;36m1\u001b[0m\u001b[0;34m]\u001b[0m\u001b[0;34m)\u001b[0m\u001b[0;34m)\u001b[0m\u001b[0;34m\u001b[0m\n",
       "\u001b[0;34m\u001b[0m    \u001b[0max_loss\u001b[0m \u001b[0;34m=\u001b[0m \u001b[0max\u001b[0m\u001b[0;34m.\u001b[0m\u001b[0mtwinx\u001b[0m\u001b[0;34m(\u001b[0m\u001b[0;34m)\u001b[0m\u001b[0;34m\u001b[0m\n",
       "\u001b[0;34m\u001b[0m    \u001b[0;31m# s = (0,0,0)\u001b[0m\u001b[0;34m\u001b[0m\n",
       "\u001b[0;34m\u001b[0m    \u001b[0mprediction_\u001b[0m \u001b[0;34m=\u001b[0m \u001b[0mnp\u001b[0m\u001b[0;34m.\u001b[0m\u001b[0marray\u001b[0m\u001b[0;34m(\u001b[0m\u001b[0;34m[\u001b[0m\u001b[0mtorch\u001b[0m\u001b[0;34m.\u001b[0m\u001b[0mlinalg\u001b[0m\u001b[0;34m.\u001b[0m\u001b[0mnorm\u001b[0m\u001b[0;34m(\u001b[0m\u001b[0mb\u001b[0m\u001b[0;34m.\u001b[0m\u001b[0mvalues\u001b[0m\u001b[0;34m)\u001b[0m\u001b[0;34m.\u001b[0m\u001b[0mitem\u001b[0m\u001b[0;34m(\u001b[0m\u001b[0;34m)\u001b[0m \u001b[0;32mfor\u001b[0m \u001b[0mb\u001b[0m \u001b[0;32min\u001b[0m \u001b[0mpred_blocks\u001b[0m\u001b[0;34m]\u001b[0m\u001b[0;34m)\u001b[0m\u001b[0;34m\u001b[0m\n",
       "\u001b[0;34m\u001b[0m    \u001b[0mtarget_\u001b[0m \u001b[0;34m=\u001b[0m \u001b[0mnp\u001b[0m\u001b[0;34m.\u001b[0m\u001b[0marray\u001b[0m\u001b[0;34m(\u001b[0m\u001b[0;34m[\u001b[0m\u001b[0mtorch\u001b[0m\u001b[0;34m.\u001b[0m\u001b[0mlinalg\u001b[0m\u001b[0;34m.\u001b[0m\u001b[0mnorm\u001b[0m\u001b[0;34m(\u001b[0m\u001b[0mb\u001b[0m\u001b[0;34m.\u001b[0m\u001b[0mvalues\u001b[0m\u001b[0;34m)\u001b[0m\u001b[0;34m.\u001b[0m\u001b[0mitem\u001b[0m\u001b[0;34m(\u001b[0m\u001b[0;34m)\u001b[0m \u001b[0;32mfor\u001b[0m \u001b[0mb\u001b[0m \u001b[0;32min\u001b[0m \u001b[0mtarget_blocks\u001b[0m\u001b[0;34m]\u001b[0m\u001b[0;34m)\u001b[0m\u001b[0;34m\u001b[0m\n",
       "\u001b[0;34m\u001b[0m    \u001b[0mloss_\u001b[0m \u001b[0;34m=\u001b[0m \u001b[0mnp\u001b[0m\u001b[0;34m.\u001b[0m\u001b[0marray\u001b[0m\u001b[0;34m(\u001b[0m\u001b[0;34m\u001b[0m\n",
       "\u001b[0;34m\u001b[0m        \u001b[0;34m[\u001b[0m\u001b[0;34m\u001b[0m\n",
       "\u001b[0;34m\u001b[0m            \u001b[0;34m(\u001b[0m\u001b[0mtorch\u001b[0m\u001b[0;34m.\u001b[0m\u001b[0mlinalg\u001b[0m\u001b[0;34m.\u001b[0m\u001b[0mnorm\u001b[0m\u001b[0;34m(\u001b[0m\u001b[0mb\u001b[0m\u001b[0;34m.\u001b[0m\u001b[0mvalues\u001b[0m \u001b[0;34m-\u001b[0m \u001b[0mb1\u001b[0m\u001b[0;34m.\u001b[0m\u001b[0mvalues\u001b[0m\u001b[0;34m)\u001b[0m \u001b[0;34m**\u001b[0m \u001b[0;36m2\u001b[0m\u001b[0;34m)\u001b[0m\u001b[0;34m.\u001b[0m\u001b[0mitem\u001b[0m\u001b[0;34m(\u001b[0m\u001b[0;34m)\u001b[0m\u001b[0;34m\u001b[0m\n",
       "\u001b[0;34m\u001b[0m            \u001b[0;32mfor\u001b[0m \u001b[0mb\u001b[0m\u001b[0;34m,\u001b[0m \u001b[0mb1\u001b[0m \u001b[0;32min\u001b[0m \u001b[0mzip\u001b[0m\u001b[0;34m(\u001b[0m\u001b[0mtarget_blocks\u001b[0m\u001b[0;34m,\u001b[0m \u001b[0mpred_blocks\u001b[0m\u001b[0;34m)\u001b[0m\u001b[0;34m\u001b[0m\n",
       "\u001b[0;34m\u001b[0m        \u001b[0;34m]\u001b[0m\u001b[0;34m\u001b[0m\n",
       "\u001b[0;34m\u001b[0m    \u001b[0;34m)\u001b[0m\u001b[0;34m\u001b[0m\n",
       "\u001b[0;34m\u001b[0m    \u001b[0mx_\u001b[0m \u001b[0;34m=\u001b[0m \u001b[0;36m3.5\u001b[0m \u001b[0;34m*\u001b[0m \u001b[0mnp\u001b[0m\u001b[0;34m.\u001b[0m\u001b[0marange\u001b[0m\u001b[0;34m(\u001b[0m\u001b[0mlen\u001b[0m\u001b[0;34m(\u001b[0m\u001b[0mprediction_\u001b[0m\u001b[0;34m)\u001b[0m\u001b[0;34m)\u001b[0m\u001b[0;34m\u001b[0m\n",
       "\u001b[0;34m\u001b[0m\u001b[0;34m\u001b[0m\n",
       "\u001b[0;34m\u001b[0m    \u001b[0mlabels\u001b[0m \u001b[0;34m=\u001b[0m \u001b[0;34m[\u001b[0m\u001b[0;34m]\u001b[0m\u001b[0;34m\u001b[0m\n",
       "\u001b[0;34m\u001b[0m    \u001b[0mhandles\u001b[0m \u001b[0;34m=\u001b[0m \u001b[0;34m[\u001b[0m\u001b[0;34m]\u001b[0m\u001b[0;34m\u001b[0m\n",
       "\u001b[0;34m\u001b[0m    \u001b[0mpl\u001b[0m \u001b[0;34m=\u001b[0m \u001b[0max\u001b[0m\u001b[0;34m.\u001b[0m\u001b[0mbar\u001b[0m\u001b[0;34m(\u001b[0m\u001b[0mx_\u001b[0m\u001b[0;34m,\u001b[0m \u001b[0mprediction_\u001b[0m\u001b[0;34m,\u001b[0m \u001b[0mlabel\u001b[0m\u001b[0;34m=\u001b[0m\u001b[0;34m\"pred\"\u001b[0m\u001b[0;34m,\u001b[0m \u001b[0mwidth\u001b[0m\u001b[0;34m=\u001b[0m\u001b[0;36m1\u001b[0m\u001b[0;34m,\u001b[0m \u001b[0mcolor\u001b[0m\u001b[0;34m=\u001b[0m\u001b[0;34m\"tab:blue\"\u001b[0m\u001b[0;34m)\u001b[0m\u001b[0;34m\u001b[0m\n",
       "\u001b[0;34m\u001b[0m    \u001b[0mhandles\u001b[0m\u001b[0;34m.\u001b[0m\u001b[0mappend\u001b[0m\u001b[0;34m(\u001b[0m\u001b[0mpl\u001b[0m\u001b[0;34m)\u001b[0m\u001b[0;34m\u001b[0m\n",
       "\u001b[0;34m\u001b[0m    \u001b[0mlabels\u001b[0m\u001b[0;34m.\u001b[0m\u001b[0mappend\u001b[0m\u001b[0;34m(\u001b[0m\u001b[0;34m\"Prediction\"\u001b[0m\u001b[0;34m)\u001b[0m\u001b[0;34m\u001b[0m\n",
       "\u001b[0;34m\u001b[0m    \u001b[0mpl\u001b[0m \u001b[0;34m=\u001b[0m \u001b[0max\u001b[0m\u001b[0;34m.\u001b[0m\u001b[0mbar\u001b[0m\u001b[0;34m(\u001b[0m\u001b[0mx_\u001b[0m \u001b[0;34m+\u001b[0m \u001b[0;36m1\u001b[0m\u001b[0;34m,\u001b[0m \u001b[0mtarget_\u001b[0m\u001b[0;34m,\u001b[0m \u001b[0malpha\u001b[0m\u001b[0;34m=\u001b[0m\u001b[0;36m1\u001b[0m\u001b[0;34m,\u001b[0m \u001b[0mlabel\u001b[0m\u001b[0;34m=\u001b[0m\u001b[0;34m\"target\"\u001b[0m\u001b[0;34m,\u001b[0m \u001b[0mwidth\u001b[0m\u001b[0;34m=\u001b[0m\u001b[0;36m1\u001b[0m\u001b[0;34m,\u001b[0m \u001b[0mcolor\u001b[0m\u001b[0;34m=\u001b[0m\u001b[0;34m\"tab:orange\"\u001b[0m\u001b[0;34m)\u001b[0m\u001b[0;34m\u001b[0m\n",
       "\u001b[0;34m\u001b[0m    \u001b[0mhandles\u001b[0m\u001b[0;34m.\u001b[0m\u001b[0mappend\u001b[0m\u001b[0;34m(\u001b[0m\u001b[0mpl\u001b[0m\u001b[0;34m)\u001b[0m\u001b[0;34m\u001b[0m\n",
       "\u001b[0;34m\u001b[0m    \u001b[0mlabels\u001b[0m\u001b[0;34m.\u001b[0m\u001b[0mappend\u001b[0m\u001b[0;34m(\u001b[0m\u001b[0;34m\"Target\"\u001b[0m\u001b[0;34m)\u001b[0m\u001b[0;34m\u001b[0m\n",
       "\u001b[0;34m\u001b[0m    \u001b[0;32mif\u001b[0m \u001b[0mplot_loss\u001b[0m\u001b[0;34m:\u001b[0m\u001b[0;34m\u001b[0m\n",
       "\u001b[0;34m\u001b[0m        \u001b[0mpl\u001b[0m \u001b[0;34m=\u001b[0m \u001b[0max_loss\u001b[0m\u001b[0;34m.\u001b[0m\u001b[0mbar\u001b[0m\u001b[0;34m(\u001b[0m\u001b[0;34m\u001b[0m\n",
       "\u001b[0;34m\u001b[0m            \u001b[0mx_\u001b[0m \u001b[0;34m+\u001b[0m \u001b[0;36m2\u001b[0m\u001b[0;34m,\u001b[0m \u001b[0mloss_\u001b[0m\u001b[0;34m,\u001b[0m \u001b[0malpha\u001b[0m\u001b[0;34m=\u001b[0m\u001b[0;36m1\u001b[0m\u001b[0;34m,\u001b[0m \u001b[0mlabel\u001b[0m\u001b[0;34m=\u001b[0m\u001b[0;34m\"target\"\u001b[0m\u001b[0;34m,\u001b[0m \u001b[0mwidth\u001b[0m\u001b[0;34m=\u001b[0m\u001b[0;36m1\u001b[0m\u001b[0;34m,\u001b[0m \u001b[0mcolor\u001b[0m\u001b[0;34m=\u001b[0m\u001b[0;34m\"tab:red\"\u001b[0m\u001b[0;34m\u001b[0m\n",
       "\u001b[0;34m\u001b[0m        \u001b[0;34m)\u001b[0m\u001b[0;34m\u001b[0m\n",
       "\u001b[0;34m\u001b[0m        \u001b[0mhandles\u001b[0m\u001b[0;34m.\u001b[0m\u001b[0mappend\u001b[0m\u001b[0;34m(\u001b[0m\u001b[0mpl\u001b[0m\u001b[0;34m)\u001b[0m\u001b[0;34m\u001b[0m\n",
       "\u001b[0;34m\u001b[0m        \u001b[0mlabels\u001b[0m\u001b[0;34m.\u001b[0m\u001b[0mappend\u001b[0m\u001b[0;34m(\u001b[0m\u001b[0;34m\"Loss\"\u001b[0m\u001b[0;34m)\u001b[0m\u001b[0;34m\u001b[0m\n",
       "\u001b[0;34m\u001b[0m        \u001b[0max_loss\u001b[0m\u001b[0;34m.\u001b[0m\u001b[0mset_ylabel\u001b[0m\u001b[0;34m(\u001b[0m\u001b[0;34mr\"$|H-\\tilde{H}|^2$ \\ a.u.\"\u001b[0m\u001b[0;34m)\u001b[0m\u001b[0;34m\u001b[0m\n",
       "\u001b[0;34m\u001b[0m        \u001b[0max_loss\u001b[0m\u001b[0;34m.\u001b[0m\u001b[0mset_yscale\u001b[0m\u001b[0;34m(\u001b[0m\u001b[0;34m\"log\"\u001b[0m\u001b[0;34m)\u001b[0m\u001b[0;34m\u001b[0m\n",
       "\u001b[0;34m\u001b[0m    \u001b[0max\u001b[0m\u001b[0;34m.\u001b[0m\u001b[0mset_ylim\u001b[0m\u001b[0;34m(\u001b[0m\u001b[0;36m1e-7\u001b[0m\u001b[0;34m,\u001b[0m \u001b[0;36m1000\u001b[0m\u001b[0;34m)\u001b[0m\u001b[0;34m\u001b[0m\n",
       "\u001b[0;34m\u001b[0m    \u001b[0max\u001b[0m\u001b[0;34m.\u001b[0m\u001b[0mset_xticks\u001b[0m\u001b[0;34m(\u001b[0m\u001b[0;36m3.5\u001b[0m \u001b[0;34m*\u001b[0m \u001b[0mnp\u001b[0m\u001b[0;34m.\u001b[0m\u001b[0marange\u001b[0m\u001b[0;34m(\u001b[0m\u001b[0mlen\u001b[0m\u001b[0;34m(\u001b[0m\u001b[0mprediction_\u001b[0m\u001b[0;34m)\u001b[0m\u001b[0;34m)\u001b[0m \u001b[0;34m+\u001b[0m \u001b[0;36m3.5\u001b[0m \u001b[0;34m/\u001b[0m \u001b[0;36m3\u001b[0m \u001b[0;34m-\u001b[0m \u001b[0;36m0.5\u001b[0m\u001b[0;34m)\u001b[0m\u001b[0;34m\u001b[0m\n",
       "\u001b[0;34m\u001b[0m    \u001b[0max\u001b[0m\u001b[0;34m.\u001b[0m\u001b[0mset_xticklabels\u001b[0m\u001b[0;34m(\u001b[0m\u001b[0mx\u001b[0m\u001b[0;34m,\u001b[0m \u001b[0mrotation\u001b[0m\u001b[0;34m=\u001b[0m\u001b[0;36m90\u001b[0m\u001b[0;34m)\u001b[0m\u001b[0;34m\u001b[0m\n",
       "\u001b[0;34m\u001b[0m    \u001b[0max\u001b[0m\u001b[0;34m.\u001b[0m\u001b[0mlegend\u001b[0m\u001b[0;34m(\u001b[0m\u001b[0mhandles\u001b[0m\u001b[0;34m,\u001b[0m \u001b[0mlabels\u001b[0m\u001b[0;34m,\u001b[0m \u001b[0mloc\u001b[0m\u001b[0;34m=\u001b[0m\u001b[0;34m\"best\"\u001b[0m\u001b[0;34m)\u001b[0m\u001b[0;34m\u001b[0m\n",
       "\u001b[0;34m\u001b[0m    \u001b[0max\u001b[0m\u001b[0;34m.\u001b[0m\u001b[0mset_ylabel\u001b[0m\u001b[0;34m(\u001b[0m\u001b[0;34m\"|H| \\ a.u.\"\u001b[0m\u001b[0;34m)\u001b[0m\u001b[0;34m\u001b[0m\n",
       "\u001b[0;34m\u001b[0m\u001b[0;34m\u001b[0m\n",
       "\u001b[0;34m\u001b[0m    \u001b[0max_loss\u001b[0m\u001b[0;34m.\u001b[0m\u001b[0mset_ylim\u001b[0m\u001b[0;34m(\u001b[0m\u001b[0;36m1e-10\u001b[0m\u001b[0;34m)\u001b[0m\u001b[0;34m\u001b[0m\n",
       "\u001b[0;34m\u001b[0m    \u001b[0max\u001b[0m\u001b[0;34m.\u001b[0m\u001b[0mset_yscale\u001b[0m\u001b[0;34m(\u001b[0m\u001b[0;34m\"log\"\u001b[0m\u001b[0;34m)\u001b[0m\u001b[0;34m\u001b[0m\u001b[0;34m\u001b[0m\u001b[0m\n",
       "\u001b[0;31mFile:\u001b[0m      ~/Software/my_mlelec/src/mlelec/utils/plot_utils.py\n",
       "\u001b[0;31mType:\u001b[0m      function"
      ]
     },
     "metadata": {},
     "output_type": "display_data"
    }
   ],
   "source": [
    "plot_block_errors??"
   ]
  },
  {
   "cell_type": "code",
   "execution_count": null,
   "metadata": {},
   "outputs": [],
   "source": []
  },
  {
   "cell_type": "code",
   "execution_count": 34,
   "metadata": {},
   "outputs": [
    {
     "name": "stdout",
     "output_type": "stream",
     "text": [
      "[-1  6  2  0  6  2  1  1] tensor(6.3006e-05) torch.Size([1016]) tensor(4.6951e-07) tensor(4.6951e-07)\n",
      "[-1  6  2  1  6  2  0  1] tensor(6.2840e-05) torch.Size([1016]) tensor(4.2928e-07) tensor(4.2928e-07)\n"
     ]
    }
   ],
   "source": [
    "sample_losses = {}\n",
    "idx_losses = {}\n",
    "for kt, bt in target_coupled_blocks['hex'].items():\n",
    "\n",
    "    bp = pred_ridge_bias.block(kt) # find pred block for key\n",
    "    block_loss = loss_blocks[tuple(kt.values)]\n",
    "    # print(kt.values, block_loss)\n",
    "    if block_loss> 1e-8: \n",
    "        sample_loss = torch.norm((bp.values - bt.values), dim=(1,2))\n",
    "        sample_losses[tuple(kt)] = sample_loss\n",
    "        idx_losses[tuple(kt)] = torch.where(sample_loss>1e-1)\n",
    "        assert torch.isclose(sum(torch.pow(sample_loss,2) ), block_loss), (sum(sample_loss**2 ), block_loss)\n",
    "        print(kt.values, torch.max(sample_loss), sample_loss.shape, block_loss, torch.sum(torch.pow(sample_loss,2)))#torch.where(sample_norm>1e-5))"
   ]
  },
  {
   "cell_type": "code",
   "execution_count": 39,
   "metadata": {},
   "outputs": [
    {
     "data": {
      "text/plain": [
       "(0.0, 300.0)"
      ]
     },
     "execution_count": 39,
     "metadata": {},
     "output_type": "execute_result"
    },
    {
     "data": {
      "image/png": "[encoded data removed]",
      "text/plain": [
       "<Figure size 640x480 with 1 Axes>"
      ]
     },
     "metadata": {},
     "output_type": "display_data"
    }
   ],
   "source": [
    "import matplotlib.pyplot as plt\n",
    "for k, sample_loss in sample_losses.items():\n",
    "    plt.plot(sample_loss, label = k)\n",
    "plt.legend(loc = 'center left', bbox_to_anchor = (1,0.5))\n",
    "plt.xlabel('sample idx')\n",
    "plt.xlim(0,300)\n",
    "# plt.plot(sample_loss)"
   ]
  },
  {
   "cell_type": "code",
   "execution_count": null,
   "metadata": {},
   "outputs": [],
   "source": [
    "stupid_idx =[78,  79,  87,  88,  93,  94,  95,  96, 102, 103, 104, 151, 152, 153,\n",
    "          158, 159, 160, 161, 167, 168, 175, 176]\n",
    "\n",
    "FEAT_KEYIDX = 8\n",
    "print(hfeat.keys[FEAT_KEYIDX])\n",
    "print(hfeat[FEAT_KEYIDX].samples.values[stupid_idx]) \n",
    "# print(torch.norm(hfeat[FEAT_KEYIDX].values[stupid_idx][0]-hfeat[FEAT_KEYIDX].values[stupid_idx][0]))\n",
    "print(torch.norm(hfeat[FEAT_KEYIDX].values[stupid_idx][0]-hfeat[FEAT_KEYIDX].values[stupid_idx][2]))\n"
   ]
  },
  {
   "cell_type": "code",
   "execution_count": null,
   "metadata": {},
   "outputs": [],
   "source": [
    "fig, ax = plt.subplots()\n",
    "ax.set_aspect('equal')\n",
    "\n",
    "for _, i, j, Tx, Ty, _, _ in hfeat[9].samples.values[stupid_idx][:9]:\n",
    "    ini = frame.positions[i]\n",
    "    fin = frame.cell.array.T@np.array([Tx, Ty, 0]) + frame.positions[j]\n",
    "    print(np.linalg.norm(fin-ini))\n",
    "    ax.plot([ini[0], fin[0]], [ini[1], fin[1]], lw = 2, label = f'{np.linalg.norm(fin-ini):.3f}')\n",
    "xmin, xmax = ax.get_xlim()\n",
    "ymin, ymax = ax.get_ylim()\n",
    "\n",
    "atom_colors = {0: 'red', 1: 'lime'}\n",
    "for Tx in range(-3,3):\n",
    "    for Ty in range(-3, 3):\n",
    "        for i in range(2):\n",
    "            x, y = (frame.cell.array.T@np.array([Tx, Ty, 0]) + frame.positions[i])[:2]\n",
    "            ax.plot([x], [y], 'o', markersize = 12, color = atom_colors[i])\n",
    "ax.set_xlim(xmin, xmax)\n",
    "ax.set_ylim(ymin, ymax)\n",
    "ax.legend(loc = 'center left', bbox_to_anchor = (1, 0.5))"
   ]
  },
  {
   "cell_type": "code",
   "execution_count": null,
   "metadata": {
    "scrolled": true
   },
   "outputs": [],
   "source": [
    "gij = rascaline_gij(dataset['hex'])\n",
    "gij_labels = []\n",
    "gij_labels_pos = []\n",
    "for lbl in hfeat[9].samples.values[stupid_idx]:\n",
    "    gij_lbl = Labels(hfeat.sample_names[:-1], np.array([list(lbl)[:-1]]))[0]\n",
    "    gij_labels.append(gij_lbl)\n",
    "    gij_labels_pos.append(gij[0].samples.position(gij_lbl))\n",
    "print(gij[0].values[gij_labels_pos])\n"
   ]
  },
  {
   "cell_type": "code",
   "execution_count": null,
   "metadata": {},
   "outputs": [],
   "source": [
    "a=1.42\n",
    "from ase import Atoms\n",
    "import pyscf.pbc.gto as pbcgto\n",
    "import pyscf.pbc.tools.pyscf_ase as pyscf_ase\n",
    "\n",
    "graphene = Atoms(symbols=['C','C'], cell=a/2*np.array([[3,-np.sqrt(3),0],[3,np.sqrt(3),0],[0,0,20]]), scaled_positions=[[1/3,1/3,0],[2/3,2/3,0]], pbc=[True,True,False])\n",
    "cell = pbcgto.Cell()\n",
    "cell.atom = pyscf_ase.ase_atoms_to_pyscf(graphene)\n",
    "cell.basis = 'sto-3g'\n",
    "cell.a = graphene.cell\n",
    "cell.verbose = 0\n",
    "cell.precision=1e-8\n",
    "cell.dimension=2\n",
    "cell.build()"
   ]
  },
  {
   "cell_type": "code",
   "execution_count": null,
   "metadata": {},
   "outputs": [],
   "source": [
    "cell.atom_coord(0)"
   ]
  },
  {
   "cell_type": "code",
   "execution_count": null,
   "metadata": {},
   "outputs": [],
   "source": [
    "graphene.positions/0.529177"
   ]
  },
  {
   "cell_type": "code",
   "execution_count": null,
   "metadata": {},
   "outputs": [],
   "source": [
    "# T1 = -2,0,0\n",
    "# T2 = -2,1,0\n",
    "T1 = 0,0,0\n",
    "T2 = 1,0,0\n",
    "# T1 = -3,0,0\n",
    "# T2 = -3,1,0\n",
    "i = 0\n",
    "j = 1 \n",
    "Hij = {}\n",
    "Hmij = {}\n",
    "for T in [T1, T2]:\n",
    "    H = H_T_fix[T]\n",
    "    Hm = H_minus_T_fix[T]\n",
    "    idx_i = slice(i*5,(i+1)*5)\n",
    "    idx_j = slice(j*5,(j+1)*5)\n",
    "    \n",
    "    \n",
    "    Hij[T] = H[idx_i, idx_j]\n",
    "    Hmij[T] = Hm[idx_j, idx_i]\n",
    "    \n",
    "    # print(Hij)\n",
    "    # print(Hmij)"
   ]
  },
  {
   "cell_type": "code",
   "execution_count": null,
   "metadata": {},
   "outputs": [],
   "source": [
    "fij = {}\n",
    "fji = {} \n",
    "for T in [T1, T2]:\n",
    "    fij_lbl = Labels(rhoij.sample_names, np.array([[0,i,j, *T,1]]))\n",
    "    fji_lbl = Labels(rhoij.sample_names, np.array([[0,j,i, *T,-1]]))\n",
    "    fij_idx = rhoij[0].samples.position(fij_lbl[0])\n",
    "    fji_idx = rhoij[0].samples.position(fji_lbl[0])\n",
    "    fij[T] = rhoij[0].values[fij_idx]\n",
    "    fji[T] = rhoij[0].values[fji_idx]\n",
    "#     print(fij)\n",
    "#     print(fji)\n",
    "# print('diff', torch.norm(fij - fji))\n",
    "# print('sum', torch.norm(fij + fji))"
   ]
  },
  {
   "cell_type": "code",
   "execution_count": null,
   "metadata": {},
   "outputs": [],
   "source": [
    "# print(Hij[T1] - Hij[T2])\n",
    "# print(Hmij[T1] - Hmij[T2])\n",
    "# print(fij[T1] - fij[T2])\n",
    "# print(fji[T1] - fji[T2])\n",
    "\n",
    "def print_matrix(matrix):\n",
    "    for row in matrix:\n",
    "        for v in row:\n",
    "            print(f'{v:>12.2e}', end = ' ')\n",
    "        print()\n",
    "\n",
    "for T in [T1, T2]:\n",
    "    print(T)\n",
    "    print('-')\n",
    "    print_matrix(Hij[T] - Hmij[T])\n",
    "    print('F', fij[T] - fji[T])\n",
    "    print('\\n+')\n",
    "    print_matrix(Hij[T] + Hmij[T])\n",
    "    print('F', fij[T] + fji[T])\n",
    "# print(Hmij[T1] - Hmij[T2])\n",
    "# print(fij[T1] - fij[T2])\n",
    "# print(fji[T1] - fji[T2])\n"
   ]
  },
  {
   "cell_type": "code",
   "execution_count": null,
   "metadata": {},
   "outputs": [],
   "source": [
    "for T in [T1, T2]:\n",
    "    print(T)\n",
    "    # print('-')\n",
    "    print_matrix(Hij[T])\n",
    "    print(fij[T])\n",
    "    print()\n",
    "    # print('\\n+')\n",
    "    # print_matrix(Hij[T] + Hmij[T])\n",
    "    # print(fij[T] + fji[T])"
   ]
  },
  {
   "cell_type": "code",
   "execution_count": null,
   "metadata": {},
   "outputs": [],
   "source": [
    "TARGET_KEYIDX = 12\n",
    "print(target_coupled_blocks['hex'].keys[TARGET_KEYIDX])\n",
    "target_labels = []\n",
    "target_labels_pos = []\n",
    "for lbl in hfeat[FEAT_KEYIDX].samples.values[stupid_idx]:\n",
    "    tar_lbl = Labels(hfeat.sample_names[:-1], np.array([list(lbl)[:-1]]))[0]\n",
    "    target_labels.append(tar_lbl)\n",
    "    target_labels_pos.append(target_coupled_blocks['hex'][TARGET_KEYIDX].samples.position(tar_lbl))\n"
   ]
  },
  {
   "cell_type": "code",
   "execution_count": null,
   "metadata": {},
   "outputs": [],
   "source": [
    "\n",
    "target_coupled_blocks['hex'][TARGET_KEYIDX].values[target_labels_pos]\n"
   ]
  },
  {
   "cell_type": "code",
   "execution_count": null,
   "metadata": {},
   "outputs": [],
   "source": [
    "print(gij[1].values[gij_labels_pos])\n"
   ]
  },
  {
   "cell_type": "code",
   "execution_count": null,
   "metadata": {},
   "outputs": [],
   "source": [
    "gij[0]"
   ]
  },
  {
   "cell_type": "code",
   "execution_count": null,
   "metadata": {},
   "outputs": [],
   "source": []
  },
  {
   "cell_type": "code",
   "execution_count": null,
   "metadata": {},
   "outputs": [],
   "source": []
  },
  {
   "cell_type": "code",
   "execution_count": null,
   "metadata": {},
   "outputs": [],
   "source": []
  },
  {
   "cell_type": "markdown",
   "metadata": {},
   "source": [
    "# BEGIN"
   ]
  },
  {
   "cell_type": "markdown",
   "metadata": {},
   "source": [
    "## predict with ridge models"
   ]
  },
  {
   "cell_type": "code",
   "execution_count": null,
   "metadata": {},
   "outputs": [],
   "source": [
    "\n",
    "def rascaline_gij(dataset):\n",
    "    hypers_pair = {'cutoff': 12,\n",
    "            'max_radial':10,\n",
    "            'max_angular':4,\n",
    "            'atomic_gaussian_width':0.6,\n",
    "            'center_atom_weight':1,\n",
    "            \"radial_basis\": {\"Gto\": {}},\n",
    "            \"cutoff_function\": {\"ShiftedCosine\": {\"width\": 0.1}},\n",
    "    }\n",
    "    from rascaline import SphericalExpansionByPair \n",
    "    calculator = SphericalExpansionByPair(**hypers_pair)\n",
    "    return calculator.compute(dataset.structures)\n",
    "\n"
   ]
  },
  {
   "cell_type": "code",
   "execution_count": null,
   "metadata": {},
   "outputs": [],
   "source": [
    "# view(dataset['hex'].structures)\n",
    "return_gij = True\n",
    "rhonui, rhoij = compute_features(dataset[name], return_rho0ij=return_gij, counter = [counter_T], where_Ts_allowed=where_Ts_allowed)\n",
    "hfeat = compute_hfeat(rhonui, rhoij)"
   ]
  },
  {
   "cell_type": "markdown",
   "metadata": {},
   "source": [
    "## to debug: \n"
   ]
  },
  {
   "cell_type": "code",
   "execution_count": null,
   "metadata": {},
   "outputs": [],
   "source": [
    "\n",
    "I = 0 \n",
    "J = 1\n",
    "for k,b in rhoij.items():\n",
    "    L = k['spherical_harmonics_l']\n",
    "    \n",
    "    for Tx, Ty, Tz in T_keys:\n",
    "        sample_label_ij = Labels(\n",
    "                        b.samples.names,\n",
    "                        np.array([[0, I, J, Tx, Ty, Tz, 1,]]))\n",
    "        \n",
    "        sample_label_ji = Labels(\n",
    "                        b.samples.names,\n",
    "                        np.array([[0, J, I, Tx, Ty, Tz, -1]])\n",
    "        )\n",
    "        pos_ij = np.where(np.all(b.samples.values == sample_label_ij.values, axis=1))[0]\n",
    "        \n",
    "                    # pos_ij = b.samples.position(sample_label_ij[0])\n",
    "        pos_ji = np.where(np.all(b.samples.values == sample_label_ji.values, axis=1))[0]\n",
    "    \n",
    "        try: \n",
    "            assert torch.norm(b.values[pos_ij] - (-1)**L * b.values[pos_ji])<=1e-6\n",
    "        except AssertionError:\n",
    "            print(k, pos_ij, pos_ji)"
   ]
  },
  {
   "cell_type": "code",
   "execution_count": null,
   "metadata": {},
   "outputs": [],
   "source": [
    "b.values[pos_ij]"
   ]
  },
  {
   "cell_type": "code",
   "execution_count": null,
   "metadata": {},
   "outputs": [],
   "source": [
    "b.values[pos_ji]"
   ]
  },
  {
   "cell_type": "code",
   "execution_count": null,
   "metadata": {},
   "outputs": [],
   "source": [
    "gij = rascaline_gij(dataset['hex'])"
   ]
  },
  {
   "cell_type": "code",
   "execution_count": null,
   "metadata": {},
   "outputs": [],
   "source": [
    "for k,b in gij.items():\n",
    "    print(np.linalg.norm(b.values))"
   ]
  },
  {
   "cell_type": "code",
   "execution_count": null,
   "metadata": {},
   "outputs": [],
   "source": [
    "b = gij[1]\n",
    "sample_label_ij = Labels(\n",
    "                b.samples.names,\n",
    "                np.array([[0, 0, 1, 1, -1, 0]])\n",
    ")\n",
    "sample_label_ji = Labels(\n",
    "                b.samples.names,\n",
    "                np.array([[0, 1, 0, -1, 1, 0]])\n",
    ")\n",
    "pos_ij = np.where(np.all(b.samples.values[:, :6] == sample_label_ij.values[:, :6], axis=1))[0]\n",
    "\n",
    "            # pos_ij = b.samples.position(sample_label_ij[0])\n",
    "pos_ji = np.where(np.all(b.samples.values[:, :6] == sample_label_ji.values[:, :6], axis=1))[0]\n",
    "\n",
    "                                  \n",
    "print(pos_ij, pos_ji)"
   ]
  },
  {
   "cell_type": "code",
   "execution_count": null,
   "metadata": {},
   "outputs": [],
   "source": [
    "b.values[pos_ij] "
   ]
  },
  {
   "cell_type": "code",
   "execution_count": null,
   "metadata": {},
   "outputs": [],
   "source": [
    "b.values[pos_ji]"
   ]
  },
  {
   "cell_type": "code",
   "execution_count": null,
   "metadata": {},
   "outputs": [],
   "source": [
    "i = 0; j=1; T = [1,-1,0]\n",
    "frame = dataset['hex'].structures[0]\n",
    "cell = frame.cell.array.T\n",
    "d = cell@T + frame.positions[j] - frame.positions[i]\n",
    "print(d)"
   ]
  },
  {
   "cell_type": "code",
   "execution_count": null,
   "metadata": {},
   "outputs": [],
   "source": [
    "d = cell@T + frame.positions[i] - frame.positions[j]\n",
    "print(d)"
   ]
  },
  {
   "cell_type": "code",
   "execution_count": null,
   "metadata": {},
   "outputs": [],
   "source": []
  },
  {
   "cell_type": "code",
   "execution_count": null,
   "metadata": {},
   "outputs": [],
   "source": []
  },
  {
   "cell_type": "code",
   "execution_count": null,
   "metadata": {},
   "outputs": [],
   "source": [
    "block_type = 1\n",
    "L = 1\n",
    "inversion_sigma = 1\n",
    "\n",
    "b = hfeat.block(block_type=block_type, spherical_harmonics_l=L, inversion_sigma=inversion_sigma)#.values\n",
    "mb  = hfeat.block(block_type=-1*block_type, spherical_harmonics_l=L, inversion_sigma=inversion_sigma)#.values"
   ]
  },
  {
   "cell_type": "code",
   "execution_count": null,
   "metadata": {},
   "outputs": [],
   "source": [
    "torch.norm(b.values), torch.norm(mb.values)"
   ]
  },
  {
   "cell_type": "code",
   "execution_count": null,
   "metadata": {},
   "outputs": [],
   "source": [
    "TOL = 1e-5\n",
    "for k,b in hfeat.items():\n",
    "    L = k['spherical_harmonics_l']\n",
    "    if k['block_type']==1 or k['block_type']==-1:\n",
    "        # print(k.values, np.array([-1*k['block_type']]+k.values[1:].tolist() ]))\n",
    "        mkey = Labels(k.names, np.array([k.values[:-1].tolist() +[-1*k['block_type']] ]))\n",
    "        mb = hfeat.block(mkey)\n",
    "        assert b.samples == mb.samples\n",
    "        \n",
    "        # print(L, k['block_type'], torch.norm(b.values - (-1)**L * mb.values)  )# mb.values))\n",
    "        \n",
    "        if (L%2 == 1 and k['block_type'] == 1) or (L%2 == 0 and k['block_type'] == -1):\n",
    "            assert torch.norm(b.values) <=TOL, (L, k, torch.norm(b.values), '+' )\n",
    "        elif (L%2 == 1 and k['block_type'] == -1) or (L%2 == 0 and k['block_type'] == 1): \n",
    "            assert torch.norm(mb.values) <=TOL, (L, k, torch.norm(mb.values), '-' )\n",
    "        else:\n",
    "            print('s<ah,jfbvaekugdfsuiyhg')\n",
    "print('PASS')"
   ]
  },
  {
   "cell_type": "code",
   "execution_count": null,
   "metadata": {},
   "outputs": [],
   "source": []
  },
  {
   "cell_type": "code",
   "execution_count": null,
   "metadata": {},
   "outputs": [],
   "source": [
    "b.samples.values[np.unique(np.where(b.values)[0])]\n"
   ]
  },
  {
   "cell_type": "code",
   "execution_count": null,
   "metadata": {},
   "outputs": [],
   "source": [
    "for k,b in rhoij.items():\n",
    "    L = k['spherical_harmonics_l']\n",
    "    stupid_sample = Labels(b.samples.names, np.array([b.samples.values[78].tolist()]) )\n",
    "    idx = b.samples.position(stupid_sample[0])\n",
    "    \n",
    "    s, i, j, x, y, z, mx, my, mz = b.samples.values[idx].tolist()\n",
    "    # b.samples.view(b.samples.names[:-3])\n",
    "    stupid_sample_inv = Labels(b.samples.names[:-3], np.array([[s, j, i, -x, -y, -z, ]]))\n",
    "    inv_idx = np.where(np.all(np.array(b.samples.view(b.samples.names[:-3])) == np.array([s, j, i, -x, -y, -z]), axis = 1))\n",
    "    assert torch.norm(b.values[idx]- (-1)**L *  b.values[inv_idx])==0"
   ]
  },
  {
   "cell_type": "code",
   "execution_count": null,
   "metadata": {},
   "outputs": [],
   "source": [
    "mb.samples.values[78]"
   ]
  },
  {
   "cell_type": "markdown",
   "metadata": {},
   "source": [
    "#### Compute the features for hex "
   ]
  },
  {
   "cell_type": "code",
   "execution_count": null,
   "metadata": {},
   "outputs": [],
   "source": [
    "hfeat_hex = compute_features(dataset['hex'])"
   ]
  },
  {
   "cell_type": "code",
   "execution_count": null,
   "metadata": {},
   "outputs": [],
   "source": [
    "hfeat_c = compute_features(dataset['24'])"
   ]
  },
  {
   "cell_type": "code",
   "execution_count": null,
   "metadata": {},
   "outputs": [],
   "source": [
    "hfeat_hex_sort = metatensor.sort(hfeat_hex.to(arrays='numpy'))"
   ]
  },
  {
   "cell_type": "code",
   "execution_count": null,
   "metadata": {},
   "outputs": [],
   "source": [
    "hfeat_hex_old = load('examples/data/periodic/graphene_supercell_variety/hfeat_tc_hex.npz', use_numpy=True).to(arrays='torch')"
   ]
  },
  {
   "cell_type": "code",
   "execution_count": null,
   "metadata": {},
   "outputs": [],
   "source": [
    "\n",
    "for k, b in hfeat_hex.items():\n",
    "    s1 = b.samples\n",
    "    s2 = hfeat_hex_old.block(k).samples\n",
    "    idx = np.where(s1.values != s2.values)\n",
    "    # if k['block_type']==1:\n",
    "    #     print(idx[0])\n",
    "    #     # assert s1 == s2, \n",
    "    #     print(s1.values[idx[0]])\n",
    "    #     print(s2.values[idx[0]])\n",
    "    #     break\n",
    "    assert b.values.shape == hfeat_hex_old.block(k).values.shape\n",
    "    diff = b.values - hfeat_hex_old.block(k).values\n",
    "    norm = torch.linalg.norm(diff)\n",
    "    if norm> 1e-4:\n",
    "        print(k, norm)"
   ]
  },
  {
   "cell_type": "code",
   "execution_count": null,
   "metadata": {},
   "outputs": [],
   "source": [
    "\n",
    "# target_blocks = get_targets(dataset['hex'])[0] \n",
    "# target_coupled_blocks = get_targets(dataset['hex'])[1] "
   ]
  },
  {
   "cell_type": "markdown",
   "metadata": {},
   "source": [
    "#### Compute features for c"
   ]
  },
  {
   "cell_type": "code",
   "execution_count": null,
   "metadata": {},
   "outputs": [],
   "source": [
    "hfeat_c1 = compute_features(dataset['24'])"
   ]
  },
  {
   "cell_type": "code",
   "execution_count": null,
   "metadata": {},
   "outputs": [],
   "source": [
    "for row in dataset[\"hex\"].matrices_translation[(0,0,0)].numpy()[0]:\n",
    "    print(' '.join([f'{float(v):>10.6f}' for v in row]))"
   ]
  },
  {
   "cell_type": "code",
   "execution_count": null,
   "metadata": {},
   "outputs": [],
   "source": [
    "# target_blocks = get_targets(dataset['24'])[0] \n",
    "# target_coupled_blocks = get_targets(dataset['24'])[1] "
   ]
  },
  {
   "cell_type": "markdown",
   "metadata": {},
   "source": [
    "#### Model"
   ]
  },
  {
   "cell_type": "code",
   "execution_count": null,
   "metadata": {},
   "outputs": [],
   "source": [
    "from mlelec.models.linear import LinearModelPeriodic\n",
    "device='cpu'\n",
    "# ridges_bias = np.load('examples/data/periodic/graphene_supercell_variety/ridges_bias_trainhex.npy', allow_pickle=True)\n",
    "# ridges_bias= np.load('examples/data/periodic/c2/train_cosmosrv/ridges_bias-nostupid.npy', allow_pickle=True)"
   ]
  },
  {
   "cell_type": "markdown",
   "metadata": {},
   "source": [
    "##### Train hex"
   ]
  },
  {
   "cell_type": "code",
   "execution_count": null,
   "metadata": {},
   "outputs": [],
   "source": [
    "def train_ridge(model, target_blocks, set_bias=False):\n",
    "    block_losses = {}\n",
    "    loss = 0\n",
    "    pred, ridges, kernels = model.fit_ridge_analytical(return_matrix = False, set_bias = set_bias)\n",
    "\n",
    "    for (key, block) in pred.items():\n",
    "        block_loss=torch.norm(block.values - target_blocks[key].values)**2\n",
    "        loss += block_loss\n",
    "        \n",
    "        block_losses[tuple(key.values)] = block_loss\n",
    "\n",
    "    # print(np.sum(list(block_losses.values())))\n",
    "    return loss, pred, ridges, block_losses#, kernels \n"
   ]
  },
  {
   "cell_type": "code",
   "execution_count": null,
   "metadata": {
    "scrolled": true
   },
   "outputs": [],
   "source": [
    "model_ridge = LinearModelPeriodic(twocfeat=hfeat_hex, target_blocks=target_coupled_blocks['hex'], frames = dataset['hex'].structures, orbitals= dataset['hex'].basis, cell_shifts=dataset['hex'].desired_shifts[:], device = device)"
   ]
  },
  {
   "cell_type": "code",
   "execution_count": null,
   "metadata": {},
   "outputs": [],
   "source": [
    "loss_ridge_bias, pred_ridge_bias, ridges_bias, loss_blocks = train_ridge(model_ridge, target_coupled_blocks['hex'], set_bias=True)\n"
   ]
  },
  {
   "cell_type": "code",
   "execution_count": null,
   "metadata": {},
   "outputs": [],
   "source": [
    "print(loss_ridge_bias)"
   ]
  },
  {
   "cell_type": "code",
   "execution_count": null,
   "metadata": {},
   "outputs": [],
   "source": [
    "from mlelec.utils.plot_utils import plot_block_errors"
   ]
  },
  {
   "cell_type": "code",
   "execution_count": null,
   "metadata": {},
   "outputs": [],
   "source": [
    "plot_block_errors(pred_ridge_bias, target_coupled_blocks['hex'], plot_loss=True)"
   ]
  },
  {
   "cell_type": "code",
   "execution_count": null,
   "metadata": {},
   "outputs": [],
   "source": []
  },
  {
   "cell_type": "markdown",
   "metadata": {},
   "source": [
    "##### Predict hex"
   ]
  },
  {
   "cell_type": "code",
   "execution_count": null,
   "metadata": {},
   "outputs": [],
   "source": [
    "\n",
    "model = LinearModelPeriodic(twocfeat=hfeat_hex, target_blocks=target_coupled_blocks['hex'], frames = dataset['hex'].structures, orbitals= dataset['hex'].basis, cell_shifts=dataset['hex'].desired_shifts[:], device = device)\n"
   ]
  },
  {
   "cell_type": "code",
   "execution_count": null,
   "metadata": {},
   "outputs": [],
   "source": [
    "from mlelec.utils.twocenter_utils import map_targetkeys_to_featkeys\n",
    "pred_blocks = []\n",
    "dummy_property = target_coupled_blocks['hex'][0].properties\n",
    "targetkeynames = target_coupled_blocks['hex'].keys.names\n",
    "for imdl, (key, tkey) in enumerate(zip(model.model,target_coupled_blocks['hex'].keys )):\n",
    "    # k = Labels( targetkeynames, values =np.array(eval(key)).reshape(1,-1))\n",
    "    target = target_coupled_blocks['hex'].block(tkey)\n",
    "    nsamples, ncomp, nprops = target.values.shape\n",
    "    \n",
    "    feat = map_targetkeys_to_featkeys(hfeat_hex, tkey)\n",
    "    x = ((feat.values.reshape((feat.values.shape[0] * feat.values.shape[1], -1))/1).cpu().numpy())\n",
    "    pred = ridges_bias[imdl].predict(x)\n",
    "    pred_blocks.append(\n",
    "                    TensorBlock(\n",
    "                        values=torch.from_numpy(pred.reshape((nsamples, ncomp, 1)))\n",
    "                        .to(device)\n",
    "                        .to(torch.float32),\n",
    "                        samples=target.samples,\n",
    "                        components=target.components,\n",
    "                        properties=dummy_property,\n",
    "                    )\n",
    "                )\n",
    "\n",
    "pred = TensorMap(target_coupled_blocks['hex'].keys, pred_blocks)\n",
    "loss = {}\n",
    "for k, tb in target_coupled_blocks['hex'].items():\n",
    "    loss[tuple(k)]= torch.norm(tb.values - pred.block(k).values)**2 "
   ]
  },
  {
   "cell_type": "code",
   "execution_count": null,
   "metadata": {},
   "outputs": [],
   "source": [
    "print(loss)\n",
    "\n",
    "print(sum(loss.values()))"
   ]
  },
  {
   "cell_type": "code",
   "execution_count": null,
   "metadata": {},
   "outputs": [],
   "source": []
  },
  {
   "cell_type": "markdown",
   "metadata": {},
   "source": [
    "##### Train c1"
   ]
  },
  {
   "cell_type": "code",
   "execution_count": null,
   "metadata": {},
   "outputs": [],
   "source": [
    "model_ridge = LinearModelPeriodic(twocfeat=hfeat_c1, target_blocks=target_coupled_blocks['24'], frames = dataset['24'].structures, orbitals= dataset['24'].basis, cell_shifts=dataset['24'].desired_shifts[:], device = device)"
   ]
  },
  {
   "cell_type": "code",
   "execution_count": null,
   "metadata": {},
   "outputs": [],
   "source": [
    "loss_ridge_bias, pred_ridge_bias, ridges_bias, loss_blocks = train_ridge(model_ridge, target_coupled_blocks['24'], set_bias=True)\n"
   ]
  },
  {
   "cell_type": "code",
   "execution_count": null,
   "metadata": {},
   "outputs": [],
   "source": [
    "print(loss_ridge_bias)"
   ]
  },
  {
   "cell_type": "markdown",
   "metadata": {},
   "source": [
    "##### Predict c1"
   ]
  },
  {
   "cell_type": "code",
   "execution_count": null,
   "metadata": {},
   "outputs": [],
   "source": [
    "\n",
    "model = LinearModelPeriodic(twocfeat=hfeat_c1, target_blocks=target_coupled_blocks['24'], frames = dataset['24'].structures, orbitals= dataset['24'].basis, cell_shifts=dataset['24'].desired_shifts[:], device = device)\n"
   ]
  },
  {
   "cell_type": "code",
   "execution_count": null,
   "metadata": {},
   "outputs": [],
   "source": [
    "from mlelec.utils.twocenter_utils import map_targetkeys_to_featkeys\n",
    "pred_blocks = []\n",
    "dummy_property = target_coupled_blocks['24'][0].properties\n",
    "targetkeynames = target_coupled_blocks['24'].keys.names\n",
    "for imdl, (key, tkey) in enumerate(zip(model.model,target_coupled_blocks['24'].keys )):\n",
    "    # k = Labels( targetkeynames, values =np.array(eval(key)).reshape(1,-1))\n",
    "    target = target_coupled_blocks['24'].block(tkey)\n",
    "    nsamples, ncomp, nprops = target.values.shape\n",
    "    \n",
    "    feat = map_targetkeys_to_featkeys(hfeat_c1, tkey)\n",
    "    x = ((feat.values.reshape((feat.values.shape[0] * feat.values.shape[1], -1))/1).cpu().numpy())\n",
    "    pred = ridges_bias[imdl].predict(x)\n",
    "    pred_blocks.append(\n",
    "                    TensorBlock(\n",
    "                        values=torch.from_numpy(pred.reshape((nsamples, ncomp, 1)))\n",
    "                        .to(device)\n",
    "                        .to(torch.float32),\n",
    "                        samples=target.samples,\n",
    "                        components=target.components,\n",
    "                        properties=dummy_property,\n",
    "                    )\n",
    "                )\n",
    "\n",
    "pred = TensorMap(target_coupled_blocks['24'].keys, pred_blocks)\n",
    "loss = {}\n",
    "for k, tb in target_coupled_blocks['24'].items():\n",
    "    loss[tuple(k)]= torch.norm(tb.values - pred.block(k).values)**2 "
   ]
  },
  {
   "cell_type": "code",
   "execution_count": null,
   "metadata": {},
   "outputs": [],
   "source": [
    "print(loss)\n",
    "\n",
    "print(sum(loss.values()))"
   ]
  },
  {
   "cell_type": "markdown",
   "metadata": {},
   "source": [
    "## C2 24 "
   ]
  },
  {
   "cell_type": "code",
   "execution_count": null,
   "metadata": {},
   "outputs": [],
   "source": [
    "target_blocks = {name: get_targets(dataset[name])[0] for name in ['24']}\n",
    "target_coupled_blocks = {name: get_targets(dataset[name])[1] for name in ['24']}"
   ]
  },
  {
   "cell_type": "code",
   "execution_count": null,
   "metadata": {},
   "outputs": [],
   "source": [
    "target_coupled_blocks"
   ]
  },
  {
   "cell_type": "code",
   "execution_count": null,
   "metadata": {},
   "outputs": [],
   "source": [
    "pred_ = load('examples/data/periodic/c2/train_cosmosrv/pred_ridges_24-nostupid.npz', use_numpy=True)\n",
    "loss_blocks = {}\n",
    "for k, b in target_coupled_blocks['24'].items():\n",
    "    loss_blocks[tuple(k)] = torch.linalg.norm(b.values - pred_.block(k).values)**2\n",
    "\n",
    "loss_= sum(loss_blocks.values())\n",
    "print(loss_)"
   ]
  },
  {
   "cell_type": "code",
   "execution_count": null,
   "metadata": {},
   "outputs": [],
   "source": [
    "import metatensor.operations as ops \n",
    "loss_frame = {}\n",
    "block_norms = {}\n",
    "for ifr in range(len(frames)): \n",
    "    if ifr==3: \n",
    "        continue\n",
    "    loss_frame[ifr] = {}\n",
    "    block_norms[ifr] = {}\n",
    "    frame_target = ops.slice(target_coupled_blocks['24'], axis= 'samples', labels=Labels(['structure'], np.array([[ifr]])))\n",
    "    frame_pred = ops.slice(pred_, axis= 'samples', labels=Labels(['structure'], np.array([[ifr]])))\n",
    "    \n",
    "    for (k, b),(k1,b1) in zip(frame_target.items(), frame_pred.items()):\n",
    "        loss_frame[ifr][tuple(k)] = torch.linalg.norm(b.values - b1.values)**2\n",
    "        block_norms[ifr][tuple(k)] = torch.linalg.norm(b.values) "
   ]
  },
  {
   "cell_type": "code",
   "execution_count": null,
   "metadata": {},
   "outputs": [],
   "source": [
    "np.sum( [list(loss_frame[ifr].values()) for ifr in loss_frame])"
   ]
  },
  {
   "cell_type": "code",
   "execution_count": null,
   "metadata": {},
   "outputs": [],
   "source": [
    "hfeat_norms = np.load('examples/data/periodic/c2/train_cosmosrv/hfeat_norms.npy', allow_pickle=True).item()\n"
   ]
  },
  {
   "cell_type": "code",
   "execution_count": null,
   "metadata": {},
   "outputs": [],
   "source": [
    "feat_frame = {}\n",
    "for ifr in fock_range: \n",
    "    feat_frame[ifr] = {}\n",
    "\n",
    "    frame_target = ops.slice(hfeat, axis= 'samples', labels=Labels(['structure'], np.array([[ifr]])))\n",
    "    \n",
    "    for (k, b) in frame_target.items():\n",
    "        feat_frame[ifr][tuple(k)] = np.linalg.norm(b.values) "
   ]
  },
  {
   "cell_type": "code",
   "execution_count": null,
   "metadata": {},
   "outputs": [],
   "source": [
    "val,idx,counts=np.unique([block_norms[ifr][tuple(k)] for ifr in range(24)], return_counts=True, return_index=True)\n",
    "np.sort(counts)"
   ]
  },
  {
   "cell_type": "code",
   "execution_count": null,
   "metadata": {},
   "outputs": [],
   "source": [
    "view(frames)"
   ]
  },
  {
   "cell_type": "code",
   "execution_count": null,
   "metadata": {},
   "outputs": [],
   "source": [
    "import matplotlib.pyplot as plt\n",
    "# fig, ax = plt.subplots()\n",
    "ks = [\n",
    "    # [1,  6,  1,  0,  6,  2,  1,  1],\n",
    "      [-1,  6,  1,  0,  6,  2,  1,  1],\n",
    "      # [ 1,  6,  2,  1,  6,  2,  1,  0],\n",
    "      # [ -1,  6,  2,  1,  6,  2,  1,  0],\n",
    "      # [ 1,  6,  2,  1,  6,  2,  1,  1],\n",
    "      # [ -1,  6,  2,  1,  6,  2,  1,  0],\n",
    "      [ 1,  6,  2,  1,  6,  2,  1,  2],\n",
    "      # [ -1,  6,  2,  1,  6,  2,  1,  2]\n",
    "     ]\n",
    "featkey = [ \n",
    "            [3, 1, 1, 6, 6, -1],\n",
    "    [3, 1, 2, 6, 6, 1]\n",
    "]\n",
    "# color_cycle = plt.cm._get_lines.color_cycle\n",
    "axes = []\n",
    "handles=[]\n",
    "labels=[]\n",
    "for k,fk in zip(ks,featkey):\n",
    "    fig, ax = plt.subplots()\n",
    "    # axes.append(ax.twinx())\n",
    "    losses = np.array([loss_frame[ifr][tuple(k)].numpy() for ifr in loss_frame])\n",
    "    x = [ifr for ifr in loss_frame]\n",
    "    \n",
    "# ax.hist(losses)\n",
    "    pl,=ax.plot([0],[0],lw=0)\n",
    "    # pl,=axes[-1].plot(range(24), losses, '-o', label = k, color=pl.get_color())\n",
    "    pl,=ax.plot(x, losses, '-o', label = k, color=pl.get_color())\n",
    "\n",
    "    ym,yM=ax.get_ylim()\n",
    "    delta=yM-ym\n",
    "    for ifr in block_norms:\n",
    "        # ax.annotate(f'{ifr}--{block_norms[ifr][tuple(k)].item():.2e}', xy=(ifr, losses[ifr]))\n",
    "        ax.annotate(f'{ifr}', xy=(ifr, losses[ifr]))\n",
    "        # ax.annotate(f'{ifr}-{block_norms[ifr][tuple(k)].item():.2e}', xy=(ifr, losses[ifr]))\n",
    "        # ax.annotate(f'{hfeat_norms[ifr][tuple(fk)]:.2e}', xy=(ifr, losses[ifr]-delta*0.05))\n",
    "    ax.legend()\n",
    "    ax.set_xlim(0,24)\n",
    "#     handles.append(pl)\n",
    "#     labels.append(k)\n",
    "# ax.legend(handles,labels,loc='center left', bbox_to_anchor=(1.2,0.5))"
   ]
  },
  {
   "cell_type": "code",
   "execution_count": null,
   "metadata": {},
   "outputs": [],
   "source": [
    "hfeat_norms"
   ]
  },
  {
   "cell_type": "code",
   "execution_count": null,
   "metadata": {},
   "outputs": [],
   "source": [
    "for k, b in target_coupled_blocks['hex'].items():\n",
    "    print(f'[{\" \".join([f\"{s:>2d},\" for s in k.values])}]  {torch.linalg.norm(b.values).item():.2e}, {loss_blocks[tuple(k)].item():.2e}')"
   ]
  },
  {
   "cell_type": "code",
   "execution_count": null,
   "metadata": {},
   "outputs": [],
   "source": []
  },
  {
   "cell_type": "code",
   "execution_count": null,
   "metadata": {},
   "outputs": [],
   "source": [
    "keys = [[-1,  6,  1,  0,  6,  2,  1,  1], [ 1,  6,  2,  1,  6,  2,  1,  2]]\n",
    "sample_idx = 100\n",
    "for k in keys:\n",
    "    b = target_coupled_blocks['hex'].block(bkey)\n",
    "    bkey = Labels(target_coupled_blocks['hex'].keys.names, np.asarray(k).reshape(1,-1))\n",
    "    print(target_coupled_blocks['hex'].block(bkey).values[sample_idx])\n",
    "    print()\n",
    "    print(pred_.block(bkey).values[sample_idx])\n",
    "    print()"
   ]
  },
  {
   "cell_type": "code",
   "execution_count": null,
   "metadata": {},
   "outputs": [],
   "source": [
    "b.samples.values.shape"
   ]
  },
  {
   "cell_type": "code",
   "execution_count": null,
   "metadata": {},
   "outputs": [],
   "source": [
    "# 4560/24 - 63*3 -1 "
   ]
  },
  {
   "cell_type": "code",
   "execution_count": null,
   "metadata": {},
   "outputs": [],
   "source": [
    "b.samples"
   ]
  },
  {
   "cell_type": "code",
   "execution_count": null,
   "metadata": {},
   "outputs": [],
   "source": [
    "# kfock['hex'].shape, kfock['double_hex'].shape"
   ]
  },
  {
   "cell_type": "markdown",
   "metadata": {},
   "source": [
    "## FEATURES "
   ]
  },
  {
   "cell_type": "code",
   "execution_count": null,
   "metadata": {},
   "outputs": [],
   "source": [
    "hypers_pair = {'cutoff': 4,\n",
    "          'max_radial':10, \n",
    "          'max_angular':4,\n",
    "          'atomic_gaussian_width':0.6,\n",
    "          'center_atom_weight':1,\n",
    "          \"radial_basis\": {\"Gto\": {}},\n",
    "          \"cutoff_function\": {\"ShiftedCosine\": {\"width\": 0.1}},\n",
    "}\n",
    "\n",
    "hypers_atom = {'cutoff': 4,\n",
    "          'max_radial':10, \n",
    "          'max_angular':4,\n",
    "          'atomic_gaussian_width':0.3,\n",
    "          'center_atom_weight':1,\n",
    "          \"radial_basis\": {\"Gto\": {}},\n",
    "          \"cutoff_function\": {\"ShiftedCosine\": {\"width\": 0.1}},\n",
    "}\n",
    "device = \"cpu\""
   ]
  },
  {
   "cell_type": "code",
   "execution_count": null,
   "metadata": {},
   "outputs": [],
   "source": []
  },
  {
   "cell_type": "code",
   "execution_count": null,
   "metadata": {},
   "outputs": [],
   "source": [
    "new_names=['ortho', 'hex', 'hex22', 'hex33', 'hex23']\n",
    "NAMES_START=1\n",
    "NAMES_STOP=2\n",
    "LCUT = 3 #2*np.max([np.max( np.asarray(orbitals[ORBS][k])[:,1]) for k in orbitals[ORBS]])\n",
    "print(\"LCUT\", LCUT)\n",
    "both_centers = True\n",
    "rhoij = {newname:pair_features(dataset[name].structures, hypers_atom, hypers_pair, order_nu = 1, all_pairs = True, \n",
    "                               both_centers=both_centers, max_shift = dataset[name].kmesh[0] ,  \n",
    "                               desired_shifts = dataset[name].desired_shifts_sup, mic=True, kmesh = dataset[name].kmesh[0], \n",
    "                               device=\"cpu\", lcut = LCUT) for i,(name, newname) in enumerate(zip(names[NAMES_START:NAMES_STOP],new_names[NAMES_START:NAMES_STOP]))}\n",
    "# gij = {newname:pair_features(dataset[name].structures, hypers_atom, hypers_pair, order_nu = 1, all_pairs = True, both_centers=both_centers, max_shift = dataset[name].kmesh[0] ,  desired_shifts = dataset[name].desired_shifts_sup, mic=True, kmesh = dataset[name].kmesh[0], device=\"cpu\", return_rho0ij=True) for i,(name, newname) in enumerate(zip(names[NAMES_START:NAMES_STOP],new_names[NAMES_START:NAMES_STOP]))}\n",
    "# #THIS IS SLOW "
   ]
  },
  {
   "cell_type": "code",
   "execution_count": null,
   "metadata": {
    "scrolled": true
   },
   "outputs": [],
   "source": [
    "# both_centers=False\n",
    "mic=True\n",
    "# # desired_shifts = None\n",
    "# # desired_shifts = dataset[name].desired_shifts_sup\n",
    "gij = {newname:pair_features(dataset[name].structures, hypers_atom, hypers_pair, order_nu = 1, all_pairs = True, both_centers=both_centers, max_shift = [8,8,1] ,  desired_shifts =  dataset[name].desired_shifts_sup, mic=mic, kmesh = dataset[name].kmesh[0], device=\"cpu\", return_rho0ij=True) for i,(name, newname) in enumerate(zip(names[NAMES_START:NAMES_STOP],new_names[NAMES_START:NAMES_STOP]))}\n"
   ]
  },
  {
   "cell_type": "code",
   "execution_count": null,
   "metadata": {
    "scrolled": true
   },
   "outputs": [],
   "source": [
    "if both_centers: \n",
    "    NU = 3\n",
    "else: \n",
    "    NU = 2\n",
    "rhonui = {newname: single_center_features(dataset[name].structures, hypers_atom, order_nu=NU, lcut=LCUT, \n",
    "                                          device = device, feature_names = rhoij[newname].property_names,) for i,(name, newname) in enumerate(zip(names[NAMES_START:NAMES_STOP],new_names[NAMES_START:NAMES_STOP]))}\n"
   ]
  },
  {
   "cell_type": "code",
   "execution_count": null,
   "metadata": {},
   "outputs": [],
   "source": [
    "hfeat_tc= {name: twocenter_features_periodic_NH(single_center=rhonui[name], pair= rhoij[name]) for name in new_names[NAMES_START:NAMES_STOP]}"
   ]
  },
  {
   "cell_type": "code",
   "execution_count": null,
   "metadata": {},
   "outputs": [],
   "source": [
    "# hfeat_tc['hex'].save('examples/data/periodic/graphene_supercell_variety/hfeat_tc_hex', use_numpy=True)\n",
    "# hfeat_tc['hex22'].save('examples/data/periodic/graphene_supercell_variety/hfeat_tc_hex22', use_numpy=True)\n",
    "\n",
    "# hfeat_tc['hex'].save('examples/data/periodic/c2/hfeat_tc_hex/results_C2_rotated_881/hfeat_tc.npz', use_numpy=True) # ROTATED structure\n",
    "# aa = load(\"rhoij_hex.npz\", use_numpy=True) \n",
    "# aa.to(arrays='torch')"
   ]
  },
  {
   "cell_type": "markdown",
   "metadata": {},
   "source": [
    "# ROTATION TEST "
   ]
  },
  {
   "cell_type": "code",
   "execution_count": null,
   "metadata": {},
   "outputs": [],
   "source": [
    "hfeat_tc={}\n",
    "# hfeat_tc['hex'] = load(\"examples/data/periodic/c2/results_C2_rotated_881/hfeat_tc.npz\", use_numpy=True) \n",
    "# hfeat_tc['hex'] = hfeat_tc['hex'].to(arrays='torch')"
   ]
  },
  {
   "cell_type": "code",
   "execution_count": null,
   "metadata": {},
   "outputs": [],
   "source": [
    "from mlelec.utils.symmetry import _wigner_d_real, rotate_frame, _rotation_matrix_from_angles\n",
    "import hickle"
   ]
  },
  {
   "cell_type": "code",
   "execution_count": null,
   "metadata": {},
   "outputs": [],
   "source": [
    "rotation = hickle.load('/home/nigam/scratch/MAC/mlelec/examples/data/water_rotated/rotations.hickle')"
   ]
  },
  {
   "cell_type": "code",
   "execution_count": null,
   "metadata": {},
   "outputs": [],
   "source": [
    "hex_rot = rotate_frame(dataset['hex'].structures[0], _rotation_matrix_from_angles(*rotation[1]))"
   ]
  },
  {
   "cell_type": "code",
   "execution_count": null,
   "metadata": {},
   "outputs": [],
   "source": [
    "dataset['hex_rot'] = PySCFPeriodicDataset(frames = [hex_rot], kgrid=kmesh, matrices_kpoint = kfock, overlap_kpoint=kover, target=[\"real_translation\"] ,device = \"cpu\", orbs = orbitals[ORBS])"
   ]
  },
  {
   "cell_type": "code",
   "execution_count": null,
   "metadata": {
    "scrolled": true
   },
   "outputs": [],
   "source": [
    "hfeat = {}\n",
    "for name in ['hex', 'hex_rot']:\n",
    "    hfeat[name]= compute_features(dataset[name])"
   ]
  },
  {
   "cell_type": "code",
   "execution_count": null,
   "metadata": {},
   "outputs": [],
   "source": [
    "for k, b in hfeat['hex'].items():\n",
    "   \n",
    "        # lbl1 = Labels(b.samples.names[:1], values = np.array([[0]]))\n",
    "        # sample1,sidx1 = labels_where(b.samples, lbl1, return_idx=True )\n",
    "    \n",
    "        # lbl2 = Labels(b.samples.names[:1], values = np.array([[1]]))\n",
    "        # sample2,sidx2 = labels_where(b.samples, lbl2, return_idx=True )\n",
    "        sample1 = b.samples\n",
    "        v1 = b.values\n",
    "        rotblock = hfeat['hex_rot'].block(k)\n",
    "        v2 = rotblock.values\n",
    "        sample2 = rotblock.samples\n",
    "    \n",
    "        L = k[\"spherical_harmonics_l\"]\n",
    "        wd = _wigner_d_real(L, *rotation[1]).to(b.values)\n",
    "        v1_rot = torch.einsum('mn, snp->smp', wd, v1)\n",
    "        # print(sample1.values.tol)\n",
    "        # assert np.all(sample1.values[:,:] ==sample2.values[:,:]), (np.where(sample1.values!= sample2.values))\n",
    "        if torch.linalg.norm(v1_rot - v2) > 1e-6:\n",
    "            \n",
    "            print(k.values, torch.linalg.norm(v1_rot - v2), np.linalg.norm(v1_rot), np.linalg.norm(v2))\n",
    "        # if k['spherical_harmonics_l']==1:"
   ]
  },
  {
   "cell_type": "code",
   "execution_count": null,
   "metadata": {},
   "outputs": [],
   "source": [
    "view(dataset['hex_rot'].structures[0])"
   ]
  },
  {
   "cell_type": "code",
   "execution_count": null,
   "metadata": {},
   "outputs": [],
   "source": [
    "print(sample1.values[45] , sample2.values[45])\n",
    "print(np.linalg.norm(b.values[45] - rotblock.values[45]))\n"
   ]
  },
  {
   "cell_type": "code",
   "execution_count": null,
   "metadata": {},
   "outputs": [],
   "source": [
    "# x=rotate_frame(frames[0], _rotation_matrix_from_angles(*rotation[1]))\n",
    "# frames[2].positions - x.positions"
   ]
  },
  {
   "cell_type": "code",
   "execution_count": null,
   "metadata": {},
   "outputs": [],
   "source": [
    "# feat = hfeat_tc\n",
    "for k, b in hfeat['hex'].items():\n",
    "   \n",
    "        lbl1 = Labels(b.samples.names[:1], values = np.array([[0]]))\n",
    "        sample1,sidx1 = labels_where(b.samples, lbl1, return_idx=True )\n",
    "    \n",
    "        lbl2 = Labels(b.samples.names[:1], values = np.array([[1]]))\n",
    "        sample2,sidx2 = labels_where(b.samples, lbl2, return_idx=True )\n",
    "        v1 = b.values[sidx1]\n",
    "        v2 = b.values[sidx2] \n",
    "        L = k[\"spherical_harmonics_l\"]\n",
    "        wd = _wigner_d_real(L, *rotation[0]).to(b.values)\n",
    "        v1_rot = torch.einsum('mn, snp->smp', wd, v1)\n",
    "        assert np.all(sample1.values[:,1:] ==sample2.values[:,1:])\n",
    "        if torch.linalg.norm(v1_rot - v2) > 1e-6:\n",
    "            \n",
    "            print(k.values, torch.linalg.norm(v1_rot - v2), np.linalg.norm(v1_rot), np.linalg.norm(v2))\n",
    "        # if k['spherical_harmonics_l']==1:\n",
    "        #      break\n"
   ]
  },
  {
   "cell_type": "code",
   "execution_count": null,
   "metadata": {},
   "outputs": [],
   "source": [
    "for k, b in target_coupled_blocks['hex'].items():\n",
    "    lbl1 = Labels(b.samples.names[:1], values = np.array([[0]]))\n",
    "    _,sidx1 = labels_where(b.samples, lbl1, return_idx=True )\n",
    "\n",
    "    lbl2 = Labels(b.samples.names[:1], values = np.array([[1]]))\n",
    "    _,sidx2 = labels_where(b.samples, lbl2, return_idx=True )\n",
    "    v1 = b.values[sidx1]\n",
    "    v2 = b.values[sidx2]\n",
    "\n",
    "    L = k[\"L\"]\n",
    "    wd = _wigner_d_real(L, *rotation[0]).to(b.values)\n",
    "    if torch.linalg.norm(wd @ v1 - v2) > 1e-6:\n",
    "        print(torch.linalg.norm(wd @ v1 - v2), np.linalg.norm(wd @ v1), np.linalg.norm(v2))\n"
   ]
  },
  {
   "cell_type": "code",
   "execution_count": null,
   "metadata": {},
   "outputs": [],
   "source": []
  },
  {
   "cell_type": "markdown",
   "metadata": {
    "heading_collapsed": true,
    "jp-MarkdownHeadingCollapsed": true
   },
   "source": [
    "# Compare FEATURES hex, hex22"
   ]
  },
  {
   "cell_type": "code",
   "execution_count": null,
   "metadata": {
    "hidden": true
   },
   "outputs": [],
   "source": [
    "#GIJ\n",
    "from torch.linalg import norm \n",
    "KEY = 0\n",
    "iframe = 0\n",
    "atom_i_uc = 0 \n",
    "atom_j_uc = 0 \n",
    "atom_i_sc = 0 \n",
    "# atom_j_sc = 4\n",
    "# tx,ty,tz = [1,0,0]\n",
    "# Tx, Ty, Tz = [0,0,0]\n",
    "atom_j_sc = 2\n",
    "tx,ty,tz = [4,5,0]\n",
    "Tx, Ty, Tz = [2,2,0]\n",
    "\n",
    "print(gij['hex'].keys[KEY])\n",
    "lbl = Labels(gij['hex'].sample_names[:-3], np.array([[iframe, atom_i_uc, atom_j_uc, tx, ty,tz]]))\n",
    "_,ucidx = labels_where(gij['hex'][KEY].samples, lbl, return_idx=True)\n",
    "print(ucidx)\n",
    "\n",
    "lbl = Labels(gij['hex22'].sample_names[:-3], np.array([[iframe, atom_i_sc, atom_j_sc, Tx, Ty,Tz]]))\n",
    "_,scidx = labels_where(gij['hex22'][KEY].samples, lbl, return_idx=True)\n",
    "print(scidx)\n",
    "# hfeat_tc['hex'][10].samples.values\n",
    "print('NORM diff', norm(gij['hex'][KEY].values[ucidx]- gij['hex22'][KEY].values[scidx]))\n"
   ]
  },
  {
   "cell_type": "code",
   "execution_count": null,
   "metadata": {
    "hidden": true
   },
   "outputs": [],
   "source": [
    "\n",
    "from metatensor import equal, equal_metadata, allclose, allclose_block, sort, sort_block"
   ]
  },
  {
   "cell_type": "code",
   "execution_count": null,
   "metadata": {
    "hidden": true
   },
   "outputs": [],
   "source": [
    "#RHOIJ\n",
    "KEY = 0\n",
    "iframe = 0\n",
    "atom_i_uc = 0 \n",
    "atom_j_uc = 0 \n",
    "atom_i_sc = 0 \n",
    "# atom_j_sc = 4\n",
    "# tx,ty,tz = [1,0,0]\n",
    "# Tx, Ty, Tz = [0,0,0]\n",
    "atom_j_sc = 2\n",
    "tx,ty,tz = [4,5,0]\n",
    "Tx, Ty, Tz = [2,2,0]\n",
    "\n",
    "print(rhoij['hex'].keys[KEY])\n",
    "lbl = Labels(rhoij['hex'].sample_names[:-3], np.array([[iframe, atom_i_uc, atom_j_uc, tx, ty,tz]]))\n",
    "_,ucidx = labels_where(rhoij['hex'][KEY].samples, lbl, return_idx=True)\n",
    "print(ucidx)\n",
    "\n",
    "lbl = Labels(rhoij['hex22'].sample_names[:-3], np.array([[iframe, atom_i_sc, atom_j_sc, Tx, Ty,Tz]]))\n",
    "_,scidx = labels_where(rhoij['hex22'][KEY].samples, lbl, return_idx=True)\n",
    "print(scidx)\n",
    "# hfeat_tc['hex'][10].samples.values\n",
    "print('NORM diff', norm(rhoij['hex'][KEY].values[ucidx]- rhoij['hex22'][KEY].values[scidx]))\n",
    "print(norm(rhoij['hex'][KEY].values[ucidx]), norm(rhoij['hex22'][KEY].values[scidx]))"
   ]
  },
  {
   "cell_type": "code",
   "execution_count": null,
   "metadata": {
    "hidden": true
   },
   "outputs": [],
   "source": [
    "#HFEAT\n",
    "print(hfeat_tc['hex'].keys[8])\n",
    "KEY = 8\n",
    "iframe = 0\n",
    "atom_i_uc = 0 \n",
    "atom_j_uc = 0 \n",
    "atom_i_sc = 0 \n",
    "# atom_j_sc = 4\n",
    "# tx,ty,tz = [1,0,0]\n",
    "# Tx, Ty, Tz = [0,0,0]\n",
    "\n",
    "atom_j_sc = 2\n",
    "tx,ty,tz = [4,5,0]\n",
    "Tx, Ty, Tz = [2,2,0] \n",
    "lbl = Labels(hfeat_tc['hex'].sample_names[:-3], np.array([[iframe, atom_i_uc, atom_j_uc, tx, ty,tz]]))\n",
    "_,ucidx = labels_where(hfeat_tc['hex'][KEY].samples, lbl, return_idx=True)\n",
    "print(ucidx)\n",
    "\n",
    "lbl = Labels(hfeat_tc['hex22'].sample_names[:-3], np.array([[iframe, atom_i_sc, atom_j_sc, Tx, Ty,Tz]]))\n",
    "_,scidx = labels_where(hfeat_tc['hex22'][KEY].samples, lbl, return_idx=True)\n",
    "print(scidx)\n",
    "# hfeat_tc['hex'][10].samples.values\n",
    "print('NORM diff', norm(hfeat_tc['hex'][KEY].values[ucidx]- hfeat_tc['hex22'][KEY].values[scidx]))"
   ]
  },
  {
   "cell_type": "code",
   "execution_count": null,
   "metadata": {
    "hidden": true
   },
   "outputs": [],
   "source": [
    "hfeat_tc['hex'].keys[8]"
   ]
  },
  {
   "cell_type": "code",
   "execution_count": null,
   "metadata": {
    "hidden": true
   },
   "outputs": [],
   "source": []
  },
  {
   "cell_type": "markdown",
   "metadata": {},
   "source": [
    "# LEARN "
   ]
  },
  {
   "cell_type": "code",
   "execution_count": null,
   "metadata": {},
   "outputs": [],
   "source": [
    "from mlelec.models.linear import LinearModelPeriodic\n",
    "from mlelec.utils.plot_utils import plot_hamiltonian "
   ]
  },
  {
   "cell_type": "code",
   "execution_count": null,
   "metadata": {},
   "outputs": [],
   "source": [
    "device = \"cpu\""
   ]
  },
  {
   "cell_type": "code",
   "execution_count": null,
   "metadata": {},
   "outputs": [],
   "source": [
    "def train_ridge(model, target_blocks, set_bias=False):\n",
    "    block_losses = {}\n",
    "    loss = 0\n",
    "    pred, ridges, kernels = model.fit_ridge_analytical(return_matrix = False, set_bias = set_bias)\n",
    "\n",
    "    for (key, block) in pred.items():\n",
    "        block_loss=torch.norm(block.values - target_blocks[key].values)**2\n",
    "        loss += block_loss\n",
    "        \n",
    "        block_losses[tuple(key.values)] = block_loss\n",
    "\n",
    "    # print(np.sum(list(block_losses.values())))\n",
    "    return loss, pred, ridges, block_losses#, kernels "
   ]
  },
  {
   "cell_type": "code",
   "execution_count": null,
   "metadata": {},
   "outputs": [],
   "source": [
    "def train_linear(model, target_blocks, nepochs, optimizer= None, log_interval =1):\n",
    "\n",
    "    losses = []\n",
    "    for epoch in range(nepochs):\n",
    "        optimizer.zero_grad()\n",
    "        pred = model(return_matrix = False)\n",
    "\n",
    "\n",
    "        loss = 0\n",
    "        for s in pred:\n",
    "            for (key, block) in pred[s].items():\n",
    "                loss+=torch.sum(block.values - target_blocks[s][key].values)**2\n",
    "        losses.append(loss.item())\n",
    "        if optimizer is None: \n",
    "            print(loss)\n",
    "            return losses, pred, model\n",
    "        \n",
    "        loss.backward()\n",
    "        optimizer.step()\n",
    "        if epoch % log_interval == 0:\n",
    "            print('Train Epoch: {} \\tLoss: {:.6f}'.format(\n",
    "                epoch, loss.item()))\n",
    "            \n",
    "\n",
    "    return losses, pred, model, optimizer "
   ]
  },
  {
   "cell_type": "code",
   "execution_count": null,
   "metadata": {},
   "outputs": [],
   "source": [
    "hfeat_tc = {}\n",
    "hfeat_tc['hex'] = hfeat_hex #load(\"examples/data/periodic/graphene_supercell_variety/hfeat_tc_hex.npz\", use_numpy=True)\n",
    "# hfeat_tc['hex'] = hfeat_tc['hex'].to(arrays='torch')\n",
    "hfeat_tc['hex22'] = compute_features(dataset['double_hex'] )#load(\"examples/data/periodic/graphene_supercell_variety/hfeat_tc_hex22.npz\", use_numpy=True)\n",
    "# hfeat_tc['hex22'] = hfeat_tc['hex22'].to(arrays='torch')"
   ]
  },
  {
   "cell_type": "code",
   "execution_count": null,
   "metadata": {
    "scrolled": true
   },
   "outputs": [],
   "source": [
    "model_ridge = LinearModelPeriodic(twocfeat=hfeat_tc['hex'], target_blocks=target_coupled_blocks['hex'], frames = dataset['hex'].structures, orbitals= dataset['hex'].basis, cell_shifts=dataset['hex'].desired_shifts[:], device = device)\n",
    "# model_ridge = LinearModelPeriodic(twocfeat=hfeat_hexpca, target_blocks=target['hex'], frames = dataset['hex'].structures, orbitals= orbs, cell_shifts=dataset['hex'].desired_shifts[1:], device = device)"
   ]
  },
  {
   "cell_type": "code",
   "execution_count": null,
   "metadata": {
    "scrolled": true
   },
   "outputs": [],
   "source": [
    "loss_ridge_bias, pred_ridge_bias, ridges_bias, loss_blocks = train_ridge(model_ridge, target_coupled_blocks['hex'], set_bias=True)\n"
   ]
  },
  {
   "cell_type": "code",
   "execution_count": null,
   "metadata": {},
   "outputs": [],
   "source": [
    "print(loss_ridge_bias)"
   ]
  },
  {
   "cell_type": "code",
   "execution_count": null,
   "metadata": {},
   "outputs": [],
   "source": [
    "# np.save('examples/data/periodic/graphene_supercell_variety/ridges_bias_trainhex.npy', ridges_bias)"
   ]
  },
  {
   "cell_type": "code",
   "execution_count": null,
   "metadata": {},
   "outputs": [],
   "source": [
    "import matplotlib.pyplot as plt\n",
    "plt.rcParams['figure.dpi'] = 500\n",
    "x=[','.join([str(lbl[i]) for i in [0,2,3,5,6,7]]) for lbl in target_coupled_blocks['hex'].keys.values.tolist()]\n",
    "fs = plt.rcParams['figure.figsize']\n",
    "fig, ax = plt.subplots(figsize = (fs[0]*5, fs[1]))\n",
    "ax_loss = ax.twinx()\n",
    "# s = (0,0,0)\n",
    "prediction_ = np.array([torch.linalg.norm(b.values) for b in pred_ridge_bias])\n",
    "target_ = np.array([torch.linalg.norm(b.values) for b in target_coupled_blocks['hex']])\n",
    "loss_ = np.array([torch.linalg.norm(b.values-b1.values)**2 for b,b1 in zip(target_coupled_blocks['hex'],pred_ridge_bias)])\n",
    "print(np.sum(loss_))\n",
    "# loss_ = np.array(list(loss_blocks.values()))\n",
    "#MASKING LOSS\n",
    "# mask = loss_ < 1e-6\n",
    "# loss_[mask] = 0\n",
    "# ax.bar(range(len(loss_blocks.keys())),list(loss_blocks.values()));\n",
    "\n",
    "x_ = 3.5*np.arange(len(loss_blocks))\n",
    "\n",
    "labels = []\n",
    "handles = []\n",
    "pl = ax.bar(x_, prediction_, label = 'pred', width = 1, color = 'tab:blue');\n",
    "handles.append(pl)\n",
    "labels.append('Prediction')\n",
    "pl = ax.bar(x_+1, target_, alpha = 1, label = 'target', width = 1, color = 'tab:orange');\n",
    "handles.append(pl)\n",
    "labels.append('Target')\n",
    "\n",
    "pl = ax_loss.bar(x_+2, loss_, alpha = 1, label = 'target', width = 1, color = 'tab:red');\n",
    "handles.append(pl)\n",
    "labels.append('Loss')\n",
    "\n",
    "ax.set_ylim(1e-7, 1000)\n",
    "ax.set_xticks(3.5*np.arange(len(loss_blocks))+3.5/3-0.5)\n",
    "ax.set_xticklabels(x, rotation=90);\n",
    "ax.legend(handles, labels, loc = 'best')\n",
    "ax.set_ylabel('|H|')\n",
    "ax_loss.set_ylabel('Loss')\n",
    "ax_loss.set_yscale('log')\n",
    "ax_loss.set_ylim(1e-10)\n",
    "ax.set_yscale('log')"
   ]
  },
  {
   "cell_type": "code",
   "execution_count": null,
   "metadata": {},
   "outputs": [],
   "source": [
    "# fig.savefig(results_C2_rotated_881)"
   ]
  },
  {
   "cell_type": "markdown",
   "metadata": {},
   "source": [
    "# USE the model trained on HEX to predict HEX22"
   ]
  },
  {
   "cell_type": "code",
   "execution_count": null,
   "metadata": {},
   "outputs": [],
   "source": [
    "model_ridge_hex22 = LinearModelPeriodic(twocfeat=hfeat_tc['hex22'], target_blocks=target_coupled_blocks['double_hex'], frames = dataset['double_hex'].structures, orbitals= dataset['double_hex'].basis, cell_shifts=dataset['double_hex'].desired_shifts[:], device = device)\n"
   ]
  },
  {
   "cell_type": "code",
   "execution_count": null,
   "metadata": {},
   "outputs": [],
   "source": [
    "from mlelec.utils.twocenter_utils import map_targetkeys_to_featkeys\n",
    "device= \"cpu\"\n",
    "pred_hex22_blocks = []\n",
    "dummy_property = target_coupled_blocks['double_hex'][0].properties\n",
    "targetkeynames = target_coupled_blocks['double_hex'].keys.names\n",
    "for imdl, (key, tkey) in enumerate(zip(model_ridge_hex22.model,target_coupled_blocks['double_hex'].keys )):\n",
    "    # k = Labels( targetkeynames, values =np.array(eval(key)).reshape(1,-1))\n",
    "    target = target_coupled_blocks['double_hex'].block(tkey)\n",
    "    nsamples, ncomp, nprops = target.values.shape\n",
    "    \n",
    "    feat = map_targetkeys_to_featkeys(hfeat_tc['hex22'], tkey)\n",
    "    x = ((feat.values.reshape((feat.values.shape[0] * feat.values.shape[1], -1))/1).cpu().numpy())\n",
    "    pred = ridges_bias[imdl].predict(x)\n",
    "    pred_hex22_blocks.append(\n",
    "                    TensorBlock(\n",
    "                        values=torch.from_numpy(pred.reshape((nsamples, ncomp, 1)))\n",
    "                        .to(device)\n",
    "                        .to(torch.float32),\n",
    "                        samples=target.samples,\n",
    "                        components=target.components,\n",
    "                        properties=dummy_property,\n",
    "                    )\n",
    "                )\n"
   ]
  },
  {
   "cell_type": "code",
   "execution_count": null,
   "metadata": {},
   "outputs": [],
   "source": [
    "pred_hex22 = TensorMap(target_coupled_blocks['double_hex'].keys, pred_hex22_blocks)"
   ]
  },
  {
   "cell_type": "code",
   "execution_count": null,
   "metadata": {},
   "outputs": [],
   "source": [
    "loss = {}\n",
    "for k, tb in target_coupled_blocks['double_hex'].items():\n",
    "    loss[tuple(k)]= torch.norm(tb.values - pred_hex22.block(k).values/2)**2 "
   ]
  },
  {
   "cell_type": "code",
   "execution_count": null,
   "metadata": {},
   "outputs": [],
   "source": [
    "print(loss)"
   ]
  },
  {
   "cell_type": "code",
   "execution_count": null,
   "metadata": {},
   "outputs": [],
   "source": [
    "print(sum(loss.values()))"
   ]
  },
  {
   "cell_type": "code",
   "execution_count": null,
   "metadata": {},
   "outputs": [],
   "source": [
    "#HEX22\n",
    "import matplotlib.pyplot as plt\n",
    "x=[','.join([str(lbl[i]) for i in [0,2,3,5,6,7]]) for lbl in target_coupled_blocks['hex'].keys.values.tolist()]\n",
    "fs = plt.rcParams['figure.figsize']\n",
    "fig, ax = plt.subplots(figsize = (fs[0]*2, fs[1]))\n",
    "ax_loss = ax.twinx()\n",
    "# s = (0,0,0)\n",
    "prediction_ = np.array([torch.linalg.norm(b.values) for b in pred_hex22])\n",
    "target_ = np.array([torch.linalg.norm(b.values) for b in target_coupled_blocks['double_hex']])\n",
    "loss_ = np.array(list(loss_blocks.values()))\n",
    "#MASKING LOSS\n",
    "mask = loss_ < 1e-6\n",
    "loss_[mask] = 0\n",
    "\n",
    "# ax.bar(range(len(loss_blocks.keys())),list(loss_blocks.values()));\n",
    "\n",
    "x_ = 3.5*np.arange(len(loss_blocks))\n",
    "\n",
    "labels = []\n",
    "handles = []\n",
    "pl = ax.bar(x_, prediction_, label = 'pred', width = 1, color = 'tab:blue');\n",
    "handles.append(pl)\n",
    "labels.append('Prediction')\n",
    "pl = ax.bar(x_+1, target_, alpha = 1, label = 'target', width = 1, color = 'tab:orange');\n",
    "handles.append(pl)\n",
    "labels.append('Target')\n",
    "\n",
    "pl = ax_loss.bar(x_+2, loss_, alpha = 1, label = 'target', width = 1, color = 'tab:red');\n",
    "handles.append(pl)\n",
    "labels.append('Loss')\n",
    "\n",
    "ax.set_xticks(3.5*np.arange(len(loss_blocks))+3.5/3-0.5)\n",
    "ax.set_xticklabels(x, rotation=90);\n",
    "ax.legend(handles, labels, loc = 'best')\n",
    "ax.set_ylabel('|H|')\n",
    "ax_loss.set_ylabel('Loss')\n",
    "ax_loss.set_yscale('log')\n",
    "ax.set_ylim(1e-7)\n",
    "# ax_loss.set_ylim(2e-6, 9.9e-2)\n",
    "ax.set_yscale('log')"
   ]
  },
  {
   "cell_type": "code",
   "execution_count": null,
   "metadata": {},
   "outputs": [],
   "source": []
  },
  {
   "cell_type": "code",
   "execution_count": null,
   "metadata": {},
   "outputs": [],
   "source": []
  },
  {
   "cell_type": "code",
   "execution_count": null,
   "metadata": {},
   "outputs": [],
   "source": []
  }
 ],
 "metadata": {
  "kernelspec": {
   "display_name": "Python 3 (ipykernel)",
   "language": "python",
   "name": "python3"
  },
  "language_info": {
   "codemirror_mode": {
    "name": "ipython",
    "version": 3
   },
   "file_extension": ".py",
   "mimetype": "text/x-python",
   "name": "python",
   "nbconvert_exporter": "python",
   "pygments_lexer": "ipython3",
   "version": "3.11.7"
  },
  "toc": {
   "base_numbering": 1,
   "nav_menu": {},
   "number_sections": true,
   "sideBar": true,
   "skip_h1_title": false,
   "title_cell": "Table of Contents",
   "title_sidebar": "Contents",
   "toc_cell": false,
   "toc_position": {},
   "toc_section_display": true,
   "toc_window_display": false
  }
 },
 "nbformat": 4,
 "nbformat_minor": 4
}
