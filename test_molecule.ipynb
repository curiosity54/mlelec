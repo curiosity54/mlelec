{
 "cells": [
  {
   "cell_type": "code",
   "execution_count": 1,
   "id": "ddaf2c77",
   "metadata": {},
   "outputs": [],
   "source": [
    "%load_ext autoreload \n",
    "%autoreload 2"
   ]
  },
  {
   "cell_type": "code",
   "execution_count": 2,
   "id": "5a3632d0-6019-4afa-b2d7-a30c75e48c01",
   "metadata": {},
   "outputs": [],
   "source": [
    "from ase.io import read\n",
    "import numpy as np\n",
    "import torch\n",
    "from mlelec.utils.twocenter_utils import fix_orbital_order, _to_blocks, _to_coupled_basis, _to_matrix, _to_uncoupled_basis"
   ]
  },
  {
   "cell_type": "code",
   "execution_count": 5,
   "id": "25832d31-178e-4458-99dd-77169f2b5f95",
   "metadata": {},
   "outputs": [],
   "source": [
    "ethorbs = {6: [[1,0,0],[2,0,0],[3,0,0],[2,1,1], [2,1,-1],[2,1,0], [3,1,1], [3,1,-1],[3,1,0], [3,2,-2], [3,2,-1],[3,2,0], [3,2,1],[3,2,2]],\n",
    "1: [[1,0,0],[2,0,0],[2,1,1], [2,1,-1],[2,1,0]]\n",
    "}\n",
    "ethframe = read('examples/data/periodic/ethene/ethene.xyz') \n",
    "ethfock = np.load('examples/data/periodic/ethene/fock_ethene.npy')\n",
    "ethoverlap = np.load('examples/data/periodic/ethene/over_ethene.npy')\n",
    "ethfock  = fix_orbital_order(ethfock, ethframe, ethorbs)\n",
    "\n",
    "\n",
    "# We must pass UNFIXED fock matrix to the MLDataset  <<<<<<<<<<<<<\n",
    "\n",
    "blocks = _to_blocks(ethfock, ethframe, ethorbs)\n",
    "coupled = _to_coupled_basis(blocks, ethorbs)\n"
   ]
  },
  {
   "cell_type": "code",
   "execution_count": null,
   "id": "fbb75275-7390-4c7c-82eb-0b5ea852a420",
   "metadata": {},
   "outputs": [],
   "source": []
  },
  {
   "cell_type": "markdown",
   "id": "06a7751c",
   "metadata": {},
   "source": [
    "\n",
    "# THESE ARE UNFIXED "
   ]
  },
  {
   "cell_type": "code",
   "execution_count": 6,
   "id": "952a6b2a",
   "metadata": {},
   "outputs": [],
   "source": [
    "btype = 0\n",
    "n1, l1, n2, l2 = 2, 1, 3, 2\n",
    "block=blocks.block(block_type = btype, n_i = n1, l_i = l1, n_j = n2, l_j = l2)"
   ]
  },
  {
   "cell_type": "code",
   "execution_count": 7,
   "id": "8fc2c5f3",
   "metadata": {},
   "outputs": [
    {
     "name": "stdout",
     "output_type": "stream",
     "text": [
      "Labels(\n",
      "    structure  center  neighbor\n",
      "        0        0        0\n",
      "        0        1        1\n",
      ")\n",
      "\n",
      "torch.Size([2, 3, 5, 1])\n"
     ]
    }
   ],
   "source": [
    "print(block.samples)\n",
    "print()\n",
    "print(block.values.shape)"
   ]
  },
  {
   "cell_type": "code",
   "execution_count": 8,
   "id": "a6c401d9",
   "metadata": {},
   "outputs": [],
   "source": [
    "L=2\n",
    "block_coupled=coupled.block(block_type = btype, n_i = n1, l_i = l1, n_j = n2, l_j = l2,L=L)"
   ]
  },
  {
   "cell_type": "code",
   "execution_count": 9,
   "id": "6a0429a6",
   "metadata": {},
   "outputs": [
    {
     "name": "stdout",
     "output_type": "stream",
     "text": [
      "Labels(\n",
      "    structure  center  neighbor\n",
      "        0        0        0\n",
      "        0        1        1\n",
      ")\n",
      "\n",
      "tensor([[[-1.4794e-02],\n",
      "         [-8.1845e-17],\n",
      "         [-6.4607e-17],\n",
      "         [-5.5151e-17],\n",
      "         [-1.0181e-16]],\n",
      "\n",
      "        [[ 1.4794e-02],\n",
      "         [-1.0477e-17],\n",
      "         [ 8.2890e-17],\n",
      "         [ 1.7136e-16],\n",
      "         [ 1.6368e-18]]])\n"
     ]
    }
   ],
   "source": [
    "print(block_coupled.samples)\n",
    "print()\n",
    "print(block_coupled.values)"
   ]
  },
  {
   "cell_type": "code",
   "execution_count": 10,
   "id": "9ef7a085-1d30-4fd0-ab0b-f2530671a5e1",
   "metadata": {},
   "outputs": [
    {
     "data": {
      "text/plain": [
       "TensorMap with 129 blocks\n",
       "keys: block_type  species_i  n_i  l_i  species_j  n_j  l_j  L\n",
       "          0           6       1    0       6       1    0   0\n",
       "          0           6       1    0       6       2    0   0\n",
       "                               ...\n",
       "          1           1       2    1       1       2    1   2\n",
       "          -1          1       2    1       1       2    1   1"
      ]
     },
     "execution_count": 10,
     "metadata": {},
     "output_type": "execute_result"
    }
   ],
   "source": [
    "coupled"
   ]
  },
  {
   "cell_type": "code",
   "execution_count": 11,
   "id": "6ce4db48",
   "metadata": {},
   "outputs": [],
   "source": [
    "def check_target(coupled_blocks, tol=1e-4):\n",
    "    for k, b in coupled_blocks.items():\n",
    "        btype= k['block_type']\n",
    "        L = k['L']\n",
    "        l1 = k['l_i']\n",
    "        l2 = k['l_j']\n",
    "        n1 = k['n_i']\n",
    "        n2 = k['n_j']\n",
    "        if L%2==0 and btype==-1 and (n1==n2) and (l1==l2):\n",
    "            assert torch.norm(b.values)<=tol, f'btype {btype} L{L} failed - Block norm {torch.norm(b.values)}'\n",
    "        elif L%2==1 and btype==1 and (n1==n2) and (l1==l2):\n",
    "            assert torch.norm(b.values)<=tol, f'btype {btype} L{L} failed - Block norm {torch.norm(b.values)}'\n",
    "        # elif s==-1:\n",
    "        #     if L%2==0 and btype==1:\n",
    "        #         assert torch.norm(b.values)<=tol, f'btype {btype} L{L} sigma{s} failed - Block norm {torch.norm(b.values)}'\n",
    "        #     elif L%2==1 and btype==-1:\n",
    "        #         assert torch.norm(b.values)<=tol, f'btype {btype} L{L} sigma{s} failed - Block norm {torch.norm(b.values)}'\n",
    "        # else:\n",
    "        #     print('error', li, l2, L, s)\n",
    "# for k, b in target_coupled_blocks[name].items():\n",
    "#     print(k, torch.norm(b.values))\n",
    "check_target(coupled)"
   ]
  },
  {
   "cell_type": "code",
   "execution_count": 13,
   "id": "15656d8e-a779-4556-8f98-ec765ebb4c84",
   "metadata": {},
   "outputs": [],
   "source": [
    "# for k,b in coupled.items():\n",
    "#     print(k, torch.norm(b.values))"
   ]
  },
  {
   "cell_type": "code",
   "execution_count": null,
   "id": "29494eca-2d1a-45e6-ade9-6c76bf5403e6",
   "metadata": {},
   "outputs": [],
   "source": []
  },
  {
   "cell_type": "code",
   "execution_count": 14,
   "id": "8bb2251f",
   "metadata": {},
   "outputs": [
    {
     "name": "stderr",
     "output_type": "stream",
     "text": [
      "/home/pegolo/micromamba/envs/sci/lib/python3.11/site-packages/pyscf/dft/libxc.py:771: UserWarning: Since PySCF-2.3, B3LYP (and B3P86) are changed to the VWN-RPA variant, corresponding to the original definition by Stephens et al. (issue 1480) and the same as the B3LYP functional in Gaussian. To restore the VWN5 definition, you can put the setting \"B3LYP_WITH_VWN5 = True\" in pyscf_conf.py\n",
      "  warnings.warn('Since PySCF-2.3, B3LYP (and B3P86) are changed to the VWN-RPA variant, '\n"
     ]
    }
   ],
   "source": [
    "from mlelec.features.acdc import single_center_features, pair_features, twocenter_hermitian_features"
   ]
  },
  {
   "cell_type": "code",
   "execution_count": 15,
   "id": "96c1f9e7",
   "metadata": {},
   "outputs": [],
   "source": [
    "hypers = {'cutoff': 4.0, \n",
    "          'max_radial': 6, \n",
    "          'max_angular': 2,\n",
    "           'atomic_gaussian_width':0.6,\n",
    "          'center_atom_weight':1,\n",
    "          \"radial_basis\": {\"Gto\": {}},\n",
    "          \"cutoff_function\": {\"ShiftedCosine\": {\"width\": 0.1}}, }"
   ]
  },
  {
   "cell_type": "code",
   "execution_count": 16,
   "id": "89bb97f9",
   "metadata": {},
   "outputs": [],
   "source": [
    "rhoij = pair_features(ethframe, hypers= hypers,order_nu = 1, lcut=4)\n",
    "gij = pair_features(ethframe, hypers= hypers,order_nu = 1, lcut=4,return_rho0ij=True)\n",
    "rhoi = single_center_features(ethframe, hypers= hypers,order_nu = 2, lcut=4, feature_names = rhoij.property_names)#.to(dtype=torch.float32)"
   ]
  },
  {
   "cell_type": "code",
   "execution_count": 17,
   "id": "3df80c9e-6329-4d62-9f4f-26bd724d29ba",
   "metadata": {},
   "outputs": [
    {
     "data": {
      "text/plain": [
       "(tensor([[[8.4708e-01, 4.9243e-01, 3.6433e-01,  ..., 6.6816e-03,\n",
       "           2.3294e-03, 5.7654e-04]],\n",
       " \n",
       "         [[8.4708e-01, 4.9243e-01, 3.6433e-01,  ..., 6.6816e-03,\n",
       "           2.3294e-03, 5.7654e-04]],\n",
       " \n",
       "         [[8.4708e-01, 4.9243e-01, 3.6433e-01,  ..., 6.6816e-03,\n",
       "           2.3294e-03, 5.7654e-04]],\n",
       " \n",
       "         [[8.4708e-01, 4.9243e-01, 3.6433e-01,  ..., 6.6816e-03,\n",
       "           2.3294e-03, 5.7654e-04]]]),\n",
       " tensor([[[ 8.7886e-01,  4.6945e-01,  7.7801e-02,  3.1722e-02,  1.3307e-03,\n",
       "           -7.6962e-04]],\n",
       " \n",
       "         [[ 4.0176e-02,  6.4406e-02,  2.5014e-01,  1.8195e-01,  4.9607e-02,\n",
       "            1.1251e-02]],\n",
       " \n",
       "         [[ 4.3305e-03, -2.6896e-03,  7.4717e-02,  2.0000e-01,  1.1163e-01,\n",
       "            3.3424e-02]],\n",
       " \n",
       "         [[-3.0015e-03,  3.8786e-03, -6.8002e-03,  8.3822e-02,  1.5778e-01,\n",
       "            7.2135e-02]],\n",
       " \n",
       "         [[ 4.0176e-02,  6.4406e-02,  2.5014e-01,  1.8195e-01,  4.9607e-02,\n",
       "            1.1251e-02]],\n",
       " \n",
       "         [[ 8.7886e-01,  4.6945e-01,  7.7801e-02,  3.1722e-02,  1.3307e-03,\n",
       "           -7.6962e-04]],\n",
       " \n",
       "         [[-3.0015e-03,  3.8786e-03, -6.8002e-03,  8.3822e-02,  1.5778e-01,\n",
       "            7.2135e-02]],\n",
       " \n",
       "         [[ 4.3305e-03, -2.6896e-03,  7.4717e-02,  2.0000e-01,  1.1163e-01,\n",
       "            3.3424e-02]],\n",
       " \n",
       "         [[ 4.3305e-03, -2.6896e-03,  7.4717e-02,  2.0000e-01,  1.1163e-01,\n",
       "            3.3424e-02]],\n",
       " \n",
       "         [[-3.0015e-03,  3.8786e-03, -6.8002e-03,  8.3822e-02,  1.5778e-01,\n",
       "            7.2135e-02]],\n",
       " \n",
       "         [[ 8.7886e-01,  4.6945e-01,  7.7801e-02,  3.1722e-02,  1.3307e-03,\n",
       "           -7.6962e-04]],\n",
       " \n",
       "         [[ 4.0176e-02,  6.4406e-02,  2.5014e-01,  1.8195e-01,  4.9607e-02,\n",
       "            1.1251e-02]],\n",
       " \n",
       "         [[-3.0015e-03,  3.8786e-03, -6.8002e-03,  8.3822e-02,  1.5778e-01,\n",
       "            7.2135e-02]],\n",
       " \n",
       "         [[ 4.3305e-03, -2.6896e-03,  7.4717e-02,  2.0000e-01,  1.1163e-01,\n",
       "            3.3424e-02]],\n",
       " \n",
       "         [[ 4.0176e-02,  6.4406e-02,  2.5014e-01,  1.8195e-01,  4.9607e-02,\n",
       "            1.1251e-02]],\n",
       " \n",
       "         [[ 8.7886e-01,  4.6945e-01,  7.7801e-02,  3.1722e-02,  1.3307e-03,\n",
       "           -7.6962e-04]]], dtype=torch.float64))"
      ]
     },
     "execution_count": 17,
     "metadata": {},
     "output_type": "execute_result"
    }
   ],
   "source": [
    "rhoi[0].values, gij[0].values"
   ]
  },
  {
   "cell_type": "code",
   "execution_count": null,
   "id": "1ce1a345-1eb9-43d0-958c-9c6777f5c72c",
   "metadata": {},
   "outputs": [],
   "source": []
  },
  {
   "cell_type": "code",
   "execution_count": 18,
   "id": "5e9c30e9-17da-4773-a92b-025a952331b1",
   "metadata": {},
   "outputs": [],
   "source": [
    "from metatensor import Labels, TensorBlock, TensorMap\n",
    "gijblock = []\n",
    "for k,b in gij.items():\n",
    "    gijblock.append( TensorBlock(\n",
    "                        values = b.values, \n",
    "                        components = b.components, \n",
    "                        properties = b.properties, \n",
    "                        samples = Labels(b.samples.names[:3], values = b.samples.values[:,:3])\n",
    "        \n",
    "    ))\n",
    "\n",
    "gij = TensorMap(gij.keys, gijblock)"
   ]
  },
  {
   "cell_type": "code",
   "execution_count": 19,
   "id": "aa848fc5-7ad2-43a1-9f83-4ea3b890b6f8",
   "metadata": {},
   "outputs": [],
   "source": [
    "import metatensor"
   ]
  },
  {
   "cell_type": "code",
   "execution_count": 20,
   "id": "6528d2cb",
   "metadata": {},
   "outputs": [],
   "source": [
    "hfeat = twocenter_hermitian_features(rhoi, rhoij)"
   ]
  },
  {
   "cell_type": "code",
   "execution_count": 21,
   "id": "b6887962-3f35-420f-a87a-3e249c954d4f",
   "metadata": {},
   "outputs": [],
   "source": [
    "hfeat = metatensor.remove_dimension(hfeat, axis=\"keys\", name=\"cell_shift_a\")\n",
    "hfeat = metatensor.remove_dimension(hfeat, axis=\"keys\", name=\"cell_shift_b\")\n",
    "hfeat = metatensor.remove_dimension(hfeat, axis=\"keys\", name=\"cell_shift_c\")\n",
    "hfeat = metatensor.remove_dimension(hfeat, axis=\"keys\", name=\"cell_shift_a_MIC\")\n",
    "hfeat = metatensor.remove_dimension(hfeat, axis=\"keys\", name=\"cell_shift_b_MIC\")\n",
    "hfeat = metatensor.remove_dimension(hfeat, axis=\"keys\", name=\"cell_shift_c_MIC\")\n"
   ]
  },
  {
   "cell_type": "code",
   "execution_count": 23,
   "id": "0db71260-ccf4-401d-af3c-bc77b722f0f2",
   "metadata": {},
   "outputs": [
    {
     "ename": "AssertionError",
     "evalue": "(1, LabelsEntry(order_nu=2, inversion_sigma=1, spherical_harmonics_l=1, species_center=1, species_neighbor=1, block_type=1), tensor(0.9504), '+')",
     "output_type": "error",
     "traceback": [
      "\u001b[0;31m---------------------------------------------------------------------------\u001b[0m",
      "\u001b[0;31mAssertionError\u001b[0m                            Traceback (most recent call last)",
      "Cell \u001b[0;32mIn[23], line 8\u001b[0m\n\u001b[1;32m      6\u001b[0m mb \u001b[38;5;241m=\u001b[39m hfeat\u001b[38;5;241m.\u001b[39mblock(mkey)\n\u001b[1;32m      7\u001b[0m \u001b[38;5;28;01mif\u001b[39;00m ((L\u001b[38;5;241m%\u001b[39m\u001b[38;5;241m2\u001b[39m \u001b[38;5;241m==\u001b[39m \u001b[38;5;241m1\u001b[39m \u001b[38;5;129;01mand\u001b[39;00m k[\u001b[38;5;124m'\u001b[39m\u001b[38;5;124mblock_type\u001b[39m\u001b[38;5;124m'\u001b[39m] \u001b[38;5;241m==\u001b[39m \u001b[38;5;241m1\u001b[39m) \u001b[38;5;129;01mor\u001b[39;00m (L\u001b[38;5;241m%\u001b[39m\u001b[38;5;241m2\u001b[39m \u001b[38;5;241m==\u001b[39m \u001b[38;5;241m0\u001b[39m \u001b[38;5;129;01mand\u001b[39;00m k[\u001b[38;5;124m'\u001b[39m\u001b[38;5;124mblock_type\u001b[39m\u001b[38;5;124m'\u001b[39m] \u001b[38;5;241m==\u001b[39m \u001b[38;5;241m-\u001b[39m\u001b[38;5;241m1\u001b[39m) )\u001b[38;5;129;01mand\u001b[39;00m k[\u001b[38;5;124m'\u001b[39m\u001b[38;5;124minversion_sigma\u001b[39m\u001b[38;5;124m'\u001b[39m]\u001b[38;5;241m==\u001b[39m\u001b[38;5;241m1\u001b[39m:\n\u001b[0;32m----> 8\u001b[0m     \u001b[38;5;28;01massert\u001b[39;00m torch\u001b[38;5;241m.\u001b[39mnorm(b\u001b[38;5;241m.\u001b[39mvalues) \u001b[38;5;241m==\u001b[39m\u001b[38;5;241m0\u001b[39m, (L, k, torch\u001b[38;5;241m.\u001b[39mnorm(b\u001b[38;5;241m.\u001b[39mvalues), \u001b[38;5;124m'\u001b[39m\u001b[38;5;124m+\u001b[39m\u001b[38;5;124m'\u001b[39m )\n\u001b[1;32m      9\u001b[0m \u001b[38;5;28;01melif\u001b[39;00m ((L\u001b[38;5;241m%\u001b[39m\u001b[38;5;241m2\u001b[39m \u001b[38;5;241m==\u001b[39m \u001b[38;5;241m1\u001b[39m \u001b[38;5;129;01mand\u001b[39;00m k[\u001b[38;5;124m'\u001b[39m\u001b[38;5;124mblock_type\u001b[39m\u001b[38;5;124m'\u001b[39m] \u001b[38;5;241m==\u001b[39m \u001b[38;5;241m-\u001b[39m\u001b[38;5;241m1\u001b[39m) \u001b[38;5;129;01mor\u001b[39;00m (L\u001b[38;5;241m%\u001b[39m\u001b[38;5;241m2\u001b[39m \u001b[38;5;241m==\u001b[39m \u001b[38;5;241m0\u001b[39m \u001b[38;5;129;01mand\u001b[39;00m k[\u001b[38;5;124m'\u001b[39m\u001b[38;5;124mblock_type\u001b[39m\u001b[38;5;124m'\u001b[39m] \u001b[38;5;241m==\u001b[39m \u001b[38;5;241m1\u001b[39m)) \u001b[38;5;129;01mand\u001b[39;00m k[\u001b[38;5;124m'\u001b[39m\u001b[38;5;124minversion_sigma\u001b[39m\u001b[38;5;124m'\u001b[39m]\u001b[38;5;241m==\u001b[39m\u001b[38;5;241m1\u001b[39m:\n\u001b[1;32m     10\u001b[0m     \u001b[38;5;28;01massert\u001b[39;00m torch\u001b[38;5;241m.\u001b[39mnorm(mb\u001b[38;5;241m.\u001b[39mvalues) \u001b[38;5;241m==\u001b[39m\u001b[38;5;241m0\u001b[39m, (L, k, torch\u001b[38;5;241m.\u001b[39mnorm(mb\u001b[38;5;241m.\u001b[39mvalues), \u001b[38;5;124m'\u001b[39m\u001b[38;5;124m-\u001b[39m\u001b[38;5;124m'\u001b[39m )\n",
      "\u001b[0;31mAssertionError\u001b[0m: (1, LabelsEntry(order_nu=2, inversion_sigma=1, spherical_harmonics_l=1, species_center=1, species_neighbor=1, block_type=1), tensor(0.9504), '+')"
     ]
    }
   ],
   "source": [
    "for k,b in hfeat.items():\n",
    "    L = k['spherical_harmonics_l']\n",
    "    if k['block_type']==1 or k['block_type']==-1:\n",
    "        # print(k.values, np.array([-1*k['block_type']]+k.values[1:].tolist() ]))\n",
    "        mkey = Labels(k.names, np.array([k.values[:-1].tolist() +[-1*k['block_type']] ]))\n",
    "        mb = hfeat.block(mkey)\n",
    "        if ((L%2 == 1 and k['block_type'] == 1) or (L%2 == 0 and k['block_type'] == -1) )and k['inversion_sigma']==1:\n",
    "            assert torch.norm(b.values) ==0, (L, k, torch.norm(b.values), '+' )\n",
    "        elif ((L%2 == 1 and k['block_type'] == -1) or (L%2 == 0 and k['block_type'] == 1)) and k['inversion_sigma']==1:\n",
    "            assert torch.norm(mb.values) ==0, (L, k, torch.norm(mb.values), '-' )\n",
    "\n",
    "        \n",
    "        elif ((L%2 == 1 and k['block_type'] == -1) or (L%2 == 0 and k['block_type'] == 1) )and k['inversion_sigma']==-1:\n",
    "            assert torch.norm(b.values) ==0, (L, k, torch.norm(b.values), '+' )\n",
    "        elif ((L%2 == 1 and k['block_type'] == 1) or (L%2 == 0 and k['block_type'] == -1)) and k['inversion_sigma']== -1:\n",
    "            assert torch.norm(mb.values) ==0, (L, k, torch.norm(mb.values), '-' )\n",
    "\n",
    "        \n",
    "        else:\n",
    "            print('s<ah,jfbvaekugdfsuiyhg')"
   ]
  },
  {
   "cell_type": "code",
   "execution_count": 89,
   "id": "bc5ecd41-59da-4eea-b769-13fbd2dddb9c",
   "metadata": {},
   "outputs": [],
   "source": [
    "block_type = 1\n",
    "n1,l1,n1,l2 = 1,0,2,1\n",
    "L=0\n",
    "inversion_sigma = 1\n",
    "b = hfeat.blocks(block_type=block_type, spherical_harmonics_l=L, inversion_sigma=inversion_sigma)[0]#.values\n",
    "mb  = hfeat.blocks(block_type=-1*block_type, spherical_harmonics_l=L, inversion_sigma=inversion_sigma)[0]#.values"
   ]
  },
  {
   "cell_type": "code",
   "execution_count": 90,
   "id": "c0239c8b-eb14-4de4-a9cb-962668728537",
   "metadata": {},
   "outputs": [
    {
     "data": {
      "text/plain": [
       "Labels(\n",
       "    structure  center  neighbor\n",
       "        0        2        3\n",
       "        0        2        4\n",
       "        0        2        5\n",
       "        0        3        4\n",
       "        0        3        5\n",
       "        0        4        5\n",
       ")"
      ]
     },
     "execution_count": 90,
     "metadata": {},
     "output_type": "execute_result"
    }
   ],
   "source": [
    "b.samples"
   ]
  },
  {
   "cell_type": "code",
   "execution_count": 91,
   "id": "13911f1e-9bf1-4c2c-8012-51dd8ae25404",
   "metadata": {},
   "outputs": [
    {
     "data": {
      "text/plain": [
       "tensor([[0.0568, 0.0911, 0.3537, 0.2573, 0.0702, 0.0159]], dtype=torch.float64)"
      ]
     },
     "execution_count": 91,
     "metadata": {},
     "output_type": "execute_result"
    }
   ],
   "source": [
    "b.values[0]"
   ]
  },
  {
   "cell_type": "code",
   "execution_count": 92,
   "id": "c6763a36-9e78-4481-9d22-646b95a85250",
   "metadata": {},
   "outputs": [
    {
     "data": {
      "text/plain": [
       "tensor([[0., 0., 0., 0., 0., 0.]], dtype=torch.float64)"
      ]
     },
     "execution_count": 92,
     "metadata": {},
     "output_type": "execute_result"
    }
   ],
   "source": [
    "mb.values[0]"
   ]
  },
  {
   "cell_type": "code",
   "execution_count": 13,
   "id": "8d55744e",
   "metadata": {},
   "outputs": [],
   "source": [
    "from mlelec.models.linear import LinearTargetModel\n",
    "from mlelec.data.dataset import MoleculeDataset, MLDataset"
   ]
  },
  {
   "cell_type": "code",
   "execution_count": 14,
   "id": "54fabad6",
   "metadata": {},
   "outputs": [],
   "source": [
    "eth_data = MoleculeDataset(mol_name=\"ethene\", \n",
    "                           frames = [ethframe], \n",
    "                           \n",
    "                           target_data=\n",
    "                           {\"fock\":torch.from_numpy(ethfock).reshape(1, *ethfock.shape),\n",
    "                            },\n",
    "                            orbs=\"def2svp\",\n",
    "                            aux_data={\"orbitals\":ethorbs,\n",
    "                                      \"overlap\": ethoverlap })\n",
    "ml_data = MLDataset(molecule_data = eth_data, \n",
    "                    features = hfeat, \n",
    "                    shuffle=False,\n",
    "                    model_strategy = \"coupled\",\n",
    "                    )"
   ]
  },
  {
   "cell_type": "code",
   "execution_count": 15,
   "id": "27b850e7",
   "metadata": {},
   "outputs": [],
   "source": [
    "species = 6\n",
    "L = 2\n",
    "sigma = -1\n",
    "rhoiblock = rhoi.block(spherical_harmonics_l = L, species_center = species, inversion_sigma = sigma)"
   ]
  },
  {
   "cell_type": "code",
   "execution_count": 16,
   "id": "a5059c3e",
   "metadata": {},
   "outputs": [
    {
     "name": "stdout",
     "output_type": "stream",
     "text": [
      "Labels(\n",
      "    structure  center\n",
      "        0        0\n",
      "        0        1\n",
      ")\n",
      "\n",
      "tensor([[[-0.0251, -0.0589, -0.0853,  ...,  0.0000,  0.0000,  0.0000],\n",
      "         [ 0.0000,  0.0000,  0.0000,  ...,  0.0000,  0.0000,  0.0000],\n",
      "         [ 0.0000,  0.0000,  0.0000,  ...,  0.0000,  0.0000,  0.0000],\n",
      "         [ 0.0000,  0.0000,  0.0000,  ...,  0.0000,  0.0000,  0.0000],\n",
      "         [ 0.0000,  0.0000,  0.0000,  ...,  0.0000,  0.0000,  0.0000]],\n",
      "\n",
      "        [[ 0.0251,  0.0589,  0.0853,  ...,  0.0000,  0.0000,  0.0000],\n",
      "         [ 0.0000,  0.0000,  0.0000,  ...,  0.0000,  0.0000,  0.0000],\n",
      "         [ 0.0000,  0.0000,  0.0000,  ...,  0.0000,  0.0000,  0.0000],\n",
      "         [ 0.0000,  0.0000,  0.0000,  ...,  0.0000,  0.0000,  0.0000],\n",
      "         [ 0.0000,  0.0000,  0.0000,  ...,  0.0000,  0.0000,  0.0000]]])\n"
     ]
    }
   ],
   "source": [
    "print(rhoiblock.samples)\n",
    "print()\n",
    "print(rhoiblock.values)"
   ]
  },
  {
   "cell_type": "markdown",
   "id": "b70b6bc2",
   "metadata": {},
   "source": [
    "Inversion sigma is really important to match the target behavior to the features\n",
    "For example 2p-3d L=1, L=2 targets have a different sign for C1-C1 vs C2-C2"
   ]
  },
  {
   "cell_type": "markdown",
   "id": "9ad19eac",
   "metadata": {},
   "source": []
  },
  {
   "cell_type": "code",
   "execution_count": 17,
   "id": "b06fc299",
   "metadata": {},
   "outputs": [],
   "source": [
    "model = LinearTargetModel(ml_data)"
   ]
  },
  {
   "cell_type": "code",
   "execution_count": 18,
   "id": "5a7e2892",
   "metadata": {},
   "outputs": [],
   "source": [
    "optimizer = torch.optim.Adam(model.parameters(), lr=1e-3)\n",
    "scheduler = torch.optim.lr_scheduler.ReduceLROnPlateau(\n",
    "    optimizer, factor=0.5, patience=20, verbose=True\n",
    ")\n",
    "import mlelec.metrics as mlmetrics\n",
    "\n",
    "loss_fn = getattr(mlmetrics, \"L2_loss\") # Loss function is the L2 loss \n",
    "losses = []\n",
    "early_stop_count = 0\n",
    "nepochs = 800"
   ]
  },
  {
   "cell_type": "code",
   "execution_count": 19,
   "id": "bb2b94d5",
   "metadata": {},
   "outputs": [],
   "source": [
    "from mlelec.data.dataset import get_dataloader\n",
    "ml_data._split_indices(train_frac=1.0, val_frac=0.0, test_frac=0.0)\n",
    "train_dl, val_dl, test_dl = get_dataloader(ml_data, model_return=\"blocks\") # instantiate dataloaders to return the coupled blocks"
   ]
  },
  {
   "cell_type": "code",
   "execution_count": 20,
   "id": "9b5db39a",
   "metadata": {},
   "outputs": [
    {
     "name": "stdout",
     "output_type": "stream",
     "text": [
      "Epoch 0, train loss 418.4944763183594\n",
      "Epoch 10, train loss 334.0411682128906\n",
      "Epoch 20, train loss 266.82220458984375\n",
      "Epoch 30, train loss 211.9429473876953\n",
      "Epoch 40, train loss 168.40927124023438\n",
      "Epoch 50, train loss 133.489990234375\n",
      "Epoch 60, train loss 103.20378875732422\n",
      "Epoch 70, train loss 75.93745422363281\n",
      "Epoch 80, train loss 52.22489547729492\n",
      "Epoch 90, train loss 32.97823715209961\n",
      "Epoch 100, train loss 18.74751091003418\n",
      "Epoch 110, train loss 9.378336906433105\n",
      "Epoch 120, train loss 4.022314548492432\n",
      "Epoch 130, train loss 1.4446722269058228\n",
      "Epoch 140, train loss 0.44128701090812683\n",
      "Epoch 150, train loss 0.14232543110847473\n",
      "Epoch 160, train loss 0.07764691114425659\n",
      "Epoch 170, train loss 0.06322343647480011\n",
      "Epoch 180, train loss 0.05259237438440323\n",
      "Epoch 190, train loss 0.04199056699872017\n",
      "Epoch 200, train loss 0.033397722989320755\n",
      "Epoch 210, train loss 0.027092618867754936\n",
      "Epoch 220, train loss 0.022415271028876305\n",
      "Epoch 230, train loss 0.01878647319972515\n",
      "Epoch 240, train loss 0.015893422067165375\n",
      "Epoch 250, train loss 0.013568475842475891\n",
      "Epoch 260, train loss 0.011693359352648258\n",
      "Epoch 270, train loss 0.010170308873057365\n",
      "Epoch 280, train loss 0.00891939364373684\n",
      "Epoch 290, train loss 0.00787824671715498\n",
      "Epoch 300, train loss 0.006999455392360687\n",
      "Epoch 310, train loss 0.00624725129455328\n",
      "Epoch 320, train loss 0.00559487147256732\n",
      "Epoch 330, train loss 0.005022453609853983\n",
      "Epoch 340, train loss 0.0045152814127504826\n",
      "Epoch 350, train loss 0.004062437452375889\n",
      "Epoch 360, train loss 0.0036558257415890694\n",
      "Epoch 370, train loss 0.0032893104944378138\n",
      "Epoch 380, train loss 0.0029581706039607525\n",
      "Epoch 390, train loss 0.00265866843983531\n",
      "Epoch 400, train loss 0.002387709217146039\n",
      "Epoch 410, train loss 0.0021427259780466557\n",
      "Epoch 420, train loss 0.001921475282870233\n",
      "Epoch 430, train loss 0.0017219482688233256\n",
      "Epoch 440, train loss 0.0015498483553528786\n",
      "Epoch 450, train loss 0.0014076997758820653\n",
      "Epoch 460, train loss 0.0012478908756747842\n",
      "Epoch 470, train loss 0.0011091154301539063\n",
      "Epoch 480, train loss 0.000991709646768868\n",
      "Epoch 490, train loss 0.0008888888987712562\n",
      "Epoch 500, train loss 0.0007977322675287724\n",
      "Epoch 510, train loss 0.0007167073199525476\n",
      "Epoch 520, train loss 0.0006451928638853133\n",
      "Epoch 530, train loss 0.0005821530357934535\n",
      "Epoch 540, train loss 0.0005266987136565149\n",
      "Epoch 550, train loss 0.0004780300660058856\n",
      "Epoch 560, train loss 0.0004354162374511361\n",
      "Epoch 570, train loss 0.0003981952031608671\n",
      "Epoch 580, train loss 0.0003657614579424262\n",
      "Epoch 590, train loss 0.00033756103948689997\n",
      "Epoch 600, train loss 0.00031310698250308633\n",
      "Epoch 610, train loss 0.000291942385956645\n",
      "Epoch 620, train loss 0.0002736712631303817\n",
      "Epoch 630, train loss 0.00025793223176151514\n",
      "Epoch 640, train loss 0.00024440576089546084\n",
      "Epoch 650, train loss 0.0002328072878299281\n",
      "Epoch 660, train loss 0.00022288699983619153\n",
      "Epoch 670, train loss 0.00021442020079120994\n",
      "Epoch 680, train loss 0.0002072038478218019\n",
      "Epoch 690, train loss 0.00020109157776460052\n",
      "Epoch 700, train loss 0.00020335207227617502\n",
      "Epoch 710, train loss 0.00022693946084473282\n",
      "Epoch 720, train loss 0.00019662472186610103\n",
      "Epoch 730, train loss 0.00018623057985678315\n",
      "Epoch 740, train loss 0.0001829653192544356\n",
      "Epoch 750, train loss 0.00018004211597144604\n",
      "Epoch 760, train loss 0.00017814819875638932\n"
     ]
    },
    {
     "ename": "KeyboardInterrupt",
     "evalue": "",
     "output_type": "error",
     "traceback": [
      "\u001b[0;31m---------------------------------------------------------------------------\u001b[0m",
      "\u001b[0;31mKeyboardInterrupt\u001b[0m                         Traceback (most recent call last)",
      "Cell \u001b[0;32mIn[20], line 9\u001b[0m\n\u001b[1;32m      7\u001b[0m     loss \u001b[38;5;241m=\u001b[39m loss_fn(pred, data[\u001b[38;5;124m\"\u001b[39m\u001b[38;5;124moutput\u001b[39m\u001b[38;5;124m\"\u001b[39m])\n\u001b[1;32m      8\u001b[0m     train_loss \u001b[38;5;241m+\u001b[39m\u001b[38;5;241m=\u001b[39m loss\n\u001b[0;32m----> 9\u001b[0m     \u001b[43mloss\u001b[49m\u001b[38;5;241;43m.\u001b[39;49m\u001b[43mbackward\u001b[49m\u001b[43m(\u001b[49m\u001b[43m)\u001b[49m\n\u001b[1;32m     10\u001b[0m     optimizer\u001b[38;5;241m.\u001b[39mstep()\n\u001b[1;32m     11\u001b[0m losses\u001b[38;5;241m.\u001b[39mappend(train_loss\u001b[38;5;241m.\u001b[39mitem())\n",
      "File \u001b[0;32m~/miniconda3/lib/python3.11/site-packages/torch/_tensor.py:492\u001b[0m, in \u001b[0;36mTensor.backward\u001b[0;34m(self, gradient, retain_graph, create_graph, inputs)\u001b[0m\n\u001b[1;32m    482\u001b[0m \u001b[38;5;28;01mif\u001b[39;00m has_torch_function_unary(\u001b[38;5;28mself\u001b[39m):\n\u001b[1;32m    483\u001b[0m     \u001b[38;5;28;01mreturn\u001b[39;00m handle_torch_function(\n\u001b[1;32m    484\u001b[0m         Tensor\u001b[38;5;241m.\u001b[39mbackward,\n\u001b[1;32m    485\u001b[0m         (\u001b[38;5;28mself\u001b[39m,),\n\u001b[0;32m   (...)\u001b[0m\n\u001b[1;32m    490\u001b[0m         inputs\u001b[38;5;241m=\u001b[39minputs,\n\u001b[1;32m    491\u001b[0m     )\n\u001b[0;32m--> 492\u001b[0m \u001b[43mtorch\u001b[49m\u001b[38;5;241;43m.\u001b[39;49m\u001b[43mautograd\u001b[49m\u001b[38;5;241;43m.\u001b[39;49m\u001b[43mbackward\u001b[49m\u001b[43m(\u001b[49m\n\u001b[1;32m    493\u001b[0m \u001b[43m    \u001b[49m\u001b[38;5;28;43mself\u001b[39;49m\u001b[43m,\u001b[49m\u001b[43m \u001b[49m\u001b[43mgradient\u001b[49m\u001b[43m,\u001b[49m\u001b[43m \u001b[49m\u001b[43mretain_graph\u001b[49m\u001b[43m,\u001b[49m\u001b[43m \u001b[49m\u001b[43mcreate_graph\u001b[49m\u001b[43m,\u001b[49m\u001b[43m \u001b[49m\u001b[43minputs\u001b[49m\u001b[38;5;241;43m=\u001b[39;49m\u001b[43minputs\u001b[49m\n\u001b[1;32m    494\u001b[0m \u001b[43m\u001b[49m\u001b[43m)\u001b[49m\n",
      "File \u001b[0;32m~/miniconda3/lib/python3.11/site-packages/torch/autograd/__init__.py:251\u001b[0m, in \u001b[0;36mbackward\u001b[0;34m(tensors, grad_tensors, retain_graph, create_graph, grad_variables, inputs)\u001b[0m\n\u001b[1;32m    246\u001b[0m     retain_graph \u001b[38;5;241m=\u001b[39m create_graph\n\u001b[1;32m    248\u001b[0m \u001b[38;5;66;03m# The reason we repeat the same comment below is that\u001b[39;00m\n\u001b[1;32m    249\u001b[0m \u001b[38;5;66;03m# some Python versions print out the first line of a multi-line function\u001b[39;00m\n\u001b[1;32m    250\u001b[0m \u001b[38;5;66;03m# calls in the traceback and some print out the last line\u001b[39;00m\n\u001b[0;32m--> 251\u001b[0m \u001b[43mVariable\u001b[49m\u001b[38;5;241;43m.\u001b[39;49m\u001b[43m_execution_engine\u001b[49m\u001b[38;5;241;43m.\u001b[39;49m\u001b[43mrun_backward\u001b[49m\u001b[43m(\u001b[49m\u001b[43m  \u001b[49m\u001b[38;5;66;43;03m# Calls into the C++ engine to run the backward pass\u001b[39;49;00m\n\u001b[1;32m    252\u001b[0m \u001b[43m    \u001b[49m\u001b[43mtensors\u001b[49m\u001b[43m,\u001b[49m\n\u001b[1;32m    253\u001b[0m \u001b[43m    \u001b[49m\u001b[43mgrad_tensors_\u001b[49m\u001b[43m,\u001b[49m\n\u001b[1;32m    254\u001b[0m \u001b[43m    \u001b[49m\u001b[43mretain_graph\u001b[49m\u001b[43m,\u001b[49m\n\u001b[1;32m    255\u001b[0m \u001b[43m    \u001b[49m\u001b[43mcreate_graph\u001b[49m\u001b[43m,\u001b[49m\n\u001b[1;32m    256\u001b[0m \u001b[43m    \u001b[49m\u001b[43minputs\u001b[49m\u001b[43m,\u001b[49m\n\u001b[1;32m    257\u001b[0m \u001b[43m    \u001b[49m\u001b[43mallow_unreachable\u001b[49m\u001b[38;5;241;43m=\u001b[39;49m\u001b[38;5;28;43;01mTrue\u001b[39;49;00m\u001b[43m,\u001b[49m\n\u001b[1;32m    258\u001b[0m \u001b[43m    \u001b[49m\u001b[43maccumulate_grad\u001b[49m\u001b[38;5;241;43m=\u001b[39;49m\u001b[38;5;28;43;01mTrue\u001b[39;49;00m\u001b[43m,\u001b[49m\n\u001b[1;32m    259\u001b[0m \u001b[43m\u001b[49m\u001b[43m)\u001b[49m\n",
      "\u001b[0;31mKeyboardInterrupt\u001b[0m: "
     ]
    }
   ],
   "source": [
    "for epoch in range(nepochs):\n",
    "    model.train(True)\n",
    "    train_loss = 0\n",
    "    for i, data in enumerate(train_dl):\n",
    "        optimizer.zero_grad()\n",
    "        pred = model(data[\"input\"], return_type=\"coupled_blocks\", batch_indices=data[\"idx\"])  \n",
    "        loss = loss_fn(pred, data[\"output\"])\n",
    "        train_loss += loss\n",
    "        loss.backward()\n",
    "        optimizer.step()\n",
    "    losses.append(train_loss.item())\n",
    "    # scheduler.step(train_loss)\n",
    "\n",
    "\n",
    "\n",
    "        # val_loss = loss_fn(torch.cat(val_pred), torch.cat(val))\n",
    "    if epoch % 10 == 0:\n",
    "        print(f\"Epoch {epoch}, train loss {train_loss/len(ml_data.train_idx)}\")\n",
    "\n",
    "        # print(f\"Epoch {epoch} val loss {val_loss/len(ml_data.val_idx)}\")"
   ]
  },
  {
   "cell_type": "code",
   "execution_count": 21,
   "id": "46b64adf",
   "metadata": {},
   "outputs": [],
   "source": [
    "pred = model.forward(hfeat, return_type=\"coupled_blocks\")"
   ]
  },
  {
   "cell_type": "code",
   "execution_count": 22,
   "id": "a681ee41",
   "metadata": {},
   "outputs": [],
   "source": [
    "from mlelec.utils.plot_utils import plot_block_errors"
   ]
  },
  {
   "cell_type": "code",
   "execution_count": 23,
   "id": "ec6469e3",
   "metadata": {},
   "outputs": [
    {
     "data": {
      "text/plain": [
       "tensor([[[-11.2317]],\n",
       "\n",
       "        [[-11.2317]]])"
      ]
     },
     "execution_count": 23,
     "metadata": {},
     "output_type": "execute_result"
    }
   ],
   "source": [
    "coupled[0].values"
   ]
  },
  {
   "cell_type": "code",
   "execution_count": 24,
   "id": "3c1ab001",
   "metadata": {},
   "outputs": [
    {
     "name": "stdout",
     "output_type": "stream",
     "text": [
      "tensor([[[-1.3245e-16],\n",
      "         [-2.8418e-04],\n",
      "         [-2.5784e-17]],\n",
      "\n",
      "        [[ 7.6762e-17],\n",
      "         [ 2.8418e-04],\n",
      "         [ 4.8384e-18]]])\n",
      "\n",
      "tensor([[[-2.5784e-17],\n",
      "         [-1.3245e-16],\n",
      "         [-2.8418e-04]],\n",
      "\n",
      "        [[ 4.8384e-18],\n",
      "         [ 7.6762e-17],\n",
      "         [ 2.8418e-04]]])\n"
     ]
    }
   ],
   "source": [
    "for k, b in data[\"output\"].items():\n",
    "    eq= b.samples==coupled.block(k).samples\n",
    "    if not eq:\n",
    "        raise ValueError(f\"Samples are not the same for block {k}\")\n",
    "    norm = torch.linalg.norm(b.values-coupled.block(k).values)\n",
    "    if norm > 1e-10:\n",
    "        \n",
    "        print(b.values)\n",
    "        print()\n",
    "        print(coupled.block(k).values)\n",
    "        break"
   ]
  },
  {
   "cell_type": "code",
   "execution_count": 30,
   "id": "9ef2f3b5",
   "metadata": {},
   "outputs": [
    {
     "data": {
      "image/png": "[encoded data removed]",
      "text/plain": [
       "<Figure size 3200x480 with 2 Axes>"
      ]
     },
     "metadata": {},
     "output_type": "display_data"
    }
   ],
   "source": [
    "plot_block_errors(pred, data[\"output\"], plot_loss=True)"
   ]
  },
  {
   "cell_type": "code",
   "execution_count": null,
   "id": "35bcd270",
   "metadata": {},
   "outputs": [],
   "source": []
  }
 ],
 "metadata": {
  "kernelspec": {
   "display_name": "Python 3 (ipykernel)",
   "language": "python",
   "name": "python3"
  },
  "language_info": {
   "codemirror_mode": {
    "name": "ipython",
    "version": 3
   },
   "file_extension": ".py",
   "mimetype": "text/x-python",
   "name": "python",
   "nbconvert_exporter": "python",
   "pygments_lexer": "ipython3",
   "version": "3.11.7"
  }
 },
 "nbformat": 4,
 "nbformat_minor": 5
}
