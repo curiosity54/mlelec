{
 "cells": [
  {
   "cell_type": "code",
   "execution_count": 1,
   "id": "e78f2d86-1a50-4563-a7e3-5030f90b9169",
   "metadata": {},
   "outputs": [],
   "source": [
    "%load_ext autoreload\n",
    "%autoreload 2"
   ]
  },
  {
   "cell_type": "code",
   "execution_count": 2,
   "id": "ff84274a-981b-4bb7-86f0-eadf1e6ae409",
   "metadata": {},
   "outputs": [],
   "source": [
    "from ase.io import read\n",
    "from ase.visualize import view\n",
    "import numpy as np \n",
    "import torch \n",
    "import metatensor \n",
    "import matplotlib.pyplot as plt\n",
    "torch.set_default_dtype(torch.float64)"
   ]
  },
  {
   "cell_type": "code",
   "execution_count": 4,
   "id": "d7e3f35a-1f9b-4a49-a7a2-a87d35808a8e",
   "metadata": {},
   "outputs": [
    {
     "name": "stderr",
     "output_type": "stream",
     "text": [
      "/home/pegolo/micromamba/envs/sci/lib/python3.11/site-packages/pyscf/dft/libxc.py:771: UserWarning: Since PySCF-2.3, B3LYP (and B3P86) are changed to the VWN-RPA variant, corresponding to the original definition by Stephens et al. (issue 1480) and the same as the B3LYP functional in Gaussian. To restore the VWN5 definition, you can put the setting \"B3LYP_WITH_VWN5 = True\" in pyscf_conf.py\n",
      "  warnings.warn('Since PySCF-2.3, B3LYP (and B3P86) are changed to the VWN-RPA variant, '\n"
     ]
    }
   ],
   "source": [
    "from metatensor import Labels, TensorBlock, TensorMap\n",
    "from mlelec.data.dataset import PySCFPeriodicDataset\n",
    "from mlelec.utils.twocenter_utils import fix_orbital_order"
   ]
  },
  {
   "cell_type": "code",
   "execution_count": 3,
   "id": "de3a65d4-9d55-4229-b59c-31d4d6a44bfc",
   "metadata": {},
   "outputs": [],
   "source": [
    "orbitals = {'sto-3g': {6: [[1,0,0],[2,0,0],[2,1,1], [2,1,-1],[2,1,0]]}, \n",
    "            'def2svp': {6: [[1,0,0],[2,0,0],[3,0,0],[2,1,1], [2,1,-1],[2,1,0], [3,1,1], [3,1,-1],[3,1,0], [3,2,-2], [3,2,-1],[3,2,0], [3,2,1],[3,2,2]]}}"
   ]
  },
  {
   "cell_type": "code",
   "execution_count": 59,
   "id": "e7bd42da-40fd-4b70-b1bc-0f1ab7522c94",
   "metadata": {},
   "outputs": [],
   "source": [
    "root = 'examples/data/periodic/graphene_supercell_variety'\n",
    "ORBS = 'sto-3g'\n",
    "graphene = read(f'{root}/graphene_variety.xyz', '1')\n",
    "graphene.pbc = True\n",
    "\n",
    "kmesh = [8,8,1]\n",
    "kfock = np.load(f\"{root}/fock_hex_881.npy\")\n",
    "kover = np.load(f\"{root}/over_hex_881.npy\")\n",
    "\n",
    "for ik, k in enumerate(kfock):\n",
    "    kfock[ik] = fix_orbital_order(k, graphene, orbitals[ORBS]) #### TODO <<\n",
    "\n",
    "dataset = PySCFPeriodicDataset(frames = [graphene], kmesh = kmesh, fock_kspace = [kfock], overlap_kspace = [kover], device = \"cpu\", orbs = orbitals[ORBS], orbs_name = ORBS)"
   ]
  },
  {
   "cell_type": "markdown",
   "id": "97646a42-ed95-47a6-aedf-df03b14aad5a",
   "metadata": {},
   "source": [
    "# Targets"
   ]
  },
  {
   "cell_type": "code",
   "execution_count": 217,
   "id": "581bd550-3137-474d-b482-ee8e40a1adf3",
   "metadata": {},
   "outputs": [],
   "source": [
    "from metatensor import load \n",
    "from mlelec.utils.twocenter_utils import _to_coupled_basis\n",
    "from mlelec.utils.pbc_utils import matrix_to_blocks \n",
    "\n",
    "def get_targets(dataset, device =\"cpu\", cutoff = None):\n",
    "    blocks = matrix_to_blocks(dataset, dataset._fock_realspace_negative_translations, device = 'cpu', cutoff = cutoff, all_pairs = True)\n",
    "    coupled_blocks = _to_coupled_basis(blocks, skip_symmetry = True, device = device, translations = True)\n",
    "\n",
    "    blocks = blocks.keys_to_samples('cell_shift_a')\n",
    "    blocks = blocks.keys_to_samples('cell_shift_b')\n",
    "    blocks = blocks.keys_to_samples('cell_shift_c')\n",
    "\n",
    "    coupled_blocks = coupled_blocks.keys_to_samples('cell_shift_a')\n",
    "    coupled_blocks = coupled_blocks.keys_to_samples('cell_shift_b')\n",
    "    coupled_blocks = coupled_blocks.keys_to_samples('cell_shift_c')\n",
    "    return blocks , coupled_blocks"
   ]
  },
  {
   "cell_type": "code",
   "execution_count": 252,
   "id": "dc2155f6-0ecd-4e57-8c70-e02a00419237",
   "metadata": {},
   "outputs": [],
   "source": [
    "cutoff = 6\n",
    "# target_blocks_c, target_coupled_blocks_c = get_targets(dataset, cutoff = cutoff)\n",
    "target_blocks, target_coupled_blocks = get_targets(dataset, cutoff = cutoff)\n"
   ]
  },
  {
   "cell_type": "markdown",
   "id": "d39d934b-f83b-4970-b8dc-016f1cbd879b",
   "metadata": {},
   "source": [
    "# Features"
   ]
  },
  {
   "cell_type": "code",
   "execution_count": 253,
   "id": "86584b1a-5b62-4af9-aed2-2148efb29db0",
   "metadata": {},
   "outputs": [
    {
     "name": "stdout",
     "output_type": "stream",
     "text": [
      "{'cutoff': 6, 'max_radial': 10, 'max_angular': 4, 'atomic_gaussian_width': 0.3, 'center_atom_weight': 1, 'radial_basis': {'Gto': {}}, 'cutoff_function': {'ShiftedCosine': {'width': 0.1}}}\n"
     ]
    },
    {
     "name": "stderr",
     "output_type": "stream",
     "text": [
      "/home/pegolo/Software/my_mlelec/src/mlelec/features/acdc.py:148: UserWarning: Using kmesh [[8, 8, 1]] for MIC mapping\n",
      "  warnings.warn(f\"Using kmesh {kmesh} for MIC mapping\")\n",
      "/home/pegolo/Software/my_mlelec/src/mlelec/features/acdc.py:267: UserWarning: nu_j not defined, using nu_i for nu_j as well\n",
      "  hypers=hypers,\n"
     ]
    }
   ],
   "source": [
    "from mlelec.features.acdc import pair_features, single_center_features, twocenter_features_periodic_NH\n",
    "\n",
    "hypers_pair = {'cutoff': cutoff,\n",
    "               'max_radial': 10,\n",
    "               'max_angular': 4,\n",
    "               'atomic_gaussian_width': 0.3,\n",
    "               'center_atom_weight': 1,\n",
    "               \"radial_basis\": {\"Gto\": {}},\n",
    "               \"cutoff_function\": {\"ShiftedCosine\": {\"width\": 0.1}}}\n",
    "\n",
    "hypers_atom = {'cutoff': 4,\n",
    "               'max_radial': 10,\n",
    "               'max_angular': 4,\n",
    "               'atomic_gaussian_width': 0.3,\n",
    "               'center_atom_weight': 1,\n",
    "               \"radial_basis\": {\"Gto\": {}},\n",
    "               \"cutoff_function\": {\"ShiftedCosine\": {\"width\": 0.1}}}\n",
    "\n",
    "return_rho0ij = False\n",
    "both_centers = True\n",
    "all_pairs = False\n",
    "LCUT = 3\n",
    "\n",
    "rhoij = pair_features(dataset.structures, hypers_atom, hypers_pair, order_nu = 1, all_pairs = all_pairs, both_centers = both_centers, mic = True,\n",
    "                      kmesh = dataset.kmesh, device=\"cpu\", lcut = LCUT, return_rho0ij = return_rho0ij, counter = dataset._translation_counter, \n",
    "                      T_dict = dataset._translation_dict)\n",
    "\n",
    "if both_centers and not return_rho0ij:\n",
    "    NU = 3\n",
    "else:\n",
    "    NU = 2\n",
    "rhonui = single_center_features(dataset.structures, hypers_atom, order_nu = NU, lcut = LCUT, device = 'cpu',\n",
    "                                feature_names = rhoij.property_names)\n",
    "\n",
    "hfeat = twocenter_features_periodic_NH(single_center = rhonui, pair = rhoij, all_pairs = True)"
   ]
  },
  {
   "cell_type": "code",
   "execution_count": 254,
   "id": "b9b343dd-a1cd-4f0c-b135-f7eea143c09e",
   "metadata": {},
   "outputs": [],
   "source": [
    "# target_samples = target_coupled_blocks[20].samples\n",
    "# blocks = []\n",
    "# for k, b in hfeat.items():\n",
    "#     if k['block_type']==0:\n",
    "#         blocks.append(b.copy())\n",
    "#     else: \n",
    "#         flbls = Labels(hfeat.sample_names[:6], np.array(b.samples.values[:,:6]))\n",
    "#         idx = np.where(flbls.intersection_and_mapping(target_samples)[1] != -1)[0]\n",
    "#         samples = Labels(hfeat.sample_names, np.array(b.samples.values[idx].tolist()))\n",
    "#         blocks.append(TensorBlock(components = b.components, \n",
    "#                                   properties = b.properties,\n",
    "#                                   samples = samples, \n",
    "#                                   values = b.values[idx]))\n",
    "\n",
    "# hfeat_cutoff = TensorMap(hfeat.keys, blocks)"
   ]
  },
  {
   "cell_type": "markdown",
   "id": "e983ab9c-321e-49ab-beea-6ba58e86f63d",
   "metadata": {},
   "source": [
    "# Train"
   ]
  },
  {
   "cell_type": "code",
   "execution_count": 255,
   "id": "67409ac9-7aa9-4c84-bbd3-ac205b2528d9",
   "metadata": {},
   "outputs": [],
   "source": [
    "from mlelec.models.linear import LinearModelPeriodic\n",
    "device='cpu'"
   ]
  },
  {
   "cell_type": "code",
   "execution_count": 256,
   "id": "0918bf30-bf4b-4d5e-bfcc-da81adb027f1",
   "metadata": {},
   "outputs": [],
   "source": [
    "def train_ridge(model, target_blocks, set_bias=False):\n",
    "    block_losses = {}\n",
    "    loss = 0\n",
    "    pred, ridges, kernels = model.fit_ridge_analytical(return_matrix = False, set_bias = set_bias)\n",
    "\n",
    "    for (key, block) in pred.items():\n",
    "        block_loss=torch.norm(block.values - target_blocks[key].values)**2\n",
    "        loss += block_loss\n",
    "        \n",
    "        block_losses[tuple(key.values)] = block_loss\n",
    "\n",
    "    # print(np.sum(list(block_losses.values())))\n",
    "    return loss, pred, ridges, block_losses#, kernels "
   ]
  },
  {
   "cell_type": "code",
   "execution_count": 257,
   "id": "aac21185-b5c9-4bee-83a0-972477422c25",
   "metadata": {},
   "outputs": [
    {
     "name": "stdout",
     "output_type": "stream",
     "text": [
      "tensor(7.0218e-14)\n"
     ]
    }
   ],
   "source": [
    "model_ridge = LinearModelPeriodic(twocfeat = hfeat, \n",
    "                                  target_blocks = target_coupled_blocks,\n",
    "                                  frames = dataset.structures, orbitals = dataset.basis, \n",
    "                                  device = device)\n",
    "\n",
    "model_ridge = model_ridge.double()\n",
    "loss_ridge_bias, pred_ridge_bias, ridges_bias, loss_blocks = train_ridge(model_ridge, \n",
    "                                                                         target_coupled_blocks,\n",
    "                                                                         set_bias = True)\n",
    "print(loss_ridge_bias)"
   ]
  },
  {
   "cell_type": "code",
   "execution_count": 258,
   "id": "1178ef7f-940a-46bf-af50-ed79205ddcc8",
   "metadata": {},
   "outputs": [
    {
     "data": {
      "text/plain": [
       "(1e-12, 10000.0)"
      ]
     },
     "execution_count": 258,
     "metadata": {},
     "output_type": "execute_result"
    },
    {
     "data": {
      "image/png": "[encoded data removed]",
      "text/plain": [
       "<Figure size 1920x480 with 2 Axes>"
      ]
     },
     "metadata": {},
     "output_type": "display_data"
    }
   ],
   "source": [
    "from mlelec.utils.plot_utils import plot_block_errors\n",
    "fig,ax,ax_loss=plot_block_errors(target_coupled_blocks, pred_ridge_bias, plot_loss = True)\n",
    "ax_loss.set_ylim(1e-8,)\n",
    "ax.set_ylim(1e-12,1e4)"
   ]
  },
  {
   "cell_type": "markdown",
   "id": "9a23c754-7314-446f-a2ca-1625b55f8da7",
   "metadata": {},
   "source": [
    "# Disort"
   ]
  },
  {
   "cell_type": "code",
   "execution_count": null,
   "id": "5d22c50c-71a5-4fa0-8a1e-50e74091261d",
   "metadata": {},
   "outputs": [],
   "source": []
  }
 ],
 "metadata": {
  "kernelspec": {
   "display_name": "Python 3 (ipykernel)",
   "language": "python",
   "name": "python3"
  },
  "language_info": {
   "codemirror_mode": {
    "name": "ipython",
    "version": 3
   },
   "file_extension": ".py",
   "mimetype": "text/x-python",
   "name": "python",
   "nbconvert_exporter": "python",
   "pygments_lexer": "ipython3",
   "version": "3.11.7"
  }
 },
 "nbformat": 4,
 "nbformat_minor": 5
}
