{
 "cells": [
  {
   "cell_type": "code",
   "execution_count": 1,
   "metadata": {},
   "outputs": [],
   "source": [
    "%load_ext autoreload\n",
    "%autoreload 2"
   ]
  },
  {
   "cell_type": "code",
   "execution_count": 2,
   "metadata": {},
   "outputs": [],
   "source": [
    "from mlelec.data.dataset import (\n",
    "    precomputed_molecules,\n",
    "    MoleculeDataset,\n",
    "    MLDataset,\n",
    "    get_dataloader,\n",
    ")\n",
    "import torch\n",
    "from ase.io import read\n",
    "import ase\n",
    "from mlelec.models.linear import LinearTargetModel\n",
    "from mlelec.features.acdc import compute_features_for_target\n",
    "\n",
    "import matplotlib.pyplot as plt\n",
    "from IPython.utils import io"
   ]
  },
  {
   "cell_type": "code",
   "execution_count": 3,
   "metadata": {},
   "outputs": [
    {
     "name": "stdout",
     "output_type": "stream",
     "text": [
      "Loading structures\n",
      "examples/data/water_1000/sto-3g/fock.hickle\n"
     ]
    },
    {
     "name": "stderr",
     "output_type": "stream",
     "text": [
      "/home/nigam/miniconda3/envs/mlelec/lib/python3.11/site-packages/rascaline/systems/ase.py:57: UserWarning: periodic boundary conditions are disabled, but the cell matrix is not zero, we will set the cell to zero.\n",
      "  warnings.warn(\n"
     ]
    }
   ],
   "source": [
    "water_data = MoleculeDataset(\n",
    "    mol_name=\"water_1000\",  # Uses precomputed data by this name \n",
    "    frame_slice=slice(0, 100), # Loads 100 frames \n",
    "    device=\"cuda\",\n",
    "    aux=[\"overlap\", \"orbitals\"],\n",
    "    target=[\"fock\"],\n",
    ")\n",
    "ml_data = MLDataset(\n",
    "    molecule_data=water_data,\n",
    "    device=\"cuda\",\n",
    "    model_strategy=\"coupled\", # We will be building models for coupled blocks \n",
    "    shuffle=True,\n",
    "    shuffle_seed=5380,\n",
    ")  \n",
    "\n",
    "ml_data._split_indices(train_frac=0.7, val_frac=0.2, test_frac=0.1)\n",
    "# Only models based on features = 'acdc' supported for now\n",
    "\n",
    "hypers = {\n",
    "            \"cutoff\": 4.0,\n",
    "            \"max_radial\": 5,\n",
    "            \"max_angular\": 3,\n",
    "            \"atomic_gaussian_width\": 0.3,\n",
    "            \"center_atom_weight\": 1,\n",
    "            \"radial_basis\": {\"Gto\": {}},\n",
    "            \"cutoff_function\": {\"ShiftedCosine\": {\"width\": 0.1}},\n",
    "        }\n",
    "\n",
    "\n",
    "if ml_data.features is None:\n",
    "    # ml_data._set_features(compute_features_for_target(ml_data, device=\"cuda\"))\n",
    "    # one can pass hypers here as follows otherwise default hypers are used\n",
    "    ml_data._set_features(compute_features_for_target(ml_data, device = \"cuda\", hypers = hypers)) # one can pass hypers here \n",
    "\n",
    "train_dl, val_dl, test_dl = get_dataloader(ml_data, model_return=\"tensor\") # instantiate dataloaders"
   ]
  },
  {
   "cell_type": "markdown",
   "metadata": {},
   "source": [
    "## 1. Learn Hamiltonian, then predict other properties "
   ]
  },
  {
   "cell_type": "code",
   "execution_count": 4,
   "metadata": {},
   "outputs": [],
   "source": [
    "model = LinearTargetModel(\n",
    "    dataset=ml_data, nlayers=1, nhidden=16, bias=False, device=\"cuda\"\n",
    ")"
   ]
  },
  {
   "cell_type": "code",
   "execution_count": 5,
   "metadata": {},
   "outputs": [],
   "source": [
    "from cmath import inf\n",
    "\n",
    "best = inf\n",
    "early_stop_criteria = 50"
   ]
  },
  {
   "cell_type": "code",
   "execution_count": 6,
   "metadata": {},
   "outputs": [],
   "source": [
    "optimizer = torch.optim.Adam(model.parameters(), lr=1e-3)\n",
    "scheduler = torch.optim.lr_scheduler.ReduceLROnPlateau(\n",
    "    optimizer, factor=0.5, patience=10, verbose=True\n",
    ")\n",
    "import mlelec.metrics as mlmetrics\n",
    "\n",
    "val_interval = 10\n",
    "loss_fn = getattr(mlmetrics, \"L2_loss\")\n",
    "losses = []\n",
    "early_stop_count = 0\n",
    "nepochs = 800"
   ]
  },
  {
   "cell_type": "code",
   "execution_count": 7,
   "metadata": {},
   "outputs": [
    {
     "name": "stdout",
     "output_type": "stream",
     "text": [
      "Epoch 0, train loss 473.79416576282904\n",
      "Epoch 0 val loss 464.7616585233897\n",
      "Epoch 10, train loss 165.01286791888657\n",
      "Epoch 10 val loss 145.22437187062243\n",
      "Epoch 20, train loss 9.677403403718946\n",
      "Epoch 20 val loss 7.758534992925731\n",
      "Epoch 30, train loss 4.0993923972463575\n",
      "Epoch 30 val loss 4.375993381387507\n",
      "Epoch 40, train loss 3.249317222831573\n",
      "Epoch 40 val loss 3.320521304292547\n"
     ]
    },
    {
     "ename": "KeyboardInterrupt",
     "evalue": "",
     "output_type": "error",
     "traceback": [
      "\u001b[0;31m---------------------------------------------------------------------------\u001b[0m",
      "\u001b[0;31mKeyboardInterrupt\u001b[0m                         Traceback (most recent call last)",
      "\u001b[1;32m/media/nigam/b5749eb7-d3f1-4495-adeb-2c318fb7d0de/MAC/mlelec/h-learning-example.ipynb Cell 8\u001b[0m line \u001b[0;36m6\n\u001b[1;32m      <a href='vscode-notebook-cell:/media/nigam/b5749eb7-d3f1-4495-adeb-2c318fb7d0de/MAC/mlelec/h-learning-example.ipynb#X12sZmlsZQ%3D%3D?line=3'>4</a>\u001b[0m \u001b[39mfor\u001b[39;00m i, data \u001b[39min\u001b[39;00m \u001b[39menumerate\u001b[39m(train_dl):\n\u001b[1;32m      <a href='vscode-notebook-cell:/media/nigam/b5749eb7-d3f1-4495-adeb-2c318fb7d0de/MAC/mlelec/h-learning-example.ipynb#X12sZmlsZQ%3D%3D?line=4'>5</a>\u001b[0m     optimizer\u001b[39m.\u001b[39mzero_grad()\n\u001b[0;32m----> <a href='vscode-notebook-cell:/media/nigam/b5749eb7-d3f1-4495-adeb-2c318fb7d0de/MAC/mlelec/h-learning-example.ipynb#X12sZmlsZQ%3D%3D?line=5'>6</a>\u001b[0m     pred \u001b[39m=\u001b[39m model(data[\u001b[39m\"\u001b[39;49m\u001b[39minput\u001b[39;49m\u001b[39m\"\u001b[39;49m], return_type\u001b[39m=\u001b[39;49m\u001b[39m\"\u001b[39;49m\u001b[39mtensor\u001b[39;49m\u001b[39m\"\u001b[39;49m, batch_indices\u001b[39m=\u001b[39;49mdata[\u001b[39m\"\u001b[39;49m\u001b[39midx\u001b[39;49m\u001b[39m\"\u001b[39;49m])  \n\u001b[1;32m      <a href='vscode-notebook-cell:/media/nigam/b5749eb7-d3f1-4495-adeb-2c318fb7d0de/MAC/mlelec/h-learning-example.ipynb#X12sZmlsZQ%3D%3D?line=6'>7</a>\u001b[0m     loss \u001b[39m=\u001b[39m loss_fn(pred, data[\u001b[39m\"\u001b[39m\u001b[39moutput\u001b[39m\u001b[39m\"\u001b[39m])\n\u001b[1;32m      <a href='vscode-notebook-cell:/media/nigam/b5749eb7-d3f1-4495-adeb-2c318fb7d0de/MAC/mlelec/h-learning-example.ipynb#X12sZmlsZQ%3D%3D?line=7'>8</a>\u001b[0m     train_loss \u001b[39m+\u001b[39m\u001b[39m=\u001b[39m loss\u001b[39m.\u001b[39mitem()\n",
      "File \u001b[0;32m~/miniconda3/envs/mlelec/lib/python3.11/site-packages/torch/nn/modules/module.py:1518\u001b[0m, in \u001b[0;36mModule._wrapped_call_impl\u001b[0;34m(self, *args, **kwargs)\u001b[0m\n\u001b[1;32m   1516\u001b[0m     \u001b[39mreturn\u001b[39;00m \u001b[39mself\u001b[39m\u001b[39m.\u001b[39m_compiled_call_impl(\u001b[39m*\u001b[39margs, \u001b[39m*\u001b[39m\u001b[39m*\u001b[39mkwargs)  \u001b[39m# type: ignore[misc]\u001b[39;00m\n\u001b[1;32m   1517\u001b[0m \u001b[39melse\u001b[39;00m:\n\u001b[0;32m-> 1518\u001b[0m     \u001b[39mreturn\u001b[39;00m \u001b[39mself\u001b[39;49m\u001b[39m.\u001b[39;49m_call_impl(\u001b[39m*\u001b[39;49margs, \u001b[39m*\u001b[39;49m\u001b[39m*\u001b[39;49mkwargs)\n",
      "File \u001b[0;32m~/miniconda3/envs/mlelec/lib/python3.11/site-packages/torch/nn/modules/module.py:1527\u001b[0m, in \u001b[0;36mModule._call_impl\u001b[0;34m(self, *args, **kwargs)\u001b[0m\n\u001b[1;32m   1522\u001b[0m \u001b[39m# If we don't have any hooks, we want to skip the rest of the logic in\u001b[39;00m\n\u001b[1;32m   1523\u001b[0m \u001b[39m# this function, and just call forward.\u001b[39;00m\n\u001b[1;32m   1524\u001b[0m \u001b[39mif\u001b[39;00m \u001b[39mnot\u001b[39;00m (\u001b[39mself\u001b[39m\u001b[39m.\u001b[39m_backward_hooks \u001b[39mor\u001b[39;00m \u001b[39mself\u001b[39m\u001b[39m.\u001b[39m_backward_pre_hooks \u001b[39mor\u001b[39;00m \u001b[39mself\u001b[39m\u001b[39m.\u001b[39m_forward_hooks \u001b[39mor\u001b[39;00m \u001b[39mself\u001b[39m\u001b[39m.\u001b[39m_forward_pre_hooks\n\u001b[1;32m   1525\u001b[0m         \u001b[39mor\u001b[39;00m _global_backward_pre_hooks \u001b[39mor\u001b[39;00m _global_backward_hooks\n\u001b[1;32m   1526\u001b[0m         \u001b[39mor\u001b[39;00m _global_forward_hooks \u001b[39mor\u001b[39;00m _global_forward_pre_hooks):\n\u001b[0;32m-> 1527\u001b[0m     \u001b[39mreturn\u001b[39;00m forward_call(\u001b[39m*\u001b[39;49margs, \u001b[39m*\u001b[39;49m\u001b[39m*\u001b[39;49mkwargs)\n\u001b[1;32m   1529\u001b[0m \u001b[39mtry\u001b[39;00m:\n\u001b[1;32m   1530\u001b[0m     result \u001b[39m=\u001b[39m \u001b[39mNone\u001b[39;00m\n",
      "File \u001b[0;32m/media/nigam/b5749eb7-d3f1-4495-adeb-2c318fb7d0de/MAC/mlelec/src/mlelec/models/linear.py:227\u001b[0m, in \u001b[0;36mLinearTargetModel.forward\u001b[0;34m(self, features, return_type, batch_indices, **kwargs)\u001b[0m\n\u001b[1;32m    225\u001b[0m batch_frames \u001b[39m=\u001b[39m [\u001b[39mself\u001b[39m\u001b[39m.\u001b[39mdataset\u001b[39m.\u001b[39mtarget\u001b[39m.\u001b[39mframes[i] \u001b[39mfor\u001b[39;00m i \u001b[39min\u001b[39;00m batch_indices]\n\u001b[1;32m    226\u001b[0m \u001b[39m# batch_frames = self.dataset.target.frames\u001b[39;00m\n\u001b[0;32m--> 227\u001b[0m \u001b[39mself\u001b[39m\u001b[39m.\u001b[39mreconstructed_tensor \u001b[39m=\u001b[39m _to_matrix(\n\u001b[1;32m    228\u001b[0m     \u001b[39mself\u001b[39;49m\u001b[39m.\u001b[39;49mreconstructed_uncoupled,\n\u001b[1;32m    229\u001b[0m     batch_frames,\n\u001b[1;32m    230\u001b[0m     \u001b[39mself\u001b[39;49m\u001b[39m.\u001b[39;49mdataset\u001b[39m.\u001b[39;49mtarget\u001b[39m.\u001b[39;49morbitals,\n\u001b[1;32m    231\u001b[0m     device\u001b[39m=\u001b[39;49m\u001b[39mself\u001b[39;49m\u001b[39m.\u001b[39;49mdevice,\n\u001b[1;32m    232\u001b[0m )\n\u001b[1;32m    233\u001b[0m \u001b[39mif\u001b[39;00m return_type \u001b[39m==\u001b[39m \u001b[39m\"\u001b[39m\u001b[39mcoupled_blocks\u001b[39m\u001b[39m\"\u001b[39m:\n\u001b[1;32m    234\u001b[0m     \u001b[39mreturn\u001b[39;00m pred_tmap\n",
      "File \u001b[0;32m/media/nigam/b5749eb7-d3f1-4495-adeb-2c318fb7d0de/MAC/mlelec/src/mlelec/utils/twocenter_utils.py:324\u001b[0m, in \u001b[0;36m_to_matrix\u001b[0;34m(blocks, frames, orbitals, hermitian, device)\u001b[0m\n\u001b[1;32m    312\u001b[0m \u001b[39mdef\u001b[39;00m \u001b[39m_to_matrix\u001b[39m(\n\u001b[1;32m    313\u001b[0m     blocks: TensorMap,\n\u001b[1;32m    314\u001b[0m     frames: List[ase\u001b[39m.\u001b[39mAtoms],\n\u001b[0;32m   (...)\u001b[0m\n\u001b[1;32m    321\u001b[0m     \u001b[39m#     return _vectorized_blocks_to_matrix(blocks=blocks, frames=frames, orbs=orbs)\u001b[39;00m\n\u001b[1;32m    322\u001b[0m     \u001b[39m# else:\u001b[39;00m\n\u001b[0;32m--> 324\u001b[0m     \u001b[39mreturn\u001b[39;00m _blocks_to_matrix(\n\u001b[1;32m    325\u001b[0m         blocks\u001b[39m=\u001b[39;49mblocks,\n\u001b[1;32m    326\u001b[0m         frames\u001b[39m=\u001b[39;49mframes,\n\u001b[1;32m    327\u001b[0m         orbitals\u001b[39m=\u001b[39;49morbitals,\n\u001b[1;32m    328\u001b[0m         hermitian\u001b[39m=\u001b[39;49mhermitian,\n\u001b[1;32m    329\u001b[0m         device\u001b[39m=\u001b[39;49mdevice,\n\u001b[1;32m    330\u001b[0m     )\n",
      "File \u001b[0;32m/media/nigam/b5749eb7-d3f1-4495-adeb-2c318fb7d0de/MAC/mlelec/src/mlelec/utils/twocenter_utils.py:405\u001b[0m, in \u001b[0;36m_blocks_to_matrix\u001b[0;34m(blocks, frames, orbitals, device, hermitian)\u001b[0m\n\u001b[1;32m    402\u001b[0m ki_base, kj_base \u001b[39m=\u001b[39m atom_blocks_idx[(dense_idx, i, j)]\n\u001b[1;32m    404\u001b[0m \u001b[39m# values to assign\u001b[39;00m\n\u001b[0;32m--> 405\u001b[0m values \u001b[39m=\u001b[39m block_data[:, :, \u001b[39m0\u001b[39;49m]\u001b[39m.\u001b[39;49mreshape(\u001b[39m2\u001b[39;49m \u001b[39m*\u001b[39;49m li \u001b[39m+\u001b[39;49m \u001b[39m1\u001b[39;49m, \u001b[39m2\u001b[39;49m \u001b[39m*\u001b[39;49m lj \u001b[39m+\u001b[39;49m \u001b[39m1\u001b[39;49m)\n\u001b[1;32m    406\u001b[0m \u001b[39m# assign values\u001b[39;00m\n\u001b[1;32m    407\u001b[0m _fill(\n\u001b[1;32m    408\u001b[0m     block_type,\n\u001b[1;32m    409\u001b[0m     matrix,\n\u001b[0;32m   (...)\u001b[0m\n\u001b[1;32m    418\u001b[0m     hermitian\u001b[39m=\u001b[39mhermitian,\n\u001b[1;32m    419\u001b[0m )\n",
      "\u001b[0;31mKeyboardInterrupt\u001b[0m: "
     ]
    }
   ],
   "source": [
    "for epoch in range(nepochs):\n",
    "    model.train(True)\n",
    "    train_loss = 0\n",
    "    for i, data in enumerate(train_dl):\n",
    "        optimizer.zero_grad()\n",
    "        pred = model(data[\"input\"], return_type=\"tensor\", batch_indices=data[\"idx\"])  \n",
    "        loss = loss_fn(pred, data[\"output\"])\n",
    "        train_loss += loss.item()\n",
    "        loss.backward()\n",
    "        optimizer.step()\n",
    "    losses.append(train_loss)\n",
    "    # scheduler.step(train_loss)\n",
    "    model.train(False)\n",
    "\n",
    "    if epoch % val_interval == 0:\n",
    "        val_loss = 0\n",
    "        for i, data in enumerate(val_dl):\n",
    "            pred = model(data[\"input\"], return_type=\"tensor\", batch_indices=data[\"idx\"])\n",
    "            vloss = loss_fn(pred, data[\"output\"])\n",
    "            val_loss += vloss.item()\n",
    "        new_best = val_loss < best\n",
    "        if new_best:\n",
    "            best = val_loss\n",
    "            torch.save(model.state_dict(), \"best_model.pt\")\n",
    "            early_stop_count = 0\n",
    "        else:\n",
    "            early_stop_count += 1\n",
    "        if early_stop_count > early_stop_criteria:\n",
    "            print(f\"Early stopping at epoch {epoch}\")\n",
    "            print(f\"Epoch {epoch}, train loss {train_loss/len(ml_data.train_idx)}\")\n",
    "\n",
    "            print(f\"Epoch {epoch} val loss {val_loss/len(ml_data.val_idx)}\")\n",
    "            # Save last best model\n",
    "            break\n",
    "\n",
    "        # val_loss = loss_fn(torch.cat(val_pred), torch.cat(val))\n",
    "    if epoch % 10 == 0:\n",
    "        print(f\"Epoch {epoch}, train loss {train_loss/len(ml_data.train_idx)}\")\n",
    "\n",
    "        print(f\"Epoch {epoch} val loss {val_loss/len(ml_data.val_idx)}\")"
   ]
  },
  {
   "cell_type": "code",
   "execution_count": null,
   "metadata": {},
   "outputs": [
    {
     "data": {
      "text/plain": [
       "Text(0, 0.5, 'MSE \\\\ a.u.')"
      ]
     },
     "execution_count": 51,
     "metadata": {},
     "output_type": "execute_result"
    },
    {
     "data": {
      "image/png": "[encoded data removed]",
      "text/plain": [
       "<Figure size 640x480 with 1 Axes>"
      ]
     },
     "metadata": {},
     "output_type": "display_data"
    }
   ],
   "source": [
    "import numpy as np\n",
    "\n",
    "plt.loglog(np.asarray(losses) / len(ml_data.train_idx))\n",
    "plt.xlabel(\"Epoch\")\n",
    "plt.ylabel(\"MSE \\ a.u.\")"
   ]
  },
  {
   "cell_type": "markdown",
   "metadata": {},
   "source": [
    "### Input model prediction into pyscf to compute dipole moment "
   ]
  },
  {
   "cell_type": "code",
   "execution_count": null,
   "metadata": {},
   "outputs": [],
   "source": [
    "import os\n",
    "\n",
    "os.environ[\"PYSCFAD_BACKEND\"] = \"torch\"\n",
    "\n",
    "import torch\n",
    "from pyscf import gto\n",
    "\n",
    "from pyscfad import numpy as pynp\n",
    "from pyscfad import ops\n",
    "from pyscfad.ml.scf import hf\n",
    "import pyscf.pbc.tools.pyscf_ase as pyscf_ase"
   ]
  },
  {
   "cell_type": "code",
   "execution_count": null,
   "metadata": {},
   "outputs": [],
   "source": [
    "from mlelec.data.pyscf_calculator import _instantiate_pyscf_mol\n",
    "from mlelec.utils.twocenter_utils import fix_orbital_order, unfix_orbital_order\n",
    "import mlelec.metrics as mlmetrics"
   ]
  },
  {
   "cell_type": "code",
   "execution_count": null,
   "metadata": {},
   "outputs": [],
   "source": [
    "def compute_dipole_moment(frames, fock_predictions, overlaps):\n",
    "    assert (\n",
    "        len(frames) == len(fock_predictions) == len(overlaps)\n",
    "    ), \"Length of frames, fock_predictions, and overlaps must be the same\"\n",
    "    dipoles = []\n",
    "    for i, frame in enumerate(frames):\n",
    "        mol = _instantiate_pyscf_mol(frame)\n",
    "        mf = hf.SCF(mol)\n",
    "        fock = torch.autograd.Variable(\n",
    "            fock_predictions[i].type(torch.float64), requires_grad=True\n",
    "        )\n",
    "\n",
    "        mo_energy, mo_coeff = mf.eig(fock, overlaps[i])\n",
    "        mo_occ = mf.get_occ(mo_energy)  # get_occ returns a numpy array\n",
    "        mo_occ = ops.convert_to_tensor(mo_occ)\n",
    "        dm1 = mf.make_rdm1(mo_coeff, mo_occ)\n",
    "        dip = mf.dip_moment(dm=dm1)\n",
    "        dipoles.append(dip)\n",
    "    return torch.stack(dipoles)"
   ]
  },
  {
   "cell_type": "code",
   "execution_count": null,
   "metadata": {},
   "outputs": [
    {
     "name": "stdout",
     "output_type": "stream",
     "text": [
      "(TEST) MSE on dipole tensor(0.3787, device='cuda:0', dtype=torch.float64, grad_fn=<DivBackward0>)\n"
     ]
    }
   ],
   "source": [
    "# TEST set\n",
    "\n",
    "# with HiddenPrints():\n",
    "with io.capture_output() as captured:\n",
    "    fock_predictions = model.forward(ml_data.feat_test, return_type=\"tensor\")\n",
    "    # convert prediction back to pyscf order\n",
    "    fock_predictions = unfix_orbital_order(\n",
    "        fock_predictions,\n",
    "        ml_data.test_frames,\n",
    "        ml_data.molecule_data.aux_data[\"orbitals\"],\n",
    "    )\n",
    "\n",
    "    dipole_predictions = compute_dipole_moment(\n",
    "        ml_data.test_frames,\n",
    "        fock_predictions,\n",
    "        ml_data.molecule_data.aux_data[\"overlap\"][ml_data.test_idx],\n",
    "    )\n",
    "    # very imp to pass the right overlap matrix\n",
    "\n",
    "\n",
    "error = mlmetrics.L2_loss(\n",
    "    dipole_predictions, ml_data.molecule_data.target[\"dipole_moment\"][ml_data.test_idx]\n",
    ")\n",
    "print(\"(TEST) MSE on dipole\", error / len(dipole_predictions))"
   ]
  },
  {
   "cell_type": "code",
   "execution_count": null,
   "metadata": {},
   "outputs": [
    {
     "name": "stdout",
     "output_type": "stream",
     "text": [
      "MSE on dipole tensor(0.2696, device='cuda:0', dtype=torch.float64, grad_fn=<DivBackward0>)\n"
     ]
    }
   ],
   "source": [
    "# Entire dataset\n",
    "with io.capture_output() as captured:\n",
    "    fock_predictions = model.forward(ml_data.features, return_type=\"tensor\")\n",
    "    # convert prediction back to pyscf order\n",
    "    fock_predictions = unfix_orbital_order(\n",
    "        fock_predictions, ml_data.structures, ml_data.molecule_data.aux_data[\"orbitals\"]\n",
    "    )\n",
    "    dipole_predictions = compute_dipole_moment(\n",
    "        ml_data.structures, fock_predictions, ml_data.molecule_data.aux_data[\"overlap\"]\n",
    "    )\n",
    "error = mlmetrics.L2_loss(\n",
    "    dipole_predictions, ml_data.molecule_data.target[\"dipole_moment\"]\n",
    ")\n",
    "print(\"MSE on dipole\", error / len(dipole_predictions))"
   ]
  },
  {
   "cell_type": "markdown",
   "metadata": {},
   "source": [
    "### test equivariance of prediction/features "
   ]
  },
  {
   "cell_type": "code",
   "execution_count": null,
   "metadata": {},
   "outputs": [],
   "source": [
    "import hickle\n",
    "\n",
    "rotations = hickle.load(\"examples/data/water_rotated/rotations.hickle\")\n",
    "#check equivairance of predicted blocks\n",
    "# r1 = model.forward(ml_data.features, return_type=\"coupled_blocks\")\n",
    "# check equivar of features \n",
    "r1 = ml_data.features"
   ]
  },
  {
   "cell_type": "code",
   "execution_count": null,
   "metadata": {},
   "outputs": [],
   "source": [
    "from mlelec.utils.metatensor_utils import labels_where\n",
    "from mlelec.utils.symmetry import _wigner_d_real\n",
    "import numpy as np\n",
    "from metatensor import Labels\n",
    "\n",
    "for i, (k, b) in enumerate(r1.items()):\n",
    "    unrot_idx = labels_where(\n",
    "        b.samples,\n",
    "        selection=Labels([\"structure\"], values=np.asarray([[0]]).reshape(-1, 1)),\n",
    "        return_idx=True,\n",
    "    )[-1]\n",
    "    rot_idx = labels_where(\n",
    "        b.samples,\n",
    "        selection=Labels(\n",
    "            [\"structure\"], values=np.asarray([[ml_data.test_idx]]).reshape(-1, 1)\n",
    "        ),\n",
    "        return_idx=True,\n",
    "    )[-1]\n",
    "    # L = k['L'] # use when testing blocks \n",
    "    L = k[\"spherical_harmonics_l\"] # use when testing features \n",
    "    wd = _wigner_d_real(L, *rotations[ml_data.test_idx - 1]).to(b.values)\n",
    "    if torch.linalg.norm(wd @ b.values[unrot_idx] - b.values[rot_idx]) > 1e-7:\n",
    "        print(torch.linalg.norm(wd @ b.values[unrot_idx] - b.values[rot_idx]))"
   ]
  },
  {
   "cell_type": "code",
   "execution_count": null,
   "metadata": {},
   "outputs": [],
   "source": []
  },
  {
   "cell_type": "markdown",
   "metadata": {},
   "source": [
    "## Calculate the target dipole moment of water molecule in case data not found"
   ]
  },
  {
   "cell_type": "code",
   "execution_count": null,
   "metadata": {},
   "outputs": [],
   "source": [
    "\n",
    "from mlelec.data.pyscf_calculator import calculator\n",
    "\n",
    "calc = calculator(\n",
    "    path=\"examples/data/water_1000/\",\n",
    "    mol_name=\"water_1000\",\n",
    "    frame_slice=\":\",\n",
    "    target=[\"fock\", \"dipole_moment\", \"density\"],\n",
    ")\n",
    "calc.calculate(basis_set=\"sto-3g\", verbose=1)\n",
    "calc.save_results()#(path=\"examples/data/water_1000/sto-3g/\")"
   ]
  }
 ],
 "metadata": {
  "kernelspec": {
   "display_name": "Python 3 (ipykernel)",
   "language": "python",
   "name": "python3"
  },
  "language_info": {
   "codemirror_mode": {
    "name": "ipython",
    "version": 3
   },
   "file_extension": ".py",
   "mimetype": "text/x-python",
   "name": "python",
   "nbconvert_exporter": "python",
   "pygments_lexer": "ipython3",
   "version": "3.11.8"
  },
  "toc": {
   "base_numbering": 1,
   "nav_menu": {},
   "number_sections": true,
   "sideBar": true,
   "skip_h1_title": false,
   "title_cell": "Table of Contents",
   "title_sidebar": "Contents",
   "toc_cell": false,
   "toc_position": {},
   "toc_section_display": true,
   "toc_window_display": false
  }
 },
 "nbformat": 4,
 "nbformat_minor": 4
}
