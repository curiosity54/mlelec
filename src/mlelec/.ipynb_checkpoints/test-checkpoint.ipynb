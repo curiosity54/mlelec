{
 "cells": [
  {
   "cell_type": "code",
   "execution_count": 2,
   "metadata": {},
   "outputs": [],
   "source": [
    "%load_ext autoreload\n",
    "%autoreload 2"
   ]
  },
  {
   "cell_type": "markdown",
   "metadata": {
    "heading_collapsed": true
   },
   "source": [
    "## PYSCF AD"
   ]
  },
  {
   "cell_type": "code",
   "execution_count": 2,
   "metadata": {
    "hidden": true
   },
   "outputs": [
    {
     "name": "stdout",
     "output_type": "stream",
     "text": [
      "Using PyTorch backend.\n",
      "System: uname_result(system='Linux', node='cosmopc8', release='5.15.0-88-generic', version='#98-Ubuntu SMP Mon Oct 2 15:18:56 UTC 2023', machine='x86_64')  Threads 8\n",
      "Python 3.11.5 (main, Sep 11 2023, 13:54:46) [GCC 11.2.0]\n",
      "numpy 1.26.2  scipy 1.11.3\n",
      "Date: Tue Nov 14 10:23:44 2023\n",
      "PySCF version 2.3.0\n",
      "PySCF path  /home/nigam/miniconda3/lib/python3.11/site-packages/pyscf\n",
      "\n",
      "[CONFIG] conf_file /home/nigam/.pyscf_conf.py\n",
      "[INPUT] verbose = 5\n",
      "[INPUT] max_memory = 4000 \n",
      "[INPUT] num. atoms = 2\n",
      "[INPUT] num. electrons = 2\n",
      "[INPUT] charge = 0\n",
      "[INPUT] spin (= nelec alpha-beta = 2S) = 0\n",
      "[INPUT] symmetry False subgroup None\n",
      "[INPUT] Mole.unit = angstrom\n",
      "[INPUT] Symbol           X                Y                Z      unit          X                Y                Z       unit  Magmom\n",
      "[INPUT]  1 H      0.000000000000   0.000000000000   0.000000000000 AA    0.000000000000   0.000000000000   0.000000000000 Bohr   0.0\n",
      "[INPUT]  2 H      0.000000000000   0.000000000000   0.740000000000 AA    0.000000000000   0.000000000000   1.398397332178 Bohr   0.0\n",
      "[INPUT] ---------------- BASIS SET ---------------- \n",
      "[INPUT] l, kappa, [nprim/nctr], expnt,             c_1 c_2 ...\n",
      "[INPUT] H\n",
      "[INPUT] 0    0    [3    /1   ]  18.731137         0.0334946\n",
      "                                2.8253937         0.23472695\n",
      "                                0.6401217         0.81375733\n",
      "[INPUT] 0    0    [1    /1   ]  0.1612778            1\n",
      "\n"
     ]
    },
    {
     "ename": "TypeError",
     "evalue": "Value tensor([[inf, nan],\n        [nan, inf]], device='cuda:0', dtype=torch.float64) with type <class 'torch.Tensor'> is not a valid JAX type",
     "output_type": "error",
     "traceback": [
      "\u001b[0;31m---------------------------------------------------------------------------\u001b[0m",
      "\u001b[0;31mTypeError\u001b[0m                                 Traceback (most recent call last)",
      "\u001b[1;32m/home/nigam/scratch/MAC/my_mlelec/src/mlelec/test.ipynb Cell 2\u001b[0m line \u001b[0;36m1\n\u001b[1;32m     <a href='vscode-notebook-cell:/home/nigam/scratch/MAC/my_mlelec/src/mlelec/test.ipynb#X16sZmlsZQ%3D%3D?line=11'>12</a>\u001b[0m mol\u001b[39m.\u001b[39mbasis   \u001b[39m=\u001b[39m \u001b[39m'\u001b[39m\u001b[39m631g\u001b[39m\u001b[39m'\u001b[39m\n\u001b[1;32m     <a href='vscode-notebook-cell:/home/nigam/scratch/MAC/my_mlelec/src/mlelec/test.ipynb#X16sZmlsZQ%3D%3D?line=12'>13</a>\u001b[0m mol\u001b[39m.\u001b[39mverbose \u001b[39m=\u001b[39m \u001b[39m5\u001b[39m\n\u001b[0;32m---> <a href='vscode-notebook-cell:/home/nigam/scratch/MAC/my_mlelec/src/mlelec/test.ipynb#X16sZmlsZQ%3D%3D?line=13'>14</a>\u001b[0m mol\u001b[39m.\u001b[39;49mbuild()\n\u001b[1;32m     <a href='vscode-notebook-cell:/home/nigam/scratch/MAC/my_mlelec/src/mlelec/test.ipynb#X16sZmlsZQ%3D%3D?line=15'>16</a>\u001b[0m mf \u001b[39m=\u001b[39m scf\u001b[39m.\u001b[39mRHF(mol)\n\u001b[1;32m     <a href='vscode-notebook-cell:/home/nigam/scratch/MAC/my_mlelec/src/mlelec/test.ipynb#X16sZmlsZQ%3D%3D?line=16'>17</a>\u001b[0m mf\u001b[39m.\u001b[39mkernel()\n",
      "File \u001b[0;32m~/miniconda3/lib/python3.11/site-packages/pyscfad/gto/mole.py:84\u001b[0m, in \u001b[0;36mMole.build\u001b[0;34m(self, *args, **kwargs)\u001b[0m\n\u001b[1;32m     81\u001b[0m trace_ctr_coeff \u001b[39m=\u001b[39m kwargs\u001b[39m.\u001b[39mpop(\u001b[39m'\u001b[39m\u001b[39mtrace_ctr_coeff\u001b[39m\u001b[39m'\u001b[39m, \u001b[39mTrue\u001b[39;00m)\n\u001b[1;32m     82\u001b[0m trace_r0 \u001b[39m=\u001b[39m kwargs\u001b[39m.\u001b[39mpop(\u001b[39m'\u001b[39m\u001b[39mtrace_r0\u001b[39m\u001b[39m'\u001b[39m, \u001b[39mFalse\u001b[39;00m)\n\u001b[0;32m---> 84\u001b[0m \u001b[39msuper\u001b[39;49m()\u001b[39m.\u001b[39;49mbuild(\u001b[39m*\u001b[39;49margs, \u001b[39m*\u001b[39;49m\u001b[39m*\u001b[39;49mkwargs)\n\u001b[1;32m     86\u001b[0m \u001b[39mif\u001b[39;00m trace_coords:\n\u001b[1;32m     87\u001b[0m     \u001b[39mself\u001b[39m\u001b[39m.\u001b[39mcoords \u001b[39m=\u001b[39m np\u001b[39m.\u001b[39masarray(\u001b[39mself\u001b[39m\u001b[39m.\u001b[39matom_coords())\n",
      "File \u001b[0;32m~/miniconda3/lib/python3.11/site-packages/pyscf/gto/mole.py:2576\u001b[0m, in \u001b[0;36mMole.build\u001b[0;34m(self, dump_input, parse_arg, verbose, output, max_memory, atom, basis, unit, nucmod, ecp, charge, spin, symmetry, symmetry_subgroup, cart, magmom)\u001b[0m\n\u001b[1;32m   2573\u001b[0m     \u001b[39mself\u001b[39m\u001b[39m.\u001b[39m_build_symmetry()\n\u001b[1;32m   2575\u001b[0m \u001b[39mif\u001b[39;00m dump_input \u001b[39mand\u001b[39;00m \u001b[39mnot\u001b[39;00m \u001b[39mself\u001b[39m\u001b[39m.\u001b[39m_built \u001b[39mand\u001b[39;00m \u001b[39mself\u001b[39m\u001b[39m.\u001b[39mverbose \u001b[39m>\u001b[39m logger\u001b[39m.\u001b[39mNOTE:\n\u001b[0;32m-> 2576\u001b[0m     \u001b[39mself\u001b[39;49m\u001b[39m.\u001b[39;49mdump_input()\n\u001b[1;32m   2578\u001b[0m \u001b[39mif\u001b[39;00m \u001b[39mself\u001b[39m\u001b[39m.\u001b[39mverbose \u001b[39m>\u001b[39m\u001b[39m=\u001b[39m logger\u001b[39m.\u001b[39mDEBUG3:\n\u001b[1;32m   2579\u001b[0m     logger\u001b[39m.\u001b[39mdebug3(\u001b[39mself\u001b[39m, \u001b[39m'\u001b[39m\u001b[39marg.atm = \u001b[39m\u001b[39m%s\u001b[39;00m\u001b[39m'\u001b[39m, \u001b[39mself\u001b[39m\u001b[39m.\u001b[39m_atm)\n",
      "File \u001b[0;32m~/miniconda3/lib/python3.11/site-packages/pyscf/gto/mole.py:2794\u001b[0m, in \u001b[0;36mMole.dump_input\u001b[0;34m(self)\u001b[0m\n\u001b[1;32m   2792\u001b[0m \u001b[39mif\u001b[39;00m \u001b[39mself\u001b[39m\u001b[39m.\u001b[39mverbose \u001b[39m>\u001b[39m\u001b[39m=\u001b[39m logger\u001b[39m.\u001b[39mINFO:\n\u001b[1;32m   2793\u001b[0m     \u001b[39mself\u001b[39m\u001b[39m.\u001b[39mstdout\u001b[39m.\u001b[39mwrite(\u001b[39m'\u001b[39m\u001b[39m\\n\u001b[39;00m\u001b[39m'\u001b[39m)\n\u001b[0;32m-> 2794\u001b[0m     logger\u001b[39m.\u001b[39minfo(\u001b[39mself\u001b[39m, \u001b[39m'\u001b[39m\u001b[39mnuclear repulsion = \u001b[39m\u001b[39m%.15g\u001b[39;00m\u001b[39m'\u001b[39m, \u001b[39mself\u001b[39;49m\u001b[39m.\u001b[39;49menergy_nuc())\n\u001b[1;32m   2795\u001b[0m     \u001b[39mif\u001b[39;00m \u001b[39mself\u001b[39m\u001b[39m.\u001b[39msymmetry:\n\u001b[1;32m   2796\u001b[0m         \u001b[39mif\u001b[39;00m \u001b[39mself\u001b[39m\u001b[39m.\u001b[39mtopgroup \u001b[39m==\u001b[39m \u001b[39mself\u001b[39m\u001b[39m.\u001b[39mgroupname:\n",
      "File \u001b[0;32m~/miniconda3/lib/python3.11/site-packages/pyscfad/gto/mole.py:19\u001b[0m, in \u001b[0;36menergy_nuc\u001b[0;34m(mol, charges, **kwargs)\u001b[0m\n\u001b[1;32m     17\u001b[0m \u001b[39mif\u001b[39;00m \u001b[39mlen\u001b[39m(charges) \u001b[39m<\u001b[39m\u001b[39m=\u001b[39m \u001b[39m1\u001b[39m:\n\u001b[1;32m     18\u001b[0m     \u001b[39mreturn\u001b[39;00m \u001b[39m0.0\u001b[39m\n\u001b[0;32m---> 19\u001b[0m r \u001b[39m=\u001b[39m distance_matrix(mol\u001b[39m.\u001b[39;49matom_coords())\n\u001b[1;32m     20\u001b[0m enuc \u001b[39m=\u001b[39m np\u001b[39m.\u001b[39meinsum(\u001b[39m'\u001b[39m\u001b[39mi,ij,j->\u001b[39m\u001b[39m'\u001b[39m, charges, \u001b[39m1.\u001b[39m\u001b[39m/\u001b[39mr, charges) \u001b[39m*\u001b[39m \u001b[39m.5\u001b[39m\n\u001b[1;32m     21\u001b[0m \u001b[39mreturn\u001b[39;00m enuc\n",
      "    \u001b[0;31m[... skipping hidden 8 frame]\u001b[0m\n",
      "File \u001b[0;32m~/miniconda3/lib/python3.11/site-packages/jax/_src/core.py:1423\u001b[0m, in \u001b[0;36mconcrete_aval\u001b[0;34m(x)\u001b[0m\n\u001b[1;32m   1421\u001b[0m \u001b[39mif\u001b[39;00m \u001b[39mhasattr\u001b[39m(x, \u001b[39m'\u001b[39m\u001b[39m__jax_array__\u001b[39m\u001b[39m'\u001b[39m):\n\u001b[1;32m   1422\u001b[0m   \u001b[39mreturn\u001b[39;00m concrete_aval(x\u001b[39m.\u001b[39m__jax_array__())\n\u001b[0;32m-> 1423\u001b[0m \u001b[39mraise\u001b[39;00m \u001b[39mTypeError\u001b[39;00m(\u001b[39mf\u001b[39m\u001b[39m\"\u001b[39m\u001b[39mValue \u001b[39m\u001b[39m{\u001b[39;00mx\u001b[39m!r}\u001b[39;00m\u001b[39m with type \u001b[39m\u001b[39m{\u001b[39;00m\u001b[39mtype\u001b[39m(x)\u001b[39m}\u001b[39;00m\u001b[39m is not a valid JAX \u001b[39m\u001b[39m\"\u001b[39m\n\u001b[1;32m   1424\u001b[0m                  \u001b[39m\"\u001b[39m\u001b[39mtype\u001b[39m\u001b[39m\"\u001b[39m)\n",
      "\u001b[0;31mTypeError\u001b[0m: Value tensor([[inf, nan],\n        [nan, inf]], device='cuda:0', dtype=torch.float64) with type <class 'torch.Tensor'> is not a valid JAX type"
     ]
    }
   ],
   "source": [
    "import os\n",
    "# os.environ['PYSCFAD_BACKEND']='jax'\n",
    "import pyscf\n",
    "from pyscfad import gto, scf\n",
    "\n",
    "\"\"\"\n",
    "Analytic nuclear gradient for RHF computed by auto-differentiation\n",
    "\"\"\"\n",
    "\n",
    "mol = gto.Mole()\n",
    "mol.atom    = 'H 0 0 0; H 0 0 0.74'  # in Angstrom\n",
    "mol.basis   = '631g'\n",
    "mol.verbose = 5\n",
    "mol.build()\n",
    "\n",
    "mf = scf.RHF(mol)\n",
    "mf.kernel()\n",
    "jac = mf.energy_grad()"
   ]
  },
  {
   "cell_type": "code",
   "execution_count": 3,
   "metadata": {
    "hidden": true
   },
   "outputs": [
    {
     "ename": "AttributeError",
     "evalue": "Mole object does not have method detach",
     "output_type": "error",
     "traceback": [
      "\u001b[0;31m---------------------------------------------------------------------------\u001b[0m",
      "\u001b[0;31mAttributeError\u001b[0m                            Traceback (most recent call last)",
      "\u001b[1;32m/home/nigam/scratch/MAC/my_mlelec/src/mlelec/test.ipynb Cell 3\u001b[0m line \u001b[0;36m2\n\u001b[1;32m     <a href='vscode-notebook-cell:/home/nigam/scratch/MAC/my_mlelec/src/mlelec/test.ipynb#X20sZmlsZQ%3D%3D?line=20'>21</a>\u001b[0m s \u001b[39m=\u001b[39m mf\u001b[39m.\u001b[39mget_ovlp()\n\u001b[1;32m     <a href='vscode-notebook-cell:/home/nigam/scratch/MAC/my_mlelec/src/mlelec/test.ipynb#X20sZmlsZQ%3D%3D?line=21'>22</a>\u001b[0m \u001b[39m# dm = mf.make_rdm1()\u001b[39;00m\n\u001b[0;32m---> <a href='vscode-notebook-cell:/home/nigam/scratch/MAC/my_mlelec/src/mlelec/test.ipynb#X20sZmlsZQ%3D%3D?line=22'>23</a>\u001b[0m mf\u001b[39m.\u001b[39;49mkernel()\n\u001b[1;32m     <a href='vscode-notebook-cell:/home/nigam/scratch/MAC/my_mlelec/src/mlelec/test.ipynb#X20sZmlsZQ%3D%3D?line=23'>24</a>\u001b[0m f \u001b[39m=\u001b[39m mf\u001b[39m.\u001b[39mget_fock()\n\u001b[1;32m     <a href='vscode-notebook-cell:/home/nigam/scratch/MAC/my_mlelec/src/mlelec/test.ipynb#X20sZmlsZQ%3D%3D?line=24'>25</a>\u001b[0m \u001b[39mprint\u001b[39m(f)\n",
      "File \u001b[0;32m~/miniconda3/lib/python3.11/site-packages/pyscfad/scf/hf.py:349\u001b[0m, in \u001b[0;36mSCF.kernel\u001b[0;34m(self, dm0, **kwargs)\u001b[0m\n\u001b[1;32m    345\u001b[0m \u001b[39mdef\u001b[39;00m \u001b[39mkernel\u001b[39m(\u001b[39mself\u001b[39m, dm0\u001b[39m=\u001b[39m\u001b[39mNone\u001b[39;00m, \u001b[39m*\u001b[39m\u001b[39m*\u001b[39mkwargs):\n\u001b[1;32m    346\u001b[0m     \u001b[39mself\u001b[39m\u001b[39m.\u001b[39mbuild(\u001b[39mself\u001b[39m\u001b[39m.\u001b[39mmol)\n\u001b[1;32m    347\u001b[0m     \u001b[39mself\u001b[39m\u001b[39m.\u001b[39mconverged, \u001b[39mself\u001b[39m\u001b[39m.\u001b[39me_tot, \\\n\u001b[1;32m    348\u001b[0m             \u001b[39mself\u001b[39m\u001b[39m.\u001b[39mmo_energy, \u001b[39mself\u001b[39m\u001b[39m.\u001b[39mmo_coeff, \u001b[39mself\u001b[39m\u001b[39m.\u001b[39mmo_occ \u001b[39m=\u001b[39m \\\n\u001b[0;32m--> 349\u001b[0m             kernel(\u001b[39mself\u001b[39;49m, \u001b[39mself\u001b[39;49m\u001b[39m.\u001b[39;49mconv_tol, \u001b[39mself\u001b[39;49m\u001b[39m.\u001b[39;49mconv_tol_grad,\n\u001b[1;32m    350\u001b[0m                    dm0\u001b[39m=\u001b[39;49mdm0, \u001b[39m*\u001b[39;49m\u001b[39m*\u001b[39;49mkwargs)\n\u001b[1;32m    351\u001b[0m     \u001b[39mreturn\u001b[39;00m \u001b[39mself\u001b[39m\u001b[39m.\u001b[39me_tot\n",
      "File \u001b[0;32m~/miniconda3/lib/python3.11/site-packages/pyscfad/scf/hf.py:99\u001b[0m, in \u001b[0;36mkernel\u001b[0;34m(mf, conv_tol, conv_tol_grad, dump_chk, dm0, callback, conv_check, **kwargs)\u001b[0m\n\u001b[1;32m     97\u001b[0m mol \u001b[39m=\u001b[39m \u001b[39mgetattr\u001b[39m(mf, \u001b[39m'\u001b[39m\u001b[39mcell\u001b[39m\u001b[39m'\u001b[39m, mf\u001b[39m.\u001b[39mmol)\n\u001b[1;32m     98\u001b[0m \u001b[39mif\u001b[39;00m dm0 \u001b[39mis\u001b[39;00m \u001b[39mNone\u001b[39;00m:\n\u001b[0;32m---> 99\u001b[0m     dm \u001b[39m=\u001b[39m mf\u001b[39m.\u001b[39;49mget_init_guess(mol, mf\u001b[39m.\u001b[39;49minit_guess)\n\u001b[1;32m    100\u001b[0m \u001b[39melse\u001b[39;00m:\n\u001b[1;32m    101\u001b[0m     dm \u001b[39m=\u001b[39m dm0\n",
      "File \u001b[0;32m~/miniconda3/lib/python3.11/site-packages/pyscfad/scf/hf.py:341\u001b[0m, in \u001b[0;36mSCF.get_init_guess\u001b[0;34m(self, mol, key)\u001b[0m\n\u001b[1;32m    339\u001b[0m \u001b[39mif\u001b[39;00m mol \u001b[39mis\u001b[39;00m \u001b[39mNone\u001b[39;00m:\n\u001b[1;32m    340\u001b[0m     mol \u001b[39m=\u001b[39m \u001b[39mself\u001b[39m\u001b[39m.\u001b[39mmol\n\u001b[0;32m--> 341\u001b[0m mol \u001b[39m=\u001b[39m stop_grad(mol)\n\u001b[1;32m    342\u001b[0m \u001b[39mreturn\u001b[39;00m pyscf_hf\u001b[39m.\u001b[39mSCF\u001b[39m.\u001b[39mget_init_guess(\u001b[39mself\u001b[39m, mol, key)\n",
      "File \u001b[0;32m~/miniconda3/lib/python3.11/site-packages/pyscfad/ops/core.py:15\u001b[0m, in \u001b[0;36mstop_gradient\u001b[0;34m(x)\u001b[0m\n\u001b[1;32m     14\u001b[0m \u001b[39mdef\u001b[39;00m \u001b[39mstop_gradient\u001b[39m(x):\n\u001b[0;32m---> 15\u001b[0m     \u001b[39mreturn\u001b[39;00m backend\u001b[39m.\u001b[39;49mcore\u001b[39m.\u001b[39;49mstop_gradient(x)\n",
      "File \u001b[0;32m~/miniconda3/lib/python3.11/site-packages/keras_core/src/ops/core.py:296\u001b[0m, in \u001b[0;36mstop_gradient\u001b[0;34m(variable)\u001b[0m\n\u001b[1;32m    277\u001b[0m \u001b[39m@keras_core_export\u001b[39m(\u001b[39m\"\u001b[39m\u001b[39mkeras_core.ops.stop_gradient\u001b[39m\u001b[39m\"\u001b[39m)\n\u001b[1;32m    278\u001b[0m \u001b[39mdef\u001b[39;00m \u001b[39mstop_gradient\u001b[39m(variable):\n\u001b[1;32m    279\u001b[0m \u001b[39m    \u001b[39m\u001b[39m\"\"\"Stops gradient computation.\u001b[39;00m\n\u001b[1;32m    280\u001b[0m \n\u001b[1;32m    281\u001b[0m \u001b[39m    Args:\u001b[39;00m\n\u001b[0;32m   (...)\u001b[0m\n\u001b[1;32m    294\u001b[0m \u001b[39m    >>> var = keras_core.ops.stop_gradient(var)\u001b[39;00m\n\u001b[1;32m    295\u001b[0m \u001b[39m    \"\"\"\u001b[39;00m\n\u001b[0;32m--> 296\u001b[0m     \u001b[39mreturn\u001b[39;00m backend\u001b[39m.\u001b[39;49mcore\u001b[39m.\u001b[39;49mstop_gradient(variable)\n",
      "File \u001b[0;32m~/miniconda3/lib/python3.11/site-packages/keras_core/src/backend/torch/core.py:368\u001b[0m, in \u001b[0;36mstop_gradient\u001b[0;34m(variable)\u001b[0m\n\u001b[1;32m    365\u001b[0m \u001b[39mdef\u001b[39;00m \u001b[39mstop_gradient\u001b[39m(variable):\n\u001b[1;32m    366\u001b[0m     \u001b[39m# We can't use `.requires_grad_(False)` here since it only\u001b[39;00m\n\u001b[1;32m    367\u001b[0m     \u001b[39m# works when the tensor is a leaf node in the graph.\u001b[39;00m\n\u001b[0;32m--> 368\u001b[0m     \u001b[39mreturn\u001b[39;00m variable\u001b[39m.\u001b[39;49mdetach()\n",
      "File \u001b[0;32m~/miniconda3/lib/python3.11/site-packages/pyscf/gto/mole.py:2393\u001b[0m, in \u001b[0;36mMole.__getattr__\u001b[0;34m(self, key)\u001b[0m\n\u001b[1;32m   2390\u001b[0m     mf \u001b[39m=\u001b[39m scf\u001b[39m.\u001b[39mHF(\u001b[39mself\u001b[39m)\n\u001b[1;32m   2392\u001b[0m \u001b[39mif\u001b[39;00m \u001b[39mnot\u001b[39;00m \u001b[39mhasattr\u001b[39m(mf\u001b[39m.\u001b[39m\u001b[39m__class__\u001b[39m, key):\n\u001b[0;32m-> 2393\u001b[0m     \u001b[39mraise\u001b[39;00m \u001b[39mAttributeError\u001b[39;00m(\u001b[39m'\u001b[39m\u001b[39mMole object does not have method \u001b[39m\u001b[39m%s\u001b[39;00m\u001b[39m'\u001b[39m \u001b[39m%\u001b[39m key)\n\u001b[1;32m   2395\u001b[0m method \u001b[39m=\u001b[39m \u001b[39mgetattr\u001b[39m(mf, key, \u001b[39mNone\u001b[39;00m)\n\u001b[1;32m   2397\u001b[0m \u001b[39m# Initialize SCF object for post-SCF methods if applicable\u001b[39;00m\n",
      "\u001b[0;31mAttributeError\u001b[0m: Mole object does not have method detach"
     ]
    }
   ],
   "source": [
    "import os\n",
    "os.environ['PYSCFAD_BACKEND']='torch'\n",
    "import torch\n",
    "from pyscf import gto\n",
    "\n",
    "from pyscfad import numpy as np\n",
    "# import numpy as np \n",
    "from pyscfad import ops\n",
    "from pyscfad.ml.scf import hf\n",
    "\n",
    "mol = gto.Mole()\n",
    "mol.atom = 'H 0 0 0; H 0 0 0.74'\n",
    "mol.basis = 'sto3g'\n",
    "mol.build()\n",
    "\n",
    "# fock = torch.rand(mol.nao, mol.nao, dtype=float)\n",
    "# fock = .5 * (fock + fock.T.conj())\n",
    "# fock = torch.autograd.Variable(fock, requires_grad=True)\n",
    "\n",
    "mf = hf.SCF(mol)\n",
    "s = mf.get_ovlp()\n",
    "# dm = mf.make_rdm1()\n",
    "mf.kernel()\n",
    "f = mf.get_fock()\n",
    "print(f)\n",
    "# mo_energy, mo_coeff = mf.eig(fock, s)\n",
    "# mo_occ = mf.get_occ(mo_energy) # get_occ returns a numpy array\n",
    "# mo_occ = ops.convert_to_tensor(mo_occ)\n",
    "# dm1 = mf.make_rdm1(mo_coeff, mo_occ)\n",
    "# dip = mf.dip_moment(dm=dm1)\n",
    "# dip_norm = np.linalg.norm(dip)\n",
    "# dip_norm.backward()\n",
    "# print(fock.grad)"
   ]
  },
  {
   "cell_type": "code",
   "execution_count": null,
   "metadata": {
    "hidden": true,
    "scrolled": false
   },
   "outputs": [
    {
     "name": "stdout",
     "output_type": "stream",
     "text": [
      "System: uname_result(system='Linux', node='cosmopc8', release='5.15.0-88-generic', version='#98-Ubuntu SMP Mon Oct 2 15:18:56 UTC 2023', machine='x86_64')  Threads 4\n",
      "Python 3.11.5 (main, Sep 11 2023, 13:54:46) [GCC 11.2.0]\n",
      "numpy 1.26.2  scipy 1.11.3\n",
      "Date: Tue Nov 14 10:20:09 2023\n",
      "PySCF version 2.3.0\n",
      "PySCF path  /home/nigam/miniconda3/lib/python3.11/site-packages/pyscf\n",
      "\n",
      "[ENV] PYSCFAD_BACKEND torch\n",
      "[CONFIG] conf_file None\n",
      "[INPUT] verbose = 5\n",
      "[INPUT] max_memory = 4000 \n",
      "[INPUT] num. atoms = 2\n",
      "[INPUT] num. electrons = 2\n",
      "[INPUT] charge = 0\n",
      "[INPUT] spin (= nelec alpha-beta = 2S) = 0\n",
      "[INPUT] symmetry False subgroup None\n",
      "[INPUT] Mole.unit = angstrom\n",
      "[INPUT] Symbol           X                Y                Z      unit          X                Y                Z       unit  Magmom\n",
      "[INPUT]  1 H      0.000000000000   0.000000000000   0.000000000000 AA    0.000000000000   0.000000000000   0.000000000000 Bohr   0.0\n",
      "[INPUT]  2 H      0.000000000000   0.000000000000   0.740000000000 AA    0.000000000000   0.000000000000   1.398397332178 Bohr   0.0\n",
      "[INPUT] ---------------- BASIS SET ---------------- \n",
      "[INPUT] l, kappa, [nprim/nctr], expnt,             c_1 c_2 ...\n",
      "[INPUT] H\n",
      "[INPUT] 0    0    [3    /1   ]  18.731137         0.0334946\n",
      "                                2.8253937         0.23472695\n",
      "                                0.6401217         0.81375733\n",
      "[INPUT] 0    0    [1    /1   ]  0.1612778            1\n",
      "\n",
      "nuclear repulsion = nan\n",
      "number of shells = 4\n",
      "number of NR pGTOs = 8\n",
      "number of NR cGTOs = 4\n",
      "basis = 631g\n",
      "ecp = {}\n",
      "CPU time:         6.43\n",
      "Set gradient conv threshold to 3.16228e-05\n"
     ]
    },
    {
     "ename": "AttributeError",
     "evalue": "Mole object does not have method detach",
     "output_type": "error",
     "traceback": [
      "\u001b[0;31m---------------------------------------------------------------------------\u001b[0m",
      "\u001b[0;31mAttributeError\u001b[0m                            Traceback (most recent call last)",
      "\u001b[1;32m/home/nigam/scratch/MAC/my_mlelec/src/mlelec/test.ipynb Cell 4\u001b[0m line \u001b[0;36m1\n\u001b[1;32m     <a href='vscode-notebook-cell:/home/nigam/scratch/MAC/my_mlelec/src/mlelec/test.ipynb#X21sZmlsZQ%3D%3D?line=11'>12</a>\u001b[0m mol\u001b[39m.\u001b[39mbuild()\n\u001b[1;32m     <a href='vscode-notebook-cell:/home/nigam/scratch/MAC/my_mlelec/src/mlelec/test.ipynb#X21sZmlsZQ%3D%3D?line=13'>14</a>\u001b[0m mf \u001b[39m=\u001b[39m scf\u001b[39m.\u001b[39mRHF(mol)\n\u001b[0;32m---> <a href='vscode-notebook-cell:/home/nigam/scratch/MAC/my_mlelec/src/mlelec/test.ipynb#X21sZmlsZQ%3D%3D?line=14'>15</a>\u001b[0m mf\u001b[39m.\u001b[39;49mkernel()\n\u001b[1;32m     <a href='vscode-notebook-cell:/home/nigam/scratch/MAC/my_mlelec/src/mlelec/test.ipynb#X21sZmlsZQ%3D%3D?line=15'>16</a>\u001b[0m jac \u001b[39m=\u001b[39m mf\u001b[39m.\u001b[39menergy_grad()\n",
      "File \u001b[0;32m~/miniconda3/lib/python3.11/site-packages/pyscfad/scf/hf.py:349\u001b[0m, in \u001b[0;36mSCF.kernel\u001b[0;34m(self, dm0, **kwargs)\u001b[0m\n\u001b[1;32m    345\u001b[0m \u001b[39mdef\u001b[39;00m \u001b[39mkernel\u001b[39m(\u001b[39mself\u001b[39m, dm0\u001b[39m=\u001b[39m\u001b[39mNone\u001b[39;00m, \u001b[39m*\u001b[39m\u001b[39m*\u001b[39mkwargs):\n\u001b[1;32m    346\u001b[0m     \u001b[39mself\u001b[39m\u001b[39m.\u001b[39mbuild(\u001b[39mself\u001b[39m\u001b[39m.\u001b[39mmol)\n\u001b[1;32m    347\u001b[0m     \u001b[39mself\u001b[39m\u001b[39m.\u001b[39mconverged, \u001b[39mself\u001b[39m\u001b[39m.\u001b[39me_tot, \\\n\u001b[1;32m    348\u001b[0m             \u001b[39mself\u001b[39m\u001b[39m.\u001b[39mmo_energy, \u001b[39mself\u001b[39m\u001b[39m.\u001b[39mmo_coeff, \u001b[39mself\u001b[39m\u001b[39m.\u001b[39mmo_occ \u001b[39m=\u001b[39m \\\n\u001b[0;32m--> 349\u001b[0m             kernel(\u001b[39mself\u001b[39;49m, \u001b[39mself\u001b[39;49m\u001b[39m.\u001b[39;49mconv_tol, \u001b[39mself\u001b[39;49m\u001b[39m.\u001b[39;49mconv_tol_grad,\n\u001b[1;32m    350\u001b[0m                    dm0\u001b[39m=\u001b[39;49mdm0, \u001b[39m*\u001b[39;49m\u001b[39m*\u001b[39;49mkwargs)\n\u001b[1;32m    351\u001b[0m     \u001b[39mreturn\u001b[39;00m \u001b[39mself\u001b[39m\u001b[39m.\u001b[39me_tot\n",
      "File \u001b[0;32m~/miniconda3/lib/python3.11/site-packages/pyscfad/scf/hf.py:99\u001b[0m, in \u001b[0;36mkernel\u001b[0;34m(mf, conv_tol, conv_tol_grad, dump_chk, dm0, callback, conv_check, **kwargs)\u001b[0m\n\u001b[1;32m     97\u001b[0m mol \u001b[39m=\u001b[39m \u001b[39mgetattr\u001b[39m(mf, \u001b[39m'\u001b[39m\u001b[39mcell\u001b[39m\u001b[39m'\u001b[39m, mf\u001b[39m.\u001b[39mmol)\n\u001b[1;32m     98\u001b[0m \u001b[39mif\u001b[39;00m dm0 \u001b[39mis\u001b[39;00m \u001b[39mNone\u001b[39;00m:\n\u001b[0;32m---> 99\u001b[0m     dm \u001b[39m=\u001b[39m mf\u001b[39m.\u001b[39;49mget_init_guess(mol, mf\u001b[39m.\u001b[39;49minit_guess)\n\u001b[1;32m    100\u001b[0m \u001b[39melse\u001b[39;00m:\n\u001b[1;32m    101\u001b[0m     dm \u001b[39m=\u001b[39m dm0\n",
      "File \u001b[0;32m~/miniconda3/lib/python3.11/site-packages/pyscfad/scf/hf.py:341\u001b[0m, in \u001b[0;36mSCF.get_init_guess\u001b[0;34m(self, mol, key)\u001b[0m\n\u001b[1;32m    339\u001b[0m \u001b[39mif\u001b[39;00m mol \u001b[39mis\u001b[39;00m \u001b[39mNone\u001b[39;00m:\n\u001b[1;32m    340\u001b[0m     mol \u001b[39m=\u001b[39m \u001b[39mself\u001b[39m\u001b[39m.\u001b[39mmol\n\u001b[0;32m--> 341\u001b[0m mol \u001b[39m=\u001b[39m stop_grad(mol)\n\u001b[1;32m    342\u001b[0m \u001b[39mreturn\u001b[39;00m pyscf_hf\u001b[39m.\u001b[39mSCF\u001b[39m.\u001b[39mget_init_guess(\u001b[39mself\u001b[39m, mol, key)\n",
      "File \u001b[0;32m~/miniconda3/lib/python3.11/site-packages/pyscfad/ops/core.py:15\u001b[0m, in \u001b[0;36mstop_gradient\u001b[0;34m(x)\u001b[0m\n\u001b[1;32m     14\u001b[0m \u001b[39mdef\u001b[39;00m \u001b[39mstop_gradient\u001b[39m(x):\n\u001b[0;32m---> 15\u001b[0m     \u001b[39mreturn\u001b[39;00m backend\u001b[39m.\u001b[39;49mcore\u001b[39m.\u001b[39;49mstop_gradient(x)\n",
      "File \u001b[0;32m~/miniconda3/lib/python3.11/site-packages/keras_core/src/ops/core.py:296\u001b[0m, in \u001b[0;36mstop_gradient\u001b[0;34m(variable)\u001b[0m\n\u001b[1;32m    277\u001b[0m \u001b[39m@keras_core_export\u001b[39m(\u001b[39m\"\u001b[39m\u001b[39mkeras_core.ops.stop_gradient\u001b[39m\u001b[39m\"\u001b[39m)\n\u001b[1;32m    278\u001b[0m \u001b[39mdef\u001b[39;00m \u001b[39mstop_gradient\u001b[39m(variable):\n\u001b[1;32m    279\u001b[0m \u001b[39m    \u001b[39m\u001b[39m\"\"\"Stops gradient computation.\u001b[39;00m\n\u001b[1;32m    280\u001b[0m \n\u001b[1;32m    281\u001b[0m \u001b[39m    Args:\u001b[39;00m\n\u001b[0;32m   (...)\u001b[0m\n\u001b[1;32m    294\u001b[0m \u001b[39m    >>> var = keras_core.ops.stop_gradient(var)\u001b[39;00m\n\u001b[1;32m    295\u001b[0m \u001b[39m    \"\"\"\u001b[39;00m\n\u001b[0;32m--> 296\u001b[0m     \u001b[39mreturn\u001b[39;00m backend\u001b[39m.\u001b[39;49mcore\u001b[39m.\u001b[39;49mstop_gradient(variable)\n",
      "File \u001b[0;32m~/miniconda3/lib/python3.11/site-packages/keras_core/src/backend/torch/core.py:368\u001b[0m, in \u001b[0;36mstop_gradient\u001b[0;34m(variable)\u001b[0m\n\u001b[1;32m    365\u001b[0m \u001b[39mdef\u001b[39;00m \u001b[39mstop_gradient\u001b[39m(variable):\n\u001b[1;32m    366\u001b[0m     \u001b[39m# We can't use `.requires_grad_(False)` here since it only\u001b[39;00m\n\u001b[1;32m    367\u001b[0m     \u001b[39m# works when the tensor is a leaf node in the graph.\u001b[39;00m\n\u001b[0;32m--> 368\u001b[0m     \u001b[39mreturn\u001b[39;00m variable\u001b[39m.\u001b[39;49mdetach()\n",
      "File \u001b[0;32m~/miniconda3/lib/python3.11/site-packages/pyscf/gto/mole.py:2393\u001b[0m, in \u001b[0;36mMole.__getattr__\u001b[0;34m(self, key)\u001b[0m\n\u001b[1;32m   2390\u001b[0m     mf \u001b[39m=\u001b[39m scf\u001b[39m.\u001b[39mHF(\u001b[39mself\u001b[39m)\n\u001b[1;32m   2392\u001b[0m \u001b[39mif\u001b[39;00m \u001b[39mnot\u001b[39;00m \u001b[39mhasattr\u001b[39m(mf\u001b[39m.\u001b[39m\u001b[39m__class__\u001b[39m, key):\n\u001b[0;32m-> 2393\u001b[0m     \u001b[39mraise\u001b[39;00m \u001b[39mAttributeError\u001b[39;00m(\u001b[39m'\u001b[39m\u001b[39mMole object does not have method \u001b[39m\u001b[39m%s\u001b[39;00m\u001b[39m'\u001b[39m \u001b[39m%\u001b[39m key)\n\u001b[1;32m   2395\u001b[0m method \u001b[39m=\u001b[39m \u001b[39mgetattr\u001b[39m(mf, key, \u001b[39mNone\u001b[39;00m)\n\u001b[1;32m   2397\u001b[0m \u001b[39m# Initialize SCF object for post-SCF methods if applicable\u001b[39;00m\n",
      "\u001b[0;31mAttributeError\u001b[0m: Mole object does not have method detach"
     ]
    }
   ],
   "source": [
    "import pyscf\n",
    "from pyscfad import gto, scf\n",
    "\n",
    "\"\"\"\n",
    "Analytic nuclear gradient for RHF computed by auto-differentiation\n",
    "\"\"\"\n",
    "\n",
    "mol = gto.Mole()\n",
    "mol.atom    = 'H 0 0 0; H 0 0 0.74'  # in Angstrom\n",
    "mol.basis   = '631g'\n",
    "mol.verbose = 5\n",
    "mol.build()\n",
    "\n",
    "mf = scf.RHF(mol)\n",
    "mf.kernel()\n",
    "jac = mf.energy_grad()"
   ]
  },
  {
   "cell_type": "markdown",
   "metadata": {},
   "source": [
    "## mlelec "
   ]
  },
  {
   "cell_type": "code",
   "execution_count": 4,
   "metadata": {},
   "outputs": [],
   "source": [
    "from utils.symmetry import _r2c, _real2complex\n",
    "from rascaline import SphericalExpansion \n",
    "from rascaline import SphericalExpansionByPair as PairExpansion \n",
    "from metatensor import Labels, TensorMap, TensorBlock\n",
    "import ase"
   ]
  },
  {
   "cell_type": "code",
   "execution_count": 5,
   "metadata": {},
   "outputs": [],
   "source": [
    "import scipy \n",
    "from utils.symmetry import _wigner_d_real"
   ]
  },
  {
   "cell_type": "code",
   "execution_count": 9,
   "metadata": {},
   "outputs": [],
   "source": [
    "frames = ase.Atoms('H2', positions= [[0,0,0],[0,0,1]])\n",
    "# abc = torch.randn(3)\n",
    "# rot = random_rotation(*abc)\n",
    "# rot_frames = rotate_frame(frames, rot)\n",
    "\n",
    "hypers = {'cutoff': 2.,\n",
    "          'max_radial':2, \n",
    "          'max_angular':1,\n",
    "          'atomic_gaussian_width':0.2,\n",
    "          'center_atom_weight':1,\n",
    "          \"radial_basis\": {\"Gto\": {}},\n",
    "          \"cutoff_function\": {\"ShiftedCosine\": {\"width\": 0.1}},\n",
    "}\n",
    "# feat = SphericalExpansion(**hypers).compute(frames)\n",
    "# feat_rot = SphericalExpansion(**hypers).compute(rot_frames)"
   ]
  },
  {
   "cell_type": "code",
   "execution_count": 371,
   "metadata": {},
   "outputs": [],
   "source": [
    "from features.acdc_utils import acdc_standardize_keys"
   ]
  },
  {
   "cell_type": "code",
   "execution_count": 372,
   "metadata": {},
   "outputs": [],
   "source": [
    "feat = feat.keys_to_samples('species_center')\n",
    "feat = acdc_standardize_keys(feat)\n",
    "feat_rot = feat_rot.keys_to_samples('species_center')\n",
    "feat_rot = acdc_standardize_keys(feat_rot)"
   ]
  },
  {
   "cell_type": "code",
   "execution_count": 368,
   "metadata": {},
   "outputs": [],
   "source": [
    "from utils.symmetry import _r2c, _real2complex\n",
    "from utils.symmetry import _wigner_d_real"
   ]
  },
  {
   "cell_type": "code",
   "execution_count": 374,
   "metadata": {},
   "outputs": [
    {
     "data": {
      "text/plain": [
       "tensor([[[ 0.5692, -0.1597]],\n",
       "\n",
       "        [[ 0.5692, -0.1597]]], dtype=torch.float64)"
      ]
     },
     "execution_count": 374,
     "metadata": {},
     "output_type": "execute_result"
    }
   ],
   "source": [
    "feat_rot[0].values"
   ]
  },
  {
   "cell_type": "code",
   "execution_count": 375,
   "metadata": {},
   "outputs": [
    {
     "data": {
      "text/plain": [
       "tensor([[[ 1.8626e-09,  6.3554e-10],\n",
       "         [-1.3878e-17, -3.4694e-18],\n",
       "         [ 3.5044e-09,  1.1957e-09]],\n",
       "\n",
       "        [[-1.8626e-09, -6.3554e-10],\n",
       "         [ 1.3878e-17,  3.4694e-18],\n",
       "         [-3.5044e-09, -1.1957e-09]]], dtype=torch.float64)"
      ]
     },
     "execution_count": 375,
     "metadata": {},
     "output_type": "execute_result"
    }
   ],
   "source": [
    "feat_rot[1].values - _wigner_d_real(1, *abc) @ feat[1].values"
   ]
  },
  {
   "cell_type": "markdown",
   "metadata": {
    "heading_collapsed": true
   },
   "source": [
    "## pca debug"
   ]
  },
  {
   "cell_type": "code",
   "execution_count": 394,
   "metadata": {
    "hidden": true
   },
   "outputs": [],
   "source": [
    "from typing import Union, List\n",
    "def compute_rhoi_pca(rhoi, npca: Optional[Union[float, List[float]]]=None, ):\n",
    "    \"\"\" computes PCA contraction with combined elemental and radial channels.\n",
    "    returns the contraction matrices\n",
    "    \"\"\"\n",
    "    if isinstance(npca, list): \n",
    "        assert len(npca) == len(rhoi)\n",
    "    else: \n",
    "        npca = [npca]*len(rhoi)\n",
    "\n",
    "    pca_vh_all = []\n",
    "    s_sph_all = []\n",
    "    pca_blocks = []\n",
    "    for idx, (key, block) in enumerate(rhoi.items()):\n",
    "        nu, sigma, l, spi = key.values\n",
    "        nsamples = len(block.samples)\n",
    "        ncomps = len(block.components[0])\n",
    "        xl = block.values.reshape((len(block.samples)*len(block.components[0]),-1))\n",
    "        u,s, vh = torch.linalg.svd(xl, full_matrices=False)\n",
    "        eigs= torch.pow(s, 2) / (xl.shape[0] - 1)\n",
    "        eigs_ratio = eigs / torch.sum(eigs)\n",
    "        explained_var = torch.cumsum(eigs_ratio, dim=0)\n",
    "\n",
    "        if npca[idx] is None:\n",
    "            npc = vh.shape[1]\n",
    "\n",
    "        elif 0 < npca[idx] < 1:\n",
    "            npc = (explained_var > npca[idx]).nonzero()[1, 0]\n",
    "        # allow absolute number of features to retain \n",
    "        elif  npca[idx] < min(xl.shape[0], xl.shape[1]):\n",
    "            npc = npca[idx]\n",
    "        \n",
    "        else: \n",
    "            npc = min(xl.shape[0], xl.shape[1])\n",
    "        retained = torch.arange(npc)\n",
    "\n",
    "        s_sph_all.append(s[retained])\n",
    "        pca_vh_all.append(vh[retained].T)\n",
    "        print(\"singular values\", s[retained]/s[0])\n",
    "        print(vh[retained].T.shape, len(block.properties))\n",
    "        pblock = TensorBlock( values = vh[retained].T ,\n",
    "                                 components = [],\n",
    "                                 samples = Labels([\"pca\"], np.asarray([i for i in range(len(block.properties))], dtype=np.int32).reshape(-1,1)),\n",
    "                                 properties = Labels([\"pca\"], np.asarray([i for i in range(vh[retained].T.shape[1])], dtype=np.int32).reshape(-1,1))\n",
    "                                )\n",
    "        pca_blocks.append(pblock)\n",
    "    pca_tmap = TensorMap(rhoi.keys, pca_blocks)\n",
    "    return pca_tmap, pca_vh_all, s_sph_all\n",
    "\n",
    "def get_pca_tmap(rhoi, pca_vh_all):\n",
    "    assert len(rhoi.keys) == len(pca_vh_all)\n",
    "    pca_blocks = []\n",
    "    for idx, (key, block) in enumerate(rhoi):\n",
    "        vt = pca_vh_all[idx]\n",
    "        print(vt.shape)\n",
    "        pblock = TensorBlock( values = vt ,\n",
    "                                 components = [], \n",
    "                                 samples = Labels([\"pca\"], np.asarray([i for i in range(len(block.properties))], dtype=np.int32).reshape(-1,1)),\n",
    "                                 properties = Labels([\"pca\"], np.asarray([i for i in range(vt.shape[-1])], dtype=np.int32).reshape(-1,1))\n",
    "                                )   \n",
    "        pca_blocks.append(pblock)\n",
    "    pca_tmap = TensorMap(rhoi.keys, pca_blocks)\n",
    "    return pca_tmap\n",
    "\n",
    "def apply_pca(rhoi, pca_tmap):\n",
    "    new_blocks = []\n",
    "    for idx, (key, block) in enumerate(rhoi.items()):\n",
    "        nu, sigma, l, spi = key\n",
    "        xl = block.values.reshape((len(block.samples)*len(block.components[0]),-1))\n",
    "        vt = pca_tmap.block(spherical_harmonics_l = l, inversion_sigma = sigma).values\n",
    "        xl_pca = (xl@vt).reshape((len(block.samples),len(block.components[0]),-1))\n",
    "#         print(xl_pca.shape)\n",
    "        pblock = TensorBlock( values = xl_pca,\n",
    "                                 components = block.components,\n",
    "                                 samples = block.samples,\n",
    "                                 properties = Labels([\"pca\"], np.asarray([i for i in range(xl_pca.shape[-1])], dtype=np.int32).reshape(-1,1))\n",
    "                                )\n",
    "        new_blocks.append(pblock)\n",
    "    pca_tmap = TensorMap(rhoi.keys, new_blocks)\n",
    "    return pca_tmap\n"
   ]
  },
  {
   "cell_type": "code",
   "execution_count": 412,
   "metadata": {
    "hidden": true
   },
   "outputs": [
    {
     "name": "stdout",
     "output_type": "stream",
     "text": [
      "singular values tensor([1.0000e+00, 1.8359e-17], dtype=torch.float64)\n",
      "torch.Size([2, 2]) 2\n",
      "singular values tensor([1.0000e+00, 4.9958e-17], dtype=torch.float64)\n",
      "torch.Size([2, 2]) 2\n",
      "singular values tensor([1.0000e+00, 1.8359e-17], dtype=torch.float64)\n",
      "torch.Size([2, 2]) 2\n",
      "singular values tensor([1.0000e+00, 7.4081e-17], dtype=torch.float64)\n",
      "torch.Size([2, 2]) 2\n"
     ]
    }
   ],
   "source": [
    "feat_projection, feat_vh_blocks, feat_eva_blocks = compute_rhoi_pca(\n",
    "        feat, npca=10\n",
    "    )\n",
    "feat_pca= apply_pca(feat, feat_projection)\n",
    "\n",
    "feat_projection_rot, feat_vh_blocks_rot, feat_eva_blocks_rot = compute_rhoi_pca(\n",
    "        feat_rot, npca=10\n",
    "    )\n",
    "feat_pca_rot= apply_pca(feat_rot, feat_projection_rot)"
   ]
  },
  {
   "cell_type": "code",
   "execution_count": 413,
   "metadata": {
    "hidden": true
   },
   "outputs": [
    {
     "data": {
      "text/plain": [
       "tensor([[[-1.9681e-09, -6.9389e-18],\n",
       "         [ 1.3878e-17, -3.4694e-18],\n",
       "         [-3.7028e-09, -1.3878e-17]],\n",
       "\n",
       "        [[ 1.9681e-09,  6.9389e-18],\n",
       "         [-1.3878e-17,  3.4694e-18],\n",
       "         [ 3.7028e-09,  1.3878e-17]]], dtype=torch.float64)"
      ]
     },
     "execution_count": 413,
     "metadata": {},
     "output_type": "execute_result"
    }
   ],
   "source": [
    "feat_pca_rot[1].values - _wigner_d_real(1, *abc) @ feat_pca[1].values"
   ]
  },
  {
   "cell_type": "code",
   "execution_count": 414,
   "metadata": {
    "hidden": true
   },
   "outputs": [
    {
     "data": {
      "text/plain": [
       "tensor([[[-5.9116e-01,  2.7756e-17]],\n",
       "\n",
       "        [[-5.9116e-01,  2.7756e-17]]], dtype=torch.float64)"
      ]
     },
     "execution_count": 414,
     "metadata": {},
     "output_type": "execute_result"
    }
   ],
   "source": [
    "feat_pca[0].values"
   ]
  },
  {
   "cell_type": "code",
   "execution_count": 415,
   "metadata": {
    "hidden": true
   },
   "outputs": [
    {
     "data": {
      "text/plain": [
       "tensor([[[ 0.5692, -0.1597]],\n",
       "\n",
       "        [[ 0.5692, -0.1597]]], dtype=torch.float64)"
      ]
     },
     "execution_count": 415,
     "metadata": {},
     "output_type": "execute_result"
    }
   ],
   "source": [
    "feat[0].values"
   ]
  },
  {
   "cell_type": "code",
   "execution_count": 422,
   "metadata": {
    "hidden": true
   },
   "outputs": [],
   "source": [
    "import metatensor.operations as operations \n",
    "block = feat[0]\n",
    "bs = operations.slice_block(block, axis='samples', labels=Labels(block.samples.names, block.samples.values[::2]) )"
   ]
  },
  {
   "cell_type": "code",
   "execution_count": 424,
   "metadata": {
    "hidden": true
   },
   "outputs": [
    {
     "data": {
      "text/plain": [
       "Labels(\n",
       "    structure  center  species_center\n",
       "        0        0           1\n",
       ")"
      ]
     },
     "execution_count": 424,
     "metadata": {},
     "output_type": "execute_result"
    }
   ],
   "source": [
    "bs.samples"
   ]
  },
  {
   "cell_type": "code",
   "execution_count": 229,
   "metadata": {
    "hidden": true
   },
   "outputs": [
    {
     "name": "stdout",
     "output_type": "stream",
     "text": [
      "B\n"
     ]
    }
   ],
   "source": [
    "xl = torch.randn((10,10))\n",
    "# xl = block.values.reshape((len(block.samples)*len(block.components[0]),-1))\n",
    "u,s, vh = torch.linalg.svd(xl, full_matrices=False)\n",
    "# u1,s1,vh1 = scipy.sparse.linalg.svds(xl.numpy(), return_singular_vectors='vh')\n",
    "eigs= torch.pow(s, 2) / (xl.shape[0] - 1)\n",
    "eigs_ratio = eigs / torch.sum(eigs)\n",
    "explained_var = torch.cumsum(eigs_ratio, dim=0)\n",
    "npca = 0.9\n",
    "if npca is None:\n",
    "    print('A')\n",
    "    npc = vh.shape[1]\n",
    "    retained = torch.arange(npc)\n",
    "\n",
    "elif 0 < npca < 1:\n",
    "    print('B')\n",
    "    npc = (explained_var > npca).nonzero()[1][0]\n",
    "    retained = torch.arange(npc)\n",
    "\n",
    "elif npca < min(xl.shape[0], xl.shape[1]):\n",
    "    print('C')\n",
    "    npc = npca\n",
    "    retained = torch.arange(npc)\n",
    "else:\n",
    "    print('D')\n",
    "    npc = min(xl.shape[0], xl.shape[1])\n",
    "    retained = torch.arange(npc)   "
   ]
  },
  {
   "cell_type": "code",
   "execution_count": 223,
   "metadata": {
    "hidden": true
   },
   "outputs": [
    {
     "name": "stdout",
     "output_type": "stream",
     "text": [
      "[4.9166675 4.6199794 4.490128  4.144341  3.093314  1.9408162 1.8613245\n",
      " 1.2973144 0.5796762]\n",
      "[[ 0.06992618  0.22566627  0.30288357  0.19125725 -0.4041016 ]\n",
      " [ 0.2533575  -0.39145088  0.32483038  0.48370224 -0.11312199]\n",
      " [ 0.27806428 -0.04010454 -0.1218912   0.5725521   0.5898347 ]\n",
      " [-0.193898    0.68149644  0.03259977  0.17477876  0.15035458]\n",
      " [ 0.14457017 -0.19767784  0.05391394 -0.4721757   0.51688725]\n",
      " [-0.7022188  -0.26824862  0.03838144  0.2163131  -0.03818316]\n",
      " [-0.29834694  0.06791176  0.7300834  -0.13475294  0.35254967]\n",
      " [-0.43841565 -0.30818176 -0.32798868  0.11355972  0.09823144]\n",
      " [-0.12849784  0.25489014 -0.04272053  0.2628254   0.22135527]\n",
      " [ 0.06528192 -0.23281786  0.37419653  0.03487815 -0.04271021]]\n"
     ]
    }
   ],
   "source": [
    "u1, s1, vt1 = scipy.sparse.linalg.svds(xl.numpy(), k=(min(xl.shape)-1), return_singular_vectors='vh')\n",
    "print(s1[::-1])\n",
    "print(vt1[-5:][::-1].T)"
   ]
  },
  {
   "cell_type": "code",
   "execution_count": 227,
   "metadata": {
    "hidden": true
   },
   "outputs": [
    {
     "data": {
      "text/plain": [
       "array([0.5796762, 1.2973144, 1.8613245, 1.9408162, 3.093314 , 4.144341 ,\n",
       "       4.490128 , 4.6199794, 4.9166675], dtype=float32)"
      ]
     },
     "execution_count": 227,
     "metadata": {},
     "output_type": "execute_result"
    }
   ],
   "source": [
    "s1"
   ]
  },
  {
   "cell_type": "code",
   "execution_count": 225,
   "metadata": {
    "hidden": true
   },
   "outputs": [
    {
     "data": {
      "text/plain": [
       "array([[-0.4041016 , -0.11312199,  0.5898347 ,  0.15035458,  0.51688725,\n",
       "        -0.03818316,  0.35254967,  0.09823144,  0.22135527, -0.04271021],\n",
       "       [ 0.19125725,  0.48370224,  0.5725521 ,  0.17477876, -0.4721757 ,\n",
       "         0.2163131 , -0.13475294,  0.11355972,  0.2628254 ,  0.03487815],\n",
       "       [ 0.30288357,  0.32483038, -0.1218912 ,  0.03259977,  0.05391394,\n",
       "         0.03838144,  0.7300834 , -0.32798868, -0.04272053,  0.37419653],\n",
       "       [ 0.22566627, -0.39145088, -0.04010454,  0.68149644, -0.19767784,\n",
       "        -0.26824862,  0.06791176, -0.30818176,  0.25489014, -0.23281786],\n",
       "       [ 0.06992618,  0.2533575 ,  0.27806428, -0.193898  ,  0.14457017,\n",
       "        -0.7022188 , -0.29834694, -0.43841565, -0.12849784,  0.06528192]],\n",
       "      dtype=float32)"
      ]
     },
     "execution_count": 225,
     "metadata": {},
     "output_type": "execute_result"
    }
   ],
   "source": [
    "vt1[-5:]"
   ]
  },
  {
   "cell_type": "code",
   "execution_count": 191,
   "metadata": {
    "hidden": true
   },
   "outputs": [
    {
     "data": {
      "text/plain": [
       "tensor(6)"
      ]
     },
     "execution_count": 191,
     "metadata": {},
     "output_type": "execute_result"
    }
   ],
   "source": [
    "(explained_var > npca).nonzero()[1,0]"
   ]
  },
  {
   "cell_type": "code",
   "execution_count": 192,
   "metadata": {
    "hidden": true
   },
   "outputs": [
    {
     "data": {
      "text/plain": [
       "tensor([0, 1, 2, 3, 4, 5])"
      ]
     },
     "execution_count": 192,
     "metadata": {},
     "output_type": "execute_result"
    }
   ],
   "source": [
    "retained"
   ]
  },
  {
   "cell_type": "code",
   "execution_count": 193,
   "metadata": {
    "hidden": true
   },
   "outputs": [
    {
     "data": {
      "text/plain": [
       "tensor([0.2617, 0.4732, 0.6478, 0.7959, 0.8900, 0.9426, 0.9769, 0.9926, 1.0000,\n",
       "        1.0000])"
      ]
     },
     "execution_count": 193,
     "metadata": {},
     "output_type": "execute_result"
    }
   ],
   "source": [
    "explained_var"
   ]
  },
  {
   "cell_type": "code",
   "execution_count": 230,
   "metadata": {
    "hidden": true
   },
   "outputs": [
    {
     "name": "stdout",
     "output_type": "stream",
     "text": [
      "singular values tensor([1.0000, 0.9651, 0.7604, 0.7162, 0.4945])\n"
     ]
    }
   ],
   "source": [
    "pca_vh_all = []\n",
    "s_sph_all = []\n",
    "s_sph_all.append(s[retained])\n",
    "pca_vh_all.append(vh[retained].T)\n",
    "print(\"singular values\", s[retained]/s[0])"
   ]
  },
  {
   "cell_type": "code",
   "execution_count": 231,
   "metadata": {
    "hidden": true
   },
   "outputs": [
    {
     "data": {
      "text/plain": [
       "array([2.7310934, 3.9553895, 4.1991205, 5.330104 , 5.5226116],\n",
       "      dtype=float32)"
      ]
     },
     "execution_count": 231,
     "metadata": {},
     "output_type": "execute_result"
    }
   ],
   "source": [
    "s[retained].numpy()[::-1]"
   ]
  },
  {
   "cell_type": "code",
   "execution_count": 232,
   "metadata": {
    "hidden": true
   },
   "outputs": [
    {
     "data": {
      "text/plain": [
       "tensor([5.5226, 5.3301, 4.1991, 3.9554, 2.7311])"
      ]
     },
     "execution_count": 232,
     "metadata": {},
     "output_type": "execute_result"
    }
   ],
   "source": [
    "s[retained]"
   ]
  },
  {
   "cell_type": "code",
   "execution_count": 233,
   "metadata": {
    "hidden": true
   },
   "outputs": [
    {
     "data": {
      "text/plain": [
       "[<matplotlib.lines.Line2D at 0x7f49308bf3d0>]"
      ]
     },
     "execution_count": 233,
     "metadata": {},
     "output_type": "execute_result"
    },
    {
     "data": {
      "image/png": "[encoded data removed]",
      "text/plain": [
       "<Figure size 640x480 with 1 Axes>"
      ]
     },
     "metadata": {},
     "output_type": "display_data"
    }
   ],
   "source": [
    "import matplotlib.pyplot as plt\n",
    "plt.plot(s[retained]/s[0])"
   ]
  },
  {
   "cell_type": "code",
   "execution_count": null,
   "metadata": {
    "hidden": true
   },
   "outputs": [],
   "source": []
  },
  {
   "cell_type": "markdown",
   "metadata": {},
   "source": [
    "## feature "
   ]
  },
  {
   "cell_type": "code",
   "execution_count": 118,
   "metadata": {},
   "outputs": [],
   "source": [
    "calculator = PairExpansion(**hypers)\n",
    "rho0_ij = calculator.compute(frames)"
   ]
  },
  {
   "cell_type": "code",
   "execution_count": 126,
   "metadata": {},
   "outputs": [],
   "source": [
    "for _ in ['cell_shift_a', 'cell_shift_b','cell_shift_c']:\n",
    "    rho0_ij = operations.remove_dimension(rho0_ij, axis='samples', name=_)"
   ]
  },
  {
   "cell_type": "code",
   "execution_count": 127,
   "metadata": {},
   "outputs": [
    {
     "data": {
      "text/plain": [
       "Labels(\n",
       "    structure  first_atom  second_atom\n",
       "        0          0            1\n",
       "        0          1            0\n",
       "        0          0            0\n",
       "        0          1            1\n",
       ")"
      ]
     },
     "execution_count": 127,
     "metadata": {},
     "output_type": "execute_result"
    }
   ],
   "source": [
    "rho0_ij[0].samples"
   ]
  },
  {
   "cell_type": "code",
   "execution_count": 90,
   "metadata": {},
   "outputs": [],
   "source": [
    "from mlelec.features.acdc import *"
   ]
  },
  {
   "cell_type": "code",
   "execution_count": 91,
   "metadata": {},
   "outputs": [],
   "source": [
    "ff = single_center_features(frames, hypers, 5)"
   ]
  },
  {
   "cell_type": "code",
   "execution_count": null,
   "metadata": {},
   "outputs": [],
   "source": [
    "drop_cell_shift()"
   ]
  },
  {
   "cell_type": "code",
   "execution_count": 130,
   "metadata": {},
   "outputs": [
    {
     "ename": "TypeError",
     "evalue": "can only index LabelsEntry with str or int, got <class 'tuple'>",
     "output_type": "error",
     "traceback": [
      "\u001b[0;31m---------------------------------------------------------------------------\u001b[0m",
      "\u001b[0;31mTypeError\u001b[0m                                 Traceback (most recent call last)",
      "Cell \u001b[0;32mIn[130], line 1\u001b[0m\n\u001b[0;32m----> 1\u001b[0m \u001b[43mff\u001b[49m\u001b[43m[\u001b[49m\u001b[38;5;241;43m0\u001b[39;49m\u001b[43m]\u001b[49m\u001b[38;5;241;43m.\u001b[39;49m\u001b[43msamples\u001b[49m\u001b[43m[\u001b[49m\u001b[38;5;241;43m0\u001b[39;49m\u001b[43m]\u001b[49m\u001b[43m[\u001b[49m\u001b[43m(\u001b[49m\u001b[38;5;124;43m'\u001b[39;49m\u001b[38;5;124;43mstructure\u001b[39;49m\u001b[38;5;124;43m'\u001b[39;49m\u001b[43m,\u001b[49m\u001b[38;5;124;43m'\u001b[39;49m\u001b[38;5;124;43mcenter\u001b[39;49m\u001b[38;5;124;43m'\u001b[39;49m\u001b[43m)\u001b[49m\u001b[43m]\u001b[49m\n",
      "File \u001b[0;32m~/miniconda3/lib/python3.11/site-packages/metatensor/labels.py:128\u001b[0m, in \u001b[0;36mLabelsEntry.__getitem__\u001b[0;34m(self, dimension)\u001b[0m\n\u001b[1;32m    125\u001b[0m     \u001b[38;5;28;01mreturn\u001b[39;00m \u001b[38;5;28mself\u001b[39m\u001b[38;5;241m.\u001b[39m_values[i]\n\u001b[1;32m    127\u001b[0m \u001b[38;5;28;01melse\u001b[39;00m:\n\u001b[0;32m--> 128\u001b[0m     \u001b[38;5;28;01mraise\u001b[39;00m \u001b[38;5;167;01mTypeError\u001b[39;00m(\n\u001b[1;32m    129\u001b[0m         \u001b[38;5;124mf\u001b[39m\u001b[38;5;124m\"\u001b[39m\u001b[38;5;124mcan only index LabelsEntry with str or int, got \u001b[39m\u001b[38;5;132;01m{\u001b[39;00m\u001b[38;5;28mtype\u001b[39m(dimension)\u001b[38;5;132;01m}\u001b[39;00m\u001b[38;5;124m\"\u001b[39m\n\u001b[1;32m    130\u001b[0m     )\n",
      "\u001b[0;31mTypeError\u001b[0m: can only index LabelsEntry with str or int, got <class 'tuple'>"
     ]
    }
   ],
   "source": [
    "ff[0].samples[0][('structure','center')]"
   ]
  },
  {
   "cell_type": "code",
   "execution_count": 143,
   "metadata": {},
   "outputs": [
    {
     "name": "stdout",
     "output_type": "stream",
     "text": [
      "Labels(\n",
      "    structure  center  neighbor\n",
      "        0        0        1\n",
      "        0        1        0\n",
      "        0        0        0\n",
      "        0        1        1\n",
      ") Labels(\n",
      "    structure  center\n",
      "        0        0\n",
      "        0        1\n",
      ") [0 0 0 0]\n",
      "Labels(\n",
      "    structure  center  neighbor\n",
      "        0        0        1\n",
      "        0        1        0\n",
      ") Labels(\n",
      "    structure  center\n",
      "        0        0\n",
      "        0        1\n",
      ") [0 0]\n",
      "Labels(\n",
      "    structure  center  neighbor\n",
      "        0        0        1\n",
      "        0        1        0\n",
      "        0        0        0\n",
      "        0        1        1\n",
      ") Labels(\n",
      "    structure  center\n",
      "        0        0\n",
      "        0        1\n",
      ") [0 0 0 0]\n",
      "Labels(\n",
      "    structure  center  neighbor\n",
      "        0        0        1\n",
      "        0        1        0\n",
      ") Labels(\n",
      "    structure  center\n",
      "        0        0\n",
      "        0        1\n",
      ") [0 0]\n",
      "[tensor([[[ 0.0823,  0.0278, -0.0231, -0.0078]],\n",
      "\n",
      "        [[ 0.0823,  0.0278, -0.0231, -0.0078]],\n",
      "\n",
      "        [[ 0.2417, -0.1187, -0.0678,  0.0333]],\n",
      "\n",
      "        [[ 0.2417, -0.1187, -0.0678,  0.0333]]], device='cuda:0'), tensor([[[-0.0331, -0.0113, -0.0113, -0.0039]],\n",
      "\n",
      "        [[ 0.0331,  0.0113,  0.0113,  0.0039]]], device='cuda:0')] Labels(\n",
      "    structure  center  neighbor\n",
      "        0        0        1\n",
      "        0        1        0\n",
      "        0        0        0\n",
      "        0        1        1\n",
      ")\n"
     ]
    },
    {
     "ename": "MetatensorError",
     "evalue": "invalid parameter: data and labels don't match: the array shape along axis 0 is 6 but we have 4 sample labels",
     "output_type": "error",
     "traceback": [
      "\u001b[0;31m---------------------------------------------------------------------------\u001b[0m",
      "\u001b[0;31mMetatensorError\u001b[0m                           Traceback (most recent call last)",
      "Cell \u001b[0;32mIn[143], line 1\u001b[0m\n\u001b[0;32m----> 1\u001b[0m gg \u001b[38;5;241m=\u001b[39m \u001b[43mpair_features\u001b[49m\u001b[43m(\u001b[49m\u001b[43m[\u001b[49m\u001b[43mframes\u001b[49m\u001b[43m]\u001b[49m\u001b[43m,\u001b[49m\u001b[43m \u001b[49m\u001b[43mhypers\u001b[49m\u001b[43m,\u001b[49m\u001b[43m \u001b[49m\u001b[43morder_nu\u001b[49m\u001b[38;5;241;43m=\u001b[39;49m\u001b[38;5;241;43m1\u001b[39;49m\u001b[43m)\u001b[49m\n",
      "File \u001b[0;32m/media/nigam/b5749eb7-d3f1-4495-adeb-2c318fb7d0de/MAC/my_mlelec/src/mlelec/features/acdc.py:105\u001b[0m, in \u001b[0;36mpair_features\u001b[0;34m(frames, hypers, cg, rhonu_i, order_nu, all_pairs, both_centers, lcut, **kwargs)\u001b[0m\n\u001b[1;32m    100\u001b[0m     rhonu_i \u001b[38;5;241m=\u001b[39m single_center_features(\n\u001b[1;32m    101\u001b[0m         frames, order_nu\u001b[38;5;241m=\u001b[39morder_nu, hypers\u001b[38;5;241m=\u001b[39mhypers, lcut\u001b[38;5;241m=\u001b[39mlcut, cg\u001b[38;5;241m=\u001b[39mcg, kwargs\u001b[38;5;241m=\u001b[39mkwargs\n\u001b[1;32m    102\u001b[0m     )\n\u001b[1;32m    104\u001b[0m \u001b[38;5;28;01mif\u001b[39;00m \u001b[38;5;129;01mnot\u001b[39;00m both_centers:\n\u001b[0;32m--> 105\u001b[0m     rhonu_ij \u001b[38;5;241m=\u001b[39m \u001b[43mcg_combine\u001b[49m\u001b[43m(\u001b[49m\n\u001b[1;32m    106\u001b[0m \u001b[43m        \u001b[49m\u001b[43mrhonu_i\u001b[49m\u001b[43m,\u001b[49m\n\u001b[1;32m    107\u001b[0m \u001b[43m        \u001b[49m\u001b[43mrho0_ij\u001b[49m\u001b[43m,\u001b[49m\n\u001b[1;32m    108\u001b[0m \u001b[43m        \u001b[49m\u001b[43mclebsch_gordan\u001b[49m\u001b[38;5;241;43m=\u001b[39;49m\u001b[43mcg\u001b[49m\u001b[43m,\u001b[49m\n\u001b[1;32m    109\u001b[0m \u001b[43m        \u001b[49m\u001b[43mother_keys_match\u001b[49m\u001b[38;5;241;43m=\u001b[39;49m\u001b[43m[\u001b[49m\u001b[38;5;124;43m\"\u001b[39;49m\u001b[38;5;124;43mspecies_center\u001b[39;49m\u001b[38;5;124;43m\"\u001b[39;49m\u001b[43m]\u001b[49m\u001b[43m,\u001b[49m\n\u001b[1;32m    110\u001b[0m \u001b[43m        \u001b[49m\u001b[43mlcut\u001b[49m\u001b[38;5;241;43m=\u001b[39;49m\u001b[43mlcut\u001b[49m\u001b[43m,\u001b[49m\n\u001b[1;32m    111\u001b[0m \u001b[43m    \u001b[49m\u001b[43m)\u001b[49m\n\u001b[1;32m    112\u001b[0m     \u001b[38;5;28;01mreturn\u001b[39;00m rhonu_ij\n\u001b[1;32m    114\u001b[0m \u001b[38;5;28;01melse\u001b[39;00m:\n\u001b[1;32m    115\u001b[0m     \u001b[38;5;66;03m# build the feature with atom-centered density on both centers\u001b[39;00m\n\u001b[1;32m    116\u001b[0m     \u001b[38;5;66;03m# rho_ij = rho_i x gij x rho_j\u001b[39;00m\n",
      "File \u001b[0;32m/media/nigam/b5749eb7-d3f1-4495-adeb-2c318fb7d0de/MAC/my_mlelec/src/mlelec/features/acdc_utils.py:555\u001b[0m, in \u001b[0;36mcg_combine\u001b[0;34m(x_a, x_b, feature_names, clebsch_gordan, lcut, filter_sigma, other_keys_match, sorted_l, mp)\u001b[0m\n\u001b[1;32m    550\u001b[0m     block_data \u001b[38;5;241m=\u001b[39m torch\u001b[38;5;241m.\u001b[39mcat(X_blocks[KEY], dim\u001b[38;5;241m=\u001b[39m\u001b[38;5;241m0\u001b[39m)\n\u001b[1;32m    551\u001b[0m     sph_components \u001b[38;5;241m=\u001b[39m Labels(\n\u001b[1;32m    552\u001b[0m         [\u001b[38;5;124m\"\u001b[39m\u001b[38;5;124mspherical_harmonics_m\u001b[39m\u001b[38;5;124m\"\u001b[39m],\n\u001b[1;32m    553\u001b[0m         np\u001b[38;5;241m.\u001b[39masarray(\u001b[38;5;28mrange\u001b[39m(\u001b[38;5;241m-\u001b[39mL, L \u001b[38;5;241m+\u001b[39m \u001b[38;5;241m1\u001b[39m), dtype\u001b[38;5;241m=\u001b[39mnp\u001b[38;5;241m.\u001b[39mint32)\u001b[38;5;241m.\u001b[39mreshape(\u001b[38;5;241m-\u001b[39m\u001b[38;5;241m1\u001b[39m, \u001b[38;5;241m1\u001b[39m),\n\u001b[1;32m    554\u001b[0m     )\n\u001b[0;32m--> 555\u001b[0m     newblock \u001b[38;5;241m=\u001b[39m \u001b[43mTensorBlock\u001b[49m\u001b[43m(\u001b[49m\n\u001b[1;32m    556\u001b[0m \u001b[43m        \u001b[49m\u001b[43mvalues\u001b[49m\u001b[38;5;241;43m=\u001b[39;49m\u001b[43mblock_data\u001b[49m\u001b[43m,\u001b[49m\n\u001b[1;32m    557\u001b[0m \u001b[43m        \u001b[49m\u001b[43msamples\u001b[49m\u001b[38;5;241;43m=\u001b[39;49m\u001b[43mX_samples\u001b[49m\u001b[43m[\u001b[49m\u001b[43mKEY\u001b[49m\u001b[43m]\u001b[49m\u001b[43m,\u001b[49m\n\u001b[1;32m    558\u001b[0m \u001b[43m        \u001b[49m\u001b[43mcomponents\u001b[49m\u001b[38;5;241;43m=\u001b[39;49m\u001b[43m[\u001b[49m\u001b[43msph_components\u001b[49m\u001b[43m]\u001b[49m\u001b[43m,\u001b[49m\n\u001b[1;32m    559\u001b[0m \u001b[43m        \u001b[49m\u001b[43mproperties\u001b[49m\u001b[38;5;241;43m=\u001b[39;49m\u001b[43mLabels\u001b[49m\u001b[43m(\u001b[49m\n\u001b[1;32m    560\u001b[0m \u001b[43m            \u001b[49m\u001b[43mfeature_names\u001b[49m\u001b[43m,\u001b[49m\u001b[43m \u001b[49m\u001b[43mnp\u001b[49m\u001b[38;5;241;43m.\u001b[39;49m\u001b[43masarray\u001b[49m\u001b[43m(\u001b[49m\u001b[43mnp\u001b[49m\u001b[38;5;241;43m.\u001b[39;49m\u001b[43mvstack\u001b[49m\u001b[43m(\u001b[49m\u001b[43mX_idx\u001b[49m\u001b[43m[\u001b[49m\u001b[43mKEY\u001b[49m\u001b[43m]\u001b[49m\u001b[43m)\u001b[49m\u001b[43m,\u001b[49m\u001b[43m \u001b[49m\u001b[43mdtype\u001b[49m\u001b[38;5;241;43m=\u001b[39;49m\u001b[43mnp\u001b[49m\u001b[38;5;241;43m.\u001b[39;49m\u001b[43mint32\u001b[49m\u001b[43m)\u001b[49m\n\u001b[1;32m    561\u001b[0m \u001b[43m        \u001b[49m\u001b[43m)\u001b[49m\u001b[43m,\u001b[49m\n\u001b[1;32m    562\u001b[0m \u001b[43m    \u001b[49m\u001b[43m)\u001b[49m\n\u001b[1;32m    564\u001b[0m     nz_blk\u001b[38;5;241m.\u001b[39mappend(newblock)\n\u001b[1;32m    565\u001b[0m X \u001b[38;5;241m=\u001b[39m TensorMap(\n\u001b[1;32m    566\u001b[0m     Labels(\n\u001b[1;32m    567\u001b[0m         [\u001b[38;5;124m\"\u001b[39m\u001b[38;5;124morder_nu\u001b[39m\u001b[38;5;124m\"\u001b[39m, \u001b[38;5;124m\"\u001b[39m\u001b[38;5;124minversion_sigma\u001b[39m\u001b[38;5;124m\"\u001b[39m, \u001b[38;5;124m\"\u001b[39m\u001b[38;5;124mspherical_harmonics_l\u001b[39m\u001b[38;5;124m\"\u001b[39m] \u001b[38;5;241m+\u001b[39m OTHER_KEYS,\n\u001b[0;32m   (...)\u001b[0m\n\u001b[1;32m    570\u001b[0m     nz_blk,\n\u001b[1;32m    571\u001b[0m )\n",
      "File \u001b[0;32m~/miniconda3/lib/python3.11/site-packages/metatensor/block.py:81\u001b[0m, in \u001b[0;36mTensorBlock.__init__\u001b[0;34m(self, values, samples, components, properties)\u001b[0m\n\u001b[1;32m     72\u001b[0m values \u001b[38;5;241m=\u001b[39m ArrayWrapper(values)\n\u001b[1;32m     74\u001b[0m \u001b[38;5;28mself\u001b[39m\u001b[38;5;241m.\u001b[39m_actual_ptr \u001b[38;5;241m=\u001b[39m \u001b[38;5;28mself\u001b[39m\u001b[38;5;241m.\u001b[39m_lib\u001b[38;5;241m.\u001b[39mmts_block(\n\u001b[1;32m     75\u001b[0m     values\u001b[38;5;241m.\u001b[39minto_mts_array(),\n\u001b[1;32m     76\u001b[0m     samples\u001b[38;5;241m.\u001b[39m_as_mts_labels_t(),\n\u001b[0;32m   (...)\u001b[0m\n\u001b[1;32m     79\u001b[0m     properties\u001b[38;5;241m.\u001b[39m_as_mts_labels_t(),\n\u001b[1;32m     80\u001b[0m )\n\u001b[0;32m---> 81\u001b[0m \u001b[43m_check_pointer\u001b[49m\u001b[43m(\u001b[49m\u001b[38;5;28;43mself\u001b[39;49m\u001b[38;5;241;43m.\u001b[39;49m\u001b[43m_actual_ptr\u001b[49m\u001b[43m)\u001b[49m\n",
      "File \u001b[0;32m~/miniconda3/lib/python3.11/site-packages/metatensor/status.py:48\u001b[0m, in \u001b[0;36m_check_pointer\u001b[0;34m(pointer)\u001b[0m\n\u001b[1;32m     46\u001b[0m     \u001b[38;5;28;01mraise\u001b[39;00m MetatensorError(last_error()) \u001b[38;5;28;01mfrom\u001b[39;00m \u001b[38;5;21;01me\u001b[39;00m\n\u001b[1;32m     47\u001b[0m \u001b[38;5;28;01melse\u001b[39;00m:\n\u001b[0;32m---> 48\u001b[0m     \u001b[38;5;28;01mraise\u001b[39;00m MetatensorError(last_error())\n",
      "\u001b[0;31mMetatensorError\u001b[0m: invalid parameter: data and labels don't match: the array shape along axis 0 is 6 but we have 4 sample labels"
     ]
    }
   ],
   "source": [
    "gg = pair_features([frames], hypers, order_nu=1)"
   ]
  },
  {
   "cell_type": "code",
   "execution_count": 65,
   "metadata": {},
   "outputs": [
    {
     "name": "stdout",
     "output_type": "stream",
     "text": [
      "tensor([[-0.0000-0.7071j,  0.0000+0.0000j,  0.7071+0.0000j],\n",
      "        [ 0.0000+0.0000j,  1.0000+0.0000j,  0.0000+0.0000j],\n",
      "        [-0.0000-0.7071j,  0.0000+0.0000j, -0.7071+0.0000j]],\n",
      "       dtype=torch.complex128) tensor([[-0.0000-0.7071j,  0.0000+0.0000j,  0.7071+0.0000j],\n",
      "        [ 0.0000+0.0000j,  1.0000+0.0000j,  0.0000+0.0000j],\n",
      "        [-0.0000-0.7071j,  0.0000+0.0000j, -0.7071+0.0000j]],\n",
      "       dtype=torch.complex128) tensor([[-0.0000+0.7071j,  0.0000-0.0000j,  0.0000-0.0000j,  0.0000-0.0000j,\n",
      "          0.0000-0.7071j],\n",
      "        [ 0.0000-0.0000j, -0.0000+0.7071j,  0.0000-0.0000j, -0.0000+0.7071j,\n",
      "          0.0000-0.0000j],\n",
      "        [ 0.0000-0.0000j,  0.0000-0.0000j,  1.0000-0.0000j,  0.0000-0.0000j,\n",
      "          0.0000-0.0000j],\n",
      "        [ 0.0000-0.0000j,  0.7071-0.0000j,  0.0000-0.0000j, -0.7071-0.0000j,\n",
      "          0.0000-0.0000j],\n",
      "        [ 0.7071-0.0000j,  0.0000-0.0000j,  0.0000-0.0000j,  0.0000-0.0000j,\n",
      "          0.7071-0.0000j]], dtype=torch.complex128) tensor([[[1.0000, -0.0000, 0.0000, -0.0000, 0.0000],\n",
      "         [0.0000, 0.7071, 0.0000, -0.0000, 0.0000],\n",
      "         [0.0000, -0.0000, 0.4082, -0.0000, 0.0000]],\n",
      "\n",
      "        [[0.0000, 0.7071, 0.0000, -0.0000, 0.0000],\n",
      "         [0.0000, -0.0000, 0.8165, -0.0000, 0.0000],\n",
      "         [0.0000, -0.0000, 0.0000, 0.7071, 0.0000]],\n",
      "\n",
      "        [[0.0000, -0.0000, 0.4082, -0.0000, 0.0000],\n",
      "         [0.0000, -0.0000, 0.0000, 0.7071, 0.0000],\n",
      "         [0.0000, -0.0000, 0.0000, -0.0000, 1.0000]]], dtype=torch.float64)\n"
     ]
    },
    {
     "data": {
      "text/plain": [
       "tensor([[[ 0.0000,  0.0000, -0.4082,  0.0000, -0.7071],\n",
       "         [ 0.0000,  0.7071,  0.0000,  0.0000,  0.0000],\n",
       "         [ 0.7071,  0.0000,  0.0000,  0.0000,  0.0000]],\n",
       "\n",
       "        [[ 0.0000,  0.7071,  0.0000,  0.0000,  0.0000],\n",
       "         [ 0.0000,  0.0000,  0.8165,  0.0000,  0.0000],\n",
       "         [ 0.0000,  0.0000,  0.0000,  0.7071,  0.0000]],\n",
       "\n",
       "        [[ 0.7071,  0.0000,  0.0000,  0.0000,  0.0000],\n",
       "         [ 0.0000,  0.0000,  0.0000,  0.7071,  0.0000],\n",
       "         [ 0.0000,  0.0000, -0.4082,  0.0000,  0.7071]]], dtype=torch.float64)"
      ]
     },
     "execution_count": 65,
     "metadata": {},
     "output_type": "execute_result"
    }
   ],
   "source": [
    "from mlelec.utils.symmetry import _real_clebsch_gordan_matrix\n",
    "_real_clebsch_gordan_matrix(1,1,0)"
   ]
  },
  {
   "cell_type": "code",
   "execution_count": 31,
   "metadata": {},
   "outputs": [
    {
     "name": "stdout",
     "output_type": "stream",
     "text": [
      "[(0, 0, 0.)]\n"
     ]
    },
    {
     "ename": "TypeError",
     "evalue": "can't convert np.ndarray of type numpy.void. The only supported types are: float64, float32, float16, complex64, complex128, int64, int32, int16, int8, uint8, and bool.",
     "output_type": "error",
     "traceback": [
      "\u001b[0;31m---------------------------------------------------------------------------\u001b[0m",
      "\u001b[0;31mTypeError\u001b[0m                                 Traceback (most recent call last)",
      "Cell \u001b[0;32mIn[31], line 8\u001b[0m\n\u001b[1;32m      1\u001b[0m cg_M \u001b[38;5;241m=\u001b[39m np\u001b[38;5;241m.\u001b[39mzeros(\n\u001b[1;32m      2\u001b[0m                           \u001b[38;5;241m1\u001b[39m,\n\u001b[1;32m      3\u001b[0m                             dtype\u001b[38;5;241m=\u001b[39m[(\u001b[38;5;124m\"\u001b[39m\u001b[38;5;124mm1\u001b[39m\u001b[38;5;124m\"\u001b[39m, \u001b[38;5;124m\"\u001b[39m\u001b[38;5;124m>i4\u001b[39m\u001b[38;5;124m\"\u001b[39m), (\u001b[38;5;124m\"\u001b[39m\u001b[38;5;124mm2\u001b[39m\u001b[38;5;124m\"\u001b[39m, \u001b[38;5;124m\"\u001b[39m\u001b[38;5;124m>i4\u001b[39m\u001b[38;5;124m\"\u001b[39m), (\u001b[38;5;124m\"\u001b[39m\u001b[38;5;124mcg\u001b[39m\u001b[38;5;124m\"\u001b[39m, \u001b[38;5;124m\"\u001b[39m\u001b[38;5;124m>f8\u001b[39m\u001b[38;5;124m\"\u001b[39m)],\n\u001b[1;32m      4\u001b[0m \u001b[38;5;66;03m#                             device=None\u001b[39;00m\n\u001b[1;32m      5\u001b[0m                         )\n\u001b[1;32m      7\u001b[0m \u001b[38;5;28mprint\u001b[39m(cg_M)\n\u001b[0;32m----> 8\u001b[0m \u001b[43mtorch\u001b[49m\u001b[38;5;241;43m.\u001b[39;49m\u001b[43mfrom_numpy\u001b[49m\u001b[43m(\u001b[49m\u001b[43mcg_M\u001b[49m\u001b[43m)\u001b[49m\n",
      "\u001b[0;31mTypeError\u001b[0m: can't convert np.ndarray of type numpy.void. The only supported types are: float64, float32, float16, complex64, complex128, int64, int32, int16, int8, uint8, and bool."
     ]
    }
   ],
   "source": [
    "cg_M = np.zeros(\n",
    "                          1,\n",
    "                            dtype=[(\"m1\", \">i4\"), (\"m2\", \">i4\"), (\"cg\", \">f8\")],\n",
    "#                             device=None\n",
    "                        )\n",
    "\n",
    "print(cg_M)\n",
    "torch.from_numpy(cg_M)"
   ]
  },
  {
   "cell_type": "code",
   "execution_count": 40,
   "metadata": {},
   "outputs": [
    {
     "ename": "TypeError",
     "evalue": "zeros() received an invalid combination of arguments - got (int, int, dtype=list), but expected one of:\n * (tuple of ints size, *, tuple of names names, torch.dtype dtype, torch.layout layout, torch.device device, bool pin_memory, bool requires_grad)\n * (tuple of ints size, *, Tensor out, torch.dtype dtype, torch.layout layout, torch.device device, bool pin_memory, bool requires_grad)\n",
     "output_type": "error",
     "traceback": [
      "\u001b[0;31m---------------------------------------------------------------------------\u001b[0m",
      "\u001b[0;31mTypeError\u001b[0m                                 Traceback (most recent call last)",
      "Cell \u001b[0;32mIn[40], line 1\u001b[0m\n\u001b[0;32m----> 1\u001b[0m a\u001b[38;5;241m=\u001b[39m\u001b[43mtorch\u001b[49m\u001b[38;5;241;43m.\u001b[39;49m\u001b[43mzeros\u001b[49m\u001b[43m(\u001b[49m\n\u001b[1;32m      2\u001b[0m \u001b[43m                            \u001b[49m\u001b[38;5;241;43m1\u001b[39;49m\u001b[43m,\u001b[49m\u001b[38;5;241;43m3\u001b[39;49m\u001b[43m,\u001b[49m\n\u001b[1;32m      3\u001b[0m \u001b[43m                            \u001b[49m\u001b[43mdtype\u001b[49m\u001b[38;5;241;43m=\u001b[39;49m\u001b[43m[\u001b[49m\u001b[43mtorch\u001b[49m\u001b[38;5;241;43m.\u001b[39;49m\u001b[43mint32\u001b[49m\u001b[43m,\u001b[49m\u001b[43m]\u001b[49m\n\u001b[1;32m      4\u001b[0m \u001b[38;5;66;43;03m#                             device=self.device,\u001b[39;49;00m\n\u001b[1;32m      5\u001b[0m \u001b[43m                        \u001b[49m\u001b[43m)\u001b[49m\n\u001b[1;32m      6\u001b[0m \u001b[38;5;28mprint\u001b[39m(a)\n",
      "\u001b[0;31mTypeError\u001b[0m: zeros() received an invalid combination of arguments - got (int, int, dtype=list), but expected one of:\n * (tuple of ints size, *, tuple of names names, torch.dtype dtype, torch.layout layout, torch.device device, bool pin_memory, bool requires_grad)\n * (tuple of ints size, *, Tensor out, torch.dtype dtype, torch.layout layout, torch.device device, bool pin_memory, bool requires_grad)\n"
     ]
    }
   ],
   "source": [
    "a=torch.zeros(\n",
    "                            1,3,\n",
    "                            dtype=[torch.int32,]\n",
    "#                             device=self.device,\n",
    "                        )\n",
    "print(a)"
   ]
  },
  {
   "cell_type": "code",
   "execution_count": null,
   "metadata": {},
   "outputs": [],
   "source": []
  },
  {
   "cell_type": "code",
   "execution_count": 2,
   "metadata": {},
   "outputs": [
    {
     "name": "stderr",
     "output_type": "stream",
     "text": [
      "/home/nigam/miniconda3/lib/python3.11/site-packages/pyscf/dft/libxc.py:772: UserWarning: Since PySCF-2.3, B3LYP (and B3P86) are changed to the VWN-RPA variant, the same to the B3LYP functional in Gaussian and ORCA (issue 1480). To restore the VWN5 definition, you can put the setting \"B3LYP_WITH_VWN5 = True\" in pyscf_conf.py\n",
      "  warnings.warn('Since PySCF-2.3, B3LYP (and B3P86) are changed to the VWN-RPA variant, '\n"
     ]
    }
   ],
   "source": [
    "from data.pyscf_calculator import calculator\n",
    "import numpy as np \n",
    "import torch \n",
    "from collections import defaultdict"
   ]
  },
  {
   "cell_type": "code",
   "execution_count": 3,
   "metadata": {},
   "outputs": [],
   "source": [
    "from data.dataset import precomputed_molecules, MoleculeDataset, MLDataset"
   ]
  },
  {
   "cell_type": "code",
   "execution_count": 4,
   "metadata": {},
   "outputs": [
    {
     "name": "stdout",
     "output_type": "stream",
     "text": [
      "Loading structures\n",
      "../../examples/data/water_1000/sto-3g/fock.hickle\n"
     ]
    }
   ],
   "source": [
    "water_data = MoleculeDataset(mol_name='water_1000', data_path = '../../examples/data/water_1000/sto-3g', aux_path = '../../examples/data/water_1000/sto-3g')"
   ]
  },
  {
   "cell_type": "code",
   "execution_count": 5,
   "metadata": {},
   "outputs": [],
   "source": [
    "water_ml = MLDataset(water_data)"
   ]
  },
  {
   "cell_type": "code",
   "execution_count": 10,
   "metadata": {},
   "outputs": [],
   "source": [
    "water_ml._shuffle(random_seed=23724)\n",
    "water_ml._split_indices(0.7, 0.2)"
   ]
  },
  {
   "cell_type": "code",
   "execution_count": 17,
   "metadata": {},
   "outputs": [],
   "source": [
    "dataloader = torch.utils.data.DataLoader(water_ml, batch_size=4,\n",
    "                                              shuffle=True, num_workers=2)"
   ]
  },
  {
   "cell_type": "code",
   "execution_count": 19,
   "metadata": {},
   "outputs": [
    {
     "data": {
      "text/plain": [
       "range(0, 1000)"
      ]
     },
     "execution_count": 19,
     "metadata": {},
     "output_type": "execute_result"
    }
   ],
   "source": [
    "dataloader.dataset.train"
   ]
  },
  {
   "cell_type": "code",
   "execution_count": 25,
   "metadata": {},
   "outputs": [
    {
     "name": "stdout",
     "output_type": "stream",
     "text": [
      "Help on _CallableType in module typing:\n",
      "\n",
      "Callable = typing.Callable\n",
      "    Deprecated alias to collections.abc.Callable.\n",
      "    \n",
      "    Callable[[int], str] signifies a function that takes a single\n",
      "    parameter of type int and returns a str.\n",
      "    \n",
      "    The subscription syntax must always be used with exactly two\n",
      "    values: the argument list and the return type.\n",
      "    The argument list must be a list of types, a ParamSpec,\n",
      "    Concatenate or ellipsis. The return type must be a single type.\n",
      "    \n",
      "    There is no syntax to indicate optional or keyword arguments;\n",
      "    such function types are rarely used as callback types.\n",
      "\n"
     ]
    }
   ],
   "source": [
    "import typing\n",
    "help(typing.Callable)"
   ]
  },
  {
   "cell_type": "code",
   "execution_count": 116,
   "metadata": {},
   "outputs": [],
   "source": [
    "import torch\n",
    "from typing import Dict, Optional, List\n",
    "import numpy as np\n",
    "import scipy\n",
    "from utils import rank2_utils as rank2_utils\n",
    "import ase\n",
    "\n",
    "class ModelTargets:  # generic class for different targets\n",
    "    def __init__(self,target, orbitals:Optional[Dict]=None, frames:Optional[List[ase.Atoms]]=None):\n",
    "        self.tensor = target\n",
    "        pass\n",
    "\n",
    "    def prop():\n",
    "        pass\n",
    "    \n",
    "class SecondRank():  # class for second-rank tensors\n",
    "    def __init__(\n",
    "        self,\n",
    "        tensor: torch.tensor,\n",
    "        orbitals: Dict,\n",
    "        frames: Optional[List[ase.Atoms]] = None,\n",
    "    ):\n",
    "        super().__init__()\n",
    "        assert len(tensor.shape) == 2, \"Second rank tensor must be of shape (n,n)\"\n",
    "        self.tensor = tensor\n",
    "        self.orbitals = orbitals\n",
    "\n",
    "    def _blocks():\n",
    "        pass\n",
    "\n",
    "\n",
    "class Hamiltonian(SecondRank):  # if there are special cases for hamiltonian\n",
    "    def __init__(self, hamiltonian, orbitals, frames):\n",
    "        super().__init__(hamiltonian, orbitals, frames)\n",
    "        print(self.tensor)\n",
    "    def orthogonalize(self, overlap: torch.tensor):\n",
    "        rank2_utils.lowin_orthogonalize(self.tensor, overlap)\n",
    "    \n",
    "    def eigval(self, overlap=None, first: int = 0, last: int = -1):\n",
    "        eig = Eigenvalues(self.tensor, overlap)\n",
    "        return eig\n",
    "\n",
    "class Eigenvalues(ModelTargets):  # eigval of a second rank tensor\n",
    "    def __init__(self, tensor: torch.tensor, overlap: Optional[torch.tensor] = None):\n",
    "#         super().__init__(self.eigval)\n",
    "        self.tensor = tensor\n",
    "        self.overlap = overlap\n",
    "        assert len(tensor.shape) == 2\n",
    "        if overlap is not None:\n",
    "            assert tensor.shape == overlap.shape\n",
    "        assert tensor.shape[0] == tensor.shape[1]  # square matrix\n",
    "        # TODO : handle non symmetric matrices\n",
    "        \n",
    "        self.eigval = torch.tensor(scipy.linalg.eigvalsh(self.tensor, self.overlap)) #TODO this breaks the graph \n",
    "        print(self.eigval)\n",
    "        super().__init__(self.eigval)\n",
    "    def eigval(self, first: int = 0, last: int = -1):\n",
    "        return self.eigval[first:last]\n",
    "\n",
    "    def eigvec(self, first: int = 0, last: int = -1):\n",
    "        return scipy.linalg.eigh[first:last][-1]\n"
   ]
  },
  {
   "cell_type": "code",
   "execution_count": 117,
   "metadata": {},
   "outputs": [],
   "source": [
    "frame = ase.Atoms('H2', positions = [[0,0,0],[0,0,1]])\n",
    "h  = torch.randn((10,10,))\n",
    "orbs = {'H':[[1,0,0], [2,0,0],[2,1,1], [2,1,-1], [2,1,0]]}"
   ]
  },
  {
   "cell_type": "code",
   "execution_count": 118,
   "metadata": {},
   "outputs": [
    {
     "name": "stdout",
     "output_type": "stream",
     "text": [
      "tensor([[-0.9650,  1.1052,  0.1341,  0.1261,  1.1589, -1.0524,  1.5564,  1.0812,\n",
      "          1.0017,  1.3178],\n",
      "        [-2.6181,  0.6176,  1.2142,  0.6533, -0.3181, -1.7995,  0.2445, -0.3043,\n",
      "         -0.2534, -0.7177],\n",
      "        [ 0.6109,  0.0060,  0.2869,  1.4765,  0.1050,  1.4370, -1.2725,  0.1312,\n",
      "          0.0111, -0.7561],\n",
      "        [ 0.7830, -0.7361, -0.4597, -0.2646,  0.0387, -0.3334,  0.8138,  2.3613,\n",
      "         -0.1114, -1.7576],\n",
      "        [-1.7249,  0.1864, -2.2069,  1.4001, -0.7629, -0.1485, -1.9154,  2.3709,\n",
      "         -0.2457, -1.5366],\n",
      "        [ 0.1106,  0.5286,  1.0557,  0.4031,  0.1027,  1.7747,  0.9335,  0.9036,\n",
      "          0.8205,  0.0390],\n",
      "        [-0.6208,  0.4514, -0.6063,  0.5999, -0.5937,  0.1305,  0.4795,  0.3667,\n",
      "         -0.4556,  3.0084],\n",
      "        [-0.6049,  0.9467,  0.8244, -1.3622, -0.6550,  1.4814,  0.7940, -0.0818,\n",
      "         -0.2548,  0.1671],\n",
      "        [-0.7239, -0.1521,  1.3733, -0.1530, -0.4548,  0.9771,  0.6430, -0.4571,\n",
      "         -0.8721,  0.8476],\n",
      "        [-1.2691, -0.3143, -0.6948,  0.8873, -0.9996,  0.6006, -0.3797,  1.1178,\n",
      "          0.8807,  0.3124]])\n"
     ]
    }
   ],
   "source": [
    "ham = Hamiltonian(h, orbs, frame)"
   ]
  },
  {
   "cell_type": "code",
   "execution_count": 120,
   "metadata": {},
   "outputs": [
    {
     "name": "stdout",
     "output_type": "stream",
     "text": [
      "tensor([-5.0088, -3.5661, -2.0548, -1.3002,  0.1865,  0.7824,  0.9823,  2.1485,\n",
      "         3.7070,  4.6482])\n"
     ]
    }
   ],
   "source": [
    "eig = ham.eigval()"
   ]
  },
  {
   "cell_type": "code",
   "execution_count": 127,
   "metadata": {},
   "outputs": [
    {
     "data": {
      "text/plain": [
       "tensor([-5.0088, -3.5661, -2.0548, -1.3002,  0.1865,  0.7824,  0.9823,  2.1485,\n",
       "         3.7070,  4.6482])"
      ]
     },
     "execution_count": 127,
     "metadata": {},
     "output_type": "execute_result"
    }
   ],
   "source": [
    "eig.eigval"
   ]
  },
  {
   "cell_type": "code",
   "execution_count": 4,
   "metadata": {},
   "outputs": [
    {
     "name": "stdout",
     "output_type": "stream",
     "text": [
      "Loading\n",
      "Number of frames:  1\n",
      "System: uname_result(system='Darwin', node='Jigyasas-MacBook-Pro.local', release='22.4.0', version='Darwin Kernel Version 22.4.0: Mon Mar  6 21:01:02 PST 2023; root:xnu-8796.101.5~3/RELEASE_ARM64_T8112', machine='arm64')  Threads 1\n",
      "Python 3.10.10 (main, Mar 21 2023, 13:41:05) [Clang 14.0.6 ]\n",
      "numpy 1.23.5  scipy 1.8.1\n",
      "Date: Wed Oct 25 08:51:18 2023\n",
      "PySCF version 2.2.1\n",
      "PySCF path  /Users/jigyasa/miniconda3/lib/python3.10/site-packages/pyscf\n",
      "\n",
      "[CONFIG] conf_file None\n",
      "[INPUT] verbose = 5\n",
      "[INPUT] max_memory = 4000 \n",
      "[INPUT] num. atoms = 3\n",
      "[INPUT] num. electrons = 10\n",
      "[INPUT] charge = 0\n",
      "[INPUT] spin (= nelec alpha-beta = 2S) = 0\n",
      "[INPUT] symmetry False subgroup None\n",
      "[INPUT] Mole.unit = angstrom\n",
      "[INPUT] Symbol           X                Y                Z      unit          X                Y                Z       unit  Magmom\n",
      "[INPUT]  1 O      0.000000000000   0.000000000000   0.000000000000 AA    0.000000000000   0.000000000000   0.000000000000 Bohr   0.0\n",
      "[INPUT]  2 H      0.834891000000   0.000000000000   0.000000000000 AA    1.577715333864   0.000000000000   0.000000000000 Bohr   0.0\n",
      "[INPUT]  3 H      0.094031000000   0.961334000000   0.000000000000 AA    0.177692837219   1.816657974233   0.000000000000 Bohr   0.0\n",
      "[INPUT] ---------------- BASIS SET ---------------- \n",
      "[INPUT] l, kappa, [nprim/nctr], expnt,             c_1 c_2 ...\n",
      "[INPUT] O\n",
      "[INPUT] 0    0    [6    /1   ]  27032.382631      0.00021726302465\n",
      "                                4052.3871392      0.0016838662199\n",
      "                                922.3272271       0.0087395616265\n",
      "                                261.24070989      0.035239968808\n",
      "                                85.354641351      0.11153519115\n",
      "                                31.035035245      0.25588953961\n",
      "[INPUT] 0    0    [2    /1   ]  12.260860728      0.39768730901\n",
      "                                4.9987076005      0.2462784943\n",
      "[INPUT] 0    0    [1    /1   ]  1.1703108158         1\n",
      "[INPUT] 0    0    [1    /1   ]  0.46474740994        1\n",
      "[INPUT] 0    0    [1    /1   ]  0.18504536357        1\n",
      "[INPUT] 1    0    [4    /1   ]  63.274954801      0.0060685103418\n",
      "                                14.627049379      0.041912575824\n",
      "                                4.4501223456      0.16153841088\n",
      "                                1.5275799647      0.35706951311\n",
      "[INPUT] 1    0    [1    /1   ]  0.52935117943        1\n",
      "[INPUT] 1    0    [1    /1   ]  0.1747842127         1\n",
      "[INPUT] 2    0    [1    /1   ]  2.314                1\n",
      "[INPUT] 2    0    [1    /1   ]  0.645                1\n",
      "[INPUT] 3    0    [1    /1   ]  1.428                1\n",
      "[INPUT] H\n",
      "[INPUT] 0    0    [3    /1   ]  34.061341         0.0060251978\n",
      "                                5.1235746         0.045021094\n",
      "                                1.1646626         0.20189726\n",
      "[INPUT] 0    0    [1    /1   ]  0.32723041           1\n",
      "[INPUT] 0    0    [1    /1   ]  0.10307241           1\n",
      "[INPUT] 1    0    [1    /1   ]  0.8                  1\n",
      "\n",
      "nuclear repulsion = 9.88940596681312\n",
      "number of shells = 19\n",
      "number of NR pGTOs = 62\n",
      "number of NR cGTOs = 43\n",
      "basis = def2-tzvp\n",
      "ecp = {}\n",
      "CPU time:         4.84\n",
      "\n",
      "\n",
      "******** <class 'pyscf.df.df_jk.density_fit.<locals>.DensityFitting'> ********\n",
      "method = DensityFitting-RHF\n",
      "initial guess = minao\n",
      "damping factor = 0\n",
      "level_shift factor = 0\n",
      "DIIS = <class 'pyscf.scf.diis.CDIIS'>\n",
      "diis_start_cycle = 1\n",
      "diis_space = 10\n",
      "SCF conv_tol = 1e-10\n",
      "SCF conv_tol_grad = 1e-10\n",
      "SCF max_cycles = 100\n",
      "direct_scf = True\n",
      "direct_scf_tol = 1e-13\n",
      "chkfile to save SCF result = /var/folders/k9/q06q1_g56p78b5klqcvmw1mw0000gn/T/tmpo9jcxt2w\n",
      "max_memory 4000 MB (current use 0 MB)\n",
      "Initial guess from minao.\n",
      "******** <class 'pyscf.df.df.DF'> ********\n",
      "auxbasis = None\n",
      "max_memory = 4000\n",
      "_cderi_to_save = /var/folders/k9/q06q1_g56p78b5klqcvmw1mw0000gn/T/tmpmnncr25y\n",
      "Default auxbasis def2-tzvp-jkfit is used for O def2-tzvp\n",
      "Default auxbasis def2-tzvp-jkfit is used for H def2-tzvp\n",
      "num shells = 37, num cGTOs = 113\n",
      "size of aux basis 113\n",
      "int3c2e [1/1], AO [0:19], nrow = 946\n",
      "    CPU time for cholesky_eri      0.01 sec, wall time      0.01 sec\n",
      "    CPU time for df vj and vk      0.03 sec, wall time      0.02 sec\n",
      "E1 = -122.8205481931142  E_coul = 36.89948978634685\n",
      "init E= -76.0316524399542\n",
      "cond(S) = 902.4893276885521\n",
      "    CPU time for initialize scf      0.07 sec, wall time      0.06 sec\n",
      "  HOMO = -0.499563023880148  LUMO = 0.0758249605950113\n",
      "  mo_energy =\n",
      "[-20.80104422  -1.71554463  -0.72863184  -0.65690974  -0.49956302\n",
      "   0.07582496   0.1856497    0.45783187   0.50183207   0.52994077\n",
      "   0.60801051   0.70567203   0.71987106   1.27170749   1.41178124\n",
      "   1.44699533   1.65471353   1.85306998   2.13044544   2.19130338\n",
      "   2.28908575   2.41665322   2.42127386   2.62473597   2.90356839\n",
      "   2.92731556   2.97269699   3.22491714   4.09231952   4.29968642\n",
      "   5.36215323   5.56876938   5.66974372   5.70196625   5.82144547\n",
      "   6.47210312   6.64934575   6.68617354   6.75416997   6.87959163\n",
      "   7.21271989   7.69102595  44.55593828]\n",
      "    CPU time for df vj and vk      0.00 sec, wall time      0.00 sec\n",
      "E1 = -125.15495761693332  E_coul = 39.27986388459358\n",
      "cycle= 1 E= -75.9856877655266  delta_E= 0.046  |g|= 0.464  |ddm|= 0.984\n",
      "    CPU time for cycle= 1      0.01 sec, wall time      0.01 sec\n",
      "  HOMO = -0.445258876364647  LUMO = 0.119091236312643\n",
      "  mo_energy =\n",
      "[-20.32314128  -1.34927069  -0.65165668  -0.55599525  -0.44525888\n",
      "   0.11909124   0.20311023   0.51881137   0.59884726   0.62142668\n",
      "   0.70062991   0.78079325   0.82298027   1.32239591   1.48865499\n",
      "   1.55104899   1.70988642   1.9588253    2.18930911   2.19436438\n",
      "   2.35912937   2.52321171   2.55865454   2.71367712   3.02018337\n",
      "   3.13248752   3.23696078   3.39097976   4.21376015   4.4083432\n",
      "   5.6034258    5.80126634   5.90211431   5.92650339   6.05598813\n",
      "   6.70060368   6.9726095    7.00916461   7.0625256    7.19685127\n",
      "   7.46233118   7.886797    45.00450895]\n",
      "    CPU time for df vj and vk      0.00 sec, wall time      0.00 sec\n",
      "E1 = -123.5082096332543  E_coul = 37.602754704344974\n",
      "cycle= 2 E= -76.0160489620962  delta_E= -0.0304  |g|= 0.258  |ddm|= 0.377\n",
      "    CPU time for cycle= 2      0.01 sec, wall time      0.01 sec\n",
      "  HOMO = -0.525563642475203  LUMO = 0.12113585217319\n",
      "  mo_energy =\n",
      "[-20.57731962  -1.41717857  -0.71135472  -0.63712513  -0.52556364\n",
      "   0.12113585   0.20314861   0.50778884   0.56877162   0.59179025\n",
      "   0.68338688   0.76101738   0.7930494    1.31082041   1.46744156\n",
      "   1.5188945    1.6923808    1.92620627   2.17216838   2.19853148\n",
      "   2.33802111   2.49048928   2.51093311   2.68865582   2.97719756\n",
      "   3.03370895   3.12423932   3.3220649    4.17161321   4.3786605\n",
      "   5.51638705   5.71594733   5.81841516   5.84522042   5.97257831\n",
      "   6.61126837   6.83629171   6.87540246   6.93305258   7.06354724\n",
      "   7.36112084   7.81754717  44.76393052]\n",
      "    CPU time for df vj and vk      0.00 sec, wall time      0.00 sec\n",
      "E1 = -124.25364283851764  E_coul = 38.338163540895586\n",
      "cycle= 3 E= -76.0260733308089  delta_E= -0.01  |g|= 0.0266  |ddm|= 0.116\n",
      "    CPU time for cycle= 3      0.01 sec, wall time      0.01 sec\n",
      "  HOMO = -0.517634811683409  LUMO = 0.125217563324689\n",
      "  mo_energy =\n",
      "[-20.55248352  -1.40501543  -0.70103117  -0.6302428   -0.51763481\n",
      "   0.12521756   0.20636328   0.51218861   0.56808558   0.59445212\n",
      "   0.69240733   0.76476955   0.79929617   1.32222847   1.47751327\n",
      "   1.52766956   1.69976959   1.93340113   2.18113377   2.20931846\n",
      "   2.34607767   2.49714995   2.51727334   2.69807674   2.99102043\n",
      "   3.04418733   3.12920633   3.33595099   4.18363893   4.39112893\n",
      "   5.52612634   5.72596787   5.82949086   5.85797378   5.98460045\n",
      "   6.62784603   6.84753434   6.88715632   6.94566472   7.07509424\n",
      "   7.37295724   7.82959203  44.78753502]\n",
      "    CPU time for df vj and vk      0.00 sec, wall time      0.00 sec\n",
      "E1 = -124.20203288270807  E_coul = 38.286373849009905\n",
      "cycle= 4 E= -76.026253066885  delta_E= -0.00018  |g|= 0.00698  |ddm|= 0.0172\n",
      "    CPU time for cycle= 4      0.01 sec, wall time      0.01 sec\n",
      "  HOMO = -0.518653574435003  LUMO = 0.125270297429465\n",
      "  mo_energy =\n",
      "[-20.55473756  -1.40599092  -0.70134074  -0.63059106  -0.51865357\n",
      "   0.1252703    0.20659783   0.51233187   0.56812973   0.59406488\n",
      "   0.69230579   0.76471758   0.799209     1.3224557    1.47778747\n",
      "   1.52733457   1.69966936   1.93334467   2.18139667   2.20992868\n",
      "   2.3465867    2.496963     2.51733139   2.69841577   2.99141945\n",
      "   3.04310681   3.12901268   3.33513425   4.18380939   4.39087946\n",
      "   5.52552452   5.72533977   5.8287653    5.85725405   5.98390264\n",
      "   6.62698554   6.84657514   6.88639498   6.94469951   7.07452478\n",
      "   7.37271067   7.8295237   44.78544881]\n",
      "    CPU time for df vj and vk      0.00 sec, wall time      0.00 sec\n",
      "E1 = -124.20783723071989  E_coul = 38.292155257560786\n",
      "cycle= 5 E= -76.026276006346  delta_E= -2.29e-05  |g|= 0.00145  |ddm|= 0.00749\n",
      "    CPU time for cycle= 5      0.01 sec, wall time      0.01 sec\n",
      "  HOMO = -0.518838327424527  LUMO = 0.125244880586844\n",
      "  mo_energy =\n",
      "[-20.55489746  -1.40605712  -0.70123662  -0.63068856  -0.51883833\n",
      "   0.12524488   0.20662955   0.51226696   0.56809046   0.5939565\n",
      "   0.69221403   0.76472689   0.79916074   1.32239761   1.47780819\n",
      "   1.5272192    1.69957377   1.93331163   2.18133147   2.20988847\n",
      "   2.34659617   2.49684052   2.51724326   2.69839695   2.99147796\n",
      "   3.0429893    3.12890323   3.33496681   4.18379429   4.39076347\n",
      "   5.52539664   5.72518195   5.82868518   5.85715668   5.98383121\n",
      "   6.62688894   6.84640152   6.88632998   6.94453514   7.07440837\n",
      "   7.3725669    7.82938691  44.78528204]\n",
      "    CPU time for df vj and vk      0.00 sec, wall time      0.00 sec\n",
      "E1 = -124.20778469257752  E_coul = 38.2921013995498\n",
      "cycle= 6 E= -76.0262773262146  delta_E= -1.32e-06  |g|= 0.000271  |ddm|= 0.00208\n",
      "    CPU time for cycle= 6      0.01 sec, wall time      0.01 sec\n",
      "  HOMO = -0.518895466636807  LUMO = 0.125245873662639\n",
      "  mo_energy =\n",
      "[-20.55491652  -1.40606372  -0.70121463  -0.63073403  -0.51889547\n",
      "   0.12524587   0.20664468   0.51226656   0.56807022   0.59393275\n",
      "   0.69221094   0.76473086   0.79917578   1.32239343   1.47780878\n",
      "   1.52720347   1.69957053   1.93330385   2.18132712   2.20989317\n",
      "   2.3465966    2.4968199    2.51722335   2.69840003   2.99149217\n",
      "   3.04296699   3.12887346   3.33495842   4.18378965   4.39075433\n",
      "   5.52537187   5.72515263   5.82866342   5.85714419   5.98382009\n",
      "   6.62687138   6.84636754   6.88631203   6.94450701   7.07438966\n",
      "   7.37254367   7.82936907  44.78526379]\n",
      "    CPU time for df vj and vk      0.00 sec, wall time      0.00 sec\n",
      "E1 = -124.2077823315945  E_coul = 38.29209899307339\n",
      "cycle= 7 E= -76.026277371708  delta_E= -4.55e-08  |g|= 2.77e-05  |ddm|= 0.00052\n",
      "    CPU time for cycle= 7      0.01 sec, wall time      0.02 sec\n",
      "  HOMO = -0.518893492227546  LUMO = 0.125245577809724\n",
      "  mo_energy =\n",
      "[-20.55490898  -1.40606101  -0.70120573  -0.63073179  -0.51889349\n",
      "   0.12524558   0.20664526   0.51226738   0.56807085   0.59393153\n",
      "   0.6922105    0.76473228   0.79917622   1.32239387   1.47781117\n",
      "   1.52720218   1.69957024   1.93330492   2.18132811   2.20989418\n",
      "   2.34659879   2.49681942   2.51722485   2.6984025    2.99149613\n",
      "   3.04296821   3.12887794   3.33495706   4.18379265   4.3907526\n",
      "   5.52537441   5.72515548   5.82866615   5.85714594   5.98382127\n",
      "   6.62687505   6.84637149   6.88631698   6.94451163   7.07439483\n",
      "   7.37254596   7.82937029  44.78527081]\n",
      "    CPU time for df vj and vk      0.00 sec, wall time      0.00 sec\n",
      "E1 = -124.20777497436322  E_coul = 38.29209163552747\n",
      "cycle= 8 E= -76.0262773720226  delta_E= -3.15e-10  |g|= 4e-06  |ddm|= 3.91e-05\n",
      "    CPU time for cycle= 8      0.03 sec, wall time      0.03 sec\n",
      "  HOMO = -0.518892682936851  LUMO = 0.125245521411551\n",
      "  mo_energy =\n",
      "[-20.55490782  -1.40606035  -0.70120504  -0.63073172  -0.51889268\n",
      "   0.12524552   0.20664541   0.51226762   0.5680712    0.59393199\n",
      "   0.69221067   0.76473232   0.79917727   1.32239413   1.47781112\n",
      "   1.52720308   1.69957077   1.93330535   2.18132834   2.20989417\n",
      "   2.34659896   2.49682014   2.51722556   2.69840285   2.99149603\n",
      "   3.04296902   3.12887868   3.33495857   4.1837928    4.39075364\n",
      "   5.52537543   5.72515631   5.82866688   5.8571471    5.98382246\n",
      "   6.62687549   6.84637268   6.88631801   6.94451252   7.07439609\n",
      "   7.37254741   7.82937143  44.78527195]\n",
      "    CPU time for df vj and vk      0.00 sec, wall time      0.00 sec\n",
      "E1 = -124.20777177089604  E_coul = 38.29208843205483\n",
      "cycle= 9 E= -76.0262773720281  delta_E= -5.46e-12  |g|= 1.01e-06  |ddm|= 4.14e-06\n",
      "    CPU time for cycle= 9      0.01 sec, wall time      0.01 sec\n",
      "  HOMO = -0.518892517025524  LUMO = 0.125245504563904\n",
      "  mo_energy =\n",
      "[-20.55490776  -1.40606032  -0.70120493  -0.6307319   -0.51889252\n",
      "   0.1252455    0.20664542   0.51226767   0.56807125   0.59393211\n",
      "   0.69221064   0.76473237   0.79917735   1.32239417   1.47781117\n",
      "   1.52720313   1.6995708    1.9333054    2.18132836   2.20989416\n",
      "   2.34659898   2.49682022   2.51722562   2.69840288   2.99149602\n",
      "   3.04296913   3.12887879   3.33495861   4.18379286   4.39075369\n",
      "   5.52537554   5.72515641   5.82866701   5.85714721   5.98382252\n",
      "   6.6268756    6.84637277   6.88631813   6.94451261   7.07439622\n",
      "   7.3725475    7.82937152  44.78527202]\n",
      "    CPU time for df vj and vk      0.00 sec, wall time      0.00 sec\n",
      "E1 = -124.20777164889671  E_coul = 38.2920883100551\n",
      "cycle= 10 E= -76.0262773720285  delta_E= -3.98e-13  |g|= 2.75e-07  |ddm|= 1.62e-06\n",
      "    CPU time for cycle= 10      0.01 sec, wall time      0.01 sec\n",
      "  HOMO = -0.51889248835868  LUMO = 0.125245486981678\n",
      "  mo_energy =\n",
      "[-20.5549078   -1.40606032  -0.70120491  -0.63073197  -0.51889249\n",
      "   0.12524549   0.20664542   0.51226765   0.56807124   0.59393212\n",
      "   0.6922106    0.76473235   0.79917736   1.32239415   1.47781114\n",
      "   1.52720313   1.69957079   1.93330538   2.18132833   2.20989412\n",
      "   2.34659894   2.49682021   2.51722561   2.69840285   2.99149596\n",
      "   3.04296911   3.12887876   3.33495862   4.18379282   4.39075369\n",
      "   5.52537551   5.72515637   5.82866698   5.85714719   5.98382249\n",
      "   6.62687556   6.84637273   6.88631809   6.94451256   7.0743962\n",
      "   7.37254749   7.82937151  44.78527198]\n",
      "    CPU time for df vj and vk      0.00 sec, wall time      0.00 sec\n",
      "E1 = -124.20777179360269  E_coul = 38.29208845476094\n",
      "cycle= 11 E= -76.0262773720286  delta_E= -1.42e-13  |g|= 2.97e-08  |ddm|= 4.57e-07\n",
      "    CPU time for cycle= 11      0.01 sec, wall time      0.01 sec\n",
      "  HOMO = -0.518892481251658  LUMO = 0.125245485931746\n",
      "  mo_energy =\n",
      "[-20.55490779  -1.40606031  -0.70120491  -0.63073197  -0.51889248\n",
      "   0.12524549   0.20664542   0.51226765   0.56807124   0.59393213\n",
      "   0.6922106    0.76473236   0.79917736   1.32239415   1.47781114\n",
      "   1.52720313   1.69957079   1.93330539   2.18132833   2.20989412\n",
      "   2.34659894   2.49682022   2.51722561   2.69840285   2.99149596\n",
      "   3.04296912   3.12887876   3.33495863   4.18379283   4.3907537\n",
      "   5.52537552   5.72515638   5.82866699   5.8571472    5.9838225\n",
      "   6.62687557   6.84637274   6.8863181    6.94451257   7.07439621\n",
      "   7.3725475    7.82937152  44.78527199]\n",
      "    CPU time for df vj and vk      0.00 sec, wall time      0.00 sec\n",
      "E1 = -124.20777174680819  E_coul = 38.29208840796648\n",
      "cycle= 12 E= -76.0262773720286  delta_E= 2.84e-14  |g|= 3.15e-09  |ddm|= 4.69e-08\n",
      "    CPU time for cycle= 12      0.01 sec, wall time      0.01 sec\n",
      "Linear dependence found in DIIS error vectors.\n",
      "  HOMO = -0.518892480647613  LUMO = 0.125245485755011\n",
      "  mo_energy =\n",
      "[-20.55490779  -1.40606031  -0.70120491  -0.63073197  -0.51889248\n",
      "   0.12524549   0.20664542   0.51226765   0.56807124   0.59393213\n",
      "   0.6922106    0.76473236   0.79917736   1.32239415   1.47781114\n",
      "   1.52720313   1.69957079   1.93330539   2.18132833   2.20989412\n",
      "   2.34659894   2.49682022   2.51722561   2.69840285   2.99149596\n",
      "   3.04296912   3.12887876   3.33495863   4.18379283   4.3907537\n",
      "   5.52537552   5.72515638   5.82866699   5.8571472    5.9838225\n",
      "   6.62687557   6.84637274   6.8863181    6.94451257   7.07439621\n",
      "   7.3725475    7.82937152  44.78527199]\n",
      "    CPU time for df vj and vk      0.00 sec, wall time      0.00 sec\n",
      "E1 = -124.2077717434926  E_coul = 38.292088404650805\n",
      "cycle= 13 E= -76.0262773720287  delta_E= -8.53e-14  |g|= 2.71e-09  |ddm|= 2.25e-09\n",
      "    CPU time for cycle= 13      0.01 sec, wall time      0.01 sec\n",
      "Linear dependence found in DIIS error vectors.\n",
      "  HOMO = -0.51889248039065  LUMO = 0.125245485764702\n",
      "  mo_energy =\n",
      "[-20.55490779  -1.40606031  -0.70120491  -0.63073197  -0.51889248\n",
      "   0.12524549   0.20664542   0.51226765   0.56807124   0.59393213\n",
      "   0.6922106    0.76473236   0.79917736   1.32239415   1.47781114\n",
      "   1.52720313   1.69957079   1.93330539   2.18132833   2.20989412\n",
      "   2.34659894   2.49682022   2.51722561   2.69840285   2.99149596\n",
      "   3.04296912   3.12887876   3.33495863   4.18379283   4.3907537\n",
      "   5.52537552   5.72515638   5.82866699   5.8571472    5.9838225\n",
      "   6.62687557   6.84637274   6.8863181    6.94451257   7.07439621\n",
      "   7.3725475    7.82937152  44.78527199]\n",
      "    CPU time for df vj and vk      0.00 sec, wall time      0.00 sec\n",
      "E1 = -124.20777174182692  E_coul = 38.292088402985144\n",
      "cycle= 14 E= -76.0262773720287  delta_E= 2.84e-14  |g|= 2.62e-09  |ddm|= 1.18e-09\n",
      "    CPU time for cycle= 14      0.01 sec, wall time      0.01 sec\n",
      "Linear dependence found in DIIS error vectors.\n",
      "  HOMO = -0.518892480224811  LUMO = 0.125245485860967\n",
      "  mo_energy =\n",
      "[-20.55490779  -1.40606031  -0.70120491  -0.63073197  -0.51889248\n",
      "   0.12524549   0.20664542   0.51226765   0.56807124   0.59393213\n",
      "   0.6922106    0.76473236   0.79917736   1.32239415   1.47781114\n",
      "   1.52720313   1.69957079   1.93330539   2.18132833   2.20989412\n",
      "   2.34659894   2.49682022   2.51722561   2.69840285   2.99149596\n",
      "   3.04296912   3.12887876   3.33495863   4.18379283   4.3907537\n",
      "   5.52537552   5.72515638   5.82866699   5.8571472    5.9838225\n",
      "   6.62687557   6.84637274   6.8863181    6.94451257   7.07439621\n",
      "   7.3725475    7.82937152  44.78527199]\n",
      "    CPU time for df vj and vk      0.00 sec, wall time      0.00 sec\n",
      "E1 = -124.20777174123899  E_coul = 38.29208840239708\n",
      "cycle= 15 E= -76.0262773720288  delta_E= -1.42e-13  |g|= 2.66e-09  |ddm|= 4.68e-10\n",
      "    CPU time for cycle= 15      0.01 sec, wall time      0.01 sec\n",
      "Linear dependence found in DIIS error vectors.\n",
      "  HOMO = -0.518892480388541  LUMO = 0.125245485816517\n",
      "  mo_energy =\n",
      "[-20.55490779  -1.40606031  -0.70120491  -0.63073197  -0.51889248\n",
      "   0.12524549   0.20664542   0.51226765   0.56807124   0.59393213\n",
      "   0.6922106    0.76473236   0.79917736   1.32239415   1.47781114\n",
      "   1.52720313   1.69957079   1.93330539   2.18132833   2.20989412\n",
      "   2.34659894   2.49682022   2.51722561   2.69840285   2.99149596\n",
      "   3.04296912   3.12887876   3.33495863   4.18379283   4.3907537\n",
      "   5.52537552   5.72515638   5.82866699   5.8571472    5.9838225\n",
      "   6.62687557   6.84637274   6.8863181    6.94451257   7.07439621\n",
      "   7.3725475    7.82937152  44.78527199]\n",
      "    CPU time for df vj and vk      0.00 sec, wall time      0.00 sec\n",
      "E1 = -124.20777174276492  E_coul = 38.29208840392296\n",
      "cycle= 16 E= -76.0262773720288  delta_E= -4.26e-14  |g|= 2.01e-09  |ddm|= 6.85e-10\n",
      "    CPU time for cycle= 16      0.01 sec, wall time      0.01 sec\n",
      "Linear dependence found in DIIS error vectors.\n",
      "  HOMO = -0.518892480587577  LUMO = 0.125245485805441\n",
      "  mo_energy =\n",
      "[-20.55490779  -1.40606031  -0.70120491  -0.63073197  -0.51889248\n",
      "   0.12524549   0.20664542   0.51226765   0.56807124   0.59393213\n",
      "   0.6922106    0.76473236   0.79917736   1.32239415   1.47781114\n",
      "   1.52720313   1.69957079   1.93330539   2.18132833   2.20989412\n",
      "   2.34659894   2.49682022   2.51722561   2.69840285   2.99149596\n",
      "   3.04296912   3.12887876   3.33495863   4.18379283   4.3907537\n",
      "   5.52537552   5.72515638   5.82866699   5.8571472    5.9838225\n",
      "   6.62687557   6.84637274   6.8863181    6.94451257   7.07439621\n",
      "   7.3725475    7.82937152  44.78527199]\n",
      "    CPU time for df vj and vk      0.00 sec, wall time      0.00 sec\n",
      "E1 = -124.2077717439139  E_coul = 38.29208840507205\n",
      "cycle= 17 E= -76.0262773720287  delta_E= 1.14e-13  |g|= 1.61e-09  |ddm|= 5.68e-10\n",
      "    CPU time for cycle= 17      0.01 sec, wall time      0.01 sec\n",
      "Linear dependence found in DIIS error vectors.\n",
      "  HOMO = -0.518892480642804  LUMO = 0.125245485784956\n",
      "  mo_energy =\n",
      "[-20.55490779  -1.40606031  -0.70120491  -0.63073197  -0.51889248\n",
      "   0.12524549   0.20664542   0.51226765   0.56807124   0.59393213\n",
      "   0.6922106    0.76473236   0.79917736   1.32239415   1.47781114\n",
      "   1.52720313   1.69957079   1.93330539   2.18132833   2.20989412\n",
      "   2.34659894   2.49682022   2.51722561   2.69840285   2.99149596\n",
      "   3.04296912   3.12887876   3.33495863   4.18379283   4.3907537\n",
      "   5.52537552   5.72515638   5.82866699   5.8571472    5.9838225\n",
      "   6.62687557   6.84637274   6.8863181    6.94451257   7.07439621\n",
      "   7.3725475    7.82937152  44.78527199]\n",
      "    CPU time for df vj and vk      0.00 sec, wall time      0.00 sec\n",
      "E1 = -124.20777174468532  E_coul = 38.29208840584355\n",
      "cycle= 18 E= -76.0262773720287  delta_E= 7.11e-14  |g|= 1.28e-09  |ddm|= 3.49e-10\n",
      "    CPU time for cycle= 18      0.01 sec, wall time      0.01 sec\n",
      "Linear dependence found in DIIS error vectors.\n",
      "  HOMO = -0.518892480683157  LUMO = 0.125245485773163\n",
      "  mo_energy =\n",
      "[-20.55490779  -1.40606031  -0.70120491  -0.63073197  -0.51889248\n",
      "   0.12524549   0.20664542   0.51226765   0.56807124   0.59393213\n",
      "   0.6922106    0.76473236   0.79917736   1.32239415   1.47781114\n",
      "   1.52720313   1.69957079   1.93330539   2.18132833   2.20989412\n",
      "   2.34659894   2.49682022   2.51722561   2.69840285   2.99149596\n",
      "   3.04296912   3.12887876   3.33495863   4.18379283   4.3907537\n",
      "   5.52537552   5.72515638   5.82866699   5.8571472    5.9838225\n",
      "   6.62687557   6.84637274   6.8863181    6.94451257   7.07439621\n",
      "   7.3725475    7.82937152  44.78527199]\n",
      "    CPU time for df vj and vk      0.00 sec, wall time      0.00 sec\n",
      "E1 = -124.20777174497067  E_coul = 38.29208840612882\n",
      "cycle= 19 E= -76.0262773720287  delta_E= -8.53e-14  |g|= 1.12e-09  |ddm|= 3.14e-10\n",
      "    CPU time for cycle= 19      0.01 sec, wall time      0.01 sec\n",
      "Linear dependence found in DIIS error vectors.\n",
      "  HOMO = -0.518892480773763  LUMO = 0.12524548577593\n",
      "  mo_energy =\n",
      "[-20.55490779  -1.40606031  -0.70120491  -0.63073197  -0.51889248\n",
      "   0.12524549   0.20664542   0.51226765   0.56807124   0.59393213\n",
      "   0.6922106    0.76473236   0.79917736   1.32239415   1.47781114\n",
      "   1.52720313   1.69957079   1.93330539   2.18132833   2.20989412\n",
      "   2.34659894   2.49682022   2.51722561   2.69840285   2.99149596\n",
      "   3.04296912   3.12887876   3.33495863   4.18379283   4.3907537\n",
      "   5.52537552   5.72515638   5.82866699   5.8571472    5.9838225\n",
      "   6.62687557   6.84637274   6.8863181    6.94451257   7.07439621\n",
      "   7.3725475    7.82937152  44.78527199]\n",
      "    CPU time for df vj and vk      0.00 sec, wall time      0.00 sec\n",
      "E1 = -124.20777174636441  E_coul = 38.29208840752264\n",
      "cycle= 20 E= -76.0262773720287  delta_E= 8.53e-14  |g|= 9.55e-10  |ddm|= 9.05e-10\n",
      "    CPU time for cycle= 20      0.01 sec, wall time      0.01 sec\n",
      "Linear dependence found in DIIS error vectors.\n",
      "  HOMO = -0.518892480944883  LUMO = 0.125245485818253\n",
      "  mo_energy =\n",
      "[-20.55490779  -1.40606031  -0.70120491  -0.63073197  -0.51889248\n",
      "   0.12524549   0.20664542   0.51226765   0.56807124   0.59393213\n",
      "   0.6922106    0.76473236   0.79917736   1.32239415   1.47781114\n",
      "   1.52720313   1.69957079   1.93330539   2.18132833   2.20989412\n",
      "   2.34659894   2.49682022   2.51722561   2.69840285   2.99149596\n",
      "   3.04296912   3.12887876   3.33495863   4.18379283   4.3907537\n",
      "   5.52537552   5.72515638   5.82866699   5.8571472    5.9838225\n",
      "   6.62687557   6.84637274   6.8863181    6.94451257   7.07439621\n",
      "   7.3725475    7.82937152  44.78527199]\n",
      "    CPU time for df vj and vk      0.00 sec, wall time      0.00 sec\n",
      "E1 = -124.2077717467341  E_coul = 38.29208840789239\n",
      "cycle= 21 E= -76.0262773720286  delta_E= 7.11e-14  |g|= 1.19e-09  |ddm|= 1.35e-09\n",
      "    CPU time for cycle= 21      0.04 sec, wall time      0.05 sec\n",
      "Linear dependence found in DIIS error vectors.\n",
      "  HOMO = -0.518892481137788  LUMO = 0.125245485724162\n",
      "  mo_energy =\n",
      "[-20.55490779  -1.40606031  -0.70120491  -0.63073197  -0.51889248\n",
      "   0.12524549   0.20664542   0.51226765   0.56807124   0.59393213\n",
      "   0.6922106    0.76473236   0.79917736   1.32239415   1.47781114\n",
      "   1.52720313   1.69957079   1.93330539   2.18132833   2.20989412\n",
      "   2.34659894   2.49682022   2.51722561   2.69840285   2.99149596\n",
      "   3.04296912   3.12887876   3.33495863   4.18379283   4.3907537\n",
      "   5.52537552   5.72515638   5.82866699   5.8571472    5.9838225\n",
      "   6.62687557   6.84637274   6.8863181    6.94451257   7.07439621\n",
      "   7.3725475    7.82937152  44.78527199]\n",
      "    CPU time for df vj and vk      0.00 sec, wall time      0.00 sec\n",
      "E1 = -124.20777174946797  E_coul = 38.292088410626306\n",
      "cycle= 22 E= -76.0262773720285  delta_E= 4.26e-14  |g|= 8.35e-10  |ddm|= 1.42e-09\n",
      "    CPU time for cycle= 22      0.02 sec, wall time      0.02 sec\n",
      "Linear dependence found in DIIS error vectors.\n",
      "  HOMO = -0.51889248110219  LUMO = 0.125245485716733\n",
      "  mo_energy =\n",
      "[-20.55490779  -1.40606031  -0.70120491  -0.63073197  -0.51889248\n",
      "   0.12524549   0.20664542   0.51226765   0.56807124   0.59393213\n",
      "   0.6922106    0.76473236   0.79917736   1.32239415   1.47781114\n",
      "   1.52720313   1.69957079   1.93330539   2.18132833   2.20989412\n",
      "   2.34659894   2.49682022   2.51722561   2.69840285   2.99149596\n",
      "   3.04296912   3.12887876   3.33495863   4.18379283   4.3907537\n",
      "   5.52537552   5.72515638   5.82866699   5.8571472    5.9838225\n",
      "   6.62687557   6.84637274   6.8863181    6.94451257   7.07439621\n",
      "   7.3725475    7.82937152  44.78527199]\n",
      "    CPU time for df vj and vk      0.00 sec, wall time      0.00 sec\n",
      "E1 = -124.2077717492748  E_coul = 38.2920884104328\n",
      "cycle= 23 E= -76.0262773720289  delta_E= -3.41e-13  |g|= 7.39e-10  |ddm|= 1.5e-10\n",
      "    CPU time for cycle= 23      0.01 sec, wall time      0.01 sec\n",
      "Linear dependence found in DIIS error vectors.\n",
      "  HOMO = -0.51889248105159  LUMO = 0.125245485713358\n",
      "  mo_energy =\n",
      "[-20.55490779  -1.40606031  -0.70120491  -0.63073197  -0.51889248\n",
      "   0.12524549   0.20664542   0.51226765   0.56807124   0.59393213\n",
      "   0.6922106    0.76473236   0.79917736   1.32239415   1.47781114\n",
      "   1.52720313   1.69957079   1.93330539   2.18132833   2.20989412\n",
      "   2.34659894   2.49682022   2.51722561   2.69840285   2.99149596\n",
      "   3.04296912   3.12887876   3.33495863   4.18379283   4.3907537\n",
      "   5.52537552   5.72515638   5.82866699   5.8571472    5.9838225\n",
      "   6.62687557   6.84637274   6.8863181    6.94451257   7.07439621\n",
      "   7.3725475    7.82937152  44.78527199]\n",
      "    CPU time for df vj and vk      0.00 sec, wall time      0.00 sec\n",
      "E1 = -124.2077717488805  E_coul = 38.292088410038836\n",
      "cycle= 24 E= -76.0262773720285  delta_E= 3.41e-13  |g|= 5.94e-10  |ddm|= 1.12e-10\n",
      "    CPU time for cycle= 24      0.01 sec, wall time      0.01 sec\n",
      "Linear dependence found in DIIS error vectors.\n",
      "  HOMO = -0.518892480994539  LUMO = 0.125245485714033\n",
      "  mo_energy =\n",
      "[-20.55490779  -1.40606031  -0.70120491  -0.63073197  -0.51889248\n",
      "   0.12524549   0.20664542   0.51226765   0.56807124   0.59393213\n",
      "   0.6922106    0.76473236   0.79917736   1.32239415   1.47781114\n",
      "   1.52720313   1.69957079   1.93330539   2.18132833   2.20989412\n",
      "   2.34659894   2.49682022   2.51722561   2.69840285   2.99149596\n",
      "   3.04296912   3.12887876   3.33495863   4.18379283   4.3907537\n",
      "   5.52537552   5.72515638   5.82866699   5.8571472    5.9838225\n",
      "   6.62687557   6.84637274   6.8863181    6.94451257   7.07439621\n",
      "   7.3725475    7.82937152  44.78527199]\n",
      "    CPU time for df vj and vk      0.00 sec, wall time      0.00 sec\n",
      "E1 = -124.20777174843278  E_coul = 38.292088409590995\n",
      "cycle= 25 E= -76.0262773720287  delta_E= -1.14e-13  |g|= 4.41e-10  |ddm|= 1e-10\n",
      "    CPU time for cycle= 25      0.02 sec, wall time      0.03 sec\n",
      "Linear dependence found in DIIS error vectors.\n",
      "  HOMO = -0.518892480936746  LUMO = 0.125245485714892\n",
      "  mo_energy =\n",
      "[-20.55490779  -1.40606031  -0.70120491  -0.63073197  -0.51889248\n",
      "   0.12524549   0.20664542   0.51226765   0.56807124   0.59393213\n",
      "   0.6922106    0.76473236   0.79917736   1.32239415   1.47781114\n",
      "   1.52720313   1.69957079   1.93330539   2.18132833   2.20989412\n",
      "   2.34659894   2.49682022   2.51722561   2.69840285   2.99149596\n",
      "   3.04296912   3.12887876   3.33495863   4.18379283   4.3907537\n",
      "   5.52537552   5.72515638   5.82866699   5.8571472    5.9838225\n",
      "   6.62687557   6.84637274   6.8863181    6.94451257   7.07439621\n",
      "   7.3725475    7.82937152  44.78527199]\n",
      "    CPU time for df vj and vk      0.00 sec, wall time      0.00 sec\n",
      "E1 = -124.2077717479741  E_coul = 38.292088409132504\n",
      "cycle= 26 E= -76.0262773720285  delta_E= 1.71e-13  |g|= 2.97e-10  |ddm|= 9.64e-11\n",
      "    CPU time for cycle= 26      0.01 sec, wall time      0.01 sec\n",
      "Linear dependence found in DIIS error vectors.\n",
      "  HOMO = -0.518892480894817  LUMO = 0.125245485715661\n",
      "  mo_energy =\n",
      "[-20.55490779  -1.40606031  -0.70120491  -0.63073197  -0.51889248\n",
      "   0.12524549   0.20664542   0.51226765   0.56807124   0.59393213\n",
      "   0.6922106    0.76473236   0.79917736   1.32239415   1.47781114\n",
      "   1.52720313   1.69957079   1.93330539   2.18132833   2.20989412\n",
      "   2.34659894   2.49682022   2.51722561   2.69840285   2.99149596\n",
      "   3.04296912   3.12887876   3.33495863   4.18379283   4.3907537\n",
      "   5.52537552   5.72515638   5.82866699   5.8571472    5.9838225\n",
      "   6.62687557   6.84637274   6.8863181    6.94451257   7.07439621\n",
      "   7.3725475    7.82937152  44.78527199]\n",
      "    CPU time for df vj and vk      0.00 sec, wall time      0.00 sec\n",
      "E1 = -124.20777174764315  E_coul = 38.292088408801284\n",
      "cycle= 27 E= -76.0262773720287  delta_E= -2.56e-13  |g|= 2.14e-10  |ddm|= 6.91e-11\n",
      "    CPU time for cycle= 27      0.01 sec, wall time      0.01 sec\n",
      "Linear dependence found in DIIS error vectors.\n",
      "  HOMO = -0.518892480861907  LUMO = 0.125245485715404\n",
      "  mo_energy =\n",
      "[-20.55490779  -1.40606031  -0.70120491  -0.63073197  -0.51889248\n",
      "   0.12524549   0.20664542   0.51226765   0.56807124   0.59393213\n",
      "   0.6922106    0.76473236   0.79917736   1.32239415   1.47781114\n",
      "   1.52720313   1.69957079   1.93330539   2.18132833   2.20989412\n",
      "   2.34659894   2.49682022   2.51722561   2.69840285   2.99149596\n",
      "   3.04296912   3.12887876   3.33495863   4.18379283   4.3907537\n",
      "   5.52537552   5.72515638   5.82866699   5.8571472    5.9838225\n",
      "   6.62687557   6.84637274   6.8863181    6.94451257   7.07439621\n",
      "   7.3725475    7.82937152  44.78527199]\n",
      "    CPU time for df vj and vk      0.00 sec, wall time      0.00 sec\n",
      "E1 = -124.20777174740688  E_coul = 38.292088408564915\n",
      "cycle= 28 E= -76.0262773720289  delta_E= -1.14e-13  |g|= 1.75e-10  |ddm|= 5.91e-11\n",
      "    CPU time for cycle= 28      0.01 sec, wall time      0.01 sec\n",
      "Linear dependence found in DIIS error vectors.\n",
      "  HOMO = -0.518892480837959  LUMO = 0.125245485715082\n",
      "  mo_energy =\n",
      "[-20.55490779  -1.40606031  -0.70120491  -0.63073197  -0.51889248\n",
      "   0.12524549   0.20664542   0.51226765   0.56807124   0.59393213\n",
      "   0.6922106    0.76473236   0.79917736   1.32239415   1.47781114\n",
      "   1.52720313   1.69957079   1.93330539   2.18132833   2.20989412\n",
      "   2.34659894   2.49682022   2.51722561   2.69840285   2.99149596\n",
      "   3.04296912   3.12887876   3.33495863   4.18379283   4.3907537\n",
      "   5.52537552   5.72515638   5.82866699   5.8571472    5.9838225\n",
      "   6.62687557   6.84637274   6.8863181    6.94451257   7.07439621\n",
      "   7.3725475    7.82937152  44.78527199]\n",
      "    CPU time for df vj and vk      0.00 sec, wall time      0.00 sec\n",
      "E1 = -124.2077717472335  E_coul = 38.29208840839172\n",
      "cycle= 29 E= -76.0262773720287  delta_E= 1.99e-13  |g|= 1.69e-10  |ddm|= 4.5e-11\n",
      "    CPU time for cycle= 29      0.01 sec, wall time      0.01 sec\n",
      "Linear dependence found in DIIS error vectors.\n",
      "  HOMO = -0.518892480817343  LUMO = 0.125245485714745\n",
      "  mo_energy =\n",
      "[-20.55490779  -1.40606031  -0.70120491  -0.63073197  -0.51889248\n",
      "   0.12524549   0.20664542   0.51226765   0.56807124   0.59393213\n",
      "   0.6922106    0.76473236   0.79917736   1.32239415   1.47781114\n",
      "   1.52720313   1.69957079   1.93330539   2.18132833   2.20989412\n",
      "   2.34659894   2.49682022   2.51722561   2.69840285   2.99149596\n",
      "   3.04296912   3.12887876   3.33495863   4.18379283   4.3907537\n",
      "   5.52537552   5.72515638   5.82866699   5.8571472    5.9838225\n",
      "   6.62687557   6.84637274   6.8863181    6.94451257   7.07439621\n",
      "   7.3725475    7.82937152  44.78527199]\n",
      "    CPU time for df vj and vk      0.00 sec, wall time      0.00 sec\n",
      "E1 = -124.20777174709156  E_coul = 38.292088408249676\n",
      "cycle= 30 E= -76.0262773720288  delta_E= -1.14e-13  |g|= 1.82e-10  |ddm|= 3.77e-11\n",
      "    CPU time for cycle= 30      0.01 sec, wall time      0.01 sec\n",
      "Linear dependence found in DIIS error vectors.\n",
      "  HOMO = -0.518892480808938  LUMO = 0.125245485713478\n",
      "  mo_energy =\n",
      "[-20.55490779  -1.40606031  -0.70120491  -0.63073197  -0.51889248\n",
      "   0.12524549   0.20664542   0.51226765   0.56807124   0.59393213\n",
      "   0.6922106    0.76473236   0.79917736   1.32239415   1.47781114\n",
      "   1.52720313   1.69957079   1.93330539   2.18132833   2.20989412\n",
      "   2.34659894   2.49682022   2.51722561   2.69840285   2.99149596\n",
      "   3.04296912   3.12887876   3.33495863   4.18379283   4.3907537\n",
      "   5.52537552   5.72515638   5.82866699   5.8571472    5.9838225\n",
      "   6.62687557   6.84637274   6.8863181    6.94451257   7.07439621\n",
      "   7.3725475    7.82937152  44.78527199]\n",
      "    CPU time for df vj and vk      0.00 sec, wall time      0.00 sec\n",
      "E1 = -124.20777174703514  E_coul = 38.29208840819327\n",
      "cycle= 31 E= -76.0262773720287  delta_E= 2.84e-14  |g|= 1.82e-10  |ddm|= 4.23e-11\n",
      "    CPU time for cycle= 31      0.01 sec, wall time      0.01 sec\n",
      "Linear dependence found in DIIS error vectors.\n",
      "  HOMO = -0.518892480797838  LUMO = 0.12524548570986\n",
      "  mo_energy =\n",
      "[-20.55490779  -1.40606031  -0.70120491  -0.63073197  -0.51889248\n",
      "   0.12524549   0.20664542   0.51226765   0.56807124   0.59393213\n",
      "   0.6922106    0.76473236   0.79917736   1.32239415   1.47781114\n",
      "   1.52720313   1.69957079   1.93330539   2.18132833   2.20989412\n",
      "   2.34659894   2.49682022   2.51722561   2.69840285   2.99149596\n",
      "   3.04296912   3.12887876   3.33495863   4.18379283   4.3907537\n",
      "   5.52537552   5.72515638   5.82866699   5.8571472    5.9838225\n",
      "   6.62687557   6.84637274   6.8863181    6.94451257   7.07439621\n",
      "   7.3725475    7.82937152  44.78527199]\n",
      "    CPU time for df vj and vk      0.00 sec, wall time      0.00 sec\n",
      "E1 = -124.20777174700734  E_coul = 38.29208840816553\n",
      "cycle= 32 E= -76.0262773720287  delta_E= 5.68e-14  |g|= 1.66e-10  |ddm|= 6.84e-11\n",
      "    CPU time for cycle= 32      0.01 sec, wall time      0.01 sec\n",
      "Linear dependence found in DIIS error vectors.\n",
      "  HOMO = -0.518892480813038  LUMO = 0.125245485707632\n",
      "  mo_energy =\n",
      "[-20.55490779  -1.40606031  -0.70120491  -0.63073197  -0.51889248\n",
      "   0.12524549   0.20664542   0.51226765   0.56807124   0.59393213\n",
      "   0.6922106    0.76473236   0.79917736   1.32239415   1.47781114\n",
      "   1.52720313   1.69957079   1.93330539   2.18132833   2.20989412\n",
      "   2.34659894   2.49682022   2.51722561   2.69840285   2.99149596\n",
      "   3.04296912   3.12887876   3.33495863   4.18379283   4.3907537\n",
      "   5.52537552   5.72515638   5.82866699   5.8571472    5.9838225\n",
      "   6.62687557   6.84637274   6.8863181    6.94451257   7.07439621\n",
      "   7.3725475    7.82937152  44.78527199]\n",
      "    CPU time for df vj and vk      0.00 sec, wall time      0.00 sec\n",
      "E1 = -124.20777174715494  E_coul = 38.29208840831314\n",
      "cycle= 33 E= -76.0262773720287  delta_E=    0  |g|= 1.15e-10  |ddm|= 2.91e-11\n",
      "    CPU time for cycle= 33      0.02 sec, wall time      0.04 sec\n",
      "Linear dependence found in DIIS error vectors.\n",
      "  HOMO = -0.518892480826286  LUMO = 0.125245485705798\n",
      "  mo_energy =\n",
      "[-20.55490779  -1.40606031  -0.70120491  -0.63073197  -0.51889248\n",
      "   0.12524549   0.20664542   0.51226765   0.56807124   0.59393213\n",
      "   0.6922106    0.76473236   0.79917736   1.32239415   1.47781114\n",
      "   1.52720313   1.69957079   1.93330539   2.18132833   2.20989412\n",
      "   2.34659894   2.49682022   2.51722561   2.69840285   2.99149596\n",
      "   3.04296912   3.12887876   3.33495863   4.18379283   4.3907537\n",
      "   5.52537552   5.72515638   5.82866699   5.8571472    5.9838225\n",
      "   6.62687557   6.84637274   6.8863181    6.94451257   7.07439621\n",
      "   7.3725475    7.82937152  44.78527199]\n",
      "    CPU time for df vj and vk      0.00 sec, wall time      0.00 sec\n",
      "E1 = -124.20777174728224  E_coul = 38.29208840844033\n",
      "cycle= 34 E= -76.0262773720288  delta_E= -1.14e-13  |g|= 7.71e-11  |ddm|= 2.4e-11\n",
      "    CPU time for cycle= 34      0.02 sec, wall time      0.02 sec\n",
      "  HOMO = -0.518892480838376  LUMO = 0.125245485700633\n",
      "  mo_energy =\n",
      "[-20.55490779  -1.40606031  -0.70120491  -0.63073197  -0.51889248\n",
      "   0.12524549   0.20664542   0.51226765   0.56807124   0.59393213\n",
      "   0.6922106    0.76473236   0.79917736   1.32239415   1.47781114\n",
      "   1.52720313   1.69957079   1.93330539   2.18132833   2.20989412\n",
      "   2.34659894   2.49682022   2.51722561   2.69840285   2.99149596\n",
      "   3.04296912   3.12887876   3.33495863   4.18379283   4.3907537\n",
      "   5.52537552   5.72515638   5.82866699   5.8571472    5.9838225\n",
      "   6.62687557   6.84637274   6.8863181    6.94451257   7.07439621\n",
      "   7.3725475    7.82937152  44.78527199]\n",
      "    CPU time for df vj and vk      0.00 sec, wall time      0.00 sec\n",
      "E1 = -124.20777174745558  E_coul = 38.29208840861359\n",
      "Extra cycle  E= -76.0262773720289  delta_E= -8.53e-14  |g|= 3.61e-11  |ddm|= 6.81e-11\n",
      "    CPU time for scf_cycle      0.55 sec, wall time      0.54 sec\n",
      "    CPU time for SCF      0.55 sec, wall time      0.54 sec\n",
      "converged SCF energy = -76.0262773720289\n",
      "converged: True\n",
      "    CPU time for df vj and vk      0.00 sec, wall time      0.00 sec\n"
     ]
    }
   ],
   "source": [
    "calc = calculator(\n",
    "        path=\"/Users/jigyasa/scratch/my_mlelec/examples/data/water/\",\n",
    "        mol_name=\"water_1000\",\n",
    "        dft=False,\n",
    "        frame_slice=\"0:1\",\n",
    "    )\n",
    "calc.calculate(   basis_set=\"def2-tzvp\",)"
   ]
  },
  {
   "cell_type": "code",
   "execution_count": 5,
   "metadata": {},
   "outputs": [
    {
     "name": "stdout",
     "output_type": "stream",
     "text": [
      "1s\n",
      "2s\n",
      "3s\n",
      "4s\n",
      "5s\n",
      "2px\n",
      "2py\n",
      "2pz\n",
      "3px\n",
      "3py\n",
      "3pz\n",
      "4px\n",
      "4py\n",
      "4pz\n",
      "3dxy\n",
      "3dyz\n",
      "3dz^2\n",
      "3dxz\n",
      "3dx2-y2\n",
      "4dxy\n",
      "4dyz\n",
      "4dz^2\n",
      "4dxz\n",
      "4dx2-y2\n",
      "4f-3\n",
      "4f-2\n",
      "4f-1\n",
      "4f+0\n",
      "4f+1\n",
      "4f+2\n",
      "4f+3\n"
     ]
    }
   ],
   "source": [
    "for o in calc.ao_labels['O']:\n",
    "    print(o)"
   ]
  },
  {
   "cell_type": "code",
   "execution_count": 36,
   "metadata": {},
   "outputs": [
    {
     "name": "stdout",
     "output_type": "stream",
     "text": [
      "1 s\n",
      "2 s\n",
      "3 s\n",
      "4 s\n",
      "5 s\n",
      "2 px\n",
      "2 py\n",
      "2 pz\n",
      "3 px\n",
      "3 py\n",
      "3 pz\n",
      "4 px\n",
      "4 py\n",
      "4 pz\n",
      "3 dxy\n",
      "3 dyz\n",
      "3 dz^2\n",
      "3 dxz\n",
      "3 dx2-y2\n",
      "4 dxy\n",
      "4 dyz\n",
      "4 dz^2\n",
      "4 dxz\n",
      "4 dx2-y2\n",
      "4 f-3\n",
      "4 f-2\n",
      "4 f-1\n",
      "4 f+0\n",
      "4 f+1\n",
      "4 f+2\n",
      "4 f+3\n",
      "1 s\n",
      "2 s\n",
      "3 s\n",
      "2 px\n",
      "2 py\n",
      "2 pz\n",
      "All done, results saved at:  ./\n"
     ]
    },
    {
     "name": "stderr",
     "output_type": "stream",
     "text": [
      "/Users/jigyasa/scratch/my_mlelec/src/mlelec/data/pyscf_calculator.py:197: UserWarning: To copy construct from a tensor, it is recommended to use sourceTensor.clone().detach() or sourceTensor.clone().detach().requires_grad_(True), rather than torch.tensor(sourceTensor).\n",
      "  assert len(self.results[k]) == self.nframes\n"
     ]
    }
   ],
   "source": [
    "calc.save_results(path = './')"
   ]
  },
  {
   "cell_type": "code",
   "execution_count": 58,
   "metadata": {},
   "outputs": [
    {
     "name": "stdout",
     "output_type": "stream",
     "text": [
      "1 [0, 0]\n",
      "2 [0, 0]\n",
      "2 [1, 1]\n",
      "2 [1, -1]\n",
      "2 [1, 0]\n",
      "1 [0, 0]\n",
      "1 [0, 0]\n"
     ]
    }
   ],
   "source": [
    "d = defaultdict(list) \n",
    "\n",
    "labels = ['0 O 1s    ', '0 O 2s    ', '0 O 2px   ', '0 O 2py   ', '0 O 2pz   ', '1 H 1s    ', '2 H 1s    ']\n",
    "for l in labels: \n",
    "    _, elem, b = l.split()[:3]\n",
    "    if b not in d[elem]:\n",
    "        d[elem].append(convert_str_to_nlm(b))\n",
    "\n"
   ]
  },
  {
   "cell_type": "code",
   "execution_count": 59,
   "metadata": {},
   "outputs": [
    {
     "data": {
      "text/plain": [
       "defaultdict(list,\n",
       "            {'O': [[1, 0, 0], [2, 0, 0], [2, 1, 1], [2, 1, -1], [2, 1, 0]],\n",
       "             'H': [[1, 0, 0], [1, 0, 0]]})"
      ]
     },
     "execution_count": 59,
     "metadata": {},
     "output_type": "execute_result"
    }
   ],
   "source": [
    "d"
   ]
  },
  {
   "cell_type": "code",
   "execution_count": 55,
   "metadata": {},
   "outputs": [
    {
     "name": "stdout",
     "output_type": "stream",
     "text": [
      "1 [0, 0]\n",
      "2 [0, 0]\n",
      "2 [1, 1]\n",
      "2 [1, -1]\n",
      "2 [1, 0]\n",
      "1 [0, 0]\n"
     ]
    }
   ],
   "source": [
    "d_nlm = {i:[] for i in d.keys()}\n",
    "for k in d.keys():\n",
    "    for i in d[k]:\n",
    "        d_nlm[k].append(convert_str_to_nlm(i))"
   ]
  },
  {
   "cell_type": "code",
   "execution_count": null,
   "metadata": {},
   "outputs": [],
   "source": []
  },
  {
   "cell_type": "code",
   "execution_count": 57,
   "metadata": {},
   "outputs": [
    {
     "data": {
      "text/plain": [
       "defaultdict(list, {'O': ['1s', '2s', '2px', '2py', '2pz'], 'H': ['1s']})"
      ]
     },
     "execution_count": 57,
     "metadata": {},
     "output_type": "execute_result"
    }
   ],
   "source": [
    "d"
   ]
  },
  {
   "cell_type": "code",
   "execution_count": 56,
   "metadata": {},
   "outputs": [
    {
     "data": {
      "text/plain": [
       "{'O': [[1, 0, 0], [2, 0, 0], [2, 1, 1], [2, 1, -1], [2, 1, 0]],\n",
       " 'H': [[1, 0, 0]]}"
      ]
     },
     "execution_count": 56,
     "metadata": {},
     "output_type": "execute_result"
    }
   ],
   "source": [
    "d_nlm"
   ]
  },
  {
   "cell_type": "code",
   "execution_count": 34,
   "metadata": {},
   "outputs": [
    {
     "name": "stdout",
     "output_type": "stream",
     "text": [
      "1s <re.Match object; span=(0, 2), match='1s'> 1\n",
      "1 s 2\n",
      "4f+2 <re.Match object; span=(0, 4), match='4f+2'> 1\n",
      "4 f+2 2\n"
     ]
    }
   ],
   "source": [
    "import re\n",
    "x = \"1s\"\n",
    "# y = \"4d^2\"\n",
    "y = \"4f+2\"\n",
    "match = re.match(r\"([0-9]+)(.+)\", x, re.I)\n",
    "print(x, match, \"1\")\n",
    "n, lm = match.groups()\n",
    "print(n, lm, \"2\")\n",
    "\n",
    "match = re.match(r\"([0-9]+)(.+)\",y, re.I)\n",
    "print(y, match, \"1\")\n",
    "n, lm = match.groups()\n",
    "print(n, lm, \"2\")\n"
   ]
  },
  {
   "cell_type": "code",
   "execution_count": null,
   "metadata": {},
   "outputs": [],
   "source": []
  }
 ],
 "metadata": {
  "kernelspec": {
   "display_name": "Python 3 (ipykernel)",
   "language": "python",
   "name": "python3"
  },
  "language_info": {
   "codemirror_mode": {
    "name": "ipython",
    "version": 3
   },
   "file_extension": ".py",
   "mimetype": "text/x-python",
   "name": "python",
   "nbconvert_exporter": "python",
   "pygments_lexer": "ipython3",
   "version": "3.11.5"
  },
  "toc": {
   "base_numbering": 1,
   "nav_menu": {},
   "number_sections": true,
   "sideBar": true,
   "skip_h1_title": false,
   "title_cell": "Table of Contents",
   "title_sidebar": "Contents",
   "toc_cell": false,
   "toc_position": {
    "height": "calc(100% - 180px)",
    "left": "10px",
    "top": "150px",
    "width": "384px"
   },
   "toc_section_display": true,
   "toc_window_display": true
  }
 },
 "nbformat": 4,
 "nbformat_minor": 2
}
