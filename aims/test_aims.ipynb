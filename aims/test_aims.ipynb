{
 "cells": [
  {
   "cell_type": "code",
   "execution_count": 1,
   "metadata": {},
   "outputs": [],
   "source": [
    "%load_ext autoreload\n",
    "%autoreload 2"
   ]
  },
  {
   "cell_type": "code",
   "execution_count": 2,
   "metadata": {},
   "outputs": [
    {
     "name": "stderr",
     "output_type": "stream",
     "text": [
      "/home/nigam/miniconda3/lib/python3.11/site-packages/pyscf/dft/libxc.py:772: UserWarning: Since PySCF-2.3, B3LYP (and B3P86) are changed to the VWN-RPA variant, the same to the B3LYP functional in Gaussian and ORCA (issue 1480). To restore the VWN5 definition, you can put the setting \"B3LYP_WITH_VWN5 = True\" in pyscf_conf.py\n",
      "  warnings.warn('Since PySCF-2.3, B3LYP (and B3P86) are changed to the VWN-RPA variant, '\n"
     ]
    }
   ],
   "source": [
    "\n",
    "\n",
    "import numpy as np \n",
    "import torch \n",
    "import metatensor \n",
    "from metatensor import Labels, TensorBlock, TensorMap\n",
    "from mlelec.data.dataset import PySCFPeriodicDataset\n",
    "from mlelec.features.acdc import *\n",
    "from mlelec.features.acdc_utils import *    \n",
    "from ase.io import read\n",
    "from mlelec.utils.twocenter_utils import fix_orbital_order\n",
    "from ase.visualize import view\n",
    "from metatensor import save \n",
    "from mlelec.models.linear import LinearModelPeriodic\n",
    "from mlelec.utils.plot_utils import plot_hamiltonian \n",
    "from mlelec.utils.twocenter_utils_fhiaims import _fhiaims_to_condon_shortley\n"
   ]
  },
  {
   "cell_type": "code",
   "execution_count": 3,
   "metadata": {},
   "outputs": [],
   "source": [
    "device='cpu'\n",
    "filename = \"C2_rotated\"\n",
    "frames = read('../C2_174.xyz', ':') # will be automated from filename  \n",
    "for f in frames:\n",
    "    f.pbc = [True, True, True]\n",
    "kfock = np.load('H_k.npz'.format(filename), allow_pickle=True)\n",
    "kfock= np.array([kfock['arr_{}'.format(i)] for i in range(len(kfock))])\n",
    "\n",
    "kmesh = [12,12,1]"
   ]
  },
  {
   "cell_type": "code",
   "execution_count": 4,
   "metadata": {},
   "outputs": [],
   "source": [
    "orbitals = {'sto-3g': {6: [[1,0,0],[2,0,0],[2,1,1], [2,1,-1],[2,1,0]]}, \n",
    "            'def2svp': {6: [[1,0,0],[2,0,0],[3,0,0],[2,1,1], [2,1,-1],[2,1,0], [3,1,1], [3,1,-1],[3,1,0], [3,2,-2], [3,2,-1],[3,2,0], [3,2,1],[3,2,2]]}\n",
    "           }\n",
    "ORBS = 'sto-3g'"
   ]
  },
  {
   "cell_type": "code",
   "execution_count": 5,
   "metadata": {},
   "outputs": [
    {
     "name": "stderr",
     "output_type": "stream",
     "text": [
      "\n",
      "KeyboardInterrupt\n",
      "\n"
     ]
    }
   ],
   "source": [
    "for f in frames:\n",
    "    f.pbc = [True, True, True]\n",
    "fixed_fock=_fhiaims_to_condon_shortley(kfock, frames, orbitals[ORBS], device=device)\n",
    "\n",
    "dataset = PySCFPeriodicDataset(frames = frames[:5], kgrid=kmesh, matrices_kpoint = kfock[:5], target=[\"real_translation\"] ,device = \"cpu\", orbs = orbitals[ORBS], orbs_name = ORBS) \n"
   ]
  },
  {
   "cell_type": "code",
   "execution_count": null,
   "metadata": {},
   "outputs": [],
   "source": [
    "from mlelec.utils.twocenter_utils import _to_coupled_basis\n",
    "from mlelec.utils.pbc_utils import matrix_to_blocks \n",
    "# from mlelec.utils.twocenter_utils import _to_blocks  \n",
    "\n",
    "def get_targets(dataset, device =\"cpu\"):\n",
    "    blocks = matrix_to_blocks(dataset)\n",
    "    coupled_blocks = _to_coupled_basis(blocks, skip_symmetry=True, device= device, translations=True)\n",
    "    \n",
    "\n",
    "    blocks = blocks.keys_to_samples('cell_shift_a')\n",
    "    blocks = blocks.keys_to_samples('cell_shift_b')\n",
    "    blocks = blocks.keys_to_samples('cell_shift_c')\n",
    "\n",
    "    coupled_blocks = coupled_blocks.keys_to_samples('cell_shift_a')\n",
    "    coupled_blocks = coupled_blocks.keys_to_samples('cell_shift_b')\n",
    "    coupled_blocks = coupled_blocks.keys_to_samples('cell_shift_c')\n",
    "    return blocks , coupled_blocks\n"
   ]
  },
  {
   "cell_type": "code",
   "execution_count": null,
   "metadata": {},
   "outputs": [],
   "source": [
    "hypers_pair = {'cutoff': 4,\n",
    "          'max_radial':10, \n",
    "          'max_angular':4,\n",
    "          'atomic_gaussian_width':0.6,\n",
    "          'center_atom_weight':1,\n",
    "          \"radial_basis\": {\"Gto\": {}},\n",
    "          \"cutoff_function\": {\"ShiftedCosine\": {\"width\": 0.1}},\n",
    "}\n",
    "\n",
    "hypers_atom = {'cutoff': 4,\n",
    "          'max_radial':10, \n",
    "          'max_angular':4,\n",
    "          'atomic_gaussian_width':0.3,\n",
    "          'center_atom_weight':1,\n",
    "          \"radial_basis\": {\"Gto\": {}},\n",
    "          \"cutoff_function\": {\"ShiftedCosine\": {\"width\": 0.1}},\n",
    "}\n",
    "device = \"cpu\""
   ]
  },
  {
   "cell_type": "code",
   "execution_count": null,
   "metadata": {},
   "outputs": [],
   "source": [
    "LCUT = 3 #2*np.max([np.max( np.asarray(orbitals[ORBS][k])[:,1]) for k in orbitals[ORBS]])\n",
    "print(\"LCUT\", LCUT)\n",
    "both_centers = True\n",
    "rhoij = pair_features(dataset.structures, hypers_atom, hypers_pair, order_nu = 1, all_pairs = True, both_centers=both_centers,\n",
    "                      max_shift = dataset.kmesh[0] ,  desired_shifts = dataset.desired_shifts_sup, mic=True, \n",
    "                      kmesh = dataset.kmesh[0], device=\"cpu\", lcut = LCUT)"
   ]
  },
  {
   "cell_type": "code",
   "execution_count": null,
   "metadata": {},
   "outputs": [],
   "source": [
    "\n",
    "save('rhoij', rhoij)"
   ]
  },
  {
   "cell_type": "code",
   "execution_count": null,
   "metadata": {},
   "outputs": [],
   "source": [
    "if both_centers: \n",
    "    NU = 3\n",
    "else: \n",
    "    NU = 2\n",
    "rhonui = single_center_features(dataset.structures, hypers_atom, order_nu=NU, lcut=LCUT, device = device,\n",
    "                                feature_names = rhoij.property_names) \n"
   ]
  },
  {
   "cell_type": "code",
   "execution_count": null,
   "metadata": {},
   "outputs": [],
   "source": [
    "save('rhonui', rhonui)"
   ]
  },
  {
   "cell_type": "code",
   "execution_count": null,
   "metadata": {},
   "outputs": [],
   "source": [
    "hfeat_tc= twocenter_features_periodic_NH(single_center=rhonui, pair= rhoij) "
   ]
  },
  {
   "cell_type": "code",
   "execution_count": null,
   "metadata": {},
   "outputs": [],
   "source": [
    "save('hfeat', hfeat_tc)"
   ]
  },
  {
   "cell_type": "code",
   "execution_count": null,
   "metadata": {},
   "outputs": [],
   "source": []
  },
  {
   "cell_type": "code",
   "execution_count": null,
   "metadata": {},
   "outputs": [],
   "source": [
    "def train_ridge(model, target_blocks, set_bias=False):\n",
    "    block_losses = {}\n",
    "    loss = 0\n",
    "    pred, ridges, kernels = model.fit_ridge_analytical(return_matrix = False, set_bias = set_bias)\n",
    "\n",
    "    for (key, block) in pred.items():\n",
    "        block_loss=torch.norm(block.values - target_blocks[key].values)**2\n",
    "        loss += block_loss\n",
    "        \n",
    "        block_losses[tuple(key.values)] = block_loss\n",
    "\n",
    "    # print(np.sum(list(block_losses.values())))\n",
    "    return loss, pred, ridges, block_losses#, kernels "
   ]
  },
  {
   "cell_type": "code",
   "execution_count": null,
   "metadata": {},
   "outputs": [],
   "source": [
    "def train_linear(model, target_blocks, nepochs, optimizer= None, log_interval =1):\n",
    "\n",
    "    losses = []\n",
    "    for epoch in range(nepochs):\n",
    "        optimizer.zero_grad()\n",
    "        pred = model(return_matrix = False)\n",
    "\n",
    "\n",
    "        loss = 0\n",
    "        for s in pred:\n",
    "            for (key, block) in pred[s].items():\n",
    "                loss+=torch.sum(block.values - target_blocks[s][key].values)**2\n",
    "        losses.append(loss.item())\n",
    "        if optimizer is None: \n",
    "            print(loss)\n",
    "            return losses, pred, model\n",
    "        \n",
    "        loss.backward()\n",
    "        optimizer.step()\n",
    "        if epoch % log_interval == 0:\n",
    "            print('Train Epoch: {} \\tLoss: {:.6f}'.format(\n",
    "                epoch, loss.item()))\n",
    "            \n",
    "\n",
    "    return losses, pred, model, optimizer "
   ]
  },
  {
   "cell_type": "code",
   "execution_count": null,
   "metadata": {},
   "outputs": [],
   "source": [
    "model_ridge = LinearModelPeriodic(twocfeat=hfeat_tc, target_blocks=target_coupled_blocks, frames = dataset.structures, orbitals= dataset.basis, cell_shifts=dataset.desired_shifts[:], device = device)"
   ]
  },
  {
   "cell_type": "code",
   "execution_count": null,
   "metadata": {},
   "outputs": [],
   "source": [
    "loss_ridge_bias, pred_ridge_bias, ridges_bias, loss_blocks = train_ridge(model_ridge, target_coupled_blocks, set_bias=True)"
   ]
  },
  {
   "cell_type": "code",
   "execution_count": null,
   "metadata": {},
   "outputs": [],
   "source": [
    "np.save('ridges_bias.npy', ridges_bias)"
   ]
  },
  {
   "cell_type": "code",
   "execution_count": null,
   "metadata": {},
   "outputs": [],
   "source": [
    "print(loss_ridge_bias)"
   ]
  },
  {
   "cell_type": "code",
   "execution_count": null,
   "metadata": {},
   "outputs": [],
   "source": [
    "import matplotlib.pyplot as plt\n",
    "plt.rcParams['figure.dpi'] = 500\n",
    "x=[','.join([str(lbl[i]) for i in [0,2,3,5,6,7]]) for lbl in target_coupled_blocks.keys.values.tolist()]\n",
    "fs = plt.rcParams['figure.figsize']\n",
    "fig, ax = plt.subplots(figsize = (fs[0]*5, fs[1]))\n",
    "ax_loss = ax.twinx()\n",
    "# s = (0,0,0)\n",
    "prediction_ = np.array([torch.linalg.norm(b.values) for b in pred_ridge_bias])\n",
    "target_ = np.array([torch.linalg.norm(b.values) for b in target_coupled_blocks)\n",
    "loss_ = np.array([torch.linalg.norm(b.values-b1.values)**2 for b,b1 in zip(target_coupled_blocks,pred_ridge_bias)])\n",
    "print(np.sum(loss_))\n",
    "# loss_ = np.array(list(loss_blocks.values()))\n",
    "#MASKING LOSS\n",
    "# mask = loss_ < 1e-6\n",
    "# loss_[mask] = 0\n",
    "# ax.bar(range(len(loss_blocks.keys())),list(loss_blocks.values()));\n",
    "\n",
    "x_ = 3.5*np.arange(len(loss_blocks))\n",
    "\n",
    "labels = []\n",
    "handles = []\n",
    "pl = ax.bar(x_, prediction_, label = 'pred', width = 1, color = 'tab:blue');\n",
    "handles.append(pl)\n",
    "labels.append('Prediction')\n",
    "pl = ax.bar(x_+1, target_, alpha = 1, label = 'target', width = 1, color = 'tab:orange');\n",
    "handles.append(pl)\n",
    "labels.append('Target')\n",
    "\n",
    "pl = ax_loss.bar(x_+2, loss_, alpha = 1, label = 'target', width = 1, color = 'tab:red');\n",
    "handles.append(pl)\n",
    "labels.append('Loss')\n",
    "\n",
    "ax.set_ylim(1e-7, 1000)\n",
    "ax.set_xticks(3.5*np.arange(len(loss_blocks))+3.5/3-0.5)\n",
    "ax.set_xticklabels(x, rotation=90);\n",
    "ax.legend(handles, labels, loc = 'best')\n",
    "ax.set_ylabel('|H|')\n",
    "ax_loss.set_ylabel('Loss')\n",
    "ax_loss.set_yscale('log')\n",
    "ax_loss.set_ylim(1e-10)\n",
    "ax.set_yscale('log')\n",
    "fig.savefig('block-errrors-c2-5.pdf')"
   ]
  },
  {
   "cell_type": "code",
   "execution_count": null,
   "metadata": {},
   "outputs": [],
   "source": []
  },
  {
   "cell_type": "code",
   "execution_count": null,
   "metadata": {},
   "outputs": [],
   "source": []
  },
  {
   "cell_type": "code",
   "execution_count": 12,
   "metadata": {},
   "outputs": [
    {
     "data": {
      "text/plain": [
       "(174, 144, 3)"
      ]
     },
     "execution_count": 12,
     "metadata": {},
     "output_type": "execute_result"
    }
   ],
   "source": [
    "kpoints.shape"
   ]
  },
  {
   "cell_type": "code",
   "execution_count": 15,
   "metadata": {},
   "outputs": [
    {
     "name": "stdout",
     "output_type": "stream",
     "text": [
      "frame 0\n",
      "-------------------------------------------------------------------------------\n",
      "frame 1\n",
      "-------------------------------------------------------------------------------\n",
      "frame 2\n",
      "-------------------------------------------------------------------------------\n",
      "frame 3\n",
      "-------------------------------------------------------------------------------\n",
      "frame 4\n",
      "-------------------------------------------------------------------------------\n",
      "frame 5\n",
      "-------------------------------------------------------------------------------\n",
      "frame 6\n",
      "-------------------------------------------------------------------------------\n",
      "frame 7\n",
      "-------------------------------------------------------------------------------\n",
      "frame 8\n",
      "-------------------------------------------------------------------------------\n",
      "frame 9\n",
      "-------------------------------------------------------------------------------\n",
      "frame 10\n",
      "-------------------------------------------------------------------------------\n",
      "frame 11\n",
      "-------------------------------------------------------------------------------\n",
      "frame 12\n",
      "-------------------------------------------------------------------------------\n",
      "frame 13\n",
      "-------------------------------------------------------------------------------\n",
      "frame 14\n",
      "-------------------------------------------------------------------------------\n",
      "frame 15\n",
      "-------------------------------------------------------------------------------\n",
      "frame 16\n",
      "-------------------------------------------------------------------------------\n",
      "frame 17\n",
      "-------------------------------------------------------------------------------\n",
      "frame 18\n",
      "-------------------------------------------------------------------------------\n",
      "frame 19\n",
      "-------------------------------------------------------------------------------\n",
      "frame 20\n",
      "-------------------------------------------------------------------------------\n",
      "frame 21\n",
      "-------------------------------------------------------------------------------\n",
      "frame 22\n",
      "-------------------------------------------------------------------------------\n",
      "frame 23\n",
      "-------------------------------------------------------------------------------\n"
     ]
    }
   ],
   "source": [
    "kpoints = np.load('kpoints.npz'.format(filename), allow_pickle=True) \n",
    "kpoints= np.array([kpoints['arr_{}'.format(i)] for i in range(len(kpoints))])\n",
    "## PYSCF --- \n",
    "import pyscf.pbc.gto as pbcgto\n",
    "import pyscf.pbc.tools.pyscf_ase as pyscf_ase\n",
    "from pyscf.pbc.tools.k2gamma import get_phase, kpts_to_kmesh, k2gamma\n",
    "for ifr, frame in enumerate(frames[:24]):\n",
    "        print('frame', ifr)\n",
    "\n",
    "        cell = pbcgto.Cell()\n",
    "        cell.atom = pyscf_ase.ase_atoms_to_pyscf(frame)\n",
    "\n",
    "        cell.basis = 'sto-3g' #'def2-svp'\n",
    "        cell.a = frame.cell\n",
    "        cell.verbose = 3\n",
    "        print('-------------------------------------------------------------------------------', flush= True)\n",
    "        #print(cell.symmetry, flush = True)\n",
    "        #cell.symmetry = True\n",
    "        #print(cell.symmetry, flush = True)\n",
    "        cell.build()\n",
    "\n",
    "        kmesh = [12,12,1]\n",
    "   \n",
    "        kpts = cell.make_kpts(kmesh)\n",
    "        #kmesh = [np.int32(np.max([1, np.ceil(2*np.pi*np.linalg.norm(vec)/kspacing)])) for vec in frame.cell.reciprocal().array]\n",
    "\n",
    "        kpts_1 = cell.get_scaled_kpts(kpts)\n",
    "        assert np.isclose(kpts_1,  kpoints[ifr], atol=1e-5).all()\n",
    "\n",
    "# from pyscf.pbc.lib.kpts import KPoints\n",
    "# kpts = KPoints(cell, kpts_1)\n",
    "# kpts.build(space_group_symmetry=False)\n",
    "# # print(kpts.kpts_scaled)\n",
    "# #(kmesh)\n",
    "\n",
    "# assert np.isclose(kpts.kpts_scaled,  kpoints[ifr], atol=1e-5).all()"
   ]
  },
  {
   "cell_type": "code",
   "execution_count": null,
   "metadata": {},
   "outputs": [],
   "source": []
  }
 ],
 "metadata": {
  "kernelspec": {
   "display_name": "Python 3 (ipykernel)",
   "language": "python",
   "name": "python3"
  },
  "language_info": {
   "codemirror_mode": {
    "name": "ipython",
    "version": 3
   },
   "file_extension": ".py",
   "mimetype": "text/x-python",
   "name": "python",
   "nbconvert_exporter": "python",
   "pygments_lexer": "ipython3",
   "version": "3.11.5"
  }
 },
 "nbformat": 4,
 "nbformat_minor": 4
}
